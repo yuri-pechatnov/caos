{
 "cells": [
  {
   "cell_type": "code",
   "execution_count": 2,
   "metadata": {
    "scrolled": true
   },
   "outputs": [
    {
     "data": {
      "application/javascript": [
       "// setup cpp code highlighting\n",
       "IPython.CodeCell.options_default.highlight_modes[\"text/x-c++src\"] = {'reg':[/^%%cpp/]} ;"
      ],
      "text/plain": [
       "<IPython.core.display.Javascript object>"
      ]
     },
     "metadata": {},
     "output_type": "display_data"
    },
    {
     "data": {
      "text/html": [
       "<!-- YANDEX_METRICA_BEGIN -->\n",
       "    <script type=\"text/javascript\" >\n",
       "       (function(m,e,t,r,i,k,a){m[i]=m[i]||function(){(m[i].a=m[i].a||[]).push(arguments)};\n",
       "       m[i].l=1*new Date();k=e.createElement(t),a=e.getElementsByTagName(t)[0],k.async=1,k.src=r,a.parentNode.insertBefore(k,a)})\n",
       "       (window, document, \"script\", \"https://mc.yandex.ru/metrika/tag.js\", \"ym\");\n",
       "\n",
       "       ym(59260609, \"init\", {\n",
       "            clickmap:true,\n",
       "            trackLinks:true,\n",
       "            accurateTrackBounce:true\n",
       "       });\n",
       "    </script>\n",
       "    <noscript><div><img src=\"https://mc.yandex.ru/watch/59260609\" style=\"position:absolute; left:-9999px;\" alt=\"\" /></div></noscript>\n",
       "    <!-- YANDEX_METRICA_END -->"
      ],
      "text/plain": [
       "<IPython.core.display.HTML object>"
      ]
     },
     "metadata": {},
     "output_type": "display_data"
    },
    {
     "data": {
      "text/html": [
       "В этот ноутбук встроен код Яндекс Метрики для сбора статистики использований. Если вы не хотите, чтобы по вам собиралась статистика, исправьте: yandex_metrica_allowed = False<!-- MAGICS_SETUP_PRINTING_END -->"
      ],
      "text/plain": [
       "<IPython.core.display.HTML object>"
      ]
     },
     "metadata": {},
     "output_type": "display_data"
    }
   ],
   "source": [
    "# look at tools/set_up_magics.ipynb\n",
    "yandex_metrica_allowed = True ; get_ipython().run_cell('# one_liner_str\\n\\nget_ipython().run_cell_magic(\\'javascript\\', \\'\\', \\'// setup cpp code highlighting\\\\nIPython.CodeCell.options_default.highlight_modes[\"text/x-c++src\"] = {\\\\\\'reg\\\\\\':[/^%%cpp/]} ;\\')\\n\\n# creating magics\\nfrom IPython.core.magic import register_cell_magic, register_line_magic\\nfrom IPython.display import display, Markdown, HTML\\nimport argparse\\nfrom subprocess import Popen, PIPE\\nimport random\\nimport sys\\nimport os\\nimport re\\nimport signal\\nimport shutil\\nimport shlex\\nimport glob\\n\\n@register_cell_magic\\ndef save_file(args_str, cell, line_comment_start=\"#\"):\\n    parser = argparse.ArgumentParser()\\n    parser.add_argument(\"fname\")\\n    parser.add_argument(\"--ejudge-style\", action=\"store_true\")\\n    args = parser.parse_args(args_str.split())\\n    \\n    cell = cell if cell[-1] == \\'\\\\n\\' or args.no_eof_newline else cell + \"\\\\n\"\\n    cmds = []\\n    with open(args.fname, \"w\") as f:\\n        f.write(line_comment_start + \" %%cpp \" + args_str + \"\\\\n\")\\n        for line in cell.split(\"\\\\n\"):\\n            line_to_write = (line if not args.ejudge_style else line.rstrip()) + \"\\\\n\"\\n            if line.startswith(\"%\"):\\n                run_prefix = \"%run \"\\n                if line.startswith(run_prefix):\\n                    cmds.append(line[len(run_prefix):].strip())\\n                    f.write(line_comment_start + \" \" + line_to_write)\\n                    continue\\n                run_prefix = \"%# \"\\n                if line.startswith(run_prefix):\\n                    f.write(line_comment_start + \" \" + line_to_write)\\n                    continue\\n                raise Exception(\"Unknown %%save_file subcommand: \\'%s\\'\" % line)\\n            else:\\n                f.write(line_to_write)\\n        f.write(\"\" if not args.ejudge_style else line_comment_start + r\" line without \\\\n\")\\n    for cmd in cmds:\\n        display(Markdown(\"Run: `%s`\" % cmd))\\n        get_ipython().system(cmd)\\n\\n@register_cell_magic\\ndef cpp(fname, cell):\\n    save_file(fname, cell, \"//\")\\n\\n@register_cell_magic\\ndef asm(fname, cell):\\n    save_file(fname, cell, \"//\")\\n    \\n@register_cell_magic\\ndef makefile(fname, cell):\\n    assert not fname\\n    save_file(\"makefile\", cell.replace(\" \" * 4, \"\\\\t\"))\\n        \\n@register_line_magic\\ndef p(line):\\n    try:\\n        expr, comment = line.split(\" #\")\\n        display(Markdown(\"`{} = {}`  # {}\".format(expr.strip(), eval(expr), comment.strip())))\\n    except:\\n        display(Markdown(\"{} = {}\".format(line, eval(line))))\\n        \\ndef show_file(file, clear_at_begin=True, return_html_string=False):\\n    if clear_at_begin:\\n        get_ipython().system(\"truncate --size 0 \" + file)\\n    obj = file.replace(\\'.\\', \\'_\\').replace(\\'/\\', \\'_\\') + \"_obj\"\\n    html_string = \\'\\'\\'\\n        <!--MD_BEGIN_FILTER-->\\n        <script type=text/javascript>\\n        var entrance___OBJ__ = 0;\\n        var errors___OBJ__ = 0;\\n        function refresh__OBJ__()\\n        {\\n            entrance___OBJ__ -= 1;\\n            var elem = document.getElementById(\"__OBJ__\");\\n            if (elem) {\\n                var xmlhttp=new XMLHttpRequest();\\n                xmlhttp.onreadystatechange=function()\\n                {\\n                    var elem = document.getElementById(\"__OBJ__\");\\n                    console.log(!!elem, xmlhttp.readyState, xmlhttp.status, entrance___OBJ__);\\n                    if (elem && xmlhttp.readyState==4) {\\n                        if (xmlhttp.status==200)\\n                        {\\n                            errors___OBJ__ = 0;\\n                            if (!entrance___OBJ__) {\\n                                elem.innerText = xmlhttp.responseText;\\n                                entrance___OBJ__ += 1;\\n                                console.log(\"req\");\\n                                window.setTimeout(\"refresh__OBJ__()\", 300); \\n                            }\\n                            return xmlhttp.responseText;\\n                        } else {\\n                            errors___OBJ__ += 1;\\n                            if (errors___OBJ__ < 10 && !entrance___OBJ__) {\\n                                entrance___OBJ__ += 1;\\n                                console.log(\"req\");\\n                                window.setTimeout(\"refresh__OBJ__()\", 300); \\n                            }\\n                        }\\n                    }\\n                }\\n                xmlhttp.open(\"GET\", \"__FILE__\", true);\\n                xmlhttp.setRequestHeader(\"Cache-Control\", \"no-cache\");\\n                xmlhttp.send();     \\n            }\\n        }\\n        \\n        if (!entrance___OBJ__) {\\n            entrance___OBJ__ += 1;\\n            refresh__OBJ__(); \\n        }\\n        </script>\\n        \\n        <font color=\"white\"> <tt>\\n        <p id=\"__OBJ__\" style=\"font-size: 16px; border:3px #333333 solid; background: #333333; border-radius: 10px; padding: 10px;  \"></p>\\n        </tt> </font>\\n        <!--MD_END_FILTER-->\\n        <!--MD_FROM_FILE __FILE__ -->\\n        \\'\\'\\'.replace(\"__OBJ__\", obj).replace(\"__FILE__\", file)\\n    if return_html_string:\\n        return html_string\\n    display(HTML(html_string))\\n    \\nBASH_POPEN_TMP_DIR = \"./bash_popen_tmp\"\\n    \\ndef bash_popen_terminate_all():\\n    for p in globals().get(\"bash_popen_list\", []):\\n        print(\"Terminate pid=\" + str(p.pid), file=sys.stderr)\\n        p.terminate()\\n    globals()[\"bash_popen_list\"] = []\\n    if os.path.exists(BASH_POPEN_TMP_DIR):\\n        shutil.rmtree(BASH_POPEN_TMP_DIR)\\n\\nbash_popen_terminate_all()  \\n\\ndef bash_popen(cmd):\\n    if not os.path.exists(BASH_POPEN_TMP_DIR):\\n        os.mkdir(BASH_POPEN_TMP_DIR)\\n    h = os.path.join(BASH_POPEN_TMP_DIR, str(random.randint(0, 1e18)))\\n    stdout_file = h + \".out.html\"\\n    stderr_file = h + \".err.html\"\\n    run_log_file = h + \".fin.html\"\\n    \\n    stdout = open(stdout_file, \"wb\")\\n    stdout = open(stderr_file, \"wb\")\\n    \\n    html = \"\"\"\\n    <table width=\"100%\">\\n    <colgroup>\\n       <col span=\"1\" style=\"width: 70px;\">\\n       <col span=\"1\">\\n    </colgroup>    \\n    <tbody>\\n      <tr> <td><b>STDOUT</b></td> <td> {stdout} </td> </tr>\\n      <tr> <td><b>STDERR</b></td> <td> {stderr} </td> </tr>\\n      <tr> <td><b>RUN LOG</b></td> <td> {run_log} </td> </tr>\\n    </tbody>\\n    </table>\\n    \"\"\".format(\\n        stdout=show_file(stdout_file, return_html_string=True),\\n        stderr=show_file(stderr_file, return_html_string=True),\\n        run_log=show_file(run_log_file, return_html_string=True),\\n    )\\n    \\n    cmd = \"\"\"\\n        bash -c {cmd} &\\n        pid=$!\\n        echo \"Process started! pid=${{pid}}\" > {run_log_file}\\n        wait ${{pid}}\\n        echo \"Process finished! exit_code=$?\" >> {run_log_file}\\n    \"\"\".format(cmd=shlex.quote(cmd), run_log_file=run_log_file)\\n    # print(cmd)\\n    display(HTML(html))\\n    \\n    p = Popen([\"bash\", \"-c\", cmd], stdin=PIPE, stdout=stdout, stderr=stdout)\\n    \\n    bash_popen_list.append(p)\\n    return p\\n\\n\\n@register_line_magic\\ndef bash_async(line):\\n    bash_popen(line)\\n    \\n    \\ndef show_log_file(file, return_html_string=False):\\n    obj = file.replace(\\'.\\', \\'_\\').replace(\\'/\\', \\'_\\') + \"_obj\"\\n    html_string = \\'\\'\\'\\n        <!--MD_BEGIN_FILTER-->\\n        <script type=text/javascript>\\n        var entrance___OBJ__ = 0;\\n        var errors___OBJ__ = 0;\\n        function halt__OBJ__(elem, color)\\n        {\\n            elem.setAttribute(\"style\", \"font-size: 14px; background: \" + color + \"; padding: 10px; border: 3px; border-radius: 5px; color: white; \");                    \\n        }\\n        function refresh__OBJ__()\\n        {\\n            entrance___OBJ__ -= 1;\\n            if (entrance___OBJ__ < 0) {\\n                entrance___OBJ__ = 0;\\n            }\\n            var elem = document.getElementById(\"__OBJ__\");\\n            if (elem) {\\n                var xmlhttp=new XMLHttpRequest();\\n                xmlhttp.onreadystatechange=function()\\n                {\\n                    var elem = document.getElementById(\"__OBJ__\");\\n                    console.log(!!elem, xmlhttp.readyState, xmlhttp.status, entrance___OBJ__);\\n                    if (elem && xmlhttp.readyState==4) {\\n                        if (xmlhttp.status==200)\\n                        {\\n                            errors___OBJ__ = 0;\\n                            if (!entrance___OBJ__) {\\n                                if (elem.innerHTML != xmlhttp.responseText) {\\n                                    elem.innerHTML = xmlhttp.responseText;\\n                                }\\n                                if (elem.innerHTML.includes(\"Process finished.\")) {\\n                                    halt__OBJ__(elem, \"#333333\");\\n                                } else {\\n                                    entrance___OBJ__ += 1;\\n                                    console.log(\"req\");\\n                                    window.setTimeout(\"refresh__OBJ__()\", 300); \\n                                }\\n                            }\\n                            return xmlhttp.responseText;\\n                        } else {\\n                            errors___OBJ__ += 1;\\n                            if (!entrance___OBJ__) {\\n                                if (errors___OBJ__ < 6) {\\n                                    entrance___OBJ__ += 1;\\n                                    console.log(\"req\");\\n                                    window.setTimeout(\"refresh__OBJ__()\", 300); \\n                                } else {\\n                                    halt__OBJ__(elem, \"#994444\");\\n                                }\\n                            }\\n                        }\\n                    }\\n                }\\n                xmlhttp.open(\"GET\", \"__FILE__\", true);\\n                xmlhttp.setRequestHeader(\"Cache-Control\", \"no-cache\");\\n                xmlhttp.send();     \\n            }\\n        }\\n        \\n        if (!entrance___OBJ__) {\\n            entrance___OBJ__ += 1;\\n            refresh__OBJ__(); \\n        }\\n        </script>\\n\\n        <p id=\"__OBJ__\" style=\"font-size: 14px; background: #000000; padding: 10px; border: 3px; border-radius: 5px; color: white; \">\\n        </p>\\n        \\n        </font>\\n        <!--MD_END_FILTER-->\\n        <!--MD_FROM_FILE __FILE__.md -->\\n        \\'\\'\\'.replace(\"__OBJ__\", obj).replace(\"__FILE__\", file)\\n    if return_html_string:\\n        return html_string\\n    display(HTML(html_string))\\n\\n    \\nclass TInteractiveLauncher:\\n    tmp_path = \"./interactive_launcher_tmp\"\\n    def __init__(self, cmd):\\n        try:\\n            os.mkdir(TInteractiveLauncher.tmp_path)\\n        except:\\n            pass\\n        name = str(random.randint(0, 1e18))\\n        self.inq_path = os.path.join(TInteractiveLauncher.tmp_path, name + \".inq\")\\n        self.log_path = os.path.join(TInteractiveLauncher.tmp_path, name + \".log\")\\n        \\n        os.mkfifo(self.inq_path)\\n        open(self.log_path, \\'w\\').close()\\n        open(self.log_path + \".md\", \\'w\\').close()\\n\\n        self.pid = os.fork()\\n        if self.pid == -1:\\n            print(\"Error\")\\n        if self.pid == 0:\\n            exe_cands = glob.glob(\"../tools/launcher.py\") + glob.glob(\"../../tools/launcher.py\")\\n            assert(len(exe_cands) == 1)\\n            assert(os.execvp(\"python3\", [\"python3\", exe_cands[0], \"-l\", self.log_path, \"-i\", self.inq_path, \"-c\", cmd]) == 0)\\n        self.inq_f = open(self.inq_path, \"w\")\\n        interactive_launcher_opened_set.add(self.pid)\\n        show_log_file(self.log_path)\\n\\n    def write(self, s):\\n        s = s.encode()\\n        assert len(s) == os.write(self.inq_f.fileno(), s)\\n        \\n    def get_pid(self):\\n        n = 100\\n        for i in range(n):\\n            try:\\n                return int(re.findall(r\"PID = (\\\\d+)\", open(self.log_path).readline())[0])\\n            except:\\n                if i + 1 == n:\\n                    raise\\n                time.sleep(0.1)\\n        \\n    def input_queue_path(self):\\n        return self.inq_path\\n        \\n    def close(self):\\n        self.inq_f.close()\\n        os.waitpid(self.pid, 0)\\n        os.remove(self.inq_path)\\n        # os.remove(self.log_path)\\n        self.inq_path = None\\n        self.log_path = None \\n        interactive_launcher_opened_set.remove(self.pid)\\n        self.pid = None\\n        \\n    @staticmethod\\n    def terminate_all():\\n        if \"interactive_launcher_opened_set\" not in globals():\\n            globals()[\"interactive_launcher_opened_set\"] = set()\\n        global interactive_launcher_opened_set\\n        for pid in interactive_launcher_opened_set:\\n            print(\"Terminate pid=\" + str(pid), file=sys.stderr)\\n            os.kill(pid, signal.SIGKILL)\\n            os.waitpid(pid, 0)\\n        interactive_launcher_opened_set = set()\\n        if os.path.exists(TInteractiveLauncher.tmp_path):\\n            shutil.rmtree(TInteractiveLauncher.tmp_path)\\n    \\nTInteractiveLauncher.terminate_all()\\n   \\nyandex_metrica_allowed = bool(globals().get(\"yandex_metrica_allowed\", False))\\nif yandex_metrica_allowed:\\n    display(HTML(\\'\\'\\'<!-- YANDEX_METRICA_BEGIN -->\\n    <script type=\"text/javascript\" >\\n       (function(m,e,t,r,i,k,a){m[i]=m[i]||function(){(m[i].a=m[i].a||[]).push(arguments)};\\n       m[i].l=1*new Date();k=e.createElement(t),a=e.getElementsByTagName(t)[0],k.async=1,k.src=r,a.parentNode.insertBefore(k,a)})\\n       (window, document, \"script\", \"https://mc.yandex.ru/metrika/tag.js\", \"ym\");\\n\\n       ym(59260609, \"init\", {\\n            clickmap:true,\\n            trackLinks:true,\\n            accurateTrackBounce:true\\n       });\\n    </script>\\n    <noscript><div><img src=\"https://mc.yandex.ru/watch/59260609\" style=\"position:absolute; left:-9999px;\" alt=\"\" /></div></noscript>\\n    <!-- YANDEX_METRICA_END -->\\'\\'\\'))\\n\\ndef make_oneliner():\\n    html_text = \\'(\"В этот ноутбук встроен код Яндекс Метрики для сбора статистики использований. Если вы не хотите, чтобы по вам собиралась статистика, исправьте: yandex_metrica_allowed = False\" if yandex_metrica_allowed else \"\")\\'\\n    html_text += \\' + \"<\"\"!-- MAGICS_SETUP_PRINTING_END -->\"\\'\\n    return \\'\\'.join([\\n        \\'# look at tools/set_up_magics.ipynb\\\\n\\',\\n        \\'yandex_metrica_allowed = True ; get_ipython().run_cell(%s);\\' % repr(one_liner_str),\\n        \\'display(HTML(%s))\\' % html_text,\\n        \\' #\\'\\'MAGICS_SETUP_END\\'\\n    ])\\n       \\n\\n');display(HTML((\"В этот ноутбук встроен код Яндекс Метрики для сбора статистики использований. Если вы не хотите, чтобы по вам собиралась статистика, исправьте: yandex_metrica_allowed = False\" if yandex_metrica_allowed else \"\") + \"<\"\"!-- MAGICS_SETUP_PRINTING_END -->\")) #MAGICS_SETUP_END"
   ]
  },
  {
   "cell_type": "markdown",
   "metadata": {},
   "source": [
    "# Особенности Си\n",
    "\n",
    "Сегодня в программе:\n",
    "* <a href=\"#primitives\" style=\"color:#856024\"> Примитивные типы и их вывод </a>\n",
    "* <a href=\"#structures\" style=\"color:#856024\"> Структуры </a>\n",
    "* <a href=\"#arrays\" style=\"color:#856024\"> Массивы </a>\n",
    "* <a href=\"#dyn_arrays\" style=\"color:#856024\"> Динамические массивы </a>\n",
    "\n",
    "[Пиши на C как джентльмен / Хабр](https://habr.com/ru/post/325678/)\n",
    "\n",
    "[Здесь](/sem02-instruments-compilation) в конце (дополнение про макросы) есть больше примеров про макросы, если интересно"
   ]
  },
  {
   "cell_type": "markdown",
   "metadata": {},
   "source": [
    "## <a name=\"primitives\"></a> Примитивные типы и их вывод"
   ]
  },
  {
   "cell_type": "code",
   "execution_count": 1,
   "metadata": {},
   "outputs": [
    {
     "name": "stderr",
     "output_type": "stream",
     "text": [
      "UsageError: Cell magic `%%cpp` not found.\n"
     ]
    }
   ],
   "source": [
    "%%cpp main.c\n",
    "%run gcc -std=c99 -Wall -Werror main.c -o a.exe\n",
    "%run ./a.exe\n",
    "\n",
    "#include <stdio.h>\n",
    "\n",
    "int main() {\n",
    "    int i = 5;\n",
    "    float f = 5.5555555555555555555555555;\n",
    "    double d = 5.5555555555555555555555555;\n",
    "    char c = 'X';\n",
    "    char* str = \"Hello world!\";\n",
    "    printf(\"i = %d\\n\", i);\n",
    "    printf(\"f = %f, f = %0.20f\\n\", f, f); // обратите внимание на точность\n",
    "    printf(\"d = %lf, d = %0.20lf\\n\", d, d);\n",
    "    printf(\"c = %c, int(c) = %d\\n\", c, (int)c); // приведение типов\n",
    "    printf(\"s = %s\\n\", str); // zero-terminated string\n",
    "    printf(\"s = %.*s\\n\", 4, str); // string by begin and length\n",
    "    printf(\"*str = %c, *(str + 1) = %c, str[1] = %c\\n\", *str, *(str + 1), str[1]);\n",
    "    return 0;\n",
    "}"
   ]
  },
  {
   "cell_type": "code",
   "execution_count": 139,
   "metadata": {},
   "outputs": [
    {
     "data": {
      "text/markdown": [
       "Run: `gcc  -std=c99 -Wall -Werror main.c -o a.exe`"
      ],
      "text/plain": [
       "<IPython.core.display.Markdown object>"
      ]
     },
     "metadata": {},
     "output_type": "display_data"
    },
    {
     "data": {
      "text/markdown": [
       "Run: `./a.exe`"
      ],
      "text/plain": [
       "<IPython.core.display.Markdown object>"
      ]
     },
     "metadata": {},
     "output_type": "display_data"
    },
    {
     "name": "stdout",
     "output_type": "stream",
     "text": [
      "i = 5, sizeof(i) = 4\r\n",
      "i_32 = 6, sizeof(i_32) = 4\r\n",
      "i_64 = 7, sizeof(i_64) = 8\r\n"
     ]
    }
   ],
   "source": [
    "%%cpp main.c\n",
    "%run gcc  -std=c99 -Wall -Werror main.c -o a.exe\n",
    "%run ./a.exe\n",
    "\n",
    "#include <stdio.h>\n",
    "#include <inttypes.h>\n",
    "\n",
    "\n",
    "typedef int64_t i64;\n",
    "\n",
    "int main() {\n",
    "    int i = 5;\n",
    "    int32_t i_32 = 6; // -2^31 до (2^31) - 1\n",
    "    i64 i_64 = 7; // -2^63 до (2^63) - 1\n",
    "    // uint64_t, int8_t, ...\n",
    "    \n",
    "    printf(\"i = %\" \"d\" \", sizeof(i) = %d\\n\", i, (int)sizeof(i));\n",
    "    //               [1]                                 [2]                        \n",
    "    printf(\"i_32 = %\" PRId32 \", sizeof(i_32) = %d\\n\", i_32, (int)sizeof(i_32));\n",
    "    printf(\"i_64 = %\" PRId64 \", sizeof(i_64) = %d\\n\", i_64, (int)sizeof(i_64));\n",
    "    // [1] - правильный спецификатор\n",
    "    // [2] - каст к типу спецификатора\n",
    "    return 0;\n",
    "}"
   ]
  },
  {
   "cell_type": "markdown",
   "metadata": {},
   "source": [
    "## <a name=\"structures\"></a> Структуры"
   ]
  },
  {
   "cell_type": "code",
   "execution_count": 140,
   "metadata": {},
   "outputs": [
    {
     "data": {
      "text/markdown": [
       "Run: `gcc -m64 -std=c99 -Wall -Werror main.c -o a.exe`"
      ],
      "text/plain": [
       "<IPython.core.display.Markdown object>"
      ]
     },
     "metadata": {},
     "output_type": "display_data"
    },
    {
     "data": {
      "text/markdown": [
       "Run: `./a.exe`"
      ],
      "text/plain": [
       "<IPython.core.display.Markdown object>"
      ]
     },
     "metadata": {},
     "output_type": "display_data"
    },
    {
     "name": "stdout",
     "output_type": "stream",
     "text": [
      "{.x = 1.000000, .y = 100.000000}\r\n",
      "{.x = 4.000000, .y = 150.000000}\r\n",
      "{.x = -2.000000, .y = 50.000000}\r\n",
      "{.x = 10.000000, .y = 1000.000000}\r\n"
     ]
    }
   ],
   "source": [
    "%%cpp main.c\n",
    "%run gcc -m64 -std=c99 -Wall -Werror main.c -o a.exe\n",
    "%run ./a.exe\n",
    "\n",
    "#include <stdio.h>\n",
    "\n",
    "struct point {\n",
    "    double x, y;\n",
    "};\n",
    "\n",
    "\n",
    "struct point point_sum(struct point a, struct point b) {\n",
    "    struct point c;\n",
    "    c.x = a.x + b.x;\n",
    "    c.y = a.y + b.y;\n",
    "    return c;\n",
    "} \n",
    "\n",
    "\n",
    "typedef struct point point_t;\n",
    "\n",
    "point_t point_sub(point_t a, point_t b) {\n",
    "    a.x -= b.x;\n",
    "    a.y -= b.y;\n",
    "    return a;\n",
    "} \n",
    "\n",
    "point_t point_mul(point_t a, double k) {\n",
    "    return (point_t){.x = a.x * k, .y = a.y * k};\n",
    "}\n",
    "\n",
    "void point_print(point_t a) {\n",
    "    printf(\"{.x = %lf, .y = %lf}\", a.x, a.y);\n",
    "}\n",
    "\n",
    "int main() {\n",
    "    point_t a = {1, 100}, b = {3, 50};\n",
    "    point_print(a); printf(\"\\n\");\n",
    "    \n",
    "    point_print(point_sum(a, b)); printf(\"\\n\");\n",
    "    point_print(point_sub(a, b)); printf(\"\\n\");\n",
    "    point_print(point_mul(a, 10)); printf(\"\\n\");\n",
    "    \n",
    "    return 0;\n",
    "}"
   ]
  },
  {
   "cell_type": "markdown",
   "metadata": {},
   "source": [
    "## <a name=\"arrays\"></a> Массивы"
   ]
  },
  {
   "cell_type": "code",
   "execution_count": 141,
   "metadata": {
    "scrolled": true
   },
   "outputs": [
    {
     "data": {
      "text/markdown": [
       "Run: `gcc -m64 -std=c99 -Wall -Werror main.c -o a.exe`"
      ],
      "text/plain": [
       "<IPython.core.display.Markdown object>"
      ]
     },
     "metadata": {},
     "output_type": "display_data"
    },
    {
     "data": {
      "text/markdown": [
       "Run: `./a.exe`"
      ],
      "text/plain": [
       "<IPython.core.display.Markdown object>"
      ]
     },
     "metadata": {},
     "output_type": "display_data"
    },
    {
     "name": "stdout",
     "output_type": "stream",
     "text": [
      "Hello wotrld!\r\n",
      "1\r\n",
      "Hello world! 2\r\n",
      "8 2 100\r\n",
      "sizeof(a) = 20\r\n",
      "a[0] = 1, a[1] = 5, a[2] = 3, a[3] = 2, a[4] = 5, \r\n",
      "a[0] = 1, a[1] = 5, a[2] = 3, a[3] = 2, a[4] = 5, \r\n"
     ]
    }
   ],
   "source": [
    "%%cpp main.c\n",
    "%run gcc -m64 -std=c99 -Wall -Werror main.c -o a.exe\n",
    "%run ./a.exe\n",
    "\n",
    "#include <stdio.h>\n",
    "\n",
    "#define CONST 2\n",
    "#define SIZE(a) (sizeof(a) / sizeof((a)[0]))\n",
    "\n",
    "int main() {\n",
    "    char* s = \"Hello wotrld!\";\n",
    "    printf(\"%s\\n\", s);\n",
    "    char s1[] = \"1\";\n",
    "    printf(\"%s\\n\", s1);\n",
    "    char s2[100] = \"Hello world! 2\";\n",
    "    printf(\"%s\\n\", s2);\n",
    "    printf(\"%d %d %d\\n\", (int)sizeof(s), (int)sizeof(s1), (int)sizeof(s2));\n",
    "        \n",
    "    int a[] = {1, 5, 3, 2, 5};\n",
    "    printf(\"sizeof(a) = %d\\n\", (int)sizeof(a));\n",
    "    for (int i = 0; i < sizeof(a) / sizeof(int); ++i) {\n",
    "        printf(\"a[%d] = %d, \", i, a[i]);\n",
    "    }\n",
    "    printf(\"\\n\");\n",
    "    for (int i = 0; i < SIZE(a); ++i) {\n",
    "        printf(\"a[%d] = %d, \", i, a[i]);\n",
    "    }\n",
    "    printf(\"\\n\");\n",
    "        \n",
    "    return 0;\n",
    "}"
   ]
  },
  {
   "cell_type": "markdown",
   "metadata": {},
   "source": [
    "## <a name=\"dyn_arrays\"></a> Динамические массивы"
   ]
  },
  {
   "cell_type": "code",
   "execution_count": 142,
   "metadata": {},
   "outputs": [],
   "source": [
    "with open(\"001.in\", \"w\") as f:\n",
    "    f.write('''\\\n",
    "4\n",
    "5 1 9 0\n",
    "    ''')"
   ]
  },
  {
   "cell_type": "code",
   "execution_count": 143,
   "metadata": {},
   "outputs": [
    {
     "name": "stdout",
     "output_type": "stream",
     "text": [
      "QSORT(3)                   Linux Programmer's Manual                  QSORT(3)\r\n",
      "\r\n",
      "NAME\r\n",
      "       qsort, qsort_r - sort an array\r\n",
      "\r\n",
      "SYNOPSIS\r\n",
      "       #include <stdlib.h>\r\n",
      "\r\n",
      "       void qsort(void *base, size_t nmemb, size_t size,\r\n",
      "                  int (*compar)(const void *, const void *));\r\n"
     ]
    }
   ],
   "source": [
    "!man qsort | head -n 10"
   ]
  },
  {
   "cell_type": "code",
   "execution_count": 144,
   "metadata": {},
   "outputs": [
    {
     "data": {
      "text/markdown": [
       "Run: `gcc -m64 -std=c99 -Wall -Werror main.c -o a.exe`"
      ],
      "text/plain": [
       "<IPython.core.display.Markdown object>"
      ]
     },
     "metadata": {},
     "output_type": "display_data"
    },
    {
     "data": {
      "text/markdown": [
       "Run: `./a.exe < 001.in`"
      ],
      "text/plain": [
       "<IPython.core.display.Markdown object>"
      ]
     },
     "metadata": {},
     "output_type": "display_data"
    },
    {
     "name": "stdout",
     "output_type": "stream",
     "text": [
      "a[0] = 0, a[1] = 1, a[2] = 5, a[3] = 9, \r\n"
     ]
    }
   ],
   "source": [
    "%%cpp main.c\n",
    "%run gcc -m64 -std=c99 -Wall -Werror main.c -o a.exe\n",
    "%run ./a.exe < 001.in\n",
    "\n",
    "#include <stdio.h>\n",
    "#include <stdlib.h>\n",
    "#include <string.h>\n",
    "#include <stdlib.h>\n",
    "\n",
    "//        void qsort(void *base, size_t nmemb, size_t size,\n",
    "//                   int (*compar)(const void *, const void *));\n",
    "\n",
    "int int_compare(const int* x, const int* y) {\n",
    "    return *x - *y;\n",
    "}\n",
    "\n",
    "int main() {\n",
    "    int n = 0;\n",
    "    scanf(\"%d\", &n);\n",
    "    int* a = calloc(n, sizeof(int));\n",
    "    for (int i = 0; i < n; ++i) {\n",
    "        scanf(\"%d\", &a[i]);\n",
    "    }\n",
    "    qsort(a, n, sizeof(int), (int(*)(const void *, const void *))int_compare);\n",
    "    for (int i = 0; i < n; ++i) {\n",
    "        printf(\"a[%d] = %d, \", i, a[i]);\n",
    "    }\n",
    "    printf(\"\\n\");\n",
    "    free(a);\n",
    "    return 0;\n",
    "}"
   ]
  },
  {
   "cell_type": "code",
   "execution_count": 145,
   "metadata": {},
   "outputs": [
    {
     "data": {
      "text/markdown": [
       "Run: `gcc -DDEBUG -m64 -std=c99 -Wall -Werror main.c -o a.exe`"
      ],
      "text/plain": [
       "<IPython.core.display.Markdown object>"
      ]
     },
     "metadata": {},
     "output_type": "display_data"
    },
    {
     "data": {
      "text/markdown": [
       "Run: `./a.exe`"
      ],
      "text/plain": [
       "<IPython.core.display.Markdown object>"
      ]
     },
     "metadata": {},
     "output_type": "display_data"
    },
    {
     "name": "stdout",
     "output_type": "stream",
     "text": [
      "a[0] = 0, a[1] = 1, a[2] = 5, a[3] = 9, \r\n"
     ]
    }
   ],
   "source": [
    "%%cpp main.c\n",
    "%run gcc -DDEBUG -m64 -std=c99 -Wall -Werror main.c -o a.exe\n",
    "%run ./a.exe\n",
    "\n",
    "#include <stdio.h>\n",
    "#include <stdlib.h>\n",
    "#include <string.h>\n",
    "#include <stdlib.h>\n",
    "\n",
    "#define SWAP(a, b) { __typeof__(a) c = (a); (a) = (b); (b) = (c); }\n",
    "\n",
    "\n",
    "void my_sort(int* a, int length) {\n",
    "    // my_sort_2(a, a + length);\n",
    "    for (int i = 0; i < length - 1; ++i) {\n",
    "        for (int j = i + 1; j < length; ++j) {\n",
    "            if (a[i] > a[j]) {\n",
    "                SWAP(a[i], a[j]);\n",
    "            }\n",
    "        }\n",
    "    }\n",
    "}\n",
    "\n",
    "void my_sort_2(int* begin, int* end) {\n",
    "    // my_sort(begin, end - begin);\n",
    "    for (int* i = begin; i != end; ++i) {\n",
    "        for (int* j = i + 1; j != end; j++) {\n",
    "            if (*i > *j) {\n",
    "                SWAP(*i, *j);\n",
    "            }\n",
    "        }\n",
    "    }\n",
    "}\n",
    "\n",
    "int main() {\n",
    "    #if defined(DEBUG)\n",
    "    freopen(\"001.in\", \"rt\", stdin);\n",
    "    #endif\n",
    "    int n = 0;\n",
    "    scanf(\"%d\", &n);\n",
    "    int* a = calloc(n, sizeof(int));\n",
    "    for (int i = 0; i < n; ++i) {\n",
    "        scanf(\"%d\", &a[i]);\n",
    "    }\n",
    "    my_sort_2(a, a + n);\n",
    "    for (int i = 0; i < n; ++i) {\n",
    "        printf(\"a[%d] = %d, \", i, a[i]);\n",
    "    }\n",
    "    printf(\"\\n\");\n",
    "    free(a);\n",
    "    return 0;\n",
    "}"
   ]
  },
  {
   "cell_type": "code",
   "execution_count": null,
   "metadata": {},
   "outputs": [],
   "source": []
  },
  {
   "cell_type": "markdown",
   "metadata": {},
   "source": [
    "# Строки"
   ]
  },
  {
   "cell_type": "code",
   "execution_count": 10,
   "metadata": {},
   "outputs": [],
   "source": [
    "with open(\"001.in\", \"w\") as f:\n",
    "    f.write('''\\\n",
    "push 3\n",
    "pop\n",
    "exit\n",
    "hello 6\n",
    "    ''')"
   ]
  },
  {
   "cell_type": "code",
   "execution_count": 15,
   "metadata": {},
   "outputs": [
    {
     "data": {
      "text/markdown": [
       "Run: `clang -std=c99 -Wall -Werror -fsanitize=address main.c -o a.exe`"
      ],
      "text/plain": [
       "<IPython.core.display.Markdown object>"
      ]
     },
     "metadata": {},
     "output_type": "display_data"
    },
    {
     "data": {
      "text/markdown": [
       "Run: `./a.exe < 001.in`"
      ],
      "text/plain": [
       "<IPython.core.display.Markdown object>"
      ]
     },
     "metadata": {},
     "output_type": "display_data"
    },
    {
     "name": "stdout",
     "output_type": "stream",
     "text": [
      "READ STRING: 3\r\n",
      "READ STRING: 1\r\n",
      "READ STRING: 2\r\n",
      "READ STRING: 3\r\n"
     ]
    }
   ],
   "source": [
    "%%cpp main.c\n",
    "%run clang -std=c99 -Wall -Werror -fsanitize=address main.c -o a.exe\n",
    "%run ./a.exe < 001.in\n",
    "\n",
    "#include <stdio.h>\n",
    "#include <string.h>\n",
    "\n",
    "int main() {\n",
    "    char str[100];\n",
    "    while (1) {\n",
    "        int ret = scanf(\"%s\", str);\n",
    "        if (ret <= 0) {\n",
    "            break;\n",
    "        }\n",
    "        \n",
    "        printf(\"READ STRING: %s\\n\", str);\n",
    "        if (strcmp(str, \"push\") == 0) {\n",
    "            int value;\n",
    "            scanf(\"%d\", &value);\n",
    "            printf(\"   IT IS PUSH %d\\n\", value);\n",
    "        } else if (strcmp(str, \"hello\") == 0) {\n",
    "            int value;\n",
    "            scanf(\"%d\", &value);\n",
    "            printf(\"   IT IS HELLO %d\\n\", value);\n",
    "        }    \n",
    "    }\n",
    "    return 0;\n",
    "}"
   ]
  },
  {
   "cell_type": "code",
   "execution_count": 44,
   "metadata": {},
   "outputs": [
    {
     "data": {
      "text/markdown": [
       "Run: `gcc -std=c99 -Wall -Werror -fsanitize=address main.c -o a.exe`"
      ],
      "text/plain": [
       "<IPython.core.display.Markdown object>"
      ]
     },
     "metadata": {},
     "output_type": "display_data"
    },
    {
     "data": {
      "text/markdown": [
       "Run: `./a.exe < 001.in`"
      ],
      "text/plain": [
       "<IPython.core.display.Markdown object>"
      ]
     },
     "metadata": {},
     "output_type": "display_data"
    },
    {
     "name": "stdout",
     "output_type": "stream",
     "text": [
      "READ LINE: 'push 3\n",
      "'\n",
      "   IT IS PUSH 3\n",
      "READ LINE: 'pop\n",
      "'\n",
      "  GET ONLY STRING\n",
      "READ LINE: 'exit\n",
      "'\n",
      "  GET ONLY STRING\n",
      "READ LINE: 'hello 6\n",
      "'\n",
      "   IT IS HELLO 6\n",
      "READ LINE: '    '\n",
      "  ERROR\n",
      "a.exe: main.c:34: main: Assertion `ret == 2' failed.\n",
      "Aborted (core dumped)\n"
     ]
    }
   ],
   "source": [
    "%%cpp main.c\n",
    "%run gcc -std=c99 -Wall -Werror -fsanitize=address main.c -o a.exe\n",
    "%run ./a.exe < 001.in\n",
    "\n",
    "#include <stdio.h>\n",
    "#include <string.h>\n",
    "#include <assert.h>\n",
    "#include <stdbool.h> // true, false\n",
    "\n",
    "int main() {\n",
    "    char buff[100];\n",
    " \n",
    "    while (true) {\n",
    "        char* line = fgets(buff, sizeof(buff), stdin);\n",
    "        if (!line) {\n",
    "            break;\n",
    "        }\n",
    "        \n",
    "        printf(\"READ LINE: '%s'\\n\", line);\n",
    "        \n",
    "        char str[100];\n",
    "        int value = 0;\n",
    "        int ret = sscanf(line, \"%s %d\", str, &value);\n",
    "        if (ret <= 0) {\n",
    "            printf(\"  ERROR\\n\");\n",
    "        } else if (ret == 1) {\n",
    "            printf(\"  GET ONLY STRING\\n\");\n",
    "        }\n",
    "           \n",
    "        if (strcmp(str, \"push\") == 0) {\n",
    "            assert(ret == 2);\n",
    "            printf(\"   IT IS PUSH %d\\n\", value);\n",
    "        } else if (strcmp(str, \"hello\") == 0) {\n",
    "            assert(ret == 2);\n",
    "            printf(\"   IT IS HELLO %d\\n\", value);\n",
    "        }    \n",
    "    }\n",
    "    return 0;\n",
    "}"
   ]
  },
  {
   "cell_type": "code",
   "execution_count": null,
   "metadata": {},
   "outputs": [],
   "source": []
  },
  {
   "cell_type": "code",
   "execution_count": 42,
   "metadata": {},
   "outputs": [
    {
     "data": {
      "text/markdown": [
       "Run: `clang -std=c99 -Wall -Werror -fsanitize=address main.c -o a.exe`"
      ],
      "text/plain": [
       "<IPython.core.display.Markdown object>"
      ]
     },
     "metadata": {},
     "output_type": "display_data"
    },
    {
     "data": {
      "text/markdown": [
       "Run: `./a.exe < 001.in`"
      ],
      "text/plain": [
       "<IPython.core.display.Markdown object>"
      ]
     },
     "metadata": {},
     "output_type": "display_data"
    },
    {
     "name": "stdout",
     "output_type": "stream",
     "text": [
      "0x4d6c60\r\n",
      "Hello students!\r\n",
      "a[1] = 'e'\r\n",
      "c1 = a + b = Hellostudents!\r\n",
      "c2 = a + ' ' + b = Hello students!\r\n"
     ]
    }
   ],
   "source": [
    "%%cpp main.c\n",
    "%run clang -std=c99 -Wall -Werror -fsanitize=address main.c -o a.exe\n",
    "%run ./a.exe < 001.in\n",
    "\n",
    "#include <stdio.h>\n",
    "#include <string.h>\n",
    "#include <assert.h>\n",
    "\n",
    "int main() {\n",
    "    char* a = \"Hello\";\n",
    "    char* b = \"students!\";\n",
    "    printf(\"%p\\n\", a);\n",
    "    printf(\"%s %s\\n\", a, b);\n",
    "    printf(\"a[1] = '%c'\\n\", a[1]);\n",
    "    \n",
    "    char c1[1000];\n",
    "    int i = 0;\n",
    "    for (int j = 0; a[j]; ++j) \n",
    "        c1[i++] = a[j];\n",
    "    for (int j = 0; b[j]; ++j) \n",
    "        c1[i++] = b[j];\n",
    "    c1[i] = '\\0';\n",
    "    printf(\"c1 = a + b = %s\\n\", c1);\n",
    "    \n",
    "    char c2[1000];\n",
    "    snprintf(c2, sizeof(c2), \"%s %s\", a, b);\n",
    "    printf(\"c2 = a + ' ' + b = %s\\n\", c2);\n",
    "    \n",
    "    return 0;\n",
    "}"
   ]
  },
  {
   "cell_type": "code",
   "execution_count": 51,
   "metadata": {},
   "outputs": [
    {
     "data": {
      "text/markdown": [
       "Run: `clang -std=c99 -Wall -Werror -fsanitize=address main.c -o a.exe`"
      ],
      "text/plain": [
       "<IPython.core.display.Markdown object>"
      ]
     },
     "metadata": {},
     "output_type": "display_data"
    },
    {
     "data": {
      "text/markdown": [
       "Run: `./a.exe`"
      ],
      "text/plain": [
       "<IPython.core.display.Markdown object>"
      ]
     },
     "metadata": {},
     "output_type": "display_data"
    },
    {
     "name": "stdout",
     "output_type": "stream",
     "text": [
      "HELLO\r\n",
      "'A' = 65, 'a' = 97\r\n"
     ]
    }
   ],
   "source": [
    "%%cpp main.c\n",
    "%run clang -std=c99 -Wall -Werror -fsanitize=address main.c -o a.exe\n",
    "%run ./a.exe \n",
    "\n",
    "#include <stdio.h>\n",
    "#include <string.h>\n",
    "#include <assert.h>\n",
    "\n",
    "\n",
    "void to_upper(char* src, char* dst) {\n",
    "    int i = 0;\n",
    "    for (; src[i]; ++i) {\n",
    "        if ('a' <= src[i] && src[i] <= 'z') {\n",
    "            dst[i] = src[i] - 'a' + 'A';\n",
    "        } else {\n",
    "            dst[i] = src[i];\n",
    "        }\n",
    "    }\n",
    "    dst[i] = '\\0';\n",
    "}\n",
    "\n",
    "int main() {\n",
    "    char* a = \"Hello\";\n",
    "      \n",
    "    char buffer[100];\n",
    "    to_upper(a, buffer);\n",
    "    \n",
    "    printf(\"%s\\n\", buffer);\n",
    "    printf(\"'A' = %d, 'a' = %d\\n\", (int)'A', (int)'a');\n",
    "    \n",
    "    return 0;\n",
    "}"
   ]
  },
  {
   "cell_type": "code",
   "execution_count": 47,
   "metadata": {},
   "outputs": [
    {
     "name": "stdout",
     "output_type": "stream",
     "text": [
      "No manual entry for upper_case\r\n"
     ]
    }
   ],
   "source": []
  },
  {
   "cell_type": "code",
   "execution_count": 62,
   "metadata": {},
   "outputs": [],
   "source": [
    "%%cpp test.h\n",
    "\n",
    "void test() {\n",
    "    stack_t stack;\n",
    "    init_stack(&stack);\n",
    "    push(&stack, 1);\n",
    "    push(&stack, 2);\n",
    "    push(&stack, 3);\n",
    "    push(&stack, 4);\n",
    "    \n",
    "    assert(top(&stack) == 4);\n",
    "    pop(&stack);\n",
    "    \n",
    "    assert(top(&stack) == 3);\n",
    "    pop(&stack);\n",
    "    \n",
    "    push(&stack, 5);\n",
    "    \n",
    "    assert(top(&stack) == 5);\n",
    "    pop(&stack);\n",
    "    assert(top(&stack) == 2);\n",
    "    pop(&stack);\n",
    "    assert(top(&stack) == 1);\n",
    "    pop(&stack);\n",
    "    \n",
    "    destroy_stack(&stack);\n",
    "    \n",
    "    printf(\"SUCCESS\\n\");\n",
    "}\n",
    "\n",
    "int main() {\n",
    "    test();\n",
    "    return 0;\n",
    "}"
   ]
  },
  {
   "cell_type": "markdown",
   "metadata": {},
   "source": [
    "## Стек олимпиадника"
   ]
  },
  {
   "cell_type": "code",
   "execution_count": 66,
   "metadata": {},
   "outputs": [
    {
     "data": {
      "text/markdown": [
       "Run: `clang -std=c99 -Wall -Werror -fsanitize=address main.c -o a.exe`"
      ],
      "text/plain": [
       "<IPython.core.display.Markdown object>"
      ]
     },
     "metadata": {},
     "output_type": "display_data"
    },
    {
     "data": {
      "text/markdown": [
       "Run: `./a.exe`"
      ],
      "text/plain": [
       "<IPython.core.display.Markdown object>"
      ]
     },
     "metadata": {},
     "output_type": "display_data"
    },
    {
     "name": "stdout",
     "output_type": "stream",
     "text": [
      "POP 4 (was on position 3)\r\n",
      "POP 3 (was on position 2)\r\n",
      "POP 5 (was on position 2)\r\n",
      "POP 2 (was on position 1)\r\n",
      "POP 1 (was on position 0)\r\n",
      "SUCCESS\r\n"
     ]
    }
   ],
   "source": [
    "%%cpp main.c\n",
    "%run clang -std=c99 -Wall -Werror -fsanitize=address main.c -o a.exe\n",
    "%run ./a.exe \n",
    "\n",
    "#include <stdio.h>\n",
    "#include <string.h>\n",
    "#include <assert.h>\n",
    "\n",
    "typedef struct stack {\n",
    "    int a[100500];\n",
    "    int sz;\n",
    "} stack_t;\n",
    "\n",
    "\n",
    "void init_stack(stack_t* stack) {\n",
    "    stack->sz = 0;\n",
    "}\n",
    "\n",
    "void destroy_stack(stack_t* stack) {}\n",
    "\n",
    "void push(stack_t* stack, int elem) {\n",
    "    stack->a[stack->sz++] = elem;\n",
    "}\n",
    "\n",
    "int top(stack_t* stack) {\n",
    "    return stack->a[stack->sz - 1];\n",
    "}\n",
    "\n",
    "void pop(stack_t* stack) {\n",
    "    --stack->sz;\n",
    "    fprintf(stderr, \"POP %d (was on position %d)\\n\", stack->a[stack->sz], stack->sz);\n",
    "}\n",
    "\n",
    "\n",
    "#include \"test.h\""
   ]
  },
  {
   "cell_type": "markdown",
   "metadata": {},
   "source": [
    "## Стек странного человека"
   ]
  },
  {
   "cell_type": "code",
   "execution_count": 72,
   "metadata": {},
   "outputs": [
    {
     "data": {
      "text/markdown": [
       "Run: `clang -std=c99 -Wall -Werror -fsanitize=address main.c -o a.exe`"
      ],
      "text/plain": [
       "<IPython.core.display.Markdown object>"
      ]
     },
     "metadata": {},
     "output_type": "display_data"
    },
    {
     "data": {
      "text/markdown": [
       "Run: `./a.exe`"
      ],
      "text/plain": [
       "<IPython.core.display.Markdown object>"
      ]
     },
     "metadata": {},
     "output_type": "display_data"
    },
    {
     "name": "stdout",
     "output_type": "stream",
     "text": [
      "POP 4\r\n",
      "POP 3\r\n",
      "POP 5\r\n",
      "POP 2\r\n",
      "POP 1\r\n",
      "SUCCESS\r\n"
     ]
    }
   ],
   "source": [
    "%%cpp main.c\n",
    "%run clang -std=c99 -Wall -Werror -fsanitize=address main.c -o a.exe\n",
    "%run ./a.exe \n",
    "\n",
    "#include <stdio.h>\n",
    "#include <stdlib.h>\n",
    "#include <string.h>\n",
    "#include <assert.h>\n",
    "\n",
    "typedef struct node {\n",
    "    int elem;\n",
    "    struct node* previous;\n",
    "} node_t;\n",
    "\n",
    "\n",
    "\n",
    "typedef struct stack {\n",
    "    node_t* top;\n",
    "} stack_t;\n",
    "\n",
    "\n",
    "void init_stack(stack_t* stack) {\n",
    "    stack->top = NULL;\n",
    "}\n",
    "\n",
    "void pop(stack_t* stack);\n",
    "\n",
    "void destroy_stack(stack_t* stack) {\n",
    "    while (stack->top) {\n",
    "        pop(stack);\n",
    "    }\n",
    "}\n",
    "\n",
    "void push(stack_t* stack, int elem) {\n",
    "    node_t* node = calloc(1, sizeof(node_t));\n",
    "    node->elem = elem;\n",
    "    node->previous = stack->top;\n",
    "    stack->top = node;\n",
    "}\n",
    "\n",
    "int top(stack_t* stack) {\n",
    "    return stack->top->elem;\n",
    "}\n",
    "\n",
    "void pop(stack_t* stack) {\n",
    "    node_t* old_top = stack->top;\n",
    "    stack->top = old_top->previous;\n",
    "    fprintf(stderr, \"POP %d\\n\", old_top->elem);\n",
    "    free(old_top);\n",
    "}\n",
    "\n",
    "\n",
    "#include \"test.h\""
   ]
  },
  {
   "cell_type": "markdown",
   "metadata": {},
   "source": [
    "## Cтек здорового человека"
   ]
  },
  {
   "cell_type": "code",
   "execution_count": 79,
   "metadata": {},
   "outputs": [
    {
     "data": {
      "text/markdown": [
       "Run: `clang -std=c99 -Wall -Werror -fsanitize=address main.c -o a.exe`"
      ],
      "text/plain": [
       "<IPython.core.display.Markdown object>"
      ]
     },
     "metadata": {},
     "output_type": "display_data"
    },
    {
     "data": {
      "text/markdown": [
       "Run: `./a.exe`"
      ],
      "text/plain": [
       "<IPython.core.display.Markdown object>"
      ]
     },
     "metadata": {},
     "output_type": "display_data"
    },
    {
     "name": "stdout",
     "output_type": "stream",
     "text": [
      "POP 4 (was on position 3)\r\n",
      "POP 3 (was on position 2)\r\n",
      "POP 5 (was on position 2)\r\n",
      "POP 2 (was on position 1)\r\n",
      "POP 1 (was on position 0)\r\n",
      "SUCCESS\r\n"
     ]
    }
   ],
   "source": [
    "%%cpp main.c\n",
    "%run clang -std=c99 -Wall -Werror -fsanitize=address main.c -o a.exe\n",
    "%run ./a.exe \n",
    "\n",
    "#include <stdio.h>\n",
    "#include <stdlib.h>\n",
    "#include <string.h>\n",
    "#include <assert.h>\n",
    "\n",
    "typedef struct stack {\n",
    "    int* a;\n",
    "    int sz;\n",
    "    int max_sz;\n",
    "} stack_t;\n",
    "\n",
    "\n",
    "void init_stack(stack_t* stack) {\n",
    "    *stack = (stack_t){0};\n",
    "}\n",
    "\n",
    "void destroy_stack(stack_t* stack) {\n",
    "    free(stack->a);\n",
    "}\n",
    "\n",
    "void push(stack_t* stack, int elem) {\n",
    "    if (stack->sz == stack->max_sz) {\n",
    "        stack->max_sz += (stack->max_sz == 0);\n",
    "        stack->max_sz *= 2;\n",
    "        (*stack).a = realloc(stack->a, stack->max_sz * sizeof(int));\n",
    "    }\n",
    "    stack->a[stack->sz++] = elem;\n",
    "}\n",
    "\n",
    "int top(stack_t* stack) {\n",
    "    return stack->a[stack->sz - 1];\n",
    "}\n",
    "\n",
    "void pop(stack_t* stack) {\n",
    "    --stack->sz;\n",
    "    fprintf(stderr, \"POP %d (was on position %d)\\n\", stack->a[stack->sz], stack->sz);\n",
    "}\n",
    "\n",
    "\n",
    "#include \"test.h\""
   ]
  },
  {
   "cell_type": "markdown",
   "metadata": {},
   "source": [
    "# ASAN\n",
    "\n",
    "aka address-sanitizer\n",
    "\n",
    "Опция компилятора `-fsanitize=address`\n",
    "\n",
    "## 1) Утечки"
   ]
  },
  {
   "cell_type": "code",
   "execution_count": 83,
   "metadata": {},
   "outputs": [
    {
     "data": {
      "text/markdown": [
       "Run: `clang -std=c99 -Wall -Werror -fsanitize=address main.c -o a.exe`"
      ],
      "text/plain": [
       "<IPython.core.display.Markdown object>"
      ]
     },
     "metadata": {},
     "output_type": "display_data"
    },
    {
     "data": {
      "text/markdown": [
       "Run: `./a.exe`"
      ],
      "text/plain": [
       "<IPython.core.display.Markdown object>"
      ]
     },
     "metadata": {},
     "output_type": "display_data"
    },
    {
     "name": "stdout",
     "output_type": "stream",
     "text": [
      "\r\n",
      "=================================================================\r\n",
      "\u001b[1m\u001b[31m==2729==ERROR: LeakSanitizer: detected memory leaks\r\n",
      "\u001b[1m\u001b[0m\r\n",
      "\u001b[1m\u001b[34mDirect leak of 40 byte(s) in 1 object(s) allocated from:\r\n",
      "\u001b[1m\u001b[0m    #0 0x493ba2 in calloc (/home/pechatnov/vbox/caos/extra-c-basics/a.exe+0x493ba2)\r\n",
      "    #1 0x4c313d in main (/home/pechatnov/vbox/caos/extra-c-basics/a.exe+0x4c313d)\r\n",
      "    #2 0x7f41fe10e0b2 in __libc_start_main /build/glibc-YYA7BZ/glibc-2.31/csu/../csu/libc-start.c:308:16\r\n",
      "\r\n",
      "SUMMARY: AddressSanitizer: 40 byte(s) leaked in 1 allocation(s).\r\n"
     ]
    }
   ],
   "source": [
    "%%cpp main.c\n",
    "%run clang -std=c99 -Wall -Werror -fsanitize=address main.c -o a.exe\n",
    "%run ./a.exe \n",
    "\n",
    "#include <stdlib.h>\n",
    "#include <assert.h>\n",
    "\n",
    "int main() {\n",
    "    int* array = calloc(10, sizeof(int));\n",
    "    assert(array[0] == 0);\n",
    "    return 0;\n",
    "}"
   ]
  },
  {
   "cell_type": "markdown",
   "metadata": {},
   "source": [
    "## 2) Проезды"
   ]
  },
  {
   "cell_type": "code",
   "execution_count": 85,
   "metadata": {
    "scrolled": true
   },
   "outputs": [
    {
     "data": {
      "text/markdown": [
       "Run: `clang -std=c99 -Wall -Werror -fsanitize=address main.c -o a.exe`"
      ],
      "text/plain": [
       "<IPython.core.display.Markdown object>"
      ]
     },
     "metadata": {},
     "output_type": "display_data"
    },
    {
     "data": {
      "text/markdown": [
       "Run: `./a.exe`"
      ],
      "text/plain": [
       "<IPython.core.display.Markdown object>"
      ]
     },
     "metadata": {},
     "output_type": "display_data"
    },
    {
     "name": "stdout",
     "output_type": "stream",
     "text": [
      "AddressSanitizer:DEADLYSIGNAL\n",
      "=================================================================\n",
      "\u001b[1m\u001b[31m==2746==ERROR: AddressSanitizer: SEGV on unknown address 0x6040000622e0 (pc 0x0000004c3191 bp 0x7ffdea6c0450 sp 0x7ffdea6c0430 T0)\n",
      "\u001b[1m\u001b[0m==2746==The signal is caused by a READ memory access.\n",
      "    #0 0x4c3191 in main (/home/pechatnov/vbox/caos/extra-c-basics/a.exe+0x4c3191)\n",
      "    #1 0x7f8e489200b2 in __libc_start_main /build/glibc-YYA7BZ/glibc-2.31/csu/../csu/libc-start.c:308:16\n",
      "    #2 0x41b2ed in _start (/home/pechatnov/vbox/caos/extra-c-basics/a.exe+0x41b2ed)\n",
      "\n",
      "AddressSanitizer can not provide additional info.\n",
      "SUMMARY: AddressSanitizer: SEGV (/home/pechatnov/vbox/caos/extra-c-basics/a.exe+0x4c3191) in main\n",
      "==2746==ABORTING\n"
     ]
    }
   ],
   "source": [
    "%%cpp main.c\n",
    "%run clang -std=c99 -Wall -Werror -fsanitize=address main.c -o a.exe\n",
    "%run ./a.exe \n",
    "\n",
    "#include <stdlib.h>\n",
    "#include <assert.h>\n",
    "\n",
    "int main() {\n",
    "    int* array = calloc(10, sizeof(int));\n",
    "    assert(array[100500] == 0);\n",
    "    return 0;\n",
    "}"
   ]
  },
  {
   "cell_type": "markdown",
   "metadata": {},
   "source": [
    "## 3) Использование памяти после free"
   ]
  },
  {
   "cell_type": "code",
   "execution_count": 86,
   "metadata": {},
   "outputs": [
    {
     "data": {
      "text/markdown": [
       "Run: `clang -std=c99 -Wall -Werror -fsanitize=address main.c -o a.exe`"
      ],
      "text/plain": [
       "<IPython.core.display.Markdown object>"
      ]
     },
     "metadata": {},
     "output_type": "display_data"
    },
    {
     "data": {
      "text/markdown": [
       "Run: `./a.exe`"
      ],
      "text/plain": [
       "<IPython.core.display.Markdown object>"
      ]
     },
     "metadata": {},
     "output_type": "display_data"
    },
    {
     "name": "stdout",
     "output_type": "stream",
     "text": [
      "=================================================================\n",
      "\u001b[1m\u001b[31m==2753==ERROR: AddressSanitizer: heap-use-after-free on address 0x6040000000a4 at pc 0x0000004c3199 bp 0x7ffdfa1b0400 sp 0x7ffdfa1b03f8\n",
      "\u001b[1m\u001b[0m\u001b[1m\u001b[34mREAD of size 4 at 0x6040000000a4 thread T0\u001b[1m\u001b[0m\n",
      "    #0 0x4c3198 in main (/home/pechatnov/vbox/caos/extra-c-basics/a.exe+0x4c3198)\n",
      "    #1 0x7fdcdaa230b2 in __libc_start_main /build/glibc-YYA7BZ/glibc-2.31/csu/../csu/libc-start.c:308:16\n",
      "    #2 0x41b2ed in _start (/home/pechatnov/vbox/caos/extra-c-basics/a.exe+0x41b2ed)\n",
      "\n",
      "\u001b[1m\u001b[32m0x6040000000a4 is located 20 bytes inside of 40-byte region [0x604000000090,0x6040000000b8)\n",
      "\u001b[1m\u001b[0m\u001b[1m\u001b[35mfreed by thread T0 here:\u001b[1m\u001b[0m\n",
      "    #0 0x4937ad in free (/home/pechatnov/vbox/caos/extra-c-basics/a.exe+0x4937ad)\n",
      "    #1 0x4c314d in main (/home/pechatnov/vbox/caos/extra-c-basics/a.exe+0x4c314d)\n",
      "    #2 0x7fdcdaa230b2 in __libc_start_main /build/glibc-YYA7BZ/glibc-2.31/csu/../csu/libc-start.c:308:16\n",
      "\n",
      "\u001b[1m\u001b[35mpreviously allocated by thread T0 here:\u001b[1m\u001b[0m\n",
      "    #0 0x493ba2 in calloc (/home/pechatnov/vbox/caos/extra-c-basics/a.exe+0x493ba2)\n",
      "    #1 0x4c313d in main (/home/pechatnov/vbox/caos/extra-c-basics/a.exe+0x4c313d)\n",
      "    #2 0x7fdcdaa230b2 in __libc_start_main /build/glibc-YYA7BZ/glibc-2.31/csu/../csu/libc-start.c:308:16\n",
      "\n",
      "SUMMARY: AddressSanitizer: heap-use-after-free (/home/pechatnov/vbox/caos/extra-c-basics/a.exe+0x4c3198) in main\n",
      "Shadow bytes around the buggy address:\n",
      "  0x0c087fff7fc0: \u001b[1m\u001b[0m00\u001b[1m\u001b[0m \u001b[1m\u001b[0m00\u001b[1m\u001b[0m \u001b[1m\u001b[0m00\u001b[1m\u001b[0m \u001b[1m\u001b[0m00\u001b[1m\u001b[0m \u001b[1m\u001b[0m00\u001b[1m\u001b[0m \u001b[1m\u001b[0m00\u001b[1m\u001b[0m \u001b[1m\u001b[0m00\u001b[1m\u001b[0m \u001b[1m\u001b[0m00\u001b[1m\u001b[0m \u001b[1m\u001b[0m00\u001b[1m\u001b[0m \u001b[1m\u001b[0m00\u001b[1m\u001b[0m \u001b[1m\u001b[0m00\u001b[1m\u001b[0m \u001b[1m\u001b[0m00\u001b[1m\u001b[0m \u001b[1m\u001b[0m00\u001b[1m\u001b[0m \u001b[1m\u001b[0m00\u001b[1m\u001b[0m \u001b[1m\u001b[0m00\u001b[1m\u001b[0m \u001b[1m\u001b[0m00\u001b[1m\u001b[0m\n",
      "  0x0c087fff7fd0: \u001b[1m\u001b[0m00\u001b[1m\u001b[0m \u001b[1m\u001b[0m00\u001b[1m\u001b[0m \u001b[1m\u001b[0m00\u001b[1m\u001b[0m \u001b[1m\u001b[0m00\u001b[1m\u001b[0m \u001b[1m\u001b[0m00\u001b[1m\u001b[0m \u001b[1m\u001b[0m00\u001b[1m\u001b[0m \u001b[1m\u001b[0m00\u001b[1m\u001b[0m \u001b[1m\u001b[0m00\u001b[1m\u001b[0m \u001b[1m\u001b[0m00\u001b[1m\u001b[0m \u001b[1m\u001b[0m00\u001b[1m\u001b[0m \u001b[1m\u001b[0m00\u001b[1m\u001b[0m \u001b[1m\u001b[0m00\u001b[1m\u001b[0m \u001b[1m\u001b[0m00\u001b[1m\u001b[0m \u001b[1m\u001b[0m00\u001b[1m\u001b[0m \u001b[1m\u001b[0m00\u001b[1m\u001b[0m \u001b[1m\u001b[0m00\u001b[1m\u001b[0m\n",
      "  0x0c087fff7fe0: \u001b[1m\u001b[0m00\u001b[1m\u001b[0m \u001b[1m\u001b[0m00\u001b[1m\u001b[0m \u001b[1m\u001b[0m00\u001b[1m\u001b[0m \u001b[1m\u001b[0m00\u001b[1m\u001b[0m \u001b[1m\u001b[0m00\u001b[1m\u001b[0m \u001b[1m\u001b[0m00\u001b[1m\u001b[0m \u001b[1m\u001b[0m00\u001b[1m\u001b[0m \u001b[1m\u001b[0m00\u001b[1m\u001b[0m \u001b[1m\u001b[0m00\u001b[1m\u001b[0m \u001b[1m\u001b[0m00\u001b[1m\u001b[0m \u001b[1m\u001b[0m00\u001b[1m\u001b[0m \u001b[1m\u001b[0m00\u001b[1m\u001b[0m \u001b[1m\u001b[0m00\u001b[1m\u001b[0m \u001b[1m\u001b[0m00\u001b[1m\u001b[0m \u001b[1m\u001b[0m00\u001b[1m\u001b[0m \u001b[1m\u001b[0m00\u001b[1m\u001b[0m\n",
      "  0x0c087fff7ff0: \u001b[1m\u001b[0m00\u001b[1m\u001b[0m \u001b[1m\u001b[0m00\u001b[1m\u001b[0m \u001b[1m\u001b[0m00\u001b[1m\u001b[0m \u001b[1m\u001b[0m00\u001b[1m\u001b[0m \u001b[1m\u001b[0m00\u001b[1m\u001b[0m \u001b[1m\u001b[0m00\u001b[1m\u001b[0m \u001b[1m\u001b[0m00\u001b[1m\u001b[0m \u001b[1m\u001b[0m00\u001b[1m\u001b[0m \u001b[1m\u001b[0m00\u001b[1m\u001b[0m \u001b[1m\u001b[0m00\u001b[1m\u001b[0m \u001b[1m\u001b[0m00\u001b[1m\u001b[0m \u001b[1m\u001b[0m00\u001b[1m\u001b[0m \u001b[1m\u001b[0m00\u001b[1m\u001b[0m \u001b[1m\u001b[0m00\u001b[1m\u001b[0m \u001b[1m\u001b[0m00\u001b[1m\u001b[0m \u001b[1m\u001b[0m00\u001b[1m\u001b[0m\n",
      "  0x0c087fff8000: \u001b[1m\u001b[31mfa\u001b[1m\u001b[0m \u001b[1m\u001b[31mfa\u001b[1m\u001b[0m \u001b[1m\u001b[35mfd\u001b[1m\u001b[0m \u001b[1m\u001b[35mfd\u001b[1m\u001b[0m \u001b[1m\u001b[35mfd\u001b[1m\u001b[0m \u001b[1m\u001b[35mfd\u001b[1m\u001b[0m \u001b[1m\u001b[35mfd\u001b[1m\u001b[0m \u001b[1m\u001b[35mfd\u001b[1m\u001b[0m \u001b[1m\u001b[31mfa\u001b[1m\u001b[0m \u001b[1m\u001b[31mfa\u001b[1m\u001b[0m \u001b[1m\u001b[0m00\u001b[1m\u001b[0m \u001b[1m\u001b[0m00\u001b[1m\u001b[0m \u001b[1m\u001b[0m00\u001b[1m\u001b[0m \u001b[1m\u001b[0m00\u001b[1m\u001b[0m \u001b[1m\u001b[0m00\u001b[1m\u001b[0m \u001b[1m\u001b[0m02\u001b[1m\u001b[0m\n",
      "=>0x0c087fff8010: \u001b[1m\u001b[31mfa\u001b[1m\u001b[0m \u001b[1m\u001b[31mfa\u001b[1m\u001b[0m \u001b[1m\u001b[35mfd\u001b[1m\u001b[0m \u001b[1m\u001b[35mfd\u001b[1m\u001b[0m[\u001b[1m\u001b[35mfd\u001b[1m\u001b[0m]\u001b[1m\u001b[35mfd\u001b[1m\u001b[0m \u001b[1m\u001b[35mfd\u001b[1m\u001b[0m \u001b[1m\u001b[31mfa\u001b[1m\u001b[0m \u001b[1m\u001b[31mfa\u001b[1m\u001b[0m \u001b[1m\u001b[31mfa\u001b[1m\u001b[0m \u001b[1m\u001b[31mfa\u001b[1m\u001b[0m \u001b[1m\u001b[31mfa\u001b[1m\u001b[0m \u001b[1m\u001b[31mfa\u001b[1m\u001b[0m \u001b[1m\u001b[31mfa\u001b[1m\u001b[0m \u001b[1m\u001b[31mfa\u001b[1m\u001b[0m \u001b[1m\u001b[31mfa\u001b[1m\u001b[0m\n",
      "  0x0c087fff8020: \u001b[1m\u001b[31mfa\u001b[1m\u001b[0m \u001b[1m\u001b[31mfa\u001b[1m\u001b[0m \u001b[1m\u001b[31mfa\u001b[1m\u001b[0m \u001b[1m\u001b[31mfa\u001b[1m\u001b[0m \u001b[1m\u001b[31mfa\u001b[1m\u001b[0m \u001b[1m\u001b[31mfa\u001b[1m\u001b[0m \u001b[1m\u001b[31mfa\u001b[1m\u001b[0m \u001b[1m\u001b[31mfa\u001b[1m\u001b[0m \u001b[1m\u001b[31mfa\u001b[1m\u001b[0m \u001b[1m\u001b[31mfa\u001b[1m\u001b[0m \u001b[1m\u001b[31mfa\u001b[1m\u001b[0m \u001b[1m\u001b[31mfa\u001b[1m\u001b[0m \u001b[1m\u001b[31mfa\u001b[1m\u001b[0m \u001b[1m\u001b[31mfa\u001b[1m\u001b[0m \u001b[1m\u001b[31mfa\u001b[1m\u001b[0m \u001b[1m\u001b[31mfa\u001b[1m\u001b[0m\n",
      "  0x0c087fff8030: \u001b[1m\u001b[31mfa\u001b[1m\u001b[0m \u001b[1m\u001b[31mfa\u001b[1m\u001b[0m \u001b[1m\u001b[31mfa\u001b[1m\u001b[0m \u001b[1m\u001b[31mfa\u001b[1m\u001b[0m \u001b[1m\u001b[31mfa\u001b[1m\u001b[0m \u001b[1m\u001b[31mfa\u001b[1m\u001b[0m \u001b[1m\u001b[31mfa\u001b[1m\u001b[0m \u001b[1m\u001b[31mfa\u001b[1m\u001b[0m \u001b[1m\u001b[31mfa\u001b[1m\u001b[0m \u001b[1m\u001b[31mfa\u001b[1m\u001b[0m \u001b[1m\u001b[31mfa\u001b[1m\u001b[0m \u001b[1m\u001b[31mfa\u001b[1m\u001b[0m \u001b[1m\u001b[31mfa\u001b[1m\u001b[0m \u001b[1m\u001b[31mfa\u001b[1m\u001b[0m \u001b[1m\u001b[31mfa\u001b[1m\u001b[0m \u001b[1m\u001b[31mfa\u001b[1m\u001b[0m\n",
      "  0x0c087fff8040: \u001b[1m\u001b[31mfa\u001b[1m\u001b[0m \u001b[1m\u001b[31mfa\u001b[1m\u001b[0m \u001b[1m\u001b[31mfa\u001b[1m\u001b[0m \u001b[1m\u001b[31mfa\u001b[1m\u001b[0m \u001b[1m\u001b[31mfa\u001b[1m\u001b[0m \u001b[1m\u001b[31mfa\u001b[1m\u001b[0m \u001b[1m\u001b[31mfa\u001b[1m\u001b[0m \u001b[1m\u001b[31mfa\u001b[1m\u001b[0m \u001b[1m\u001b[31mfa\u001b[1m\u001b[0m \u001b[1m\u001b[31mfa\u001b[1m\u001b[0m \u001b[1m\u001b[31mfa\u001b[1m\u001b[0m \u001b[1m\u001b[31mfa\u001b[1m\u001b[0m \u001b[1m\u001b[31mfa\u001b[1m\u001b[0m \u001b[1m\u001b[31mfa\u001b[1m\u001b[0m \u001b[1m\u001b[31mfa\u001b[1m\u001b[0m \u001b[1m\u001b[31mfa\u001b[1m\u001b[0m\n",
      "  0x0c087fff8050: \u001b[1m\u001b[31mfa\u001b[1m\u001b[0m \u001b[1m\u001b[31mfa\u001b[1m\u001b[0m \u001b[1m\u001b[31mfa\u001b[1m\u001b[0m \u001b[1m\u001b[31mfa\u001b[1m\u001b[0m \u001b[1m\u001b[31mfa\u001b[1m\u001b[0m \u001b[1m\u001b[31mfa\u001b[1m\u001b[0m \u001b[1m\u001b[31mfa\u001b[1m\u001b[0m \u001b[1m\u001b[31mfa\u001b[1m\u001b[0m \u001b[1m\u001b[31mfa\u001b[1m\u001b[0m \u001b[1m\u001b[31mfa\u001b[1m\u001b[0m \u001b[1m\u001b[31mfa\u001b[1m\u001b[0m \u001b[1m\u001b[31mfa\u001b[1m\u001b[0m \u001b[1m\u001b[31mfa\u001b[1m\u001b[0m \u001b[1m\u001b[31mfa\u001b[1m\u001b[0m \u001b[1m\u001b[31mfa\u001b[1m\u001b[0m \u001b[1m\u001b[31mfa\u001b[1m\u001b[0m\n",
      "  0x0c087fff8060: \u001b[1m\u001b[31mfa\u001b[1m\u001b[0m \u001b[1m\u001b[31mfa\u001b[1m\u001b[0m \u001b[1m\u001b[31mfa\u001b[1m\u001b[0m \u001b[1m\u001b[31mfa\u001b[1m\u001b[0m \u001b[1m\u001b[31mfa\u001b[1m\u001b[0m \u001b[1m\u001b[31mfa\u001b[1m\u001b[0m \u001b[1m\u001b[31mfa\u001b[1m\u001b[0m \u001b[1m\u001b[31mfa\u001b[1m\u001b[0m \u001b[1m\u001b[31mfa\u001b[1m\u001b[0m \u001b[1m\u001b[31mfa\u001b[1m\u001b[0m \u001b[1m\u001b[31mfa\u001b[1m\u001b[0m \u001b[1m\u001b[31mfa\u001b[1m\u001b[0m \u001b[1m\u001b[31mfa\u001b[1m\u001b[0m \u001b[1m\u001b[31mfa\u001b[1m\u001b[0m \u001b[1m\u001b[31mfa\u001b[1m\u001b[0m \u001b[1m\u001b[31mfa\u001b[1m\u001b[0m\n",
      "Shadow byte legend (one shadow byte represents 8 application bytes):\n",
      "  Addressable:           \u001b[1m\u001b[0m00\u001b[1m\u001b[0m\n",
      "  Partially addressable: \u001b[1m\u001b[0m01\u001b[1m\u001b[0m \u001b[1m\u001b[0m02\u001b[1m\u001b[0m \u001b[1m\u001b[0m03\u001b[1m\u001b[0m \u001b[1m\u001b[0m04\u001b[1m\u001b[0m \u001b[1m\u001b[0m05\u001b[1m\u001b[0m \u001b[1m\u001b[0m06\u001b[1m\u001b[0m \u001b[1m\u001b[0m07\u001b[1m\u001b[0m \n",
      "  Heap left redzone:       \u001b[1m\u001b[31mfa\u001b[1m\u001b[0m\n",
      "  Freed heap region:       \u001b[1m\u001b[35mfd\u001b[1m\u001b[0m\n",
      "  Stack left redzone:      \u001b[1m\u001b[31mf1\u001b[1m\u001b[0m\n",
      "  Stack mid redzone:       \u001b[1m\u001b[31mf2\u001b[1m\u001b[0m\n",
      "  Stack right redzone:     \u001b[1m\u001b[31mf3\u001b[1m\u001b[0m\n",
      "  Stack after return:      \u001b[1m\u001b[35mf5\u001b[1m\u001b[0m\n",
      "  Stack use after scope:   \u001b[1m\u001b[35mf8\u001b[1m\u001b[0m\n",
      "  Global redzone:          \u001b[1m\u001b[31mf9\u001b[1m\u001b[0m\n",
      "  Global init order:       \u001b[1m\u001b[36mf6\u001b[1m\u001b[0m\n",
      "  Poisoned by user:        \u001b[1m\u001b[34mf7\u001b[1m\u001b[0m\n",
      "  Container overflow:      \u001b[1m\u001b[34mfc\u001b[1m\u001b[0m\n",
      "  Array cookie:            \u001b[1m\u001b[31mac\u001b[1m\u001b[0m\n",
      "  Intra object redzone:    \u001b[1m\u001b[33mbb\u001b[1m\u001b[0m\n",
      "  ASan internal:           \u001b[1m\u001b[33mfe\u001b[1m\u001b[0m\n",
      "  Left alloca redzone:     \u001b[1m\u001b[34mca\u001b[1m\u001b[0m\n",
      "  Right alloca redzone:    \u001b[1m\u001b[34mcb\u001b[1m\u001b[0m\n",
      "  Shadow gap:              \u001b[1m\u001b[0mcc\u001b[1m\u001b[0m\n",
      "==2753==ABORTING\n"
     ]
    }
   ],
   "source": [
    "%%cpp main.c\n",
    "%run clang -std=c99 -Wall -Werror -fsanitize=address main.c -o a.exe\n",
    "%run ./a.exe \n",
    "\n",
    "#include <stdlib.h>\n",
    "#include <assert.h>\n",
    "\n",
    "int main() {\n",
    "    int* array = calloc(10, sizeof(int));\n",
    "    free(array);\n",
    "    assert(array[5] == 0);\n",
    "    return 0;\n",
    "}"
   ]
  },
  {
   "cell_type": "markdown",
   "metadata": {},
   "source": [
    "## ... и так далее"
   ]
  },
  {
   "cell_type": "code",
   "execution_count": null,
   "metadata": {},
   "outputs": [],
   "source": []
  },
  {
   "cell_type": "markdown",
   "metadata": {},
   "source": [
    "# MergeSort"
   ]
  },
  {
   "cell_type": "code",
   "execution_count": 96,
   "metadata": {},
   "outputs": [
    {
     "data": {
      "text/markdown": [
       "Run: `gcc --sanitize=address merge.c -o merge.exe`"
      ],
      "text/plain": [
       "<IPython.core.display.Markdown object>"
      ]
     },
     "metadata": {},
     "output_type": "display_data"
    },
    {
     "data": {
      "text/markdown": [
       "Run: `./merge.exe`"
      ],
      "text/plain": [
       "<IPython.core.display.Markdown object>"
      ]
     },
     "metadata": {},
     "output_type": "display_data"
    },
    {
     "name": "stdout",
     "output_type": "stream",
     "text": [
      "1, 2, 3, 4, 5, 8, 9, \r\n"
     ]
    }
   ],
   "source": [
    "%%cpp merge.c\n",
    "%run gcc --sanitize=address merge.c -o merge.exe\n",
    "%run ./merge.exe\n",
    "\n",
    "#include <stdio.h>\n",
    "#include <string.h>\n",
    "#include <stdlib.h>\n",
    "\n",
    "typedef int elem_t;\n",
    "\n",
    "void merge_sort_impl(elem_t* a, int size, elem_t* buff) {\n",
    "    if (size <= 1) {\n",
    "        return;\n",
    "    }\n",
    "    int lsize = size / 2;\n",
    "    int rsize = size - lsize;\n",
    "    \n",
    "    merge_sort_impl(a, lsize, buff);\n",
    "    merge_sort_impl(a + lsize, rsize, buff);\n",
    "    \n",
    "    int L = 0, R = lsize;\n",
    "    int k = 0;\n",
    "    while (L < lsize && R < size) {\n",
    "        if (a[L] < a[R]) {\n",
    "            buff[k++] = a[L++];\n",
    "        } else {\n",
    "            buff[k++] = a[R++];    \n",
    "        }\n",
    "    }\n",
    "    while (L < lsize) {\n",
    "        buff[k++] = a[L++];\n",
    "    }\n",
    "    while (R < size) {\n",
    "        buff[k++] = a[R++];\n",
    "    }\n",
    "    memcpy(a, buff, size * sizeof(elem_t));\n",
    "}\n",
    "\n",
    "\n",
    "void merge_sort(elem_t* a, int size) {\n",
    "     if (size < 10000 / sizeof(elem_t)) {\n",
    "        elem_t buff[size];\n",
    "        merge_sort_impl(a, size, buff);\n",
    "     } else {\n",
    "        elem_t* buff = calloc(size, sizeof(elem_t));\n",
    "        merge_sort_impl(a, size, buff);\n",
    "        free(buff);\n",
    "    }\n",
    "}\n",
    "\n",
    "\n",
    "\n",
    "int main() {\n",
    "    //int a[] = {1, 5, 8, 2, 4, 9, 3};\n",
    "    int a[] = {1, 5, 8, 2, 4, 9, 3};\n",
    "    int a_size = sizeof(a) / sizeof(a[0]);\n",
    "    \n",
    "    merge_sort(a, a_size);\n",
    "        \n",
    "    for (int i = 0; i < a_size; ++i) {\n",
    "        printf(\"%d, \", a[i]);\n",
    "    }\n",
    "    printf(\"\\n\");\n",
    "    return 0;\n",
    "}"
   ]
  },
  {
   "cell_type": "code",
   "execution_count": null,
   "metadata": {},
   "outputs": [],
   "source": []
  },
  {
   "cell_type": "code",
   "execution_count": 92,
   "metadata": {},
   "outputs": [
    {
     "name": "stdout",
     "output_type": "stream",
     "text": [
      "MALLOC(3)                  Linux Programmer's Manual                 MALLOC(3)\n",
      "\n",
      "NAME\n",
      "       malloc, free, calloc, realloc - allocate and free dynamic memory\n",
      "\n",
      "SYNOPSIS\n",
      "       #include <stdlib.h>\n",
      "\n",
      "       void *malloc(size_t size);\n",
      "       void free(void *ptr);\n",
      "       void *calloc(size_t nmemb, size_t size);\n",
      "       void *realloc(void *ptr, size_t size);\n",
      "       void *reallocarray(void *ptr, size_t nmemb, size_t size);\n",
      "\n",
      "   Feature Test Macro Requirements for glibc (see feature_test_macros(7)):\n",
      "\n",
      "       reallocarray():\n",
      "           Since glibc 2.29:\n",
      "               _DEFAULT_SOURCE\n",
      "           Glibc 2.28 and earlier:\n",
      "               _GNU_SOURCE\n",
      "\n",
      "DESCRIPTION\n",
      "       The malloc() function allocates size bytes and returns a pointer to the\n",
      "       allocated memory.  The memory is not initialized.  If size is  0,  then\n",
      "       malloc()  returns either NULL, or a unique pointer value that can later\n",
      "       be successfully passed to free().\n",
      "\n",
      "       The free() function frees the memory space pointed  to  by  ptr,  which\n",
      "       must  have  been  returned by a previous call to malloc(), calloc(), or\n",
      "       realloc().  Otherwise, or if free(ptr) has already been called  before,\n",
      "       undefined behavior occurs.  If ptr is NULL, no operation is performed.\n",
      "\n",
      "       The  calloc()  function allocates memory for an array of nmemb elements\n",
      "       of size bytes each and returns a pointer to the allocated memory.   The\n",
      "       memory  is  set  to zero.  If nmemb or size is 0, then calloc() returns\n",
      "       either NULL, or a unique pointer value that can later  be  successfully\n",
      "       passed to free().  If the multiplication of nmemb and size would result\n",
      "       in integer overflow, then calloc() returns an error.  By  contrast,  an\n",
      "       integer  overflow  would  not be detected in the following call to mal‐\n",
      "       loc(), with the result that an incorrectly sized block of memory  would\n",
      "       be allocated:\n",
      "\n",
      "           malloc(nmemb * size);\n",
      "\n",
      "       The  realloc() function changes the size of the memory block pointed to\n",
      "       by ptr to size bytes.  The contents will be unchanged in the range from\n",
      "       the start of the region up to the minimum of the old and new sizes.  If\n",
      "       the new size is larger than the old size, the added memory will not  be\n",
      "       initialized.   If  ptr  is  NULL,  then  the call is equivalent to mal‐\n",
      "       loc(size), for all values of size; if size is equal to zero, and ptr is\n",
      "       not  NULL,  then  the  call  is equivalent to free(ptr).  Unless ptr is\n",
      "       NULL, it must have been returned by an earlier call to  malloc(),  cal‐\n",
      "       loc(),  or realloc().  If the area pointed to was moved, a free(ptr) is\n",
      "       done.\n",
      "\n",
      "       The reallocarray() function  changes  the  size  of  the  memory  block\n",
      "       pointed  to  by  ptr to be large enough for an array of nmemb elements,\n",
      "       each of which is size bytes.  It is equivalent to the call\n",
      "\n",
      "               realloc(ptr, nmemb * size);\n",
      "\n",
      "       However, unlike that realloc() call, reallocarray() fails safely in the\n",
      "       case  where the multiplication would overflow.  If such an overflow oc‐\n",
      "       curs, reallocarray() returns NULL, sets errno to ENOMEM, and leaves the\n",
      "       original block of memory unchanged.\n",
      "\n",
      "RETURN VALUE\n",
      "       The  malloc()  and calloc() functions return a pointer to the allocated\n",
      "       memory, which is suitably aligned for any  built-in  type.   On  error,\n",
      "       these functions return NULL.  NULL may also be returned by a successful\n",
      "       call to malloc() with a size of zero, or by a successful call  to  cal‐\n",
      "       loc() with nmemb or size equal to zero.\n",
      "\n",
      "       The free() function returns no value.\n",
      "\n",
      "       The realloc() function returns a pointer to the newly allocated memory,\n",
      "       which is suitably aligned for any built-in type, or NULL if the request\n",
      "       failed.   The returned pointer may be the same as ptr if the allocation\n",
      "       was not moved (e.g., there was room to expand the allocation in-place),\n",
      "       or different from ptr if the allocation was moved to a new address.  If\n",
      "       size was equal to 0, either NULL or a pointer suitable to be passed  to\n",
      "       free() is returned.  If realloc() fails, the original block is left un‐\n",
      "       touched; it is not freed or moved.\n",
      "\n",
      "       On success, the reallocarray() function returns a pointer to the  newly\n",
      "       allocated  memory.   On failure, it returns NULL and the original block\n",
      "       of memory is left untouched.\n",
      "\n",
      "ERRORS\n",
      "       calloc(), malloc(), realloc(), and reallocarray()  can  fail  with  the\n",
      "       following error:\n",
      "\n",
      "       ENOMEM Out  of  memory.  Possibly, the application hit the RLIMIT_AS or\n",
      "              RLIMIT_DATA limit described in getrlimit(2).\n",
      "\n",
      "ATTRIBUTES\n",
      "       For an  explanation  of  the  terms  used  in  this  section,  see  at‐\n",
      "       tributes(7).\n",
      "\n",
      "       ┌─────────────────────┬───────────────┬─────────┐\n",
      "       │Interface            │ Attribute     │ Value   │\n",
      "       ├─────────────────────┼───────────────┼─────────┤\n",
      "       │malloc(), free(),    │ Thread safety │ MT-Safe │\n",
      "       │calloc(), realloc()  │               │         │\n",
      "       └─────────────────────┴───────────────┴─────────┘\n",
      "CONFORMING TO\n",
      "       malloc(), free(), calloc(), realloc(): POSIX.1-2001, POSIX.1-2008, C89,\n",
      "       C99.\n",
      "\n",
      "       reallocarray() is a nonstandard extension that first appeared in  Open‐\n",
      "       BSD 5.6 and FreeBSD 11.0.\n",
      "\n",
      "NOTES\n",
      "       By  default,  Linux  follows  an optimistic memory allocation strategy.\n",
      "       This means that when malloc() returns non-NULL there  is  no  guarantee\n",
      "       that  the  memory  really  is available.  In case it turns out that the\n",
      "       system is out of memory, one or more processes will be  killed  by  the\n",
      "       OOM   killer.    For   more   information,   see   the  description  of\n",
      "       /proc/sys/vm/overcommit_memory and /proc/sys/vm/oom_adj in proc(5), and\n",
      "       the   Linux  kernel  source  file  Documentation/vm/overcommit-account‐\n",
      "       ing.rst.\n",
      "\n",
      "       Normally, malloc() allocates memory from the heap, and adjusts the size\n",
      "       of the heap as required, using sbrk(2).  When allocating blocks of mem‐\n",
      "       ory larger than MMAP_THRESHOLD bytes, the glibc malloc() implementation\n",
      "       allocates  the  memory  as  a  private anonymous mapping using mmap(2).\n",
      "       MMAP_THRESHOLD is 128 kB by  default,  but  is  adjustable  using  mal‐\n",
      "       lopt(3).   Prior  to Linux 4.7 allocations performed using mmap(2) were\n",
      "       unaffected by the RLIMIT_DATA resource limit;  since  Linux  4.7,  this\n",
      "       limit is also enforced for allocations performed using mmap(2).\n",
      "\n",
      "       To avoid corruption in multithreaded applications, mutexes are used in‐\n",
      "       ternally to protect the memory-management data structures  employed  by\n",
      "       these  functions.   In a multithreaded application in which threads si‐\n",
      "       multaneously allocate and free memory, there could  be  contention  for\n",
      "       these  mutexes.   To scalably handle memory allocation in multithreaded\n",
      "       applications, glibc creates additional memory allocation arenas if  mu‐\n",
      "       tex  contention  is  detected.   Each arena is a large region of memory\n",
      "       that is internally allocated by the system (using brk(2)  or  mmap(2)),\n",
      "       and managed with its own mutexes.\n",
      "\n",
      "       SUSv2 requires malloc(), calloc(), and realloc() to set errno to ENOMEM\n",
      "       upon failure.  Glibc assumes that this is done (and the glibc  versions\n",
      "       of  these routines do this); if you use a private malloc implementation\n",
      "       that does not set errno, then certain library routines may fail without\n",
      "       having a reason in errno.\n",
      "\n",
      "       Crashes  in  malloc(), calloc(), realloc(), or free() are almost always\n",
      "       related to heap corruption, such as overflowing an allocated  chunk  or\n",
      "       freeing the same pointer twice.\n",
      "\n",
      "       The  malloc()  implementation is tunable via environment variables; see\n",
      "       mallopt(3) for details.\n",
      "\n",
      "SEE ALSO\n",
      "       valgrind(1), brk(2), mmap(2), alloca(3), malloc_get_state(3),\n",
      "       malloc_info(3), malloc_trim(3), malloc_usable_size(3), mallopt(3),\n",
      "       mcheck(3), mtrace(3), posix_memalign(3)\n",
      "\n",
      "       For details of the GNU C library implementation, see\n",
      "       ⟨https://sourceware.org/glibc/wiki/MallocInternals⟩.\n",
      "\n",
      "COLOPHON\n",
      "       This page is part of release 5.05 of the Linux man-pages project.  A\n",
      "       description of the project, information about reporting bugs, and the\n",
      "       latest version of this page, can be found at\n",
      "       https://www.kernel.org/doc/man-pages/.\n",
      "\n",
      "GNU                               2020-02-09                         MALLOC(3)\n"
     ]
    }
   ],
   "source": [
    "!man calloc"
   ]
  },
  {
   "cell_type": "code",
   "execution_count": null,
   "metadata": {},
   "outputs": [],
   "source": []
  },
  {
   "cell_type": "markdown",
   "metadata": {},
   "source": [
    "# Queue"
   ]
  },
  {
   "cell_type": "code",
   "execution_count": 101,
   "metadata": {},
   "outputs": [],
   "source": [
    "%%cpp test.h\n",
    "\n",
    "void test() {\n",
    "    queue_t q;\n",
    "    init_queue(&q);\n",
    "    push(&q, 1);\n",
    "    push(&q, 2);\n",
    "    push(&q, 3);\n",
    "    push(&q, 4);\n",
    "    \n",
    "    assert(front(&q) == 1);\n",
    "    pop_front(&q);\n",
    "\n",
    "    assert(front(&q) == 2);\n",
    "    pop_front(&q);\n",
    "\n",
    "    assert(front(&q) == 3);\n",
    "    pop_front(&q);\n",
    "    \n",
    "    push(&q, 5);\n",
    "    \n",
    "    assert(front(&q) == 4);\n",
    "    pop_front(&q);\n",
    "\n",
    "    push(&q, 6);\n",
    "    \n",
    "    assert(front(&q) == 5);\n",
    "    pop_front(&q);\n",
    "    \n",
    "    destroy_queue(&q);\n",
    "    \n",
    "    printf(\"SUCCESS\\n\");\n",
    "}\n",
    "\n",
    "int main() {\n",
    "    test();\n",
    "    return 0;\n",
    "}"
   ]
  },
  {
   "cell_type": "markdown",
   "metadata": {},
   "source": [
    "# Очередь олимпиадника"
   ]
  },
  {
   "cell_type": "code",
   "execution_count": 102,
   "metadata": {},
   "outputs": [
    {
     "data": {
      "text/markdown": [
       "Run: `clang -std=c99 -Wall -Werror -fsanitize=address main.c -o a.exe`"
      ],
      "text/plain": [
       "<IPython.core.display.Markdown object>"
      ]
     },
     "metadata": {},
     "output_type": "display_data"
    },
    {
     "data": {
      "text/markdown": [
       "Run: `./a.exe`"
      ],
      "text/plain": [
       "<IPython.core.display.Markdown object>"
      ]
     },
     "metadata": {},
     "output_type": "display_data"
    },
    {
     "name": "stdout",
     "output_type": "stream",
     "text": [
      "POP 2 (was on position 1)\r\n",
      "POP 3 (was on position 2)\r\n",
      "POP 4 (was on position 3)\r\n",
      "POP 5 (was on position 4)\r\n",
      "POP 6 (was on position 5)\r\n",
      "SUCCESS\r\n"
     ]
    }
   ],
   "source": [
    "%%cpp main.c\n",
    "%run clang -std=c99 -Wall -Werror -fsanitize=address main.c -o a.exe\n",
    "%run ./a.exe \n",
    "\n",
    "#include <stdio.h>\n",
    "#include <string.h>\n",
    "#include <assert.h>\n",
    "\n",
    "typedef struct queue {\n",
    "    int a[100500];\n",
    "    int first;\n",
    "    int last; // не включительно\n",
    "} queue_t;\n",
    "\n",
    "\n",
    "void init_queue(queue_t* q) {\n",
    "    q->first = q->last = 0;\n",
    "}\n",
    "\n",
    "void destroy_queue(queue_t* q) {}\n",
    "\n",
    "void push(queue_t* q, int elem) {\n",
    "    q->a[q->last++] = elem;\n",
    "}\n",
    "\n",
    "int front(queue_t* q) {\n",
    "    return q->a[q->first];\n",
    "}\n",
    "\n",
    "void pop_front(queue_t* q) {\n",
    "    ++q->first;\n",
    "    fprintf(stderr, \"POP %d (was on position %d)\\n\", q->a[q->first], q->first);\n",
    "}\n",
    "\n",
    "\n",
    "#include \"test.h\""
   ]
  },
  {
   "cell_type": "markdown",
   "metadata": {},
   "source": [
    "# Очередь человека любящего указатели "
   ]
  },
  {
   "cell_type": "code",
   "execution_count": 107,
   "metadata": {},
   "outputs": [
    {
     "data": {
      "text/markdown": [
       "Run: `clang -std=c99 -Wall -Werror -fsanitize=address main.c -o a.exe`"
      ],
      "text/plain": [
       "<IPython.core.display.Markdown object>"
      ]
     },
     "metadata": {},
     "output_type": "display_data"
    },
    {
     "data": {
      "text/markdown": [
       "Run: `./a.exe`"
      ],
      "text/plain": [
       "<IPython.core.display.Markdown object>"
      ]
     },
     "metadata": {},
     "output_type": "display_data"
    },
    {
     "name": "stdout",
     "output_type": "stream",
     "text": [
      "POP 1\r\n",
      "POP 2\r\n",
      "POP 3\r\n",
      "POP 4\r\n",
      "POP 5\r\n",
      "POP 6\r\n",
      "SUCCESS\r\n"
     ]
    }
   ],
   "source": [
    "%%cpp main.c\n",
    "%run clang -std=c99 -Wall -Werror -fsanitize=address main.c -o a.exe\n",
    "%run ./a.exe \n",
    "\n",
    "#include <stdio.h>\n",
    "#include <stdlib.h>\n",
    "#include <string.h>\n",
    "#include <assert.h>\n",
    "\n",
    "typedef struct node {\n",
    "    int elem;\n",
    "    struct node* next;\n",
    "} node_t;\n",
    "\n",
    "typedef struct queue {\n",
    "    node_t* first;\n",
    "    node_t* last; // включительно\n",
    "} queue_t;\n",
    "\n",
    "\n",
    "void pop_front(queue_t* q);\n",
    "\n",
    "void init_queue(queue_t* q) {\n",
    "    q->first = NULL;\n",
    "}\n",
    "\n",
    "void destroy_queue(queue_t* q) {\n",
    "    while (q->first) {\n",
    "        pop_front(q);\n",
    "    }\n",
    "}\n",
    "\n",
    "void push(queue_t* q, int elem) {\n",
    "    node_t* new_node = calloc(1, sizeof(node_t));\n",
    "    new_node->elem = elem;\n",
    "    \n",
    "    if (q->first) {\n",
    "        q->last->next = new_node;\n",
    "    } else {\n",
    "        q->first = new_node;\n",
    "    }\n",
    "    q->last = new_node;\n",
    "}\n",
    "\n",
    "int front(queue_t* q) {\n",
    "    return q->first->elem;\n",
    "}\n",
    "\n",
    "void pop_front(queue_t* q) {\n",
    "    node_t* x = q->first;\n",
    "    q->first = q->first->next;\n",
    "    fprintf(stderr, \"POP %d\\n\", x->elem);\n",
    "    free(x);\n",
    "}\n",
    "\n",
    "\n",
    "#include \"test.h\""
   ]
  },
  {
   "cell_type": "markdown",
   "metadata": {},
   "source": [
    "# Циклическая очередь без расширения"
   ]
  },
  {
   "cell_type": "code",
   "execution_count": 108,
   "metadata": {},
   "outputs": [
    {
     "data": {
      "text/markdown": [
       "Run: `clang -std=c99 -Wall -Werror -fsanitize=address main.c -o a.exe`"
      ],
      "text/plain": [
       "<IPython.core.display.Markdown object>"
      ]
     },
     "metadata": {},
     "output_type": "display_data"
    },
    {
     "data": {
      "text/markdown": [
       "Run: `./a.exe`"
      ],
      "text/plain": [
       "<IPython.core.display.Markdown object>"
      ]
     },
     "metadata": {},
     "output_type": "display_data"
    },
    {
     "name": "stdout",
     "output_type": "stream",
     "text": [
      "POP 2 (was on position 1)\r\n",
      "POP 3 (was on position 2)\r\n",
      "POP 4 (was on position 3)\r\n",
      "POP 5 (was on position 4)\r\n",
      "POP 6 (was on position 5)\r\n",
      "SUCCESS\r\n"
     ]
    }
   ],
   "source": [
    "%%cpp main.c\n",
    "%run clang -std=c99 -Wall -Werror -fsanitize=address main.c -o a.exe\n",
    "%run ./a.exe \n",
    "\n",
    "#include <stdio.h>\n",
    "#include <string.h>\n",
    "#include <assert.h>\n",
    "\n",
    "typedef struct queue {\n",
    "    int a[1024];\n",
    "    int first;\n",
    "    int last; // не включительно\n",
    "} queue_t;\n",
    "\n",
    "\n",
    "void init_queue(queue_t* q) {\n",
    "    q->first = q->last = 0;\n",
    "}\n",
    "\n",
    "void destroy_queue(queue_t* q) {}\n",
    "\n",
    "void push(queue_t* q, int elem) {\n",
    "    q->a[(q->last++) % 1024] = elem;\n",
    "}\n",
    "\n",
    "int front(queue_t* q) {\n",
    "    return q->a[q->first % 1024];\n",
    "}\n",
    "\n",
    "void pop_front(queue_t* q) {\n",
    "    ++q->first;\n",
    "    fprintf(stderr, \"POP %d (was on position %d)\\n\", q->a[q->first % 1024], q->first);\n",
    "}\n",
    "\n",
    "\n",
    "#include \"test.h\""
   ]
  },
  {
   "cell_type": "code",
   "execution_count": 4,
   "metadata": {},
   "outputs": [],
   "source": [
    "%%cpp main.c\n",
    "d"
   ]
  },
  {
   "cell_type": "markdown",
   "metadata": {},
   "source": [
    "# Тестирование алгоритма (пример с семинара)"
   ]
  },
  {
   "cell_type": "code",
   "execution_count": 46,
   "metadata": {},
   "outputs": [
    {
     "data": {
      "text/markdown": [
       "Run: `gcc -std=c99 -Wall -Werror -fsanitize=address main.c -o unused.exe`"
      ],
      "text/plain": [
       "<IPython.core.display.Markdown object>"
      ]
     },
     "metadata": {},
     "output_type": "display_data"
    },
    {
     "data": {
      "text/markdown": [
       "Run: `gcc -DDO_TEST -std=c99 -Wall -Werror -fsanitize=address main.c -o o.exe`"
      ],
      "text/plain": [
       "<IPython.core.display.Markdown object>"
      ]
     },
     "metadata": {},
     "output_type": "display_data"
    },
    {
     "data": {
      "text/markdown": [
       "Run: `./o.exe`"
      ],
      "text/plain": [
       "<IPython.core.display.Markdown object>"
      ]
     },
     "metadata": {},
     "output_type": "display_data"
    },
    {
     "name": "stdout",
     "output_type": "stream",
     "text": [
      "success 1\n",
      "success 2\n",
      "success 3\n",
      "success 4\n",
      "Long sort: 1845 ms\n",
      "Already sorted long sort: 456 ms\n",
      "Zero long sort: 650 ms\n",
      "Descending sorted long sort: 506 ms\n"
     ]
    }
   ],
   "source": [
    "%%cpp main.c\n",
    "%run gcc -std=c99 -Wall -Werror -fsanitize=address main.c -o unused.exe\n",
    "%run gcc -DDO_TEST -std=c99 -Wall -Werror -fsanitize=address main.c -o o.exe\n",
    "%run ./o.exe \n",
    "\n",
    "#define _XOPEN_SOURCE 700\n",
    "\n",
    "#include <stdio.h>\n",
    "#include <stdlib.h>\n",
    "#include <assert.h>\n",
    "#include <string.h>\n",
    "#include <stdbool.h>\n",
    "#include <time.h>\n",
    "#include <stdint.h>\n",
    "#include <inttypes.h>\n",
    "\n",
    "\n",
    "typedef int elem_t;\n",
    "\n",
    "void slow_sort(elem_t* first, elem_t* last) {\n",
    "    for (elem_t* i = first; i != last; ++i) {\n",
    "        for (elem_t* j = i + 1; j != last; ++j) {\n",
    "            if (*i > *j) {\n",
    "                elem_t tmp = *i;\n",
    "                *i = *j;\n",
    "                *j = tmp;\n",
    "            }\n",
    "        }\n",
    "    }\n",
    "}\n",
    "\n",
    "//#define fprintf(...) ;\n",
    "\n",
    "void quick_sort(elem_t* first, elem_t* last) {\n",
    "    if (last - first < 2) {\n",
    "        return;\n",
    "    }\n",
    "\n",
    "    // for (elem_t* i = first; i != last; ++i) {\n",
    "    //     fprintf(stderr, \"%d \", *i);\n",
    "    // }\n",
    "    // fprintf(stderr, \"\\n\");\n",
    "\n",
    "    elem_t pivot = *(first + (last - first) / 2);\n",
    "    // fprintf(stderr, \"pivot = %d\\n\", pivot);\n",
    "\n",
    "    elem_t* L = first;\n",
    "    elem_t* R = last - 1;\n",
    "\n",
    "    while (L <= R) {\n",
    "        while (*L < pivot && L <= R) ++L;\n",
    "        while (*R > pivot && L <= R) --R;\n",
    "        if (L <= R) {\n",
    "            elem_t tmp = *L;\n",
    "            *L = *R;\n",
    "            *R = tmp;\n",
    "            ++L;\n",
    "            --R;\n",
    "        }\n",
    "    }\n",
    "\n",
    "\n",
    "    // fprintf(stderr, \"sub sort L %d-%d\\n\", 0, R + 1 - first);\n",
    "    // for (elem_t* i = first; i != R + 1; ++i) {\n",
    "    //     fprintf(stderr, \"%d \", *i);\n",
    "    // }\n",
    "    // fprintf(stderr, \"\\n\");\n",
    "    quick_sort(first, R + 1);\n",
    "    // fprintf(stderr, \"sub sort R %d-%d\\n\", L - first, last - first);\n",
    "    // for (elem_t* i = L; i != last; ++i) {\n",
    "    //     fprintf(stderr, \"%d \", *i);\n",
    "    // }\n",
    "    // fprintf(stderr, \"\\n\");\n",
    "    quick_sort(L, last);\n",
    "}\n",
    "\n",
    "#ifdef DO_TEST\n",
    "\n",
    "uint64_t get_ms() {\n",
    "    struct timespec spec;\n",
    "    clock_gettime(CLOCK_REALTIME, &spec);\n",
    "    return (uint64_t)spec.tv_sec * 1000 + spec.tv_nsec / 1.0e6;\n",
    "}\n",
    "\n",
    "void test() {\n",
    "    {\n",
    "        int a[] = {3, 2, 1};\n",
    "        slow_sort(a, a + sizeof(a) / sizeof(int));\n",
    "        assert(a[0] == 1);\n",
    "        assert(a[1] == 2);\n",
    "        assert(a[2] == 3);\n",
    "    }\n",
    "    fprintf(stderr, \"success 1\\n\"); fflush(stderr);\n",
    "    {\n",
    "        int a[] = {3};\n",
    "        slow_sort(a, a + sizeof(a) / sizeof(int));\n",
    "        assert(a[0] == 3);\n",
    "    }\n",
    "    fprintf(stderr, \"success 2\\n\"); fflush(stderr);\n",
    "    {\n",
    "        int a[] = {1};\n",
    "        slow_sort(a, a);\n",
    "    }\n",
    "    fprintf(stderr, \"success 3\\n\"); fflush(stderr);\n",
    "    for (int counter = 0; counter < 1000; counter++) {\n",
    "        // fprintf(stderr, \"%d =================== \\n\", counter);\n",
    "        int n = 1 + rand() % 4;\n",
    "        int a[n];\n",
    "        for (int i = 0; i < n; ++i) {\n",
    "            a[i] = rand() % 10;\n",
    "        }\n",
    "        int b[n];\n",
    "        int c[n];\n",
    "        memcpy(b, a, n * sizeof(int));\n",
    "        memcpy(c, a, n * sizeof(int));\n",
    "\n",
    "        slow_sort(b, b + n);\n",
    "        quick_sort(c, c + n);\n",
    "\n",
    "        bool good = true;\n",
    "        for (int i = 0; i < n; ++i) {\n",
    "            if (b[i] != c[i]) {\n",
    "                good = false;\n",
    "            }\n",
    "        }\n",
    "        if (!good) {\n",
    "            printf(\"test: \");\n",
    "            for (int i = 0; i < n; ++i) printf(\"%d \", a[i]);\n",
    "            printf(\"\\n\");\n",
    "            printf(\"expected: \");\n",
    "            for (int i = 0; i < n; ++i) printf(\"%d \", b[i]);\n",
    "            printf(\"\\n\");\n",
    "            printf(\"actual: \");\n",
    "            for (int i = 0; i < n; ++i) printf(\"%d \", c[i]);\n",
    "            printf(\"\\n\");\n",
    "            break;\n",
    "        }\n",
    "    }\n",
    "    fprintf(stderr, \"success 4\\n\"); fflush(stderr);\n",
    "    {\n",
    "        int n = 1000000;\n",
    "        int* a = calloc(n, sizeof(int));\n",
    "        for (int i = 0; i < n; ++i) {\n",
    "            a[i] = rand() % n;\n",
    "        }\n",
    "        uint64_t start = get_ms();\n",
    "        quick_sort(a, a + n);\n",
    "        printf(\"Long sort: %\" PRIu64 \" ms\\n\", get_ms() - start);\n",
    "        for (int i = 0; i + 1 < n; ++i) {\n",
    "            assert(a[i] <= a[i + 1]);\n",
    "        }\n",
    "        free(a);\n",
    "    }\n",
    "\n",
    "    {\n",
    "        int n = 1000000;\n",
    "        int* a = calloc(n, sizeof(int));\n",
    "        for (int i = 0; i < n; ++i) {\n",
    "            a[i] = i;\n",
    "        }\n",
    "        uint64_t start = get_ms();\n",
    "        quick_sort(a, a + n);\n",
    "        printf(\"Already sorted long sort: %\" PRIu64 \" ms\\n\", get_ms() - start);\n",
    "        for (int i = 0; i + 1 < n; ++i) {\n",
    "            assert(a[i] <= a[i + 1]);\n",
    "        }\n",
    "        free(a);\n",
    "    }\n",
    "\n",
    "    {\n",
    "        int n = 1000000;\n",
    "        int* a = calloc(n, sizeof(int));\n",
    "        for (int i = 0; i < n; ++i) {\n",
    "            a[i] = 0;\n",
    "        }\n",
    "        uint64_t start = get_ms();\n",
    "        quick_sort(a, a + n);\n",
    "        printf(\"Zero long sort: %\" PRIu64 \" ms\\n\", get_ms() - start);\n",
    "        for (int i = 0; i + 1 < n; ++i) {\n",
    "            assert(a[i] <= a[i + 1]);\n",
    "        }\n",
    "        free(a);\n",
    "    }\n",
    "\n",
    "    {\n",
    "        int n = 1000000;\n",
    "        int* a = calloc(n, sizeof(int));\n",
    "        for (int i = 0; i < n; ++i) {\n",
    "            a[i] = n - i;\n",
    "        }\n",
    "        uint64_t start = get_ms();\n",
    "        quick_sort(a, a + n);\n",
    "        printf(\"Descending sorted long sort: %\" PRIu64 \" ms\\n\", get_ms() - start);\n",
    "        for (int i = 0; i + 1 < n; ++i) {\n",
    "            assert(a[i] <= a[i + 1]);\n",
    "        }\n",
    "        free(a);\n",
    "    }\n",
    "}\n",
    "#endif\n",
    "\n",
    "int main() {\n",
    "#ifdef DO_TEST\n",
    "    test();\n",
    "    return 0;\n",
    "#endif\n",
    "\n",
    "    int n;\n",
    "    scanf(\"%d\", &n);\n",
    "    int* a = calloc(n, sizeof(int));\n",
    "    for (int i = 0; i < n; ++i) {\n",
    "        scanf(\"%d\", &a[i]);\n",
    "    }\n",
    "    quick_sort(a, a + n);\n",
    "\n",
    "    for (int i = 0; i < n; ++i) {\n",
    "        printf(\"%d \", a[i]);\n",
    "    }\n",
    "    free(a);\n",
    "    return 0;\n",
    "}\n"
   ]
  },
  {
   "cell_type": "code",
   "execution_count": null,
   "metadata": {},
   "outputs": [],
   "source": []
  },
  {
   "cell_type": "code",
   "execution_count": null,
   "metadata": {},
   "outputs": [],
   "source": []
  },
  {
   "cell_type": "code",
   "execution_count": 9,
   "metadata": {},
   "outputs": [
    {
     "data": {
      "text/markdown": [
       "Run: `clang -std=c99 -Wall -Werror -fsanitize=address main.c -o a.exe`"
      ],
      "text/plain": [
       "<IPython.core.display.Markdown object>"
      ]
     },
     "metadata": {},
     "output_type": "display_data"
    },
    {
     "data": {
      "text/markdown": [
       "Run: `./a.exe`"
      ],
      "text/plain": [
       "<IPython.core.display.Markdown object>"
      ]
     },
     "metadata": {},
     "output_type": "display_data"
    },
    {
     "name": "stdout",
     "output_type": "stream",
     "text": [
      "a = 42\r\n",
      "a++ = 42\r\n",
      "a = 43\r\n",
      "b = 42\r\n",
      "++b = 43\r\n",
      "b = 43\r\n"
     ]
    }
   ],
   "source": [
    "%%cpp main.c\n",
    "%run clang -std=c99 -Wall -Werror -fsanitize=address main.c -o a.exe\n",
    "%run ./a.exe \n",
    "\n",
    "#include <stdio.h>\n",
    "#include <string.h>\n",
    "#include <assert.h>\n",
    "\n",
    "#define print_int(x) printf(\"%s = %d\\n\", #x, (x))\n",
    "\n",
    "int main() {\n",
    "    int a = 42;\n",
    "    print_int(a);\n",
    "    print_int(a++);\n",
    "    print_int(a);\n",
    "    \n",
    "    int b = 42;\n",
    "    print_int(b);\n",
    "    print_int(++b);\n",
    "    print_int(b);\n",
    "}"
   ]
  },
  {
   "cell_type": "code",
   "execution_count": 24,
   "metadata": {},
   "outputs": [
    {
     "data": {
      "text/markdown": [
       "Run: `clang -std=c99 -Wall -Werror -fsanitize=address main.c -o a.exe`"
      ],
      "text/plain": [
       "<IPython.core.display.Markdown object>"
      ]
     },
     "metadata": {},
     "output_type": "display_data"
    },
    {
     "data": {
      "text/markdown": [
       "Run: `./a.exe`"
      ],
      "text/plain": [
       "<IPython.core.display.Markdown object>"
      ]
     },
     "metadata": {},
     "output_type": "display_data"
    },
    {
     "name": "stdout",
     "output_type": "stream",
     "text": [
      "1AGQ96\r\n"
     ]
    }
   ],
   "source": [
    "%%cpp main.c\n",
    "%run clang -std=c99 -Wall -Werror -fsanitize=address main.c -o a.exe\n",
    "%run ./a.exe \n",
    "\n",
    "#include <stdio.h>\n",
    "#include <string.h>\n",
    "#include <assert.h>\n",
    "\n",
    "#define print_int(x) printf(\"%s = %d\\n\", #x, (x))\n",
    "\n",
    "int main() {\n",
    "    int d[] = {1, 10, 16, 26, 9, 6};\n",
    "    for (int i = 0; i < sizeof(d) / sizeof(int); ++i) {\n",
    "        char c = (d[i] < 10) ? ('0' + d[i]) : ('A' + d[i] - 10);\n",
    "        printf(\"%c\", c);\n",
    "    }\n",
    "    printf(\"\\n\");\n",
    "}"
   ]
  },
  {
   "cell_type": "code",
   "execution_count": 34,
   "metadata": {},
   "outputs": [
    {
     "data": {
      "text/markdown": [
       "Run: `clang -std=c11 -Wall -Werror -fsanitize=address main.c -o a.exe`"
      ],
      "text/plain": [
       "<IPython.core.display.Markdown object>"
      ]
     },
     "metadata": {},
     "output_type": "display_data"
    },
    {
     "data": {
      "text/markdown": [
       "Run: `./a.exe`"
      ],
      "text/plain": [
       "<IPython.core.display.Markdown object>"
      ]
     },
     "metadata": {},
     "output_type": "display_data"
    },
    {
     "name": "stdout",
     "output_type": "stream",
     "text": [
      "^C\r\n"
     ]
    }
   ],
   "source": [
    "%%cpp main.c\n",
    "%run clang -std=c11 -Wall -Werror -fsanitize=address main.c -o a.exe\n",
    "%run ./a.exe \n",
    "\n",
    "#include <stdio.h>\n",
    "#include <stdlib.h>\n",
    "#include <string.h>\n",
    "#include <assert.h>\n",
    "\n",
    "\n",
    "int main() {\n",
    "//     int n;\n",
    "//     scanf(\"%d\", &n);\n",
    "//     int d[n];\n",
    "//     (void)d;\n",
    "\n",
    "    int* a = (int*)calloc(3, sizeof(int));\n",
    "    free(a);\n",
    "    return 0;\n",
    "}"
   ]
  },
  {
   "cell_type": "code",
   "execution_count": null,
   "metadata": {},
   "outputs": [],
   "source": []
  },
  {
   "cell_type": "code",
   "execution_count": null,
   "metadata": {},
   "outputs": [],
   "source": []
  },
  {
   "cell_type": "code",
   "execution_count": 53,
   "metadata": {},
   "outputs": [
    {
     "data": {
      "text/markdown": [
       "Run: `gcc --sanitize=address merge.c -o merge.exe`"
      ],
      "text/plain": [
       "<IPython.core.display.Markdown object>"
      ]
     },
     "metadata": {},
     "output_type": "display_data"
    },
    {
     "data": {
      "text/markdown": [
       "Run: `./merge.exe`"
      ],
      "text/plain": [
       "<IPython.core.display.Markdown object>"
      ]
     },
     "metadata": {},
     "output_type": "display_data"
    },
    {
     "name": "stdout",
     "output_type": "stream",
     "text": [
      "4\r\n",
      "40 50\r\n",
      "50 40\r\n"
     ]
    }
   ],
   "source": [
    "%%cpp merge.c\n",
    "%run gcc --sanitize=address merge.c -o merge.exe\n",
    "%run ./merge.exe\n",
    "\n",
    "#include <stdio.h>\n",
    "#include <string.h>\n",
    "#include <stdlib.h>\n",
    "\n",
    "#define swap(a, b) { __typeof__(a) c = (a); (a) = (b); (b) = (c); }\n",
    "\n",
    "#define mul(a, b) ((a) * (b))\n",
    "\n",
    "int main() {\n",
    "    printf(\"%d\\n\", mul(1 + 1, 1 + 1));\n",
    "    int a = 40, b = 50;\n",
    "    printf(\"%d %d\\n\", a, b);\n",
    "    swap(a, b);\n",
    "    printf(\"%d %d\\n\", a, b);\n",
    "    return 0;\n",
    "}"
   ]
  },
  {
   "cell_type": "code",
   "execution_count": 56,
   "metadata": {},
   "outputs": [
    {
     "data": {
      "text/markdown": [
       "Run: `gcc --sanitize=address merge.c -o merge.exe`"
      ],
      "text/plain": [
       "<IPython.core.display.Markdown object>"
      ]
     },
     "metadata": {},
     "output_type": "display_data"
    },
    {
     "data": {
      "text/markdown": [
       "Run: `./merge.exe`"
      ],
      "text/plain": [
       "<IPython.core.display.Markdown object>"
      ]
     },
     "metadata": {},
     "output_type": "display_data"
    },
    {
     "name": "stdout",
     "output_type": "stream",
     "text": [
      "1.000000\r\n",
      "2.000000\r\n",
      "2.750000\r\n",
      "3.250000\r\n",
      "3.562500\r\n",
      "3.750000\r\n",
      "3.859375\r\n",
      "3.921875\r\n",
      "3.957031\r\n"
     ]
    }
   ],
   "source": [
    "%%cpp merge.c\n",
    "%run gcc --sanitize=address merge.c -o merge.exe\n",
    "%run ./merge.exe\n",
    "\n",
    "#include <stdio.h>\n",
    "#include <string.h>\n",
    "#include <stdlib.h>\n",
    "\n",
    "#define swap(a, b) { __typeof__(a) c = (a); (a) = (b); (b) = (c); }\n",
    "\n",
    "#define mul(a, b) ((a) * (b))\n",
    "\n",
    "int main() {\n",
    "    //n (1 + 2 / 2 + 3 / 4 + 4 / 8 + 5 / 16)\n",
    "    double c = 0;\n",
    "    double mul = 1.0;\n",
    "    for (int i = 1; i < 10; ++i) {\n",
    "        c += i / mul;\n",
    "        mul *= 2;\n",
    "        printf(\"%lf\\n\", c);\n",
    "    }\n",
    "    return 0;\n",
    "}"
   ]
  },
  {
   "cell_type": "code",
   "execution_count": null,
   "metadata": {},
   "outputs": [],
   "source": []
  },
  {
   "cell_type": "markdown",
   "metadata": {},
   "source": [
    "# Задача на код на Си и совсем капельку на алгоритмы"
   ]
  },
  {
   "cell_type": "code",
   "execution_count": 97,
   "metadata": {},
   "outputs": [
    {
     "data": {
      "text/markdown": [
       "Run: `gcc -fsanitize=address task.c -o task.exe`"
      ],
      "text/plain": [
       "<IPython.core.display.Markdown object>"
      ]
     },
     "metadata": {},
     "output_type": "display_data"
    },
    {
     "data": {
      "text/markdown": [
       "Run: `./task.exe`"
      ],
      "text/plain": [
       "<IPython.core.display.Markdown object>"
      ]
     },
     "metadata": {},
     "output_type": "display_data"
    },
    {
     "name": "stdout",
     "output_type": "stream",
     "text": [
      "SUCCESS\r\n"
     ]
    }
   ],
   "source": [
    "%%cpp task.c\n",
    "%run gcc -fsanitize=address task.c -o task.exe\n",
    "%run ./task.exe\n",
    "\n",
    "#include <stdio.h>\n",
    "#include <string.h>\n",
    "#include <assert.h>\n",
    "\n",
    "\n",
    "typedef struct {\n",
    "    int x, y;\n",
    "} point_t;\n",
    "\n",
    "// 1 пункт\n",
    "int compare_struct(point_t* a, point_t* b) {\n",
    "    // напишите компаратор такой же, какой нужен для qsort\n",
    "    // используйте man qsort в консоли или поисковике\n",
    "    if (a->x != b->x) \n",
    "        return a->x - b->x;\n",
    "    return a->y - b->y;\n",
    "}\n",
    "\n",
    "// 2 пункт\n",
    "void quadratic_sort(\n",
    "    void* base, size_t array_size, size_t elem_size, \n",
    "    int (*comparator)(const void *, const void *)\n",
    ") {\n",
    "    // напишите квадратичную сортировку\n",
    "    char* base_c = (char*)base;\n",
    "    char tmp_buff[elem_size];\n",
    "    for (int i = 0; i < array_size; ++i) {\n",
    "        for (int j = i + 1; j < array_size; ++j) {\n",
    "            char* a = base + i * elem_size;\n",
    "            char* b = base + j * elem_size;\n",
    "            if (comparator(a, b) > 0) {\n",
    "                memcpy(tmp_buff, a, elem_size);\n",
    "                memcpy(a, b, elem_size);\n",
    "                memcpy(b, tmp_buff, elem_size);\n",
    "            }\n",
    "        }\n",
    "    }\n",
    "}\n",
    "\n",
    "// 3 пункт\n",
    "void do_test_1() {\n",
    "    // напишите тесты на quadratic_sort с использованием структуры point_t\n",
    "    {\n",
    "        point_t arr[2] = {{3, 4}, {1, 2}};\n",
    "        quadratic_sort(arr, sizeof(arr) / sizeof(point_t), sizeof(point_t), \n",
    "                       (int (*)(const void *, const void *))compare_struct);\n",
    "        assert(arr[0].x == 1);\n",
    "        assert(arr[0].y == 2);\n",
    "        assert(arr[1].x == 3);\n",
    "        assert(arr[1].y == 4);\n",
    "    }\n",
    "    {\n",
    "        point_t arr[] = {{3, 4}, {1, 2}, {-1, -3}, {2, 10}, {-1, -5}};\n",
    "        quadratic_sort(arr, sizeof(arr) / sizeof(point_t), sizeof(point_t), \n",
    "                       (int (*)(const void *, const void *))compare_struct);\n",
    "        assert(arr[0].x == -1);\n",
    "        assert(arr[0].y == -5);\n",
    "        assert(arr[1].x == -1);\n",
    "        assert(arr[1].y == -3);\n",
    "        assert(arr[2].x == 1);\n",
    "        assert(arr[2].y == 2);\n",
    "        \n",
    "        assert(arr[3].x == 2);\n",
    "        assert(arr[3].y == 10);\n",
    "        \n",
    "        assert(arr[4].x == 3);\n",
    "        assert(arr[4].y == 4);\n",
    "    }\n",
    "}\n",
    "\n",
    "\n",
    "// 4 пункт\n",
    "// напишите макрос, который будет создавать функцию сортировки для стандартных типов\n",
    "// (использовать обычный < для сравнения)\n",
    "// при этом делегировать сортировку функции quadratic_sort\n",
    "#define DECLARE_SORT_FUNCTION_IMPL_2(name, type, tag)                                     \\\n",
    "    int compare_##tag(type* a, type* b) {                                                 \\\n",
    "        return (*a < *b) ? -1 : ((*a > *b) ? 1 : 0);                                      \\\n",
    "    }                                                                                     \\\n",
    "    void name(type* first, type* last) {                                                  \\\n",
    "        quadratic_sort(first, last - first, sizeof(*first),                               \\\n",
    "            (int (*)(const void *, const void *))compare_##tag);                          \\\n",
    "    }\n",
    "\n",
    "#define DECLARE_SORT_FUNCTION_IMPL(name, type, tag) DECLARE_SORT_FUNCTION_IMPL_2(name, type, tag)\n",
    "#define DECLARE_SORT_FUNCTION(name, type) DECLARE_SORT_FUNCTION_IMPL(name, type, __LINE__)\n",
    "\n",
    "\n",
    "DECLARE_SORT_FUNCTION(sort_int, int);\n",
    "DECLARE_SORT_FUNCTION(sort_double, double);\n",
    "\n",
    "// 5 пункт\n",
    "void do_test_2() {\n",
    "    // протестируйте, что функция sort_int правильно работает\n",
    "    {\n",
    "        int a[] = {1, 3, 2, 4};\n",
    "        sort_int(a, a + sizeof(a) / sizeof(int));\n",
    "        assert(a[0] == 1);\n",
    "        assert(a[1] == 2);\n",
    "        assert(a[2] == 3);\n",
    "        assert(a[3] == 4);\n",
    "    }\n",
    "    {\n",
    "        int a[] = {3, 1};\n",
    "        sort_int(a, a + sizeof(a) / sizeof(int));\n",
    "        assert(a[0] == 1);\n",
    "        assert(a[1] == 3);\n",
    "    }\n",
    "    \n",
    "    {\n",
    "        double a[] = {1, 3, 2, 4};\n",
    "        sort_double(a, a + sizeof(a) / sizeof(double));\n",
    "        assert(a[0] == 1);\n",
    "        assert(a[1] == 2);\n",
    "        assert(a[2] == 3);\n",
    "        assert(a[3] == 4);\n",
    "    }\n",
    "    {\n",
    "        double a[] = {3, 1};\n",
    "        sort_double(a, a + sizeof(a) / sizeof(double));\n",
    "        assert(a[0] == 1);\n",
    "        assert(a[1] == 3);\n",
    "    }\n",
    "}\n",
    "\n",
    "\n",
    "int main() {\n",
    "    //do_test_1();\n",
    "    do_test_2();\n",
    "    fprintf(stderr, \"SUCCESS\\n\");\n",
    "    return 0;\n",
    "}\n",
    "\n",
    "\n",
    "\n",
    "\n",
    "\n"
   ]
  },
  {
   "cell_type": "code",
   "execution_count": 92,
   "metadata": {},
   "outputs": [
    {
     "name": "stdout",
     "output_type": "stream",
     "text": [
      "QSORT(3)                   Linux Programmer's Manual                  QSORT(3)\r\n",
      "\r\n",
      "N\bNA\bAM\bME\bE\r\n",
      "       qsort, qsort_r - sort an array\r\n",
      "\r\n",
      "S\bSY\bYN\bNO\bOP\bPS\bSI\bIS\bS\r\n",
      "       #\b#i\bin\bnc\bcl\blu\bud\bde\be <\b<s\bst\btd\bdl\bli\bib\bb.\b.h\bh>\b>\r\n",
      "\r\n",
      "       v\bvo\boi\bid\bd q\bqs\bso\bor\brt\bt(\b(v\bvo\boi\bid\bd *\b*_\bb_\ba_\bs_\be,\b, s\bsi\biz\bze\be_\b_t\bt _\bn_\bm_\be_\bm_\bb,\b, s\bsi\biz\bze\be_\b_t\bt _\bs_\bi_\bz_\be,\b,\r\n",
      "                  i\bin\bnt\bt (\b(*\b*_\bc_\bo_\bm_\bp_\ba_\br)\b)(\b(c\bco\bon\bns\bst\bt v\bvo\boi\bid\bd *\b*,\b, c\bco\bon\bns\bst\bt v\bvo\boi\bid\bd *\b*)\b))\b);\b;\r\n",
      "\r\n",
      "       v\bvo\boi\bid\bd q\bqs\bso\bor\brt\bt_\b_r\br(\b(v\bvo\boi\bid\bd *\b*_\bb_\ba_\bs_\be,\b, s\bsi\biz\bze\be_\b_t\bt _\bn_\bm_\be_\bm_\bb,\b, s\bsi\biz\bze\be_\b_t\bt _\bs_\bi_\bz_\be,\b,\r\n",
      "                  i\bin\bnt\bt (\b(*\b*_\bc_\bo_\bm_\bp_\ba_\br)\b)(\b(c\bco\bon\bns\bst\bt v\bvo\boi\bid\bd *\b*,\b, c\bco\bon\bns\bst\bt v\bvo\boi\bid\bd *\b*,\b, v\bvo\boi\bid\bd *\b*)\b),\b,\r\n",
      "                  v\bvo\boi\bid\bd *\b*_\ba_\br_\bg)\b);\b;\r\n",
      "\r\n",
      "   Feature Test Macro Requirements for glibc (see f\bfe\bea\bat\btu\bur\bre\be_\b_t\bte\bes\bst\bt_\b_m\bma\bac\bcr\bro\bos\bs(7)):\r\n",
      "\r\n",
      "       q\bqs\bso\bor\brt\bt_\b_r\br(): _GNU_SOURCE\r\n",
      "\r\n",
      "D\bDE\bES\bSC\bCR\bRI\bIP\bPT\bTI\bIO\bON\bN\r\n",
      "       The  q\bqs\bso\bor\brt\bt()  function sorts an array with _\bn_\bm_\be_\bm_\bb elements of size _\bs_\bi_\bz_\be.\r\n",
      "       The _\bb_\ba_\bs_\be argument points to the start of the array.\r\n",
      "\r\n",
      "       The contents of the array are sorted in ascending order according to  a\r\n",
      "       comparison  function pointed to by _\bc_\bo_\bm_\bp_\ba_\br, which is called with two ar‐\r\n",
      "       guments that point to the objects being compared.\r\n",
      "\r\n",
      "       The comparison function must return an integer less than, equal to,  or\r\n",
      "       greater  than  zero  if  the first argument is considered to be respec‐\r\n",
      "       tively less than, equal to, or greater than the second.  If two members\r\n",
      "       compare as equal, their order in the sorted array is undefined.\r\n",
      "\r\n",
      "       The q\bqs\bso\bor\brt\bt_\b_r\br() function is identical to q\bqs\bso\bor\brt\bt() except that the compari‐\r\n",
      "       son function _\bc_\bo_\bm_\bp_\ba_\br takes a third argument.  A pointer is passed to the\r\n",
      "       comparison function via _\ba_\br_\bg.  In this way, the comparison function does\r\n",
      "       not need to use global variables to pass through  arbitrary  arguments,\r\n",
      "       and is therefore reentrant and safe to use in threads.\r\n",
      "\r\n",
      "R\bRE\bET\bTU\bUR\bRN\bN V\bVA\bAL\bLU\bUE\bE\r\n",
      "       The q\bqs\bso\bor\brt\bt() and q\bqs\bso\bor\brt\bt_\b_r\br() functions return no value.\r\n",
      "\r\n",
      "V\bVE\bER\bRS\bSI\bIO\bON\bNS\bS\r\n",
      "       q\bqs\bso\bor\brt\bt_\b_r\br() was added to glibc in version 2.8.\r\n",
      "\r\n",
      "A\bAT\bTT\bTR\bRI\bIB\bBU\bUT\bTE\bES\bS\r\n",
      "       For  an  explanation  of  the  terms  used  in  this  section,  see a\bat\bt‐\b‐\r\n",
      "       t\btr\bri\bib\bbu\but\bte\bes\bs(7).\r\n",
      "\r\n",
      "       ┌───────────────────┬───────────────┬─────────┐\r\n",
      "       │I\bIn\bnt\bte\ber\brf\bfa\bac\bce\be          │ A\bAt\btt\btr\bri\bib\bbu\but\bte\be     │ V\bVa\bal\blu\bue\be   │\r\n",
      "       ├───────────────────┼───────────────┼─────────┤\r\n",
      "       │q\bqs\bso\bor\brt\bt(), q\bqs\bso\bor\brt\bt_\b_r\br() │ Thread safety │ MT-Safe │\r\n",
      "       └───────────────────┴───────────────┴─────────┘\r\n",
      "\r\n",
      "C\bCO\bON\bNF\bFO\bOR\bRM\bMI\bIN\bNG\bG T\bTO\bO\r\n",
      "       q\bqs\bso\bor\brt\bt(): POSIX.1-2001, POSIX.1-2008, C89, C99, SVr4, 4.3BSD.\r\n",
      "\r\n",
      "N\bNO\bOT\bTE\bES\bS\r\n",
      "       To compare C strings, the comparison function can  call  s\bst\btr\brc\bcm\bmp\bp(3),  as\r\n",
      "       shown in the example below.\r\n",
      "\r\n",
      "E\bEX\bXA\bAM\bMP\bPL\bLE\bE\r\n",
      "       For one example of use, see the example under b\bbs\bse\bea\bar\brc\bch\bh(3).\r\n",
      "\r\n",
      "       Another example is the following program, which sorts the strings given\r\n",
      "       in its command-line arguments:\r\n",
      "\r\n",
      "       #include <stdio.h>\r\n",
      "       #include <stdlib.h>\r\n",
      "       #include <string.h>\r\n",
      "\r\n",
      "       static int\r\n",
      "       cmpstringp(const void *p1, const void *p2)\r\n",
      "       {\r\n",
      "           /* The actual arguments to this function are \"pointers to\r\n",
      "              pointers to char\", but strcmp(3) arguments are \"pointers\r\n",
      "              to char\", hence the following cast plus dereference */\r\n",
      "\r\n",
      "           return strcmp(* (char * const *) p1, * (char * const *) p2);\r\n",
      "       }\r\n",
      "\r\n",
      "       int\r\n",
      "       main(int argc, char *argv[])\r\n",
      "       {\r\n",
      "           int j;\r\n",
      "\r\n",
      "           if (argc < 2) {\r\n",
      "               fprintf(stderr, \"Usage: %s <string>...\\n\", argv[0]);\r\n",
      "               exit(EXIT_FAILURE);\r\n",
      "           }\r\n",
      "\r\n",
      "           qsort(&argv[1], argc - 1, sizeof(char *), cmpstringp);\r\n",
      "\r\n",
      "           for (j = 1; j < argc; j++)\r\n",
      "               puts(argv[j]);\r\n",
      "           exit(EXIT_SUCCESS);\r\n",
      "       }\r\n",
      "\r\n",
      "S\bSE\bEE\bE A\bAL\bLS\bSO\bO\r\n",
      "       s\bso\bor\brt\bt(1), a\bal\blp\bph\bha\bas\bso\bor\brt\bt(3), s\bst\btr\brc\bcm\bmp\bp(3), v\bve\ber\brs\bsi\bio\bon\bns\bso\bor\brt\bt(3)\r\n",
      "\r\n",
      "C\bCO\bOL\bLO\bOP\bPH\bHO\bON\bN\r\n",
      "       This page is part of release 5.05 of the Linux  _\bm_\ba_\bn_\b-_\bp_\ba_\bg_\be_\bs  project.   A\r\n",
      "       description  of  the project, information about reporting bugs, and the\r\n",
      "       latest    version    of    this    page,    can     be     found     at\r\n",
      "       https://www.kernel.org/doc/man-pages/.\r\n",
      "\r\n",
      "                                  2019-03-06                          QSORT(3)\r\n"
     ]
    }
   ],
   "source": [
    "!man qsort"
   ]
  },
  {
   "cell_type": "code",
   "execution_count": null,
   "metadata": {},
   "outputs": [],
   "source": []
  },
  {
   "cell_type": "code",
   "execution_count": null,
   "metadata": {},
   "outputs": [],
   "source": [
    "%%cpp merge.c\n",
    "%run gcc --sanitize=address merge.c -o merge.exe\n",
    "%run ./merge.exe\n",
    "\n",
    "#include <stdio.h>\n",
    "#include <string.h>\n",
    "#include <stdlib.h>\n",
    "\n",
    "\n",
    "typedef struct {\n",
    "    int sum;\n",
    "    int i, j;\n",
    "} result_t;\n",
    "\n",
    "int main() {\n",
    "    int a[], b[];\n",
    "    \n",
    "    int max_a = a[0];\n",
    "    int pos_i = 0;\n",
    "    \n",
    "    result_t result = {.sum = a[0] + b[0], .i = 0, .j = 0};\n",
    "        \n",
    "    for (int j = 0; i < N; ++j) {\n",
    "        if (a[i] > max_a) {\n",
    "            max_a = a[j];\n",
    "            pos_i = j;\n",
    "        }\n",
    "        result_t candidate = {.sum = max_a + b[j], .i = pos_i, .j = j};\n",
    "        if (candidate.sum > result.sum) {\n",
    "            result = candidate;\n",
    "        }\n",
    "    }\n",
    "    \n",
    "    print(\"%d %d %d\", result.sum, result.i, result.j);\n",
    "    \n",
    "    \n",
    "    \n",
    "    return 0;\n",
    "}"
   ]
  },
  {
   "cell_type": "code",
   "execution_count": null,
   "metadata": {},
   "outputs": [],
   "source": [
    "%%cpp merge.c\n",
    "%run gcc --sanitize=address merge.c -o merge.exe\n",
    "%run ./merge.exe\n",
    "\n",
    "#include <stdio.h>\n",
    "#include <string.h>\n",
    "#include <stdlib.h>\n",
    "\n",
    "#define SIZE\n",
    "\n",
    "\n",
    "int f(int* a)\n",
    "    \n",
    "int f(int** a)\n",
    "   \n",
    "    \n",
    "    \n",
    "int* very_very_bad_g(int n) {\n",
    "    int arr[n];\n",
    "    for (int i = 0; i < n; ++i) {\n",
    "        arr[i] = i * i;\n",
    "    }\n",
    "    return arr;\n",
    "}\n",
    "\n",
    "    \n",
    "int* g(int n) {\n",
    "    int* arr = calloc(n, sizeof(int));\n",
    "    for (int i = 0; i < n; ++i) {\n",
    "        arr[i] = i * i;\n",
    "    }\n",
    "    return arr;\n",
    "}\n",
    "\n",
    "void g(int n, int* arr) {\n",
    "    for (int i = 0; i < n; ++i) {\n",
    "        arr[i] = i * i;\n",
    "    }\n",
    "}\n",
    "\n",
    "int main() {\n",
    "    N x M\n",
    "    \n",
    "    int* a = calloc(N * M, sizeof(int));\n",
    "    \n",
    "    // NxM: 3x2\n",
    "    // 12\n",
    "    // 23\n",
    "    // 45\n",
    "    \n",
    "    0 <= i < N\n",
    "    0 <= j < M\n",
    "    a[i][j] -> a[i * M + j] // max (N - 1) * M + (M - 1) = N * M - 1\n",
    "    free(a);\n",
    "\n",
    "    \n",
    "    int** a = calloc(N, sizeof(int*));\n",
    "    for (int i = 0; i < N; ++i) {\n",
    "        a[i] = calloc(M, sizeof(int));\n",
    "    }\n",
    "    a[i][j]\n",
    "    \n",
    "    for (int i = 0; i < N; ++i) {\n",
    "        free(a[i]);\n",
    "    }\n",
    "    free(a);\n",
    "    \n",
    "    \n",
    "    int* a = calloc(N, sizeof(int));\n",
    "    ...\n",
    "    int* b = calloc(N, sizeof(int));\n",
    "    for (int i = 0; i < N; ++i) {\n",
    "        a[i] = b[i];\n",
    "    }\n",
    "    memcpy(a, b, N * sizeof(int));\n",
    "    free(a);\n",
    "    free(b);\n",
    "    \n",
    "    \n",
    "    return 0;\n",
    "}\n"
   ]
  },
  {
   "cell_type": "code",
   "execution_count": null,
   "metadata": {},
   "outputs": [],
   "source": []
  },
  {
   "cell_type": "code",
   "execution_count": null,
   "metadata": {},
   "outputs": [],
   "source": [
    "int x = (y*z)%"
   ]
  },
  {
   "cell_type": "code",
   "execution_count": 17,
   "metadata": {
    "scrolled": true
   },
   "outputs": [
    {
     "data": {
      "text/markdown": [
       "Run: `gcc --sanitize=address merge.c -o merge.exe`"
      ],
      "text/plain": [
       "<IPython.core.display.Markdown object>"
      ]
     },
     "metadata": {},
     "output_type": "display_data"
    },
    {
     "data": {
      "text/markdown": [
       "Run: `./merge.exe`"
      ],
      "text/plain": [
       "<IPython.core.display.Markdown object>"
      ]
     },
     "metadata": {},
     "output_type": "display_data"
    }
   ],
   "source": [
    "%%cpp merge.c\n",
    "%run gcc --sanitize=address merge.c -o merge.exe\n",
    "%run ./merge.exe\n",
    "\n",
    "#include <stdio.h>\n",
    "#include <string.h>\n",
    "#include <stdlib.h>\n",
    "\n",
    "int f() {\n",
    "    return 1;\n",
    "}\n",
    "\n",
    "typedef struct {} struct_t;\n",
    "\n",
    "int main() {\n",
    "    int a = 1134234243;\n",
    "    int b = 134523432;\n",
    "    ((int64_t)a * (int64_t)b);\n",
    "   \n",
    "    \n",
    "    return 0;\n",
    "}"
   ]
  },
  {
   "cell_type": "markdown",
   "metadata": {},
   "source": [
    "$$sum_{i \\in 0..N} (10^i \\cdot a_i)$$"
   ]
  },
  {
   "cell_type": "code",
   "execution_count": 46,
   "metadata": {},
   "outputs": [
    {
     "data": {
      "text/markdown": [
       "Run: `gcc -Wall -Werror --sanitize=address merge.c -o merge.exe`"
      ],
      "text/plain": [
       "<IPython.core.display.Markdown object>"
      ]
     },
     "metadata": {},
     "output_type": "display_data"
    },
    {
     "data": {
      "text/markdown": [
       "Run: `./merge.exe`"
      ],
      "text/plain": [
       "<IPython.core.display.Markdown object>"
      ]
     },
     "metadata": {},
     "output_type": "display_data"
    },
    {
     "name": "stdout",
     "output_type": "stream",
     "text": [
      "999999999999999999\r\n",
      "999999999999999999\r\n",
      "1999999999999999998\r\n",
      "181818181818181818\r\n"
     ]
    }
   ],
   "source": [
    "%%cpp merge.c\n",
    "%run gcc -Wall -Werror --sanitize=address merge.c -o merge.exe\n",
    "%run ./merge.exe\n",
    "\n",
    "#include <stdio.h>\n",
    "#include <string.h>\n",
    "#include <stdlib.h>\n",
    "\n",
    "#define MODULE 10\n",
    "\n",
    "typedef struct {\n",
    "    int len;\n",
    "    int* digits;\n",
    "} big_number_t;\n",
    "\n",
    "big_number_t to_big_number(char* s) {\n",
    "    // \"1234\" aka {'1', '2', '3', '4'}\n",
    "    // ->\n",
    "    // {4, 3, 2, 1}\n",
    "    // real value = 4 * 10**0 + 3 * 10**1 + 2 * 10**2 + 1 * 10**3\n",
    "    big_number_t result;\n",
    "    result.len = strlen(s);\n",
    "    result.digits = calloc(result.len, sizeof(int));\n",
    "    for (int i = 0; i < result.len; ++i) {\n",
    "        result.digits[i] = s[result.len - 1 - i] - '0'; // '0'..'9' - '0' ~ 0..9\n",
    "    }\n",
    "    return result;\n",
    "}\n",
    "\n",
    "void destroy_big_number(big_number_t n) {\n",
    "    free(n.digits);\n",
    "    n.digits = NULL;\n",
    "}\n",
    "\n",
    "big_number_t add_big_number(big_number_t a, big_number_t b) {\n",
    "    if (a.len < b.len) {\n",
    "        return add_big_number(b, a);\n",
    "    }\n",
    "    big_number_t c;\n",
    "    c.len = a.len + 1;\n",
    "    c.digits = calloc(c.len, sizeof(int));\n",
    "    for (int i = 0; i < b.len; ++i) {\n",
    "        c.digits[i] += a.digits[i] + b.digits[i];\n",
    "        c.digits[i + 1] += c.digits[i] / MODULE;\n",
    "        c.digits[i] %= MODULE;\n",
    "    }\n",
    "    for (int i = b.len; i < a.len; ++i) {\n",
    "        c.digits[i] += a.digits[i];\n",
    "        c.digits[i + 1] += c.digits[i] / MODULE;\n",
    "        c.digits[i] %= MODULE;\n",
    "    }\n",
    "    while (c.len && c.digits[c.len - 1] == 0) {\n",
    "        --c.len;\n",
    "    }\n",
    "    return c;\n",
    "}\n",
    "\n",
    "big_number_t mul_big_number(big_number_t a, big_number_t b) {\n",
    "    big_number_t c;\n",
    "    c.len = a.len + b.len;\n",
    "    c.digits = calloc(c.len, sizeof(int));\n",
    "    for (int i = 0; i < a.len; ++i) {      \n",
    "        for (int j = 0; j < b.len; ++j) {\n",
    "            c.digits[i + j] += a.digits[i] * b.digits[j];\n",
    "        }\n",
    "    }\n",
    "    for (int i = 0; i + 1 < c.len; ++i) {\n",
    "        c.digits[i + 1] += c.digits[i] / MODULE;\n",
    "        c.digits[i] %= MODULE;\n",
    "    }\n",
    "    while (c.len && c.digits[c.len - 1] == 0) {\n",
    "        --c.len;\n",
    "    }\n",
    "    return c;\n",
    "}\n",
    "\n",
    "big_number_t div_small_big_number(big_number_t a, int b, int* remainder) {\n",
    "    big_number_t c;\n",
    "    c.len = a.len;\n",
    "    c.digits = calloc(c.len, sizeof(int));\n",
    "    int r = 0;\n",
    "    for (int i = a.len - 1; i >= 0; --i) {\n",
    "        int cur = r * MODULE + a.digits[i];\n",
    "        c.digits[i] = cur / b;\n",
    "        r = cur % b;\n",
    "    }\n",
    "    if (remainder) {\n",
    "        *remainder = r;\n",
    "    }\n",
    "    while (c.len && c.digits[c.len - 1] == 0) {\n",
    "        --c.len;\n",
    "    }\n",
    "    return c;\n",
    "}\n",
    "\n",
    "void print_big_number(big_number_t n) {\n",
    "    for (int i = n.len - 1; i >= 0; --i) {\n",
    "        printf(\"%c\", '0' + n.digits[i]);\n",
    "    }\n",
    "}\n",
    "\n",
    "\n",
    "int main() {\n",
    "    char* a = \"999999999999999999\";\n",
    "    char* b = \"999999999999999999\";\n",
    "    big_number_t a_n = to_big_number(a);\n",
    "    big_number_t b_n = to_big_number(b);\n",
    "    big_number_t c_n = add_big_number(a_n, b_n);\n",
    "    big_number_t d_n = div_small_big_number(c_n, 11, NULL);\n",
    "    print_big_number(a_n); printf(\"\\n\");\n",
    "    print_big_number(b_n); printf(\"\\n\");\n",
    "    print_big_number(c_n); printf(\"\\n\");\n",
    "    print_big_number(d_n); printf(\"\\n\");\n",
    "    \n",
    "    destroy_big_number(a_n); \n",
    "    destroy_big_number(c_n); \n",
    "    destroy_big_number(b_n); \n",
    "    destroy_big_number(d_n); \n",
    "    \n",
    "    return 0;\n",
    "}"
   ]
  },
  {
   "cell_type": "code",
   "execution_count": null,
   "metadata": {},
   "outputs": [],
   "source": []
  },
  {
   "cell_type": "code",
   "execution_count": 17,
   "metadata": {},
   "outputs": [
    {
     "name": "stderr",
     "output_type": "stream",
     "text": [
      "UsageError: Cell magic `%%sql` not found.\n"
     ]
    }
   ],
   "source": [
    "%%sql\n",
    "SELECT a from B;"
   ]
  },
  {
   "cell_type": "code",
   "execution_count": null,
   "metadata": {},
   "outputs": [],
   "source": []
  }
 ],
 "metadata": {
  "kernelspec": {
   "display_name": "Python 3",
   "language": "python",
   "name": "python3"
  },
  "language_info": {
   "codemirror_mode": {
    "name": "ipython",
    "version": 3
   },
   "file_extension": ".py",
   "mimetype": "text/x-python",
   "name": "python",
   "nbconvert_exporter": "python",
   "pygments_lexer": "ipython3",
   "version": "3.8.5"
  }
 },
 "nbformat": 4,
 "nbformat_minor": 2
}
