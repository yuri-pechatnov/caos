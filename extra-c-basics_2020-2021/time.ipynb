{
 "cells": [
  {
   "cell_type": "code",
   "execution_count": 1,
   "metadata": {},
   "outputs": [
    {
     "data": {
      "application/javascript": [
       "// setup cpp code highlighting\n",
       "IPython.CodeCell.options_default.highlight_modes[\"text/x-c++src\"] = {'reg':[/^%%cpp/]} ;"
      ],
      "text/plain": [
       "<IPython.core.display.Javascript object>"
      ]
     },
     "metadata": {},
     "output_type": "display_data"
    },
    {
     "data": {
      "text/html": [
       "<!-- YANDEX_METRICA_BEGIN -->\n",
       "    <script type=\"text/javascript\" >\n",
       "       (function(m,e,t,r,i,k,a){m[i]=m[i]||function(){(m[i].a=m[i].a||[]).push(arguments)};\n",
       "       m[i].l=1*new Date();k=e.createElement(t),a=e.getElementsByTagName(t)[0],k.async=1,k.src=r,a.parentNode.insertBefore(k,a)})\n",
       "       (window, document, \"script\", \"https://mc.yandex.ru/metrika/tag.js\", \"ym\");\n",
       "\n",
       "       ym(59260609, \"init\", {\n",
       "            clickmap:true,\n",
       "            trackLinks:true,\n",
       "            accurateTrackBounce:true\n",
       "       });\n",
       "    </script>\n",
       "    <noscript><div><img src=\"https://mc.yandex.ru/watch/59260609\" style=\"position:absolute; left:-9999px;\" alt=\"\" /></div></noscript>\n",
       "    <!-- YANDEX_METRICA_END -->"
      ],
      "text/plain": [
       "<IPython.core.display.HTML object>"
      ]
     },
     "metadata": {},
     "output_type": "display_data"
    },
    {
     "data": {
      "text/html": [
       "В этот ноутбук встроен код Яндекс Метрики для сбора статистики использований. Если вы не хотите, чтобы по вам собиралась статистика, исправьте: yandex_metrica_allowed = False<!-- MAGICS_SETUP_PRINTING_END -->"
      ],
      "text/plain": [
       "<IPython.core.display.HTML object>"
      ]
     },
     "metadata": {},
     "output_type": "display_data"
    }
   ],
   "source": [
    "# look at tools/set_up_magics.ipynb\n",
    "yandex_metrica_allowed = True ; get_ipython().run_cell('# one_liner_str\\n\\nget_ipython().run_cell_magic(\\'javascript\\', \\'\\', \\'// setup cpp code highlighting\\\\nIPython.CodeCell.options_default.highlight_modes[\"text/x-c++src\"] = {\\\\\\'reg\\\\\\':[/^%%cpp/]} ;\\')\\n\\n# creating magics\\nfrom IPython.core.magic import register_cell_magic, register_line_magic\\nfrom IPython.display import display, Markdown, HTML\\nimport argparse\\nfrom subprocess import Popen, PIPE\\nimport random\\nimport sys\\nimport os\\nimport re\\nimport signal\\nimport shutil\\nimport shlex\\nimport glob\\n\\n@register_cell_magic\\ndef save_file(args_str, cell, line_comment_start=\"#\"):\\n    parser = argparse.ArgumentParser()\\n    parser.add_argument(\"fname\")\\n    parser.add_argument(\"--ejudge-style\", action=\"store_true\")\\n    args = parser.parse_args(args_str.split())\\n    \\n    cell = cell if cell[-1] == \\'\\\\n\\' or args.no_eof_newline else cell + \"\\\\n\"\\n    cmds = []\\n    with open(args.fname, \"w\") as f:\\n        f.write(line_comment_start + \" %%cpp \" + args_str + \"\\\\n\")\\n        for line in cell.split(\"\\\\n\"):\\n            line_to_write = (line if not args.ejudge_style else line.rstrip()) + \"\\\\n\"\\n            if line.startswith(\"%\"):\\n                run_prefix = \"%run \"\\n                if line.startswith(run_prefix):\\n                    cmds.append(line[len(run_prefix):].strip())\\n                    f.write(line_comment_start + \" \" + line_to_write)\\n                    continue\\n                run_prefix = \"%# \"\\n                if line.startswith(run_prefix):\\n                    f.write(line_comment_start + \" \" + line_to_write)\\n                    continue\\n                raise Exception(\"Unknown %%save_file subcommand: \\'%s\\'\" % line)\\n            else:\\n                f.write(line_to_write)\\n        f.write(\"\" if not args.ejudge_style else line_comment_start + r\" line without \\\\n\")\\n    for cmd in cmds:\\n        display(Markdown(\"Run: `%s`\" % cmd))\\n        get_ipython().system(cmd)\\n\\n@register_cell_magic\\ndef cpp(fname, cell):\\n    save_file(fname, cell, \"//\")\\n\\n@register_cell_magic\\ndef asm(fname, cell):\\n    save_file(fname, cell, \"//\")\\n    \\n@register_cell_magic\\ndef makefile(fname, cell):\\n    assert not fname\\n    save_file(\"makefile\", cell.replace(\" \" * 4, \"\\\\t\"))\\n        \\n@register_line_magic\\ndef p(line):\\n    try:\\n        expr, comment = line.split(\" #\")\\n        display(Markdown(\"`{} = {}`  # {}\".format(expr.strip(), eval(expr), comment.strip())))\\n    except:\\n        display(Markdown(\"{} = {}\".format(line, eval(line))))\\n        \\ndef show_file(file, clear_at_begin=True, return_html_string=False):\\n    if clear_at_begin:\\n        get_ipython().system(\"truncate --size 0 \" + file)\\n    obj = file.replace(\\'.\\', \\'_\\').replace(\\'/\\', \\'_\\') + \"_obj\"\\n    html_string = \\'\\'\\'\\n        <!--MD_BEGIN_FILTER-->\\n        <script type=text/javascript>\\n        var entrance___OBJ__ = 0;\\n        var errors___OBJ__ = 0;\\n        function refresh__OBJ__()\\n        {\\n            entrance___OBJ__ -= 1;\\n            var elem = document.getElementById(\"__OBJ__\");\\n            if (elem) {\\n                var xmlhttp=new XMLHttpRequest();\\n                xmlhttp.onreadystatechange=function()\\n                {\\n                    var elem = document.getElementById(\"__OBJ__\");\\n                    console.log(!!elem, xmlhttp.readyState, xmlhttp.status, entrance___OBJ__);\\n                    if (elem && xmlhttp.readyState==4) {\\n                        if (xmlhttp.status==200)\\n                        {\\n                            errors___OBJ__ = 0;\\n                            if (!entrance___OBJ__) {\\n                                elem.innerText = xmlhttp.responseText;\\n                                entrance___OBJ__ += 1;\\n                                console.log(\"req\");\\n                                window.setTimeout(\"refresh__OBJ__()\", 300); \\n                            }\\n                            return xmlhttp.responseText;\\n                        } else {\\n                            errors___OBJ__ += 1;\\n                            if (errors___OBJ__ < 10 && !entrance___OBJ__) {\\n                                entrance___OBJ__ += 1;\\n                                console.log(\"req\");\\n                                window.setTimeout(\"refresh__OBJ__()\", 300); \\n                            }\\n                        }\\n                    }\\n                }\\n                xmlhttp.open(\"GET\", \"__FILE__\", true);\\n                xmlhttp.setRequestHeader(\"Cache-Control\", \"no-cache\");\\n                xmlhttp.send();     \\n            }\\n        }\\n        \\n        if (!entrance___OBJ__) {\\n            entrance___OBJ__ += 1;\\n            refresh__OBJ__(); \\n        }\\n        </script>\\n        \\n        <font color=\"white\"> <tt>\\n        <p id=\"__OBJ__\" style=\"font-size: 16px; border:3px #333333 solid; background: #333333; border-radius: 10px; padding: 10px;  \"></p>\\n        </tt> </font>\\n        <!--MD_END_FILTER-->\\n        <!--MD_FROM_FILE __FILE__ -->\\n        \\'\\'\\'.replace(\"__OBJ__\", obj).replace(\"__FILE__\", file)\\n    if return_html_string:\\n        return html_string\\n    display(HTML(html_string))\\n    \\nBASH_POPEN_TMP_DIR = \"./bash_popen_tmp\"\\n    \\ndef bash_popen_terminate_all():\\n    for p in globals().get(\"bash_popen_list\", []):\\n        print(\"Terminate pid=\" + str(p.pid), file=sys.stderr)\\n        p.terminate()\\n    globals()[\"bash_popen_list\"] = []\\n    if os.path.exists(BASH_POPEN_TMP_DIR):\\n        shutil.rmtree(BASH_POPEN_TMP_DIR)\\n\\nbash_popen_terminate_all()  \\n\\ndef bash_popen(cmd):\\n    if not os.path.exists(BASH_POPEN_TMP_DIR):\\n        os.mkdir(BASH_POPEN_TMP_DIR)\\n    h = os.path.join(BASH_POPEN_TMP_DIR, str(random.randint(0, 1e18)))\\n    stdout_file = h + \".out.html\"\\n    stderr_file = h + \".err.html\"\\n    run_log_file = h + \".fin.html\"\\n    \\n    stdout = open(stdout_file, \"wb\")\\n    stdout = open(stderr_file, \"wb\")\\n    \\n    html = \"\"\"\\n    <table width=\"100%\">\\n    <colgroup>\\n       <col span=\"1\" style=\"width: 70px;\">\\n       <col span=\"1\">\\n    </colgroup>    \\n    <tbody>\\n      <tr> <td><b>STDOUT</b></td> <td> {stdout} </td> </tr>\\n      <tr> <td><b>STDERR</b></td> <td> {stderr} </td> </tr>\\n      <tr> <td><b>RUN LOG</b></td> <td> {run_log} </td> </tr>\\n    </tbody>\\n    </table>\\n    \"\"\".format(\\n        stdout=show_file(stdout_file, return_html_string=True),\\n        stderr=show_file(stderr_file, return_html_string=True),\\n        run_log=show_file(run_log_file, return_html_string=True),\\n    )\\n    \\n    cmd = \"\"\"\\n        bash -c {cmd} &\\n        pid=$!\\n        echo \"Process started! pid=${{pid}}\" > {run_log_file}\\n        wait ${{pid}}\\n        echo \"Process finished! exit_code=$?\" >> {run_log_file}\\n    \"\"\".format(cmd=shlex.quote(cmd), run_log_file=run_log_file)\\n    # print(cmd)\\n    display(HTML(html))\\n    \\n    p = Popen([\"bash\", \"-c\", cmd], stdin=PIPE, stdout=stdout, stderr=stdout)\\n    \\n    bash_popen_list.append(p)\\n    return p\\n\\n\\n@register_line_magic\\ndef bash_async(line):\\n    bash_popen(line)\\n    \\n    \\ndef show_log_file(file, return_html_string=False):\\n    obj = file.replace(\\'.\\', \\'_\\').replace(\\'/\\', \\'_\\') + \"_obj\"\\n    html_string = \\'\\'\\'\\n        <!--MD_BEGIN_FILTER-->\\n        <script type=text/javascript>\\n        var entrance___OBJ__ = 0;\\n        var errors___OBJ__ = 0;\\n        function halt__OBJ__(elem, color)\\n        {\\n            elem.setAttribute(\"style\", \"font-size: 14px; background: \" + color + \"; padding: 10px; border: 3px; border-radius: 5px; color: white; \");                    \\n        }\\n        function refresh__OBJ__()\\n        {\\n            entrance___OBJ__ -= 1;\\n            if (entrance___OBJ__ < 0) {\\n                entrance___OBJ__ = 0;\\n            }\\n            var elem = document.getElementById(\"__OBJ__\");\\n            if (elem) {\\n                var xmlhttp=new XMLHttpRequest();\\n                xmlhttp.onreadystatechange=function()\\n                {\\n                    var elem = document.getElementById(\"__OBJ__\");\\n                    console.log(!!elem, xmlhttp.readyState, xmlhttp.status, entrance___OBJ__);\\n                    if (elem && xmlhttp.readyState==4) {\\n                        if (xmlhttp.status==200)\\n                        {\\n                            errors___OBJ__ = 0;\\n                            if (!entrance___OBJ__) {\\n                                if (elem.innerHTML != xmlhttp.responseText) {\\n                                    elem.innerHTML = xmlhttp.responseText;\\n                                }\\n                                if (elem.innerHTML.includes(\"Process finished.\")) {\\n                                    halt__OBJ__(elem, \"#333333\");\\n                                } else {\\n                                    entrance___OBJ__ += 1;\\n                                    console.log(\"req\");\\n                                    window.setTimeout(\"refresh__OBJ__()\", 300); \\n                                }\\n                            }\\n                            return xmlhttp.responseText;\\n                        } else {\\n                            errors___OBJ__ += 1;\\n                            if (!entrance___OBJ__) {\\n                                if (errors___OBJ__ < 6) {\\n                                    entrance___OBJ__ += 1;\\n                                    console.log(\"req\");\\n                                    window.setTimeout(\"refresh__OBJ__()\", 300); \\n                                } else {\\n                                    halt__OBJ__(elem, \"#994444\");\\n                                }\\n                            }\\n                        }\\n                    }\\n                }\\n                xmlhttp.open(\"GET\", \"__FILE__\", true);\\n                xmlhttp.setRequestHeader(\"Cache-Control\", \"no-cache\");\\n                xmlhttp.send();     \\n            }\\n        }\\n        \\n        if (!entrance___OBJ__) {\\n            entrance___OBJ__ += 1;\\n            refresh__OBJ__(); \\n        }\\n        </script>\\n\\n        <p id=\"__OBJ__\" style=\"font-size: 14px; background: #000000; padding: 10px; border: 3px; border-radius: 5px; color: white; \">\\n        </p>\\n        \\n        </font>\\n        <!--MD_END_FILTER-->\\n        <!--MD_FROM_FILE __FILE__.md -->\\n        \\'\\'\\'.replace(\"__OBJ__\", obj).replace(\"__FILE__\", file)\\n    if return_html_string:\\n        return html_string\\n    display(HTML(html_string))\\n\\n    \\nclass TInteractiveLauncher:\\n    tmp_path = \"./interactive_launcher_tmp\"\\n    def __init__(self, cmd):\\n        try:\\n            os.mkdir(TInteractiveLauncher.tmp_path)\\n        except:\\n            pass\\n        name = str(random.randint(0, 1e18))\\n        self.inq_path = os.path.join(TInteractiveLauncher.tmp_path, name + \".inq\")\\n        self.log_path = os.path.join(TInteractiveLauncher.tmp_path, name + \".log\")\\n        \\n        os.mkfifo(self.inq_path)\\n        open(self.log_path, \\'w\\').close()\\n        open(self.log_path + \".md\", \\'w\\').close()\\n\\n        self.pid = os.fork()\\n        if self.pid == -1:\\n            print(\"Error\")\\n        if self.pid == 0:\\n            exe_cands = glob.glob(\"../tools/launcher.py\") + glob.glob(\"../../tools/launcher.py\")\\n            assert(len(exe_cands) == 1)\\n            assert(os.execvp(\"python3\", [\"python3\", exe_cands[0], \"-l\", self.log_path, \"-i\", self.inq_path, \"-c\", cmd]) == 0)\\n        self.inq_f = open(self.inq_path, \"w\")\\n        interactive_launcher_opened_set.add(self.pid)\\n        show_log_file(self.log_path)\\n\\n    def write(self, s):\\n        s = s.encode()\\n        assert len(s) == os.write(self.inq_f.fileno(), s)\\n        \\n    def get_pid(self):\\n        n = 100\\n        for i in range(n):\\n            try:\\n                return int(re.findall(r\"PID = (\\\\d+)\", open(self.log_path).readline())[0])\\n            except:\\n                if i + 1 == n:\\n                    raise\\n                time.sleep(0.1)\\n        \\n    def input_queue_path(self):\\n        return self.inq_path\\n        \\n    def close(self):\\n        self.inq_f.close()\\n        os.waitpid(self.pid, 0)\\n        os.remove(self.inq_path)\\n        # os.remove(self.log_path)\\n        self.inq_path = None\\n        self.log_path = None \\n        interactive_launcher_opened_set.remove(self.pid)\\n        self.pid = None\\n        \\n    @staticmethod\\n    def terminate_all():\\n        if \"interactive_launcher_opened_set\" not in globals():\\n            globals()[\"interactive_launcher_opened_set\"] = set()\\n        global interactive_launcher_opened_set\\n        for pid in interactive_launcher_opened_set:\\n            print(\"Terminate pid=\" + str(pid), file=sys.stderr)\\n            os.kill(pid, signal.SIGKILL)\\n            os.waitpid(pid, 0)\\n        interactive_launcher_opened_set = set()\\n        if os.path.exists(TInteractiveLauncher.tmp_path):\\n            shutil.rmtree(TInteractiveLauncher.tmp_path)\\n    \\nTInteractiveLauncher.terminate_all()\\n   \\nyandex_metrica_allowed = bool(globals().get(\"yandex_metrica_allowed\", False))\\nif yandex_metrica_allowed:\\n    display(HTML(\\'\\'\\'<!-- YANDEX_METRICA_BEGIN -->\\n    <script type=\"text/javascript\" >\\n       (function(m,e,t,r,i,k,a){m[i]=m[i]||function(){(m[i].a=m[i].a||[]).push(arguments)};\\n       m[i].l=1*new Date();k=e.createElement(t),a=e.getElementsByTagName(t)[0],k.async=1,k.src=r,a.parentNode.insertBefore(k,a)})\\n       (window, document, \"script\", \"https://mc.yandex.ru/metrika/tag.js\", \"ym\");\\n\\n       ym(59260609, \"init\", {\\n            clickmap:true,\\n            trackLinks:true,\\n            accurateTrackBounce:true\\n       });\\n    </script>\\n    <noscript><div><img src=\"https://mc.yandex.ru/watch/59260609\" style=\"position:absolute; left:-9999px;\" alt=\"\" /></div></noscript>\\n    <!-- YANDEX_METRICA_END -->\\'\\'\\'))\\n\\ndef make_oneliner():\\n    html_text = \\'(\"В этот ноутбук встроен код Яндекс Метрики для сбора статистики использований. Если вы не хотите, чтобы по вам собиралась статистика, исправьте: yandex_metrica_allowed = False\" if yandex_metrica_allowed else \"\")\\'\\n    html_text += \\' + \"<\"\"!-- MAGICS_SETUP_PRINTING_END -->\"\\'\\n    return \\'\\'.join([\\n        \\'# look at tools/set_up_magics.ipynb\\\\n\\',\\n        \\'yandex_metrica_allowed = True ; get_ipython().run_cell(%s);\\' % repr(one_liner_str),\\n        \\'display(HTML(%s))\\' % html_text,\\n        \\' #\\'\\'MAGICS_SETUP_END\\'\\n    ])\\n       \\n\\n');display(HTML((\"В этот ноутбук встроен код Яндекс Метрики для сбора статистики использований. Если вы не хотите, чтобы по вам собиралась статистика, исправьте: yandex_metrica_allowed = False\" if yandex_metrica_allowed else \"\") + \"<\"\"!-- MAGICS_SETUP_PRINTING_END -->\")) #MAGICS_SETUP_END"
   ]
  },
  {
   "cell_type": "code",
   "execution_count": null,
   "metadata": {},
   "outputs": [],
   "source": []
  },
  {
   "cell_type": "code",
   "execution_count": 10,
   "metadata": {},
   "outputs": [
    {
     "data": {
      "text/markdown": [
       "Run: `clang++ -Wall -Werror -fsanitize=address main.cpp -o a.exe`"
      ],
      "text/plain": [
       "<IPython.core.display.Markdown object>"
      ]
     },
     "metadata": {},
     "output_type": "display_data"
    },
    {
     "data": {
      "text/markdown": [
       "Run: `time -p ./a.exe`"
      ],
      "text/plain": [
       "<IPython.core.display.Markdown object>"
      ]
     },
     "metadata": {},
     "output_type": "display_data"
    },
    {
     "name": "stdout",
     "output_type": "stream",
     "text": [
      "real 0.61\r\n",
      "user 0.54\r\n",
      "sys 0.06\r\n"
     ]
    }
   ],
   "source": [
    "%%cpp main.cpp\n",
    "%run clang++ -Wall -Werror -fsanitize=address main.cpp -o a.exe\n",
    "%run time -p ./a.exe \n",
    "\n",
    "#include <stdio.h>\n",
    "#include <stdlib.h>\n",
    "#include <string.h>\n",
    "#include <assert.h>\n",
    "#include <vector>\n",
    "\n",
    "\n",
    "int main() {\n",
    "    std::vector<int> a;\n",
    "    a.reserve(10000000);\n",
    "    for (int i = 0; i < 10'000'000; ++i) {\n",
    "        a.push_back(i);\n",
    "    }\n",
    "}"
   ]
  },
  {
   "cell_type": "code",
   "execution_count": 7,
   "metadata": {},
   "outputs": [
    {
     "data": {
      "text/markdown": [
       "Run: `clang++ -Wall -Werror -fsanitize=address main.cpp -o a.exe`"
      ],
      "text/plain": [
       "<IPython.core.display.Markdown object>"
      ]
     },
     "metadata": {},
     "output_type": "display_data"
    },
    {
     "data": {
      "text/markdown": [
       "Run: `time -p ./a.exe`"
      ],
      "text/plain": [
       "<IPython.core.display.Markdown object>"
      ]
     },
     "metadata": {},
     "output_type": "display_data"
    },
    {
     "name": "stdout",
     "output_type": "stream",
     "text": [
      "real 0.69\r\n",
      "user 0.59\r\n",
      "sys 0.09\r\n"
     ]
    }
   ],
   "source": [
    "%%cpp main.cpp\n",
    "%run clang++ -Wall -Werror -fsanitize=address main.cpp -o a.exe\n",
    "%run time -p ./a.exe \n",
    "\n",
    "#include <stdio.h>\n",
    "#include <stdlib.h>\n",
    "#include <string.h>\n",
    "#include <assert.h>\n",
    "#include <deque>\n",
    "\n",
    "\n",
    "int main() {\n",
    "    std::deque<int> a;\n",
    "    for (int i = 0; i < 10'000'000; ++i) {\n",
    "        a.push_back(i);\n",
    "    }\n",
    "}"
   ]
  },
  {
   "cell_type": "code",
   "execution_count": null,
   "metadata": {},
   "outputs": [],
   "source": []
  },
  {
   "cell_type": "code",
   "execution_count": 13,
   "metadata": {},
   "outputs": [
    {
     "data": {
      "text/markdown": [
       "Run: `clang++ -Wall -Werror -fsanitize=address main.cpp -o a.exe`"
      ],
      "text/plain": [
       "<IPython.core.display.Markdown object>"
      ]
     },
     "metadata": {},
     "output_type": "display_data"
    },
    {
     "data": {
      "text/markdown": [
       "Run: `time -p ./a.exe`"
      ],
      "text/plain": [
       "<IPython.core.display.Markdown object>"
      ]
     },
     "metadata": {},
     "output_type": "display_data"
    },
    {
     "name": "stdout",
     "output_type": "stream",
     "text": [
      "real 0.61\r\n",
      "user 0.54\r\n",
      "sys 0.05\r\n"
     ]
    }
   ],
   "source": [
    "%%cpp main.cpp\n",
    "%run clang++ -Wall -Werror -fsanitize=address main.cpp -o a.exe\n",
    "%run time -p ./a.exe \n",
    "\n",
    "#include <stdio.h>\n",
    "#include <stdlib.h>\n",
    "#include <string.h>\n",
    "#include <assert.h>\n",
    "#include <vector>\n",
    "\n",
    "\n",
    "int main() {\n",
    "    std::vector<int> a;\n",
    "    a.reserve(10000000);\n",
    "    for (int i = 0; i < 10'000'000; ++i) {\n",
    "        a.push_back(i);\n",
    "    }\n",
    "}"
   ]
  },
  {
   "cell_type": "code",
   "execution_count": 21,
   "metadata": {},
   "outputs": [
    {
     "data": {
      "text/markdown": [
       "Run: `clang++ -Wall -Werror -fsanitize=address main.cpp -o a.exe`"
      ],
      "text/plain": [
       "<IPython.core.display.Markdown object>"
      ]
     },
     "metadata": {},
     "output_type": "display_data"
    },
    {
     "data": {
      "text/markdown": [
       "Run: `time -p ./a.exe`"
      ],
      "text/plain": [
       "<IPython.core.display.Markdown object>"
      ]
     },
     "metadata": {},
     "output_type": "display_data"
    },
    {
     "name": "stdout",
     "output_type": "stream",
     "text": [
      "real 10.04\r\n",
      "user 8.24\r\n",
      "sys 1.65\r\n"
     ]
    }
   ],
   "source": [
    "%%cpp main.cpp\n",
    "%run clang++ -Wall -Werror -fsanitize=address main.cpp -o a.exe\n",
    "%run time -p ./a.exe \n",
    "\n",
    "#include <stdio.h>\n",
    "#include <stdlib.h>\n",
    "#include <string.h>\n",
    "#include <assert.h>\n",
    "#include <vector>\n",
    "\n",
    "\n",
    "int main(int argc, char** argv) {\n",
    "    std::vector<int> a;\n",
    "    a.reserve(10000000);\n",
    "    for (int i = 0; i < 100'000'000; ++i) {\n",
    "        a.push_back(i % argc);\n",
    "    }\n",
    "}"
   ]
  },
  {
   "cell_type": "code",
   "execution_count": 22,
   "metadata": {},
   "outputs": [
    {
     "data": {
      "text/markdown": [
       "Run: `clang++ -Wall -Werror -fsanitize=address main.cpp -o a.exe`"
      ],
      "text/plain": [
       "<IPython.core.display.Markdown object>"
      ]
     },
     "metadata": {},
     "output_type": "display_data"
    },
    {
     "data": {
      "text/markdown": [
       "Run: `time -p ./a.exe`"
      ],
      "text/plain": [
       "<IPython.core.display.Markdown object>"
      ]
     },
     "metadata": {},
     "output_type": "display_data"
    },
    {
     "name": "stdout",
     "output_type": "stream",
     "text": [
      "real 9.33\r\n",
      "user 7.81\r\n",
      "sys 1.45\r\n"
     ]
    }
   ],
   "source": [
    "%%cpp main.cpp\n",
    "%run clang++ -Wall -Werror -fsanitize=address main.cpp -o a.exe\n",
    "%run time -p ./a.exe \n",
    "\n",
    "#include <stdio.h>\n",
    "#include <stdlib.h>\n",
    "#include <string.h>\n",
    "#include <assert.h>\n",
    "#include <vector>\n",
    "\n",
    "\n",
    "int main(int argc, char** argv) {\n",
    "    std::vector<int> a;\n",
    "    a.reserve(10000000);\n",
    "    for (int i = 0; i < 100'000'000; ++i) {\n",
    "        a.push_back(i & argc);\n",
    "    }\n",
    "}"
   ]
  },
  {
   "cell_type": "code",
   "execution_count": 47,
   "metadata": {},
   "outputs": [
    {
     "data": {
      "text/markdown": [
       "Run: `clang++ -Wall -Werror -fsanitize=address main.cpp -o a.exe`"
      ],
      "text/plain": [
       "<IPython.core.display.Markdown object>"
      ]
     },
     "metadata": {},
     "output_type": "display_data"
    },
    {
     "data": {
      "text/markdown": [
       "Run: `./a.exe`"
      ],
      "text/plain": [
       "<IPython.core.display.Markdown object>"
      ]
     },
     "metadata": {},
     "output_type": "display_data"
    },
    {
     "name": "stdout",
     "output_type": "stream",
     "text": [
      "1\r\n",
      "4\r\n",
      "9\r\n",
      "\r\n",
      "2\r\n",
      "3\r\n",
      "4\r\n",
      "\r\n",
      "2\r\n",
      "3\r\n",
      "4\r\n",
      "\r\n",
      "2\r\n",
      "3\r\n",
      "4\r\n",
      "\r\n",
      "2\r\n",
      "3\r\n",
      "4\r\n",
      "\r\n"
     ]
    }
   ],
   "source": [
    "%%cpp main.cpp\n",
    "%run clang++ -Wall -Werror -fsanitize=address main.cpp -o a.exe\n",
    "%run ./a.exe \n",
    "\n",
    "#include <iostream>\n",
    "#include <vector>\n",
    "#include <memory>\n",
    "#include <functional>\n",
    "\n",
    "\n",
    "template <typename TFunction>\n",
    "void PrintMap(const std::vector<int>& v, TFunction f) {\n",
    "    for (int i = 0; i < v.size(); ++i) {\n",
    "        std::cout << f(v[i]) << std::endl;\n",
    "    }\n",
    "    std::cout << std::endl;\n",
    "}\n",
    "\n",
    "\n",
    "struct TFuncImpl {\n",
    "    virtual int operator()(int a) const = 0;\n",
    "    virtual ~TFuncImpl() = default;\n",
    "};\n",
    "\n",
    "template <typename TFunctor>\n",
    "struct TFuncImpl2 : TFuncImpl {\n",
    "    TFunctor F;\n",
    "    TFuncImpl2(TFunctor&& f): F(std::move(f)) {}\n",
    "    int operator()(int a) const override {\n",
    "        return F(a);\n",
    "    }\n",
    "}\n",
    "\n",
    "struct TFunc {\n",
    "    std::unique_ptr<TFuncImpl> FuncImpl;\n",
    "        \n",
    "    template <typename TFunctor>\n",
    "    TFunc(TFunctor f) {\n",
    "        FuncImpl = std::make_unique<TFuncImpl2<TFunctor>>(std::move(f));\n",
    "    }\n",
    "    \n",
    "    int operator()(int a) const { return (*FuncImpl)(a); }\n",
    "};\n",
    "\n",
    "\n",
    "\n",
    "void PrintMap2(const std::vector<int>& v, const TFunc& f) {\n",
    "    for (int i = 0; i < v.size(); ++i) {\n",
    "        std::cout << f(v[i]) << std::endl;\n",
    "    }\n",
    "    std::cout << std::endl;\n",
    "}\n",
    "\n",
    "\n",
    "void PrintMap3(const std::vector<int>& v, const std::function<int(int)>& f) {\n",
    "    for (int i = 0; i < v.size(); ++i) {\n",
    "        std::cout << f(v[i]) << std::endl;\n",
    "    }\n",
    "    std::cout << std::endl;\n",
    "}\n",
    "\n",
    "int F2(int a) { return a * a; }\n",
    "\n",
    "int main(int argc, char** argv) {\n",
    "    PrintMap({1, 2, 3}, F2);\n",
    "    \n",
    "    struct {\n",
    "        int x;\n",
    "        \n",
    "        int operator()(int a) {\n",
    "            return a + x;\n",
    "        }\n",
    "    } f3 {.x = argc};\n",
    "    \n",
    "    PrintMap({1, 2, 3}, f3);\n",
    "    \n",
    "    PrintMap({1, 2, 3}, [argc](int a) { return a + argc; });\n",
    "    \n",
    "    PrintMap2({1, 2, 3}, [argc](int a) { return a + argc; });\n",
    "    \n",
    "    PrintMap3({1, 2, 3}, [argc](int a) { return a + argc; });\n",
    "    \n",
    "}"
   ]
  },
  {
   "cell_type": "code",
   "execution_count": null,
   "metadata": {},
   "outputs": [],
   "source": []
  },
  {
   "cell_type": "code",
   "execution_count": 53,
   "metadata": {},
   "outputs": [
    {
     "data": {
      "text/markdown": [
       "Run: `clang++ -fno-rtti -Wall -Werror -fsanitize=address main.cpp -o a.exe`"
      ],
      "text/plain": [
       "<IPython.core.display.Markdown object>"
      ]
     },
     "metadata": {},
     "output_type": "display_data"
    },
    {
     "data": {
      "text/markdown": [
       "Run: `./a.exe`"
      ],
      "text/plain": [
       "<IPython.core.display.Markdown object>"
      ]
     },
     "metadata": {},
     "output_type": "display_data"
    },
    {
     "name": "stdout",
     "output_type": "stream",
     "text": [
      "2\r\n",
      "3\r\n",
      "4\r\n",
      "\r\n"
     ]
    }
   ],
   "source": [
    "%%cpp main.cpp\n",
    "%run clang++ -fno-rtti -Wall -Werror -fsanitize=address main.cpp -o a.exe\n",
    "%run ./a.exe \n",
    "\n",
    "#include <iostream>\n",
    "#include <vector>\n",
    "#include <memory>\n",
    "#include <functional>\n",
    "\n",
    "\n",
    "struct TFuncImpl {\n",
    "    virtual int operator()(int a) const = 0;\n",
    "    virtual ~TFuncImpl() = default;\n",
    "};\n",
    "\n",
    "struct TFunc {\n",
    "    std::unique_ptr<TFuncImpl> FuncImpl;\n",
    "        \n",
    "    template <typename TFunctor>\n",
    "    TFunc(TFunctor f) {\n",
    "        struct TFuncImpl2 : TFuncImpl {\n",
    "            TFunctor F;\n",
    "            TFuncImpl2(TFunctor&& f): F(std::move(f)) {}\n",
    "            int operator()(int a) const override {\n",
    "                return F(a);\n",
    "            }\n",
    "        };\n",
    "        FuncImpl = std::make_unique<TFuncImpl2>(std::move(f));\n",
    "    }\n",
    "    \n",
    "    int operator()(int a) const { return (*FuncImpl)(a); }\n",
    "};\n",
    "\n",
    "\n",
    "\n",
    "void PrintMap(const std::vector<int>& v, const TFunc& f) {\n",
    "    for (int i = 0; i < v.size(); ++i) {\n",
    "        std::cout << f(v[i]) << std::endl;\n",
    "    }\n",
    "    std::cout << std::endl;\n",
    "}\n",
    "\n",
    "\n",
    "int main(int argc, char** argv) {  \n",
    "    PrintMap({1, 2, 3}, [argc](int a) { return a + argc; });\n",
    "}"
   ]
  },
  {
   "cell_type": "code",
   "execution_count": 70,
   "metadata": {},
   "outputs": [
    {
     "data": {
      "text/markdown": [
       "Run: `clang++ -fno-rtti -Wall -Werror -fsanitize=address main.cpp -o a.exe`"
      ],
      "text/plain": [
       "<IPython.core.display.Markdown object>"
      ]
     },
     "metadata": {},
     "output_type": "display_data"
    },
    {
     "data": {
      "text/markdown": [
       "Run: `./a.exe`"
      ],
      "text/plain": [
       "<IPython.core.display.Markdown object>"
      ]
     },
     "metadata": {},
     "output_type": "display_data"
    },
    {
     "name": "stdout",
     "output_type": "stream",
     "text": [
      "2\r\n",
      "3\r\n",
      "4\r\n",
      "\r\n",
      "10\r\n",
      "20\r\n",
      "30\r\n",
      "\r\n"
     ]
    }
   ],
   "source": [
    "%%cpp main.cpp\n",
    "%run clang++ -fno-rtti -Wall -Werror -fsanitize=address main.cpp -o a.exe\n",
    "%run ./a.exe \n",
    "\n",
    "#include <iostream>\n",
    "#include <vector>\n",
    "#include <memory>\n",
    "#include <functional>\n",
    "#include <new>\n",
    "\n",
    "\n",
    "struct TFuncDescriptor {\n",
    "    const char* UniqueAddr;\n",
    "    int (*Caller)(char*, int);\n",
    "    void (*Destroyer)(char*);\n",
    "};\n",
    "\n",
    "\n",
    "struct TFuncDeleter {\n",
    "    void operator()(char* func) {\n",
    "        TFuncDescriptor* desc = (TFuncDescriptor*)(void*)func;\n",
    "        desc->Destroyer(func + sizeof(TFuncDescriptor));\n",
    "        delete[] func;\n",
    "    }\n",
    "};\n",
    "\n",
    "struct TFunc {\n",
    "    std::unique_ptr<char[], TFuncDeleter> FuncImpl;\n",
    "        \n",
    "    template <typename TFunctor>\n",
    "    TFunc(TFunctor f) {\n",
    "        static const char UniqueVar = '\\0';\n",
    "        \n",
    "        char* func = new char[sizeof(TFuncDescriptor) + sizeof(TFunctor)];\n",
    "        TFuncDescriptor* desc = (TFuncDescriptor*)(void*)func;\n",
    "        desc->UniqueAddr = &UniqueVar;\n",
    "        desc->Caller = [](char* f, int a) -> int {\n",
    "            return ((TFunctor*)(void*)f)->operator()(a);\n",
    "        };\n",
    "        desc->Destroyer = [](char* f) {\n",
    "            ((TFunctor*)(void*)f)->~TFunctor();\n",
    "        };\n",
    "        new(func + sizeof(TFuncDescriptor)) TFunctor(std::move(f));\n",
    "        FuncImpl.reset(func);\n",
    "    }\n",
    "    \n",
    "    int operator()(int a) const { \n",
    "        TFuncDescriptor* desc = (TFuncDescriptor*)FuncImpl.get();\n",
    "        return desc->Caller(FuncImpl.get() + sizeof(TFuncDescriptor), a);\n",
    "    }\n",
    "};\n",
    "\n",
    "\n",
    "\n",
    "void PrintMap(const std::vector<int>& v, const TFunc& f) {\n",
    "    for (int i = 0; i < v.size(); ++i) {\n",
    "        std::cout << f(v[i]) << std::endl;\n",
    "    }\n",
    "    std::cout << std::endl;\n",
    "}\n",
    "\n",
    "\n",
    "int main(int argc, char** argv) {  \n",
    "    PrintMap({1, 2, 3}, [argc](int a) { return a + argc; });\n",
    "    std::vector<int> m = {0, 10, 20, 30, 40, 50};\n",
    "    PrintMap({1, 2, 3}, [m](int a) { return m[a]; });\n",
    "}"
   ]
  },
  {
   "cell_type": "code",
   "execution_count": 84,
   "metadata": {},
   "outputs": [
    {
     "data": {
      "text/markdown": [
       "Run: `clang++ -fno-rtti -Wall -Werror -fsanitize=address main.cpp -o a.exe`"
      ],
      "text/plain": [
       "<IPython.core.display.Markdown object>"
      ]
     },
     "metadata": {},
     "output_type": "display_data"
    },
    {
     "data": {
      "text/markdown": [
       "Run: `./a.exe`"
      ],
      "text/plain": [
       "<IPython.core.display.Markdown object>"
      ]
     },
     "metadata": {},
     "output_type": "display_data"
    },
    {
     "name": "stdout",
     "output_type": "stream",
     "text": [
      "9\r\n"
     ]
    }
   ],
   "source": [
    "%%cpp main.cpp\n",
    "%run clang++ -fno-rtti -Wall -Werror -fsanitize=address main.cpp -o a.exe\n",
    "%run ./a.exe \n",
    "\n",
    "#include <iostream>\n",
    "#include <vector>\n",
    "#include <memory>\n",
    "#include <functional>\n",
    "#include <new>\n",
    "\n",
    "\n",
    "struct TSquare {\n",
    "    int A;\n",
    "    int GetSquare() { return A * A; }\n",
    "};\n",
    "\n",
    "\n",
    "struct TShapeDescriptor {\n",
    "    int (*SquareGetter)(char*);\n",
    "    void (*Destroyer)(char*);\n",
    "};\n",
    "\n",
    "\n",
    "struct TShapeDeleter {\n",
    "    void operator()(char* func) {\n",
    "        TShapeDescriptor* desc = (TShapeDescriptor*)(void*)func;\n",
    "        desc->Destroyer(func + sizeof(TShapeDescriptor));\n",
    "        delete[] func;\n",
    "    }\n",
    "};\n",
    "\n",
    "struct TShape {\n",
    "    std::unique_ptr<char[], TShapeDeleter> ShapeImpl;\n",
    "        \n",
    "    template <typename TSomeShape>\n",
    "    TShape(TSomeShape q) {\n",
    "        char* shape = new char[sizeof(TShapeDescriptor) + sizeof(TSomeShape)];\n",
    "        TShapeDescriptor* desc = (TShapeDescriptor*)(void*)shape;\n",
    "        desc->SquareGetter = [](char* shape) -> int {\n",
    "            return ((TSomeShape*)(void*)shape)->GetSquare();\n",
    "        };\n",
    "        desc->Destroyer = [](char* shape) {\n",
    "            ((TSomeShape*)(void*)shape)->~TSomeShape();\n",
    "        };\n",
    "        new(shape + sizeof(TShapeDescriptor)) TSomeShape(std::move(q));\n",
    "        ShapeImpl.reset(shape);\n",
    "    }\n",
    "    \n",
    "    int GetSquare() const { \n",
    "        TShapeDescriptor* desc = (TShapeDescriptor*)ShapeImpl.get();\n",
    "        return desc->SquareGetter(ShapeImpl.get() + sizeof(TShapeDescriptor));\n",
    "    }\n",
    "};\n",
    "\n",
    "\n",
    "int main(int argc, char** argv) { \n",
    "    std::cout << TShape(TSquare{.A = 3}).GetSquare() << std::endl;\n",
    "}"
   ]
  },
  {
   "cell_type": "code",
   "execution_count": 80,
   "metadata": {},
   "outputs": [
    {
     "data": {
      "text/markdown": [
       "Run: `clang++ -fno-rtti -Wall -Werror -fsanitize=address main.cpp -o a.exe`"
      ],
      "text/plain": [
       "<IPython.core.display.Markdown object>"
      ]
     },
     "metadata": {},
     "output_type": "display_data"
    },
    {
     "data": {
      "text/markdown": [
       "Run: `./a.exe`"
      ],
      "text/plain": [
       "<IPython.core.display.Markdown object>"
      ]
     },
     "metadata": {},
     "output_type": "display_data"
    },
    {
     "name": "stdout",
     "output_type": "stream",
     "text": [
      "2\r\n",
      "3\r\n",
      "4\r\n",
      "\r\n",
      "10\r\n",
      "20\r\n",
      "30\r\n",
      "\r\n"
     ]
    }
   ],
   "source": [
    "%%cpp main.cpp\n",
    "%run clang++ -fno-rtti -Wall -Werror -fsanitize=address main.cpp -o a.exe\n",
    "%run ./a.exe \n",
    "\n",
    "#include <iostream>\n",
    "#include <vector>\n",
    "#include <memory>\n",
    "#include <functional>\n",
    "#include <new>\n",
    "\n",
    "\n",
    "struct TFuncDescriptor {\n",
    "    const char* UniqueAddr;\n",
    "    int (*Caller)(const char*, int);\n",
    "    void (*ConstructCopier)(char*, const char*);\n",
    "    void (*Destroyer)(char*);\n",
    "};\n",
    "\n",
    "\n",
    "struct TFunc {\n",
    "    TFuncDescriptor Descriptor;\n",
    "        \n",
    "    template <typename TFunctor>\n",
    "    TFunc(TFunctor f) {\n",
    "        static_assert(sizeof(TFunctor) <= sizeof(FunctorStorage), \"too large functor\");\n",
    "        static const char UniqueVar = '\\0';\n",
    "        \n",
    "        Descriptor.UniqueAddr = &UniqueVar;\n",
    "        Descriptor.Caller = [](const char* f, int a) -> int {\n",
    "            return ((TFunctor*)(void*)f)->operator()(a);\n",
    "        };\n",
    "        Descriptor.ConstructCopier = [](char* dst, const char* src) {\n",
    "            new(dst) TFunctor(*(TFunctor*)(void*)src);\n",
    "        };\n",
    "        Descriptor.Destroyer = [](char* f) {\n",
    "            ((TFunctor*)(void*)f)->~TFunctor();\n",
    "        };\n",
    "        new(FunctorStorage) TFunctor(std::move(f));\n",
    "    }\n",
    "    \n",
    "    TFunc(const TFunc& other) {\n",
    "        operator=(other);\n",
    "        Descriptor = other.Descriptor;\n",
    "        if (Descriptor.UniqueAddr) {\n",
    "            Descriptor.ConstructCopier(FunctorStorage, other.FunctorStorage);\n",
    "        }\n",
    "    }\n",
    "    \n",
    "    TFunc& operator=(const TFunc& other) {\n",
    "        if (Descriptor.UniqueAddr) {\n",
    "            Descriptor.Destroyer(FunctorStorage);\n",
    "        }\n",
    "        Descriptor = other.Descriptor;\n",
    "        if (Descriptor.UniqueAddr) {\n",
    "            Descriptor.ConstructCopier(FunctorStorage, other.FunctorStorage);\n",
    "        }\n",
    "        return *this;\n",
    "    }\n",
    "    \n",
    "    ~TFunc() {\n",
    "        if (Descriptor.UniqueAddr) {\n",
    "            Descriptor.Destroyer(FunctorStorage);\n",
    "        }\n",
    "    }\n",
    "    \n",
    "    int operator()(int a) const { \n",
    "        return Descriptor.Caller(FunctorStorage, a);\n",
    "    }\n",
    "};\n",
    "\n",
    "\n",
    "\n",
    "void PrintMap(const std::vector<int>& v, const TFunc& f) {\n",
    "    for (int i = 0; i < v.size(); ++i) {\n",
    "        std::cout << f(v[i]) << std::endl;\n",
    "    }\n",
    "    std::cout << std::endl;\n",
    "}\n",
    "\n",
    "\n",
    "int main(int argc, char** argv) {  \n",
    "    PrintMap({1, 2, 3}, [argc](int a) { return a + argc; });\n",
    "    std::vector<int> m = {0, 10, 20, 30, 40, 50};\n",
    "    PrintMap({1, 2, 3}, [m](int a) { return m[a]; });\n",
    "}"
   ]
  },
  {
   "cell_type": "code",
   "execution_count": null,
   "metadata": {},
   "outputs": [],
   "source": []
  },
  {
   "cell_type": "code",
   "execution_count": null,
   "metadata": {},
   "outputs": [],
   "source": []
  }
 ],
 "metadata": {
  "kernelspec": {
   "display_name": "Python 3",
   "language": "python",
   "name": "python3"
  },
  "language_info": {
   "codemirror_mode": {
    "name": "ipython",
    "version": 3
   },
   "file_extension": ".py",
   "mimetype": "text/x-python",
   "name": "python",
   "nbconvert_exporter": "python",
   "pygments_lexer": "ipython3",
   "version": "3.8.5"
  }
 },
 "nbformat": 4,
 "nbformat_minor": 4
}
