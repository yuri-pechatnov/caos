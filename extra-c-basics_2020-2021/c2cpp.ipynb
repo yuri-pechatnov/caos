{
 "cells": [
  {
   "cell_type": "code",
   "execution_count": 201,
   "metadata": {},
   "outputs": [
    {
     "data": {
      "application/javascript": [
       "// setup cpp code highlighting\n",
       "IPython.CodeCell.options_default.highlight_modes[\"text/x-c++src\"] = {'reg':[/^%%cpp/]} ;"
      ],
      "text/plain": [
       "<IPython.core.display.Javascript object>"
      ]
     },
     "metadata": {},
     "output_type": "display_data"
    },
    {
     "data": {
      "text/html": [
       "<!-- YANDEX_METRICA_BEGIN -->\n",
       "    <script type=\"text/javascript\" >\n",
       "       (function(m,e,t,r,i,k,a){m[i]=m[i]||function(){(m[i].a=m[i].a||[]).push(arguments)};\n",
       "       m[i].l=1*new Date();k=e.createElement(t),a=e.getElementsByTagName(t)[0],k.async=1,k.src=r,a.parentNode.insertBefore(k,a)})\n",
       "       (window, document, \"script\", \"https://mc.yandex.ru/metrika/tag.js\", \"ym\");\n",
       "\n",
       "       ym(59260609, \"init\", {\n",
       "            clickmap:true,\n",
       "            trackLinks:true,\n",
       "            accurateTrackBounce:true\n",
       "       });\n",
       "    </script>\n",
       "    <noscript><div><img src=\"https://mc.yandex.ru/watch/59260609\" style=\"position:absolute; left:-9999px;\" alt=\"\" /></div></noscript>\n",
       "    <!-- YANDEX_METRICA_END -->"
      ],
      "text/plain": [
       "<IPython.core.display.HTML object>"
      ]
     },
     "metadata": {},
     "output_type": "display_data"
    },
    {
     "data": {
      "text/html": [
       "В этот ноутбук встроен код Яндекс Метрики для сбора статистики использований. Если вы не хотите, чтобы по вам собиралась статистика, исправьте: yandex_metrica_allowed = False<!-- MAGICS_SETUP_PRINTING_END -->"
      ],
      "text/plain": [
       "<IPython.core.display.HTML object>"
      ]
     },
     "metadata": {},
     "output_type": "display_data"
    }
   ],
   "source": [
    "# look at tools/set_up_magics.ipynb\n",
    "yandex_metrica_allowed = True ; get_ipython().run_cell('# one_liner_str\\n\\nget_ipython().run_cell_magic(\\'javascript\\', \\'\\', \\'// setup cpp code highlighting\\\\nIPython.CodeCell.options_default.highlight_modes[\"text/x-c++src\"] = {\\\\\\'reg\\\\\\':[/^%%cpp/]} ;\\')\\n\\n# creating magics\\nfrom IPython.core.magic import register_cell_magic, register_line_magic\\nfrom IPython.display import display, Markdown, HTML\\nimport argparse\\nfrom subprocess import Popen, PIPE\\nimport random\\nimport sys\\nimport os\\nimport re\\nimport signal\\nimport shutil\\nimport shlex\\nimport glob\\n\\n@register_cell_magic\\ndef save_file(args_str, cell, line_comment_start=\"#\"):\\n    parser = argparse.ArgumentParser()\\n    parser.add_argument(\"fname\")\\n    parser.add_argument(\"--ejudge-style\", action=\"store_true\")\\n    args = parser.parse_args(args_str.split())\\n    \\n    cell = cell if cell[-1] == \\'\\\\n\\' or args.no_eof_newline else cell + \"\\\\n\"\\n    cmds = []\\n    with open(args.fname, \"w\") as f:\\n        f.write(line_comment_start + \" %%cpp \" + args_str + \"\\\\n\")\\n        for line in cell.split(\"\\\\n\"):\\n            line_to_write = (line if not args.ejudge_style else line.rstrip()) + \"\\\\n\"\\n            if line.startswith(\"%\"):\\n                run_prefix = \"%run \"\\n                if line.startswith(run_prefix):\\n                    cmds.append(line[len(run_prefix):].strip())\\n                    f.write(line_comment_start + \" \" + line_to_write)\\n                    continue\\n                run_prefix = \"%# \"\\n                if line.startswith(run_prefix):\\n                    f.write(line_comment_start + \" \" + line_to_write)\\n                    continue\\n                raise Exception(\"Unknown %%save_file subcommand: \\'%s\\'\" % line)\\n            else:\\n                f.write(line_to_write)\\n        f.write(\"\" if not args.ejudge_style else line_comment_start + r\" line without \\\\n\")\\n    for cmd in cmds:\\n        display(Markdown(\"Run: `%s`\" % cmd))\\n        get_ipython().system(cmd)\\n\\n@register_cell_magic\\ndef cpp(fname, cell):\\n    save_file(fname, cell, \"//\")\\n\\n@register_cell_magic\\ndef asm(fname, cell):\\n    save_file(fname, cell, \"//\")\\n    \\n@register_cell_magic\\ndef makefile(fname, cell):\\n    assert not fname\\n    save_file(\"makefile\", cell.replace(\" \" * 4, \"\\\\t\"))\\n        \\n@register_line_magic\\ndef p(line):\\n    try:\\n        expr, comment = line.split(\" #\")\\n        display(Markdown(\"`{} = {}`  # {}\".format(expr.strip(), eval(expr), comment.strip())))\\n    except:\\n        display(Markdown(\"{} = {}\".format(line, eval(line))))\\n        \\ndef show_file(file, clear_at_begin=True, return_html_string=False):\\n    if clear_at_begin:\\n        get_ipython().system(\"truncate --size 0 \" + file)\\n    obj = file.replace(\\'.\\', \\'_\\').replace(\\'/\\', \\'_\\') + \"_obj\"\\n    html_string = \\'\\'\\'\\n        <!--MD_BEGIN_FILTER-->\\n        <script type=text/javascript>\\n        var entrance___OBJ__ = 0;\\n        var errors___OBJ__ = 0;\\n        function refresh__OBJ__()\\n        {\\n            entrance___OBJ__ -= 1;\\n            var elem = document.getElementById(\"__OBJ__\");\\n            if (elem) {\\n                var xmlhttp=new XMLHttpRequest();\\n                xmlhttp.onreadystatechange=function()\\n                {\\n                    var elem = document.getElementById(\"__OBJ__\");\\n                    console.log(!!elem, xmlhttp.readyState, xmlhttp.status, entrance___OBJ__);\\n                    if (elem && xmlhttp.readyState==4) {\\n                        if (xmlhttp.status==200)\\n                        {\\n                            errors___OBJ__ = 0;\\n                            if (!entrance___OBJ__) {\\n                                elem.innerText = xmlhttp.responseText;\\n                                entrance___OBJ__ += 1;\\n                                console.log(\"req\");\\n                                window.setTimeout(\"refresh__OBJ__()\", 300); \\n                            }\\n                            return xmlhttp.responseText;\\n                        } else {\\n                            errors___OBJ__ += 1;\\n                            if (errors___OBJ__ < 10 && !entrance___OBJ__) {\\n                                entrance___OBJ__ += 1;\\n                                console.log(\"req\");\\n                                window.setTimeout(\"refresh__OBJ__()\", 300); \\n                            }\\n                        }\\n                    }\\n                }\\n                xmlhttp.open(\"GET\", \"__FILE__\", true);\\n                xmlhttp.setRequestHeader(\"Cache-Control\", \"no-cache\");\\n                xmlhttp.send();     \\n            }\\n        }\\n        \\n        if (!entrance___OBJ__) {\\n            entrance___OBJ__ += 1;\\n            refresh__OBJ__(); \\n        }\\n        </script>\\n        \\n        <font color=\"white\"> <tt>\\n        <p id=\"__OBJ__\" style=\"font-size: 16px; border:3px #333333 solid; background: #333333; border-radius: 10px; padding: 10px;  \"></p>\\n        </tt> </font>\\n        <!--MD_END_FILTER-->\\n        <!--MD_FROM_FILE __FILE__ -->\\n        \\'\\'\\'.replace(\"__OBJ__\", obj).replace(\"__FILE__\", file)\\n    if return_html_string:\\n        return html_string\\n    display(HTML(html_string))\\n    \\nBASH_POPEN_TMP_DIR = \"./bash_popen_tmp\"\\n    \\ndef bash_popen_terminate_all():\\n    for p in globals().get(\"bash_popen_list\", []):\\n        print(\"Terminate pid=\" + str(p.pid), file=sys.stderr)\\n        p.terminate()\\n    globals()[\"bash_popen_list\"] = []\\n    if os.path.exists(BASH_POPEN_TMP_DIR):\\n        shutil.rmtree(BASH_POPEN_TMP_DIR)\\n\\nbash_popen_terminate_all()  \\n\\ndef bash_popen(cmd):\\n    if not os.path.exists(BASH_POPEN_TMP_DIR):\\n        os.mkdir(BASH_POPEN_TMP_DIR)\\n    h = os.path.join(BASH_POPEN_TMP_DIR, str(random.randint(0, 1e18)))\\n    stdout_file = h + \".out.html\"\\n    stderr_file = h + \".err.html\"\\n    run_log_file = h + \".fin.html\"\\n    \\n    stdout = open(stdout_file, \"wb\")\\n    stdout = open(stderr_file, \"wb\")\\n    \\n    html = \"\"\"\\n    <table width=\"100%\">\\n    <colgroup>\\n       <col span=\"1\" style=\"width: 70px;\">\\n       <col span=\"1\">\\n    </colgroup>    \\n    <tbody>\\n      <tr> <td><b>STDOUT</b></td> <td> {stdout} </td> </tr>\\n      <tr> <td><b>STDERR</b></td> <td> {stderr} </td> </tr>\\n      <tr> <td><b>RUN LOG</b></td> <td> {run_log} </td> </tr>\\n    </tbody>\\n    </table>\\n    \"\"\".format(\\n        stdout=show_file(stdout_file, return_html_string=True),\\n        stderr=show_file(stderr_file, return_html_string=True),\\n        run_log=show_file(run_log_file, return_html_string=True),\\n    )\\n    \\n    cmd = \"\"\"\\n        bash -c {cmd} &\\n        pid=$!\\n        echo \"Process started! pid=${{pid}}\" > {run_log_file}\\n        wait ${{pid}}\\n        echo \"Process finished! exit_code=$?\" >> {run_log_file}\\n    \"\"\".format(cmd=shlex.quote(cmd), run_log_file=run_log_file)\\n    # print(cmd)\\n    display(HTML(html))\\n    \\n    p = Popen([\"bash\", \"-c\", cmd], stdin=PIPE, stdout=stdout, stderr=stdout)\\n    \\n    bash_popen_list.append(p)\\n    return p\\n\\n\\n@register_line_magic\\ndef bash_async(line):\\n    bash_popen(line)\\n    \\n    \\ndef show_log_file(file, return_html_string=False):\\n    obj = file.replace(\\'.\\', \\'_\\').replace(\\'/\\', \\'_\\') + \"_obj\"\\n    html_string = \\'\\'\\'\\n        <!--MD_BEGIN_FILTER-->\\n        <script type=text/javascript>\\n        var entrance___OBJ__ = 0;\\n        var errors___OBJ__ = 0;\\n        function halt__OBJ__(elem, color)\\n        {\\n            elem.setAttribute(\"style\", \"font-size: 14px; background: \" + color + \"; padding: 10px; border: 3px; border-radius: 5px; color: white; \");                    \\n        }\\n        function refresh__OBJ__()\\n        {\\n            entrance___OBJ__ -= 1;\\n            if (entrance___OBJ__ < 0) {\\n                entrance___OBJ__ = 0;\\n            }\\n            var elem = document.getElementById(\"__OBJ__\");\\n            if (elem) {\\n                var xmlhttp=new XMLHttpRequest();\\n                xmlhttp.onreadystatechange=function()\\n                {\\n                    var elem = document.getElementById(\"__OBJ__\");\\n                    console.log(!!elem, xmlhttp.readyState, xmlhttp.status, entrance___OBJ__);\\n                    if (elem && xmlhttp.readyState==4) {\\n                        if (xmlhttp.status==200)\\n                        {\\n                            errors___OBJ__ = 0;\\n                            if (!entrance___OBJ__) {\\n                                if (elem.innerHTML != xmlhttp.responseText) {\\n                                    elem.innerHTML = xmlhttp.responseText;\\n                                }\\n                                if (elem.innerHTML.includes(\"Process finished.\")) {\\n                                    halt__OBJ__(elem, \"#333333\");\\n                                } else {\\n                                    entrance___OBJ__ += 1;\\n                                    console.log(\"req\");\\n                                    window.setTimeout(\"refresh__OBJ__()\", 300); \\n                                }\\n                            }\\n                            return xmlhttp.responseText;\\n                        } else {\\n                            errors___OBJ__ += 1;\\n                            if (!entrance___OBJ__) {\\n                                if (errors___OBJ__ < 6) {\\n                                    entrance___OBJ__ += 1;\\n                                    console.log(\"req\");\\n                                    window.setTimeout(\"refresh__OBJ__()\", 300); \\n                                } else {\\n                                    halt__OBJ__(elem, \"#994444\");\\n                                }\\n                            }\\n                        }\\n                    }\\n                }\\n                xmlhttp.open(\"GET\", \"__FILE__\", true);\\n                xmlhttp.setRequestHeader(\"Cache-Control\", \"no-cache\");\\n                xmlhttp.send();     \\n            }\\n        }\\n        \\n        if (!entrance___OBJ__) {\\n            entrance___OBJ__ += 1;\\n            refresh__OBJ__(); \\n        }\\n        </script>\\n\\n        <p id=\"__OBJ__\" style=\"font-size: 14px; background: #000000; padding: 10px; border: 3px; border-radius: 5px; color: white; \">\\n        </p>\\n        \\n        </font>\\n        <!--MD_END_FILTER-->\\n        <!--MD_FROM_FILE __FILE__.md -->\\n        \\'\\'\\'.replace(\"__OBJ__\", obj).replace(\"__FILE__\", file)\\n    if return_html_string:\\n        return html_string\\n    display(HTML(html_string))\\n\\n    \\nclass TInteractiveLauncher:\\n    tmp_path = \"./interactive_launcher_tmp\"\\n    def __init__(self, cmd):\\n        try:\\n            os.mkdir(TInteractiveLauncher.tmp_path)\\n        except:\\n            pass\\n        name = str(random.randint(0, 1e18))\\n        self.inq_path = os.path.join(TInteractiveLauncher.tmp_path, name + \".inq\")\\n        self.log_path = os.path.join(TInteractiveLauncher.tmp_path, name + \".log\")\\n        \\n        os.mkfifo(self.inq_path)\\n        open(self.log_path, \\'w\\').close()\\n        open(self.log_path + \".md\", \\'w\\').close()\\n\\n        self.pid = os.fork()\\n        if self.pid == -1:\\n            print(\"Error\")\\n        if self.pid == 0:\\n            exe_cands = glob.glob(\"../tools/launcher.py\") + glob.glob(\"../../tools/launcher.py\")\\n            assert(len(exe_cands) == 1)\\n            assert(os.execvp(\"python3\", [\"python3\", exe_cands[0], \"-l\", self.log_path, \"-i\", self.inq_path, \"-c\", cmd]) == 0)\\n        self.inq_f = open(self.inq_path, \"w\")\\n        interactive_launcher_opened_set.add(self.pid)\\n        show_log_file(self.log_path)\\n\\n    def write(self, s):\\n        s = s.encode()\\n        assert len(s) == os.write(self.inq_f.fileno(), s)\\n        \\n    def get_pid(self):\\n        n = 100\\n        for i in range(n):\\n            try:\\n                return int(re.findall(r\"PID = (\\\\d+)\", open(self.log_path).readline())[0])\\n            except:\\n                if i + 1 == n:\\n                    raise\\n                time.sleep(0.1)\\n        \\n    def input_queue_path(self):\\n        return self.inq_path\\n        \\n    def close(self):\\n        self.inq_f.close()\\n        os.waitpid(self.pid, 0)\\n        os.remove(self.inq_path)\\n        # os.remove(self.log_path)\\n        self.inq_path = None\\n        self.log_path = None \\n        interactive_launcher_opened_set.remove(self.pid)\\n        self.pid = None\\n        \\n    @staticmethod\\n    def terminate_all():\\n        if \"interactive_launcher_opened_set\" not in globals():\\n            globals()[\"interactive_launcher_opened_set\"] = set()\\n        global interactive_launcher_opened_set\\n        for pid in interactive_launcher_opened_set:\\n            print(\"Terminate pid=\" + str(pid), file=sys.stderr)\\n            os.kill(pid, signal.SIGKILL)\\n            os.waitpid(pid, 0)\\n        interactive_launcher_opened_set = set()\\n        if os.path.exists(TInteractiveLauncher.tmp_path):\\n            shutil.rmtree(TInteractiveLauncher.tmp_path)\\n    \\nTInteractiveLauncher.terminate_all()\\n   \\nyandex_metrica_allowed = bool(globals().get(\"yandex_metrica_allowed\", False))\\nif yandex_metrica_allowed:\\n    display(HTML(\\'\\'\\'<!-- YANDEX_METRICA_BEGIN -->\\n    <script type=\"text/javascript\" >\\n       (function(m,e,t,r,i,k,a){m[i]=m[i]||function(){(m[i].a=m[i].a||[]).push(arguments)};\\n       m[i].l=1*new Date();k=e.createElement(t),a=e.getElementsByTagName(t)[0],k.async=1,k.src=r,a.parentNode.insertBefore(k,a)})\\n       (window, document, \"script\", \"https://mc.yandex.ru/metrika/tag.js\", \"ym\");\\n\\n       ym(59260609, \"init\", {\\n            clickmap:true,\\n            trackLinks:true,\\n            accurateTrackBounce:true\\n       });\\n    </script>\\n    <noscript><div><img src=\"https://mc.yandex.ru/watch/59260609\" style=\"position:absolute; left:-9999px;\" alt=\"\" /></div></noscript>\\n    <!-- YANDEX_METRICA_END -->\\'\\'\\'))\\n\\ndef make_oneliner():\\n    html_text = \\'(\"В этот ноутбук встроен код Яндекс Метрики для сбора статистики использований. Если вы не хотите, чтобы по вам собиралась статистика, исправьте: yandex_metrica_allowed = False\" if yandex_metrica_allowed else \"\")\\'\\n    html_text += \\' + \"<\"\"!-- MAGICS_SETUP_PRINTING_END -->\"\\'\\n    return \\'\\'.join([\\n        \\'# look at tools/set_up_magics.ipynb\\\\n\\',\\n        \\'yandex_metrica_allowed = True ; get_ipython().run_cell(%s);\\' % repr(one_liner_str),\\n        \\'display(HTML(%s))\\' % html_text,\\n        \\' #\\'\\'MAGICS_SETUP_END\\'\\n    ])\\n       \\n\\n');display(HTML((\"В этот ноутбук встроен код Яндекс Метрики для сбора статистики использований. Если вы не хотите, чтобы по вам собиралась статистика, исправьте: yandex_metrica_allowed = False\" if yandex_metrica_allowed else \"\") + \"<\"\"!-- MAGICS_SETUP_PRINTING_END -->\")) #MAGICS_SETUP_END"
   ]
  },
  {
   "cell_type": "code",
   "execution_count": null,
   "metadata": {},
   "outputs": [],
   "source": []
  },
  {
   "cell_type": "markdown",
   "metadata": {},
   "source": [
    "# От С к С++\n",
    "\n",
    "Будем рассматривать минимально необходимое подмножество С++ на мой взгляд\n",
    "\n",
    "До этого мы рассматривали подмножество языка С полностью совместимое с С++ (с 20м стандартом)."
   ]
  },
  {
   "cell_type": "markdown",
   "metadata": {},
   "source": [
    "Рассмотрим на примере стека, как он может быть написан на С и на С++ и как связаны между собой реализации."
   ]
  },
  {
   "cell_type": "code",
   "execution_count": 18,
   "metadata": {
    "scrolled": true
   },
   "outputs": [
    {
     "data": {
      "text/markdown": [
       "Run: `clang -std=c99 -Wall -Werror -fsanitize=address main.c -o a.exe`"
      ],
      "text/plain": [
       "<IPython.core.display.Markdown object>"
      ]
     },
     "metadata": {},
     "output_type": "display_data"
    },
    {
     "data": {
      "text/markdown": [
       "Run: `./a.exe`"
      ],
      "text/plain": [
       "<IPython.core.display.Markdown object>"
      ]
     },
     "metadata": {},
     "output_type": "display_data"
    }
   ],
   "source": [
    "%%cpp main.c\n",
    "%run clang -std=c99 -Wall -Werror -fsanitize=address main.c -o a.exe\n",
    "%run ./a.exe \n",
    "\n",
    "#include <stdio.h>\n",
    "#include <stdlib.h>\n",
    "#include <string.h>\n",
    "#include <assert.h>\n",
    "\n",
    "typedef struct stack {\n",
    "    int* a;\n",
    "    int sz;\n",
    "    int max_sz;\n",
    "} stack_t;\n",
    "\n",
    "\n",
    "void init_stack(stack_t* stack) {\n",
    "    *stack = (stack_t){0};\n",
    "}\n",
    "\n",
    "void destroy_stack(stack_t* stack) {\n",
    "    free(stack->a);\n",
    "}\n",
    "\n",
    "void push_stack(stack_t* stack, int elem) {\n",
    "    if (stack->sz == stack->max_sz) {\n",
    "        stack->max_sz += (stack->max_sz == 0);\n",
    "        stack->max_sz *= 2;\n",
    "        (*stack).a = realloc(stack->a, stack->max_sz * sizeof(int));\n",
    "    }\n",
    "    stack->a[stack->sz++] = elem;\n",
    "}\n",
    "\n",
    "int top_stack(stack_t* stack) {\n",
    "    return stack->a[stack->sz - 1];\n",
    "}\n",
    "\n",
    "void pop_stack(stack_t* stack) {\n",
    "    --stack->sz;\n",
    "}\n",
    "\n",
    "\n",
    "int main() {\n",
    "    stack_t* s = (stack_t*)malloc(sizeof(stack_t));\n",
    "    init_stack(s);\n",
    "    push_stack(s, 123);\n",
    "    push_stack(s, 42);\n",
    "    assert(top_stack(s) == 42);\n",
    "    pop_stack(s);\n",
    "    assert(top_stack(s) == 123);\n",
    "    destroy_stack(s);\n",
    "    free(s);\n",
    "    return 0;\n",
    "}"
   ]
  },
  {
   "cell_type": "markdown",
   "metadata": {},
   "source": [
    "1) Добавим методы"
   ]
  },
  {
   "cell_type": "code",
   "execution_count": 121,
   "metadata": {},
   "outputs": [
    {
     "data": {
      "text/markdown": [
       "Run: `g++ -std=c++17 -Wall -Werror -fsanitize=address -fno-exceptions -fno-rtti main.cpp -o a.exe`"
      ],
      "text/plain": [
       "<IPython.core.display.Markdown object>"
      ]
     },
     "metadata": {},
     "output_type": "display_data"
    },
    {
     "data": {
      "text/markdown": [
       "Run: `./a.exe`"
      ],
      "text/plain": [
       "<IPython.core.display.Markdown object>"
      ]
     },
     "metadata": {},
     "output_type": "display_data"
    }
   ],
   "source": [
    "%%cpp main.cpp\n",
    "%run g++ -std=c++17 -Wall -Werror -fsanitize=address -fno-exceptions -fno-rtti main.cpp -o a.exe\n",
    "%run ./a.exe \n",
    "\n",
    "#include <stdio.h>\n",
    "#include <stdlib.h>\n",
    "#include <string.h>\n",
    "#include <assert.h>\n",
    "#include <new> // Важно для placement new!\n",
    "\n",
    "// Больше не нужны typedef\n",
    "struct stack_t {\n",
    "    // Поля такие же\n",
    "    int* a;\n",
    "    int sz;\n",
    "    int max_sz;\n",
    "    \n",
    "    // Декларируем методы\n",
    "    stack_t(); // конструктор\n",
    "    ~stack_t(); // деструктор\n",
    "    void push(int elem);\n",
    "    int top();\n",
    "    void pop();\n",
    "}; \n",
    "\n",
    "\n",
    "// void init_stack(stack_t* stack) {\n",
    "//     *stack = (stack_t){0};\n",
    "// }\n",
    "stack_t::stack_t() {\n",
    "    this->a = nullptr; \n",
    "    this->sz = 0;\n",
    "    this->max_sz = 0;\n",
    "}\n",
    "\n",
    "// void destroy_stack(stack_t* stack) {\n",
    "//     free(stack->a);\n",
    "// }\n",
    "stack_t::~stack_t() {\n",
    "    free(this->a);\n",
    "}\n",
    "\n",
    "// void push_stack(stack_t* stack, int elem) {\n",
    "//     if (stack->sz == stack->max_sz) {\n",
    "//         stack->max_sz += (stack->max_sz == 0);\n",
    "//         stack->max_sz *= 2;\n",
    "//         (*stack).a = realloc(stack->a, stack->max_sz * sizeof(int));\n",
    "//     }\n",
    "//     stack->a[stack->sz++] = elem;\n",
    "// }\n",
    "void stack_t::push(int elem) {\n",
    "    if (this->sz == this->max_sz) {\n",
    "        this->max_sz += (this->max_sz == 0);\n",
    "        this->max_sz *= 2;\n",
    "        this->a = (int*)realloc(this->a, this->max_sz * sizeof(int));\n",
    "    }\n",
    "    this->a[this->sz++] = elem;\n",
    "}\n",
    "\n",
    "// int top_stack(stack_t* stack) {\n",
    "//     return stack->a[stack->sz - 1];\n",
    "// }\n",
    "int stack_t::top() {\n",
    "    return this->a[this->sz - 1];\n",
    "}\n",
    "\n",
    "// void pop_stack(stack_t* stack) {\n",
    "//     --stack->sz;\n",
    "// }\n",
    "\n",
    "void stack_t::pop() {\n",
    "    --this->sz;\n",
    "}\n",
    "\n",
    "int main() {\n",
    "    stack_t* s = (stack_t*)malloc(sizeof(stack_t));\n",
    "    new (s) stack_t;         // init_stack(s);\n",
    "    s->push(123);            // push_stack(s, 123);\n",
    "    s->push(42);             // push_stack(s, 42);\n",
    "    assert(s->top() == 42);  // assert(top_stack(s) == 42);\n",
    "    s->pop();                // pop_stack(s);\n",
    "    assert(s->top() == 123); // assert(top_stack(s) == 123);\n",
    "    s->~stack_t();           // destroy_stack(s);\n",
    "    free(s);\n",
    "    return 0; \n",
    "}"
   ]
  },
  {
   "cell_type": "markdown",
   "metadata": {},
   "source": [
    "2) Уберем избыточность"
   ]
  },
  {
   "cell_type": "code",
   "execution_count": 124,
   "metadata": {},
   "outputs": [
    {
     "data": {
      "text/markdown": [
       "Run: `g++ -std=c++17 -Wall -Werror -fsanitize=address -fno-exceptions -fno-rtti main.cpp -o a.exe`"
      ],
      "text/plain": [
       "<IPython.core.display.Markdown object>"
      ]
     },
     "metadata": {},
     "output_type": "display_data"
    },
    {
     "data": {
      "text/markdown": [
       "Run: `./a.exe`"
      ],
      "text/plain": [
       "<IPython.core.display.Markdown object>"
      ]
     },
     "metadata": {},
     "output_type": "display_data"
    }
   ],
   "source": [
    "%%cpp main.cpp\n",
    "%run g++ -std=c++17 -Wall -Werror -fsanitize=address -fno-exceptions -fno-rtti main.cpp -o a.exe\n",
    "%run ./a.exe \n",
    "\n",
    "#include <stdio.h>\n",
    "#include <stdlib.h>\n",
    "#include <string.h>\n",
    "#include <assert.h>\n",
    "\n",
    "// Больше не нужны typedef\n",
    "struct stack_t {\n",
    "    // Поля такие же\n",
    "    int* a;\n",
    "    int sz;\n",
    "    int max_sz;\n",
    "    \n",
    "    // Декларируем методы\n",
    "    stack_t(); // конструктор\n",
    "    ~stack_t(); // деструктор\n",
    "    void push(int elem);\n",
    "    int top();\n",
    "    void pop();\n",
    "}; \n",
    "\n",
    "\n",
    "// stack_t::stack_t() {\n",
    "//     this->a = nullptr; \n",
    "//     this->sz = 0;\n",
    "//     this->max_sz = 0;\n",
    "// }\n",
    "stack_t::stack_t() {\n",
    "    a = nullptr; \n",
    "    sz = 0;\n",
    "    max_sz = 0;\n",
    "}\n",
    "\n",
    "\n",
    "// stack_t::~stack_t() {\n",
    "//     free(this->a);\n",
    "// }\n",
    "stack_t::~stack_t() {\n",
    "    free(a);\n",
    "}\n",
    "\n",
    "// void stack_t::push(int elem) {\n",
    "//     if (this->sz == this->max_sz) {\n",
    "//         this->max_sz += (this->max_sz == 0);\n",
    "//         this->max_sz *= 2;\n",
    "//         this->a = (int*)realloc(this->a, this->max_sz * sizeof(int));\n",
    "//     }\n",
    "//     this->a[this->sz++] = elem;\n",
    "// }\n",
    "void stack_t::push(int elem) {\n",
    "    if (sz == max_sz) {\n",
    "        max_sz += (max_sz == 0);\n",
    "        max_sz *= 2;\n",
    "        a = (int*)realloc(a, max_sz * sizeof(int));\n",
    "    }\n",
    "    a[sz++] = elem;\n",
    "}\n",
    "\n",
    "// int stack_t::top() {\n",
    "//     return this->a[this->sz - 1];\n",
    "// }\n",
    "int stack_t::top() {\n",
    "    return a[sz - 1];\n",
    "}\n",
    "\n",
    "// void stack_t::pop() {\n",
    "//     --this->sz;\n",
    "// }\n",
    "void stack_t::pop() {\n",
    "    --sz;\n",
    "}\n",
    "\n",
    "int main() {\n",
    "    // variant 1\n",
    "    {\n",
    "        stack_t* s = new stack_t; // stack_t* s = (stack_t*)malloc(sizeof(stack_t));\n",
    "                                  // new ((void*)s) stack_t;  \n",
    "        s->push(123);           \n",
    "        s->push(42);             \n",
    "        assert(s->top() == 42);  \n",
    "        s->pop();                \n",
    "        assert(s->top() == 123);\n",
    "        delete s;                 // s->~stack_t();\n",
    "                                  // free(s);\n",
    "    }\n",
    "    // variant 2\n",
    "    {\n",
    "        stack_t s; // new ((void*)s) stack_t;  \n",
    "        s.push(123);           \n",
    "        s.push(42);             \n",
    "        assert(s.top() == 42);  \n",
    "        s.pop();                \n",
    "        assert(s.top() == 123);\n",
    "        // s->~stack_t(); (at the end of scope)\n",
    "    }\n",
    "    // variant 3\n",
    "    {\n",
    "        stack_t* s = new stack_t[2];  \n",
    "        s[0].push(123);           \n",
    "        s[0].push(42);             \n",
    "        assert(s[0].top() == 42);  \n",
    "        s[0].pop();                \n",
    "        assert(s[0].top() == 123);\n",
    "        s[1].push(123);           \n",
    "        s[1].push(42);             \n",
    "        assert(s[1].top() == 42);  \n",
    "        s[1].pop();                \n",
    "        assert(s[1].top() == 123);\n",
    "        delete[] s;\n",
    "    }\n",
    "    return 0; \n",
    "}"
   ]
  },
  {
   "cell_type": "markdown",
   "metadata": {},
   "source": [
    "3) Ещё подужмем"
   ]
  },
  {
   "cell_type": "code",
   "execution_count": 108,
   "metadata": {},
   "outputs": [
    {
     "data": {
      "text/markdown": [
       "Run: `g++ -std=c++17 -Wall -Werror -fsanitize=address -fno-exceptions -fno-rtti main.cpp -o a.exe`"
      ],
      "text/plain": [
       "<IPython.core.display.Markdown object>"
      ]
     },
     "metadata": {},
     "output_type": "display_data"
    },
    {
     "data": {
      "text/markdown": [
       "Run: `./a.exe`"
      ],
      "text/plain": [
       "<IPython.core.display.Markdown object>"
      ]
     },
     "metadata": {},
     "output_type": "display_data"
    }
   ],
   "source": [
    "%%cpp main.cpp\n",
    "%run g++ -std=c++17 -Wall -Werror -fsanitize=address -fno-exceptions -fno-rtti main.cpp -o a.exe\n",
    "%run ./a.exe \n",
    "\n",
    "#include <stdio.h>\n",
    "#include <stdlib.h>\n",
    "#include <string.h>\n",
    "#include <assert.h>\n",
    "\n",
    "struct stack_t {\n",
    "    int* a;\n",
    "    int sz;\n",
    "    int max_sz;\n",
    "    \n",
    "    stack_t() {\n",
    "        a = nullptr; \n",
    "        sz = 0;\n",
    "        max_sz = 0;\n",
    "    }\n",
    "\n",
    "    ~stack_t() {\n",
    "        free(a);\n",
    "    }\n",
    "    \n",
    "    void push(int elem)  {\n",
    "        if (sz == max_sz) {\n",
    "            max_sz += (max_sz == 0);\n",
    "            max_sz *= 2;\n",
    "            a = (int*)realloc(a, max_sz * sizeof(int));\n",
    "        }\n",
    "        a[sz++] = elem;\n",
    "    }\n",
    "    \n",
    "    int top()  {\n",
    "        return a[sz - 1];\n",
    "    }\n",
    "    \n",
    "    void pop()  {\n",
    "        --sz;\n",
    "    }\n",
    "}; \n",
    "\n",
    "int main() {\n",
    "    stack_t s;  \n",
    "    s.push(123);           \n",
    "    s.push(42);             \n",
    "    assert(s.top() == 42);  \n",
    "    s.pop();                \n",
    "    assert(s.top() == 123);\n",
    "    return 0; \n",
    "}"
   ]
  },
  {
   "cell_type": "markdown",
   "metadata": {},
   "source": [
    "4) Добавим шаблонов"
   ]
  },
  {
   "cell_type": "code",
   "execution_count": 191,
   "metadata": {
    "scrolled": true
   },
   "outputs": [
    {
     "data": {
      "text/markdown": [
       "Run: `g++ -std=c++17 -Wall -Werror -fsanitize=address -fno-exceptions -fno-rtti main.cpp -o a.exe`"
      ],
      "text/plain": [
       "<IPython.core.display.Markdown object>"
      ]
     },
     "metadata": {},
     "output_type": "display_data"
    },
    {
     "data": {
      "text/markdown": [
       "Run: `./a.exe`"
      ],
      "text/plain": [
       "<IPython.core.display.Markdown object>"
      ]
     },
     "metadata": {},
     "output_type": "display_data"
    }
   ],
   "source": [
    "%%cpp main.cpp\n",
    "%run g++ -std=c++17 -Wall -Werror -fsanitize=address -fno-exceptions -fno-rtti main.cpp -o a.exe\n",
    "%run ./a.exe \n",
    "\n",
    "#include <stdio.h>\n",
    "#include <stdlib.h>\n",
    "#include <string.h>\n",
    "#include <assert.h>\n",
    "#include <new>\n",
    "#include <string>\n",
    "\n",
    "template <typename TElem>\n",
    "struct stack_t {\n",
    "    TElem* a;\n",
    "    int sz;\n",
    "    int max_sz;\n",
    "    \n",
    "    \n",
    "    stack_t() {\n",
    "        a = nullptr; \n",
    "        sz = 0;\n",
    "        max_sz = 0;\n",
    "    }\n",
    "\n",
    "    ~stack_t() {\n",
    "        while (sz > 0) {\n",
    "            pop();\n",
    "        }\n",
    "        free(a);\n",
    "    }\n",
    "    \n",
    "    void push(TElem elem)  {\n",
    "        if (sz == max_sz) {\n",
    "            max_sz += (max_sz == 0);\n",
    "            max_sz *= 2;\n",
    "            a = (TElem*)realloc((void*)a, max_sz * sizeof(TElem));\n",
    "        }\n",
    "        new (a + sz) TElem(elem);\n",
    "        ++sz;\n",
    "    }\n",
    "    \n",
    "    TElem top()  {\n",
    "        return a[sz - 1];\n",
    "    }\n",
    "    \n",
    "    void pop()  {\n",
    "        a[--sz].~TElem();\n",
    "    }\n",
    "}; \n",
    "\n",
    "// template <typename TElem>\n",
    "// struct queue_t {\n",
    "//   ....\n",
    "// };\n",
    "\n",
    "int main() {\n",
    "    {\n",
    "        stack_t<int> s;  \n",
    "        s.push(123);           \n",
    "        s.push(42);             \n",
    "        assert(s.top() == 42);  \n",
    "        s.pop();                \n",
    "        assert(s.top() == 123);\n",
    "    }\n",
    "    {\n",
    "        stack_t<char> s;  \n",
    "        s.push('A');           \n",
    "        s.push('Z');             \n",
    "        assert(s.top() == 'Z');  \n",
    "        s.pop();                \n",
    "        assert(s.top() == 'A');\n",
    "    }\n",
    "    {\n",
    "        stack_t<std::string> s;  \n",
    "        s.push(\"Azaza\");           \n",
    "        s.push(\"Brekeke\");             \n",
    "        assert(s.top() == \"Brekeke\");  \n",
    "        s.pop();                \n",
    "        assert(s.top() == \"Azaza\");\n",
    "    }\n",
    "    return 0; \n",
    "}"
   ]
  },
  {
   "cell_type": "code",
   "execution_count": null,
   "metadata": {},
   "outputs": [],
   "source": []
  },
  {
   "cell_type": "code",
   "execution_count": null,
   "metadata": {},
   "outputs": [],
   "source": []
  },
  {
   "cell_type": "markdown",
   "metadata": {},
   "source": [
    "Немного больше о связи С++ и С"
   ]
  },
  {
   "cell_type": "code",
   "execution_count": 138,
   "metadata": {},
   "outputs": [
    {
     "data": {
      "text/markdown": [
       "Run: `g++ -std=c++17 -Wall -Werror -fsanitize=address -fno-exceptions -fno-rtti main.cpp -o a.exe`"
      ],
      "text/plain": [
       "<IPython.core.display.Markdown object>"
      ]
     },
     "metadata": {},
     "output_type": "display_data"
    },
    {
     "data": {
      "text/markdown": [
       "Run: `./a.exe`"
      ],
      "text/plain": [
       "<IPython.core.display.Markdown object>"
      ]
     },
     "metadata": {},
     "output_type": "display_data"
    }
   ],
   "source": [
    "%%cpp main.cpp\n",
    "%run g++ -std=c++17 -Wall -Werror -fsanitize=address -fno-exceptions -fno-rtti main.cpp -o a.exe\n",
    "%run ./a.exe \n",
    "\n",
    "#include <stdio.h>\n",
    "#include <stdlib.h>\n",
    "#include <string.h>\n",
    "#include <assert.h>\n",
    "\n",
    "struct stack_t {\n",
    "    int* a;\n",
    "    int sz;\n",
    "    int max_sz;\n",
    "    \n",
    "    stack_t();\n",
    "    ~stack_t();\n",
    "    void push(int elem);\n",
    "    int top();\n",
    "    void pop();\n",
    "}; \n",
    "\n",
    "// Если упрощенно, то код в этом блоке компилится как сишный, но при этом он связан с окружающим плюсовым\n",
    "extern \"C\" {\n",
    "    void _ZN7stack_tC1Ev(stack_t* s) {\n",
    "        s->a = nullptr; \n",
    "        s->sz = 0;\n",
    "        s->max_sz = 0;\n",
    "    }\n",
    "    \n",
    "    void _ZN7stack_tD1Ev(stack_t* s) {\n",
    "        free(s->a);\n",
    "    }\n",
    "    \n",
    "    void _ZN7stack_t4pushEi(stack_t* s, int elem) {\n",
    "        if (s->sz == s->max_sz) {\n",
    "            s->max_sz += (s->max_sz == 0);\n",
    "            s->max_sz *= 2;\n",
    "            s->a = (int*)realloc(s->a, s->max_sz * sizeof(int));\n",
    "        }\n",
    "        s->a[s->sz++] = elem;\n",
    "    }\n",
    "    void _ZN7stack_t3popEv(stack_t* s) {\n",
    "        --s->sz;\n",
    "    }\n",
    "    int _ZN7stack_t3topEv(stack_t* s) {\n",
    "        return s->a[s->sz - 1];\n",
    "    }\n",
    "}\n",
    "\n",
    "int main() {\n",
    "    stack_t s;  \n",
    "    s.push(123);           \n",
    "    s.push(42);             \n",
    "    assert(s.top() == 42);  \n",
    "    s.pop();                \n",
    "    assert(s.top() == 123);\n",
    "    return 0; \n",
    "}"
   ]
  },
  {
   "cell_type": "code",
   "execution_count": 137,
   "metadata": {},
   "outputs": [
    {
     "name": "stdout",
     "output_type": "stream",
     "text": [
      "objdump: 'a.exe': No such file\r\n"
     ]
    }
   ],
   "source": [
    "!objdump -t a.exe | grep stack_t"
   ]
  },
  {
   "cell_type": "code",
   "execution_count": null,
   "metadata": {},
   "outputs": [],
   "source": []
  },
  {
   "cell_type": "markdown",
   "metadata": {},
   "source": [
    "# Больше полезностей\n",
    "\n",
    "https://ravesli.com/urok-192-std-move/\n",
    "\n",
    "Тут вроде прилично написано про std::move\n",
    "\n",
    "https://habr.com/ru/post/348198/\n",
    "Вот тут про lvalue/rvalue и ссылочки всякие\n"
   ]
  },
  {
   "cell_type": "code",
   "execution_count": null,
   "metadata": {},
   "outputs": [],
   "source": []
  },
  {
   "cell_type": "markdown",
   "metadata": {},
   "source": [
    "## Перегрузка функций"
   ]
  },
  {
   "cell_type": "code",
   "execution_count": 164,
   "metadata": {},
   "outputs": [
    {
     "data": {
      "text/markdown": [
       "Run: `g++ -std=c++17 -Wall -Werror -fsanitize=address -fno-exceptions -fno-rtti main.cpp -o a.exe`"
      ],
      "text/plain": [
       "<IPython.core.display.Markdown object>"
      ]
     },
     "metadata": {},
     "output_type": "display_data"
    },
    {
     "data": {
      "text/markdown": [
       "Run: `./a.exe`"
      ],
      "text/plain": [
       "<IPython.core.display.Markdown object>"
      ]
     },
     "metadata": {},
     "output_type": "display_data"
    },
    {
     "name": "stdout",
     "output_type": "stream",
     "text": [
      "9409\r\n",
      "4\r\n",
      "9.000000\r\n"
     ]
    },
    {
     "data": {
      "text/markdown": [
       "Run: `objdump -t a.exe | grep sqr`"
      ],
      "text/plain": [
       "<IPython.core.display.Markdown object>"
      ]
     },
     "metadata": {},
     "output_type": "display_data"
    },
    {
     "name": "stdout",
     "output_type": "stream",
     "text": [
      "00000000000011c9 g     F .text\t0000000000000013              _Z3sqri\r\n",
      "00000000000011dc g     F .text\t0000000000000018              _Z3sqrd\r\n"
     ]
    }
   ],
   "source": [
    "%%cpp main.cpp\n",
    "%run g++ -std=c++17 -Wall -Werror -fsanitize=address -fno-exceptions -fno-rtti main.cpp -o a.exe\n",
    "%run ./a.exe \n",
    "%run objdump -t a.exe | grep sqr\n",
    "\n",
    "#include <stdio.h>\n",
    "#include <math.h>\n",
    "\n",
    "int sqr(int a) {\n",
    "    return a * a;\n",
    "}\n",
    "\n",
    "double sqr(double a) {\n",
    "    return a * a;\n",
    "}\n",
    "\n",
    "int main() {\n",
    "    printf(\"%d\\n\", sqr('a'));\n",
    "    printf(\"%d\\n\", sqr(2));\n",
    "    printf(\"%lf\\n\", sqr(3.0));\n",
    "    return 0; \n",
    "}"
   ]
  },
  {
   "cell_type": "code",
   "execution_count": null,
   "metadata": {},
   "outputs": [],
   "source": []
  },
  {
   "cell_type": "code",
   "execution_count": null,
   "metadata": {},
   "outputs": [],
   "source": []
  },
  {
   "cell_type": "markdown",
   "metadata": {},
   "source": [
    "## Перегрузка арифметических операторов "
   ]
  },
  {
   "cell_type": "code",
   "execution_count": 199,
   "metadata": {
    "scrolled": true
   },
   "outputs": [
    {
     "data": {
      "text/markdown": [
       "Run: `g++ -std=c++17 -Wall -Werror -fsanitize=address -fno-exceptions -fno-rtti main.cpp -o a.exe`"
      ],
      "text/plain": [
       "<IPython.core.display.Markdown object>"
      ]
     },
     "metadata": {},
     "output_type": "display_data"
    },
    {
     "data": {
      "text/markdown": [
       "Run: `./a.exe`"
      ],
      "text/plain": [
       "<IPython.core.display.Markdown object>"
      ]
     },
     "metadata": {},
     "output_type": "display_data"
    },
    {
     "name": "stdout",
     "output_type": "stream",
     "text": [
      "{1.000000, 2.000000}\r\n",
      "{110.000000, 220.000000}\r\n",
      "{-10.000000, -20.000000}\r\n",
      "{-20.000000, -40.000000}\r\n"
     ]
    }
   ],
   "source": [
    "%%cpp main.cpp\n",
    "%run g++ -std=c++17 -Wall -Werror -fsanitize=address -fno-exceptions -fno-rtti main.cpp -o a.exe\n",
    "%run ./a.exe \n",
    "\n",
    "#include <stdio.h>\n",
    "#include <math.h>\n",
    "\n",
    "struct vec_t {\n",
    "    double x;\n",
    "    double y;\n",
    "    \n",
    "    double norm() const {\n",
    "        return std::sqrt(x * x + y * y);\n",
    "    }\n",
    "    vec_t operator+(const vec_t& b) const {\n",
    "        return {this->x + b.x, this->y + b.y};\n",
    "    }\n",
    "    vec_t operator-() const {\n",
    "        return {-x, -y};\n",
    "    }\n",
    "    void print() const {\n",
    "        printf(\"{%lf, %lf}\\n\", x, y);\n",
    "    }\n",
    "};\n",
    "\n",
    "vec_t operator*(const vec_t& a, double k) {\n",
    "    return {a.x * k, a.y * k};\n",
    "}\n",
    "\n",
    "int main() {\n",
    "    vec_t{1, 2}.print();\n",
    "    vec_t a = {10, 20};\n",
    "    vec_t b = {100, 200};\n",
    "    (a + b).print();\n",
    "    (-a).print();\n",
    "    (a * -2).print();\n",
    "    return 0; \n",
    "}"
   ]
  },
  {
   "cell_type": "code",
   "execution_count": null,
   "metadata": {},
   "outputs": [],
   "source": []
  },
  {
   "cell_type": "markdown",
   "metadata": {},
   "source": [
    "## Указатели, ссылки, объекты"
   ]
  },
  {
   "cell_type": "code",
   "execution_count": 246,
   "metadata": {},
   "outputs": [
    {
     "data": {
      "text/markdown": [
       "Run: `g++ -std=c++17 -Wall -Werror -fsanitize=address -fno-exceptions -fno-rtti main.cpp -o a.exe`"
      ],
      "text/plain": [
       "<IPython.core.display.Markdown object>"
      ]
     },
     "metadata": {},
     "output_type": "display_data"
    },
    {
     "data": {
      "text/markdown": [
       "Run: `./a.exe`"
      ],
      "text/plain": [
       "<IPython.core.display.Markdown object>"
      ]
     },
     "metadata": {},
     "output_type": "display_data"
    }
   ],
   "source": [
    "%%cpp main.cpp\n",
    "%run g++ -std=c++17 -Wall -Werror -fsanitize=address -fno-exceptions -fno-rtti main.cpp -o a.exe\n",
    "%run ./a.exe \n",
    "\n",
    "#include <stdio.h>\n",
    "#include <stdlib.h>\n",
    "#include <string.h>\n",
    "#include <assert.h>\n",
    "#include <new>\n",
    "#include <string>\n",
    "\n",
    "template <typename TElem>\n",
    "struct stack_t {\n",
    "    TElem* a;\n",
    "    int sz;\n",
    "    int max_sz;\n",
    "    \n",
    "    \n",
    "    stack_t() {\n",
    "        a = nullptr; \n",
    "        sz = 0;\n",
    "        max_sz = 0;\n",
    "    }\n",
    "    stack_t(const stack_t& other): stack_t() {   \n",
    "        *this = other;\n",
    "    }\n",
    "    stack_t(stack_t&& other): stack_t() {\n",
    "        *this = std::move(other);\n",
    "    }\n",
    "    stack_t& operator=(const stack_t& other) {\n",
    "        clear();\n",
    "        for (int i = 0; i < other.sz; ++i) {\n",
    "            push(other.a[i]);\n",
    "        }\n",
    "        return *this;\n",
    "    }\n",
    "    stack_t& operator=(stack_t&& other) {\n",
    "        std::swap(a, other.a);\n",
    "        std::swap(sz, other.sz);\n",
    "        std::swap(max_sz, other.max_sz);\n",
    "        other.clear();\n",
    "        return *this;\n",
    "    }\n",
    "    \n",
    "    void clear() {\n",
    "        while (sz > 0) {\n",
    "            pop();\n",
    "        }\n",
    "    }\n",
    "\n",
    "    ~stack_t() {\n",
    "        clear();\n",
    "        free(a);\n",
    "    }\n",
    "    \n",
    "    void push(TElem elem)  {\n",
    "        if (sz == max_sz) {\n",
    "            max_sz += (max_sz == 0);\n",
    "            max_sz *= 2;\n",
    "            // На самом деле так нельзя в общем случае\n",
    "            // не все объекты хорошо перенесут изменение своего адреса в памяти\n",
    "            // a = (TElem*)realloc((void*)a, max_sz * sizeof(TElem));\n",
    "            TElem* new_a = (TElem*)malloc(max_sz * sizeof(TElem));\n",
    "            for (int i = 0; i < sz; ++i) {\n",
    "                new (new_a + i) TElem(std::move(a[i])); // move-конструктором безопасно перемещаем объект в новую память\n",
    "                a[i].~TElem();\n",
    "            }\n",
    "            a = new_a;\n",
    "            \n",
    "        }\n",
    "        new (a + sz) TElem(elem);\n",
    "        ++sz;\n",
    "    }\n",
    "    \n",
    "    TElem top()  {\n",
    "        return a[sz - 1];\n",
    "    }\n",
    "    \n",
    "    void pop()  {\n",
    "        a[--sz].~TElem();\n",
    "    }\n",
    "}; \n",
    "\n",
    "\n",
    "stack_t<int> create() {\n",
    "    stack_t<int> s;\n",
    "    s.push(1);\n",
    "    return s;\n",
    "}\n",
    "\n",
    "int main() {\n",
    "    {\n",
    "        stack_t<int> s;  \n",
    "        s.push(123);           \n",
    "        s.push(42);\n",
    "        stack_t<int> s2 = s;\n",
    "        \n",
    "        assert(s.top() == 42);  \n",
    "        s.pop();                \n",
    "        assert(s.top() == 123);\n",
    "        \n",
    "        assert(s2.top() == 42);  \n",
    "        s2.pop();                \n",
    "        assert(s2.top() == 123);\n",
    "    }\n",
    "    {\n",
    "        stack_t<int> s;  \n",
    "        s.push(123);           \n",
    "        s.push(42);\n",
    "        stack_t<int> s2 = std::move(s);\n",
    "        \n",
    "        assert(s.sz == 0);\n",
    "        \n",
    "        assert(s2.top() == 42);  \n",
    "        s2.pop();                \n",
    "        assert(s2.top() == 123);\n",
    "    }\n",
    "    {\n",
    "        stack_t<int> s;  \n",
    "        s.push(123);           \n",
    "        s.push(42);\n",
    "        s = create();\n",
    "        \n",
    "        assert(s.sz == 1);\n",
    "        assert(s.top() == 1);\n",
    "    }\n",
    "    {\n",
    "        stack_t<stack_t<int>> s;  \n",
    "        s.push(create());           \n",
    "        s.push(create());\n",
    "        s.pop();\n",
    "    }\n",
    "    return 0; \n",
    "}"
   ]
  },
  {
   "cell_type": "markdown",
   "metadata": {},
   "source": []
  },
  {
   "cell_type": "code",
   "execution_count": null,
   "metadata": {},
   "outputs": [],
   "source": []
  },
  {
   "cell_type": "markdown",
   "metadata": {},
   "source": [
    "Стандартные контейнеры\n",
    "vector/queue/priority_queue/set/map/unordered_*/string\n",
    "\n",
    "Самая нормальная документация, что я знаю тут: https://en.cppreference.com/w/"
   ]
  },
  {
   "cell_type": "code",
   "execution_count": null,
   "metadata": {},
   "outputs": [],
   "source": [
    "  "
   ]
  },
  {
   "cell_type": "markdown",
   "metadata": {},
   "source": [
    "# HW\n",
    "\n",
    "Реализовать на С++ очередь (циклическую/на двух стеках/на указателях)\n",
    "\n",
    "Опционально шаблонную\n",
    "\n",
    "Опционально с хорошими конструкторами и операторами присваивания\n",
    "\n",
    "Как сдавать - выложить на pastebin и прислать в лс\n",
    "\n",
    "Дедлайн 7 февраля 23:00.\n"
   ]
  },
  {
   "cell_type": "code",
   "execution_count": null,
   "metadata": {},
   "outputs": [],
   "source": []
  },
  {
   "cell_type": "code",
   "execution_count": null,
   "metadata": {},
   "outputs": [],
   "source": []
  },
  {
   "cell_type": "markdown",
   "metadata": {},
   "source": [
    "# Задачки про порядок вызова конструкторов и деструкторов"
   ]
  },
  {
   "cell_type": "code",
   "execution_count": null,
   "metadata": {},
   "outputs": [],
   "source": []
  },
  {
   "cell_type": "code",
   "execution_count": 324,
   "metadata": {},
   "outputs": [],
   "source": [
    "%%cpp common.h\n",
    "\n",
    "#include <stdio.h>\n",
    "#include <stdlib.h>\n",
    "#include <string.h>\n",
    "#include <assert.h>\n",
    "#include <new>\n",
    "#include <string>\n",
    "\n",
    "#define eprintf(...) fprintf(stderr, __VA_ARGS__)\n",
    "#define logprintf_impl(fmt, line, ...) eprintf(__FILE__ \":\" #line \" \" fmt, __VA_ARGS__)\n",
    "#define logprintf_impl_2(fmt, line, ...) logprintf_impl(fmt, line, __VA_ARGS__)\n",
    "#define logprintf(fmt, ...) logprintf_impl_2(fmt, __LINE__, __VA_ARGS__)\n",
    "\n",
    "\n",
    "// Выделяем на sizeof(size_t) байт больше, чтобы явно сохранить размер выделяемого блока\n",
    "void* operator new(size_t sz) {\n",
    "    void* ptr = malloc(sz);\n",
    "    printf(\"allocate %d bytes, addr=%p\\n\", (int)sz, (void*)ptr);\n",
    "    return ptr;\n",
    "}\n",
    "// А здесь удаляем этот расширенный блок и выводим сохраненный размер\n",
    "void operator delete(void* ptr, size_t sz) noexcept\n",
    "{\n",
    "    printf(\"deallocate %d bytes, addr=%p\\n\", (int)sz, ptr);\n",
    "    free(ptr);\n",
    "}\n",
    "\n",
    "// размер структур совпадает с последней цифрой названия\n",
    "struct obj4 {\n",
    "    char data[4];\n",
    "    obj4(obj4&&) { printf(\"construct (move) ojb4\\n\"); }\n",
    "    obj4& operator=(obj4&&) { printf(\"assign (move) ojb4\\n\");  return *this; }\n",
    "    obj4() { printf(\"construct ojb4\\n\"); }\n",
    "    ~obj4() { printf(\"destruct ojb4\\n\"); }\n",
    "};\n",
    "\n",
    "struct obj5 {\n",
    "    char data[5];\n",
    "    obj5() { printf(\"construct ojb5\\n\"); }\n",
    "    ~obj5() { printf(\"destruct ojb5\\n\"); }\n",
    "};\n",
    "\n",
    "struct obj10 {\n",
    "    obj5 o5;\n",
    "    obj4 o4;\n",
    "    char data[1];\n",
    "\n",
    "    obj10() { printf(\"construct ojb10\\n\"); }\n",
    "    ~obj10() { printf(\"destruct ojb10\\n\"); }\n",
    "};\n",
    "\n",
    "struct obj20 {\n",
    "    obj4* o4;\n",
    "    obj5 o5;\n",
    "    char data[7];\n",
    "    obj20() { printf(\"construct ojb20\\n\"); o4 = new obj4; printf(\"end of construct ojb20\\n\"); }\n",
    "    ~obj20() { printf(\"destruct ojb20\\n\"); delete o4; printf(\"end of destruct ojb20\\n\"); }\n",
    "};\n"
   ]
  },
  {
   "cell_type": "code",
   "execution_count": null,
   "metadata": {},
   "outputs": [],
   "source": []
  },
  {
   "cell_type": "code",
   "execution_count": 322,
   "metadata": {},
   "outputs": [
    {
     "data": {
      "text/markdown": [
       "Run: `g++ -std=c++17 -Wall -Werror -fsanitize=address -fno-exceptions -fno-rtti main.cpp -o a.exe`"
      ],
      "text/plain": [
       "<IPython.core.display.Markdown object>"
      ]
     },
     "metadata": {},
     "output_type": "display_data"
    },
    {
     "name": "stdout",
     "output_type": "stream",
     "text": [
      "In file included from \u001b[01m\u001b[Kmain.cpp:5\u001b[m\u001b[K:\n",
      "\u001b[01m\u001b[Kcommon.h:\u001b[m\u001b[K In member function ‘\u001b[01m\u001b[Kobj4& obj4::operator=(obj4&&)\u001b[m\u001b[K’:\n",
      "\u001b[01m\u001b[Kcommon.h:33:63:\u001b[m\u001b[K \u001b[01;31m\u001b[Kerror: \u001b[m\u001b[Kno return statement in function returning non-void [\u001b[01;31m\u001b[K-Werror=return-type\u001b[m\u001b[K]\n",
      "   33 |     obj4& operator=(obj4&&) { printf(\"assign (move) ojb4\\n\"); \u001b[01;31m\u001b[K}\u001b[m\u001b[K\n",
      "      |                                                               \u001b[01;31m\u001b[K^\u001b[m\u001b[K\n",
      "      |                                                               \u001b[32m\u001b[Kreturn *this;\u001b[m\u001b[K\n",
      "cc1plus: all warnings being treated as errors\n"
     ]
    },
    {
     "data": {
      "text/markdown": [
       "Run: `./a.exe`"
      ],
      "text/plain": [
       "<IPython.core.display.Markdown object>"
      ]
     },
     "metadata": {},
     "output_type": "display_data"
    },
    {
     "name": "stdout",
     "output_type": "stream",
     "text": [
      "allocate 24 bytes, addr=0x603000000010\r\n",
      "construct ojb5\r\n",
      "construct ojb20\r\n",
      "allocate 4 bytes, addr=0x602000000010\r\n",
      "construct ojb4\r\n",
      "end of construct ojb20\r\n",
      "destruct ojb20\r\n",
      "destruct ojb4\r\n",
      "deallocate 4 bytes, addr=0x602000000010\r\n",
      "end of destruct ojb20\r\n",
      "destruct ojb5\r\n",
      "deallocate 24 bytes, addr=0x603000000010\r\n"
     ]
    }
   ],
   "source": [
    "%%cpp main.cpp\n",
    "%run g++ -std=c++17 -Wall -Werror -fsanitize=address -fno-exceptions -fno-rtti main.cpp -o a.exe\n",
    "%run ./a.exe \n",
    "\n",
    "#include \"common.h\"\n",
    "\n",
    "int main() {\n",
    "    obj4 o4; // constructor\n",
    "    return 0; \n",
    "    // destructor\n",
    "}"
   ]
  },
  {
   "cell_type": "code",
   "execution_count": null,
   "metadata": {},
   "outputs": [],
   "source": []
  },
  {
   "cell_type": "code",
   "execution_count": 323,
   "metadata": {},
   "outputs": [
    {
     "data": {
      "text/markdown": [
       "Run: `g++ -std=c++17 -Wall -Werror -fsanitize=address -fno-exceptions -fno-rtti main.cpp -o a.exe`"
      ],
      "text/plain": [
       "<IPython.core.display.Markdown object>"
      ]
     },
     "metadata": {},
     "output_type": "display_data"
    },
    {
     "name": "stdout",
     "output_type": "stream",
     "text": [
      "In file included from \u001b[01m\u001b[Kmain.cpp:5\u001b[m\u001b[K:\n",
      "\u001b[01m\u001b[Kcommon.h:\u001b[m\u001b[K In member function ‘\u001b[01m\u001b[Kobj4& obj4::operator=(obj4&&)\u001b[m\u001b[K’:\n",
      "\u001b[01m\u001b[Kcommon.h:33:63:\u001b[m\u001b[K \u001b[01;31m\u001b[Kerror: \u001b[m\u001b[Kno return statement in function returning non-void [\u001b[01;31m\u001b[K-Werror=return-type\u001b[m\u001b[K]\n",
      "   33 |     obj4& operator=(obj4&&) { printf(\"assign (move) ojb4\\n\"); \u001b[01;31m\u001b[K}\u001b[m\u001b[K\n",
      "      |                                                               \u001b[01;31m\u001b[K^\u001b[m\u001b[K\n",
      "      |                                                               \u001b[32m\u001b[Kreturn *this;\u001b[m\u001b[K\n",
      "cc1plus: all warnings being treated as errors\n"
     ]
    },
    {
     "data": {
      "text/markdown": [
       "Run: `./a.exe`"
      ],
      "text/plain": [
       "<IPython.core.display.Markdown object>"
      ]
     },
     "metadata": {},
     "output_type": "display_data"
    },
    {
     "name": "stdout",
     "output_type": "stream",
     "text": [
      "allocate 24 bytes, addr=0x603000000010\r\n",
      "construct ojb5\r\n",
      "construct ojb20\r\n",
      "allocate 4 bytes, addr=0x602000000010\r\n",
      "construct ojb4\r\n",
      "end of construct ojb20\r\n",
      "destruct ojb20\r\n",
      "destruct ojb4\r\n",
      "deallocate 4 bytes, addr=0x602000000010\r\n",
      "end of destruct ojb20\r\n",
      "destruct ojb5\r\n",
      "deallocate 24 bytes, addr=0x603000000010\r\n"
     ]
    }
   ],
   "source": [
    "%%cpp main.cpp\n",
    "%run g++ -std=c++17 -Wall -Werror -fsanitize=address -fno-exceptions -fno-rtti main.cpp -o a.exe\n",
    "%run ./a.exe \n",
    "\n",
    "#include \"common.h\"\n",
    "\n",
    "int main() {\n",
    "    obj4* o4 = new obj4; // allocate, constructor obj4\n",
    "    delete o4; // destructor, deallocate\n",
    "    return 0; \n",
    "}"
   ]
  },
  {
   "cell_type": "code",
   "execution_count": null,
   "metadata": {},
   "outputs": [],
   "source": []
  },
  {
   "cell_type": "code",
   "execution_count": 315,
   "metadata": {},
   "outputs": [
    {
     "data": {
      "text/markdown": [
       "Run: `g++ -std=c++17 -Wall -Werror -fsanitize=address -fno-exceptions -fno-rtti main.cpp -o a.exe`"
      ],
      "text/plain": [
       "<IPython.core.display.Markdown object>"
      ]
     },
     "metadata": {},
     "output_type": "display_data"
    },
    {
     "data": {
      "text/markdown": [
       "Run: `./a.exe`"
      ],
      "text/plain": [
       "<IPython.core.display.Markdown object>"
      ]
     },
     "metadata": {},
     "output_type": "display_data"
    },
    {
     "name": "stdout",
     "output_type": "stream",
     "text": [
      "construct ojb5\r\n",
      "construct ojb4\r\n",
      "construct ojb10\r\n",
      "destruct ojb10\r\n",
      "destruct ojb4\r\n",
      "destruct ojb5\r\n"
     ]
    }
   ],
   "source": [
    "%%cpp main.cpp\n",
    "%run g++ -std=c++17 -Wall -Werror -fsanitize=address -fno-exceptions -fno-rtti main.cpp -o a.exe\n",
    "%run ./a.exe \n",
    "\n",
    "#include \"common.h\"\n",
    "\n",
    "int main() {\n",
    "    obj10 o10;\n",
    "    return 0; \n",
    "}"
   ]
  },
  {
   "cell_type": "code",
   "execution_count": null,
   "metadata": {},
   "outputs": [],
   "source": []
  },
  {
   "cell_type": "code",
   "execution_count": 316,
   "metadata": {},
   "outputs": [
    {
     "data": {
      "text/markdown": [
       "Run: `g++ -std=c++17 -Wall -Werror -fsanitize=address -fno-exceptions -fno-rtti main.cpp -o a.exe`"
      ],
      "text/plain": [
       "<IPython.core.display.Markdown object>"
      ]
     },
     "metadata": {},
     "output_type": "display_data"
    },
    {
     "data": {
      "text/markdown": [
       "Run: `./a.exe`"
      ],
      "text/plain": [
       "<IPython.core.display.Markdown object>"
      ]
     },
     "metadata": {},
     "output_type": "display_data"
    },
    {
     "name": "stdout",
     "output_type": "stream",
     "text": [
      "construct ojb5\r\n",
      "construct ojb20\r\n",
      "allocate 4 bytes, addr=0x602000000010\r\n",
      "construct ojb4\r\n",
      "end of construct ojb20\r\n",
      "destruct ojb20\r\n",
      "destruct ojb4\r\n",
      "deallocate 4 bytes, addr=0x602000000010\r\n",
      "end of destruct ojb20\r\n",
      "destruct ojb5\r\n"
     ]
    }
   ],
   "source": [
    "%%cpp main.cpp\n",
    "%run g++ -std=c++17 -Wall -Werror -fsanitize=address -fno-exceptions -fno-rtti main.cpp -o a.exe\n",
    "%run ./a.exe \n",
    "\n",
    "#include \"common.h\"\n",
    "\n",
    "int main() {\n",
    "    obj20 o20;\n",
    "    return 0; \n",
    "}"
   ]
  },
  {
   "cell_type": "code",
   "execution_count": 317,
   "metadata": {},
   "outputs": [
    {
     "data": {
      "text/markdown": [
       "Run: `g++ -std=c++17 -Wall -Werror -fsanitize=address -fno-exceptions -fno-rtti main.cpp -o a.exe`"
      ],
      "text/plain": [
       "<IPython.core.display.Markdown object>"
      ]
     },
     "metadata": {},
     "output_type": "display_data"
    },
    {
     "data": {
      "text/markdown": [
       "Run: `./a.exe`"
      ],
      "text/plain": [
       "<IPython.core.display.Markdown object>"
      ]
     },
     "metadata": {},
     "output_type": "display_data"
    },
    {
     "name": "stdout",
     "output_type": "stream",
     "text": [
      "allocate 24 bytes, addr=0x603000000010\r\n",
      "construct ojb5\r\n",
      "construct ojb20\r\n",
      "allocate 4 bytes, addr=0x602000000010\r\n",
      "construct ojb4\r\n",
      "end of construct ojb20\r\n",
      "destruct ojb20\r\n",
      "destruct ojb4\r\n",
      "deallocate 4 bytes, addr=0x602000000010\r\n",
      "end of destruct ojb20\r\n",
      "destruct ojb5\r\n",
      "deallocate 24 bytes, addr=0x603000000010\r\n"
     ]
    }
   ],
   "source": [
    "%%cpp main.cpp\n",
    "%run g++ -std=c++17 -Wall -Werror -fsanitize=address -fno-exceptions -fno-rtti main.cpp -o a.exe\n",
    "%run ./a.exe \n",
    "\n",
    "#include \"common.h\"\n",
    "\n",
    "int main() {\n",
    "    obj20* o20 = new obj20;\n",
    "    delete o20;\n",
    "    return 0; \n",
    "}"
   ]
  },
  {
   "cell_type": "code",
   "execution_count": 325,
   "metadata": {},
   "outputs": [
    {
     "data": {
      "text/markdown": [
       "Run: `g++ -std=c++17 -Wall -Werror -fsanitize=address -fno-exceptions -fno-rtti main.cpp -o a.exe`"
      ],
      "text/plain": [
       "<IPython.core.display.Markdown object>"
      ]
     },
     "metadata": {},
     "output_type": "display_data"
    },
    {
     "data": {
      "text/markdown": [
       "Run: `./a.exe`"
      ],
      "text/plain": [
       "<IPython.core.display.Markdown object>"
      ]
     },
     "metadata": {},
     "output_type": "display_data"
    },
    {
     "name": "stdout",
     "output_type": "stream",
     "text": [
      "construct ojb4\r\n",
      "construct ojb4\r\n",
      "construct (move) ojb4\r\n",
      "assign (move) ojb4\r\n",
      "assign (move) ojb4\r\n",
      "destruct ojb4\r\n",
      "destruct ojb4\r\n",
      "destruct ojb4\r\n"
     ]
    }
   ],
   "source": [
    "%%cpp main.cpp\n",
    "%run g++ -std=c++17 -Wall -Werror -fsanitize=address -fno-exceptions -fno-rtti main.cpp -o a.exe\n",
    "%run ./a.exe \n",
    "\n",
    "#include \"common.h\"\n",
    "\n",
    "int main() {\n",
    "    obj4 o4_1;\n",
    "    obj4 o4_2;\n",
    "    std::swap(o4_1, o4_2);\n",
    "    return 0; \n",
    "}"
   ]
  },
  {
   "cell_type": "code",
   "execution_count": null,
   "metadata": {},
   "outputs": [],
   "source": []
  },
  {
   "cell_type": "code",
   "execution_count": 319,
   "metadata": {},
   "outputs": [],
   "source": [
    "%%cpp lib.h\n",
    "\n",
    "// void print42();\n",
    "#include <stdio.h>\n",
    "\n",
    "inline void print42() {\n",
    "    printf(\"42\\n\");\n",
    "}\n",
    "\n",
    "template <typename T>\n",
    "T min(T a, T b);"
   ]
  },
  {
   "cell_type": "code",
   "execution_count": 320,
   "metadata": {},
   "outputs": [],
   "source": [
    "%%cpp lib.cpp\n",
    "\n",
    "#include \"lib.h\"\n",
    "// #include <stdio.h>\n",
    "\n",
    "// void print42() {\n",
    "//     printf(\"42\\n\");\n",
    "// }\n",
    "\n",
    "template <typename T>\n",
    "T min(T a, T b) {\n",
    "    return (a > b) ? b : a;\n",
    "}\n",
    "\n",
    "// int f(int a, int b) {\n",
    "//     return min(a, b);\n",
    "// }\n",
    "\n",
    "template \n",
    "int min<int> (int a, int b);"
   ]
  },
  {
   "cell_type": "code",
   "execution_count": 299,
   "metadata": {},
   "outputs": [
    {
     "data": {
      "text/markdown": [
       "Run: `g++ main.cpp lib.cpp -o main.exe`"
      ],
      "text/plain": [
       "<IPython.core.display.Markdown object>"
      ]
     },
     "metadata": {},
     "output_type": "display_data"
    },
    {
     "data": {
      "text/markdown": [
       "Run: `./main.exe`"
      ],
      "text/plain": [
       "<IPython.core.display.Markdown object>"
      ]
     },
     "metadata": {},
     "output_type": "display_data"
    },
    {
     "name": "stdout",
     "output_type": "stream",
     "text": [
      "42\r\n",
      "10\r\n"
     ]
    }
   ],
   "source": [
    "%%cpp main.cpp\n",
    "%run g++ main.cpp lib.cpp -o main.exe\n",
    "%run ./main.exe\n",
    "\n",
    "#include \"lib.h\"\n",
    "\n",
    "int main() {\n",
    "    print42();\n",
    "    printf(\"%d\\n\", min(10, 30));\n",
    "    return 0;\n",
    "}"
   ]
  },
  {
   "cell_type": "code",
   "execution_count": null,
   "metadata": {},
   "outputs": [],
   "source": []
  },
  {
   "cell_type": "code",
   "execution_count": 346,
   "metadata": {},
   "outputs": [
    {
     "data": {
      "text/markdown": [
       "Run: `g++ main.cpp lib.cpp -o main.exe`"
      ],
      "text/plain": [
       "<IPython.core.display.Markdown object>"
      ]
     },
     "metadata": {},
     "output_type": "display_data"
    },
    {
     "data": {
      "text/markdown": [
       "Run: `echo \"10.1 20.2\" | ./main.exe`"
      ],
      "text/plain": [
       "<IPython.core.display.Markdown object>"
      ]
     },
     "metadata": {},
     "output_type": "display_data"
    },
    {
     "name": "stdout",
     "output_type": "stream",
     "text": [
      "{20.200, 40.400}"
     ]
    }
   ],
   "source": [
    "%%cpp main.cpp\n",
    "%run g++ main.cpp lib.cpp -o main.exe\n",
    "%run echo \"10.1 20.2\" | ./main.exe\n",
    "\n",
    "#include <stdio.h>\n",
    "#include <iostream>\n",
    "#include <iomanip>\n",
    "\n",
    "struct point_t {\n",
    "    double x;\n",
    "    double y;\n",
    "\n",
    "    point_t operator-(const point_t& b) const {\n",
    "        return point_t{.x = x - b.x, .y = y - b.y};\n",
    "    }\n",
    "    \n",
    "    point_t operator*(double k) const {\n",
    "        return {.x = x * k, .y = y * k};\n",
    "    }\n",
    "    \n",
    "    static point_t read(FILE* file) {\n",
    "        point_t p;\n",
    "        fscanf(file, \"%lf%lf\", &p.x, &p.y); \n",
    "        return p;\n",
    "    }\n",
    "    void write(FILE* file) const {\n",
    "        fprintf(file, \"{.x = %lf, .y = %lf}\", x, y);\n",
    "    }\n",
    "};\n",
    "\n",
    "std::istream& operator>>(std::istream& in, point_t& p) {\n",
    "    return in >> p.x >> p.y;\n",
    "}\n",
    "\n",
    "std::ostream& operator<<(std::ostream& out, const point_t& p) {\n",
    "    return out << \"{\" << std::fixed << std::setprecision(3) << p.x << \", \" << p.y << \"}\";\n",
    "}\n",
    "\n",
    "int main() {\n",
    "    //(point_t::read(stdin) * 2).write(stdout);\n",
    "    point_t p;\n",
    "    std::cin >> p;\n",
    "    std::cout << (p * 2);\n",
    "    return 0;\n",
    "}\n"
   ]
  },
  {
   "cell_type": "code",
   "execution_count": 379,
   "metadata": {},
   "outputs": [
    {
     "data": {
      "text/markdown": [
       "Run: `g++ main.cpp lib.cpp -o main.exe`"
      ],
      "text/plain": [
       "<IPython.core.display.Markdown object>"
      ]
     },
     "metadata": {},
     "output_type": "display_data"
    },
    {
     "data": {
      "text/markdown": [
       "Run: `./main.exe`"
      ],
      "text/plain": [
       "<IPython.core.display.Markdown object>"
      ]
     },
     "metadata": {},
     "output_type": "display_data"
    },
    {
     "name": "stdout",
     "output_type": "stream",
     "text": [
      "construct obj_t\n",
      "0\n",
      "is being touched\n",
      "is being touched\n",
      "is being touched\n",
      "2\n",
      "main.exe: main.cpp:35: T* uniq_ptr<T>::operator->() [with T = obj_t]: Assertion `ptr && \"*null\"' failed.\n",
      "Aborted (core dumped)\n"
     ]
    }
   ],
   "source": [
    "%%cpp main.cpp\n",
    "%run g++ main.cpp lib.cpp -o main.exe\n",
    "%run ./main.exe\n",
    "\n",
    "#include <stdio.h>\n",
    "#include <iostream>\n",
    "#include <memory>\n",
    "#include <cassert>\n",
    "\n",
    "template <typename T>\n",
    "struct uniq_ptr {\n",
    "    T* ptr;\n",
    "    \n",
    "    uniq_ptr() {\n",
    "        ptr = nullptr;\n",
    "    }\n",
    "    \n",
    "    explicit uniq_ptr(T* p) {\n",
    "        ptr = p;\n",
    "    }\n",
    "    \n",
    "    uniq_ptr(uniq_ptr<T>&& t) {\n",
    "        ptr = t.ptr;\n",
    "        t.ptr = nullptr;\n",
    "    }\n",
    "    \n",
    "    uniq_ptr<T>& operator=(uniq_ptr<T>&& t) {\n",
    "        reset();\n",
    "        ptr = t.ptr;\n",
    "        t.ptr = nullptr;\n",
    "        return *this;\n",
    "    }\n",
    "    \n",
    "    T* operator->() {\n",
    "        assert(ptr && \"*null\");\n",
    "        return ptr;\n",
    "    }\n",
    "    \n",
    "    T& operator*() {\n",
    "        assert(ptr && \"*null\");\n",
    "        return *ptr;\n",
    "    }\n",
    "    \n",
    "    void reset() {\n",
    "        if (ptr) {\n",
    "            delete ptr;\n",
    "        }\n",
    "    }\n",
    "    \n",
    "    ~uniq_ptr() {\n",
    "        reset();\n",
    "    }\n",
    "};\n",
    "\n",
    "\n",
    "struct obj_t {\n",
    "    obj_t() { printf(\"construct obj_t\\n\"); }\n",
    "    void touch() { printf(\"is being touched\\n\"); }\n",
    "    ~obj_t() { printf(\"destruct obj_t\\n\"); }\n",
    "};\n",
    "\n",
    "\n",
    "uniq_ptr<obj_t> create_obj() {\n",
    "    uniq_ptr<obj_t> obj(new obj_t);\n",
    "    printf(\"0\\n\");\n",
    "    return obj;\n",
    "}\n",
    "\n",
    "int main() {\n",
    "    obj_t* t = NULL;\n",
    "    free(t);\n",
    "    uniq_ptr<obj_t> obj = create_obj();\n",
    "   \n",
    "    obj.ptr->touch();\n",
    "    obj->touch();\n",
    "    (*obj).touch();\n",
    "    printf(\"2\\n\");\n",
    "    \n",
    "    return 0;\n",
    "}\n"
   ]
  },
  {
   "cell_type": "code",
   "execution_count": null,
   "metadata": {},
   "outputs": [],
   "source": []
  },
  {
   "cell_type": "code",
   "execution_count": null,
   "metadata": {},
   "outputs": [],
   "source": []
  },
  {
   "cell_type": "code",
   "execution_count": 380,
   "metadata": {},
   "outputs": [
    {
     "data": {
      "text/markdown": [
       "Run: `g++ main.cpp lib.cpp -o main.exe`"
      ],
      "text/plain": [
       "<IPython.core.display.Markdown object>"
      ]
     },
     "metadata": {},
     "output_type": "display_data"
    },
    {
     "data": {
      "text/markdown": [
       "Run: `./main.exe`"
      ],
      "text/plain": [
       "<IPython.core.display.Markdown object>"
      ]
     },
     "metadata": {},
     "output_type": "display_data"
    },
    {
     "name": "stdout",
     "output_type": "stream",
     "text": [
      "construct obj_t\r\n",
      "is being touched\r\n",
      "is being touched\r\n",
      "0\r\n",
      "1\r\n",
      "destruct obj_t\r\n",
      "2\r\n"
     ]
    }
   ],
   "source": [
    "%%cpp main.cpp\n",
    "%run g++ main.cpp lib.cpp -o main.exe\n",
    "%run ./main.exe\n",
    "\n",
    "#include <stdio.h>\n",
    "#include <iostream>\n",
    "#include <memory>\n",
    "\n",
    "\n",
    "\n",
    "struct obj_t {\n",
    "    obj_t() { printf(\"construct obj_t\\n\"); }\n",
    "    void touch() { printf(\"is being touched\\n\"); }\n",
    "    ~obj_t() { printf(\"destruct obj_t\\n\"); }\n",
    "};\n",
    "\n",
    "\n",
    "int main() {\n",
    "    obj_t* t = NULL;\n",
    "    free(t);\n",
    "    std::shared_ptr<obj_t> obj(new obj_t);\n",
    "    std::shared_ptr<obj_t> obj2 = obj;\n",
    "    obj->touch();\n",
    "    (*obj).touch();\n",
    "    printf(\"0\\n\");\n",
    "    obj.reset();\n",
    "    printf(\"1\\n\");\n",
    "    obj2.reset();\n",
    "    printf(\"2\\n\");\n",
    "    return 0;\n",
    "}\n"
   ]
  },
  {
   "cell_type": "code",
   "execution_count": null,
   "metadata": {},
   "outputs": [],
   "source": []
  },
  {
   "cell_type": "code",
   "execution_count": 403,
   "metadata": {},
   "outputs": [
    {
     "data": {
      "text/markdown": [
       "Run: `g++ main.cpp lib.cpp -o main.exe`"
      ],
      "text/plain": [
       "<IPython.core.display.Markdown object>"
      ]
     },
     "metadata": {},
     "output_type": "display_data"
    },
    {
     "data": {
      "text/markdown": [
       "Run: `./main.exe`"
      ],
      "text/plain": [
       "<IPython.core.display.Markdown object>"
      ]
     },
     "metadata": {},
     "output_type": "display_data"
    },
    {
     "name": "stdout",
     "output_type": "stream",
     "text": [
      "2 1 0 \r\n",
      "2 1 0 \r\n",
      "2 1 0 \r\n",
      "2 1 0 \r\n",
      "2 1 0 \r\n",
      "2 1 0 \r\n"
     ]
    }
   ],
   "source": [
    "%%cpp main.cpp\n",
    "%run g++ main.cpp lib.cpp -o main.exe\n",
    "%run ./main.exe\n",
    "\n",
    "#include <stdio.h>\n",
    "#include <iostream>\n",
    "#include <memory>\n",
    "#include <vector>\n",
    "#include <algorithm>\n",
    "\n",
    "\n",
    "int main() {\n",
    "    std::vector<int> v;\n",
    "    v.push_back(1);\n",
    "    v[0];\n",
    "    v.resize(2);\n",
    "    v.push_back(2);\n",
    "    v.push_back(5);\n",
    "    v.pop_back();\n",
    "    std::sort(v.begin(), v.end(), std::greater<>());\n",
    "    std::sort(v.begin(), v.end(), [](int a, int b) {\n",
    "        return a > b;\n",
    "    });\n",
    "\n",
    "    v.reserve(100);\n",
    "    \n",
    "    for (int* i = v.data(); i != v.data() + v.size(); ++i) {\n",
    "        printf(\"%d \", *i);\n",
    "    }\n",
    "    printf(\"\\n\");\n",
    "    \n",
    "    for (std::vector<int>::iterator i = v.begin(); i != v.end(); ++i) {\n",
    "        printf(\"%d \", *i);\n",
    "    }\n",
    "    printf(\"\\n\");\n",
    "    \n",
    "    for (auto i = v.begin(); i != v.end(); ++i) {\n",
    "        printf(\"%d \", *i);\n",
    "    }\n",
    "    printf(\"\\n\");\n",
    "    \n",
    "    int a[232];\n",
    "    \n",
    "    for (auto i = std::begin(v); i != std::end(v); ++i) {\n",
    "        printf(\"%d \", *i);\n",
    "    }\n",
    "    printf(\"\\n\");\n",
    "    \n",
    "        \n",
    "    {\n",
    "        auto&& __x = v;\n",
    "        for (auto __i = std::begin(__x); __i != std::end(__x); ++__i) {\n",
    "            auto& x = *__i;\n",
    "            printf(\"%d \", x);\n",
    "        }\n",
    "    }\n",
    "    printf(\"\\n\");\n",
    "\n",
    "\n",
    "    for (int x : v) {\n",
    "        printf(\"%d \", x);\n",
    "    }\n",
    "    printf(\"\\n\");\n",
    "    \n",
    "    return 0;\n",
    "}\n"
   ]
  },
  {
   "cell_type": "code",
   "execution_count": 399,
   "metadata": {},
   "outputs": [
    {
     "data": {
      "text/markdown": [
       "Run: `g++ main.cpp lib.cpp -o main.exe`"
      ],
      "text/plain": [
       "<IPython.core.display.Markdown object>"
      ]
     },
     "metadata": {},
     "output_type": "display_data"
    },
    {
     "data": {
      "text/markdown": [
       "Run: `./main.exe`"
      ],
      "text/plain": [
       "<IPython.core.display.Markdown object>"
      ]
     },
     "metadata": {},
     "output_type": "display_data"
    },
    {
     "name": "stdout",
     "output_type": "stream",
     "text": [
      "Y\r\n",
      "X\r\n"
     ]
    }
   ],
   "source": [
    "%%cpp main.cpp\n",
    "%run g++ main.cpp lib.cpp -o main.exe\n",
    "%run ./main.exe\n",
    "\n",
    "#include <stdio.h>\n",
    "#include <iostream>\n",
    "#include <memory>\n",
    "#include <vector>\n",
    "\n",
    "namespace my {\n",
    "    void f();\n",
    "    \n",
    "    void g();\n",
    "}\n",
    "\n",
    "\n",
    "namespace my {\n",
    "    void f() {\n",
    "        printf(\"X\\n\");\n",
    "    }\n",
    "    \n",
    "    void g() {\n",
    "        printf(\"Y\\n\");\n",
    "        f();\n",
    "    }\n",
    "}\n",
    "\n",
    "\n",
    "int main() {\n",
    "    using my::g;\n",
    "    g();\n",
    "    return 0;\n",
    "}\n"
   ]
  },
  {
   "cell_type": "code",
   "execution_count": null,
   "metadata": {},
   "outputs": [],
   "source": []
  },
  {
   "cell_type": "code",
   "execution_count": 416,
   "metadata": {},
   "outputs": [
    {
     "data": {
      "text/markdown": [
       "Run: `g++ main.cpp lib.cpp -o main.exe`"
      ],
      "text/plain": [
       "<IPython.core.display.Markdown object>"
      ]
     },
     "metadata": {},
     "output_type": "display_data"
    },
    {
     "data": {
      "text/markdown": [
       "Run: `./main.exe`"
      ],
      "text/plain": [
       "<IPython.core.display.Markdown object>"
      ]
     },
     "metadata": {},
     "output_type": "display_data"
    },
    {
     "name": "stdout",
     "output_type": "stream",
     "text": [
      "4 in set\r\n",
      "4 in set\r\n",
      "4 5 \r\n"
     ]
    }
   ],
   "source": [
    "%%cpp main.cpp\n",
    "%run g++ main.cpp lib.cpp -o main.exe\n",
    "%run ./main.exe\n",
    "\n",
    "#include <stdio.h>\n",
    "#include <iostream>\n",
    "#include <memory>\n",
    "#include <set>\n",
    "\n",
    "\n",
    "int main() {\n",
    "    std::set<int> v;\n",
    "    \n",
    "    v.insert(4);\n",
    "    v.insert(4);\n",
    "    v.insert(5);\n",
    "    \n",
    "    if (v.count(4)) {\n",
    "        printf(\"4 in set\\n\");\n",
    "    }\n",
    "    \n",
    "    \n",
    "    {\n",
    "        auto it = v.find(4);\n",
    "        if (it != v.end()) {\n",
    "            printf(\"4 in set\\n\");\n",
    "        }\n",
    "    }\n",
    "    \n",
    "\n",
    "\n",
    "\n",
    "    for (int x : v) {\n",
    "        printf(\"%d \", x);\n",
    "    }\n",
    "    printf(\"\\n\");\n",
    "    \n",
    "   \n",
    "    return 0;\n",
    "}\n"
   ]
  },
  {
   "cell_type": "code",
   "execution_count": 422,
   "metadata": {},
   "outputs": [
    {
     "data": {
      "text/markdown": [
       "Run: `g++ -std=c++17 main.cpp lib.cpp -o main.exe`"
      ],
      "text/plain": [
       "<IPython.core.display.Markdown object>"
      ]
     },
     "metadata": {},
     "output_type": "display_data"
    },
    {
     "data": {
      "text/markdown": [
       "Run: `./main.exe`"
      ],
      "text/plain": [
       "<IPython.core.display.Markdown object>"
      ]
     },
     "metadata": {},
     "output_type": "display_data"
    },
    {
     "name": "stdout",
     "output_type": "stream",
     "text": [
      "v[10] = 100\r\n",
      "6 added to set\r\n",
      "(0 0) (1 10) (2 20) (6 60) (10 100) \r\n"
     ]
    }
   ],
   "source": [
    "%%cpp main.cpp\n",
    "%run g++ -std=c++17 main.cpp lib.cpp -o main.exe\n",
    "%run ./main.exe\n",
    "\n",
    "#include <stdio.h>\n",
    "#include <iostream>\n",
    "#include <memory>\n",
    "#include <map>\n",
    "\n",
    "\n",
    "int main() {\n",
    "    std::map<int, int> v;\n",
    "    \n",
    "    v[0] = 0;\n",
    "    v[1] = 10;\n",
    "    v[2] = 20;\n",
    "    v[10] = 100;\n",
    "    \n",
    "    printf(\"v[10] = %d\\n\", v[10]);\n",
    "    \n",
    "    if (v.count(4)) {\n",
    "        printf(\"4 in set\\n\");\n",
    "    }\n",
    "   \n",
    "    {\n",
    "        auto [iter, success] = v.try_emplace(6, 60);\n",
    "        if (success) {\n",
    "            printf(\"6 added to set\\n\");\n",
    "        } else {\n",
    "            printf(\"6 NOT added to set\\n\");\n",
    "        }\n",
    "    }\n",
    "   \n",
    "    for (auto& [key, value] : v) {\n",
    "        printf(\"(%d %d) \", key, value);\n",
    "    }\n",
    "    printf(\"\\n\");\n",
    "    \n",
    "   \n",
    "    return 0;\n",
    "}\n"
   ]
  },
  {
   "cell_type": "code",
   "execution_count": 423,
   "metadata": {},
   "outputs": [
    {
     "data": {
      "text/markdown": [
       "Run: `g++ -std=c++17 main.cpp lib.cpp -o main.exe`"
      ],
      "text/plain": [
       "<IPython.core.display.Markdown object>"
      ]
     },
     "metadata": {},
     "output_type": "display_data"
    },
    {
     "data": {
      "text/markdown": [
       "Run: `./main.exe`"
      ],
      "text/plain": [
       "<IPython.core.display.Markdown object>"
      ]
     },
     "metadata": {},
     "output_type": "display_data"
    },
    {
     "name": "stdout",
     "output_type": "stream",
     "text": [
      "v[10] = 100\r\n",
      "6 added to set\r\n",
      "(6 60) (10 100) (2 20) (1 10) (0 0) \r\n"
     ]
    }
   ],
   "source": [
    "%%cpp main.cpp\n",
    "%run g++ -std=c++17 main.cpp lib.cpp -o main.exe\n",
    "%run ./main.exe\n",
    "\n",
    "#include <stdio.h>\n",
    "#include <iostream>\n",
    "#include <memory>\n",
    "#include <unordered_map>\n",
    "\n",
    "\n",
    "int main() {\n",
    "    std::unordered_map<int, int> v;\n",
    "    \n",
    "    v[0] = 0;\n",
    "    v[1] = 10;\n",
    "    v[2] = 20;\n",
    "    v[10] = 100;\n",
    "    \n",
    "    printf(\"v[10] = %d\\n\", v[10]);\n",
    "    \n",
    "    if (v.count(4)) {\n",
    "        printf(\"4 in set\\n\");\n",
    "    }\n",
    "   \n",
    "    {\n",
    "        auto [iter, success] = v.try_emplace(6, 60);\n",
    "        if (success) {\n",
    "            printf(\"6 added to set\\n\");\n",
    "        } else {\n",
    "            printf(\"6 NOT added to set\\n\");\n",
    "        }\n",
    "    }\n",
    "   \n",
    "    for (auto& [key, value] : v) {\n",
    "        printf(\"(%d %d) \", key, value);\n",
    "    }\n",
    "    printf(\"\\n\");\n",
    "    \n",
    "   \n",
    "    return 0;\n",
    "}\n"
   ]
  },
  {
   "cell_type": "code",
   "execution_count": null,
   "metadata": {},
   "outputs": [],
   "source": []
  },
  {
   "cell_type": "code",
   "execution_count": null,
   "metadata": {},
   "outputs": [],
   "source": []
  },
  {
   "cell_type": "code",
   "execution_count": 425,
   "metadata": {},
   "outputs": [
    {
     "data": {
      "text/markdown": [
       "Run: `g++ -std=c++17 main.cpp lib.cpp -o main.exe`"
      ],
      "text/plain": [
       "<IPython.core.display.Markdown object>"
      ]
     },
     "metadata": {},
     "output_type": "display_data"
    },
    {
     "data": {
      "text/markdown": [
       "Run: `./main.exe`"
      ],
      "text/plain": [
       "<IPython.core.display.Markdown object>"
      ]
     },
     "metadata": {},
     "output_type": "display_data"
    },
    {
     "name": "stdout",
     "output_type": "stream",
     "text": [
      "0 1 0 1 2 \r\n"
     ]
    }
   ],
   "source": [
    "%%cpp main.cpp\n",
    "%run g++ -std=c++17 main.cpp lib.cpp -o main.exe\n",
    "%run ./main.exe\n",
    "\n",
    "#include <stdio.h>\n",
    "#include <iostream>\n",
    "#include <memory>\n",
    "#include <vector>\n",
    "#include <unordered_map>\n",
    "\n",
    "\n",
    "int main() {\n",
    "    std::vector<std::string> names = {\n",
    "        \"x\",\n",
    "        \"y\",\n",
    "        \"x\",\n",
    "        \"y\",\n",
    "        \"z\",\n",
    "    };\n",
    "\n",
    "    std::unordered_map<std::string, int> name_to_index(names.size());\n",
    "    \n",
    "    std::vector<int> indexes;\n",
    "    indexes.reserve(names.size());\n",
    "    \n",
    "    for (auto& name : names) {\n",
    "        auto [iter, success] = name_to_index.try_emplace(\n",
    "            name, name_to_index.size());\n",
    "        indexes.push_back(iter->second);\n",
    "    }\n",
    "   \n",
    "    for (auto i : indexes) {\n",
    "        printf(\"%d \", i);\n",
    "    }\n",
    "    printf(\"\\n\");\n",
    "    \n",
    "   \n",
    "    return 0;\n",
    "}\n"
   ]
  },
  {
   "cell_type": "code",
   "execution_count": 429,
   "metadata": {},
   "outputs": [
    {
     "data": {
      "text/markdown": [
       "Run: `g++ -std=c++17 main.cpp lib.cpp -o main.exe`"
      ],
      "text/plain": [
       "<IPython.core.display.Markdown object>"
      ]
     },
     "metadata": {},
     "output_type": "display_data"
    },
    {
     "data": {
      "text/markdown": [
       "Run: `./main.exe`"
      ],
      "text/plain": [
       "<IPython.core.display.Markdown object>"
      ]
     },
     "metadata": {},
     "output_type": "display_data"
    },
    {
     "name": "stdout",
     "output_type": "stream",
     "text": [
      "0 0 0 0 0 \r\n",
      "0 0 0 0 0 \r\n",
      "0 0 0 0 0 \r\n",
      "0 0 0 142 0 \r\n",
      "0 0 0 0 0 \r\n"
     ]
    }
   ],
   "source": [
    "%%cpp main.cpp\n",
    "%run g++ -std=c++17 main.cpp lib.cpp -o main.exe\n",
    "%run ./main.exe\n",
    "\n",
    "#include <stdio.h>\n",
    "#include <iostream>\n",
    "#include <memory>\n",
    "#include <vector>\n",
    "#include <unordered_map>\n",
    "\n",
    "\n",
    "template <typename T>\n",
    "struct array2d_t {\n",
    "    T* arr;\n",
    "    int n;\n",
    "    int m;\n",
    "    \n",
    "    array2d_t(int n_, int m_) {\n",
    "        n = n_;\n",
    "        m = m_;\n",
    "        arr = new T[n * m];\n",
    "        for (int i = 0; i < n * m; ++i) {\n",
    "            arr[i] = {};\n",
    "        }\n",
    "    }\n",
    "    \n",
    "    T* operator[](int i) {\n",
    "        return arr + i * m;\n",
    "    }\n",
    "    \n",
    "    ~array2d_t() {\n",
    "        delete[] arr;\n",
    "    }\n",
    "    \n",
    "};\n",
    "\n",
    "\n",
    "int main() {\n",
    "    array2d_t<int> arr(5, 5);\n",
    "    arr[3][3] = 142;\n",
    "    \n",
    "    for (int i = 0; i < 5; ++i) {\n",
    "        for (int j = 0; j < 5; ++j) {\n",
    "            printf(\"%d \", arr[i][j]);\n",
    "        }\n",
    "        printf(\"\\n\");\n",
    "    }\n",
    "   \n",
    "    return 0;\n",
    "}\n"
   ]
  },
  {
   "cell_type": "code",
   "execution_count": 459,
   "metadata": {},
   "outputs": [
    {
     "data": {
      "text/markdown": [
       "Run: `clang++ -std=c++17 -Wall -Werror -fsanitize=address main.cpp -o a.exe`"
      ],
      "text/plain": [
       "<IPython.core.display.Markdown object>"
      ]
     },
     "metadata": {},
     "output_type": "display_data"
    },
    {
     "data": {
      "text/markdown": [
       "Run: `./a.exe`"
      ],
      "text/plain": [
       "<IPython.core.display.Markdown object>"
      ]
     },
     "metadata": {},
     "output_type": "display_data"
    },
    {
     "name": "stdout",
     "output_type": "stream",
     "text": [
      "Success, res = 0\r\n",
      "Error a too big\r\n"
     ]
    }
   ],
   "source": [
    "%%cpp main.cpp\n",
    "%run clang++ -std=c++17 -Wall -Werror -fsanitize=address main.cpp -o a.exe\n",
    "%run ./a.exe \n",
    "\n",
    "#include <stdio.h>\n",
    "#include <stdlib.h>\n",
    "#include <string>\n",
    "#include <variant>\n",
    "\n",
    "\n",
    "template <typename T>\n",
    "struct TErrorOr {\n",
    "    std::variant<std::string, T> Variant;\n",
    "    \n",
    "    TErrorOr() {\n",
    "        Variant.template emplace<0>(\"not defined\");\n",
    "    }\n",
    "    TErrorOr(T value) {\n",
    "        Variant.template emplace<1>(std::move(value));\n",
    "    }\n",
    "    \n",
    "    bool IsOk() const {\n",
    "        return Variant.index() == 1;\n",
    "    }\n",
    "    \n",
    "    T& Value() {\n",
    "        return std::get<1>(Variant);\n",
    "    }\n",
    "    \n",
    "    std::string& Error() {\n",
    "        return std::get<0>(Variant);\n",
    "    }\n",
    "};\n",
    "\n",
    "template <typename T>\n",
    "TErrorOr<T> CreateError(std::string str) {\n",
    "    TErrorOr<T> err;\n",
    "    err.Variant.template emplace<0>(std::move(str));\n",
    "    return err;\n",
    "}\n",
    "\n",
    "\n",
    "TErrorOr<int> f(int a) {\n",
    "    if (a > 40000)\n",
    "        return CreateError<int>(\"a too big\");\n",
    "    return a * a; \n",
    "}\n",
    "\n",
    "TErrorOr<int> f2(int a, int b) {\n",
    "    TErrorOr<int> a2 = f(a);\n",
    "    if (!a2.IsOk()) {\n",
    "        return a2;\n",
    "    }\n",
    "    TErrorOr<int> b2 = f(b);\n",
    "    if (!b2.IsOk()) {\n",
    "        return b2;\n",
    "    }\n",
    "    if ((int64_t)a + b > 2000000000) {\n",
    "        return CreateError<int>(\"a + b too big\");\n",
    "    }\n",
    "    return a2.Value() + b2.Value();\n",
    "}\n",
    "\n",
    "int main() {\n",
    "    {\n",
    "        int a = 0;\n",
    "        TErrorOr<int> x = f(a);\n",
    "        if (!x.IsOk()) {\n",
    "            printf(\"Error %s\\n\", x.Error().c_str());\n",
    "        } else {\n",
    "            printf(\"Success, res = %d\\n\", x.Value());    \n",
    "        }\n",
    "    }\n",
    "    {\n",
    "        int a = 1000;\n",
    "        int b = 100000;\n",
    "        TErrorOr<int> x = f2(a, b);\n",
    "        if (!x.IsOk()) {\n",
    "            printf(\"Error %s\\n\", x.Error().c_str());\n",
    "        } else {\n",
    "            printf(\"Success, res = %d\\n\", x.Value());    \n",
    "        }\n",
    "    }\n",
    "    return 0;\n",
    "}"
   ]
  },
  {
   "cell_type": "code",
   "execution_count": null,
   "metadata": {},
   "outputs": [],
   "source": []
  },
  {
   "cell_type": "code",
   "execution_count": 461,
   "metadata": {},
   "outputs": [
    {
     "data": {
      "text/markdown": [
       "Run: `clang++ -std=c++17 -Wall -Werror -fsanitize=address main.cpp -o a.exe`"
      ],
      "text/plain": [
       "<IPython.core.display.Markdown object>"
      ]
     },
     "metadata": {},
     "output_type": "display_data"
    },
    {
     "data": {
      "text/markdown": [
       "Run: `./a.exe`"
      ],
      "text/plain": [
       "<IPython.core.display.Markdown object>"
      ]
     },
     "metadata": {},
     "output_type": "display_data"
    },
    {
     "name": "stdout",
     "output_type": "stream",
     "text": [
      "Error: a too big\r\n"
     ]
    }
   ],
   "source": [
    "%%cpp main.cpp\n",
    "%run clang++ -std=c++17 -Wall -Werror -fsanitize=address main.cpp -o a.exe\n",
    "%run ./a.exe \n",
    "\n",
    "#include <stdio.h>\n",
    "#include <stdlib.h>\n",
    "#include <string>\n",
    "#include <exception>\n",
    "#include <stdexcept>\n",
    "\n",
    "\n",
    "int f(int a) {\n",
    "    if (a > 40000)\n",
    "        throw std::runtime_error(\"a too big\");\n",
    "    return a * a; \n",
    "}\n",
    "\n",
    "int f2(int a, int b) {\n",
    "    int64_t res = f(a) + f(b);\n",
    "    if (res > 2000000000) {\n",
    "        throw std::runtime_error(\"a + b too big\");\n",
    "    }\n",
    "    return res;\n",
    "}\n",
    "\n",
    "int main() {\n",
    "    try {\n",
    "        int a = 1000000;\n",
    "        int x = f(a);\n",
    "        printf(\"Success, res = %d\\n\", x);  \n",
    "    } catch (const std::exception& e) {\n",
    "        printf(\"Error: %s\\n\", e.what());  \n",
    "    }\n",
    "    return 0;\n",
    "}"
   ]
  },
  {
   "cell_type": "code",
   "execution_count": null,
   "metadata": {},
   "outputs": [],
   "source": [
    "%%cpp main.cpp\n",
    "%run clang++ -std=c++17 -Wall -Werror -fsanitize=address main.cpp -o a.exe\n",
    "%run ./a.exe \n",
    "\n",
    "#include <stdio.h>\n",
    "#include <stdlib.h>\n",
    "#include <string>\n",
    "#include <exception>\n",
    "#include <stdexcept>\n",
    "\n",
    "\n",
    "void f() {\n",
    "    std::vector<int> x;\n",
    "    throw std::runtime_error(\"XXX\");\n",
    "    std::vector<int> y;\n",
    "}\n",
    "\n",
    "int main() {\n",
    "    std::vector<int> a;\n",
    "    try {\n",
    "        std::vector<int> b;\n",
    "        f();\n",
    "        std::vector<int> c;  \n",
    "    } catch (const std::exception& e) {\n",
    "        std::vector<int> d; \n",
    "    }\n",
    "    return 0;\n",
    "}"
   ]
  },
  {
   "cell_type": "code",
   "execution_count": null,
   "metadata": {},
   "outputs": [],
   "source": [
    "swap для кастомных типов"
   ]
  },
  {
   "cell_type": "code",
   "execution_count": null,
   "metadata": {},
   "outputs": [],
   "source": []
  },
  {
   "cell_type": "code",
   "execution_count": 468,
   "metadata": {},
   "outputs": [
    {
     "data": {
      "text/markdown": [
       "Run: `clang++ -std=c++20 -Wall -Werror -fsanitize=address main.cpp -o a.exe`"
      ],
      "text/plain": [
       "<IPython.core.display.Markdown object>"
      ]
     },
     "metadata": {},
     "output_type": "display_data"
    },
    {
     "name": "stdout",
     "output_type": "stream",
     "text": [
      "\u001b[1mmain.cpp:17:9: \u001b[0m\u001b[0;1;31merror: \u001b[0m\u001b[1minvalid operands to binary expression ('A' and 'A')\u001b[0m\n",
      "    A{} == A{};\n",
      "\u001b[0;1;32m    ~~~ ^  ~~~\n",
      "\u001b[0m1 error generated.\n"
     ]
    },
    {
     "data": {
      "text/markdown": [
       "Run: `./a.exe`"
      ],
      "text/plain": [
       "<IPython.core.display.Markdown object>"
      ]
     },
     "metadata": {},
     "output_type": "display_data"
    }
   ],
   "source": [
    "%%cpp main.cpp\n",
    "%run clang++ -std=c++20 -Wall -Werror -fsanitize=address main.cpp -o a.exe\n",
    "%run ./a.exe \n",
    "\n",
    "#include <stdio.h>\n",
    "#include <stdlib.h>\n",
    "#include <string>\n",
    "#include <exception>\n",
    "#include <stdexcept>\n",
    "\n",
    "\n",
    "struct A {\n",
    "   // bool operator==(const A&) const = default;\n",
    "};\n",
    "\n",
    "int main() {\n",
    "    A{} == A{};\n",
    "    return 0;\n",
    "}"
   ]
  },
  {
   "cell_type": "code",
   "execution_count": null,
   "metadata": {},
   "outputs": [],
   "source": []
  }
 ],
 "metadata": {
  "kernelspec": {
   "display_name": "Python 3",
   "language": "python",
   "name": "python3"
  },
  "language_info": {
   "codemirror_mode": {
    "name": "ipython",
    "version": 3
   },
   "file_extension": ".py",
   "mimetype": "text/x-python",
   "name": "python",
   "nbconvert_exporter": "python",
   "pygments_lexer": "ipython3",
   "version": "3.8.5"
  }
 },
 "nbformat": 4,
 "nbformat_minor": 4
}
