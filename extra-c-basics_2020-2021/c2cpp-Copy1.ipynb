{
 "cells": [
  {
   "cell_type": "code",
   "execution_count": 49,
   "metadata": {},
   "outputs": [
    {
     "data": {
      "application/javascript": [
       "// setup cpp code highlighting\n",
       "IPython.CodeCell.options_default.highlight_modes[\"text/x-c++src\"] = {'reg':[/^%%cpp/]} ;"
      ],
      "text/plain": [
       "<IPython.core.display.Javascript object>"
      ]
     },
     "metadata": {},
     "output_type": "display_data"
    },
    {
     "data": {
      "text/html": [
       "<!-- YANDEX_METRICA_BEGIN -->\n",
       "    <script type=\"text/javascript\" >\n",
       "       (function(m,e,t,r,i,k,a){m[i]=m[i]||function(){(m[i].a=m[i].a||[]).push(arguments)};\n",
       "       m[i].l=1*new Date();k=e.createElement(t),a=e.getElementsByTagName(t)[0],k.async=1,k.src=r,a.parentNode.insertBefore(k,a)})\n",
       "       (window, document, \"script\", \"https://mc.yandex.ru/metrika/tag.js\", \"ym\");\n",
       "\n",
       "       ym(59260609, \"init\", {\n",
       "            clickmap:true,\n",
       "            trackLinks:true,\n",
       "            accurateTrackBounce:true\n",
       "       });\n",
       "    </script>\n",
       "    <noscript><div><img src=\"https://mc.yandex.ru/watch/59260609\" style=\"position:absolute; left:-9999px;\" alt=\"\" /></div></noscript>\n",
       "    <!-- YANDEX_METRICA_END -->"
      ],
      "text/plain": [
       "<IPython.core.display.HTML object>"
      ]
     },
     "metadata": {},
     "output_type": "display_data"
    },
    {
     "data": {
      "text/html": [
       "В этот ноутбук встроен код Яндекс Метрики для сбора статистики использований. Если вы не хотите, чтобы по вам собиралась статистика, исправьте: yandex_metrica_allowed = False<!-- MAGICS_SETUP_PRINTING_END -->"
      ],
      "text/plain": [
       "<IPython.core.display.HTML object>"
      ]
     },
     "metadata": {},
     "output_type": "display_data"
    }
   ],
   "source": [
    "# look at tools/set_up_magics.ipynb\n",
    "yandex_metrica_allowed = True ; get_ipython().run_cell('# one_liner_str\\n\\nget_ipython().run_cell_magic(\\'javascript\\', \\'\\', \\'// setup cpp code highlighting\\\\nIPython.CodeCell.options_default.highlight_modes[\"text/x-c++src\"] = {\\\\\\'reg\\\\\\':[/^%%cpp/]} ;\\')\\n\\n# creating magics\\nfrom IPython.core.magic import register_cell_magic, register_line_magic\\nfrom IPython.display import display, Markdown, HTML\\nimport argparse\\nfrom subprocess import Popen, PIPE\\nimport random\\nimport sys\\nimport os\\nimport re\\nimport signal\\nimport shutil\\nimport shlex\\nimport glob\\n\\n@register_cell_magic\\ndef save_file(args_str, cell, line_comment_start=\"#\"):\\n    parser = argparse.ArgumentParser()\\n    parser.add_argument(\"fname\")\\n    parser.add_argument(\"--ejudge-style\", action=\"store_true\")\\n    args = parser.parse_args(args_str.split())\\n    \\n    cell = cell if cell[-1] == \\'\\\\n\\' or args.no_eof_newline else cell + \"\\\\n\"\\n    cmds = []\\n    with open(args.fname, \"w\") as f:\\n        f.write(line_comment_start + \" %%cpp \" + args_str + \"\\\\n\")\\n        for line in cell.split(\"\\\\n\"):\\n            line_to_write = (line if not args.ejudge_style else line.rstrip()) + \"\\\\n\"\\n            if line.startswith(\"%\"):\\n                run_prefix = \"%run \"\\n                if line.startswith(run_prefix):\\n                    cmds.append(line[len(run_prefix):].strip())\\n                    f.write(line_comment_start + \" \" + line_to_write)\\n                    continue\\n                run_prefix = \"%# \"\\n                if line.startswith(run_prefix):\\n                    f.write(line_comment_start + \" \" + line_to_write)\\n                    continue\\n                raise Exception(\"Unknown %%save_file subcommand: \\'%s\\'\" % line)\\n            else:\\n                f.write(line_to_write)\\n        f.write(\"\" if not args.ejudge_style else line_comment_start + r\" line without \\\\n\")\\n    for cmd in cmds:\\n        display(Markdown(\"Run: `%s`\" % cmd))\\n        get_ipython().system(cmd)\\n\\n@register_cell_magic\\ndef cpp(fname, cell):\\n    save_file(fname, cell, \"//\")\\n\\n@register_cell_magic\\ndef asm(fname, cell):\\n    save_file(fname, cell, \"//\")\\n    \\n@register_cell_magic\\ndef makefile(fname, cell):\\n    assert not fname\\n    save_file(\"makefile\", cell.replace(\" \" * 4, \"\\\\t\"))\\n        \\n@register_line_magic\\ndef p(line):\\n    try:\\n        expr, comment = line.split(\" #\")\\n        display(Markdown(\"`{} = {}`  # {}\".format(expr.strip(), eval(expr), comment.strip())))\\n    except:\\n        display(Markdown(\"{} = {}\".format(line, eval(line))))\\n        \\ndef show_file(file, clear_at_begin=True, return_html_string=False):\\n    if clear_at_begin:\\n        get_ipython().system(\"truncate --size 0 \" + file)\\n    obj = file.replace(\\'.\\', \\'_\\').replace(\\'/\\', \\'_\\') + \"_obj\"\\n    html_string = \\'\\'\\'\\n        <!--MD_BEGIN_FILTER-->\\n        <script type=text/javascript>\\n        var entrance___OBJ__ = 0;\\n        var errors___OBJ__ = 0;\\n        function refresh__OBJ__()\\n        {\\n            entrance___OBJ__ -= 1;\\n            var elem = document.getElementById(\"__OBJ__\");\\n            if (elem) {\\n                var xmlhttp=new XMLHttpRequest();\\n                xmlhttp.onreadystatechange=function()\\n                {\\n                    var elem = document.getElementById(\"__OBJ__\");\\n                    console.log(!!elem, xmlhttp.readyState, xmlhttp.status, entrance___OBJ__);\\n                    if (elem && xmlhttp.readyState==4) {\\n                        if (xmlhttp.status==200)\\n                        {\\n                            errors___OBJ__ = 0;\\n                            if (!entrance___OBJ__) {\\n                                elem.innerText = xmlhttp.responseText;\\n                                entrance___OBJ__ += 1;\\n                                console.log(\"req\");\\n                                window.setTimeout(\"refresh__OBJ__()\", 300); \\n                            }\\n                            return xmlhttp.responseText;\\n                        } else {\\n                            errors___OBJ__ += 1;\\n                            if (errors___OBJ__ < 10 && !entrance___OBJ__) {\\n                                entrance___OBJ__ += 1;\\n                                console.log(\"req\");\\n                                window.setTimeout(\"refresh__OBJ__()\", 300); \\n                            }\\n                        }\\n                    }\\n                }\\n                xmlhttp.open(\"GET\", \"__FILE__\", true);\\n                xmlhttp.setRequestHeader(\"Cache-Control\", \"no-cache\");\\n                xmlhttp.send();     \\n            }\\n        }\\n        \\n        if (!entrance___OBJ__) {\\n            entrance___OBJ__ += 1;\\n            refresh__OBJ__(); \\n        }\\n        </script>\\n        \\n        <font color=\"white\"> <tt>\\n        <p id=\"__OBJ__\" style=\"font-size: 16px; border:3px #333333 solid; background: #333333; border-radius: 10px; padding: 10px;  \"></p>\\n        </tt> </font>\\n        <!--MD_END_FILTER-->\\n        <!--MD_FROM_FILE __FILE__ -->\\n        \\'\\'\\'.replace(\"__OBJ__\", obj).replace(\"__FILE__\", file)\\n    if return_html_string:\\n        return html_string\\n    display(HTML(html_string))\\n    \\nBASH_POPEN_TMP_DIR = \"./bash_popen_tmp\"\\n    \\ndef bash_popen_terminate_all():\\n    for p in globals().get(\"bash_popen_list\", []):\\n        print(\"Terminate pid=\" + str(p.pid), file=sys.stderr)\\n        p.terminate()\\n    globals()[\"bash_popen_list\"] = []\\n    if os.path.exists(BASH_POPEN_TMP_DIR):\\n        shutil.rmtree(BASH_POPEN_TMP_DIR)\\n\\nbash_popen_terminate_all()  \\n\\ndef bash_popen(cmd):\\n    if not os.path.exists(BASH_POPEN_TMP_DIR):\\n        os.mkdir(BASH_POPEN_TMP_DIR)\\n    h = os.path.join(BASH_POPEN_TMP_DIR, str(random.randint(0, 1e18)))\\n    stdout_file = h + \".out.html\"\\n    stderr_file = h + \".err.html\"\\n    run_log_file = h + \".fin.html\"\\n    \\n    stdout = open(stdout_file, \"wb\")\\n    stdout = open(stderr_file, \"wb\")\\n    \\n    html = \"\"\"\\n    <table width=\"100%\">\\n    <colgroup>\\n       <col span=\"1\" style=\"width: 70px;\">\\n       <col span=\"1\">\\n    </colgroup>    \\n    <tbody>\\n      <tr> <td><b>STDOUT</b></td> <td> {stdout} </td> </tr>\\n      <tr> <td><b>STDERR</b></td> <td> {stderr} </td> </tr>\\n      <tr> <td><b>RUN LOG</b></td> <td> {run_log} </td> </tr>\\n    </tbody>\\n    </table>\\n    \"\"\".format(\\n        stdout=show_file(stdout_file, return_html_string=True),\\n        stderr=show_file(stderr_file, return_html_string=True),\\n        run_log=show_file(run_log_file, return_html_string=True),\\n    )\\n    \\n    cmd = \"\"\"\\n        bash -c {cmd} &\\n        pid=$!\\n        echo \"Process started! pid=${{pid}}\" > {run_log_file}\\n        wait ${{pid}}\\n        echo \"Process finished! exit_code=$?\" >> {run_log_file}\\n    \"\"\".format(cmd=shlex.quote(cmd), run_log_file=run_log_file)\\n    # print(cmd)\\n    display(HTML(html))\\n    \\n    p = Popen([\"bash\", \"-c\", cmd], stdin=PIPE, stdout=stdout, stderr=stdout)\\n    \\n    bash_popen_list.append(p)\\n    return p\\n\\n\\n@register_line_magic\\ndef bash_async(line):\\n    bash_popen(line)\\n    \\n    \\ndef show_log_file(file, return_html_string=False):\\n    obj = file.replace(\\'.\\', \\'_\\').replace(\\'/\\', \\'_\\') + \"_obj\"\\n    html_string = \\'\\'\\'\\n        <!--MD_BEGIN_FILTER-->\\n        <script type=text/javascript>\\n        var entrance___OBJ__ = 0;\\n        var errors___OBJ__ = 0;\\n        function halt__OBJ__(elem, color)\\n        {\\n            elem.setAttribute(\"style\", \"font-size: 14px; background: \" + color + \"; padding: 10px; border: 3px; border-radius: 5px; color: white; \");                    \\n        }\\n        function refresh__OBJ__()\\n        {\\n            entrance___OBJ__ -= 1;\\n            if (entrance___OBJ__ < 0) {\\n                entrance___OBJ__ = 0;\\n            }\\n            var elem = document.getElementById(\"__OBJ__\");\\n            if (elem) {\\n                var xmlhttp=new XMLHttpRequest();\\n                xmlhttp.onreadystatechange=function()\\n                {\\n                    var elem = document.getElementById(\"__OBJ__\");\\n                    console.log(!!elem, xmlhttp.readyState, xmlhttp.status, entrance___OBJ__);\\n                    if (elem && xmlhttp.readyState==4) {\\n                        if (xmlhttp.status==200)\\n                        {\\n                            errors___OBJ__ = 0;\\n                            if (!entrance___OBJ__) {\\n                                if (elem.innerHTML != xmlhttp.responseText) {\\n                                    elem.innerHTML = xmlhttp.responseText;\\n                                }\\n                                if (elem.innerHTML.includes(\"Process finished.\")) {\\n                                    halt__OBJ__(elem, \"#333333\");\\n                                } else {\\n                                    entrance___OBJ__ += 1;\\n                                    console.log(\"req\");\\n                                    window.setTimeout(\"refresh__OBJ__()\", 300); \\n                                }\\n                            }\\n                            return xmlhttp.responseText;\\n                        } else {\\n                            errors___OBJ__ += 1;\\n                            if (!entrance___OBJ__) {\\n                                if (errors___OBJ__ < 6) {\\n                                    entrance___OBJ__ += 1;\\n                                    console.log(\"req\");\\n                                    window.setTimeout(\"refresh__OBJ__()\", 300); \\n                                } else {\\n                                    halt__OBJ__(elem, \"#994444\");\\n                                }\\n                            }\\n                        }\\n                    }\\n                }\\n                xmlhttp.open(\"GET\", \"__FILE__\", true);\\n                xmlhttp.setRequestHeader(\"Cache-Control\", \"no-cache\");\\n                xmlhttp.send();     \\n            }\\n        }\\n        \\n        if (!entrance___OBJ__) {\\n            entrance___OBJ__ += 1;\\n            refresh__OBJ__(); \\n        }\\n        </script>\\n\\n        <p id=\"__OBJ__\" style=\"font-size: 14px; background: #000000; padding: 10px; border: 3px; border-radius: 5px; color: white; \">\\n        </p>\\n        \\n        </font>\\n        <!--MD_END_FILTER-->\\n        <!--MD_FROM_FILE __FILE__.md -->\\n        \\'\\'\\'.replace(\"__OBJ__\", obj).replace(\"__FILE__\", file)\\n    if return_html_string:\\n        return html_string\\n    display(HTML(html_string))\\n\\n    \\nclass TInteractiveLauncher:\\n    tmp_path = \"./interactive_launcher_tmp\"\\n    def __init__(self, cmd):\\n        try:\\n            os.mkdir(TInteractiveLauncher.tmp_path)\\n        except:\\n            pass\\n        name = str(random.randint(0, 1e18))\\n        self.inq_path = os.path.join(TInteractiveLauncher.tmp_path, name + \".inq\")\\n        self.log_path = os.path.join(TInteractiveLauncher.tmp_path, name + \".log\")\\n        \\n        os.mkfifo(self.inq_path)\\n        open(self.log_path, \\'w\\').close()\\n        open(self.log_path + \".md\", \\'w\\').close()\\n\\n        self.pid = os.fork()\\n        if self.pid == -1:\\n            print(\"Error\")\\n        if self.pid == 0:\\n            exe_cands = glob.glob(\"../tools/launcher.py\") + glob.glob(\"../../tools/launcher.py\")\\n            assert(len(exe_cands) == 1)\\n            assert(os.execvp(\"python3\", [\"python3\", exe_cands[0], \"-l\", self.log_path, \"-i\", self.inq_path, \"-c\", cmd]) == 0)\\n        self.inq_f = open(self.inq_path, \"w\")\\n        interactive_launcher_opened_set.add(self.pid)\\n        show_log_file(self.log_path)\\n\\n    def write(self, s):\\n        s = s.encode()\\n        assert len(s) == os.write(self.inq_f.fileno(), s)\\n        \\n    def get_pid(self):\\n        n = 100\\n        for i in range(n):\\n            try:\\n                return int(re.findall(r\"PID = (\\\\d+)\", open(self.log_path).readline())[0])\\n            except:\\n                if i + 1 == n:\\n                    raise\\n                time.sleep(0.1)\\n        \\n    def input_queue_path(self):\\n        return self.inq_path\\n        \\n    def close(self):\\n        self.inq_f.close()\\n        os.waitpid(self.pid, 0)\\n        os.remove(self.inq_path)\\n        # os.remove(self.log_path)\\n        self.inq_path = None\\n        self.log_path = None \\n        interactive_launcher_opened_set.remove(self.pid)\\n        self.pid = None\\n        \\n    @staticmethod\\n    def terminate_all():\\n        if \"interactive_launcher_opened_set\" not in globals():\\n            globals()[\"interactive_launcher_opened_set\"] = set()\\n        global interactive_launcher_opened_set\\n        for pid in interactive_launcher_opened_set:\\n            print(\"Terminate pid=\" + str(pid), file=sys.stderr)\\n            os.kill(pid, signal.SIGKILL)\\n            os.waitpid(pid, 0)\\n        interactive_launcher_opened_set = set()\\n        if os.path.exists(TInteractiveLauncher.tmp_path):\\n            shutil.rmtree(TInteractiveLauncher.tmp_path)\\n    \\nTInteractiveLauncher.terminate_all()\\n   \\nyandex_metrica_allowed = bool(globals().get(\"yandex_metrica_allowed\", False))\\nif yandex_metrica_allowed:\\n    display(HTML(\\'\\'\\'<!-- YANDEX_METRICA_BEGIN -->\\n    <script type=\"text/javascript\" >\\n       (function(m,e,t,r,i,k,a){m[i]=m[i]||function(){(m[i].a=m[i].a||[]).push(arguments)};\\n       m[i].l=1*new Date();k=e.createElement(t),a=e.getElementsByTagName(t)[0],k.async=1,k.src=r,a.parentNode.insertBefore(k,a)})\\n       (window, document, \"script\", \"https://mc.yandex.ru/metrika/tag.js\", \"ym\");\\n\\n       ym(59260609, \"init\", {\\n            clickmap:true,\\n            trackLinks:true,\\n            accurateTrackBounce:true\\n       });\\n    </script>\\n    <noscript><div><img src=\"https://mc.yandex.ru/watch/59260609\" style=\"position:absolute; left:-9999px;\" alt=\"\" /></div></noscript>\\n    <!-- YANDEX_METRICA_END -->\\'\\'\\'))\\n\\ndef make_oneliner():\\n    html_text = \\'(\"В этот ноутбук встроен код Яндекс Метрики для сбора статистики использований. Если вы не хотите, чтобы по вам собиралась статистика, исправьте: yandex_metrica_allowed = False\" if yandex_metrica_allowed else \"\")\\'\\n    html_text += \\' + \"<\"\"!-- MAGICS_SETUP_PRINTING_END -->\"\\'\\n    return \\'\\'.join([\\n        \\'# look at tools/set_up_magics.ipynb\\\\n\\',\\n        \\'yandex_metrica_allowed = True ; get_ipython().run_cell(%s);\\' % repr(one_liner_str),\\n        \\'display(HTML(%s))\\' % html_text,\\n        \\' #\\'\\'MAGICS_SETUP_END\\'\\n    ])\\n       \\n\\n');display(HTML((\"В этот ноутбук встроен код Яндекс Метрики для сбора статистики использований. Если вы не хотите, чтобы по вам собиралась статистика, исправьте: yandex_metrica_allowed = False\" if yandex_metrica_allowed else \"\") + \"<\"\"!-- MAGICS_SETUP_PRINTING_END -->\")) #MAGICS_SETUP_END"
   ]
  },
  {
   "cell_type": "code",
   "execution_count": null,
   "metadata": {},
   "outputs": [],
   "source": []
  },
  {
   "cell_type": "code",
   "execution_count": 69,
   "metadata": {
    "scrolled": true
   },
   "outputs": [
    {
     "data": {
      "text/markdown": [
       "Run: `clang++ -Wall -Werror main.cpp -o a.exe`"
      ],
      "text/plain": [
       "<IPython.core.display.Markdown object>"
      ]
     },
     "metadata": {},
     "output_type": "display_data"
    },
    {
     "data": {
      "text/markdown": [
       "Run: `time -p ./a.exe`"
      ],
      "text/plain": [
       "<IPython.core.display.Markdown object>"
      ]
     },
     "metadata": {},
     "output_type": "display_data"
    },
    {
     "name": "stdout",
     "output_type": "stream",
     "text": [
      "real 0.34\r\n",
      "user 0.24\r\n",
      "sys 0.09\r\n"
     ]
    }
   ],
   "source": []
  },
  {
   "cell_type": "code",
   "execution_count": 70,
   "metadata": {},
   "outputs": [
    {
     "data": {
      "text/markdown": [
       "Run: `clang++ -Wall -Werror main.cpp -o a.exe`"
      ],
      "text/plain": [
       "<IPython.core.display.Markdown object>"
      ]
     },
     "metadata": {},
     "output_type": "display_data"
    },
    {
     "data": {
      "text/markdown": [
       "Run: `time -p ./a.exe`"
      ],
      "text/plain": [
       "<IPython.core.display.Markdown object>"
      ]
     },
     "metadata": {},
     "output_type": "display_data"
    },
    {
     "name": "stdout",
     "output_type": "stream",
     "text": [
      "real 0.28\r\n",
      "user 0.23\r\n",
      "sys 0.04\r\n"
     ]
    }
   ],
   "source": []
  },
  {
   "cell_type": "code",
   "execution_count": null,
   "metadata": {},
   "outputs": [],
   "source": []
  },
  {
   "cell_type": "code",
   "execution_count": null,
   "metadata": {},
   "outputs": [],
   "source": []
  },
  {
   "cell_type": "code",
   "execution_count": 73,
   "metadata": {},
   "outputs": [],
   "source": [
    "%%cpp cb.h\n",
    "\n",
    "#ifndef DEQUE_CIRCULAR_BUFFER_H\n",
    "#define DEQUE_CIRCULAR_BUFFER_H\n",
    "\n",
    "#include \"cstddef\"\n",
    "#include <iostream>\n",
    "#include <cstdlib>\n",
    "#include <cstring>\n",
    "\n",
    "template <typename T>\n",
    "class CircularBuffer {\n",
    "private:\n",
    "    size_t head_;\n",
    "    size_t rear_;\n",
    "    size_t size_;\n",
    "    size_t capacity_;\n",
    "    T **data_;\n",
    "\n",
    "public:\n",
    "    CircularBuffer() : head_(0), rear_(0), size_(0), capacity_(0), data_(nullptr) {\n",
    "        // fprintf(stderr, \"in def CB\\n\");\n",
    "    }\n",
    "\n",
    "    explicit CircularBuffer(size_t count) : head_(0), rear_(0), size_(0), capacity_(count) {\n",
    "        data_ = new T *[count];\n",
    "    }\n",
    "    CircularBuffer(const CircularBuffer<T> &other)\n",
    "        : head_(other.head_), rear_(other.rear_), size_(other.size_), capacity_(other.capacity_) {\n",
    "        data_ = new T *[capacity_];\n",
    "        for (size_t i = 0; i < size_; i++) {\n",
    "            data_[(i + head_) % capacity_] = other.data_[(i + head_) % capacity_];\n",
    "        }\n",
    "    }\n",
    "    CircularBuffer<T> &operator=(const CircularBuffer<T> &other) {\n",
    "        if (this != &other) {\n",
    "            // fprintf(stderr, \"in cb copy\\n\");\n",
    "            for (size_t i = 0; i < capacity_; i++) {\n",
    "                delete data_[(head_ + i) % capacity_];\n",
    "            }\n",
    "            delete[] data_;\n",
    "            size_ = other.size_;\n",
    "            capacity_ = other.capacity_;\n",
    "            rear_ = other.rear_;\n",
    "            head_ = other.head_;\n",
    "\n",
    "            if (capacity_ > 0) {\n",
    "                data_ = new T *[capacity_];\n",
    "                for (size_t i = 0; i < size_; i++) {\n",
    "                    T tmp = *(other.data_[(head_ + i) % capacity_]);\n",
    "                    data_[(head_ + i) % capacity_] = new T(tmp);\n",
    "                }\n",
    "                for (size_t i = size_; i < capacity_; i++) {\n",
    "                    data_[(head_ + i) % capacity_] = new T;\n",
    "                }\n",
    "            } else {\n",
    "                data_ = nullptr;\n",
    "            }\n",
    "        }\n",
    "        return *this;\n",
    "    }\n",
    "    ~CircularBuffer() {\n",
    "        for (size_t i = 0; i < capacity_; i++) {\n",
    "            delete data_[(head_ + i) % capacity_];\n",
    "        }\n",
    "        delete[] data_;\n",
    "    }\n",
    "\n",
    "    void Reserve(size_t new_size) {\n",
    "        if (new_size > capacity_) {\n",
    "            capacity_ = capacity_ == 0 ? 1 : capacity_;\n",
    "            // capacity will change so we need to shift all elements in our data.\n",
    "            ShiftMem();\n",
    "            capacity_ = new_size;\n",
    "            T *tmpv = new T[capacity_];\n",
    "            for (size_t i = 0; i < size_; i++) {\n",
    "                tmpv[i] = data_[i];\n",
    "            }\n",
    "            delete[] data_;\n",
    "            data_ = tmpv;\n",
    "            head_ = 0;\n",
    "            rear_ = size_;\n",
    "        }\n",
    "    }\n",
    "    void UpdateMem() {\n",
    "        if (size_ >= capacity_) {\n",
    "            // fprintf(stderr, \"in update\\n\");\n",
    "            capacity_ = capacity_ == 0 ? 1 : capacity_;\n",
    "            ShiftMem();\n",
    "            capacity_ *= 2;\n",
    "            T **tmpv = new T *[capacity_];\n",
    "            for (size_t i = 0; i < size_; i++) {\n",
    "                // fprintf(stderr, \"in uodate cycle\\n\");\n",
    "                tmpv[i] = data_[i];\n",
    "            }\n",
    "            for (size_t i = size_; i < capacity_; i++) {\n",
    "                tmpv[i] = new T;\n",
    "                }\n",
    "            delete[] data_;\n",
    "            data_ = tmpv;\n",
    "            head_ = 0;\n",
    "            rear_ = size_;\n",
    "        }\n",
    "    }\n",
    "    void ShiftMem() {\n",
    "        T **buff = new T *[capacity_];\n",
    "        // fprintf(stderr, \" in shift\\n\");\n",
    "        for (size_t i = 0; i < size_; i++) {\n",
    "            // fprintf(stderr, \"first cycle in shift\\n\");\n",
    "            head_ %= capacity_;\n",
    "            buff[i] = data_[head_++];\n",
    "        }\n",
    "        for (size_t i = 0; i < size_; ++i) {\n",
    "            // fprintf(stderr, \"second cycle in shift\\n\");\n",
    "            data_[i] = buff[i];\n",
    "        }\n",
    "        delete[] buff;\n",
    "    }\n",
    "    void PushBack() {\n",
    "        // std::cout << \"true\\n\";\n",
    "        // fprintf(stderr, \" before UpdateMem\\n\");\n",
    "        UpdateMem();\n",
    "\n",
    "        rear_ %= capacity_;\n",
    "        rear_++;\n",
    "        // data_[rear_++] = new T(elem);\n",
    "        rear_ %= capacity_;\n",
    "        ++size_;\n",
    "        // fprintf(stderr, \"%p - ptr in push back\\n\", &data_[0]);\n",
    "    }\n",
    "\n",
    "    void PushFront() {\n",
    "        UpdateMem();\n",
    "        // head will move \"upside down\" while pushing and conversely while popping\n",
    "        head_ = (head_ + capacity_ - 1) % capacity_;\n",
    "        // data_[head_] = new T(elem);\n",
    "        ++size_;\n",
    "    }\n",
    "\n",
    "    T &Back() {\n",
    "        return *(data_[(rear_ + capacity_ - 1) % capacity_]);\n",
    "    }\n",
    "    const T &Back() const {\n",
    "        return *(data_[(rear_ + capacity_ - 1) % capacity_]);\n",
    "    }\n",
    "    T &operator[](size_t idx) {\n",
    "        return *(data_[(head_ + idx) % capacity_]);\n",
    "    }\n",
    "    const T &operator[](size_t idx) const {\n",
    "        return *(data_[(head_ + idx) % capacity_]);\n",
    "    }\n",
    "    T &Front() {\n",
    "        return *(data_[head_ % capacity_]);\n",
    "    }\n",
    "    const T &Front() const {\n",
    "        return *(data_[head_ % capacity_]);\n",
    "    }\n",
    "\n",
    "    T PopBack() {\n",
    "        T tmp = Back();\n",
    "        --size_;\n",
    "        // it is like usual popping but so that it dependen from capacity\n",
    "        rear_ = (rear_ + capacity_ - 1) % capacity_;\n",
    "        return tmp;\n",
    "    }\n",
    "\n",
    "    T PopFront() {\n",
    "        T tmp = Front();\n",
    "        size_--;\n",
    "        head_ = (head_ + 1) % capacity_;\n",
    "        return tmp;\n",
    "    }\n",
    "\n",
    "    void Clear() {\n",
    "        size_ = 0;\n",
    "        head_ = 0;\n",
    "        rear_ = 0;\n",
    "    }\n",
    "    bool Empty() const {\n",
    "        return size_ == 0;\n",
    "    }\n",
    "    size_t Capacity() const {\n",
    "        return capacity_;\n",
    "    }\n",
    "    size_t Size() const {\n",
    "        return size_;\n",
    "    }\n",
    "    void Swap(CircularBuffer<T> &other) {\n",
    "        std::swap(data_, other.data_);\n",
    "        std::swap(capacity_, other.capacity_);\n",
    "        std::swap(size_, other.size_);\n",
    "        std::swap(head_, other.head_);\n",
    "        std::swap(rear_, other.rear_);\n",
    "    }\n",
    "};\n",
    "\n",
    "#endif  // DEQUE_CIRCULAR_BUFFER_H"
   ]
  },
  {
   "cell_type": "code",
   "execution_count": 74,
   "metadata": {},
   "outputs": [],
   "source": [
    "%%cpp page.h\n",
    "\n",
    "#ifndef DEQUE_PAGE_PAGE_H\n",
    "#define DEQUE_PAGE_PAGE_H\n",
    "\n",
    "#include \"cstddef\"\n",
    "#include <iostream>\n",
    "#include <cstdlib>\n",
    "#include <cstring>\n",
    "\n",
    "template <class T>\n",
    "class Page {\n",
    "private:\n",
    "    size_t head_;\n",
    "    size_t rear_;\n",
    "    size_t size_;\n",
    "    size_t capacity_;\n",
    "    bool frontal_;\n",
    "    T *data_;\n",
    "\n",
    "public:\n",
    "    Page() : head_(0), rear_(0), size_(0), capacity_(100), frontal_(true) {\n",
    "        data_ = new T[capacity_];\n",
    "    }\n",
    "    bool IsFront() const {\n",
    "        if (size_ == capacity_) {\n",
    "            return false;\n",
    "        }\n",
    "        return frontal_;\n",
    "    }\n",
    "    bool IsBack() const {\n",
    "        if (size_ == 0) {\n",
    "            return true;\n",
    "        }\n",
    "        if (size_ == capacity_) {\n",
    "            return false;\n",
    "        }\n",
    "        return !frontal_;\n",
    "    }\n",
    "    Page(const Page<T> &other)\n",
    "        : head_(other.head_)\n",
    "        , rear_(other.rear_)\n",
    "        , size_(other.size_)\n",
    "        , capacity_(other.capacity_)\n",
    "        , frontal_(other.frontal_) {\n",
    "        data_ = new T[capacity_];\n",
    "        for (size_t i = 0; i < size_; i++) {\n",
    "            data_[(i + head_) % capacity_] = other.data_[(i + head_) % capacity_];\n",
    "        }\n",
    "    }\n",
    "    Page<T> &operator=(const Page<T> &other) {\n",
    "        if (this != &other) {\n",
    "            // fprintf(stderr, \"soidv\\n\");\n",
    "            size_ = other.size_;\n",
    "            capacity_ = other.capacity_;\n",
    "            frontal_ = other.frontal_;\n",
    "            head_ = other.head_;\n",
    "            rear_ = other.rear_;\n",
    "            delete[] data_;\n",
    "            if (capacity_ > 0) {\n",
    "                data_ = new T[capacity_];\n",
    "                for (size_t i = 0; i < capacity_; i++) {\n",
    "                    data_[(i + head_) % capacity_] = other.data_[(i + head_) % capacity_];\n",
    "                }\n",
    "            } /*else data_ = nullptr;*/\n",
    "        }\n",
    "        return *this;\n",
    "    }\n",
    "    ~Page() {\n",
    "        delete[] data_;\n",
    "    }\n",
    "    void PushBack(T elem) {\n",
    "        // UpdateMem();\n",
    "        if (size_ == 0) {\n",
    "            frontal_ = false;\n",
    "        }\n",
    "        rear_ %= capacity_;\n",
    "\n",
    "        data_[rear_++] = elem;\n",
    "        rear_ %= capacity_;\n",
    "        ++size_;\n",
    "    }\n",
    "\n",
    "    void PushFront(T elem) {\n",
    "        // UpdateMem();\n",
    "        // head will move \"upside down\" while pushing and conversely while popping\n",
    "        head_ = (head_ + capacity_ - 1) % capacity_;\n",
    "        data_[head_] = elem;\n",
    "        ++size_;\n",
    "    }\n",
    "    T &Back() {\n",
    "        return data_[(rear_ + capacity_ - 1) % capacity_];\n",
    "    }\n",
    "    const T &Back() const {\n",
    "        return data_[(rear_ + capacity_ - 1) % capacity_];\n",
    "    }\n",
    "    T &operator[](size_t idx) {\n",
    "        return data_[(head_ + idx) % capacity_];\n",
    "    }\n",
    "    const T &operator[](size_t idx) const {\n",
    "        return data_[(head_ + idx) % capacity_];\n",
    "    }\n",
    "    T &Front() {\n",
    "        return data_[head_ % capacity_];\n",
    "    }\n",
    "    const T &Front() const {\n",
    "        return data_[head_ % capacity_];\n",
    "    }\n",
    "\n",
    "    T PopBack() {\n",
    "        T tmp = Back();\n",
    "        --size_;\n",
    "        // it is like usual popping but so that it dependen from capacity\n",
    "        rear_ = (rear_ + capacity_ - 1) % capacity_;\n",
    "        if (size_ == 0) {\n",
    "            frontal_ = true;\n",
    "        }\n",
    "        return tmp;\n",
    "    }\n",
    "\n",
    "    T PopFront() {\n",
    "        T tmp = Front();\n",
    "        size_--;\n",
    "        head_ = (head_ + 1) % capacity_;\n",
    "        return tmp;\n",
    "    }\n",
    "\n",
    "    void Clear() {\n",
    "        size_ = 0;\n",
    "        head_ = 0;\n",
    "        rear_ = 0;\n",
    "        frontal_ = true;\n",
    "    }\n",
    "    bool Empty() const {\n",
    "        return size_ == 0;\n",
    "    }\n",
    "    bool Full() const {\n",
    "        return size_ == capacity_;\n",
    "    }\n",
    "    size_t Capacity() const {\n",
    "        return capacity_;\n",
    "    }\n",
    "    size_t Size() const {\n",
    "        return size_;\n",
    "    }\n",
    "};\n",
    "\n",
    "#endif  // DEQUE_PAGE_PAGE_H"
   ]
  },
  {
   "cell_type": "code",
   "execution_count": 76,
   "metadata": {},
   "outputs": [],
   "source": [
    "%%cpp dq.h\n",
    "\n",
    "#ifndef DEQUE_DEQUE_H\n",
    "#define DEQUE_DEQUE_H\n",
    "\n",
    "#include \"page.h\"\n",
    "#include \"cb.h\"\n",
    "\n",
    "const int kPageSize = 100;\n",
    "\n",
    "template <class T>\n",
    "class Deque {\n",
    "private:\n",
    "    size_t npages_;\n",
    "\n",
    "public:\n",
    "    CircularBuffer<Page<T>> data_;\n",
    "    Deque() : /*data_(1), npages_(0)*/ npages_(0), data_() {\n",
    "    }\n",
    "    Deque(const Deque<T> &other) {\n",
    "        data_ = other.data_;\n",
    "        npages_ = other.npages_;\n",
    "    }\n",
    "    Deque<T> &operator=(const Deque<T> &other) {\n",
    "        if (this != &other) {\n",
    "            data_ = other.data_;\n",
    "            npages_ = other.npages_;\n",
    "        }\n",
    "        return *this;\n",
    "    }\n",
    "    ~Deque() = default;\n",
    "    size_t Size() const {\n",
    "        if (npages_ == 0) {\n",
    "            return 0;\n",
    "        }\n",
    "        if (npages_ == 1) {\n",
    "            return data_.Front().Size();\n",
    "        }\n",
    "        return data_.Front().Size() + (npages_ - 2) * kPageSize + data_.Back().Size();\n",
    "    }\n",
    "    void Swap(Deque<T> &other) {\n",
    "        data_.Swap(other.data_);\n",
    "        std::swap(npages_, other.npages_);\n",
    "    }\n",
    "    T &operator[](size_t idx) {\n",
    "        if (data_.Front().Size() > idx) {\n",
    "            return data_.Front()[idx];\n",
    "        }\n",
    "\n",
    "        size_t back_strt_idx = data_.Front().Size() + (npages_ - 2) * kPageSize;\n",
    "        if (idx >= back_strt_idx) {\n",
    "            return data_.Back()[idx - back_strt_idx];\n",
    "        }\n",
    "        return data_[(idx - data_.Front().Size()) / kPageSize + 1][(idx - data_.Front().Size()) % kPageSize];\n",
    "    }\n",
    "    const T &operator[](size_t idx) const {\n",
    "        if (data_.Front().Size() > idx) {\n",
    "            return data_.Front()[idx];\n",
    "        }\n",
    "\n",
    "        size_t back_strt_idx = data_.Front().Size() + (npages_ - 2) * kPageSize;\n",
    "        if (idx >= back_strt_idx) {\n",
    "            return data_.Back()[idx - back_strt_idx];\n",
    "        }\n",
    "        return data_[(idx - data_.Front().Size()) / kPageSize + 1][(idx - data_.Front().Size()) % kPageSize];\n",
    "    }\n",
    "    void Clear() {\n",
    "        for (size_t i = 0; i < data_.Size(); i++) {\n",
    "            data_[i].Clear();\n",
    "        }\n",
    "        data_.Clear();\n",
    "        npages_ = 0;\n",
    "    }\n",
    "\n",
    "    void PushFront(T elem) {\n",
    "        if (data_.Size() == 0) {\n",
    "            // Page<T> tmp;\n",
    "            data_.PushFront();\n",
    "            npages_++;\n",
    "        } else if (data_.Front().Size() == kPageSize) {\n",
    "            // Page<T> tmp;\n",
    "            data_.PushFront();\n",
    "            npages_++;\n",
    "        }\n",
    "        data_.Front().PushFront(elem);\n",
    "    }\n",
    "    void PushBack(T elem) {\n",
    "        if (data_.Size() == 0) {\n",
    "            // fprintf(stderr, \"true\\n\");\n",
    "            // Page<T> tmp;\n",
    "            data_.PushBack();\n",
    "            npages_++;\n",
    "        } else if (data_.Back().Size() == kPageSize) {\n",
    "            // fprintf(stderr, \"again pushing page\\n\");\n",
    "            // Page<T> tmp;\n",
    "            data_.PushBack();\n",
    "            npages_++;\n",
    "        }\n",
    "        data_.Back().PushBack(elem);\n",
    "    }\n",
    "    T PopFront() {\n",
    "        if (data_.Front().Size() == 0) {\n",
    "            data_.PopFront();\n",
    "            npages_--;\n",
    "        }\n",
    "        T tmp = data_.Front().PopFront();\n",
    "        if (data_.Front().Size() == 0) {\n",
    "            data_.PopFront();\n",
    "            npages_--;\n",
    "        }\n",
    "        return tmp;\n",
    "    }\n",
    "    T PopBack() {\n",
    "        if (data_.Back().Size() == 0) {\n",
    "            data_.PopBack();\n",
    "            npages_--;\n",
    "        }\n",
    "        T tmp = data_.Back().PopBack();\n",
    "\n",
    "        if (data_.Back().Size() == 0) {\n",
    "            data_.PopBack();\n",
    "            npages_--;\n",
    "        }\n",
    "        return tmp;\n",
    "    }\n",
    "};\n",
    "\n",
    "#endif  // DEQUE_DEQUE_H"
   ]
  },
  {
   "cell_type": "code",
   "execution_count": 78,
   "metadata": {},
   "outputs": [
    {
     "data": {
      "text/markdown": [
       "Run: `clang++ -Wall -Werror main.cpp -o a.exe`"
      ],
      "text/plain": [
       "<IPython.core.display.Markdown object>"
      ]
     },
     "metadata": {},
     "output_type": "display_data"
    },
    {
     "data": {
      "text/markdown": [
       "Run: `time -p ./a.exe`"
      ],
      "text/plain": [
       "<IPython.core.display.Markdown object>"
      ]
     },
     "metadata": {},
     "output_type": "display_data"
    },
    {
     "name": "stdout",
     "output_type": "stream",
     "text": [
      "real 0.84\r\n",
      "user 0.79\r\n",
      "sys 0.04\r\n"
     ]
    }
   ],
   "source": []
  },
  {
   "cell_type": "code",
   "execution_count": null,
   "metadata": {},
   "outputs": [],
   "source": []
  },
  {
   "cell_type": "code",
   "execution_count": 80,
   "metadata": {},
   "outputs": [
    {
     "data": {
      "text/markdown": [
       "Run: `clang++ -Wall -Werror main.cpp -o a.exe`"
      ],
      "text/plain": [
       "<IPython.core.display.Markdown object>"
      ]
     },
     "metadata": {},
     "output_type": "display_data"
    },
    {
     "data": {
      "text/markdown": [
       "Run: `time -p ./a.exe`"
      ],
      "text/plain": [
       "<IPython.core.display.Markdown object>"
      ]
     },
     "metadata": {},
     "output_type": "display_data"
    },
    {
     "name": "stdout",
     "output_type": "stream",
     "text": [
      "real 0.30\r\n",
      "user 0.24\r\n",
      "sys 0.05\r\n"
     ]
    }
   ],
   "source": [
    "%%cpp main.cpp\n",
    "%run clang++ -Wall -Werror main.cpp -o a.exe\n",
    "%run time -p ./a.exe \n",
    "\n",
    "#include <vector>\n",
    "\n",
    "\n",
    "int main() {\n",
    "    std::vector<int> a;\n",
    "    for (int i = 0; i < 10'000'000; ++i) {\n",
    "        a.push_back(i);\n",
    "    }\n",
    "    return 0;\n",
    "}"
   ]
  },
  {
   "cell_type": "code",
   "execution_count": 81,
   "metadata": {},
   "outputs": [
    {
     "data": {
      "text/markdown": [
       "Run: `clang++ -Wall -Werror main.cpp -o a.exe`"
      ],
      "text/plain": [
       "<IPython.core.display.Markdown object>"
      ]
     },
     "metadata": {},
     "output_type": "display_data"
    },
    {
     "data": {
      "text/markdown": [
       "Run: `time -p ./a.exe`"
      ],
      "text/plain": [
       "<IPython.core.display.Markdown object>"
      ]
     },
     "metadata": {},
     "output_type": "display_data"
    },
    {
     "name": "stdout",
     "output_type": "stream",
     "text": [
      "real 0.26\r\n",
      "user 0.25\r\n",
      "sys 0.00\r\n"
     ]
    }
   ],
   "source": [
    "%%cpp main.cpp\n",
    "%run clang++ -Wall -Werror main.cpp -o a.exe\n",
    "%run time -p ./a.exe \n",
    "\n",
    "#include <deque>\n",
    "\n",
    "\n",
    "int main() {\n",
    "    std::deque<int> a;\n",
    "    for (int i = 0; i < 10'000'000; ++i) {\n",
    "        a.push_back(i);\n",
    "    }\n",
    "    return 0;\n",
    "}"
   ]
  },
  {
   "cell_type": "code",
   "execution_count": 84,
   "metadata": {},
   "outputs": [
    {
     "data": {
      "text/markdown": [
       "Run: `clang++ -Wall -Werror main.cpp -o a.exe`"
      ],
      "text/plain": [
       "<IPython.core.display.Markdown object>"
      ]
     },
     "metadata": {},
     "output_type": "display_data"
    },
    {
     "data": {
      "text/markdown": [
       "Run: `time -p ./a.exe`"
      ],
      "text/plain": [
       "<IPython.core.display.Markdown object>"
      ]
     },
     "metadata": {},
     "output_type": "display_data"
    },
    {
     "name": "stdout",
     "output_type": "stream",
     "text": [
      "real 0.92\r\n",
      "user 0.87\r\n",
      "sys 0.04\r\n"
     ]
    }
   ],
   "source": [
    "%%cpp main.cpp\n",
    "%run clang++ -Wall -Werror main.cpp -o a.exe\n",
    "%run time -p ./a.exe \n",
    "\n",
    "#include \"dq.h\"\n",
    "\n",
    "\n",
    "int main() {\n",
    "    Deque<int> a;\n",
    "    for (int i = 0; i < 10'000'000; ++i) {\n",
    "        a.PushBack(i);\n",
    "    }\n",
    "    return 0;\n",
    "}"
   ]
  },
  {
   "cell_type": "code",
   "execution_count": 86,
   "metadata": {},
   "outputs": [
    {
     "data": {
      "text/markdown": [
       "Run: `clang++ -Wall -Werror main.cpp -o a.exe`"
      ],
      "text/plain": [
       "<IPython.core.display.Markdown object>"
      ]
     },
     "metadata": {},
     "output_type": "display_data"
    },
    {
     "data": {
      "text/markdown": [
       "Run: `time -p ./a.exe`"
      ],
      "text/plain": [
       "<IPython.core.display.Markdown object>"
      ]
     },
     "metadata": {},
     "output_type": "display_data"
    },
    {
     "name": "stdout",
     "output_type": "stream",
     "text": [
      "real 3.49\r\n",
      "user 2.58\r\n",
      "sys 0.83\r\n"
     ]
    }
   ],
   "source": [
    "%%cpp main.cpp\n",
    "%run clang++ -Wall -Werror main.cpp -o a.exe\n",
    "%run time -p ./a.exe \n",
    "\n",
    "#include \"dq.h\"\n",
    "\n",
    "\n",
    "int main() {\n",
    "    CircularBuffer<int> a;\n",
    "    for (int i = 0; i < 10'000'000; ++i) {\n",
    "        a.PushBack();\n",
    "        a.Back() = i;\n",
    "    }\n",
    "    return 0;\n",
    "}"
   ]
  },
  {
   "cell_type": "code",
   "execution_count": null,
   "metadata": {},
   "outputs": [],
   "source": []
  }
 ],
 "metadata": {
  "kernelspec": {
   "display_name": "Python 3",
   "language": "python",
   "name": "python3"
  },
  "language_info": {
   "codemirror_mode": {
    "name": "ipython",
    "version": 3
   },
   "file_extension": ".py",
   "mimetype": "text/x-python",
   "name": "python",
   "nbconvert_exporter": "python",
   "pygments_lexer": "ipython3",
   "version": "3.8.5"
  }
 },
 "nbformat": 4,
 "nbformat_minor": 4
}
