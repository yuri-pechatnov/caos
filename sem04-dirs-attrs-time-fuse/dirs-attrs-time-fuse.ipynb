{
 "cells": [
  {
   "cell_type": "code",
   "execution_count": 1,
   "metadata": {},
   "outputs": [
    {
     "data": {
      "application/javascript": [
       "// setup cpp code highlighting\n",
       "IPython.CodeCell.options_default.highlight_modes[\"text/x-c++src\"] = {'reg':[/^%%cpp/]} ;IPython.CodeCell.options_default.highlight_modes[\"text/x-cmake\"] = {'reg':[/^%%cmake/]} ;"
      ],
      "text/plain": [
       "<IPython.core.display.Javascript object>"
      ]
     },
     "metadata": {},
     "output_type": "display_data"
    },
    {
     "data": {
      "text/html": [
       "<!-- YANDEX_METRICA_BEGIN -->\n",
       "    <script type=\"text/javascript\" >\n",
       "       (function(m,e,t,r,i,k,a){m[i]=m[i]||function(){(m[i].a=m[i].a||[]).push(arguments)};\n",
       "       m[i].l=1*new Date();k=e.createElement(t),a=e.getElementsByTagName(t)[0],k.async=1,k.src=r,a.parentNode.insertBefore(k,a)})\n",
       "       (window, document, \"script\", \"https://mc.yandex.ru/metrika/tag.js\", \"ym\");\n",
       "\n",
       "       ym(59260609, \"init\", {\n",
       "            clickmap:true,\n",
       "            trackLinks:true,\n",
       "            accurateTrackBounce:true\n",
       "       });\n",
       "    </script>\n",
       "    <noscript><div><img src=\"https://mc.yandex.ru/watch/59260609\" style=\"position:absolute; left:-9999px;\" alt=\"\" /></div></noscript>\n",
       "    <!-- YANDEX_METRICA_END -->"
      ],
      "text/plain": [
       "<IPython.core.display.HTML object>"
      ]
     },
     "metadata": {},
     "output_type": "display_data"
    },
    {
     "data": {
      "text/html": [
       "В этот ноутбук встроен код Яндекс Метрики для сбора статистики использований. Если вы не хотите, чтобы по вам собиралась статистика, исправьте: yandex_metrica_allowed = False<!-- MAGICS_SETUP_PRINTING_END -->"
      ],
      "text/plain": [
       "<IPython.core.display.HTML object>"
      ]
     },
     "metadata": {},
     "output_type": "display_data"
    }
   ],
   "source": [
    "# look at tools/set_up_magics.ipynb\n",
    "yandex_metrica_allowed = True ; get_ipython().run_cell('# one_liner_str\\n\\nget_ipython().run_cell_magic(\\'javascript\\', \\'\\', \\n    \\'// setup cpp code highlighting\\\\n\\'\\n    \\'IPython.CodeCell.options_default.highlight_modes[\"text/x-c++src\"] = {\\\\\\'reg\\\\\\':[/^%%cpp/]} ;\\'\\n    \\'IPython.CodeCell.options_default.highlight_modes[\"text/x-cmake\"] = {\\\\\\'reg\\\\\\':[/^%%cmake/]} ;\\'\\n)\\n\\n# creating magics\\nfrom IPython.core.magic import register_cell_magic, register_line_magic\\nfrom IPython.display import display, Markdown, HTML\\nimport argparse\\nfrom subprocess import Popen, PIPE, STDOUT, check_output\\nimport html\\nimport random\\nimport sys\\nimport os\\nimport re\\nimport signal\\nimport shutil\\nimport shlex\\nimport glob\\nimport time\\n\\n@register_cell_magic\\ndef save_file(args_str, cell, line_comment_start=\"#\"):\\n    parser = argparse.ArgumentParser()\\n    parser.add_argument(\"fname\")\\n    parser.add_argument(\"--ejudge-style\", action=\"store_true\")\\n    parser.add_argument(\"--under-spoiler-threshold\", type=int, default=None)\\n    args = parser.parse_args(args_str.split())\\n    \\n    cell = cell if cell[-1] == \\'\\\\n\\' or args.no_eof_newline else cell + \"\\\\n\"\\n    cmds = []\\n    with open(args.fname, \"w\") as f:\\n        f.write(line_comment_start + \" %%cpp \" + args_str + \"\\\\n\")\\n        for line in cell.split(\"\\\\n\"):\\n            line_to_write = (line if not args.ejudge_style else line.rstrip()) + \"\\\\n\"\\n            if line.startswith(\"%\"):\\n                run_prefix = \"%run \"\\n                if line.startswith(run_prefix):\\n                    cmds.append(line[len(run_prefix):].strip())\\n                    f.write(line_comment_start + \" \" + line_to_write)\\n                    continue\\n                comment_prefix = \"%\" + line_comment_start\\n                if line.startswith(comment_prefix):\\n                    cmds.append(\\'#\\' + line[len(comment_prefix):].strip())\\n                    f.write(line_comment_start + \" \" + line_to_write)\\n                    continue\\n                raise Exception(\"Unknown %%save_file subcommand: \\'%s\\'\" % line)\\n            else:\\n                f.write(line_to_write)\\n        f.write(\"\" if not args.ejudge_style else line_comment_start + r\" line without \\\\n\")\\n    for cmd in cmds:\\n        if cmd.startswith(\\'#\\'):\\n            display(Markdown(\"\\\\#\\\\#\\\\#\\\\# `%s`\" % cmd[1:]))\\n        else:\\n            display(Markdown(\"Run: `%s`\" % cmd))\\n            if args.under_spoiler_threshold:\\n                out = check_output(cmd, stderr=STDOUT, shell=True, universal_newlines=True)\\n                out = out[:-1] if out.endswith(\\'\\\\n\\') else out\\n                out = html.escape(out)\\n                if len(out.split(\\'\\\\n\\')) > args.under_spoiler_threshold:\\n                    out = \"<details> <summary> output </summary> <pre><code>%s</code></pre></details>\" % out\\n                elif out:\\n                    out = \"<pre><code>%s</code></pre>\" % out\\n                if out:\\n                    display(HTML(out))\\n            else:\\n                get_ipython().system(cmd)\\n\\n@register_cell_magic\\ndef cpp(fname, cell):\\n    save_file(fname, cell, \"//\")\\n    \\n@register_cell_magic\\ndef cmake(fname, cell):\\n    save_file(fname, cell, \"#\")\\n\\n@register_cell_magic\\ndef asm(fname, cell):\\n    save_file(fname, cell, \"//\")\\n    \\n@register_cell_magic\\ndef makefile(fname, cell):\\n    fname = fname or \"makefile\"\\n    assert fname.endswith(\"makefile\")\\n    save_file(fname, cell.replace(\" \" * 4, \"\\\\t\"))\\n        \\n@register_line_magic\\ndef p(line):\\n    line = line.strip() \\n    if line[0] == \\'#\\':\\n        display(Markdown(line[1:].strip()))\\n    else:\\n        try:\\n            expr, comment = line.split(\" #\")\\n            display(Markdown(\"`{} = {}`  # {}\".format(expr.strip(), eval(expr), comment.strip())))\\n        except:\\n            display(Markdown(\"{} = {}\".format(line, eval(line))))\\n    \\n    \\ndef show_log_file(file, return_html_string=False):\\n    obj = file.replace(\\'.\\', \\'_\\').replace(\\'/\\', \\'_\\') + \"_obj\"\\n    html_string = \\'\\'\\'\\n        <!--MD_BEGIN_FILTER-->\\n        <script type=text/javascript>\\n        var entrance___OBJ__ = 0;\\n        var errors___OBJ__ = 0;\\n        function halt__OBJ__(elem, color)\\n        {\\n            elem.setAttribute(\"style\", \"font-size: 14px; background: \" + color + \"; padding: 10px; border: 3px; border-radius: 5px; color: white; \");                    \\n        }\\n        function refresh__OBJ__()\\n        {\\n            entrance___OBJ__ -= 1;\\n            if (entrance___OBJ__ < 0) {\\n                entrance___OBJ__ = 0;\\n            }\\n            var elem = document.getElementById(\"__OBJ__\");\\n            if (elem) {\\n                var xmlhttp=new XMLHttpRequest();\\n                xmlhttp.onreadystatechange=function()\\n                {\\n                    var elem = document.getElementById(\"__OBJ__\");\\n                    console.log(!!elem, xmlhttp.readyState, xmlhttp.status, entrance___OBJ__);\\n                    if (elem && xmlhttp.readyState==4) {\\n                        if (xmlhttp.status==200)\\n                        {\\n                            errors___OBJ__ = 0;\\n                            if (!entrance___OBJ__) {\\n                                if (elem.innerHTML != xmlhttp.responseText) {\\n                                    elem.innerHTML = xmlhttp.responseText;\\n                                }\\n                                if (elem.innerHTML.includes(\"Process finished.\")) {\\n                                    halt__OBJ__(elem, \"#333333\");\\n                                } else {\\n                                    entrance___OBJ__ += 1;\\n                                    console.log(\"req\");\\n                                    window.setTimeout(\"refresh__OBJ__()\", 300); \\n                                }\\n                            }\\n                            return xmlhttp.responseText;\\n                        } else {\\n                            errors___OBJ__ += 1;\\n                            if (!entrance___OBJ__) {\\n                                if (errors___OBJ__ < 6) {\\n                                    entrance___OBJ__ += 1;\\n                                    console.log(\"req\");\\n                                    window.setTimeout(\"refresh__OBJ__()\", 300); \\n                                } else {\\n                                    halt__OBJ__(elem, \"#994444\");\\n                                }\\n                            }\\n                        }\\n                    }\\n                }\\n                xmlhttp.open(\"GET\", \"__FILE__\", true);\\n                xmlhttp.setRequestHeader(\"Cache-Control\", \"no-cache\");\\n                xmlhttp.send();     \\n            }\\n        }\\n        \\n        if (!entrance___OBJ__) {\\n            entrance___OBJ__ += 1;\\n            refresh__OBJ__(); \\n        }\\n        </script>\\n\\n        <p id=\"__OBJ__\" style=\"font-size: 14px; background: #000000; padding: 10px; border: 3px; border-radius: 5px; color: white; \">\\n        </p>\\n        \\n        </font>\\n        <!--MD_END_FILTER-->\\n        <!--MD_FROM_FILE __FILE__.md -->\\n        \\'\\'\\'.replace(\"__OBJ__\", obj).replace(\"__FILE__\", file)\\n    if return_html_string:\\n        return html_string\\n    display(HTML(html_string))\\n\\n    \\nclass TInteractiveLauncher:\\n    tmp_path = \"./interactive_launcher_tmp\"\\n    def __init__(self, cmd):\\n        try:\\n            os.mkdir(TInteractiveLauncher.tmp_path)\\n        except:\\n            pass\\n        name = str(random.randint(0, 1e18))\\n        self.inq_path = os.path.join(TInteractiveLauncher.tmp_path, name + \".inq\")\\n        self.log_path = os.path.join(TInteractiveLauncher.tmp_path, name + \".log\")\\n        \\n        os.mkfifo(self.inq_path)\\n        open(self.log_path, \\'w\\').close()\\n        open(self.log_path + \".md\", \\'w\\').close()\\n\\n        self.pid = os.fork()\\n        if self.pid == -1:\\n            print(\"Error\")\\n        if self.pid == 0:\\n            exe_cands = glob.glob(\"../tools/launcher.py\") + glob.glob(\"../../tools/launcher.py\")\\n            assert(len(exe_cands) == 1)\\n            assert(os.execvp(\"python3\", [\"python3\", exe_cands[0], \"-l\", self.log_path, \"-i\", self.inq_path, \"-c\", cmd]) == 0)\\n        self.inq_f = open(self.inq_path, \"w\")\\n        interactive_launcher_opened_set.add(self.pid)\\n        show_log_file(self.log_path)\\n\\n    def write(self, s):\\n        s = s.encode()\\n        assert len(s) == os.write(self.inq_f.fileno(), s)\\n        \\n    def get_pid(self):\\n        n = 100\\n        for i in range(n):\\n            try:\\n                return int(re.findall(r\"PID = (\\\\d+)\", open(self.log_path).readline())[0])\\n            except:\\n                if i + 1 == n:\\n                    raise\\n                time.sleep(0.1)\\n        \\n    def input_queue_path(self):\\n        return self.inq_path\\n        \\n    def wait_stop(self, timeout):\\n        for i in range(int(timeout * 10)):\\n            wpid, status = os.waitpid(self.pid, os.WNOHANG)\\n            if wpid != 0:\\n                return True\\n            time.sleep(0.1)\\n        return False\\n        \\n    def close(self, timeout=3):\\n        self.inq_f.close()\\n        if not self.wait_stop(timeout):\\n            os.kill(self.get_pid(), signal.SIGKILL)\\n            os.waitpid(self.pid, 0)\\n        os.remove(self.inq_path)\\n        # os.remove(self.log_path)\\n        self.inq_path = None\\n        self.log_path = None \\n        interactive_launcher_opened_set.remove(self.pid)\\n        self.pid = None\\n        \\n    @staticmethod\\n    def terminate_all():\\n        if \"interactive_launcher_opened_set\" not in globals():\\n            globals()[\"interactive_launcher_opened_set\"] = set()\\n        global interactive_launcher_opened_set\\n        for pid in interactive_launcher_opened_set:\\n            print(\"Terminate pid=\" + str(pid), file=sys.stderr)\\n            os.kill(pid, signal.SIGKILL)\\n            os.waitpid(pid, 0)\\n        interactive_launcher_opened_set = set()\\n        if os.path.exists(TInteractiveLauncher.tmp_path):\\n            shutil.rmtree(TInteractiveLauncher.tmp_path)\\n    \\nTInteractiveLauncher.terminate_all()\\n   \\nyandex_metrica_allowed = bool(globals().get(\"yandex_metrica_allowed\", False))\\nif yandex_metrica_allowed:\\n    display(HTML(\\'\\'\\'<!-- YANDEX_METRICA_BEGIN -->\\n    <script type=\"text/javascript\" >\\n       (function(m,e,t,r,i,k,a){m[i]=m[i]||function(){(m[i].a=m[i].a||[]).push(arguments)};\\n       m[i].l=1*new Date();k=e.createElement(t),a=e.getElementsByTagName(t)[0],k.async=1,k.src=r,a.parentNode.insertBefore(k,a)})\\n       (window, document, \"script\", \"https://mc.yandex.ru/metrika/tag.js\", \"ym\");\\n\\n       ym(59260609, \"init\", {\\n            clickmap:true,\\n            trackLinks:true,\\n            accurateTrackBounce:true\\n       });\\n    </script>\\n    <noscript><div><img src=\"https://mc.yandex.ru/watch/59260609\" style=\"position:absolute; left:-9999px;\" alt=\"\" /></div></noscript>\\n    <!-- YANDEX_METRICA_END -->\\'\\'\\'))\\n\\ndef make_oneliner():\\n    html_text = \\'(\"В этот ноутбук встроен код Яндекс Метрики для сбора статистики использований. Если вы не хотите, чтобы по вам собиралась статистика, исправьте: yandex_metrica_allowed = False\" if yandex_metrica_allowed else \"\")\\'\\n    html_text += \\' + \"<\"\"!-- MAGICS_SETUP_PRINTING_END -->\"\\'\\n    return \\'\\'.join([\\n        \\'# look at tools/set_up_magics.ipynb\\\\n\\',\\n        \\'yandex_metrica_allowed = True ; get_ipython().run_cell(%s);\\' % repr(one_liner_str),\\n        \\'display(HTML(%s))\\' % html_text,\\n        \\' #\\'\\'MAGICS_SETUP_END\\'\\n    ])\\n       \\n\\n');display(HTML((\"В этот ноутбук встроен код Яндекс Метрики для сбора статистики использований. Если вы не хотите, чтобы по вам собиралась статистика, исправьте: yandex_metrica_allowed = False\" if yandex_metrica_allowed else \"\") + \"<\"\"!-- MAGICS_SETUP_PRINTING_END -->\")) #MAGICS_SETUP_END"
   ]
  },
  {
   "cell_type": "markdown",
   "metadata": {},
   "source": [
    "# Аттрибуты файлов и файловых дескрипторов\n",
    "\n",
    "<p><a href=\"https://www.youtube.com/watch?v=bMmE7PPA1LQ&list=PLjzMm8llUm4AmU6i_hPU0NobgA4VsBowc&index=12\" target=\"_blank\">\n",
    "    <h3>Видеозапись семинара</h3>\n",
    "</a></p>\n",
    "\n",
    "\n",
    "[Ридинг Яковлева про stat](https://github.com/victor-yacovlev/mipt-diht-caos/tree/master/practice/stat_fcntl) \n",
    "<br>[Ридинг Яковлева про работу с директориями, временем и еще несколькими вещами](https://github.com/victor-yacovlev/mipt-diht-caos/tree/master/practice/posix_dirent_time)\n",
    "<br>[Ридинг Яковлева про FUSE](https://github.com/victor-yacovlev/mipt-diht-caos/tree/master/practice/fuse)\n",
    "\n",
    "\n",
    "Сегодня в программе:\n",
    "* <a href=\"#fs_posix\" style=\"color:#856024\"> Работа с файловой системой POSIX </a>\n",
    "  * <a href=\"#opendir\" style=\"color:#856024\"> Просмотр содержимого директории c фильтрацией по регулярке </a>\n",
    "  * <a href=\"#glob\" style=\"color:#856024\"> glob или история о том, как вы пишете *.cpp в терминале </a>\n",
    "  * <a href=\"#fs_stat\" style=\"color:#856024\"> Информация о файловой системе. </a>\n",
    "* <a href=\"#stat\" style=\"color:#856024\"> Атрибуты файлов и разные способы их получения </a>  \n",
    "  * <a href=\"#time\" style=\"color:#856024\"> Извлечем время доступа из атрибутов файла </a>  \n",
    "* <a href=\"#link\" style=\"color:#856024\"> Ссылки жесткие и символические </a>  \n",
    "* <a href=\"#fds\" style=\"color:#856024\"> Атрибуты файловых дескрипторов </a> \n",
    "* <a href=\"#fusepy\" style=\"color:#856024\"> FUSE: Python + fusepy.  Примонтируем json как read-only файловую систему. </a>\n"
   ]
  },
  {
   "cell_type": "markdown",
   "metadata": {},
   "source": [
    "## <a name=\"fs_posix\"></a> Работа с файловой системой в POSIX\n",
    "\n"
   ]
  },
  {
   "cell_type": "markdown",
   "metadata": {},
   "source": [
    "## <a name=\"opendir\"></a> Просмотр содержимого директории с фильтрацией по регулярке\n"
   ]
  },
  {
   "cell_type": "code",
   "execution_count": 6,
   "metadata": {},
   "outputs": [
    {
     "data": {
      "text/markdown": [
       "Run: `gcc -Wall -Werror -fsanitize=address traverse_dir.c -lpthread -o traverse_dir.exe`"
      ],
      "text/plain": [
       "<IPython.core.display.Markdown object>"
      ]
     },
     "metadata": {},
     "output_type": "display_data"
    },
    {
     "data": {
      "text/markdown": [
       "Run: `./traverse_dir.exe ..`"
      ],
      "text/plain": [
       "<IPython.core.display.Markdown object>"
      ]
     },
     "metadata": {},
     "output_type": "display_data"
    },
    {
     "name": "stdout",
     "output_type": "stream",
     "text": [
      "sem02-int-float-string-encoding\r\n",
      "sem01-instruments-compilation-libc\r\n"
     ]
    }
   ],
   "source": [
    "%%cpp traverse_dir.c\n",
    "%run gcc -Wall -Werror -fsanitize=address traverse_dir.c -lpthread -o traverse_dir.exe\n",
    "%run ./traverse_dir.exe ..\n",
    "\n",
    "#include <stdio.h>\n",
    "#include <dirent.h>\n",
    "#include <assert.h>\n",
    "#include <fnmatch.h>\n",
    "\n",
    "int main(int argc, char** argv) {\n",
    "    assert(argc == 2);\n",
    "    const char* dir_path = argv[1];\n",
    "    DIR *pDir = opendir(dir_path);\n",
    "    if (pDir == NULL) {\n",
    "        fprintf(stderr, \"Cannot open directory '%s'\\n\", dir_path);\n",
    "        return 1;\n",
    "    }\n",
    "    int limit = 4;\n",
    "    for (struct dirent *pDirent; (pDirent = readdir(pDir)) != NULL && limit > 0;) {\n",
    "        // + Регулярочки\n",
    "        if (fnmatch(\"sem0[12]*\", pDirent->d_name, 0) == 0) {\n",
    "            printf(\"%s\\n\", pDirent->d_name);\n",
    "            --limit;\n",
    "        }\n",
    "    }\n",
    "    closedir(pDir);\n",
    "    return 0;\n",
    "}"
   ]
  },
  {
   "cell_type": "markdown",
   "metadata": {},
   "source": [
    "## <a name=\"glob\"></a> glob или история о том, как вы пишете *.cpp в терминале\n",
    "\n",
    "Это не совсем про файловую систему, но тем не менее интересно\n",
    "\n",
    "glob хорошо сочетается с exec, пример тут http://man7.org/linux/man-pages/man3/glob.3.html"
   ]
  },
  {
   "cell_type": "code",
   "execution_count": 7,
   "metadata": {},
   "outputs": [
    {
     "data": {
      "text/markdown": [
       "Run: `gcc -Wall -Werror -fsanitize=address traverse_dir.c -lpthread -o traverse_dir.exe`"
      ],
      "text/plain": [
       "<IPython.core.display.Markdown object>"
      ]
     },
     "metadata": {},
     "output_type": "display_data"
    },
    {
     "data": {
      "text/markdown": [
       "Run: `./traverse_dir.exe .. | head -n 5`"
      ],
      "text/plain": [
       "<IPython.core.display.Markdown object>"
      ]
     },
     "metadata": {},
     "output_type": "display_data"
    },
    {
     "name": "stdout",
     "output_type": "stream",
     "text": [
      "traverse_dir.c\r\n",
      "../extra-c-basics_2020-2021/eucl.c\r\n",
      "../extra-c-basics_2020-2021/main.c\r\n",
      "../extra-c-basics_2020-2021/merge.c\r\n",
      "../extra-c-basics_2020-2021/task.c\r\n"
     ]
    }
   ],
   "source": [
    "%%cpp traverse_dir.c\n",
    "%run gcc -Wall -Werror -fsanitize=address traverse_dir.c -lpthread -o traverse_dir.exe\n",
    "%run ./traverse_dir.exe .. | head -n 5\n",
    "\n",
    "#include <stdio.h>\n",
    "#include <assert.h>\n",
    "#include <glob.h>\n",
    "\n",
    "int main() {\n",
    "    glob_t globbuf = {0};\n",
    "    glob(\"*.c\", 0, NULL, &globbuf);\n",
    "    glob(\"../*/*.c\", GLOB_APPEND, NULL, &globbuf);\n",
    "    for (char** path = globbuf.gl_pathv; *path; ++path) {\n",
    "        printf(\"%s\\n\", *path);;\n",
    "    }\n",
    "    globfree(&globbuf);\n",
    "    return 0;\n",
    "}"
   ]
  },
  {
   "cell_type": "code",
   "execution_count": 8,
   "metadata": {},
   "outputs": [
    {
     "data": {
      "text/plain": [
       "['../sem02-int-float-string-encoding/lib2.c',\n",
       " '../sem02-int-float-string-encoding/main.c',\n",
       " '../sem02-int-float-string-encoding/bitcast.c',\n",
       " '../sem02-int-float-string-encoding/size.c']"
      ]
     },
     "execution_count": 8,
     "metadata": {},
     "output_type": "execute_result"
    }
   ],
   "source": [
    "import glob\n",
    "glob.glob(\"../*/*.c\")[:4]"
   ]
  },
  {
   "cell_type": "markdown",
   "metadata": {},
   "source": [
    "## <a name=\"fs_stat\"></a> Информация о файловой системе"
   ]
  },
  {
   "cell_type": "code",
   "execution_count": 19,
   "metadata": {},
   "outputs": [
    {
     "data": {
      "text/markdown": [
       "Run: `gcc -Wall -Werror -fsanitize=address fs_stat.c -lpthread -o fs_stat.exe`"
      ],
      "text/plain": [
       "<IPython.core.display.Markdown object>"
      ]
     },
     "metadata": {},
     "output_type": "display_data"
    },
    {
     "data": {
      "text/markdown": [
       "Run: `./fs_stat.exe /`"
      ],
      "text/plain": [
       "<IPython.core.display.Markdown object>"
      ]
     },
     "metadata": {},
     "output_type": "display_data"
    },
    {
     "name": "stdout",
     "output_type": "stream",
     "text": [
      "Free 1K-blocks 80294736/102168536"
     ]
    },
    {
     "data": {
      "text/markdown": [
       "Run: `./fs_stat.exe /dev/shm`"
      ],
      "text/plain": [
       "<IPython.core.display.Markdown object>"
      ]
     },
     "metadata": {},
     "output_type": "display_data"
    },
    {
     "name": "stdout",
     "output_type": "stream",
     "text": [
      "Free 1K-blocks 1017424/1017424"
     ]
    },
    {
     "data": {
      "text/markdown": [
       "Run: `./fs_stat.exe /dev`"
      ],
      "text/plain": [
       "<IPython.core.display.Markdown object>"
      ]
     },
     "metadata": {},
     "output_type": "display_data"
    },
    {
     "name": "stdout",
     "output_type": "stream",
     "text": [
      "Free 1K-blocks 989252/989252"
     ]
    }
   ],
   "source": [
    "%%cpp fs_stat.c\n",
    "%run gcc -Wall -Werror -fsanitize=address fs_stat.c -lpthread -o fs_stat.exe\n",
    "%run ./fs_stat.exe /\n",
    "%run ./fs_stat.exe /dev/shm\n",
    "%run ./fs_stat.exe /dev\n",
    "\n",
    "#include <stdio.h>\n",
    "#include <sys/statvfs.h>\n",
    "#include <assert.h>\n",
    "\n",
    "    \n",
    "int main(int argc, char** argv) {\n",
    "    assert(argc == 2);\n",
    "    const char* dir_path = argv[1];\n",
    "    struct statvfs stat;\n",
    "    statvfs(dir_path, &stat);\n",
    "    \n",
    "    printf(\"Free 1K-blocks %lu/%lu\", stat.f_bavail * stat.f_bsize / 1024, stat.f_blocks * stat.f_bsize / 1024);\n",
    "    return 0;\n",
    "}"
   ]
  },
  {
   "cell_type": "code",
   "execution_count": 18,
   "metadata": {},
   "outputs": [
    {
     "name": "stdout",
     "output_type": "stream",
     "text": [
      "Filesystem     1K-blocks     Used Available Use% Mounted on\r\n",
      "udev              989252        0    989252   0% /dev\r\n",
      "/dev/sda5      102168536 16640904  80294736  18% /\r\n",
      "tmpfs            1017424        0   1017424   0% /dev/shm\r\n"
     ]
    }
   ],
   "source": [
    "!df | grep -E \"Filesys|/dev$|/dev/shm$|/$\""
   ]
  },
  {
   "cell_type": "code",
   "execution_count": null,
   "metadata": {},
   "outputs": [],
   "source": []
  },
  {
   "cell_type": "code",
   "execution_count": null,
   "metadata": {},
   "outputs": [],
   "source": []
  },
  {
   "cell_type": "markdown",
   "metadata": {},
   "source": [
    "## <a name=\"stat\"></a> Атрибуты файлов и разные способы их получения\n",
    "\n",
    "Сигнатуры функций, с помощью которых можно получить аттрибуты\n",
    "\n",
    "```c\n",
    "#include <sys/types.h>\n",
    "#include <sys/stat.h>\n",
    "#include <unistd.h>\n",
    "\n",
    "int stat(const char *pathname, struct stat *buf);\n",
    "int fstat(int fd, struct stat *buf);\n",
    "int lstat(const char *pathname, struct stat *buf);\n",
    "\n",
    "#include <fcntl.h>           /* Definition of AT_* constants */\n",
    "#include <sys/stat.h>\n",
    "\n",
    "int fstatat(int dirfd, const char *pathname, struct stat *buf,\n",
    "\t\t   int flags);\n",
    "```\n",
    "\n",
    "\n",
    "Описание структуры из `man 2 stat`:\n",
    "\n",
    "```c\n",
    "struct stat {\n",
    "   dev_t     st_dev;         /* ID of device containing file */\n",
    "   ino_t     st_ino;         /* inode number */\n",
    "   mode_t    st_mode;        /* protection */\n",
    "   nlink_t   st_nlink;       /* number of hard links */\n",
    "   uid_t     st_uid;         /* user ID of owner */\n",
    "   gid_t     st_gid;         /* group ID of owner */\n",
    "   dev_t     st_rdev;        /* device ID (if special file) */\n",
    "   off_t     st_size;        /* total size, in bytes */\n",
    "   blksize_t st_blksize;     /* blocksize for filesystem I/O */\n",
    "   blkcnt_t  st_blocks;      /* number of 512B blocks allocated */\n",
    "\n",
    "   /* Since Linux 2.6, the kernel supports nanosecond\n",
    "      precision for the following timestamp fields.\n",
    "      For the details before Linux 2.6, see NOTES. */\n",
    "\n",
    "   struct timespec st_atim;  /* time of last access */\n",
    "   struct timespec st_mtim;  /* time of last modification */\n",
    "   struct timespec st_ctim;  /* time of last status change */\n",
    "\n",
    "#define st_atime st_atim.tv_sec      /* Backward compatibility */\n",
    "#define st_mtime st_mtim.tv_sec\n",
    "#define st_ctime st_ctim.tv_sec\n",
    "};\n",
    "```\n",
    "\n",
    "Особый интерес будет представлять поле `.st_mode`\n",
    "\n",
    "Биты соответствующие маскам:\n",
    "* `0170000` - тип файла.\n",
    "\n",
    "  Эти биты стоит рассматривать как одно число, по значению которого можно определить тип файла. Сравнивая это число с:  \n",
    "    * `S_IFSOCK   0140000   socket`\n",
    "    * `S_IFLNK    0120000   symbolic link`\n",
    "    * `S_IFREG    0100000   regular file`\n",
    "    * `S_IFBLK    0060000   block device`\n",
    "    * `S_IFDIR    0040000   directory`\n",
    "    * `S_IFCHR    0020000   character device`\n",
    "    * `S_IFIFO    0010000   FIFO`\n",
    "* `0777` - права на файл.\n",
    "\n",
    "  Эти биты можно рассматривать как независимые биты, каджый из которых отвечает за право (пользователя, его группы, всех остальных) (читать/писать/выполнять) файл."
   ]
  },
  {
   "cell_type": "markdown",
   "metadata": {},
   "source": [
    "**fstat** - смотрит по файловому дескриптору"
   ]
  },
  {
   "cell_type": "code",
   "execution_count": 24,
   "metadata": {},
   "outputs": [],
   "source": [
    "%%cpp stat.h\n",
    "\n",
    "#include <sys/types.h>\n",
    "#include <sys/stat.h>\n",
    "#include <fcntl.h>\n",
    "#include <unistd.h>\n",
    "#include <stdio.h>\n",
    "\n",
    "void describe_stat_st_mode(const struct stat* s) {   \n",
    "    printf(\"is regular: %s    \", ((s->st_mode & S_IFMT) == S_IFREG) ? \"yes\" : \"no \"); // can use predefined mask\n",
    "    printf(\"is directory: %s    \", S_ISDIR(s->st_mode) ? \"yes\" : \"no \"); // or predefined macro\n",
    "    printf(\"is symbolic link: %s\\n\", S_ISLNK(s->st_mode) ? \"yes\" : \"no \"); \n",
    "}"
   ]
  },
  {
   "cell_type": "code",
   "execution_count": 32,
   "metadata": {
    "scrolled": true
   },
   "outputs": [
    {
     "data": {
      "text/markdown": [
       "Run: `gcc stat.c -o stat.exe`"
      ],
      "text/plain": [
       "<IPython.core.display.Markdown object>"
      ]
     },
     "metadata": {},
     "output_type": "display_data"
    },
    {
     "data": {
      "text/markdown": [
       "Run: `rm -rf tmp && mkdir tmp && touch tmp/a && ln -s ./a tmp/a_link && mkdir tmp/dir`"
      ],
      "text/plain": [
       "<IPython.core.display.Markdown object>"
      ]
     },
     "metadata": {},
     "output_type": "display_data"
    },
    {
     "data": {
      "text/markdown": [
       "Run: `for i in tmp/a tmp/dir tmp/a_link ; do (printf \"%10s    \" $i ; ./stat.exe < $i); done`"
      ],
      "text/plain": [
       "<IPython.core.display.Markdown object>"
      ]
     },
     "metadata": {},
     "output_type": "display_data"
    },
    {
     "name": "stdout",
     "output_type": "stream",
     "text": [
      "     tmp/a    is regular: yes    is directory: no     is symbolic link: no \r\n",
      "   tmp/dir    is regular: no     is directory: yes    is symbolic link: no \r\n",
      "tmp/a_link    is regular: yes    is directory: no     is symbolic link: no \r\n"
     ]
    }
   ],
   "source": [
    "%%cpp stat.c\n",
    "%run gcc stat.c -o stat.exe\n",
    "%run rm -rf tmp && mkdir tmp && touch tmp/a && ln -s ./a tmp/a_link && mkdir tmp/dir\n",
    "%run for i in tmp/a tmp/dir tmp/a_link ; do (printf \"%10s    \" $i ; ./stat.exe < $i); done\n",
    "\n",
    "#include \"stat.h\"\n",
    "#include <assert.h>\n",
    "\n",
    "int main(int argc, char *argv[])\n",
    "{   \n",
    "    struct stat s;\n",
    "    fstat(0, &s); // get stat for stdin\n",
    "    describe_stat_st_mode(&s); \n",
    "    return 0;\n",
    "}"
   ]
  },
  {
   "cell_type": "markdown",
   "metadata": {},
   "source": [
    "Обратите внимание, что для симлинки результат показан как для регулярного файла, на который она ссылается.\n",
    "Тут, вероятно, замешан bash, который открывает файл на месте stdin для нашей программы. Видно, что он проходит по симлинкам.\n",
    "\n",
    "**stat** - смотри по имени файла, следует по симлинкам"
   ]
  },
  {
   "cell_type": "code",
   "execution_count": 33,
   "metadata": {},
   "outputs": [
    {
     "data": {
      "text/markdown": [
       "Run: `gcc stat.c -o stat.exe`"
      ],
      "text/plain": [
       "<IPython.core.display.Markdown object>"
      ]
     },
     "metadata": {},
     "output_type": "display_data"
    },
    {
     "data": {
      "text/markdown": [
       "Run: `rm -rf tmp && mkdir tmp && touch tmp/a && ln -s ./a tmp/a_link && mkdir tmp/dir`"
      ],
      "text/plain": [
       "<IPython.core.display.Markdown object>"
      ]
     },
     "metadata": {},
     "output_type": "display_data"
    },
    {
     "data": {
      "text/markdown": [
       "Run: `for i in tmp/a tmp/dir tmp/a_link ; do (printf \"%10s    \" $i ; ./stat.exe $i); done`"
      ],
      "text/plain": [
       "<IPython.core.display.Markdown object>"
      ]
     },
     "metadata": {},
     "output_type": "display_data"
    },
    {
     "name": "stdout",
     "output_type": "stream",
     "text": [
      "     tmp/a    is regular: yes    is directory: no     is symbolic link: no \r\n",
      "   tmp/dir    is regular: no     is directory: yes    is symbolic link: no \r\n",
      "tmp/a_link    is regular: yes    is directory: no     is symbolic link: no \r\n"
     ]
    }
   ],
   "source": [
    "%%cpp stat.c\n",
    "%run gcc stat.c -o stat.exe\n",
    "%run rm -rf tmp && mkdir tmp && touch tmp/a && ln -s ./a tmp/a_link && mkdir tmp/dir\n",
    "%run for i in tmp/a tmp/dir tmp/a_link ; do (printf \"%10s    \" $i ; ./stat.exe $i); done\n",
    "\n",
    "#include \"stat.h\"\n",
    "#include <assert.h>\n",
    "\n",
    "int main(int argc, char *argv[])\n",
    "{   \n",
    "    assert(argc == 2);\n",
    "    struct stat s;\n",
    "    stat(argv[1], &s); // Следует по симлинкам\n",
    "    describe_stat_st_mode(&s); \n",
    "    return 0;\n",
    "}"
   ]
  },
  {
   "cell_type": "markdown",
   "metadata": {},
   "source": [
    "Обратите внимание, что для симлинки результат показан как для регулярного файла, на который она ссылается.\n",
    "\n",
    "**lstat** - смотрит по имени файла, не следует по симлинкам."
   ]
  },
  {
   "cell_type": "code",
   "execution_count": 34,
   "metadata": {},
   "outputs": [
    {
     "data": {
      "text/markdown": [
       "Run: `gcc stat.c -o stat.exe`"
      ],
      "text/plain": [
       "<IPython.core.display.Markdown object>"
      ]
     },
     "metadata": {},
     "output_type": "display_data"
    },
    {
     "data": {
      "text/markdown": [
       "Run: `rm -rf tmp && mkdir tmp && touch tmp/a && ln -s ./a tmp/a_link && mkdir tmp/dir`"
      ],
      "text/plain": [
       "<IPython.core.display.Markdown object>"
      ]
     },
     "metadata": {},
     "output_type": "display_data"
    },
    {
     "data": {
      "text/markdown": [
       "Run: `for i in tmp/a tmp/dir tmp/a_link ; do (printf \"%10s    \" $i ; ./stat.exe $i); done`"
      ],
      "text/plain": [
       "<IPython.core.display.Markdown object>"
      ]
     },
     "metadata": {},
     "output_type": "display_data"
    },
    {
     "name": "stdout",
     "output_type": "stream",
     "text": [
      "     tmp/a    is regular: yes    is directory: no     is symbolic link: no \r\n",
      "   tmp/dir    is regular: no     is directory: yes    is symbolic link: no \r\n",
      "tmp/a_link    is regular: no     is directory: no     is symbolic link: yes\r\n"
     ]
    }
   ],
   "source": [
    "%%cpp stat.c\n",
    "%run gcc stat.c -o stat.exe\n",
    "%run rm -rf tmp && mkdir tmp && touch tmp/a && ln -s ./a tmp/a_link && mkdir tmp/dir\n",
    "%run for i in tmp/a tmp/dir tmp/a_link ; do (printf \"%10s    \" $i ; ./stat.exe $i); done\n",
    "\n",
    "#include \"stat.h\"\n",
    "#include <assert.h>\n",
    "\n",
    "int main(int argc, char *argv[])\n",
    "{   \n",
    "    assert(argc == 2);\n",
    "    struct stat s;\n",
    "    lstat(argv[1], &s); // Не следует по симлинкам, то есть можно узнать stat самого файла симлинки\n",
    "    describe_stat_st_mode(&s); \n",
    "    return 0;\n",
    "}"
   ]
  },
  {
   "cell_type": "markdown",
   "metadata": {},
   "source": [
    "Сейчас результат для симлинки показан как для самой симлинки. Так как используем специальную функцию.\n",
    "\n",
    "**open(...O_NOFOLLOW | O_PATH) + fstat** - открываем файл так, чтобы не следовать по симлинкам и далее смотрим его stat\n",
    "\n",
    "Кстати, открываем не очень честно. С опцией O_PATH нельзя потом применять read, write и еще некоторые операции."
   ]
  },
  {
   "cell_type": "code",
   "execution_count": 98,
   "metadata": {},
   "outputs": [
    {
     "data": {
      "text/markdown": [
       "Run: `gcc stat.c -o stat.exe`"
      ],
      "text/plain": [
       "<IPython.core.display.Markdown object>"
      ]
     },
     "metadata": {},
     "output_type": "display_data"
    },
    {
     "data": {
      "text/markdown": [
       "Run: `rm -rf tmp && mkdir tmp && touch tmp/a && ln -s ./a tmp/a_link && mkdir tmp/dir`"
      ],
      "text/plain": [
       "<IPython.core.display.Markdown object>"
      ]
     },
     "metadata": {},
     "output_type": "display_data"
    },
    {
     "data": {
      "text/markdown": [
       "Run: `for i in tmp/a tmp/dir tmp/a_link ; do (printf \"%10s    \" $i ; ./stat.exe $i); done`"
      ],
      "text/plain": [
       "<IPython.core.display.Markdown object>"
      ]
     },
     "metadata": {},
     "output_type": "display_data"
    },
    {
     "name": "stdout",
     "output_type": "stream",
     "text": [
      "     tmp/a    is regular: yes    is directory: no     is symbolic link: no \r\n",
      "   tmp/dir    is regular: no     is directory: yes    is symbolic link: no \r\n",
      "tmp/a_link    is regular: no     is directory: no     is symbolic link: yes\r\n"
     ]
    }
   ],
   "source": [
    "%%cpp stat.c\n",
    "%run gcc stat.c -o stat.exe\n",
    "%run rm -rf tmp && mkdir tmp && touch tmp/a && ln -s ./a tmp/a_link && mkdir tmp/dir\n",
    "%run for i in tmp/a tmp/dir tmp/a_link ; do (printf \"%10s    \" $i ; ./stat.exe $i); done\n",
    "\n",
    "#define _GNU_SOURCE // need for O_PATH\n",
    "\n",
    "#include <sys/types.h>\n",
    "#include <sys/stat.h>\n",
    "#include <fcntl.h>\n",
    "#include <unistd.h>\n",
    "#include <stdio.h>\n",
    "#include <assert.h>\n",
    "\n",
    "int main(int argc, char *argv[])\n",
    "{   \n",
    "    assert(argc == 2);\n",
    "    struct stat s;\n",
    "    int fd = open(argv[1], O_RDONLY | O_NOFOLLOW | O_PATH);\n",
    "    assert(fd >= 0);\n",
    "    fstat(fd, &s); \n",
    "    printf(\"is regular: %s    \", ((s.st_mode & S_IFMT) == S_IFREG) ? \"yes\" : \"no \"); // can use predefined mask\n",
    "    printf(\"is directory: %s    \", S_ISDIR(s.st_mode) ? \"yes\" : \"no \"); // or predefined macro\n",
    "    printf(\"is symbolic link: %s\\n\", S_ISLNK(s.st_mode) ? \"yes\" : \"no \");\n",
    "    close(fd);\n",
    "    return 0;\n",
    "}"
   ]
  },
  {
   "cell_type": "markdown",
   "metadata": {},
   "source": [
    "Здесь тоже результат показан для самой симлинки, поскольку вызываем open со специальными опциями, чтобы не следовать по симлинкам.\n",
    "\n",
    "**Поэтому важно понимать, какое поведение вы хотите и использовать stat, fstat или lstat**"
   ]
  },
  {
   "cell_type": "markdown",
   "metadata": {},
   "source": [
    "## <a name=\"time\"></a> Извлечем время доступа из атрибутов файла\n",
    "\n",
    "Работа с временем это на самом деле отдельная большая тема. Три года назад на нее был [целый семинар](https://github.com/yuri-pechatnov/caos/tree/master/caos_2019-2020/sem28-unix-time)."
   ]
  },
  {
   "cell_type": "code",
   "execution_count": 96,
   "metadata": {},
   "outputs": [
    {
     "data": {
      "text/markdown": [
       "Run: `gcc stat.c -o stat.exe`"
      ],
      "text/plain": [
       "<IPython.core.display.Markdown object>"
      ]
     },
     "metadata": {},
     "output_type": "display_data"
    },
    {
     "data": {
      "text/markdown": [
       "Run: `rm -rf tmp && mkdir tmp &&  touch tmp/a && sleep 1.1 &&  ln -s ./a tmp/a_link && sleep 1.1  && mkdir tmp/dir`"
      ],
      "text/plain": [
       "<IPython.core.display.Markdown object>"
      ]
     },
     "metadata": {},
     "output_type": "display_data"
    },
    {
     "data": {
      "text/markdown": [
       "Run: `for i in tmp/a tmp/dir tmp/a_link ; do (printf \"%10s    \" $i ; ./stat.exe < $i); done`"
      ],
      "text/plain": [
       "<IPython.core.display.Markdown object>"
      ]
     },
     "metadata": {},
     "output_type": "display_data"
    },
    {
     "name": "stdout",
     "output_type": "stream",
     "text": [
      "     tmp/a    modification time: 23:38:03   access time: 23:38:03\r\n",
      "   tmp/dir    modification time: 23:38:05   access time: 23:38:05\r\n",
      "tmp/a_link    modification time: 23:38:03   access time: 23:38:03\r\n"
     ]
    }
   ],
   "source": [
    "%%cpp stat.c\n",
    "%run gcc stat.c -o stat.exe\n",
    "%run rm -rf tmp && mkdir tmp &&  touch tmp/a && sleep 1.1 &&  ln -s ./a tmp/a_link && sleep 1.1  && mkdir tmp/dir\n",
    "%run for i in tmp/a tmp/dir tmp/a_link ; do (printf \"%10s    \" $i ; ./stat.exe < $i); done\n",
    "\n",
    "#include <sys/stat.h>\n",
    "#include <fcntl.h>\n",
    "#include <unistd.h>\n",
    "#include <stdio.h>\n",
    "#include <assert.h>\n",
    "#include <time.h>\n",
    "\n",
    "\n",
    "char* pretty_time(const struct timespec* timespec_time) {\n",
    "    // Whole function is not thread safe because of buf.\n",
    "    struct tm tm_time;\n",
    "    assert(localtime_r(&timespec_time->tv_sec, &tm_time)); // Thread-safe\n",
    "    static char buf[100];\n",
    "    assert(strftime(buf, sizeof(buf), \"%H:%M:%S\", &tm_time) > 0); // Thread-safe\n",
    "    return buf; \n",
    "}\n",
    "\n",
    "int main(int argc, char *argv[])\n",
    "{   \n",
    "    struct stat s;\n",
    "    fstat(0, &s); \n",
    "    printf(\"modification time: %s   \", pretty_time(&s.st_mtim));\n",
    "    printf(\"access time: %s\\n\", pretty_time(&s.st_atim));\n",
    "    return 0;\n",
    "}"
   ]
  },
  {
   "cell_type": "markdown",
   "metadata": {},
   "source": [
    "## <a name=\"link\"></a> Ссылки жесткие и символические"
   ]
  },
  {
   "cell_type": "code",
   "execution_count": 59,
   "metadata": {},
   "outputs": [
    {
     "name": "stdout",
     "output_type": "stream",
     "text": [
      "-rw-rw-r-- 2 pechatnov pechatnov  0 сен 29 23:19 lexmpl_x_hard.txt\r\n",
      "lrwxrwxrwx 1 pechatnov pechatnov 12 сен 29 23:19 lexmpl_x_sym.txt -> lexmpl_x.txt\r\n",
      "-rw-rw-r-- 2 pechatnov pechatnov  0 сен 29 23:19 lexmpl_x.txt\r\n"
     ]
    }
   ],
   "source": [
    "!(rm lexmpl_*) 2> /dev/null\n",
    "!touch lexmpl_ordinary.txt\n",
    "!touch lexmpl_x.txt\n",
    "!link lexmpl_x.txt lexmpl_x_hard.txt\n",
    "!ln -s lexmpl_x.txt ./lexmpl_x_sym.txt\n",
    "!ls -la lexmpl_x*"
   ]
  },
  {
   "cell_type": "code",
   "execution_count": 69,
   "metadata": {},
   "outputs": [
    {
     "name": "stdout",
     "output_type": "stream",
     "text": [
      "-rw-rw-r-- 1 pechatnov pechatnov  0 сен 29 23:19 lexmpl_ordinary.txt\r\n",
      "-rw-rw-r-- 2 pechatnov pechatnov  6 сен 29 23:21 lexmpl_x_hard.txt\r\n",
      "lrwxrwxrwx 1 pechatnov pechatnov 12 сен 29 23:19 lexmpl_x_sym.txt -> lexmpl_x.txt\r\n",
      "-rw-rw-r-- 2 pechatnov pechatnov  6 сен 29 23:21 lexmpl_x.txt\r\n"
     ]
    }
   ],
   "source": [
    "!echo \"Hello\" > lexmpl_x.txt\n",
    "!ls -la lexmpl_*"
   ]
  },
  {
   "cell_type": "markdown",
   "metadata": {},
   "source": [
    "## <a name=\"fds\"></a> Атрибуты файловых дескрипторов\n",
    "\n",
    "`fcntl(fd, F_GETFL, 0)`, флаги `O_RDWR`, `O_RDONLY`, `O_WRONLY`, ..."
   ]
  },
  {
   "cell_type": "code",
   "execution_count": 99,
   "metadata": {},
   "outputs": [
    {
     "data": {
      "text/markdown": [
       "Run: `gcc fcntl_open_flags.cpp -o fcntl_open_flags.exe`"
      ],
      "text/plain": [
       "<IPython.core.display.Markdown object>"
      ]
     },
     "metadata": {},
     "output_type": "display_data"
    },
    {
     "data": {
      "text/markdown": [
       "Run: `./fcntl_open_flags.exe`"
      ],
      "text/plain": [
       "<IPython.core.display.Markdown object>"
      ]
     },
     "metadata": {},
     "output_type": "display_data"
    },
    {
     "name": "stdout",
     "output_type": "stream",
     "text": [
      "   open(\"fcntl_open_flags.1\", O_CREAT | O_WRONLY, 0664):   O_WRONLY\r\n",
      "     open(\"fcntl_open_flags.2\", O_CREAT | O_RDWR, 0664):   O_RDWR\r\n",
      "                   open(\"fcntl_open_flags.2\", O_RDONLY):   O_RDONLY\r\n"
     ]
    }
   ],
   "source": [
    "%%cpp fcntl_open_flags.cpp\n",
    "%run gcc fcntl_open_flags.cpp -o fcntl_open_flags.exe\n",
    "%run ./fcntl_open_flags.exe\n",
    "\n",
    "#ifndef _GNU_SOURCE\n",
    "  #define _GNU_SOURCE\n",
    "#endif\n",
    "#include <stdio.h>\n",
    "#include <stdlib.h>\n",
    "#include <unistd.h>\n",
    "#include <fcntl.h>\n",
    "\n",
    "void describe_fd_impl(const char* prefix, int fd) {\n",
    "    if (fd < 0) { // Check that fd is valid.\n",
    "        perror(\"open\"); \n",
    "        abort();\n",
    "    }\n",
    "    int ret = fcntl(fd, F_GETFL, 0); // Get flags here!\n",
    "    int mask = O_RDONLY | O_WRONLY | O_RDWR;\n",
    "#define flag_cond_str_expanded(flag, name) ((ret & mask) == flag ? name : \"\")\n",
    "#define flag_cond_str(flag) flag_cond_str_expanded(flag, #flag)\n",
    "    printf(\"%55s:   %s%s%s\\n\", prefix, flag_cond_str(O_RDONLY), flag_cond_str(O_WRONLY), flag_cond_str(O_RDWR));\n",
    "}\n",
    "\n",
    "int main() {\n",
    "#define describe(op) describe_fd_impl(#op, op)\n",
    "    describe(open(\"fcntl_open_flags.1\", O_CREAT | O_WRONLY, 0664));\n",
    "    describe(open(\"fcntl_open_flags.2\", O_CREAT | O_RDWR, 0664));\n",
    "    describe(open(\"fcntl_open_flags.2\", O_RDONLY));\n",
    "    return 0;\n",
    "}"
   ]
  },
  {
   "cell_type": "code",
   "execution_count": null,
   "metadata": {},
   "outputs": [],
   "source": []
  },
  {
   "cell_type": "code",
   "execution_count": 100,
   "metadata": {},
   "outputs": [
    {
     "data": {
      "text/markdown": [
       "Run: `gcc istty.c -o istty.exe`"
      ],
      "text/plain": [
       "<IPython.core.display.Markdown object>"
      ]
     },
     "metadata": {},
     "output_type": "display_data"
    },
    {
     "data": {
      "text/markdown": [
       "Run: `./istty.exe > a.txt`"
      ],
      "text/plain": [
       "<IPython.core.display.Markdown object>"
      ]
     },
     "metadata": {},
     "output_type": "display_data"
    },
    {
     "name": "stdout",
     "output_type": "stream",
     "text": [
      "It's NOT terminal\r\n"
     ]
    },
    {
     "data": {
      "text/markdown": [
       "Run: `./istty.exe`"
      ],
      "text/plain": [
       "<IPython.core.display.Markdown object>"
      ]
     },
     "metadata": {},
     "output_type": "display_data"
    },
    {
     "name": "stdout",
     "output_type": "stream",
     "text": [
      "\u001b[0;31mIt's terminal\u001b[0m\r\n"
     ]
    }
   ],
   "source": [
    "%%cpp istty.c\n",
    "%run gcc istty.c -o istty.exe\n",
    "%run ./istty.exe > a.txt\n",
    "%run ./istty.exe \n",
    "\n",
    "#include <unistd.h>\n",
    "#include <stdlib.h>\n",
    "#include <stdio.h>\n",
    "\n",
    "int main(int argc, char *argv[])\n",
    "{\n",
    "    if (isatty(STDOUT_FILENO)) {\n",
    "        fprintf(stderr, \"\\033[0;31mIt's terminal\\033[0m\\n\");\n",
    "    } else {\n",
    "        fprintf(stderr, \"It's NOT terminal\\n\");\n",
    "    }\n",
    "    return 0;\n",
    "}"
   ]
  },
  {
   "cell_type": "code",
   "execution_count": null,
   "metadata": {},
   "outputs": [],
   "source": []
  },
  {
   "cell_type": "code",
   "execution_count": null,
   "metadata": {},
   "outputs": [],
   "source": []
  },
  {
   "cell_type": "markdown",
   "metadata": {},
   "source": [
    "## <a name=\"fusepy\"></a> FUSE: Python + fusepy.  Примонтируем json как read-only файловую систему. </a>\n",
    "\n",
    "\n",
    "\n",
    "[FUSE на wiki](https://ru.wikipedia.org/wiki/FUSE_(модуль_ядра))\n",
    "\n",
    "![FUSE](https://upload.wikimedia.org/wikipedia/commons/thumb/0/08/FUSE_structure.svg/490px-FUSE_structure.svg.png)\n",
    "\n",
    "\n",
    "https://habr.com/ru/post/315654/ - на питоне\n",
    "\n",
    "https://engineering.facile.it/blog/eng/write-filesystem-fuse/\n",
    "  \n",
    "  \n",
    "\n",
    "Установка: `pip2 install --user fusepy`"
   ]
  },
  {
   "cell_type": "code",
   "execution_count": 101,
   "metadata": {},
   "outputs": [
    {
     "name": "stdout",
     "output_type": "stream",
     "text": [
      "Writing fuse_json.py\n"
     ]
    }
   ],
   "source": [
    "%%writefile fuse_json.py\n",
    "from __future__ import print_function\n",
    "\n",
    "import logging\n",
    "import os\n",
    "import json\n",
    "from errno import EIO, ENOENT, EROFS\n",
    "from stat import S_IFDIR, S_IFREG\n",
    "from sys import argv, exit\n",
    "from time import time\n",
    "\n",
    "from fuse import FUSE, FuseOSError, LoggingMixIn, Operations\n",
    "\n",
    "NOW = time()\n",
    "\n",
    "DIR_ATTRS = dict(st_mode=(S_IFDIR | 0o555), st_nlink=2)\n",
    "FILE_ATTRS = dict(st_mode=(S_IFREG | 0o444), st_nlink=1)\n",
    "\n",
    "def find_json_path(j, path):\n",
    "    for part in path.split('/'):\n",
    "        if len(part) > 0:\n",
    "            if part == '__json__':\n",
    "                return json.dumps(j)\n",
    "            if part not in j:\n",
    "                return None\n",
    "            j = j[part]\n",
    "    return j\n",
    "    \n",
    "\n",
    "class FuseOperations(LoggingMixIn, Operations):\n",
    "\n",
    "    def __init__(self, j):\n",
    "        self.j = j\n",
    "        self.fd = 0\n",
    "\n",
    "    def open(self, path, flags):\n",
    "        self.fd += 1\n",
    "        return self.fd\n",
    "\n",
    "    def read(self, path, size, offset, fh):\n",
    "        logging.debug(\"Read %r %r %r\", path, size, offset)\n",
    "        node = find_json_path(self.j, path)\n",
    "        if not isinstance(node, str):\n",
    "            raise FuseOSError(EIO)\n",
    "        return node[offset:offset + size]\n",
    "\n",
    "    def readdir(self, path, fh):\n",
    "        logging.debug(\"Readdir %r %r\", path, fh)\n",
    "        node = find_json_path(self.j, path)\n",
    "        if node is None:\n",
    "            raise FuseOSError(EROFS)\n",
    "        return ['.', '..', '__json__'] + list(node.keys())\n",
    "\n",
    "    def getattr(self, path, fh=None):\n",
    "        node = find_json_path(self.j, path)\n",
    "        if isinstance(node, dict):\n",
    "            return DIR_ATTRS\n",
    "        elif isinstance(node, str):\n",
    "            attrs = dict(FILE_ATTRS)\n",
    "            attrs[\"st_size\"] = len(node)\n",
    "            return attrs\n",
    "        else:\n",
    "            raise FuseOSError(ENOENT)\n",
    "\n",
    "if __name__ == '__main__':\n",
    "    logging.basicConfig(level=logging.INFO)\n",
    "    j = {\n",
    "        'a': 'b',\n",
    "        'c': {\n",
    "            'c1': '234'\n",
    "        }\n",
    "    }\n",
    "    FUSE(FuseOperations(j), \"./fuse_json\", foreground=True)"
   ]
  },
  {
   "cell_type": "code",
   "execution_count": 102,
   "metadata": {},
   "outputs": [
    {
     "data": {
      "text/html": [
       "\n",
       "        <!--MD_BEGIN_FILTER-->\n",
       "        <script type=text/javascript>\n",
       "        var entrance___interactive_launcher_tmp_19018147283097875_log_obj = 0;\n",
       "        var errors___interactive_launcher_tmp_19018147283097875_log_obj = 0;\n",
       "        function halt__interactive_launcher_tmp_19018147283097875_log_obj(elem, color)\n",
       "        {\n",
       "            elem.setAttribute(\"style\", \"font-size: 14px; background: \" + color + \"; padding: 10px; border: 3px; border-radius: 5px; color: white; \");                    \n",
       "        }\n",
       "        function refresh__interactive_launcher_tmp_19018147283097875_log_obj()\n",
       "        {\n",
       "            entrance___interactive_launcher_tmp_19018147283097875_log_obj -= 1;\n",
       "            if (entrance___interactive_launcher_tmp_19018147283097875_log_obj < 0) {\n",
       "                entrance___interactive_launcher_tmp_19018147283097875_log_obj = 0;\n",
       "            }\n",
       "            var elem = document.getElementById(\"__interactive_launcher_tmp_19018147283097875_log_obj\");\n",
       "            if (elem) {\n",
       "                var xmlhttp=new XMLHttpRequest();\n",
       "                xmlhttp.onreadystatechange=function()\n",
       "                {\n",
       "                    var elem = document.getElementById(\"__interactive_launcher_tmp_19018147283097875_log_obj\");\n",
       "                    console.log(!!elem, xmlhttp.readyState, xmlhttp.status, entrance___interactive_launcher_tmp_19018147283097875_log_obj);\n",
       "                    if (elem && xmlhttp.readyState==4) {\n",
       "                        if (xmlhttp.status==200)\n",
       "                        {\n",
       "                            errors___interactive_launcher_tmp_19018147283097875_log_obj = 0;\n",
       "                            if (!entrance___interactive_launcher_tmp_19018147283097875_log_obj) {\n",
       "                                if (elem.innerHTML != xmlhttp.responseText) {\n",
       "                                    elem.innerHTML = xmlhttp.responseText;\n",
       "                                }\n",
       "                                if (elem.innerHTML.includes(\"Process finished.\")) {\n",
       "                                    halt__interactive_launcher_tmp_19018147283097875_log_obj(elem, \"#333333\");\n",
       "                                } else {\n",
       "                                    entrance___interactive_launcher_tmp_19018147283097875_log_obj += 1;\n",
       "                                    console.log(\"req\");\n",
       "                                    window.setTimeout(\"refresh__interactive_launcher_tmp_19018147283097875_log_obj()\", 300); \n",
       "                                }\n",
       "                            }\n",
       "                            return xmlhttp.responseText;\n",
       "                        } else {\n",
       "                            errors___interactive_launcher_tmp_19018147283097875_log_obj += 1;\n",
       "                            if (!entrance___interactive_launcher_tmp_19018147283097875_log_obj) {\n",
       "                                if (errors___interactive_launcher_tmp_19018147283097875_log_obj < 6) {\n",
       "                                    entrance___interactive_launcher_tmp_19018147283097875_log_obj += 1;\n",
       "                                    console.log(\"req\");\n",
       "                                    window.setTimeout(\"refresh__interactive_launcher_tmp_19018147283097875_log_obj()\", 300); \n",
       "                                } else {\n",
       "                                    halt__interactive_launcher_tmp_19018147283097875_log_obj(elem, \"#994444\");\n",
       "                                }\n",
       "                            }\n",
       "                        }\n",
       "                    }\n",
       "                }\n",
       "                xmlhttp.open(\"GET\", \"./interactive_launcher_tmp/19018147283097875.log\", true);\n",
       "                xmlhttp.setRequestHeader(\"Cache-Control\", \"no-cache\");\n",
       "                xmlhttp.send();     \n",
       "            }\n",
       "        }\n",
       "        \n",
       "        if (!entrance___interactive_launcher_tmp_19018147283097875_log_obj) {\n",
       "            entrance___interactive_launcher_tmp_19018147283097875_log_obj += 1;\n",
       "            refresh__interactive_launcher_tmp_19018147283097875_log_obj(); \n",
       "        }\n",
       "        </script>\n",
       "\n",
       "        <p id=\"__interactive_launcher_tmp_19018147283097875_log_obj\" style=\"font-size: 14px; background: #000000; padding: 10px; border: 3px; border-radius: 5px; color: white; \">\n",
       "        </p>\n",
       "        \n",
       "        </font>\n",
       "        <!--MD_END_FILTER-->\n",
       "        <!--MD_FROM_FILE ./interactive_launcher_tmp/19018147283097875.log.md -->\n",
       "        "
      ],
      "text/plain": [
       "<IPython.core.display.HTML object>"
      ]
     },
     "metadata": {},
     "output_type": "display_data"
    }
   ],
   "source": [
    "!mkdir fuse_json 2>&1 | grep -v \"File exists\" || true\n",
    "a = TInteractiveLauncher(\"python2 fuse_json.py example.txt fuse_json 2>&1\")"
   ]
  },
  {
   "cell_type": "code",
   "execution_count": 120,
   "metadata": {},
   "outputs": [
    {
     "name": "stdout",
     "output_type": "stream",
     "text": [
      "\n",
      "ls -la fuse_json                      # List dir. \n",
      "total 8\n",
      "drwxrwxr-x 2 pechatnov pechatnov 4096 сен 29 23:41 .\n",
      "drwxrwxr-x 6 pechatnov pechatnov 4096 сен 29 23:48 ..\n",
      "\n",
      "tree fuse_json --noreport             # Recursively list dirs (install: sudo apt install tree). \n",
      "fuse_json\n",
      "\n",
      "cat fuse_json/__json__    && echo     #\n",
      "cat: fuse_json/__json__: No such file or directory\n",
      "\n",
      "cat fuse_json/a           && echo     #\n",
      "cat: fuse_json/a: No such file or directory\n",
      "\n",
      "cat fuse_json/c/__json__  && echo     #\n",
      "cat: fuse_json/c/__json__: No such file or directory\n"
     ]
    },
    {
     "ename": "CalledProcessError",
     "evalue": "Command 'b'exec 2>&1 ; set -v ; set -o pipefail\\n\\nls -la fuse_json                      # List dir. \\n\\ntree fuse_json --noreport             # Recursively list dirs (install: sudo apt install tree). \\n\\ncat fuse_json/__json__    && echo     #\\n\\ncat fuse_json/a           && echo     #\\n\\ncat fuse_json/c/__json__  && echo     #\\n'' returned non-zero exit status 1.",
     "output_type": "error",
     "traceback": [
      "\u001b[0;31m---------------------------------------------------------------------------\u001b[0m",
      "\u001b[0;31mCalledProcessError\u001b[0m                        Traceback (most recent call last)",
      "\u001b[0;32m<ipython-input-120-e2e26c9f7513>\u001b[0m in \u001b[0;36m<module>\u001b[0;34m\u001b[0m\n\u001b[0;32m----> 1\u001b[0;31m \u001b[0mget_ipython\u001b[0m\u001b[0;34m(\u001b[0m\u001b[0;34m)\u001b[0m\u001b[0;34m.\u001b[0m\u001b[0mrun_cell_magic\u001b[0m\u001b[0;34m(\u001b[0m\u001b[0;34m'bash'\u001b[0m\u001b[0;34m,\u001b[0m \u001b[0;34m''\u001b[0m\u001b[0;34m,\u001b[0m \u001b[0;34m'exec 2>&1 ; set -v ; set -o pipefail\\n\\nls -la fuse_json                      # List dir. \\n\\ntree fuse_json --noreport             # Recursively list dirs (install: sudo apt install tree). \\n\\ncat fuse_json/__json__    && echo     #\\n\\ncat fuse_json/a           && echo     #\\n\\ncat fuse_json/c/__json__  && echo     #\\n'\u001b[0m\u001b[0;34m)\u001b[0m\u001b[0;34m\u001b[0m\u001b[0;34m\u001b[0m\u001b[0m\n\u001b[0m",
      "\u001b[0;32m~/.local/lib/python3.8/site-packages/IPython/core/interactiveshell.py\u001b[0m in \u001b[0;36mrun_cell_magic\u001b[0;34m(self, magic_name, line, cell)\u001b[0m\n\u001b[1;32m   2360\u001b[0m             \u001b[0;32mwith\u001b[0m \u001b[0mself\u001b[0m\u001b[0;34m.\u001b[0m\u001b[0mbuiltin_trap\u001b[0m\u001b[0;34m:\u001b[0m\u001b[0;34m\u001b[0m\u001b[0;34m\u001b[0m\u001b[0m\n\u001b[1;32m   2361\u001b[0m                 \u001b[0margs\u001b[0m \u001b[0;34m=\u001b[0m \u001b[0;34m(\u001b[0m\u001b[0mmagic_arg_s\u001b[0m\u001b[0;34m,\u001b[0m \u001b[0mcell\u001b[0m\u001b[0;34m)\u001b[0m\u001b[0;34m\u001b[0m\u001b[0;34m\u001b[0m\u001b[0m\n\u001b[0;32m-> 2362\u001b[0;31m                 \u001b[0mresult\u001b[0m \u001b[0;34m=\u001b[0m \u001b[0mfn\u001b[0m\u001b[0;34m(\u001b[0m\u001b[0;34m*\u001b[0m\u001b[0margs\u001b[0m\u001b[0;34m,\u001b[0m \u001b[0;34m**\u001b[0m\u001b[0mkwargs\u001b[0m\u001b[0;34m)\u001b[0m\u001b[0;34m\u001b[0m\u001b[0;34m\u001b[0m\u001b[0m\n\u001b[0m\u001b[1;32m   2363\u001b[0m             \u001b[0;32mreturn\u001b[0m \u001b[0mresult\u001b[0m\u001b[0;34m\u001b[0m\u001b[0;34m\u001b[0m\u001b[0m\n\u001b[1;32m   2364\u001b[0m \u001b[0;34m\u001b[0m\u001b[0m\n",
      "\u001b[0;32m~/.local/lib/python3.8/site-packages/IPython/core/magics/script.py\u001b[0m in \u001b[0;36mnamed_script_magic\u001b[0;34m(line, cell)\u001b[0m\n\u001b[1;32m    140\u001b[0m             \u001b[0;32melse\u001b[0m\u001b[0;34m:\u001b[0m\u001b[0;34m\u001b[0m\u001b[0;34m\u001b[0m\u001b[0m\n\u001b[1;32m    141\u001b[0m                 \u001b[0mline\u001b[0m \u001b[0;34m=\u001b[0m \u001b[0mscript\u001b[0m\u001b[0;34m\u001b[0m\u001b[0;34m\u001b[0m\u001b[0m\n\u001b[0;32m--> 142\u001b[0;31m             \u001b[0;32mreturn\u001b[0m \u001b[0mself\u001b[0m\u001b[0;34m.\u001b[0m\u001b[0mshebang\u001b[0m\u001b[0;34m(\u001b[0m\u001b[0mline\u001b[0m\u001b[0;34m,\u001b[0m \u001b[0mcell\u001b[0m\u001b[0;34m)\u001b[0m\u001b[0;34m\u001b[0m\u001b[0;34m\u001b[0m\u001b[0m\n\u001b[0m\u001b[1;32m    143\u001b[0m \u001b[0;34m\u001b[0m\u001b[0m\n\u001b[1;32m    144\u001b[0m         \u001b[0;31m# write a basic docstring:\u001b[0m\u001b[0;34m\u001b[0m\u001b[0;34m\u001b[0m\u001b[0;34m\u001b[0m\u001b[0m\n",
      "\u001b[0;32m<decorator-gen-110>\u001b[0m in \u001b[0;36mshebang\u001b[0;34m(self, line, cell)\u001b[0m\n",
      "\u001b[0;32m~/.local/lib/python3.8/site-packages/IPython/core/magic.py\u001b[0m in \u001b[0;36m<lambda>\u001b[0;34m(f, *a, **k)\u001b[0m\n\u001b[1;32m    185\u001b[0m     \u001b[0;31m# but it's overkill for just that one bit of state.\u001b[0m\u001b[0;34m\u001b[0m\u001b[0;34m\u001b[0m\u001b[0;34m\u001b[0m\u001b[0m\n\u001b[1;32m    186\u001b[0m     \u001b[0;32mdef\u001b[0m \u001b[0mmagic_deco\u001b[0m\u001b[0;34m(\u001b[0m\u001b[0marg\u001b[0m\u001b[0;34m)\u001b[0m\u001b[0;34m:\u001b[0m\u001b[0;34m\u001b[0m\u001b[0;34m\u001b[0m\u001b[0m\n\u001b[0;32m--> 187\u001b[0;31m         \u001b[0mcall\u001b[0m \u001b[0;34m=\u001b[0m \u001b[0;32mlambda\u001b[0m \u001b[0mf\u001b[0m\u001b[0;34m,\u001b[0m \u001b[0;34m*\u001b[0m\u001b[0ma\u001b[0m\u001b[0;34m,\u001b[0m \u001b[0;34m**\u001b[0m\u001b[0mk\u001b[0m\u001b[0;34m:\u001b[0m \u001b[0mf\u001b[0m\u001b[0;34m(\u001b[0m\u001b[0;34m*\u001b[0m\u001b[0ma\u001b[0m\u001b[0;34m,\u001b[0m \u001b[0;34m**\u001b[0m\u001b[0mk\u001b[0m\u001b[0;34m)\u001b[0m\u001b[0;34m\u001b[0m\u001b[0;34m\u001b[0m\u001b[0m\n\u001b[0m\u001b[1;32m    188\u001b[0m \u001b[0;34m\u001b[0m\u001b[0m\n\u001b[1;32m    189\u001b[0m         \u001b[0;32mif\u001b[0m \u001b[0mcallable\u001b[0m\u001b[0;34m(\u001b[0m\u001b[0marg\u001b[0m\u001b[0;34m)\u001b[0m\u001b[0;34m:\u001b[0m\u001b[0;34m\u001b[0m\u001b[0;34m\u001b[0m\u001b[0m\n",
      "\u001b[0;32m~/.local/lib/python3.8/site-packages/IPython/core/magics/script.py\u001b[0m in \u001b[0;36mshebang\u001b[0;34m(self, line, cell)\u001b[0m\n\u001b[1;32m    243\u001b[0m             \u001b[0msys\u001b[0m\u001b[0;34m.\u001b[0m\u001b[0mstderr\u001b[0m\u001b[0;34m.\u001b[0m\u001b[0mflush\u001b[0m\u001b[0;34m(\u001b[0m\u001b[0;34m)\u001b[0m\u001b[0;34m\u001b[0m\u001b[0;34m\u001b[0m\u001b[0m\n\u001b[1;32m    244\u001b[0m         \u001b[0;32mif\u001b[0m \u001b[0margs\u001b[0m\u001b[0;34m.\u001b[0m\u001b[0mraise_error\u001b[0m \u001b[0;32mand\u001b[0m \u001b[0mp\u001b[0m\u001b[0;34m.\u001b[0m\u001b[0mreturncode\u001b[0m\u001b[0;34m!=\u001b[0m\u001b[0;36m0\u001b[0m\u001b[0;34m:\u001b[0m\u001b[0;34m\u001b[0m\u001b[0;34m\u001b[0m\u001b[0m\n\u001b[0;32m--> 245\u001b[0;31m             \u001b[0;32mraise\u001b[0m \u001b[0mCalledProcessError\u001b[0m\u001b[0;34m(\u001b[0m\u001b[0mp\u001b[0m\u001b[0;34m.\u001b[0m\u001b[0mreturncode\u001b[0m\u001b[0;34m,\u001b[0m \u001b[0mcell\u001b[0m\u001b[0;34m,\u001b[0m \u001b[0moutput\u001b[0m\u001b[0;34m=\u001b[0m\u001b[0mout\u001b[0m\u001b[0;34m,\u001b[0m \u001b[0mstderr\u001b[0m\u001b[0;34m=\u001b[0m\u001b[0merr\u001b[0m\u001b[0;34m)\u001b[0m\u001b[0;34m\u001b[0m\u001b[0;34m\u001b[0m\u001b[0m\n\u001b[0m\u001b[1;32m    246\u001b[0m \u001b[0;34m\u001b[0m\u001b[0m\n\u001b[1;32m    247\u001b[0m     \u001b[0;32mdef\u001b[0m \u001b[0m_run_script\u001b[0m\u001b[0;34m(\u001b[0m\u001b[0mself\u001b[0m\u001b[0;34m,\u001b[0m \u001b[0mp\u001b[0m\u001b[0;34m,\u001b[0m \u001b[0mcell\u001b[0m\u001b[0;34m,\u001b[0m \u001b[0mto_close\u001b[0m\u001b[0;34m)\u001b[0m\u001b[0;34m:\u001b[0m\u001b[0;34m\u001b[0m\u001b[0;34m\u001b[0m\u001b[0m\n",
      "\u001b[0;31mCalledProcessError\u001b[0m: Command 'b'exec 2>&1 ; set -v ; set -o pipefail\\n\\nls -la fuse_json                      # List dir. \\n\\ntree fuse_json --noreport             # Recursively list dirs (install: sudo apt install tree). \\n\\ncat fuse_json/__json__    && echo     #\\n\\ncat fuse_json/a           && echo     #\\n\\ncat fuse_json/c/__json__  && echo     #\\n'' returned non-zero exit status 1."
     ]
    }
   ],
   "source": [
    "%%bash\n",
    "exec 2>&1 ; set -v ; set -o pipefail\n",
    "\n",
    "ls -la fuse_json                      # List dir. \n",
    "\n",
    "tree fuse_json --noreport             # Recursively list dirs (install: sudo apt install tree). \n",
    "\n",
    "cat fuse_json/__json__    && echo     #\n",
    "\n",
    "cat fuse_json/a           && echo     #\n",
    "\n",
    "cat fuse_json/c/__json__  && echo     #"
   ]
  },
  {
   "cell_type": "code",
   "execution_count": 116,
   "metadata": {},
   "outputs": [],
   "source": [
    "!fusermount -u fuse_json\n",
    "a.close()"
   ]
  },
  {
   "cell_type": "code",
   "execution_count": null,
   "metadata": {},
   "outputs": [],
   "source": []
  }
 ],
 "metadata": {
  "kernelspec": {
   "display_name": "Python 3",
   "language": "python",
   "name": "python3"
  },
  "language_info": {
   "codemirror_mode": {
    "name": "ipython",
    "version": 3
   },
   "file_extension": ".py",
   "mimetype": "text/x-python",
   "name": "python",
   "nbconvert_exporter": "python",
   "pygments_lexer": "ipython3",
   "version": "3.8.10"
  }
 },
 "nbformat": 4,
 "nbformat_minor": 2
}
