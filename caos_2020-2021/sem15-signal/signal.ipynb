{
 "cells": [
  {
   "cell_type": "code",
   "execution_count": 37,
   "metadata": {},
   "outputs": [
    {
     "data": {
      "application/javascript": [
       "// setup cpp code highlighting\n",
       "IPython.CodeCell.options_default.highlight_modes[\"text/x-c++src\"] = {'reg':[/^%%cpp/]} ;"
      ],
      "text/plain": [
       "<IPython.core.display.Javascript object>"
      ]
     },
     "metadata": {},
     "output_type": "display_data"
    },
    {
     "name": "stderr",
     "output_type": "stream",
     "text": [
      "Terminate pid=25737\n",
      "Terminate pid=26190\n"
     ]
    },
    {
     "data": {
      "text/html": [
       "<!-- YANDEX_METRICA_BEGIN -->\n",
       "    <script type=\"text/javascript\" >\n",
       "       (function(m,e,t,r,i,k,a){m[i]=m[i]||function(){(m[i].a=m[i].a||[]).push(arguments)};\n",
       "       m[i].l=1*new Date();k=e.createElement(t),a=e.getElementsByTagName(t)[0],k.async=1,k.src=r,a.parentNode.insertBefore(k,a)})\n",
       "       (window, document, \"script\", \"https://mc.yandex.ru/metrika/tag.js\", \"ym\");\n",
       "\n",
       "       ym(59260609, \"init\", {\n",
       "            clickmap:true,\n",
       "            trackLinks:true,\n",
       "            accurateTrackBounce:true\n",
       "       });\n",
       "    </script>\n",
       "    <noscript><div><img src=\"https://mc.yandex.ru/watch/59260609\" style=\"position:absolute; left:-9999px;\" alt=\"\" /></div></noscript>\n",
       "    <!-- YANDEX_METRICA_END -->"
      ],
      "text/plain": [
       "<IPython.core.display.HTML object>"
      ]
     },
     "metadata": {},
     "output_type": "display_data"
    },
    {
     "data": {
      "text/html": [
       "В этот ноутбук встроен код Яндекс Метрики для сбора статистики использований. Если вы не хотите, чтобы по вам собиралась статистика, исправьте: yandex_metrica_allowed = False<!-- MAGICS_SETUP_PRINTING_END -->"
      ],
      "text/plain": [
       "<IPython.core.display.HTML object>"
      ]
     },
     "metadata": {},
     "output_type": "display_data"
    }
   ],
   "source": [
    "# look at tools/set_up_magics.ipynb\n",
    "yandex_metrica_allowed = True ; get_ipython().run_cell('# one_liner_str\\n\\nget_ipython().run_cell_magic(\\'javascript\\', \\'\\', \\'// setup cpp code highlighting\\\\nIPython.CodeCell.options_default.highlight_modes[\"text/x-c++src\"] = {\\\\\\'reg\\\\\\':[/^%%cpp/]} ;\\')\\n\\n# creating magics\\nfrom IPython.core.magic import register_cell_magic, register_line_magic\\nfrom IPython.display import display, Markdown, HTML\\nimport argparse\\nfrom subprocess import Popen, PIPE\\nimport random\\nimport sys\\nimport os\\nimport re\\nimport signal\\nimport shutil\\nimport shlex\\nimport glob\\n\\n@register_cell_magic\\ndef save_file(args_str, cell, line_comment_start=\"#\"):\\n    parser = argparse.ArgumentParser()\\n    parser.add_argument(\"fname\")\\n    parser.add_argument(\"--ejudge-style\", action=\"store_true\")\\n    args = parser.parse_args(args_str.split())\\n    \\n    cell = cell if cell[-1] == \\'\\\\n\\' or args.no_eof_newline else cell + \"\\\\n\"\\n    cmds = []\\n    with open(args.fname, \"w\") as f:\\n        f.write(line_comment_start + \" %%cpp \" + args_str + \"\\\\n\")\\n        for line in cell.split(\"\\\\n\"):\\n            line_to_write = (line if not args.ejudge_style else line.rstrip()) + \"\\\\n\"\\n            if line.startswith(\"%\"):\\n                run_prefix = \"%run \"\\n                if line.startswith(run_prefix):\\n                    cmds.append(line[len(run_prefix):].strip())\\n                    f.write(line_comment_start + \" \" + line_to_write)\\n                    continue\\n                run_prefix = \"%# \"\\n                if line.startswith(run_prefix):\\n                    f.write(line_comment_start + \" \" + line_to_write)\\n                    continue\\n                raise Exception(\"Unknown %%save_file subcommand: \\'%s\\'\" % line)\\n            else:\\n                f.write(line_to_write)\\n        f.write(\"\" if not args.ejudge_style else line_comment_start + r\" line without \\\\n\")\\n    for cmd in cmds:\\n        display(Markdown(\"Run: `%s`\" % cmd))\\n        get_ipython().system(cmd)\\n\\n@register_cell_magic\\ndef cpp(fname, cell):\\n    save_file(fname, cell, \"//\")\\n\\n@register_cell_magic\\ndef asm(fname, cell):\\n    save_file(fname, cell, \"//\")\\n    \\n@register_cell_magic\\ndef makefile(fname, cell):\\n    assert not fname\\n    save_file(\"makefile\", cell.replace(\" \" * 4, \"\\\\t\"))\\n        \\n@register_line_magic\\ndef p(line):\\n    try:\\n        expr, comment = line.split(\" #\")\\n        display(Markdown(\"`{} = {}`  # {}\".format(expr.strip(), eval(expr), comment.strip())))\\n    except:\\n        display(Markdown(\"{} = {}\".format(line, eval(line))))\\n        \\ndef show_file(file, clear_at_begin=True, return_html_string=False):\\n    if clear_at_begin:\\n        get_ipython().system(\"truncate --size 0 \" + file)\\n    obj = file.replace(\\'.\\', \\'_\\').replace(\\'/\\', \\'_\\') + \"_obj\"\\n    html_string = \\'\\'\\'\\n        <!--MD_BEGIN_FILTER-->\\n        <script type=text/javascript>\\n        var entrance___OBJ__ = 0;\\n        var errors___OBJ__ = 0;\\n        function refresh__OBJ__()\\n        {\\n            entrance___OBJ__ -= 1;\\n            var elem = document.getElementById(\"__OBJ__\");\\n            if (elem) {\\n                var xmlhttp=new XMLHttpRequest();\\n                xmlhttp.onreadystatechange=function()\\n                {\\n                    var elem = document.getElementById(\"__OBJ__\");\\n                    console.log(!!elem, xmlhttp.readyState, xmlhttp.status, entrance___OBJ__);\\n                    if (elem && xmlhttp.readyState==4) {\\n                        if (xmlhttp.status==200)\\n                        {\\n                            errors___OBJ__ = 0;\\n                            if (!entrance___OBJ__) {\\n                                elem.innerText = xmlhttp.responseText;\\n                                entrance___OBJ__ += 1;\\n                                console.log(\"req\");\\n                                window.setTimeout(\"refresh__OBJ__()\", 300); \\n                            }\\n                            return xmlhttp.responseText;\\n                        } else {\\n                            errors___OBJ__ += 1;\\n                            if (errors___OBJ__ < 10 && !entrance___OBJ__) {\\n                                entrance___OBJ__ += 1;\\n                                console.log(\"req\");\\n                                window.setTimeout(\"refresh__OBJ__()\", 300); \\n                            }\\n                        }\\n                    }\\n                }\\n                xmlhttp.open(\"GET\", \"__FILE__\", true);\\n                xmlhttp.setRequestHeader(\"Cache-Control\", \"no-cache\");\\n                xmlhttp.send();     \\n            }\\n        }\\n        \\n        if (!entrance___OBJ__) {\\n            entrance___OBJ__ += 1;\\n            refresh__OBJ__(); \\n        }\\n        </script>\\n        \\n        <font color=\"white\"> <tt>\\n        <p id=\"__OBJ__\" style=\"font-size: 16px; border:3px #333333 solid; background: #333333; border-radius: 10px; padding: 10px;  \"></p>\\n        </tt> </font>\\n        <!--MD_END_FILTER-->\\n        <!--MD_FROM_FILE __FILE__ -->\\n        \\'\\'\\'.replace(\"__OBJ__\", obj).replace(\"__FILE__\", file)\\n    if return_html_string:\\n        return html_string\\n    display(HTML(html_string))\\n    \\nBASH_POPEN_TMP_DIR = \"./bash_popen_tmp\"\\n    \\ndef bash_popen_terminate_all():\\n    for p in globals().get(\"bash_popen_list\", []):\\n        print(\"Terminate pid=\" + str(p.pid), file=sys.stderr)\\n        p.terminate()\\n    globals()[\"bash_popen_list\"] = []\\n    if os.path.exists(BASH_POPEN_TMP_DIR):\\n        shutil.rmtree(BASH_POPEN_TMP_DIR)\\n\\nbash_popen_terminate_all()  \\n\\ndef bash_popen(cmd):\\n    if not os.path.exists(BASH_POPEN_TMP_DIR):\\n        os.mkdir(BASH_POPEN_TMP_DIR)\\n    h = os.path.join(BASH_POPEN_TMP_DIR, str(random.randint(0, 1e18)))\\n    stdout_file = h + \".out.html\"\\n    stderr_file = h + \".err.html\"\\n    run_log_file = h + \".fin.html\"\\n    \\n    stdout = open(stdout_file, \"wb\")\\n    stdout = open(stderr_file, \"wb\")\\n    \\n    html = \"\"\"\\n    <table width=\"100%\">\\n    <colgroup>\\n       <col span=\"1\" style=\"width: 70px;\">\\n       <col span=\"1\">\\n    </colgroup>    \\n    <tbody>\\n      <tr> <td><b>STDOUT</b></td> <td> {stdout} </td> </tr>\\n      <tr> <td><b>STDERR</b></td> <td> {stderr} </td> </tr>\\n      <tr> <td><b>RUN LOG</b></td> <td> {run_log} </td> </tr>\\n    </tbody>\\n    </table>\\n    \"\"\".format(\\n        stdout=show_file(stdout_file, return_html_string=True),\\n        stderr=show_file(stderr_file, return_html_string=True),\\n        run_log=show_file(run_log_file, return_html_string=True),\\n    )\\n    \\n    cmd = \"\"\"\\n        bash -c {cmd} &\\n        pid=$!\\n        echo \"Process started! pid=${{pid}}\" > {run_log_file}\\n        wait ${{pid}}\\n        echo \"Process finished! exit_code=$?\" >> {run_log_file}\\n    \"\"\".format(cmd=shlex.quote(cmd), run_log_file=run_log_file)\\n    # print(cmd)\\n    display(HTML(html))\\n    \\n    p = Popen([\"bash\", \"-c\", cmd], stdin=PIPE, stdout=stdout, stderr=stdout)\\n    \\n    bash_popen_list.append(p)\\n    return p\\n\\n\\n@register_line_magic\\ndef bash_async(line):\\n    bash_popen(line)\\n    \\n    \\ndef show_log_file(file, return_html_string=False):\\n    obj = file.replace(\\'.\\', \\'_\\').replace(\\'/\\', \\'_\\') + \"_obj\"\\n    html_string = \\'\\'\\'\\n        <!--MD_BEGIN_FILTER-->\\n        <script type=text/javascript>\\n        var entrance___OBJ__ = 0;\\n        var errors___OBJ__ = 0;\\n        function halt__OBJ__(elem, color)\\n        {\\n            elem.setAttribute(\"style\", \"font-size: 14px; background: \" + color + \"; padding: 10px; border: 3px; border-radius: 5px; color: white; \");                    \\n        }\\n        function refresh__OBJ__()\\n        {\\n            entrance___OBJ__ -= 1;\\n            if (entrance___OBJ__ < 0) {\\n                entrance___OBJ__ = 0;\\n            }\\n            var elem = document.getElementById(\"__OBJ__\");\\n            if (elem) {\\n                var xmlhttp=new XMLHttpRequest();\\n                xmlhttp.onreadystatechange=function()\\n                {\\n                    var elem = document.getElementById(\"__OBJ__\");\\n                    console.log(!!elem, xmlhttp.readyState, xmlhttp.status, entrance___OBJ__);\\n                    if (elem && xmlhttp.readyState==4) {\\n                        if (xmlhttp.status==200)\\n                        {\\n                            errors___OBJ__ = 0;\\n                            if (!entrance___OBJ__) {\\n                                if (elem.innerHTML != xmlhttp.responseText) {\\n                                    elem.innerHTML = xmlhttp.responseText;\\n                                }\\n                                if (elem.innerHTML.includes(\"Process finished.\")) {\\n                                    halt__OBJ__(elem, \"#333333\");\\n                                } else {\\n                                    entrance___OBJ__ += 1;\\n                                    console.log(\"req\");\\n                                    window.setTimeout(\"refresh__OBJ__()\", 300); \\n                                }\\n                            }\\n                            return xmlhttp.responseText;\\n                        } else {\\n                            errors___OBJ__ += 1;\\n                            if (!entrance___OBJ__) {\\n                                if (errors___OBJ__ < 6) {\\n                                    entrance___OBJ__ += 1;\\n                                    console.log(\"req\");\\n                                    window.setTimeout(\"refresh__OBJ__()\", 300); \\n                                } else {\\n                                    halt__OBJ__(elem, \"#994444\");\\n                                }\\n                            }\\n                        }\\n                    }\\n                }\\n                xmlhttp.open(\"GET\", \"__FILE__\", true);\\n                xmlhttp.setRequestHeader(\"Cache-Control\", \"no-cache\");\\n                xmlhttp.send();     \\n            }\\n        }\\n        \\n        if (!entrance___OBJ__) {\\n            entrance___OBJ__ += 1;\\n            refresh__OBJ__(); \\n        }\\n        </script>\\n\\n        <p id=\"__OBJ__\" style=\"font-size: 14px; background: #000000; padding: 10px; border: 3px; border-radius: 5px; color: white; \">\\n        </p>\\n        \\n        </font>\\n        <!--MD_END_FILTER-->\\n        <!--MD_FROM_FILE __FILE__.md -->\\n        \\'\\'\\'.replace(\"__OBJ__\", obj).replace(\"__FILE__\", file)\\n    if return_html_string:\\n        return html_string\\n    display(HTML(html_string))\\n\\n    \\nclass TInteractiveLauncher:\\n    tmp_path = \"./interactive_launcher_tmp\"\\n    def __init__(self, cmd):\\n        try:\\n            os.mkdir(TInteractiveLauncher.tmp_path)\\n        except:\\n            pass\\n        name = str(random.randint(0, 1e18))\\n        self.inq_path = os.path.join(TInteractiveLauncher.tmp_path, name + \".inq\")\\n        self.log_path = os.path.join(TInteractiveLauncher.tmp_path, name + \".log\")\\n        \\n        os.mkfifo(self.inq_path)\\n        open(self.log_path, \\'w\\').close()\\n        open(self.log_path + \".md\", \\'w\\').close()\\n\\n        self.pid = os.fork()\\n        if self.pid == -1:\\n            print(\"Error\")\\n        if self.pid == 0:\\n            exe_cands = glob.glob(\"../tools/launcher.py\") + glob.glob(\"../../tools/launcher.py\")\\n            assert(len(exe_cands) == 1)\\n            assert(os.execvp(\"python3\", [\"python3\", exe_cands[0], \"-l\", self.log_path, \"-i\", self.inq_path, \"-c\", cmd]) == 0)\\n        self.inq_f = open(self.inq_path, \"w\")\\n        interactive_launcher_opened_set.add(self.pid)\\n        show_log_file(self.log_path)\\n\\n    def write(self, s):\\n        s = s.encode()\\n        assert len(s) == os.write(self.inq_f.fileno(), s)\\n        \\n    def get_pid(self):\\n        n = 100\\n        for i in range(n):\\n            try:\\n                return int(re.findall(r\"PID = (\\\\d+)\", open(self.log_path).readline())[0])\\n            except:\\n                if i + 1 == n:\\n                    raise\\n                time.sleep(0.1)\\n        \\n    def input_queue_path(self):\\n        return self.inq_path\\n        \\n    def close(self):\\n        self.inq_f.close()\\n        os.waitpid(self.pid, 0)\\n        os.remove(self.inq_path)\\n        # os.remove(self.log_path)\\n        self.inq_path = None\\n        self.log_path = None \\n        interactive_launcher_opened_set.remove(self.pid)\\n        self.pid = None\\n        \\n    @staticmethod\\n    def terminate_all():\\n        if \"interactive_launcher_opened_set\" not in globals():\\n            globals()[\"interactive_launcher_opened_set\"] = set()\\n        global interactive_launcher_opened_set\\n        for pid in interactive_launcher_opened_set:\\n            print(\"Terminate pid=\" + str(pid), file=sys.stderr)\\n            os.kill(pid, signal.SIGKILL)\\n            os.waitpid(pid, 0)\\n        interactive_launcher_opened_set = set()\\n        if os.path.exists(TInteractiveLauncher.tmp_path):\\n            shutil.rmtree(TInteractiveLauncher.tmp_path)\\n    \\nTInteractiveLauncher.terminate_all()\\n   \\nyandex_metrica_allowed = bool(globals().get(\"yandex_metrica_allowed\", False))\\nif yandex_metrica_allowed:\\n    display(HTML(\\'\\'\\'<!-- YANDEX_METRICA_BEGIN -->\\n    <script type=\"text/javascript\" >\\n       (function(m,e,t,r,i,k,a){m[i]=m[i]||function(){(m[i].a=m[i].a||[]).push(arguments)};\\n       m[i].l=1*new Date();k=e.createElement(t),a=e.getElementsByTagName(t)[0],k.async=1,k.src=r,a.parentNode.insertBefore(k,a)})\\n       (window, document, \"script\", \"https://mc.yandex.ru/metrika/tag.js\", \"ym\");\\n\\n       ym(59260609, \"init\", {\\n            clickmap:true,\\n            trackLinks:true,\\n            accurateTrackBounce:true\\n       });\\n    </script>\\n    <noscript><div><img src=\"https://mc.yandex.ru/watch/59260609\" style=\"position:absolute; left:-9999px;\" alt=\"\" /></div></noscript>\\n    <!-- YANDEX_METRICA_END -->\\'\\'\\'))\\n\\ndef make_oneliner():\\n    html_text = \\'(\"В этот ноутбук встроен код Яндекс Метрики для сбора статистики использований. Если вы не хотите, чтобы по вам собиралась статистика, исправьте: yandex_metrica_allowed = False\" if yandex_metrica_allowed else \"\")\\'\\n    html_text += \\' + \"<\"\"!-- MAGICS_SETUP_PRINTING_END -->\"\\'\\n    return \\'\\'.join([\\n        \\'# look at tools/set_up_magics.ipynb\\\\n\\',\\n        \\'yandex_metrica_allowed = True ; get_ipython().run_cell(%s);\\' % repr(one_liner_str),\\n        \\'display(HTML(%s))\\' % html_text,\\n        \\' #\\'\\'MAGICS_SETUP_END\\'\\n    ])\\n       \\n\\n');display(HTML((\"В этот ноутбук встроен код Яндекс Метрики для сбора статистики использований. Если вы не хотите, чтобы по вам собиралась статистика, исправьте: yandex_metrica_allowed = False\" if yandex_metrica_allowed else \"\") + \"<\"\"!-- MAGICS_SETUP_PRINTING_END -->\")) #MAGICS_SETUP_END"
   ]
  },
  {
   "cell_type": "markdown",
   "metadata": {},
   "source": [
    "# Что такое сигналы и как закрыть vim\n",
    "\n",
    "<p><a href=\"https://www.youtube.com/watch?v=Qbkk2FWIWg8&list=PLjzMm8llUm4AmU6i_hPU0NobgA4VsBowc&index=16\" target=\"_blank\">\n",
    "    <h3>Видеозапись семинара</h3> \n",
    "</a></p>\n",
    "\n",
    "\n",
    "[Ридинг Яковлева](https://github.com/victor-yacovlev/mipt-diht-caos/tree/master/practice/signal-1)\n",
    "и его [вторая его часть](https://github.com/victor-yacovlev/mipt-diht-caos/blob/master/practice/signal-2/README.md)\n",
    "\n",
    "Сегодня в программе:\n",
    "* <a href=\"#info\" style=\"color:#856024\"> Общая информация </a>  \n",
    "\n",
    "* <a href=\"#core\" style=\"color:#856024\"> Coredump-ы и с чем их едят </a>  \n",
    "* <a href=\"#alarm\" style=\"color:#856024\"> alarm - попроси соседа тебя пнуть через 10 минут </a>  \n",
    "* <a href=\"#signal\" style=\"color:#856024\"> signal - назначить обработчик сигнала устаревшим способом </a>  \n",
    "* <a href=\"#sigaction\" style=\"color:#856024\"> sigaction - назначить обработчик сигнала по-нормальному </a>  \n",
    "* <a href=\"#sigmask\" style=\"color:#856024\"> sigprocmask, sigsuspend - заблокировать обработку сигналов и точечно ее разблокировать, чтобы обработчики выполнялись в удобные моменты </a>  \n",
    "* <a href=\"#sigrt\" style=\"color:#856024\"> sigqueue - отправление и получение сигналов реального времен </a>   \n",
    "* <a href=\"#sigwaitinfo\" style=\"color:#856024\"> sigwaitinfo - способ получить и обработать сигнал так же просто, как считать и обработать число из стандартного потока ввода </a>   \n",
    "* <a href=\"#signalfd\" style=\"color:#856024\"> signalfd - получать сигналы путем чтения из файлового дескриптора </a>   \n",
    "* <a href=\"#signalfd_poor\" style=\"color:#856024\"> signalfd для бедных - когда идея вам понравилась, но на вашей платформе нет signalfd </a>  \n",
    "* <a href=\"#mask_more\" style=\"color:#856024\"> Больше о масках сигналов с примером реальной программы </a>  \n",
    "* <a href=\"#usage\" style=\"color:#856024\"> Примеры использования сигналов </a>  \n",
    "* <a href=\"#hw\" style=\"color:#856024\"> Комментарии к ДЗ </a>  \n",
    "\n",
    "## <a name=\"info\"></a> Общая информация\n",
    "\n",
    "Сигналы, которые можно послать из терминала запущенной программе:\n",
    "* Ctrl-C посылает SIGINT (от interrupt), обычное действие - завершение программы.\n",
    "* Ctrl-\\\\ посылает SIGQUIT, обычное действие - завершение с дампом памяти. **В целом срабатывает чаще чем Ctrl-C**\n",
    "* Ctrl-Z посылает SIGTSTP, обычное действие - остановка процесса. То есть как SIGSTOP\n",
    "\n",
    "Другие полезные сигналы:\n",
    "* SIGKILL - безусловное убиение процесса. \n",
    "* SIGSTOP - безусловная остановка программы.\n",
    "* SIGCONT - продолжение выполнения (отмена SIGSTOP)\n",
    "\n",
    "Как убить неубиваемое?\n",
    "* `killall -9 vim` или `ps aux | grep vim`, а потом уже `kill -9 <selected_pid>`. Надо заметить, что `-9` лучше писать как `-SIGKILL`, но это длиннее, так что на конкретной платформе в интерактивном режиме проще писать `-9`. А `-SIGKILL` оставить для переносимых приложений.\n",
    "\n",
    "\n",
    "[Пост на хабре](https://habr.com/ru/post/141206/)\n",
    "\n",
    "[Правила использования сигналов в UNIX](https://www.opennet.ru/base/dev/unix_signals.txt.html) - хорошая статья о том, как работать с сигналами.\n",
    "\n",
    "**Все это дело (сигналы) плохо сочетается с потоками**\n",
    "\n",
    "<details>\n",
    "<summary>Доставка сигналов в случае, когда есть несколько потоков</summary>\n",
    "  <p>\n",
    "\n",
    "Сигнал поступает в нить, если он не должен игнорироваться. Доставка сигналов в процессах с несколькими нитями подчиняется следующим правилам:\n",
    "\n",
    "* Если по сигналу следует завершить, остановить или продолжить целевую нить, то при обработке сигнала соответственно завершается, останавливается или возобновляется весь процесс (а следовательно, все его нити). Это означает, что программы с одной нитью можно переработать в программы с несколькими нитями, не изменяя в них видимую сторону обработки сигналов.\n",
    "Рассмотрим пользовательскую команду с несколькими нитями, например, команду grep. Пользователь может запустить эту команду из оболочки и затем попытаться прервать ее выполнение, передав соответствующий сигнал командой kill. Очевидно, что этот сигнал прервет весь процесс, в котором выполняется команда grep.\n",
    "\n",
    "* Сигналы, соответствующие конкретной нити и отправленные с помощью функций pthread_kill или raise, передаются в эту нить. Если эта нить заблокировала доставку данного сигнала, то сигнал переходит в состояние ожидания на уровне нити, пока доставка не будет разблокирована. Если выполнение нити завершилось раньше доставки сигнала, то сигнал будет проигнорирован.\n",
    "* Сигналы, соответствующие процессу и отправленные, например, с помощью функции kill, передаются только одной нити процесса. Если одна или несколько нитей вызвали функцию sigwait, то сигнал передается ровно в одну из них. В противном случае сигнал передается ровно в одну нить из числа тех нитей, которые не блокировали его доставку. Если нитей, удовлетворяющих этим условиям, нет, то сигнал переходит в состояние ожидания на уровне процесса до тех пор, пока какая-либо нить не вызовет функцию sigwait с указанием этого сигнала или пока доставка не будет разблокирована.\n",
    "\n",
    "\n",
    "Если ожидающий сигнал (на уровне нити или процесса) должен игнорироваться, то он игнорируется.  \n",
    "  \n",
    "[Источник](http://www.regatta.cs.msu.su/doc/usr/share/man/info/ru_RU/a_doc_lib/aixprggd/genprogc/signal_mgmt.htm)\n",
    "\n",
    "**Как с этим жить?** Принимать сигналы только в одном потоке и вызывать хендлеры в контексте выполнения потока. Тогда можно будет не беспокоиться о async-signal safety и ограничиться thread safety.\n",
    "\n",
    "  </p>\n",
    "</details>\n",
    "\n",
    "\n",
    "## Как сигналы приходят в программу?\n",
    "\n",
    "Когда одна программу отправляет сигнал другой, то этот сигнал записывается в атрибуты программы получателя. Если это обычный сигнал, то проставится бит в маске ожидающих доставки сигналов (SigPnd), если сигнал реального времени, то запишется в очередь сигналов. \n",
    "\n",
    "Сама программа-получатель из своего кода не взаимодействует с маской ожидающих сигналов или очередью сигналов. С ними взаимодействует ядро системы. Оно же обрабатывает (или не обрабатывает, если доставка сигналов заблокирована SigBlk) эти сигналы либо действиями по умолчанию, либо игнорированем (SigIgn), либо **останавливая выполнение программы в произвольный для нее момент** и вызывая в ней обработчик сигнала в отдельном контексте (на отдельном стеке вызовов функций).\n",
    "\n",
    "Отсюда вытекает **требование к асинхронной безопасности обработчиков сигналов**. Например, если основная программа может быть прервана на обработку сигнала в момент вызова printf, и в обработчике тоже используется эта функция, то есть шанс, что в вас все взорвется (испортится глобальный стейт функции printf и, возможно, еще что-то) или намертво зависнет (если в основной программе был взят lock, и теперь снова пытается взяться уже из обработчика сигнала).\n",
    "\n",
    "Бороться с этим можно несколькими способами: \n",
    "  1. Писать честные асинхронно-безопасные обработчики (взаимодействие с остальной частью программы только через `volatile sig_atomic_t` переменные и системные вызовы).\n",
    "    <br> Как вариант в обработчике **можно писать в пайп**. То есть получить некий аналог `signalfd`, только переносимый.\n",
    "  1. Использовать `sigsuspend` (чтобы обработчики могли выполняться, только пока выполняется sigsuspend)\n",
    "  1. Использовать `signalfd`. С ней можно обрабатывать сигналы в контексте основного потока программы, соответственно никаких требований к асинхронной безопасности. Но это linux-специфичное решение."
   ]
  },
  {
   "cell_type": "markdown",
   "metadata": {},
   "source": [
    "# <a name=\"core\"></a> Что значит завершение с дампом памяти?"
   ]
  },
  {
   "cell_type": "code",
   "execution_count": 38,
   "metadata": {},
   "outputs": [
    {
     "data": {
      "text/markdown": [
       "Run: `gcc -g coredump.c -o coredump.exe`"
      ],
      "text/plain": [
       "<IPython.core.display.Markdown object>"
      ]
     },
     "metadata": {},
     "output_type": "display_data"
    },
    {
     "data": {
      "text/markdown": [
       "Run: `rm core # удаляем старый файл с coredump`"
      ],
      "text/plain": [
       "<IPython.core.display.Markdown object>"
      ]
     },
     "metadata": {},
     "output_type": "display_data"
    },
    {
     "data": {
      "text/markdown": [
       "Run: `./coredump.exe`"
      ],
      "text/plain": [
       "<IPython.core.display.Markdown object>"
      ]
     },
     "metadata": {},
     "output_type": "display_data"
    },
    {
     "name": "stdout",
     "output_type": "stream",
     "text": [
      "coredump.exe: coredump.c:24: f: Assertion `a > 4' failed.\n",
      "Aborted (core dumped)\n"
     ]
    }
   ],
   "source": [
    "%%cpp coredump.c\n",
    "%run gcc -g coredump.c -o coredump.exe\n",
    "%run rm core # удаляем старый файл с coredump\n",
    "%run ./coredump.exe\n",
    "\n",
    "#include <stdio.h>\n",
    "#include <stdlib.h>\n",
    "#include <assert.h>\n",
    "#include <sys/types.h>\n",
    "#include <sys/wait.h>\n",
    "#include <sys/time.h>\n",
    "#include <sys/resource.h>\n",
    "\n",
    "// can be replaced with 'ulimit -c unlimited' in terminal\n",
    "void enable_core() {\n",
    "    struct rlimit rlim;\n",
    "    assert(0 == getrlimit(RLIMIT_CORE, &rlim));\n",
    "    rlim.rlim_cur = rlim.rlim_max;\n",
    "    assert(0 == setrlimit(RLIMIT_CORE, &rlim));\n",
    "}\n",
    "\n",
    "int f(int a) {\n",
    "    if (1) {\n",
    "        assert(a > 4); // тоже вызывает SIGABRT\n",
    "    } else {\n",
    "        if (a < 4) {\n",
    "            raise(SIGABRT); // посылаем сигнал себе\n",
    "        }\n",
    "    }\n",
    "    return 0;\n",
    "}\n",
    "\n",
    "int main(int argc, char** argv) {\n",
    "    enable_core();\n",
    "    return f(argc);\n",
    "}"
   ]
  },
  {
   "cell_type": "code",
   "execution_count": 39,
   "metadata": {},
   "outputs": [
    {
     "name": "stdout",
     "output_type": "stream",
     "text": [
      "[New LWP 26989]\n",
      "Core was generated by `./coredump.exe'.\n",
      "Program terminated with signal SIGABRT, Aborted.\n",
      "#0  __GI_raise (sig=sig@entry=6) at ../sysdeps/unix/sysv/linux/raise.c:50\n",
      "50\t../sysdeps/unix/sysv/linux/raise.c: No such file or directory.\n",
      "coredump.exe: coredump.c:24: f: Assertion `a > 4' failed.\n",
      "\n",
      "Program received signal SIGABRT, Aborted.\n",
      "__GI_raise (sig=sig@entry=6) at ../sysdeps/unix/sysv/linux/raise.c:50\n",
      "50\t../sysdeps/unix/sysv/linux/raise.c: No such file or directory.\n",
      "#0  __GI_raise (sig=sig@entry=6) at ../sysdeps/unix/sysv/linux/raise.c:50\n",
      "        set = {__val = {0, 140737352411216, 140737415839744, 93824992252576, 93824992252576, 93824992252576, 93824992252576, 93824992252634, 93824992252676, 93824992252576, 93824992252676, 0, 0, 0, 0, 0}}\n",
      "        pid = <optimized out>\n",
      "        tid = <optimized out>\n",
      "        ret = <optimized out>\n",
      "#1  0x00007ffff7de2859 in __GI_abort () at abort.c:79\n",
      "        save_stage = 1\n",
      "        act = {__sigaction_handler = {sa_handler = 0x5555555592a0, sa_sigaction = 0x5555555592a0}, sa_mask = {__val = {58, 4, 0, 0, 0, 140737353565189, 0, 21474836480, 140737488346048, 0, 140737353596944, 0, 8474175643333506304, 140737353565189, 140737354117120, 140737353581960}}, sa_flags = 1431658504, sa_restorer = 0x18}\n",
      "        sigs = {__val = {32, 0 <repeats 15 times>}}\n",
      "#2  0x00007ffff7de2729 in __assert_fail_base (fmt=0x7ffff7f78588 \"%s%s%s:%u: %s%sAssertion `%s' failed.\\n%n\", assertion=0x555555556063 \"a > 4\", file=0x555555556008 \"coredump.c\", line=24, function=<optimized out>) at assert.c:92\n",
      "        str = 0x5555555592a0 \"\"\n",
      "        total = 4096\n",
      "#3  0x00007ffff7df3f36 in __GI___assert_fail (assertion=0x555555556063 \"a > 4\", file=0x555555556008 \"coredump.c\", line=24, function=0x55555555607c <__PRETTY_FUNCTION__.3375> \"f\") at assert.c:101\n",
      "No locals.\n",
      "#4  0x000055555555527f in f (a=1) at coredump.c:24\n",
      "        __PRETTY_FUNCTION__ = \"f\"\n",
      "#5  0x00005555555552ad in main (argc=1, argv=0x7fffffffde48) at coredump.c:35\n",
      "No locals.\n"
     ]
    }
   ],
   "source": [
    "!test -f ./core && gdb -ex='r' -ex=\"bt full\" -batch ./coredump.exe ./core || echo \"No core file :(\""
   ]
  },
  {
   "cell_type": "markdown",
   "metadata": {},
   "source": [
    "# <a name=\"alarm\"></a> alarm - таймер с использованием сигналов\n",
    "\n",
    "Системный вызов `alarm` запускает таймер, по истечении которого процесс сам себе отправит сигнал `SIGALRM`.\n",
    "\n",
    "```\n",
    "unsigned int alarm(unsigned int seconds);\n",
    "```"
   ]
  },
  {
   "cell_type": "code",
   "execution_count": 40,
   "metadata": {},
   "outputs": [
    {
     "data": {
      "text/markdown": [
       "Run: `gcc -g alarm.c -o alarm.exe`"
      ],
      "text/plain": [
       "<IPython.core.display.Markdown object>"
      ]
     },
     "metadata": {},
     "output_type": "display_data"
    },
    {
     "data": {
      "text/markdown": [
       "Run: `timeout -s SIGKILL 5 ./alarm.exe ; echo $? # выводим так же код возврата`"
      ],
      "text/plain": [
       "<IPython.core.display.Markdown object>"
      ]
     },
     "metadata": {},
     "output_type": "display_data"
    },
    {
     "name": "stdout",
     "output_type": "stream",
     "text": [
      "Alarm clock\r\n",
      "142\r\n"
     ]
    }
   ],
   "source": [
    "%%cpp alarm.c\n",
    "%run gcc -g alarm.c -o alarm.exe\n",
    "%run timeout -s SIGKILL 5 ./alarm.exe ; echo $? # выводим так же код возврата\n",
    "\n",
    "#include <unistd.h>\n",
    "#include <stdio.h>\n",
    "\n",
    "int main() {\n",
    "    alarm(3);\n",
    "    pause();\n",
    "    printf(\"Is this command unreachable?\"); // достижима ли эта команда?\n",
    "    return 0;\n",
    "}"
   ]
  },
  {
   "cell_type": "markdown",
   "metadata": {},
   "source": [
    "# <a name=\"signal\"></a> signal\n",
    "В прошлом примере мы заметили, что использование сигналов без их обработки имеет ограниченную ценность. \n",
    "\n",
    "Поэтому рассмотрим способ для начала блокировать сигналы."
   ]
  },
  {
   "cell_type": "code",
   "execution_count": 41,
   "metadata": {},
   "outputs": [
    {
     "data": {
      "text/markdown": [
       "Run: `gcc -g alarm_block.c -o alarm_block.exe`"
      ],
      "text/plain": [
       "<IPython.core.display.Markdown object>"
      ]
     },
     "metadata": {},
     "output_type": "display_data"
    },
    {
     "data": {
      "text/markdown": [
       "Run: `timeout -s SIGKILL 5 ./alarm_block.exe ; echo $? # выводим так же код возврата`"
      ],
      "text/plain": [
       "<IPython.core.display.Markdown object>"
      ]
     },
     "metadata": {},
     "output_type": "display_data"
    },
    {
     "name": "stdout",
     "output_type": "stream",
     "text": [
      "Killed\r\n",
      "137\r\n"
     ]
    }
   ],
   "source": [
    "%%cpp alarm_block.c\n",
    "%run gcc -g alarm_block.c -o alarm_block.exe\n",
    "%run timeout -s SIGKILL 5 ./alarm_block.exe ; echo $? # выводим так же код возврата\n",
    "\n",
    "#include <unistd.h>\n",
    "#include <stdio.h>\n",
    "#include <signal.h>\n",
    "\n",
    "int main() {\n",
    "    signal(SIGALRM, SIG_IGN);\n",
    "    alarm(3);\n",
    "    pause();\n",
    "    printf(\"Is this command unreachable?\"); // достижима ли эта команда?\n",
    "    return 0;\n",
    "}"
   ]
  },
  {
   "cell_type": "markdown",
   "metadata": {},
   "source": [
    "Упс, но теперь сигнал вообще до нас не доходит.\n",
    "\n",
    "Это бывает довольно полезно, например, если мы хотим сделать программу устойчивой к прерываниям через Ctrl-C. Но в остальных случаях это не помогает.\n",
    "\n",
    "Значит нужно явно задавать обработчики сигналов (пусть даже пустые). Это можно делать через вызов signal, передавая функцию-обработчик, но так лучше не делать, так как там нестандартизированное поведение и лучше использовать более новый вызов sigaction. Впрочем, особенности вызова signal стоит знать, если вы вдруг на него наткнетесь.\n",
    "\n",
    "# <a name=\"sigaction\"></a> sigaction\n",
    "\n",
    "Позволяет установить функцию-обработчик на сигнал. Функция-обработчик должна быть async-signal safe. То есть ее вызов должен быть безопасен в любой момент выполнения основного кода программы. Это условие сильнее чем thread-safe."
   ]
  },
  {
   "cell_type": "code",
   "execution_count": 42,
   "metadata": {},
   "outputs": [
    {
     "data": {
      "text/markdown": [
       "Run: `gcc -g alarm_handle.c -o alarm_handle.exe`"
      ],
      "text/plain": [
       "<IPython.core.display.Markdown object>"
      ]
     },
     "metadata": {},
     "output_type": "display_data"
    },
    {
     "data": {
      "text/markdown": [
       "Run: `./alarm_handle.exe ; echo $? # выводим так же код возврата`"
      ],
      "text/plain": [
       "<IPython.core.display.Markdown object>"
      ]
     },
     "metadata": {},
     "output_type": "display_data"
    },
    {
     "name": "stdout",
     "output_type": "stream",
     "text": [
      "Get signal 14, do nothing\r\n",
      "Is this command unreachable?\r\n",
      "0\r\n"
     ]
    }
   ],
   "source": [
    "%%cpp alarm_handle.c\n",
    "%run gcc -g alarm_handle.c -o alarm_handle.exe\n",
    "%run ./alarm_handle.exe ; echo $? # выводим так же код возврата\n",
    "\n",
    "#include <unistd.h>\n",
    "#include <stdio.h>\n",
    "#include <signal.h>\n",
    "#include <sys/types.h>\n",
    "\n",
    "static void handler(int signum) {\n",
    "    static char buffer[100];\n",
    "    int size = snprintf(buffer, sizeof(buffer), \"Get signal %d, do nothing\\n\", signum);\n",
    "    write(2, buffer, size); // можно использовать системные вызовы, они async-signal safe\n",
    "    // fprintf(stderr, \"Get signal %d, do nothing\\n\", signum); // А вот это уже использовать нелья\n",
    "    // exit(0); // нельзя\n",
    "    // _exit(0); // можно\n",
    "}\n",
    "\n",
    "int main() {\n",
    "    sigaction(SIGALRM,\n",
    "              // лаконичный способ использования структуры, но не совместим с С++\n",
    "              &(struct sigaction){\n",
    "                  .sa_handler = handler, // можно писать SIG_IGN или SIG_DFL\n",
    "                  .sa_flags = SA_RESTART // используйте всегда. Знаю, что waitpid очень плохо себя ведет, когда прерывается сигналом\n",
    "              },\n",
    "              NULL);\n",
    "    alarm(1);\n",
    "    pause();\n",
    "    printf(\"Is this command unreachable?\\n\"); // достижима ли эта команда?\n",
    "    return 0;\n",
    "}"
   ]
  },
  {
   "cell_type": "markdown",
   "metadata": {},
   "source": [
    "# Делаем программу-терминатора\n",
    "\n",
    "По умолчанию все сигналы обрабатываются немедленно, но это может вызвать гонку данных и поэтому неудобно. К счастью, есть способ приостановить обработку сигналов до поры до времени (заблокировать сигнал), а потом, когда захочется, выполнить обработчики.\n",
    "\n",
    "# <a name=\"sigmask\"></a> sigprocmask, sigsuspend\n",
    "sigprocmask позволяет выбрать сигналы, которые будут заблокированы. sigsuspend позволяет подождать, пока придут определенные сигналы (он как бы разблокирует сигналы, подождет пока что-то придет, потом снова заблокирует).\n",
    "\n",
    "Если сигнал придет в то время когда он заблокирован. А потом сигнал разблокируется и снова заблокируется с помощью sigprocmask, то гарантируется, что он будет обработан в разблокированный промежуток. (Если таких сигналов несколько, то гарантия только для одного). [Источник.](https://www.gnu.org/software/libc/manual/html_node/Process-Signal-Mask.html)\n",
    "\n",
    "В следующем примере нужно вручную из терминала посылать сигналы в запущенный процесс (`kill -SIGINT <pid>`)"
   ]
  },
  {
   "cell_type": "code",
   "execution_count": 43,
   "metadata": {},
   "outputs": [
    {
     "data": {
      "text/markdown": [
       "Run: `gcc -g terminator.c -o terminator.exe`"
      ],
      "text/plain": [
       "<IPython.core.display.Markdown object>"
      ]
     },
     "metadata": {},
     "output_type": "display_data"
    },
    {
     "data": {
      "text/markdown": [
       "Run: `timeout -s SIGKILL 3 ./terminator.exe`"
      ],
      "text/plain": [
       "<IPython.core.display.Markdown object>"
      ]
     },
     "metadata": {},
     "output_type": "display_data"
    },
    {
     "name": "stdout",
     "output_type": "stream",
     "text": [
      "pid = 27032\n",
      "Get signal 2, inside_sigsuspend = 1 ( == 1 ?), do nothing\n",
      "Get signal 17, inside_sigsuspend = 1 ( == 1 ?), do nothing\n",
      "Killed\n"
     ]
    }
   ],
   "source": [
    "%%cpp terminator.c\n",
    "%run gcc -g terminator.c -o terminator.exe\n",
    "%run timeout -s SIGKILL 3 ./terminator.exe \n",
    "\n",
    "#include <unistd.h>\n",
    "#include <stdio.h>\n",
    "#include <signal.h>\n",
    "#include <sys/types.h>\n",
    "\n",
    "int inside_sigsuspend = 0;\n",
    "\n",
    "static void handler(int signum) {\n",
    "    // Сейчас у нас есть некоторая гарантия, что обработчик будет вызван только внутри sigprocmask \n",
    "    // (ну или раньше изначального sigprocmask)\n",
    "    // поэтому в случае однопоточного приложения можно использовать асинхронно-небезопасные функции\n",
    "    fprintf(stderr, \"Get signal %d, inside_sigsuspend = %d ( == 1 ?), do nothing\\n\", \n",
    "            signum, inside_sigsuspend);  \n",
    "}\n",
    "\n",
    "int main() {\n",
    "    sigset_t mask;\n",
    "    sigfillset(&mask);\n",
    "    sigprocmask(SIG_BLOCK, &mask, NULL); // try comment out\n",
    "    \n",
    "    for (int signal = 0; signal < 100; ++signal) {\n",
    "        sigaction(signal,\n",
    "                  &(struct sigaction) {\n",
    "                      .sa_handler=handler, \n",
    "                      .sa_flags=SA_RESTART, \n",
    "                      // этот параметр говорит, что во время вызова обработчика сигнала\n",
    "                      // будут заблокированы сигналы указанные в маске (то есть все)\n",
    "                      .sa_mask=mask \n",
    "                  },\n",
    "                  NULL);\n",
    "    }\n",
    "    \n",
    "    sigemptyset(&mask);\n",
    "    printf(\"pid = %d\\n\", getpid());\n",
    "    \n",
    "    int res = 0;\n",
    "    \n",
    "    raise(SIGINT);\n",
    "    raise(SIGCHLD);\n",
    "    raise(SIGCHLD);\n",
    "    \n",
    "    while (1) {\n",
    "        inside_sigsuspend = 1;\n",
    "        sigsuspend(&mask); // try comment out\n",
    "        inside_sigsuspend = 0;\n",
    "        for (int i = 0; i < 10000000; ++i) {\n",
    "            res ^= i;\n",
    "        }\n",
    "    }\n",
    "    return res;\n",
    "}"
   ]
  },
  {
   "cell_type": "markdown",
   "metadata": {},
   "source": [
    "# Ping-pong"
   ]
  },
  {
   "cell_type": "code",
   "execution_count": 44,
   "metadata": {},
   "outputs": [
    {
     "data": {
      "text/markdown": [
       "Run: `gcc -g pipo.c -o pipo.exe`"
      ],
      "text/plain": [
       "<IPython.core.display.Markdown object>"
      ]
     },
     "metadata": {},
     "output_type": "display_data"
    },
    {
     "data": {
      "text/markdown": [
       "Run: `./pipo.exe`"
      ],
      "text/plain": [
       "<IPython.core.display.Markdown object>"
      ]
     },
     "metadata": {},
     "output_type": "display_data"
    },
    {
     "name": "stdout",
     "output_type": "stream",
     "text": [
      "Parent process: Ping\r\n",
      "Child process: Pong\r\n",
      "Parent process: Ping\r\n",
      "Child process: Pong\r\n",
      "Parent process: Ping\r\n",
      "Child process: Pong\r\n",
      "Parent process: Request child finish\r\n",
      "Child process finish\r\n"
     ]
    }
   ],
   "source": [
    "%%cpp pipo.c\n",
    "%run gcc -g pipo.c -o pipo.exe\n",
    "%run ./pipo.exe \n",
    "\n",
    "#include <unistd.h>\n",
    "#include <stdio.h>\n",
    "#include <signal.h>\n",
    "#include <assert.h>\n",
    "#include <sys/types.h>\n",
    "#include <sys/wait.h>\n",
    "\n",
    "// если здесь не поставить volatile, то компилятор может \n",
    "// соптимизировать `if (last_signal)` до `if (0)`. \n",
    "// Так как, если компилятору не указывать явно, он будет оптимизировать \n",
    "// код как однопоточный (+ без учета возможности прерываний хендлерами сигналов).\n",
    "volatile sig_atomic_t last_signal = 0;\n",
    "\n",
    "static void handler(int signum) {\n",
    "    last_signal = signum;  // что плохо с таким обработчиком?\n",
    "}\n",
    "\n",
    "int main() {\n",
    "    sigset_t mask;\n",
    "    sigfillset(&mask);\n",
    "    sigprocmask(SIG_BLOCK, &mask, NULL);\n",
    "    \n",
    "    int signals[] = {SIGUSR1, SIGINT, 0};\n",
    "    for (int* signal = signals; *signal; ++signal) {\n",
    "        sigaction(*signal, &(struct sigaction){.sa_handler=handler, .sa_flags=SA_RESTART, .sa_mask=mask}, NULL);\n",
    "    }\n",
    "    \n",
    "    sigemptyset(&mask);\n",
    "    \n",
    "    int parent_pid = getpid();\n",
    "    \n",
    "    int child_pid = fork();\n",
    "    assert(child_pid >= 0);\n",
    "    if (child_pid == 0) {\n",
    "        while (1) {\n",
    "            sigsuspend(&mask);\n",
    "            if (last_signal) {\n",
    "                if (last_signal == SIGUSR1) {\n",
    "                    printf(\"Child process: Pong\\n\"); fflush(stdout);\n",
    "                    kill(parent_pid, SIGUSR1);\n",
    "                } else {\n",
    "                    printf(\"Child process finish\\n\"); fflush(stdout);\n",
    "                    return 0;\n",
    "                }\n",
    "                last_signal = 0;\n",
    "            }\n",
    "        }\n",
    "    } else {\n",
    "        for (int i = 0; i < 3; ++i) {\n",
    "            printf(\"Parent process: Ping\\n\"); fflush(stdout);\n",
    "            kill(child_pid, SIGUSR1);\n",
    "            while (1) {\n",
    "                sigsuspend(&mask);\n",
    "                if (last_signal) { last_signal = 0; break; }\n",
    "            }\n",
    "        }\n",
    "        printf(\"Parent process: Request child finish\\n\"); fflush(stdout);\n",
    "        kill(child_pid, SIGINT); \n",
    "        int status;\n",
    "        waitpid(child_pid, &status, 0);\n",
    "    }\n",
    "    return 0;\n",
    "}"
   ]
  },
  {
   "cell_type": "code",
   "execution_count": null,
   "metadata": {},
   "outputs": [],
   "source": []
  },
  {
   "cell_type": "markdown",
   "metadata": {},
   "source": [
    "# <a name=\"sigrt\"></a> Сигналы реального времени. \n",
    "Они передаются через очередь, а не через маску, как обычные."
   ]
  },
  {
   "cell_type": "code",
   "execution_count": 45,
   "metadata": {},
   "outputs": [
    {
     "data": {
      "text/markdown": [
       "Run: `gcc -g sigqueue.c -o sigqueue.exe`"
      ],
      "text/plain": [
       "<IPython.core.display.Markdown object>"
      ]
     },
     "metadata": {},
     "output_type": "display_data"
    },
    {
     "data": {
      "text/markdown": [
       "Run: `./sigqueue.exe`"
      ],
      "text/plain": [
       "<IPython.core.display.Markdown object>"
      ]
     },
     "metadata": {},
     "output_type": "display_data"
    },
    {
     "name": "stdout",
     "output_type": "stream",
     "text": [
      "Child process: got SIGUSR1\n",
      "Child process: got SIGRTMIN\n",
      "Child process: got SIGRTMIN\n",
      "Child process: got SIGRTMIN\n",
      "Child process: got SIGRTMIN\n",
      "Child process: got SIGRTMIN\n",
      "Child process: got SIGRTMIN\n",
      "Child process: got SIGRTMIN\n",
      "Child process: got SIGRTMIN\n",
      "Child process: got SIGRTMIN\n",
      "Child process: got SIGRTMIN\n",
      "Parent process: Request child finish with SIGINT\n",
      "Child process: got SIGINT, finish\n"
     ]
    }
   ],
   "source": [
    "%%cpp sigqueue.c\n",
    "%run gcc -g sigqueue.c -o sigqueue.exe\n",
    "%run ./sigqueue.exe \n",
    "\n",
    "#include <unistd.h>\n",
    "#include <stdio.h>\n",
    "#include <stdlib.h>\n",
    "#include <signal.h>\n",
    "#include <assert.h>\n",
    "#include <sys/types.h>\n",
    "#include <sys/wait.h>\n",
    "\n",
    "volatile sig_atomic_t last_signal = 0;\n",
    "\n",
    "static void handler(int signum) {\n",
    "    if (signum == SIGUSR1) {\n",
    "        printf(\"Child process: got SIGUSR1\\n\"); fflush(stdout);\n",
    "    } else if (signum == SIGINT) {\n",
    "        printf(\"Child process: got SIGINT, finish\\n\"); fflush(stdout);\n",
    "        exit(0);\n",
    "    } else {\n",
    "        printf(\"Child process: got SIGRTMIN\\n\"); fflush(stdout);\n",
    "    }\n",
    "}\n",
    "\n",
    "int main() {\n",
    "    assert(SIGRTMIN < SIGRTMAX);\n",
    "    sigset_t mask;\n",
    "    sigfillset(&mask);\n",
    "    sigprocmask(SIG_BLOCK, &mask, NULL);\n",
    "    \n",
    "    int signals[] = {SIGUSR1, SIGINT, SIGRTMIN, 0};\n",
    "    for (int* signal = signals; *signal; ++signal) {\n",
    "        sigaction(*signal, &(struct sigaction){.sa_handler=handler, .sa_flags=SA_RESTART, .sa_mask=mask}, NULL);\n",
    "    }\n",
    "    \n",
    "    sigemptyset(&mask);\n",
    "    \n",
    "    int parent_pid = getpid();\n",
    "    int child_pid = fork();\n",
    "    assert(child_pid >= 0);\n",
    "    if (child_pid == 0) {\n",
    "        while (1) { sigsuspend(&mask); }\n",
    "    } else {\n",
    "        for (int i = 0; i < 10; ++i) \n",
    "            assert(kill(child_pid, SIGUSR1) == 0);\n",
    "        for (int i = 0; i < 10; ++i)\n",
    "            assert(sigqueue(child_pid, SIGRTMIN, (union sigval){0}) == 0);\n",
    "        sleep(1);\n",
    "        printf(\"Parent process: Request child finish with SIGINT\\n\"); fflush(stdout);\n",
    "        kill(child_pid, SIGINT); \n",
    "        int status;\n",
    "        waitpid(child_pid, &status, 0);\n",
    "    }\n",
    "    return 0;\n",
    "}"
   ]
  },
  {
   "cell_type": "markdown",
   "metadata": {},
   "source": [
    "# Ping-pong c sigqueue и доп. информацией"
   ]
  },
  {
   "cell_type": "code",
   "execution_count": 46,
   "metadata": {},
   "outputs": [
    {
     "data": {
      "text/markdown": [
       "Run: `gcc -g pipoqu.c -o pipoqu.exe`"
      ],
      "text/plain": [
       "<IPython.core.display.Markdown object>"
      ]
     },
     "metadata": {},
     "output_type": "display_data"
    },
    {
     "data": {
      "text/markdown": [
       "Run: `./pipoqu.exe`"
      ],
      "text/plain": [
       "<IPython.core.display.Markdown object>"
      ]
     },
     "metadata": {},
     "output_type": "display_data"
    },
    {
     "name": "stdout",
     "output_type": "stream",
     "text": [
      "Parent process: Ping (got 10, send 11)\r\n",
      "Child process: Pong (get 11, send 22)\r\n",
      "Parent process: Ping (got 22, send 23)\r\n",
      "Child process: Pong (get 23, send 46)\r\n",
      "Parent process: Ping (got 46, send 47)\r\n",
      "Child process: Pong (get 47, send 94)\r\n",
      "Parent process: Request child finish\r\n",
      "Child process finish\r\n"
     ]
    }
   ],
   "source": [
    "%%cpp pipoqu.c\n",
    "%run gcc -g pipoqu.c -o pipoqu.exe\n",
    "%run ./pipoqu.exe \n",
    "\n",
    "#include <unistd.h>\n",
    "#include <stdio.h>\n",
    "#include <signal.h>\n",
    "#include <assert.h>\n",
    "#include <sys/types.h>\n",
    "#include <sys/wait.h>\n",
    "\n",
    "volatile sig_atomic_t last_signal = 0;\n",
    "volatile sig_atomic_t last_signal_value = 0;\n",
    "\n",
    "// через info принимаем дополнительный int\n",
    "static void handler(int signum, siginfo_t* info, void* ucontext) {\n",
    "    last_signal = signum;\n",
    "    last_signal_value = info->si_value.sival_int; // сохраняем переданное число\n",
    "}\n",
    "\n",
    "int main() {\n",
    "    sigset_t mask;\n",
    "    sigfillset(&mask);\n",
    "    sigprocmask(SIG_BLOCK, &mask, NULL);\n",
    "    \n",
    "    int signals[] = {SIGUSR1, SIGINT, 0};\n",
    "    for (int* signal = signals; *signal; ++signal) {\n",
    "        // обратите внимание, что хендлер теперь принимает больше аргументов\n",
    "        // и записывается в другое поле\n",
    "        // и еще есть флаг SA_SIGINFO, говорящий, что именно такой хендлер будет использоваться\n",
    "        sigaction(*signal, &(struct sigaction){\n",
    "            .sa_sigaction = handler, .sa_flags = SA_RESTART | SA_SIGINFO, .sa_mask=mask}, NULL);\n",
    "    }\n",
    "    \n",
    "    sigemptyset(&mask);\n",
    "    \n",
    "    int parent_pid = getpid();\n",
    "    \n",
    "    int child_pid = fork();\n",
    "    assert(child_pid >= 0);\n",
    "    if (child_pid == 0) {\n",
    "        while (1) {\n",
    "            sigsuspend(&mask);\n",
    "            if (last_signal) {\n",
    "                if (last_signal == SIGUSR1) {\n",
    "                    printf(\"Child process: Pong (get %d, send %d)\\n\", last_signal_value, last_signal_value * 2); \n",
    "                    fflush(stdout);\n",
    "                    // вместе с сигналом передаем число\n",
    "                    sigqueue(parent_pid, SIGUSR1, (union sigval) {.sival_int = last_signal_value * 2});\n",
    "                } else {\n",
    "                    printf(\"Child process finish\\n\"); fflush(stdout);\n",
    "                    return 0;\n",
    "                }\n",
    "                last_signal = 0;\n",
    "            }\n",
    "        }\n",
    "    } else {\n",
    "        int child_response = 10;\n",
    "        for (int i = 0; i < 3; ++i) {\n",
    "            printf(\"Parent process: Ping (got %d, send %d)\\n\", child_response, child_response + 1); fflush(stdout);\n",
    "            sigqueue(child_pid, SIGUSR1, (union sigval) {.sival_int = child_response + 1 });\n",
    "            while (!last_signal) {\n",
    "                sigsuspend(&mask); \n",
    "            }\n",
    "            last_signal = 0;\n",
    "            child_response = last_signal_value;\n",
    "        }\n",
    "        printf(\"Parent process: Request child finish\\n\"); fflush(stdout);\n",
    "        kill(child_pid, SIGINT); \n",
    "        int status;\n",
    "        waitpid(child_pid, &status, 0);\n",
    "    }\n",
    "    return 0;\n",
    "}"
   ]
  },
  {
   "cell_type": "markdown",
   "metadata": {},
   "source": [
    "# <a name=\"sigwaitinfo\"></a> Ping-pong c sigqueue и sigwaitinfo доп. информацией\n"
   ]
  },
  {
   "cell_type": "code",
   "execution_count": 80,
   "metadata": {},
   "outputs": [
    {
     "data": {
      "text/markdown": [
       "Run: `gcc -g pipoquwa.c -o pipoquwa.exe`"
      ],
      "text/plain": [
       "<IPython.core.display.Markdown object>"
      ]
     },
     "metadata": {},
     "output_type": "display_data"
    },
    {
     "data": {
      "text/markdown": [
       "Run: `./pipoquwa.exe`"
      ],
      "text/plain": [
       "<IPython.core.display.Markdown object>"
      ]
     },
     "metadata": {},
     "output_type": "display_data"
    },
    {
     "name": "stdout",
     "output_type": "stream",
     "text": [
      "Parent process: Ping (got 100, send 101)\n",
      "Child process: Pong (get 101, send 202)\n",
      "Parent process: Ping (got 202, send 203)\n",
      "Child process: Pong (get 203, send 406)\n",
      "Parent process: Ping (got 406, send 407)\n",
      "Child process: Pong (get 407, send 814)\n",
      "Parent process: Request child finish\n",
      "Child process finish\n"
     ]
    }
   ],
   "source": [
    "%%cpp pipoquwa.c\n",
    "%run gcc -g pipoquwa.c -o pipoquwa.exe\n",
    "%run ./pipoquwa.exe \n",
    "\n",
    "#include <unistd.h>\n",
    "#include <stdio.h>\n",
    "#include <signal.h>\n",
    "#include <assert.h>\n",
    "#include <sys/types.h>\n",
    "#include <sys/wait.h>\n",
    "\n",
    "int main() {\n",
    "    sigset_t full_mask;\n",
    "    sigfillset(&full_mask);\n",
    "    sigprocmask(SIG_BLOCK, &full_mask, NULL); \n",
    "    \n",
    "    int parent_pid = getpid();\n",
    "    \n",
    "    int child_pid = fork();\n",
    "    assert(child_pid >= 0);\n",
    "    if (child_pid == 0) {\n",
    "        while (1) {\n",
    "            siginfo_t info;\n",
    "            sigwaitinfo(&full_mask, &info); // вместо sigsuspend и обработчика\n",
    "            int received_signal = info.si_signo;\n",
    "            int received_value = info.si_value.sival_int;\n",
    "            if (received_signal == SIGUSR1) {\n",
    "                printf(\"Child process: Pong (get %d, send %d)\\n\", received_value, received_value * 2); \n",
    "                fflush(stdout);\n",
    "                // вместе с сигналом передаем число\n",
    "                sigqueue(parent_pid, SIGRTMAX, (union sigval) {.sival_int = received_value * 2});\n",
    "            } else {\n",
    "                printf(\"Child process finish\\n\"); fflush(stdout);\n",
    "                return 0;\n",
    "            }\n",
    "        }\n",
    "    } else {\n",
    "        int child_response = 100;\n",
    "        for (int i = 0; i < 3; ++i) {\n",
    "            printf(\"Parent process: Ping (got %d, send %d)\\n\", child_response, child_response + 1); fflush(stdout);\n",
    "            sigqueue(child_pid, SIGUSR1, (union sigval) {.sival_int = child_response + 1});\n",
    "            \n",
    "            siginfo_t info;\n",
    "            sigwaitinfo(&full_mask, &info);\n",
    "            child_response = info.si_value.sival_int;\n",
    "        }\n",
    "        printf(\"Parent process: Request child finish\\n\"); fflush(stdout);\n",
    "        kill(child_pid, SIGINT); \n",
    "        int status;\n",
    "        waitpid(child_pid, &status, 0);\n",
    "    }\n",
    "    return 0;\n",
    "}"
   ]
  },
  {
   "cell_type": "code",
   "execution_count": null,
   "metadata": {},
   "outputs": [],
   "source": []
  },
  {
   "cell_type": "markdown",
   "metadata": {},
   "source": [
    "# <a name=\"signalfd\"></a> Как ждать одновременно сигнал и другое событие?\n",
    "\n",
    "Процесс получения сигналов сводится к чтению из файлового дескриптора. А для ожидания событий по нескольким файловым дескрипторам есть средства мультиплексирования (`select`, `poll`, `epoll`).\n",
    "\n",
    "Для сведЕния есть два варианта: `signalfd` (только linux) и писать в обработчике в пайп."
   ]
  },
  {
   "cell_type": "code",
   "execution_count": 48,
   "metadata": {
    "scrolled": false
   },
   "outputs": [
    {
     "data": {
      "text/markdown": [
       "Run: `gcc -g signalfd.c -o signalfd.exe`"
      ],
      "text/plain": [
       "<IPython.core.display.Markdown object>"
      ]
     },
     "metadata": {},
     "output_type": "display_data"
    },
    {
     "data": {
      "text/markdown": [
       "Run: `timeout -s SIGINT 1 timeout -s SIGTERM 2  ./signalfd.exe`"
      ],
      "text/plain": [
       "<IPython.core.display.Markdown object>"
      ]
     },
     "metadata": {},
     "output_type": "display_data"
    },
    {
     "name": "stdout",
     "output_type": "stream",
     "text": [
      "Got signal 2\n",
      "Got signal 15\n",
      " ... and it is SIGTERM\n"
     ]
    }
   ],
   "source": [
    "%%cpp signalfd.c\n",
    "%run gcc -g signalfd.c -o signalfd.exe\n",
    "%run timeout -s SIGINT 1 timeout -s SIGTERM 2  ./signalfd.exe \n",
    "\n",
    "#include <unistd.h>\n",
    "#include <stdio.h>\n",
    "#include <signal.h>\n",
    "#include <assert.h>\n",
    "#include <sys/types.h>\n",
    "#include <sys/wait.h>\n",
    "#include <sys/signalfd.h>\n",
    "\n",
    "int main() {\n",
    "    sigset_t mask;\n",
    "    sigfillset(&mask);\n",
    "    sigdelset(&mask, SIGCONT);\n",
    "    sigprocmask(SIG_BLOCK, &mask, NULL);\n",
    "    \n",
    "    // сводим получение сигналов к файловому дескриптору\n",
    "    int fd = signalfd(-1, &mask, 0);\n",
    "    \n",
    "    struct signalfd_siginfo fdsi;\n",
    "    while (1) {\n",
    "        read(fd, &fdsi, sizeof(struct signalfd_siginfo));\n",
    "        printf(\"Got signal %d\\n\", fdsi.ssi_signo);\n",
    "        if (fdsi.ssi_signo == SIGTERM) {\n",
    "            printf(\" ... and it is SIGTERM\\n\");\n",
    "            break;\n",
    "        }\n",
    "    }\n",
    "    close(fd);\n",
    "    return 0;\n",
    "}\n"
   ]
  },
  {
   "cell_type": "markdown",
   "metadata": {},
   "source": [
    "# <a name=\"signalfd_poor\"></a> signalfd для бедных\n",
    "\n",
    "На случай, если в вашей системе его нет"
   ]
  },
  {
   "cell_type": "code",
   "execution_count": 49,
   "metadata": {},
   "outputs": [
    {
     "data": {
      "text/markdown": [
       "Run: `gcc -g signalpipe.c -o signalpipe.exe`"
      ],
      "text/plain": [
       "<IPython.core.display.Markdown object>"
      ]
     },
     "metadata": {},
     "output_type": "display_data"
    },
    {
     "data": {
      "text/markdown": [
       "Run: `timeout -s SIGINT 1 timeout -s SIGTERM 2  ./signalpipe.exe`"
      ],
      "text/plain": [
       "<IPython.core.display.Markdown object>"
      ]
     },
     "metadata": {},
     "output_type": "display_data"
    },
    {
     "name": "stdout",
     "output_type": "stream",
     "text": [
      "Got signal 2\n",
      "Got signal 15\n",
      " ... and it is SIGTERM\n"
     ]
    }
   ],
   "source": [
    "%%cpp signalpipe.c\n",
    "%run gcc -g signalpipe.c -o signalpipe.exe\n",
    "%run timeout -s SIGINT 1 timeout -s SIGTERM 2  ./signalpipe.exe \n",
    "\n",
    "#define _GNU_SOURCE          \n",
    "#include <fcntl.h>      \n",
    "#include <unistd.h>\n",
    "#include <stdio.h>\n",
    "#include <stdlib.h>\n",
    "#include <signal.h>\n",
    "#include <assert.h>\n",
    "#include <sys/types.h>\n",
    "#include <sys/wait.h>\n",
    "#include <sys/signalfd.h>\n",
    "#include <errno.h>\n",
    "\n",
    "static int signalpipe_fds[2] = {-1, -1};\n",
    "\n",
    "static void signalpipe_handler(int signum) {\n",
    "    // Если вы зараз получите умопомрачительное число сигналов, то можете переполнить буффер пайпа\n",
    "    int written = write(signalpipe_fds[1], &signum, sizeof(int));\n",
    "    if (written < 0) {\n",
    "        if (errno != EAGAIN) {\n",
    "            dprintf(2, \"Strange error during writing to signal pipe\");\n",
    "            abort();\n",
    "        }\n",
    "        dprintf(2, \"Pipe buffer is full, drop signal\");\n",
    "    } else if (written != 4) {\n",
    "        dprintf(2, \"Incomplete writing to signal pipe\");\n",
    "        abort();\n",
    "    }\n",
    "}\n",
    "\n",
    "int signalpipe(int* signals) {\n",
    "    pipe2(signalpipe_fds, O_CLOEXEC);\n",
    "    // Делаем запись неблокирующей\n",
    "    fcntl(signalpipe_fds[1], F_SETFL, fcntl(signalpipe_fds[1], F_GETFL, 0) | O_NONBLOCK);\n",
    "    for (int* signal = signals; *signal; ++signal) {\n",
    "        sigaction(*signal, &(struct sigaction){.sa_handler = signalpipe_handler, .sa_flags = SA_RESTART}, NULL);\n",
    "    }\n",
    "    return signalpipe_fds[0];\n",
    "}\n",
    "\n",
    "int main() {\n",
    "    // Сводим получение сигналов к файловому дескриптору\n",
    "    int signals[] = {SIGINT, SIGTERM, 0};\n",
    "    int fd = signalpipe(signals);\n",
    "    \n",
    "    int signum;\n",
    "    while (1) {\n",
    "        assert(read(fd, &signum, sizeof(int)) == sizeof(int));\n",
    "        printf(\"Got signal %d\\n\", signum);\n",
    "        if (signum == SIGTERM) {\n",
    "            printf(\" ... and it is SIGTERM\\n\");\n",
    "            break;\n",
    "        }\n",
    "    }\n",
    "    \n",
    "    // Закрывать fd (и парный к нему) не будем. \n",
    "    // Это синглтон на процесс, а при завершении процесса файловые дескрипторы сами закроются\n",
    "    // При желании можно сделать, предварительно заблокировав сигналы.\n",
    "    return 0;\n",
    "}"
   ]
  },
  {
   "cell_type": "code",
   "execution_count": null,
   "metadata": {},
   "outputs": [],
   "source": []
  },
  {
   "cell_type": "code",
   "execution_count": null,
   "metadata": {},
   "outputs": [],
   "source": []
  },
  {
   "cell_type": "code",
   "execution_count": null,
   "metadata": {},
   "outputs": [],
   "source": []
  },
  {
   "cell_type": "code",
   "execution_count": null,
   "metadata": {},
   "outputs": [],
   "source": []
  },
  {
   "cell_type": "markdown",
   "metadata": {},
   "source": []
  },
  {
   "cell_type": "markdown",
   "metadata": {},
   "source": [
    "# <a name=\"mask_more\"></a> Немножко больше про маски"
   ]
  },
  {
   "cell_type": "code",
   "execution_count": 50,
   "metadata": {},
   "outputs": [],
   "source": [
    "# https://man7.org/linux/man-pages/man7/signal.7.html\n",
    "signals = '''\n",
    "SIGHUP           1           1       1       1\n",
    "SIGINT           2           2       2       2\n",
    "SIGQUIT          3           3       3       3\n",
    "SIGILL           4           4       4       4\n",
    "SIGTRAP          5           5       5       5\n",
    "SIGABRT          6           6       6       6\n",
    "SIGBUS           7          10      10      10\n",
    "SIGFPE           8           8       8       8\n",
    "SIGKILL          9           9       9       9\n",
    "SIGUSR1         10          30      16      16\n",
    "SIGSEGV         11          11      11      11\n",
    "SIGUSR2         12          31      17      17\n",
    "SIGPIPE         13          13      13      13\n",
    "SIGALRM         14          14      14      14\n",
    "SIGTERM         15          15      15      15\n",
    "SIGSTKFLT       16          -       -        7\n",
    "SIGCHLD         17          20      18      18\n",
    "SIGCONT         18          19      25      26\n",
    "SIGSTOP         19          17      23      24\n",
    "SIGTSTP         20          18      24      25\n",
    "SIGTTIN         21          21      26      27\n",
    "SIGTTOU         22          22      27      28\n",
    "SIGURG          23          16      21      29\n",
    "SIGXCPU         24          24      30      12\n",
    "SIGXFSZ         25          25      31      30\n",
    "SIGVTALRM       26          26      28      20\n",
    "SIGPROF         27          27      29      21\n",
    "SIGWINCH        28          28      20      23\n",
    "SIGIO           29          23      22      22\n",
    "SIGPWR          30         29/-     19      19\n",
    "SIGSYS          31          12      12      31\n",
    "'''\n",
    "\n",
    "signals_map = {}\n",
    "for line in signals.split('\\n'):\n",
    "    parts = list(filter(bool, line.split()))\n",
    "    if parts:\n",
    "        signals_map[int(parts[1])] = parts[0]\n",
    "\n",
    "def describe_mask(mask):\n",
    "    desc = []\n",
    "    m = int(mask, 16)\n",
    "    for signal, name in signals_map.items():\n",
    "        if m & (1 << signal - 1):\n",
    "            desc.append(name)\n",
    "    return desc"
   ]
  },
  {
   "cell_type": "code",
   "execution_count": 51,
   "metadata": {},
   "outputs": [
    {
     "data": {
      "text/markdown": [
       "Run: `gcc -g handle_usr1.c -o handle_usr1.exe`"
      ],
      "text/plain": [
       "<IPython.core.display.Markdown object>"
      ]
     },
     "metadata": {},
     "output_type": "display_data"
    }
   ],
   "source": [
    "%%cpp handle_usr1.c\n",
    "%run gcc -g handle_usr1.c -o handle_usr1.exe\n",
    "\n",
    "#include <unistd.h>\n",
    "#include <stdio.h>\n",
    "#include <signal.h>\n",
    "#include <sys/types.h>\n",
    "\n",
    "static void handler(int sig) {}\n",
    "\n",
    "int main() {\n",
    "    // handle SIGUSR1\n",
    "    sigaction(SIGUSR1,\n",
    "              &(struct sigaction){\n",
    "                  .sa_handler = handler, \n",
    "                  .sa_flags = SA_RESTART\n",
    "              },\n",
    "              NULL);\n",
    "    // ignore SIGUSR2\n",
    "    sigaction(SIGUSR2,\n",
    "              &(struct sigaction){\n",
    "                  .sa_handler = SIG_IGN, \n",
    "                  .sa_flags = SA_RESTART\n",
    "              },\n",
    "              NULL);\n",
    "    // block SIGINT\n",
    "    sigset_t mask;\n",
    "    sigaddset(&mask, SIGINT);\n",
    "    sigprocmask(SIG_BLOCK, &mask, NULL);\n",
    "    \n",
    "    pause();\n",
    "    printf(\"Finish\\n\");\n",
    "    return 0;\n",
    "}"
   ]
  },
  {
   "cell_type": "code",
   "execution_count": 52,
   "metadata": {},
   "outputs": [
    {
     "data": {
      "text/html": [
       "\n",
       "        <!--MD_BEGIN_FILTER-->\n",
       "        <script type=text/javascript>\n",
       "        var entrance___interactive_launcher_tmp_579243924070969653_log_obj = 0;\n",
       "        var errors___interactive_launcher_tmp_579243924070969653_log_obj = 0;\n",
       "        function halt__interactive_launcher_tmp_579243924070969653_log_obj(elem, color)\n",
       "        {\n",
       "            elem.setAttribute(\"style\", \"font-size: 14px; background: \" + color + \"; padding: 10px; border: 3px; border-radius: 5px; color: white; \");                    \n",
       "        }\n",
       "        function refresh__interactive_launcher_tmp_579243924070969653_log_obj()\n",
       "        {\n",
       "            entrance___interactive_launcher_tmp_579243924070969653_log_obj -= 1;\n",
       "            if (entrance___interactive_launcher_tmp_579243924070969653_log_obj < 0) {\n",
       "                entrance___interactive_launcher_tmp_579243924070969653_log_obj = 0;\n",
       "            }\n",
       "            var elem = document.getElementById(\"__interactive_launcher_tmp_579243924070969653_log_obj\");\n",
       "            if (elem) {\n",
       "                var xmlhttp=new XMLHttpRequest();\n",
       "                xmlhttp.onreadystatechange=function()\n",
       "                {\n",
       "                    var elem = document.getElementById(\"__interactive_launcher_tmp_579243924070969653_log_obj\");\n",
       "                    console.log(!!elem, xmlhttp.readyState, xmlhttp.status, entrance___interactive_launcher_tmp_579243924070969653_log_obj);\n",
       "                    if (elem && xmlhttp.readyState==4) {\n",
       "                        if (xmlhttp.status==200)\n",
       "                        {\n",
       "                            errors___interactive_launcher_tmp_579243924070969653_log_obj = 0;\n",
       "                            if (!entrance___interactive_launcher_tmp_579243924070969653_log_obj) {\n",
       "                                if (elem.innerHTML != xmlhttp.responseText) {\n",
       "                                    elem.innerHTML = xmlhttp.responseText;\n",
       "                                }\n",
       "                                if (elem.innerHTML.includes(\"Process finished.\")) {\n",
       "                                    halt__interactive_launcher_tmp_579243924070969653_log_obj(elem, \"#333333\");\n",
       "                                } else {\n",
       "                                    entrance___interactive_launcher_tmp_579243924070969653_log_obj += 1;\n",
       "                                    console.log(\"req\");\n",
       "                                    window.setTimeout(\"refresh__interactive_launcher_tmp_579243924070969653_log_obj()\", 300); \n",
       "                                }\n",
       "                            }\n",
       "                            return xmlhttp.responseText;\n",
       "                        } else {\n",
       "                            errors___interactive_launcher_tmp_579243924070969653_log_obj += 1;\n",
       "                            if (!entrance___interactive_launcher_tmp_579243924070969653_log_obj) {\n",
       "                                if (errors___interactive_launcher_tmp_579243924070969653_log_obj < 6) {\n",
       "                                    entrance___interactive_launcher_tmp_579243924070969653_log_obj += 1;\n",
       "                                    console.log(\"req\");\n",
       "                                    window.setTimeout(\"refresh__interactive_launcher_tmp_579243924070969653_log_obj()\", 300); \n",
       "                                } else {\n",
       "                                    halt__interactive_launcher_tmp_579243924070969653_log_obj(elem, \"#994444\");\n",
       "                                }\n",
       "                            }\n",
       "                        }\n",
       "                    }\n",
       "                }\n",
       "                xmlhttp.open(\"GET\", \"./interactive_launcher_tmp/579243924070969653.log\", true);\n",
       "                xmlhttp.setRequestHeader(\"Cache-Control\", \"no-cache\");\n",
       "                xmlhttp.send();     \n",
       "            }\n",
       "        }\n",
       "        \n",
       "        if (!entrance___interactive_launcher_tmp_579243924070969653_log_obj) {\n",
       "            entrance___interactive_launcher_tmp_579243924070969653_log_obj += 1;\n",
       "            refresh__interactive_launcher_tmp_579243924070969653_log_obj(); \n",
       "        }\n",
       "        </script>\n",
       "\n",
       "        <p id=\"__interactive_launcher_tmp_579243924070969653_log_obj\" style=\"font-size: 14px; background: #000000; padding: 10px; border: 3px; border-radius: 5px; color: white; \">\n",
       "        </p>\n",
       "        \n",
       "        </font>\n",
       "        <!--MD_END_FILTER-->\n",
       "        <!--MD_FROM_FILE ./interactive_launcher_tmp/579243924070969653.log.md -->\n",
       "        "
      ],
      "text/plain": [
       "<IPython.core.display.HTML object>"
      ]
     },
     "metadata": {},
     "output_type": "display_data"
    }
   ],
   "source": [
    "a = TInteractiveLauncher(\"./handle_usr1.exe\")"
   ]
  },
  {
   "cell_type": "code",
   "execution_count": 53,
   "metadata": {},
   "outputs": [],
   "source": [
    "os.kill(a.get_pid(), signal.SIGSTOP)\n",
    "os.kill(a.get_pid(), signal.SIGUSR1)\n",
    "os.kill(a.get_pid(), signal.SIGINT)"
   ]
  },
  {
   "cell_type": "code",
   "execution_count": 54,
   "metadata": {},
   "outputs": [
    {
     "name": "stdout",
     "output_type": "stream",
     "text": [
      "Name:\thandle_usr1.exe\n",
      "Umask:\t0002\n",
      "State:\tT (stopped)\n",
      "Tgid:\t27097\n",
      "Ngid:\t0\n",
      "Pid:\t27097\n",
      "PPid:\t27096\n",
      "TracerPid:\t0\n",
      "Uid:\t1000\t1000\t1000\t1000\n",
      "Gid:\t1000\t1000\t1000\t1000\n",
      "FDSize:\t64\n",
      "Groups:\t4 24 27 30 46 120 131 132 1000 \n",
      "NStgid:\t27097\n",
      "NSpid:\t27097\n",
      "NSpgid:\t15197\n",
      "NSsid:\t15197\n",
      "VmPeak:\t    2460 kB\n",
      "VmSize:\t    2356 kB\n",
      "VmLck:\t       0 kB\n",
      "VmPin:\t       0 kB\n",
      "VmHWM:\t     520 kB\n",
      "VmRSS:\t     520 kB\n",
      "RssAnon:\t      68 kB\n",
      "RssFile:\t     452 kB\n",
      "RssShmem:\t       0 kB\n",
      "VmData:\t      48 kB\n",
      "VmStk:\t     132 kB\n",
      "VmExe:\t       8 kB\n",
      "VmLib:\t    1644 kB\n",
      "VmPTE:\t      40 kB\n",
      "VmSwap:\t       0 kB\n",
      "HugetlbPages:\t       0 kB\n",
      "CoreDumping:\t0\n",
      "THP_enabled:\t1\n",
      "Threads:\t1\n",
      "SigQ:\t9/7728\n",
      "SigPnd:\t0000000000000000\n",
      "ShdPnd:\t0000000000000202\n",
      "SigBlk:\t0000000000000002\n",
      "SigIgn:\t0000000000000800\n",
      "SigCgt:\t0000000000000200\n",
      "CapInh:\t0000000000000000\n",
      "CapPrm:\t0000000000000000\n",
      "CapEff:\t0000000000000000\n",
      "CapBnd:\t0000003fffffffff\n",
      "CapAmb:\t0000000000000000\n",
      "NoNewPrivs:\t0\n",
      "Seccomp:\t0\n",
      "Speculation_Store_Bypass:\tvulnerable\n",
      "Cpus_allowed:\tf\n",
      "Cpus_allowed_list:\t0-3\n",
      "Mems_allowed:\t00000000,00000000,00000000,00000000,00000000,00000000,00000000,00000000,00000000,00000000,00000000,00000000,00000000,00000000,00000000,00000000,00000000,00000000,00000000,00000000,00000000,00000000,00000000,00000000,00000000,00000000,00000000,00000000,00000000,00000000,00000000,00000001\n",
      "Mems_allowed_list:\t0\n",
      "voluntary_ctxt_switches:\t2\n",
      "nonvoluntary_ctxt_switches:\t0\n",
      "\n",
      "===================================================\n",
      "SigPnd: []\n",
      "ShdPnd: ['SIGINT', 'SIGUSR1']\n",
      "SigBlk: ['SIGINT']\n",
      "SigIgn: ['SIGUSR2']\n",
      "SigCgt: ['SIGUSR1']\n"
     ]
    }
   ],
   "source": [
    "with open(\"/proc/%d/status\" % a.get_pid(), \"r\") as f:\n",
    "    status = f.read()\n",
    "print(status)\n",
    "print(\"===================================================\")\n",
    "for line in status.split('\\n'):\n",
    "    if (line.startswith(\"Sig\") or line.startswith(\"Shd\")) and len(line) > 20:\n",
    "        parts = line.split()\n",
    "        print(parts[0], describe_mask(parts[-1]))"
   ]
  },
  {
   "cell_type": "code",
   "execution_count": null,
   "metadata": {},
   "outputs": [],
   "source": []
  },
  {
   "cell_type": "code",
   "execution_count": 55,
   "metadata": {},
   "outputs": [],
   "source": [
    "os.kill(a.get_pid(), signal.SIGCONT)\n",
    "os.kill(a.get_pid(), signal.SIGUSR1)"
   ]
  },
  {
   "cell_type": "code",
   "execution_count": 56,
   "metadata": {},
   "outputs": [],
   "source": [
    "a.close()"
   ]
  },
  {
   "cell_type": "code",
   "execution_count": null,
   "metadata": {},
   "outputs": [],
   "source": []
  },
  {
   "cell_type": "code",
   "execution_count": null,
   "metadata": {},
   "outputs": [],
   "source": []
  },
  {
   "cell_type": "markdown",
   "metadata": {},
   "source": [
    "# <a name=\"usage\"></a> Примеры применения\n",
    "* мягкая остановка SIGINT и жесткая остановка SIGKILL\n",
    "* ротирование логов\n",
    "* raise(SIGSTOP)"
   ]
  },
  {
   "cell_type": "markdown",
   "metadata": {},
   "source": [
    "```\n",
    "     error.log <- 17 server\n",
    "\n",
    "mv error.log error.log.1\n",
    "     error.log.1 <- 17 server\n",
    "kill -SIGUSR1 server\n",
    "     close(17)\n",
    "     open\n",
    "     error.log <- 21 server\n",
    "```"
   ]
  },
  {
   "cell_type": "markdown",
   "metadata": {},
   "source": [
    "# <a name=\"hw\"></a> Комментарии к ДЗ\n",
    "\n",
    "* Если можете избежать написания хендлеров - избегайте. sigwaitinfo - добро.\n",
    "* Если используете хендлеры, то продумайте обязательно, в какие моменты может быть вызван обработчик, и не сломает ли это вашу логику. (Реально надо продумать, очень много видел кода, который будет работать некорректно в значительной доле случаев)\n",
    "* posix/signals/write-fifo - про fifo смотрите следующий семинар. Так же важно не забывать, что при попытке записи в закрытый канал вы получите сигнал SIGPIPE.\n",
    "\n",
    "* posix/signals/timeout - возможно вам поможет почитать про sigtimedwait, SIGCHLD и WNOHANG опцию waitpid - возможно что-то из этого пригодится"
   ]
  },
  {
   "cell_type": "code",
   "execution_count": null,
   "metadata": {},
   "outputs": [],
   "source": []
  },
  {
   "cell_type": "markdown",
   "metadata": {},
   "source": [
    "## Продумайте обязательно, в какие моменты может быть вызван обработчик\n",
    "\n",
    "Вот пример, как многие не продумывают"
   ]
  },
  {
   "cell_type": "code",
   "execution_count": 76,
   "metadata": {},
   "outputs": [
    {
     "data": {
      "text/markdown": [
       "Run: `gcc -g err.c -o err.exe`"
      ],
      "text/plain": [
       "<IPython.core.display.Markdown object>"
      ]
     },
     "metadata": {},
     "output_type": "display_data"
    },
    {
     "data": {
      "text/markdown": [
       "Run: `timeout -s SIGINT 3 timeout -s SIGUSR1 1 ./err.exe # через секунду SIGUSR1, через 3 секунды SIGKILL`"
      ],
      "text/plain": [
       "<IPython.core.display.Markdown object>"
      ]
     },
     "metadata": {},
     "output_type": "display_data"
    },
    {
     "name": "stdout",
     "output_type": "stream",
     "text": [
      "Start\n",
      "Catch signal\n"
     ]
    }
   ],
   "source": [
    "%%cpp err.c\n",
    "%run gcc -g err.c -o err.exe\n",
    "%run timeout -s SIGINT 3 timeout -s SIGUSR1 1 ./err.exe # через секунду SIGUSR1, через 3 секунды SIGKILL\n",
    "\n",
    "#include <unistd.h>\n",
    "#include <stdio.h>\n",
    "#include <signal.h>\n",
    "#include <assert.h>\n",
    "#include <sys/types.h>\n",
    "#include <sys/wait.h>\n",
    "\n",
    "volatile sig_atomic_t must_exit = 0;\n",
    "\n",
    "static void handler(int signum) {\n",
    "    must_exit = 1;\n",
    "    dprintf(2, \"Catch signal\\n\");\n",
    "}\n",
    " \n",
    "int main() {\n",
    "    sigaction(SIGUSR1, &(struct sigaction){.sa_handler = handler, .sa_flags = SA_RESTART}, NULL);\n",
    "    dprintf(2, \"Start\\n\");\n",
    "    while (!must_exit) {\n",
    "        sleep(2); // сигнал SIGUSR1 может прийти и быть обработанным тут\n",
    "                  // вместо sleep тут могло быть обычное переключение контекста на другой процесс и обратно\n",
    "        pause(); // и тогда вот тут все зависнет навсегда (до SIGINT)\n",
    "    }\n",
    "    printf(\"Stopped normally\"); // до сюда не дошло, аварийно завершились SIGINT-ом\n",
    "    return 0;\n",
    "}"
   ]
  },
  {
   "cell_type": "code",
   "execution_count": null,
   "metadata": {},
   "outputs": [],
   "source": []
  },
  {
   "cell_type": "code",
   "execution_count": null,
   "metadata": {},
   "outputs": [],
   "source": []
  },
  {
   "cell_type": "markdown",
   "metadata": {},
   "source": [
    "# Тест про сигналы\n",
    "\n",
    "Он открыт, вопросы простые, оценвание автоматическое, комментарии к неправильным ответам есть\n",
    "\n",
    "https://docs.google.com/forms/d/e/1FAIpQLSf0gOKoNrZJ7ucp-VaAOIf8loaVedMY2XhPUsNnQBJfvkvuKg/viewform?usp=sf_link"
   ]
  },
  {
   "cell_type": "code",
   "execution_count": null,
   "metadata": {},
   "outputs": [],
   "source": []
  }
 ],
 "metadata": {
  "kernelspec": {
   "display_name": "Python 3",
   "language": "python",
   "name": "python3"
  },
  "language_info": {
   "codemirror_mode": {
    "name": "ipython",
    "version": 3
   },
   "file_extension": ".py",
   "mimetype": "text/x-python",
   "name": "python",
   "nbconvert_exporter": "python",
   "pygments_lexer": "ipython3",
   "version": "3.8.5"
  }
 },
 "nbformat": 4,
 "nbformat_minor": 2
}
