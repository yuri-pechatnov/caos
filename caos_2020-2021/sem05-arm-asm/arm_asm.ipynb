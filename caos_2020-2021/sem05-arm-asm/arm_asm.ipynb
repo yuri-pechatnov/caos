{
 "cells": [
  {
   "cell_type": "code",
   "execution_count": 2,
   "metadata": {
    "scrolled": true
   },
   "outputs": [
    {
     "data": {
      "application/javascript": [
       "// setup cpp code highlighting\n",
       "IPython.CodeCell.options_default.highlight_modes[\"text/x-c++src\"] = {'reg':[/^%%cpp/]} ;IPython.CodeCell.options_default.highlight_modes[\"text/x-cmake\"] = {'reg':[/^%%cmake/]} ;"
      ],
      "text/plain": [
       "<IPython.core.display.Javascript object>"
      ]
     },
     "metadata": {},
     "output_type": "display_data"
    },
    {
     "data": {
      "text/html": [
       "<!-- YANDEX_METRICA_BEGIN -->\n",
       "    <script type=\"text/javascript\" >\n",
       "       (function(m,e,t,r,i,k,a){m[i]=m[i]||function(){(m[i].a=m[i].a||[]).push(arguments)};\n",
       "       m[i].l=1*new Date();k=e.createElement(t),a=e.getElementsByTagName(t)[0],k.async=1,k.src=r,a.parentNode.insertBefore(k,a)})\n",
       "       (window, document, \"script\", \"https://mc.yandex.ru/metrika/tag.js\", \"ym\");\n",
       "\n",
       "       ym(59260609, \"init\", {\n",
       "            clickmap:true,\n",
       "            trackLinks:true,\n",
       "            accurateTrackBounce:true\n",
       "       });\n",
       "    </script>\n",
       "    <noscript><div><img src=\"https://mc.yandex.ru/watch/59260609\" style=\"position:absolute; left:-9999px;\" alt=\"\" /></div></noscript>\n",
       "    <!-- YANDEX_METRICA_END -->"
      ],
      "text/plain": [
       "<IPython.core.display.HTML object>"
      ]
     },
     "metadata": {},
     "output_type": "display_data"
    },
    {
     "data": {
      "text/html": [
       "В этот ноутбук встроен код Яндекс Метрики для сбора статистики использований. Если вы не хотите, чтобы по вам собиралась статистика, исправьте: yandex_metrica_allowed = False<!-- MAGICS_SETUP_PRINTING_END -->"
      ],
      "text/plain": [
       "<IPython.core.display.HTML object>"
      ]
     },
     "metadata": {},
     "output_type": "display_data"
    }
   ],
   "source": [
    "# look at tools/set_up_magics.ipynb\n",
    "yandex_metrica_allowed = True ; get_ipython().run_cell('# one_liner_str\\n\\nget_ipython().run_cell_magic(\\'javascript\\', \\'\\', \\n    \\'// setup cpp code highlighting\\\\n\\'\\n    \\'IPython.CodeCell.options_default.highlight_modes[\"text/x-c++src\"] = {\\\\\\'reg\\\\\\':[/^%%cpp/]} ;\\'\\n    \\'IPython.CodeCell.options_default.highlight_modes[\"text/x-cmake\"] = {\\\\\\'reg\\\\\\':[/^%%cmake/]} ;\\'\\n)\\n\\n# creating magics\\nfrom IPython.core.magic import register_cell_magic, register_line_magic\\nfrom IPython.display import display, Markdown, HTML\\nimport argparse\\nfrom subprocess import Popen, PIPE\\nimport random\\nimport sys\\nimport os\\nimport re\\nimport signal\\nimport shutil\\nimport shlex\\nimport glob\\nimport time\\n\\n@register_cell_magic\\ndef save_file(args_str, cell, line_comment_start=\"#\"):\\n    parser = argparse.ArgumentParser()\\n    parser.add_argument(\"fname\")\\n    parser.add_argument(\"--ejudge-style\", action=\"store_true\")\\n    args = parser.parse_args(args_str.split())\\n    \\n    cell = cell if cell[-1] == \\'\\\\n\\' or args.no_eof_newline else cell + \"\\\\n\"\\n    cmds = []\\n    with open(args.fname, \"w\") as f:\\n        f.write(line_comment_start + \" %%cpp \" + args_str + \"\\\\n\")\\n        for line in cell.split(\"\\\\n\"):\\n            line_to_write = (line if not args.ejudge_style else line.rstrip()) + \"\\\\n\"\\n            if line.startswith(\"%\"):\\n                run_prefix = \"%run \"\\n                if line.startswith(run_prefix):\\n                    cmds.append(line[len(run_prefix):].strip())\\n                    f.write(line_comment_start + \" \" + line_to_write)\\n                    continue\\n                comment_prefix = \"%\" + line_comment_start\\n                if line.startswith(comment_prefix):\\n                    cmds.append(\\'#\\' + line[len(comment_prefix):].strip())\\n                    f.write(line_comment_start + \" \" + line_to_write)\\n                    continue\\n                raise Exception(\"Unknown %%save_file subcommand: \\'%s\\'\" % line)\\n            else:\\n                f.write(line_to_write)\\n        f.write(\"\" if not args.ejudge_style else line_comment_start + r\" line without \\\\n\")\\n    for cmd in cmds:\\n        if cmd.startswith(\\'#\\'):\\n            display(Markdown(\"\\\\#\\\\#\\\\#\\\\# `%s`\" % cmd[1:]))\\n        else:\\n            display(Markdown(\"Run: `%s`\" % cmd))\\n            get_ipython().system(cmd)\\n\\n@register_cell_magic\\ndef cpp(fname, cell):\\n    save_file(fname, cell, \"//\")\\n    \\n@register_cell_magic\\ndef cmake(fname, cell):\\n    save_file(fname, cell, \"#\")\\n\\n@register_cell_magic\\ndef asm(fname, cell):\\n    save_file(fname, cell, \"//\")\\n    \\n@register_cell_magic\\ndef makefile(fname, cell):\\n    fname = fname or \"makefile\"\\n    assert fname.endswith(\"makefile\")\\n    save_file(fname, cell.replace(\" \" * 4, \"\\\\t\"))\\n        \\n@register_line_magic\\ndef p(line):\\n    line = line.strip() \\n    if line[0] == \\'#\\':\\n        display(Markdown(line[1:].strip()))\\n    else:\\n        try:\\n            expr, comment = line.split(\" #\")\\n            display(Markdown(\"`{} = {}`  # {}\".format(expr.strip(), eval(expr), comment.strip())))\\n        except:\\n            display(Markdown(\"{} = {}\".format(line, eval(line))))\\n    \\n    \\ndef show_log_file(file, return_html_string=False):\\n    obj = file.replace(\\'.\\', \\'_\\').replace(\\'/\\', \\'_\\') + \"_obj\"\\n    html_string = \\'\\'\\'\\n        <!--MD_BEGIN_FILTER-->\\n        <script type=text/javascript>\\n        var entrance___OBJ__ = 0;\\n        var errors___OBJ__ = 0;\\n        function halt__OBJ__(elem, color)\\n        {\\n            elem.setAttribute(\"style\", \"font-size: 14px; background: \" + color + \"; padding: 10px; border: 3px; border-radius: 5px; color: white; \");                    \\n        }\\n        function refresh__OBJ__()\\n        {\\n            entrance___OBJ__ -= 1;\\n            if (entrance___OBJ__ < 0) {\\n                entrance___OBJ__ = 0;\\n            }\\n            var elem = document.getElementById(\"__OBJ__\");\\n            if (elem) {\\n                var xmlhttp=new XMLHttpRequest();\\n                xmlhttp.onreadystatechange=function()\\n                {\\n                    var elem = document.getElementById(\"__OBJ__\");\\n                    console.log(!!elem, xmlhttp.readyState, xmlhttp.status, entrance___OBJ__);\\n                    if (elem && xmlhttp.readyState==4) {\\n                        if (xmlhttp.status==200)\\n                        {\\n                            errors___OBJ__ = 0;\\n                            if (!entrance___OBJ__) {\\n                                if (elem.innerHTML != xmlhttp.responseText) {\\n                                    elem.innerHTML = xmlhttp.responseText;\\n                                }\\n                                if (elem.innerHTML.includes(\"Process finished.\")) {\\n                                    halt__OBJ__(elem, \"#333333\");\\n                                } else {\\n                                    entrance___OBJ__ += 1;\\n                                    console.log(\"req\");\\n                                    window.setTimeout(\"refresh__OBJ__()\", 300); \\n                                }\\n                            }\\n                            return xmlhttp.responseText;\\n                        } else {\\n                            errors___OBJ__ += 1;\\n                            if (!entrance___OBJ__) {\\n                                if (errors___OBJ__ < 6) {\\n                                    entrance___OBJ__ += 1;\\n                                    console.log(\"req\");\\n                                    window.setTimeout(\"refresh__OBJ__()\", 300); \\n                                } else {\\n                                    halt__OBJ__(elem, \"#994444\");\\n                                }\\n                            }\\n                        }\\n                    }\\n                }\\n                xmlhttp.open(\"GET\", \"__FILE__\", true);\\n                xmlhttp.setRequestHeader(\"Cache-Control\", \"no-cache\");\\n                xmlhttp.send();     \\n            }\\n        }\\n        \\n        if (!entrance___OBJ__) {\\n            entrance___OBJ__ += 1;\\n            refresh__OBJ__(); \\n        }\\n        </script>\\n\\n        <p id=\"__OBJ__\" style=\"font-size: 14px; background: #000000; padding: 10px; border: 3px; border-radius: 5px; color: white; \">\\n        </p>\\n        \\n        </font>\\n        <!--MD_END_FILTER-->\\n        <!--MD_FROM_FILE __FILE__.md -->\\n        \\'\\'\\'.replace(\"__OBJ__\", obj).replace(\"__FILE__\", file)\\n    if return_html_string:\\n        return html_string\\n    display(HTML(html_string))\\n\\n    \\nclass TInteractiveLauncher:\\n    tmp_path = \"./interactive_launcher_tmp\"\\n    def __init__(self, cmd):\\n        try:\\n            os.mkdir(TInteractiveLauncher.tmp_path)\\n        except:\\n            pass\\n        name = str(random.randint(0, 1e18))\\n        self.inq_path = os.path.join(TInteractiveLauncher.tmp_path, name + \".inq\")\\n        self.log_path = os.path.join(TInteractiveLauncher.tmp_path, name + \".log\")\\n        \\n        os.mkfifo(self.inq_path)\\n        open(self.log_path, \\'w\\').close()\\n        open(self.log_path + \".md\", \\'w\\').close()\\n\\n        self.pid = os.fork()\\n        if self.pid == -1:\\n            print(\"Error\")\\n        if self.pid == 0:\\n            exe_cands = glob.glob(\"../tools/launcher.py\") + glob.glob(\"../../tools/launcher.py\")\\n            assert(len(exe_cands) == 1)\\n            assert(os.execvp(\"python3\", [\"python3\", exe_cands[0], \"-l\", self.log_path, \"-i\", self.inq_path, \"-c\", cmd]) == 0)\\n        self.inq_f = open(self.inq_path, \"w\")\\n        interactive_launcher_opened_set.add(self.pid)\\n        show_log_file(self.log_path)\\n\\n    def write(self, s):\\n        s = s.encode()\\n        assert len(s) == os.write(self.inq_f.fileno(), s)\\n        \\n    def get_pid(self):\\n        n = 100\\n        for i in range(n):\\n            try:\\n                return int(re.findall(r\"PID = (\\\\d+)\", open(self.log_path).readline())[0])\\n            except:\\n                if i + 1 == n:\\n                    raise\\n                time.sleep(0.1)\\n        \\n    def input_queue_path(self):\\n        return self.inq_path\\n        \\n    def wait_stop(self, timeout):\\n        for i in range(int(timeout * 10)):\\n            wpid, status = os.waitpid(self.pid, os.WNOHANG)\\n            if wpid != 0:\\n                return True\\n            time.sleep(0.1)\\n        return False\\n        \\n    def close(self, timeout=3):\\n        self.inq_f.close()\\n        if not self.wait_stop(timeout):\\n            os.kill(self.get_pid(), signal.SIGKILL)\\n            os.waitpid(self.pid, 0)\\n        os.remove(self.inq_path)\\n        # os.remove(self.log_path)\\n        self.inq_path = None\\n        self.log_path = None \\n        interactive_launcher_opened_set.remove(self.pid)\\n        self.pid = None\\n        \\n    @staticmethod\\n    def terminate_all():\\n        if \"interactive_launcher_opened_set\" not in globals():\\n            globals()[\"interactive_launcher_opened_set\"] = set()\\n        global interactive_launcher_opened_set\\n        for pid in interactive_launcher_opened_set:\\n            print(\"Terminate pid=\" + str(pid), file=sys.stderr)\\n            os.kill(pid, signal.SIGKILL)\\n            os.waitpid(pid, 0)\\n        interactive_launcher_opened_set = set()\\n        if os.path.exists(TInteractiveLauncher.tmp_path):\\n            shutil.rmtree(TInteractiveLauncher.tmp_path)\\n    \\nTInteractiveLauncher.terminate_all()\\n   \\nyandex_metrica_allowed = bool(globals().get(\"yandex_metrica_allowed\", False))\\nif yandex_metrica_allowed:\\n    display(HTML(\\'\\'\\'<!-- YANDEX_METRICA_BEGIN -->\\n    <script type=\"text/javascript\" >\\n       (function(m,e,t,r,i,k,a){m[i]=m[i]||function(){(m[i].a=m[i].a||[]).push(arguments)};\\n       m[i].l=1*new Date();k=e.createElement(t),a=e.getElementsByTagName(t)[0],k.async=1,k.src=r,a.parentNode.insertBefore(k,a)})\\n       (window, document, \"script\", \"https://mc.yandex.ru/metrika/tag.js\", \"ym\");\\n\\n       ym(59260609, \"init\", {\\n            clickmap:true,\\n            trackLinks:true,\\n            accurateTrackBounce:true\\n       });\\n    </script>\\n    <noscript><div><img src=\"https://mc.yandex.ru/watch/59260609\" style=\"position:absolute; left:-9999px;\" alt=\"\" /></div></noscript>\\n    <!-- YANDEX_METRICA_END -->\\'\\'\\'))\\n\\ndef make_oneliner():\\n    html_text = \\'(\"В этот ноутбук встроен код Яндекс Метрики для сбора статистики использований. Если вы не хотите, чтобы по вам собиралась статистика, исправьте: yandex_metrica_allowed = False\" if yandex_metrica_allowed else \"\")\\'\\n    html_text += \\' + \"<\"\"!-- MAGICS_SETUP_PRINTING_END -->\"\\'\\n    return \\'\\'.join([\\n        \\'# look at tools/set_up_magics.ipynb\\\\n\\',\\n        \\'yandex_metrica_allowed = True ; get_ipython().run_cell(%s);\\' % repr(one_liner_str),\\n        \\'display(HTML(%s))\\' % html_text,\\n        \\' #\\'\\'MAGICS_SETUP_END\\'\\n    ])\\n       \\n\\n');display(HTML((\"В этот ноутбук встроен код Яндекс Метрики для сбора статистики использований. Если вы не хотите, чтобы по вам собиралась статистика, исправьте: yandex_metrica_allowed = False\" if yandex_metrica_allowed else \"\") + \"<\"\"!-- MAGICS_SETUP_PRINTING_END -->\")) #MAGICS_SETUP_END"
   ]
  },
  {
   "cell_type": "markdown",
   "metadata": {},
   "source": [
    "# ARM ASM\n",
    "\n",
    "<table width=100%> <tr>\n",
    "    <th width=20%> <b>Видеозапись семинара &rarr; </b> </th>\n",
    "    <th>\n",
    "    <a href=\"https://www.youtube.com/watch?v=OYgKVtWp2l4&list=PLjzMm8llUm4AmU6i_hPU0NobgA4VsBowc&index=6\">\n",
    "        <img src=\"video.jpg\" width=\"320\"  height=\"160\" align=\"left\" alt=\"Видео с семинара\"> \n",
    "    </a>\n",
    "    </th>\n",
    "    <th> </th>\n",
    "</tr> </table>\n",
    "\n",
    "\n",
    "[Ридинг Яковлева: Инструменты для ARM](https://github.com/victor-yacovlev/mipt-diht-caos/blob/master/practice/arm) \n",
    "<br>[Ридинг Яковлева: Ассемблер ARM](https://github.com/victor-yacovlev/mipt-diht-caos/blob/master/practice/asm/arm_basics) \n",
    "\n",
    "[Тут на 18 странице написано о доступных регистрах и их назначениях](https://static.docs.arm.com/ihi0042/g/aapcs32.pdf)\n",
    "\n",
    "Сегодня в программе:\n",
    "* <a href=\"#install_instr\" style=\"color:#856024\"> Установка инструментов </a>\n",
    "* <a href=\"#compile_run\" style=\"color:#856024\"> Компиляция и запуск </a>\n",
    "* <a href=\"#asm\" style=\"color:#856024\"> Ассемблер ARM </a>\n",
    "  * <a href=\"#easy_asm\" style=\"color:#856024\"> Простой способ написать функцию на ассемблере </a>\n",
    "* <a href=\"#hw\" style=\"color:#856024\"> Комментарии к ДЗ </a>"
   ]
  },
  {
   "cell_type": "markdown",
   "metadata": {},
   "source": [
    "## <a name=\"install_instr\"></a> Установка инструментов\n",
    "\n",
    "1) Скачать набор компиляторов и динамических библиотек из проекта linaro\n",
    "<br> `wget http://releases.linaro.org/components/toolchain/binaries/7.3-2018.05/arm-linux-gnueabi/gcc-linaro-7.3.1-2018.05-i686_arm-linux-gnueabi.tar.xz`\n",
    "\n",
    "2) Распаковать этот набор\n",
    "<br> xvf = eXtract Verbose File если не ошибаюсь\n",
    "<br> `tar xvf gcc-linaro-7.3.1-2018.05-i686_arm-linux-gnueabi.tar.xz`\n",
    "\n",
    "3) Установить qemu-arm\n",
    "<br> `sudo apt-get install qemu-user-static qemu-system-arm qemu-user`\n",
    "<br> (возможно что-то в списке лишнее)\n",
    "\n",
    "4) Дополнение от Александра Печёнкина: \n",
    "<br> В случае ошибки `bash: <...>/bin/arm-linux-gnueabi-gcc: No such file or directory` установите:\n",
    "```bash\n",
    "sudo apt-get upgrade \n",
    "sudo apt-get install libc6:i386 libncurses5:i386 libstdc++6:i386\n",
    "sudo dpkg --add-architecture i386\n",
    "```"
   ]
  },
  {
   "cell_type": "markdown",
   "metadata": {},
   "source": [
    "## <a name=\"compile_run\"></a> Компиляция и запуск\n",
    "1. Стоит добавить путь до скачанных компиляторов в PATH, чтобы их можно было запускать по имени программы, а не по пути до нее."
   ]
  },
  {
   "cell_type": "code",
   "execution_count": 4,
   "metadata": {},
   "outputs": [],
   "source": [
    "import os\n",
    "\n",
    "linaro_download_dir = os.path.expanduser(\"~/arm/gcc-linaro-7.3.1-2018.05-i686_arm-linux-gnueabi\")\n",
    "\n",
    "gcc_linaro_path = os.path.join(linaro_download_dir, \"bin\")\n",
    "if gcc_linaro_path not in os.environ[\"PATH\"]:\n",
    "    os.environ[\"PATH\"] += \":\" + gcc_linaro_path"
   ]
  },
  {
   "cell_type": "markdown",
   "metadata": {},
   "source": [
    "В консоли можно сделать\n",
    "\n",
    "`export PATH=$PATH:/home/pechatnov/arm/gcc-linaro-7.3.1-2018.05-i686_arm-linux-gnueabi/bin`\n",
    "\n",
    "2. Стоит записать путь до динамических библиотек ARM в QEMU_LD_PREFIX, чтобы не писать -L опцию."
   ]
  },
  {
   "cell_type": "code",
   "execution_count": 5,
   "metadata": {},
   "outputs": [],
   "source": [
    "os.environ[\"QEMU_LD_PREFIX\"] = os.path.join(linaro_download_dir, \"arm-linux-gnueabi/libc\")    "
   ]
  },
  {
   "cell_type": "markdown",
   "metadata": {},
   "source": [
    "В консоли можно написать \n",
    "<br>`export QEMU_LD_PREFIX=/home/pechatnov/arm/gcc-linaro-7.3.1-2018.05-i686_arm-linux-gnueabi/arm-linux-gnueabi/libc`\n",
    "\n",
    "Или запускать как \n",
    "<br>`qemu-arm -L /home/pechatnov/arm/gcc-linaro-7.3.1-2018.05-i686_arm-linux-gnueabi/arm-linux-gnueabi/libc ./program.exe`"
   ]
  },
  {
   "cell_type": "markdown",
   "metadata": {},
   "source": [
    "3. Все, можно компилировать и запускать"
   ]
  },
  {
   "cell_type": "code",
   "execution_count": 114,
   "metadata": {},
   "outputs": [
    {
     "data": {
      "text/markdown": [
       "Run: `arm-linux-gnueabi-gcc -marm size.c -o size.exe`"
      ],
      "text/plain": [
       "<IPython.core.display.Markdown object>"
      ]
     },
     "metadata": {},
     "output_type": "display_data"
    },
    {
     "data": {
      "text/markdown": [
       "Run: `qemu-arm ./size.exe`"
      ],
      "text/plain": [
       "<IPython.core.display.Markdown object>"
      ]
     },
     "metadata": {},
     "output_type": "display_data"
    },
    {
     "name": "stdout",
     "output_type": "stream",
     "text": [
      "is char signed = 1, sizeof(long int) = 4\r\n"
     ]
    }
   ],
   "source": [
    "%%cpp size.c\n",
    "%run arm-linux-gnueabi-gcc -marm size.c -o size.exe\n",
    "%run qemu-arm ./size.exe\n",
    "\n",
    "#include <stdio.h>\n",
    "\n",
    "int main() {\n",
    "    printf(\"is char signed = %d, \", (int)((char)(-1) > 0));\n",
    "    printf(\"sizeof(long int) = %d\\n\", (int)sizeof(long int));\n",
    "}"
   ]
  },
  {
   "cell_type": "markdown",
   "metadata": {},
   "source": [
    "## <a name=\"asm\"></a> Ассемблер ARM"
   ]
  },
  {
   "cell_type": "markdown",
   "metadata": {},
   "source": [
    "Микроблиотека"
   ]
  },
  {
   "cell_type": "code",
   "execution_count": 149,
   "metadata": {},
   "outputs": [
    {
     "data": {
      "text/markdown": [
       "Run: `arm-linux-gnueabi-gcc -c -Os -fno-asynchronous-unwind-tables -marm lib.c -o lib.o`"
      ],
      "text/plain": [
       "<IPython.core.display.Markdown object>"
      ]
     },
     "metadata": {},
     "output_type": "display_data"
    },
    {
     "data": {
      "text/markdown": [
       "\\#\\#\\#\\# `run arm-linux-gnueabi-gcc -S -Os -fno-asynchronous-unwind-tables -marm lib.c -o /dev/stdout`"
      ],
      "text/plain": [
       "<IPython.core.display.Markdown object>"
      ]
     },
     "metadata": {},
     "output_type": "display_data"
    },
    {
     "data": {
      "text/markdown": [
       "Run: `arm-linux-gnueabi-objdump -D lib.o | grep '<sum>' -A 3`"
      ],
      "text/plain": [
       "<IPython.core.display.Markdown object>"
      ]
     },
     "metadata": {},
     "output_type": "display_data"
    },
    {
     "name": "stdout",
     "output_type": "stream",
     "text": [
      "00000000 <sum>:\r\n",
      "   0:\te0800001 \tadd\tr0, r0, r1\r\n",
      "   4:\te12fff1e \tbx\tlr\r\n",
      "\r\n"
     ]
    }
   ],
   "source": [
    "%%cpp lib.c\n",
    "%run arm-linux-gnueabi-gcc -c -Os -fno-asynchronous-unwind-tables -marm lib.c -o lib.o\n",
    "%// run arm-linux-gnueabi-gcc -S -Os -fno-asynchronous-unwind-tables -marm lib.c -o /dev/stdout\n",
    "%run arm-linux-gnueabi-objdump -D lib.o | grep '<sum>' -A 3\n",
    "\n",
    "int sum(int a, int b) {\n",
    "    return a + b;\n",
    "}"
   ]
  },
  {
   "cell_type": "markdown",
   "metadata": {},
   "source": [
    "Hello world"
   ]
  },
  {
   "cell_type": "code",
   "execution_count": 144,
   "metadata": {
    "scrolled": true
   },
   "outputs": [
    {
     "data": {
      "text/markdown": [
       "Run: `arm-linux-gnueabi-gcc -S -Os -fno-asynchronous-unwind-tables -marm hello.c -o /dev/stdout`"
      ],
      "text/plain": [
       "<IPython.core.display.Markdown object>"
      ]
     },
     "metadata": {},
     "output_type": "display_data"
    },
    {
     "name": "stdout",
     "output_type": "stream",
     "text": [
      "\t.arch armv7-a\n",
      "\t.eabi_attribute 20, 1\n",
      "\t.eabi_attribute 21, 1\n",
      "\t.eabi_attribute 23, 3\n",
      "\t.eabi_attribute 24, 1\n",
      "\t.eabi_attribute 25, 1\n",
      "\t.eabi_attribute 26, 2\n",
      "\t.eabi_attribute 30, 4\n",
      "\t.eabi_attribute 34, 1\n",
      "\t.eabi_attribute 18, 4\n",
      "\t.file\t\"hello.c\"\n",
      "\t.text\n",
      "\t.section\t.text.startup,\"ax\",%progbits\n",
      "\t.align\t2\n",
      "\t.global\tmain\n",
      "\t.syntax unified\n",
      "\t.arm\n",
      "\t.fpu softvfp\n",
      "\t.type\tmain, %function\n",
      "main:\n",
      "\t@ args = 0, pretend = 0, frame = 0\n",
      "\t@ frame_needed = 0, uses_anonymous_args = 0\n",
      "\tpush\t{r4, lr}\n",
      "\tldr\tr0, .L3\n",
      "\tbl\tputs\n",
      "\tmov\tr0, #0\n",
      "\tpop\t{r4, pc}\n",
      ".L4:\n",
      "\t.align\t2\n",
      ".L3:\n",
      "\t.word\t.LC0\n",
      "\t.size\tmain, .-main\n",
      "\t.section\t.rodata.str1.1,\"aMS\",%progbits,1\n",
      ".LC0:\n",
      "\t.ascii\t\"hello world!\\000\"\n",
      "\t.ident\t\"GCC: (Linaro GCC 7.3-2018.05) 7.3.1 20180425 [linaro-7.3-2018.05 revision d29120a424ecfbc167ef90065c0eeb7f91977701]\"\n",
      "\t.section\t.note.GNU-stack,\"\",%progbits\n"
     ]
    }
   ],
   "source": [
    "%%cpp hello.c\n",
    "%run arm-linux-gnueabi-gcc -S -Os -fno-asynchronous-unwind-tables -marm hello.c -o /dev/stdout\n",
    "\n",
    "// Скомпилируем под arm и запустим hello_world \n",
    "\n",
    "#include <stdio.h>\n",
    "\n",
    "int main() {\n",
    "    printf(\"hello world!\\n\");\n",
    "    return 0;\n",
    "}"
   ]
  },
  {
   "cell_type": "markdown",
   "metadata": {},
   "source": [
    "Самое основное:\n",
    "* Есть регистры и есть память\n",
    "* Стек тоже память и он растет вниз\n",
    "* Есть инструкции для операций с регистрами `ADD`, `MUL`, `CMP`, ...\n",
    "* Есть инструкции условных и безусловных переходов (на самом деле те же операции с регистрами). `B`, `BL`, `BX`, `BGT`...\n",
    "* Есть инструкции, для взаимодействия с памятью `LDR`, `STR`\n",
    "* Первые 4 аргумента функции принимаются через `r0`..`r3`, остальные через стек\n",
    "* После вызова функции (вашей или не вашей) значения `r4`-`r8`, `r10`, `r11` не должны изменяться. (Функция может их использовать, но обязана восстановить прежние значения) \n",
    "* `r9`, `r12`-`r15` имеют специальное значение, проще их не использовать\n",
    "* `pc` - в этом регистре хранится адрес текущей инструкции, его изменение - то же самое, что безусловный переход\n",
    "* `sp` - указатель на стек\n",
    "* `lr` - адрес возврата\n",
    "\n",
    "<p>\n",
    "<img src=\"regs.png\" width=\"700\"  height=\"\" style=\"float: none\" alt=\"Видео с семинара\"> \n",
    "</p>\n"
   ]
  },
  {
   "cell_type": "code",
   "execution_count": null,
   "metadata": {},
   "outputs": [],
   "source": []
  },
  {
   "cell_type": "markdown",
   "metadata": {},
   "source": [
    "##  <a name=\"easy_asm\"></a> Простой способ написать что-то на ассемблере"
   ]
  },
  {
   "cell_type": "markdown",
   "metadata": {},
   "source": [
    "### 1. Пишем что-то на Си "
   ]
  },
  {
   "cell_type": "code",
   "execution_count": 152,
   "metadata": {},
   "outputs": [
    {
     "data": {
      "text/markdown": [
       "Run: `arm-linux-gnueabi-gcc -S -Os -marm lib.c -o /dev/stdout | grep -v eabi`"
      ],
      "text/plain": [
       "<IPython.core.display.Markdown object>"
      ]
     },
     "metadata": {},
     "output_type": "display_data"
    },
    {
     "name": "stdout",
     "output_type": "stream",
     "text": [
      "\t.arch armv7-a\n",
      "\t.file\t\"lib.c\"\n",
      "\t.text\n",
      "\t.align\t2\n",
      "\t.global\tstrange_function\n",
      "\t.syntax unified\n",
      "\t.arm\n",
      "\t.fpu softvfp\n",
      "\t.type\tstrange_function, %function\n",
      "strange_function:\n",
      "\t@ args = 0, pretend = 0, frame = 0\n",
      "\t@ frame_needed = 0, uses_anonymous_args = 0\n",
      "\t@ link register save eliminated.\n",
      "\tcmp\tr0, #4\n",
      "\tldrgt\tr3, .L4\n",
      "\trsble\tr0, r0, #5\n",
      "\tmlagt\tr0, r1, r0, r3\n",
      "\tbx\tlr\n",
      ".L5:\n",
      "\t.align\t2\n",
      ".L4:\n",
      "\t.word\t41000000\n",
      "\t.size\tstrange_function, .-strange_function\n",
      "\t.ident\t\"GCC: (Linaro GCC 7.3-2018.05) 7.3.1 20180425 [linaro-7.3-2018.05 revision d29120a424ecfbc167ef90065c0eeb7f91977701]\"\n",
      "\t.section\t.note.GNU-stack,\"\",%progbits\n"
     ]
    }
   ],
   "source": [
    "%%cpp lib.c\n",
    "%run arm-linux-gnueabi-gcc -S -Os -marm lib.c -o /dev/stdout | grep -v eabi\n",
    "\n",
    "int strange_function(int n, int a) {\n",
    "    if (n < 5) {\n",
    "        return 5 - n;\n",
    "    }\n",
    "    return n * a + 41000000;\n",
    "}"
   ]
  },
  {
   "cell_type": "code",
   "execution_count": 183,
   "metadata": {},
   "outputs": [
    {
     "data": {
      "text/markdown": [
       "Run: `arm-linux-gnueabi-gcc -marm program.c lib.c -o program.exe`"
      ],
      "text/plain": [
       "<IPython.core.display.Markdown object>"
      ]
     },
     "metadata": {},
     "output_type": "display_data"
    },
    {
     "data": {
      "text/markdown": [
       "Run: `qemu-arm ./program.exe`"
      ],
      "text/plain": [
       "<IPython.core.display.Markdown object>"
      ]
     },
     "metadata": {},
     "output_type": "display_data"
    },
    {
     "name": "stdout",
     "output_type": "stream",
     "text": [
      "1\r\n",
      "1\r\n",
      "41000000\r\n",
      "41000010\r\n"
     ]
    }
   ],
   "source": [
    "%%cpp program.c\n",
    "%run arm-linux-gnueabi-gcc -marm program.c lib.c -o program.exe\n",
    "%run qemu-arm ./program.exe\n",
    "\n",
    "#include <stdio.h>\n",
    "#include <assert.h>\n",
    "\n",
    "int strange_function(int n, int a);\n",
    "\n",
    "int main() {\n",
    "    printf(\"%d\\n\", strange_function(4, 0));\n",
    "    assert(strange_function(4, 0) == 1);\n",
    "    printf(\"%d\\n\", strange_function(4, 2));\n",
    "    assert(strange_function(4, 2) == 1);\n",
    "    printf(\"%d\\n\", strange_function(5, 0));\n",
    "    assert(strange_function(5, 0) == 41000000);\n",
    "    printf(\"%d\\n\", strange_function(5, 2));\n",
    "    assert(strange_function(5, 2) == 41000010);\n",
    "    return 0;\n",
    "}"
   ]
  },
  {
   "cell_type": "markdown",
   "metadata": {},
   "source": [
    "### 2. Копипастим ассемблерный код и собираемся с ним"
   ]
  },
  {
   "cell_type": "code",
   "execution_count": 184,
   "metadata": {},
   "outputs": [
    {
     "data": {
      "text/markdown": [
       "Run: `arm-linux-gnueabi-gcc -marm program.c lib.S -o program.exe`"
      ],
      "text/plain": [
       "<IPython.core.display.Markdown object>"
      ]
     },
     "metadata": {},
     "output_type": "display_data"
    },
    {
     "data": {
      "text/markdown": [
       "Run: `qemu-arm ./program.exe`"
      ],
      "text/plain": [
       "<IPython.core.display.Markdown object>"
      ]
     },
     "metadata": {},
     "output_type": "display_data"
    },
    {
     "name": "stdout",
     "output_type": "stream",
     "text": [
      "1\r\n",
      "1\r\n",
      "41000000\r\n",
      "41000010\r\n"
     ]
    }
   ],
   "source": [
    "%%cpp lib.S\n",
    "%run arm-linux-gnueabi-gcc -marm program.c lib.S -o program.exe\n",
    "%run qemu-arm ./program.exe\n",
    "\n",
    ".arch armv7-a\n",
    "\t.file\t\"lib.c\"\n",
    "\t.text\n",
    "\t.align\t2\n",
    "\t.global\tstrange_function\n",
    "\t.syntax unified\n",
    "\t.arm\n",
    "\t.fpu softvfp\n",
    "\t.type\tstrange_function, %function\n",
    "strange_function:\n",
    "\t@ args = 0, pretend = 0, frame = 0\n",
    "\t@ frame_needed = 0, uses_anonymous_args = 0\n",
    "\t@ link register save eliminated.\n",
    "\tcmp\tr0, #4\n",
    "\tldrgt\tr3, .L4\n",
    "\trsble\tr0, r0, #5\n",
    "\tmlagt\tr0, r1, r0, r3\n",
    "\tbx\tlr\n",
    ".L5:\n",
    "\t.align\t2\n",
    ".L4:\n",
    "\t.word\t41000000\n",
    "\t.size\tstrange_function, .-strange_function\n",
    "\t.ident\t\"GCC: (Linaro GCC 7.3-2018.05) 7.3.1 20180425 [linaro-7.3-2018.05 revision d29120a424ecfbc167ef90065c0eeb7f91977701]\"\n",
    "\t.section\t.note.GNU-stack,\"\",%progbits"
   ]
  },
  {
   "cell_type": "markdown",
   "metadata": {},
   "source": [
    "### 3. Минимизируем ассемблерный код"
   ]
  },
  {
   "cell_type": "code",
   "execution_count": 185,
   "metadata": {},
   "outputs": [
    {
     "data": {
      "text/markdown": [
       "Run: `arm-linux-gnueabi-gcc -marm program.c lib.S -o program.exe`"
      ],
      "text/plain": [
       "<IPython.core.display.Markdown object>"
      ]
     },
     "metadata": {},
     "output_type": "display_data"
    },
    {
     "data": {
      "text/markdown": [
       "Run: `qemu-arm ./program.exe`"
      ],
      "text/plain": [
       "<IPython.core.display.Markdown object>"
      ]
     },
     "metadata": {},
     "output_type": "display_data"
    },
    {
     "name": "stdout",
     "output_type": "stream",
     "text": [
      "1\n",
      "1\n",
      "41000000\n",
      "41000010\n"
     ]
    }
   ],
   "source": [
    "%%cpp lib.S\n",
    "%run arm-linux-gnueabi-gcc -marm program.c lib.S -o program.exe\n",
    "%run qemu-arm ./program.exe\n",
    "\n",
    ".text                         // указание, что дальше пойдет секция с кодом\n",
    ".global strange_function      // этот символ должен быть виден извне (аналог extern в Си и противоположность static)\n",
    "strange_function:             // метка как для goto / функция / потенциальный символ\n",
    "    cmp r0, #4 // сравниваем r0 и 4, выставляем флаги\n",
    "    ldrgt r3, .L4 // если, было GT=больше, то загружаем в регистр r3 значение из .L4 (там число 41000000)\n",
    "    rsble r0, r0, #5 // если было LE=(меньше или равно), то r0=5-r0\n",
    "    mlagt r0, r1, r0, r3 // если было GT=больше, то r0=r1*r0+r3\n",
    "    bx lr // перейти по адресу lr (там хранят адрес возврата из фунции)\n",
    ".L4:\n",
    "    .word 41000000\n",
    "        "
   ]
  },
  {
   "cell_type": "markdown",
   "metadata": {},
   "source": [
    "### 4. Понимаем, что можем большее - написать код по-другому и почти самостоятельно"
   ]
  },
  {
   "cell_type": "code",
   "execution_count": 186,
   "metadata": {},
   "outputs": [
    {
     "data": {
      "text/markdown": [
       "Run: `arm-linux-gnueabi-gcc -marm program.c lib.S -o program.exe`"
      ],
      "text/plain": [
       "<IPython.core.display.Markdown object>"
      ]
     },
     "metadata": {},
     "output_type": "display_data"
    },
    {
     "data": {
      "text/markdown": [
       "Run: `qemu-arm ./program.exe`"
      ],
      "text/plain": [
       "<IPython.core.display.Markdown object>"
      ]
     },
     "metadata": {},
     "output_type": "display_data"
    },
    {
     "name": "stdout",
     "output_type": "stream",
     "text": [
      "1\r\n",
      "1\r\n",
      "41000000\r\n",
      "41000010\r\n"
     ]
    }
   ],
   "source": [
    "%%cpp lib.S\n",
    "%run arm-linux-gnueabi-gcc -marm program.c lib.S -o program.exe\n",
    "%run qemu-arm ./program.exe\n",
    "\n",
    ".text                         \n",
    ".global strange_function      \n",
    "strange_function:             \n",
    "    cmp r0, #5\n",
    "    blt .strange_function_if_less\n",
    "    ldr r3, .strange_function_C1\n",
    "    mul r0, r0, r1\n",
    "    add r0, r0, r3\n",
    "    bx lr\n",
    ".strange_function_if_less:\n",
    "    //sub r0, #5, r0 // а так нельзя, константы могут быть только последним аргументов\n",
    "    rsb r0, r0, #5\n",
    "    bx lr\n",
    ".strange_function_C1:\n",
    "    .word 41000000\n",
    "    "
   ]
  },
  {
   "cell_type": "markdown",
   "metadata": {},
   "source": [
    "Еще можно писать код в ассемблерных вставках, если хочется:"
   ]
  },
  {
   "cell_type": "code",
   "execution_count": 187,
   "metadata": {},
   "outputs": [
    {
     "data": {
      "text/markdown": [
       "Run: `arm-linux-gnueabi-gcc -marm program_asm_p.c -o program.exe`"
      ],
      "text/plain": [
       "<IPython.core.display.Markdown object>"
      ]
     },
     "metadata": {},
     "output_type": "display_data"
    },
    {
     "data": {
      "text/markdown": [
       "Run: `qemu-arm ./program.exe`"
      ],
      "text/plain": [
       "<IPython.core.display.Markdown object>"
      ]
     },
     "metadata": {},
     "output_type": "display_data"
    },
    {
     "name": "stdout",
     "output_type": "stream",
     "text": [
      "1\r\n",
      "1\r\n",
      "41000000\r\n",
      "41000010\r\n"
     ]
    }
   ],
   "source": [
    "%%cpp program_asm_p.c\n",
    "%run arm-linux-gnueabi-gcc -marm program_asm_p.c -o program.exe\n",
    "%run qemu-arm ./program.exe\n",
    "\n",
    "#include <stdio.h>\n",
    "\n",
    "int strange_function(int n, int a);\n",
    "__asm__ (R\"(\n",
    ".global strange_function\n",
    "strange_function:\n",
    "    cmp r0, #4 \n",
    "    ldrgt r3, .strange_function_L4 \n",
    "    rsble r0, r0, #5\n",
    "    mlagt r0, r1, r0, r3\n",
    "    bx lr \n",
    ".strange_function_L4: // более длинное название метки, чтобы точно не пересечься со сгенерированными компилятором\n",
    "    .word 41000000\n",
    ")\");\n",
    "\n",
    "int main() {\n",
    "    printf(\"%d\\n\", strange_function(4, 0));\n",
    "    printf(\"%d\\n\", strange_function(4, 2));\n",
    "    printf(\"%d\\n\", strange_function(5, 0));\n",
    "    printf(\"%d\\n\", strange_function(5, 2));\n",
    "    return 0;\n",
    "}\n"
   ]
  },
  {
   "cell_type": "markdown",
   "metadata": {},
   "source": [
    "# Полезные фишки\n",
    "\n",
    "`cmp r0, #'9'` - так можно писать char-константы\n",
    "\n",
    "`push {r4, r5, r6, r7, r8, lr}` <-> `push {r4-r8, lr}`\n",
    "\n",
    "\n",
    "`str r0, [r1, #4]! (C-style: *(r1 += 4) = r0)` - то же самое, что и `str r0, [r1, #4] (C-style: *(r1 + 4) = r0)`, но в `r1`, будет сохранено `r1 + #4` после выполнения команды. Другими словами префиксный инкремент на 4.\n",
    "\n",
    "`ldr r0, [r1], #4` - то же самое, что и `ldr r0, [r1] (C-style: r0 = *r1)` с последующим `add r1, r1, #4 (C-style: r1 += 4)`. Другими словами постфиксный инкремент."
   ]
  },
  {
   "cell_type": "markdown",
   "metadata": {},
   "source": [
    "### Посмотрим на передачу аргументов в функции"
   ]
  },
  {
   "cell_type": "code",
   "execution_count": 194,
   "metadata": {
    "scrolled": true
   },
   "outputs": [
    {
     "data": {
      "text/markdown": [
       "Run: `arm-linux-gnueabi-gcc -marm program_asm_p.c -o program.exe`"
      ],
      "text/plain": [
       "<IPython.core.display.Markdown object>"
      ]
     },
     "metadata": {},
     "output_type": "display_data"
    },
    {
     "data": {
      "text/markdown": [
       "Run: `qemu-arm ./program.exe ; echo`"
      ],
      "text/plain": [
       "<IPython.core.display.Markdown object>"
      ]
     },
     "metadata": {},
     "output_type": "display_data"
    },
    {
     "name": "stdout",
     "output_type": "stream",
     "text": [
      "1 2 3 66712 66724 0\n",
      "1 2 3 4 5 6\n",
      "1 2 3 4 5 6\n",
      "\n"
     ]
    }
   ],
   "source": [
    "%%cpp program_asm_p.c\n",
    "%run arm-linux-gnueabi-gcc -marm program_asm_p.c -o program.exe\n",
    "%run qemu-arm ./program.exe ; echo \n",
    "\n",
    "#include <stdio.h>\n",
    "\n",
    "void print_args(int a, int b, int c, int d, int e, int f) {\n",
    "    printf(\"%d %d %d %d %d %d\\n\", a, b, c, d, e, f);\n",
    "}\n",
    "\n",
    "void call_print_args_first_3();\n",
    "__asm__ (R\"(\n",
    ".global call_print_args_first_3\n",
    "call_print_args_first_3:\n",
    "    push {lr} // надо сохранить lr, так как BL его затрет\n",
    "    mov r0, #1\n",
    "    mov r1, #2\n",
    "    mov r2, #3\n",
    "    bl print_args\n",
    "    pop {pc} // достаем lr со стека и сразу записываем в pc - тем самым выходим из функции\n",
    ")\");\n",
    "\n",
    "\n",
    "void call_print_args_first_6();\n",
    "__asm__ (R\"(\n",
    ".global call_print_args_first_6\n",
    "call_print_args_first_6:\n",
    "    push {lr} // сохраняем lr\n",
    "    mov r0, #5\n",
    "    mov r1, #6\n",
    "    push {r0, r1} // кладем на стек 5, 6 в качестве 5-6 аргументов функции\n",
    "    \n",
    "    mov r0, #1\n",
    "    mov r1, #2\n",
    "    mov r2, #3\n",
    "    mov r3, #4\n",
    "    \n",
    "    bl print_args\n",
    "    pop {r0, r1} // снимаем со стека аргументы функции\n",
    "    \n",
    "    pop {pc} // достаем lr со стека и сразу записываем в pc - тем самым выходим из функции\n",
    ")\");\n",
    "\n",
    "void call_print_args_first_6_2();\n",
    "__asm__ (R\"(\n",
    ".global call_print_args_first_6_2\n",
    "call_print_args_first_6_2:\n",
    "    push {r4-r5, lr} // сохраняем lr, а так же r5-r6 так как мы их должны вернуть в изначальное состояние\n",
    "\n",
    "    mov r0, #1\n",
    "    mov r1, #2\n",
    "    mov r2, #3\n",
    "    mov r3, #4\n",
    "    mov r4, #5\n",
    "    mov r5, #6\n",
    "    \n",
    "    // Три эквивалентных варианта\n",
    "    // 1\n",
    "    //push {r4, r5} // кладем на стек 5, 6 в качестве 5-6 аргументов функции\n",
    "    // 2\n",
    "    //sub sp, sp, #4\n",
    "    //str r5, [sp]\n",
    "    //sub sp, sp, #4\n",
    "    //str r4, [sp]\n",
    "    // 3\n",
    "    str r5, [sp, #-4]!\n",
    "    str r4, [sp, #-4]!\n",
    "    bl print_args\n",
    "    add sp, sp, #8 // вместо pop {r4, r5}, нам же не нужны больше эти аргументы, зачем их возвращать в r4 и r5?\n",
    "    \n",
    "    pop {r4-r5, pc} // достаем lr со стека и сразу записываем в pc - тем самым выходим из функции\n",
    ")\");\n",
    "\n",
    "\n",
    "int main() {\n",
    "    call_print_args_first_3();\n",
    "    call_print_args_first_6();\n",
    "    call_print_args_first_6_2();\n",
    "    return 0;\n",
    "}\n"
   ]
  },
  {
   "cell_type": "code",
   "execution_count": null,
   "metadata": {},
   "outputs": [],
   "source": []
  },
  {
   "cell_type": "markdown",
   "metadata": {},
   "source": [
    "### Пример вызова функции из ассемблерного кода"
   ]
  },
  {
   "cell_type": "code",
   "execution_count": 191,
   "metadata": {},
   "outputs": [
    {
     "data": {
      "text/markdown": [
       "Run: `arm-linux-gnueabi-gcc -marm test_call.c -O2 -o test_call.exe`"
      ],
      "text/plain": [
       "<IPython.core.display.Markdown object>"
      ]
     },
     "metadata": {},
     "output_type": "display_data"
    },
    {
     "data": {
      "text/markdown": [
       "Run: `qemu-arm ./test_call.exe`"
      ],
      "text/plain": [
       "<IPython.core.display.Markdown object>"
      ]
     },
     "metadata": {},
     "output_type": "display_data"
    },
    {
     "name": "stdout",
     "output_type": "stream",
     "text": [
      "Your number is 100500, const number is 100200300\r\n",
      "Your number is 100500, const number is 100200300\r\n"
     ]
    }
   ],
   "source": [
    "%%cpp test_call.c\n",
    "%run arm-linux-gnueabi-gcc -marm test_call.c -O2 -o test_call.exe\n",
    "%run qemu-arm ./test_call.exe\n",
    "\n",
    "#include <stdio.h>\n",
    "\n",
    "\n",
    "int print_a(int a);\n",
    "__asm__(R\"(\n",
    "    .text\n",
    "    .global print_a\n",
    "print_a:\n",
    "    push {lr}\n",
    "    \n",
    "    mov r2, r0    \n",
    "    ldr r0, =stdout // load address of variable 'stdout' \n",
    "    ldr r0, [r0]    // load variable by address (value is FILE* pointer)\n",
    "    ldr r1, =.format_string // load address\n",
    "    ldr r3, .const_number   // load value\n",
    "    \n",
    "    bl fprintf\n",
    "\n",
    "    pop {pc}\n",
    ".format_string:\n",
    "    .ascii \"Your number is %d, const number is %d\\n\" // заметьте, оно конкатенируется со слеюущим литералом\n",
    "    .ascii \"\\0\" // а \\0 тут надо писать! Можете попытаться закомментировать эту строчку\n",
    ".const_number:\n",
    "    .word 100200300\n",
    ")\");\n",
    "\n",
    "int main() {\n",
    "    fprintf(stdout, \"Your number is %d, const number is %d\\n\", 100500, 100200300);\n",
    "    print_a(100500);\n",
    "}"
   ]
  },
  {
   "cell_type": "code",
   "execution_count": null,
   "metadata": {},
   "outputs": [],
   "source": []
  },
  {
   "cell_type": "markdown",
   "metadata": {},
   "source": [
    "##  <a name=\"hw\"></a> Комментарии к дз\n",
    "\n",
    "1. Восстанавливайте значение регистра IP, если исопользуете его - чекер написан так, что IP портить нельзя. (Хотя если верить той документации, что я видел, и коду, генерируемому компилятором, то портить его можно)\n",
    "2. Есть подозрение, что инструкции должны быть выровнены в памяти по 4. Так что имеет смысл писать .align 4 перед метками, после которрых идет код. (в том числе перед функциями)\n"
   ]
  },
  {
   "cell_type": "code",
   "execution_count": null,
   "metadata": {},
   "outputs": [],
   "source": []
  },
  {
   "cell_type": "code",
   "execution_count": 13,
   "metadata": {},
   "outputs": [
    {
     "data": {
      "text/markdown": [
       "Run: `arm-linux-gnueabi-gcc -S -Os -marm lib.c -o /dev/stdout`"
      ],
      "text/plain": [
       "<IPython.core.display.Markdown object>"
      ]
     },
     "metadata": {},
     "output_type": "display_data"
    },
    {
     "name": "stdout",
     "output_type": "stream",
     "text": [
      "\t.arch armv7-a\n",
      "\t.eabi_attribute 20, 1\n",
      "\t.eabi_attribute 21, 1\n",
      "\t.eabi_attribute 23, 3\n",
      "\t.eabi_attribute 24, 1\n",
      "\t.eabi_attribute 25, 1\n",
      "\t.eabi_attribute 26, 2\n",
      "\t.eabi_attribute 30, 4\n",
      "\t.eabi_attribute 34, 1\n",
      "\t.eabi_attribute 18, 4\n",
      "\t.file\t\"lib.c\"\n",
      "\t.text\n",
      "\t.align\t2\n",
      "\t.global\tf\n",
      "\t.syntax unified\n",
      "\t.arm\n",
      "\t.fpu softvfp\n",
      "\t.type\tf, %function\n",
      "f:\n",
      "\t@ args = 0, pretend = 0, frame = 0\n",
      "\t@ frame_needed = 0, uses_anonymous_args = 0\n",
      "\t@ link register save eliminated.\n",
      "\tldr\tr2, .L2\n",
      "\tldr\tr1, .L2+4\n",
      "\tldr\tr3, [r2]\n",
      "\tldr\tr1, [r1]\n",
      "\tadd\tr3, r3, #1\n",
      "\tadd\tr3, r3, r1\n",
      "\tstr\tr3, [r2]\n",
      "\tbx\tlr\n",
      ".L3:\n",
      "\t.align\t2\n",
      ".L2:\n",
      "\t.word\t.LANCHOR0\n",
      "\t.word\ta\n",
      "\t.size\tf, .-f\n",
      "\t.global\tr\n",
      "\t.bss\n",
      "\t.align\t2\n",
      "\t.set\t.LANCHOR0,. + 0\n",
      "\t.type\tr, %object\n",
      "\t.size\tr, 4\n",
      "r:\n",
      "\t.space\t4\n",
      "\t.ident\t\"GCC: (Linaro GCC 7.3-2018.05) 7.3.1 20180425 [linaro-7.3-2018.05 revision d29120a424ecfbc167ef90065c0eeb7f91977701]\"\n",
      "\t.section\t.note.GNU-stack,\"\",%progbits\n"
     ]
    }
   ],
   "source": [
    "%%cpp lib.c\n",
    "%run arm-linux-gnueabi-gcc -S -Os -marm lib.c -o /dev/stdout\n",
    "\n",
    "extern int a;\n",
    "extern int r;\n",
    "int r = 0;\n",
    "\n",
    "void f() {\n",
    "    ++r;\n",
    "    r += a;\n",
    "}"
   ]
  },
  {
   "cell_type": "code",
   "execution_count": null,
   "metadata": {},
   "outputs": [],
   "source": []
  }
 ],
 "metadata": {
  "kernelspec": {
   "display_name": "Python 3",
   "language": "python",
   "name": "python3"
  },
  "language_info": {
   "codemirror_mode": {
    "name": "ipython",
    "version": 3
   },
   "file_extension": ".py",
   "mimetype": "text/x-python",
   "name": "python",
   "nbconvert_exporter": "python",
   "pygments_lexer": "ipython3",
   "version": "3.8.5"
  }
 },
 "nbformat": 4,
 "nbformat_minor": 2
}
