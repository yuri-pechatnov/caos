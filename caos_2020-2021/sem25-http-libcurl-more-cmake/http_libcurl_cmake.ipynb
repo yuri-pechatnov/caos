{
 "cells": [
  {
   "cell_type": "code",
   "execution_count": 65,
   "metadata": {
    "scrolled": true
   },
   "outputs": [
    {
     "data": {
      "application/javascript": [
       "// setup cpp code highlighting\n",
       "IPython.CodeCell.options_default.highlight_modes[\"text/x-c++src\"] = {'reg':[/^%%cpp/]} ;"
      ],
      "text/plain": [
       "<IPython.core.display.Javascript object>"
      ]
     },
     "metadata": {},
     "output_type": "display_data"
    },
    {
     "data": {
      "text/html": [
       "<!-- YANDEX_METRICA_BEGIN -->\n",
       "    <script type=\"text/javascript\" >\n",
       "       (function(m,e,t,r,i,k,a){m[i]=m[i]||function(){(m[i].a=m[i].a||[]).push(arguments)};\n",
       "       m[i].l=1*new Date();k=e.createElement(t),a=e.getElementsByTagName(t)[0],k.async=1,k.src=r,a.parentNode.insertBefore(k,a)})\n",
       "       (window, document, \"script\", \"https://mc.yandex.ru/metrika/tag.js\", \"ym\");\n",
       "\n",
       "       ym(59260609, \"init\", {\n",
       "            clickmap:true,\n",
       "            trackLinks:true,\n",
       "            accurateTrackBounce:true\n",
       "       });\n",
       "    </script>\n",
       "    <noscript><div><img src=\"https://mc.yandex.ru/watch/59260609\" style=\"position:absolute; left:-9999px;\" alt=\"\" /></div></noscript>\n",
       "    <!-- YANDEX_METRICA_END -->"
      ],
      "text/plain": [
       "<IPython.core.display.HTML object>"
      ]
     },
     "metadata": {},
     "output_type": "display_data"
    },
    {
     "data": {
      "text/html": [
       "В этот ноутбук встроен код Яндекс Метрики для сбора статистики использований. Если вы не хотите, чтобы по вам собиралась статистика, исправьте: yandex_metrica_allowed = False<!-- MAGICS_SETUP_PRINTING_END -->"
      ],
      "text/plain": [
       "<IPython.core.display.HTML object>"
      ]
     },
     "metadata": {},
     "output_type": "display_data"
    }
   ],
   "source": [
    "# look at tools/set_up_magics.ipynb\n",
    "yandex_metrica_allowed = True ; get_ipython().run_cell('# one_liner_str\\n\\nget_ipython().run_cell_magic(\\'javascript\\', \\'\\', \\'// setup cpp code highlighting\\\\nIPython.CodeCell.options_default.highlight_modes[\"text/x-c++src\"] = {\\\\\\'reg\\\\\\':[/^%%cpp/]} ;\\')\\n\\n# creating magics\\nfrom IPython.core.magic import register_cell_magic, register_line_magic\\nfrom IPython.display import display, Markdown, HTML\\nimport argparse\\nfrom subprocess import Popen, PIPE\\nimport random\\nimport sys\\nimport os\\nimport re\\nimport signal\\nimport shutil\\nimport shlex\\nimport glob\\n\\n@register_cell_magic\\ndef save_file(args_str, cell, line_comment_start=\"#\"):\\n    parser = argparse.ArgumentParser()\\n    parser.add_argument(\"fname\")\\n    parser.add_argument(\"--ejudge-style\", action=\"store_true\")\\n    args = parser.parse_args(args_str.split())\\n    \\n    cell = cell if cell[-1] == \\'\\\\n\\' or args.no_eof_newline else cell + \"\\\\n\"\\n    cmds = []\\n    with open(args.fname, \"w\") as f:\\n        f.write(line_comment_start + \" %%cpp \" + args_str + \"\\\\n\")\\n        for line in cell.split(\"\\\\n\"):\\n            line_to_write = (line if not args.ejudge_style else line.rstrip()) + \"\\\\n\"\\n            if line.startswith(\"%\"):\\n                run_prefix = \"%run \"\\n                if line.startswith(run_prefix):\\n                    cmds.append(line[len(run_prefix):].strip())\\n                    f.write(line_comment_start + \" \" + line_to_write)\\n                    continue\\n                run_prefix = \"%# \"\\n                if line.startswith(run_prefix):\\n                    f.write(line_comment_start + \" \" + line_to_write)\\n                    continue\\n                raise Exception(\"Unknown %%save_file subcommand: \\'%s\\'\" % line)\\n            else:\\n                f.write(line_to_write)\\n        f.write(\"\" if not args.ejudge_style else line_comment_start + r\" line without \\\\n\")\\n    for cmd in cmds:\\n        display(Markdown(\"Run: `%s`\" % cmd))\\n        get_ipython().system(cmd)\\n\\n@register_cell_magic\\ndef cpp(fname, cell):\\n    save_file(fname, cell, \"//\")\\n\\n@register_cell_magic\\ndef asm(fname, cell):\\n    save_file(fname, cell, \"//\")\\n    \\n@register_cell_magic\\ndef makefile(fname, cell):\\n    assert not fname\\n    save_file(\"makefile\", cell.replace(\" \" * 4, \"\\\\t\"))\\n        \\n@register_line_magic\\ndef p(line):\\n    try:\\n        expr, comment = line.split(\" #\")\\n        display(Markdown(\"`{} = {}`  # {}\".format(expr.strip(), eval(expr), comment.strip())))\\n    except:\\n        display(Markdown(\"{} = {}\".format(line, eval(line))))\\n        \\ndef show_file(file, clear_at_begin=True, return_html_string=False):\\n    if clear_at_begin:\\n        get_ipython().system(\"truncate --size 0 \" + file)\\n    obj = file.replace(\\'.\\', \\'_\\').replace(\\'/\\', \\'_\\') + \"_obj\"\\n    html_string = \\'\\'\\'\\n        <!--MD_BEGIN_FILTER-->\\n        <script type=text/javascript>\\n        var entrance___OBJ__ = 0;\\n        var errors___OBJ__ = 0;\\n        function refresh__OBJ__()\\n        {\\n            entrance___OBJ__ -= 1;\\n            var elem = document.getElementById(\"__OBJ__\");\\n            if (elem) {\\n                var xmlhttp=new XMLHttpRequest();\\n                xmlhttp.onreadystatechange=function()\\n                {\\n                    var elem = document.getElementById(\"__OBJ__\");\\n                    console.log(!!elem, xmlhttp.readyState, xmlhttp.status, entrance___OBJ__);\\n                    if (elem && xmlhttp.readyState==4) {\\n                        if (xmlhttp.status==200)\\n                        {\\n                            errors___OBJ__ = 0;\\n                            if (!entrance___OBJ__) {\\n                                elem.innerText = xmlhttp.responseText;\\n                                entrance___OBJ__ += 1;\\n                                console.log(\"req\");\\n                                window.setTimeout(\"refresh__OBJ__()\", 300); \\n                            }\\n                            return xmlhttp.responseText;\\n                        } else {\\n                            errors___OBJ__ += 1;\\n                            if (errors___OBJ__ < 10 && !entrance___OBJ__) {\\n                                entrance___OBJ__ += 1;\\n                                console.log(\"req\");\\n                                window.setTimeout(\"refresh__OBJ__()\", 300); \\n                            }\\n                        }\\n                    }\\n                }\\n                xmlhttp.open(\"GET\", \"__FILE__\", true);\\n                xmlhttp.setRequestHeader(\"Cache-Control\", \"no-cache\");\\n                xmlhttp.send();     \\n            }\\n        }\\n        \\n        if (!entrance___OBJ__) {\\n            entrance___OBJ__ += 1;\\n            refresh__OBJ__(); \\n        }\\n        </script>\\n        \\n        <font color=\"white\"> <tt>\\n        <p id=\"__OBJ__\" style=\"font-size: 16px; border:3px #333333 solid; background: #333333; border-radius: 10px; padding: 10px;  \"></p>\\n        </tt> </font>\\n        <!--MD_END_FILTER-->\\n        <!--MD_FROM_FILE __FILE__ -->\\n        \\'\\'\\'.replace(\"__OBJ__\", obj).replace(\"__FILE__\", file)\\n    if return_html_string:\\n        return html_string\\n    display(HTML(html_string))\\n    \\nBASH_POPEN_TMP_DIR = \"./bash_popen_tmp\"\\n    \\ndef bash_popen_terminate_all():\\n    for p in globals().get(\"bash_popen_list\", []):\\n        print(\"Terminate pid=\" + str(p.pid), file=sys.stderr)\\n        p.terminate()\\n    globals()[\"bash_popen_list\"] = []\\n    if os.path.exists(BASH_POPEN_TMP_DIR):\\n        shutil.rmtree(BASH_POPEN_TMP_DIR)\\n\\nbash_popen_terminate_all()  \\n\\ndef bash_popen(cmd):\\n    if not os.path.exists(BASH_POPEN_TMP_DIR):\\n        os.mkdir(BASH_POPEN_TMP_DIR)\\n    h = os.path.join(BASH_POPEN_TMP_DIR, str(random.randint(0, 1e18)))\\n    stdout_file = h + \".out.html\"\\n    stderr_file = h + \".err.html\"\\n    run_log_file = h + \".fin.html\"\\n    \\n    stdout = open(stdout_file, \"wb\")\\n    stdout = open(stderr_file, \"wb\")\\n    \\n    html = \"\"\"\\n    <table width=\"100%\">\\n    <colgroup>\\n       <col span=\"1\" style=\"width: 70px;\">\\n       <col span=\"1\">\\n    </colgroup>    \\n    <tbody>\\n      <tr> <td><b>STDOUT</b></td> <td> {stdout} </td> </tr>\\n      <tr> <td><b>STDERR</b></td> <td> {stderr} </td> </tr>\\n      <tr> <td><b>RUN LOG</b></td> <td> {run_log} </td> </tr>\\n    </tbody>\\n    </table>\\n    \"\"\".format(\\n        stdout=show_file(stdout_file, return_html_string=True),\\n        stderr=show_file(stderr_file, return_html_string=True),\\n        run_log=show_file(run_log_file, return_html_string=True),\\n    )\\n    \\n    cmd = \"\"\"\\n        bash -c {cmd} &\\n        pid=$!\\n        echo \"Process started! pid=${{pid}}\" > {run_log_file}\\n        wait ${{pid}}\\n        echo \"Process finished! exit_code=$?\" >> {run_log_file}\\n    \"\"\".format(cmd=shlex.quote(cmd), run_log_file=run_log_file)\\n    # print(cmd)\\n    display(HTML(html))\\n    \\n    p = Popen([\"bash\", \"-c\", cmd], stdin=PIPE, stdout=stdout, stderr=stdout)\\n    \\n    bash_popen_list.append(p)\\n    return p\\n\\n\\n@register_line_magic\\ndef bash_async(line):\\n    bash_popen(line)\\n    \\n    \\ndef show_log_file(file, return_html_string=False):\\n    obj = file.replace(\\'.\\', \\'_\\').replace(\\'/\\', \\'_\\') + \"_obj\"\\n    html_string = \\'\\'\\'\\n        <!--MD_BEGIN_FILTER-->\\n        <script type=text/javascript>\\n        var entrance___OBJ__ = 0;\\n        var errors___OBJ__ = 0;\\n        function halt__OBJ__(elem, color)\\n        {\\n            elem.setAttribute(\"style\", \"font-size: 14px; background: \" + color + \"; padding: 10px; border: 3px; border-radius: 5px; color: white; \");                    \\n        }\\n        function refresh__OBJ__()\\n        {\\n            entrance___OBJ__ -= 1;\\n            if (entrance___OBJ__ < 0) {\\n                entrance___OBJ__ = 0;\\n            }\\n            var elem = document.getElementById(\"__OBJ__\");\\n            if (elem) {\\n                var xmlhttp=new XMLHttpRequest();\\n                xmlhttp.onreadystatechange=function()\\n                {\\n                    var elem = document.getElementById(\"__OBJ__\");\\n                    console.log(!!elem, xmlhttp.readyState, xmlhttp.status, entrance___OBJ__);\\n                    if (elem && xmlhttp.readyState==4) {\\n                        if (xmlhttp.status==200)\\n                        {\\n                            errors___OBJ__ = 0;\\n                            if (!entrance___OBJ__) {\\n                                if (elem.innerHTML != xmlhttp.responseText) {\\n                                    elem.innerHTML = xmlhttp.responseText;\\n                                }\\n                                if (elem.innerHTML.includes(\"Process finished.\")) {\\n                                    halt__OBJ__(elem, \"#333333\");\\n                                } else {\\n                                    entrance___OBJ__ += 1;\\n                                    console.log(\"req\");\\n                                    window.setTimeout(\"refresh__OBJ__()\", 300); \\n                                }\\n                            }\\n                            return xmlhttp.responseText;\\n                        } else {\\n                            errors___OBJ__ += 1;\\n                            if (!entrance___OBJ__) {\\n                                if (errors___OBJ__ < 6) {\\n                                    entrance___OBJ__ += 1;\\n                                    console.log(\"req\");\\n                                    window.setTimeout(\"refresh__OBJ__()\", 300); \\n                                } else {\\n                                    halt__OBJ__(elem, \"#994444\");\\n                                }\\n                            }\\n                        }\\n                    }\\n                }\\n                xmlhttp.open(\"GET\", \"__FILE__\", true);\\n                xmlhttp.setRequestHeader(\"Cache-Control\", \"no-cache\");\\n                xmlhttp.send();     \\n            }\\n        }\\n        \\n        if (!entrance___OBJ__) {\\n            entrance___OBJ__ += 1;\\n            refresh__OBJ__(); \\n        }\\n        </script>\\n\\n        <p id=\"__OBJ__\" style=\"font-size: 14px; background: #000000; padding: 10px; border: 3px; border-radius: 5px; color: white; \">\\n        </p>\\n        \\n        </font>\\n        <!--MD_END_FILTER-->\\n        <!--MD_FROM_FILE __FILE__.md -->\\n        \\'\\'\\'.replace(\"__OBJ__\", obj).replace(\"__FILE__\", file)\\n    if return_html_string:\\n        return html_string\\n    display(HTML(html_string))\\n\\n    \\nclass TInteractiveLauncher:\\n    tmp_path = \"./interactive_launcher_tmp\"\\n    def __init__(self, cmd):\\n        try:\\n            os.mkdir(TInteractiveLauncher.tmp_path)\\n        except:\\n            pass\\n        name = str(random.randint(0, 1e18))\\n        self.inq_path = os.path.join(TInteractiveLauncher.tmp_path, name + \".inq\")\\n        self.log_path = os.path.join(TInteractiveLauncher.tmp_path, name + \".log\")\\n        \\n        os.mkfifo(self.inq_path)\\n        open(self.log_path, \\'w\\').close()\\n        open(self.log_path + \".md\", \\'w\\').close()\\n\\n        self.pid = os.fork()\\n        if self.pid == -1:\\n            print(\"Error\")\\n        if self.pid == 0:\\n            exe_cands = glob.glob(\"../tools/launcher.py\") + glob.glob(\"../../tools/launcher.py\")\\n            assert(len(exe_cands) == 1)\\n            assert(os.execvp(\"python3\", [\"python3\", exe_cands[0], \"-l\", self.log_path, \"-i\", self.inq_path, \"-c\", cmd]) == 0)\\n        self.inq_f = open(self.inq_path, \"w\")\\n        interactive_launcher_opened_set.add(self.pid)\\n        show_log_file(self.log_path)\\n\\n    def write(self, s):\\n        s = s.encode()\\n        assert len(s) == os.write(self.inq_f.fileno(), s)\\n        \\n    def get_pid(self):\\n        n = 100\\n        for i in range(n):\\n            try:\\n                return int(re.findall(r\"PID = (\\\\d+)\", open(self.log_path).readline())[0])\\n            except:\\n                if i + 1 == n:\\n                    raise\\n                time.sleep(0.1)\\n        \\n    def input_queue_path(self):\\n        return self.inq_path\\n        \\n    def close(self):\\n        self.inq_f.close()\\n        os.waitpid(self.pid, 0)\\n        os.remove(self.inq_path)\\n        # os.remove(self.log_path)\\n        self.inq_path = None\\n        self.log_path = None \\n        interactive_launcher_opened_set.remove(self.pid)\\n        self.pid = None\\n        \\n    @staticmethod\\n    def terminate_all():\\n        if \"interactive_launcher_opened_set\" not in globals():\\n            globals()[\"interactive_launcher_opened_set\"] = set()\\n        global interactive_launcher_opened_set\\n        for pid in interactive_launcher_opened_set:\\n            print(\"Terminate pid=\" + str(pid), file=sys.stderr)\\n            os.kill(pid, signal.SIGKILL)\\n            os.waitpid(pid, 0)\\n        interactive_launcher_opened_set = set()\\n        if os.path.exists(TInteractiveLauncher.tmp_path):\\n            shutil.rmtree(TInteractiveLauncher.tmp_path)\\n    \\nTInteractiveLauncher.terminate_all()\\n   \\nyandex_metrica_allowed = bool(globals().get(\"yandex_metrica_allowed\", False))\\nif yandex_metrica_allowed:\\n    display(HTML(\\'\\'\\'<!-- YANDEX_METRICA_BEGIN -->\\n    <script type=\"text/javascript\" >\\n       (function(m,e,t,r,i,k,a){m[i]=m[i]||function(){(m[i].a=m[i].a||[]).push(arguments)};\\n       m[i].l=1*new Date();k=e.createElement(t),a=e.getElementsByTagName(t)[0],k.async=1,k.src=r,a.parentNode.insertBefore(k,a)})\\n       (window, document, \"script\", \"https://mc.yandex.ru/metrika/tag.js\", \"ym\");\\n\\n       ym(59260609, \"init\", {\\n            clickmap:true,\\n            trackLinks:true,\\n            accurateTrackBounce:true\\n       });\\n    </script>\\n    <noscript><div><img src=\"https://mc.yandex.ru/watch/59260609\" style=\"position:absolute; left:-9999px;\" alt=\"\" /></div></noscript>\\n    <!-- YANDEX_METRICA_END -->\\'\\'\\'))\\n\\ndef make_oneliner():\\n    html_text = \\'(\"В этот ноутбук встроен код Яндекс Метрики для сбора статистики использований. Если вы не хотите, чтобы по вам собиралась статистика, исправьте: yandex_metrica_allowed = False\" if yandex_metrica_allowed else \"\")\\'\\n    html_text += \\' + \"<\"\"!-- MAGICS_SETUP_PRINTING_END -->\"\\'\\n    return \\'\\'.join([\\n        \\'# look at tools/set_up_magics.ipynb\\\\n\\',\\n        \\'yandex_metrica_allowed = True ; get_ipython().run_cell(%s);\\' % repr(one_liner_str),\\n        \\'display(HTML(%s))\\' % html_text,\\n        \\' #\\'\\'MAGICS_SETUP_END\\'\\n    ])\\n       \\n\\n');display(HTML((\"В этот ноутбук встроен код Яндекс Метрики для сбора статистики использований. Если вы не хотите, чтобы по вам собиралась статистика, исправьте: yandex_metrica_allowed = False\" if yandex_metrica_allowed else \"\") + \"<\"\"!-- MAGICS_SETUP_PRINTING_END -->\")) #MAGICS_SETUP_END"
   ]
  },
  {
   "cell_type": "markdown",
   "metadata": {},
   "source": [
    "# HTTP, libcurl, more cmake\n",
    "\n",
    "\n",
    "<p><a href=\"https://www.youtube.com/watch?v=oXEKbLwc6y8&list=PLjzMm8llUm4AmU6i_hPU0NobgA4VsBowc&index=26\" target=\"_blank\">\n",
    "    <h3>Видеозапись семинара</h3> \n",
    "</a></p>\n",
    "\n",
    "[Ридинг Яковлева про HTTP](https://github.com/victor-yacovlev/mipt-diht-caos/tree/master/practice/http-curl)\n",
    "[Ридинг Яковлева про cmake](https://github.com/victor-yacovlev/mipt-diht-caos/blob/master/practice/linux_basics/cmake.md)\n",
    "\n",
    "\n",
    "## HTTP\n",
    "\n",
    "[HTTP (HyperText Transfer Protocol)](https://ru.wikipedia.org/wiki/HTTP) — протокол прикладного/транспортного уровня передачи данных. \n",
    "Изначально был создан как протокол прикладного уровня для передачи документов в html формате (теги и все вот это). Но позже был распробован и сейчас может используется для передачи произвольных данных, что характерно для транспортного уровня.\n",
    "\n",
    "Отправка HTTP запроса:\n",
    "* <a href=\"#get_term\" style=\"color:#856024\"> Из терминала </a>\n",
    "  * <a href=\"#netcat\" style=\"color:#856024\"> С помощью netcat, telnet </a> на уровне TCP, самостоятельно формируя HTTP запрос.\n",
    "  * <a href=\"#curl\" style=\"color:#856024\"> С помощью curl </a> на уровне HTTP\n",
    "* <a href=\"#get_python\" style=\"color:#856024\"> Из python </a> на уровне HTTP\n",
    "* <a href=\"#get_c\" style=\"color:#856024\"> Из программы на C </a> на уровне HTTP\n",
    "\n",
    "* <a href=\"#touch_http\" style=\"color:#856024\"> Более разнообразное использование HTTP </a> \n",
    "\n",
    "#### HTTP 1.1 и HTTP/2\n",
    "\n",
    "На семинаре будем рассматривать HTTP 1.1, но стоит знать, что текущая версия протокола существенно более эффективна.\n",
    "\n",
    "[Как HTTP/2 сделает веб быстрее / Хабр](https://habr.com/ru/company/nix/blog/304518/)\n",
    "\n",
    "| HTTP 1.1 | HTTP/2 |\n",
    "|----------|--------|\n",
    "| одно соединение - один запрос, <br> как следствие вынужденная конкатенация, встраивание и спрайтинг (spriting) данных | несколько запросов на соединение |\n",
    "| все нужные заголовки каждый раз отправляются полностью | сжатие заголовков, позволяет не отправлять каждый раз одни и те же заголовки |\n",
    "| | возможность отправки данных по инициативе сервера |\n",
    "| текстовый протокол | двоичный протокол |\n",
    "| | приоритезация потоков - клиент может сообщать, что ему более важно| \n",
    " \n",
    "\n",
    "## libcurl\n",
    "\n",
    "Библиотека умеющая все то же, что и утилита curl.\n",
    "\n",
    "\n",
    "## cmake\n",
    "\n",
    "Решает задачу кроссплатформенной сборки\n",
    "\n",
    "* Фронтенд для систем непосредственно занимающихся сборкой\n",
    "* cmake хорошо интегрирован с многими IDE \n",
    "* CMakeLists.txt в корне дерева исходников - главный конфигурационный файл и главный индикатор того, что проект собирается с помощью cmake\n",
    "\n",
    "Примеры:\n",
    "* <a href=\"#сmake_simple\" style=\"color:#856024\"> Простой пример </a>\n",
    "* <a href=\"#сmake_curl\" style=\"color:#856024\"> Пример с libcurl </a>\n",
    "\n",
    "\n",
    "\n",
    "[Введение в CMake / Хабр](https://habr.com/ru/post/155467/)\n",
    "\n",
    "[Документация для libCURL](https://curl.haxx.se/libcurl/c/)  \n",
    "  \n",
    "<a href=\"#hw\" style=\"color:#856024\">Комментарии к ДЗ</a>\n",
    "\n"
   ]
  },
  {
   "cell_type": "markdown",
   "metadata": {},
   "source": [
    "## <a name=\"get_term\"></a> HTTP из терминала"
   ]
  },
  {
   "cell_type": "markdown",
   "metadata": {},
   "source": [
    "#### <a name=\"netcat\"></a> На уровне TCP"
   ]
  },
  {
   "cell_type": "code",
   "execution_count": 66,
   "metadata": {
    "scrolled": true
   },
   "outputs": [
    {
     "name": "stdout",
     "output_type": "stream",
     "text": [
      "HTTP/1.1 301 Moved Permanently\r\n",
      "Server: nginx/1.14.0 (Ubuntu)\r\n",
      "Date: Fri, 16 Apr 2021 16:40:45 GMT\r\n",
      "Content-Type: text/html\r\n",
      "Content-Length: 194\r\n",
      "Connection: keep-alive\r\n",
      "Location: https://ejudge.atp-fivt.org/\r\n",
      "\r\n",
      "<html>\r\n",
      "<head><title>301 Moved Permanently</title></head>\r\n",
      "<body bgcolor=\"white\">\r\n",
      "<center><h1>301 Moved Permanently</h1></center>\r\n",
      "<hr><center>nginx/1.14.0 (Ubuntu)</center>\r\n",
      "</body>\r\n"
     ]
    }
   ],
   "source": [
    "%%bash\n",
    "# make request string\n",
    "VAR=$(cat <<HEREDOC_END\n",
    "GET / HTTP/1.1\n",
    "Host: ejudge.atp-fivt.org\n",
    "HEREDOC_END\n",
    ")\n",
    "\n",
    "# Если работаем в терминале, то просто пишем \"nc ejudge.atp-fivt.org 80\" и вводим запрос\n",
    "# ↓↓↓↓↓↓↓↓↓↓↓↓↓↓↓↓ - имитация ввода в stdin. \"-q1\" - чтобы netcat не закрылся сразу после закрытия stdin \n",
    "echo -e \"$VAR\\n\" | nc -q1 ejudge.atp-fivt.org 80 | head -n 14\n",
    "#                                                ↑↑↑↑↑↑↑↑↑↑↑↑ - обрезаем только начало вывода, чтобы не затопило выводом"
   ]
  },
  {
   "cell_type": "code",
   "execution_count": 67,
   "metadata": {},
   "outputs": [
    {
     "data": {
      "text/html": [
       "\n",
       "        <!--MD_BEGIN_FILTER-->\n",
       "        <script type=text/javascript>\n",
       "        var entrance___interactive_launcher_tmp_875177902963395986_log_obj = 0;\n",
       "        var errors___interactive_launcher_tmp_875177902963395986_log_obj = 0;\n",
       "        function halt__interactive_launcher_tmp_875177902963395986_log_obj(elem, color)\n",
       "        {\n",
       "            elem.setAttribute(\"style\", \"font-size: 14px; background: \" + color + \"; padding: 10px; border: 3px; border-radius: 5px; color: white; \");                    \n",
       "        }\n",
       "        function refresh__interactive_launcher_tmp_875177902963395986_log_obj()\n",
       "        {\n",
       "            entrance___interactive_launcher_tmp_875177902963395986_log_obj -= 1;\n",
       "            if (entrance___interactive_launcher_tmp_875177902963395986_log_obj < 0) {\n",
       "                entrance___interactive_launcher_tmp_875177902963395986_log_obj = 0;\n",
       "            }\n",
       "            var elem = document.getElementById(\"__interactive_launcher_tmp_875177902963395986_log_obj\");\n",
       "            if (elem) {\n",
       "                var xmlhttp=new XMLHttpRequest();\n",
       "                xmlhttp.onreadystatechange=function()\n",
       "                {\n",
       "                    var elem = document.getElementById(\"__interactive_launcher_tmp_875177902963395986_log_obj\");\n",
       "                    console.log(!!elem, xmlhttp.readyState, xmlhttp.status, entrance___interactive_launcher_tmp_875177902963395986_log_obj);\n",
       "                    if (elem && xmlhttp.readyState==4) {\n",
       "                        if (xmlhttp.status==200)\n",
       "                        {\n",
       "                            errors___interactive_launcher_tmp_875177902963395986_log_obj = 0;\n",
       "                            if (!entrance___interactive_launcher_tmp_875177902963395986_log_obj) {\n",
       "                                if (elem.innerHTML != xmlhttp.responseText) {\n",
       "                                    elem.innerHTML = xmlhttp.responseText;\n",
       "                                }\n",
       "                                if (elem.innerHTML.includes(\"Process finished.\")) {\n",
       "                                    halt__interactive_launcher_tmp_875177902963395986_log_obj(elem, \"#333333\");\n",
       "                                } else {\n",
       "                                    entrance___interactive_launcher_tmp_875177902963395986_log_obj += 1;\n",
       "                                    console.log(\"req\");\n",
       "                                    window.setTimeout(\"refresh__interactive_launcher_tmp_875177902963395986_log_obj()\", 300); \n",
       "                                }\n",
       "                            }\n",
       "                            return xmlhttp.responseText;\n",
       "                        } else {\n",
       "                            errors___interactive_launcher_tmp_875177902963395986_log_obj += 1;\n",
       "                            if (!entrance___interactive_launcher_tmp_875177902963395986_log_obj) {\n",
       "                                if (errors___interactive_launcher_tmp_875177902963395986_log_obj < 6) {\n",
       "                                    entrance___interactive_launcher_tmp_875177902963395986_log_obj += 1;\n",
       "                                    console.log(\"req\");\n",
       "                                    window.setTimeout(\"refresh__interactive_launcher_tmp_875177902963395986_log_obj()\", 300); \n",
       "                                } else {\n",
       "                                    halt__interactive_launcher_tmp_875177902963395986_log_obj(elem, \"#994444\");\n",
       "                                }\n",
       "                            }\n",
       "                        }\n",
       "                    }\n",
       "                }\n",
       "                xmlhttp.open(\"GET\", \"./interactive_launcher_tmp/875177902963395986.log\", true);\n",
       "                xmlhttp.setRequestHeader(\"Cache-Control\", \"no-cache\");\n",
       "                xmlhttp.send();     \n",
       "            }\n",
       "        }\n",
       "        \n",
       "        if (!entrance___interactive_launcher_tmp_875177902963395986_log_obj) {\n",
       "            entrance___interactive_launcher_tmp_875177902963395986_log_obj += 1;\n",
       "            refresh__interactive_launcher_tmp_875177902963395986_log_obj(); \n",
       "        }\n",
       "        </script>\n",
       "\n",
       "        <p id=\"__interactive_launcher_tmp_875177902963395986_log_obj\" style=\"font-size: 14px; background: #000000; padding: 10px; border: 3px; border-radius: 5px; color: white; \">\n",
       "        </p>\n",
       "        \n",
       "        </font>\n",
       "        <!--MD_END_FILTER-->\n",
       "        <!--MD_FROM_FILE ./interactive_launcher_tmp/875177902963395986.log.md -->\n",
       "        "
      ],
      "text/plain": [
       "<IPython.core.display.HTML object>"
      ]
     },
     "metadata": {},
     "output_type": "display_data"
    }
   ],
   "source": [
    "# Можно еще исползовать telnet: \"telnet ejudge.atp-fivt.org 80\"\n",
    "import time\n",
    "a = TInteractiveLauncher(\"telnet ejudge.atp-fivt.org 80 | head -n 10\")\n",
    "a.write(\"\"\"\\\n",
    "GET / HTTP/1.1\n",
    "Host: ejudge.atp-fivt.org\n",
    "\n",
    "\"\"\")\n",
    "time.sleep(1)\n",
    "a.close()"
   ]
  },
  {
   "cell_type": "code",
   "execution_count": 68,
   "metadata": {},
   "outputs": [
    {
     "name": "stdout",
     "output_type": "stream",
     "text": [
      "+OK POP Ya! na@3-7696ba5e005c neTA2hi5a4Y1\r\n",
      "-ERR [AUTH] Working without SSL/TLS encryption is not allowed. Please visit https://yandex.ru/support/mail-new/mail-clients/ssl.html  sc=neTA2hi5a4Y1_161640_3-7696ba5e005c\r\n"
     ]
    }
   ],
   "source": [
    "%%bash\n",
    "VAR=$(cat <<HEREDOC_END\n",
    "USER pechatnov@yandex.ru\n",
    "HEREDOC_END\n",
    ")\n",
    "\n",
    "# попытка загрузить почту по POP3 протоколу (не получится, там надо с шифрованием заморочиться)\n",
    "echo -e \"$VAR\\n\" | nc -q1 pop.yandex.ru 110 "
   ]
  },
  {
   "cell_type": "markdown",
   "metadata": {},
   "source": [
    "#### <a name=\"curl\"></a> Сразу на уровне HTTP\n",
    "\n",
    "curl - возволяет делать произвольные HTTP запросы\n",
    "\n",
    "wget - в первую очередь предназначен для скачивания файлов. Например, умеет выкачивать страницу рекурсивно"
   ]
  },
  {
   "cell_type": "code",
   "execution_count": 69,
   "metadata": {},
   "outputs": [
    {
     "name": "stdout",
     "output_type": "stream",
     "text": [
      "<html>\r\n",
      "<head><title>301 Moved Permanently</title></head>\r\n",
      "<body bgcolor=\"white\">\r\n",
      "<center><h1>301 Moved Permanently</h1></center>\r\n",
      "<hr><center>nginx/1.14.0 (Ubuntu)</center>\r\n",
      "</body>\r\n",
      "</html>\r\n"
     ]
    },
    {
     "name": "stderr",
     "output_type": "stream",
     "text": [
      "  % Total    % Received % Xferd  Average Speed   Time    Time     Time  Current\n",
      "                                 Dload  Upload   Total   Spent    Left  Speed\n",
      "\r",
      "  0     0    0     0    0     0      0      0 --:--:-- --:--:-- --:--:--     0\r",
      "  0     0    0     0    0     0      0      0 --:--:-- --:--:-- --:--:--     0\r",
      "100   194  100   194    0     0   1071      0 --:--:-- --:--:-- --:--:--  1065\n"
     ]
    }
   ],
   "source": [
    "%%bash\n",
    "curl ejudge.atp-fivt.org | head -n 10"
   ]
  },
  {
   "cell_type": "code",
   "execution_count": 70,
   "metadata": {},
   "outputs": [
    {
     "name": "stdout",
     "output_type": "stream",
     "text": [
      "<html>\n",
      "<head>\n",
      "    <title>АКОС ФИВТ МФТИ [Operating Systems at MIPT]</title>\n",
      "    <meta charset=\"utf-8\">\n",
      "    <meta http-equiv=\"X-UA-Compatible\" content=\"IE=edge\">\n",
      "    <meta name=\"viewport\" content=\"width=device-width, initial-scale=1.0\">\n",
      "    <link rel=\"stylesheet\" href=\"https://fonts.googleapis.com/icon?family=Material+Icons\">\n",
      "    <link rel=\"stylesheet\" href=\"https://code.getmdl.io/1.3.0/material.red-deep_orange.min.css\">\n",
      "    <script defer src=\"https://code.getmdl.io/1.3.0/material.min.js\"></script>\n",
      "</head>\n"
     ]
    },
    {
     "name": "stderr",
     "output_type": "stream",
     "text": [
      "--2021-04-16 19:40:53--  http://ejudge.atp-fivt.org/\n",
      "Resolving ejudge.atp-fivt.org (ejudge.atp-fivt.org)... 87.251.82.74\n",
      "Connecting to ejudge.atp-fivt.org (ejudge.atp-fivt.org)|87.251.82.74|:80... connected.\n",
      "HTTP request sent, awaiting response... 301 Moved Permanently\n",
      "Location: https://ejudge.atp-fivt.org/ [following]\n",
      "--2021-04-16 19:40:54--  https://ejudge.atp-fivt.org/\n",
      "Connecting to ejudge.atp-fivt.org (ejudge.atp-fivt.org)|87.251.82.74|:443... connected.\n",
      "HTTP request sent, awaiting response... 200 OK\n",
      "Length: 3422 (3,3K) [text/html]\n",
      "Saving to: ‘STDOUT’\n",
      "\n",
      "     0K ...                                                   100%  200M=0s\n",
      "\n",
      "2021-04-16 19:40:54 (200 MB/s) - written to stdout [3422/3422]\n",
      "\n"
     ]
    }
   ],
   "source": [
    "%%bash\n",
    "wget ejudge.atp-fivt.org -O - | head -n 10"
   ]
  },
  {
   "cell_type": "markdown",
   "metadata": {},
   "source": [
    "## <a name=\"get_python\"></a> HTTP из python"
   ]
  },
  {
   "cell_type": "code",
   "execution_count": 71,
   "metadata": {},
   "outputs": [
    {
     "name": "stdout",
     "output_type": "stream",
     "text": [
      "<html>\n",
      "<head>\n",
      "    <title>АКОС ФИВТ МФТИ [Operating Systems at MIPT]</title>\n",
      "    <meta charset=\"utf-8\">\n",
      "    <meta http-equiv=\"X-UA-Compatible\" content=\"IE=edge\">\n",
      "    <meta name=\"viewport\" content=\"widt\n"
     ]
    }
   ],
   "source": [
    "import requests\n",
    "data = requests.get(\"http://ejudge.atp-fivt.org\").content.decode()\n",
    "print(data[:200])"
   ]
  },
  {
   "cell_type": "markdown",
   "metadata": {},
   "source": [
    "## <a name=\"get_c\"></a> HTTP из C\n",
    "\n",
    "Пример от Яковлева. (Ниже более подробно рассмотрим библиотеку)"
   ]
  },
  {
   "cell_type": "code",
   "execution_count": 72,
   "metadata": {},
   "outputs": [
    {
     "data": {
      "text/markdown": [
       "Run: `gcc -Wall curl_easy.c -lcurl -o curl_easy.exe`"
      ],
      "text/plain": [
       "<IPython.core.display.Markdown object>"
      ]
     },
     "metadata": {},
     "output_type": "display_data"
    },
    {
     "data": {
      "text/markdown": [
       "Run: `./curl_easy.exe | head -n 5`"
      ],
      "text/plain": [
       "<IPython.core.display.Markdown object>"
      ]
     },
     "metadata": {},
     "output_type": "display_data"
    },
    {
     "name": "stdout",
     "output_type": "stream",
     "text": [
      "<html>\r",
      "\r\n",
      "<head><title>301 Moved Permanently</title></head>\r",
      "\r\n",
      "<body bgcolor=\"white\">\r",
      "\r\n",
      "<center><h1>301 Moved Permanently</h1></center>\r",
      "\r\n",
      "<hr><center>nginx/1.14.0 (Ubuntu)</center>\r",
      "\r\n"
     ]
    }
   ],
   "source": [
    "%%cpp curl_easy.c\n",
    "%run gcc -Wall curl_easy.c -lcurl -o curl_easy.exe\n",
    "%run ./curl_easy.exe | head -n 5\n",
    "\n",
    "#include <curl/curl.h>\n",
    "#include <assert.h>\n",
    "\n",
    "int main() {\n",
    "    CURL *curl = curl_easy_init();\n",
    "    assert(curl);\n",
    "    \n",
    "    CURLcode res;\n",
    "    curl_easy_setopt(curl, CURLOPT_URL, \"http://ejudge.atp-fivt.org\");\n",
    "    res = curl_easy_perform(curl);\n",
    "    curl_easy_cleanup(curl);\n",
    "    assert(res == 0);\n",
    "    return 0;\n",
    "}"
   ]
  },
  {
   "cell_type": "markdown",
   "metadata": {},
   "source": [
    "#### <a name=\"touch_http\"></a> Потрогаем HTTP  более разнообразно\n",
    "\n"
   ]
  },
  {
   "cell_type": "markdown",
   "metadata": {},
   "source": [
    "Установка: \n",
    "<br>https://install.advancedrestclient.com/ - программка для удобной отправки разнообразных http запросов\n",
    "<br>`pip3 install --user wsgidav cheroot` - webdav сервер"
   ]
  },
  {
   "cell_type": "code",
   "execution_count": 73,
   "metadata": {
    "scrolled": true
   },
   "outputs": [
    {
     "data": {
      "text/html": [
       "\n",
       "        <!--MD_BEGIN_FILTER-->\n",
       "        <script type=text/javascript>\n",
       "        var entrance___interactive_launcher_tmp_598689830438922410_log_obj = 0;\n",
       "        var errors___interactive_launcher_tmp_598689830438922410_log_obj = 0;\n",
       "        function halt__interactive_launcher_tmp_598689830438922410_log_obj(elem, color)\n",
       "        {\n",
       "            elem.setAttribute(\"style\", \"font-size: 14px; background: \" + color + \"; padding: 10px; border: 3px; border-radius: 5px; color: white; \");                    \n",
       "        }\n",
       "        function refresh__interactive_launcher_tmp_598689830438922410_log_obj()\n",
       "        {\n",
       "            entrance___interactive_launcher_tmp_598689830438922410_log_obj -= 1;\n",
       "            if (entrance___interactive_launcher_tmp_598689830438922410_log_obj < 0) {\n",
       "                entrance___interactive_launcher_tmp_598689830438922410_log_obj = 0;\n",
       "            }\n",
       "            var elem = document.getElementById(\"__interactive_launcher_tmp_598689830438922410_log_obj\");\n",
       "            if (elem) {\n",
       "                var xmlhttp=new XMLHttpRequest();\n",
       "                xmlhttp.onreadystatechange=function()\n",
       "                {\n",
       "                    var elem = document.getElementById(\"__interactive_launcher_tmp_598689830438922410_log_obj\");\n",
       "                    console.log(!!elem, xmlhttp.readyState, xmlhttp.status, entrance___interactive_launcher_tmp_598689830438922410_log_obj);\n",
       "                    if (elem && xmlhttp.readyState==4) {\n",
       "                        if (xmlhttp.status==200)\n",
       "                        {\n",
       "                            errors___interactive_launcher_tmp_598689830438922410_log_obj = 0;\n",
       "                            if (!entrance___interactive_launcher_tmp_598689830438922410_log_obj) {\n",
       "                                if (elem.innerHTML != xmlhttp.responseText) {\n",
       "                                    elem.innerHTML = xmlhttp.responseText;\n",
       "                                }\n",
       "                                if (elem.innerHTML.includes(\"Process finished.\")) {\n",
       "                                    halt__interactive_launcher_tmp_598689830438922410_log_obj(elem, \"#333333\");\n",
       "                                } else {\n",
       "                                    entrance___interactive_launcher_tmp_598689830438922410_log_obj += 1;\n",
       "                                    console.log(\"req\");\n",
       "                                    window.setTimeout(\"refresh__interactive_launcher_tmp_598689830438922410_log_obj()\", 300); \n",
       "                                }\n",
       "                            }\n",
       "                            return xmlhttp.responseText;\n",
       "                        } else {\n",
       "                            errors___interactive_launcher_tmp_598689830438922410_log_obj += 1;\n",
       "                            if (!entrance___interactive_launcher_tmp_598689830438922410_log_obj) {\n",
       "                                if (errors___interactive_launcher_tmp_598689830438922410_log_obj < 6) {\n",
       "                                    entrance___interactive_launcher_tmp_598689830438922410_log_obj += 1;\n",
       "                                    console.log(\"req\");\n",
       "                                    window.setTimeout(\"refresh__interactive_launcher_tmp_598689830438922410_log_obj()\", 300); \n",
       "                                } else {\n",
       "                                    halt__interactive_launcher_tmp_598689830438922410_log_obj(elem, \"#994444\");\n",
       "                                }\n",
       "                            }\n",
       "                        }\n",
       "                    }\n",
       "                }\n",
       "                xmlhttp.open(\"GET\", \"./interactive_launcher_tmp/598689830438922410.log\", true);\n",
       "                xmlhttp.setRequestHeader(\"Cache-Control\", \"no-cache\");\n",
       "                xmlhttp.send();     \n",
       "            }\n",
       "        }\n",
       "        \n",
       "        if (!entrance___interactive_launcher_tmp_598689830438922410_log_obj) {\n",
       "            entrance___interactive_launcher_tmp_598689830438922410_log_obj += 1;\n",
       "            refresh__interactive_launcher_tmp_598689830438922410_log_obj(); \n",
       "        }\n",
       "        </script>\n",
       "\n",
       "        <p id=\"__interactive_launcher_tmp_598689830438922410_log_obj\" style=\"font-size: 14px; background: #000000; padding: 10px; border: 3px; border-radius: 5px; color: white; \">\n",
       "        </p>\n",
       "        \n",
       "        </font>\n",
       "        <!--MD_END_FILTER-->\n",
       "        <!--MD_FROM_FILE ./interactive_launcher_tmp/598689830438922410.log.md -->\n",
       "        "
      ],
      "text/plain": [
       "<IPython.core.display.HTML object>"
      ]
     },
     "metadata": {},
     "output_type": "display_data"
    }
   ],
   "source": [
    "!mkdir webdav_dir 2>&1 | grep -v \"File exists\" || true\n",
    "!rm -r webdav_dir/*\n",
    "!echo \"Hello!\" > webdav_dir/file.txt\n",
    "\n",
    "a = TInteractiveLauncher(\"wsgidav --port=9024 --root=./webdav_dir --auth=anonymous --host=0.0.0.0\")\n"
   ]
  },
  {
   "cell_type": "code",
   "execution_count": 74,
   "metadata": {},
   "outputs": [
    {
     "name": "stdout",
     "output_type": "stream",
     "text": [
      "  % Total    % Received % Xferd  Average Speed   Time    Time     Time  Current\r\n",
      "                                 Dload  Upload   Total   Spent    Left  Speed\r\n",
      "\r",
      "  0     0    0     0    0     0      0      0 --:--:-- --:--:-- --:--:--     0\r",
      "100  1580  100  1580    0     0   771k      0 --:--:-- --:--:-- --:--:--  771k\r\n",
      "<!DOCTYPE html>\r\n",
      "<html>\r\n",
      "<head>\r\n",
      "  <meta http-equiv=\"Content-Type\" content=\"text/html; charset=UTF-8\">\r\n"
     ]
    }
   ],
   "source": [
    "!curl localhost:9024 | head -n 4"
   ]
  },
  {
   "cell_type": "code",
   "execution_count": 75,
   "metadata": {},
   "outputs": [
    {
     "name": "stdout",
     "output_type": "stream",
     "text": [
      "<!DOCTYPE HTML PUBLIC '-//W3C//DTD HTML 4.01//EN' 'http://www.w3.org/TR/html4/strict.dtd'>\r\n",
      "<html><head>\r\n",
      "  <meta http-equiv='Content-Type' content='text/html; charset=UTF-8'>\r\n",
      "  <title>201 Created</title>\r\n",
      "</head><body>\r\n",
      "  <h1>201 Created</h1>\r\n",
      "  <p>201 Created</p>\r\n",
      "<hr/>\r\n",
      "<a href='https://github.com/mar10/wsgidav/'>WsgiDAV/3.0.3</a> - 2021-04-16 19:41:06.293315\r\n",
      "</body></html>"
     ]
    }
   ],
   "source": [
    "!curl -X \"PUT\" localhost:9024/curl_added_file.txt --data-binary @curl_easy.c"
   ]
  },
  {
   "cell_type": "code",
   "execution_count": 76,
   "metadata": {},
   "outputs": [
    {
     "name": "stdout",
     "output_type": "stream",
     "text": [
      "<!DOCTYPE HTML PUBLIC '-//W3C//DTD HTML 4.01//EN' 'http://www.w3.org/TR/html4/strict.dtd'>\r\n",
      "<html><head>\r\n",
      "  <meta http-equiv='Content-Type' content='text/html; charset=UTF-8'>\r\n",
      "  <title>201 Created</title>\r\n",
      "</head><body>\r\n",
      "  <h1>201 Created</h1>\r\n",
      "  <p>201 Created</p>\r\n",
      "<hr/>\r\n",
      "<a href='https://github.com/mar10/wsgidav/'>WsgiDAV/3.0.3</a> - 2021-04-16 19:41:06.960067\r\n",
      "</body></html>"
     ]
    }
   ],
   "source": [
    "!curl -X \"COPY\" localhost:9024/curl_added_file.txt -H \"Destination: /curl_added_file_2.txt\""
   ]
  },
  {
   "cell_type": "code",
   "execution_count": 77,
   "metadata": {},
   "outputs": [
    {
     "name": "stdout",
     "output_type": "stream",
     "text": [
      "curl_added_file_2.txt  curl_added_file.txt  file.txt\n",
      "#include <assert.h>\n",
      "\n",
      "int main() {\n",
      "    CURL *curl = curl_easy_init();\n",
      "    assert(curl);\n"
     ]
    }
   ],
   "source": [
    "!ls webdav_dir\n",
    "!cat webdav_dir/curl_added_file.txt | grep main -C 2"
   ]
  },
  {
   "cell_type": "code",
   "execution_count": 78,
   "metadata": {},
   "outputs": [],
   "source": [
    "!curl -X \"DELETE\" localhost:9024/curl_added_file.txt \n",
    "!curl -X \"DELETE\" localhost:9024/curl_added_file_2.txt "
   ]
  },
  {
   "cell_type": "code",
   "execution_count": 79,
   "metadata": {},
   "outputs": [
    {
     "name": "stdout",
     "output_type": "stream",
     "text": [
      "file.txt\r\n"
     ]
    }
   ],
   "source": [
    "!ls webdav_dir"
   ]
  },
  {
   "cell_type": "code",
   "execution_count": 80,
   "metadata": {},
   "outputs": [],
   "source": [
    "os.kill(a.get_pid(), signal.SIGINT)\n",
    "a.close()"
   ]
  },
  {
   "cell_type": "code",
   "execution_count": null,
   "metadata": {},
   "outputs": [],
   "source": []
  },
  {
   "cell_type": "markdown",
   "metadata": {},
   "source": [
    "## libcurl\n",
    "\n",
    "Установка: `sudo apt-get install libcurl4-openssl-dev` (Но это не точно! Воспоминания годичной давности. Напишите мне пожалуйста получится или не получится)\n",
    "\n",
    "Документация: https://curl.haxx.se/libcurl/c/CURLOPT_WRITEFUNCTION.html  \n",
    "Интересный факт: размер chunk'a всегда равен 1.\n",
    "\n",
    "Модифицирпованный пример от Яковлева"
   ]
  },
  {
   "cell_type": "code",
   "execution_count": 81,
   "metadata": {},
   "outputs": [
    {
     "data": {
      "text/markdown": [
       "Run: `gcc -Wall curl_medium.c -lcurl -o curl_medium.exe`"
      ],
      "text/plain": [
       "<IPython.core.display.Markdown object>"
      ]
     },
     "metadata": {},
     "output_type": "display_data"
    },
    {
     "data": {
      "text/markdown": [
       "Run: `./curl_medium.exe \"http://ejudge.atp-fivt.org\" | head -n 5`"
      ],
      "text/plain": [
       "<IPython.core.display.Markdown object>"
      ]
     },
     "metadata": {},
     "output_type": "display_data"
    },
    {
     "name": "stdout",
     "output_type": "stream",
     "text": [
      "<html>\r",
      "\r\n",
      "<head><title>301 Moved Permanently</title></head>\r",
      "\r\n",
      "<body bgcolor=\"white\">\r",
      "\r\n",
      "<center><h1>301 Moved Permanently</h1></center>\r",
      "\r\n",
      "<hr><center>nginx/1.14.0 (Ubuntu)</center>\r",
      "\r\n"
     ]
    }
   ],
   "source": [
    "%%cpp curl_medium.c\n",
    "%run gcc -Wall curl_medium.c -lcurl -o curl_medium.exe\n",
    "%run ./curl_medium.exe \"http://ejudge.atp-fivt.org\" | head -n 5\n",
    "\n",
    "#include <unistd.h>\n",
    "#include <string.h>\n",
    "#include <stdlib.h>\n",
    "#include <assert.h>\n",
    "#include <curl/curl.h>\n",
    "\n",
    "typedef struct {\n",
    "    char *data;\n",
    "    size_t length;\n",
    "    size_t capacity;\n",
    "} buffer_t;\n",
    "\n",
    "static size_t callback_function(\n",
    "    char *ptr, // буфер с прочитанными данными\n",
    "    size_t chunk_size, // размер фрагмента данных; всегда равен 1 \n",
    "    size_t nmemb, // количество фрагментов данных\n",
    "    void *user_data // произвольные данные пользователя\n",
    ") {\n",
    "    buffer_t *buffer = user_data;\n",
    "    size_t total_size = chunk_size * nmemb;\n",
    "    size_t required_capacity = buffer->length + total_size;\n",
    "    if (required_capacity > buffer->capacity) {\n",
    "        required_capacity *= 2;\n",
    "        buffer->data = realloc(buffer->data, required_capacity);\n",
    "        assert(buffer->data);\n",
    "        buffer->capacity = required_capacity;\n",
    "    }\n",
    "    memcpy(buffer->data + buffer->length, ptr, total_size);\n",
    "    buffer->length += total_size;\n",
    "    return total_size;\n",
    "}            \n",
    "\n",
    "int main(int argc, char *argv[]) {\n",
    "    assert(argc == 2);\n",
    "    const char* url = argv[1];\n",
    "    CURL *curl = curl_easy_init();\n",
    "    assert(curl);\n",
    "    \n",
    "    CURLcode res;\n",
    "\n",
    "    // регистрация callback-функции записи\n",
    "    curl_easy_setopt(curl, CURLOPT_WRITEFUNCTION, callback_function);\n",
    "\n",
    "    // указатель &buffer будет передан в callback-функцию\n",
    "    // параметром void *user_data\n",
    "    buffer_t buffer = {.data = NULL, .length = 0, .capacity = 0};\n",
    "    \n",
    "    curl_easy_setopt(curl, CURLOPT_WRITEDATA, &buffer);\n",
    "\n",
    "    curl_easy_setopt(curl, CURLOPT_URL, url);\n",
    "    res = curl_easy_perform(curl);\n",
    "    assert(res == 0);\n",
    "    \n",
    "    write(STDOUT_FILENO, buffer.data, buffer.length);\n",
    "    \n",
    "    free(buffer.data);\n",
    "    curl_easy_cleanup(curl);\n",
    "}"
   ]
  },
  {
   "cell_type": "code",
   "execution_count": null,
   "metadata": {},
   "outputs": [],
   "source": []
  },
  {
   "cell_type": "markdown",
   "metadata": {},
   "source": [
    "## cmake\n",
    "Установка: `apt-get install cmake cmake-extras`"
   ]
  },
  {
   "cell_type": "markdown",
   "metadata": {},
   "source": [
    "#### <a name=\"cmake_simple\"></a> Простой пример\n",
    "\n",
    "Источник: [Введение в CMake / Хабр](https://habr.com/ru/post/155467/). Там же можно найти множество более интересных примеров."
   ]
  },
  {
   "cell_type": "code",
   "execution_count": 82,
   "metadata": {},
   "outputs": [],
   "source": [
    "!mkdir simple_cmake_example 2>&1 | grep -v \"File exists\" || true"
   ]
  },
  {
   "cell_type": "code",
   "execution_count": 83,
   "metadata": {},
   "outputs": [],
   "source": [
    "%%cmake simple_cmake_example/CMakeLists.txt\n",
    "cmake_minimum_required(VERSION 2.8) # Проверка версии CMake.\n",
    "                                    # Если версия установленой программы\n",
    "                                    # старее указаной, произайдёт аварийный выход.\n",
    "\n",
    "add_executable(main main.cpp)       # Создает исполняемый файл с именем main\n",
    "                                    # из исходника main.cpp"
   ]
  },
  {
   "cell_type": "code",
   "execution_count": 84,
   "metadata": {},
   "outputs": [
    {
     "data": {
      "text/markdown": [
       "Run: `mkdir simple_cmake_example/build #// cоздаем директорию для файлов сборки`"
      ],
      "text/plain": [
       "<IPython.core.display.Markdown object>"
      ]
     },
     "metadata": {},
     "output_type": "display_data"
    },
    {
     "data": {
      "text/markdown": [
       "Run: `cd simple_cmake_example/build && cmake .. && make`"
      ],
      "text/plain": [
       "<IPython.core.display.Markdown object>"
      ]
     },
     "metadata": {},
     "output_type": "display_data"
    },
    {
     "name": "stdout",
     "output_type": "stream",
     "text": [
      "CMake Warning (dev) in CMakeLists.txt:\n",
      "  No project() command is present.  The top-level CMakeLists.txt file must\n",
      "  contain a literal, direct call to the project() command.  Add a line of\n",
      "  code such as\n",
      "\n",
      "    project(ProjectName)\n",
      "\n",
      "  near the top of the file, but after cmake_minimum_required().\n",
      "\n",
      "  CMake is pretending there is a \"project(Project)\" command on the first\n",
      "  line.\n",
      "This warning is for project developers.  Use -Wno-dev to suppress it.\n",
      "\n",
      "-- The C compiler identification is GNU 9.3.0\n",
      "-- The CXX compiler identification is GNU 9.3.0\n",
      "-- Check for working C compiler: /usr/bin/cc\n",
      "-- Check for working C compiler: /usr/bin/cc -- works\n",
      "-- Detecting C compiler ABI info\n",
      "-- Detecting C compiler ABI info - done\n",
      "-- Detecting C compile features\n",
      "-- Detecting C compile features - done\n",
      "-- Check for working CXX compiler: /usr/bin/c++\n",
      "-- Check for working CXX compiler: /usr/bin/c++ -- works\n",
      "-- Detecting CXX compiler ABI info\n",
      "-- Detecting CXX compiler ABI info - done\n",
      "-- Detecting CXX compile features\n",
      "-- Detecting CXX compile features - done\n",
      "-- Configuring done\n",
      "-- Generating done\n",
      "-- Build files have been written to: /home/pechatnov/vbox/caos/sem25-http-libcurl-more-cmake/simple_cmake_example/build\n",
      "\u001b[35m\u001b[1mScanning dependencies of target main\u001b[0m\n",
      "[ 50%] \u001b[32mBuilding CXX object CMakeFiles/main.dir/main.cpp.o\u001b[0m\n",
      "[100%] \u001b[32m\u001b[1mLinking CXX executable main\u001b[0m\n",
      "[100%] Built target main\n"
     ]
    },
    {
     "data": {
      "text/markdown": [
       "Run: `simple_cmake_example/build/main #// запускаем собранный бинарь`"
      ],
      "text/plain": [
       "<IPython.core.display.Markdown object>"
      ]
     },
     "metadata": {},
     "output_type": "display_data"
    },
    {
     "name": "stdout",
     "output_type": "stream",
     "text": [
      "Hello, World!\r\n"
     ]
    },
    {
     "data": {
      "text/markdown": [
       "Run: `ls -la simple_cmake_example #// смотрим, а что же теперь есть в основной директории`"
      ],
      "text/plain": [
       "<IPython.core.display.Markdown object>"
      ]
     },
     "metadata": {},
     "output_type": "display_data"
    },
    {
     "name": "stdout",
     "output_type": "stream",
     "text": [
      "total 20\r\n",
      "drwxrwxr-x 3 pechatnov pechatnov 4096 апр 16 19:41 .\r\n",
      "drwxrwxr-x 7 pechatnov pechatnov 4096 апр 16 19:41 ..\r\n",
      "drwxrwxr-x 3 pechatnov pechatnov 4096 апр 16 19:41 build\r\n",
      "-rw-rw-r-- 1 pechatnov pechatnov  523 апр 16 19:41 CMakeLists.txt\r\n",
      "-rw-rw-r-- 1 pechatnov pechatnov  984 апр 16 19:41 main.cpp\r\n"
     ]
    },
    {
     "data": {
      "text/markdown": [
       "Run: `ls -la simple_cmake_example/build #// ... и в директории сборки`"
      ],
      "text/plain": [
       "<IPython.core.display.Markdown object>"
      ]
     },
     "metadata": {},
     "output_type": "display_data"
    },
    {
     "name": "stdout",
     "output_type": "stream",
     "text": [
      "total 60\r\n",
      "drwxrwxr-x 3 pechatnov pechatnov  4096 апр 16 19:41 .\r\n",
      "drwxrwxr-x 3 pechatnov pechatnov  4096 апр 16 19:41 ..\r\n",
      "-rw-rw-r-- 1 pechatnov pechatnov 13959 апр 16 19:41 CMakeCache.txt\r\n",
      "drwxrwxr-x 5 pechatnov pechatnov  4096 апр 16 19:41 CMakeFiles\r\n",
      "-rw-rw-r-- 1 pechatnov pechatnov  1604 апр 16 19:41 cmake_install.cmake\r\n",
      "-rwxrwxr-x 1 pechatnov pechatnov 17320 апр 16 19:41 main\r\n",
      "-rw-rw-r-- 1 pechatnov pechatnov  4962 апр 16 19:41 Makefile\r\n"
     ]
    },
    {
     "data": {
      "text/markdown": [
       "Run: `rm -r simple_cmake_example/build #// удаляем директорию с файлами сборки`"
      ],
      "text/plain": [
       "<IPython.core.display.Markdown object>"
      ]
     },
     "metadata": {},
     "output_type": "display_data"
    }
   ],
   "source": [
    "%%cpp simple_cmake_example/main.cpp\n",
    "%run mkdir simple_cmake_example/build #// cоздаем директорию для файлов сборки\n",
    "%# // переходим в нее, вызываем cmake, чтобы он создал правильный Makefile\n",
    "%# // а затем make, который по Makefile правильно все соберет\n",
    "%run cd simple_cmake_example/build && cmake .. && make  \n",
    "%run simple_cmake_example/build/main #// запускаем собранный бинарь\n",
    "%run ls -la simple_cmake_example #// смотрим, а что же теперь есть в основной директории \n",
    "%run ls -la simple_cmake_example/build #// ... и в директории сборки\n",
    "%run rm -r simple_cmake_example/build #// удаляем директорию с файлами сборки\n",
    "\n",
    "#include <iostream>\n",
    "int main(int argc, char** argv)\n",
    "{\n",
    "    std::cout << \"Hello, World!\" << std::endl;\n",
    "    return 0;\n",
    "}"
   ]
  },
  {
   "cell_type": "markdown",
   "metadata": {},
   "source": [
    "#### <a name=\"cmake_curl\"></a> Пример с libcurl"
   ]
  },
  {
   "cell_type": "code",
   "execution_count": 85,
   "metadata": {},
   "outputs": [
    {
     "name": "stdout",
     "output_type": "stream",
     "text": [
      "mkdir: cannot create directory ‘curl_cmake_example’: File exists\r\n"
     ]
    }
   ],
   "source": [
    "!mkdir curl_cmake_example || true\n",
    "!cp curl_medium.c curl_cmake_example/main.c"
   ]
  },
  {
   "cell_type": "code",
   "execution_count": 86,
   "metadata": {},
   "outputs": [
    {
     "data": {
      "text/markdown": [
       "Run: `mkdir curl_cmake_example/build`"
      ],
      "text/plain": [
       "<IPython.core.display.Markdown object>"
      ]
     },
     "metadata": {},
     "output_type": "display_data"
    },
    {
     "data": {
      "text/markdown": [
       "Run: `cd curl_cmake_example/build && cmake .. && make`"
      ],
      "text/plain": [
       "<IPython.core.display.Markdown object>"
      ]
     },
     "metadata": {},
     "output_type": "display_data"
    },
    {
     "name": "stdout",
     "output_type": "stream",
     "text": [
      "CMake Warning (dev) in CMakeLists.txt:\n",
      "  No project() command is present.  The top-level CMakeLists.txt file must\n",
      "  contain a literal, direct call to the project() command.  Add a line of\n",
      "  code such as\n",
      "\n",
      "    project(ProjectName)\n",
      "\n",
      "  near the top of the file, but after cmake_minimum_required().\n",
      "\n",
      "  CMake is pretending there is a \"project(Project)\" command on the first\n",
      "  line.\n",
      "This warning is for project developers.  Use -Wno-dev to suppress it.\n",
      "\n",
      "-- The C compiler identification is GNU 9.3.0\n",
      "-- The CXX compiler identification is GNU 9.3.0\n",
      "-- Check for working C compiler: /usr/bin/cc\n",
      "-- Check for working C compiler: /usr/bin/cc -- works\n",
      "-- Detecting C compiler ABI info\n",
      "-- Detecting C compiler ABI info - done\n",
      "-- Detecting C compile features\n",
      "-- Detecting C compile features - done\n",
      "-- Check for working CXX compiler: /usr/bin/c++\n",
      "-- Check for working CXX compiler: /usr/bin/c++ -- works\n",
      "-- Detecting CXX compiler ABI info\n",
      "-- Detecting CXX compiler ABI info - done\n",
      "-- Detecting CXX compile features\n",
      "-- Detecting CXX compile features - done\n",
      "-- Found CURL: /usr/lib/x86_64-linux-gnu/libcurl.so (found version \"7.68.0\")  \n",
      "-- Looking for pthread.h\n",
      "-- Looking for pthread.h - found\n",
      "-- Performing Test CMAKE_HAVE_LIBC_PTHREAD\n",
      "-- Performing Test CMAKE_HAVE_LIBC_PTHREAD - Failed\n",
      "-- Looking for pthread_create in pthreads\n",
      "-- Looking for pthread_create in pthreads - not found\n",
      "-- Looking for pthread_create in pthread\n",
      "-- Looking for pthread_create in pthread - found\n",
      "-- Found Threads: TRUE  \n",
      "-- Could NOT find SDL (missing: SDL_LIBRARY SDL_INCLUDE_DIR) \n",
      ">>>>> Failed to find SDL (not a problem)\n",
      "-- Found PkgConfig: /usr/bin/pkg-config (found version \"0.29.1\") \n",
      "-- Checking for module 'fuse3'\n",
      "--   No package 'fuse3' found\n",
      ">>>>> Failed to find FUSE (not a problem)\n",
      "-- Configuring done\n",
      "-- Generating done\n",
      "-- Build files have been written to: /home/pechatnov/vbox/caos/sem25-http-libcurl-more-cmake/curl_cmake_example/build\n",
      "\u001b[35m\u001b[1mScanning dependencies of target main\u001b[0m\n",
      "[ 50%] \u001b[32mBuilding C object CMakeFiles/main.dir/main.c.o\u001b[0m\n",
      "[100%] \u001b[32m\u001b[1mLinking C executable main\u001b[0m\n",
      "[100%] Built target main\n"
     ]
    },
    {
     "data": {
      "text/markdown": [
       "Run: `curl_cmake_example/build/main \"http://ejudge.atp-fivt.org\" | head -n 5 #// запускаем собранный бинарь`"
      ],
      "text/plain": [
       "<IPython.core.display.Markdown object>"
      ]
     },
     "metadata": {},
     "output_type": "display_data"
    },
    {
     "name": "stdout",
     "output_type": "stream",
     "text": [
      "<html>\r",
      "\r\n",
      "<head><title>301 Moved Permanently</title></head>\r",
      "\r\n",
      "<body bgcolor=\"white\">\r",
      "\r\n",
      "<center><h1>301 Moved Permanently</h1></center>\r",
      "\r\n",
      "<hr><center>nginx/1.14.0 (Ubuntu)</center>\r",
      "\r\n"
     ]
    },
    {
     "data": {
      "text/markdown": [
       "Run: `rm -r curl_cmake_example/build`"
      ],
      "text/plain": [
       "<IPython.core.display.Markdown object>"
      ]
     },
     "metadata": {},
     "output_type": "display_data"
    }
   ],
   "source": [
    "%%cmake curl_cmake_example/CMakeLists.txt\n",
    "%run mkdir curl_cmake_example/build \n",
    "%run cd curl_cmake_example/build && cmake .. && make  \n",
    "%run curl_cmake_example/build/main \"http://ejudge.atp-fivt.org\" | head -n 5 #// запускаем собранный бинарь\n",
    "%run rm -r curl_cmake_example/build\n",
    "\n",
    "\n",
    "cmake_minimum_required(VERSION 2.8) \n",
    "\n",
    "set(CMAKE_C_FLAGS \"-std=gnu11\") # дополнительные опции компилятора Си\n",
    "\n",
    "# найти библиотеку CURL; опция REQUIRED означает,\n",
    "# что библиотека является обязательной для сборки проекта,\n",
    "# и если необходимые файлы не будут найдены, cmake\n",
    "# завершит работу с ошибкой\n",
    "find_package(CURL REQUIRED)\n",
    "\n",
    "# это библиотека в проекте не нужна, просто пример, как написать обработку случаев, когда библиотека не найдена\n",
    "find_package(SDL)\n",
    "if(NOT SDL_FOUND)\n",
    "    message(\">>>>> Failed to find SDL (not a problem)\")\n",
    "else()\n",
    "    message(\">>>>> Managed to find SDL, can add include directories, add target libraries\")\n",
    "endif()\n",
    "\n",
    "# это библиотека в проекте не нужна, просто пример, как подключить модуль интеграции с pkg-config\n",
    "find_package(PkgConfig REQUIRED)\n",
    "# и ненужный в этом проекте FUSE через pkg-config\n",
    "pkg_check_modules(\n",
    "  FUSE         # имя префикса для названий выходных переменных\n",
    "  # REQUIRED # опционально можно писать, чтобы было required\n",
    "  fuse3        # имя библиотеки, должен существовать файл fuse3.pc\n",
    ")\n",
    "if(NOT FUSE_FOUND)\n",
    "    message(\">>>>> Failed to find FUSE (not a problem)\")\n",
    "else()\n",
    "    message(\">>>>> Managed to find FUSE, can add include directories, add target libraries\")\n",
    "endif()\n",
    "\n",
    "# добавляем цель собрать исполняемый файл из перечисленных исходнико\n",
    "add_executable(main main.c)\n",
    "            \n",
    "# добавляет в список каталогов для цели main, \n",
    "# которые превратятся в опции -I компилятора для всех \n",
    "# каталогов, которые перечислены в переменной CURL_INCLUDE_DIRECTORIES\n",
    "target_include_directories(main PUBLIC ${CURL_INCLUDE_DIRECTORIES}) \n",
    "# include_directories(${CURL_INCLUDE_DIRECTORIES}) # можно вот так\n",
    "\n",
    "# для цели my_cool_program указываем библиотеки, с которыми\n",
    "# программа будет слинкована (в результате станет опциями -l и -L)\n",
    "target_link_libraries(main ${CURL_LIBRARIES})\n",
    "            "
   ]
  },
  {
   "cell_type": "code",
   "execution_count": null,
   "metadata": {},
   "outputs": [],
   "source": []
  },
  {
   "cell_type": "code",
   "execution_count": null,
   "metadata": {},
   "outputs": [],
   "source": []
  },
  {
   "cell_type": "markdown",
   "metadata": {},
   "source": [
    "# <a name=\"hw\"></a> Комментарии к ДЗ\n",
    "\n",
    "* `Connection: close` - чтобы с вами keep-alive не поддерживали\n",
    "* Комментарий от [Михаила Циона](https://github.com/MVCionOld):\n",
    "<br> От себя хочу добавить про использование `сURL`'a. Одним из хэдеров в  `http`-запросе есть `User-Agent`, которые сигнализирует сайту про, что \"вы\" это то браузер, поисковый бот/скраппер, мобильный телефоны или холодильник. Некоторые сайты нормально открываются в браузере, но при попытке получить исходный `HTML` код с помощью `cURL` эти запросы могут отклоняться. Могут возвращаться коды ответов, например, 403, то есть доступ запрещён.\n",
    "<br> Зачастую боты не несут никакой пользы, но в то же время создают нагрузку на сервис и/или ведут другую вредоносную активность. Насколько мне известно, есть два способа бороться с такими негодяями: проверять `User-Agent` и использование `JavaScript`. Во втором случае это инъекции на куки, асинхронная генерация страницы и тд. Что касается агента - банально денаить конкретные паттерны. У `сURL`'a есть своя строка для агента, в основном меняется только версия, например `curl/7.37.0`.\n",
    "<br> Возможно, кто-то сталкивался с тем, что при написании скраппера основанного на `сURL`'e вы получали `BadRequest` (например, при тестировании задачи **inf21-2**), хотя сайт прекрасно открывался. Это как раз первый случай.\n",
    "<br> Однако, можно менять агента, например, из терминала: \n",
    "<br> `curl -H \"User-Agent: Mozilla/5.0\" url`\n",
    "<br> при использовании `libcurl`:\n",
    "<br> `curl_easy_setopt(curl, CURLOPT_USERAGENT, \"Mozilla/5.0\");`"
   ]
  },
  {
   "cell_type": "code",
   "execution_count": null,
   "metadata": {},
   "outputs": [],
   "source": []
  },
  {
   "cell_type": "code",
   "execution_count": null,
   "metadata": {},
   "outputs": [],
   "source": []
  },
  {
   "cell_type": "code",
   "execution_count": null,
   "metadata": {},
   "outputs": [],
   "source": []
  }
 ],
 "metadata": {
  "kernelspec": {
   "display_name": "Python 3",
   "language": "python",
   "name": "python3"
  },
  "language_info": {
   "codemirror_mode": {
    "name": "ipython",
    "version": 3
   },
   "file_extension": ".py",
   "mimetype": "text/x-python",
   "name": "python",
   "nbconvert_exporter": "python",
   "pygments_lexer": "ipython3",
   "version": "3.8.5"
  }
 },
 "nbformat": 4,
 "nbformat_minor": 2
}
