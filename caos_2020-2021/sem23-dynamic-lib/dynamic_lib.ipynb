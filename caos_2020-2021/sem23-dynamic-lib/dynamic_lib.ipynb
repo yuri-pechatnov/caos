{
 "cells": [
  {
   "cell_type": "code",
   "execution_count": 1,
   "metadata": {},
   "outputs": [
    {
     "data": {
      "application/javascript": [
       "// setup cpp code highlighting\n",
       "IPython.CodeCell.options_default.highlight_modes[\"text/x-c++src\"] = {'reg':[/^%%cpp/]} ;IPython.CodeCell.options_default.highlight_modes[\"text/x-cmake\"] = {'reg':[/^%%cmake/]} ;IPython.CodeCell.options_default.highlight_modes[\"text/x-sql\"] = {'reg':[/^%%sql/]} ;"
      ],
      "text/plain": [
       "<IPython.core.display.Javascript object>"
      ]
     },
     "metadata": {},
     "output_type": "display_data"
    },
    {
     "data": {
      "text/html": [
       "<!-- YANDEX_METRICA_BEGIN -->\n",
       "    <script type=\"text/javascript\" >\n",
       "       (function(m,e,t,r,i,k,a){m[i]=m[i]||function(){(m[i].a=m[i].a||[]).push(arguments)};\n",
       "       m[i].l=1*new Date();k=e.createElement(t),a=e.getElementsByTagName(t)[0],k.async=1,k.src=r,a.parentNode.insertBefore(k,a)})\n",
       "       (window, document, \"script\", \"https://mc.yandex.ru/metrika/tag.js\", \"ym\");\n",
       "\n",
       "       ym(59260609, \"init\", {\n",
       "            clickmap:true,\n",
       "            trackLinks:true,\n",
       "            accurateTrackBounce:true\n",
       "       });\n",
       "    </script>\n",
       "    <noscript><div><img src=\"https://mc.yandex.ru/watch/59260609\" style=\"position:absolute; left:-9999px;\" alt=\"\" /></div></noscript>\n",
       "    <!-- YANDEX_METRICA_END -->"
      ],
      "text/plain": [
       "<IPython.core.display.HTML object>"
      ]
     },
     "metadata": {},
     "output_type": "display_data"
    },
    {
     "data": {
      "text/html": [
       "В этот ноутбук встроен код Яндекс Метрики для сбора статистики использований. Если вы не хотите, чтобы по вам собиралась статистика, исправьте: yandex_metrica_allowed = False<!-- MAGICS_SETUP_PRINTING_END -->"
      ],
      "text/plain": [
       "<IPython.core.display.HTML object>"
      ]
     },
     "metadata": {},
     "output_type": "display_data"
    }
   ],
   "source": [
    "# look at tools/set_up_magics.ipynb\n",
    "yandex_metrica_allowed = True ; get_ipython().run_cell('# one_liner_str\\n\\nget_ipython().run_cell_magic(\\'javascript\\', \\'\\', \\n    \\'// setup cpp code highlighting\\\\n\\'\\n    \\'IPython.CodeCell.options_default.highlight_modes[\"text/x-c++src\"] = {\\\\\\'reg\\\\\\':[/^%%cpp/]} ;\\'\\n    \\'IPython.CodeCell.options_default.highlight_modes[\"text/x-cmake\"] = {\\\\\\'reg\\\\\\':[/^%%cmake/]} ;\\'\\n    \\'IPython.CodeCell.options_default.highlight_modes[\"text/x-sql\"] = {\\\\\\'reg\\\\\\':[/^%%sql/]} ;\\'\\n)\\n\\n# creating magics\\nfrom IPython.core.magic import register_cell_magic, register_line_magic\\nfrom IPython.display import display, Markdown, HTML\\nimport argparse\\nfrom subprocess import Popen, PIPE, STDOUT, check_output\\nimport html\\nimport random\\nimport sys\\nimport os\\nimport re\\nimport signal\\nimport shutil\\nimport shlex\\nimport glob\\nimport time\\n\\n@register_cell_magic\\ndef save_file(args_str, cell, line_comment_start=\"#\"):\\n    parser = argparse.ArgumentParser()\\n    parser.add_argument(\"fname\")\\n    parser.add_argument(\"--ejudge-style\", action=\"store_true\")\\n    parser.add_argument(\"--under-spoiler-threshold\", type=int, default=None)\\n    args = parser.parse_args(args_str.split())\\n    \\n    cell = cell if cell[-1] == \\'\\\\n\\' or args.no_eof_newline else cell + \"\\\\n\"\\n    cmds = []\\n    with open(args.fname, \"w\") as f:\\n        f.write(line_comment_start + \" %%cpp \" + args_str + \"\\\\n\")\\n        for line in cell.split(\"\\\\n\"):\\n            line_to_write = (line if not args.ejudge_style else line.rstrip()) + \"\\\\n\"\\n            if not line.startswith(\"%\"):\\n                f.write(line_to_write)\\n            else:\\n                f.write(line_comment_start + \" \" + line_to_write)\\n                run_prefix = \"%run \"\\n                md_prefix = \"%MD \"\\n                comment_prefix = \"%\" + line_comment_start\\n                if line.startswith(run_prefix):\\n                    cmds.append(line[len(run_prefix):].strip())\\n                elif line.startswith(md_prefix):\\n                    cmds.append(\\'#<MD>\\' + line[len(md_prefix):].strip())\\n                elif line.startswith(comment_prefix):\\n                    cmds.append(\\'#\\' + line[len(comment_prefix):].strip())\\n                else:\\n                    raise Exception(\"Unknown %%save_file subcommand: \\'%s\\'\" % line)\\n                \\n        f.write(\"\" if not args.ejudge_style else line_comment_start + r\" line without \\\\n\")\\n    for cmd in cmds:\\n        if cmd.startswith(\\'#\\'):\\n            if cmd.startswith(\\'#<MD>\\'):\\n                display(Markdown(cmd[5:]))\\n            else:\\n                display(Markdown(\"\\\\#\\\\#\\\\#\\\\# `%s`\" % cmd[1:]))\\n        else:\\n            display(Markdown(\"Run: `%s`\" % cmd))\\n            if args.under_spoiler_threshold:\\n                out = check_output(cmd, stderr=STDOUT, shell=True, universal_newlines=True)\\n                out = out[:-1] if out.endswith(\\'\\\\n\\') else out\\n                out = html.escape(out)\\n                if len(out.split(\\'\\\\n\\')) > args.under_spoiler_threshold:\\n                    out = \"<details> <summary> output </summary> <pre><code>%s</code></pre></details>\" % out\\n                elif out:\\n                    out = \"<pre><code>%s</code></pre>\" % out\\n                if out:\\n                    display(HTML(out))\\n            else:\\n                get_ipython().system(cmd)\\n\\n@register_cell_magic\\ndef cpp(fname, cell):\\n    save_file(fname, cell, \"//\")\\n    \\n@register_cell_magic\\ndef cmake(fname, cell):\\n    save_file(fname, cell, \"#\")\\n\\n@register_cell_magic\\ndef asm(fname, cell):\\n    save_file(fname, cell, \"//\")\\n    \\n@register_cell_magic\\ndef makefile(fname, cell):\\n    fname = fname or \"makefile\"\\n    assert fname.endswith(\"makefile\")\\n    save_file(fname, cell.replace(\" \" * 4, \"\\\\t\"))\\n        \\n@register_line_magic\\ndef p(line):\\n    line = line.strip() \\n    if line[0] == \\'#\\':\\n        display(Markdown(line[1:].strip()))\\n    else:\\n        try:\\n            expr, comment = line.split(\" #\")\\n            display(Markdown(\"`{} = {}`  # {}\".format(expr.strip(), eval(expr), comment.strip())))\\n        except:\\n            display(Markdown(\"{} = {}\".format(line, eval(line))))\\n    \\n    \\ndef show_log_file(file, return_html_string=False):\\n    obj = file.replace(\\'.\\', \\'_\\').replace(\\'/\\', \\'_\\') + \"_obj\"\\n    html_string = \\'\\'\\'\\n        <!--MD_BEGIN_FILTER-->\\n        <script type=text/javascript>\\n        var entrance___OBJ__ = 0;\\n        var errors___OBJ__ = 0;\\n        function halt__OBJ__(elem, color)\\n        {\\n            elem.setAttribute(\"style\", \"font-size: 14px; background: \" + color + \"; padding: 10px; border: 3px; border-radius: 5px; color: white; \");                    \\n        }\\n        function refresh__OBJ__()\\n        {\\n            entrance___OBJ__ -= 1;\\n            if (entrance___OBJ__ < 0) {\\n                entrance___OBJ__ = 0;\\n            }\\n            var elem = document.getElementById(\"__OBJ__\");\\n            if (elem) {\\n                var xmlhttp=new XMLHttpRequest();\\n                xmlhttp.onreadystatechange=function()\\n                {\\n                    var elem = document.getElementById(\"__OBJ__\");\\n                    console.log(!!elem, xmlhttp.readyState, xmlhttp.status, entrance___OBJ__);\\n                    if (elem && xmlhttp.readyState==4) {\\n                        if (xmlhttp.status==200)\\n                        {\\n                            errors___OBJ__ = 0;\\n                            if (!entrance___OBJ__) {\\n                                if (elem.innerHTML != xmlhttp.responseText) {\\n                                    elem.innerHTML = xmlhttp.responseText;\\n                                }\\n                                if (elem.innerHTML.includes(\"Process finished.\")) {\\n                                    halt__OBJ__(elem, \"#333333\");\\n                                } else {\\n                                    entrance___OBJ__ += 1;\\n                                    console.log(\"req\");\\n                                    window.setTimeout(\"refresh__OBJ__()\", 300); \\n                                }\\n                            }\\n                            return xmlhttp.responseText;\\n                        } else {\\n                            errors___OBJ__ += 1;\\n                            if (!entrance___OBJ__) {\\n                                if (errors___OBJ__ < 6) {\\n                                    entrance___OBJ__ += 1;\\n                                    console.log(\"req\");\\n                                    window.setTimeout(\"refresh__OBJ__()\", 300); \\n                                } else {\\n                                    halt__OBJ__(elem, \"#994444\");\\n                                }\\n                            }\\n                        }\\n                    }\\n                }\\n                xmlhttp.open(\"GET\", \"__FILE__\", true);\\n                xmlhttp.setRequestHeader(\"Cache-Control\", \"no-cache\");\\n                xmlhttp.send();     \\n            }\\n        }\\n        \\n        if (!entrance___OBJ__) {\\n            entrance___OBJ__ += 1;\\n            refresh__OBJ__(); \\n        }\\n        </script>\\n\\n        <p id=\"__OBJ__\" style=\"font-size: 14px; background: #000000; padding: 10px; border: 3px; border-radius: 5px; color: white; \">\\n        </p>\\n        \\n        </font>\\n        <!--MD_END_FILTER-->\\n        <!--MD_FROM_FILE __FILE__.md -->\\n        \\'\\'\\'.replace(\"__OBJ__\", obj).replace(\"__FILE__\", file)\\n    if return_html_string:\\n        return html_string\\n    display(HTML(html_string))\\n\\n    \\nclass TInteractiveLauncher:\\n    tmp_path = \"./interactive_launcher_tmp\"\\n    def __init__(self, cmd):\\n        try:\\n            os.mkdir(TInteractiveLauncher.tmp_path)\\n        except:\\n            pass\\n        name = str(random.randint(0, 1e18))\\n        self.inq_path = os.path.join(TInteractiveLauncher.tmp_path, name + \".inq\")\\n        self.log_path = os.path.join(TInteractiveLauncher.tmp_path, name + \".log\")\\n        \\n        os.mkfifo(self.inq_path)\\n        open(self.log_path, \\'w\\').close()\\n        open(self.log_path + \".md\", \\'w\\').close()\\n\\n        self.pid = os.fork()\\n        if self.pid == -1:\\n            print(\"Error\")\\n        if self.pid == 0:\\n            exe_cands = glob.glob(\"../tools/launcher.py\") + glob.glob(\"../../tools/launcher.py\")\\n            assert(len(exe_cands) == 1)\\n            assert(os.execvp(\"python3\", [\"python3\", exe_cands[0], \"-l\", self.log_path, \"-i\", self.inq_path, \"-c\", cmd]) == 0)\\n        self.inq_f = open(self.inq_path, \"w\")\\n        interactive_launcher_opened_set.add(self.pid)\\n        show_log_file(self.log_path)\\n\\n    def write(self, s):\\n        s = s.encode()\\n        assert len(s) == os.write(self.inq_f.fileno(), s)\\n        \\n    def get_pid(self):\\n        n = 100\\n        for i in range(n):\\n            try:\\n                return int(re.findall(r\"PID = (\\\\d+)\", open(self.log_path).readline())[0])\\n            except:\\n                if i + 1 == n:\\n                    raise\\n                time.sleep(0.1)\\n        \\n    def input_queue_path(self):\\n        return self.inq_path\\n        \\n    def wait_stop(self, timeout):\\n        for i in range(int(timeout * 10)):\\n            wpid, status = os.waitpid(self.pid, os.WNOHANG)\\n            if wpid != 0:\\n                return True\\n            time.sleep(0.1)\\n        return False\\n        \\n    def close(self, timeout=3):\\n        self.inq_f.close()\\n        if not self.wait_stop(timeout):\\n            os.kill(self.get_pid(), signal.SIGKILL)\\n            os.waitpid(self.pid, 0)\\n        os.remove(self.inq_path)\\n        # os.remove(self.log_path)\\n        self.inq_path = None\\n        self.log_path = None \\n        interactive_launcher_opened_set.remove(self.pid)\\n        self.pid = None\\n        \\n    @staticmethod\\n    def terminate_all():\\n        if \"interactive_launcher_opened_set\" not in globals():\\n            globals()[\"interactive_launcher_opened_set\"] = set()\\n        global interactive_launcher_opened_set\\n        for pid in interactive_launcher_opened_set:\\n            print(\"Terminate pid=\" + str(pid), file=sys.stderr)\\n            os.kill(pid, signal.SIGKILL)\\n            os.waitpid(pid, 0)\\n        interactive_launcher_opened_set = set()\\n        if os.path.exists(TInteractiveLauncher.tmp_path):\\n            shutil.rmtree(TInteractiveLauncher.tmp_path)\\n    \\nTInteractiveLauncher.terminate_all()\\n   \\nyandex_metrica_allowed = bool(globals().get(\"yandex_metrica_allowed\", False))\\nif yandex_metrica_allowed:\\n    display(HTML(\\'\\'\\'<!-- YANDEX_METRICA_BEGIN -->\\n    <script type=\"text/javascript\" >\\n       (function(m,e,t,r,i,k,a){m[i]=m[i]||function(){(m[i].a=m[i].a||[]).push(arguments)};\\n       m[i].l=1*new Date();k=e.createElement(t),a=e.getElementsByTagName(t)[0],k.async=1,k.src=r,a.parentNode.insertBefore(k,a)})\\n       (window, document, \"script\", \"https://mc.yandex.ru/metrika/tag.js\", \"ym\");\\n\\n       ym(59260609, \"init\", {\\n            clickmap:true,\\n            trackLinks:true,\\n            accurateTrackBounce:true\\n       });\\n    </script>\\n    <noscript><div><img src=\"https://mc.yandex.ru/watch/59260609\" style=\"position:absolute; left:-9999px;\" alt=\"\" /></div></noscript>\\n    <!-- YANDEX_METRICA_END -->\\'\\'\\'))\\n\\ndef make_oneliner():\\n    html_text = \\'(\"В этот ноутбук встроен код Яндекс Метрики для сбора статистики использований. Если вы не хотите, чтобы по вам собиралась статистика, исправьте: yandex_metrica_allowed = False\" if yandex_metrica_allowed else \"\")\\'\\n    html_text += \\' + \"<\"\"!-- MAGICS_SETUP_PRINTING_END -->\"\\'\\n    return \\'\\'.join([\\n        \\'# look at tools/set_up_magics.ipynb\\\\n\\',\\n        \\'yandex_metrica_allowed = True ; get_ipython().run_cell(%s);\\' % repr(one_liner_str),\\n        \\'display(HTML(%s))\\' % html_text,\\n        \\' #\\'\\'MAGICS_SETUP_END\\'\\n    ])\\n       \\n\\n');display(HTML((\"В этот ноутбук встроен код Яндекс Метрики для сбора статистики использований. Если вы не хотите, чтобы по вам собиралась статистика, исправьте: yandex_metrica_allowed = False\" if yandex_metrica_allowed else \"\") + \"<\"\"!-- MAGICS_SETUP_PRINTING_END -->\")) #MAGICS_SETUP_END"
   ]
  },
  {
   "cell_type": "markdown",
   "metadata": {},
   "source": [
    "# Динамические библиотеки\n",
    "\n",
    "\n",
    "<p><a href=\"https://www.youtube.com/watch?v=s3t8wIhj4WA&list=PLjzMm8llUm4AmU6i_hPU0NobgA4VsBowc&index=24\" target=\"_blank\">\n",
    "    <h3>Видеозапись семинара</h3> \n",
    "</a></p>\n",
    "\n",
    "[Ридинг Яковлева](https://github.com/victor-yacovlev/mipt-diht-caos/tree/master/practice/function-pointers)\n",
    "\n",
    "\n",
    "Сегодня в программе:\n",
    "* Создание и подгрузка динамической библиотеки\n",
    "  * <a href=\"#create_dynlib\" style=\"color:#856024\">Создание</a>\n",
    "  * Подгрузка \n",
    "    1. <a href=\"#load_с\" style=\"color:#856024\">При старте средствами OS (динамическая компоновка)</a> \n",
    "    <br> Вот [это](https://www.ibm.com/developerworks/ru/library/l-dynamic-libraries/) можно почитать для понимания, что в этом случае происходит.\n",
    "    2. В произвольный момент времени:\n",
    "      * <a href=\"#load_python\" style=\"color:#856024\">Из python</a> \n",
    "      * <a href=\"#load_с_std\" style=\"color:#856024\">Из программы на С (dlopen)</a> \n",
    "      * <a href=\"#load_с_mmap\" style=\"color:#856024\">Из программы на С с извращениями (mmap)</a> \n",
    "* Нетривиальный пример применения динамических библиотек\n",
    "  <br> <a href=\"#c_interpreter\" style=\"color:#856024\">Развлекаемся и пишем простенький интерпретатор языка C (с поблочным выполнением команд)</a> \n",
    "  \n",
    "  \n",
    "Факты:\n",
    "* Статическая линковка быстрее динамической. И при запуске программы и при непосредственно работе.\n",
    "* https://agner.org/optimize/optimizing_cpp.pdf c155\n",
    "* При компиляции динамической библиотеки неизвестно, где она будет располагаться в памяти, это проблема, так как загруженной библиотеке нужно понимать, где искать функции и глобальные переменные. Есть два решения проблемы, про которые можно почитать [на хабре](https://habr.com/ru/company/badoo/blog/323904/https://habr.com/ru/company/badoo/blog/323904/) (там описан один способ и есть ссылка на описание другого способа).\n",
    "  \n",
    "<a href=\"#hw\" style=\"color:#856024\">Комментарии к ДЗ</a>\n"
   ]
  },
  {
   "cell_type": "markdown",
   "metadata": {},
   "source": [
    "# <a name=\"create_dynlib\"></a> Создание динамической библиотеки "
   ]
  },
  {
   "cell_type": "code",
   "execution_count": 16,
   "metadata": {},
   "outputs": [
    {
     "data": {
      "text/markdown": [
       "`-shared` - создаем *разделяемую* библиотеку"
      ],
      "text/plain": [
       "<IPython.core.display.Markdown object>"
      ]
     },
     "metadata": {},
     "output_type": "display_data"
    },
    {
     "data": {
      "text/markdown": [
       "`-fPIC` - генерируем *позиционно-независимый код* (Positional Independant Code)"
      ],
      "text/plain": [
       "<IPython.core.display.Markdown object>"
      ]
     },
     "metadata": {},
     "output_type": "display_data"
    },
    {
     "data": {
      "text/markdown": [
       "**Скопилируем разделяемую библиотеку:**"
      ],
      "text/plain": [
       "<IPython.core.display.Markdown object>"
      ]
     },
     "metadata": {},
     "output_type": "display_data"
    },
    {
     "data": {
      "text/markdown": [
       "Run: `gcc -Wall -shared -fPIC lib.c -o libsum.so`"
      ],
      "text/plain": [
       "<IPython.core.display.Markdown object>"
      ]
     },
     "metadata": {},
     "output_type": "display_data"
    },
    {
     "data": {
      "text/markdown": [
       "**Выведем символы из скомпилированной библиотеки, фильтруя их по подстроке `sum`**"
      ],
      "text/plain": [
       "<IPython.core.display.Markdown object>"
      ]
     },
     "metadata": {},
     "output_type": "display_data"
    },
    {
     "data": {
      "text/markdown": [
       "Run: `objdump -t libsum.so | grep sum`"
      ],
      "text/plain": [
       "<IPython.core.display.Markdown object>"
      ]
     },
     "metadata": {},
     "output_type": "display_data"
    },
    {
     "name": "stdout",
     "output_type": "stream",
     "text": [
      "libsum.so:     file format elf64-x86-64\n",
      "0000000000001111 g     F .text\t000000000000001e sum_f\n",
      "00000000000010f9 g     F .text\t0000000000000018 sum\n"
     ]
    }
   ],
   "source": [
    "%%cpp lib.c\n",
    "%MD `-shared` - создаем *разделяемую* библиотеку\n",
    "%MD `-fPIC` - генерируем *позиционно-независимый код* (Positional Independant Code)\n",
    "%MD **Скопилируем разделяемую библиотеку:**\n",
    "%run gcc -Wall -shared -fPIC lib.c -o libsum.so\n",
    "%MD **Выведем символы из скомпилированной библиотеки, фильтруя их по подстроке `sum`**\n",
    "%run objdump -t libsum.so | grep sum \n",
    "\n",
    "int sum(int a, int b) {\n",
    "    return a + b;\n",
    "}\n",
    "\n",
    "float sum_f(float a, float b) {\n",
    "    return a + b;\n",
    "}"
   ]
  },
  {
   "cell_type": "markdown",
   "metadata": {},
   "source": [
    "# <a name=\"load_python\"></a> Загрузка динамической библиотеки из python'а"
   ]
  },
  {
   "cell_type": "code",
   "execution_count": 3,
   "metadata": {},
   "outputs": [
    {
     "data": {
      "text/markdown": [
       "`lib.sum(3, 4) = 7`  # По умолчанию считает типы int'ами, поэтому в этом случае все хорошо"
      ],
      "text/plain": [
       "<IPython.core.display.Markdown object>"
      ]
     },
     "metadata": {},
     "output_type": "display_data"
    },
    {
     "data": {
      "text/markdown": [
       "`lib.sum_f(3, 4) = 0`  # А здесь python передает в функцию инты, а она принимает float'ы. Тут может нарушаться соглашение о вызовах и происходить что угодно"
      ],
      "text/plain": [
       "<IPython.core.display.Markdown object>"
      ]
     },
     "metadata": {},
     "output_type": "display_data"
    },
    {
     "data": {
      "text/markdown": [
       "`lib.sum_f(3, 4) = 7.0`  # Теперь все работает хорошо"
      ],
      "text/plain": [
       "<IPython.core.display.Markdown object>"
      ]
     },
     "metadata": {},
     "output_type": "display_data"
    }
   ],
   "source": [
    "import ctypes\n",
    "\n",
    "lib = ctypes.CDLL(\"./libsum.so\")\n",
    "%p lib.sum(3, 4) # По умолчанию считает типы int'ами, поэтому в этом случае все хорошо\n",
    "%p lib.sum_f(3, 4) # А здесь python передает в функцию инты, а она принимает float'ы. Тут может нарушаться соглашение о вызовах и происходить что угодно\n",
    "\n",
    "# Скажем, какие на самом деле типы в сигнатуре функции\n",
    "lib.sum_f.argtypes = [ctypes.c_float, ctypes.c_float]\n",
    "lib.sum_f.restype = ctypes.c_float\n",
    "%p lib.sum_f(3, 4) # Теперь все работает хорошо"
   ]
  },
  {
   "cell_type": "markdown",
   "metadata": {},
   "source": [
    "# <a name=\"load_с\"></a> Загрузка динамической библиотеки из программы на С. Стандартными средствами, автоматически при старте программы"
   ]
  },
  {
   "cell_type": "code",
   "execution_count": 23,
   "metadata": {},
   "outputs": [
    {
     "data": {
      "text/markdown": [
       "`-lsum` - подключаем динамическую библиотеку `libsum.so`"
      ],
      "text/plain": [
       "<IPython.core.display.Markdown object>"
      ]
     },
     "metadata": {},
     "output_type": "display_data"
    },
    {
     "data": {
      "text/markdown": [
       "`-L.` - во время компиляции ищем библиотеку в директории `.`"
      ],
      "text/plain": [
       "<IPython.core.display.Markdown object>"
      ]
     },
     "metadata": {},
     "output_type": "display_data"
    },
    {
     "data": {
      "text/markdown": [
       "`-Wl,-rpath -Wl,'$ORIGIN/'.` - говорим линкеру, чтобы он собрал программу так, чтобы при запуске она искала библиотеку в `'$ORIGIN/'.`. То есть около исполняемого файла программы"
      ],
      "text/plain": [
       "<IPython.core.display.Markdown object>"
      ]
     },
     "metadata": {},
     "output_type": "display_data"
    },
    {
     "data": {
      "text/markdown": [
       "Run: `gcc -Wall -g ld_exec_dynlib_func.c -L. -lsum -Wl,-rpath -Wl,'$ORIGIN/.' -o ld_exec_dynlib_func.exe`"
      ],
      "text/plain": [
       "<IPython.core.display.Markdown object>"
      ]
     },
     "metadata": {},
     "output_type": "display_data"
    },
    {
     "data": {
      "text/markdown": [
       "Run: `./ld_exec_dynlib_func.exe`"
      ],
      "text/plain": [
       "<IPython.core.display.Markdown object>"
      ]
     },
     "metadata": {},
     "output_type": "display_data"
    },
    {
     "name": "stdout",
     "output_type": "stream",
     "text": [
      "sum(1, 1) = 2\r\n",
      "sum(40, 5000) = 5040\r\n",
      "sum_f(1, 1) = 2.00\r\n",
      "sum_f(4.0, 500.1) = 504.10\r\n"
     ]
    }
   ],
   "source": [
    "%%cpp ld_exec_dynlib_func.c\n",
    "%MD `-lsum` - подключаем динамическую библиотеку `libsum.so`\n",
    "%MD `-L.` - во время компиляции ищем библиотеку в директории `.`\n",
    "%MD `-Wl,-rpath -Wl,'$ORIGIN/'.` - говорим линкеру, чтобы он собрал программу так, чтобы при запуске она искала библиотеку в `'$ORIGIN/'.`. То есть около исполняемого файла программы\n",
    "%run gcc -Wall -g ld_exec_dynlib_func.c -L. -lsum -Wl,-rpath -Wl,'$ORIGIN/.' -o ld_exec_dynlib_func.exe\n",
    "%run ./ld_exec_dynlib_func.exe\n",
    "\n",
    "#include <stdio.h>\n",
    "\n",
    "// объявляем функции\n",
    "// ~ #include \"sum.h\"\n",
    "int sum(int a, int b);\n",
    "float sum_f(float a, float b);\n",
    "\n",
    "int main() {  \n",
    "    #define p(stmt, fmt) printf(#stmt \" = \" fmt \"\\n\", stmt);\n",
    "    p(sum(1, 1), \"%d\");\n",
    "    p(sum(40, 5000), \"%d\");\n",
    "    \n",
    "    p(sum_f(1, 1), \"%0.2f\");\n",
    "    p(sum_f(4.0, 500.1), \"%0.2f\");\n",
    "    return 0;\n",
    "}"
   ]
  },
  {
   "cell_type": "code",
   "execution_count": 24,
   "metadata": {},
   "outputs": [
    {
     "name": "stdout",
     "output_type": "stream",
     "text": [
      "\tlinux-vdso.so.1 (0x00007ffcbe540000)\n",
      "\tlibsum.so => /home/pechatnov/vbox/caos/sem23-dynamic-lib/././libsum.so (0x00007f153c391000)\n",
      "\tlibc.so.6 => /lib/x86_64-linux-gnu/libc.so.6 (0x00007f153c185000)\n",
      "\t/lib64/ld-linux-x86-64.so.2 (0x00007f153c39d000)\n",
      "mkdir: cannot create directory ‘tmp’: File exists\n",
      "\tlinux-vdso.so.1 (0x00007ffcac34d000)\n",
      "\tlibsum.so => not found\n",
      "\tlibc.so.6 => /lib/x86_64-linux-gnu/libc.so.6 (0x00007fa104e20000)\n",
      "\t/lib64/ld-linux-x86-64.so.2 (0x00007fa105033000)\n"
     ]
    }
   ],
   "source": [
    "!ldd ld_exec_dynlib_func.exe\n",
    "\n",
    "!mkdir tmp\n",
    "!cp ld_exec_dynlib_func.exe tmp/ld_exec_dynlib_func.exe\n",
    "!ldd tmp/ld_exec_dynlib_func.exe"
   ]
  },
  {
   "cell_type": "markdown",
   "metadata": {},
   "source": [
    "# <a name=\"load_с_std\"></a> Загрузка динамической библиотеки из программы на С в произвольный момент времени, используя стандартные функции"
   ]
  },
  {
   "cell_type": "code",
   "execution_count": 13,
   "metadata": {},
   "outputs": [
    {
     "data": {
      "text/markdown": [
       "`-ldl` - пародоксально, но для подгрузки динамических библиотек, нужно подгрузить динамическую библиотеку"
      ],
      "text/plain": [
       "<IPython.core.display.Markdown object>"
      ]
     },
     "metadata": {},
     "output_type": "display_data"
    },
    {
     "data": {
      "text/markdown": [
       "Run: `gcc -Wall -g stdload_exec_dynlib_func.c -ldl -o stdload_exec_dynlib_func.exe`"
      ],
      "text/plain": [
       "<IPython.core.display.Markdown object>"
      ]
     },
     "metadata": {},
     "output_type": "display_data"
    },
    {
     "data": {
      "text/markdown": [
       "Run: `./stdload_exec_dynlib_func.exe`"
      ],
      "text/plain": [
       "<IPython.core.display.Markdown object>"
      ]
     },
     "metadata": {},
     "output_type": "display_data"
    },
    {
     "name": "stdout",
     "output_type": "stream",
     "text": [
      "sum(1, 1) = 2\r\n",
      "sum(40, 5000) = 5040\r\n",
      "sum_f(1, 1) = 2.00\r\n",
      "sum_f(4.0, 500.1) = 504.10\r\n"
     ]
    }
   ],
   "source": [
    "%%cpp stdload_exec_dynlib_func.c\n",
    "%MD `-ldl` - пародоксально, но для подгрузки динамических библиотек, нужно подгрузить динамическую библиотеку\n",
    "%run gcc -Wall -g stdload_exec_dynlib_func.c -ldl -o stdload_exec_dynlib_func.exe\n",
    "%run ./stdload_exec_dynlib_func.exe\n",
    "\n",
    "#include <stdio.h>\n",
    "#include <stdlib.h>\n",
    "#include <unistd.h>\n",
    "#include <sys/types.h>\n",
    "#include <sys/stat.h>\n",
    "#include <sys/mman.h>\n",
    "#include <fcntl.h>\n",
    "#include <assert.h>\n",
    "#include <dlfcn.h>\n",
    "\n",
    "typedef float (*binary_float_function)(float, float);\n",
    "\n",
    "int main() {  \n",
    "    \n",
    "    void *lib_handle = dlopen(\"./libsum.so\", RTLD_NOW);\n",
    "    if (!lib_handle) {\n",
    "        fprintf(stderr, \"dlopen: %s\\n\", dlerror());\n",
    "        abort();\n",
    "    }\n",
    "   \n",
    "    int (*sum)(int, int) = dlsym(lib_handle, \"sum\");\n",
    "    binary_float_function sum_f = dlsym(lib_handle, \"sum_f\");\n",
    "    \n",
    "    #define p(stmt, fmt) printf(#stmt \" = \" fmt \"\\n\", stmt);\n",
    "    p(sum(1, 1), \"%d\");\n",
    "    p(sum(40, 5000), \"%d\");\n",
    "    \n",
    "    p(sum_f(1, 1), \"%0.2f\");\n",
    "    p(sum_f(4.0, 500.1), \"%0.2f\");\n",
    "    \n",
    "    dlclose(lib_handle);\n",
    "    return 0;\n",
    "}"
   ]
  },
  {
   "cell_type": "markdown",
   "metadata": {},
   "source": [
    "# <a name=\"load_с_std\"></a> Загрузка динамической библиотеки из программы на С в произвольный момент времени, используя mmap\n",
    "\n",
    "В примере отсутствует парсинг elf файла, чтобы выцепить адреса функций. Поэтому они просто захардкожены\n",
    "\n",
    "Так же не производятся релокации. В общем это чисто образовательный пример, в реальности так делать не надо :)"
   ]
  },
  {
   "cell_type": "code",
   "execution_count": 25,
   "metadata": {
    "scrolled": true
   },
   "outputs": [
    {
     "data": {
      "text/markdown": [
       "Run: `gcc -Wall -fsanitize=address -g mmap_exec_dynlib_func.c -o mmap_exec_dynlib_func.exe`"
      ],
      "text/plain": [
       "<IPython.core.display.Markdown object>"
      ]
     },
     "metadata": {},
     "output_type": "display_data"
    },
    {
     "data": {
      "text/markdown": [
       "Run: `./mmap_exec_dynlib_func.exe`"
      ],
      "text/plain": [
       "<IPython.core.display.Markdown object>"
      ]
     },
     "metadata": {},
     "output_type": "display_data"
    },
    {
     "name": "stdout",
     "output_type": "stream",
     "text": [
      "sum(1, 1) = 2\r\n",
      "sum(40, 5000) = 5040\r\n",
      "sum_f(1, 1) = 2.00\r\n",
      "sum_f(4.0, 500.1) = 504.10\r\n"
     ]
    }
   ],
   "source": [
    "%%cpp mmap_exec_dynlib_func.c\n",
    "%run gcc -Wall -fsanitize=address -g mmap_exec_dynlib_func.c -o mmap_exec_dynlib_func.exe\n",
    "%run ./mmap_exec_dynlib_func.exe\n",
    "\n",
    "#include <stdio.h>\n",
    "#include <stdlib.h>\n",
    "#include <unistd.h>\n",
    "#include <sys/types.h>\n",
    "#include <sys/stat.h>\n",
    "#include <sys/mman.h>\n",
    "#include <fcntl.h>\n",
    "#include <assert.h>\n",
    "\n",
    "int main() {\n",
    "    int fd = open(\"libsum.so\", O_RDWR);\n",
    "    struct stat s;\n",
    "    assert(fstat(fd, &s) == 0);\n",
    "    void* mapped = mmap(\n",
    "        /* desired addr, addr = */ NULL, \n",
    "        /* length = */ s.st_size, \n",
    "        /* access attributes, prot = */ PROT_READ | PROT_EXEC | PROT_WRITE, // обратите внимание на PROT_EXEC\n",
    "        /* flags = */ MAP_SHARED,\n",
    "        /* fd = */ fd,\n",
    "        /* offset in file, offset = */ 0\n",
    "    );\n",
    "    assert(close(fd) == 0); // Не забываем закрывать файл (при закрытии регион памяти остается доступным)\n",
    "    if (mapped == MAP_FAILED) {\n",
    "        perror(\"Can't mmap\");\n",
    "        return -1;\n",
    "    }\n",
    " \n",
    "    int (*sum)(int, int) = (void*)((char*)mapped + 0x10f9); // 0x10f9 - тот самый оффсет из objdump'a\n",
    "    float (*sum_f)(float, float) = (void*)((char*)mapped + 0x1111); \n",
    "    \n",
    "    #define p(stmt, fmt) printf(#stmt \" = \" fmt \"\\n\", stmt);\n",
    "    \n",
    "    p(sum(1, 1), \"%d\");\n",
    "    p(sum(40, 5000), \"%d\");\n",
    "    \n",
    "    p(sum_f(1, 1), \"%0.2f\");\n",
    "    p(sum_f(4.0, 500.1), \"%0.2f\");\n",
    "\n",
    "    assert(munmap(\n",
    "        /* mapped addr, addr = */ mapped, \n",
    "        /* length = */ s.st_size\n",
    "    ) == 0);\n",
    "    return 0;\n",
    "}"
   ]
  },
  {
   "cell_type": "markdown",
   "metadata": {},
   "source": [
    "# <a name=\"c_interpreter\"></a> Простенький интерпретатор для С\n",
    "\n",
    "Идея такая: на каждый кусочек кода будем компилировать динамическую библиотеку, подгружать ее, и выполнять из нее функцию, в которой будет этот самый кусочек.\n",
    "\n",
    "Взаимодействие между кусочками через глобальные переменные. (Все кусочки кода выполняются в основном процессе.)\n",
    "\n",
    "Каждая динамическя библиотека компонуется со всеми предыдущими, чтобы видеть их глобальные переменные. Для этого же при загрузке библиотек берется опция RTLD_GLOBAL."
   ]
  },
  {
   "cell_type": "code",
   "execution_count": null,
   "metadata": {},
   "outputs": [],
   "source": []
  },
  {
   "cell_type": "code",
   "execution_count": 30,
   "metadata": {},
   "outputs": [],
   "source": [
    "import os\n",
    "import subprocess\n",
    "import ctypes\n",
    "from textwrap import dedent\n",
    "\n",
    "uniq_counter = globals().get(\"uniq_counter\", 0) + 1\n",
    "libs = []\n",
    "all_includes = []\n",
    "all_variables = []\n",
    "\n",
    "\n",
    "def add_includes_c(includes):\n",
    "    global all_includes\n",
    "    all_includes = list(set(all_includes) | set(includes.split('\\n')))\n",
    "\n",
    "    \n",
    "def declare_c(declaration):\n",
    "    assignment_pos = declaration.find('=')\n",
    "    assignment_pos = assignment_pos if assignment_pos != -1 else len(declaration)\n",
    "    decl_part = declaration[:assignment_pos].rstrip()\n",
    "    var_name_begin = decl_part.rfind(' ')\n",
    "    var_assignment = declaration[var_name_begin:]\n",
    "    interprete_c(var_assignment, variables=[decl_part])\n",
    "\n",
    "    \n",
    "def interprete_c(code=\"\", variables=[]):\n",
    "    func_name = \"lib_func_%d_%d\" % (uniq_counter, len(libs))\n",
    "    source_name = \"./tmp/\" + func_name + \".c\"\n",
    "    lib_name = \"lib\" + func_name + \".so\"\n",
    "    lib_file = \"./tmp/\" + lib_name\n",
    "    includes_list = \"\\n\".join(all_includes)\n",
    "    variables_list = \"; \".join(\"extern \" + v for v in all_variables) + \"; \" + \"; \".join(variables)\n",
    "    out_file = \"./tmp/\" + func_name + \".out\" \n",
    "    err_file = \"./tmp/\" + func_name + \".err\" \n",
    "    lib_code = dedent('''\\\n",
    "        #include <stdio.h>\n",
    "        {includes_list}\n",
    "        {variables_list};\n",
    "        void {func_name}() {{\n",
    "            freopen(\"{err_file}\", \"w\", stderr);\n",
    "            freopen(\"{out_file}\", \"w\", stdout);\n",
    "            {code};\n",
    "            fflush(stderr);\n",
    "            fflush(stdout);\n",
    "        }}\n",
    "        ''').format(**locals())\n",
    "    with open(source_name, \"w\") as f:\n",
    "        f.write(lib_code)\n",
    "    compile_cmd = (\n",
    "        [\"gcc\", \"-Wall\", \"-shared\", \"-fPIC\", source_name, \"-Ltmp\"] + \n",
    "        ['-l' + lib_f for lib_f in libs] + \n",
    "        [\"-Wl,-rpath\", \"-Wl,\" + os.path.join(os.getcwd(), \"tmp\"), \"-o\", lib_file]\n",
    "    )\n",
    "    try:\n",
    "        subprocess.check_output(compile_cmd)\n",
    "    except:\n",
    "        print(\"%s\\n%s\" % (lib_code, \" \".join(compile_cmd)))\n",
    "        get_ipython().run_cell(\"!\" + \" \".join(compile_cmd))\n",
    "        raise\n",
    "    \n",
    "    lib = ctypes.CDLL(lib_file, ctypes.RTLD_GLOBAL)  # RTLD_GLOBAL - важно! Чтобы позднее загруженные либы видели ранее загруженные\n",
    "    func = lib[func_name]\n",
    "    func()\n",
    "    for fname, stream in [(err_file, sys.stderr), (out_file, sys.stdout)]:\n",
    "        with open(fname, \"r\") as f:\n",
    "            txt = f.read()\n",
    "            if txt:\n",
    "                print(txt, file=stream)\n",
    "    libs.append(func_name)\n",
    "    all_variables.extend(variables)\n",
    "    "
   ]
  },
  {
   "cell_type": "code",
   "execution_count": 31,
   "metadata": {
    "scrolled": true
   },
   "outputs": [
    {
     "name": "stdout",
     "output_type": "stream",
     "text": [
      "42\n"
     ]
    },
    {
     "name": "stderr",
     "output_type": "stream",
     "text": [
      "Hello world!\n"
     ]
    }
   ],
   "source": [
    "interprete_c(r'''\n",
    "    printf(\"%d\", 40 + 2); \n",
    "    dprintf(2, \"Hello world!\");\n",
    "''')"
   ]
  },
  {
   "cell_type": "code",
   "execution_count": 32,
   "metadata": {},
   "outputs": [
    {
     "name": "stdout",
     "output_type": "stream",
     "text": [
      "0.500027\n"
     ]
    }
   ],
   "source": [
    "add_includes_c('''\n",
    "    #include <math.h>\"\n",
    "''')\n",
    "interprete_c('''\n",
    "    printf(\"%f\", cos(60.0 / 180 * 3.1415))\n",
    "''')"
   ]
  },
  {
   "cell_type": "code",
   "execution_count": 33,
   "metadata": {},
   "outputs": [],
   "source": [
    "declare_c('''\n",
    "   int a = 4242\n",
    "''')"
   ]
  },
  {
   "cell_type": "code",
   "execution_count": 34,
   "metadata": {},
   "outputs": [
    {
     "name": "stdout",
     "output_type": "stream",
     "text": [
      "1) 4242\n",
      "2) 004242\n",
      "3)   4242\n",
      "4) 4242.00\n"
     ]
    }
   ],
   "source": [
    "interprete_c('''\n",
    "    printf(\"1) %d\", a);\n",
    "''')\n",
    "interprete_c('''\n",
    "    printf(\"2) %06d\", a);\n",
    "''')\n",
    "interprete_c('''\n",
    "    printf(\"3) %6d\", a);\n",
    "''')\n",
    "interprete_c('''\n",
    "    printf(\"4) %0.2f\", (float)a);\n",
    "''')"
   ]
  },
  {
   "cell_type": "code",
   "execution_count": 35,
   "metadata": {},
   "outputs": [
    {
     "name": "stdout",
     "output_type": "stream",
     "text": [
      "a.txt written and closed!\n"
     ]
    }
   ],
   "source": [
    "add_includes_c('''\n",
    "    #include <sys/types.h>\n",
    "    #include <sys/stat.h>\n",
    "    #include <fcntl.h>\n",
    "    #include <unistd.h>\n",
    "''')\n",
    "declare_c('''\n",
    "    int fd = open(\"./a.txt\", O_WRONLY | O_CREAT, 0644)\n",
    "''')\n",
    "interprete_c('''\n",
    "    dprintf(fd, \"Hello students! a = %d\", a);\n",
    "    close(fd);\n",
    "    printf(\"a.txt written and closed!\");\n",
    "''')"
   ]
  },
  {
   "cell_type": "code",
   "execution_count": 36,
   "metadata": {},
   "outputs": [
    {
     "name": "stdout",
     "output_type": "stream",
     "text": [
      "Hello students! a = 4242"
     ]
    }
   ],
   "source": [
    "!cat a.txt"
   ]
  },
  {
   "cell_type": "markdown",
   "metadata": {},
   "source": [
    "# <a name=\"cpp\"></a> Особенности с С++\n",
    "\n",
    "[Itanium C++ ABI](https://itanium-cxx-abi.github.io/cxx-abi/abi.html#mangling) - тут есть про манглинг"
   ]
  },
  {
   "cell_type": "code",
   "execution_count": 79,
   "metadata": {},
   "outputs": [
    {
     "data": {
      "text/markdown": [
       "Run: `g++ -std=c++11 -Wall -shared -fPIC libsumcpp.cpp -o libsumcpp.so # compile shared library`"
      ],
      "text/plain": [
       "<IPython.core.display.Markdown object>"
      ]
     },
     "metadata": {},
     "output_type": "display_data"
    },
    {
     "data": {
      "text/markdown": [
       "Run: `objdump -t libsumcpp.so | grep um`"
      ],
      "text/plain": [
       "<IPython.core.display.Markdown object>"
      ]
     },
     "metadata": {},
     "output_type": "display_data"
    },
    {
     "name": "stdout",
     "output_type": "stream",
     "text": [
      "libsumcpp.so:     file format elf64-x86-64\r\n",
      "00000000000006b0 l     F .text\t0000000000000000 frame_dummy\r\n",
      "0000000000200e70 l     O .init_array\t0000000000000000 __frame_dummy_init_array_entry\r\n",
      "0000000000000000 l    df *ABS*\t0000000000000000 libsumcpp.cpp\r\n",
      "0000000000000722 g     F .text\t0000000000000017 _ZN7TSummerC1Ei\r\n",
      "000000000000073a g     F .text\t0000000000000018 _ZN7TSummer4SumAEi\r\n",
      "0000000000000722 g     F .text\t0000000000000017 _ZN7TSummerC2Ei\r\n",
      "00000000000006e0 g     F .text\t0000000000000014 sum_c\r\n",
      "0000000000000708 g     F .text\t000000000000001a _Z9sum_cpp_fff\r\n",
      "00000000000006f4 g     F .text\t0000000000000014 _Z7sum_cppii\r\n"
     ]
    }
   ],
   "source": [
    "%%cpp libsumcpp.cpp\n",
    "%run g++ -std=c++11 -Wall -shared -fPIC libsumcpp.cpp -o libsumcpp.so # compile shared library\n",
    "%run objdump -t libsumcpp.so | grep um\n",
    "\n",
    "extern \"C\" {\n",
    "    int sum_c(int a, int b) {\n",
    "        return a + b;\n",
    "    }\n",
    "} \n",
    "\n",
    "int sum_cpp(int a, int b) {\n",
    "    return a + b;\n",
    "}\n",
    "\n",
    "float sum_cpp_f(float a, float b) {\n",
    "    return a + b;\n",
    "}\n",
    "\n",
    "class TSummer {\n",
    "public:\n",
    "    TSummer(int a);\n",
    "    int SumA(int b);\n",
    "    int SumB(int b) { return a + b; } // Обратите внимание, этой функции нет в символах [1]\n",
    "    template <typename T>\n",
    "    int SumC(T b) { return a + b; } // И уж тем более этой [1]\n",
    "public:\n",
    "    int a;\n",
    "};\n",
    "\n",
    "TSummer::TSummer(int a_arg): a(a_arg) {}\n",
    "int TSummer::SumA(int b) { return a + b; } "
   ]
  },
  {
   "cell_type": "markdown",
   "metadata": {},
   "source": [
    "##### <a name=\"odr_inline\"></a> Замечание про наличие символов inline-функций в объектных файлах\n",
    "\n",
    "[1] - этих функций нет среди символов в данном запуске. Но в общем случае этого не гарантируется, так как методы класса имеют external linkage (класс не объявлен в анонимном namespace).\n",
    "\n",
    "Но почему же их нет в таблице символов, если у них external linkage? `inline` (в данном случае неявный) позволяет определять функцию в нескольких единицах трансляции при условии, что определение будет одинаковым (смягчается требование [ODR](https://en.cppreference.com/w/cpp/language/definition)). То есть во всех единицах трансляции, где эта, функция используется, она должна быть не просто объявлена, а определена одинаковым образом. Что дает компилятору свободу для оптимизации - он может не создавать символа функции, так как этот символ все равно никому не понадобится для линковки - в других единицах трансляции все равно должно быть такое же определение функции.\n",
    "\n",
    "<details>\n",
    "<summary> Больше деталей про <code>inline</code>\n",
    "    \n",
    "</summary>\n",
    "<p>\n",
    "    \n",
    "`inline` &mdash; это спецификатор [[cppref]](https://en.cppreference.com/w/cpp/language/inline) [[std.dcl.inline]](http://eel.is/c++draft/dcl.inline), используемый для объявления _inline function_ [[cppref]](https://en.cppreference.com/w/cpp/language/inline#Description)[[std.dcl.inline]](http://eel.is/c++draft/dcl.inline#2), и функции, определённые в теле класса, являются inline [[std.class.mcft]](http://eel.is/c++draft/class.mfct#1)[[std.class.friend]](http://eel.is/c++draft/class.friend#6).\n",
    "\n",
    "</p>\n",
    "</details>\n",
    "\n",
    "[Issue по которому добавлено замечение](https://github.com/yuri-pechatnov/caos_2019-2020/issues/1)"
   ]
  },
  {
   "cell_type": "code",
   "execution_count": 83,
   "metadata": {},
   "outputs": [
    {
     "data": {
      "text/markdown": [
       "Run: `gcc -Wall -g use_lib_cpp.c -ldl -o use_lib_cpp.exe`"
      ],
      "text/plain": [
       "<IPython.core.display.Markdown object>"
      ]
     },
     "metadata": {},
     "output_type": "display_data"
    },
    {
     "data": {
      "text/markdown": [
       "Run: `./use_lib_cpp.exe`"
      ],
      "text/plain": [
       "<IPython.core.display.Markdown object>"
      ]
     },
     "metadata": {},
     "output_type": "display_data"
    },
    {
     "name": "stdout",
     "output_type": "stream",
     "text": [
      "sum_c(1, 1) = 2\r\n",
      "sum_c(40, 5000) = 5040\r\n",
      "sum(1, 1) = 2\r\n",
      "sum(40, 5000) = 5040\r\n",
      "sum_f(1, 1) = 2.00\r\n",
      "sum_f(4.0, 500.1) = 504.10\r\n",
      "(constructor(objStorage, 10), sumA(objStorage, 1)) = 11\r\n",
      "(constructor(objStorage, 4000), sumA(objStorage, 20)) = 4020\r\n"
     ]
    }
   ],
   "source": [
    "%%cpp use_lib_cpp.c\n",
    "%run gcc -Wall -g use_lib_cpp.c -ldl -o use_lib_cpp.exe\n",
    "%run ./use_lib_cpp.exe\n",
    "\n",
    "#include <stdio.h>\n",
    "#include <stdlib.h>\n",
    "#include <unistd.h>\n",
    "#include <sys/types.h>\n",
    "#include <sys/stat.h>\n",
    "#include <sys/mman.h>\n",
    "#include <fcntl.h>\n",
    "#include <assert.h>\n",
    "#include <dlfcn.h>\n",
    "\n",
    "int main() {  \n",
    "    \n",
    "    void *lib_handle = dlopen(\"./libsumcpp.so\", RTLD_NOW);\n",
    "    if (!lib_handle) {\n",
    "        fprintf(stderr, \"dlopen: %s\\n\", dlerror());\n",
    "        abort();\n",
    "    }\n",
    "    \n",
    "    int (*sum_c)(int, int) = dlsym(lib_handle, \"sum_c\");\n",
    "    int (*sum)(int, int) = dlsym(lib_handle, \"_Z7sum_cppii\");\n",
    "    float (*sum_f)(float, float) = dlsym(lib_handle, \"_Z9sum_cpp_fff\");\n",
    "    \n",
    "    #define p(stmt, fmt) printf(#stmt \" = \" fmt \"\\n\", stmt);\n",
    "    p(sum_c(1, 1), \"%d\");\n",
    "    p(sum_c(40, 5000), \"%d\");\n",
    "    \n",
    "    p(sum(1, 1), \"%d\");\n",
    "    p(sum(40, 5000), \"%d\");\n",
    "    \n",
    "    p(sum_f(1, 1), \"%0.2f\");\n",
    "    p(sum_f(4.0, 500.1), \"%0.2f\");\n",
    "    \n",
    "    char* objStorage[100];\n",
    "    void (*constructor)(void*, int) = dlsym(lib_handle, \"_ZN7TSummerC1Ei\");\n",
    "    int (*sumA)(void*, int) = dlsym(lib_handle, \"_ZN7TSummer4SumAEi\");\n",
    "    \n",
    "    // f(1, 2, 3) --- , раздяеляет аргументы\n",
    "    // (1, 3) + 3 --- , - operator, (итоговое значение 6)\n",
    "    // p((1, 3) + 3, \"%d\"); // == 6\n",
    "    p((constructor(objStorage, 10), sumA(objStorage, 1)), \"%d\"); // operator , - просто делает выполнеяет все команды и берет возвращаемое значение последней\n",
    "    p((constructor(objStorage, 4000), sumA(objStorage, 20)), \"%d\"); \n",
    "    \n",
    "    dlclose(lib_handle);\n",
    "    return 0;\n",
    "}"
   ]
  },
  {
   "cell_type": "code",
   "execution_count": null,
   "metadata": {},
   "outputs": [],
   "source": []
  },
  {
   "cell_type": "code",
   "execution_count": null,
   "metadata": {},
   "outputs": [],
   "source": []
  },
  {
   "cell_type": "code",
   "execution_count": null,
   "metadata": {},
   "outputs": [],
   "source": []
  },
  {
   "cell_type": "code",
   "execution_count": null,
   "metadata": {},
   "outputs": [],
   "source": []
  },
  {
   "cell_type": "code",
   "execution_count": null,
   "metadata": {},
   "outputs": [],
   "source": []
  },
  {
   "cell_type": "markdown",
   "metadata": {},
   "source": [
    "# <a name=\"hw\"></a> Комментарии к ДЗ\n",
    "\n",
    "* \n",
    "*\n",
    "* inf19-2-posix/dl/cpp-class-loader\n",
    "<br> Задача очень интересная, советую всем сделать :)\n",
    "<br>\n",
    "<br> А теперь, немного информации, чтобы сделать ее было проще. Прежде всего в системе есть заголовочный файл, который можно исклюдить в решении. И вам нужно написать cpp-шник, в котором реализованы объявленные хедере функции.\n",
    "\n",
    "<details>\n",
    "<summary>interfaces.h</summary>\n",
    "\n",
    "```cpp\n",
    "\n",
    "#include <string>\n",
    "\n",
    "class AbstractClass\n",
    "{\n",
    "    friend class ClassLoader;\n",
    "public:\n",
    "    explicit AbstractClass();\n",
    "    ~AbstractClass();\n",
    "protected:\n",
    "    void* newInstanceWithSize(size_t sizeofClass);\n",
    "    struct ClassImpl* pImpl;\n",
    "};\n",
    "\n",
    "template <class T>\n",
    "class Class : public AbstractClass\n",
    "{\n",
    "public:\n",
    "    T* newInstance()\n",
    "    {\n",
    "        size_t classSize = sizeof(T);\n",
    "        void* rawPtr = newInstanceWithSize(classSize);\n",
    "        return reinterpret_cast<T*>(rawPtr);\n",
    "    }\n",
    "};\n",
    "\n",
    "enum class ClassLoaderError {\n",
    "    NoError = 0,\n",
    "    FileNotFound,\n",
    "    LibraryLoadError,\n",
    "    NoClassInLibrary\n",
    "};\n",
    "\n",
    "\n",
    "class ClassLoader\n",
    "{\n",
    "public:\n",
    "    explicit ClassLoader();\n",
    "    AbstractClass* loadClass(const std::string &fullyQualifiedName);\n",
    "    ClassLoaderError lastError() const;\n",
    "    ~ClassLoader();\n",
    "private:\n",
    "    struct ClassLoaderImpl* pImpl;\n",
    "};\n",
    "```\n",
    "</details>\n",
    "\n",
    "<br> Что вообще должно у вас получиться:\n",
    "<br> Пусть у вас в каком-то динамической библиотеке реализован класс:\n",
    "\n",
    "<details>\n",
    "<summary> module.h </summary>\n",
    "\n",
    "```cpp\n",
    "#pragma once\n",
    "\n",
    "class SimpleClass\n",
    "{\n",
    "public:\n",
    "    SimpleClass();\n",
    "};\n",
    "```\n",
    "</details>\n",
    "\n",
    "<details>\n",
    "<summary> module.cpp </summary>\n",
    "\n",
    "```cpp\n",
    "#include \"module.h\"\n",
    "\n",
    "#include <iostream>\n",
    "\n",
    "SimpleClass::SimpleClass()\n",
    "{\n",
    "    std::cout << \"Simple Class constructor called\" << std::endl;\n",
    "}\n",
    "```\n",
    "</details>\n",
    "\n",
    "<br> Вы хотите этот класс загрузить из этой динамической библиотеки:\n",
    "\n",
    "<details>\n",
    "<summary> main.cpp </summary>\n",
    "\n",
    "```cpp\n",
    "#include \"interfaces.h\"\n",
    "\n",
    "#include \"module.h\"\n",
    "\n",
    "static ClassLoader * Loader = nullptr;\n",
    "\n",
    "int testSimpleClass()\n",
    "{\n",
    "    Class<SimpleClass>* c = reinterpret_cast<Class<SimpleClass>*> (\n",
    "\t\tLoader->loadClass(\"SimpleClass\"));\n",
    "    if (c) {\n",
    "        SimpleClass* instance = c->newInstance(); // тут произошел аналог new SimpleClass()\n",
    "        (void)instance; \n",
    "        // над уничтожением объекта в этой задаче думать не нужно\n",
    "        return 0;\n",
    "    }\n",
    "    else {\n",
    "        return 1;\n",
    "    }\n",
    "}\n",
    "\n",
    "\n",
    "int main(int argc, char *argv[])\n",
    "{\n",
    "    Loader = new ClassLoader();\n",
    "    int status = testSimpleClass();\n",
    "    delete Loader;\n",
    "    return status;\n",
    "}\n",
    "\n",
    "```\n",
    "</details>\n"
   ]
  },
  {
   "cell_type": "code",
   "execution_count": null,
   "metadata": {},
   "outputs": [],
   "source": []
  },
  {
   "cell_type": "code",
   "execution_count": null,
   "metadata": {},
   "outputs": [],
   "source": []
  }
 ],
 "metadata": {
  "kernelspec": {
   "display_name": "Python 3",
   "language": "python",
   "name": "python3"
  },
  "language_info": {
   "codemirror_mode": {
    "name": "ipython",
    "version": 3
   },
   "file_extension": ".py",
   "mimetype": "text/x-python",
   "name": "python",
   "nbconvert_exporter": "python",
   "pygments_lexer": "ipython3",
   "version": "3.8.5"
  }
 },
 "nbformat": 4,
 "nbformat_minor": 2
}
