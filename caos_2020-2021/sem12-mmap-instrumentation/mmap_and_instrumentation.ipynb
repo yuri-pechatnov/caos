{
 "cells": [
  {
   "cell_type": "code",
   "execution_count": 1,
   "metadata": {},
   "outputs": [
    {
     "data": {
      "application/javascript": [
       "// setup cpp code highlighting\n",
       "IPython.CodeCell.options_default.highlight_modes[\"text/x-c++src\"] = {'reg':[/^%%cpp/]} ;"
      ],
      "text/plain": [
       "<IPython.core.display.Javascript object>"
      ]
     },
     "metadata": {},
     "output_type": "display_data"
    },
    {
     "data": {
      "text/html": [
       "<!-- YANDEX_METRICA_BEGIN -->\n",
       "    <script type=\"text/javascript\" >\n",
       "       (function(m,e,t,r,i,k,a){m[i]=m[i]||function(){(m[i].a=m[i].a||[]).push(arguments)};\n",
       "       m[i].l=1*new Date();k=e.createElement(t),a=e.getElementsByTagName(t)[0],k.async=1,k.src=r,a.parentNode.insertBefore(k,a)})\n",
       "       (window, document, \"script\", \"https://mc.yandex.ru/metrika/tag.js\", \"ym\");\n",
       "\n",
       "       ym(59260609, \"init\", {\n",
       "            clickmap:true,\n",
       "            trackLinks:true,\n",
       "            accurateTrackBounce:true\n",
       "       });\n",
       "    </script>\n",
       "    <noscript><div><img src=\"https://mc.yandex.ru/watch/59260609\" style=\"position:absolute; left:-9999px;\" alt=\"\" /></div></noscript>\n",
       "    <!-- YANDEX_METRICA_END -->"
      ],
      "text/plain": [
       "<IPython.core.display.HTML object>"
      ]
     },
     "metadata": {},
     "output_type": "display_data"
    },
    {
     "data": {
      "text/html": [
       "В этот ноутбук встроен код Яндекс Метрики для сбора статистики использований. Если вы не хотите, чтобы по вам собиралась статистика, исправьте: yandex_metrica_allowed = False<!-- MAGICS_SETUP_PRINTING_END -->"
      ],
      "text/plain": [
       "<IPython.core.display.HTML object>"
      ]
     },
     "metadata": {},
     "output_type": "display_data"
    }
   ],
   "source": [
    "# look at tools/set_up_magics.ipynb\n",
    "yandex_metrica_allowed = True ; get_ipython().run_cell('# one_liner_str\\n\\nget_ipython().run_cell_magic(\\'javascript\\', \\'\\', \\'// setup cpp code highlighting\\\\nIPython.CodeCell.options_default.highlight_modes[\"text/x-c++src\"] = {\\\\\\'reg\\\\\\':[/^%%cpp/]} ;\\')\\n\\n# creating magics\\nfrom IPython.core.magic import register_cell_magic, register_line_magic\\nfrom IPython.display import display, Markdown, HTML\\nimport argparse\\nfrom subprocess import Popen, PIPE\\nimport random\\nimport sys\\nimport os\\nimport re\\nimport signal\\nimport shutil\\nimport shlex\\nimport glob\\n\\n@register_cell_magic\\ndef save_file(args_str, cell, line_comment_start=\"#\"):\\n    parser = argparse.ArgumentParser()\\n    parser.add_argument(\"fname\")\\n    parser.add_argument(\"--ejudge-style\", action=\"store_true\")\\n    args = parser.parse_args(args_str.split())\\n    \\n    cell = cell if cell[-1] == \\'\\\\n\\' or args.no_eof_newline else cell + \"\\\\n\"\\n    cmds = []\\n    with open(args.fname, \"w\") as f:\\n        f.write(line_comment_start + \" %%cpp \" + args_str + \"\\\\n\")\\n        for line in cell.split(\"\\\\n\"):\\n            line_to_write = (line if not args.ejudge_style else line.rstrip()) + \"\\\\n\"\\n            if line.startswith(\"%\"):\\n                run_prefix = \"%run \"\\n                if line.startswith(run_prefix):\\n                    cmds.append(line[len(run_prefix):].strip())\\n                    f.write(line_comment_start + \" \" + line_to_write)\\n                    continue\\n                run_prefix = \"%# \"\\n                if line.startswith(run_prefix):\\n                    f.write(line_comment_start + \" \" + line_to_write)\\n                    continue\\n                raise Exception(\"Unknown %%save_file subcommand: \\'%s\\'\" % line)\\n            else:\\n                f.write(line_to_write)\\n        f.write(\"\" if not args.ejudge_style else line_comment_start + r\" line without \\\\n\")\\n    for cmd in cmds:\\n        display(Markdown(\"Run: `%s`\" % cmd))\\n        get_ipython().system(cmd)\\n\\n@register_cell_magic\\ndef cpp(fname, cell):\\n    save_file(fname, cell, \"//\")\\n\\n@register_cell_magic\\ndef asm(fname, cell):\\n    save_file(fname, cell, \"//\")\\n    \\n@register_cell_magic\\ndef makefile(fname, cell):\\n    assert not fname\\n    save_file(\"makefile\", cell.replace(\" \" * 4, \"\\\\t\"))\\n        \\n@register_line_magic\\ndef p(line):\\n    try:\\n        expr, comment = line.split(\" #\")\\n        display(Markdown(\"`{} = {}`  # {}\".format(expr.strip(), eval(expr), comment.strip())))\\n    except:\\n        display(Markdown(\"{} = {}\".format(line, eval(line))))\\n        \\ndef show_file(file, clear_at_begin=True, return_html_string=False):\\n    if clear_at_begin:\\n        get_ipython().system(\"truncate --size 0 \" + file)\\n    obj = file.replace(\\'.\\', \\'_\\').replace(\\'/\\', \\'_\\') + \"_obj\"\\n    html_string = \\'\\'\\'\\n        <!--MD_BEGIN_FILTER-->\\n        <script type=text/javascript>\\n        var entrance___OBJ__ = 0;\\n        var errors___OBJ__ = 0;\\n        function refresh__OBJ__()\\n        {\\n            entrance___OBJ__ -= 1;\\n            var elem = document.getElementById(\"__OBJ__\");\\n            if (elem) {\\n                var xmlhttp=new XMLHttpRequest();\\n                xmlhttp.onreadystatechange=function()\\n                {\\n                    var elem = document.getElementById(\"__OBJ__\");\\n                    console.log(!!elem, xmlhttp.readyState, xmlhttp.status, entrance___OBJ__);\\n                    if (elem && xmlhttp.readyState==4) {\\n                        if (xmlhttp.status==200)\\n                        {\\n                            errors___OBJ__ = 0;\\n                            if (!entrance___OBJ__) {\\n                                elem.innerText = xmlhttp.responseText;\\n                                entrance___OBJ__ += 1;\\n                                console.log(\"req\");\\n                                window.setTimeout(\"refresh__OBJ__()\", 300); \\n                            }\\n                            return xmlhttp.responseText;\\n                        } else {\\n                            errors___OBJ__ += 1;\\n                            if (errors___OBJ__ < 10 && !entrance___OBJ__) {\\n                                entrance___OBJ__ += 1;\\n                                console.log(\"req\");\\n                                window.setTimeout(\"refresh__OBJ__()\", 300); \\n                            }\\n                        }\\n                    }\\n                }\\n                xmlhttp.open(\"GET\", \"__FILE__\", true);\\n                xmlhttp.setRequestHeader(\"Cache-Control\", \"no-cache\");\\n                xmlhttp.send();     \\n            }\\n        }\\n        \\n        if (!entrance___OBJ__) {\\n            entrance___OBJ__ += 1;\\n            refresh__OBJ__(); \\n        }\\n        </script>\\n        \\n        <font color=\"white\"> <tt>\\n        <p id=\"__OBJ__\" style=\"font-size: 16px; border:3px #333333 solid; background: #333333; border-radius: 10px; padding: 10px;  \"></p>\\n        </tt> </font>\\n        <!--MD_END_FILTER-->\\n        <!--MD_FROM_FILE __FILE__ -->\\n        \\'\\'\\'.replace(\"__OBJ__\", obj).replace(\"__FILE__\", file)\\n    if return_html_string:\\n        return html_string\\n    display(HTML(html_string))\\n    \\nBASH_POPEN_TMP_DIR = \"./bash_popen_tmp\"\\n    \\ndef bash_popen_terminate_all():\\n    for p in globals().get(\"bash_popen_list\", []):\\n        print(\"Terminate pid=\" + str(p.pid), file=sys.stderr)\\n        p.terminate()\\n    globals()[\"bash_popen_list\"] = []\\n    if os.path.exists(BASH_POPEN_TMP_DIR):\\n        shutil.rmtree(BASH_POPEN_TMP_DIR)\\n\\nbash_popen_terminate_all()  \\n\\ndef bash_popen(cmd):\\n    if not os.path.exists(BASH_POPEN_TMP_DIR):\\n        os.mkdir(BASH_POPEN_TMP_DIR)\\n    h = os.path.join(BASH_POPEN_TMP_DIR, str(random.randint(0, 1e18)))\\n    stdout_file = h + \".out.html\"\\n    stderr_file = h + \".err.html\"\\n    run_log_file = h + \".fin.html\"\\n    \\n    stdout = open(stdout_file, \"wb\")\\n    stdout = open(stderr_file, \"wb\")\\n    \\n    html = \"\"\"\\n    <table width=\"100%\">\\n    <colgroup>\\n       <col span=\"1\" style=\"width: 70px;\">\\n       <col span=\"1\">\\n    </colgroup>    \\n    <tbody>\\n      <tr> <td><b>STDOUT</b></td> <td> {stdout} </td> </tr>\\n      <tr> <td><b>STDERR</b></td> <td> {stderr} </td> </tr>\\n      <tr> <td><b>RUN LOG</b></td> <td> {run_log} </td> </tr>\\n    </tbody>\\n    </table>\\n    \"\"\".format(\\n        stdout=show_file(stdout_file, return_html_string=True),\\n        stderr=show_file(stderr_file, return_html_string=True),\\n        run_log=show_file(run_log_file, return_html_string=True),\\n    )\\n    \\n    cmd = \"\"\"\\n        bash -c {cmd} &\\n        pid=$!\\n        echo \"Process started! pid=${{pid}}\" > {run_log_file}\\n        wait ${{pid}}\\n        echo \"Process finished! exit_code=$?\" >> {run_log_file}\\n    \"\"\".format(cmd=shlex.quote(cmd), run_log_file=run_log_file)\\n    # print(cmd)\\n    display(HTML(html))\\n    \\n    p = Popen([\"bash\", \"-c\", cmd], stdin=PIPE, stdout=stdout, stderr=stdout)\\n    \\n    bash_popen_list.append(p)\\n    return p\\n\\n\\n@register_line_magic\\ndef bash_async(line):\\n    bash_popen(line)\\n    \\n    \\ndef show_log_file(file, return_html_string=False):\\n    obj = file.replace(\\'.\\', \\'_\\').replace(\\'/\\', \\'_\\') + \"_obj\"\\n    html_string = \\'\\'\\'\\n        <!--MD_BEGIN_FILTER-->\\n        <script type=text/javascript>\\n        var entrance___OBJ__ = 0;\\n        var errors___OBJ__ = 0;\\n        function halt__OBJ__(elem, color)\\n        {\\n            elem.setAttribute(\"style\", \"font-size: 14px; background: \" + color + \"; padding: 10px; border: 3px; border-radius: 5px; color: white; \");                    \\n        }\\n        function refresh__OBJ__()\\n        {\\n            entrance___OBJ__ -= 1;\\n            if (entrance___OBJ__ < 0) {\\n                entrance___OBJ__ = 0;\\n            }\\n            var elem = document.getElementById(\"__OBJ__\");\\n            if (elem) {\\n                var xmlhttp=new XMLHttpRequest();\\n                xmlhttp.onreadystatechange=function()\\n                {\\n                    var elem = document.getElementById(\"__OBJ__\");\\n                    console.log(!!elem, xmlhttp.readyState, xmlhttp.status, entrance___OBJ__);\\n                    if (elem && xmlhttp.readyState==4) {\\n                        if (xmlhttp.status==200)\\n                        {\\n                            errors___OBJ__ = 0;\\n                            if (!entrance___OBJ__) {\\n                                if (elem.innerHTML != xmlhttp.responseText) {\\n                                    elem.innerHTML = xmlhttp.responseText;\\n                                }\\n                                if (elem.innerHTML.includes(\"Process finished.\")) {\\n                                    halt__OBJ__(elem, \"#333333\");\\n                                } else {\\n                                    entrance___OBJ__ += 1;\\n                                    console.log(\"req\");\\n                                    window.setTimeout(\"refresh__OBJ__()\", 300); \\n                                }\\n                            }\\n                            return xmlhttp.responseText;\\n                        } else {\\n                            errors___OBJ__ += 1;\\n                            if (!entrance___OBJ__) {\\n                                if (errors___OBJ__ < 6) {\\n                                    entrance___OBJ__ += 1;\\n                                    console.log(\"req\");\\n                                    window.setTimeout(\"refresh__OBJ__()\", 300); \\n                                } else {\\n                                    halt__OBJ__(elem, \"#994444\");\\n                                }\\n                            }\\n                        }\\n                    }\\n                }\\n                xmlhttp.open(\"GET\", \"__FILE__\", true);\\n                xmlhttp.setRequestHeader(\"Cache-Control\", \"no-cache\");\\n                xmlhttp.send();     \\n            }\\n        }\\n        \\n        if (!entrance___OBJ__) {\\n            entrance___OBJ__ += 1;\\n            refresh__OBJ__(); \\n        }\\n        </script>\\n\\n        <p id=\"__OBJ__\" style=\"font-size: 14px; background: #000000; padding: 10px; border: 3px; border-radius: 5px; color: white; \">\\n        </p>\\n        \\n        </font>\\n        <!--MD_END_FILTER-->\\n        <!--MD_FROM_FILE __FILE__.md -->\\n        \\'\\'\\'.replace(\"__OBJ__\", obj).replace(\"__FILE__\", file)\\n    if return_html_string:\\n        return html_string\\n    display(HTML(html_string))\\n\\n    \\nclass TInteractiveLauncher:\\n    tmp_path = \"./interactive_launcher_tmp\"\\n    def __init__(self, cmd):\\n        try:\\n            os.mkdir(TInteractiveLauncher.tmp_path)\\n        except:\\n            pass\\n        name = str(random.randint(0, 1e18))\\n        self.inq_path = os.path.join(TInteractiveLauncher.tmp_path, name + \".inq\")\\n        self.log_path = os.path.join(TInteractiveLauncher.tmp_path, name + \".log\")\\n        \\n        os.mkfifo(self.inq_path)\\n        open(self.log_path, \\'w\\').close()\\n        open(self.log_path + \".md\", \\'w\\').close()\\n\\n        self.pid = os.fork()\\n        if self.pid == -1:\\n            print(\"Error\")\\n        if self.pid == 0:\\n            exe_cands = glob.glob(\"../tools/launcher.py\") + glob.glob(\"../../tools/launcher.py\")\\n            assert(len(exe_cands) == 1)\\n            assert(os.execvp(\"python3\", [\"python3\", exe_cands[0], \"-l\", self.log_path, \"-i\", self.inq_path, \"-c\", cmd]) == 0)\\n        self.inq_f = open(self.inq_path, \"w\")\\n        interactive_launcher_opened_set.add(self.pid)\\n        show_log_file(self.log_path)\\n\\n    def write(self, s):\\n        s = s.encode()\\n        assert len(s) == os.write(self.inq_f.fileno(), s)\\n        \\n    def get_pid(self):\\n        n = 100\\n        for i in range(n):\\n            try:\\n                return int(re.findall(r\"PID = (\\\\d+)\", open(self.log_path).readline())[0])\\n            except:\\n                if i + 1 == n:\\n                    raise\\n                time.sleep(0.1)\\n        \\n    def input_queue_path(self):\\n        return self.inq_path\\n        \\n    def close(self):\\n        self.inq_f.close()\\n        os.waitpid(self.pid, 0)\\n        os.remove(self.inq_path)\\n        # os.remove(self.log_path)\\n        self.inq_path = None\\n        self.log_path = None \\n        interactive_launcher_opened_set.remove(self.pid)\\n        self.pid = None\\n        \\n    @staticmethod\\n    def terminate_all():\\n        if \"interactive_launcher_opened_set\" not in globals():\\n            globals()[\"interactive_launcher_opened_set\"] = set()\\n        global interactive_launcher_opened_set\\n        for pid in interactive_launcher_opened_set:\\n            print(\"Terminate pid=\" + str(pid), file=sys.stderr)\\n            os.kill(pid, signal.SIGKILL)\\n            os.waitpid(pid, 0)\\n        interactive_launcher_opened_set = set()\\n        if os.path.exists(TInteractiveLauncher.tmp_path):\\n            shutil.rmtree(TInteractiveLauncher.tmp_path)\\n    \\nTInteractiveLauncher.terminate_all()\\n   \\nyandex_metrica_allowed = bool(globals().get(\"yandex_metrica_allowed\", False))\\nif yandex_metrica_allowed:\\n    display(HTML(\\'\\'\\'<!-- YANDEX_METRICA_BEGIN -->\\n    <script type=\"text/javascript\" >\\n       (function(m,e,t,r,i,k,a){m[i]=m[i]||function(){(m[i].a=m[i].a||[]).push(arguments)};\\n       m[i].l=1*new Date();k=e.createElement(t),a=e.getElementsByTagName(t)[0],k.async=1,k.src=r,a.parentNode.insertBefore(k,a)})\\n       (window, document, \"script\", \"https://mc.yandex.ru/metrika/tag.js\", \"ym\");\\n\\n       ym(59260609, \"init\", {\\n            clickmap:true,\\n            trackLinks:true,\\n            accurateTrackBounce:true\\n       });\\n    </script>\\n    <noscript><div><img src=\"https://mc.yandex.ru/watch/59260609\" style=\"position:absolute; left:-9999px;\" alt=\"\" /></div></noscript>\\n    <!-- YANDEX_METRICA_END -->\\'\\'\\'))\\n\\ndef make_oneliner():\\n    html_text = \\'(\"В этот ноутбук встроен код Яндекс Метрики для сбора статистики использований. Если вы не хотите, чтобы по вам собиралась статистика, исправьте: yandex_metrica_allowed = False\" if yandex_metrica_allowed else \"\")\\'\\n    html_text += \\' + \"<\"\"!-- MAGICS_SETUP_PRINTING_END -->\"\\'\\n    return \\'\\'.join([\\n        \\'# look at tools/set_up_magics.ipynb\\\\n\\',\\n        \\'yandex_metrica_allowed = True ; get_ipython().run_cell(%s);\\' % repr(one_liner_str),\\n        \\'display(HTML(%s))\\' % html_text,\\n        \\' #\\'\\'MAGICS_SETUP_END\\'\\n    ])\\n       \\n\\n');display(HTML((\"В этот ноутбук встроен код Яндекс Метрики для сбора статистики использований. Если вы не хотите, чтобы по вам собиралась статистика, исправьте: yandex_metrica_allowed = False\" if yandex_metrica_allowed else \"\") + \"<\"\"!-- MAGICS_SETUP_PRINTING_END -->\")) #MAGICS_SETUP_END"
   ]
  },
  {
   "cell_type": "markdown",
   "metadata": {},
   "source": [
    "# Инструментирование в linux и mmap\n",
    "\n",
    "<p><a href=\"https://www.youtube.com/watch?v=R_P4FSxH1AY&list=PLjzMm8llUm4AmU6i_hPU0NobgA4VsBowc&index=13\" target=\"_blank\">\n",
    "    <h3>Видеозапись семинара</h3> \n",
    "</a></p>\n",
    "\n",
    "\n",
    "[Ридинг Яковлева](https://github.com/victor-yacovlev/mipt-diht-caos/tree/master/practice/mmap) \n",
    "\n",
    "\n",
    "Сегодня в программе:\n",
    "* <a href=\"#instr\" style=\"color:#856024\"> Инструментирование </a>  \n",
    "  * <a href=\"#asan\" style=\"color:#856024\"> ASAN: Обнаружение проездов по памяти </a>  \n",
    "  * <a href=\"#asan_gdb\" style=\"color:#856024\"> ASAN+GDB: Обнаружение проездов по памяти </a>  \n",
    "  * <a href=\"#gdb\" style=\"color:#856024\"> GDB: Обнаружение проездов по памяти </a>  \n",
    "  * <a href=\"#valgrind\" style=\"color:#856024\"> VALGRIND: Обнаружение проездов по памяти </a>  \n",
    "  * <a href=\"#valgrind_leak\" style=\"color:#856024\"> VALGRIND: Обнаружение утечек памяти </a>  \n",
    "  * <a href=\"#asan_leak\" style=\"color:#856024\"> ASAN: Обнаружение утечек памяти </a>  \n",
    "  * <a href=\"#strace\" style=\"color:#856024\"> STRACE: Отладка системных вызовов </a>  \n",
    "  * <a href=\"#perf\" style=\"color:#856024\"> PERF: CPU профайлинг </a>  \n",
    "  * <a href=\"#ubsan\" style=\"color:#856024\"> UBSAN: Поиск UB </a>  \n",
    "* <a href=\"#mmap\" style=\"color:#856024\"> MMAP </a>  \n",
    "* <a href=\"#hw\" style=\"color:#856024\"> Комментарии к ДЗ </a>  \n",
    "\n",
    "\n",
    "\n"
   ]
  },
  {
   "cell_type": "markdown",
   "metadata": {},
   "source": [
    "## <a name=\"instr\"></a> Инструментирование\n",
    "\n",
    "Что это такое? Можно считать, что отладка. Получение информации о работающей программе и вмешательство в ее работу. Или не о программе, а о ядре системы. Известный вам пример - gdb.\n",
    "\n",
    "Инструментарий для отладки\n",
    "* Статический - прям в коде: счетчики, метрики (пример: санитайзеры)\n",
    "  * Оверхед\n",
    "  * Занимают место в коде\n",
    "  * Много может, так как имеет много возможностей\n",
    "  \n",
    "* Динамический - над кодом (примеры: gdb, strace, valgrind, perf, [eBPF](https://habr.com/ru/post/435142/))\n",
    "  * Динамически можно выбирать, на что смотреть\n",
    "  * ...\n",
    "\n",
    "Разные подходы к инструментированию:\n",
    "* Трейсинг - обрабатывать события. (пример: strace)\n",
    "* Семплинг - условно смотреть состояние системы 100 раз в секунду. (пример: perf)"
   ]
  },
  {
   "cell_type": "markdown",
   "metadata": {},
   "source": [
    "### <a name=\"asan\"></a> ASAN: Примеры использования address-санитайзера для обнаружения проезда по памяти"
   ]
  },
  {
   "cell_type": "code",
   "execution_count": 2,
   "metadata": {},
   "outputs": [],
   "source": [
    "%%cpp segfault.cpp\n",
    "\n",
    "#include<stdio.h>\n",
    "\n",
    "int main() {\n",
    "    int a[2];\n",
    "    printf(\"%d\\n\", a[100500]); // проезд по памяти\n",
    "}"
   ]
  },
  {
   "cell_type": "code",
   "execution_count": 36,
   "metadata": {},
   "outputs": [
    {
     "name": "stdout",
     "output_type": "stream",
     "text": [
      "Segmentation fault (core dumped)\r\n"
     ]
    }
   ],
   "source": [
    "# компилируем и запускаем как обычно\n",
    "!gcc segfault.cpp -o segfault.exe\n",
    "!./segfault.exe"
   ]
  },
  {
   "cell_type": "code",
   "execution_count": 128,
   "metadata": {
    "scrolled": true
   },
   "outputs": [
    {
     "name": "stdout",
     "output_type": "stream",
     "text": [
      "==41369==AddressSanitizer: libc interceptors initialized\r\n",
      "|| `[0x10007fff8000, 0x7fffffffffff]` || HighMem    ||\r\n",
      "|| `[0x02008fff7000, 0x10007fff7fff]` || HighShadow ||\r\n",
      "|| `[0x00008fff7000, 0x02008fff6fff]` || ShadowGap  ||\r\n",
      "|| `[0x00007fff8000, 0x00008fff6fff]` || LowShadow  ||\r\n",
      "|| `[0x000000000000, 0x00007fff7fff]` || LowMem     ||\r\n",
      "MemToShadow(shadow): 0x00008fff7000 0x000091ff6dff 0x004091ff6e00 0x02008fff6fff\r\n",
      "redzone=16\r\n",
      "max_redzone=2048\r\n",
      "quarantine_size_mb=256M\r\n",
      "thread_local_quarantine_size_kb=1024K\r\n",
      "malloc_context_size=30\r\n",
      "SHADOW_SCALE: 3\r\n",
      "SHADOW_GRANULARITY: 8\r\n",
      "SHADOW_OFFSET: 0x7fff8000\r\n",
      "==41369==Installed the sigaction for signal 11\r\n",
      "==41369==Installed the sigaction for signal 7\r\n",
      "==41369==Installed the sigaction for signal 8\r\n",
      "==41369==T0: stack [0x7fff473ce000,0x7fff47bce000) size 0x800000; local=0x7fff47bcc0d4\r\n",
      "==41369==AddressSanitizer Init done\r\n",
      "AddressSanitizer:DEADLYSIGNAL\r\n",
      "=================================================================\r\n",
      "\u001b[1m\u001b[31m==41369==ERROR: AddressSanitizer: SEGV on unknown address 0x7fff47c2e2b0 (pc 0x55ff22dd22e4 bp 0x7fff47bcc0c0 sp 0x7fff47bcc040 T0)\r\n",
      "\u001b[1m\u001b[0m==41369==The signal is caused by a READ memory access.\r\n",
      "    #0 0x55ff22dd22e3 in main (/home/pechatnov/vbox/caos/sem12-mmap-instrumentation/segfault.exe+0x12e3)\r\n",
      "    #1 0x7ff684ba50b2 in __libc_start_main (/lib/x86_64-linux-gnu/libc.so.6+0x270b2)\r\n",
      "    #2 0x55ff22dd216d in _start (/home/pechatnov/vbox/caos/sem12-mmap-instrumentation/segfault.exe+0x116d)\r\n",
      "\r\n",
      "AddressSanitizer can not provide additional info.\r\n",
      "SUMMARY: AddressSanitizer: SEGV (/home/pechatnov/vbox/caos/sem12-mmap-instrumentation/segfault.exe+0x12e3) in main\r\n",
      "==41369==ABORTING\r\n"
     ]
    }
   ],
   "source": [
    "# компилируем с санитайзером и запускаем как обычно (семинарист рекомендует)\n",
    "!gcc -fsanitize=address segfault.cpp -o segfault.exe\n",
    "!./segfault.exe"
   ]
  },
  {
   "cell_type": "code",
   "execution_count": null,
   "metadata": {},
   "outputs": [],
   "source": []
  },
  {
   "cell_type": "markdown",
   "metadata": {},
   "source": [
    "Про многословность выхлопа ASAN."
   ]
  },
  {
   "cell_type": "code",
   "execution_count": 131,
   "metadata": {},
   "outputs": [
    {
     "data": {
      "text/markdown": [
       "Run: `gcc -fsanitize=address normal_program.cpp -o normal_program.exe`"
      ],
      "text/plain": [
       "<IPython.core.display.Markdown object>"
      ]
     },
     "metadata": {},
     "output_type": "display_data"
    }
   ],
   "source": [
    "%%cpp normal_program.cpp\n",
    "%run gcc -fsanitize=address normal_program.cpp -o normal_program.exe\n",
    "\n",
    "int main() {\n",
    "    return 0;\n",
    "}"
   ]
  },
  {
   "cell_type": "code",
   "execution_count": 138,
   "metadata": {},
   "outputs": [],
   "source": [
    "!./normal_program.exe"
   ]
  },
  {
   "cell_type": "code",
   "execution_count": 136,
   "metadata": {
    "scrolled": true
   },
   "outputs": [
    {
     "name": "stdout",
     "output_type": "stream",
     "text": [
      "==41392==info->dlpi_name = \tinfo->dlpi_addr = 0x557f4e0b2000\r\n",
      "==41392==info->dlpi_name = linux-vdso.so.1\tinfo->dlpi_addr = 0x7ffdfbbfa000\r\n",
      "==41392==info->dlpi_name = /lib/x86_64-linux-gnu/libasan.so.5\tinfo->dlpi_addr = 0x7fb03dada000\r\n",
      "==41392==AddressSanitizer: libc interceptors initialized\r\n",
      "|| `[0x10007fff8000, 0x7fffffffffff]` || HighMem    ||\r\n",
      "|| `[0x02008fff7000, 0x10007fff7fff]` || HighShadow ||\r\n",
      "|| `[0x00008fff7000, 0x02008fff6fff]` || ShadowGap  ||\r\n",
      "|| `[0x00007fff8000, 0x00008fff6fff]` || LowShadow  ||\r\n",
      "|| `[0x000000000000, 0x00007fff7fff]` || LowMem     ||\r\n",
      "MemToShadow(shadow): 0x00008fff7000 0x000091ff6dff 0x004091ff6e00 0x02008fff6fff\r\n",
      "redzone=16\r\n",
      "max_redzone=2048\r\n",
      "quarantine_size_mb=256M\r\n",
      "thread_local_quarantine_size_kb=1024K\r\n",
      "malloc_context_size=30\r\n",
      "SHADOW_SCALE: 3\r\n",
      "SHADOW_GRANULARITY: 8\r\n",
      "SHADOW_OFFSET: 0x7fff8000\r\n",
      "==41392==Installed the sigaction for signal 11\r\n",
      "==41392==Installed the sigaction for signal 7\r\n",
      "==41392==Installed the sigaction for signal 8\r\n",
      "==41392==SetCurrentThread: 0x7fb03e50f000 for thread 0x7fb03d745780\r\n",
      "==41392==T0: stack [0x7ffdfb274000,0x7ffdfba74000) size 0x800000; local=0x7ffdfba71d64\r\n",
      "==41392==Using libbacktrace symbolizer.\r\n",
      "==41392==AddressSanitizer Init done\r\n",
      "==41393==Attached to thread 41392.\r\n",
      "==41393==Detached from thread 41392.\r\n"
     ]
    }
   ],
   "source": [
    "!ASAN_OPTIONS=verbosity=10 ./normal_program.exe"
   ]
  },
  {
   "cell_type": "code",
   "execution_count": 139,
   "metadata": {},
   "outputs": [
    {
     "name": "stdout",
     "output_type": "stream",
     "text": [
      "AddressSanitizer:DEADLYSIGNAL\r\n",
      "=================================================================\r\n",
      "\u001b[1m\u001b[31m==41402==ERROR: AddressSanitizer: SEGV on unknown address 0x7fff9f822660 (pc 0x55f79f4032e4 bp 0x7fff9f7c0470 sp 0x7fff9f7c03f0 T0)\r\n",
      "\u001b[1m\u001b[0m==41402==The signal is caused by a READ memory access.\r\n",
      "    #0 0x55f79f4032e3 in main (/home/pechatnov/vbox/caos/sem12-mmap-instrumentation/segfault.exe+0x12e3)\r\n",
      "    #1 0x7f1ec92220b2 in __libc_start_main (/lib/x86_64-linux-gnu/libc.so.6+0x270b2)\r\n",
      "    #2 0x55f79f40316d in _start (/home/pechatnov/vbox/caos/sem12-mmap-instrumentation/segfault.exe+0x116d)\r\n",
      "\r\n",
      "AddressSanitizer can not provide additional info.\r\n",
      "SUMMARY: AddressSanitizer: SEGV (/home/pechatnov/vbox/caos/sem12-mmap-instrumentation/segfault.exe+0x12e3) in main\r\n",
      "==41402==ABORTING\r\n"
     ]
    }
   ],
   "source": [
    "!./segfault.exe"
   ]
  },
  {
   "cell_type": "code",
   "execution_count": 140,
   "metadata": {},
   "outputs": [
    {
     "name": "stdout",
     "output_type": "stream",
     "text": [
      "==41404==info->dlpi_name = \tinfo->dlpi_addr = 0x55aa8b336000\r\n",
      "==41404==info->dlpi_name = linux-vdso.so.1\tinfo->dlpi_addr = 0x7ffcfef39000\r\n",
      "==41404==info->dlpi_name = /lib/x86_64-linux-gnu/libasan.so.5\tinfo->dlpi_addr = 0x7fad4a904000\r\n",
      "==41404==AddressSanitizer: libc interceptors initialized\r\n",
      "|| `[0x10007fff8000, 0x7fffffffffff]` || HighMem    ||\r\n",
      "|| `[0x02008fff7000, 0x10007fff7fff]` || HighShadow ||\r\n",
      "|| `[0x00008fff7000, 0x02008fff6fff]` || ShadowGap  ||\r\n",
      "|| `[0x00007fff8000, 0x00008fff6fff]` || LowShadow  ||\r\n",
      "|| `[0x000000000000, 0x00007fff7fff]` || LowMem     ||\r\n",
      "MemToShadow(shadow): 0x00008fff7000 0x000091ff6dff 0x004091ff6e00 0x02008fff6fff\r\n",
      "redzone=16\r\n",
      "max_redzone=2048\r\n",
      "quarantine_size_mb=256M\r\n",
      "thread_local_quarantine_size_kb=1024K\r\n",
      "malloc_context_size=30\r\n",
      "SHADOW_SCALE: 3\r\n",
      "SHADOW_GRANULARITY: 8\r\n",
      "SHADOW_OFFSET: 0x7fff8000\r\n",
      "==41404==Installed the sigaction for signal 11\r\n",
      "==41404==Installed the sigaction for signal 7\r\n",
      "==41404==Installed the sigaction for signal 8\r\n",
      "==41404==SetCurrentThread: 0x7fad4b339000 for thread 0x7fad4a56f780\r\n",
      "==41404==T0: stack [0x7ffcfe6b3000,0x7ffcfeeb3000) size 0x800000; local=0x7ffcfeeb1444\r\n",
      "==41404==Using libbacktrace symbolizer.\r\n",
      "==41404==AddressSanitizer Init done\r\n",
      "AddressSanitizer:DEADLYSIGNAL\r\n",
      "=================================================================\r\n",
      "\u001b[1m\u001b[31m==41404==ERROR: AddressSanitizer: SEGV on unknown address 0x7ffcfef13620 (pc 0x55aa8b3372e4 bp 0x7ffcfeeb1430 sp 0x7ffcfeeb13b0 T0)\r\n",
      "\u001b[1m\u001b[0m==41404==The signal is caused by a READ memory access.\r\n",
      "    #0 0x55aa8b3372e3 in main (/home/pechatnov/vbox/caos/sem12-mmap-instrumentation/segfault.exe+0x12e3)\r\n",
      "    #1 0x7fad4a7390b2 in __libc_start_main (/lib/x86_64-linux-gnu/libc.so.6+0x270b2)\r\n",
      "    #2 0x55aa8b33716d in _start (/home/pechatnov/vbox/caos/sem12-mmap-instrumentation/segfault.exe+0x116d)\r\n",
      "\r\n",
      "AddressSanitizer can not provide additional info.\r\n",
      "SUMMARY: AddressSanitizer: SEGV (/home/pechatnov/vbox/caos/sem12-mmap-instrumentation/segfault.exe+0x12e3) in main\r\n",
      "==41404==ABORTING\r\n"
     ]
    }
   ],
   "source": [
    "!ASAN_OPTIONS=verbosity=10 ./segfault.exe"
   ]
  },
  {
   "cell_type": "code",
   "execution_count": null,
   "metadata": {},
   "outputs": [],
   "source": []
  },
  {
   "cell_type": "code",
   "execution_count": null,
   "metadata": {},
   "outputs": [],
   "source": []
  },
  {
   "cell_type": "markdown",
   "metadata": {},
   "source": [
    "### <a name=\"asan_gdb\"></a> ASAN+GDB: Обнаружение проезда по памяти с address-санитайзера скомбинированного с запуском под GDB"
   ]
  },
  {
   "cell_type": "code",
   "execution_count": 5,
   "metadata": {},
   "outputs": [
    {
     "name": "stdout",
     "output_type": "stream",
     "text": [
      "[Thread debugging using libthread_db enabled]\n",
      "Using host libthread_db library \"/lib/x86_64-linux-gnu/libthread_db.so.1\".\n",
      "\n",
      "Program received signal SIGSEGV, Segmentation fault.\n",
      "0x00005555555552c8 in main () at segfault.cpp:7\n",
      "7\t    printf(\"%d\\n\", a[100500]); // проезд по памяти\n"
     ]
    }
   ],
   "source": [
    "# комбинируем санитайзер и gdb (это семинарист рекомендует, если вы хотите больше подробностей)\n",
    "# по идее это должно находить больше косяков, чем вариант в следующей ячейке\n",
    "!gcc -g -fsanitize=address segfault.cpp -o segfault.exe\n",
    "!gdb -ex=r -batch --args ./segfault.exe"
   ]
  },
  {
   "cell_type": "markdown",
   "metadata": {},
   "source": [
    "### <a name=\"gdb\"></a> GDB: Обнаружение проезда по памяти с помощью GDB"
   ]
  },
  {
   "cell_type": "code",
   "execution_count": 6,
   "metadata": {
    "scrolled": false
   },
   "outputs": [
    {
     "name": "stdout",
     "output_type": "stream",
     "text": [
      "\r\n",
      "Program received signal SIGBUS, Bus error.\r\n",
      "main () at segfault.cpp:7\r\n",
      "7\t    printf(\"%d\\n\", a[100500]); // проезд по памяти\r\n"
     ]
    }
   ],
   "source": [
    "# компилируем с отладочной информацией и запускаем под gdb\n",
    "!gcc -g segfault.cpp -o segfault.exe\n",
    "!gdb -ex=r -batch --args ./segfault.exe"
   ]
  },
  {
   "cell_type": "markdown",
   "metadata": {},
   "source": [
    "### <a name=\"valgrind\"></a> VALGRIND: Обнаружение проезда по памяти с помощью valgrind"
   ]
  },
  {
   "cell_type": "code",
   "execution_count": 7,
   "metadata": {
    "scrolled": true
   },
   "outputs": [
    {
     "name": "stdout",
     "output_type": "stream",
     "text": [
      "==2849== Memcheck, a memory error detector\n",
      "==2849== Copyright (C) 2002-2017, and GNU GPL'd, by Julian Seward et al.\n",
      "==2849== Using Valgrind-3.15.0 and LibVEX; rerun with -h for copyright info\n",
      "==2849== Command: ./segfault.exe\n",
      "==2849== \n",
      "==2849== Invalid read of size 4\n",
      "==2849==    at 0x109184: main (in /home/pechatnov/vbox/caos/sem12-mmap-instrumentation/segfault.exe)\n",
      "==2849==  Address 0x1fff061f00 is not stack'd, malloc'd or (recently) free'd\n",
      "Segmentation fault (core dumped)\n"
     ]
    }
   ],
   "source": [
    "# компилируем как обычно и запускаем с valgrind\n",
    "!gcc segfault.cpp -o segfault.exe\n",
    "!valgrind --tool=memcheck ./segfault.exe 2>&1 | head -n 8 # берем только первые 8 строк выхлопа, а то там много"
   ]
  },
  {
   "cell_type": "markdown",
   "metadata": {},
   "source": [
    "### <a name=\"valgrind_leak\"></a> VALGRIND: Обнаружение утечек памяти с помощью valgrind"
   ]
  },
  {
   "cell_type": "code",
   "execution_count": 88,
   "metadata": {},
   "outputs": [],
   "source": [
    "%%cpp memory_leak.cpp\n",
    "\n",
    "#include<stdlib.h>\n",
    "\n",
    "int main() {\n",
    "    malloc(16);\n",
    "}"
   ]
  },
  {
   "cell_type": "code",
   "execution_count": 9,
   "metadata": {
    "scrolled": true
   },
   "outputs": [
    {
     "name": "stdout",
     "output_type": "stream",
     "text": [
      "==2875== Memcheck, a memory error detector\n",
      "==2875== Copyright (C) 2002-2017, and GNU GPL'd, by Julian Seward et al.\n",
      "==2875== Using Valgrind-3.15.0 and LibVEX; rerun with -h for copyright info\n",
      "==2875== Command: ./memory_leak.exe\n",
      "==2875== \n",
      "==2875== \n",
      "==2875== HEAP SUMMARY:\n",
      "==2875==     in use at exit: 16 bytes in 1 blocks\n",
      "==2875==   total heap usage: 1 allocs, 0 frees, 16 bytes allocated\n",
      "==2875== \n",
      "==2875== 16 bytes in 1 blocks are definitely lost in loss record 1 of 1\n",
      "==2875==    at 0x483B7F3: malloc (in /usr/lib/x86_64-linux-gnu/valgrind/vgpreload_memcheck-amd64-linux.so)\n",
      "==2875==    by 0x10915A: main (in /home/pechatnov/vbox/caos/sem12-mmap-instrumentation/memory_leak.exe)\n",
      "==2875== \n",
      "==2875== LEAK SUMMARY:\n",
      "==2875==    definitely lost: 16 bytes in 1 blocks\n",
      "==2875==    indirectly lost: 0 bytes in 0 blocks\n",
      "==2875==      possibly lost: 0 bytes in 0 blocks\n",
      "==2875==    still reachable: 0 bytes in 0 blocks\n",
      "==2875==         suppressed: 0 bytes in 0 blocks\n",
      "==2875== \n",
      "==2875== For lists of detected and suppressed errors, rerun with: -s\n",
      "==2875== ERROR SUMMARY: 1 errors from 1 contexts (suppressed: 0 from 0)\n"
     ]
    }
   ],
   "source": [
    "# компилируем как обычно и запускаем с valgrind\n",
    "!gcc memory_leak.cpp -o memory_leak.exe\n",
    "!valgrind --tool=memcheck --leak-check=full ./memory_leak.exe 2>&1 "
   ]
  },
  {
   "cell_type": "markdown",
   "metadata": {},
   "source": [
    "### <a name=\"asan_leak\"></a> ASAN: Обнаружение утечек памяти с помощью address-санитайзера"
   ]
  },
  {
   "cell_type": "code",
   "execution_count": 10,
   "metadata": {},
   "outputs": [
    {
     "name": "stdout",
     "output_type": "stream",
     "text": [
      "\r\n",
      "=================================================================\r\n",
      "\u001b[1m\u001b[31m==2909==ERROR: LeakSanitizer: detected memory leaks\r\n",
      "\u001b[1m\u001b[0m\r\n",
      "\u001b[1m\u001b[34mDirect leak of 16 byte(s) in 1 object(s) allocated from:\r\n",
      "\u001b[1m\u001b[0m    #0 0x7f07f2ea6bc8 in malloc (/lib/x86_64-linux-gnu/libasan.so.5+0x10dbc8)\r\n",
      "    #1 0x56269077819a in main (/home/pechatnov/vbox/caos/sem12-mmap-instrumentation/memory_leak.exe+0x119a)\r\n",
      "    #2 0x7f07f2bce0b2 in __libc_start_main (/lib/x86_64-linux-gnu/libc.so.6+0x270b2)\r\n",
      "\r\n",
      "SUMMARY: AddressSanitizer: 16 byte(s) leaked in 1 allocation(s).\r\n"
     ]
    }
   ],
   "source": [
    "# компилируем с санитайзером и запускаем как обычно\n",
    "!gcc -fsanitize=address memory_leak.cpp -o memory_leak.exe\n",
    "!./memory_leak.exe"
   ]
  },
  {
   "cell_type": "markdown",
   "metadata": {},
   "source": [
    "### <a name=\"strace\"></a> STRACE: Отладка системных вызовов с помощью strace"
   ]
  },
  {
   "cell_type": "code",
   "execution_count": 11,
   "metadata": {},
   "outputs": [],
   "source": [
    "%%cpp printing.cpp\n",
    "\n",
    "#include<stdio.h>\n",
    "\n",
    "int main() {\n",
    "    printf(\"Hello, world!\");\n",
    "}"
   ]
  },
  {
   "cell_type": "code",
   "execution_count": 12,
   "metadata": {},
   "outputs": [
    {
     "name": "stdout",
     "output_type": "stream",
     "text": [
      "execve(\"./printing.exe\", [\"./printing.exe\"], 0x7ffdf7565680 /* 67 vars */) = 0\n",
      "brk(NULL)                               = 0x55a84cbdf000\n",
      "arch_prctl(0x3001 /* ARCH_??? */, 0x7fff46c95330) = -1 EINVAL (Invalid argument)\n",
      "access(\"/etc/ld.so.preload\", R_OK)      = -1 ENOENT (No such file or directory)\n",
      "openat(AT_FDCWD, \"/etc/ld.so.cache\", O_RDONLY|O_CLOEXEC) = 3\n",
      "fstat(3, {st_mode=S_IFREG|0644, st_size=103517, ...}) = 0\n",
      "mmap(NULL, 103517, PROT_READ, MAP_PRIVATE, 3, 0) = 0x7f74dc352000\n",
      "close(3)                                = 0\n",
      "openat(AT_FDCWD, \"/lib/x86_64-linux-gnu/libc.so.6\", O_RDONLY|O_CLOEXEC) = 3\n",
      "read(3, \"\\177ELF\\2\\1\\1\\3\\0\\0\\0\\0\\0\\0\\0\\0\\3\\0>\\0\\1\\0\\0\\0\\360q\\2\\0\\0\\0\\0\\0\"..., 832) = 832\n",
      "pread64(3, \"\\6\\0\\0\\0\\4\\0\\0\\0@\\0\\0\\0\\0\\0\\0\\0@\\0\\0\\0\\0\\0\\0\\0@\\0\\0\\0\\0\\0\\0\\0\"..., 784, 64) = 784\n",
      "pread64(3, \"\\4\\0\\0\\0\\20\\0\\0\\0\\5\\0\\0\\0GNU\\0\\2\\0\\0\\300\\4\\0\\0\\0\\3\\0\\0\\0\\0\\0\\0\\0\", 32, 848) = 32\n",
      "pread64(3, \"\\4\\0\\0\\0\\24\\0\\0\\0\\3\\0\\0\\0GNU\\0cBR\\340\\305\\370\\2609W\\242\\345)q\\235A\\1\"..., 68, 880) = 68\n",
      "fstat(3, {st_mode=S_IFREG|0755, st_size=2029224, ...}) = 0\n",
      "mmap(NULL, 8192, PROT_READ|PROT_WRITE, MAP_PRIVATE|MAP_ANONYMOUS, -1, 0) = 0x7f74dc350000\n",
      "pread64(3, \"\\6\\0\\0\\0\\4\\0\\0\\0@\\0\\0\\0\\0\\0\\0\\0@\\0\\0\\0\\0\\0\\0\\0@\\0\\0\\0\\0\\0\\0\\0\"..., 784, 64) = 784\n",
      "pread64(3, \"\\4\\0\\0\\0\\20\\0\\0\\0\\5\\0\\0\\0GNU\\0\\2\\0\\0\\300\\4\\0\\0\\0\\3\\0\\0\\0\\0\\0\\0\\0\", 32, 848) = 32\n",
      "pread64(3, \"\\4\\0\\0\\0\\24\\0\\0\\0\\3\\0\\0\\0GNU\\0cBR\\340\\305\\370\\2609W\\242\\345)q\\235A\\1\"..., 68, 880) = 68\n",
      "mmap(NULL, 2036952, PROT_READ, MAP_PRIVATE|MAP_DENYWRITE, 3, 0) = 0x7f74dc15e000\n",
      "mprotect(0x7f74dc183000, 1847296, PROT_NONE) = 0\n",
      "mmap(0x7f74dc183000, 1540096, PROT_READ|PROT_EXEC, MAP_PRIVATE|MAP_FIXED|MAP_DENYWRITE, 3, 0x25000) = 0x7f74dc183000\n",
      "mmap(0x7f74dc2fb000, 303104, PROT_READ, MAP_PRIVATE|MAP_FIXED|MAP_DENYWRITE, 3, 0x19d000) = 0x7f74dc2fb000\n",
      "mmap(0x7f74dc346000, 24576, PROT_READ|PROT_WRITE, MAP_PRIVATE|MAP_FIXED|MAP_DENYWRITE, 3, 0x1e7000) = 0x7f74dc346000\n",
      "mmap(0x7f74dc34c000, 13528, PROT_READ|PROT_WRITE, MAP_PRIVATE|MAP_FIXED|MAP_ANONYMOUS, -1, 0) = 0x7f74dc34c000\n",
      "close(3)                                = 0\n",
      "arch_prctl(ARCH_SET_FS, 0x7f74dc351540) = 0\n",
      "mprotect(0x7f74dc346000, 12288, PROT_READ) = 0\n",
      "mprotect(0x55a84b294000, 4096, PROT_READ) = 0\n",
      "mprotect(0x7f74dc399000, 4096, PROT_READ) = 0\n",
      "munmap(0x7f74dc352000, 103517)          = 0\n",
      "fstat(1, {st_mode=S_IFREG|0664, st_size=0, ...}) = 0\n",
      "brk(NULL)                               = 0x55a84cbdf000\n",
      "brk(0x55a84cc00000)                     = 0x55a84cc00000\n",
      "write(1, \"Hello, world!\", 13)           = 13\n",
      "exit_group(0)                           = ?\n",
      "+++ exited with 0 +++\n",
      "Program output:\n",
      "Hello, world!"
     ]
    }
   ],
   "source": [
    "# компилируем как обычно и запускаем с strace\n",
    "!gcc printing.cpp -o printing.exe\n",
    "!strace ./printing.exe > out.txt\n",
    "!echo \"Program output:\"\n",
    "!cat out.txt"
   ]
  },
  {
   "cell_type": "code",
   "execution_count": 38,
   "metadata": {},
   "outputs": [],
   "source": [
    "%%asm printing_asm.S\n",
    "    .intel_syntax noprefix\n",
    "    .text\n",
    "    .global _start\n",
    "_start:\n",
    "    mov eax, 4\n",
    "    mov ebx, 1\n",
    "    mov ecx, hello_world_ptr\n",
    "    mov edx, 14\n",
    "    int 0x80\n",
    "\n",
    "    mov eax, 1\n",
    "    mov ebx, 1\n",
    "    int 0x80\n",
    "\n",
    "    .data\n",
    "hello_world:\n",
    "    .string \"Hello, World!\\n\"\n",
    "hello_world_ptr:\n",
    "    .long hello_world"
   ]
  },
  {
   "cell_type": "code",
   "execution_count": 47,
   "metadata": {
    "scrolled": true
   },
   "outputs": [
    {
     "name": "stdout",
     "output_type": "stream",
     "text": [
      "execve(\"./printing_asm.exe\", [\"./printing_asm.exe\"], 0x7ffd650f8140 /* 67 vars */) = 0\n",
      "strace: [ Process PID=3411 runs in 32 bit mode. ]\n",
      "brk(NULL)                               = 0x56dd8000\n",
      "arch_prctl(0x3001 /* ARCH_??? */, 0xffc219c8) = -1 EINVAL (Invalid argument)\n",
      "access(\"/etc/ld.so.nohwcap\", F_OK)      = -1 ENOENT (No such file or directory)\n",
      "mmap2(NULL, 8192, PROT_READ|PROT_WRITE, MAP_PRIVATE|MAP_ANONYMOUS, -1, 0) = 0xf7f2c000\n",
      "access(\"/etc/ld.so.preload\", R_OK)      = -1 ENOENT (No such file or directory)\n",
      "set_thread_area({entry_number=-1, base_addr=0xf7f2c9c0, limit=0x0fffff, seg_32bit=1, contents=0, read_exec_only=0, limit_in_pages=1, seg_not_present=0, useable=1}) = 0 (entry_number=12)\n",
      "mprotect(0x5656e000, 4096, PROT_READ|PROT_WRITE) = 0\n",
      "mprotect(0x5656f000, 4096, PROT_READ|PROT_WRITE|PROT_EXEC) = 0\n",
      "mprotect(0x56570000, 0, PROT_READ|PROT_WRITE) = 0\n",
      "mprotect(0x56570000, 0, PROT_READ)      = 0\n",
      "mprotect(0x5656f000, 4096, PROT_READ|PROT_EXEC) = 0\n",
      "mprotect(0x5656e000, 4096, PROT_READ)   = 0\n",
      "mprotect(0x56570000, 4096, PROT_READ)   = 0\n",
      "write(1, \"Hello, World!\\n\", 14)         = 14\n",
      "exit(1)                                 = ?\n",
      "+++ exited with 1 +++\n",
      "Program output:\n",
      "Hello, World!\n"
     ]
    }
   ],
   "source": [
    "# компилируем как обычно и запускаем с strace\n",
    "!gcc -m32 -nostdlib printing_asm.S -o printing_asm.exe\n",
    "!strace ./printing_asm.exe > out.txt 2> err.txt\n",
    "!cat err.txt \n",
    "!echo \"Program output:\"\n",
    "!cat out.txt"
   ]
  },
  {
   "cell_type": "markdown",
   "metadata": {},
   "source": [
    "### <a name=\"perf\"></a> PERF: CPU профайлинг с помощью perf"
   ]
  },
  {
   "cell_type": "code",
   "execution_count": 15,
   "metadata": {},
   "outputs": [],
   "source": [
    "%%cpp work_hard.cpp\n",
    "\n",
    "int work_hard_1(int n) {\n",
    "    int ret = 0;\n",
    "    for (int i = 0; i < n; i++) ret ^= i;\n",
    "    return ret;\n",
    "}\n",
    "\n",
    "int work_hard_2(int n) {\n",
    "    int ret = 0;\n",
    "    for (int i = 0; i < n; i++) {\n",
    "        ret ^= work_hard_1(i * 3);\n",
    "        for (int j = 0; j < i * 2; ++j) {\n",
    "            ret ^= j;\n",
    "        }\n",
    "    }\n",
    "    return ret;\n",
    "}\n",
    "\n",
    "int main() {\n",
    "    return work_hard_2(10000);\n",
    "}"
   ]
  },
  {
   "cell_type": "code",
   "execution_count": 51,
   "metadata": {},
   "outputs": [
    {
     "name": "stdout",
     "output_type": "stream",
     "text": [
      "[sudo] password for pechatnov: \n",
      " Performance counter stats for './work_hard.exe':\n",
      "\n",
      "          3 202,39 msec task-clock                #    0,988 CPUs utilized          \n",
      "                24      context-switches          #    0,007 K/sec                  \n",
      "                 2      cpu-migrations            #    0,001 K/sec                  \n",
      "                44      page-faults               #    0,014 K/sec                  \n",
      "   <not supported>      cycles                                                      \n",
      "   <not supported>      instructions                                                \n",
      "   <not supported>      branches                                                    \n",
      "   <not supported>      branch-misses                                               \n",
      "\n",
      "       3,242514096 seconds time elapsed\n",
      "\n",
      "       3,181980000 seconds user\n",
      "       0,020203000 seconds sys\n",
      "\n",
      "\n"
     ]
    }
   ],
   "source": [
    "# компилируем как обычно и запускаем с perf stat\n",
    "!gcc work_hard.cpp -o work_hard.exe\n",
    "!cat ~/.password.txt | sudo -S perf stat ./work_hard.exe"
   ]
  },
  {
   "cell_type": "code",
   "execution_count": 17,
   "metadata": {},
   "outputs": [
    {
     "name": "stdout",
     "output_type": "stream",
     "text": [
      "PASSWORD=simple_pass\r\n"
     ]
    }
   ],
   "source": [
    "!env | grep PASS"
   ]
  },
  {
   "cell_type": "code",
   "execution_count": 18,
   "metadata": {},
   "outputs": [
    {
     "name": "stdout",
     "output_type": "stream",
     "text": [
      "[sudo] password for pechatnov: Hello, World!\n",
      "\n",
      " Performance counter stats for './printing_asm.exe':\n",
      "\n",
      "              0,25 msec task-clock                #    0,288 CPUs utilized          \n",
      "                 0      context-switches          #    0,000 K/sec                  \n",
      "                 0      cpu-migrations            #    0,000 K/sec                  \n",
      "                13      page-faults               #    0,051 M/sec                  \n",
      "   <not supported>      cycles                                                      \n",
      "   <not supported>      instructions                                                \n",
      "   <not supported>      branches                                                    \n",
      "   <not supported>      branch-misses                                               \n",
      "\n",
      "       0,000881132 seconds time elapsed\n",
      "\n",
      "       0,000000000 seconds user\n",
      "       0,000901000 seconds sys\n",
      "\n",
      "\n"
     ]
    }
   ],
   "source": [
    "# сравним с программой без stdlib\n",
    "!cat ~/.password.txt | sudo -S perf stat ./printing_asm.exe"
   ]
  },
  {
   "cell_type": "markdown",
   "metadata": {},
   "source": [
    "Результат perf report можно отрисовывать в более красивом виде с помощью [flamegraph](https://github.com/brendangregg/FlameGraph)"
   ]
  },
  {
   "cell_type": "code",
   "execution_count": 49,
   "metadata": {
    "scrolled": true
   },
   "outputs": [
    {
     "name": "stdout",
     "output_type": "stream",
     "text": [
      "[sudo] password for pechatnov: [ perf record: Woken up 1 times to write data ]\n",
      "[ perf record: Captured and wrote 0,102 MB perf.data (2450 samples) ]\n",
      "[sudo] password for pechatnov: # To display the perf.data header info, please use --header/--header-only options.\n",
      "#\n",
      "#\n",
      "# Total Lost Samples: 0\n",
      "#\n",
      "# Samples: 2K of event 'cpu-clock:pppH'\n",
      "# Event count (approx.): 612500000\n",
      "#\n",
      "# Overhead  Command        Shared Object      Symbol                \n",
      "# ........  .............  .................  ......................\n",
      "#\n",
      "    63.39%  work_hard.exe  work_hard.exe      [.] work_hard_1\n",
      "    35.51%  work_hard.exe  work_hard.exe      [.] work_hard_2\n",
      "     0.82%  work_hard.exe  [kernel.kallsyms]  [k] 0xffffffff9ae00076\n",
      "     0.12%  work_hard.exe  [kernel.kallsyms]  [k] 0xffffffff9a0d3d9b\n",
      "     0.04%  work_hard.exe  [kernel.kallsyms]  [k] 0xffffffff9a0040e4\n",
      "     0.04%  work_hard.exe  [kernel.kallsyms]  [k] 0xffffffff9a0dc78c\n",
      "     0.04%  work_hard.exe  [kernel.kallsyms]  [k] 0xffffffff9aad9505\n",
      "     0.04%  work_hard.exe  ld-2.31.so         [.] strlen\n",
      "\n",
      "\n",
      "#\n",
      "# (Cannot load tips.txt file, please install perf!)\n",
      "#\n"
     ]
    }
   ],
   "source": [
    "# компилируем как обычно и запускаем с perf record и потом смотрим результаты\n",
    "!gcc work_hard.cpp -o work_hard.exe\n",
    "!cat ~/.password.txt | sudo -S perf record ./work_hard.exe 2>&1 > perf.log\n",
    "!cat ~/.password.txt | sudo -S chmod 0666 perf.data\n",
    "!perf report | cat"
   ]
  },
  {
   "cell_type": "markdown",
   "metadata": {},
   "source": [
    "Есть еще вариант посчитать количество выполненных программой/функцией инструкций. Оно не всегда хорошо коррелирует со временем выполнения, зато является стабильным значением от запуска к запуску.\n",
    "Здесь приводить способ не буду, если интересно, связывайтесь со мной отдельно :)"
   ]
  },
  {
   "cell_type": "markdown",
   "metadata": {},
   "source": [
    "#"
   ]
  },
  {
   "cell_type": "code",
   "execution_count": 60,
   "metadata": {},
   "outputs": [
    {
     "data": {
      "text/markdown": [
       "Run: `gcc wcc.cpp -o wcc.exe`"
      ],
      "text/plain": [
       "<IPython.core.display.Markdown object>"
      ]
     },
     "metadata": {},
     "output_type": "display_data"
    },
    {
     "data": {
      "text/markdown": [
       "Run: `# bash -c \"for i in {0..1000000} ; do echo -n '1' ; done\" > input.txt`"
      ],
      "text/plain": [
       "<IPython.core.display.Markdown object>"
      ]
     },
     "metadata": {},
     "output_type": "display_data"
    },
    {
     "data": {
      "text/markdown": [
       "Run: `wc -c input.txt`"
      ],
      "text/plain": [
       "<IPython.core.display.Markdown object>"
      ]
     },
     "metadata": {},
     "output_type": "display_data"
    },
    {
     "name": "stdout",
     "output_type": "stream",
     "text": [
      "1000001 input.txt\r\n"
     ]
    },
    {
     "data": {
      "text/markdown": [
       "Run: `time ./wcc.exe 1 input.txt`"
      ],
      "text/plain": [
       "<IPython.core.display.Markdown object>"
      ]
     },
     "metadata": {},
     "output_type": "display_data"
    },
    {
     "name": "stdout",
     "output_type": "stream",
     "text": [
      "CNT: 0\r\n",
      "1.52user 2.08system 0:03.61elapsed 99%CPU (0avgtext+0avgdata 1484maxresident)k\r\n",
      "0inputs+0outputs (0major+64minor)pagefaults 0swaps\r\n"
     ]
    },
    {
     "data": {
      "text/markdown": [
       "Run: `time ./wcc.exe 10 input.txt`"
      ],
      "text/plain": [
       "<IPython.core.display.Markdown object>"
      ]
     },
     "metadata": {},
     "output_type": "display_data"
    },
    {
     "name": "stdout",
     "output_type": "stream",
     "text": [
      "CNT: 0\r\n",
      "0.11user 0.19system 0:00.30elapsed 99%CPU (0avgtext+0avgdata 1544maxresident)k\r\n",
      "0inputs+0outputs (0major+67minor)pagefaults 0swaps\r\n"
     ]
    },
    {
     "data": {
      "text/markdown": [
       "Run: `time ./wcc.exe 100 input.txt`"
      ],
      "text/plain": [
       "<IPython.core.display.Markdown object>"
      ]
     },
     "metadata": {},
     "output_type": "display_data"
    },
    {
     "name": "stdout",
     "output_type": "stream",
     "text": [
      "CNT: 0\r\n",
      "0.02user 0.03system 0:00.05elapsed 98%CPU (0avgtext+0avgdata 1516maxresident)k\r\n",
      "0inputs+0outputs (0major+65minor)pagefaults 0swaps\r\n"
     ]
    },
    {
     "data": {
      "text/markdown": [
       "Run: `time ./wcc.exe 1000 input.txt`"
      ],
      "text/plain": [
       "<IPython.core.display.Markdown object>"
      ]
     },
     "metadata": {},
     "output_type": "display_data"
    },
    {
     "name": "stdout",
     "output_type": "stream",
     "text": [
      "CNT: 0\r\n",
      "0.00user 0.00system 0:00.00elapsed 100%CPU (0avgtext+0avgdata 1548maxresident)k\r\n",
      "0inputs+0outputs (0major+66minor)pagefaults 0swaps\r\n"
     ]
    },
    {
     "data": {
      "text/markdown": [
       "Run: `time ./wcc.exe 10000 input.txt`"
      ],
      "text/plain": [
       "<IPython.core.display.Markdown object>"
      ]
     },
     "metadata": {},
     "output_type": "display_data"
    },
    {
     "name": "stdout",
     "output_type": "stream",
     "text": [
      "CNT: 0\r\n",
      "0.00user 0.00system 0:00.00elapsed 100%CPU (0avgtext+0avgdata 1524maxresident)k\r\n",
      "0inputs+0outputs (0major+68minor)pagefaults 0swaps\r\n"
     ]
    }
   ],
   "source": [
    "%%cpp wcc.cpp\n",
    "%run gcc wcc.cpp -o wcc.exe\n",
    "%run # bash -c \"for i in {0..1000000} ; do echo -n '1' ; done\" > input.txt\n",
    "%run wc -c input.txt\n",
    "%run time ./wcc.exe 1 input.txt\n",
    "%run time ./wcc.exe 10 input.txt\n",
    "%run time ./wcc.exe 100 input.txt\n",
    "%run time ./wcc.exe 1000 input.txt\n",
    "%run time ./wcc.exe 10000 input.txt\n",
    "\n",
    "#include <sys/types.h>\n",
    "#include <sys/stat.h>\n",
    "#include <fcntl.h>\n",
    "#include <unistd.h>\n",
    "#include <stdio.h>\n",
    "#include <assert.h>\n",
    "\n",
    "int main(int argc, char** argv) {\n",
    "    assert(argc == 3);\n",
    "    int buff_size = 1;\n",
    "    int ret = sscanf(argv[1], \"%d\", &buff_size);\n",
    "    assert(ret == 1);\n",
    "    int fd = open(argv[2], O_RDONLY);\n",
    "    assert(fd >= 0);\n",
    "    char buff[buff_size];\n",
    "    int result = 0;\n",
    "    int cnt = 0;\n",
    "    while ((cnt = read(fd, buff, buff_size)) > 0) {\n",
    "        for (int i = 0; i < cnt; ++i) {\n",
    "            result += buff[i];\n",
    "        }\n",
    "    }\n",
    "    printf(\"CNT: %d\\n\", cnt);\n",
    "    return 0;\n",
    "}"
   ]
  },
  {
   "cell_type": "code",
   "execution_count": 68,
   "metadata": {},
   "outputs": [
    {
     "name": "stdout",
     "output_type": "stream",
     "text": [
      "[sudo] password for pechatnov: CNT: 0\n",
      "\n",
      " Performance counter stats for './wcc.exe 1 input.txt':\n",
      "\n",
      "          3 103,35 msec task-clock                #    0,999 CPUs utilized          \n",
      "[sudo] password for pechatnov: CNT: 0\n",
      "\n",
      " Performance counter stats for './wcc.exe 10 input.txt':\n",
      "\n",
      "            301,68 msec task-clock                #    0,998 CPUs utilized          \n",
      "[sudo] password for pechatnov: CNT: 0\n",
      "\n",
      " Performance counter stats for './wcc.exe 100 input.txt':\n",
      "\n",
      "             49,02 msec task-clock                #    0,991 CPUs utilized          \n",
      "[sudo] password for pechatnov: CNT: 0\n",
      "\n",
      " Performance counter stats for './wcc.exe 1000 input.txt':\n",
      "\n",
      "              5,27 msec task-clock                #    0,839 CPUs utilized          \n",
      "[sudo] password for pechatnov: CNT: 0\n",
      "\n",
      " Performance counter stats for './wcc.exe 10000 input.txt':\n",
      "\n",
      "              3,74 msec task-clock                #    0,844 CPUs utilized          \n",
      "[sudo] password for pechatnov: CNT: 0\n",
      "\n",
      " Performance counter stats for './wcc.exe 100000 input.txt':\n",
      "\n",
      "              4,91 msec task-clock                #    0,888 CPUs utilized          \n",
      "[sudo] password for pechatnov: CNT: 0\n",
      "\n",
      " Performance counter stats for './wcc.exe 1000000 input.txt':\n",
      "\n",
      "             38,43 msec task-clock                #    0,983 CPUs utilized          \n"
     ]
    }
   ],
   "source": [
    "!cat ~/.password.txt | sudo -S perf stat ./wcc.exe 1 input.txt 2>&1 | head -n 5\n",
    "!cat ~/.password.txt | sudo -S perf stat ./wcc.exe 10 input.txt 2>&1 | head -n 5\n",
    "!cat ~/.password.txt | sudo -S perf stat ./wcc.exe 100 input.txt 2>&1 | head -n 5\n",
    "!cat ~/.password.txt | sudo -S perf stat ./wcc.exe 1000 input.txt 2>&1 | head -n 5\n",
    "!cat ~/.password.txt | sudo -S perf stat ./wcc.exe 10000 input.txt 2>&1 | head -n 5\n",
    "!cat ~/.password.txt | sudo -S perf stat ./wcc.exe 100000 input.txt 2>&1 | head -n 5\n",
    "!cat ~/.password.txt | sudo -S perf stat ./wcc.exe 1000000 input.txt 2>&1 | head -n 5"
   ]
  },
  {
   "cell_type": "markdown",
   "metadata": {},
   "source": [
    "### <a name=\"ubsan\"></a> UBSAN: Поиск UB (undefined behaviour) с помощью UB-санитайзера"
   ]
  },
  {
   "cell_type": "code",
   "execution_count": 69,
   "metadata": {},
   "outputs": [],
   "source": [
    "%%cpp ub.c\n",
    "\n",
    "int main(int argc, char** argv) {\n",
    "    return -argc << 31;\n",
    "    // return (argc * (int)((1ull << 31) - 1)) + 1;\n",
    "}"
   ]
  },
  {
   "cell_type": "code",
   "execution_count": 70,
   "metadata": {},
   "outputs": [
    {
     "name": "stdout",
     "output_type": "stream",
     "text": [
      "\u001b[1mub.c:4:18:\u001b[1m\u001b[31m runtime error: \u001b[1m\u001b[0m\u001b[1mleft shift of negative value -1\u001b[1m\u001b[0m\r\n",
      "SUMMARY: UndefinedBehaviorSanitizer: undefined-behavior ub.c:4:18 in \r\n"
     ]
    }
   ],
   "source": [
    "# компилируем с санитайзером и запускаем как обычно (семинарист рекомендует)\n",
    "# к сожалению у меня ни gcc, ни g++ не работают с -fsanitize=undefined\n",
    "# а разбираться не хочется, поэтому clang\n",
    "!clang -fsanitize=undefined ub.c -o ub.exe\n",
    "!./ub.exe"
   ]
  },
  {
   "cell_type": "code",
   "execution_count": 81,
   "metadata": {},
   "outputs": [
    {
     "name": "stdout",
     "output_type": "stream",
     "text": [
      "main:                                   # @main\r\n",
      "\t.cfi_startproc\r\n",
      "# %bb.0:\r\n",
      "\tpushq\t%rbx\r\n",
      "\t.cfi_def_cfa_offset 16\r\n",
      "\t.cfi_offset %rbx, -16\r\n",
      "\tmovl\t%edi, %ebx\r\n",
      "\tnegl\t%ebx\r\n",
      "\tjo\t.LBB0_1\r\n",
      ".LBB0_2:\r\n",
      "\ttestl\t%ebx, %ebx\r\n",
      "\tjne\t.LBB0_3\r\n",
      ".LBB0_4:\r\n",
      "\tshll\t$31, %ebx\r\n",
      "\tmovl\t%ebx, %eax\r\n",
      "\tpopq\t%rbx\r\n",
      "\t.cfi_def_cfa_offset 8\r\n",
      "\tretq\r\n",
      ".LBB0_1:\r\n",
      "\t.cfi_def_cfa_offset 16\r\n",
      "\tmovl\t%edi, %esi\r\n",
      "\tmovl\t$.L__unnamed_1, %edi\r\n",
      "\tcallq\t__ubsan_handle_negate_overflow\r\n",
      "\tjmp\t.LBB0_2\r\n",
      ".LBB0_3:\r\n",
      "\tmovl\t%ebx, %esi\r\n",
      "\tmovl\t$.L__unnamed_2, %edi\r\n",
      "\tmovl\t$31, %edx\r\n",
      "\tcallq\t__ubsan_handle_shift_out_of_bounds\r\n",
      "\tjmp\t.LBB0_4\r\n",
      ".Lfunc_end0:\r\n"
     ]
    }
   ],
   "source": [
    "!clang -Os -fsanitize=undefined ub.c -S -o /dev/stdout | grep main: -A 30"
   ]
  },
  {
   "cell_type": "code",
   "execution_count": 80,
   "metadata": {},
   "outputs": [
    {
     "name": "stdout",
     "output_type": "stream",
     "text": [
      "main:                                   # @main\r\n",
      "\t.cfi_startproc\r\n",
      "# %bb.0:\r\n",
      "\tmovl\t%edi, %eax\r\n",
      "\tshll\t$31, %eax\r\n",
      "\tretq\r\n"
     ]
    }
   ],
   "source": [
    "!clang ub.c -Os -S -o /dev/stdout | grep main: -A 5"
   ]
  },
  {
   "cell_type": "code",
   "execution_count": null,
   "metadata": {},
   "outputs": [],
   "source": []
  },
  {
   "cell_type": "code",
   "execution_count": null,
   "metadata": {},
   "outputs": [],
   "source": []
  },
  {
   "cell_type": "code",
   "execution_count": null,
   "metadata": {},
   "outputs": [],
   "source": [
    "sudo sysctl kernel.core_pattern=\"/var/crash/%p_%s_%c_%d_%P_%E\""
   ]
  },
  {
   "cell_type": "code",
   "execution_count": 101,
   "metadata": {},
   "outputs": [
    {
     "data": {
      "text/markdown": [
       "Run: `gcc -g segfault.c -o segfault.exe`"
      ],
      "text/plain": [
       "<IPython.core.display.Markdown object>"
      ]
     },
     "metadata": {},
     "output_type": "display_data"
    }
   ],
   "source": [
    "%%cpp segfault.c\n",
    "%run gcc -g segfault.c -o segfault.exe\n",
    "\n",
    "#include<stdio.h>\n",
    "\n",
    "int main() {\n",
    "    int a[2];\n",
    "    printf(\"%d\\n\", a[100500]); // проезд по памяти\n",
    "}"
   ]
  },
  {
   "cell_type": "code",
   "execution_count": 126,
   "metadata": {},
   "outputs": [
    {
     "name": "stdout",
     "output_type": "stream",
     "text": [
      "Segmentation fault (core dumped)\r\n"
     ]
    }
   ],
   "source": [
    "!ulimit -c unlimited ; ./segfault.exe"
   ]
  },
  {
   "cell_type": "code",
   "execution_count": 127,
   "metadata": {},
   "outputs": [
    {
     "name": "stdout",
     "output_type": "stream",
     "text": [
      "'32161_11_18446744073709551615_1_32161_!home!pechatnov!vbox!caos!sem12-mmap-instrumentation!segfault.exe'\r\n",
      " _usr_bin_bash.1000.crash\r\n",
      " _usr_bin_echo.1000.crash\r\n"
     ]
    }
   ],
   "source": [
    "ls /var/crash"
   ]
  },
  {
   "cell_type": "code",
   "execution_count": null,
   "metadata": {},
   "outputs": [],
   "source": []
  },
  {
   "cell_type": "code",
   "execution_count": null,
   "metadata": {},
   "outputs": [],
   "source": []
  },
  {
   "cell_type": "markdown",
   "metadata": {},
   "source": [
    "## <a name=\"mmap\"></a> MMAP\n",
    "\n",
    "(Копия [ридинга от Яковлева](https://github.com/victor-yacovlev/mipt-diht-caos/tree/master/practice/mmap))\n",
    "\n",
    "```c\n",
    "#include <sys/mman.h>\n",
    "\n",
    "void *mmap(\n",
    "    void *addr,    /* рекомендуемый адрес отображения. Должен быть выровнен! */\n",
    "    size_t length, /* размер отображения */\n",
    "    int prot,      /* аттрибуты доступа */\n",
    "    int flags,     /* флаги совместного отображения */\n",
    "    int fd,        /* файловый декскриптор файла */\n",
    "    off_t offset   /* смещение относительно начала файла. Должен быть выровнен! */\n",
    "  );\n",
    "\n",
    "int munmap(void *addr, size_t length) /* освободить отображение */\n",
    "```\n",
    "\n",
    "Системный вызов `mmap` предназначен для создания в виртуальном адресном пространстве процесса доступной области по определенному адресу. Эта область может быть как связана с определенным файлом (ранее открытым), так и располагаться в оперативной памяти. Второй способ использования обычно реализуется в функциях `malloc`/`calloc`.\n",
    "\n",
    "Память можно выделять только постранично. Для большинства архитектур размер одной страницы равен 4Кб, хотя процессоры архитектуры x86_64 поддерживают страницы большего размера: 2Мб и 1Гб.\n",
    "\n",
    "В общем случае, никогда нельзя полагаться на то, что размер страницы равен 4096 байт. Его можно узнать с помощью команды `getconf` или функции `sysconf`:\n",
    "\n",
    "```bash\n",
    "# Bash\n",
    "> getconf PAGE_SIZE\n",
    "4096\n",
    "```\n",
    "```c\n",
    "/* Си */\n",
    "#include <unistd.h>\n",
    "long page_size = sysconf(_SC_PAGE_SIZE);\n",
    "```\n",
    "\n",
    "Параметр `offset` (если используется файл) обязан быть кратным размеру страницы; параметр `length` - нет, но ядро системы округляет это значение до размера страницы в большую сторону. Параметр `addr` (рекомендуемый адрес) может быть равным `NULL`, - в этом случае ядро само назначает адрес в виртуальном адресном пространстве.\n",
    "\n",
    "При использовании отображения на файл, параметр `length` имеет значение длины отображаемых данных; в случае, если размер файла меньше размера страницы, или отображается его последний небольшой фрагмент, то оставшаяся часть страницы заполняется нулями.\n",
    "\n",
    "Страницы памяти могут флаги аттрибутов доступа:\n",
    " * чтение `PROT_READ`;\n",
    " * запись `PROT_WRITE`;\n",
    " * выполнение `PROT_EXE`;\n",
    " * ничего `PROT_NONE`.\n",
    "\n",
    "В случае использования отображения на файл, он должен быть открыт на чтение или запись в соответствии с требуемыми аттрибутами доступа.\n",
    "\n",
    "Флаги `mmap`:\n",
    " * `MAP_FIXED` - требует, чтобы память была выделена по указаному в первом аргументе адресу; без этого флага ядро может выбрать адрес, наиболее близкий к указанному.\n",
    " * `MAP_ANONYMOUS` - выделить страницы в оперативной памяти, а не связать с файлом.\n",
    " * `MAP_SHARED` - выделить страницы, разделяемые с другими процессами; в случае с отображением на файл - синхронизировать изменения так, чтобы они были доступны другим процессам.\n",
    " * `MAP_PRIVATE` - в противоположность `MAP_SHARED`, не делать отображение доступным другим процессам. В случае отображения на файл, он доступен для чтения, а созданные процессом изменения, в файл не сохраняются.\n",
    " \n",
    " \n",
    "Зачем mmap?\n",
    "* Дешевая переподгрузка файла-ресурса (если файл не изменился, то не будет выделяться лишняя память).\n",
    "* ..."
   ]
  },
  {
   "cell_type": "code",
   "execution_count": null,
   "metadata": {},
   "outputs": [],
   "source": []
  },
  {
   "cell_type": "code",
   "execution_count": null,
   "metadata": {},
   "outputs": [],
   "source": []
  },
  {
   "cell_type": "code",
   "execution_count": null,
   "metadata": {},
   "outputs": [],
   "source": []
  },
  {
   "cell_type": "markdown",
   "metadata": {},
   "source": [
    "Пример с mmap (и с ftruncate). Простенькая программа, делающая циклический сдвиг (как цифры) второго символа в файле.\n",
    "\n",
    "**Тут была некритичная ошибка так как по размеру страницы выравнивалась length, а должны быть выровнены только addr и offset**"
   ]
  },
  {
   "cell_type": "code",
   "execution_count": 92,
   "metadata": {},
   "outputs": [
    {
     "data": {
      "text/markdown": [
       "Run: `gcc mmap_example.c -o mmap_example.exe`"
      ],
      "text/plain": [
       "<IPython.core.display.Markdown object>"
      ]
     },
     "metadata": {},
     "output_type": "display_data"
    },
    {
     "data": {
      "text/markdown": [
       "Run: `echo \"000\" > buf.txt && ./mmap_example.exe && cat buf.txt`"
      ],
      "text/plain": [
       "<IPython.core.display.Markdown object>"
      ]
     },
     "metadata": {},
     "output_type": "display_data"
    },
    {
     "name": "stdout",
     "output_type": "stream",
     "text": [
      "page size = 4096\r\n",
      "file size = 4\r\n",
      "010\r\n"
     ]
    },
    {
     "data": {
      "text/markdown": [
       "Run: `echo \"79\" > buf.txt && ./mmap_example.exe && cat buf.txt`"
      ],
      "text/plain": [
       "<IPython.core.display.Markdown object>"
      ]
     },
     "metadata": {},
     "output_type": "display_data"
    },
    {
     "name": "stdout",
     "output_type": "stream",
     "text": [
      "page size = 4096\r\n",
      "file size = 3\r\n",
      "70\r\n"
     ]
    },
    {
     "data": {
      "text/markdown": [
       "Run: `echo \"xxx\" > buf.txt && ./mmap_example.exe && cat buf.txt`"
      ],
      "text/plain": [
       "<IPython.core.display.Markdown object>"
      ]
     },
     "metadata": {},
     "output_type": "display_data"
    },
    {
     "name": "stdout",
     "output_type": "stream",
     "text": [
      "page size = 4096\r\n",
      "file size = 4\r\n",
      "x0x\r\n"
     ]
    },
    {
     "data": {
      "text/markdown": [
       "Run: `echo -n \"S\" > buf.txt && ./mmap_example.exe && cat buf.txt`"
      ],
      "text/plain": [
       "<IPython.core.display.Markdown object>"
      ]
     },
     "metadata": {},
     "output_type": "display_data"
    },
    {
     "name": "stdout",
     "output_type": "stream",
     "text": [
      "page size = 4096\r\n",
      "file size = 1\r\n",
      "new file size = 10\r\n",
      "S0________"
     ]
    }
   ],
   "source": [
    "%%cpp mmap_example.c\n",
    "%run gcc mmap_example.c -o mmap_example.exe\n",
    "%run echo \"000\" > buf.txt && ./mmap_example.exe && cat buf.txt\n",
    "%run echo \"79\" > buf.txt && ./mmap_example.exe && cat buf.txt\n",
    "%run echo \"xxx\" > buf.txt && ./mmap_example.exe && cat buf.txt\n",
    "%run echo -n \"S\" > buf.txt && ./mmap_example.exe && cat buf.txt\n",
    "\n",
    "#include <stdio.h>\n",
    "#include <stdlib.h>\n",
    "#include <unistd.h>\n",
    "#include <sys/types.h>\n",
    "#include <sys/stat.h>\n",
    "#include <sys/mman.h>\n",
    "#include <fcntl.h>\n",
    "#include <assert.h>\n",
    "\n",
    "int get_page_size() {\n",
    "    static int page_size = 0;\n",
    "    return page_size = page_size ?: sysconf(_SC_PAGE_SIZE);\n",
    "}\n",
    "\n",
    "int upper_round_to_page_size(int sz) {\n",
    "    return (sz + get_page_size() - 1) / get_page_size() * get_page_size();\n",
    "}\n",
    "\n",
    "int main() {\n",
    "    printf(\"page size = %d\\n\", get_page_size());\n",
    "    int fd = open(\"buf.txt\", O_RDWR);\n",
    "    struct stat s;\n",
    "    assert(fstat(fd, &s) == 0);\n",
    "    \n",
    "    printf(\"file size = %d\\n\", (int)s.st_size);\n",
    "    int old_st_size = s.st_size;\n",
    "    if (s.st_size < 2) {\n",
    "        const int new_size = 10;\n",
    "        assert(ftruncate(fd, new_size) == 0); // изменяем размер файла\n",
    "        assert(fstat(fd, &s) == 0);\n",
    "        printf(\"new file size = %d\\n\", (int)s.st_size);\n",
    "    }\n",
    "    \n",
    "    void* mapped = mmap(\n",
    "        /* desired addr, addr = */ NULL, \n",
    "        /* length = */ s.st_size, \n",
    "        /* access attributes, prot = */ PROT_READ | PROT_WRITE,\n",
    "        /* flags = */ MAP_SHARED,\n",
    "        /* fd = */ fd,\n",
    "        /* offset in file, offset = */ 0\n",
    "    );\n",
    "    assert(mapped != MAP_FAILED);\n",
    "    assert(close(fd) == 0); // Не забываем закрывать файл\n",
    "    \n",
    "    char* buf = mapped;\n",
    "    \n",
    "    if (old_st_size != s.st_size) {\n",
    "        for (int j = old_st_size; j < s.st_size; ++j) {\n",
    "            buf[j] = '_';\n",
    "        }\n",
    "    }\n",
    "    \n",
    "    buf[1] = ('0' <= buf[1] && buf[1] <= '9') ? ((buf[1] - '0' + 1) % 10 + '0') : '0';\n",
    "    \n",
    "    assert(munmap(\n",
    "        /* mapped addr, addr = */ mapped, \n",
    "        /* length = */ s.st_size\n",
    "    ) == 0);\n",
    "    \n",
    "    return 0;\n",
    "}"
   ]
  },
  {
   "cell_type": "markdown",
   "metadata": {},
   "source": [
    "Еще один пример по мотивам задачи про jit компиляцию. Интерпретируем байты как функцию и выполняем."
   ]
  },
  {
   "cell_type": "code",
   "execution_count": 95,
   "metadata": {},
   "outputs": [
    {
     "data": {
      "text/markdown": [
       "Run: `gcc -g -fPIC func.c -c -o func.o`"
      ],
      "text/plain": [
       "<IPython.core.display.Markdown object>"
      ]
     },
     "metadata": {},
     "output_type": "display_data"
    },
    {
     "data": {
      "text/markdown": [
       "Run: `objdump -F -d func.o | grep my_func -A 15`"
      ],
      "text/plain": [
       "<IPython.core.display.Markdown object>"
      ]
     },
     "metadata": {},
     "output_type": "display_data"
    },
    {
     "name": "stdout",
     "output_type": "stream",
     "text": [
      "0000000000000000 <my_func> (File Offset: 0x40):\r\n",
      "   0:\tf3 0f 1e fa          \tendbr64 \r\n",
      "   4:\t55                   \tpush   %rbp\r\n",
      "   5:\t48 89 e5             \tmov    %rsp,%rbp\r\n",
      "   8:\t89 7d fc             \tmov    %edi,-0x4(%rbp)\r\n",
      "   b:\t89 75 f8             \tmov    %esi,-0x8(%rbp)\r\n",
      "   e:\t8b 55 fc             \tmov    -0x4(%rbp),%edx\r\n",
      "  11:\t8b 45 f8             \tmov    -0x8(%rbp),%eax\r\n",
      "  14:\t01 d0                \tadd    %edx,%eax\r\n",
      "  16:\t83 c0 01             \tadd    $0x1,%eax\r\n",
      "  19:\t5d                   \tpop    %rbp\r\n",
      "  1a:\tc3                   \tretq   \r\n"
     ]
    }
   ],
   "source": [
    "%%cpp func.c\n",
    "%run gcc -g -fPIC func.c -c -o func.o \n",
    "%run objdump -F -d func.o | grep my_func -A 15\n",
    "\n",
    "int my_func(int a, int b) {\n",
    "    return a + b + 1;\n",
    "}"
   ]
  },
  {
   "cell_type": "markdown",
   "metadata": {},
   "source": [
    "Замечаем, что `File Offset: 0x40`. То есть в объектном файле функция лежит начиная с `0x40` позиции."
   ]
  },
  {
   "cell_type": "code",
   "execution_count": 97,
   "metadata": {},
   "outputs": [
    {
     "data": {
      "text/markdown": [
       "Run: `gcc -g mmap_exec_example.c -o mmap_exec_example.exe`"
      ],
      "text/plain": [
       "<IPython.core.display.Markdown object>"
      ]
     },
     "metadata": {},
     "output_type": "display_data"
    },
    {
     "data": {
      "text/markdown": [
       "Run: `./mmap_exec_example.exe`"
      ],
      "text/plain": [
       "<IPython.core.display.Markdown object>"
      ]
     },
     "metadata": {},
     "output_type": "display_data"
    },
    {
     "name": "stdout",
     "output_type": "stream",
     "text": [
      "file size = 2872\r\n",
      "func(1, 1) = 3\r\n",
      "func(10, 100) = 111\r\n",
      "func(40, 5000) = 5041\r\n"
     ]
    }
   ],
   "source": [
    "%%cpp mmap_exec_example.c\n",
    "%run gcc -g mmap_exec_example.c -o mmap_exec_example.exe\n",
    "%run ./mmap_exec_example.exe\n",
    "\n",
    "#include <stdio.h>\n",
    "#include <stdlib.h>\n",
    "#include <unistd.h>\n",
    "#include <sys/types.h>\n",
    "#include <sys/stat.h>\n",
    "#include <sys/mman.h>\n",
    "#include <fcntl.h>\n",
    "#include <assert.h>\n",
    "\n",
    "int main() {\n",
    "    int fd = open(\"func.o\", O_RDWR);\n",
    "    struct stat s;\n",
    "    assert(fstat(fd, &s) == 0);\n",
    "    \n",
    "    printf(\"file size = %d\\n\", (int)s.st_size);\n",
    "    \n",
    "    void* mapped = mmap(\n",
    "        /* desired addr, addr = */ NULL, \n",
    "        /* length = */ s.st_size, \n",
    "        /* access attributes, prot = */ PROT_READ | PROT_EXEC, // обратите внимание на PROT_EXEC\n",
    "        /* flags = */ MAP_PRIVATE,\n",
    "        /* fd = */ fd,\n",
    "        /* offset in file, offset = */ 0\n",
    "    );\n",
    "    assert(close(fd) == 0); // Не забываем закрывать файл (при закрытии регион памяти остается доступным)\n",
    "    if (mapped == MAP_FAILED) {\n",
    "        perror(\"Can't mmap\");\n",
    "        return -1;\n",
    "    }\n",
    " \n",
    "    int (*func)(int, int) = (void*)((char*)mapped + 0x40); // 0x40 - тот самый оффсет\n",
    "   \n",
    "    printf(\"func(1, 1) = %d\\n\", func(1, 1));\n",
    "    printf(\"func(10, 100) = %d\\n\", func(10, 100));\n",
    "    printf(\"func(40, 5000) = %d\\n\", func(40, 5000));\n",
    "    \n",
    "    assert(munmap(\n",
    "        /* mapped addr, addr = */ mapped, \n",
    "        /* length = */ s.st_size\n",
    "    ) == 0);\n",
    "    return 0;\n",
    "}"
   ]
  },
  {
   "cell_type": "markdown",
   "metadata": {},
   "source": [
    "# <a name=\"hw\"></a> Комментарии к ДЗ\n",
    "\n",
    "* Нельзя считать, что размер страницы 4096!\n",
    "* posix/mmap/print-list-using-mmap\n",
    "  <br> В этой задаче не гарантируется выравнивания структур в файле. Поэтому делить позиции на размер структуры нельзя.\n",
    "  <br> Можно делать, например, так:\n",
    "  ```c\n",
    "     char* buf = ...;\n",
    "     ...\n",
    "     struct Item* item = (void*)(buf + offset);\n",
    "  ```\n",
    "  \n",
    "  Не забывайте, что арифметика указателей с void* - это UB.\n",
    "  <br> https://stackoverflow.com/questions/3523145/pointer-arithmetic-for-void-pointer-in-c\n",
    "  \n",
    "* munmap забывать не надо\n",
    "  \n",
    "* posix/mmap/make-spiral-file <br>\n",
    "    mmap, ftruncate, snprintf\n",
    "    \n",
    "* advanced-3 <br>\n",
    "    Можно попробовать поддерживать список свободных сегментов памяти.\n",
    "    При аллокации выбирать наименьший достаточного объема и отрезать от него.\n",
    "    При деаллокации добавлять новый свободный сегмент и склеивать смежные."
   ]
  },
  {
   "cell_type": "code",
   "execution_count": null,
   "metadata": {},
   "outputs": [],
   "source": []
  },
  {
   "cell_type": "code",
   "execution_count": null,
   "metadata": {},
   "outputs": [],
   "source": []
  }
 ],
 "metadata": {
  "kernelspec": {
   "display_name": "Python 3",
   "language": "python",
   "name": "python3"
  },
  "language_info": {
   "codemirror_mode": {
    "name": "ipython",
    "version": 3
   },
   "file_extension": ".py",
   "mimetype": "text/x-python",
   "name": "python",
   "nbconvert_exporter": "python",
   "pygments_lexer": "ipython3",
   "version": "3.8.5"
  }
 },
 "nbformat": 4,
 "nbformat_minor": 2
}
