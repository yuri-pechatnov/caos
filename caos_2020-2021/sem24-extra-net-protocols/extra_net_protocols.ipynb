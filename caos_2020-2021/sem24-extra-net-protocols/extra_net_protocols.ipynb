{
 "cells": [
  {
   "cell_type": "code",
   "execution_count": 86,
   "metadata": {},
   "outputs": [
    {
     "data": {
      "application/javascript": [
       "// setup cpp code highlighting\n",
       "IPython.CodeCell.options_default.highlight_modes[\"text/x-c++src\"] = {'reg':[/^%%cpp/]} ;"
      ],
      "text/plain": [
       "<IPython.core.display.Javascript object>"
      ]
     },
     "metadata": {},
     "output_type": "display_data"
    },
    {
     "data": {
      "text/html": [
       "<!-- YANDEX_METRICA_BEGIN -->\n",
       "    <script type=\"text/javascript\" >\n",
       "       (function(m,e,t,r,i,k,a){m[i]=m[i]||function(){(m[i].a=m[i].a||[]).push(arguments)};\n",
       "       m[i].l=1*new Date();k=e.createElement(t),a=e.getElementsByTagName(t)[0],k.async=1,k.src=r,a.parentNode.insertBefore(k,a)})\n",
       "       (window, document, \"script\", \"https://mc.yandex.ru/metrika/tag.js\", \"ym\");\n",
       "\n",
       "       ym(59260609, \"init\", {\n",
       "            clickmap:true,\n",
       "            trackLinks:true,\n",
       "            accurateTrackBounce:true\n",
       "       });\n",
       "    </script>\n",
       "    <noscript><div><img src=\"https://mc.yandex.ru/watch/59260609\" style=\"position:absolute; left:-9999px;\" alt=\"\" /></div></noscript>\n",
       "    <!-- YANDEX_METRICA_END -->"
      ],
      "text/plain": [
       "<IPython.core.display.HTML object>"
      ]
     },
     "metadata": {},
     "output_type": "display_data"
    },
    {
     "data": {
      "text/html": [
       "В этот ноутбук встроен код Яндекс Метрики для сбора статистики использований. Если вы не хотите, чтобы по вам собиралась статистика, исправьте: yandex_metrica_allowed = False<!-- MAGICS_SETUP_PRINTING_END -->"
      ],
      "text/plain": [
       "<IPython.core.display.HTML object>"
      ]
     },
     "metadata": {},
     "output_type": "display_data"
    }
   ],
   "source": [
    "# look at tools/set_up_magics.ipynb\n",
    "yandex_metrica_allowed = True ; get_ipython().run_cell('# one_liner_str\\n\\nget_ipython().run_cell_magic(\\'javascript\\', \\'\\', \\'// setup cpp code highlighting\\\\nIPython.CodeCell.options_default.highlight_modes[\"text/x-c++src\"] = {\\\\\\'reg\\\\\\':[/^%%cpp/]} ;\\')\\n\\n# creating magics\\nfrom IPython.core.magic import register_cell_magic, register_line_magic\\nfrom IPython.display import display, Markdown, HTML\\nimport argparse\\nfrom subprocess import Popen, PIPE\\nimport random\\nimport sys\\nimport os\\nimport re\\nimport signal\\nimport shutil\\nimport shlex\\nimport glob\\n\\n@register_cell_magic\\ndef save_file(args_str, cell, line_comment_start=\"#\"):\\n    parser = argparse.ArgumentParser()\\n    parser.add_argument(\"fname\")\\n    parser.add_argument(\"--ejudge-style\", action=\"store_true\")\\n    args = parser.parse_args(args_str.split())\\n    \\n    cell = cell if cell[-1] == \\'\\\\n\\' or args.no_eof_newline else cell + \"\\\\n\"\\n    cmds = []\\n    with open(args.fname, \"w\") as f:\\n        f.write(line_comment_start + \" %%cpp \" + args_str + \"\\\\n\")\\n        for line in cell.split(\"\\\\n\"):\\n            line_to_write = (line if not args.ejudge_style else line.rstrip()) + \"\\\\n\"\\n            if line.startswith(\"%\"):\\n                run_prefix = \"%run \"\\n                if line.startswith(run_prefix):\\n                    cmds.append(line[len(run_prefix):].strip())\\n                    f.write(line_comment_start + \" \" + line_to_write)\\n                    continue\\n                run_prefix = \"%# \"\\n                if line.startswith(run_prefix):\\n                    f.write(line_comment_start + \" \" + line_to_write)\\n                    continue\\n                raise Exception(\"Unknown %%save_file subcommand: \\'%s\\'\" % line)\\n            else:\\n                f.write(line_to_write)\\n        f.write(\"\" if not args.ejudge_style else line_comment_start + r\" line without \\\\n\")\\n    for cmd in cmds:\\n        display(Markdown(\"Run: `%s`\" % cmd))\\n        get_ipython().system(cmd)\\n\\n@register_cell_magic\\ndef cpp(fname, cell):\\n    save_file(fname, cell, \"//\")\\n\\n@register_cell_magic\\ndef asm(fname, cell):\\n    save_file(fname, cell, \"//\")\\n    \\n@register_cell_magic\\ndef makefile(fname, cell):\\n    assert not fname\\n    save_file(\"makefile\", cell.replace(\" \" * 4, \"\\\\t\"))\\n        \\n@register_line_magic\\ndef p(line):\\n    try:\\n        expr, comment = line.split(\" #\")\\n        display(Markdown(\"`{} = {}`  # {}\".format(expr.strip(), eval(expr), comment.strip())))\\n    except:\\n        display(Markdown(\"{} = {}\".format(line, eval(line))))\\n        \\ndef show_file(file, clear_at_begin=True, return_html_string=False):\\n    if clear_at_begin:\\n        get_ipython().system(\"truncate --size 0 \" + file)\\n    obj = file.replace(\\'.\\', \\'_\\').replace(\\'/\\', \\'_\\') + \"_obj\"\\n    html_string = \\'\\'\\'\\n        <!--MD_BEGIN_FILTER-->\\n        <script type=text/javascript>\\n        var entrance___OBJ__ = 0;\\n        var errors___OBJ__ = 0;\\n        function refresh__OBJ__()\\n        {\\n            entrance___OBJ__ -= 1;\\n            var elem = document.getElementById(\"__OBJ__\");\\n            if (elem) {\\n                var xmlhttp=new XMLHttpRequest();\\n                xmlhttp.onreadystatechange=function()\\n                {\\n                    var elem = document.getElementById(\"__OBJ__\");\\n                    console.log(!!elem, xmlhttp.readyState, xmlhttp.status, entrance___OBJ__);\\n                    if (elem && xmlhttp.readyState==4) {\\n                        if (xmlhttp.status==200)\\n                        {\\n                            errors___OBJ__ = 0;\\n                            if (!entrance___OBJ__) {\\n                                elem.innerText = xmlhttp.responseText;\\n                                entrance___OBJ__ += 1;\\n                                console.log(\"req\");\\n                                window.setTimeout(\"refresh__OBJ__()\", 300); \\n                            }\\n                            return xmlhttp.responseText;\\n                        } else {\\n                            errors___OBJ__ += 1;\\n                            if (errors___OBJ__ < 10 && !entrance___OBJ__) {\\n                                entrance___OBJ__ += 1;\\n                                console.log(\"req\");\\n                                window.setTimeout(\"refresh__OBJ__()\", 300); \\n                            }\\n                        }\\n                    }\\n                }\\n                xmlhttp.open(\"GET\", \"__FILE__\", true);\\n                xmlhttp.setRequestHeader(\"Cache-Control\", \"no-cache\");\\n                xmlhttp.send();     \\n            }\\n        }\\n        \\n        if (!entrance___OBJ__) {\\n            entrance___OBJ__ += 1;\\n            refresh__OBJ__(); \\n        }\\n        </script>\\n        \\n        <font color=\"white\"> <tt>\\n        <p id=\"__OBJ__\" style=\"font-size: 16px; border:3px #333333 solid; background: #333333; border-radius: 10px; padding: 10px;  \"></p>\\n        </tt> </font>\\n        <!--MD_END_FILTER-->\\n        <!--MD_FROM_FILE __FILE__ -->\\n        \\'\\'\\'.replace(\"__OBJ__\", obj).replace(\"__FILE__\", file)\\n    if return_html_string:\\n        return html_string\\n    display(HTML(html_string))\\n    \\nBASH_POPEN_TMP_DIR = \"./bash_popen_tmp\"\\n    \\ndef bash_popen_terminate_all():\\n    for p in globals().get(\"bash_popen_list\", []):\\n        print(\"Terminate pid=\" + str(p.pid), file=sys.stderr)\\n        p.terminate()\\n    globals()[\"bash_popen_list\"] = []\\n    if os.path.exists(BASH_POPEN_TMP_DIR):\\n        shutil.rmtree(BASH_POPEN_TMP_DIR)\\n\\nbash_popen_terminate_all()  \\n\\ndef bash_popen(cmd):\\n    if not os.path.exists(BASH_POPEN_TMP_DIR):\\n        os.mkdir(BASH_POPEN_TMP_DIR)\\n    h = os.path.join(BASH_POPEN_TMP_DIR, str(random.randint(0, 1e18)))\\n    stdout_file = h + \".out.html\"\\n    stderr_file = h + \".err.html\"\\n    run_log_file = h + \".fin.html\"\\n    \\n    stdout = open(stdout_file, \"wb\")\\n    stdout = open(stderr_file, \"wb\")\\n    \\n    html = \"\"\"\\n    <table width=\"100%\">\\n    <colgroup>\\n       <col span=\"1\" style=\"width: 70px;\">\\n       <col span=\"1\">\\n    </colgroup>    \\n    <tbody>\\n      <tr> <td><b>STDOUT</b></td> <td> {stdout} </td> </tr>\\n      <tr> <td><b>STDERR</b></td> <td> {stderr} </td> </tr>\\n      <tr> <td><b>RUN LOG</b></td> <td> {run_log} </td> </tr>\\n    </tbody>\\n    </table>\\n    \"\"\".format(\\n        stdout=show_file(stdout_file, return_html_string=True),\\n        stderr=show_file(stderr_file, return_html_string=True),\\n        run_log=show_file(run_log_file, return_html_string=True),\\n    )\\n    \\n    cmd = \"\"\"\\n        bash -c {cmd} &\\n        pid=$!\\n        echo \"Process started! pid=${{pid}}\" > {run_log_file}\\n        wait ${{pid}}\\n        echo \"Process finished! exit_code=$?\" >> {run_log_file}\\n    \"\"\".format(cmd=shlex.quote(cmd), run_log_file=run_log_file)\\n    # print(cmd)\\n    display(HTML(html))\\n    \\n    p = Popen([\"bash\", \"-c\", cmd], stdin=PIPE, stdout=stdout, stderr=stdout)\\n    \\n    bash_popen_list.append(p)\\n    return p\\n\\n\\n@register_line_magic\\ndef bash_async(line):\\n    bash_popen(line)\\n    \\n    \\ndef show_log_file(file, return_html_string=False):\\n    obj = file.replace(\\'.\\', \\'_\\').replace(\\'/\\', \\'_\\') + \"_obj\"\\n    html_string = \\'\\'\\'\\n        <!--MD_BEGIN_FILTER-->\\n        <script type=text/javascript>\\n        var entrance___OBJ__ = 0;\\n        var errors___OBJ__ = 0;\\n        function halt__OBJ__(elem, color)\\n        {\\n            elem.setAttribute(\"style\", \"font-size: 14px; background: \" + color + \"; padding: 10px; border: 3px; border-radius: 5px; color: white; \");                    \\n        }\\n        function refresh__OBJ__()\\n        {\\n            entrance___OBJ__ -= 1;\\n            if (entrance___OBJ__ < 0) {\\n                entrance___OBJ__ = 0;\\n            }\\n            var elem = document.getElementById(\"__OBJ__\");\\n            if (elem) {\\n                var xmlhttp=new XMLHttpRequest();\\n                xmlhttp.onreadystatechange=function()\\n                {\\n                    var elem = document.getElementById(\"__OBJ__\");\\n                    console.log(!!elem, xmlhttp.readyState, xmlhttp.status, entrance___OBJ__);\\n                    if (elem && xmlhttp.readyState==4) {\\n                        if (xmlhttp.status==200)\\n                        {\\n                            errors___OBJ__ = 0;\\n                            if (!entrance___OBJ__) {\\n                                if (elem.innerHTML != xmlhttp.responseText) {\\n                                    elem.innerHTML = xmlhttp.responseText;\\n                                }\\n                                if (elem.innerHTML.includes(\"Process finished.\")) {\\n                                    halt__OBJ__(elem, \"#333333\");\\n                                } else {\\n                                    entrance___OBJ__ += 1;\\n                                    console.log(\"req\");\\n                                    window.setTimeout(\"refresh__OBJ__()\", 300); \\n                                }\\n                            }\\n                            return xmlhttp.responseText;\\n                        } else {\\n                            errors___OBJ__ += 1;\\n                            if (!entrance___OBJ__) {\\n                                if (errors___OBJ__ < 6) {\\n                                    entrance___OBJ__ += 1;\\n                                    console.log(\"req\");\\n                                    window.setTimeout(\"refresh__OBJ__()\", 300); \\n                                } else {\\n                                    halt__OBJ__(elem, \"#994444\");\\n                                }\\n                            }\\n                        }\\n                    }\\n                }\\n                xmlhttp.open(\"GET\", \"__FILE__\", true);\\n                xmlhttp.setRequestHeader(\"Cache-Control\", \"no-cache\");\\n                xmlhttp.send();     \\n            }\\n        }\\n        \\n        if (!entrance___OBJ__) {\\n            entrance___OBJ__ += 1;\\n            refresh__OBJ__(); \\n        }\\n        </script>\\n\\n        <p id=\"__OBJ__\" style=\"font-size: 14px; background: #000000; padding: 10px; border: 3px; border-radius: 5px; color: white; \">\\n        </p>\\n        \\n        </font>\\n        <!--MD_END_FILTER-->\\n        <!--MD_FROM_FILE __FILE__.md -->\\n        \\'\\'\\'.replace(\"__OBJ__\", obj).replace(\"__FILE__\", file)\\n    if return_html_string:\\n        return html_string\\n    display(HTML(html_string))\\n\\n    \\nclass TInteractiveLauncher:\\n    tmp_path = \"./interactive_launcher_tmp\"\\n    def __init__(self, cmd):\\n        try:\\n            os.mkdir(TInteractiveLauncher.tmp_path)\\n        except:\\n            pass\\n        name = str(random.randint(0, 1e18))\\n        self.inq_path = os.path.join(TInteractiveLauncher.tmp_path, name + \".inq\")\\n        self.log_path = os.path.join(TInteractiveLauncher.tmp_path, name + \".log\")\\n        \\n        os.mkfifo(self.inq_path)\\n        open(self.log_path, \\'w\\').close()\\n        open(self.log_path + \".md\", \\'w\\').close()\\n\\n        self.pid = os.fork()\\n        if self.pid == -1:\\n            print(\"Error\")\\n        if self.pid == 0:\\n            exe_cands = glob.glob(\"../tools/launcher.py\") + glob.glob(\"../../tools/launcher.py\")\\n            assert(len(exe_cands) == 1)\\n            assert(os.execvp(\"python3\", [\"python3\", exe_cands[0], \"-l\", self.log_path, \"-i\", self.inq_path, \"-c\", cmd]) == 0)\\n        self.inq_f = open(self.inq_path, \"w\")\\n        interactive_launcher_opened_set.add(self.pid)\\n        show_log_file(self.log_path)\\n\\n    def write(self, s):\\n        s = s.encode()\\n        assert len(s) == os.write(self.inq_f.fileno(), s)\\n        \\n    def get_pid(self):\\n        n = 100\\n        for i in range(n):\\n            try:\\n                return int(re.findall(r\"PID = (\\\\d+)\", open(self.log_path).readline())[0])\\n            except:\\n                if i + 1 == n:\\n                    raise\\n                time.sleep(0.1)\\n        \\n    def input_queue_path(self):\\n        return self.inq_path\\n        \\n    def close(self):\\n        self.inq_f.close()\\n        os.waitpid(self.pid, 0)\\n        os.remove(self.inq_path)\\n        # os.remove(self.log_path)\\n        self.inq_path = None\\n        self.log_path = None \\n        interactive_launcher_opened_set.remove(self.pid)\\n        self.pid = None\\n        \\n    @staticmethod\\n    def terminate_all():\\n        if \"interactive_launcher_opened_set\" not in globals():\\n            globals()[\"interactive_launcher_opened_set\"] = set()\\n        global interactive_launcher_opened_set\\n        for pid in interactive_launcher_opened_set:\\n            print(\"Terminate pid=\" + str(pid), file=sys.stderr)\\n            os.kill(pid, signal.SIGKILL)\\n            os.waitpid(pid, 0)\\n        interactive_launcher_opened_set = set()\\n        if os.path.exists(TInteractiveLauncher.tmp_path):\\n            shutil.rmtree(TInteractiveLauncher.tmp_path)\\n    \\nTInteractiveLauncher.terminate_all()\\n   \\nyandex_metrica_allowed = bool(globals().get(\"yandex_metrica_allowed\", False))\\nif yandex_metrica_allowed:\\n    display(HTML(\\'\\'\\'<!-- YANDEX_METRICA_BEGIN -->\\n    <script type=\"text/javascript\" >\\n       (function(m,e,t,r,i,k,a){m[i]=m[i]||function(){(m[i].a=m[i].a||[]).push(arguments)};\\n       m[i].l=1*new Date();k=e.createElement(t),a=e.getElementsByTagName(t)[0],k.async=1,k.src=r,a.parentNode.insertBefore(k,a)})\\n       (window, document, \"script\", \"https://mc.yandex.ru/metrika/tag.js\", \"ym\");\\n\\n       ym(59260609, \"init\", {\\n            clickmap:true,\\n            trackLinks:true,\\n            accurateTrackBounce:true\\n       });\\n    </script>\\n    <noscript><div><img src=\"https://mc.yandex.ru/watch/59260609\" style=\"position:absolute; left:-9999px;\" alt=\"\" /></div></noscript>\\n    <!-- YANDEX_METRICA_END -->\\'\\'\\'))\\n\\ndef make_oneliner():\\n    html_text = \\'(\"В этот ноутбук встроен код Яндекс Метрики для сбора статистики использований. Если вы не хотите, чтобы по вам собиралась статистика, исправьте: yandex_metrica_allowed = False\" if yandex_metrica_allowed else \"\")\\'\\n    html_text += \\' + \"<\"\"!-- MAGICS_SETUP_PRINTING_END -->\"\\'\\n    return \\'\\'.join([\\n        \\'# look at tools/set_up_magics.ipynb\\\\n\\',\\n        \\'yandex_metrica_allowed = True ; get_ipython().run_cell(%s);\\' % repr(one_liner_str),\\n        \\'display(HTML(%s))\\' % html_text,\\n        \\' #\\'\\'MAGICS_SETUP_END\\'\\n    ])\\n       \\n\\n');display(HTML((\"В этот ноутбук встроен код Яндекс Метрики для сбора статистики использований. Если вы не хотите, чтобы по вам собиралась статистика, исправьте: yandex_metrica_allowed = False\" if yandex_metrica_allowed else \"\") + \"<\"\"!-- MAGICS_SETUP_PRINTING_END -->\")) #MAGICS_SETUP_END"
   ]
  },
  {
   "cell_type": "markdown",
   "metadata": {},
   "source": [
    "# Протоколы в интернете\n",
    "\n",
    "\n",
    "<p><a href=\"https://www.youtube.com/watch?v=Ti14F3lFGbc&list=PLjzMm8llUm4AmU6i_hPU0NobgA4VsBowc&index=25\" target=\"_blank\">\n",
    "    <h3>Видеозапись семинара</h3> \n",
    "</a></p>\n",
    "\n",
    "[Ридинг Яковлева](https://github.com/victor-yacovlev/mipt-diht-caos/tree/master/practice/sockets-udp)\n",
    "\n",
    "[Про установку и использование wireshark](https://linuxio.ru/ustanovitie-i-ispolzuitie-wireshark-v-ubuntu-linux/)\n",
    "\n",
    "\n",
    "### Немного теории о часто упоминающихся протоколах:\n",
    "* [MAC](https://ru.wikipedia.org/wiki/Управление_доступом_к_среде) (media access control) - протокол канального уровня модели OSI, отвечающий за взаимодействие устройств общающихся через одну среду. На этом же уровне существуют mac-адреса - это уникальные идентификаторы устройств.\n",
    "* [ARP](https://ru.wikipedia.org/wiki/ARP) - протокол сетевого уровня модели OSI. Протокол предназначен для перевода ip-адресов в mac-адреса.\n",
    "* [ICMP](https://ru.wikipedia.org/wiki/ICMP), [ICMPv6](https://ru.wikipedia.org/wiki/ICMPv6) (Internet Control Message Protocol) - протокол передачи сообщений об ошибках и других исключительных ситуациях. Реализует высокоуровневую часть сетевого уровня модели OSI.\n",
    "* [IPv4](https://ru.wikipedia.org/wiki/IPv4), [IPv6](https://ru.wikipedia.org/wiki/IPv6) - протоколы сетевого уровня модели OSI. Позволяют отправить пакет данных на другой конец земного шара, зная только ip-адрес получателя.\n",
    "* [TCP](https://ru.wikipedia.org/wiki/Transmission_Control_Protocol), [UDP](https://ru.wikipedia.org/wiki/UDP) - потоковая и датаграммная передача данных. Работают поверх IP\n",
    "* [DNS](https://ru.wikipedia.org/wiki/DNS) (Domain Name System) - распределенная система получения информации о доменах. В простейшем случае это получение ip-адреса по доменному имени. Работает поверх UDP (маленькие запросы-ответы) и TCP (большие ответы).\n",
    "  <br>[Хороший материал про DNS](https://webhostinggeeks.com/guides/dns/). Подробно, с картинками, но много текста на английском.\n",
    "* [DHCP](https://ru.wikipedia.org/wiki/DHCP) (Dynamic Host Configuration Protocol) - протокол позволяющий хосту динамически получить себе  ip-адрес. Протокол клиент-серверный, поэтому в сети должен быть DHCP-сервер, который собственно будет выделять адрес. Работает поверх UDP: клиент посылает широковещательную датаграмму (указывая 0 в качестве своего ip-адреса, свой mac-адрес в качестве адреса устройства), в сервер в ответ отправляет предложение ip-адреса клиенту (отправка может быть направленной на mac-адрес, может быть широковещательной). Дальше следует еще подтверждающее сообщение.\n",
    "* [HTTP](https://ru.wikipedia.org/wiki/HTTP) - (HyperText Transfer Protocol) - протокол прикладного уровня модели OSI. (Хотя тут все неоднозначно, так как он часто исползуется в качестве транспортного уровня, немного размазанные границы получаются.)\n",
    "* POP3/IMAP/SMTP - протоколы прикладного уровня модели OSI. Про работу с электронной почтой.\n",
    "* Telnet (teletype network) / SSH (Secure Shell) - протоколы прикладного уровня модели OSI. Реализуют терминальные интерфейсы. ssh еще шифрует трафик (+ имеет более широкий функционал, может использоваться в качестве транспортного уровня (например, если вы пользуетесь пробросом портов))\n",
    "* FTP (File Transfer Protocol) - протокол прикладного уровня модели OSI. Используется для передачи файлов.\n",
    "\n",
    "Когда речь заходит о передаче сообщения из точки A в точку B. То собственно пользовательское сообщение по пути сквозь пространство и уровни протоколов приобретает и теряет заголовки (headers) и окончания (footers).\n",
    "\n",
    "При передаче более низкому уровню сообщение заворачивается в сообщение более низкого уровня. Например ip-сообщение нужно передать другому узлу через ethernet сеть. На уровне ethernet заголовки ip-пакета никакого смысла не имеют. Поэтому ip-сообщение вместе с заголовками интерпретируется как полезная нагрузка. И эта нагрузка передается в составе ethernet-кадра. А в ethernet-кадрe уже свой заголовок и окончание.\n",
    "\n",
    "\n",
    "![Протоколы](pic/protocols.png)\n",
    "\n",
    "^ кажется, на этой картинке есть некоторый обман https://habr.com/ru/post/227729/\n",
    "\n",
    "**Сегодня в практической части программы**:\n",
    "* <a href=\"#dns\" style=\"color:#856024\">Делаем запросы к dns: вручную составляем udp-датаграммы</a>\n",
    "* <a href=\"#traceroute\" style=\"color:#856024\">Udp + raw socket'ы + icmp -> реализуем простенькую утилиту traceroute</a>\n",
    "* <a href=\"#ioctl\" style=\"color:#856024\">Получаем список сетевых интерфейсов и соответствующие адреса канального уровня (mac-адреса)  с помощью ioctl</a>\n",
    "* <a href=\"#raw\" style=\"color:#856024\">Посылаем ethernet-пакет через SOCK_RAW'ище</a>\n",
    " \n",
    "<a href=\"#hw\" style=\"color:#856024\">Комментарии к ДЗ</a>\n",
    "\n"
   ]
  },
  {
   "cell_type": "code",
   "execution_count": null,
   "metadata": {},
   "outputs": [],
   "source": []
  },
  {
   "cell_type": "markdown",
   "metadata": {},
   "source": [
    "# <a name=\"dns\"></a> Делаем запросы к dns: вручную составляем udp-датаграммы\n",
    "\n",
    "8.8.8.8 - публичный DNS-сервер от google"
   ]
  },
  {
   "cell_type": "code",
   "execution_count": 82,
   "metadata": {},
   "outputs": [
    {
     "name": "stdout",
     "output_type": "stream",
     "text": [
      "From our request: ['87', '250', '250', '242']  from linux util:  87.250.250.242\n",
      "From our request: ['89', '108', '121', '5']  from linux util:  89.108.121.5\n",
      "From our request: ['87', '240', '139', '194']  from linux util:  93.186.225.208\n",
      "From our request: ['87', '251', '82', '74']  from linux util:  87.251.82.74\n"
     ]
    }
   ],
   "source": [
    "from socket import socket, AF_INET, SOCK_DGRAM\n",
    "import sys\n",
    "import subprocess\n",
    "\n",
    "\n",
    "sock = socket(AF_INET, SOCK_DGRAM)\n",
    "\n",
    "def domen2q(s):\n",
    "    ans = b\"\"\n",
    "    for part in s.split('.'):\n",
    "        ans += len(part).to_bytes(length=1, byteorder=\"little\") + bytes(part, encoding=\"ascii\")\n",
    "    return ans\n",
    "\n",
    "for i, x in enumerate([\"ya.ru\", \"ejudge.ru\", \"vk.com\", \"ejudge.atp-fivt.org\"]):\n",
    "    ip_from_util = subprocess.check_output([\"dig\", \"+short\", x]).decode().split('\\n')[0]\n",
    "    x = x.strip()\n",
    "    query = (\n",
    "        i.to_bytes(length=2, byteorder=\"little\") + b\"\\x01\\x00\\x00\\x01\\x00\\x00\\x00\\x00\\x00\\x00\" +\n",
    "        domen2q(x) + b\"\\x00\" +\n",
    "        b\"\\x00\\x01\\x00\\x01\"\n",
    "    )\n",
    "\n",
    "    sock.sendto(query, (\"8.8.8.8\", 53))\n",
    "    data, addr = sock.recvfrom(1024)\n",
    "    ip_from_udp_request = \".\".join(str(b) for b in data[-4:])\n",
    " \n",
    "    print(\"From our request:\", ip_from_udp_request, \" from linux util: \", ip_from_util)\n"
   ]
  },
  {
   "cell_type": "markdown",
   "metadata": {},
   "source": [
    "Один адрес расходится. В этом нет ничего страшного, так как у домена может быть несколько ip-адресов. А мы выбирали адреса практически случайно, так что могли легко вытянуть разные."
   ]
  },
  {
   "cell_type": "markdown",
   "metadata": {},
   "source": [
    "# <a name=\"traceroute\"></a> Traceroute  \n",
    "\n",
    "Я пытался сделать пример максимально минималистичным, поэтому он будет правильно работать далеко не всегда :)"
   ]
  },
  {
   "cell_type": "code",
   "execution_count": 93,
   "metadata": {},
   "outputs": [
    {
     "data": {
      "text/markdown": [
       "Run: `gcc -Wall -Werror -fsanitize=thread ping.c -lpthread -o ping.exe`"
      ],
      "text/plain": [
       "<IPython.core.display.Markdown object>"
      ]
     },
     "metadata": {},
     "output_type": "display_data"
    },
    {
     "data": {
      "text/markdown": [
       "Run: `echo $PASSWORD | sudo -S setcap cap_net_raw,cap_net_admin+eip ./ping.exe 2>/dev/null`"
      ],
      "text/plain": [
       "<IPython.core.display.Markdown object>"
      ]
     },
     "metadata": {},
     "output_type": "display_data"
    },
    {
     "data": {
      "text/markdown": [
       "Run: `timeout 1 ./ping.exe ya.ru`"
      ],
      "text/plain": [
       "<IPython.core.display.Markdown object>"
      ]
     },
     "metadata": {},
     "output_type": "display_data"
    },
    {
     "name": "stdout",
     "output_type": "stream",
     "text": [
      "Send packed to ya.ru (87.250.250.242), ttl = 1\n",
      "From 10.0.2.2 get 36 bytes, icmp_type=11 (Time Exceeded) icmp_seq=0 icmp_code=0\n",
      "Send packed to ya.ru (87.250.250.242), ttl = 2\n",
      "From 95.108.216.94 get 36 bytes, icmp_type=11 (Time Exceeded) icmp_seq=0 icmp_code=0\n",
      "Send packed to ya.ru (87.250.250.242), ttl = 3\n",
      "From 87.250.252.190 get 36 bytes, icmp_type=11 (Time Exceeded) icmp_seq=0 icmp_code=0\n",
      "Send packed to ya.ru (87.250.250.242), ttl = 4\n"
     ]
    }
   ],
   "source": [
    "%%cpp ping.c\n",
    "%run gcc -Wall -Werror -fsanitize=thread ping.c -lpthread -o ping.exe\n",
    "%# Чтобы использовать SOCK_RAW нужны capabilities для исполняемого файла\n",
    "%run echo $PASSWORD | sudo -S setcap cap_net_raw,cap_net_admin+eip ./ping.exe 2>/dev/null\n",
    "%run timeout 1 ./ping.exe ya.ru\n",
    "\n",
    "#include <arpa/inet.h>\n",
    "#include <assert.h>\n",
    "#include <errno.h>\n",
    "#include <netdb.h>\n",
    "#include <netinet/in.h>\n",
    "#include <netinet/ip.h>\n",
    "#include <netinet/ip_icmp.h>\n",
    "#include <pthread.h>\n",
    "#include <stdio.h>\n",
    "#include <stdlib.h>\n",
    "#include <stdbool.h>\n",
    "#include <string.h>\n",
    "#include <sys/socket.h>\n",
    "#include <sys/time.h>\n",
    "#include <sys/types.h>\n",
    "#include <time.h>\n",
    "#include <unistd.h>\n",
    "\n",
    "#define MAXPACKET   4096     \n",
    "\n",
    "const char* const pretty_icmp_type[] = {\n",
    "    \"Echo Reply\", \"ICMP 1\", \"ICMP 2\", \"Dest Unreachable\", \"Source Quench\", \"Redirect\", \"ICMP 6\", \n",
    "    \"ICMP 7\", \"Echo Request\", \"ICMP 9\", \"ICMP 10\", \"Time Exceeded\", \"Parameter Problem\",\n",
    "    \"Timestamp\", \"Timestamp Reply\", \"Info Request\", \"Info Reply\"\n",
    "};\n",
    "\n",
    "uint64_t time_ns() {\n",
    "    struct timespec ts;\n",
    "    clock_gettime(CLOCK_MONOTONIC, &ts);\n",
    "    return ts.tv_sec * 1000000000L + ts.tv_nsec;\n",
    "}\n",
    "\n",
    "int parse_and_print(u_char* buf, int length, struct sockaddr_in* from) {\n",
    "    struct ip *ip = (struct ip *) buf; // откусываем ip-заголовок\n",
    "    int hlen = ip->ip_hl << 2;\n",
    "    length -= hlen;\n",
    "    assert(length >= ICMP_MINLEN);\n",
    "    struct icmp *icp = (struct icmp *)(buf + hlen);\n",
    "    \n",
    "    printf(\"From %s get %d bytes, icmp_type=%d (%s) icmp_seq=%d icmp_code=%d\\n\",\n",
    "        inet_ntoa(from->sin_addr), length, icp->icmp_type, pretty_icmp_type[icp->icmp_type], \n",
    "        icp->icmp_seq, icp->icmp_code);\n",
    "    return icp->icmp_type;\n",
    "}\n",
    "\n",
    "\n",
    "int main(int argc, char **argv) {\n",
    "    assert(argc == 2);\n",
    "    \n",
    "    struct hostent *hp = gethostbyname(argv[1]);\n",
    "    assert(hp && hp->h_addrtype == AF_INET);\n",
    "    \n",
    "    struct sockaddr_in whereto = {.sin_family = hp->h_addrtype, .sin_port = 33342};\n",
    "    memcpy(&whereto.sin_addr, hp->h_addr, hp->h_length);\n",
    "\n",
    "    // struct protoent *proto = getprotobyname(\"icmp\"); // use proto->p_proto // можно так вместо IPPROTO_ICMP\n",
    "    // с PF_INET получается интересная комбинация, при отправке мы IP-хедер не указываем, а при получении получаем IP-хедер\n",
    "    int icmp_receiving_sock = socket(PF_INET, SOCK_RAW, IPPROTO_ICMP);\n",
    "    assert(icmp_receiving_sock >= 0);\n",
    "    \n",
    "    // Почти обычный UDP-сокет\n",
    "    int udp_sending_sock = socket(PF_INET, SOCK_DGRAM, IPPROTO_UDP);\n",
    "    \n",
    "    int ttl = 1;\n",
    "    while (true) {\n",
    "        // Вот тут мы говорим сокету, что в его IP заголовках надо бы в TTL писать ttl\n",
    "        assert(0 == setsockopt(udp_sending_sock, 0, IP_TTL, &ttl, sizeof(ttl))); \n",
    "\n",
    "        printf(\"Send packed to %s (%s), ttl = %d\\n\", hp->h_name, inet_ntoa(whereto.sin_addr), ttl); \n",
    "        int val = 0;\n",
    "        sendto(udp_sending_sock, &val, sizeof(val), 0,\n",
    "            (struct sockaddr *)&whereto, sizeof(struct sockaddr_in));\n",
    "\n",
    "        u_char packet[MAXPACKET];\n",
    "        struct sockaddr_in from;\n",
    "        socklen_t fromlen = sizeof(from);\n",
    "        int recv_size = recvfrom(icmp_receiving_sock, packet, sizeof(packet), 0, (struct sockaddr*)&from, &fromlen);\n",
    "        if (recv_size < 0) {\n",
    "            assert(errno == EINTR);\n",
    "            return 0;\n",
    "        }\n",
    "        int icmp_type = parse_and_print(packet, recv_size, &from);\n",
    "        if (icmp_type == 11) { // time limit exceeded\n",
    "            ++ttl;\n",
    "        } else if (icmp_type == 3) { // Dest Unreachable\n",
    "            break;\n",
    "        }\n",
    "        \n",
    "        usleep(100000);\n",
    "    }\n",
    "}"
   ]
  },
  {
   "cell_type": "code",
   "execution_count": 94,
   "metadata": {},
   "outputs": [
    {
     "name": "stdout",
     "output_type": "stream",
     "text": [
      "traceroute to ya.ru (87.250.250.242), 30 hops max, 60 byte packets\n",
      " 1  _gateway (10.0.2.2)  0.769 ms  0.631 ms  0.556 ms\n",
      " 2  95.108.216.94 (95.108.216.94)  39.352 ms  39.547 ms  39.652 ms\n",
      " 3  iva-b-c2-irb-805.yndx.net (87.250.252.190)  89.250 ms  89.479 ms  89.920 ms\n",
      " 4  * m9-p1-ae4.yndx.net (87.250.239.116)  40.172 ms *\n",
      " 5  * * *\n",
      " 6  vla-32z3-eth-trunk1-1.yndx.net (93.158.172.209)  36.258 ms sas-32z3-ae2-1.yndx.net (87.250.239.185)  86.360 ms vla-32z3-eth-trunk2-1.yndx.net (93.158.172.215)  86.065 ms\n",
      " 7  * * *\n",
      " 8  ya.ru (87.250.250.242)  51.808 ms  51.638 ms  51.486 ms\n"
     ]
    }
   ],
   "source": [
    "!traceroute ya.ru"
   ]
  },
  {
   "cell_type": "markdown",
   "metadata": {},
   "source": [
    "# <a name=\"ioctl\"></a> Получаем mac-адреса с помощью ioctl"
   ]
  },
  {
   "cell_type": "code",
   "execution_count": 6,
   "metadata": {},
   "outputs": [
    {
     "data": {
      "text/markdown": [
       "Run: `gcc -Wall -Werror get_mac.c -lpthread -o get_mac.exe`"
      ],
      "text/plain": [
       "<IPython.core.display.Markdown object>"
      ]
     },
     "metadata": {},
     "output_type": "display_data"
    },
    {
     "data": {
      "text/markdown": [
       "Run: `./get_mac.exe`"
      ],
      "text/plain": [
       "<IPython.core.display.Markdown object>"
      ]
     },
     "metadata": {},
     "output_type": "display_data"
    },
    {
     "name": "stdout",
     "output_type": "stream",
     "text": [
      "        lo mac=00:00:00:00:00:00 ip=127.0.0.1 <- it is loopback\r\n",
      "    enp0s3 mac=08:00:27:2d:00:dd ip=10.0.2.15\r\n"
     ]
    }
   ],
   "source": [
    "%%cpp get_mac.c\n",
    "%run gcc -Wall -Werror get_mac.c -lpthread -o get_mac.exe\n",
    "%run ./get_mac.exe\n",
    "\n",
    "#include <stdio.h>\n",
    "#include <sys/ioctl.h>\n",
    "#include <net/if.h> \n",
    "#include <unistd.h>\n",
    "#include <netinet/in.h>\n",
    "#include <string.h>\n",
    "#include <assert.h>\n",
    "#include <sys/socket.h>\n",
    "#include <arpa/inet.h>\n",
    "\n",
    "void print_eth_interface(struct ifreq* ifr_ip, struct ifreq* ifr_hw, _Bool is_loopback) {\n",
    "    printf(\"%10s mac=\", ifr_ip->ifr_name);\n",
    "    for (int i = 0; i < 6; ++i) {\n",
    "        printf(\"%02x%s\", (int)(unsigned char)ifr_hw->ifr_hwaddr.sa_data[i], i + 1 < 6 ? \":\" : \"\");\n",
    "    }\n",
    "    printf(\" ip=%s\", inet_ntoa(((struct sockaddr_in*)&ifr_ip->ifr_addr)->sin_addr));\n",
    "    printf(is_loopback ? \" <- it is loopback\\n\" : \"\\n\");\n",
    "}\n",
    "\n",
    "int main()\n",
    "{\n",
    "    int sock = socket(AF_INET, SOCK_DGRAM, 0);\n",
    "    assert(sock != -1);\n",
    "\n",
    "    char buf[1024];\n",
    "    struct ifconf ifc = {\n",
    "        .ifc_len = sizeof(buf),\n",
    "        .ifc_buf = buf\n",
    "    };\n",
    "    assert(ioctl(sock, SIOCGIFCONF, &ifc) != -1);  // получаем список интерфейсов\n",
    "\n",
    "    for (struct ifreq* it = ifc.ifc_req; it != ifc.ifc_req + (ifc.ifc_len / sizeof(struct ifreq)); ++it) {\n",
    "        struct ifreq ifr = *it; // Получаем структуру с заполненным .ifr_name\n",
    "        assert(ioctl(sock, SIOCGIFFLAGS, &ifr) == 0); // получаем флаги интерфейса по имени (.ifr_name)\n",
    "        // поля ответов в ifrec лежат в union, поэтому читать ответ нужно после каждого применения ioctl https://www.opennet.ru/man.shtml?topic=netdevice&category=7&russian=\n",
    "        _Bool is_loopback = (ifr.ifr_flags & IFF_LOOPBACK); // смотрим, является ли интерфейс loopback'ом (типа 127.0.0.1 только для ethernet)\n",
    "        assert(ioctl(sock, SIOCGIFHWADDR, &ifr) == 0); // получаем аппаратный адрес устройства (mac)\n",
    "        print_eth_interface(it, &ifr, is_loopback);   \n",
    "    }    \n",
    "}"
   ]
  },
  {
   "cell_type": "code",
   "execution_count": 8,
   "metadata": {},
   "outputs": [
    {
     "name": "stdout",
     "output_type": "stream",
     "text": [
      "1: \u001b[36mlo: \u001b[0m<LOOPBACK,UP,LOWER_UP> mtu 65536 qdisc noqueue state UNKNOWN group default qlen 1000\r\n",
      "    link/loopback \u001b[33m00:00:00:00:00:00\u001b[0m brd \u001b[33m00:00:00:00:00:00\u001b[0m\r\n",
      "    inet \u001b[35m127.0.0.1\u001b[0m/8 scope host lo\r\n",
      "       valid_lft forever preferred_lft forever\r\n",
      "    inet6 \u001b[34m::1\u001b[0m/128 scope host \r\n",
      "       valid_lft forever preferred_lft forever\r\n",
      "2: \u001b[36menp0s3: \u001b[0m<BROADCAST,MULTICAST,UP,LOWER_UP> mtu 1500 qdisc fq_codel state \u001b[32mUP \u001b[0mgroup default qlen 1000\r\n",
      "    link/ether \u001b[33m08:00:27:2d:00:dd\u001b[0m brd \u001b[33mff:ff:ff:ff:ff:ff\u001b[0m\r\n",
      "    inet \u001b[35m10.0.2.15\u001b[0m/24 brd \u001b[35m10.0.2.255 \u001b[0mscope global dynamic noprefixroute enp0s3\r\n",
      "       valid_lft 85563sec preferred_lft 85563sec\r\n",
      "    inet6 \u001b[34mfe80::e83c:cfcd:5e5b:77c7\u001b[0m/64 scope link noprefixroute \r\n",
      "       valid_lft forever preferred_lft forever\r\n"
     ]
    }
   ],
   "source": [
    "# Сравниваем с выводом системной утилиты\n",
    "!ip -c addr"
   ]
  },
  {
   "cell_type": "markdown",
   "metadata": {},
   "source": [
    "# <a name=\"raw\"></a> Посылаем ethernet-пакет через SOCK_RAW'ище\n",
    "\n",
    "Вдохновился названием статьи: https://habr.com/ru/company/smart_soft/blog/184430/\n",
    "\n",
    "В данном примере мы будем почти полностью генерировать ethernet пакет: с хедером, но без окончания с чексуммой (предполагаю, что окончание добавляется на аппаратном уровне)."
   ]
  },
  {
   "cell_type": "code",
   "execution_count": 9,
   "metadata": {},
   "outputs": [
    {
     "data": {
      "text/markdown": [
       "Run: `gcc -Wall -Werror ethernet_packet.c -lpthread -o ethernet_packet.exe`"
      ],
      "text/plain": [
       "<IPython.core.display.Markdown object>"
      ]
     },
     "metadata": {},
     "output_type": "display_data"
    },
    {
     "data": {
      "text/markdown": [
       "Run: `echo $PASSWORD | sudo -S setcap cap_net_raw,cap_net_admin+eip ./ethernet_packet.exe 2>/dev/null`"
      ],
      "text/plain": [
       "<IPython.core.display.Markdown object>"
      ]
     },
     "metadata": {},
     "output_type": "display_data"
    },
    {
     "data": {
      "text/markdown": [
       "Run: `./ethernet_packet.exe`"
      ],
      "text/plain": [
       "<IPython.core.display.Markdown object>"
      ]
     },
     "metadata": {},
     "output_type": "display_data"
    },
    {
     "name": "stdout",
     "output_type": "stream",
     "text": [
      "Hey, I got it! response.value = 42424242, eth_type = 000000, src_mac = 00:00:00:00:00:00, dst_mac = 00:00:00:00:00:00\r\n"
     ]
    }
   ],
   "source": [
    "%%cpp ethernet_packet.c\n",
    "%run gcc -Wall -Werror ethernet_packet.c -lpthread -o ethernet_packet.exe\n",
    "%# Чтобы использовать SOCK_RAW нужны capabilities для исполняемого файла\n",
    "%run echo $PASSWORD | sudo -S setcap cap_net_raw,cap_net_admin+eip ./ethernet_packet.exe 2>/dev/null\n",
    "%run ./ethernet_packet.exe\n",
    "\n",
    "#include <arpa/inet.h>\n",
    "#include <assert.h>\n",
    "#include <errno.h>\n",
    "#include <inttypes.h>\n",
    "#include <linux/if_ether.h> // вот тут объявлен ethernet_header, там же есть struct ether_arp с ARP хедером\n",
    "#include <linux/if_packet.h>\n",
    "#include <net/ethernet.h>\n",
    "#include <net/if.h>\n",
    "#include <netinet/in.h>\n",
    "#include <netinet/ip.h>\n",
    "#include <stdbool.h>\n",
    "#include <stdint.h>\n",
    "#include <stdio.h>\n",
    "#include <stdlib.h>\n",
    "#include <string.h>\n",
    "#include <sys/ioctl.h>\n",
    "#include <sys/socket.h>\n",
    "#include <unistd.h>\n",
    "\n",
    "typedef struct {\n",
    "    char s[3 * 6];\n",
    "} mac_str;\n",
    "\n",
    "mac_str mac_to_str(u_char* mac) {\n",
    "    mac_str ms;\n",
    "    sprintf(ms.s, \"%02x:%02x:%02x:%02x:%02x:%02x\", (int)mac[0], (int)mac[1], (int)mac[2], (int)mac[3], (int)mac[4], (int)mac[5]);\n",
    "    return ms;\n",
    "}\n",
    "\n",
    "int main(int argc, char *argv[])\n",
    "{\n",
    "    // http://man7.org/linux/man-pages/man7/packet.7.htm\n",
    "    int sock = socket(\n",
    "        AF_PACKET, // используем низкоуровневые адреса sockaddr_ll\n",
    "        SOCK_RAW,  // сырые пакеты\n",
    "        htons(ETH_P_ALL) // мы хотим получать сообщения всех протоколов (система может фильтровать и доставлять только некоторые)\n",
    "        // Можно использовать ETH_P_ARP, чтобы получать только ARP-пакеты\n",
    "    );\n",
    "    assert(sock != -1);\n",
    "\n",
    "    struct ifreq ifr;\n",
    "    strcpy((char*)&ifr.ifr_name, \"lo\");           \n",
    "    ioctl(sock, SIOCGIFINDEX, &ifr); // получаем индекс интерфейса\n",
    "    struct sockaddr_ll device = {\n",
    "        .sll_ifindex = ifr.ifr_ifindex,\n",
    "        .sll_halen = ETH_ALEN, // длина адреса (=6 в ethernet) \n",
    "        .sll_addr = {0, 0, 0, 0, 0, 0} // loopback (но, кажется, тут может быть любой мусор)\n",
    "    };\n",
    "   \n",
    "    struct {\n",
    "        struct ether_header ethernet_header; // по дефолту будет наполнен нулями, а это loopback адрес, чего и хочется в этом примере\n",
    "        // Вот тут может начинаться хедер протокола более высокого уровня\n",
    "        uint64_t request_id; // идентификатор, чтобы узнать наш пакет, среди всех проходящих пакетов\n",
    "        uint64_t value; // имитация полезной нагрузки\n",
    "    } __attribute__((__packed__))\n",
    "      request = {.request_id = 17171819, .value = 42424242}, \n",
    "      response;\n",
    "\n",
    "    int sendto_res = sendto(sock, &request, sizeof(request), 0,\n",
    "                            (struct sockaddr*)&device, sizeof(device));\n",
    "    assert(sendto_res != -1);\n",
    "    \n",
    "    while (true) {\n",
    "        int recv_result = recv(sock, &response, sizeof(response), 0);\n",
    "        assert(recv_result != -1);\n",
    "        if (response.request_id == request.request_id) { //[1]\n",
    "            printf(\"Hey, I got it! response.value = %\" PRIu64 \", eth_type = %#06x, src_mac = %s, dst_mac = %s\\n\", \n",
    "                   response.value, response.ethernet_header.ether_type,\n",
    "                   mac_to_str(response.ethernet_header.ether_shost).s, mac_to_str(response.ethernet_header.ether_dhost).s);\n",
    "            break; //[1]\n",
    "        } //[1]\n",
    "    }\n",
    "    close(sock);\n",
    "    return 0;\n",
    "}\n"
   ]
  },
  {
   "cell_type": "markdown",
   "metadata": {},
   "source": [
    "Если закомментировать [1], то можно понаблюдать за всеми пакетами"
   ]
  },
  {
   "cell_type": "markdown",
   "metadata": {},
   "source": [
    "# <a name=\"hw\"></a> Комментарии к ДЗ\n",
    "\n",
    "* dns: перепишите код с семинара на С :)\n",
    "\n",
    "Для хедеров рекомендую использовать структурку. Посмотрите следующий примерчик.\n",
    "\n",
    "* ping\n",
    "\n",
    "Возможно будет полезно запускать под strace свою программу и стандартный ping\n",
    "\n",
    "`strace ping -4 -c 1 87.250.250.242`"
   ]
  },
  {
   "cell_type": "code",
   "execution_count": null,
   "metadata": {},
   "outputs": [],
   "source": []
  },
  {
   "cell_type": "markdown",
   "metadata": {},
   "source": [
    "## Возможно для задачи про dns вам будет удобна такая структура"
   ]
  },
  {
   "cell_type": "code",
   "execution_count": 3,
   "metadata": {},
   "outputs": [
    {
     "data": {
      "text/markdown": [
       "Run: `gcc -Wall -Werror ethernet_packet.c -lpthread -o ethernet_packet.exe`"
      ],
      "text/plain": [
       "<IPython.core.display.Markdown object>"
      ]
     },
     "metadata": {},
     "output_type": "display_data"
    },
    {
     "data": {
      "text/markdown": [
       "Run: `./ethernet_packet.exe`"
      ],
      "text/plain": [
       "<IPython.core.display.Markdown object>"
      ]
     },
     "metadata": {},
     "output_type": "display_data"
    },
    {
     "name": "stdout",
     "output_type": "stream",
     "text": [
      "sizeof(some_header) = 3\r\n",
      "A0 A0 FF 11 11 11 11 11 11 11 11 11 11 42 "
     ]
    }
   ],
   "source": [
    "%%cpp ethernet_packet.c\n",
    "%run gcc -Wall -Werror ethernet_packet.c -lpthread -o ethernet_packet.exe\n",
    "%run ./ethernet_packet.exe\n",
    "\n",
    "#include <stdint.h>\n",
    "#include <stdio.h>\n",
    "#include <stdlib.h>\n",
    "#include <string.h>\n",
    "\n",
    "struct some_header {\n",
    "    uint16_t field1;\n",
    "    uint8_t field2;\n",
    "    uint8_t data[]; // получается указатель на следующий байт после структуры\n",
    "} __attribute__((__packed__));\n",
    "\n",
    "struct some_footer {\n",
    "    uint8_t checksum;\n",
    "} __attribute__((__packed__));\n",
    "\n",
    "int main() {\n",
    "    unsigned char buffer[100];\n",
    "    \n",
    "    struct some_header *header = (void*)buffer;\n",
    "    header->field1 = 0xA0A0;\n",
    "    header->field2 = 0xFF;\n",
    "    \n",
    "    const int data_len = 10;\n",
    "    memset(header->data, 0x11, data_len);\n",
    "    \n",
    "    struct some_footer *footer = (void*)(header->data + data_len);\n",
    "    footer->checksum = 0x42;\n",
    "    \n",
    "    const int total_length = sizeof(struct some_header) + data_len + sizeof(struct some_footer);\n",
    "    \n",
    "    printf(\"sizeof(some_header) = %d\\n\", (int)sizeof(struct some_header));\n",
    "    for (int i = 0; i < total_length; ++i) {\n",
    "        printf(\"%02X \", buffer[i]); \n",
    "    }\n",
    "    return 0;\n",
    "}\n"
   ]
  },
  {
   "cell_type": "code",
   "execution_count": null,
   "metadata": {},
   "outputs": [],
   "source": []
  }
 ],
 "metadata": {
  "kernelspec": {
   "display_name": "Python 3",
   "language": "python",
   "name": "python3"
  },
  "language_info": {
   "codemirror_mode": {
    "name": "ipython",
    "version": 3
   },
   "file_extension": ".py",
   "mimetype": "text/x-python",
   "name": "python",
   "nbconvert_exporter": "python",
   "pygments_lexer": "ipython3",
   "version": "3.8.5"
  }
 },
 "nbformat": 4,
 "nbformat_minor": 2
}
