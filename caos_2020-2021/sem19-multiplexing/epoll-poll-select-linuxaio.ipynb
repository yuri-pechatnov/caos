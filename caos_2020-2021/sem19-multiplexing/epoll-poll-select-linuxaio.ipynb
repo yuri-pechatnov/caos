{
 "cells": [
  {
   "cell_type": "code",
   "execution_count": 109,
   "metadata": {},
   "outputs": [
    {
     "data": {
      "application/javascript": [
       "// setup cpp code highlighting\n",
       "IPython.CodeCell.options_default.highlight_modes[\"text/x-c++src\"] = {'reg':[/^%%cpp/]} ;IPython.CodeCell.options_default.highlight_modes[\"text/x-cmake\"] = {'reg':[/^%%cmake/]} ;IPython.CodeCell.options_default.highlight_modes[\"text/x-sql\"] = {'reg':[/^%%sql/]} ;"
      ],
      "text/plain": [
       "<IPython.core.display.Javascript object>"
      ]
     },
     "metadata": {},
     "output_type": "display_data"
    },
    {
     "data": {
      "text/html": [
       "<!-- YANDEX_METRICA_BEGIN -->\n",
       "    <script type=\"text/javascript\" >\n",
       "       (function(m,e,t,r,i,k,a){m[i]=m[i]||function(){(m[i].a=m[i].a||[]).push(arguments)};\n",
       "       m[i].l=1*new Date();k=e.createElement(t),a=e.getElementsByTagName(t)[0],k.async=1,k.src=r,a.parentNode.insertBefore(k,a)})\n",
       "       (window, document, \"script\", \"https://mc.yandex.ru/metrika/tag.js\", \"ym\");\n",
       "\n",
       "       ym(59260609, \"init\", {\n",
       "            clickmap:true,\n",
       "            trackLinks:true,\n",
       "            accurateTrackBounce:true\n",
       "       });\n",
       "    </script>\n",
       "    <noscript><div><img src=\"https://mc.yandex.ru/watch/59260609\" style=\"position:absolute; left:-9999px;\" alt=\"\" /></div></noscript>\n",
       "    <!-- YANDEX_METRICA_END -->"
      ],
      "text/plain": [
       "<IPython.core.display.HTML object>"
      ]
     },
     "metadata": {},
     "output_type": "display_data"
    },
    {
     "data": {
      "text/html": [
       "В этот ноутбук встроен код Яндекс Метрики для сбора статистики использований. Если вы не хотите, чтобы по вам собиралась статистика, исправьте: yandex_metrica_allowed = False<!-- MAGICS_SETUP_PRINTING_END -->"
      ],
      "text/plain": [
       "<IPython.core.display.HTML object>"
      ]
     },
     "metadata": {},
     "output_type": "display_data"
    }
   ],
   "source": [
    "# look at tools/set_up_magics.ipynb\n",
    "yandex_metrica_allowed = True ; get_ipython().run_cell('# one_liner_str\\n\\nget_ipython().run_cell_magic(\\'javascript\\', \\'\\', \\n    \\'// setup cpp code highlighting\\\\n\\'\\n    \\'IPython.CodeCell.options_default.highlight_modes[\"text/x-c++src\"] = {\\\\\\'reg\\\\\\':[/^%%cpp/]} ;\\'\\n    \\'IPython.CodeCell.options_default.highlight_modes[\"text/x-cmake\"] = {\\\\\\'reg\\\\\\':[/^%%cmake/]} ;\\'\\n    \\'IPython.CodeCell.options_default.highlight_modes[\"text/x-sql\"] = {\\\\\\'reg\\\\\\':[/^%%sql/]} ;\\'\\n)\\n\\n# creating magics\\nfrom IPython.core.magic import register_cell_magic, register_line_magic\\nfrom IPython.display import display, Markdown, HTML\\nimport argparse\\nfrom subprocess import Popen, PIPE, STDOUT, check_output\\nimport html\\nimport random\\nimport sys\\nimport os\\nimport re\\nimport signal\\nimport shutil\\nimport shlex\\nimport glob\\nimport time\\n\\n@register_cell_magic\\ndef save_file(args_str, cell, line_comment_start=\"#\"):\\n    parser = argparse.ArgumentParser()\\n    parser.add_argument(\"fname\")\\n    parser.add_argument(\"--ejudge-style\", action=\"store_true\")\\n    parser.add_argument(\"--under-spoiler-threshold\", type=int, default=None)\\n    args = parser.parse_args(args_str.split())\\n    \\n    cell = cell if cell[-1] == \\'\\\\n\\' or args.no_eof_newline else cell + \"\\\\n\"\\n    cmds = []\\n    with open(args.fname, \"w\") as f:\\n        f.write(line_comment_start + \" %%cpp \" + args_str + \"\\\\n\")\\n        for line in cell.split(\"\\\\n\"):\\n            line_to_write = (line if not args.ejudge_style else line.rstrip()) + \"\\\\n\"\\n            if not line.startswith(\"%\"):\\n                f.write(line_to_write)\\n            else:\\n                f.write(line_comment_start + \" \" + line_to_write)\\n                run_prefix = \"%run \"\\n                md_prefix = \"%MD \"\\n                comment_prefix = \"%\" + line_comment_start\\n                if line.startswith(run_prefix):\\n                    cmds.append(line[len(run_prefix):].strip())\\n                elif line.startswith(md_prefix):\\n                    cmds.append(\\'#<MD>\\' + line[len(md_prefix):].strip())\\n                elif line.startswith(comment_prefix):\\n                    cmds.append(\\'#\\' + line[len(comment_prefix):].strip())\\n                else:\\n                    raise Exception(\"Unknown %%save_file subcommand: \\'%s\\'\" % line)\\n                \\n        f.write(\"\" if not args.ejudge_style else line_comment_start + r\" line without \\\\n\")\\n    for cmd in cmds:\\n        if cmd.startswith(\\'#\\'):\\n            if cmd.startswith(\\'#<MD>\\'):\\n                display(Markdown(cmd[5:]))\\n            else:\\n                display(Markdown(\"\\\\#\\\\#\\\\#\\\\# `%s`\" % cmd[1:]))\\n        else:\\n            display(Markdown(\"Run: `%s`\" % cmd))\\n            if args.under_spoiler_threshold:\\n                out = check_output(cmd, stderr=STDOUT, shell=True, universal_newlines=True)\\n                out = out[:-1] if out.endswith(\\'\\\\n\\') else out\\n                out = html.escape(out)\\n                if len(out.split(\\'\\\\n\\')) > args.under_spoiler_threshold:\\n                    out = \"<details> <summary> output </summary> <pre><code>%s</code></pre></details>\" % out\\n                elif out:\\n                    out = \"<pre><code>%s</code></pre>\" % out\\n                if out:\\n                    display(HTML(out))\\n            else:\\n                get_ipython().system(cmd)\\n\\n@register_cell_magic\\ndef cpp(fname, cell):\\n    save_file(fname, cell, \"//\")\\n    \\n@register_cell_magic\\ndef cmake(fname, cell):\\n    save_file(fname, cell, \"#\")\\n\\n@register_cell_magic\\ndef asm(fname, cell):\\n    save_file(fname, cell, \"//\")\\n    \\n@register_cell_magic\\ndef makefile(fname, cell):\\n    fname = fname or \"makefile\"\\n    assert fname.endswith(\"makefile\")\\n    save_file(fname, cell.replace(\" \" * 4, \"\\\\t\"))\\n        \\n@register_line_magic\\ndef p(line):\\n    line = line.strip() \\n    if line[0] == \\'#\\':\\n        display(Markdown(line[1:].strip()))\\n    else:\\n        try:\\n            expr, comment = line.split(\" #\")\\n            display(Markdown(\"`{} = {}`  # {}\".format(expr.strip(), eval(expr), comment.strip())))\\n        except:\\n            display(Markdown(\"{} = {}\".format(line, eval(line))))\\n    \\n    \\ndef show_log_file(file, return_html_string=False):\\n    obj = file.replace(\\'.\\', \\'_\\').replace(\\'/\\', \\'_\\') + \"_obj\"\\n    html_string = \\'\\'\\'\\n        <!--MD_BEGIN_FILTER-->\\n        <script type=text/javascript>\\n        var entrance___OBJ__ = 0;\\n        var errors___OBJ__ = 0;\\n        function halt__OBJ__(elem, color)\\n        {\\n            elem.setAttribute(\"style\", \"font-size: 14px; background: \" + color + \"; padding: 10px; border: 3px; border-radius: 5px; color: white; \");                    \\n        }\\n        function refresh__OBJ__()\\n        {\\n            entrance___OBJ__ -= 1;\\n            if (entrance___OBJ__ < 0) {\\n                entrance___OBJ__ = 0;\\n            }\\n            var elem = document.getElementById(\"__OBJ__\");\\n            if (elem) {\\n                var xmlhttp=new XMLHttpRequest();\\n                xmlhttp.onreadystatechange=function()\\n                {\\n                    var elem = document.getElementById(\"__OBJ__\");\\n                    console.log(!!elem, xmlhttp.readyState, xmlhttp.status, entrance___OBJ__);\\n                    if (elem && xmlhttp.readyState==4) {\\n                        if (xmlhttp.status==200)\\n                        {\\n                            errors___OBJ__ = 0;\\n                            if (!entrance___OBJ__) {\\n                                if (elem.innerHTML != xmlhttp.responseText) {\\n                                    elem.innerHTML = xmlhttp.responseText;\\n                                }\\n                                if (elem.innerHTML.includes(\"Process finished.\")) {\\n                                    halt__OBJ__(elem, \"#333333\");\\n                                } else {\\n                                    entrance___OBJ__ += 1;\\n                                    console.log(\"req\");\\n                                    window.setTimeout(\"refresh__OBJ__()\", 300); \\n                                }\\n                            }\\n                            return xmlhttp.responseText;\\n                        } else {\\n                            errors___OBJ__ += 1;\\n                            if (!entrance___OBJ__) {\\n                                if (errors___OBJ__ < 6) {\\n                                    entrance___OBJ__ += 1;\\n                                    console.log(\"req\");\\n                                    window.setTimeout(\"refresh__OBJ__()\", 300); \\n                                } else {\\n                                    halt__OBJ__(elem, \"#994444\");\\n                                }\\n                            }\\n                        }\\n                    }\\n                }\\n                xmlhttp.open(\"GET\", \"__FILE__\", true);\\n                xmlhttp.setRequestHeader(\"Cache-Control\", \"no-cache\");\\n                xmlhttp.send();     \\n            }\\n        }\\n        \\n        if (!entrance___OBJ__) {\\n            entrance___OBJ__ += 1;\\n            refresh__OBJ__(); \\n        }\\n        </script>\\n\\n        <p id=\"__OBJ__\" style=\"font-size: 14px; background: #000000; padding: 10px; border: 3px; border-radius: 5px; color: white; \">\\n        </p>\\n        \\n        </font>\\n        <!--MD_END_FILTER-->\\n        <!--MD_FROM_FILE __FILE__.md -->\\n        \\'\\'\\'.replace(\"__OBJ__\", obj).replace(\"__FILE__\", file)\\n    if return_html_string:\\n        return html_string\\n    display(HTML(html_string))\\n\\n    \\nclass TInteractiveLauncher:\\n    tmp_path = \"./interactive_launcher_tmp\"\\n    def __init__(self, cmd):\\n        try:\\n            os.mkdir(TInteractiveLauncher.tmp_path)\\n        except:\\n            pass\\n        name = str(random.randint(0, 1e18))\\n        self.inq_path = os.path.join(TInteractiveLauncher.tmp_path, name + \".inq\")\\n        self.log_path = os.path.join(TInteractiveLauncher.tmp_path, name + \".log\")\\n        \\n        os.mkfifo(self.inq_path)\\n        open(self.log_path, \\'w\\').close()\\n        open(self.log_path + \".md\", \\'w\\').close()\\n\\n        self.pid = os.fork()\\n        if self.pid == -1:\\n            print(\"Error\")\\n        if self.pid == 0:\\n            exe_cands = glob.glob(\"../tools/launcher.py\") + glob.glob(\"../../tools/launcher.py\")\\n            assert(len(exe_cands) == 1)\\n            assert(os.execvp(\"python3\", [\"python3\", exe_cands[0], \"-l\", self.log_path, \"-i\", self.inq_path, \"-c\", cmd]) == 0)\\n        self.inq_f = open(self.inq_path, \"w\")\\n        interactive_launcher_opened_set.add(self.pid)\\n        show_log_file(self.log_path)\\n\\n    def write(self, s):\\n        s = s.encode()\\n        assert len(s) == os.write(self.inq_f.fileno(), s)\\n        \\n    def get_pid(self):\\n        n = 100\\n        for i in range(n):\\n            try:\\n                return int(re.findall(r\"PID = (\\\\d+)\", open(self.log_path).readline())[0])\\n            except:\\n                if i + 1 == n:\\n                    raise\\n                time.sleep(0.1)\\n        \\n    def input_queue_path(self):\\n        return self.inq_path\\n        \\n    def wait_stop(self, timeout):\\n        for i in range(int(timeout * 10)):\\n            wpid, status = os.waitpid(self.pid, os.WNOHANG)\\n            if wpid != 0:\\n                return True\\n            time.sleep(0.1)\\n        return False\\n        \\n    def close(self, timeout=3):\\n        self.inq_f.close()\\n        if not self.wait_stop(timeout):\\n            os.kill(self.get_pid(), signal.SIGKILL)\\n            os.waitpid(self.pid, 0)\\n        os.remove(self.inq_path)\\n        # os.remove(self.log_path)\\n        self.inq_path = None\\n        self.log_path = None \\n        interactive_launcher_opened_set.remove(self.pid)\\n        self.pid = None\\n        \\n    @staticmethod\\n    def terminate_all():\\n        if \"interactive_launcher_opened_set\" not in globals():\\n            globals()[\"interactive_launcher_opened_set\"] = set()\\n        global interactive_launcher_opened_set\\n        for pid in interactive_launcher_opened_set:\\n            print(\"Terminate pid=\" + str(pid), file=sys.stderr)\\n            os.kill(pid, signal.SIGKILL)\\n            os.waitpid(pid, 0)\\n        interactive_launcher_opened_set = set()\\n        if os.path.exists(TInteractiveLauncher.tmp_path):\\n            shutil.rmtree(TInteractiveLauncher.tmp_path)\\n    \\nTInteractiveLauncher.terminate_all()\\n   \\nyandex_metrica_allowed = bool(globals().get(\"yandex_metrica_allowed\", False))\\nif yandex_metrica_allowed:\\n    display(HTML(\\'\\'\\'<!-- YANDEX_METRICA_BEGIN -->\\n    <script type=\"text/javascript\" >\\n       (function(m,e,t,r,i,k,a){m[i]=m[i]||function(){(m[i].a=m[i].a||[]).push(arguments)};\\n       m[i].l=1*new Date();k=e.createElement(t),a=e.getElementsByTagName(t)[0],k.async=1,k.src=r,a.parentNode.insertBefore(k,a)})\\n       (window, document, \"script\", \"https://mc.yandex.ru/metrika/tag.js\", \"ym\");\\n\\n       ym(59260609, \"init\", {\\n            clickmap:true,\\n            trackLinks:true,\\n            accurateTrackBounce:true\\n       });\\n    </script>\\n    <noscript><div><img src=\"https://mc.yandex.ru/watch/59260609\" style=\"position:absolute; left:-9999px;\" alt=\"\" /></div></noscript>\\n    <!-- YANDEX_METRICA_END -->\\'\\'\\'))\\n\\ndef make_oneliner():\\n    html_text = \\'(\"В этот ноутбук встроен код Яндекс Метрики для сбора статистики использований. Если вы не хотите, чтобы по вам собиралась статистика, исправьте: yandex_metrica_allowed = False\" if yandex_metrica_allowed else \"\")\\'\\n    html_text += \\' + \"<\"\"!-- MAGICS_SETUP_PRINTING_END -->\"\\'\\n    return \\'\\'.join([\\n        \\'# look at tools/set_up_magics.ipynb\\\\n\\',\\n        \\'yandex_metrica_allowed = True ; get_ipython().run_cell(%s);\\' % repr(one_liner_str),\\n        \\'display(HTML(%s))\\' % html_text,\\n        \\' #\\'\\'MAGICS_SETUP_END\\'\\n    ])\\n       \\n\\n');display(HTML((\"В этот ноутбук встроен код Яндекс Метрики для сбора статистики использований. Если вы не хотите, чтобы по вам собиралась статистика, исправьте: yandex_metrica_allowed = False\" if yandex_metrica_allowed else \"\") + \"<\"\"!-- MAGICS_SETUP_PRINTING_END -->\")) #MAGICS_SETUP_END"
   ]
  },
  {
   "cell_type": "markdown",
   "metadata": {},
   "source": [
    "# Мультиплексирование\n",
    "\n",
    "<br>\n",
    "<div style=\"text-align: right\"> Спасибо <a href=\"https://github.com/SyrnikRebirth\">Сове Глебу</a> и <a href=\"https://github.com/Disadvantaged\">Голяр Димитрису</a> за участие в написании текста </div>\n",
    "<br>\n",
    "\n",
    "\n",
    "<p><a href=\"https://www.youtube.com/watch?v=P2VqCECx3Io&list=PLjzMm8llUm4AmU6i_hPU0NobgA4VsBowc&index=20\" target=\"_blank\">\n",
    "    <h3>Видеозапись семинара</h3> \n",
    "</a></p>\n",
    "\n",
    "\n",
    "[Ридинг Яковлева](https://github.com/victor-yacovlev/mipt-diht-caos/tree/master/practice/epoll)\n",
    "\n",
    "Мультиплексирование - о чем это? Это об одновременной работе с несколькими соединениями. О том, чтобы эффективно решать задачу: вот из этих файловых дескрипторов, нужно прочитать, сразу как только станет доступно, а вот в эти записать, опять же, сразу когда будет возможность.\n",
    "\n",
    "[Хорошая статья на хабре: select / poll / epoll: практическая разница](https://habr.com/ru/company/infopulse/blog/415259/)\n",
    "В этой же статье есть плюсы и минусы `select`/`poll`/`epoll`.\n",
    "\n",
    "[Довольно детальная статья на хабре про epoll](https://habr.com/ru/post/416669/)\n",
    "\n",
    "Способы мультиплексирования:\n",
    "* <a href=\"#pipelike\" style=\"color:#856024\">Для работы с пайпами и сокетами</a>\n",
    "* <a href=\"#aio\" style=\"color:#856024\">Linux AIO</a> - одновременная запись/чтение из нескольких файлов. (К сожалению, это только с файлами работает)\n",
    "\n",
    "<a href=\"#hw\" style=\"color:#856024\">Комментарии к ДЗ</a>"
   ]
  },
  {
   "cell_type": "code",
   "execution_count": null,
   "metadata": {},
   "outputs": [],
   "source": []
  },
  {
   "cell_type": "markdown",
   "metadata": {},
   "source": [
    "#  <a name=\"pipelike\"></a> Варианты мультиплексирования ввода из пайпов и сокетов. От наивных и не работающих до epoll c edge-triggering   \n",
    "\n",
    "С выводом то же самое. Чтобы говорить меньше букв, поговорим только в вводе.\n",
    "\n",
    "* <a href=\"#just_read\" style=\"color:#856024\">Просто обычный read</a> - то, что можно написать, когда на события не нужно реагировать максимально быстро и можно позволить себе обработать первое пришедшее событие после последнего пришедшего.\n",
    "* <a href=\"#read_nonblock\" style=\"color:#856024\"> read из файловых дескрипторов с опцией O_NONBLOCK </a> - с неблокирующим чтением легко позволить себе постоянно пытаться читать из интересных файловых дескрипторов. Но это кушает много процессорного времени - поэтому это далеко не лучший способ.\n",
    "* <a href=\"#select\" style=\"color:#856024\">select</a> - старая штука, но стандартизированная (POSIX), и поддерживется практически везде, где есть интернет.\n",
    "  Минусы: смотри статью на хабре. Но если кратко: в многопоточных программах крайне неудобен + <a href=\"#select_fail\" style=\"color:#856024\">не поддерживает больше 1024 файловых дескрипторов</a> (или просто файловые дескрипторы с номерами >= 1024, тут не уверен).\n",
    "* <a href=\"#select\" style=\"color:#856024\">poll</a> - менее старая штука, стандартизированная (POSIX.1-2001 and POSIX.1-2008).\n",
    "* <a href=\"#epoll\" style=\"color:#856024\">epoll</a> - linux\n",
    "* kqueue - FreeBSD и MacOS. Аналог epoll. Вообще для того, чтобы писать тут кроссплатформенный код, написали библиотеку [libevent](http://libevent.org/)"
   ]
  },
  {
   "cell_type": "markdown",
   "metadata": {},
   "source": [
    "Посмотрим на разные способы мультиплексирования на одной задаче: прочитать все что будет записано от N подпроцессов через пайпы. Читать хочется сразу, как только произошла запись.\n",
    "\n",
    "Разные способы мультиплексирования - разные реализации функции read_all"
   ]
  },
  {
   "cell_type": "code",
   "execution_count": 117,
   "metadata": {},
   "outputs": [],
   "source": [
    "%%cpp multiplexing_reader_common.h\n",
    "\n",
    "#include <stdio.h>\n",
    "#include <stdlib.h>\n",
    "#include <unistd.h>\n",
    "#include <assert.h>\n",
    "#include <sys/resource.h>\n",
    "#include <sys/types.h>\n",
    "#include <errno.h>\n",
    "#include <time.h>\n",
    "#include <stdbool.h>\n",
    "#include <stdint.h>\n",
    "\n",
    "// log_printf - макрос для отладочного вывода, добавляющий время со старта программы, имя функции и номер строки\n",
    "uint64_t start_time_msec; \n",
    "const char* log_prefix(const char* func, int line);\n",
    "#define log_printf_impl(fmt, ...) { time_t t = time(0); dprintf(2, \"%s: \" fmt \"%s\", log_prefix(__FUNCTION__, __LINE__), __VA_ARGS__); }\n",
    "// Format: <time_since_start> <func_name>:<line> : <custom_message>\n",
    "#define log_printf(...) log_printf_impl(__VA_ARGS__, \"\")\n",
    "\n",
    "\n",
    "#define conditional_handle_error(stmt, msg) \\\n",
    "    do { if (stmt) { perror(msg \" (\" #stmt \")\"); exit(EXIT_FAILURE); } } while (0)\n",
    "\n",
    "// Функция, реализации которой мы будем тестировать\n",
    "void read_all(int* fds, int count);"
   ]
  },
  {
   "cell_type": "code",
   "execution_count": 121,
   "metadata": {},
   "outputs": [],
   "source": [
    "%%cpp multiplexing_reader_common.c\n",
    "\n",
    "#include \"multiplexing_reader_common.h\"\n",
    "\n",
    "#include <sys/syscall.h>\n",
    "\n",
    "void  __attribute__ ((constructor)) start_time_setter() { struct timespec spec; clock_gettime(CLOCK_MONOTONIC, &spec); start_time_msec = spec.tv_sec * 1000L + spec.tv_nsec / 1000000; }\n",
    "\n",
    "inline const char* log_prefix(const char* func, int line) {\n",
    "    struct timespec spec; clock_gettime(CLOCK_MONOTONIC, &spec); int delta_msec = spec.tv_sec * 1000L + spec.tv_nsec / 1000000 - start_time_msec;\n",
    "    const int max_func_len = 13; static __thread char prefix[100]; \n",
    "    sprintf(prefix, \"%d.%03d %*s():%-3d [tid=%ld]\", delta_msec / 1000, delta_msec % 1000, max_func_len, func, line, syscall(__NR_gettid));\n",
    "    return prefix;\n",
    "}"
   ]
  },
  {
   "cell_type": "markdown",
   "metadata": {},
   "source": [
    "main тестирующей программы"
   ]
  },
  {
   "cell_type": "code",
   "execution_count": 126,
   "metadata": {},
   "outputs": [],
   "source": [
    "%%cpp multiplexing_reader_test.c\n",
    "\n",
    "#include \"multiplexing_reader_common.h\"\n",
    "\n",
    "#include <stdio.h>\n",
    "#include <stdlib.h>\n",
    "#include <unistd.h>\n",
    "#include <assert.h>\n",
    "#include <sys/resource.h>\n",
    "#include <sys/types.h>\n",
    "#include <sys/wait.h>\n",
    "#include <errno.h>\n",
    "#include <time.h>\n",
    "\n",
    "const int INPUTS_COUNT = 5;\n",
    "\n",
    "int main() {\n",
    "    log_printf(\"Start multiplexing test\\n\");\n",
    "    pid_t pids[INPUTS_COUNT];\n",
    "    int input_fds[INPUTS_COUNT];\n",
    "    // create INPUTS_COUNT subprocesses that will write to pipes with different delays\n",
    "    for (int i = 0; i < INPUTS_COUNT; ++i) {\n",
    "        int fds[2];\n",
    "        pipe(fds);\n",
    "        input_fds[i] = fds[0];\n",
    "        if ((pids[i] = fork()) == 0) {\n",
    "            int sleep_ms = 100 * (INPUTS_COUNT - 1 - i); \n",
    "            struct timespec t = {.tv_sec = sleep_ms / 1000, .tv_nsec = (sleep_ms % 1000) * 1000000};\n",
    "            nanosleep(&t, &t);  \n",
    "                \n",
    "            log_printf(\"Send hello from %d subprocess\\n\", i);\n",
    "            dprintf(fds[1], \"Hello from %d subprocess\\n\", i);\n",
    "            // try with EPOLL realisation\n",
    "            // sleep(10);\n",
    "            // dprintf(fds[1], \"Hello 2 from %d subprocess\\n\", i);\n",
    "            exit(0);\n",
    "        }\n",
    "        close(fds[1]);\n",
    "    }\n",
    "    \n",
    "    // run multiplexing reading\n",
    "    read_all(input_fds, INPUTS_COUNT);\n",
    "     \n",
    "    int status;\n",
    "    for (int i = 0; i < INPUTS_COUNT; ++i) {\n",
    "        close(input_fds[i]);\n",
    "        assert(waitpid(pids[i], &status, 0) != -1);\n",
    "    }\n",
    "    log_printf(\"Finish multiplexing test\\n\");\n",
    "    return 0;\n",
    "}"
   ]
  },
  {
   "cell_type": "markdown",
   "metadata": {},
   "source": [
    "## <a name=\"just_read\"></a> Наивный read"
   ]
  },
  {
   "cell_type": "code",
   "execution_count": 127,
   "metadata": {},
   "outputs": [
    {
     "data": {
      "text/markdown": [
       "Run: `gcc multiplexing_reader_test.c multiplexing_reader_common.c multiplexing_reader_trivial.c -o trivial.exe`"
      ],
      "text/plain": [
       "<IPython.core.display.Markdown object>"
      ]
     },
     "metadata": {},
     "output_type": "display_data"
    },
    {
     "data": {
      "text/markdown": [
       "### Результаты чтения с помощью наивного read"
      ],
      "text/plain": [
       "<IPython.core.display.Markdown object>"
      ]
     },
     "metadata": {},
     "output_type": "display_data"
    },
    {
     "data": {
      "text/markdown": [
       "Видно, что чтение происходит совсем не сразу после записи, так как мультиплексирования по сути нет"
      ],
      "text/plain": [
       "<IPython.core.display.Markdown object>"
      ]
     },
     "metadata": {},
     "output_type": "display_data"
    },
    {
     "data": {
      "text/markdown": [
       "Run: `time -p ./trivial.exe`"
      ],
      "text/plain": [
       "<IPython.core.display.Markdown object>"
      ]
     },
     "metadata": {},
     "output_type": "display_data"
    },
    {
     "name": "stdout",
     "output_type": "stream",
     "text": [
      "0.000          main():18  [tid=69230]: Start multiplexing test\n",
      "0.000      read_all():14  [tid=69230]: Trivial realisation start\n",
      "0.001          main():31  [tid=69235]: Send hello from 4 subprocess\n",
      "0.102          main():31  [tid=69234]: Send hello from 3 subprocess\n",
      "0.217          main():31  [tid=69233]: Send hello from 2 subprocess\n",
      "0.302          main():31  [tid=69232]: Send hello from 1 subprocess\n",
      "0.415          main():31  [tid=69231]: Send hello from 0 subprocess\n",
      "0.415      read_all():21  [tid=69230]: Read from 0 subprocess: Hello from 0 subprocess\n",
      "0.415      read_all():21  [tid=69230]: Read from 1 subprocess: Hello from 1 subprocess\n",
      "0.416      read_all():21  [tid=69230]: Read from 2 subprocess: Hello from 2 subprocess\n",
      "0.416      read_all():21  [tid=69230]: Read from 3 subprocess: Hello from 3 subprocess\n",
      "0.416      read_all():21  [tid=69230]: Read from 4 subprocess: Hello from 4 subprocess\n",
      "0.416      read_all():25  [tid=69230]: Trivial realisation finish\n",
      "0.416          main():49  [tid=69230]: Finish multiplexing test\n",
      "real 0.41\n",
      "user 0.00\n",
      "sys 0.00\n"
     ]
    }
   ],
   "source": [
    "%%cpp multiplexing_reader_trivial.c\n",
    "%run gcc multiplexing_reader_test.c multiplexing_reader_common.c multiplexing_reader_trivial.c -o trivial.exe\n",
    "%MD ### Результаты чтения с помощью наивного read\n",
    "%MD Видно, что чтение происходит совсем не сразу после записи, так как мультиплексирования по сути нет\n",
    "%run time -p ./trivial.exe\n",
    "\n",
    "#include \"multiplexing_reader_common.h\"\n",
    "\n",
    "#include <sys/epoll.h>\n",
    "\n",
    "void read_all(int* input_fds, int count) {\n",
    "    // Работает неэффективно, так как при попытке считать из пайпа мы можем на этом надолго заблокироваться \n",
    "    // А в другом пайпе данные могут появиться, но мы их не сможем обработать сразу (заблокированы, пытаясь читать другой пайп)\n",
    "    log_printf(\"Trivial realisation start\\n\");\n",
    "    // Проходимся по всем файловым дескрипторам (специально выбрал плохой порядок)\n",
    "    for (int i = 0; i < count; ++i) {\n",
    "        char buf[100];\n",
    "        int read_bytes = 0;\n",
    "        while ((read_bytes = read(input_fds[i], buf, sizeof(buf))) > 0) { // Читаем файл пока он не закроется.\n",
    "            buf[read_bytes] = '\\0';\n",
    "            log_printf(\"Read from %d subprocess: %s\", i, buf);\n",
    "        }\n",
    "        conditional_handle_error(read_bytes < 0, \"read error\");\n",
    "    }\n",
    "    log_printf(\"Trivial realisation finish\\n\");\n",
    "}\n"
   ]
  },
  {
   "cell_type": "markdown",
   "metadata": {},
   "source": [
    "## <a name=\"read_nonblock\"></a> Наивный read + NONBLOCK"
   ]
  },
  {
   "cell_type": "code",
   "execution_count": 128,
   "metadata": {
    "scrolled": false
   },
   "outputs": [
    {
     "data": {
      "text/markdown": [
       "Run: `gcc multiplexing_reader_test.c multiplexing_reader_common.c multiplexing_reader_nonblock.c -o nonblock.exe`"
      ],
      "text/plain": [
       "<IPython.core.display.Markdown object>"
      ]
     },
     "metadata": {},
     "output_type": "display_data"
    },
    {
     "data": {
      "text/markdown": [
       "### Результаты чтения с помощью наивного неблокирующего read"
      ],
      "text/plain": [
       "<IPython.core.display.Markdown object>"
      ]
     },
     "metadata": {},
     "output_type": "display_data"
    },
    {
     "data": {
      "text/markdown": [
       "Видно, что чтение происходит сразу после записи, **но user и system time близки к затраченному астрономическому времени**, то есть сожжено дикое количество процессорного времени"
      ],
      "text/plain": [
       "<IPython.core.display.Markdown object>"
      ]
     },
     "metadata": {},
     "output_type": "display_data"
    },
    {
     "data": {
      "text/markdown": [
       "Run: `time -p ./nonblock.exe`"
      ],
      "text/plain": [
       "<IPython.core.display.Markdown object>"
      ]
     },
     "metadata": {},
     "output_type": "display_data"
    },
    {
     "name": "stdout",
     "output_type": "stream",
     "text": [
      "0.000          main():18  [tid=69248]: Start multiplexing test\n",
      "0.000      read_all():16  [tid=69248]: Nonblock realisation start\n",
      "0.001          main():31  [tid=69253]: Send hello from 4 subprocess\n",
      "0.001      read_all():33  [tid=69248]: Read from 4 subprocess: Hello from 4 subprocess\n",
      "0.100          main():31  [tid=69252]: Send hello from 3 subprocess\n",
      "0.101      read_all():33  [tid=69248]: Read from 3 subprocess: Hello from 3 subprocess\n",
      "0.201          main():31  [tid=69251]: Send hello from 2 subprocess\n",
      "0.201      read_all():33  [tid=69248]: Read from 2 subprocess: Hello from 2 subprocess\n",
      "0.300          main():31  [tid=69250]: Send hello from 1 subprocess\n",
      "0.300      read_all():33  [tid=69248]: Read from 1 subprocess: Hello from 1 subprocess\n",
      "0.401          main():31  [tid=69249]: Send hello from 0 subprocess\n",
      "0.401      read_all():33  [tid=69248]: Read from 0 subprocess: Hello from 0 subprocess\n",
      "0.401      read_all():43  [tid=69248]: Nonblock realisation finish\n",
      "0.401          main():49  [tid=69248]: Finish multiplexing test\n",
      "real 0.40\n",
      "user 0.21\n",
      "sys 0.18\n"
     ]
    }
   ],
   "source": [
    "%%cpp multiplexing_reader_nonblock.c\n",
    "%run gcc multiplexing_reader_test.c multiplexing_reader_common.c multiplexing_reader_nonblock.c -o nonblock.exe\n",
    "%MD ### Результаты чтения с помощью наивного неблокирующего read\n",
    "%MD Видно, что чтение происходит сразу после записи, **но user и system time близки к затраченному астрономическому времени**, то есть сожжено дикое количество процессорного времени\n",
    "%run time -p ./nonblock.exe\n",
    "\n",
    "#include \"multiplexing_reader_common.h\"\n",
    "\n",
    "#include <fcntl.h>\n",
    "#include <sys/epoll.h>\n",
    "\n",
    "void read_all(int* input_fds, int count) {\n",
    "    // Работает быстро, так как читает все что есть в \"файле\" на данный момент вне зависимости от того пишет ли туда кто-нибудь или нет\n",
    "    // У этого метода есть большая проблема: внутри вечного цикла постоянно вызывается системное прерывание.\n",
    "    // Процессорное время тратится впустую.\n",
    "    log_printf(\"Nonblock realisation start\\n\");\n",
    "    for (int i = 0; i < count; ++i) {\n",
    "        fcntl(input_fds[i], F_SETFL, fcntl(input_fds[i], F_GETFL) | O_NONBLOCK); // Пометили дескрипторы как неблокирующие\n",
    "    }\n",
    "    bool all_closed = false;\n",
    "    while (!all_closed) {\n",
    "        all_closed = true;\n",
    "        for (int i = 0; i < count; ++i) { // Проходимся по всем файловым дескрипторам\n",
    "            if (input_fds[i] == -1) {\n",
    "                continue;\n",
    "            }\n",
    "            all_closed = false;\n",
    "            char buf[100];\n",
    "            int read_bytes = 0;\n",
    "            // Пытаемся читать пока либо не кончится файл, либо не поймаем ошибку\n",
    "            while ((read_bytes = read(input_fds[i], buf, sizeof(buf))) > 0) {\n",
    "                buf[read_bytes] = '\\0';\n",
    "                log_printf(\"Read from %d subprocess: %s\", i, buf);\n",
    "            }\n",
    "            if (read_bytes == 0) { // Либо прочитали весь файл\n",
    "                close(input_fds[i]);\n",
    "                input_fds[i] = -1;\n",
    "            } else {\n",
    "                conditional_handle_error(errno != EAGAIN, \"strange error\"); // Либо поймали ошибку (+ проверяем, что ошибка ожидаемая)\n",
    "            }\n",
    "        }\n",
    "    }\n",
    "    log_printf(\"Nonblock realisation finish\\n\");\n",
    "}\n"
   ]
  },
  {
   "cell_type": "markdown",
   "metadata": {},
   "source": [
    "## <a name=\"epoll\"></a> epoll c level-triggering"
   ]
  },
  {
   "cell_type": "code",
   "execution_count": 129,
   "metadata": {},
   "outputs": [
    {
     "data": {
      "text/markdown": [
       "Run: `gcc multiplexing_reader_test.c multiplexing_reader_common.c multiplexing_reader_epoll.c -o epoll.exe`"
      ],
      "text/plain": [
       "<IPython.core.display.Markdown object>"
      ]
     },
     "metadata": {},
     "output_type": "display_data"
    },
    {
     "data": {
      "text/markdown": [
       "### Результаты чтения с помощью epoll c level-triggering"
      ],
      "text/plain": [
       "<IPython.core.display.Markdown object>"
      ]
     },
     "metadata": {},
     "output_type": "display_data"
    },
    {
     "data": {
      "text/markdown": [
       "Видно, что чтение происходит сразу после записи, а user и system time близки к 0"
      ],
      "text/plain": [
       "<IPython.core.display.Markdown object>"
      ]
     },
     "metadata": {},
     "output_type": "display_data"
    },
    {
     "data": {
      "text/markdown": [
       "Run: `time -p ./epoll.exe`"
      ],
      "text/plain": [
       "<IPython.core.display.Markdown object>"
      ]
     },
     "metadata": {},
     "output_type": "display_data"
    },
    {
     "name": "stdout",
     "output_type": "stream",
     "text": [
      "0.000          main():18  [tid=69266]: Start multiplexing test\n",
      "0.001      read_all():15  [tid=69266]: Epoll realisation start\n",
      "0.001          main():31  [tid=69271]: Send hello from 4 subprocess\n",
      "0.001      read_all():48  [tid=69266]: Read from 4 subprocess: Hello from 4 subprocess\n",
      "0.102          main():31  [tid=69270]: Send hello from 3 subprocess\n",
      "0.102      read_all():48  [tid=69266]: Read from 3 subprocess: Hello from 3 subprocess\n",
      "0.201          main():31  [tid=69269]: Send hello from 2 subprocess\n",
      "0.201      read_all():48  [tid=69266]: Read from 2 subprocess: Hello from 2 subprocess\n",
      "0.301          main():31  [tid=69268]: Send hello from 1 subprocess\n",
      "0.302      read_all():48  [tid=69266]: Read from 1 subprocess: Hello from 1 subprocess\n",
      "0.401          main():31  [tid=69267]: Send hello from 0 subprocess\n",
      "0.402      read_all():48  [tid=69266]: Read from 0 subprocess: Hello from 0 subprocess\n",
      "0.402      read_all():60  [tid=69266]: Epoll realisation finish\n",
      "0.402          main():49  [tid=69266]: Finish multiplexing test\n",
      "real 0.40\n",
      "user 0.00\n",
      "sys 0.00\n"
     ]
    }
   ],
   "source": [
    "%%cpp multiplexing_reader_epoll.c\n",
    "%run gcc multiplexing_reader_test.c multiplexing_reader_common.c multiplexing_reader_epoll.c -o epoll.exe\n",
    "%MD ### Результаты чтения с помощью epoll c level-triggering\n",
    "%MD Видно, что чтение происходит сразу после записи, а user и system time близки к 0\n",
    "%run time -p ./epoll.exe\n",
    "\n",
    "#include \"multiplexing_reader_common.h\"\n",
    "\n",
    "#include <fcntl.h>\n",
    "#include <sys/epoll.h>\n",
    "\n",
    "void read_all(int* input_fds, int count) {\n",
    "    // Круче предыдущего, потому что этот вариант программы не ест процессорное время ни на что\n",
    "    // (в данном случае на проверку условия того, что в файле ничего нет)\n",
    "    log_printf(\"Epoll realisation start\\n\");\n",
    "    // Создаем epoll-объект. В случае Level Triggering события объект скорее представляет собой множество файловых дескрипторов по которым есть события. \n",
    "    // И мы можем читать это множество, вызывая epoll_wait\n",
    "    // epoll_create has one legacy parameter, so I prefer to use newer function. \n",
    "    int epoll_fd = epoll_create1(0);\n",
    "    // Тут мы подписываемся на события, которые будет учитывать epoll-объект, т.е. указываем события за которыми мы следим\n",
    "    for (int i = 0; i < count; ++i) {\n",
    "        struct epoll_event event = {\n",
    "            .events = EPOLLIN | EPOLLERR | EPOLLHUP, \n",
    "            .data = {.u32 = i} // user data\n",
    "        };\n",
    "        epoll_ctl(epoll_fd, EPOLL_CTL_ADD, input_fds[i], &event);\n",
    "    }\n",
    "    int not_closed = count;\n",
    "    while (not_closed > 0) {\n",
    "        struct epoll_event event;\n",
    "        int epoll_ret = epoll_wait(epoll_fd, &event, 1, 1000); // Читаем события из epoll-объект (то есть из множества файловых дескриптотров, по которым есть события)\n",
    "        if (epoll_ret <= 0) {\n",
    "            continue;\n",
    "        }\n",
    "        \n",
    "        assert(event.events & (EPOLLIN | EPOLLHUP));\n",
    "        \n",
    "        int i = event.data.u32; // Получаем обратно заданную user data\n",
    "        \n",
    "        char buf[100];\n",
    "        int read_bytes = 0;\n",
    "        // Что-то прочитали из файла.\n",
    "        // Так как read вызывается один раз, то если мы все не считаем, то нам придется делать это еще раз на следующей итерации большого цикла. \n",
    "        // (иначе можем надолго заблокироваться)\n",
    "        // Решение: комбинируем со реализацией через O_NONBLOCK и в этом месте читаем все что доступно до самого конца\n",
    "        if ((read_bytes = read(input_fds[i], buf, sizeof(buf))) > 0) {\n",
    "            buf[read_bytes] = '\\0';\n",
    "            log_printf(\"Read from %d subprocess: %s\", i, buf);\n",
    "        } else if (read_bytes == 0) { // Файл закрылся, поэтому выкидываем его файловый дескриптор\n",
    "            // Это системный вызов. Он довольно дорогой. Такая вот плата за epoll (в сравнении с poll, select)\n",
    "            epoll_ctl(epoll_fd, EPOLL_CTL_DEL, input_fds[i], NULL);\n",
    "            close(input_fds[i]);\n",
    "            input_fds[i] = -1;\n",
    "            not_closed -= 1;\n",
    "        } else {\n",
    "            conditional_handle_error(1, \"strange error\");\n",
    "        }\n",
    "    }\n",
    "    close(epoll_fd);\n",
    "    log_printf(\"Epoll realisation finish\\n\");\n",
    "}\n"
   ]
  },
  {
   "cell_type": "markdown",
   "metadata": {},
   "source": [
    "## epoll c edge-triggering"
   ]
  },
  {
   "cell_type": "code",
   "execution_count": 130,
   "metadata": {},
   "outputs": [
    {
     "data": {
      "text/markdown": [
       "Run: `gcc multiplexing_reader_test.c multiplexing_reader_common.c multiplexing_reader_epoll_edge.c -o epoll_edge.exe`"
      ],
      "text/plain": [
       "<IPython.core.display.Markdown object>"
      ]
     },
     "metadata": {},
     "output_type": "display_data"
    },
    {
     "data": {
      "text/markdown": [
       "### Результаты чтения с помощью epoll c edge-triggering (EPOLLET опция)"
      ],
      "text/plain": [
       "<IPython.core.display.Markdown object>"
      ]
     },
     "metadata": {},
     "output_type": "display_data"
    },
    {
     "data": {
      "text/markdown": [
       "Видно, что чтение происходит сразу после записи, а user и system time близки к 0"
      ],
      "text/plain": [
       "<IPython.core.display.Markdown object>"
      ]
     },
     "metadata": {},
     "output_type": "display_data"
    },
    {
     "data": {
      "text/markdown": [
       "Run: `time -p ./epoll_edge.exe`"
      ],
      "text/plain": [
       "<IPython.core.display.Markdown object>"
      ]
     },
     "metadata": {},
     "output_type": "display_data"
    },
    {
     "name": "stdout",
     "output_type": "stream",
     "text": [
      "0.000          main():18  [tid=69284]: Start multiplexing test\n",
      "0.000      read_all():17  [tid=69284]: Epoll edge-triggered realisation start\n",
      "0.000          main():31  [tid=69289]: Send hello from 4 subprocess\n",
      "0.000      read_all():46  [tid=69284]: Read from 4 subprocess: Hello from 4 subprocess\n",
      "0.101          main():31  [tid=69288]: Send hello from 3 subprocess\n",
      "0.101      read_all():46  [tid=69284]: Read from 3 subprocess: Hello from 3 subprocess\n",
      "0.203          main():31  [tid=69287]: Send hello from 2 subprocess\n",
      "0.203      read_all():46  [tid=69284]: Read from 2 subprocess: Hello from 2 subprocess\n",
      "0.300          main():31  [tid=69286]: Send hello from 1 subprocess\n",
      "0.301      read_all():46  [tid=69284]: Read from 1 subprocess: Hello from 1 subprocess\n",
      "0.402          main():31  [tid=69285]: Send hello from 0 subprocess\n",
      "0.402      read_all():46  [tid=69284]: Read from 0 subprocess: Hello from 0 subprocess\n",
      "0.402      read_all():58  [tid=69284]: Epoll edge-triggered realisation finish\n",
      "0.402          main():49  [tid=69284]: Finish multiplexing test\n",
      "real 0.40\n",
      "user 0.00\n",
      "sys 0.00\n"
     ]
    }
   ],
   "source": [
    "%%cpp multiplexing_reader_epoll_edge.c\n",
    "%run gcc multiplexing_reader_test.c multiplexing_reader_common.c multiplexing_reader_epoll_edge.c -o epoll_edge.exe\n",
    "%MD ### Результаты чтения с помощью epoll c edge-triggering (EPOLLET опция)\n",
    "%MD Видно, что чтение происходит сразу после записи, а user и system time близки к 0\n",
    "%run time -p ./epoll_edge.exe\n",
    "\n",
    "#include \"multiplexing_reader_common.h\"\n",
    "\n",
    "#include <fcntl.h>\n",
    "#include <sys/epoll.h>\n",
    "\n",
    "void read_all(int* input_fds, int count) {\n",
    "    // epoll + edge triggering\n",
    "    // В этом случае объект epoll уже является очередью. \n",
    "    // Ядро в него нам пишет событие каждый раз, когда случается событие, на которое мы подписались\n",
    "    // А мы в дальнейшем извлекаем эти события (и в очереди их больше не будет).\n",
    "    log_printf(\"Epoll edge-triggered realisation start\\n\");\n",
    "    \n",
    "    // sleep(1); // так можно проверить, не потеряем ли мы информацию о записанном в файловые дескрипторы, если сделаем EPOLL_CTL_ADD после записи\n",
    "    int epoll_fd = epoll_create1(0);\n",
    "    for (int i = 0; i < count; ++i) {\n",
    "        fcntl(input_fds[i], F_SETFL, fcntl(input_fds[i], F_GETFL) | O_NONBLOCK);\n",
    "        // Обратите внимание на EPOLLET\n",
    "        struct epoll_event event = {\n",
    "            .events = EPOLLIN | EPOLLERR | EPOLLHUP | EPOLLET, \n",
    "            .data = {.u32 = i}\n",
    "        };\n",
    "        epoll_ctl(epoll_fd, EPOLL_CTL_ADD, input_fds[i], &event);\n",
    "    }\n",
    "    int not_closed = count;\n",
    "    while (not_closed > 0) {\n",
    "        // У меня тут возник вопрос: а получим ли мы уведомления о файловых дескрипторах, \n",
    "        // из которых на момент EPOLL_CTL_ADD УЖЕ есть что читать?\n",
    "        // Не нашел в документации, но многочисленные примеры говорят, что можно считать, что получим.\n",
    "        struct epoll_event event;\n",
    "        int epoll_ret = epoll_wait(epoll_fd, &event, 1, 1000);\n",
    "        if (epoll_ret <= 0) {\n",
    "            continue;\n",
    "        }\n",
    "        int i = event.data.u32;\n",
    "    \n",
    "        char buf[100];\n",
    "        int read_bytes = 0;\n",
    "        while ((read_bytes = read(input_fds[i], buf, sizeof(buf))) > 0) {\n",
    "            buf[read_bytes] = '\\0';\n",
    "            log_printf(\"Read from %d subprocess: %s\", i, buf);\n",
    "        } \n",
    "        if (read_bytes == 0) {\n",
    "            epoll_ctl(epoll_fd, EPOLL_CTL_DEL, input_fds[i], NULL);\n",
    "            close(input_fds[i]);\n",
    "            input_fds[i] = -1;\n",
    "            not_closed -= 1;\n",
    "        } else {\n",
    "            conditional_handle_error(errno != EAGAIN, \"strange error\");\n",
    "        }\n",
    "    }\n",
    "    close(epoll_fd);\n",
    "    log_printf(\"Epoll edge-triggered realisation finish\\n\");\n",
    "}\n"
   ]
  },
  {
   "cell_type": "markdown",
   "metadata": {},
   "source": [
    "## <a name=\"select\"></a> select"
   ]
  },
  {
   "cell_type": "code",
   "execution_count": 131,
   "metadata": {},
   "outputs": [
    {
     "data": {
      "text/markdown": [
       "Run: `gcc multiplexing_reader_test.c multiplexing_reader_common.c multiplexing_reader_select.c -o select.exe`"
      ],
      "text/plain": [
       "<IPython.core.display.Markdown object>"
      ]
     },
     "metadata": {},
     "output_type": "display_data"
    },
    {
     "data": {
      "text/markdown": [
       "### Результаты чтения с помощью select"
      ],
      "text/plain": [
       "<IPython.core.display.Markdown object>"
      ]
     },
     "metadata": {},
     "output_type": "display_data"
    },
    {
     "data": {
      "text/markdown": [
       "Видно, что чтение происходит сразу после записи, а user и system time близки к 0"
      ],
      "text/plain": [
       "<IPython.core.display.Markdown object>"
      ]
     },
     "metadata": {},
     "output_type": "display_data"
    },
    {
     "data": {
      "text/markdown": [
       "Run: `time -p ./select.exe`"
      ],
      "text/plain": [
       "<IPython.core.display.Markdown object>"
      ]
     },
     "metadata": {},
     "output_type": "display_data"
    },
    {
     "name": "stdout",
     "output_type": "stream",
     "text": [
      "0.000          main():18  [tid=69302]: Start multiplexing test\n",
      "0.001      read_all():13  [tid=69302]: Select realisation start\n",
      "0.001          main():31  [tid=69307]: Send hello from 4 subprocess\n",
      "0.001      read_all():40  [tid=69302]: Read from 4 subprocess: Hello from 4 subprocess\n",
      "0.102          main():31  [tid=69306]: Send hello from 3 subprocess\n",
      "0.102      read_all():40  [tid=69302]: Read from 3 subprocess: Hello from 3 subprocess\n",
      "0.204          main():31  [tid=69305]: Send hello from 2 subprocess\n",
      "0.204      read_all():40  [tid=69302]: Read from 2 subprocess: Hello from 2 subprocess\n",
      "0.303          main():31  [tid=69304]: Send hello from 1 subprocess\n",
      "0.303      read_all():40  [tid=69302]: Read from 1 subprocess: Hello from 1 subprocess\n",
      "0.403          main():31  [tid=69303]: Send hello from 0 subprocess\n",
      "0.403      read_all():40  [tid=69302]: Read from 0 subprocess: Hello from 0 subprocess\n",
      "0.403      read_all():52  [tid=69302]: Select realisation finish\n",
      "0.403          main():49  [tid=69302]: Finish multiplexing test\n",
      "real 0.40\n",
      "user 0.00\n",
      "sys 0.00\n"
     ]
    }
   ],
   "source": [
    "%%cpp multiplexing_reader_select.c\n",
    "%run gcc multiplexing_reader_test.c multiplexing_reader_common.c multiplexing_reader_select.c -o select.exe\n",
    "%MD ### Результаты чтения с помощью select\n",
    "%MD Видно, что чтение происходит сразу после записи, а user и system time близки к 0\n",
    "%run time -p ./select.exe\n",
    "\n",
    "#include \"multiplexing_reader_common.h\"\n",
    "\n",
    "#include <fcntl.h>\n",
    "#include <sys/epoll.h>\n",
    "\n",
    "void read_all(int* input_fds, int count) {\n",
    "    log_printf(\"Select realisation start\\n\");\n",
    "\n",
    "    struct timeval tv = {.tv_sec = 1, .tv_usec = 0};\n",
    "    int not_closed = count;\n",
    "    while (not_closed > 0) {\n",
    "        int max_fd = 0;\n",
    "        // Так как структура fd_set используется и на вход (какие дескрипторы обрабатывать) и на выход (из каких пришёл вывод), её надо повторно инициализировать.\n",
    "        fd_set rfds;\n",
    "        FD_ZERO(&rfds);\n",
    "        for (int i = 0; i < count; ++i) {\n",
    "            if (input_fds[i] != -1) {\n",
    "                assert(input_fds[i] < 1024);\n",
    "                FD_SET(input_fds[i], &rfds);\n",
    "                max_fd = (input_fds[i] < max_fd) ? max_fd : input_fds[i];\n",
    "            }\n",
    "        }\n",
    "        // аргументы: макс количество файловых дескрипторов, доступное количество на чтение, запись, ошибки, время ожидания.\n",
    "        int select_ret = select(max_fd + 1, &rfds, NULL, NULL, &tv);\n",
    "        conditional_handle_error(select_ret == -1, \"select error\");\n",
    "        if (select_ret > 0) {\n",
    "            for (int i = 0; i < count; ++i) {\n",
    "                // Проверяем, какой дескриптор послал данные.\n",
    "                if (input_fds[i] != -1 && FD_ISSET(input_fds[i], &rfds)) {\n",
    "                    char buf[100];\n",
    "                    int read_bytes = 0;\n",
    "                    if ((read_bytes = read(input_fds[i], buf, sizeof(buf))) > 0) {\n",
    "                        buf[read_bytes] = '\\0';\n",
    "                        log_printf(\"Read from %d subprocess: %s\", i, buf);\n",
    "                    } else if (read_bytes == 0) {\n",
    "                        close(input_fds[i]);\n",
    "                        input_fds[i] = -1;\n",
    "                        not_closed -= 1;\n",
    "                    } else {\n",
    "                        conditional_handle_error(1, \"strange error\");\n",
    "                    }\n",
    "                }\n",
    "            }\n",
    "        }\n",
    "    }\n",
    "    log_printf(\"Select realisation finish\\n\");\n",
    "}\n"
   ]
  },
  {
   "cell_type": "code",
   "execution_count": null,
   "metadata": {},
   "outputs": [],
   "source": []
  },
  {
   "cell_type": "markdown",
   "metadata": {},
   "source": [
    "# <a name=\"select_fail\"></a> Select fail\n",
    "\n",
    "Как-то в монорепозитории Яндекса обновили openssl...\n",
    "\n",
    "(Суть в том, что select не поддерживает файловые дескрипторы с номерами больше 1024. Это пример на такую ошибку)"
   ]
  },
  {
   "cell_type": "code",
   "execution_count": 132,
   "metadata": {},
   "outputs": [
    {
     "data": {
      "text/markdown": [
       "Run: `gcc select_fail.c -o select_fail.exe`"
      ],
      "text/plain": [
       "<IPython.core.display.Markdown object>"
      ]
     },
     "metadata": {},
     "output_type": "display_data"
    },
    {
     "data": {
      "text/markdown": [
       "Run: `ulimit -n 1200 && ./select_fail.exe`"
      ],
      "text/plain": [
       "<IPython.core.display.Markdown object>"
      ]
     },
     "metadata": {},
     "output_type": "display_data"
    },
    {
     "name": "stdout",
     "output_type": "stream",
     "text": [
      "0.001          main():64  [tid=69315]: Select start input_fd=1013\n",
      "1.002          main():73  [tid=69315]: Secret is abcdefghijklmnop\n",
      "1.002          main():85  [tid=69315]: Read from child subprocess: Hello from exactly one subprocess\n",
      "1.002          main():73  [tid=69315]: Secret is abcdefghijklmnop\n"
     ]
    },
    {
     "data": {
      "text/markdown": [
       "Run: `gcc -DBIG_FD select_fail.c -o select_fail.exe`"
      ],
      "text/plain": [
       "<IPython.core.display.Markdown object>"
      ]
     },
     "metadata": {},
     "output_type": "display_data"
    },
    {
     "data": {
      "text/markdown": [
       "Run: `ulimit -n 1200 && ./select_fail.exe`"
      ],
      "text/plain": [
       "<IPython.core.display.Markdown object>"
      ]
     },
     "metadata": {},
     "output_type": "display_data"
    },
    {
     "name": "stdout",
     "output_type": "stream",
     "text": [
      "0.001          main():64  [tid=69324]: Select start input_fd=1033\n",
      "1.002          main():73  [tid=69324]: Secret is a\u0002\n",
      "1.002          main():75  [tid=69324]: Hey! select is broken!\n",
      "1.002          main():85  [tid=69324]: Read from child subprocess: Hello from exactly one subprocess\n",
      "1.002          main():73  [tid=69324]: Secret is a\u0002\n",
      "1.002          main():75  [tid=69324]: Hey! select is broken!\n"
     ]
    }
   ],
   "source": [
    "%%cpp select_fail.c\n",
    "%run gcc select_fail.c -o select_fail.exe\n",
    "%run ulimit -n 1200 && ./select_fail.exe\n",
    "%run gcc -DBIG_FD select_fail.c -o select_fail.exe\n",
    "%run ulimit -n 1200 && ./select_fail.exe\n",
    "\n",
    "#include <stdio.h>\n",
    "#include <stdlib.h>\n",
    "#include <unistd.h>\n",
    "#include <assert.h>\n",
    "#include <fcntl.h>\n",
    "#include <sys/resource.h>\n",
    "#include <sys/syscall.h>\n",
    "#include <sys/types.h>\n",
    "#include <sys/wait.h>\n",
    "#include <errno.h>\n",
    "#include <time.h>\n",
    "#include <sys/epoll.h>\n",
    "#include <string.h>\n",
    "#include <stdint.h>\n",
    "\n",
    "// log_printf - макрос для отладочного вывода, добавляющий время со старта программы, имя функции и номер строки\n",
    "uint64_t start_time_msec; void  __attribute__ ((constructor)) start_time_setter() { struct timespec spec; clock_gettime(CLOCK_MONOTONIC, &spec); start_time_msec = spec.tv_sec * 1000L + spec.tv_nsec / 1000000; }\n",
    "const char* log_prefix(const char* func, int line) {\n",
    "    struct timespec spec; clock_gettime(CLOCK_MONOTONIC, &spec); int delta_msec = spec.tv_sec * 1000L + spec.tv_nsec / 1000000 - start_time_msec;\n",
    "    const int max_func_len = 13; static __thread char prefix[100]; \n",
    "    sprintf(prefix, \"%d.%03d %*s():%-3d [tid=%ld]\", delta_msec / 1000, delta_msec % 1000, max_func_len, func, line, syscall(__NR_gettid));\n",
    "    return prefix;\n",
    "}\n",
    "#define log_printf_impl(fmt, ...) { time_t t = time(0); dprintf(2, \"%s: \" fmt \"%s\", log_prefix(__FUNCTION__, __LINE__), __VA_ARGS__); }\n",
    "// Format: <time_since_start> <func_name>:<line> : <custom_message>\n",
    "#define log_printf(...) log_printf_impl(__VA_ARGS__, \"\")\n",
    "\n",
    "#define conditional_handle_error(stmt, msg) \\\n",
    "    do { if (stmt) { perror(msg \" (\" #stmt \")\"); exit(EXIT_FAILURE); } } while (0)\n",
    "\n",
    "#ifdef BIG_FD\n",
    "const int EXTRA_FD_COUNT = 1030;\n",
    "#else\n",
    "const int EXTRA_FD_COUNT = 1010;\n",
    "#endif\n",
    "\n",
    "int main() {\n",
    "    pid_t child_pid;\n",
    "    int input_fd;\n",
    "   \n",
    "    {\n",
    "        int fds[2];\n",
    "        pipe(fds);\n",
    "        input_fd = fds[0];\n",
    "        if ((child_pid = fork()) == 0) {\n",
    "            sleep(1);\n",
    "            dprintf(fds[1], \"Hello from exactly one subprocess\\n\");\n",
    "            exit(0);\n",
    "        }\n",
    "        assert(child_pid > 0);\n",
    "        close(fds[1]);\n",
    "    }\n",
    "    \n",
    "    for (int i = 0; i < EXTRA_FD_COUNT; ++i) {\n",
    "        input_fd = dup(input_fd); // yes, we don't bother closing file descriptors in this example\n",
    "    }\n",
    "    \n",
    "    log_printf(\"Select start input_fd=%d\\n\", input_fd);\n",
    "    \n",
    "    struct timeval tv = {.tv_sec = 10, .tv_usec = 0};\n",
    "    while (input_fd != -1) {\n",
    "        fd_set rfds;\n",
    "        FD_ZERO(&rfds);\n",
    "        FD_SET(input_fd, &rfds);\n",
    "        char secret[] = \"abcdefghijklmnop\";\n",
    "        int select_ret = select(input_fd + 1, &rfds, NULL, NULL, &tv);\n",
    "        log_printf(\"Secret is %s\\n\", secret);\n",
    "        if (strcmp(secret, \"abcdefghijklmnop\") != 0) {\n",
    "            log_printf(\"Hey! select is broken!\\n\");\n",
    "        }\n",
    "        conditional_handle_error(select_ret == -1, \"select error\");\n",
    "        if (select_ret > 0) {\n",
    "            assert(FD_ISSET(input_fd, &rfds));\n",
    "            \n",
    "            char buf[100];\n",
    "            int read_bytes = 0;\n",
    "            if ((read_bytes = read(input_fd, buf, sizeof(buf) - 1)) > 0) {\n",
    "                buf[read_bytes] = '\\0';\n",
    "                log_printf(\"Read from child subprocess: %s\", buf);\n",
    "            } else if (read_bytes == 0) {\n",
    "                input_fd = -1;\n",
    "            } else {\n",
    "                conditional_handle_error(errno != EAGAIN, \"strange error\");\n",
    "            }\n",
    "        }\n",
    "    }\n",
    "    \n",
    "    int status;    \n",
    "    assert(waitpid(child_pid, &status, 0) != -1);\n",
    "    return 0;\n",
    "}"
   ]
  },
  {
   "cell_type": "code",
   "execution_count": null,
   "metadata": {},
   "outputs": [],
   "source": []
  },
  {
   "cell_type": "markdown",
   "metadata": {},
   "source": [
    "# <a name=\"aio\"></a> Linux AIO\n",
    "\n",
    "Медленными бывают так же диски. И у них есть особенность: они не завершаются с ошибкой EAGAIN если нет данных. А просто долго висят в операциях read, write.\n",
    "\n",
    "Как жить? Можно делать несколько операций одновременно. И чтобы не плодить потоки (блочить каждый поток на записи/чтении) можно юзать Linux AIO\n",
    "\n",
    "Предустановка\n",
    "\n",
    "```bash\n",
    "sudo apt-get install libaio1\n",
    "sudo apt-get install libaio-dev\n",
    "```\n",
    "\n",
    "Статейки\n",
    "\n",
    "https://github.com/littledan/linux-aio\n",
    "\n",
    "https://oxnz.github.io/2016/10/13/linux-aio/#install"
   ]
  },
  {
   "cell_type": "code",
   "execution_count": 133,
   "metadata": {
    "scrolled": true
   },
   "outputs": [
    {
     "data": {
      "text/markdown": [
       "Run: `gcc aio.c -o aio.exe -laio # обратите внимание`"
      ],
      "text/plain": [
       "<IPython.core.display.Markdown object>"
      ]
     },
     "metadata": {},
     "output_type": "display_data"
    },
    {
     "data": {
      "text/markdown": [
       "Run: `./aio.exe`"
      ],
      "text/plain": [
       "<IPython.core.display.Markdown object>"
      ]
     },
     "metadata": {},
     "output_type": "display_data"
    },
    {
     "name": "stdout",
     "output_type": "stream",
     "text": [
      "0.000          main():55  [tid=69333]: Opened file './output_0.txt' fd 3\r\n",
      "0.000          main():55  [tid=69333]: Opened file './output_1.txt' fd 4\r\n",
      "0.000          main():90  [tid=69333]: 0 written ok\r\n",
      "0.000          main():90  [tid=69333]: 1 written ok\r\n"
     ]
    },
    {
     "data": {
      "text/markdown": [
       "Run: `cat ./output_0.txt`"
      ],
      "text/plain": [
       "<IPython.core.display.Markdown object>"
      ]
     },
     "metadata": {},
     "output_type": "display_data"
    },
    {
     "name": "stdout",
     "output_type": "stream",
     "text": [
      "hello to file 0\r\n"
     ]
    },
    {
     "data": {
      "text/markdown": [
       "Run: `cat ./output_1.txt`"
      ],
      "text/plain": [
       "<IPython.core.display.Markdown object>"
      ]
     },
     "metadata": {},
     "output_type": "display_data"
    },
    {
     "name": "stdout",
     "output_type": "stream",
     "text": [
      "hello to file 1\r\n"
     ]
    }
   ],
   "source": [
    "%%cpp aio.c\n",
    "%run gcc aio.c -o aio.exe -laio # обратите внимание\n",
    "%run ./aio.exe\n",
    "%run cat ./output_0.txt\n",
    "%run cat ./output_1.txt\n",
    "\n",
    "#include <stdio.h>\n",
    "#include <stdlib.h>\n",
    "#include <unistd.h>\n",
    "#include <assert.h>\n",
    "#include <fcntl.h>\n",
    "#include <sys/resource.h>\n",
    "#include <sys/syscall.h>\n",
    "#include <sys/types.h>\n",
    "#include <sys/wait.h>\n",
    "#include <errno.h>\n",
    "#include <time.h>\n",
    "#include <sys/epoll.h>\n",
    "#include <string.h>\n",
    "#include <libaio.h>  // подключаем\n",
    "#include <err.h>\n",
    "#include <stdint.h>\n",
    "\n",
    "// log_printf - макрос для отладочного вывода, добавляющий время со старта программы, имя функции и номер строки\n",
    "uint64_t start_time_msec; void  __attribute__ ((constructor)) start_time_setter() { struct timespec spec; clock_gettime(CLOCK_MONOTONIC, &spec); start_time_msec = spec.tv_sec * 1000L + spec.tv_nsec / 1000000; }\n",
    "const char* log_prefix(const char* func, int line) {\n",
    "    struct timespec spec; clock_gettime(CLOCK_MONOTONIC, &spec); int delta_msec = spec.tv_sec * 1000L + spec.tv_nsec / 1000000 - start_time_msec;\n",
    "    const int max_func_len = 13; static __thread char prefix[100]; \n",
    "    sprintf(prefix, \"%d.%03d %*s():%-3d [tid=%ld]\", delta_msec / 1000, delta_msec % 1000, max_func_len, func, line, syscall(__NR_gettid));\n",
    "    return prefix;\n",
    "}\n",
    "#define log_printf_impl(fmt, ...) { time_t t = time(0); dprintf(2, \"%s: \" fmt \"%s\", log_prefix(__FUNCTION__, __LINE__), __VA_ARGS__); }\n",
    "// Format: <time_since_start> <func_name>:<line> : <custom_message>\n",
    "#define log_printf(...) log_printf_impl(__VA_ARGS__, \"\")\n",
    "\n",
    "#define conditional_handle_error(stmt, msg) \\\n",
    "    do { if (stmt) { perror(msg \" (\" #stmt \")\"); exit(EXIT_FAILURE); } } while (0)\n",
    "\n",
    "const int N_FILES = 2;\n",
    "\n",
    "int main() {\n",
    "    // подготовим контекст для асинхронных действий\n",
    "    io_context_t ctx = {0};\n",
    "    int io_setup_ret = io_setup(N_FILES + 10, &ctx);\n",
    "    errno = -io_setup_ret;\n",
    "    conditional_handle_error(io_setup_ret < 0, \"Can't io_setup\");\n",
    "      \n",
    "    // создаем какой-то список открытых файлов\n",
    "    int fds[N_FILES];\n",
    "    for (int i = 0; i < N_FILES; ++i) {\n",
    "        char file[100];\n",
    "        sprintf(file, \"./output_%d.txt\", i);\n",
    "        fds[i] = open(file, O_WRONLY | O_CREAT, 0664);\n",
    "        conditional_handle_error(fds[i] < 0, \"Can't open\");\n",
    "        log_printf(\"Opened file '%s' fd %d\\n\", file, fds[i]);\n",
    "    }\n",
    "    \n",
    "    // готовим батчевую запись во много файлов\n",
    "    struct iocb iocb[N_FILES];\n",
    "    struct iocb* iocbs[N_FILES];\n",
    "    char msgs[N_FILES][100];\n",
    "    for (int i = 0; i < N_FILES; ++i) {\n",
    "        sprintf(msgs[i], \"hello to file %d\\n\", i);\n",
    "        // Создаём структуру для удобной записи (включает сразу дескриптор, сообщение и его длину)\n",
    "        io_prep_pwrite(&iocb[i], fds[i], (void*)msgs[i], strlen(msgs[i]), 0); // Формируем запросы на запись\n",
    "        // data -- для передачи дополнительной информации (в epoll такая же штуковина)\n",
    "        // Конкретно здесь передаётся информация о том, в какой файл записываем\n",
    "        iocb[i].data = (char*)0 + i;\n",
    "        iocbs[i] = &iocb[i];\n",
    "    }\n",
    "\n",
    "    // Отправляем батч запросов на выполнение\n",
    "    // Возвращает количество успешно добавленных запросов.\n",
    "    int io_submit_ret = io_submit(ctx, N_FILES, iocbs);\n",
    "    if (io_submit_ret != N_FILES) {\n",
    "        errno = -io_submit_ret;\n",
    "        log_printf(\"Error: %s\\n\", strerror(-io_submit_ret));\n",
    "        warn(\"io_submit\");\n",
    "        io_destroy(ctx);\n",
    "    }\n",
    "\n",
    "    int in_fly_writings = N_FILES;\n",
    "    while (in_fly_writings > 0) {\n",
    "        struct io_event event;\n",
    "        struct timespec timeout = {.tv_sec = 0, .tv_nsec = 500000000};\n",
    "        // В этом примере получаем максимум реакцию на один запрос. Эффективнее, конечно, сразу на несколько.\n",
    "        if (io_getevents(ctx, 0, 1, &event, &timeout) == 1) { // Здесь в цикле получаем реакцию на запросы\n",
    "            conditional_handle_error(event.res < 0, \"Can't do operation\");\n",
    "            int i = (char*)event.data - (char*)0;\n",
    "            log_printf(\"%d written ok\\n\", i);\n",
    "            close(fds[i]);\n",
    "            --in_fly_writings;\n",
    "            continue;\n",
    "        }\n",
    "        log_printf(\"not done yet\\n\");\n",
    "    }\n",
    "    io_destroy(ctx);\n",
    "\n",
    "    return 0;\n",
    "}"
   ]
  },
  {
   "cell_type": "code",
   "execution_count": null,
   "metadata": {},
   "outputs": [],
   "source": []
  },
  {
   "cell_type": "markdown",
   "metadata": {},
   "source": [
    "# <a name=\"hw\"></a> Комментарии к ДЗ\n",
    "\n",
    "*  highload/epoll-read-fds-vector: Тупая реализация не зайдёт\n",
    "<br>Контрпример: мы поочерёдно начинаем читать файлы, стартуя с 0-го. Пусть 2 файл -- это пайп, через который проверяющая система начинает посылать 100кб данных. Так как пайп не обработан сразу, то по достижении 65kb, ввод заблокируется. Чекер зависнет, не закроет нам 0-ой файл (который скорее всего пайп). И будет таймаут.\n",
    "  <br>В общем задача на epoll. linux aio тут не зайдет, вопрос на подумать - почему?\n",
    "\n",
    "* highload/epoll-read-write-socket: Возможно вам помогут факты: \n",
    "  * в epoll можно добавить файл дважды: один раз на чтение, другой раз на запись (с разной user data). \n",
    "  * вы можете переключать режим, на предмет каких событий вы слушаете файловый дескриптор\n",
    "  \n",
    "  \n",
    "Для одновременного ожидания сигналов и событий из файловых дескрипторов можно использовать `epoll_pwait`. В этом случае нет необходимости создавать обработчики, в которых"
   ]
  },
  {
   "cell_type": "code",
   "execution_count": null,
   "metadata": {},
   "outputs": [],
   "source": []
  },
  {
   "cell_type": "code",
   "execution_count": null,
   "metadata": {},
   "outputs": [],
   "source": []
  },
  {
   "cell_type": "code",
   "execution_count": null,
   "metadata": {},
   "outputs": [],
   "source": []
  },
  {
   "cell_type": "code",
   "execution_count": null,
   "metadata": {},
   "outputs": [],
   "source": []
  }
 ],
 "metadata": {
  "kernelspec": {
   "display_name": "Python 3",
   "language": "python",
   "name": "python3"
  },
  "language_info": {
   "codemirror_mode": {
    "name": "ipython",
    "version": 3
   },
   "file_extension": ".py",
   "mimetype": "text/x-python",
   "name": "python",
   "nbconvert_exporter": "python",
   "pygments_lexer": "ipython3",
   "version": "3.8.5"
  }
 },
 "nbformat": 4,
 "nbformat_minor": 2
}
