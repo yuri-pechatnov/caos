{
 "cells": [
  {
   "cell_type": "code",
   "execution_count": 5,
   "metadata": {
    "scrolled": false
   },
   "outputs": [
    {
     "data": {
      "application/javascript": [
       "// setup cpp code highlighting\n",
       "IPython.CodeCell.options_default.highlight_modes[\"text/x-c++src\"] = {'reg':[/^%%cpp/]} ;IPython.CodeCell.options_default.highlight_modes[\"text/x-cmake\"] = {'reg':[/^%%cmake/]} ;"
      ],
      "text/plain": [
       "<IPython.core.display.Javascript object>"
      ]
     },
     "metadata": {},
     "output_type": "display_data"
    },
    {
     "data": {
      "text/html": [
       "<!-- YANDEX_METRICA_BEGIN -->\n",
       "    <script type=\"text/javascript\" >\n",
       "       (function(m,e,t,r,i,k,a){m[i]=m[i]||function(){(m[i].a=m[i].a||[]).push(arguments)};\n",
       "       m[i].l=1*new Date();k=e.createElement(t),a=e.getElementsByTagName(t)[0],k.async=1,k.src=r,a.parentNode.insertBefore(k,a)})\n",
       "       (window, document, \"script\", \"https://mc.yandex.ru/metrika/tag.js\", \"ym\");\n",
       "\n",
       "       ym(59260609, \"init\", {\n",
       "            clickmap:true,\n",
       "            trackLinks:true,\n",
       "            accurateTrackBounce:true\n",
       "       });\n",
       "    </script>\n",
       "    <noscript><div><img src=\"https://mc.yandex.ru/watch/59260609\" style=\"position:absolute; left:-9999px;\" alt=\"\" /></div></noscript>\n",
       "    <!-- YANDEX_METRICA_END -->"
      ],
      "text/plain": [
       "<IPython.core.display.HTML object>"
      ]
     },
     "metadata": {},
     "output_type": "display_data"
    },
    {
     "data": {
      "text/html": [
       "В этот ноутбук встроен код Яндекс Метрики для сбора статистики использований. Если вы не хотите, чтобы по вам собиралась статистика, исправьте: yandex_metrica_allowed = False<!-- MAGICS_SETUP_PRINTING_END -->"
      ],
      "text/plain": [
       "<IPython.core.display.HTML object>"
      ]
     },
     "metadata": {},
     "output_type": "display_data"
    }
   ],
   "source": [
    "# look at tools/set_up_magics.ipynb\n",
    "yandex_metrica_allowed = True ; get_ipython().run_cell('# one_liner_str\\n\\nget_ipython().run_cell_magic(\\'javascript\\', \\'\\', \\n    \\'// setup cpp code highlighting\\\\n\\'\\n    \\'IPython.CodeCell.options_default.highlight_modes[\"text/x-c++src\"] = {\\\\\\'reg\\\\\\':[/^%%cpp/]} ;\\'\\n    \\'IPython.CodeCell.options_default.highlight_modes[\"text/x-cmake\"] = {\\\\\\'reg\\\\\\':[/^%%cmake/]} ;\\'\\n)\\n\\n# creating magics\\nfrom IPython.core.magic import register_cell_magic, register_line_magic\\nfrom IPython.display import display, Markdown, HTML\\nimport argparse\\nfrom subprocess import Popen, PIPE\\nimport random\\nimport sys\\nimport os\\nimport re\\nimport signal\\nimport shutil\\nimport shlex\\nimport glob\\nimport time\\n\\n@register_cell_magic\\ndef save_file(args_str, cell, line_comment_start=\"#\"):\\n    parser = argparse.ArgumentParser()\\n    parser.add_argument(\"fname\")\\n    parser.add_argument(\"--ejudge-style\", action=\"store_true\")\\n    args = parser.parse_args(args_str.split())\\n    \\n    cell = cell if cell[-1] == \\'\\\\n\\' or args.no_eof_newline else cell + \"\\\\n\"\\n    cmds = []\\n    with open(args.fname, \"w\") as f:\\n        f.write(line_comment_start + \" %%cpp \" + args_str + \"\\\\n\")\\n        for line in cell.split(\"\\\\n\"):\\n            line_to_write = (line if not args.ejudge_style else line.rstrip()) + \"\\\\n\"\\n            if line.startswith(\"%\"):\\n                run_prefix = \"%run \"\\n                if line.startswith(run_prefix):\\n                    cmds.append(line[len(run_prefix):].strip())\\n                    f.write(line_comment_start + \" \" + line_to_write)\\n                    continue\\n                comment_prefix = \"%\" + line_comment_start\\n                if line.startswith(comment_prefix):\\n                    cmds.append(\\'#\\' + line[len(comment_prefix):].strip())\\n                    f.write(line_comment_start + \" \" + line_to_write)\\n                    continue\\n                raise Exception(\"Unknown %%save_file subcommand: \\'%s\\'\" % line)\\n            else:\\n                f.write(line_to_write)\\n        f.write(\"\" if not args.ejudge_style else line_comment_start + r\" line without \\\\n\")\\n    for cmd in cmds:\\n        if cmd.startswith(\\'#\\'):\\n            display(Markdown(\"\\\\#\\\\#\\\\#\\\\# `%s`\" % cmd[1:]))\\n        else:\\n            display(Markdown(\"Run: `%s`\" % cmd))\\n            get_ipython().system(cmd)\\n\\n@register_cell_magic\\ndef cpp(fname, cell):\\n    save_file(fname, cell, \"//\")\\n    \\n@register_cell_magic\\ndef cmake(fname, cell):\\n    save_file(fname, cell, \"#\")\\n\\n@register_cell_magic\\ndef asm(fname, cell):\\n    save_file(fname, cell, \"//\")\\n    \\n@register_cell_magic\\ndef makefile(fname, cell):\\n    fname = fname or \"makefile\"\\n    assert fname.endswith(\"makefile\")\\n    save_file(fname, cell.replace(\" \" * 4, \"\\\\t\"))\\n        \\n@register_line_magic\\ndef p(line):\\n    line = line.strip() \\n    if line[0] == \\'#\\':\\n        display(Markdown(line[1:].strip()))\\n    else:\\n        try:\\n            expr, comment = line.split(\" #\")\\n            display(Markdown(\"`{} = {}`  # {}\".format(expr.strip(), eval(expr), comment.strip())))\\n        except:\\n            display(Markdown(\"{} = {}\".format(line, eval(line))))\\n    \\n    \\ndef show_log_file(file, return_html_string=False):\\n    obj = file.replace(\\'.\\', \\'_\\').replace(\\'/\\', \\'_\\') + \"_obj\"\\n    html_string = \\'\\'\\'\\n        <!--MD_BEGIN_FILTER-->\\n        <script type=text/javascript>\\n        var entrance___OBJ__ = 0;\\n        var errors___OBJ__ = 0;\\n        function halt__OBJ__(elem, color)\\n        {\\n            elem.setAttribute(\"style\", \"font-size: 14px; background: \" + color + \"; padding: 10px; border: 3px; border-radius: 5px; color: white; \");                    \\n        }\\n        function refresh__OBJ__()\\n        {\\n            entrance___OBJ__ -= 1;\\n            if (entrance___OBJ__ < 0) {\\n                entrance___OBJ__ = 0;\\n            }\\n            var elem = document.getElementById(\"__OBJ__\");\\n            if (elem) {\\n                var xmlhttp=new XMLHttpRequest();\\n                xmlhttp.onreadystatechange=function()\\n                {\\n                    var elem = document.getElementById(\"__OBJ__\");\\n                    console.log(!!elem, xmlhttp.readyState, xmlhttp.status, entrance___OBJ__);\\n                    if (elem && xmlhttp.readyState==4) {\\n                        if (xmlhttp.status==200)\\n                        {\\n                            errors___OBJ__ = 0;\\n                            if (!entrance___OBJ__) {\\n                                if (elem.innerHTML != xmlhttp.responseText) {\\n                                    elem.innerHTML = xmlhttp.responseText;\\n                                }\\n                                if (elem.innerHTML.includes(\"Process finished.\")) {\\n                                    halt__OBJ__(elem, \"#333333\");\\n                                } else {\\n                                    entrance___OBJ__ += 1;\\n                                    console.log(\"req\");\\n                                    window.setTimeout(\"refresh__OBJ__()\", 300); \\n                                }\\n                            }\\n                            return xmlhttp.responseText;\\n                        } else {\\n                            errors___OBJ__ += 1;\\n                            if (!entrance___OBJ__) {\\n                                if (errors___OBJ__ < 6) {\\n                                    entrance___OBJ__ += 1;\\n                                    console.log(\"req\");\\n                                    window.setTimeout(\"refresh__OBJ__()\", 300); \\n                                } else {\\n                                    halt__OBJ__(elem, \"#994444\");\\n                                }\\n                            }\\n                        }\\n                    }\\n                }\\n                xmlhttp.open(\"GET\", \"__FILE__\", true);\\n                xmlhttp.setRequestHeader(\"Cache-Control\", \"no-cache\");\\n                xmlhttp.send();     \\n            }\\n        }\\n        \\n        if (!entrance___OBJ__) {\\n            entrance___OBJ__ += 1;\\n            refresh__OBJ__(); \\n        }\\n        </script>\\n\\n        <p id=\"__OBJ__\" style=\"font-size: 14px; background: #000000; padding: 10px; border: 3px; border-radius: 5px; color: white; \">\\n        </p>\\n        \\n        </font>\\n        <!--MD_END_FILTER-->\\n        <!--MD_FROM_FILE __FILE__.md -->\\n        \\'\\'\\'.replace(\"__OBJ__\", obj).replace(\"__FILE__\", file)\\n    if return_html_string:\\n        return html_string\\n    display(HTML(html_string))\\n\\n    \\nclass TInteractiveLauncher:\\n    tmp_path = \"./interactive_launcher_tmp\"\\n    def __init__(self, cmd):\\n        try:\\n            os.mkdir(TInteractiveLauncher.tmp_path)\\n        except:\\n            pass\\n        name = str(random.randint(0, 1e18))\\n        self.inq_path = os.path.join(TInteractiveLauncher.tmp_path, name + \".inq\")\\n        self.log_path = os.path.join(TInteractiveLauncher.tmp_path, name + \".log\")\\n        \\n        os.mkfifo(self.inq_path)\\n        open(self.log_path, \\'w\\').close()\\n        open(self.log_path + \".md\", \\'w\\').close()\\n\\n        self.pid = os.fork()\\n        if self.pid == -1:\\n            print(\"Error\")\\n        if self.pid == 0:\\n            exe_cands = glob.glob(\"../tools/launcher.py\") + glob.glob(\"../../tools/launcher.py\")\\n            assert(len(exe_cands) == 1)\\n            assert(os.execvp(\"python3\", [\"python3\", exe_cands[0], \"-l\", self.log_path, \"-i\", self.inq_path, \"-c\", cmd]) == 0)\\n        self.inq_f = open(self.inq_path, \"w\")\\n        interactive_launcher_opened_set.add(self.pid)\\n        show_log_file(self.log_path)\\n\\n    def write(self, s):\\n        s = s.encode()\\n        assert len(s) == os.write(self.inq_f.fileno(), s)\\n        \\n    def get_pid(self):\\n        n = 100\\n        for i in range(n):\\n            try:\\n                return int(re.findall(r\"PID = (\\\\d+)\", open(self.log_path).readline())[0])\\n            except:\\n                if i + 1 == n:\\n                    raise\\n                time.sleep(0.1)\\n        \\n    def input_queue_path(self):\\n        return self.inq_path\\n        \\n    def wait_stop(self, timeout):\\n        for i in range(int(timeout * 10)):\\n            wpid, status = os.waitpid(self.pid, os.WNOHANG)\\n            if wpid != 0:\\n                return True\\n            time.sleep(0.1)\\n        return False\\n        \\n    def close(self, timeout=3):\\n        self.inq_f.close()\\n        if not self.wait_stop(timeout):\\n            os.kill(self.get_pid(), signal.SIGKILL)\\n            os.waitpid(self.pid, 0)\\n        os.remove(self.inq_path)\\n        # os.remove(self.log_path)\\n        self.inq_path = None\\n        self.log_path = None \\n        interactive_launcher_opened_set.remove(self.pid)\\n        self.pid = None\\n        \\n    @staticmethod\\n    def terminate_all():\\n        if \"interactive_launcher_opened_set\" not in globals():\\n            globals()[\"interactive_launcher_opened_set\"] = set()\\n        global interactive_launcher_opened_set\\n        for pid in interactive_launcher_opened_set:\\n            print(\"Terminate pid=\" + str(pid), file=sys.stderr)\\n            os.kill(pid, signal.SIGKILL)\\n            os.waitpid(pid, 0)\\n        interactive_launcher_opened_set = set()\\n        if os.path.exists(TInteractiveLauncher.tmp_path):\\n            shutil.rmtree(TInteractiveLauncher.tmp_path)\\n    \\nTInteractiveLauncher.terminate_all()\\n   \\nyandex_metrica_allowed = bool(globals().get(\"yandex_metrica_allowed\", False))\\nif yandex_metrica_allowed:\\n    display(HTML(\\'\\'\\'<!-- YANDEX_METRICA_BEGIN -->\\n    <script type=\"text/javascript\" >\\n       (function(m,e,t,r,i,k,a){m[i]=m[i]||function(){(m[i].a=m[i].a||[]).push(arguments)};\\n       m[i].l=1*new Date();k=e.createElement(t),a=e.getElementsByTagName(t)[0],k.async=1,k.src=r,a.parentNode.insertBefore(k,a)})\\n       (window, document, \"script\", \"https://mc.yandex.ru/metrika/tag.js\", \"ym\");\\n\\n       ym(59260609, \"init\", {\\n            clickmap:true,\\n            trackLinks:true,\\n            accurateTrackBounce:true\\n       });\\n    </script>\\n    <noscript><div><img src=\"https://mc.yandex.ru/watch/59260609\" style=\"position:absolute; left:-9999px;\" alt=\"\" /></div></noscript>\\n    <!-- YANDEX_METRICA_END -->\\'\\'\\'))\\n\\ndef make_oneliner():\\n    html_text = \\'(\"В этот ноутбук встроен код Яндекс Метрики для сбора статистики использований. Если вы не хотите, чтобы по вам собиралась статистика, исправьте: yandex_metrica_allowed = False\" if yandex_metrica_allowed else \"\")\\'\\n    html_text += \\' + \"<\"\"!-- MAGICS_SETUP_PRINTING_END -->\"\\'\\n    return \\'\\'.join([\\n        \\'# look at tools/set_up_magics.ipynb\\\\n\\',\\n        \\'yandex_metrica_allowed = True ; get_ipython().run_cell(%s);\\' % repr(one_liner_str),\\n        \\'display(HTML(%s))\\' % html_text,\\n        \\' #\\'\\'MAGICS_SETUP_END\\'\\n    ])\\n       \\n\\n');display(HTML((\"В этот ноутбук встроен код Яндекс Метрики для сбора статистики использований. Если вы не хотите, чтобы по вам собиралась статистика, исправьте: yandex_metrica_allowed = False\" if yandex_metrica_allowed else \"\") + \"<\"\"!-- MAGICS_SETUP_PRINTING_END -->\")) #MAGICS_SETUP_END"
   ]
  },
  {
   "cell_type": "markdown",
   "metadata": {},
   "source": [
    "# Assembler x86-64\n",
    "\n",
    "<table width=100%> <tr>\n",
    "    <th width=20%> <b>Видеозапись семинара &rarr; </b> </th>\n",
    "    <th>\n",
    "    <a href=\"https://www.youtube.com/watch?v=i_eeouEiXnI&list=PLjzMm8llUm4AmU6i_hPU0NobgA4VsBowc&index=8\">\n",
    "        <img src=\"video.jpg\" width=\"320\"  height=\"160\" align=\"left\" alt=\"Видео с семинара\"> \n",
    "    </a>\n",
    "    </th>\n",
    "    <th> </th>\n",
    "</tr> </table>\n",
    "\n",
    "## Особенности\n",
    "* Много регистров\n",
    "* Много команд\n",
    "* Много легаси\n",
    "* Разные синтаксисы\n",
    "\n",
    "\n",
    "[Ридинг Яковлева](https://github.com/victor-yacovlev/mipt-diht-caos/tree/master/practice/asm/x86_basics) \n",
    "\n",
    "\n",
    "Сегодня в программе:\n",
    "* <a href=\"#regs\" style=\"color:#856024\"> Регистры </a>\n",
    "* <a href=\"#syntax\" style=\"color:#856024\"> Синтаксисы </a>\n",
    "* <a href=\"#clamp\" style=\"color:#856024\"> Функция clamp </a>\n",
    "* <a href=\"#mem\" style=\"color:#856024\"> Работа с памятью </a>\n",
    "* <a href=\"#call\" style=\"color:#856024\"> Вызов функций </a>\n",
    "* <a href=\"#mul\" style=\"color:#856024\"> Интересные факты </a>\n",
    "* <a href=\"#hw\" style=\"color:#856024\"> Комментарии к ДЗ </a>"
   ]
  },
  {
   "cell_type": "markdown",
   "metadata": {},
   "source": [
    "#  <a name=\"regs\"></a> Регистры\n",
    "\n",
    "Немного истории\n",
    "\n",
    "| Год  | Регистры           | Битность | Первый процессор | Комментарий |\n",
    "|------|--------------------|----------|------------------|-------------|\n",
    "| 1974 | a, b, c, d         | 8 bit    | Intel 8080       | |\n",
    "| 1978 | ax, bx, cx, dx     | 16 bit   | Intel 8086       | X - eXtended ([совсем ненадежный источник](https://stackoverflow.com/a/892948))|\n",
    "| 1985 | eax, ebx, exc, edx | 32 bit   | Intel 80386      | E - extended |\n",
    "| 2003 | rax, rbx, rcx, rdx | 64 bit   | AMD Opteron      | R - (внезапно) register |\n",
    "\n",
    "\n",
    "Как оно выглядит сейчас в 64-битных процессорах\n",
    "\n",
    "<table width=\"800px\" border=\"1\" style=\"text-align:center; font-family: Courier New; font-size: 10pt\">\n",
    "\n",
    "<tbody><tr>\n",
    "<td colspan=\"8\" width=\"25%\" style=\"background:lightgrey\">RAX\n",
    "</td>\n",
    "<td colspan=\"8\" width=\"25%\" style=\"background:lightgrey\">RCX\n",
    "</td>\n",
    "<td colspan=\"8\" width=\"25%\" style=\"background:lightgrey\">RDX\n",
    "</td>\n",
    "<td colspan=\"8\" width=\"25%\" style=\"background:lightgrey\">RBX\n",
    "</td></tr>\n",
    "<tr>\n",
    "<td colspan=\"4\" width=\"12.5%\"></td>\n",
    "<td colspan=\"4\" width=\"12.5%\" style=\"background:lightgrey\">EAX\n",
    "</td>\n",
    "<td colspan=\"4\" width=\"12.5%\"></td>\n",
    "<td colspan=\"4\" width=\"12.5%\" style=\"background:lightgrey\">ECX\n",
    "</td>\n",
    "<td colspan=\"4\" width=\"12.5%\"></td>\n",
    "<td colspan=\"4\" width=\"12.5%\" style=\"background:lightgrey\">EDX\n",
    "</td>\n",
    "<td colspan=\"4\" width=\"12.5%\"></td>\n",
    "<td colspan=\"4\" width=\"12.5%\" style=\"background:lightgrey\">EBX\n",
    "</td></tr>\n",
    "<tr>\n",
    "<td colspan=\"6\" width=\"18.75%\"></td>\n",
    "<td colspan=\"2\" width=\"6.25%\" style=\"background:lightgrey\">AX\n",
    "</td>\n",
    "<td colspan=\"6\" width=\"18.75%\"></td>\n",
    "<td colspan=\"2\" width=\"6.25%\" style=\"background:lightgrey\">CX\n",
    "</td>\n",
    "<td colspan=\"6\" width=\"18.75%\"></td>\n",
    "<td colspan=\"2\" width=\"6.25%\" style=\"background:lightgrey\">DX\n",
    "</td>\n",
    "<td colspan=\"6\" width=\"18.75%\"></td>\n",
    "<td colspan=\"2\" width=\"6.25%\" style=\"background:lightgrey\">BX\n",
    "</td></tr>\n",
    "<tr>\n",
    "<td colspan=\"6\" width=\"18.75%\"></td>\n",
    "<td width=\"3.125%\" style=\"background:lightgrey\">AH</td>\n",
    "<td width=\"3.125%\" style=\"background:lightgrey\">AL\n",
    "</td>\n",
    "<td colspan=\"6\" width=\"18.75%\"></td>\n",
    "<td width=\"3.125%\" style=\"background:lightgrey\">CH</td>\n",
    "<td width=\"3.125%\" style=\"background:lightgrey\">CL\n",
    "</td>\n",
    "<td colspan=\"6\" width=\"18.75%\"></td>\n",
    "<td width=\"3.125%\" style=\"background:lightgrey\">DH</td>\n",
    "<td width=\"3.125%\" style=\"background:lightgrey\">DL\n",
    "</td>\n",
    "<td colspan=\"6\" width=\"18.75%\"></td>\n",
    "<td width=\"3.125%\" style=\"background:lightgrey\">BH</td>\n",
    "<td width=\"3.125%\" style=\"background:lightgrey\">BL\n",
    "</td></tr></tbody></table>\n",
    "\n",
    "(На самом деле все далеко не так просто устроено. [stackoverflow](https://stackoverflow.com/a/25456097))"
   ]
  },
  {
   "cell_type": "markdown",
   "metadata": {},
   "source": [
    "Регистры x86 и их странные названия\n",
    "* RAX - Accumulator Register\n",
    "* RBX - Base Register\n",
    "* RCX - Counter Register\n",
    "* RDX - Data Register\n",
    "* RSI - Source Index\n",
    "* RDI - Destination Index\n",
    "* RBP - Base Pointer\n",
    "* RSP - Stack Pointer\n",
    "* R8...R15 - дополнительные регистры общего назначения"
   ]
  },
  {
   "cell_type": "markdown",
   "metadata": {},
   "source": [
    "Регистры в x86-64:\n",
    "    \n",
    "<br> `rax`, `rbx`, `rcx`, `rdx` - регистры общего назначения.\n",
    "<br> `rsp` - указатель на вершину стека\n",
    "<br> `rbp` - указатель на начало фрейма (но можно использовать аккуратно использовать как регистр общего назначения)\n",
    "<br> `rsi`, `rdi` - странные регистры для копирования массива, по сути регистры общего назначения, но ограниченные в возможностях.\n",
    "<br> `r8`...`r15`\n",
    "\n",
    "Целочисленные аргументы передаются последовательно в регистрах: `rdi`, `rsi`, `rdx`, `rcx`, `r8`, `r9`. Если передается более 6 аргументов, то оставшиеся - через стек.\n",
    "Вещественные аргументы передаются через регистры `xmm0`...`xmm7`.\n",
    "\n",
    "Возвращаемое значение записывается в регистр `rax`.\n",
    "\n",
    "Вызываемая функция **обязана сохранять на стеке значения регистров** общего назначения `rbx`, `rbp`, `r12`...`r15`. ([Почему `rbx` в этом ряду?](https://stackoverflow.com/questions/22214208/x86-assembly-why-is-ebx-preserved-in-calling-conventions))\n",
    "\n",
    "Кроме того, при вызове функции для 64-разрядной архитектуры есть дополнительное требование - перед вызовом функции стек должен быть выровнен по границе 16 байт, то есть необходимо уменьшить значение rsp таким образом, оно было кратно 16. Если кроме регистров задействуется стек для передачи параметров, то они должны быть прижаты к нижней выровненной границе стека.\n",
    "\n",
    "Для функций гарантируется 128-байтная \"красная зона\" в стеке ниже регистра rsp - область, которая не будет затронута внешним событием, например, обработчиком сигнала. Таким образом, можно задействовать для адресации локальных переменных память до rsp-128."
   ]
  },
  {
   "cell_type": "code",
   "execution_count": 76,
   "metadata": {},
   "outputs": [
    {
     "data": {
      "text/markdown": [
       "Run: `chmod +x asm_filter_useless`"
      ],
      "text/plain": [
       "<IPython.core.display.Markdown object>"
      ]
     },
     "metadata": {},
     "output_type": "display_data"
    }
   ],
   "source": [
    "%%save_file asm_filter_useless\n",
    "%run chmod +x asm_filter_useless\n",
    "#!/bin/bash\n",
    "grep -v \"^\\s*\\.\" | grep -v \"^[0-9]\""
   ]
  },
  {
   "cell_type": "markdown",
   "metadata": {},
   "source": [
    "#  <a name=\"syntax\"></a> Syntaxes\n",
    "### AT&T"
   ]
  },
  {
   "cell_type": "code",
   "execution_count": 23,
   "metadata": {},
   "outputs": [
    {
     "data": {
      "text/markdown": [
       "Run: `gcc -fcf-protection=none -m64 -masm=att -O3 att_example.c -S -o att_example.S`"
      ],
      "text/plain": [
       "<IPython.core.display.Markdown object>"
      ]
     },
     "metadata": {},
     "output_type": "display_data"
    },
    {
     "data": {
      "text/markdown": [
       "Run: `cat att_example.S | ./asm_filter_useless`"
      ],
      "text/plain": [
       "<IPython.core.display.Markdown object>"
      ]
     },
     "metadata": {},
     "output_type": "display_data"
    },
    {
     "name": "stdout",
     "output_type": "stream",
     "text": [
      "sum:\r\n",
      "\taddl\t%esi, %edi\r\n",
      "\tmovl\t8(%rsp), %eax\r\n",
      "\taddl\t%edx, %edi\r\n",
      "\taddl\t%ecx, %edi\r\n",
      "\taddl\t%r8d, %edi\r\n",
      "\taddl\t%r9d, %edi\r\n",
      "\taddl\t%edi, %eax\r\n",
      "\tcltq\r\n",
      "\taddq\t16(%rsp), %rax\r\n",
      "\tret\r\n"
     ]
    }
   ],
   "source": [
    "%%cpp att_example.c\n",
    "%run gcc -m64 -masm=att -O3 att_example.c -S -o att_example.S\n",
    "%run cat att_example.S | ./asm_filter_useless\n",
    "\n",
    "#include <stdint.h>\n",
    "\n",
    "//  rdi, rsi, rdx, rcx, r8, r9\n",
    "int64_t sum(int32_t a, int32_t b, int32_t c, int32_t d, int32_t e, int32_t f, int32_t g, int64_t h) {\n",
    "    return a + b + c + d + e + f + g + h;\n",
    "}"
   ]
  },
  {
   "cell_type": "markdown",
   "metadata": {},
   "source": [
    "### Intel\n",
    "\n",
    "QWORD PTR — это переменная типа четверного слова, DWORD PTR — это переменная типа двойного слова. Слово — это 16 бит. Термин получил распространение в эпоху 16-ти битных процессоров, тогда в регистр помещалось ровно 16 бит. Такой объем информации стали называть словом (word). Т. е. в нашем случае dword (double word) 2*16 = 32 бита = 4 байта (обычный int). \n",
    "\n",
    "https://habr.com/ru/post/344896/"
   ]
  },
  {
   "cell_type": "code",
   "execution_count": 77,
   "metadata": {
    "scrolled": true
   },
   "outputs": [
    {
     "data": {
      "text/markdown": [
       "Run: `gcc -m64 -masm=intel -O3 intel_example.c -S -o intel_example.S`"
      ],
      "text/plain": [
       "<IPython.core.display.Markdown object>"
      ]
     },
     "metadata": {},
     "output_type": "display_data"
    },
    {
     "data": {
      "text/markdown": [
       "Run: `cat intel_example.S | ./asm_filter_useless`"
      ],
      "text/plain": [
       "<IPython.core.display.Markdown object>"
      ]
     },
     "metadata": {},
     "output_type": "display_data"
    },
    {
     "name": "stdout",
     "output_type": "stream",
     "text": [
      "sum:\r\n",
      "\tendbr64\r\n",
      "\tadd\tedi, esi\r\n",
      "\tmov\teax, DWORD PTR 8[rsp]\r\n",
      "\tadd\tedi, edx\r\n",
      "\tadd\tedi, ecx\r\n",
      "\tadd\tedi, r8d\r\n",
      "\tadd\tedi, r9d\r\n",
      "\tadd\teax, edi\r\n",
      "\tcdqe\r\n",
      "\tadd\trax, QWORD PTR 16[rsp]\r\n",
      "\tret\r\n"
     ]
    }
   ],
   "source": [
    "%%cpp intel_example.c\n",
    "%run gcc -m64 -masm=intel -O3 intel_example.c -S -o intel_example.S\n",
    "%run cat intel_example.S | ./asm_filter_useless\n",
    "\n",
    "#include <stdint.h>\n",
    "    \n",
    "//  rdi, rsi, rdx, rcx, r8, r9\n",
    "int64_t sum(int32_t a, int32_t b, int32_t c, int32_t d, int32_t e, int32_t f, int32_t g, int64_t h) {\n",
    "    return a + b + c + d + e + f + g +  h;\n",
    "}"
   ]
  },
  {
   "cell_type": "markdown",
   "metadata": {},
   "source": [
    "Про `endbr64` [Введение в аппаратную защиту стека / Хабр](https://habr.com/ru/post/494000/) и [control-flow-enforcement-technology](https://software.intel.com/sites/default/files/managed/4d/2a/control-flow-enforcement-technology-preview.pdf)\n",
    "\n",
    "Можно отключить опцией `-fcf-protection=none`. \n",
    "\n",
    "Про `cdqe` = `cltq` (это синонимы) - расширяет знаковое 32-битное до 64-битного знакового числа.\n",
    "\n",
    "TLDR: чтобы хакерам было сложнее, есть особый режим процессора, в котором переход (jump) к инструкции не являющейся `endbr*` приводит к прерыванию и завершению программы."
   ]
  },
  {
   "cell_type": "markdown",
   "metadata": {},
   "source": [
    "#  <a name=\"clamp\"></a> Пишем функцию clamp тремя способами"
   ]
  },
  {
   "cell_type": "code",
   "execution_count": 22,
   "metadata": {},
   "outputs": [],
   "source": [
    "%%asm clamp_disasm.S\n",
    ".intel_syntax noprefix\n",
    ".text\n",
    ".globl clamp    \n",
    "clamp:\n",
    "    endbr64\n",
    "    // x - edi\n",
    "    // a - esi\n",
    "    // b - edx\n",
    "    mov eax, esi // eax = a\n",
    "    cmp edi, esi // x ? a\n",
    "    jl .clamp_return // if (x < a) goto .clamp_return;\n",
    "    cmp edi, edx // x ? b\n",
    "    mov eax, edx // eax = b\n",
    "    cmovle eax, edi // if (x <= b) eax = x;\n",
    ".clamp_return:\n",
    "    ret // return eax;"
   ]
  },
  {
   "cell_type": "code",
   "execution_count": 23,
   "metadata": {},
   "outputs": [],
   "source": [
    "%%asm clamp_if.S\n",
    ".intel_syntax noprefix\n",
    ".text\n",
    ".globl clamp\n",
    "clamp:\n",
    "    endbr64\n",
    "    // x - edi\n",
    "    // a - esi\n",
    "    // b - edx\n",
    "    mov eax, esi // eax = a\n",
    "    cmp edi, esi // x ? a\n",
    "    jl .clamp_return // if (x < a) goto .clamp_return;\n",
    "    mov eax, edx\n",
    "    cmp edi, edx // x ? b\n",
    "    jg .clamp_return // if (x > b) goto .clamp_return;\n",
    "    mov eax, edi // eax = x\n",
    ".clamp_return:\n",
    "    ret // return eax;"
   ]
  },
  {
   "cell_type": "code",
   "execution_count": 24,
   "metadata": {},
   "outputs": [],
   "source": [
    "%%asm clamp_cmov.S\n",
    ".intel_syntax noprefix\n",
    ".text\n",
    ".globl clamp    \n",
    "clamp:\n",
    "    endbr64\n",
    "    // x - edi\n",
    "    // a - esi\n",
    "    // b - edx\n",
    "    mov eax, edi // eax = x\n",
    "    cmp eax, esi // x ? a\n",
    "    cmovl eax, esi // if (x < a) eax = a\n",
    "    cmp eax, edx // x ? b\n",
    "    cmovg eax, edx // if (x > b) eax = b;\n",
    "    ret // return eax;"
   ]
  },
  {
   "cell_type": "code",
   "execution_count": 83,
   "metadata": {},
   "outputs": [
    {
     "data": {
      "text/markdown": [
       "\\#\\#\\#\\# ` gcc -S -m64 -masm=intel -O2 clamp.c -o /dev/stdout`"
      ],
      "text/plain": [
       "<IPython.core.display.Markdown object>"
      ]
     },
     "metadata": {},
     "output_type": "display_data"
    }
   ],
   "source": [
    "%%cpp clamp.c\n",
    "%run # gcc -S -m64 -masm=intel -O2 clamp.c -o /dev/stdout\n",
    "#include <stdint.h>\n",
    "\n",
    "int32_t clamp(int32_t x, int32_t a, int32_t b) {\n",
    "    if (x < a) return a;\n",
    "    if (x > b) return b;\n",
    "    return x;\n",
    "}"
   ]
  },
  {
   "cell_type": "code",
   "execution_count": 80,
   "metadata": {},
   "outputs": [
    {
     "data": {
      "text/markdown": [
       "Run: `gcc -m64 -masm=intel -O2 clamp_disasm.S clamp_test.c -o clamp_test.exe`"
      ],
      "text/plain": [
       "<IPython.core.display.Markdown object>"
      ]
     },
     "metadata": {},
     "output_type": "display_data"
    },
    {
     "data": {
      "text/markdown": [
       "Run: `./clamp_test.exe`"
      ],
      "text/plain": [
       "<IPython.core.display.Markdown object>"
      ]
     },
     "metadata": {},
     "output_type": "display_data"
    },
    {
     "name": "stdout",
     "output_type": "stream",
     "text": [
      "All is OK"
     ]
    },
    {
     "data": {
      "text/markdown": [
       "Run: `gcc -m64 -masm=intel -O2 clamp_if.S clamp_test.c -o clamp_if_test.exe`"
      ],
      "text/plain": [
       "<IPython.core.display.Markdown object>"
      ]
     },
     "metadata": {},
     "output_type": "display_data"
    },
    {
     "data": {
      "text/markdown": [
       "Run: `./clamp_if_test.exe`"
      ],
      "text/plain": [
       "<IPython.core.display.Markdown object>"
      ]
     },
     "metadata": {},
     "output_type": "display_data"
    },
    {
     "name": "stdout",
     "output_type": "stream",
     "text": [
      "All is OK"
     ]
    },
    {
     "data": {
      "text/markdown": [
       "Run: `gcc -m64 -masm=intel -O2 clamp_cmov.S clamp_test.c -o clamp_cmov_test.exe`"
      ],
      "text/plain": [
       "<IPython.core.display.Markdown object>"
      ]
     },
     "metadata": {},
     "output_type": "display_data"
    },
    {
     "data": {
      "text/markdown": [
       "Run: `./clamp_cmov_test.exe`"
      ],
      "text/plain": [
       "<IPython.core.display.Markdown object>"
      ]
     },
     "metadata": {},
     "output_type": "display_data"
    },
    {
     "name": "stdout",
     "output_type": "stream",
     "text": [
      "All is OK"
     ]
    },
    {
     "data": {
      "text/markdown": [
       "Run: `gcc -m64 -masm=intel -O2 clamp.c clamp_test.c -o clamp_cmov_c_test.exe`"
      ],
      "text/plain": [
       "<IPython.core.display.Markdown object>"
      ]
     },
     "metadata": {},
     "output_type": "display_data"
    },
    {
     "data": {
      "text/markdown": [
       "Run: `./clamp_cmov_c_test.exe`"
      ],
      "text/plain": [
       "<IPython.core.display.Markdown object>"
      ]
     },
     "metadata": {},
     "output_type": "display_data"
    },
    {
     "name": "stdout",
     "output_type": "stream",
     "text": [
      "All is OK"
     ]
    }
   ],
   "source": [
    "%%cpp clamp_test.c\n",
    "// compile and test using all three asm clamp implementations\n",
    "%run gcc -m64 -masm=intel -O2 clamp_disasm.S clamp_test.c -o clamp_test.exe\n",
    "%run ./clamp_test.exe\n",
    "%run gcc -m64 -masm=intel -O2 clamp_if.S clamp_test.c -o clamp_if_test.exe\n",
    "%run ./clamp_if_test.exe\n",
    "%run gcc -m64 -masm=intel -O2 clamp_cmov.S clamp_test.c -o clamp_cmov_test.exe\n",
    "%run ./clamp_cmov_test.exe\n",
    "%run gcc -m64 -masm=intel -O2 clamp.c clamp_test.c -o clamp_cmov_c_test.exe\n",
    "%run ./clamp_cmov_c_test.exe\n",
    "\n",
    "#include <stdint.h>\n",
    "#include <stdio.h>\n",
    "#include <assert.h>\n",
    "    \n",
    "\n",
    "int32_t clamp(int32_t x, int32_t a, int32_t b);\n",
    "\n",
    "int main() {\n",
    "    assert(clamp(1, 10, 20) == 10);\n",
    "    assert(clamp(100, 10, 20) == 20);\n",
    "    assert(clamp(15, 10, 20) == 15);\n",
    "    fprintf(stderr, \"All is OK\");\n",
    "    return 0;\n",
    "}"
   ]
  },
  {
   "cell_type": "markdown",
   "metadata": {},
   "source": [
    "То же самое ассемблерной вставкой"
   ]
  },
  {
   "cell_type": "code",
   "execution_count": 81,
   "metadata": {},
   "outputs": [
    {
     "data": {
      "text/markdown": [
       "Run: `gcc -m64 -masm=intel -O2 clamp_inline_test.c -o clamp_inline_test.exe`"
      ],
      "text/plain": [
       "<IPython.core.display.Markdown object>"
      ]
     },
     "metadata": {},
     "output_type": "display_data"
    },
    {
     "data": {
      "text/markdown": [
       "Run: `./clamp_inline_test.exe`"
      ],
      "text/plain": [
       "<IPython.core.display.Markdown object>"
      ]
     },
     "metadata": {},
     "output_type": "display_data"
    },
    {
     "name": "stdout",
     "output_type": "stream",
     "text": [
      "All is OK"
     ]
    }
   ],
   "source": [
    "%%cpp clamp_inline_test.c\n",
    "%run gcc -m64 -masm=intel -O2 clamp_inline_test.c -o clamp_inline_test.exe\n",
    "%run ./clamp_inline_test.exe\n",
    "\n",
    "#include <stdint.h>\n",
    "#include <stdio.h>\n",
    "#include <assert.h>\n",
    "    \n",
    "int32_t clamp(int32_t a, int32_t b, int32_t c);\n",
    "__asm__(R\"(\n",
    "clamp:\n",
    "    endbr64\n",
    "    mov eax, esi\n",
    "    cmp edi, esi\n",
    "    jl .clamp_return\n",
    "    cmp edi, edx\n",
    "    mov eax, edx\n",
    "    cmovle eax, edi\n",
    ".clamp_return:\n",
    "    ret\n",
    ")\");\n",
    "\n",
    "int main() {\n",
    "    assert(clamp(1, 10, 20) == 10);\n",
    "    assert(clamp(100, 10, 20) == 20);\n",
    "    assert(clamp(15, 10, 20) == 15);\n",
    "    fprintf(stderr, \"All is OK\");\n",
    "    return 0;\n",
    "}"
   ]
  },
  {
   "cell_type": "markdown",
   "metadata": {},
   "source": [
    "#  <a name=\"mem\"></a> Поработаем с памятью\n",
    "\n",
    "Даны n, x. Посчитаем $\\sum_{i=0}^{n - 1} (-1)^i \\cdot x[i]$"
   ]
  },
  {
   "cell_type": "code",
   "execution_count": 66,
   "metadata": {},
   "outputs": [],
   "source": [
    "%%asm my_sum.S\n",
    ".intel_syntax noprefix\n",
    ".text\n",
    ".globl my_sum\n",
    "my_sum:\n",
    "    // n - edi\n",
    "    // x - rsi\n",
    "    mov eax, 0\n",
    "    cmp edi, 0\n",
    "start_loop:   \n",
    "    jle return_eax\n",
    "    add eax, DWORD PTR [rsi]\n",
    "    add rsi, 4\n",
    "    dec edi // and write compare with 0 flags\n",
    "    \n",
    "    jle return_eax\n",
    "    sub eax, DWORD PTR [rsi]\n",
    "    add rsi, 4\n",
    "    dec edi // and write compare with 0 flags\n",
    "    \n",
    "    jmp start_loop\n",
    "return_eax:\n",
    "    ret"
   ]
  },
  {
   "cell_type": "code",
   "execution_count": 65,
   "metadata": {},
   "outputs": [
    {
     "data": {
      "text/markdown": [
       "Run: `gcc -g3 -m64 -masm=intel my_sum_test.c my_sum.S -o my_sum_test.exe`"
      ],
      "text/plain": [
       "<IPython.core.display.Markdown object>"
      ]
     },
     "metadata": {},
     "output_type": "display_data"
    },
    {
     "data": {
      "text/markdown": [
       "Run: `./my_sum_test.exe`"
      ],
      "text/plain": [
       "<IPython.core.display.Markdown object>"
      ]
     },
     "metadata": {},
     "output_type": "display_data"
    },
    {
     "name": "stdout",
     "output_type": "stream",
     "text": [
      "SUCCESS"
     ]
    }
   ],
   "source": [
    "%%cpp my_sum_test.c\n",
    "%run gcc -g3 -m64 -masm=intel my_sum_test.c my_sum.S -o my_sum_test.exe\n",
    "%run ./my_sum_test.exe\n",
    "\n",
    "#include <stdint.h>\n",
    "#include <stdio.h>\n",
    "#include <assert.h>\n",
    "    \n",
    "int32_t my_sum(int32_t n, int32_t* x);\n",
    "\n",
    "int main() {\n",
    "    int32_t x[] = {100, 2, 200, 3};\n",
    "    assert(my_sum(sizeof(x) / sizeof(int32_t), x) == 100 - 2 + 200 - 3);\n",
    "    int32_t y[] = {100, 2, 200};\n",
    "    assert(my_sum(sizeof(y) / sizeof(int32_t), y) == 100 - 2 + 200);\n",
    "    int32_t z[] = {100};\n",
    "    assert(my_sum(sizeof(z) / sizeof(int32_t), z) == 100);\n",
    "    printf(\"SUCCESS\");\n",
    "    return 0;\n",
    "}"
   ]
  },
  {
   "cell_type": "code",
   "execution_count": null,
   "metadata": {},
   "outputs": [],
   "source": []
  },
  {
   "cell_type": "markdown",
   "metadata": {},
   "source": [
    "\n",
    "# <a name=\"call\"></a> Вызов функций"
   ]
  },
  {
   "cell_type": "code",
   "execution_count": 5,
   "metadata": {},
   "outputs": [
    {
     "data": {
      "text/markdown": [
       "Run: `gcc -m64 -masm=intel -Os example.c -S -o example.S`"
      ],
      "text/plain": [
       "<IPython.core.display.Markdown object>"
      ]
     },
     "metadata": {},
     "output_type": "display_data"
    },
    {
     "data": {
      "text/markdown": [
       "Run: `cat example.S`"
      ],
      "text/plain": [
       "<IPython.core.display.Markdown object>"
      ]
     },
     "metadata": {},
     "output_type": "display_data"
    },
    {
     "name": "stdout",
     "output_type": "stream",
     "text": [
      "\t.file\t\"example.c\"\r\n",
      "\t.intel_syntax noprefix\r\n",
      "\t.text\r\n",
      "\t.section\t.rodata.str1.1,\"aMS\",@progbits,1\r\n",
      ".LC0:\r\n",
      "\t.string\t\"Hello %d and %d\\n\"\r\n",
      "\t.text\r\n",
      "\t.globl\thello\r\n",
      "\t.type\thello, @function\r\n",
      "hello:\r\n",
      ".LFB13:\r\n",
      "\t.cfi_startproc\r\n",
      "\tendbr64\r\n",
      "\tpush\tr12\r\n",
      "\t.cfi_def_cfa_offset 16\r\n",
      "\t.cfi_offset 12, -16\r\n",
      "\tmov\tecx, esi\r\n",
      "\tmov\tr12d, edi\r\n",
      "\tmov\tedx, edi\r\n",
      "\tlea\trsi, .LC0[rip]\r\n",
      "\tmov\tedi, 1\r\n",
      "\txor\teax, eax\r\n",
      "\tcall\t__printf_chk@PLT\r\n",
      "\tmov\teax, r12d\r\n",
      "\tpop\tr12\r\n",
      "\t.cfi_def_cfa_offset 8\r\n",
      "\tret\r\n",
      "\t.cfi_endproc\r\n",
      ".LFE13:\r\n",
      "\t.size\thello, .-hello\r\n",
      "\t.ident\t\"GCC: (Ubuntu 9.3.0-17ubuntu1~20.04) 9.3.0\"\r\n",
      "\t.section\t.note.GNU-stack,\"\",@progbits\r\n",
      "\t.section\t.note.gnu.property,\"a\"\r\n",
      "\t.align 8\r\n",
      "\t.long\t 1f - 0f\r\n",
      "\t.long\t 4f - 1f\r\n",
      "\t.long\t 5\r\n",
      "0:\r\n",
      "\t.string\t \"GNU\"\r\n",
      "1:\r\n",
      "\t.align 8\r\n",
      "\t.long\t 0xc0000002\r\n",
      "\t.long\t 3f - 2f\r\n",
      "2:\r\n",
      "\t.long\t 0x3\r\n",
      "3:\r\n",
      "\t.align 8\r\n",
      "4:\r\n"
     ]
    }
   ],
   "source": [
    "%%cpp example.c\n",
    "%run gcc -m64 -masm=intel -Os example.c -S -o example.S\n",
    "%run cat example.S \n",
    "\n",
    "#include <stdio.h>\n",
    "    \n",
    "int hello(int a, int b) {\n",
    "    printf(\"Hello %d and %d\\n\", a, b);\n",
    "    return a;\n",
    "}"
   ]
  },
  {
   "cell_type": "code",
   "execution_count": 9,
   "metadata": {},
   "outputs": [
    {
     "data": {
      "text/markdown": [
       "Run: `gcc -m64 -O3 print.c -o print.exe`"
      ],
      "text/plain": [
       "<IPython.core.display.Markdown object>"
      ]
     },
     "metadata": {},
     "output_type": "display_data"
    },
    {
     "data": {
      "text/markdown": [
       "Run: `./print.exe`"
      ],
      "text/plain": [
       "<IPython.core.display.Markdown object>"
      ]
     },
     "metadata": {},
     "output_type": "display_data"
    },
    {
     "name": "stdout",
     "output_type": "stream",
     "text": [
      "Hello 1 and 2\r\n",
      "Hello 10 and 20\r\n",
      "SUCCESS\r\n"
     ]
    }
   ],
   "source": [
    "%%cpp print.c\n",
    "%run gcc -m64 -O3 print.c -o print.exe\n",
    "%run ./print.exe\n",
    "\n",
    "#include <stdio.h>\n",
    "#include <stdint.h>\n",
    "#include <assert.h>\n",
    "    \n",
    "// int hello(int a, int b) {\n",
    "//     printf(\"Hello %d and %d\\n\", a, b);\n",
    "//     return a;\n",
    "// }\n",
    "    \n",
    "int hello(int a, int b);\n",
    "__asm__(R\"(\n",
    ".intel_syntax noprefix\n",
    "\n",
    ".format_s:\n",
    "   .string \"Hello %d and %d\\n\"\n",
    "hello:\n",
    "    /* rdi, rsi, rdx, rcx */\n",
    "    push rdi /* сохраняем a и заодно обеспечиваем выравнивание по 16 байт для вызываемой функции */\n",
    "    /* готовим аргументы для printf */\n",
    "    mov rdx, rsi\n",
    "    mov rsi, rdi\n",
    "    lea rdi, .format_s[rip] /* вычисляем адрес форматной строки (он в данном случае относительный, а не абсолютный) */\n",
    "    call printf@PLT /* вызываем функцию */\n",
    "    pop rax /* восстанавливаем a и готовимся его возвращать */\n",
    "    ret\n",
    "    \n",
    ".att_syntax prefix /* thanks to Askhat Khayrullin */\n",
    ")\");\n",
    "\n",
    "\n",
    "int main() {\n",
    "    hello(1, 2);\n",
    "    hello(10, 20);\n",
    "    printf(\"SUCCESS\\n\");\n",
    "}"
   ]
  },
  {
   "cell_type": "code",
   "execution_count": 20,
   "metadata": {},
   "outputs": [
    {
     "name": "stdout",
     "output_type": "stream",
     "text": [
      "00000000000011ba <hello>:\r\n",
      "    11ba:\t57                   \tpush   rdi\r\n",
      "    11bb:\t48 89 f2             \tmov    rdx,rsi\r\n",
      "    11be:\t48 89 fe             \tmov    rsi,rdi\r\n",
      "    11c1:\t48 8d 3d e1 ff ff ff \tlea    rdi,[rip+0xffffffffffffffe1]        # 11a9 <.format_s>\r\n",
      "    11c8:\te8 a3 fe ff ff       \tcall   1070 <printf@plt>\r\n",
      "    11cd:\t58                   \tpop    rax\r\n",
      "    11ce:\tc3                   \tret    \r\n",
      "    11cf:\t90                   \tnop\r\n",
      "\r\n",
      "00000000000011d0 <__libc_csu_init>:\r\n"
     ]
    }
   ],
   "source": [
    "!objdump -M intel -d print.exe | grep \"<hello>:\" -A 10"
   ]
  },
  {
   "cell_type": "markdown",
   "metadata": {},
   "source": [
    "#  <a name=\"mul\"></a> Развлекательно-познавательная часть\n"
   ]
  },
  {
   "cell_type": "code",
   "execution_count": 112,
   "metadata": {},
   "outputs": [
    {
     "data": {
      "text/markdown": [
       "Run: `gcc -m64 -masm=intel -O1 mul.c -S -o mul.S`"
      ],
      "text/plain": [
       "<IPython.core.display.Markdown object>"
      ]
     },
     "metadata": {},
     "output_type": "display_data"
    },
    {
     "data": {
      "text/markdown": [
       "Run: `cat mul.S | ./asm_filter_useless`"
      ],
      "text/plain": [
       "<IPython.core.display.Markdown object>"
      ]
     },
     "metadata": {},
     "output_type": "display_data"
    },
    {
     "name": "stdout",
     "output_type": "stream",
     "text": [
      "mul:\r\n",
      "\tendbr64\r\n",
      "\tlea\teax, [rdi+rdi*4]\r\n",
      "\tret\r\n"
     ]
    }
   ],
   "source": [
    "%%cpp mul.c\n",
    "%run gcc -m64 -masm=intel -O1 mul.c -S -o mul.S\n",
    "%run cat mul.S | ./asm_filter_useless\n",
    "\n",
    "#include <stdint.h>\n",
    "    \n",
    "int32_t mul(int32_t a) { \n",
    "    return a * 5;\n",
    "}"
   ]
  },
  {
   "cell_type": "code",
   "execution_count": 109,
   "metadata": {},
   "outputs": [
    {
     "data": {
      "text/markdown": [
       "Run: `gcc -m64 -masm=intel -O3 div_0.c -S -o div_0.S`"
      ],
      "text/plain": [
       "<IPython.core.display.Markdown object>"
      ]
     },
     "metadata": {},
     "output_type": "display_data"
    },
    {
     "data": {
      "text/markdown": [
       "Run: `cat div_0.S | ./asm_filter_useless`"
      ],
      "text/plain": [
       "<IPython.core.display.Markdown object>"
      ]
     },
     "metadata": {},
     "output_type": "display_data"
    },
    {
     "name": "stdout",
     "output_type": "stream",
     "text": [
      "div:\r\n",
      "\tendbr64\r\n",
      "\tmov\teax, edi\r\n",
      "\timul\trax, rax, 1557462729\r\n",
      "\tshr\trax, 32\r\n",
      "\tsub\tedi, eax\r\n",
      "\tshr\tedi\r\n",
      "\tadd\teax, edi\r\n",
      "\tshr\teax, 23\r\n",
      "\tret\r\n",
      "div2:\r\n",
      "\tendbr64\r\n",
      "\tmov\teax, edi\r\n",
      "\txor\tedx, edx\r\n",
      "\tdiv\tesi\r\n",
      "\tret\r\n"
     ]
    }
   ],
   "source": [
    "%%cpp div_0.c\n",
    "%run gcc -m64 -masm=intel -O3 div_0.c -S -o div_0.S\n",
    "%run cat div_0.S | ./asm_filter_useless\n",
    "\n",
    "#include <stdint.h>\n",
    "    \n",
    "uint32_t div(uint32_t a) { \n",
    "    return a / 12312423;\n",
    "}\n",
    "\n",
    "uint32_t div2(uint32_t a, uint32_t b) { \n",
    "    return a / b;\n",
    "}"
   ]
  },
  {
   "cell_type": "code",
   "execution_count": 110,
   "metadata": {
    "scrolled": false
   },
   "outputs": [
    {
     "data": {
      "text/markdown": [
       "Run: `gcc -m64 -masm=intel -O3 div.c -S -o div.S`"
      ],
      "text/plain": [
       "<IPython.core.display.Markdown object>"
      ]
     },
     "metadata": {},
     "output_type": "display_data"
    },
    {
     "data": {
      "text/markdown": [
       "Run: `cat div.S | ./asm_filter_useless`"
      ],
      "text/plain": [
       "<IPython.core.display.Markdown object>"
      ]
     },
     "metadata": {},
     "output_type": "display_data"
    },
    {
     "name": "stdout",
     "output_type": "stream",
     "text": [
      "div:\r\n",
      "\tendbr64\r\n",
      "\ttest\tedi, edi\r\n",
      "\tlea\teax, 3[rdi]\r\n",
      "\tcmovns\teax, edi\r\n",
      "\tsar\teax, 2\r\n",
      "\tret\r\n",
      "udiv:\r\n",
      "\tendbr64\r\n",
      "\tmov\teax, edi\r\n",
      "\tshr\teax, 2\r\n",
      "\tret\r\n"
     ]
    }
   ],
   "source": [
    "%%cpp div.c\n",
    "%run gcc -m64 -masm=intel -O3 div.c -S -o div.S\n",
    "%run cat div.S | ./asm_filter_useless\n",
    "\n",
    "#include <stdint.h>\n",
    "    \n",
    "int32_t div(int32_t a) { \n",
    "    return a / 4;\n",
    "}\n",
    "\n",
    "uint32_t udiv(uint32_t a) { \n",
    "    return a / 4;\n",
    "}"
   ]
  },
  {
   "cell_type": "markdown",
   "metadata": {},
   "source": [
    "```\n",
    "-1: 1111 -> 1111\n",
    "-2: 1110 -> 1111\n",
    "-3: 1101 -> 1111\n",
    "-4: 1100 -> 1111\n",
    "-5: 1011 -> 1110\n",
    "```\n",
    "\n",
    "```\n",
    "-1: 1111 -> 0010 -> 0\n",
    "-2: 1110 -> 0001 -> 0\n",
    "-3: 1101 -> 0000 -> 0\n",
    "-4: 1100 -> 1111 -> -1\n",
    "-5: 1011 -> 1110 -> -1\n",
    "```\n"
   ]
  },
  {
   "cell_type": "code",
   "execution_count": null,
   "metadata": {},
   "outputs": [],
   "source": []
  },
  {
   "cell_type": "markdown",
   "metadata": {},
   "source": [
    "# <a name=\"inline\"></a> Inline ASM\n",
    "http://asm.sourceforge.net/articles/linasm.html"
   ]
  },
  {
   "cell_type": "code",
   "execution_count": 74,
   "metadata": {},
   "outputs": [
    {
     "data": {
      "text/markdown": [
       "Run: `gcc -m64 -masm=intel -O3 simdiv.c -o simdiv.exe`"
      ],
      "text/plain": [
       "<IPython.core.display.Markdown object>"
      ]
     },
     "metadata": {},
     "output_type": "display_data"
    },
    {
     "data": {
      "text/markdown": [
       "Run: `./simdiv.exe`"
      ],
      "text/plain": [
       "<IPython.core.display.Markdown object>"
      ]
     },
     "metadata": {},
     "output_type": "display_data"
    },
    {
     "name": "stdout",
     "output_type": "stream",
     "text": [
      "SUCCESS\r\n"
     ]
    }
   ],
   "source": [
    "%%cpp simdiv.c\n",
    "%run gcc -m64 -masm=intel -O3 simdiv.c -o simdiv.exe\n",
    "%run ./simdiv.exe\n",
    "\n",
    "#include <stdio.h>\n",
    "#include <stdint.h>\n",
    "#include <assert.h>\n",
    "    \n",
    "int32_t simdiv(int32_t a) { \n",
    "    uint32_t eax = ((uint32_t)a >> 31) + a;\n",
    "    __asm__(\"sar %0\" : \"=a\"(eax) : \"a\"(eax));\n",
    "    return eax;\n",
    "}\n",
    "\n",
    "int main() {\n",
    "    assert(simdiv(1) == 0);\n",
    "    assert(simdiv(5) == 2);\n",
    "    assert(simdiv(-1) == 0);\n",
    "    assert(simdiv(-5) == -2);\n",
    "    printf(\"SUCCESS\\n\");\n",
    "}"
   ]
  },
  {
   "cell_type": "code",
   "execution_count": null,
   "metadata": {},
   "outputs": [],
   "source": []
  },
  {
   "cell_type": "code",
   "execution_count": null,
   "metadata": {},
   "outputs": [],
   "source": []
  },
  {
   "cell_type": "markdown",
   "metadata": {},
   "source": [
    "##  <a name=\"hw\"></a> Комментарии к дз\n",
    "\n",
    "\n"
   ]
  },
  {
   "cell_type": "code",
   "execution_count": null,
   "metadata": {},
   "outputs": [],
   "source": []
  }
 ],
 "metadata": {
  "kernelspec": {
   "display_name": "Python 3",
   "language": "python",
   "name": "python3"
  },
  "language_info": {
   "codemirror_mode": {
    "name": "ipython",
    "version": 3
   },
   "file_extension": ".py",
   "mimetype": "text/x-python",
   "name": "python",
   "nbconvert_exporter": "python",
   "pygments_lexer": "ipython3",
   "version": "3.8.5"
  }
 },
 "nbformat": 4,
 "nbformat_minor": 2
}
