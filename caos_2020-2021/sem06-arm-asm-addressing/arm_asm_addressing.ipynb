{
 "cells": [
  {
   "cell_type": "code",
   "execution_count": 6,
   "metadata": {
    "scrolled": true
   },
   "outputs": [
    {
     "data": {
      "application/javascript": [
       "// setup cpp code highlighting\n",
       "IPython.CodeCell.options_default.highlight_modes[\"text/x-c++src\"] = {'reg':[/^%%cpp/]} ;IPython.CodeCell.options_default.highlight_modes[\"text/x-cmake\"] = {'reg':[/^%%cmake/]} ;"
      ],
      "text/plain": [
       "<IPython.core.display.Javascript object>"
      ]
     },
     "metadata": {},
     "output_type": "display_data"
    },
    {
     "data": {
      "text/html": [
       "<!-- YANDEX_METRICA_BEGIN -->\n",
       "    <script type=\"text/javascript\" >\n",
       "       (function(m,e,t,r,i,k,a){m[i]=m[i]||function(){(m[i].a=m[i].a||[]).push(arguments)};\n",
       "       m[i].l=1*new Date();k=e.createElement(t),a=e.getElementsByTagName(t)[0],k.async=1,k.src=r,a.parentNode.insertBefore(k,a)})\n",
       "       (window, document, \"script\", \"https://mc.yandex.ru/metrika/tag.js\", \"ym\");\n",
       "\n",
       "       ym(59260609, \"init\", {\n",
       "            clickmap:true,\n",
       "            trackLinks:true,\n",
       "            accurateTrackBounce:true\n",
       "       });\n",
       "    </script>\n",
       "    <noscript><div><img src=\"https://mc.yandex.ru/watch/59260609\" style=\"position:absolute; left:-9999px;\" alt=\"\" /></div></noscript>\n",
       "    <!-- YANDEX_METRICA_END -->"
      ],
      "text/plain": [
       "<IPython.core.display.HTML object>"
      ]
     },
     "metadata": {},
     "output_type": "display_data"
    },
    {
     "data": {
      "text/html": [
       "В этот ноутбук встроен код Яндекс Метрики для сбора статистики использований. Если вы не хотите, чтобы по вам собиралась статистика, исправьте: yandex_metrica_allowed = False<!-- MAGICS_SETUP_PRINTING_END -->"
      ],
      "text/plain": [
       "<IPython.core.display.HTML object>"
      ]
     },
     "metadata": {},
     "output_type": "display_data"
    }
   ],
   "source": [
    "# look at tools/set_up_magics.ipynb\n",
    "yandex_metrica_allowed = True ; get_ipython().run_cell('# one_liner_str\\n\\nget_ipython().run_cell_magic(\\'javascript\\', \\'\\', \\n    \\'// setup cpp code highlighting\\\\n\\'\\n    \\'IPython.CodeCell.options_default.highlight_modes[\"text/x-c++src\"] = {\\\\\\'reg\\\\\\':[/^%%cpp/]} ;\\'\\n    \\'IPython.CodeCell.options_default.highlight_modes[\"text/x-cmake\"] = {\\\\\\'reg\\\\\\':[/^%%cmake/]} ;\\'\\n)\\n\\n# creating magics\\nfrom IPython.core.magic import register_cell_magic, register_line_magic\\nfrom IPython.display import display, Markdown, HTML\\nimport argparse\\nfrom subprocess import Popen, PIPE\\nimport random\\nimport sys\\nimport os\\nimport re\\nimport signal\\nimport shutil\\nimport shlex\\nimport glob\\nimport time\\n\\n@register_cell_magic\\ndef save_file(args_str, cell, line_comment_start=\"#\"):\\n    parser = argparse.ArgumentParser()\\n    parser.add_argument(\"fname\")\\n    parser.add_argument(\"--ejudge-style\", action=\"store_true\")\\n    args = parser.parse_args(args_str.split())\\n    \\n    cell = cell if cell[-1] == \\'\\\\n\\' or args.no_eof_newline else cell + \"\\\\n\"\\n    cmds = []\\n    with open(args.fname, \"w\") as f:\\n        f.write(line_comment_start + \" %%cpp \" + args_str + \"\\\\n\")\\n        for line in cell.split(\"\\\\n\"):\\n            line_to_write = (line if not args.ejudge_style else line.rstrip()) + \"\\\\n\"\\n            if line.startswith(\"%\"):\\n                run_prefix = \"%run \"\\n                if line.startswith(run_prefix):\\n                    cmds.append(line[len(run_prefix):].strip())\\n                    f.write(line_comment_start + \" \" + line_to_write)\\n                    continue\\n                comment_prefix = \"%\" + line_comment_start\\n                if line.startswith(comment_prefix):\\n                    cmds.append(\\'#\\' + line[len(comment_prefix):].strip())\\n                    f.write(line_comment_start + \" \" + line_to_write)\\n                    continue\\n                raise Exception(\"Unknown %%save_file subcommand: \\'%s\\'\" % line)\\n            else:\\n                f.write(line_to_write)\\n        f.write(\"\" if not args.ejudge_style else line_comment_start + r\" line without \\\\n\")\\n    for cmd in cmds:\\n        if cmd.startswith(\\'#\\'):\\n            display(Markdown(\"\\\\#\\\\#\\\\#\\\\# `%s`\" % cmd[1:]))\\n        else:\\n            display(Markdown(\"Run: `%s`\" % cmd))\\n            get_ipython().system(cmd)\\n\\n@register_cell_magic\\ndef cpp(fname, cell):\\n    save_file(fname, cell, \"//\")\\n    \\n@register_cell_magic\\ndef cmake(fname, cell):\\n    save_file(fname, cell, \"#\")\\n\\n@register_cell_magic\\ndef asm(fname, cell):\\n    save_file(fname, cell, \"//\")\\n    \\n@register_cell_magic\\ndef makefile(fname, cell):\\n    fname = fname or \"makefile\"\\n    assert fname.endswith(\"makefile\")\\n    save_file(fname, cell.replace(\" \" * 4, \"\\\\t\"))\\n        \\n@register_line_magic\\ndef p(line):\\n    line = line.strip() \\n    if line[0] == \\'#\\':\\n        display(Markdown(line[1:].strip()))\\n    else:\\n        try:\\n            expr, comment = line.split(\" #\")\\n            display(Markdown(\"`{} = {}`  # {}\".format(expr.strip(), eval(expr), comment.strip())))\\n        except:\\n            display(Markdown(\"{} = {}\".format(line, eval(line))))\\n    \\n    \\ndef show_log_file(file, return_html_string=False):\\n    obj = file.replace(\\'.\\', \\'_\\').replace(\\'/\\', \\'_\\') + \"_obj\"\\n    html_string = \\'\\'\\'\\n        <!--MD_BEGIN_FILTER-->\\n        <script type=text/javascript>\\n        var entrance___OBJ__ = 0;\\n        var errors___OBJ__ = 0;\\n        function halt__OBJ__(elem, color)\\n        {\\n            elem.setAttribute(\"style\", \"font-size: 14px; background: \" + color + \"; padding: 10px; border: 3px; border-radius: 5px; color: white; \");                    \\n        }\\n        function refresh__OBJ__()\\n        {\\n            entrance___OBJ__ -= 1;\\n            if (entrance___OBJ__ < 0) {\\n                entrance___OBJ__ = 0;\\n            }\\n            var elem = document.getElementById(\"__OBJ__\");\\n            if (elem) {\\n                var xmlhttp=new XMLHttpRequest();\\n                xmlhttp.onreadystatechange=function()\\n                {\\n                    var elem = document.getElementById(\"__OBJ__\");\\n                    console.log(!!elem, xmlhttp.readyState, xmlhttp.status, entrance___OBJ__);\\n                    if (elem && xmlhttp.readyState==4) {\\n                        if (xmlhttp.status==200)\\n                        {\\n                            errors___OBJ__ = 0;\\n                            if (!entrance___OBJ__) {\\n                                if (elem.innerHTML != xmlhttp.responseText) {\\n                                    elem.innerHTML = xmlhttp.responseText;\\n                                }\\n                                if (elem.innerHTML.includes(\"Process finished.\")) {\\n                                    halt__OBJ__(elem, \"#333333\");\\n                                } else {\\n                                    entrance___OBJ__ += 1;\\n                                    console.log(\"req\");\\n                                    window.setTimeout(\"refresh__OBJ__()\", 300); \\n                                }\\n                            }\\n                            return xmlhttp.responseText;\\n                        } else {\\n                            errors___OBJ__ += 1;\\n                            if (!entrance___OBJ__) {\\n                                if (errors___OBJ__ < 6) {\\n                                    entrance___OBJ__ += 1;\\n                                    console.log(\"req\");\\n                                    window.setTimeout(\"refresh__OBJ__()\", 300); \\n                                } else {\\n                                    halt__OBJ__(elem, \"#994444\");\\n                                }\\n                            }\\n                        }\\n                    }\\n                }\\n                xmlhttp.open(\"GET\", \"__FILE__\", true);\\n                xmlhttp.setRequestHeader(\"Cache-Control\", \"no-cache\");\\n                xmlhttp.send();     \\n            }\\n        }\\n        \\n        if (!entrance___OBJ__) {\\n            entrance___OBJ__ += 1;\\n            refresh__OBJ__(); \\n        }\\n        </script>\\n\\n        <p id=\"__OBJ__\" style=\"font-size: 14px; background: #000000; padding: 10px; border: 3px; border-radius: 5px; color: white; \">\\n        </p>\\n        \\n        </font>\\n        <!--MD_END_FILTER-->\\n        <!--MD_FROM_FILE __FILE__.md -->\\n        \\'\\'\\'.replace(\"__OBJ__\", obj).replace(\"__FILE__\", file)\\n    if return_html_string:\\n        return html_string\\n    display(HTML(html_string))\\n\\n    \\nclass TInteractiveLauncher:\\n    tmp_path = \"./interactive_launcher_tmp\"\\n    def __init__(self, cmd):\\n        try:\\n            os.mkdir(TInteractiveLauncher.tmp_path)\\n        except:\\n            pass\\n        name = str(random.randint(0, 1e18))\\n        self.inq_path = os.path.join(TInteractiveLauncher.tmp_path, name + \".inq\")\\n        self.log_path = os.path.join(TInteractiveLauncher.tmp_path, name + \".log\")\\n        \\n        os.mkfifo(self.inq_path)\\n        open(self.log_path, \\'w\\').close()\\n        open(self.log_path + \".md\", \\'w\\').close()\\n\\n        self.pid = os.fork()\\n        if self.pid == -1:\\n            print(\"Error\")\\n        if self.pid == 0:\\n            exe_cands = glob.glob(\"../tools/launcher.py\") + glob.glob(\"../../tools/launcher.py\")\\n            assert(len(exe_cands) == 1)\\n            assert(os.execvp(\"python3\", [\"python3\", exe_cands[0], \"-l\", self.log_path, \"-i\", self.inq_path, \"-c\", cmd]) == 0)\\n        self.inq_f = open(self.inq_path, \"w\")\\n        interactive_launcher_opened_set.add(self.pid)\\n        show_log_file(self.log_path)\\n\\n    def write(self, s):\\n        s = s.encode()\\n        assert len(s) == os.write(self.inq_f.fileno(), s)\\n        \\n    def get_pid(self):\\n        n = 100\\n        for i in range(n):\\n            try:\\n                return int(re.findall(r\"PID = (\\\\d+)\", open(self.log_path).readline())[0])\\n            except:\\n                if i + 1 == n:\\n                    raise\\n                time.sleep(0.1)\\n        \\n    def input_queue_path(self):\\n        return self.inq_path\\n        \\n    def wait_stop(self, timeout):\\n        for i in range(int(timeout * 10)):\\n            wpid, status = os.waitpid(self.pid, os.WNOHANG)\\n            if wpid != 0:\\n                return True\\n            time.sleep(0.1)\\n        return False\\n        \\n    def close(self, timeout=3):\\n        self.inq_f.close()\\n        if not self.wait_stop(timeout):\\n            os.kill(self.get_pid(), signal.SIGKILL)\\n            os.waitpid(self.pid, 0)\\n        os.remove(self.inq_path)\\n        # os.remove(self.log_path)\\n        self.inq_path = None\\n        self.log_path = None \\n        interactive_launcher_opened_set.remove(self.pid)\\n        self.pid = None\\n        \\n    @staticmethod\\n    def terminate_all():\\n        if \"interactive_launcher_opened_set\" not in globals():\\n            globals()[\"interactive_launcher_opened_set\"] = set()\\n        global interactive_launcher_opened_set\\n        for pid in interactive_launcher_opened_set:\\n            print(\"Terminate pid=\" + str(pid), file=sys.stderr)\\n            os.kill(pid, signal.SIGKILL)\\n            os.waitpid(pid, 0)\\n        interactive_launcher_opened_set = set()\\n        if os.path.exists(TInteractiveLauncher.tmp_path):\\n            shutil.rmtree(TInteractiveLauncher.tmp_path)\\n    \\nTInteractiveLauncher.terminate_all()\\n   \\nyandex_metrica_allowed = bool(globals().get(\"yandex_metrica_allowed\", False))\\nif yandex_metrica_allowed:\\n    display(HTML(\\'\\'\\'<!-- YANDEX_METRICA_BEGIN -->\\n    <script type=\"text/javascript\" >\\n       (function(m,e,t,r,i,k,a){m[i]=m[i]||function(){(m[i].a=m[i].a||[]).push(arguments)};\\n       m[i].l=1*new Date();k=e.createElement(t),a=e.getElementsByTagName(t)[0],k.async=1,k.src=r,a.parentNode.insertBefore(k,a)})\\n       (window, document, \"script\", \"https://mc.yandex.ru/metrika/tag.js\", \"ym\");\\n\\n       ym(59260609, \"init\", {\\n            clickmap:true,\\n            trackLinks:true,\\n            accurateTrackBounce:true\\n       });\\n    </script>\\n    <noscript><div><img src=\"https://mc.yandex.ru/watch/59260609\" style=\"position:absolute; left:-9999px;\" alt=\"\" /></div></noscript>\\n    <!-- YANDEX_METRICA_END -->\\'\\'\\'))\\n\\ndef make_oneliner():\\n    html_text = \\'(\"В этот ноутбук встроен код Яндекс Метрики для сбора статистики использований. Если вы не хотите, чтобы по вам собиралась статистика, исправьте: yandex_metrica_allowed = False\" if yandex_metrica_allowed else \"\")\\'\\n    html_text += \\' + \"<\"\"!-- MAGICS_SETUP_PRINTING_END -->\"\\'\\n    return \\'\\'.join([\\n        \\'# look at tools/set_up_magics.ipynb\\\\n\\',\\n        \\'yandex_metrica_allowed = True ; get_ipython().run_cell(%s);\\' % repr(one_liner_str),\\n        \\'display(HTML(%s))\\' % html_text,\\n        \\' #\\'\\'MAGICS_SETUP_END\\'\\n    ])\\n       \\n\\n');display(HTML((\"В этот ноутбук встроен код Яндекс Метрики для сбора статистики использований. Если вы не хотите, чтобы по вам собиралась статистика, исправьте: yandex_metrica_allowed = False\" if yandex_metrica_allowed else \"\") + \"<\"\"!-- MAGICS_SETUP_PRINTING_END -->\")) #MAGICS_SETUP_END"
   ]
  },
  {
   "cell_type": "markdown",
   "metadata": {},
   "source": [
    "# ARM ASM ADDRESSING\n",
    "\n",
    "<table width=100%> <tr>\n",
    "    <th width=20%> <b>Видеозапись семинара &rarr; </b> </th>\n",
    "    <th>\n",
    "    <a href=\"https://www.youtube.com/watch?v=V1Dc6ESqW6E&list=PLjzMm8llUm4AmU6i_hPU0NobgA4VsBowc&index=7\">\n",
    "        <img src=\"video.jpg\" width=\"320\"  height=\"160\" align=\"left\" alt=\"Видео с семинара\"> \n",
    "    </a>\n",
    "    </th>\n",
    "    <th> </th>\n",
    "</tr> </table>\n",
    "\n",
    "[Ридинг Яковлева: Адресация данных в памяти и использование библиотечных функций](https://github.com/victor-yacovlev/mipt-diht-caos/tree/master/practice/arm_globals_plt)\n",
    "\n",
    "Сегодня в программе:\n",
    "* <a href=\"#array\" style=\"color:#856024\"> Пример работы с массивом из ассемблера </a>\n",
    "* <a href=\"#ldr_str\" style=\"color:#856024\">  Разные варианты STR, LDR </a>\n",
    "* <a href=\"#placement\" style=\"color:#856024\"> Размещение структур в памяти </a>\n",
    "* <a href=\"#byte\" style=\"color:#856024\">  Загрузка и сохранение в память 1/2/4/8 байтных целых чисел </a>\n",
    "* <a href=\"#basnya\" style=\"color:#856024\"> Басня от jungletryne </a>\n"
   ]
  },
  {
   "cell_type": "code",
   "execution_count": null,
   "metadata": {},
   "outputs": [],
   "source": []
  },
  {
   "cell_type": "code",
   "execution_count": 151,
   "metadata": {},
   "outputs": [],
   "source": [
    "import os\n",
    "\n",
    "linaro_download_dir = os.path.expanduser(\"~/arm/gcc-linaro-7.3.1-2018.05-i686_arm-linux-gnueabi\")\n",
    "\n",
    "gcc_linaro_path = os.path.join(linaro_download_dir, \"bin\")\n",
    "if gcc_linaro_path not in os.environ[\"PATH\"]:\n",
    "    os.environ[\"PATH\"] += \":\" + gcc_linaro_path\n",
    "\n",
    "os.environ[\"QEMU_LD_PREFIX\"] = os.path.join(linaro_download_dir, \"arm-linux-gnueabi/libc\")    "
   ]
  },
  {
   "cell_type": "markdown",
   "metadata": {},
   "source": [
    "# <a name=\"array\"></a> Пример работы с массивом из ассемблера"
   ]
  },
  {
   "cell_type": "code",
   "execution_count": 162,
   "metadata": {},
   "outputs": [
    {
     "data": {
      "text/markdown": [
       "Run: `arm-linux-gnueabi-gcc -c -Os -fno-asynchronous-unwind-tables -marm lib.c -o lib.o`"
      ],
      "text/plain": [
       "<IPython.core.display.Markdown object>"
      ]
     },
     "metadata": {},
     "output_type": "display_data"
    },
    {
     "data": {
      "text/markdown": [
       "Run: `arm-linux-gnueabi-objdump -D lib.o | grep '<sum_v>' -A 14`"
      ],
      "text/plain": [
       "<IPython.core.display.Markdown object>"
      ]
     },
     "metadata": {},
     "output_type": "display_data"
    },
    {
     "name": "stdout",
     "output_type": "stream",
     "text": [
      "00000000 <sum_v>:\r\n",
      "   0:\te3a03000 \tmov\tr3, #0\r\n",
      "   4:\te1530002 \tcmp\tr3, r2\r\n",
      "   8:\tba000000 \tblt\t10 <sum_v+0x10>\r\n",
      "   c:\te12fff1e \tbx\tlr\r\n",
      "  10:\te52de004 \tpush\t{lr}\t\t; (str lr, [sp, #-4]!)\r\n",
      "  14:\te790c103 \tldr\tip, [r0, r3, lsl #2]\r\n",
      "  18:\te791e103 \tldr\tlr, [r1, r3, lsl #2]\r\n",
      "  1c:\te08cc00e \tadd\tip, ip, lr\r\n",
      "  20:\te780c103 \tstr\tip, [r0, r3, lsl #2]\r\n",
      "  24:\te2833001 \tadd\tr3, r3, #1\r\n",
      "  28:\te1530002 \tcmp\tr3, r2\r\n",
      "  2c:\tbafffff8 \tblt\t14 <sum_v+0x14>\r\n",
      "  30:\te49df004 \tpop\t{pc}\t\t; (ldr pc, [sp], #4)\r\n",
      "\r\n"
     ]
    }
   ],
   "source": [
    "%%cpp lib.c\n",
    "%run arm-linux-gnueabi-gcc -c -Os -fno-asynchronous-unwind-tables -marm lib.c -o lib.o\n",
    "%run arm-linux-gnueabi-objdump -D lib.o | grep '<sum_v>' -A 14\n",
    "\n",
    "int sum_v(int* a, int* b, int n) {\n",
    "    for (int i = 0; i < n; ++i) {\n",
    "        a[i] += b[i];\n",
    "    }\n",
    "}\n",
    "\n",
    "int sum_v_2(int* a, int* b, int n) {\n",
    "    for (int* a_end = a + n; a != a_end; ++a, ++b) {\n",
    "        *a += *b;\n",
    "    }\n",
    "}"
   ]
  },
  {
   "cell_type": "code",
   "execution_count": 163,
   "metadata": {},
   "outputs": [
    {
     "data": {
      "text/markdown": [
       "Run: `arm-linux-gnueabi-gcc -marm -fsanitize=address lib.c test_sum_v.c -o test_sum_v.exe`"
      ],
      "text/plain": [
       "<IPython.core.display.Markdown object>"
      ]
     },
     "metadata": {},
     "output_type": "display_data"
    },
    {
     "data": {
      "text/markdown": [
       "Run: `qemu-arm ./test_sum_v.exe`"
      ],
      "text/plain": [
       "<IPython.core.display.Markdown object>"
      ]
     },
     "metadata": {},
     "output_type": "display_data"
    },
    {
     "name": "stdout",
     "output_type": "stream",
     "text": [
      "SUCCESS\r\n"
     ]
    }
   ],
   "source": [
    "%%cpp test_sum_v.c\n",
    "%run arm-linux-gnueabi-gcc -marm -fsanitize=address lib.c test_sum_v.c -o test_sum_v.exe\n",
    "%run qemu-arm ./test_sum_v.exe\n",
    "\n",
    "#include <stdio.h>\n",
    "#include <assert.h>\n",
    "\n",
    "int sum_v(int* a, int* b, int n);\n",
    "\n",
    "void test() {\n",
    "    {\n",
    "        int a[] = {1, 2, 3};\n",
    "        int b[] = {10, 20, 30};\n",
    "        sum_v(a, b, 3);\n",
    "        assert(a[0] == 11);\n",
    "        assert(a[1] == 22);\n",
    "        assert(a[2] == 33);\n",
    "    }\n",
    "    {\n",
    "        int a[] = {};\n",
    "        int b[] = {};\n",
    "        sum_v(a, b, 0);    \n",
    "    }\n",
    "    printf(\"SUCCESS\\n\");\n",
    "}\n",
    "\n",
    "int main() {\n",
    "    test();\n",
    "}"
   ]
  },
  {
   "cell_type": "markdown",
   "metadata": {},
   "source": [
    "### Вариант 1: причесанный дизассемблер"
   ]
  },
  {
   "cell_type": "code",
   "execution_count": 130,
   "metadata": {},
   "outputs": [
    {
     "data": {
      "text/markdown": [
       "Run: `arm-linux-gnueabi-gcc -marm -fsanitize=address lib.S test_sum_v.c -o test_sum_v.exe`"
      ],
      "text/plain": [
       "<IPython.core.display.Markdown object>"
      ]
     },
     "metadata": {},
     "output_type": "display_data"
    },
    {
     "data": {
      "text/markdown": [
       "Run: `qemu-arm ./test_sum_v.exe`"
      ],
      "text/plain": [
       "<IPython.core.display.Markdown object>"
      ]
     },
     "metadata": {},
     "output_type": "display_data"
    },
    {
     "name": "stdout",
     "output_type": "stream",
     "text": [
      "SUCCESS\r\n"
     ]
    }
   ],
   "source": [
    "%%cpp lib.S\n",
    "%run arm-linux-gnueabi-gcc -marm -fsanitize=address lib.S test_sum_v.c -o test_sum_v.exe\n",
    "%run qemu-arm ./test_sum_v.exe\n",
    "\n",
    ".global sum_v\n",
    "sum_v:\n",
    "    mov r3, #0\n",
    "    cmp r3, r2\n",
    "    blt long_path // if (else block)\n",
    "        bx lr\n",
    "    long_path:    // if (first block)\n",
    "        push {lr}\n",
    "        while_do: // do\n",
    "            ldr ip, [r0, r3, lsl #2] // C-style: ip = *(r0 + (r3 << 2))\n",
    "            ldr lr, [r1, r3, lsl #2]\n",
    "            add ip, ip, lr\n",
    "            str ip, [r0, r3, lsl #2] // C-style: *(r0 + (r3 << 2)) = ip\n",
    "            add r3, r3, #1\n",
    "            cmp r3, r2\n",
    "            blt while_do // while (i < n)\n",
    "        pop {pc}"
   ]
  },
  {
   "cell_type": "markdown",
   "metadata": {},
   "source": [
    "### Вариант 2: c нуля, придерживаясь сишной структуры кода"
   ]
  },
  {
   "cell_type": "code",
   "execution_count": 131,
   "metadata": {},
   "outputs": [
    {
     "data": {
      "text/markdown": [
       "Run: `arm-linux-gnueabi-gcc -marm -fsanitize=address lib.S test_sum_v.c -o test_sum_v.exe`"
      ],
      "text/plain": [
       "<IPython.core.display.Markdown object>"
      ]
     },
     "metadata": {},
     "output_type": "display_data"
    },
    {
     "data": {
      "text/markdown": [
       "Run: `qemu-arm ./test_sum_v.exe`"
      ],
      "text/plain": [
       "<IPython.core.display.Markdown object>"
      ]
     },
     "metadata": {},
     "output_type": "display_data"
    },
    {
     "name": "stdout",
     "output_type": "stream",
     "text": [
      "SUCCESS\r\n"
     ]
    }
   ],
   "source": [
    "%%cpp lib.S\n",
    "%run arm-linux-gnueabi-gcc -marm -fsanitize=address lib.S test_sum_v.c -o test_sum_v.exe\n",
    "%run qemu-arm ./test_sum_v.exe\n",
    "\n",
    ".global sum_v\n",
    "sum_v:\n",
    "    // C-style: r0 = a, r1 = b, r2 = n\n",
    "    add r2, r0, r2, lsl #2 // C-style: r2 = (a + n * 4)\n",
    "    while_start: // while\n",
    "        cmp r0, r2\n",
    "        beq while_end\n",
    "            ldr ip, [r0] // C-style: ip = *r0\n",
    "            ldr r3, [r1] // C-style: r3 = *r1\n",
    "            add r3, r3, ip // C-style: r3 += ip\n",
    "            str r3, [r0] // C-style: *r0 = r3\n",
    "            add r0, r0, #4\n",
    "            add r1, r1, #4\n",
    "        b while_start\n",
    "    while_end: // while end\n",
    "    bx lr"
   ]
  },
  {
   "cell_type": "markdown",
   "metadata": {},
   "source": [
    "### Вариант 3: оптимизируем"
   ]
  },
  {
   "cell_type": "code",
   "execution_count": 132,
   "metadata": {},
   "outputs": [
    {
     "data": {
      "text/markdown": [
       "Run: `arm-linux-gnueabi-gcc -marm -fsanitize=address lib.S test_sum_v.c -o test_sum_v.exe`"
      ],
      "text/plain": [
       "<IPython.core.display.Markdown object>"
      ]
     },
     "metadata": {},
     "output_type": "display_data"
    },
    {
     "data": {
      "text/markdown": [
       "Run: `qemu-arm ./test_sum_v.exe`"
      ],
      "text/plain": [
       "<IPython.core.display.Markdown object>"
      ]
     },
     "metadata": {},
     "output_type": "display_data"
    },
    {
     "name": "stdout",
     "output_type": "stream",
     "text": [
      "SUCCESS\n"
     ]
    }
   ],
   "source": [
    "%%cpp lib.S\n",
    "%run arm-linux-gnueabi-gcc -marm -fsanitize=address lib.S test_sum_v.c -o test_sum_v.exe\n",
    "%run qemu-arm ./test_sum_v.exe\n",
    "\n",
    ".global sum_v\n",
    "sum_v:\n",
    "    // C-style: r0 = a, r1 = b, r2 = n\n",
    "    add r2, r0, r2, lsl #2 // C-style: r2 = r0 + (r2 << 2)\n",
    "    while_start: // while\n",
    "        cmp r0, r2\n",
    "        beq while_end\n",
    "            ldr ip, [r0] // C-style: ip = *r0\n",
    "            ldr r3, [r1], #4 // C-style: r3 = *r1, r1 += 4\n",
    "            add r3, r3, ip // C-style: r3 += ip\n",
    "            str r3, [r0], #4 // C-style: *r0 = r3, r0 += 4\n",
    "        b while_start\n",
    "    while_end: // while end\n",
    "    bx lr"
   ]
  },
  {
   "cell_type": "markdown",
   "metadata": {},
   "source": [
    "# <a name=\"ldr_str\"></a> Разные варианты STR, LDR:"
   ]
  },
  {
   "cell_type": "code",
   "execution_count": 133,
   "metadata": {},
   "outputs": [
    {
     "data": {
      "text/markdown": [
       "Run: `arm-linux-gnueabi-gcc -marm program_asm_p.c -o program.exe`"
      ],
      "text/plain": [
       "<IPython.core.display.Markdown object>"
      ]
     },
     "metadata": {},
     "output_type": "display_data"
    },
    {
     "data": {
      "text/markdown": [
       "Run: `qemu-arm ./program.exe ; echo`"
      ],
      "text/plain": [
       "<IPython.core.display.Markdown object>"
      ]
     },
     "metadata": {},
     "output_type": "display_data"
    },
    {
     "name": "stdout",
     "output_type": "stream",
     "text": [
      "SUCCESS\r\n",
      "\r\n"
     ]
    }
   ],
   "source": [
    "%%cpp program_asm_p.c\n",
    "%run arm-linux-gnueabi-gcc -marm program_asm_p.c -o program.exe\n",
    "%run qemu-arm ./program.exe ; echo \n",
    "\n",
    "#include <stdio.h>\n",
    "#include <assert.h>\n",
    "\n",
    "int* load_1(int* a, int* b, int n);\n",
    "__asm__ (R\"(\n",
    ".global load_1\n",
    "load_1:\n",
    "    ldr r3, [r0] // r3 = *r0\n",
    "    str r3, [r1] // *b = r3\n",
    "    bx lr\n",
    ")\");\n",
    "\n",
    "int* load_2(int* a, int* b, int n);\n",
    "__asm__ (R\"(\n",
    ".global load_2\n",
    "load_2:\n",
    "    ldr r3, [r0, r2, lsl #2] // r3 = *(r0 + (r2 << 2))\n",
    "    str r3, [r1] // *b = r3\n",
    "    bx lr\n",
    ")\");\n",
    "\n",
    "int* load_3(int* a, int* b, int n);\n",
    "__asm__ (R\"(\n",
    ".global load_3\n",
    "load_3:\n",
    "    ldr r3, [r0, r2, lsl #2]! // r0 += (r2 << 2); r3 = *r0\n",
    "    str r3, [r1] // *b = r3\n",
    "    bx lr\n",
    ")\");\n",
    "\n",
    "int* load_4(int* a, int* b, int n);\n",
    "__asm__ (R\"(\n",
    ".global load_4\n",
    "load_4:\n",
    "    ldr r3, [r0], r2, lsl #2 // r3 = *r0; r0 += (r2 << 2)\n",
    "    str r3, [r1] // *b = r3\n",
    "    bx lr\n",
    ")\");\n",
    "\n",
    "\n",
    "int main() {\n",
    "    int a[] = {10, 20, 30};\n",
    "    int res;\n",
    "    \n",
    "    // Просто загрузить\n",
    "    // ldr r3, [r0]\n",
    "    assert(load_1(a, &res, 0) == a);\n",
    "    assert(res == 10);\n",
    "    \n",
    "    // Загрузить по адресу со смещением\n",
    "    // ldr r3, [r0, r2, lsl #2]\n",
    "    assert(load_2(a, &res, 0) == a);\n",
    "    assert(res == 10);\n",
    "    assert(load_2(a, &res, 1) == a);\n",
    "    assert(res == 20);\n",
    "    \n",
    "    // Загрузить по префикс-инкрементнутому адресу\n",
    "    // ldr r3, [r0, r2, lsl #2]!\n",
    "    assert(load_3(a, &res, 0) == a);\n",
    "    assert(res == 10);\n",
    "    assert(load_3(a, &res, 1) == a + 1); // (!)\n",
    "    assert(res == 20);\n",
    "    \n",
    "    // Загрузить по постфикс-инкрементнутому адресу\n",
    "    // ldr r3, [r0], r2, lsl #2\n",
    "    assert(load_4(a, &res, 0) == a);\n",
    "    assert(res == 10);\n",
    "    assert(load_4(a, &res, 1) == a + 1); // (!)\n",
    "    assert(res == 10); // (!)\n",
    "        \n",
    "    printf(\"SUCCESS\\n\");\n",
    "    \n",
    "    return 0;\n",
    "}\n"
   ]
  },
  {
   "cell_type": "code",
   "execution_count": null,
   "metadata": {},
   "outputs": [],
   "source": []
  },
  {
   "cell_type": "markdown",
   "metadata": {},
   "source": [
    "# <a name=\"placement\"></a> Размещение структур в памяти\n",
    "\n",
    "Не все всегда расположено очевидным образом: для более эффективного выполнения программы бывает выгодно выровненное расположение объектов в памяти, например считывать ui64 из памяти выгоднее, если адрес делится на 8.\n",
    "\n",
    "Примерные правила:\n",
    "* выравнивание (то, на что адрес должен делиться) равно размеру для простых арифметических типов (указатели тоже здесь)\n",
    "* в union берется максимум для выравнивания (и максимум из размеров округенный вверх, чтобы делиться на выравнивание)\n",
    "* в struct члены располагаются в том порядке, в котором указаны. Выравнивание структуры - максимум выравниваний. Каждый член располагается так, чтобы удовлетворять собственному выравниванию. Итоговый размер структуры делится на выравнивание структуры. С учетом этого размер струкуры минимизируется.\n",
    "\n",
    "Для экспериментов можно использовать `sizeof()` и `_Alignof()`, чтобы получить размер и выравнивание."
   ]
  },
  {
   "cell_type": "code",
   "execution_count": 154,
   "metadata": {},
   "outputs": [],
   "source": [
    "%%cpp structs_in_memory_common.h\n",
    "\n",
    "#include <stdio.h>\n",
    "#include <stdint.h>\n",
    "#include <assert.h>\n",
    "\n",
    "#define print_int(x) printf(#x \" = %d\\n\", (int)x)\n",
    "\n",
    "#define print_info(x) printf(\"%10s: size = %d, alignment = %d\\n\", #x, sizeof(x), _Alignof(x))\n",
    "\n",
    "#define print_offset(type, field) {\\\n",
    "    type o; \\\n",
    "    printf(\"  %10s: shift of .\" #field \" is %d\\n\", #type, (int)((void*)&o.field - (void*)&o)); \\\n",
    "}"
   ]
  },
  {
   "cell_type": "code",
   "execution_count": 164,
   "metadata": {},
   "outputs": [
    {
     "data": {
      "text/markdown": [
       "Run: `arm-linux-gnueabi-gcc -marm structs_in_memory.c -o structs_in_memory.exe`"
      ],
      "text/plain": [
       "<IPython.core.display.Markdown object>"
      ]
     },
     "metadata": {},
     "output_type": "display_data"
    },
    {
     "data": {
      "text/markdown": [
       "Run: `qemu-arm ./structs_in_memory.exe`"
      ],
      "text/plain": [
       "<IPython.core.display.Markdown object>"
      ]
     },
     "metadata": {},
     "output_type": "display_data"
    },
    {
     "name": "stdout",
     "output_type": "stream",
     "text": [
      "      char: size = 1, alignment = 1\r\n",
      "     short: size = 2, alignment = 2\r\n",
      "       int: size = 4, alignment = 4\r\n",
      " long long: size = 8, alignment = 8\r\n",
      "    double: size = 8, alignment = 8\r\n"
     ]
    }
   ],
   "source": [
    "%%cpp structs_in_memory.c\n",
    "%run arm-linux-gnueabi-gcc -marm structs_in_memory.c -o structs_in_memory.exe\n",
    "%run qemu-arm ./structs_in_memory.exe\n",
    "\n",
    "#include \"structs_in_memory_common.h\"\n",
    "\n",
    "int main() {\n",
    "    print_info(char);\n",
    "    print_info(short);\n",
    "    print_info(int);\n",
    "    print_info(long long);\n",
    "    print_info(double); \n",
    "    return 0;\n",
    "}"
   ]
  },
  {
   "cell_type": "code",
   "execution_count": 165,
   "metadata": {},
   "outputs": [
    {
     "data": {
      "text/markdown": [
       "Run: `arm-linux-gnueabi-gcc -marm structs_in_memory.c -o structs_in_memory.exe`"
      ],
      "text/plain": [
       "<IPython.core.display.Markdown object>"
      ]
     },
     "metadata": {},
     "output_type": "display_data"
    },
    {
     "data": {
      "text/markdown": [
       "Run: `qemu-arm ./structs_in_memory.exe`"
      ],
      "text/plain": [
       "<IPython.core.display.Markdown object>"
      ]
     },
     "metadata": {},
     "output_type": "display_data"
    },
    {
     "name": "stdout",
     "output_type": "stream",
     "text": [
      "    Obj1_t: size = 12, alignment = 4\r\n",
      "      Obj1_t: shift of .c is 0\r\n",
      "      Obj1_t: shift of .i is 4\r\n",
      "      Obj1_t: shift of .c2 is 8\r\n",
      "    Obj2_t: size = 6, alignment = 1\r\n",
      "      Obj2_t: shift of .c is 0\r\n",
      "      Obj2_t: shift of .i is 1\r\n",
      "      Obj2_t: shift of .c2 is 5\r\n"
     ]
    }
   ],
   "source": [
    "%%cpp structs_in_memory.c\n",
    "%run arm-linux-gnueabi-gcc -marm structs_in_memory.c -o structs_in_memory.exe\n",
    "%run qemu-arm ./structs_in_memory.exe\n",
    "\n",
    "#include \"structs_in_memory_common.h\"\n",
    "\n",
    "int main() {\n",
    "    typedef struct { // максимальное выравнивание у инта, значит выравнивание структуры 4\n",
    "        char c;      // 0 байт\n",
    "        int i;       // 4-7 байты\n",
    "        char c2;     // 8 байт\n",
    "    } Obj1_t;        // 9-11 - padding байты, чтобы размер делился на выравнивание\n",
    "    print_info(Obj1_t);\n",
    "    print_offset(Obj1_t, c);\n",
    "    print_offset(Obj1_t, i);\n",
    "    print_offset(Obj1_t, c2);\n",
    "    \n",
    "    typedef struct { // тут все правила про выравнивание не применимы, так как указан аттрибут упаковки\n",
    "        char c;\n",
    "        int i;\n",
    "        char c2;\n",
    "    } __attribute__((packed)) Obj2_t;\n",
    "    print_info(Obj2_t);\n",
    "    print_offset(Obj2_t, c);\n",
    "    print_offset(Obj2_t, i);\n",
    "    print_offset(Obj2_t, c2);\n",
    "    \n",
    "    return 0;\n",
    "}"
   ]
  },
  {
   "cell_type": "code",
   "execution_count": 137,
   "metadata": {},
   "outputs": [
    {
     "data": {
      "text/markdown": [
       "Run: `arm-linux-gnueabi-gcc -marm structs_in_memory.c -o structs_in_memory.exe`"
      ],
      "text/plain": [
       "<IPython.core.display.Markdown object>"
      ]
     },
     "metadata": {},
     "output_type": "display_data"
    },
    {
     "data": {
      "text/markdown": [
       "Run: `qemu-arm ./structs_in_memory.exe`"
      ],
      "text/plain": [
       "<IPython.core.display.Markdown object>"
      ]
     },
     "metadata": {},
     "output_type": "display_data"
    },
    {
     "name": "stdout",
     "output_type": "stream",
     "text": [
      "    Obj3_t: size = 16, alignment = 8\n",
      "      Obj3_t: shift of .c8 is 0\n",
      "      Obj3_t: shift of .u64 is 8\n",
      "    Obj4_t: size = 3, alignment = 1\n",
      "      Obj4_t: shift of .c8 is 0\n",
      "      Obj4_t: shift of .c8_1 is 1\n",
      "      Obj4_t: shift of .c8_2 is 2\n"
     ]
    }
   ],
   "source": [
    "%%cpp structs_in_memory.c\n",
    "%run arm-linux-gnueabi-gcc -marm structs_in_memory.c -o structs_in_memory.exe\n",
    "%run qemu-arm ./structs_in_memory.exe\n",
    "\n",
    "#include \"structs_in_memory_common.h\"\n",
    "\n",
    "int main() {\n",
    "    \n",
    "    typedef struct {  // максимальное выравнивание члена - 8, так что и у всей структуры такое же\n",
    "        char c8;      // 0 байт \n",
    "        uint64_t u64; // 8-15 байты\n",
    "    } Obj3_t;         // всего 16 байт, выравнивание 8\n",
    "    print_info(Obj3_t);\n",
    "    print_offset(Obj3_t, c8);\n",
    "    print_offset(Obj3_t, u64);\n",
    "    \n",
    "    \n",
    "    typedef struct {\n",
    "        char c8;\n",
    "        char c8_1;\n",
    "        char c8_2;\n",
    "    } Obj4_t;\n",
    "    print_info(Obj4_t);\n",
    "    print_offset(Obj4_t, c8);\n",
    "    print_offset(Obj4_t, c8_1);\n",
    "    print_offset(Obj4_t, c8_2);\n",
    "    \n",
    "    return 0;\n",
    "}"
   ]
  },
  {
   "cell_type": "code",
   "execution_count": 138,
   "metadata": {},
   "outputs": [
    {
     "data": {
      "text/markdown": [
       "Run: `arm-linux-gnueabi-gcc -marm structs_in_memory.c -o structs_in_memory.exe`"
      ],
      "text/plain": [
       "<IPython.core.display.Markdown object>"
      ]
     },
     "metadata": {},
     "output_type": "display_data"
    },
    {
     "data": {
      "text/markdown": [
       "Run: `qemu-arm ./structs_in_memory.exe`"
      ],
      "text/plain": [
       "<IPython.core.display.Markdown object>"
      ]
     },
     "metadata": {},
     "output_type": "display_data"
    },
    {
     "name": "stdout",
     "output_type": "stream",
     "text": [
      "   ObjS8A8: size = 8, alignment = 8\r\n",
      "   ObjS8A4: size = 8, alignment = 4\r\n",
      "    Obj5_t: size = 16, alignment = 8\r\n",
      "    Obj6_t: size = 12, alignment = 4\r\n",
      "    Obj7_t: size = 16, alignment = 8\r\n"
     ]
    }
   ],
   "source": [
    "%%cpp structs_in_memory.c\n",
    "%run arm-linux-gnueabi-gcc -marm structs_in_memory.c -o structs_in_memory.exe\n",
    "%run qemu-arm ./structs_in_memory.exe\n",
    "\n",
    "#include \"structs_in_memory_common.h\"\n",
    "\n",
    "int main() {  \n",
    "    typedef struct {     // тут пример двух структур равного размера, но с разным выравниванием\n",
    "        long long a;\n",
    "    } ObjS8A8;\n",
    "    print_info(ObjS8A8);\n",
    "    typedef struct {\n",
    "        int a;\n",
    "        int b;\n",
    "    } ObjS8A4;\n",
    "    print_info(ObjS8A4);\n",
    "    \n",
    "    typedef struct {    // и вот тут разное выравнивание ObjS8A8 и ObjS8A4 себя покажет\n",
    "        ObjS8A8 o;\n",
    "        char c;\n",
    "    } Obj5_t;    \n",
    "    print_info(Obj5_t); // обратите внимание на разницу с Obj6_t!\n",
    "\n",
    "    typedef struct {\n",
    "        ObjS8A4 o;\n",
    "        char c;\n",
    "    } Obj6_t;\n",
    "    print_info(Obj6_t);\n",
    "    \n",
    "    typedef union {\n",
    "        unsigned long long u;\n",
    "        int i[3];\n",
    "    } Obj7_t;\n",
    "    print_info(Obj7_t); // то же самое, что и с Obj5_t\n",
    "    \n",
    "    return 0;\n",
    "}"
   ]
  },
  {
   "cell_type": "code",
   "execution_count": null,
   "metadata": {},
   "outputs": [],
   "source": []
  },
  {
   "cell_type": "code",
   "execution_count": null,
   "metadata": {},
   "outputs": [],
   "source": []
  },
  {
   "cell_type": "code",
   "execution_count": null,
   "metadata": {},
   "outputs": [],
   "source": []
  },
  {
   "cell_type": "code",
   "execution_count": null,
   "metadata": {},
   "outputs": [],
   "source": []
  },
  {
   "cell_type": "markdown",
   "metadata": {},
   "source": [
    "## <a name=\"byte\"></a> Загрузка и сохранение в память 1/2/4/8 байтных целых чисел"
   ]
  },
  {
   "cell_type": "code",
   "execution_count": 139,
   "metadata": {},
   "outputs": [
    {
     "data": {
      "text/markdown": [
       "Run: `arm-linux-gnueabi-gcc -S -Os -fno-asynchronous-unwind-tables -marm lib.c -o /dev/stdout`"
      ],
      "text/plain": [
       "<IPython.core.display.Markdown object>"
      ]
     },
     "metadata": {},
     "output_type": "display_data"
    },
    {
     "name": "stdout",
     "output_type": "stream",
     "text": [
      "\t.arch armv7-a\n",
      "\t.eabi_attribute 20, 1\n",
      "\t.eabi_attribute 21, 1\n",
      "\t.eabi_attribute 23, 3\n",
      "\t.eabi_attribute 24, 1\n",
      "\t.eabi_attribute 25, 1\n",
      "\t.eabi_attribute 26, 2\n",
      "\t.eabi_attribute 30, 4\n",
      "\t.eabi_attribute 34, 1\n",
      "\t.eabi_attribute 18, 4\n",
      "\t.file\t\"lib.c\"\n",
      "\t.text\n",
      "\t.align\t2\n",
      "\t.global\tparse\n",
      "\t.syntax unified\n",
      "\t.arm\n",
      "\t.fpu softvfp\n",
      "\t.type\tparse, %function\n",
      "parse:\n",
      "\t@ args = 4, pretend = 0, frame = 0\n",
      "\t@ frame_needed = 0, uses_anonymous_args = 0\n",
      "\tstr\tlr, [sp, #-4]!\n",
      "\tldrb\tlr, [r0]\t@ zero_extendqisi2\n",
      "\tldr\tip, [sp, #4]\n",
      "\tstrb\tlr, [r1]\n",
      "\tldrh\tr1, [r0, #1]\t@ unaligned\n",
      "\tstrh\tr1, [r2]\t@ movhi\n",
      "\tldr\tr2, [r0, #3]\t@ unaligned\n",
      "\tstr\tr2, [r3]\n",
      "\tldr\tr2, [r0, #7]\t@ unaligned\n",
      "\tldr\tr3, [r0, #11]\t@ unaligned\n",
      "\tstrd\tr2, [ip]\n",
      "\tldr\tpc, [sp], #4\n",
      "\t.size\tparse, .-parse\n",
      "\t.ident\t\"GCC: (Linaro GCC 7.3-2018.05) 7.3.1 20180425 [linaro-7.3-2018.05 revision d29120a424ecfbc167ef90065c0eeb7f91977701]\"\n",
      "\t.section\t.note.GNU-stack,\"\",%progbits\n"
     ]
    }
   ],
   "source": [
    "%%cpp lib.c\n",
    "%run arm-linux-gnueabi-gcc -S -Os -fno-asynchronous-unwind-tables -marm lib.c -o /dev/stdout\n",
    "\n",
    "#include <stdint.h>\n",
    "\n",
    "typedef struct {\n",
    "    uint8_t u8;\n",
    "    uint16_t u16;\n",
    "    uint32_t u32;\n",
    "    uint64_t u64;\n",
    "}  __attribute__((packed)) complicated_t;    \n",
    "    \n",
    "    \n",
    "void parse(complicated_t* a, uint8_t* du8, uint16_t* du16, uint32_t* du32, uint64_t* du64) {\n",
    "    *du8 = a->u8;\n",
    "    *du16 = a->u16;\n",
    "    *du32 = a->u32;\n",
    "    *du64 = a->u64;\n",
    "}\n"
   ]
  },
  {
   "cell_type": "code",
   "execution_count": 157,
   "metadata": {},
   "outputs": [
    {
     "data": {
      "text/markdown": [
       "Run: `arm-linux-gnueabi-gcc -S -Os -fno-asynchronous-unwind-tables -marm lib.c -o /dev/stdout`"
      ],
      "text/plain": [
       "<IPython.core.display.Markdown object>"
      ]
     },
     "metadata": {},
     "output_type": "display_data"
    },
    {
     "name": "stdout",
     "output_type": "stream",
     "text": [
      "\t.arch armv7-a\n",
      "\t.eabi_attribute 20, 1\n",
      "\t.eabi_attribute 21, 1\n",
      "\t.eabi_attribute 23, 3\n",
      "\t.eabi_attribute 24, 1\n",
      "\t.eabi_attribute 25, 1\n",
      "\t.eabi_attribute 26, 2\n",
      "\t.eabi_attribute 30, 4\n",
      "\t.eabi_attribute 34, 1\n",
      "\t.eabi_attribute 18, 4\n",
      "\t.file\t\"lib.c\"\n",
      "\t.text\n",
      "\t.align\t2\n",
      "\t.global\tparse\n",
      "\t.syntax unified\n",
      "\t.arm\n",
      "\t.fpu softvfp\n",
      "\t.type\tparse, %function\n",
      "parse:\n",
      "\t@ args = 4, pretend = 0, frame = 0\n",
      "\t@ frame_needed = 0, uses_anonymous_args = 0\n",
      "\tstr\tlr, [sp, #-4]!\n",
      "\tldrsb\tlr, [r0]\n",
      "\tldr\tip, [sp, #4]\n",
      "\tstrb\tlr, [r1]\n",
      "\tldrsh\tr1, [r0, #1]\t@ unaligned\n",
      "\tstrh\tr1, [r2]\t@ movhi\n",
      "\tldr\tr2, [r0, #3]\t@ unaligned\n",
      "\tstr\tr2, [r3]\n",
      "\tldr\tr2, [r0, #7]\t@ unaligned\n",
      "\tldr\tr3, [r0, #11]\t@ unaligned\n",
      "\tstrd\tr2, [ip]\n",
      "\tldr\tpc, [sp], #4\n",
      "\t.size\tparse, .-parse\n",
      "\t.ident\t\"GCC: (Linaro GCC 7.3-2018.05) 7.3.1 20180425 [linaro-7.3-2018.05 revision d29120a424ecfbc167ef90065c0eeb7f91977701]\"\n",
      "\t.section\t.note.GNU-stack,\"\",%progbits\n"
     ]
    }
   ],
   "source": [
    "%%cpp lib.c\n",
    "%run arm-linux-gnueabi-gcc -S -Os -fno-asynchronous-unwind-tables -marm lib.c -o /dev/stdout\n",
    "\n",
    "#include <stdint.h>\n",
    "\n",
    "typedef struct {\n",
    "    int8_t i8;\n",
    "    int16_t i16;\n",
    "    int32_t i32;\n",
    "    int64_t i64;\n",
    "} __attribute__((packed)) complicated_t;    \n",
    "    \n",
    "    \n",
    "int parse(complicated_t* a, int8_t* di8, int16_t* di16, int32_t* di32, int64_t* di64) {\n",
    "    *di8 = a->i8;\n",
    "    *di16 = a->i16;\n",
    "    *di32 = a->i32;\n",
    "    *di64 = a->i64;\n",
    "}\n"
   ]
  },
  {
   "cell_type": "markdown",
   "metadata": {},
   "source": [
    "**Наблюдение:** в знаковом и беззнаковом случаях для сохранения используется одна и та же команда. А для загрузки разная."
   ]
  },
  {
   "cell_type": "markdown",
   "metadata": {},
   "source": [
    "```\n",
    "    str\tlr, [sp, #-4]!\n",
    "\tldrb\tlr, [r0]\t@ zero_extendqisi2\n",
    "\tldr\tip, [sp, #4]\n",
    "\tstrb\tlr, [r1]\n",
    "\tldrh\tr1, [r0, #1]\t@ unaligned\n",
    "\tstrh\tr1, [r2]\t@ movhi\n",
    "\tldr\tr2, [r0, #3]\t@ unaligned\n",
    "\tstr\tr2, [r3]\n",
    "\tldr\tr2, [r0, #7]\t@ unaligned\n",
    "\tldr\tr3, [r0, #11]\t@ unaligned\n",
    "\tstrd\tr2, [ip]\n",
    "\tldr\tpc, [sp], #4\n",
    "```\n",
    "```\n",
    "\tstr\tlr, [sp, #-4]!\n",
    "\tldrsb\tlr, [r0]\n",
    "\tldr\tip, [sp, #4]\n",
    "\tstrb\tlr, [r1]\n",
    "\tldrsh\tr1, [r0, #1]\t@ unaligned\n",
    "\tstrh\tr1, [r2]\t@ movhi\n",
    "\tldr\tr2, [r0, #3]\t@ unaligned\n",
    "\tstr\tr2, [r3]\n",
    "\tldr\tr2, [r0, #7]\t@ unaligned\n",
    "\tldr\tr3, [r0, #11]\t@ unaligned\n",
    "\tstrd\tr2, [ip]\n",
    "\tldr\tpc, [sp], #4\n",
    "```"
   ]
  },
  {
   "cell_type": "markdown",
   "metadata": {},
   "source": [
    "### Поэлементный минимум полей нетривиальной структуры."
   ]
  },
  {
   "cell_type": "code",
   "execution_count": 158,
   "metadata": {},
   "outputs": [
    {
     "data": {
      "text/markdown": [
       "Run: `arm-linux-gnueabi-gcc -marm program_asm_p.c -o program.exe`"
      ],
      "text/plain": [
       "<IPython.core.display.Markdown object>"
      ]
     },
     "metadata": {},
     "output_type": "display_data"
    },
    {
     "data": {
      "text/markdown": [
       "Run: `qemu-arm ./program.exe ; echo`"
      ],
      "text/plain": [
       "<IPython.core.display.Markdown object>"
      ]
     },
     "metadata": {},
     "output_type": "display_data"
    },
    {
     "name": "stdout",
     "output_type": "stream",
     "text": [
      "SUCCESS\r\n",
      "\r\n"
     ]
    }
   ],
   "source": [
    "%%cpp program_asm_p.c\n",
    "%run arm-linux-gnueabi-gcc -marm program_asm_p.c -o program.exe\n",
    "%run qemu-arm ./program.exe ; echo \n",
    "\n",
    "#include <stdio.h>\n",
    "#include <stdint.h>\n",
    "#include <assert.h>\n",
    "\n",
    "\n",
    "typedef struct {\n",
    "    int8_t i8;\n",
    "    int16_t i16;\n",
    "} __attribute__((packed)) complicated_t;    \n",
    "    \n",
    "    \n",
    "#define min(a, b) ((a) < (b) ? (a) : (b))\n",
    "\n",
    "#ifdef C_MIN_IMPL\n",
    "void complicated_min(complicated_t* a, complicated_t* b, complicated_t* c) {\n",
    "    *c = (complicated_t){.i8 = min(a->i8, b->i8), .i16 = min(a->i16, b->i16)};\n",
    "}\n",
    "#else\n",
    "void complicated_min(complicated_t* a, complicated_t* b, complicated_t* c);\n",
    "__asm__ (R\"(\n",
    ".global complicated_min\n",
    "complicated_min:\n",
    "    // r0 = a, r1 = b, r2 = c\n",
    "    ldrsb r3, [r0] // r3 = a->i8\n",
    "    ldrsb ip, [r1] // ip = b->i8\n",
    "    cmp r3, ip     // r3 ? ip\n",
    "    movgt r3, ip   // if (r3 > ip) { r3 = ip }\n",
    "    strb r3, [r2]  // c->i8 = r3\n",
    "    \n",
    "    ldrsh r3, [r0, #1] // r3 = a->i16\n",
    "    ldrsh ip, [r1, #1] // ip = b->i16\n",
    "    cmp r3, ip         // r3 ? ip\n",
    "    movgt r3, ip       // if (r3 > ip) { r3 = ip }\n",
    "    strh r3, [r2, #1]  // c->i16 = r3\n",
    "    \n",
    "    bx lr // return\n",
    ")\");\n",
    "#endif\n",
    "\n",
    "void test() {\n",
    "    complicated_t a = {0}, b = {0}, c = {0};\n",
    "    \n",
    "    complicated_min(&a, &b, &c);\n",
    "    assert(c.i8 == 0 && c.i16 == 0);\n",
    "    \n",
    "    a = (complicated_t){.i8 = -3, .i16 = -4};\n",
    "    complicated_min(&a, &b, &c);\n",
    "    assert(c.i8 == -3 && c.i16 == -4);\n",
    "    \n",
    "    b = (complicated_t){.i8 = -9, .i16 = 9};\n",
    "    complicated_min(&a, &b, &c);\n",
    "    assert(c.i8 == -9 && c.i16 == -4);\n",
    "    \n",
    "    b = (complicated_t){.i8 = 9, .i16 = -9};\n",
    "    complicated_min(&a, &b, &c);\n",
    "    assert(c.i8 == -3 && c.i16 == -9);\n",
    "    \n",
    "    printf(\"SUCCESS\\n\");\n",
    "}\n",
    "\n",
    "int main() {\n",
    "    test();\n",
    "    return 0;\n",
    "}\n"
   ]
  },
  {
   "cell_type": "code",
   "execution_count": 144,
   "metadata": {},
   "outputs": [
    {
     "name": "stdout",
     "output_type": "stream",
     "text": [
      "arm-linux-gnueabi-gcc: /home/pechatnov/arm/gcc-linaro-7.3.1-2018.05-i686_arm-linux-gnueabi/bin/arm-linux-gnueabi-gcc\r\n"
     ]
    }
   ],
   "source": [
    "!whereis arm-linux-gnueabi-gcc"
   ]
  },
  {
   "cell_type": "code",
   "execution_count": 145,
   "metadata": {},
   "outputs": [
    {
     "name": "stdout",
     "output_type": "stream",
     "text": [
      "stat: cannot stat 'arm-linux-gnueabi-gcc:': No such file or directory\r\n",
      "  File: /home/pechatnov/arm/gcc-linaro-7.3.1-2018.05-i686_arm-linux-gnueabi/bin/arm-linux-gnueabi-gcc\r\n",
      "  Size: 921324    \tBlocks: 1800       IO Block: 4096   regular file\r\n",
      "Device: 805h/2053d\tInode: 5641900     Links: 1\r\n",
      "Access: (0755/-rwxr-xr-x)  Uid: ( 1000/pechatnov)   Gid: ( 1000/pechatnov)\r\n",
      "Access: 2020-10-07 22:43:45.984295718 +0300\r\n",
      "Modify: 2018-06-12 23:11:39.000000000 +0300\r\n",
      "Change: 2020-09-19 20:08:59.141181963 +0300\r\n",
      " Birth: -\r\n"
     ]
    }
   ],
   "source": [
    "!stat `whereis arm-linux-gnueabi-gcc`"
   ]
  },
  {
   "cell_type": "code",
   "execution_count": null,
   "metadata": {},
   "outputs": [],
   "source": []
  },
  {
   "cell_type": "markdown",
   "metadata": {},
   "source": [
    "# <a name=\"basnya\"></a> Басня от [jungletryne](https://github.com/jungletryne)\n",
    "\n",
    "> Никто и никогда не понуждает знать. Знать просто следует, вот и\n",
    "всё. Даже если рискуешь понять неправильно.\n",
    "У. Эко, Имя розы\n",
    "\n",
    "### Дисклеймер\n",
    "Это не гайд про то, как решать эту задачу (asm-arm/basics/globalvars), это гайд про так, как подойти к решению данной задачи и как более менее просто найти ошибку.\n",
    "\n",
    "### Про global \n",
    "Все началось с ошибки компиляции:\n",
    "```unknown\n",
    "\t.text\n",
    "\t.extern A\n",
    "\t.extern B\n",
    "\t.extern C\n",
    "\t.extern D\n",
    "\n",
    "\t.global R\n",
    "\t.RAddr:\n",
    "\t\t.word R\n",
    "\n",
    "\t.global calculate\n",
    "calculate:\n",
    "\tldr r0, =A\n",
    "\tldr r1, =B\n",
    "\t//...\n",
    "\n",
    "\tldr r1, .RAddr\n",
    "\tstr r0, [r1]\n",
    "```\n",
    "```unknown\n",
    "/var/tmp/ccRyi7Xt.o: In function `main':\n",
    "main.c:(.text+0x14): undefined reference to `R'\n",
    "main.c:(.text+0x18): undefined reference to `R'\n",
    "/var/tmp/cc7dJgwb.o: In function `.RAddr':\n",
    "(.text+0x0): undefined reference to `R'\n",
    "collect2: error: ld returned 1 exit status\n",
    "```\n",
    "\n",
    "\n",
    "\n",
    "И тут возник вопрос, а как обращаться к глобальным переменным из внешнего файла компиляции и из внутреннего файла компиляции.\n",
    "\n",
    "Из внешнего файла компиляции нужно брать глобальные переменные напрямую, без предварительной обработки в виде объявления *global*. Ведь во время того, как линковщик будет выполнять свою работу, он как раз сможет эти все переменные найти, поэтому бояться не надо того, что можно к ним обращаться по имени, которое вы не объявили в ассемблерном коде.\n",
    "\n",
    "Пример:\n",
    "```\n",
    "sum_global_vars:\n",
    "\tldr r0, =FIRST_EXTERNAL_GLOBAL //берем адрес первой глоб. переменной\n",
    "\tldr r1, =SECOND_EXTERNAL_GLOBAL //второй\n",
    "\t\n",
    "\tldr r0, [r0] //смотрим, что по адресу\n",
    "\tldr r1, [r1] //тут тоже\n",
    "\tsum r0, r0, r1 //складываем\n",
    "\tbx lr\n",
    "```\n",
    "Никакие *global* и *extern* до функции писать не нужно.\n",
    "\n",
    "А вот то, что действительно стоит обработать, так это глобальные переменные в текущем модуле компиляции.\n",
    "\n",
    "Во первых, стоит обеспечить видимость глобальной переменной\n",
    "```\n",
    "\t.global R\n",
    "```\n",
    "А также, вообще говоря, объявить ее\n",
    "```\n",
    "\t.global R\n",
    "R:\n",
    "\t.word 0\n",
    "```\n",
    "\n",
    "Вышеприведенный код равносилен\n",
    "```C\n",
    "uint32_t R = 0;\n",
    "```\n",
    "Все, ее можно использовать. Но есть одна проблема, которую не совсем удалось осветить. У меня на локальном компьютере все работало замечательно, при этом в ejudge ловил WA по причине segfault (да, WA и segfault). Было непонятно, что вообще делать. (Можно тут было почитать документацию и найти про .text, .data, ...)\n",
    "\n",
    "### Что же делать?\n",
    "\n",
    "В таких ситуациях помогает классная тактика помощь ~~зала~~ компилятора. Давайте напишем эквивалентный код и скомпилируем его:\n",
    "```C\n",
    "extern uint32_t R = 0;\n",
    "int calculate() {\n",
    "\tR = A*B + C*D;\n",
    "}\n",
    "```\n",
    "Выхлоп:\n",
    "\n",
    "```unknown\n",
    "\t.arch armv7-a\n",
    "\t.eabi_attribute 20, 1\n",
    "\t//... \n",
    "\t.text\n",
    "\t.align\t2\n",
    "\t.global\tcalculate\n",
    "\t.syntax unified\n",
    "\t.arm\n",
    "\t.fpu softvfp\n",
    "\t.type\tcalculate, %function\n",
    "calculate:\n",
    "\t@ args = 0, pretend = 0, frame = 0\n",
    "\t@ frame_needed = 0, uses_anonymous_args = 0\n",
    "\t@ link register save eliminated.\n",
    "\tldr\tr2, .L2\n",
    "\tldr\tr3, .L2+4\n",
    "\t// ...\n",
    "\tldr\tr2, .L2+16\n",
    "\tstr\tr3, [r2]\n",
    "\tbx\tlr\n",
    ".L3:\n",
    "\t.align\t2\n",
    ".L2:\n",
    "\t.word\tB\n",
    "\t.word\tA\n",
    "\t.word\tC\n",
    "\t.word\tD\n",
    "\t.word\tR\n",
    "\t.size\tcalculate, .-calculate\n",
    "\t.comm\tR,4,4\n",
    "\t.ident\t\"GCC: (Linaro GCC 7.3-2018.05) 7.3.1 20180425 [linaro-7.3-2018.05 revision d29120a424ecfbc167ef90065c0eeb7f91977701]\"\n",
    "\t.section\t.note.GNU-stack,\"\",%progbits\n",
    "```\n",
    "Ууух, много ненужных секций. Смело их уберем.\n",
    "```\n",
    "calculate:\n",
    "\tldr\tr2, .L2\n",
    "\t//...\n",
    "\tldr\tr2, .L2+16\n",
    "\tstr\tr3, [r2]\n",
    "\tbx\tlr\n",
    ".L2:\n",
    "\t.word\tB\n",
    "\t.word\tA\n",
    "\t.word\tC\n",
    "\t.word\tD\n",
    "\t.word\tR\n",
    "\t.comm\tR,4,4\n",
    "```\n",
    "Про уборку: убираем все по интуиции, разумеется. Небольшими частями, чтобы если что-то сломается, знать где искать. Моя интуиция подсказывала, что все очевидные метаданные точно можно убрать, а также можно убрать то, что не содержит нужных нам имен (например, метка L3).\n",
    "\n",
    "Метод calculate нас не интересует, мы сами могли его написать (ключевое слово - **сами**). Нас интересует то, как компилятор организовал хранение переменных. Он все запихнул под капот метки *L2*, причем под *R4* написал интересную команду *comm*.\n",
    "\n",
    "Опытным путем убеждаемся, что .word для A,B,C,D,R можно убрать из под метки *L2*, а также L2, L2+4, L2+8, L2+12, L2+16 заменить на =A, =B, =C, =D, =R соответственно.\n",
    "\n",
    "```\n",
    "calculate:\n",
    "    [запихнуть своё]\n",
    "    ...=R...\n",
    "\t[запихнуть своё]\n",
    "\n",
    "\t.comm\tR,4,4\n",
    "```\n",
    "И о чудо, оно заработало. Заметим, что у нас добавилась инструкция ```.comm```, давайте поймем, что это вообще такое:\n",
    "\n",
    "> The .comm directive allocates storage in the data section. The storage is referenced by the identifier name. Size is measured in bytes and must be a positive integer. Name cannot be predefined. Alignment is optional. If alignment is specified, the address of name is aligned to a multiple of alignment.\n",
    "\n",
    "Опа, `allocates storage in the data section` значит. Впринципе, это объясняет сам факт того, почему у нас пропал segfault. Возможно до этого мы не могли изменять аллоцированную память под R, поэтому ловили ошибку. Ну и ладно, задача то зашла.\n",
    "Разбираясь немного дальше - `data section` - память под R выделяется в секции `.data`. А segfault был из-за выделения памяти под переменную R в секции `.text` и попытки записи в нее.\n",
    "\n",
    "### Мораль\n",
    "Пользуйтесь итеративным алгоритмом, компилятор ваш друг, все подскажет и покажет.\n",
    "\n"
   ]
  },
  {
   "cell_type": "code",
   "execution_count": null,
   "metadata": {},
   "outputs": [],
   "source": []
  },
  {
   "cell_type": "code",
   "execution_count": null,
   "metadata": {},
   "outputs": [],
   "source": []
  },
  {
   "cell_type": "code",
   "execution_count": null,
   "metadata": {},
   "outputs": [],
   "source": []
  }
 ],
 "metadata": {
  "kernelspec": {
   "display_name": "Python 3",
   "language": "python",
   "name": "python3"
  },
  "language_info": {
   "codemirror_mode": {
    "name": "ipython",
    "version": 3
   },
   "file_extension": ".py",
   "mimetype": "text/x-python",
   "name": "python",
   "nbconvert_exporter": "python",
   "pygments_lexer": "ipython3",
   "version": "3.8.5"
  }
 },
 "nbformat": 4,
 "nbformat_minor": 2
}
