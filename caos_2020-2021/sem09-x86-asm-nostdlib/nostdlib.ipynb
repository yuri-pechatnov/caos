{
 "cells": [
  {
   "cell_type": "code",
   "execution_count": 1,
   "metadata": {},
   "outputs": [
    {
     "data": {
      "application/javascript": [
       "// setup cpp code highlighting\n",
       "IPython.CodeCell.options_default.highlight_modes[\"text/x-c++src\"] = {'reg':[/^%%cpp/]} ;IPython.CodeCell.options_default.highlight_modes[\"text/x-cmake\"] = {'reg':[/^%%cmake/]} ;"
      ],
      "text/plain": [
       "<IPython.core.display.Javascript object>"
      ]
     },
     "metadata": {},
     "output_type": "display_data"
    },
    {
     "data": {
      "text/html": [
       "<!-- YANDEX_METRICA_BEGIN -->\n",
       "    <script type=\"text/javascript\" >\n",
       "       (function(m,e,t,r,i,k,a){m[i]=m[i]||function(){(m[i].a=m[i].a||[]).push(arguments)};\n",
       "       m[i].l=1*new Date();k=e.createElement(t),a=e.getElementsByTagName(t)[0],k.async=1,k.src=r,a.parentNode.insertBefore(k,a)})\n",
       "       (window, document, \"script\", \"https://mc.yandex.ru/metrika/tag.js\", \"ym\");\n",
       "\n",
       "       ym(59260609, \"init\", {\n",
       "            clickmap:true,\n",
       "            trackLinks:true,\n",
       "            accurateTrackBounce:true\n",
       "       });\n",
       "    </script>\n",
       "    <noscript><div><img src=\"https://mc.yandex.ru/watch/59260609\" style=\"position:absolute; left:-9999px;\" alt=\"\" /></div></noscript>\n",
       "    <!-- YANDEX_METRICA_END -->"
      ],
      "text/plain": [
       "<IPython.core.display.HTML object>"
      ]
     },
     "metadata": {},
     "output_type": "display_data"
    },
    {
     "data": {
      "text/html": [
       "В этот ноутбук встроен код Яндекс Метрики для сбора статистики использований. Если вы не хотите, чтобы по вам собиралась статистика, исправьте: yandex_metrica_allowed = False<!-- MAGICS_SETUP_PRINTING_END -->"
      ],
      "text/plain": [
       "<IPython.core.display.HTML object>"
      ]
     },
     "metadata": {},
     "output_type": "display_data"
    }
   ],
   "source": [
    "# look at tools/set_up_magics.ipynb\n",
    "yandex_metrica_allowed = True ; get_ipython().run_cell('# one_liner_str\\n\\nget_ipython().run_cell_magic(\\'javascript\\', \\'\\', \\n    \\'// setup cpp code highlighting\\\\n\\'\\n    \\'IPython.CodeCell.options_default.highlight_modes[\"text/x-c++src\"] = {\\\\\\'reg\\\\\\':[/^%%cpp/]} ;\\'\\n    \\'IPython.CodeCell.options_default.highlight_modes[\"text/x-cmake\"] = {\\\\\\'reg\\\\\\':[/^%%cmake/]} ;\\'\\n)\\n\\n# creating magics\\nfrom IPython.core.magic import register_cell_magic, register_line_magic\\nfrom IPython.display import display, Markdown, HTML\\nimport argparse\\nfrom subprocess import Popen, PIPE, STDOUT, check_output\\nimport html\\nimport random\\nimport sys\\nimport os\\nimport re\\nimport signal\\nimport shutil\\nimport shlex\\nimport glob\\nimport time\\n\\n@register_cell_magic\\ndef save_file(args_str, cell, line_comment_start=\"#\"):\\n    parser = argparse.ArgumentParser()\\n    parser.add_argument(\"fname\")\\n    parser.add_argument(\"--ejudge-style\", action=\"store_true\")\\n    parser.add_argument(\"--under-spoiler-threshold\", type=int, default=None)\\n    args = parser.parse_args(args_str.split())\\n    \\n    cell = cell if cell[-1] == \\'\\\\n\\' or args.no_eof_newline else cell + \"\\\\n\"\\n    cmds = []\\n    with open(args.fname, \"w\") as f:\\n        f.write(line_comment_start + \" %%cpp \" + args_str + \"\\\\n\")\\n        for line in cell.split(\"\\\\n\"):\\n            line_to_write = (line if not args.ejudge_style else line.rstrip()) + \"\\\\n\"\\n            if line.startswith(\"%\"):\\n                run_prefix = \"%run \"\\n                if line.startswith(run_prefix):\\n                    cmds.append(line[len(run_prefix):].strip())\\n                    f.write(line_comment_start + \" \" + line_to_write)\\n                    continue\\n                comment_prefix = \"%\" + line_comment_start\\n                if line.startswith(comment_prefix):\\n                    cmds.append(\\'#\\' + line[len(comment_prefix):].strip())\\n                    f.write(line_comment_start + \" \" + line_to_write)\\n                    continue\\n                raise Exception(\"Unknown %%save_file subcommand: \\'%s\\'\" % line)\\n            else:\\n                f.write(line_to_write)\\n        f.write(\"\" if not args.ejudge_style else line_comment_start + r\" line without \\\\n\")\\n    for cmd in cmds:\\n        if cmd.startswith(\\'#\\'):\\n            display(Markdown(\"\\\\#\\\\#\\\\#\\\\# `%s`\" % cmd[1:]))\\n        else:\\n            display(Markdown(\"Run: `%s`\" % cmd))\\n            if args.under_spoiler_threshold:\\n                out = check_output(cmd, stderr=STDOUT, shell=True, universal_newlines=True)\\n                out = out[:-1] if out.endswith(\\'\\\\n\\') else out\\n                out = html.escape(out)\\n                if len(out.split(\\'\\\\n\\')) > args.under_spoiler_threshold:\\n                    out = \"<details> <summary> output </summary> <pre><code>%s</code></pre></details>\" % out\\n                elif out:\\n                    out = \"<pre><code>%s</code></pre>\" % out\\n                if out:\\n                    display(HTML(out))\\n            else:\\n                get_ipython().system(cmd)\\n\\n@register_cell_magic\\ndef cpp(fname, cell):\\n    save_file(fname, cell, \"//\")\\n    \\n@register_cell_magic\\ndef cmake(fname, cell):\\n    save_file(fname, cell, \"#\")\\n\\n@register_cell_magic\\ndef asm(fname, cell):\\n    save_file(fname, cell, \"//\")\\n    \\n@register_cell_magic\\ndef makefile(fname, cell):\\n    fname = fname or \"makefile\"\\n    assert fname.endswith(\"makefile\")\\n    save_file(fname, cell.replace(\" \" * 4, \"\\\\t\"))\\n        \\n@register_line_magic\\ndef p(line):\\n    line = line.strip() \\n    if line[0] == \\'#\\':\\n        display(Markdown(line[1:].strip()))\\n    else:\\n        try:\\n            expr, comment = line.split(\" #\")\\n            display(Markdown(\"`{} = {}`  # {}\".format(expr.strip(), eval(expr), comment.strip())))\\n        except:\\n            display(Markdown(\"{} = {}\".format(line, eval(line))))\\n    \\n    \\ndef show_log_file(file, return_html_string=False):\\n    obj = file.replace(\\'.\\', \\'_\\').replace(\\'/\\', \\'_\\') + \"_obj\"\\n    html_string = \\'\\'\\'\\n        <!--MD_BEGIN_FILTER-->\\n        <script type=text/javascript>\\n        var entrance___OBJ__ = 0;\\n        var errors___OBJ__ = 0;\\n        function halt__OBJ__(elem, color)\\n        {\\n            elem.setAttribute(\"style\", \"font-size: 14px; background: \" + color + \"; padding: 10px; border: 3px; border-radius: 5px; color: white; \");                    \\n        }\\n        function refresh__OBJ__()\\n        {\\n            entrance___OBJ__ -= 1;\\n            if (entrance___OBJ__ < 0) {\\n                entrance___OBJ__ = 0;\\n            }\\n            var elem = document.getElementById(\"__OBJ__\");\\n            if (elem) {\\n                var xmlhttp=new XMLHttpRequest();\\n                xmlhttp.onreadystatechange=function()\\n                {\\n                    var elem = document.getElementById(\"__OBJ__\");\\n                    console.log(!!elem, xmlhttp.readyState, xmlhttp.status, entrance___OBJ__);\\n                    if (elem && xmlhttp.readyState==4) {\\n                        if (xmlhttp.status==200)\\n                        {\\n                            errors___OBJ__ = 0;\\n                            if (!entrance___OBJ__) {\\n                                if (elem.innerHTML != xmlhttp.responseText) {\\n                                    elem.innerHTML = xmlhttp.responseText;\\n                                }\\n                                if (elem.innerHTML.includes(\"Process finished.\")) {\\n                                    halt__OBJ__(elem, \"#333333\");\\n                                } else {\\n                                    entrance___OBJ__ += 1;\\n                                    console.log(\"req\");\\n                                    window.setTimeout(\"refresh__OBJ__()\", 300); \\n                                }\\n                            }\\n                            return xmlhttp.responseText;\\n                        } else {\\n                            errors___OBJ__ += 1;\\n                            if (!entrance___OBJ__) {\\n                                if (errors___OBJ__ < 6) {\\n                                    entrance___OBJ__ += 1;\\n                                    console.log(\"req\");\\n                                    window.setTimeout(\"refresh__OBJ__()\", 300); \\n                                } else {\\n                                    halt__OBJ__(elem, \"#994444\");\\n                                }\\n                            }\\n                        }\\n                    }\\n                }\\n                xmlhttp.open(\"GET\", \"__FILE__\", true);\\n                xmlhttp.setRequestHeader(\"Cache-Control\", \"no-cache\");\\n                xmlhttp.send();     \\n            }\\n        }\\n        \\n        if (!entrance___OBJ__) {\\n            entrance___OBJ__ += 1;\\n            refresh__OBJ__(); \\n        }\\n        </script>\\n\\n        <p id=\"__OBJ__\" style=\"font-size: 14px; background: #000000; padding: 10px; border: 3px; border-radius: 5px; color: white; \">\\n        </p>\\n        \\n        </font>\\n        <!--MD_END_FILTER-->\\n        <!--MD_FROM_FILE __FILE__.md -->\\n        \\'\\'\\'.replace(\"__OBJ__\", obj).replace(\"__FILE__\", file)\\n    if return_html_string:\\n        return html_string\\n    display(HTML(html_string))\\n\\n    \\nclass TInteractiveLauncher:\\n    tmp_path = \"./interactive_launcher_tmp\"\\n    def __init__(self, cmd):\\n        try:\\n            os.mkdir(TInteractiveLauncher.tmp_path)\\n        except:\\n            pass\\n        name = str(random.randint(0, 1e18))\\n        self.inq_path = os.path.join(TInteractiveLauncher.tmp_path, name + \".inq\")\\n        self.log_path = os.path.join(TInteractiveLauncher.tmp_path, name + \".log\")\\n        \\n        os.mkfifo(self.inq_path)\\n        open(self.log_path, \\'w\\').close()\\n        open(self.log_path + \".md\", \\'w\\').close()\\n\\n        self.pid = os.fork()\\n        if self.pid == -1:\\n            print(\"Error\")\\n        if self.pid == 0:\\n            exe_cands = glob.glob(\"../tools/launcher.py\") + glob.glob(\"../../tools/launcher.py\")\\n            assert(len(exe_cands) == 1)\\n            assert(os.execvp(\"python3\", [\"python3\", exe_cands[0], \"-l\", self.log_path, \"-i\", self.inq_path, \"-c\", cmd]) == 0)\\n        self.inq_f = open(self.inq_path, \"w\")\\n        interactive_launcher_opened_set.add(self.pid)\\n        show_log_file(self.log_path)\\n\\n    def write(self, s):\\n        s = s.encode()\\n        assert len(s) == os.write(self.inq_f.fileno(), s)\\n        \\n    def get_pid(self):\\n        n = 100\\n        for i in range(n):\\n            try:\\n                return int(re.findall(r\"PID = (\\\\d+)\", open(self.log_path).readline())[0])\\n            except:\\n                if i + 1 == n:\\n                    raise\\n                time.sleep(0.1)\\n        \\n    def input_queue_path(self):\\n        return self.inq_path\\n        \\n    def wait_stop(self, timeout):\\n        for i in range(int(timeout * 10)):\\n            wpid, status = os.waitpid(self.pid, os.WNOHANG)\\n            if wpid != 0:\\n                return True\\n            time.sleep(0.1)\\n        return False\\n        \\n    def close(self, timeout=3):\\n        self.inq_f.close()\\n        if not self.wait_stop(timeout):\\n            os.kill(self.get_pid(), signal.SIGKILL)\\n            os.waitpid(self.pid, 0)\\n        os.remove(self.inq_path)\\n        # os.remove(self.log_path)\\n        self.inq_path = None\\n        self.log_path = None \\n        interactive_launcher_opened_set.remove(self.pid)\\n        self.pid = None\\n        \\n    @staticmethod\\n    def terminate_all():\\n        if \"interactive_launcher_opened_set\" not in globals():\\n            globals()[\"interactive_launcher_opened_set\"] = set()\\n        global interactive_launcher_opened_set\\n        for pid in interactive_launcher_opened_set:\\n            print(\"Terminate pid=\" + str(pid), file=sys.stderr)\\n            os.kill(pid, signal.SIGKILL)\\n            os.waitpid(pid, 0)\\n        interactive_launcher_opened_set = set()\\n        if os.path.exists(TInteractiveLauncher.tmp_path):\\n            shutil.rmtree(TInteractiveLauncher.tmp_path)\\n    \\nTInteractiveLauncher.terminate_all()\\n   \\nyandex_metrica_allowed = bool(globals().get(\"yandex_metrica_allowed\", False))\\nif yandex_metrica_allowed:\\n    display(HTML(\\'\\'\\'<!-- YANDEX_METRICA_BEGIN -->\\n    <script type=\"text/javascript\" >\\n       (function(m,e,t,r,i,k,a){m[i]=m[i]||function(){(m[i].a=m[i].a||[]).push(arguments)};\\n       m[i].l=1*new Date();k=e.createElement(t),a=e.getElementsByTagName(t)[0],k.async=1,k.src=r,a.parentNode.insertBefore(k,a)})\\n       (window, document, \"script\", \"https://mc.yandex.ru/metrika/tag.js\", \"ym\");\\n\\n       ym(59260609, \"init\", {\\n            clickmap:true,\\n            trackLinks:true,\\n            accurateTrackBounce:true\\n       });\\n    </script>\\n    <noscript><div><img src=\"https://mc.yandex.ru/watch/59260609\" style=\"position:absolute; left:-9999px;\" alt=\"\" /></div></noscript>\\n    <!-- YANDEX_METRICA_END -->\\'\\'\\'))\\n\\ndef make_oneliner():\\n    html_text = \\'(\"В этот ноутбук встроен код Яндекс Метрики для сбора статистики использований. Если вы не хотите, чтобы по вам собиралась статистика, исправьте: yandex_metrica_allowed = False\" if yandex_metrica_allowed else \"\")\\'\\n    html_text += \\' + \"<\"\"!-- MAGICS_SETUP_PRINTING_END -->\"\\'\\n    return \\'\\'.join([\\n        \\'# look at tools/set_up_magics.ipynb\\\\n\\',\\n        \\'yandex_metrica_allowed = True ; get_ipython().run_cell(%s);\\' % repr(one_liner_str),\\n        \\'display(HTML(%s))\\' % html_text,\\n        \\' #\\'\\'MAGICS_SETUP_END\\'\\n    ])\\n       \\n\\n');display(HTML((\"В этот ноутбук встроен код Яндекс Метрики для сбора статистики использований. Если вы не хотите, чтобы по вам собиралась статистика, исправьте: yandex_metrica_allowed = False\" if yandex_metrica_allowed else \"\") + \"<\"\"!-- MAGICS_SETUP_PRINTING_END -->\")) #MAGICS_SETUP_END"
   ]
  },
  {
   "cell_type": "markdown",
   "metadata": {},
   "source": [
    "# Жизнь без стандартной библиотеки\n",
    "\n",
    "\n",
    "<p><a href=\"https://www.youtube.com/watch?v=6_7ojZXErDU&list=PLjzMm8llUm4AmU6i_hPU0NobgA4VsBowc&index=10\" target=\"_blank\">\n",
    "    <h3>Видеозапись семинара</h3>\n",
    "</a></p>\n",
    "\n",
    "Что это значит? Значит, что функции взаимодействия с внешним миром (чтение, запись файлов и т. д.) будут реализованы в самом бинаре программы. Возможно, вы даже лично напишите их код.\n",
    "\n",
    "\n",
    "[Ридинг Яковлева](https://github.com/victor-yacovlev/mipt-diht-caos/tree/master/practice/asm/nostdlib_baremetal) \n",
    "\n",
    "\n",
    "Сегодня в программе:\n",
    "* <a href=\"#syscall\" style=\"color:#856024\"> Системные вызовы </a>\n",
    "* <a href=\"#asm_32_64_diff\" style=\"color:#856024\"> Системные вызовы </a>\n",
    "* <a href=\"#nolibc\" style=\"color:#856024\"> Пишем сами без libc </a>\n",
    "* <a href=\"#brk\" style=\"color:#856024\"> Разбираемся в системным вызовом brk </a>\n",
    "* <a href=\"#addr\" style=\"color:#856024\"> Развлекательная часть: смотрим на адреса различных переменных </a>\n",
    "* <a href=\"#hw\" style=\"color:#856024\"> Комментарии к ДЗ </a>\n",
    "\n"
   ]
  },
  {
   "cell_type": "markdown",
   "metadata": {},
   "source": [
    "# <a name=\"syscall\"></a> Системные вызовы"
   ]
  },
  {
   "cell_type": "code",
   "execution_count": 253,
   "metadata": {},
   "outputs": [
    {
     "data": {
      "text/markdown": [
       "Run: `gcc -m64 main.c -o main.exe`"
      ],
      "text/plain": [
       "<IPython.core.display.Markdown object>"
      ]
     },
     "metadata": {},
     "output_type": "display_data"
    },
    {
     "data": {
      "text/markdown": [
       "Run: `strace ./main.exe 2> strace.out`"
      ],
      "text/plain": [
       "<IPython.core.display.Markdown object>"
      ]
     },
     "metadata": {},
     "output_type": "display_data"
    },
    {
     "name": "stdout",
     "output_type": "stream",
     "text": [
      "Hello world!"
     ]
    },
    {
     "data": {
      "text/markdown": [
       "Run: `cat strace.out`"
      ],
      "text/plain": [
       "<IPython.core.display.Markdown object>"
      ]
     },
     "metadata": {},
     "output_type": "display_data"
    },
    {
     "name": "stdout",
     "output_type": "stream",
     "text": [
      "execve(\"./main.exe\", [\"./main.exe\"], 0x7fff454a30b0 /* 66 vars */) = 0\r\n",
      "brk(NULL)                               = 0x561820b31000\r\n",
      "arch_prctl(0x3001 /* ARCH_??? */, 0x7ffc4292e510) = -1 EINVAL (Invalid argument)\r\n",
      "access(\"/etc/ld.so.preload\", R_OK)      = -1 ENOENT (No such file or directory)\r\n",
      "openat(AT_FDCWD, \"/etc/ld.so.cache\", O_RDONLY|O_CLOEXEC) = 3\r\n",
      "fstat(3, {st_mode=S_IFREG|0644, st_size=79779, ...}) = 0\r\n",
      "mmap(NULL, 79779, PROT_READ, MAP_PRIVATE, 3, 0) = 0x7ffacb0f1000\r\n",
      "close(3)                                = 0\r\n",
      "openat(AT_FDCWD, \"/lib/x86_64-linux-gnu/libc.so.6\", O_RDONLY|O_CLOEXEC) = 3\r\n",
      "read(3, \"\\177ELF\\2\\1\\1\\3\\0\\0\\0\\0\\0\\0\\0\\0\\3\\0>\\0\\1\\0\\0\\0\\360q\\2\\0\\0\\0\\0\\0\"..., 832) = 832\r\n",
      "pread64(3, \"\\6\\0\\0\\0\\4\\0\\0\\0@\\0\\0\\0\\0\\0\\0\\0@\\0\\0\\0\\0\\0\\0\\0@\\0\\0\\0\\0\\0\\0\\0\"..., 784, 64) = 784\r\n",
      "pread64(3, \"\\4\\0\\0\\0\\20\\0\\0\\0\\5\\0\\0\\0GNU\\0\\2\\0\\0\\300\\4\\0\\0\\0\\3\\0\\0\\0\\0\\0\\0\\0\", 32, 848) = 32\r\n",
      "pread64(3, \"\\4\\0\\0\\0\\24\\0\\0\\0\\3\\0\\0\\0GNU\\0cBR\\340\\305\\370\\2609W\\242\\345)q\\235A\\1\"..., 68, 880) = 68\r\n",
      "fstat(3, {st_mode=S_IFREG|0755, st_size=2029224, ...}) = 0\r\n",
      "mmap(NULL, 8192, PROT_READ|PROT_WRITE, MAP_PRIVATE|MAP_ANONYMOUS, -1, 0) = 0x7ffacb0ef000\r\n",
      "pread64(3, \"\\6\\0\\0\\0\\4\\0\\0\\0@\\0\\0\\0\\0\\0\\0\\0@\\0\\0\\0\\0\\0\\0\\0@\\0\\0\\0\\0\\0\\0\\0\"..., 784, 64) = 784\r\n",
      "pread64(3, \"\\4\\0\\0\\0\\20\\0\\0\\0\\5\\0\\0\\0GNU\\0\\2\\0\\0\\300\\4\\0\\0\\0\\3\\0\\0\\0\\0\\0\\0\\0\", 32, 848) = 32\r\n",
      "pread64(3, \"\\4\\0\\0\\0\\24\\0\\0\\0\\3\\0\\0\\0GNU\\0cBR\\340\\305\\370\\2609W\\242\\345)q\\235A\\1\"..., 68, 880) = 68\r\n",
      "mmap(NULL, 2036952, PROT_READ, MAP_PRIVATE|MAP_DENYWRITE, 3, 0) = 0x7ffacaefd000\r\n",
      "mprotect(0x7ffacaf22000, 1847296, PROT_NONE) = 0\r\n",
      "mmap(0x7ffacaf22000, 1540096, PROT_READ|PROT_EXEC, MAP_PRIVATE|MAP_FIXED|MAP_DENYWRITE, 3, 0x25000) = 0x7ffacaf22000\r\n",
      "mmap(0x7ffacb09a000, 303104, PROT_READ, MAP_PRIVATE|MAP_FIXED|MAP_DENYWRITE, 3, 0x19d000) = 0x7ffacb09a000\r\n",
      "mmap(0x7ffacb0e5000, 24576, PROT_READ|PROT_WRITE, MAP_PRIVATE|MAP_FIXED|MAP_DENYWRITE, 3, 0x1e7000) = 0x7ffacb0e5000\r\n",
      "mmap(0x7ffacb0eb000, 13528, PROT_READ|PROT_WRITE, MAP_PRIVATE|MAP_FIXED|MAP_ANONYMOUS, -1, 0) = 0x7ffacb0eb000\r\n",
      "close(3)                                = 0\r\n",
      "arch_prctl(ARCH_SET_FS, 0x7ffacb0f0540) = 0\r\n",
      "mprotect(0x7ffacb0e5000, 12288, PROT_READ) = 0\r\n",
      "mprotect(0x56181fe1e000, 4096, PROT_READ) = 0\r\n",
      "mprotect(0x7ffacb132000, 4096, PROT_READ) = 0\r\n",
      "munmap(0x7ffacb0f1000, 79779)           = 0\r\n",
      "fstat(1, {st_mode=S_IFCHR|0620, st_rdev=makedev(0x88, 0x1), ...}) = 0\r\n",
      "brk(NULL)                               = 0x561820b31000\r\n",
      "brk(0x561820b52000)                     = 0x561820b52000\r\n",
      "write(1, \"Hello world!\", 12)            = 12\r\n",
      "exit_group(0)                           = ?\r\n",
      "+++ exited with 0 +++\r\n"
     ]
    }
   ],
   "source": [
    "%%cpp main.c\n",
    "%run gcc -m64 main.c -o main.exe\n",
    "%run strace ./main.exe 2> strace.out\n",
    "%run cat strace.out\n",
    "\n",
    "#include <stdio.h>\n",
    "\n",
    "int main() {\n",
    "    printf(\"Hello world!\");\n",
    "    return 0;\n",
    "}"
   ]
  },
  {
   "cell_type": "markdown",
   "metadata": {},
   "source": [
    "## Компилим как обычно"
   ]
  },
  {
   "cell_type": "code",
   "execution_count": 256,
   "metadata": {
    "scrolled": true
   },
   "outputs": [
    {
     "data": {
      "text/markdown": [
       "Run: `gcc -m64 -masm=intel -fno-asynchronous-unwind-tables -O3 main.c -S -o main.S`"
      ],
      "text/plain": [
       "<IPython.core.display.Markdown object>"
      ]
     },
     "metadata": {},
     "output_type": "display_data"
    },
    {
     "data": {
      "text/markdown": [
       "Run: `gcc -m64 -masm=intel -O3 main.c -o main.exe`"
      ],
      "text/plain": [
       "<IPython.core.display.Markdown object>"
      ]
     },
     "metadata": {},
     "output_type": "display_data"
    },
    {
     "data": {
      "text/markdown": [
       "Run: `ls -la main.exe`"
      ],
      "text/plain": [
       "<IPython.core.display.Markdown object>"
      ]
     },
     "metadata": {},
     "output_type": "display_data"
    },
    {
     "data": {
      "text/html": [
       "<pre><code>-rwxrwxr-x 1 pechatnov pechatnov 16696 окт 29 17:23 main.exe</code></pre>"
      ],
      "text/plain": [
       "<IPython.core.display.HTML object>"
      ]
     },
     "metadata": {},
     "output_type": "display_data"
    },
    {
     "data": {
      "text/markdown": [
       "Run: `ldd main.exe  # Выводим зависимости по динамическим библиотекам`"
      ],
      "text/plain": [
       "<IPython.core.display.Markdown object>"
      ]
     },
     "metadata": {},
     "output_type": "display_data"
    },
    {
     "data": {
      "text/html": [
       "<pre><code>\tlinux-vdso.so.1 (0x00007fff32701000)\n",
       "\tlibc.so.6 =&gt; /lib/x86_64-linux-gnu/libc.so.6 (0x00007fe03b65c000)\n",
       "\t/lib64/ld-linux-x86-64.so.2 (0x00007fe03b869000)</code></pre>"
      ],
      "text/plain": [
       "<IPython.core.display.HTML object>"
      ]
     },
     "metadata": {},
     "output_type": "display_data"
    },
    {
     "data": {
      "text/markdown": [
       "Run: `cat main.S`"
      ],
      "text/plain": [
       "<IPython.core.display.Markdown object>"
      ]
     },
     "metadata": {},
     "output_type": "display_data"
    },
    {
     "data": {
      "text/html": [
       "<details> <summary> output </summary> <pre><code>\t.file\t&quot;main.c&quot;\n",
       "\t.intel_syntax noprefix\n",
       "\t.text\n",
       "\t.section\t.rodata.str1.1,&quot;aMS&quot;,@progbits,1\n",
       ".LC0:\n",
       "\t.string\t&quot;Hello world!&quot;\n",
       "\t.section\t.text.startup,&quot;ax&quot;,@progbits\n",
       "\t.p2align 4\n",
       "\t.globl\tmain\n",
       "\t.type\tmain, @function\n",
       "main:\n",
       "\tendbr64\n",
       "\tsub\trsp, 8\n",
       "\tmov\tedx, 12\n",
       "\tmov\tedi, 1\n",
       "\tlea\trsi, .LC0[rip]\n",
       "\tcall\twrite@PLT\n",
       "\txor\teax, eax\n",
       "\tadd\trsp, 8\n",
       "\tret\n",
       "\t.size\tmain, .-main\n",
       "\t.ident\t&quot;GCC: (Ubuntu 9.3.0-17ubuntu1~20.04) 9.3.0&quot;\n",
       "\t.section\t.note.GNU-stack,&quot;&quot;,@progbits\n",
       "\t.section\t.note.gnu.property,&quot;a&quot;\n",
       "\t.align 8\n",
       "\t.long\t 1f - 0f\n",
       "\t.long\t 4f - 1f\n",
       "\t.long\t 5\n",
       "0:\n",
       "\t.string\t &quot;GNU&quot;\n",
       "1:\n",
       "\t.align 8\n",
       "\t.long\t 0xc0000002\n",
       "\t.long\t 3f - 2f\n",
       "2:\n",
       "\t.long\t 0x3\n",
       "3:\n",
       "\t.align 8\n",
       "4:</code></pre></details>"
      ],
      "text/plain": [
       "<IPython.core.display.HTML object>"
      ]
     },
     "metadata": {},
     "output_type": "display_data"
    },
    {
     "data": {
      "text/markdown": [
       "Run: `objdump -M intel -d main.exe | grep main`"
      ],
      "text/plain": [
       "<IPython.core.display.Markdown object>"
      ]
     },
     "metadata": {},
     "output_type": "display_data"
    },
    {
     "data": {
      "text/html": [
       "<pre><code>main.exe:     file format elf64-x86-64\n",
       "0000000000001060 &lt;main&gt;:\n",
       "    10b1:\t48 8d 3d a8 ff ff ff \tlea    rdi,[rip+0xffffffffffffffa8]        # 1060 &lt;main&gt;\n",
       "    10b8:\tff 15 22 2f 00 00    \tcall   QWORD PTR [rip+0x2f22]        # 3fe0 &lt;__libc_start_main@GLIBC_2.2.5&gt;</code></pre>"
      ],
      "text/plain": [
       "<IPython.core.display.HTML object>"
      ]
     },
     "metadata": {},
     "output_type": "display_data"
    },
    {
     "data": {
      "text/markdown": [
       "Run: `strace ./main.exe`"
      ],
      "text/plain": [
       "<IPython.core.display.Markdown object>"
      ]
     },
     "metadata": {},
     "output_type": "display_data"
    },
    {
     "data": {
      "text/html": [
       "<details> <summary> output </summary> <pre><code>execve(&quot;./main.exe&quot;, [&quot;./main.exe&quot;], 0x7ffe13170800 /* 66 vars */) = 0\n",
       "brk(NULL)                               = 0x55831ca05000\n",
       "arch_prctl(0x3001 /* ARCH_??? */, 0x7ffdf1646580) = -1 EINVAL (Invalid argument)\n",
       "access(&quot;/etc/ld.so.preload&quot;, R_OK)      = -1 ENOENT (No such file or directory)\n",
       "openat(AT_FDCWD, &quot;/etc/ld.so.cache&quot;, O_RDONLY|O_CLOEXEC) = 3\n",
       "fstat(3, {st_mode=S_IFREG|0644, st_size=79779, ...}) = 0\n",
       "mmap(NULL, 79779, PROT_READ, MAP_PRIVATE, 3, 0) = 0x7fe8b0ccc000\n",
       "close(3)                                = 0\n",
       "openat(AT_FDCWD, &quot;/lib/x86_64-linux-gnu/libc.so.6&quot;, O_RDONLY|O_CLOEXEC) = 3\n",
       "read(3, &quot;\\177ELF\\2\\1\\1\\3\\0\\0\\0\\0\\0\\0\\0\\0\\3\\0&gt;\\0\\1\\0\\0\\0\\360q\\2\\0\\0\\0\\0\\0&quot;..., 832) = 832\n",
       "pread64(3, &quot;\\6\\0\\0\\0\\4\\0\\0\\0@\\0\\0\\0\\0\\0\\0\\0@\\0\\0\\0\\0\\0\\0\\0@\\0\\0\\0\\0\\0\\0\\0&quot;..., 784, 64) = 784\n",
       "pread64(3, &quot;\\4\\0\\0\\0\\20\\0\\0\\0\\5\\0\\0\\0GNU\\0\\2\\0\\0\\300\\4\\0\\0\\0\\3\\0\\0\\0\\0\\0\\0\\0&quot;, 32, 848) = 32\n",
       "pread64(3, &quot;\\4\\0\\0\\0\\24\\0\\0\\0\\3\\0\\0\\0GNU\\0cBR\\340\\305\\370\\2609W\\242\\345)q\\235A\\1&quot;..., 68, 880) = 68\n",
       "fstat(3, {st_mode=S_IFREG|0755, st_size=2029224, ...}) = 0\n",
       "mmap(NULL, 8192, PROT_READ|PROT_WRITE, MAP_PRIVATE|MAP_ANONYMOUS, -1, 0) = 0x7fe8b0cca000\n",
       "pread64(3, &quot;\\6\\0\\0\\0\\4\\0\\0\\0@\\0\\0\\0\\0\\0\\0\\0@\\0\\0\\0\\0\\0\\0\\0@\\0\\0\\0\\0\\0\\0\\0&quot;..., 784, 64) = 784\n",
       "pread64(3, &quot;\\4\\0\\0\\0\\20\\0\\0\\0\\5\\0\\0\\0GNU\\0\\2\\0\\0\\300\\4\\0\\0\\0\\3\\0\\0\\0\\0\\0\\0\\0&quot;, 32, 848) = 32\n",
       "pread64(3, &quot;\\4\\0\\0\\0\\24\\0\\0\\0\\3\\0\\0\\0GNU\\0cBR\\340\\305\\370\\2609W\\242\\345)q\\235A\\1&quot;..., 68, 880) = 68\n",
       "mmap(NULL, 2036952, PROT_READ, MAP_PRIVATE|MAP_DENYWRITE, 3, 0) = 0x7fe8b0ad8000\n",
       "mprotect(0x7fe8b0afd000, 1847296, PROT_NONE) = 0\n",
       "mmap(0x7fe8b0afd000, 1540096, PROT_READ|PROT_EXEC, MAP_PRIVATE|MAP_FIXED|MAP_DENYWRITE, 3, 0x25000) = 0x7fe8b0afd000\n",
       "mmap(0x7fe8b0c75000, 303104, PROT_READ, MAP_PRIVATE|MAP_FIXED|MAP_DENYWRITE, 3, 0x19d000) = 0x7fe8b0c75000\n",
       "mmap(0x7fe8b0cc0000, 24576, PROT_READ|PROT_WRITE, MAP_PRIVATE|MAP_FIXED|MAP_DENYWRITE, 3, 0x1e7000) = 0x7fe8b0cc0000\n",
       "mmap(0x7fe8b0cc6000, 13528, PROT_READ|PROT_WRITE, MAP_PRIVATE|MAP_FIXED|MAP_ANONYMOUS, -1, 0) = 0x7fe8b0cc6000\n",
       "close(3)                                = 0\n",
       "arch_prctl(ARCH_SET_FS, 0x7fe8b0ccb540) = 0\n",
       "mprotect(0x7fe8b0cc0000, 12288, PROT_READ) = 0\n",
       "mprotect(0x55831bc3e000, 4096, PROT_READ) = 0\n",
       "mprotect(0x7fe8b0d0d000, 4096, PROT_READ) = 0\n",
       "munmap(0x7fe8b0ccc000, 79779)           = 0\n",
       "write(1, &quot;Hello world!&quot;, 12Hello world!)            = 12\n",
       "exit_group(0)                           = ?\n",
       "+++ exited with 0 +++</code></pre></details>"
      ],
      "text/plain": [
       "<IPython.core.display.HTML object>"
      ]
     },
     "metadata": {},
     "output_type": "display_data"
    }
   ],
   "source": [
    "%%cpp main.c --under-spoiler-threshold 5\n",
    "%run gcc -m64 -masm=intel -fno-asynchronous-unwind-tables -O3 main.c -S -o main.S\n",
    "%run gcc -m64 -masm=intel -O3 main.c -o main.exe\n",
    "%run ls -la main.exe\n",
    "%run ldd main.exe  # Выводим зависимости по динамическим библиотекам\n",
    "%run cat main.S\n",
    "%run objdump -M intel -d main.exe | grep main\n",
    "%run strace ./main.exe\n",
    "\n",
    "#include <unistd.h>\n",
    "\n",
    "int main() {\n",
    "    int w = write(1, \"Hello world!\", 12);\n",
    "    return 0;\n",
    "}"
   ]
  },
  {
   "cell_type": "code",
   "execution_count": null,
   "metadata": {},
   "outputs": [],
   "source": []
  },
  {
   "cell_type": "markdown",
   "metadata": {},
   "source": [
    "## Компилим, статически линкуя libc"
   ]
  },
  {
   "cell_type": "code",
   "execution_count": 257,
   "metadata": {
    "scrolled": true
   },
   "outputs": [
    {
     "data": {
      "text/markdown": [
       "Run: `gcc -m64 -masm=intel -fno-asynchronous-unwind-tables -static -flto -O3 main2.c -S -o main2.S`"
      ],
      "text/plain": [
       "<IPython.core.display.Markdown object>"
      ]
     },
     "metadata": {},
     "output_type": "display_data"
    },
    {
     "data": {
      "text/markdown": [
       "Run: `gcc -m64 -masm=intel -static -flto -O3 main2.c -o main2.exe`"
      ],
      "text/plain": [
       "<IPython.core.display.Markdown object>"
      ]
     },
     "metadata": {},
     "output_type": "display_data"
    },
    {
     "data": {
      "text/markdown": [
       "Run: `ls -la main2.exe  # Заметьте, что размер стал сильно больше`"
      ],
      "text/plain": [
       "<IPython.core.display.Markdown object>"
      ]
     },
     "metadata": {},
     "output_type": "display_data"
    },
    {
     "data": {
      "text/html": [
       "<pre><code>-rwxrwxr-x 1 pechatnov pechatnov 871544 окт 29 17:26 main2.exe</code></pre>"
      ],
      "text/plain": [
       "<IPython.core.display.HTML object>"
      ]
     },
     "metadata": {},
     "output_type": "display_data"
    },
    {
     "data": {
      "text/markdown": [
       "Run: `ldd main2.exe || echo \"fails with code=$?\"`"
      ],
      "text/plain": [
       "<IPython.core.display.Markdown object>"
      ]
     },
     "metadata": {},
     "output_type": "display_data"
    },
    {
     "data": {
      "text/html": [
       "<pre><code>\tnot a dynamic executable\n",
       "fails with code=1</code></pre>"
      ],
      "text/plain": [
       "<IPython.core.display.HTML object>"
      ]
     },
     "metadata": {},
     "output_type": "display_data"
    },
    {
     "data": {
      "text/markdown": [
       "Run: `objdump -M intel -d main2.exe | grep \"<_start>\" -A 10 # Вот она функция с которой все начинается`"
      ],
      "text/plain": [
       "<IPython.core.display.Markdown object>"
      ]
     },
     "metadata": {},
     "output_type": "display_data"
    },
    {
     "data": {
      "text/html": [
       "<details> <summary> output </summary> <pre><code>0000000000401bf0 &lt;_start&gt;:\n",
       "  401bf0:\tf3 0f 1e fa          \tendbr64 \n",
       "  401bf4:\t31 ed                \txor    ebp,ebp\n",
       "  401bf6:\t49 89 d1             \tmov    r9,rdx\n",
       "  401bf9:\t5e                   \tpop    rsi\n",
       "  401bfa:\t48 89 e2             \tmov    rdx,rsp\n",
       "  401bfd:\t48 83 e4 f0          \tand    rsp,0xfffffffffffffff0\n",
       "  401c01:\t50                   \tpush   rax\n",
       "  401c02:\t54                   \tpush   rsp\n",
       "  401c03:\t49 c7 c0 a0 2d 40 00 \tmov    r8,0x402da0\n",
       "  401c0a:\t48 c7 c1 00 2d 40 00 \tmov    rcx,0x402d00</code></pre></details>"
      ],
      "text/plain": [
       "<IPython.core.display.HTML object>"
      ]
     },
     "metadata": {},
     "output_type": "display_data"
    },
    {
     "data": {
      "text/markdown": [
       "Run: `objdump -M intel -d main2.exe | grep \"<main>\" -A 10 # Вот она функция main`"
      ],
      "text/plain": [
       "<IPython.core.display.Markdown object>"
      ]
     },
     "metadata": {},
     "output_type": "display_data"
    },
    {
     "data": {
      "text/html": [
       "<details> <summary> output </summary> <pre><code>0000000000401730 &lt;main&gt;:\n",
       "  401730:\tf3 0f 1e fa          \tendbr64 \n",
       "  401734:\t48 83 ec 08          \tsub    rsp,0x8\n",
       "  401738:\tba 01 00 00 00       \tmov    edx,0x1\n",
       "  40173d:\tbf 01 00 00 00       \tmov    edi,0x1\n",
       "  401742:\t48 8d 35 5e 8d 0a 00 \tlea    rsi,[rip+0xa8d5e]        # 4aa4a7 &lt;__PRETTY_FUNCTION__.10741+0x47&gt;\n",
       "  401749:\te8 02 6f 04 00       \tcall   448650 &lt;__libc_write&gt;\n",
       "  40174e:\t31 c0                \txor    eax,eax\n",
       "  401750:\t48 83 c4 08          \tadd    rsp,0x8\n",
       "  401754:\tc3                   \tret    \n",
       "  401755:\t66 2e 0f 1f 84 00 00 \tnop    WORD PTR cs:[rax+rax*1+0x0]</code></pre></details>"
      ],
      "text/plain": [
       "<IPython.core.display.HTML object>"
      ]
     },
     "metadata": {},
     "output_type": "display_data"
    },
    {
     "data": {
      "text/markdown": [
       "Run: `objdump -M intel -d main2.exe | grep \"<__libc_write>:\" -A 8 | head -n 100 # А тут мы найдем syscall`"
      ],
      "text/plain": [
       "<IPython.core.display.Markdown object>"
      ]
     },
     "metadata": {},
     "output_type": "display_data"
    },
    {
     "data": {
      "text/html": [
       "<details> <summary> output </summary> <pre><code>0000000000448650 &lt;__libc_write&gt;:\n",
       "  448650:\tf3 0f 1e fa          \tendbr64 \n",
       "  448654:\t64 8b 04 25 18 00 00 \tmov    eax,DWORD PTR fs:0x18\n",
       "  44865b:\t00 \n",
       "  44865c:\t85 c0                \ttest   eax,eax\n",
       "  44865e:\t75 10                \tjne    448670 &lt;__libc_write+0x20&gt;\n",
       "  448660:\tb8 01 00 00 00       \tmov    eax,0x1\n",
       "  448665:\t0f 05                \tsyscall \n",
       "  448667:\t48 3d 00 f0 ff ff    \tcmp    rax,0xfffffffffffff000</code></pre></details>"
      ],
      "text/plain": [
       "<IPython.core.display.HTML object>"
      ]
     },
     "metadata": {},
     "output_type": "display_data"
    },
    {
     "data": {
      "text/markdown": [
       "Run: `strace ./main2.exe`"
      ],
      "text/plain": [
       "<IPython.core.display.Markdown object>"
      ]
     },
     "metadata": {},
     "output_type": "display_data"
    },
    {
     "data": {
      "text/html": [
       "<details> <summary> output </summary> <pre><code>execve(&quot;./main2.exe&quot;, [&quot;./main2.exe&quot;], 0x7ffef4503610 /* 66 vars */) = 0\n",
       "arch_prctl(0x3001 /* ARCH_??? */, 0x7ffc23537310) = -1 EINVAL (Invalid argument)\n",
       "brk(NULL)                               = 0x115e000\n",
       "brk(0x115f1c0)                          = 0x115f1c0\n",
       "arch_prctl(ARCH_SET_FS, 0x115e880)      = 0\n",
       "uname({sysname=&quot;Linux&quot;, nodename=&quot;pechatnov-vbox&quot;, ...}) = 0\n",
       "readlink(&quot;/proc/self/exe&quot;, &quot;/home/pechatnov/vbox/caos/sem09-&quot;..., 4096) = 58\n",
       "brk(0x11801c0)                          = 0x11801c0\n",
       "brk(0x1181000)                          = 0x1181000\n",
       "mprotect(0x4bd000, 12288, PROT_READ)    = 0\n",
       "write(1, &quot;X&quot;, 1X)                        = 1\n",
       "exit_group(0)                           = ?\n",
       "+++ exited with 0 +++</code></pre></details>"
      ],
      "text/plain": [
       "<IPython.core.display.HTML object>"
      ]
     },
     "metadata": {},
     "output_type": "display_data"
    }
   ],
   "source": [
    "%%cpp main2.c --under-spoiler-threshold 5\n",
    "%run gcc -m64 -masm=intel -fno-asynchronous-unwind-tables -static -flto -O3 main2.c -S -o main2.S\n",
    "%run gcc -m64 -masm=intel -static -flto -O3 main2.c -o main2.exe\n",
    "%run ls -la main2.exe  # Заметьте, что размер стал сильно больше\n",
    "%run ldd main2.exe || echo \"fails with code=$?\"\n",
    "%run objdump -M intel -d main2.exe | grep \"<_start>\" -A 10 # Вот она функция с которой все начинается\n",
    "%run objdump -M intel -d main2.exe | grep \"<main>\" -A 10 # Вот она функция main\n",
    "%run objdump -M intel -d main2.exe | grep \"<__libc_write>:\" -A 8 | head -n 100 # А тут мы найдем syscall\n",
    "%run strace ./main2.exe\n",
    "\n",
    "#include <unistd.h>\n",
    "\n",
    "int main() {\n",
    "    int w = write(1, \"X\", 1);\n",
    "    return 0;\n",
    "}"
   ]
  },
  {
   "cell_type": "code",
   "execution_count": 262,
   "metadata": {},
   "outputs": [
    {
     "name": "stdout",
     "output_type": "stream",
     "text": [
      "int main() {\r\n",
      "    int w = write(1, \"X\", 1);\r\n",
      "    return 0;\r\n",
      "}\r\n"
     ]
    }
   ],
   "source": [
    "!gcc -E -m64 main2.c -o /dev/stdout | grep \"main()\" -A 10"
   ]
  },
  {
   "cell_type": "code",
   "execution_count": null,
   "metadata": {},
   "outputs": [],
   "source": []
  },
  {
   "cell_type": "code",
   "execution_count": null,
   "metadata": {},
   "outputs": [],
   "source": []
  },
  {
   "cell_type": "markdown",
   "metadata": {},
   "source": [
    "Тут видим, что в `main` вызывается `__libc_write` (`write` либо макрос, либо соптимизировался), а в `__libc_write` происходит syscall с 0x1 в eax."
   ]
  },
  {
   "cell_type": "markdown",
   "metadata": {},
   "source": [
    "# <a name=\"asm_32_64_diff\"></a> Отличие 32 и 64 битных архитектур в этом месте\n",
    "\n",
    "Во первых номера системных вызовов разные\n",
    "\n",
    "32 https://gist.github.com/yamnikov-oleg/454f48c3c45b735631f2\n",
    "\n",
    "64 https://filippo.io/linux-syscall-table/"
   ]
  },
  {
   "cell_type": "code",
   "execution_count": 119,
   "metadata": {
    "scrolled": false
   },
   "outputs": [
    {
     "data": {
      "text/markdown": [
       "Run: `gcc -m32 -masm=intel -static -flto -O3 main2.c -o main32.exe`"
      ],
      "text/plain": [
       "<IPython.core.display.Markdown object>"
      ]
     },
     "metadata": {},
     "output_type": "display_data"
    },
    {
     "data": {
      "text/markdown": [
       "Run: `gcc -m64 -masm=intel -static -flto -O3 main2.c -o main64.exe`"
      ],
      "text/plain": [
       "<IPython.core.display.Markdown object>"
      ]
     },
     "metadata": {},
     "output_type": "display_data"
    },
    {
     "data": {
      "text/markdown": [
       "Run: `objdump -M intel -d main64.exe | grep \"<__libc_write>:\" -A 8 | head -n 100 # Тут мы найдем syscall`"
      ],
      "text/plain": [
       "<IPython.core.display.Markdown object>"
      ]
     },
     "metadata": {},
     "output_type": "display_data"
    },
    {
     "data": {
      "text/html": [
       "<pre><code>0000000000448650 &lt;__libc_write&gt;:\n",
       "  448650:\tf3 0f 1e fa          \tendbr64 \n",
       "  448654:\t64 8b 04 25 18 00 00 \tmov    eax,DWORD PTR fs:0x18\n",
       "  44865b:\t00 \n",
       "  44865c:\t85 c0                \ttest   eax,eax\n",
       "  44865e:\t75 10                \tjne    448670 &lt;__libc_write+0x20&gt;\n",
       "  448660:\tb8 01 00 00 00       \tmov    eax,0x1\n",
       "  448665:\t0f 05                \tsyscall \n",
       "  448667:\t48 3d 00 f0 ff ff    \tcmp    rax,0xfffffffffffff000</code></pre>"
      ],
      "text/plain": [
       "<IPython.core.display.HTML object>"
      ]
     },
     "metadata": {},
     "output_type": "display_data"
    },
    {
     "data": {
      "text/markdown": [
       "Run: `objdump -M intel -d main32.exe | grep \"<__libc_write>:\" -A 15 | head -n 100 # А тут мы найдем...`"
      ],
      "text/plain": [
       "<IPython.core.display.Markdown object>"
      ]
     },
     "metadata": {},
     "output_type": "display_data"
    },
    {
     "data": {
      "text/html": [
       "<pre><code>0806ea60 &lt;__libc_write&gt;:\n",
       " 806ea60:\tf3 0f 1e fb          \tendbr32 \n",
       " 806ea64:\t56                   \tpush   esi\n",
       " 806ea65:\t53                   \tpush   ebx\n",
       " 806ea66:\t83 ec 14             \tsub    esp,0x14\n",
       " 806ea69:\t8b 5c 24 20          \tmov    ebx,DWORD PTR [esp+0x20]\n",
       " 806ea6d:\t8b 4c 24 24          \tmov    ecx,DWORD PTR [esp+0x24]\n",
       " 806ea71:\t8b 54 24 28          \tmov    edx,DWORD PTR [esp+0x28]\n",
       " 806ea75:\t65 a1 0c 00 00 00    \tmov    eax,gs:0xc\n",
       " 806ea7b:\t85 c0                \ttest   eax,eax\n",
       " 806ea7d:\t75 21                \tjne    806eaa0 &lt;__libc_write+0x40&gt;\n",
       " 806ea7f:\tb8 04 00 00 00       \tmov    eax,0x4\n",
       " 806ea84:\t65 ff 15 10 00 00 00 \tcall   DWORD PTR gs:0x10\n",
       " 806ea8b:\t89 c3                \tmov    ebx,eax\n",
       " 806ea8d:\t3d 00 f0 ff ff       \tcmp    eax,0xfffff000\n",
       " 806ea92:\t77 4c                \tja     806eae0 &lt;__libc_write+0x80&gt;</code></pre>"
      ],
      "text/plain": [
       "<IPython.core.display.HTML object>"
      ]
     },
     "metadata": {},
     "output_type": "display_data"
    },
    {
     "data": {
      "text/markdown": [
       "\\#\\#\\#\\# `call   DWORD PTR gs:0x10 -- это что-то про сегментные регситры и VDSO и там дальше сложно раскопать`"
      ],
      "text/plain": [
       "<IPython.core.display.Markdown object>"
      ]
     },
     "metadata": {},
     "output_type": "display_data"
    },
    {
     "data": {
      "text/markdown": [
       "Run: `objdump -M intel -d main32.exe | grep \"<_exit>:\" -A 9 | head -n 1000 # Попробуем покопать другую функцию - exit`"
      ],
      "text/plain": [
       "<IPython.core.display.Markdown object>"
      ]
     },
     "metadata": {},
     "output_type": "display_data"
    },
    {
     "data": {
      "text/html": [
       "<pre><code>0806e2aa &lt;_exit&gt;:\n",
       " 806e2aa:\t8b 5c 24 04          \tmov    ebx,DWORD PTR [esp+0x4]\n",
       " 806e2ae:\tb8 fc 00 00 00       \tmov    eax,0xfc\n",
       " 806e2b3:\t65 ff 15 10 00 00 00 \tcall   DWORD PTR gs:0x10\n",
       " 806e2ba:\tb8 01 00 00 00       \tmov    eax,0x1\n",
       " 806e2bf:\tcd 80                \tint    0x80\n",
       " 806e2c1:\tf4                   \thlt    \n",
       " 806e2c2:\t66 90                \txchg   ax,ax\n",
       " 806e2c4:\t66 90                \txchg   ax,ax\n",
       " 806e2c6:\t66 90                \txchg   ax,ax</code></pre>"
      ],
      "text/plain": [
       "<IPython.core.display.HTML object>"
      ]
     },
     "metadata": {},
     "output_type": "display_data"
    }
   ],
   "source": [
    "%%cpp main2.c --under-spoiler-threshold 20\n",
    "%run gcc -m32 -masm=intel -static -flto -O3 main2.c -o main32.exe\n",
    "%run gcc -m64 -masm=intel -static -flto -O3 main2.c -o main64.exe\n",
    "%run objdump -M intel -d main64.exe | grep \"<__libc_write>:\" -A 8 | head -n 100 # Тут мы найдем syscall\n",
    "%run objdump -M intel -d main32.exe | grep \"<__libc_write>:\" -A 15 | head -n 100 # А тут мы найдем...\n",
    "%// call   DWORD PTR gs:0x10 -- это что-то про сегментные регситры и VDSO и там дальше сложно раскопать\n",
    "%run objdump -M intel -d main32.exe | grep \"<_exit>:\" -A 9 | head -n 1000 # Попробуем покопать другую функцию - exit\n",
    "\n",
    "#include <unistd.h>\n",
    "\n",
    "int main() {\n",
    "    int w = write(1, \"X\", 1);\n",
    "    return 0;\n",
    "}"
   ]
  },
  {
   "cell_type": "markdown",
   "metadata": {},
   "source": [
    "В 32-битной архитектуре системный вызов осуществляется с помощью `int 0x80`, в 64-битной - `syscall`.\n",
    "\n",
    "Хотя в примере\n",
    "```\n",
    "mov    eax,0x1\n",
    "int    0x80\n",
    "```\n",
    "это вызов exit на 32-битной архитектуре."
   ]
  },
  {
   "cell_type": "markdown",
   "metadata": {},
   "source": [
    "# <a name=\"nolibc\"></a> Пишем сами без libc"
   ]
  },
  {
   "cell_type": "code",
   "execution_count": 132,
   "metadata": {},
   "outputs": [
    {
     "data": {
      "text/markdown": [
       "Run: `gcc -m64 -masm=intel -nostdlib -O3 example1.c -o example1.exe`"
      ],
      "text/plain": [
       "<IPython.core.display.Markdown object>"
      ]
     },
     "metadata": {},
     "output_type": "display_data"
    },
    {
     "data": {
      "text/markdown": [
       "Run: `strace ./example1.exe || echo \"Failed with code=$?\"`"
      ],
      "text/plain": [
       "<IPython.core.display.Markdown object>"
      ]
     },
     "metadata": {},
     "output_type": "display_data"
    },
    {
     "name": "stdout",
     "output_type": "stream",
     "text": [
      "execve(\"./example1.exe\", [\"./example1.exe\"], 0x7ffdec419330 /* 66 vars */) = 0\n",
      "brk(NULL)                               = 0x557c5e16b000\n",
      "arch_prctl(0x3001 /* ARCH_??? */, 0x7ffe540c0000) = -1 EINVAL (Invalid argument)\n",
      "access(\"/etc/ld.so.preload\", R_OK)      = -1 ENOENT (No such file or directory)\n",
      "mmap(NULL, 8192, PROT_READ|PROT_WRITE, MAP_PRIVATE|MAP_ANONYMOUS, -1, 0) = 0x7f8dfbb50000\n",
      "arch_prctl(ARCH_SET_FS, 0x7f8dfbb50a80) = 0\n",
      "mprotect(0x557c5dbc8000, 4096, PROT_READ) = 0\n",
      "--- SIGSEGV {si_signo=SIGSEGV, si_code=SEGV_MAPERR, si_addr=0x1} ---\n",
      "+++ killed by SIGSEGV (core dumped) +++\n",
      "Segmentation fault (core dumped)\n",
      "Failed with code=139\n"
     ]
    }
   ],
   "source": [
    "%%cpp example1.c\n",
    "%run gcc -m64 -masm=intel -nostdlib -O3 example1.c -o example1.exe\n",
    "%run strace ./example1.exe || echo \"Failed with code=$?\" \n",
    "\n",
    "// Именно с этой функции всегда начинается выполнение программы\n",
    "void _start() {\n",
    "    \n",
    "}"
   ]
  },
  {
   "cell_type": "markdown",
   "metadata": {},
   "source": [
    "Получаем сегфолт, так эта функция - входная точка в программу и в нее не передается разумного адреса возврата.\n",
    "То есть делать return из этой функции - путь в никуда.\n",
    "\n",
    "Интересный факт, что до старта `_start` все-таки есть жизнь, насколько я понимаю, это работа загрузчика программы и выполнение функций из секции `preinitarray`."
   ]
  },
  {
   "cell_type": "code",
   "execution_count": 133,
   "metadata": {},
   "outputs": [
    {
     "data": {
      "text/markdown": [
       "Run: `gcc -m64 -masm=intel -O3 exit.c -o exit.exe`"
      ],
      "text/plain": [
       "<IPython.core.display.Markdown object>"
      ]
     },
     "metadata": {},
     "output_type": "display_data"
    },
    {
     "data": {
      "text/markdown": [
       "Run: `strace ./exit.exe 2>&1 | tail -n 3`"
      ],
      "text/plain": [
       "<IPython.core.display.Markdown object>"
      ]
     },
     "metadata": {},
     "output_type": "display_data"
    },
    {
     "name": "stdout",
     "output_type": "stream",
     "text": [
      "munmap(0x7efe42a4a000, 79779)           = 0\r\n",
      "exit_group(0)                           = ?\r\n",
      "+++ exited with 0 +++\r\n"
     ]
    }
   ],
   "source": [
    "%%cpp exit.c\n",
    "%run gcc -m64 -masm=intel -O3 exit.c -o exit.exe\n",
    "%run strace ./exit.exe 2>&1 | tail -n 3\n",
    "\n",
    "// обычная программа с пустым main\n",
    "int main() {}"
   ]
  },
  {
   "cell_type": "markdown",
   "metadata": {},
   "source": [
    "Выполнение обычной программы заканчивается системным вызовом exit_group как подсказывает нам strace.\n",
    "\n",
    "Можно нагуглить про этот системный вызов, например, это https://filippo.io/linux-syscall-table/"
   ]
  },
  {
   "cell_type": "code",
   "execution_count": 270,
   "metadata": {},
   "outputs": [
    {
     "data": {
      "text/markdown": [
       "Run: `gcc -m64 -masm=intel -nostdlib -O3 example2.c -o example2.exe`"
      ],
      "text/plain": [
       "<IPython.core.display.Markdown object>"
      ]
     },
     "metadata": {},
     "output_type": "display_data"
    },
    {
     "data": {
      "text/markdown": [
       "Run: `strace ./example2.exe ; echo \"Exited with code=$?\"`"
      ],
      "text/plain": [
       "<IPython.core.display.Markdown object>"
      ]
     },
     "metadata": {},
     "output_type": "display_data"
    },
    {
     "name": "stdout",
     "output_type": "stream",
     "text": [
      "execve(\"./example2.exe\", [\"./example2.exe\"], 0x7ffc21ca4cf0 /* 66 vars */) = 0\r\n",
      "brk(NULL)                               = 0x559965779000\r\n",
      "arch_prctl(0x3001 /* ARCH_??? */, 0x7ffd3ff49220) = -1 EINVAL (Invalid argument)\r\n",
      "access(\"/etc/ld.so.preload\", R_OK)      = -1 ENOENT (No such file or directory)\r\n",
      "mmap(NULL, 8192, PROT_READ|PROT_WRITE, MAP_PRIVATE|MAP_ANONYMOUS, -1, 0) = 0x7f5522d57000\r\n",
      "arch_prctl(ARCH_SET_FS, 0x7f5522d57a80) = 0\r\n",
      "mprotect(0x5599639c7000, 4096, PROT_READ) = 0\r\n",
      "exit_group(0)                           = ?\r\n",
      "+++ exited with 0 +++\r\n",
      "Exited with code=0\r\n"
     ]
    }
   ],
   "source": [
    "%%cpp example2.c\n",
    "%run gcc -m64 -masm=intel -nostdlib -O3 example2.c -o example2.exe\n",
    "%run strace ./example2.exe ; echo \"Exited with code=$?\" \n",
    "    \n",
    "int my_exit(int code);\n",
    "__asm__(R\"(\n",
    "my_exit:\n",
    "    mov rax, 231 /* номер системного вызова exit_group */\n",
    "    syscall\n",
    "    /* не нужно возвращаться из функции, на этом программа завершится */\n",
    ")\");\n",
    "    \n",
    "// Именно с этой функции всегда начинается выполнение программы\n",
    "void _start() {\n",
    "    my_exit(0);\n",
    "}"
   ]
  },
  {
   "cell_type": "markdown",
   "metadata": {},
   "source": [
    "Научились завершать нашу программу, отлично :)\n",
    "\n",
    "Но не писать же всегда странные числа вроде 231?\n",
    "\n",
    "`sudo apt-get install libc6-dev-amd64` - надо установить, чтобы `sys/syscall.h` нашелся."
   ]
  },
  {
   "cell_type": "code",
   "execution_count": 154,
   "metadata": {},
   "outputs": [
    {
     "data": {
      "text/markdown": [
       "Run: `gcc -m64 -masm=intel -nostdlib -O3 example3.c -o example3.exe`"
      ],
      "text/plain": [
       "<IPython.core.display.Markdown object>"
      ]
     },
     "metadata": {},
     "output_type": "display_data"
    },
    {
     "data": {
      "text/markdown": [
       "Run: `./example3.exe ; echo \"Exited with code=$?\"`"
      ],
      "text/plain": [
       "<IPython.core.display.Markdown object>"
      ]
     },
     "metadata": {},
     "output_type": "display_data"
    },
    {
     "name": "stdout",
     "output_type": "stream",
     "text": [
      "Exited with code=0\r\n"
     ]
    }
   ],
   "source": [
    "%%cpp example3.c\n",
    "%run gcc -m64 -masm=intel -nostdlib -O3 example3.c -o example3.exe\n",
    "%run ./example3.exe ; echo \"Exited with code=$?\" \n",
    "\n",
    "// Тут есть макросы с номерами системных вызовов\n",
    "#include <sys/syscall.h>\n",
    "    \n",
    "// Превращение макроса с числовым литералом в строковый литерал\n",
    "#define stringify_impl(x) #x\n",
    "#define stringify(x) stringify_impl(x)\n",
    "\n",
    "    \n",
    "int my_exit(int code);\n",
    "__asm__(R\"(\n",
    "my_exit:\n",
    "    mov rax, )\" stringify(SYS_exit_group) R\"( /* В разрыв строкового литерала ассемблерной вставки вставляется строковый литерал системного вызова */\n",
    "    syscall\n",
    "    /* не нужно возвращаться из функции, на этом программа завершится */\n",
    ")\");\n",
    "    \n",
    "// Именно с этой функции всегда начинается выполнение программы\n",
    "void _start() {\n",
    "    my_exit(0);\n",
    "}"
   ]
  },
  {
   "cell_type": "markdown",
   "metadata": {},
   "source": [
    "Можно так вывернуться, например.\n",
    "\n",
    "Да, все что я пишу на Си, можно писать и просто на ассемблере. И инклюды там так же работают :)"
   ]
  },
  {
   "cell_type": "code",
   "execution_count": 271,
   "metadata": {},
   "outputs": [
    {
     "data": {
      "text/markdown": [
       "\\#\\#\\#\\# `run gcc -E -m64 -masm=intel -nostdlib -O3 example4.S -o /dev/stdout`"
      ],
      "text/plain": [
       "<IPython.core.display.Markdown object>"
      ]
     },
     "metadata": {},
     "output_type": "display_data"
    },
    {
     "data": {
      "text/markdown": [
       "Run: `gcc -m64 -masm=intel -nostdlib -O3 example4.S -o example4.exe`"
      ],
      "text/plain": [
       "<IPython.core.display.Markdown object>"
      ]
     },
     "metadata": {},
     "output_type": "display_data"
    },
    {
     "data": {
      "text/markdown": [
       "Run: `./example4.exe ; echo \"Exited with code=$?\"`"
      ],
      "text/plain": [
       "<IPython.core.display.Markdown object>"
      ]
     },
     "metadata": {},
     "output_type": "display_data"
    },
    {
     "name": "stdout",
     "output_type": "stream",
     "text": [
      "Exited with code=0\r\n"
     ]
    }
   ],
   "source": [
    "%%asm example4.S\n",
    "%//run gcc -E -m64 -masm=intel -nostdlib -O3 example4.S -o /dev/stdout\n",
    "%run gcc -m64 -masm=intel -nostdlib -O3 example4.S -o example4.exe\n",
    "%run ./example4.exe ; echo \"Exited with code=$?\" \n",
    "\n",
    "#include <sys/syscall.h>\n",
    "\n",
    ".intel_syntax noprefix\n",
    ".text\n",
    "\n",
    "my_exit:\n",
    "    mov rax, SYS_exit_group\n",
    "    syscall\n",
    " \n",
    ".globl _start\n",
    "_start:\n",
    "    mov rdi, 0\n",
    "    call my_exit"
   ]
  },
  {
   "cell_type": "markdown",
   "metadata": {},
   "source": [
    "Давайте напишем что-нибудь более сложное:\n",
    "\n",
    "\n",
    "https://stackoverflow.com/questions/2535989/what-are-the-calling-conventions-for-unix-linux-system-calls-and-user-space-f"
   ]
  },
  {
   "cell_type": "code",
   "execution_count": 275,
   "metadata": {},
   "outputs": [
    {
     "data": {
      "text/markdown": [
       "Run: `gcc -g -m64 -masm=intel -nostdlib -O3 minimal.c -o minimal.exe`"
      ],
      "text/plain": [
       "<IPython.core.display.Markdown object>"
      ]
     },
     "metadata": {},
     "output_type": "display_data"
    },
    {
     "data": {
      "text/markdown": [
       "Run: `gcc -m64 -masm=intel -nostdlib -fno-asynchronous-unwind-tables -O3 minimal.c -S -o minimal.S`"
      ],
      "text/plain": [
       "<IPython.core.display.Markdown object>"
      ]
     },
     "metadata": {},
     "output_type": "display_data"
    },
    {
     "data": {
      "text/markdown": [
       "Run: `ls -la minimal.exe  # Заметьте, что размер стал очень маленьким :)`"
      ],
      "text/plain": [
       "<IPython.core.display.Markdown object>"
      ]
     },
     "metadata": {},
     "output_type": "display_data"
    },
    {
     "name": "stdout",
     "output_type": "stream",
     "text": [
      "-rwxrwxr-x 1 pechatnov pechatnov 22400 окт 29 18:03 minimal.exe\r\n"
     ]
    },
    {
     "data": {
      "text/markdown": [
       "Run: `./minimal.exe ; echo \"Exit code = $?\"`"
      ],
      "text/plain": [
       "<IPython.core.display.Markdown object>"
      ]
     },
     "metadata": {},
     "output_type": "display_data"
    },
    {
     "name": "stdout",
     "output_type": "stream",
     "text": [
      "Hello world from function 'write'!\r\n",
      "Hello world from 'syscall'!\r\n",
      "Look at this value: 10050042\r\n",
      "Look at this value: 123456\r\n",
      "Exit code = 0\r\n"
     ]
    }
   ],
   "source": [
    "%%cpp minimal.c\n",
    "%run gcc -g -m64 -masm=intel -nostdlib -O3 minimal.c -o minimal.exe\n",
    "%run gcc -m64 -masm=intel -nostdlib -fno-asynchronous-unwind-tables -O3 minimal.c -S -o minimal.S\n",
    "%run ls -la minimal.exe  # Заметьте, что размер стал очень маленьким :)\n",
    "//%run ldd minimal.exe\n",
    "\n",
    "//%run cat minimal.S\n",
    "//%run objdump -d minimal.exe\n",
    "\n",
    "%run ./minimal.exe ; echo \"Exit code = $?\" \n",
    "\n",
    "#include <sys/syscall.h>\n",
    "\n",
    "    \n",
    "// Универсальная функция для совершения системных вызовов (до 5 аргументов системного вызова)\n",
    "int syscall(int code, ...);\n",
    "__asm__(R\"(\n",
    "syscall:\n",
    "    /* Function arguments: rdi, rsi, rdx, rcx, r8, r9 */\n",
    "    /* Syscall arguments: rax (syscall num), rdi, rsi, rdx, r10, r8, r9.*/\n",
    "    mov rax, rdi \n",
    "    mov rdi, rsi \n",
    "    mov rsi, rdx\n",
    "    mov rdx, rcx\n",
    "    mov r10, r8\n",
    "    mov r8, r9\n",
    "    syscall\n",
    "    ret\n",
    ")\");\n",
    "\n",
    "void my_exit(int code) {\n",
    "    syscall(SYS_exit, code);\n",
    "}\n",
    "\n",
    "int write(int fd, const void* data, int size) {\n",
    "    return syscall(SYS_write, fd, data, size);\n",
    "}\n",
    "\n",
    "\n",
    "void int_to_s(unsigned int i, char* s, int* len) {\n",
    "    int clen = 0;\n",
    "    for (int ic = i; ic; ic /= 10, ++clen);\n",
    "    clen = clen ?: 1;\n",
    "    s[clen] = '\\0';\n",
    "    for (int j = 0; j < clen; ++j, i /= 10) {\n",
    "        s[clen - j - 1] = '0' + i % 10;\n",
    "    }\n",
    "    *len = clen;\n",
    "}\n",
    "\n",
    "unsigned int s_to_int(char* s) {\n",
    "    unsigned int res = 0;\n",
    "    while ('0' <= *s && *s <= '9') {\n",
    "        res *= 10;\n",
    "        res += *s - '0';\n",
    "        ++s;\n",
    "    }\n",
    "    return res;\n",
    "}\n",
    "\n",
    "int print_int(int fd, unsigned int i) {\n",
    "    char s[20];\n",
    "    int len;\n",
    "    int_to_s(i, s, &len);\n",
    "    return write(fd, s, len);\n",
    "}\n",
    "\n",
    "int print_s(int fd, const char* s) {\n",
    "    int len = 0;\n",
    "    while (s[len]) ++len;\n",
    "    return write(fd, s, len);\n",
    "}\n",
    "\n",
    "\n",
    "\n",
    "\n",
    "const char hello_s[] = \"Hello world from function 'write'!\\n\";\n",
    "const int hello_s_size = sizeof(hello_s);\n",
    "\n",
    "// Забавно, но перед вызовом функции start стек не был выровнен по 16 :)\n",
    "// Вернее был, но видимо не положили адрес возврата (так как не нужен), а сишный компилятор его ожидает...\n",
    "__asm__(R\"(\n",
    ".globl _start\n",
    "_start:\n",
    "    sub rsp, 8\n",
    "    jmp main\n",
    ")\");\n",
    "\n",
    "\n",
    "void main() {\n",
    "    const char hello_s_2[] = \"Hello world from 'syscall'!\\n\";\n",
    "    write(1, hello_s, sizeof(hello_s) - 1);\n",
    "    syscall(SYS_write, 1, hello_s_2, sizeof(hello_s_2) - 1);\n",
    "    print_s(1, \"Look at this value: \"); print_int(1, 10050042); print_s(1, \"\\n\");\n",
    "    print_s(1, \"Look at this value: \"); print_int(1, s_to_int(\"123456\")); print_s(1, \"\\n\");\n",
    "    \n",
    "    my_exit(0);\n",
    "}\n"
   ]
  },
  {
   "cell_type": "markdown",
   "metadata": {},
   "source": [
    "# <a name=\"brk\"></a> Разбираемся в системным вызовом brk\n",
    "\n",
    "`void *sbrk(intptr_t increment);`"
   ]
  },
  {
   "cell_type": "code",
   "execution_count": 7,
   "metadata": {},
   "outputs": [
    {
     "data": {
      "text/markdown": [
       "Run: `gcc -m64 -masm=intel -nostdlib -O3 minimal.c -o minimal.exe`"
      ],
      "text/plain": [
       "<IPython.core.display.Markdown object>"
      ]
     },
     "metadata": {},
     "output_type": "display_data"
    },
    {
     "data": {
      "text/markdown": [
       "Run: `gcc -m64 -masm=intel -nostdlib -fno-asynchronous-unwind-tables -O3 minimal.c -S -o minimal.S`"
      ],
      "text/plain": [
       "<IPython.core.display.Markdown object>"
      ]
     },
     "metadata": {},
     "output_type": "display_data"
    },
    {
     "data": {
      "text/markdown": [
       "Run: `./minimal.exe ; echo $?`"
      ],
      "text/plain": [
       "<IPython.core.display.Markdown object>"
      ]
     },
     "metadata": {},
     "output_type": "display_data"
    },
    {
     "name": "stdout",
     "output_type": "stream",
     "text": [
      "Data begin: 7261493248\n",
      "Data end: 7661493248\n",
      "100000000\n",
      "0\n"
     ]
    }
   ],
   "source": [
    "%%cpp minimal.c\n",
    "%run gcc -m64 -masm=intel -nostdlib -O3 minimal.c -o minimal.exe\n",
    "%run gcc -m64 -masm=intel -nostdlib -fno-asynchronous-unwind-tables -O3 minimal.c -S -o minimal.S\n",
    "\n",
    "//%run cat minimal.S\n",
    "//%run objdump -d minimal.exe\n",
    "\n",
    "%run ./minimal.exe ; echo $? \n",
    "\n",
    "#include <sys/syscall.h>\n",
    "#include <stdint.h>\n",
    "\n",
    "    \n",
    "// Универсальная функция для совершения системных вызовов (до 5 аргументов системного вызова)\n",
    "int64_t syscall(int64_t code, ...);\n",
    "__asm__(R\"(\n",
    "syscall:\n",
    "    /* Function arguments: rdi, rsi, rdx, rcx, r8, r9 */\n",
    "    /* Syscall arguments: rax (syscall num), rdi, rsi, rdx, r10, r8, r9.*/\n",
    "    mov rax, rdi \n",
    "    mov rdi, rsi \n",
    "    mov rsi, rdx\n",
    "    mov rdx, rcx\n",
    "    mov r10, r8\n",
    "    mov r8, r9\n",
    "    syscall\n",
    "    ret\n",
    ")\");\n",
    "\n",
    "void my_exit(int code) {\n",
    "    syscall(SYS_exit, code);\n",
    "}\n",
    "\n",
    "int64_t write(int fd, const void* data, int64_t size) {\n",
    "    return syscall(SYS_write, fd, data, size);\n",
    "}\n",
    "\n",
    "void int_to_s(uint64_t i, char* s, int* len) {\n",
    "    int clen = 0;\n",
    "    for (int ic = i; ic; ic /= 10, ++clen);\n",
    "    clen = clen ?: 1;\n",
    "    s[clen] = '\\0';\n",
    "    for (int j = 0; j < clen; ++j, i /= 10) {\n",
    "        s[clen - j - 1] = '0' + i % 10;\n",
    "    }\n",
    "    *len = clen;\n",
    "}\n",
    "\n",
    "unsigned int s_to_int(char* s) {\n",
    "    unsigned int res = 0;\n",
    "    while ('0' <= *s && *s <= '9') {\n",
    "        res *= 10;\n",
    "        res += *s - '0';\n",
    "        ++s;\n",
    "    }\n",
    "    return res;\n",
    "}\n",
    "\n",
    "int print_int(int fd, int64_t i) {\n",
    "    char s[40];\n",
    "    int len;\n",
    "    int_to_s(i, s, &len);\n",
    "    return syscall(SYS_write, fd, s, len);\n",
    "}\n",
    "\n",
    "int print_s(int fd, const char* s) {\n",
    "    int len = 0;\n",
    "    while (s[len]) ++len;\n",
    "    return syscall(SYS_write, fd, s, len);\n",
    "}\n",
    "\n",
    "\n",
    "const char hello_s[] = \"Hello world from function 'write'!\\n\";\n",
    "const int hello_s_size = sizeof(hello_s);\n",
    "\n",
    "\n",
    "// Именно с этой функции всегда начинается выполнение программы\n",
    "void _start() {\n",
    "    const int size = 100 * 1000 * 1000;\n",
    "    int* data_start = (void*)syscall(SYS_brk, 0);\n",
    "    int* data_end = (void*)syscall(SYS_brk, (int*)data_start + size);\n",
    "    \n",
    "    print_s(1, \"Data begin: \"); print_int(1, (int64_t)(void*)data_start); print_s(1, \"\\n\");\n",
    "    print_s(1, \"Data end: \");  print_int(1, (int64_t)(void*)data_end); print_s(1, \"\\n\");\n",
    "    \n",
    "    data_start[0] = 1;\n",
    "    for (int i = 1; i < (data_end - data_start); ++i) {\n",
    "        data_start[i] = data_start[i - 1] + 1;\n",
    "    }\n",
    "    \n",
    "    print_int(1, data_end[-1]); print_s(1, \"\\n\");\n",
    "    \n",
    "    my_exit(0);\n",
    "}\n"
   ]
  },
  {
   "cell_type": "code",
   "execution_count": null,
   "metadata": {},
   "outputs": [],
   "source": []
  },
  {
   "cell_type": "code",
   "execution_count": null,
   "metadata": {},
   "outputs": [],
   "source": []
  },
  {
   "cell_type": "code",
   "execution_count": null,
   "metadata": {},
   "outputs": [],
   "source": []
  },
  {
   "cell_type": "code",
   "execution_count": null,
   "metadata": {},
   "outputs": [],
   "source": []
  },
  {
   "cell_type": "markdown",
   "metadata": {},
   "source": [
    "# <a name=\"addr\"></a> Смотрим на адреса различных переменных. Проверяем, что секции памяти расположены так, как мы ожидаем"
   ]
  },
  {
   "cell_type": "code",
   "execution_count": 4,
   "metadata": {
    "scrolled": false
   },
   "outputs": [
    {
     "data": {
      "text/markdown": [
       "Run: `gcc -m64 -masm=intel -O0 look_at_addresses.c -o look_at_addresses.exe`"
      ],
      "text/plain": [
       "<IPython.core.display.Markdown object>"
      ]
     },
     "metadata": {},
     "output_type": "display_data"
    },
    {
     "data": {
      "text/markdown": [
       "Run: `./look_at_addresses.exe`"
      ],
      "text/plain": [
       "<IPython.core.display.Markdown object>"
      ]
     },
     "metadata": {},
     "output_type": "display_data"
    },
    {
     "data": {
      "text/html": [
       "<pre><code>Func func addr = 0x557f1e7db1a9\n",
       "Func func_s addr = 0x557f1e7db1b9\n",
       "Global var (initialized) addr = 0x557f1e7de010\n",
       "Global var (const initialized) addr = 0x557f1e7dc008\n",
       "Global var (not initialized) addr = 0x557f1e7de030\n",
       "Static &#x27;st&#x27; addr = 0x557f1e7de020\n",
       "Static &#x27;func_static_initialized.a&#x27; addr = 0x557f1e7de01c\n",
       "Static &#x27;func_static_const_initialized.a&#x27; addr = 0x557f1e7dc1c4\n",
       "Static &#x27;func_static_not_initialized.a&#x27; addr = 0x557f1e7de02c\n",
       "Local &#x27;local&#x27; addr = 0x7ffda7f6436c\n",
       "Local &#x27;local2&#x27; addr = 0x7ffda7f64344\n",
       "Heap &#x27;all&#x27; addr = 0x557f1eec72a0</code></pre>"
      ],
      "text/plain": [
       "<IPython.core.display.HTML object>"
      ]
     },
     "metadata": {},
     "output_type": "display_data"
    },
    {
     "data": {
      "text/markdown": [
       "Run: `gcc -S -m64 -masm=intel -Os look_at_addresses.c -o /dev/stdout`"
      ],
      "text/plain": [
       "<IPython.core.display.Markdown object>"
      ]
     },
     "metadata": {},
     "output_type": "display_data"
    },
    {
     "data": {
      "text/html": [
       "<details> <summary> output </summary> <pre><code>\t.file\t&quot;look_at_addresses.c&quot;\n",
       "\t.intel_syntax noprefix\n",
       "\t.text\n",
       "\t.globl\tfunc\n",
       "\t.type\tfunc, @function\n",
       "func:\n",
       ".LFB24:\n",
       "\t.cfi_startproc\n",
       "\tendbr64\n",
       "\tmov\teax, edi\n",
       "\tret\n",
       "\t.cfi_endproc\n",
       ".LFE24:\n",
       "\t.size\tfunc, .-func\n",
       "\t.globl\tfunc_static_initialized\n",
       "\t.type\tfunc_static_initialized, @function\n",
       "func_static_initialized:\n",
       ".LFB25:\n",
       "\t.cfi_startproc\n",
       "\tendbr64\n",
       "\tlea\trax, a.3081[rip]\n",
       "\tret\n",
       "\t.cfi_endproc\n",
       ".LFE25:\n",
       "\t.size\tfunc_static_initialized, .-func_static_initialized\n",
       "\t.globl\tfunc_static_const_initialized\n",
       "\t.type\tfunc_static_const_initialized, @function\n",
       "func_static_const_initialized:\n",
       ".LFB26:\n",
       "\t.cfi_startproc\n",
       "\tendbr64\n",
       "\tlea\trax, a.3084[rip]\n",
       "\tret\n",
       "\t.cfi_endproc\n",
       ".LFE26:\n",
       "\t.size\tfunc_static_const_initialized, .-func_static_const_initialized\n",
       "\t.globl\tfunc_static_not_initialized\n",
       "\t.type\tfunc_static_not_initialized, @function\n",
       "func_static_not_initialized:\n",
       ".LFB27:\n",
       "\t.cfi_startproc\n",
       "\tendbr64\n",
       "\tlea\trax, a.3087[rip]\n",
       "\tret\n",
       "\t.cfi_endproc\n",
       ".LFE27:\n",
       "\t.size\tfunc_static_not_initialized, .-func_static_not_initialized\n",
       "\t.section\t.rodata.str1.1,&quot;aMS&quot;,@progbits,1\n",
       ".LC0:\n",
       "\t.string\t&quot;Local &#x27;local2&#x27; addr = %p\\n&quot;\n",
       "\t.text\n",
       "\t.globl\tmain2\n",
       "\t.type\tmain2, @function\n",
       "main2:\n",
       ".LFB28:\n",
       "\t.cfi_startproc\n",
       "\tendbr64\n",
       "\tsub\trsp, 24\n",
       "\t.cfi_def_cfa_offset 32\n",
       "\tlea\trsi, .LC0[rip]\n",
       "\tmov\tedi, 1\n",
       "\tmov\trax, QWORD PTR fs:40\n",
       "\tmov\tQWORD PTR 8[rsp], rax\n",
       "\txor\teax, eax\n",
       "\tlea\trdx, 4[rsp]\n",
       "\tmov\tDWORD PTR 4[rsp], 5\n",
       "\tcall\t__printf_chk@PLT\n",
       "\tmov\trax, QWORD PTR 8[rsp]\n",
       "\txor\trax, QWORD PTR fs:40\n",
       "\tje\t.L6\n",
       "\tcall\t__stack_chk_fail@PLT\n",
       ".L6:\n",
       "\txor\teax, eax\n",
       "\tadd\trsp, 24\n",
       "\t.cfi_def_cfa_offset 8\n",
       "\tret\n",
       "\t.cfi_endproc\n",
       ".LFE28:\n",
       "\t.size\tmain2, .-main2\n",
       "\t.section\t.rodata.str1.1\n",
       ".LC1:\n",
       "\t.string\t&quot;Func func addr = %p\\n&quot;\n",
       ".LC2:\n",
       "\t.string\t&quot;Func func_s addr = %p\\n&quot;\n",
       ".LC3:\n",
       "\t.string\t&quot;Global var (initialized) addr = %p\\n&quot;\n",
       ".LC4:\n",
       "\t.string\t&quot;Global var (const initialized) addr = %p\\n&quot;\n",
       ".LC5:\n",
       "\t.string\t&quot;Global var (not initialized) addr = %p\\n&quot;\n",
       ".LC6:\n",
       "\t.string\t&quot;Static &#x27;st&#x27; addr = %p\\n&quot;\n",
       ".LC7:\n",
       "\t.string\t&quot;Static &#x27;func_static_initialized.a&#x27; addr = %p\\n&quot;\n",
       ".LC8:\n",
       "\t.string\t&quot;Static &#x27;func_static_const_initialized.a&#x27; addr = %p\\n&quot;\n",
       ".LC9:\n",
       "\t.string\t&quot;Static &#x27;func_static_not_initialized.a&#x27; addr = %p\\n&quot;\n",
       ".LC10:\n",
       "\t.string\t&quot;Local &#x27;local&#x27; addr = %p\\n&quot;\n",
       ".LC11:\n",
       "\t.string\t&quot;Heap &#x27;all&#x27; addr = %p\\n&quot;\n",
       "\t.section\t.text.startup,&quot;ax&quot;,@progbits\n",
       "\t.globl\tmain\n",
       "\t.type\tmain, @function\n",
       "main:\n",
       ".LFB29:\n",
       "\t.cfi_startproc\n",
       "\tendbr64\n",
       "\tpush\trbp\n",
       "\t.cfi_def_cfa_offset 16\n",
       "\t.cfi_offset 6, -16\n",
       "\tmov\tedi, 12\n",
       "\tsub\trsp, 16\n",
       "\t.cfi_def_cfa_offset 32\n",
       "\tmov\trax, QWORD PTR fs:40\n",
       "\tmov\tQWORD PTR 8[rsp], rax\n",
       "\txor\teax, eax\n",
       "\tmov\tDWORD PTR 4[rsp], 1\n",
       "\tcall\tmalloc@PLT\n",
       "\tlea\trdx, func[rip]\n",
       "\tmov\tedi, 1\n",
       "\tlea\trsi, .LC1[rip]\n",
       "\tmov\trbp, rax\n",
       "\txor\teax, eax\n",
       "\tcall\t__printf_chk@PLT\n",
       "\tlea\trdx, func_static_initialized[rip]\n",
       "\tlea\trsi, .LC2[rip]\n",
       "\txor\teax, eax\n",
       "\tmov\tedi, 1\n",
       "\tcall\t__printf_chk@PLT\n",
       "\tlea\trdx, global_initialized[rip]\n",
       "\tlea\trsi, .LC3[rip]\n",
       "\txor\teax, eax\n",
       "\tmov\tedi, 1\n",
       "\tcall\t__printf_chk@PLT\n",
       "\tlea\trdx, global_const_initialized[rip]\n",
       "\tlea\trsi, .LC4[rip]\n",
       "\txor\teax, eax\n",
       "\tmov\tedi, 1\n",
       "\tcall\t__printf_chk@PLT\n",
       "\tlea\trdx, global_not_initialized[rip]\n",
       "\tlea\trsi, .LC5[rip]\n",
       "\txor\teax, eax\n",
       "\tmov\tedi, 1\n",
       "\tcall\t__printf_chk@PLT\n",
       "\tlea\trdx, st.3097[rip]\n",
       "\tlea\trsi, .LC6[rip]\n",
       "\txor\teax, eax\n",
       "\tmov\tedi, 1\n",
       "\tcall\t__printf_chk@PLT\n",
       "\tlea\trdx, a.3081[rip]\n",
       "\tlea\trsi, .LC7[rip]\n",
       "\txor\teax, eax\n",
       "\tmov\tedi, 1\n",
       "\tcall\t__printf_chk@PLT\n",
       "\tlea\trdx, a.3084[rip]\n",
       "\tlea\trsi, .LC8[rip]\n",
       "\txor\teax, eax\n",
       "\tmov\tedi, 1\n",
       "\tcall\t__printf_chk@PLT\n",
       "\tlea\trdx, a.3087[rip]\n",
       "\tlea\trsi, .LC9[rip]\n",
       "\txor\teax, eax\n",
       "\tmov\tedi, 1\n",
       "\tcall\t__printf_chk@PLT\n",
       "\tlea\trdx, 4[rsp]\n",
       "\tlea\trsi, .LC10[rip]\n",
       "\txor\teax, eax\n",
       "\tmov\tedi, 1\n",
       "\tcall\t__printf_chk@PLT\n",
       "\txor\teax, eax\n",
       "\tcall\tmain2\n",
       "\tmov\trdx, rbp\n",
       "\tmov\tedi, 1\n",
       "\txor\teax, eax\n",
       "\tlea\trsi, .LC11[rip]\n",
       "\tcall\t__printf_chk@PLT\n",
       "\tmov\trdi, rbp\n",
       "\tcall\tfree@PLT\n",
       "\tmov\trax, QWORD PTR 8[rsp]\n",
       "\txor\trax, QWORD PTR fs:40\n",
       "\tje\t.L10\n",
       "\tcall\t__stack_chk_fail@PLT\n",
       ".L10:\n",
       "\tadd\trsp, 16\n",
       "\t.cfi_def_cfa_offset 16\n",
       "\txor\teax, eax\n",
       "\tpop\trbp\n",
       "\t.cfi_def_cfa_offset 8\n",
       "\tret\n",
       "\t.cfi_endproc\n",
       ".LFE29:\n",
       "\t.size\tmain, .-main\n",
       "\t.data\n",
       "\t.align 4\n",
       "\t.type\tst.3097, @object\n",
       "\t.size\tst.3097, 4\n",
       "st.3097:\n",
       "\t.long\t2\n",
       "\t.local\ta.3087\n",
       "\t.comm\ta.3087,4,4\n",
       "\t.section\t.rodata\n",
       "\t.align 4\n",
       "\t.type\ta.3084, @object\n",
       "\t.size\ta.3084, 4\n",
       "a.3084:\n",
       "\t.long\t4\n",
       "\t.data\n",
       "\t.align 4\n",
       "\t.type\ta.3081, @object\n",
       "\t.size\ta.3081, 4\n",
       "a.3081:\n",
       "\t.long\t4\n",
       "\t.comm\tglobal_not_initialized,12,8\n",
       "\t.globl\tglobal_const_initialized\n",
       "\t.section\t.rodata\n",
       "\t.align 8\n",
       "\t.type\tglobal_const_initialized, @object\n",
       "\t.size\tglobal_const_initialized, 12\n",
       "global_const_initialized:\n",
       "\t.long\t1\n",
       "\t.long\t2\n",
       "\t.long\t3\n",
       "\t.globl\tglobal_initialized\n",
       "\t.data\n",
       "\t.align 8\n",
       "\t.type\tglobal_initialized, @object\n",
       "\t.size\tglobal_initialized, 12\n",
       "global_initialized:\n",
       "\t.long\t1\n",
       "\t.long\t2\n",
       "\t.long\t3\n",
       "\t.ident\t&quot;GCC: (Ubuntu 9.3.0-17ubuntu1~20.04) 9.3.0&quot;\n",
       "\t.section\t.note.GNU-stack,&quot;&quot;,@progbits\n",
       "\t.section\t.note.gnu.property,&quot;a&quot;\n",
       "\t.align 8\n",
       "\t.long\t 1f - 0f\n",
       "\t.long\t 4f - 1f\n",
       "\t.long\t 5\n",
       "0:\n",
       "\t.string\t &quot;GNU&quot;\n",
       "1:\n",
       "\t.align 8\n",
       "\t.long\t 0xc0000002\n",
       "\t.long\t 3f - 2f\n",
       "2:\n",
       "\t.long\t 0x3\n",
       "3:\n",
       "\t.align 8\n",
       "4:</code></pre></details>"
      ],
      "text/plain": [
       "<IPython.core.display.HTML object>"
      ]
     },
     "metadata": {},
     "output_type": "display_data"
    }
   ],
   "source": [
    "%%cpp look_at_addresses.c --under-spoiler-threshold 30\n",
    "%run gcc -m64 -masm=intel -O0 look_at_addresses.c -o look_at_addresses.exe\n",
    "%run ./look_at_addresses.exe\n",
    "%run gcc -S -m64 -masm=intel -Os look_at_addresses.c -o /dev/stdout\n",
    "\n",
    "#include <stdio.h>\n",
    "#include <stdlib.h>\n",
    "\n",
    "int func(int a) {\n",
    "    return a;\n",
    "}\n",
    "\n",
    "\n",
    "int* func_static_initialized() {\n",
    "    static int a = 4;\n",
    "    return &a;\n",
    "}\n",
    "\n",
    "const int* func_static_const_initialized() {\n",
    "    static const int a = 4;\n",
    "    return &a;\n",
    "}\n",
    "\n",
    "int* func_static_not_initialized() {\n",
    "    static int a;\n",
    "    return &a;\n",
    "}\n",
    "\n",
    "\n",
    "int global_initialized[3] = {1, 2, 3};\n",
    "const int global_const_initialized[3] = {1, 2, 3};\n",
    "int global_not_initialized[3];\n",
    "\n",
    "int main2() {\n",
    "   int local2 = 5;\n",
    "   printf(\"Local 'local2' addr = %p\\n\", &local2); \n",
    "}\n",
    "\n",
    "\n",
    "int main() {\n",
    "    int local = 1;\n",
    "    static int st = 2;\n",
    "    int* all = malloc(12);\n",
    "    \n",
    "    printf(\"Func func addr = %p\\n\", (void*)func);\n",
    "    printf(\"Func func_s addr = %p\\n\", (void*)func_static_initialized);\n",
    "    \n",
    "    printf(\"Global var (initialized) addr = %p\\n\", global_initialized);\n",
    "    printf(\"Global var (const initialized) addr = %p\\n\", global_const_initialized);\n",
    "    printf(\"Global var (not initialized) addr = %p\\n\", global_not_initialized);\n",
    "    \n",
    "    printf(\"Static 'st' addr = %p\\n\", &st);\n",
    "    printf(\"Static 'func_static_initialized.a' addr = %p\\n\", func_static_initialized());\n",
    "    printf(\"Static 'func_static_const_initialized.a' addr = %p\\n\", func_static_const_initialized());\n",
    "    printf(\"Static 'func_static_not_initialized.a' addr = %p\\n\", func_static_not_initialized());\n",
    "    \n",
    "    printf(\"Local 'local' addr = %p\\n\", &local);\n",
    "    main2();\n",
    "    \n",
    "    printf(\"Heap 'all' addr = %p\\n\", all);\n",
    "    free(all);\n",
    "    return 0;\n",
    "}"
   ]
  },
  {
   "cell_type": "markdown",
   "metadata": {},
   "source": []
  },
  {
   "cell_type": "code",
   "execution_count": null,
   "metadata": {},
   "outputs": [],
   "source": []
  },
  {
   "cell_type": "markdown",
   "metadata": {},
   "source": [
    "# <a name=\"syscall\"></a> Комментарии к ДЗ\n",
    "* Делайте выравнивание стека перед первой сишной функцией, если реализуете точку входа _start! Иначе, если оптимизатор заиспользует SSE у вас все разнесет.\n",
    "* На сервере есть sys/syscall.h, как установить его локально в ноутбуке написано. Используйте константы оттуда! \n",
    "* Не надо мешать 231 и SYS_WRITE, это плохо\n",
    "* Синтаксис для ассемблерных вставок по умолчанию AT&T. Но вы можете в начале вставки переключить его на intel, а потом обратно на AT&T. Пример, как это сделать, есть в первом семинаре по ассемблеру x86."
   ]
  },
  {
   "cell_type": "code",
   "execution_count": null,
   "metadata": {},
   "outputs": [],
   "source": []
  },
  {
   "cell_type": "code",
   "execution_count": null,
   "metadata": {},
   "outputs": [],
   "source": []
  }
 ],
 "metadata": {
  "kernelspec": {
   "display_name": "Python 3",
   "language": "python",
   "name": "python3"
  },
  "language_info": {
   "codemirror_mode": {
    "name": "ipython",
    "version": 3
   },
   "file_extension": ".py",
   "mimetype": "text/x-python",
   "name": "python",
   "nbconvert_exporter": "python",
   "pygments_lexer": "ipython3",
   "version": "3.8.5"
  }
 },
 "nbformat": 4,
 "nbformat_minor": 2
}
