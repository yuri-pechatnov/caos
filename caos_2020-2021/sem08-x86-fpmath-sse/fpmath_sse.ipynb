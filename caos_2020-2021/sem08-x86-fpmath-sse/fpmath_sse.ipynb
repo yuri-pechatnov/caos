{
 "cells": [
  {
   "cell_type": "code",
   "execution_count": 1,
   "metadata": {},
   "outputs": [
    {
     "data": {
      "application/javascript": [
       "// setup cpp code highlighting\n",
       "IPython.CodeCell.options_default.highlight_modes[\"text/x-c++src\"] = {'reg':[/^%%cpp/]} ;IPython.CodeCell.options_default.highlight_modes[\"text/x-cmake\"] = {'reg':[/^%%cmake/]} ;"
      ],
      "text/plain": [
       "<IPython.core.display.Javascript object>"
      ]
     },
     "metadata": {},
     "output_type": "display_data"
    },
    {
     "data": {
      "text/html": [
       "<!-- YANDEX_METRICA_BEGIN -->\n",
       "    <script type=\"text/javascript\" >\n",
       "       (function(m,e,t,r,i,k,a){m[i]=m[i]||function(){(m[i].a=m[i].a||[]).push(arguments)};\n",
       "       m[i].l=1*new Date();k=e.createElement(t),a=e.getElementsByTagName(t)[0],k.async=1,k.src=r,a.parentNode.insertBefore(k,a)})\n",
       "       (window, document, \"script\", \"https://mc.yandex.ru/metrika/tag.js\", \"ym\");\n",
       "\n",
       "       ym(59260609, \"init\", {\n",
       "            clickmap:true,\n",
       "            trackLinks:true,\n",
       "            accurateTrackBounce:true\n",
       "       });\n",
       "    </script>\n",
       "    <noscript><div><img src=\"https://mc.yandex.ru/watch/59260609\" style=\"position:absolute; left:-9999px;\" alt=\"\" /></div></noscript>\n",
       "    <!-- YANDEX_METRICA_END -->"
      ],
      "text/plain": [
       "<IPython.core.display.HTML object>"
      ]
     },
     "metadata": {},
     "output_type": "display_data"
    },
    {
     "data": {
      "text/html": [
       "В этот ноутбук встроен код Яндекс Метрики для сбора статистики использований. Если вы не хотите, чтобы по вам собиралась статистика, исправьте: yandex_metrica_allowed = False<!-- MAGICS_SETUP_PRINTING_END -->"
      ],
      "text/plain": [
       "<IPython.core.display.HTML object>"
      ]
     },
     "metadata": {},
     "output_type": "display_data"
    }
   ],
   "source": [
    "# look at tools/set_up_magics.ipynb\n",
    "yandex_metrica_allowed = True ; get_ipython().run_cell('# one_liner_str\\n\\nget_ipython().run_cell_magic(\\'javascript\\', \\'\\', \\n    \\'// setup cpp code highlighting\\\\n\\'\\n    \\'IPython.CodeCell.options_default.highlight_modes[\"text/x-c++src\"] = {\\\\\\'reg\\\\\\':[/^%%cpp/]} ;\\'\\n    \\'IPython.CodeCell.options_default.highlight_modes[\"text/x-cmake\"] = {\\\\\\'reg\\\\\\':[/^%%cmake/]} ;\\'\\n)\\n\\n# creating magics\\nfrom IPython.core.magic import register_cell_magic, register_line_magic\\nfrom IPython.display import display, Markdown, HTML\\nimport argparse\\nfrom subprocess import Popen, PIPE\\nimport random\\nimport sys\\nimport os\\nimport re\\nimport signal\\nimport shutil\\nimport shlex\\nimport glob\\nimport time\\n\\n@register_cell_magic\\ndef save_file(args_str, cell, line_comment_start=\"#\"):\\n    parser = argparse.ArgumentParser()\\n    parser.add_argument(\"fname\")\\n    parser.add_argument(\"--ejudge-style\", action=\"store_true\")\\n    args = parser.parse_args(args_str.split())\\n    \\n    cell = cell if cell[-1] == \\'\\\\n\\' or args.no_eof_newline else cell + \"\\\\n\"\\n    cmds = []\\n    with open(args.fname, \"w\") as f:\\n        f.write(line_comment_start + \" %%cpp \" + args_str + \"\\\\n\")\\n        for line in cell.split(\"\\\\n\"):\\n            line_to_write = (line if not args.ejudge_style else line.rstrip()) + \"\\\\n\"\\n            if line.startswith(\"%\"):\\n                run_prefix = \"%run \"\\n                if line.startswith(run_prefix):\\n                    cmds.append(line[len(run_prefix):].strip())\\n                    f.write(line_comment_start + \" \" + line_to_write)\\n                    continue\\n                comment_prefix = \"%\" + line_comment_start\\n                if line.startswith(comment_prefix):\\n                    cmds.append(\\'#\\' + line[len(comment_prefix):].strip())\\n                    f.write(line_comment_start + \" \" + line_to_write)\\n                    continue\\n                raise Exception(\"Unknown %%save_file subcommand: \\'%s\\'\" % line)\\n            else:\\n                f.write(line_to_write)\\n        f.write(\"\" if not args.ejudge_style else line_comment_start + r\" line without \\\\n\")\\n    for cmd in cmds:\\n        if cmd.startswith(\\'#\\'):\\n            display(Markdown(\"\\\\#\\\\#\\\\#\\\\# `%s`\" % cmd[1:]))\\n        else:\\n            display(Markdown(\"Run: `%s`\" % cmd))\\n            get_ipython().system(cmd)\\n\\n@register_cell_magic\\ndef cpp(fname, cell):\\n    save_file(fname, cell, \"//\")\\n    \\n@register_cell_magic\\ndef cmake(fname, cell):\\n    save_file(fname, cell, \"#\")\\n\\n@register_cell_magic\\ndef asm(fname, cell):\\n    save_file(fname, cell, \"//\")\\n    \\n@register_cell_magic\\ndef makefile(fname, cell):\\n    fname = fname or \"makefile\"\\n    assert fname.endswith(\"makefile\")\\n    save_file(fname, cell.replace(\" \" * 4, \"\\\\t\"))\\n        \\n@register_line_magic\\ndef p(line):\\n    line = line.strip() \\n    if line[0] == \\'#\\':\\n        display(Markdown(line[1:].strip()))\\n    else:\\n        try:\\n            expr, comment = line.split(\" #\")\\n            display(Markdown(\"`{} = {}`  # {}\".format(expr.strip(), eval(expr), comment.strip())))\\n        except:\\n            display(Markdown(\"{} = {}\".format(line, eval(line))))\\n    \\n    \\ndef show_log_file(file, return_html_string=False):\\n    obj = file.replace(\\'.\\', \\'_\\').replace(\\'/\\', \\'_\\') + \"_obj\"\\n    html_string = \\'\\'\\'\\n        <!--MD_BEGIN_FILTER-->\\n        <script type=text/javascript>\\n        var entrance___OBJ__ = 0;\\n        var errors___OBJ__ = 0;\\n        function halt__OBJ__(elem, color)\\n        {\\n            elem.setAttribute(\"style\", \"font-size: 14px; background: \" + color + \"; padding: 10px; border: 3px; border-radius: 5px; color: white; \");                    \\n        }\\n        function refresh__OBJ__()\\n        {\\n            entrance___OBJ__ -= 1;\\n            if (entrance___OBJ__ < 0) {\\n                entrance___OBJ__ = 0;\\n            }\\n            var elem = document.getElementById(\"__OBJ__\");\\n            if (elem) {\\n                var xmlhttp=new XMLHttpRequest();\\n                xmlhttp.onreadystatechange=function()\\n                {\\n                    var elem = document.getElementById(\"__OBJ__\");\\n                    console.log(!!elem, xmlhttp.readyState, xmlhttp.status, entrance___OBJ__);\\n                    if (elem && xmlhttp.readyState==4) {\\n                        if (xmlhttp.status==200)\\n                        {\\n                            errors___OBJ__ = 0;\\n                            if (!entrance___OBJ__) {\\n                                if (elem.innerHTML != xmlhttp.responseText) {\\n                                    elem.innerHTML = xmlhttp.responseText;\\n                                }\\n                                if (elem.innerHTML.includes(\"Process finished.\")) {\\n                                    halt__OBJ__(elem, \"#333333\");\\n                                } else {\\n                                    entrance___OBJ__ += 1;\\n                                    console.log(\"req\");\\n                                    window.setTimeout(\"refresh__OBJ__()\", 300); \\n                                }\\n                            }\\n                            return xmlhttp.responseText;\\n                        } else {\\n                            errors___OBJ__ += 1;\\n                            if (!entrance___OBJ__) {\\n                                if (errors___OBJ__ < 6) {\\n                                    entrance___OBJ__ += 1;\\n                                    console.log(\"req\");\\n                                    window.setTimeout(\"refresh__OBJ__()\", 300); \\n                                } else {\\n                                    halt__OBJ__(elem, \"#994444\");\\n                                }\\n                            }\\n                        }\\n                    }\\n                }\\n                xmlhttp.open(\"GET\", \"__FILE__\", true);\\n                xmlhttp.setRequestHeader(\"Cache-Control\", \"no-cache\");\\n                xmlhttp.send();     \\n            }\\n        }\\n        \\n        if (!entrance___OBJ__) {\\n            entrance___OBJ__ += 1;\\n            refresh__OBJ__(); \\n        }\\n        </script>\\n\\n        <p id=\"__OBJ__\" style=\"font-size: 14px; background: #000000; padding: 10px; border: 3px; border-radius: 5px; color: white; \">\\n        </p>\\n        \\n        </font>\\n        <!--MD_END_FILTER-->\\n        <!--MD_FROM_FILE __FILE__.md -->\\n        \\'\\'\\'.replace(\"__OBJ__\", obj).replace(\"__FILE__\", file)\\n    if return_html_string:\\n        return html_string\\n    display(HTML(html_string))\\n\\n    \\nclass TInteractiveLauncher:\\n    tmp_path = \"./interactive_launcher_tmp\"\\n    def __init__(self, cmd):\\n        try:\\n            os.mkdir(TInteractiveLauncher.tmp_path)\\n        except:\\n            pass\\n        name = str(random.randint(0, 1e18))\\n        self.inq_path = os.path.join(TInteractiveLauncher.tmp_path, name + \".inq\")\\n        self.log_path = os.path.join(TInteractiveLauncher.tmp_path, name + \".log\")\\n        \\n        os.mkfifo(self.inq_path)\\n        open(self.log_path, \\'w\\').close()\\n        open(self.log_path + \".md\", \\'w\\').close()\\n\\n        self.pid = os.fork()\\n        if self.pid == -1:\\n            print(\"Error\")\\n        if self.pid == 0:\\n            exe_cands = glob.glob(\"../tools/launcher.py\") + glob.glob(\"../../tools/launcher.py\")\\n            assert(len(exe_cands) == 1)\\n            assert(os.execvp(\"python3\", [\"python3\", exe_cands[0], \"-l\", self.log_path, \"-i\", self.inq_path, \"-c\", cmd]) == 0)\\n        self.inq_f = open(self.inq_path, \"w\")\\n        interactive_launcher_opened_set.add(self.pid)\\n        show_log_file(self.log_path)\\n\\n    def write(self, s):\\n        s = s.encode()\\n        assert len(s) == os.write(self.inq_f.fileno(), s)\\n        \\n    def get_pid(self):\\n        n = 100\\n        for i in range(n):\\n            try:\\n                return int(re.findall(r\"PID = (\\\\d+)\", open(self.log_path).readline())[0])\\n            except:\\n                if i + 1 == n:\\n                    raise\\n                time.sleep(0.1)\\n        \\n    def input_queue_path(self):\\n        return self.inq_path\\n        \\n    def wait_stop(self, timeout):\\n        for i in range(int(timeout * 10)):\\n            wpid, status = os.waitpid(self.pid, os.WNOHANG)\\n            if wpid != 0:\\n                return True\\n            time.sleep(0.1)\\n        return False\\n        \\n    def close(self, timeout=3):\\n        self.inq_f.close()\\n        if not self.wait_stop(timeout):\\n            os.kill(self.get_pid(), signal.SIGKILL)\\n            os.waitpid(self.pid, 0)\\n        os.remove(self.inq_path)\\n        # os.remove(self.log_path)\\n        self.inq_path = None\\n        self.log_path = None \\n        interactive_launcher_opened_set.remove(self.pid)\\n        self.pid = None\\n        \\n    @staticmethod\\n    def terminate_all():\\n        if \"interactive_launcher_opened_set\" not in globals():\\n            globals()[\"interactive_launcher_opened_set\"] = set()\\n        global interactive_launcher_opened_set\\n        for pid in interactive_launcher_opened_set:\\n            print(\"Terminate pid=\" + str(pid), file=sys.stderr)\\n            os.kill(pid, signal.SIGKILL)\\n            os.waitpid(pid, 0)\\n        interactive_launcher_opened_set = set()\\n        if os.path.exists(TInteractiveLauncher.tmp_path):\\n            shutil.rmtree(TInteractiveLauncher.tmp_path)\\n    \\nTInteractiveLauncher.terminate_all()\\n   \\nyandex_metrica_allowed = bool(globals().get(\"yandex_metrica_allowed\", False))\\nif yandex_metrica_allowed:\\n    display(HTML(\\'\\'\\'<!-- YANDEX_METRICA_BEGIN -->\\n    <script type=\"text/javascript\" >\\n       (function(m,e,t,r,i,k,a){m[i]=m[i]||function(){(m[i].a=m[i].a||[]).push(arguments)};\\n       m[i].l=1*new Date();k=e.createElement(t),a=e.getElementsByTagName(t)[0],k.async=1,k.src=r,a.parentNode.insertBefore(k,a)})\\n       (window, document, \"script\", \"https://mc.yandex.ru/metrika/tag.js\", \"ym\");\\n\\n       ym(59260609, \"init\", {\\n            clickmap:true,\\n            trackLinks:true,\\n            accurateTrackBounce:true\\n       });\\n    </script>\\n    <noscript><div><img src=\"https://mc.yandex.ru/watch/59260609\" style=\"position:absolute; left:-9999px;\" alt=\"\" /></div></noscript>\\n    <!-- YANDEX_METRICA_END -->\\'\\'\\'))\\n\\ndef make_oneliner():\\n    html_text = \\'(\"В этот ноутбук встроен код Яндекс Метрики для сбора статистики использований. Если вы не хотите, чтобы по вам собиралась статистика, исправьте: yandex_metrica_allowed = False\" if yandex_metrica_allowed else \"\")\\'\\n    html_text += \\' + \"<\"\"!-- MAGICS_SETUP_PRINTING_END -->\"\\'\\n    return \\'\\'.join([\\n        \\'# look at tools/set_up_magics.ipynb\\\\n\\',\\n        \\'yandex_metrica_allowed = True ; get_ipython().run_cell(%s);\\' % repr(one_liner_str),\\n        \\'display(HTML(%s))\\' % html_text,\\n        \\' #\\'\\'MAGICS_SETUP_END\\'\\n    ])\\n       \\n\\n');display(HTML((\"В этот ноутбук встроен код Яндекс Метрики для сбора статистики использований. Если вы не хотите, чтобы по вам собиралась статистика, исправьте: yandex_metrica_allowed = False\" if yandex_metrica_allowed else \"\") + \"<\"\"!-- MAGICS_SETUP_PRINTING_END -->\")) #MAGICS_SETUP_END"
   ]
  },
  {
   "cell_type": "markdown",
   "metadata": {},
   "source": [
    "# Вещественная арифметика на x86 и SSE\n",
    "\n",
    "\n",
    "<p><a href=\"https://www.youtube.com/watch?v=obufMgdWPKI&list=PLjzMm8llUm4AmU6i_hPU0NobgA4VsBowc&index=9\" target=\"_blank\">\n",
    "    <h3>Видеозапись семинара</h3>\n",
    "</a></p>\n",
    "\n",
    "[Ридинг Яковлева](https://github.com/victor-yacovlev/mipt-diht-caos/tree/master/practice/asm/x86_fpmath) \n",
    "\n",
    "\n",
    "Сегодня в программе:\n",
    "* <a href=\"#x87\" style=\"color:#856024\"> Вещественная арифметика на сопроцессоре x87 </a>\n",
    "* <a href=\"#sse\" style=\"color:#856024\"> SSE </a>\n",
    "    * <a href=\"#fp_sse\" style=\"color:#856024\"> Вещественная арифметика на SSE </a>\n",
    "    * <a href=\"#int_sse\" style=\"color:#856024\"> Векторные операции на SSE </a>\n",
    "* <a href=\"#hw\" style=\"color:#856024\"> Полезности для решения задачек </a>\n"
   ]
  },
  {
   "cell_type": "code",
   "execution_count": 70,
   "metadata": {},
   "outputs": [
    {
     "data": {
      "text/markdown": [
       "Run: `chmod +x asm_filter_useless`"
      ],
      "text/plain": [
       "<IPython.core.display.Markdown object>"
      ]
     },
     "metadata": {},
     "output_type": "display_data"
    }
   ],
   "source": [
    "%%save_file asm_filter_useless\n",
    "%run chmod +x asm_filter_useless\n",
    "#!/bin/bash\n",
    "grep -v \"^\\s*\\.\" | grep -v \"^[0-9]\""
   ]
  },
  {
   "cell_type": "markdown",
   "metadata": {},
   "source": [
    "# <a name=\"x87\"></a> Вещественная арифметика на сопроцессоре x87\n",
    "\n",
    "(На самом деле нет, сопроцессор для вещественных операций уже не используется, но инструкции остались с тех времен, когда использовался)"
   ]
  },
  {
   "cell_type": "code",
   "execution_count": 2,
   "metadata": {
    "scrolled": true
   },
   "outputs": [
    {
     "data": {
      "text/markdown": [
       "Run: `gcc -m32 -masm=intel -Os double_mul.c -S -o double_mul.S`"
      ],
      "text/plain": [
       "<IPython.core.display.Markdown object>"
      ]
     },
     "metadata": {},
     "output_type": "display_data"
    },
    {
     "data": {
      "text/markdown": [
       "Run: `cat double_mul.S`"
      ],
      "text/plain": [
       "<IPython.core.display.Markdown object>"
      ]
     },
     "metadata": {},
     "output_type": "display_data"
    },
    {
     "name": "stdout",
     "output_type": "stream",
     "text": [
      "\t.file\t\"double_mul.c\"\r\n",
      "\t.intel_syntax noprefix\r\n",
      "\t.text\r\n",
      "\t.globl\tmul\r\n",
      "\t.type\tmul, @function\r\n",
      "mul:\r\n",
      ".LFB0:\r\n",
      "\t.cfi_startproc\r\n",
      "\tendbr32\r\n",
      "\tcall\t__x86.get_pc_thunk.ax\r\n",
      "\tadd\teax, OFFSET FLAT:_GLOBAL_OFFSET_TABLE_\r\n",
      "\tpush\tebp\r\n",
      "\t.cfi_def_cfa_offset 8\r\n",
      "\t.cfi_offset 5, -8\r\n",
      "\tmov\tebp, esp\r\n",
      "\t.cfi_def_cfa_register 5\r\n",
      "\tfld\tDWORD PTR .LC0@GOTOFF[eax]\r\n",
      "\tfmul\tQWORD PTR 8[ebp]\r\n",
      "\tpop\tebp\r\n",
      "\t.cfi_restore 5\r\n",
      "\t.cfi_def_cfa 4, 4\r\n",
      "\tret\r\n",
      "\t.cfi_endproc\r\n",
      ".LFE0:\r\n",
      "\t.size\tmul, .-mul\r\n",
      "\t.globl\tmul2\r\n",
      "\t.type\tmul2, @function\r\n",
      "mul2:\r\n",
      ".LFB1:\r\n",
      "\t.cfi_startproc\r\n",
      "\tendbr32\r\n",
      "\tpush\tebp\r\n",
      "\t.cfi_def_cfa_offset 8\r\n",
      "\t.cfi_offset 5, -8\r\n",
      "\tmov\tebp, esp\r\n",
      "\t.cfi_def_cfa_register 5\r\n",
      "\tfld\tQWORD PTR 8[ebp]\r\n",
      "\tfmul\tQWORD PTR 16[ebp]\r\n",
      "\tpop\tebp\r\n",
      "\t.cfi_restore 5\r\n",
      "\t.cfi_def_cfa 4, 4\r\n",
      "\tret\r\n",
      "\t.cfi_endproc\r\n",
      ".LFE1:\r\n",
      "\t.size\tmul2, .-mul2\r\n",
      "\t.section\t.rodata.cst4,\"aM\",@progbits,4\r\n",
      "\t.align 4\r\n",
      ".LC0:\r\n",
      "\t.long\t1095761920\r\n",
      "\t.section\t.text.__x86.get_pc_thunk.ax,\"axG\",@progbits,__x86.get_pc_thunk.ax,comdat\r\n",
      "\t.globl\t__x86.get_pc_thunk.ax\r\n",
      "\t.hidden\t__x86.get_pc_thunk.ax\r\n",
      "\t.type\t__x86.get_pc_thunk.ax, @function\r\n",
      "__x86.get_pc_thunk.ax:\r\n",
      ".LFB2:\r\n",
      "\t.cfi_startproc\r\n",
      "\tmov\teax, DWORD PTR [esp]\r\n",
      "\tret\r\n",
      "\t.cfi_endproc\r\n",
      ".LFE2:\r\n",
      "\t.ident\t\"GCC: (Ubuntu 9.3.0-17ubuntu1~20.04) 9.3.0\"\r\n",
      "\t.section\t.note.GNU-stack,\"\",@progbits\r\n",
      "\t.section\t.note.gnu.property,\"a\"\r\n",
      "\t.align 4\r\n",
      "\t.long\t 1f - 0f\r\n",
      "\t.long\t 4f - 1f\r\n",
      "\t.long\t 5\r\n",
      "0:\r\n",
      "\t.string\t \"GNU\"\r\n",
      "1:\r\n",
      "\t.align 4\r\n",
      "\t.long\t 0xc0000002\r\n",
      "\t.long\t 3f - 2f\r\n",
      "2:\r\n",
      "\t.long\t 0x3\r\n",
      "3:\r\n",
      "\t.align 4\r\n",
      "4:\r\n"
     ]
    }
   ],
   "source": [
    "%%cpp double_mul.c\n",
    "%run gcc -m32 -masm=intel -Os double_mul.c -S -o double_mul.S\n",
    "%run cat double_mul.S\n",
    "    \n",
    "double mul(double a) { \n",
    "    return a * 13;\n",
    "}\n",
    "\n",
    "double mul2(double a, double b) { \n",
    "    return a * b;\n",
    "}"
   ]
  },
  {
   "cell_type": "markdown",
   "metadata": {},
   "source": [
    "В отфильтрованном виде выглядит так\n",
    "\n",
    "```\n",
    "\t.intel_syntax noprefix\n",
    "\t.text\n",
    "\t.globl\tmul\n",
    "mul:\n",
    "    fld\tDWORD PTR .LC0\n",
    "\tfmul\tQWORD PTR [esp+4]\n",
    "\tret\n",
    "\n",
    ".globl\tmul2\n",
    "mul2:\n",
    "\tfld\tQWORD PTR [esp+12]\n",
    "\tfmul\tQWORD PTR [esp+4]\n",
    "\tret\n",
    "\n",
    ".align 4\n",
    ".LC0:\n",
    "\t.long\t1095761920\n",
    "```"
   ]
  },
  {
   "cell_type": "code",
   "execution_count": 72,
   "metadata": {},
   "outputs": [],
   "source": [
    "%%asm mul.S\n",
    "    .intel_syntax noprefix\n",
    "    .text\n",
    "    .globl    mul\n",
    "mul:\n",
    "    fld    DWORD PTR .LC0\n",
    "    fmul    QWORD PTR [esp+4]\n",
    "    ret\n",
    "\n",
    ".align 4\n",
    ".LC0:\n",
    "    .long    1095761920"
   ]
  },
  {
   "cell_type": "code",
   "execution_count": 73,
   "metadata": {},
   "outputs": [
    {
     "data": {
      "text/markdown": [
       "Run: `gcc -g3 -m32 -masm=intel mul_test.c mul.S -o mul_test.exe`"
      ],
      "text/plain": [
       "<IPython.core.display.Markdown object>"
      ]
     },
     "metadata": {},
     "output_type": "display_data"
    },
    {
     "data": {
      "text/markdown": [
       "Run: `./mul_test.exe`"
      ],
      "text/plain": [
       "<IPython.core.display.Markdown object>"
      ]
     },
     "metadata": {},
     "output_type": "display_data"
    },
    {
     "name": "stdout",
     "output_type": "stream",
     "text": [
      "mul(2) = 26.000000000\r\n"
     ]
    }
   ],
   "source": [
    "%%cpp mul_test.c\n",
    "%run gcc -g3 -m32 -masm=intel mul_test.c mul.S -o mul_test.exe\n",
    "%run ./mul_test.exe\n",
    "\n",
    "#include <stdio.h>\n",
    "#include <assert.h>\n",
    "\n",
    "double mul(double a);\n",
    "\n",
    "int main() {\n",
    "    printf(\"mul(2) = %0.9lf\\n\", mul(2));\n",
    "    return 0;\n",
    "}"
   ]
  },
  {
   "cell_type": "markdown",
   "metadata": {},
   "source": [
    "### Посчитаем exp(x)\n",
    "\n",
    "Дополнительные команды:\n",
    "\n",
    "* `fxch` - поменять местами два элемента на стеке (st(0) и st(i)).\n",
    "* `fstp` - сохранить из стека в память + снять элемент со стека."
   ]
  },
  {
   "cell_type": "code",
   "execution_count": 74,
   "metadata": {
    "scrolled": true
   },
   "outputs": [
    {
     "data": {
      "text/markdown": [
       "Run: `gcc -m32 -masm=intel -O3 exp.c -S -o exp.S`"
      ],
      "text/plain": [
       "<IPython.core.display.Markdown object>"
      ]
     },
     "metadata": {},
     "output_type": "display_data"
    },
    {
     "data": {
      "text/markdown": [
       "Run: `cat exp.S`"
      ],
      "text/plain": [
       "<IPython.core.display.Markdown object>"
      ]
     },
     "metadata": {},
     "output_type": "display_data"
    },
    {
     "name": "stdout",
     "output_type": "stream",
     "text": [
      "\t.file\t\"exp.c\"\r\n",
      "\t.intel_syntax noprefix\r\n",
      "\t.text\r\n",
      "\t.p2align 4\r\n",
      "\t.globl\tmy_exp\r\n",
      "\t.type\tmy_exp, @function\r\n",
      "my_exp:\r\n",
      ".LFB0:\r\n",
      "\t.cfi_startproc\r\n",
      "\tendbr32\r\n",
      "\tsub\tesp, 12\r\n",
      "\t.cfi_def_cfa_offset 16\r\n",
      "\tmov\teax, 2\r\n",
      "\tfld\tQWORD PTR 16[esp]\r\n",
      "\tfld1\r\n",
      "\tfld\tst(0)\r\n",
      "\tfld\tst(1)\r\n",
      "\tfld\tst(2)\r\n",
      "\tjmp\t.L3\r\n",
      ".L6:\r\n",
      "\tfxch\tst(3)\r\n",
      "\tjmp\t.L3\r\n",
      "\t.p2align 4,,10\r\n",
      "\t.p2align 3\r\n",
      ".L7:\r\n",
      "\tfxch\tst(3)\r\n",
      ".L3:\r\n",
      "\tfld\tst(2)\r\n",
      "\tmov\tDWORD PTR 4[esp], eax\r\n",
      "\tadd\teax, 1\r\n",
      "\tfaddp\tst(2), st\r\n",
      "\tfild\tDWORD PTR 4[esp]\r\n",
      "\tfmulp\tst(1), st\r\n",
      "\tfxch\tst(3)\r\n",
      "\tfmul\tst, st(4)\r\n",
      "\tfld\tst(0)\r\n",
      "\tfdiv\tst, st(4)\r\n",
      "\tfxch\tst(2)\r\n",
      "\tfucomi\tst, st(3)\r\n",
      "\tfstp\tst(3)\r\n",
      "\tjp\t.L6\r\n",
      "\tjne\t.L7\r\n",
      "\tfstp\tst(0)\r\n",
      "\tfstp\tst(0)\r\n",
      "\tfstp\tst(1)\r\n",
      "\tfstp\tst(1)\r\n",
      "\tadd\tesp, 12\r\n",
      "\t.cfi_def_cfa_offset 4\r\n",
      "\tret\r\n",
      "\t.cfi_endproc\r\n",
      ".LFE0:\r\n",
      "\t.size\tmy_exp, .-my_exp\r\n",
      "\t.ident\t\"GCC: (Ubuntu 9.3.0-17ubuntu1~20.04) 9.3.0\"\r\n",
      "\t.section\t.note.GNU-stack,\"\",@progbits\r\n",
      "\t.section\t.note.gnu.property,\"a\"\r\n",
      "\t.align 4\r\n",
      "\t.long\t 1f - 0f\r\n",
      "\t.long\t 4f - 1f\r\n",
      "\t.long\t 5\r\n",
      "0:\r\n",
      "\t.string\t \"GNU\"\r\n",
      "1:\r\n",
      "\t.align 4\r\n",
      "\t.long\t 0xc0000002\r\n",
      "\t.long\t 3f - 2f\r\n",
      "2:\r\n",
      "\t.long\t 0x3\r\n",
      "3:\r\n",
      "\t.align 4\r\n",
      "4:\r\n"
     ]
    }
   ],
   "source": [
    "%%cpp exp.c\n",
    "%run gcc -m32 -masm=intel -O3 exp.c -S -o exp.S\n",
    "%run cat exp.S\n",
    "    \n",
    "double my_exp(double x) { \n",
    "    double xn = 1.0, fac = 1.0, part = 1.0, result = 1.0, old_result = 0.0;\n",
    "    for (int i = 2; result != old_result; ++i) {\n",
    "        old_result = result;\n",
    "        result += part;\n",
    "        fac *= i;\n",
    "        xn *= x;\n",
    "        part = xn / fac;\n",
    "    }\n",
    "    return result;\n",
    "}"
   ]
  },
  {
   "cell_type": "code",
   "execution_count": 75,
   "metadata": {},
   "outputs": [
    {
     "data": {
      "text/markdown": [
       "Run: `gcc -m32 -masm=intel -O3 exp2.S -c -o exp2.o`"
      ],
      "text/plain": [
       "<IPython.core.display.Markdown object>"
      ]
     },
     "metadata": {},
     "output_type": "display_data"
    }
   ],
   "source": [
    "%%asm exp2.S\n",
    "%run gcc -m32 -masm=intel -O3 exp2.S -c -o exp2.o\n",
    "\n",
    "    .intel_syntax noprefix\n",
    "    .text\n",
    "    .globl  my_exp\n",
    "my_exp:\n",
    "    sub     esp, 12\n",
    "    mov     eax, 2\n",
    "    fld     QWORD PTR [esp+16]\n",
    "    fld1\n",
    "    fld1\n",
    "    fld1\n",
    "    fld1\n",
    "    // On stack (0-4): fac=1, part=1, old_result=1, xn=1, x \n",
    ".loop:\n",
    "    mov     DWORD PTR [esp+4], eax\n",
    "    add     eax, 1   \n",
    "    fxch    st(1)             // On stack (0-4): part, fac, old_result, xn, x \n",
    "    fadd    st(0), st(2)      // On stack (0-4): result=part + old_result, fac, old_result, xn, x \n",
    "    fild    DWORD PTR [esp+4] // On stack (0-5): i, result, fac, old_result, xn, x \n",
    "    fmulp   st(2), st(0)      // On stack (0-4): result, fac=fac*i, old_result, xn, x\n",
    "    fxch    st(3)             // On stack (0-4): xn, fac, old_result, result, x\n",
    "    fmul    st(0), st(4)      // On stack (0-4): xn=xn*x, fac, old_result, result, x\n",
    "    fld     st(0)             // On stack (0-5): xn, xn, fac, old_result, result, x\n",
    "    fdiv    st(0), st(2)      // On stack (0-5): npart=xn/fac, xn, fac, old_result, result, x\n",
    "    fxch    st(4)             // On stack (0-5): result, xn, fac, old_result, npart, x\n",
    "    fcomi   st(0), st(3)      // On stack (0-5): result, xn, fac, old_result, npart, x (compare result and old_result)\n",
    "    fstp    st(3)             // On stack (0-4): xn, fac, result, npart, x\n",
    "    je      .finish           // if result == old_result then go to .finish \n",
    "    fxch    st(3)             // On stack (0-4): npart, fac, result, xn, x\n",
    "    fxch    st(1)             // On stack (0-4): fac, npart, result, xn, x\n",
    "    jmp     .loop\n",
    ".finish:\n",
    "    fxch    st(2)             // On stack (0-4): result, npart, fac, xn, x\n",
    "    add     esp, 12\n",
    "    ret\n"
   ]
  },
  {
   "cell_type": "code",
   "execution_count": 76,
   "metadata": {},
   "outputs": [
    {
     "data": {
      "text/markdown": [
       "Run: `gcc -g3 -m32 -masm=intel check_exp.c exp.c -o check_exp.exe`"
      ],
      "text/plain": [
       "<IPython.core.display.Markdown object>"
      ]
     },
     "metadata": {},
     "output_type": "display_data"
    },
    {
     "data": {
      "text/markdown": [
       "Run: `./check_exp.exe`"
      ],
      "text/plain": [
       "<IPython.core.display.Markdown object>"
      ]
     },
     "metadata": {},
     "output_type": "display_data"
    },
    {
     "name": "stdout",
     "output_type": "stream",
     "text": [
      "exp(1) = 2.718281828\r\n"
     ]
    },
    {
     "data": {
      "text/markdown": [
       "Run: `gcc -g3 -m32 -masm=intel check_exp.c exp2.S -o check_exp2.exe`"
      ],
      "text/plain": [
       "<IPython.core.display.Markdown object>"
      ]
     },
     "metadata": {},
     "output_type": "display_data"
    },
    {
     "data": {
      "text/markdown": [
       "Run: `./check_exp2.exe`"
      ],
      "text/plain": [
       "<IPython.core.display.Markdown object>"
      ]
     },
     "metadata": {},
     "output_type": "display_data"
    },
    {
     "name": "stdout",
     "output_type": "stream",
     "text": [
      "exp(1) = 2.718281828\r\n"
     ]
    }
   ],
   "source": [
    "%%cpp check_exp.c\n",
    "%run gcc -g3 -m32 -masm=intel check_exp.c exp.c -o check_exp.exe\n",
    "%run ./check_exp.exe\n",
    "%run gcc -g3 -m32 -masm=intel check_exp.c exp2.S -o check_exp2.exe\n",
    "%run ./check_exp2.exe\n",
    "\n",
    "#include <stdio.h>\n",
    "#include <assert.h>\n",
    "\n",
    "double my_exp(double x);\n",
    "\n",
    "int main() {\n",
    "    printf(\"exp(1) = %0.9lf\\n\", my_exp(1));\n",
    "    return 0;\n",
    "}"
   ]
  },
  {
   "cell_type": "code",
   "execution_count": null,
   "metadata": {},
   "outputs": [],
   "source": []
  },
  {
   "cell_type": "markdown",
   "metadata": {},
   "source": [
    "# <a name=\"sse\"></a> SSE\n",
    "\n",
    "\n",
    "[MMX](https://ru.wikipedia.org/wiki/MMX) (1997) (Multimedia Extensions — мультимедийные расширения) \n",
    "\n",
    "64-битные регистры mm0..mm7 (устарело)\n",
    "\n",
    "[SSE](https://ru.wikipedia.org/wiki/SSE) (1999) (Streaming SIMD Extensions)\n",
    "\n",
    "128-битные регистры xmm0..xmm7 (связи с регистрами MMX нет вроде бы) (количество может быть 16 и 32 на новых процессорах)\n",
    "\n",
    "[AVX](https://ru.wikipedia.org/wiki/AVX) (2008) (Advanced Vector Extensions)\n",
    "\n",
    "256-битные регистры ymm0 — ymm15 (регистры SSE становятся младшими половинками регистров AVX) (количество может быть 32 на новых процессорах)\n",
    "\n",
    "[AVX-512](https://en.wikipedia.org/wiki/AVX-512) (2013) (Advanced Vector Extensions 512 bits)\n",
    "\n",
    "512-битные регистры zmm0-zmm31 (регистры AVX становятся младшими половинками регистров AVX-512)\n",
    "\n",
    "\n",
    "Регистры поддерживают множество различных операций, по разному интерпретирующих содержимое регистров: регистр SSE может быть парой double, 4 float'ами, 8 short'ами и т. д. Над ними можно производить разные операции"
   ]
  },
  {
   "cell_type": "markdown",
   "metadata": {},
   "source": [
    "# <a name=\"fp_sse\"></a> Вещественная арифметика на SSE"
   ]
  },
  {
   "cell_type": "code",
   "execution_count": 43,
   "metadata": {},
   "outputs": [
    {
     "data": {
      "text/markdown": [
       "Run: `gcc -m64 -masm=intel -O3 example.c -S -o example.S # -mavx`"
      ],
      "text/plain": [
       "<IPython.core.display.Markdown object>"
      ]
     },
     "metadata": {},
     "output_type": "display_data"
    },
    {
     "data": {
      "text/markdown": [
       "Run: `cat example.S | ./asm_filter_useless`"
      ],
      "text/plain": [
       "<IPython.core.display.Markdown object>"
      ]
     },
     "metadata": {},
     "output_type": "display_data"
    },
    {
     "name": "stdout",
     "output_type": "stream",
     "text": [
      "add:\r\n",
      "\tendbr64\r\n",
      "\taddsd\txmm0, xmm1\r\n",
      "\tret\r\n",
      "mult:\r\n",
      "\tendbr64\r\n",
      "\tmulsd\txmm0, xmm1\r\n",
      "\tret\r\n",
      "cmp:\r\n",
      "\tendbr64\r\n",
      "\tcomisd\txmm0, QWORD PTR .LC0[rip]\r\n",
      "\tmov\tedx, 0\r\n",
      "\tmov\teax, 42\r\n",
      "\tcmovbe\teax, edx\r\n",
      "\tret\r\n",
      "max:\r\n",
      "\tendbr64\r\n",
      "\tmaxsd\txmm0, xmm1\r\n",
      "\tret\r\n",
      "muldi:\r\n",
      "\tendbr64\r\n",
      "\tmovapd\txmm1, xmm0\r\n",
      "\tpxor\txmm0, xmm0\r\n",
      "\tcvtsi2sd\txmm0, edi\r\n",
      "\tmulsd\txmm0, xmm1\r\n",
      "\tret\r\n"
     ]
    }
   ],
   "source": [
    "%%cpp example.c\n",
    "%run gcc -m64 -masm=intel -O3 example.c -S -o example.S # -mavx\n",
    "%run cat example.S | ./asm_filter_useless\n",
    "\n",
    "#include <stdio.h>\n",
    "\n",
    "double add(double a, double b) {\n",
    "    return a + b;\n",
    "}\n",
    "\n",
    "double mult(double a, double b) {\n",
    "    return a * b;\n",
    "}\n",
    "\n",
    "int cmp(double a) {\n",
    "    return a > 0 ? 42 : 0;\n",
    "}\n",
    "\n",
    "double max(double a, double b) {\n",
    "    return a > b ? a : b;\n",
    "}\n",
    "\n",
    "double muldi(double a, int b) {\n",
    "    return a * b;\n",
    "}\n"
   ]
  },
  {
   "cell_type": "code",
   "execution_count": null,
   "metadata": {},
   "outputs": [],
   "source": []
  },
  {
   "cell_type": "code",
   "execution_count": null,
   "metadata": {},
   "outputs": [],
   "source": []
  },
  {
   "cell_type": "markdown",
   "metadata": {},
   "source": [
    "# <a name=\"int_sse\"></a> Векторные операции на SSE"
   ]
  },
  {
   "cell_type": "code",
   "execution_count": 25,
   "metadata": {
    "scrolled": false
   },
   "outputs": [
    {
     "data": {
      "text/markdown": [
       "Run: `gcc -m64 -masm=intel -msse4 -O3 bitmask.c -S -o bitmask.S # SSE, 64bit`"
      ],
      "text/plain": [
       "<IPython.core.display.Markdown object>"
      ]
     },
     "metadata": {},
     "output_type": "display_data"
    },
    {
     "data": {
      "text/markdown": [
       "Run: `cat bitmask.S | grep -v \"^\\s*\\.\"`"
      ],
      "text/plain": [
       "<IPython.core.display.Markdown object>"
      ]
     },
     "metadata": {},
     "output_type": "display_data"
    },
    {
     "name": "stdout",
     "output_type": "stream",
     "text": [
      "bit_and_0:\r\n",
      "\tendbr64\r\n",
      "\tlea\trax, 15[rdi]\r\n",
      "\tsub\trax, rdx\r\n",
      "\tcmp\trax, 30\r\n",
      "\tjbe\t.L2\r\n",
      "\tlea\trax, 15[rsi]\r\n",
      "\tsub\trax, rdx\r\n",
      "\tcmp\trax, 30\r\n",
      "\tjbe\t.L2\r\n",
      "\tmovdqu\txmm0, XMMWORD PTR [rdi]\r\n",
      "\tmovdqu\txmm1, XMMWORD PTR [rsi]\r\n",
      "\tpand\txmm0, xmm1\r\n",
      "\tmovups\tXMMWORD PTR [rdx], xmm0\r\n",
      "\tret\r\n",
      "\tmov\teax, DWORD PTR [rdi]\r\n",
      "\tand\teax, DWORD PTR [rsi]\r\n",
      "\tmov\tDWORD PTR [rdx], eax\r\n",
      "\tmov\teax, DWORD PTR 4[rdi]\r\n",
      "\tand\teax, DWORD PTR 4[rsi]\r\n",
      "\tmov\tDWORD PTR 4[rdx], eax\r\n",
      "\tmov\teax, DWORD PTR 8[rdi]\r\n",
      "\tand\teax, DWORD PTR 8[rsi]\r\n",
      "\tmov\tDWORD PTR 8[rdx], eax\r\n",
      "\tmov\teax, DWORD PTR 12[rdi]\r\n",
      "\tand\teax, DWORD PTR 12[rsi]\r\n",
      "\tmov\tDWORD PTR 12[rdx], eax\r\n",
      "\tret\r\n",
      "bit_and_1:\r\n",
      "\tendbr64\r\n",
      "\tmovdqu\txmm0, XMMWORD PTR [rsi]\r\n",
      "\tmovdqu\txmm1, XMMWORD PTR [rdi]\r\n",
      "\tpand\txmm0, xmm1\r\n",
      "\tmovups\tXMMWORD PTR [rdx], xmm0\r\n",
      "\tret\r\n",
      "bit_and_2:\r\n",
      "\tendbr64\r\n",
      "\tmovdqa\txmm0, XMMWORD PTR [rsi]\r\n",
      "\tpand\txmm0, XMMWORD PTR [rdi]\r\n",
      "\tmovaps\tXMMWORD PTR [rdx], xmm0\r\n",
      "\tret\r\n",
      "bit_and_intr:\r\n",
      "\tendbr64\r\n",
      "\tmovdqa\txmm0, XMMWORD PTR [rdi]\r\n",
      "\tpand\txmm0, XMMWORD PTR [rsi]\r\n",
      "\tmovaps\tXMMWORD PTR [rdx], xmm0\r\n",
      "\tret\r\n",
      "0:\r\n",
      "1:\r\n",
      "2:\r\n",
      "3:\r\n",
      "4:\r\n"
     ]
    }
   ],
   "source": [
    "%%cpp bitmask.c\n",
    "%run gcc -m64 -masm=intel -msse4 -O3 bitmask.c -S -o bitmask.S # SSE, 64bit\n",
    "%run cat bitmask.S | grep -v \"^\\s*\\.\"\n",
    "\n",
    "#include <xmmintrin.h>\n",
    "    \n",
    "#define N 1\n",
    "   \n",
    "    \n",
    "void bit_and_0(const int* a, const int* b, int* c) {\n",
    "    for (int i = 0; i < 4 * N; ++i) {\n",
    "        c[i] = a[i] & b[i];\n",
    "    }\n",
    "}\n",
    "    \n",
    "void bit_and_1(const int* restrict a, const int* restrict b, int* restrict c) {\n",
    "    for (int i = 0; i < 4 * N; ++i) {\n",
    "        c[i] = a[i] & b[i];\n",
    "    }\n",
    "}\n",
    "\n",
    "void bit_and_2(const int* restrict a_, const int* restrict b_, int* restrict c_) {\n",
    "    const int* a = __builtin_assume_aligned(a_, 16);\n",
    "    const int* b = __builtin_assume_aligned(b_, 16);\n",
    "    int* c = __builtin_assume_aligned(c_, 16);\n",
    "    for (int i = 0; i < 4 * N; ++i) {\n",
    "        c[i] = a[i] & b[i];\n",
    "    }\n",
    "}\n",
    "\n",
    "\n",
    "void bit_and_intr(const int* restrict a, const int* restrict b, int* restrict c) {\n",
    "    for (int i = 0; i < N; i += 1) {\n",
    "        ((__m128i*)c)[i] = _mm_and_si128(((__m128i*)a)[i], ((__m128i*)b)[i]);\n",
    "    }\n",
    "}\n"
   ]
  },
  {
   "cell_type": "markdown",
   "metadata": {},
   "source": [
    "Про movdqa и movaps: https://stackoverflow.com/questions/6678073/difference-between-movdqa-and-movaps-x86-instructions\n",
    "\n",
    "TLDR: одно и то же"
   ]
  },
  {
   "cell_type": "code",
   "execution_count": 38,
   "metadata": {},
   "outputs": [
    {
     "data": {
      "text/markdown": [
       "Run: `gcc -m64 -masm=intel -msse4 -O3 bitmask_test.c bitmask.c -o bitmask_test.exe # SSE, 64bit`"
      ],
      "text/plain": [
       "<IPython.core.display.Markdown object>"
      ]
     },
     "metadata": {},
     "output_type": "display_data"
    },
    {
     "data": {
      "text/markdown": [
       "Run: `./bitmask_test.exe`"
      ],
      "text/plain": [
       "<IPython.core.display.Markdown object>"
      ]
     },
     "metadata": {},
     "output_type": "display_data"
    },
    {
     "name": "stdout",
     "output_type": "stream",
     "text": [
      "0x7fff446c6810 0x7fff446c6820 0x7fff446c67c0 0x7fff446c67d0\r\n",
      "OK\r\n"
     ]
    }
   ],
   "source": [
    "%%cpp bitmask_test.c\n",
    "%run gcc -m64 -masm=intel -msse4 -O3 bitmask_test.c bitmask.c -o bitmask_test.exe # SSE, 64bit\n",
    "%run ./bitmask_test.exe\n",
    " \n",
    "#include <stdio.h>\n",
    "#include <assert.h>\n",
    "#include <xmmintrin.h>\n",
    "    \n",
    "typedef void (*and_func_t)(const int* a_, const int* b_, int* c_);\n",
    "    \n",
    "void bit_and_0(const int* a, const int* b, int* c);   \n",
    "void bit_and_1(const int* restrict a, const int* restrict b, int* restrict c);\n",
    "void bit_and_2(const int* restrict a_, const int* restrict b_, int* restrict c_);\n",
    "void bit_and_intr(const int* restrict a, const int* restrict b, int* restrict c);\n",
    "\n",
    "void bit_and_asm(const int* restrict a, const int* restrict b, int* restrict c);\n",
    "__asm__(R\"(\n",
    "bit_and_asm:\n",
    "    movaps xmm0, XMMWORD PTR [rsi]\n",
    "    pand xmm0, XMMWORD PTR [rdi]\n",
    "    movaps XMMWORD PTR [rdx], xmm0\n",
    "    ret\n",
    ")\");\n",
    "\n",
    "int main() {\n",
    "    char __attribute__((aligned(16))) ac[16] = \"ahjlvbshrvkbv\";\n",
    "    char __attribute__((aligned(16))) bc[16] = \"ahjlascscsdaf\";\n",
    "    and_func_t funcs[] = {bit_and_0, bit_and_1, bit_and_2, bit_and_intr, bit_and_asm};\n",
    "    char __attribute__((aligned(16))) cc[sizeof(funcs) / sizeof(funcs[0])][16];\n",
    "    int M = sizeof(funcs) / sizeof(funcs[0]);\n",
    "    for (int i = 0; i < M; ++i) {\n",
    "        funcs[i]((int*)ac, (int*)bc, (int*)cc[i]);\n",
    "    }\n",
    "    printf(\"%p %p %p %p\\n\", ac, bc, cc[0], cc[1]);\n",
    "    for (int j = 0; j + 1 < M; ++j) {\n",
    "        for (int i = 0; i < 16; ++i) {\n",
    "            assert(cc[j][i] == cc[j + 1][i]);\n",
    "        }\n",
    "    }\n",
    "    printf(\"OK\\n\");\n",
    "    return 0;\n",
    "}"
   ]
  },
  {
   "cell_type": "code",
   "execution_count": null,
   "metadata": {},
   "outputs": [],
   "source": []
  },
  {
   "cell_type": "code",
   "execution_count": 41,
   "metadata": {},
   "outputs": [
    {
     "data": {
      "text/markdown": [
       "Run: `gcc -m64 -masm=intel -O3 example.c -S -o example.S #  -mavx`"
      ],
      "text/plain": [
       "<IPython.core.display.Markdown object>"
      ]
     },
     "metadata": {},
     "output_type": "display_data"
    },
    {
     "data": {
      "text/markdown": [
       "Run: `cat example.S | ./asm_filter_useless`"
      ],
      "text/plain": [
       "<IPython.core.display.Markdown object>"
      ]
     },
     "metadata": {},
     "output_type": "display_data"
    },
    {
     "name": "stdout",
     "output_type": "stream",
     "text": [
      "add_mem_double:\r\n",
      "\tendbr64\r\n",
      "\tmovapd\txmm0, XMMWORD PTR [rdi]\r\n",
      "\taddpd\txmm0, XMMWORD PTR [rsi]\r\n",
      "\tmovaps\tXMMWORD PTR [rdi], xmm0\r\n",
      "\tret\r\n",
      "add_mem_double_intr:\r\n",
      "\tendbr64\r\n",
      "\tmovapd\txmm0, XMMWORD PTR [rdi]\r\n",
      "\taddpd\txmm0, XMMWORD PTR [rsi]\r\n",
      "\tmovaps\tXMMWORD PTR [rdi], xmm0\r\n",
      "\tret\r\n",
      "add_mem_float:\r\n",
      "\tendbr64\r\n",
      "\tmovaps\txmm0, XMMWORD PTR [rdi]\r\n",
      "\taddps\txmm0, XMMWORD PTR [rsi]\r\n",
      "\tmovaps\tXMMWORD PTR [rdi], xmm0\r\n",
      "\tmovaps\txmm0, XMMWORD PTR 16[rdi]\r\n",
      "\taddps\txmm0, XMMWORD PTR 16[rsi]\r\n",
      "\tmovaps\tXMMWORD PTR 16[rdi], xmm0\r\n",
      "\tret\r\n"
     ]
    }
   ],
   "source": [
    "%%cpp example.c\n",
    "%run gcc -m64 -masm=intel -O3 example.c -S -o example.S #  -mavx\n",
    "%run cat example.S | ./asm_filter_useless\n",
    "\n",
    "#include <stdio.h>\n",
    "#include <xmmintrin.h>\n",
    "\n",
    "void add_mem_double(double* restrict a_, double* restrict b_) {\n",
    "    double *a = __builtin_assume_aligned(a_, 16);\n",
    "    double *b = __builtin_assume_aligned(b_, 16);\n",
    "    for (int i = 0; i < 2; ++i)\n",
    "        a[i] += b[i];\n",
    "}\n",
    "\n",
    "void add_mem_double_intr(double* a, double* b) {\n",
    "    *(__m128d*)a = _mm_add_pd(*(__m128d*)a, *(__m128d*)b);\n",
    "}\n",
    "\n",
    "void add_mem_float(float* restrict a_, float* restrict b_) {\n",
    "    float *a = __builtin_assume_aligned(a_, 32);\n",
    "    float *b = __builtin_assume_aligned(b_, 32);\n",
    "    for (int i = 0; i < 8; ++i)\n",
    "        a[i] += b[i];\n",
    "}"
   ]
  },
  {
   "cell_type": "code",
   "execution_count": null,
   "metadata": {},
   "outputs": [],
   "source": []
  },
  {
   "cell_type": "code",
   "execution_count": null,
   "metadata": {},
   "outputs": [],
   "source": []
  },
  {
   "cell_type": "markdown",
   "metadata": {},
   "source": [
    "## <a name=\"hw\"></a> Полезные интринсики для векторных операций с float'ами\n",
    "\n",
    "`_mm_dp_pd`, `_mm_dp_ps`, `_mm_add_epi8`, `_mm_loadu_ps`, `_mm_setzero_ps`, `_mm_mul_ss`, `_mm_add_ps`, `_mm_hadd_ps`, `_mm_cvtss_f32`\n",
    "\n",
    "\n",
    "## Просто полезности\n",
    "\n",
    "`aligned_alloc` - аллокация выровненной памяти https://en.cppreference.com/w/c/memory/aligned_alloc"
   ]
  },
  {
   "cell_type": "code",
   "execution_count": null,
   "metadata": {},
   "outputs": [],
   "source": []
  }
 ],
 "metadata": {
  "kernelspec": {
   "display_name": "Python 3",
   "language": "python",
   "name": "python3"
  },
  "language_info": {
   "codemirror_mode": {
    "name": "ipython",
    "version": 3
   },
   "file_extension": ".py",
   "mimetype": "text/x-python",
   "name": "python",
   "nbconvert_exporter": "python",
   "pygments_lexer": "ipython3",
   "version": "3.8.5"
  }
 },
 "nbformat": 4,
 "nbformat_minor": 2
}
