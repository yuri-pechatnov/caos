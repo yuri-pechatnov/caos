{
 "cells": [
  {
   "cell_type": "code",
   "execution_count": 1,
   "metadata": {
    "scrolled": true
   },
   "outputs": [
    {
     "data": {
      "application/javascript": [
       "// setup cpp code highlighting\n",
       "IPython.CodeCell.options_default.highlight_modes[\"text/x-c++src\"] = {'reg':[/^%%cpp/]} ;"
      ],
      "text/plain": [
       "<IPython.core.display.Javascript object>"
      ]
     },
     "metadata": {},
     "output_type": "display_data"
    },
    {
     "data": {
      "text/html": [
       "<!-- YANDEX_METRICA_BEGIN -->\n",
       "    <script type=\"text/javascript\" >\n",
       "       (function(m,e,t,r,i,k,a){m[i]=m[i]||function(){(m[i].a=m[i].a||[]).push(arguments)};\n",
       "       m[i].l=1*new Date();k=e.createElement(t),a=e.getElementsByTagName(t)[0],k.async=1,k.src=r,a.parentNode.insertBefore(k,a)})\n",
       "       (window, document, \"script\", \"https://mc.yandex.ru/metrika/tag.js\", \"ym\");\n",
       "\n",
       "       ym(59260609, \"init\", {\n",
       "            clickmap:true,\n",
       "            trackLinks:true,\n",
       "            accurateTrackBounce:true\n",
       "       });\n",
       "    </script>\n",
       "    <noscript><div><img src=\"https://mc.yandex.ru/watch/59260609\" style=\"position:absolute; left:-9999px;\" alt=\"\" /></div></noscript>\n",
       "    <!-- YANDEX_METRICA_END -->"
      ],
      "text/plain": [
       "<IPython.core.display.HTML object>"
      ]
     },
     "metadata": {},
     "output_type": "display_data"
    },
    {
     "data": {
      "text/html": [
       "В этот ноутбук встроен код Яндекс Метрики для сбора статистики использований. Если вы не хотите, чтобы по вам собиралась статистика, исправьте: yandex_metrica_allowed = False<!-- MAGICS_SETUP_PRINTING_END -->"
      ],
      "text/plain": [
       "<IPython.core.display.HTML object>"
      ]
     },
     "metadata": {},
     "output_type": "display_data"
    }
   ],
   "source": [
    "# look at tools/set_up_magics.ipynb\n",
    "yandex_metrica_allowed = True ; get_ipython().run_cell('# one_liner_str\\n\\nget_ipython().run_cell_magic(\\'javascript\\', \\'\\', \\'// setup cpp code highlighting\\\\nIPython.CodeCell.options_default.highlight_modes[\"text/x-c++src\"] = {\\\\\\'reg\\\\\\':[/^%%cpp/]} ;\\')\\n\\n# creating magics\\nfrom IPython.core.magic import register_cell_magic, register_line_magic\\nfrom IPython.display import display, Markdown, HTML\\nimport argparse\\nfrom subprocess import Popen, PIPE\\nimport random\\nimport sys\\nimport os\\nimport re\\nimport signal\\nimport shutil\\nimport shlex\\nimport glob\\n\\n@register_cell_magic\\ndef save_file(args_str, cell, line_comment_start=\"#\"):\\n    parser = argparse.ArgumentParser()\\n    parser.add_argument(\"fname\")\\n    parser.add_argument(\"--ejudge-style\", action=\"store_true\")\\n    args = parser.parse_args(args_str.split())\\n    \\n    cell = cell if cell[-1] == \\'\\\\n\\' or args.no_eof_newline else cell + \"\\\\n\"\\n    cmds = []\\n    with open(args.fname, \"w\") as f:\\n        f.write(line_comment_start + \" %%cpp \" + args_str + \"\\\\n\")\\n        for line in cell.split(\"\\\\n\"):\\n            line_to_write = (line if not args.ejudge_style else line.rstrip()) + \"\\\\n\"\\n            if line.startswith(\"%\"):\\n                run_prefix = \"%run \"\\n                if line.startswith(run_prefix):\\n                    cmds.append(line[len(run_prefix):].strip())\\n                    f.write(line_comment_start + \" \" + line_to_write)\\n                    continue\\n                run_prefix = \"%# \"\\n                if line.startswith(run_prefix):\\n                    f.write(line_comment_start + \" \" + line_to_write)\\n                    continue\\n                raise Exception(\"Unknown %%save_file subcommand: \\'%s\\'\" % line)\\n            else:\\n                f.write(line_to_write)\\n        f.write(\"\" if not args.ejudge_style else line_comment_start + r\" line without \\\\n\")\\n    for cmd in cmds:\\n        display(Markdown(\"Run: `%s`\" % cmd))\\n        get_ipython().system(cmd)\\n\\n@register_cell_magic\\ndef cpp(fname, cell):\\n    save_file(fname, cell, \"//\")\\n\\n@register_cell_magic\\ndef asm(fname, cell):\\n    save_file(fname, cell, \"//\")\\n    \\n@register_cell_magic\\ndef makefile(fname, cell):\\n    assert not fname\\n    save_file(\"makefile\", cell.replace(\" \" * 4, \"\\\\t\"))\\n        \\n@register_line_magic\\ndef p(line):\\n    try:\\n        expr, comment = line.split(\" #\")\\n        display(Markdown(\"`{} = {}`  # {}\".format(expr.strip(), eval(expr), comment.strip())))\\n    except:\\n        display(Markdown(\"{} = {}\".format(line, eval(line))))\\n        \\ndef show_file(file, clear_at_begin=True, return_html_string=False):\\n    if clear_at_begin:\\n        get_ipython().system(\"truncate --size 0 \" + file)\\n    obj = file.replace(\\'.\\', \\'_\\').replace(\\'/\\', \\'_\\') + \"_obj\"\\n    html_string = \\'\\'\\'\\n        <!--MD_BEGIN_FILTER-->\\n        <script type=text/javascript>\\n        var entrance___OBJ__ = 0;\\n        var errors___OBJ__ = 0;\\n        function refresh__OBJ__()\\n        {\\n            entrance___OBJ__ -= 1;\\n            var elem = document.getElementById(\"__OBJ__\");\\n            if (elem) {\\n                var xmlhttp=new XMLHttpRequest();\\n                xmlhttp.onreadystatechange=function()\\n                {\\n                    var elem = document.getElementById(\"__OBJ__\");\\n                    console.log(!!elem, xmlhttp.readyState, xmlhttp.status, entrance___OBJ__);\\n                    if (elem && xmlhttp.readyState==4) {\\n                        if (xmlhttp.status==200)\\n                        {\\n                            errors___OBJ__ = 0;\\n                            if (!entrance___OBJ__) {\\n                                elem.innerText = xmlhttp.responseText;\\n                                entrance___OBJ__ += 1;\\n                                console.log(\"req\");\\n                                window.setTimeout(\"refresh__OBJ__()\", 300); \\n                            }\\n                            return xmlhttp.responseText;\\n                        } else {\\n                            errors___OBJ__ += 1;\\n                            if (errors___OBJ__ < 10 && !entrance___OBJ__) {\\n                                entrance___OBJ__ += 1;\\n                                console.log(\"req\");\\n                                window.setTimeout(\"refresh__OBJ__()\", 300); \\n                            }\\n                        }\\n                    }\\n                }\\n                xmlhttp.open(\"GET\", \"__FILE__\", true);\\n                xmlhttp.setRequestHeader(\"Cache-Control\", \"no-cache\");\\n                xmlhttp.send();     \\n            }\\n        }\\n        \\n        if (!entrance___OBJ__) {\\n            entrance___OBJ__ += 1;\\n            refresh__OBJ__(); \\n        }\\n        </script>\\n        \\n        <font color=\"white\"> <tt>\\n        <p id=\"__OBJ__\" style=\"font-size: 16px; border:3px #333333 solid; background: #333333; border-radius: 10px; padding: 10px;  \"></p>\\n        </tt> </font>\\n        <!--MD_END_FILTER-->\\n        <!--MD_FROM_FILE __FILE__ -->\\n        \\'\\'\\'.replace(\"__OBJ__\", obj).replace(\"__FILE__\", file)\\n    if return_html_string:\\n        return html_string\\n    display(HTML(html_string))\\n    \\nBASH_POPEN_TMP_DIR = \"./bash_popen_tmp\"\\n    \\ndef bash_popen_terminate_all():\\n    for p in globals().get(\"bash_popen_list\", []):\\n        print(\"Terminate pid=\" + str(p.pid), file=sys.stderr)\\n        p.terminate()\\n    globals()[\"bash_popen_list\"] = []\\n    if os.path.exists(BASH_POPEN_TMP_DIR):\\n        shutil.rmtree(BASH_POPEN_TMP_DIR)\\n\\nbash_popen_terminate_all()  \\n\\ndef bash_popen(cmd):\\n    if not os.path.exists(BASH_POPEN_TMP_DIR):\\n        os.mkdir(BASH_POPEN_TMP_DIR)\\n    h = os.path.join(BASH_POPEN_TMP_DIR, str(random.randint(0, 1e18)))\\n    stdout_file = h + \".out.html\"\\n    stderr_file = h + \".err.html\"\\n    run_log_file = h + \".fin.html\"\\n    \\n    stdout = open(stdout_file, \"wb\")\\n    stdout = open(stderr_file, \"wb\")\\n    \\n    html = \"\"\"\\n    <table width=\"100%\">\\n    <colgroup>\\n       <col span=\"1\" style=\"width: 70px;\">\\n       <col span=\"1\">\\n    </colgroup>    \\n    <tbody>\\n      <tr> <td><b>STDOUT</b></td> <td> {stdout} </td> </tr>\\n      <tr> <td><b>STDERR</b></td> <td> {stderr} </td> </tr>\\n      <tr> <td><b>RUN LOG</b></td> <td> {run_log} </td> </tr>\\n    </tbody>\\n    </table>\\n    \"\"\".format(\\n        stdout=show_file(stdout_file, return_html_string=True),\\n        stderr=show_file(stderr_file, return_html_string=True),\\n        run_log=show_file(run_log_file, return_html_string=True),\\n    )\\n    \\n    cmd = \"\"\"\\n        bash -c {cmd} &\\n        pid=$!\\n        echo \"Process started! pid=${{pid}}\" > {run_log_file}\\n        wait ${{pid}}\\n        echo \"Process finished! exit_code=$?\" >> {run_log_file}\\n    \"\"\".format(cmd=shlex.quote(cmd), run_log_file=run_log_file)\\n    # print(cmd)\\n    display(HTML(html))\\n    \\n    p = Popen([\"bash\", \"-c\", cmd], stdin=PIPE, stdout=stdout, stderr=stdout)\\n    \\n    bash_popen_list.append(p)\\n    return p\\n\\n\\n@register_line_magic\\ndef bash_async(line):\\n    bash_popen(line)\\n    \\n    \\ndef show_log_file(file, return_html_string=False):\\n    obj = file.replace(\\'.\\', \\'_\\').replace(\\'/\\', \\'_\\') + \"_obj\"\\n    html_string = \\'\\'\\'\\n        <!--MD_BEGIN_FILTER-->\\n        <script type=text/javascript>\\n        var entrance___OBJ__ = 0;\\n        var errors___OBJ__ = 0;\\n        function halt__OBJ__(elem, color)\\n        {\\n            elem.setAttribute(\"style\", \"font-size: 14px; background: \" + color + \"; padding: 10px; border: 3px; border-radius: 5px; color: white; \");                    \\n        }\\n        function refresh__OBJ__()\\n        {\\n            entrance___OBJ__ -= 1;\\n            if (entrance___OBJ__ < 0) {\\n                entrance___OBJ__ = 0;\\n            }\\n            var elem = document.getElementById(\"__OBJ__\");\\n            if (elem) {\\n                var xmlhttp=new XMLHttpRequest();\\n                xmlhttp.onreadystatechange=function()\\n                {\\n                    var elem = document.getElementById(\"__OBJ__\");\\n                    console.log(!!elem, xmlhttp.readyState, xmlhttp.status, entrance___OBJ__);\\n                    if (elem && xmlhttp.readyState==4) {\\n                        if (xmlhttp.status==200)\\n                        {\\n                            errors___OBJ__ = 0;\\n                            if (!entrance___OBJ__) {\\n                                if (elem.innerHTML != xmlhttp.responseText) {\\n                                    elem.innerHTML = xmlhttp.responseText;\\n                                }\\n                                if (elem.innerHTML.includes(\"Process finished.\")) {\\n                                    halt__OBJ__(elem, \"#333333\");\\n                                } else {\\n                                    entrance___OBJ__ += 1;\\n                                    console.log(\"req\");\\n                                    window.setTimeout(\"refresh__OBJ__()\", 300); \\n                                }\\n                            }\\n                            return xmlhttp.responseText;\\n                        } else {\\n                            errors___OBJ__ += 1;\\n                            if (!entrance___OBJ__) {\\n                                if (errors___OBJ__ < 6) {\\n                                    entrance___OBJ__ += 1;\\n                                    console.log(\"req\");\\n                                    window.setTimeout(\"refresh__OBJ__()\", 300); \\n                                } else {\\n                                    halt__OBJ__(elem, \"#994444\");\\n                                }\\n                            }\\n                        }\\n                    }\\n                }\\n                xmlhttp.open(\"GET\", \"__FILE__\", true);\\n                xmlhttp.setRequestHeader(\"Cache-Control\", \"no-cache\");\\n                xmlhttp.send();     \\n            }\\n        }\\n        \\n        if (!entrance___OBJ__) {\\n            entrance___OBJ__ += 1;\\n            refresh__OBJ__(); \\n        }\\n        </script>\\n\\n        <p id=\"__OBJ__\" style=\"font-size: 14px; background: #000000; padding: 10px; border: 3px; border-radius: 5px; color: white; \">\\n        </p>\\n        \\n        </font>\\n        <!--MD_END_FILTER-->\\n        <!--MD_FROM_FILE __FILE__.md -->\\n        \\'\\'\\'.replace(\"__OBJ__\", obj).replace(\"__FILE__\", file)\\n    if return_html_string:\\n        return html_string\\n    display(HTML(html_string))\\n\\n    \\nclass TInteractiveLauncher:\\n    tmp_path = \"./interactive_launcher_tmp\"\\n    def __init__(self, cmd):\\n        try:\\n            os.mkdir(TInteractiveLauncher.tmp_path)\\n        except:\\n            pass\\n        name = str(random.randint(0, 1e18))\\n        self.inq_path = os.path.join(TInteractiveLauncher.tmp_path, name + \".inq\")\\n        self.log_path = os.path.join(TInteractiveLauncher.tmp_path, name + \".log\")\\n        \\n        os.mkfifo(self.inq_path)\\n        open(self.log_path, \\'w\\').close()\\n        open(self.log_path + \".md\", \\'w\\').close()\\n\\n        self.pid = os.fork()\\n        if self.pid == -1:\\n            print(\"Error\")\\n        if self.pid == 0:\\n            exe_cands = glob.glob(\"../tools/launcher.py\") + glob.glob(\"../../tools/launcher.py\")\\n            assert(len(exe_cands) == 1)\\n            assert(os.execvp(\"python3\", [\"python3\", exe_cands[0], \"-l\", self.log_path, \"-i\", self.inq_path, \"-c\", cmd]) == 0)\\n        self.inq_f = open(self.inq_path, \"w\")\\n        interactive_launcher_opened_set.add(self.pid)\\n        show_log_file(self.log_path)\\n\\n    def write(self, s):\\n        s = s.encode()\\n        assert len(s) == os.write(self.inq_f.fileno(), s)\\n        \\n    def get_pid(self):\\n        n = 100\\n        for i in range(n):\\n            try:\\n                return int(re.findall(r\"PID = (\\\\d+)\", open(self.log_path).readline())[0])\\n            except:\\n                if i + 1 == n:\\n                    raise\\n                time.sleep(0.1)\\n        \\n    def input_queue_path(self):\\n        return self.inq_path\\n        \\n    def close(self):\\n        self.inq_f.close()\\n        os.waitpid(self.pid, 0)\\n        os.remove(self.inq_path)\\n        # os.remove(self.log_path)\\n        self.inq_path = None\\n        self.log_path = None \\n        interactive_launcher_opened_set.remove(self.pid)\\n        self.pid = None\\n        \\n    @staticmethod\\n    def terminate_all():\\n        if \"interactive_launcher_opened_set\" not in globals():\\n            globals()[\"interactive_launcher_opened_set\"] = set()\\n        global interactive_launcher_opened_set\\n        for pid in interactive_launcher_opened_set:\\n            print(\"Terminate pid=\" + str(pid), file=sys.stderr)\\n            os.kill(pid, signal.SIGKILL)\\n            os.waitpid(pid, 0)\\n        interactive_launcher_opened_set = set()\\n        if os.path.exists(TInteractiveLauncher.tmp_path):\\n            shutil.rmtree(TInteractiveLauncher.tmp_path)\\n    \\nTInteractiveLauncher.terminate_all()\\n   \\nyandex_metrica_allowed = bool(globals().get(\"yandex_metrica_allowed\", False))\\nif yandex_metrica_allowed:\\n    display(HTML(\\'\\'\\'<!-- YANDEX_METRICA_BEGIN -->\\n    <script type=\"text/javascript\" >\\n       (function(m,e,t,r,i,k,a){m[i]=m[i]||function(){(m[i].a=m[i].a||[]).push(arguments)};\\n       m[i].l=1*new Date();k=e.createElement(t),a=e.getElementsByTagName(t)[0],k.async=1,k.src=r,a.parentNode.insertBefore(k,a)})\\n       (window, document, \"script\", \"https://mc.yandex.ru/metrika/tag.js\", \"ym\");\\n\\n       ym(59260609, \"init\", {\\n            clickmap:true,\\n            trackLinks:true,\\n            accurateTrackBounce:true\\n       });\\n    </script>\\n    <noscript><div><img src=\"https://mc.yandex.ru/watch/59260609\" style=\"position:absolute; left:-9999px;\" alt=\"\" /></div></noscript>\\n    <!-- YANDEX_METRICA_END -->\\'\\'\\'))\\n\\ndef make_oneliner():\\n    html_text = \\'(\"В этот ноутбук встроен код Яндекс Метрики для сбора статистики использований. Если вы не хотите, чтобы по вам собиралась статистика, исправьте: yandex_metrica_allowed = False\" if yandex_metrica_allowed else \"\")\\'\\n    html_text += \\' + \"<\"\"!-- MAGICS_SETUP_PRINTING_END -->\"\\'\\n    return \\'\\'.join([\\n        \\'# look at tools/set_up_magics.ipynb\\\\n\\',\\n        \\'yandex_metrica_allowed = True ; get_ipython().run_cell(%s);\\' % repr(one_liner_str),\\n        \\'display(HTML(%s))\\' % html_text,\\n        \\' #\\'\\'MAGICS_SETUP_END\\'\\n    ])\\n       \\n\\n');display(HTML((\"В этот ноутбук встроен код Яндекс Метрики для сбора статистики использований. Если вы не хотите, чтобы по вам собиралась статистика, исправьте: yandex_metrica_allowed = False\" if yandex_metrica_allowed else \"\") + \"<\"\"!-- MAGICS_SETUP_PRINTING_END -->\")) #MAGICS_SETUP_END"
   ]
  },
  {
   "cell_type": "markdown",
   "metadata": {},
   "source": [
    "# Вступление: Linux, командная строка, Jupyter notebook\n",
    "\n",
    "Возможно кому-то Jupyter notebook покажется лишним в этом ряду, но так случилось, что я буду вести у вас АКОС, а мне он кажется очень удобным инструментом :) И вы в будущем все равно с ним столкнетесь на других курсах.\n",
    "\n",
    "<table width=100%> <tr>\n",
    "    <th width=20%> <b>Видеозапись семинара &rarr; </b> </th>\n",
    "    <th>\n",
    "    <a href=\"https://www.youtube.com/watch?v=E0lg8pzzR7o&list=PLjzMm8llUm4AmU6i_hPU0NobgA4VsBowc\">\n",
    "        <img src=\"video.png\" width=\"320\"  height=\"160\" align=\"left\" alt=\"Видео с семинара\"> \n",
    "    </a>\n",
    "    </th>\n",
    "    <th> </th>\n",
    "</tr> </table>\n",
    "\n",
    "\n",
    "[Ридинг Яковлева](https://github.com/victor-yacovlev/mipt-diht-caos/blob/master/practice/linux_basics/intro.md) **И сейчас, и в будущем: читайте эти ридинги, там много полезной информации. Я стараюсь ее не дублировать, использование моих ноутбуков подразумевает чтение ридингов Яковлева.**\n",
    "\n",
    "\n",
    "Сегодня в программе:\n",
    "* <a href=\"https://github.com/victor-yacovlev/mipt-diht-caos/blob/master/practice/linux_basics/intro.md\" style=\"color:#856024\"> Очень кратко о Linux </a>\n",
    "* <a href=\"#terminal\" style=\"color:#856024\"> Часто используемые команды терминала </a>\n",
    "  * <a href=\"#task1\" style=\"color:#856024\"> Задача 1 </a>\n",
    "  * <a href=\"#task2\" style=\"color:#856024\"> Задача 2 </a>\n",
    "  * <a href=\"#task3\" style=\"color:#856024\"> Задача 3 </a>\n",
    "* <a href=\"#jupyter\" style=\"color:#856024\"> Особенности Jupyter notebok используемые в курсе </a>\n"
   ]
  },
  {
   "cell_type": "markdown",
   "metadata": {},
   "source": [
    "## <a name=\"linux\"></a> Очень кратко о Linux\n",
    "\n",
    "Читайте [ридинг Яковлева](https://github.com/victor-yacovlev/mipt-diht-caos/blob/master/practice/linux_basics/intro.md). Там неплохо написано про линукс и не только.\n",
    "\n",
    "Еще есть [конспект семинара Александра Пономарева](https://github.com/Alexponomarev7/caos_seminars/tree/master/sem1).\n",
    "\n",
    "И куча статей в интернете :)\n",
    "\n",
    "Если вы все это знаете, можете поиграть в [bandit](https://overthewire.org/wargames/bandit/). Сложненько, но интересно"
   ]
  },
  {
   "cell_type": "markdown",
   "metadata": {},
   "source": [
    "## <a name=\"terminal\"></a> Часто используемые команды терминала\n",
    "\n",
    "Первая важная особенность Jupyter notebook: можно запускать консольные команды, добавляя `!` в начало.\n",
    "То есть `!echo Hello` запустит `echo Hello` примерно так же, как это происходило бы в консоли."
   ]
  },
  {
   "cell_type": "markdown",
   "metadata": {},
   "source": [
    "### `cd`, `pwd`, `cp`, `mv`\n",
    "\n",
    "`cd` - команда оболочки `bash`\n",
    "\n",
    "`export PWD=/home` - альтернатива `cd`\n",
    "\n",
    "Почти все остальные часто используемые команды - на самом деле запускаемые программы.\n"
   ]
  },
  {
   "cell_type": "markdown",
   "metadata": {},
   "source": [
    "### `echo`"
   ]
  },
  {
   "cell_type": "code",
   "execution_count": 2,
   "metadata": {},
   "outputs": [
    {
     "name": "stdout",
     "output_type": "stream",
     "text": [
      "Hello\r\n"
     ]
    }
   ],
   "source": [
    "# Вывод строки\n",
    "!echo Hello"
   ]
  },
  {
   "cell_type": "markdown",
   "metadata": {},
   "source": [
    "### `>`, `>>`, `cat`"
   ]
  },
  {
   "cell_type": "code",
   "execution_count": 123,
   "metadata": {},
   "outputs": [
    {
     "name": "stdout",
     "output_type": "stream",
     "text": [
      "Hello2\r\n",
      "Hello3\r\n"
     ]
    }
   ],
   "source": [
    "# Перенаправление вывода в файл\n",
    "!echo \"Hello1\" > file.txt\n",
    "!echo \"Hello2\" > file.txt # Файл перезапишется\n",
    "# Перенаправление вывода в файл (при этом файл дозапишется, а не перезапишется)\n",
    "!echo \"Hello3\" >> file.txt\n",
    "\n",
    "# Вывод файла \n",
    "!cat file.txt"
   ]
  },
  {
   "cell_type": "code",
   "execution_count": 70,
   "metadata": {},
   "outputs": [
    {
     "name": "stdout",
     "output_type": "stream",
     "text": [
      "Hello1\r\n"
     ]
    }
   ],
   "source": [
    "! >file.txt echo \"Hello1\" # И так тоже можно :)\n",
    "!cat file.txt"
   ]
  },
  {
   "cell_type": "markdown",
   "metadata": {},
   "source": [
    "Еще особенность Jupyter notebook: можно делать ячейки \"магическими\", добавляя `%%bash`, `%%python`, `%%time` в начало.\n",
    "\n",
    "Магия `%%bash` запустит ячейку как bash-скрипт. А bash-скрипт это почти то же самое, что последовательность команд в консоли."
   ]
  },
  {
   "cell_type": "code",
   "execution_count": 125,
   "metadata": {},
   "outputs": [
    {
     "name": "stdout",
     "output_type": "stream",
     "text": [
      "+ echo -e 'Hello1\\nHello2'\n",
      "+ cat file.txt\n",
      "Hello1\n",
      "Hello2\n"
     ]
    }
   ],
   "source": [
    "%%bash \n",
    "exec 2>&1 # Настройка bash, чтобы все что пишется в поток ошибок на самом деле писалось в стандартный поток\n",
    "set -x # Настройка bash, чтобы он выводил все исполняемые команды в поток ошибок\n",
    "\n",
    "# -e включает восприятие \\n как перевода строки у команды echo\n",
    "echo -e \"Hello1\\nHello2\" > file.txt\n",
    "cat file.txt"
   ]
  },
  {
   "cell_type": "markdown",
   "metadata": {},
   "source": [
    "### `|`, `<`"
   ]
  },
  {
   "cell_type": "code",
   "execution_count": 68,
   "metadata": {},
   "outputs": [
    {
     "name": "stdout",
     "output_type": "stream",
     "text": [
      "+ echo -e 'Hello1\\nHello2\\nHello10'\n",
      "+ cat file.txt\n",
      "+ grep o1\n",
      "Hello1\n",
      "Hello10\n",
      "+ grep llo2\n",
      "Hello2\n",
      "+ grep llo2\n",
      "Hello2\n"
     ]
    }
   ],
   "source": [
    "%%bash \n",
    "exec 2>&1 ; set -x # Команды можно писать в одну строчку разделяя с помощью ;\n",
    "\n",
    "echo -e \"Hello1\\nHello2\\nHello10\" > file.txt\n",
    "# Можно направлять вывод одной команды на вход другой с помощью |\n",
    "# Команда grep в таком использовании читает все строки из входа, \n",
    "#   и выводит только содержащие подстроку`o1`\n",
    "cat file.txt | grep o1\n",
    "\n",
    "<file.txt grep llo2\n",
    "grep llo2 < file.txt"
   ]
  },
  {
   "cell_type": "code",
   "execution_count": 111,
   "metadata": {},
   "outputs": [
    {
     "name": "stdout",
     "output_type": "stream",
     "text": [
      "Hello world!\n",
      "-----------------\n",
      "Hello \n",
      "-----------------\n",
      "Hello \n",
      "-----------------\n",
      "Hello freedom!\n"
     ]
    },
    {
     "name": "stderr",
     "output_type": "stream",
     "text": [
      "bash: line 7: echBUG1o: command not found\n",
      "bash: line 9: echBUG1o: command not found\n"
     ]
    }
   ],
   "source": [
    "%%bash \n",
    "# Можно объединять команды с помощью &&\n",
    "# Тогда вторая выполнится только, если успешно выполнилась первая (как и в C/C++)\n",
    "echo -n \"Hello \" && echo world!\n",
    "echo -----------------\n",
    "echo -n \"Hello \" || echo world! ; echo\n",
    "echo -----------------\n",
    "echo -n \"Hello \" && echBUG1o -n jail && echo -n freedom! ; echo\n",
    "echo -----------------\n",
    "echo -n \"Hello \" && echBUG1o jail || echo freedom!"
   ]
  },
  {
   "cell_type": "code",
   "execution_count": 16,
   "metadata": {},
   "outputs": [
    {
     "name": "stdout",
     "output_type": "stream",
     "text": [
      "+ touch a.txt\n",
      "+ ls a.txt b.txt file2.txt file.txt\n",
      "a.txt\n",
      "b.txt\n",
      "file2.txt\n",
      "file.txt\n",
      "+ rm a.txt\n",
      "+ echo 'rm success'\n",
      "rm success\n",
      "+ rm a.txt\n",
      "rm: cannot remove 'a.txt': No such file or directory\n",
      "+ echo 'rm fail'\n",
      "rm fail\n"
     ]
    }
   ],
   "source": [
    "%%bash \n",
    "exec 2>&1 ; set -x\n",
    "# Создадим пустой файл\n",
    "touch a.txt\n",
    "# Выведем список файлов в папке\n",
    "ls *.txt\n",
    "# Удалим файл\n",
    "rm a.txt && echo \"rm success\" || echo \"rm fail\"\n",
    "rm a.txt && echo \"rm success\" || echo \"rm fail\""
   ]
  },
  {
   "cell_type": "code",
   "execution_count": 107,
   "metadata": {},
   "outputs": [
    {
     "name": "stdout",
     "output_type": "stream",
     "text": [
      "+ echo -e '1\\n2\\n3\\n4'\n",
      "+ cat a.txt\n",
      "+ head -n 2\n",
      "1\n",
      "2\n",
      "+ cat a.txt\n",
      "+ tail -n 2\n",
      "3\n",
      "4\n",
      "+ cat a.txt\n",
      "+ wc -l\n",
      "4\n"
     ]
    }
   ],
   "source": [
    "%%bash \n",
    "exec 2>&1 ; set -x\n",
    "# Начало, конец файла, количество строк\n",
    "echo -e \"1\\n2\\n3\\n4\" > a.txt\n",
    "cat a.txt | head -n 2\n",
    "cat a.txt | tail -n 2\n",
    "cat a.txt | wc -l"
   ]
  },
  {
   "cell_type": "code",
   "execution_count": null,
   "metadata": {},
   "outputs": [],
   "source": [
    "# Получить документацию по программе легко с помощью команды man\n",
    "!man head | head -n 10"
   ]
  },
  {
   "cell_type": "markdown",
   "metadata": {},
   "source": [
    "А, важный момент, вообще по умолчанию в ячейках Jupyter notebook пишется код на том языке, с ядром которого запущен ноутбук. Сейчас это python3"
   ]
  },
  {
   "cell_type": "code",
   "execution_count": 63,
   "metadata": {},
   "outputs": [],
   "source": [
    "with open(\"b.txt\", \"w\") as f:\n",
    "    for i in range(100):\n",
    "        tup = (str(i), \"div17\" if i % 17 == 0 else \"no17\")\n",
    "        f.write(\"\\t\".join(tup) + \"\\n\")"
   ]
  },
  {
   "cell_type": "markdown",
   "metadata": {},
   "source": [
    "## <a name=\"task1\"></a> Задача 1"
   ]
  },
  {
   "cell_type": "code",
   "execution_count": 69,
   "metadata": {},
   "outputs": [
    {
     "name": "stdout",
     "output_type": "stream",
     "text": [
      "0\tdiv17\n",
      "1\tno17\n",
      "2\tno17\n",
      "3\tno17\n",
      "4\tno17\n"
     ]
    }
   ],
   "source": [
    "%%bash\n",
    "cat b.txt | head -n 5\n",
    "# Выведите все строчки где есть подстрока div17\n",
    "# <your line of code here>"
   ]
  },
  {
   "cell_type": "markdown",
   "metadata": {},
   "source": [
    "## <a name=\"task2\"></a> Задача 2"
   ]
  },
  {
   "cell_type": "code",
   "execution_count": 81,
   "metadata": {},
   "outputs": [],
   "source": [
    "%%bash\n",
    "# Выясните, что выведет следующая команда, не запуская ее.\n",
    "# echo -e \"A\\nB\\nC\\nD\" | grep -v C -n \n",
    "# Используйте только команды man и grep"
   ]
  },
  {
   "cell_type": "code",
   "execution_count": 99,
   "metadata": {},
   "outputs": [
    {
     "name": "stdout",
     "output_type": "stream",
     "text": [
      "              option, this has no effect and a warning is given.\n",
      "\n",
      "       -C NUM, -NUM, --context=NUM\n",
      "              Print NUM lines of output context.  Places a line  containing  a\n",
      "              group separator (--) between contiguous groups of matches.  With\n"
     ]
    }
   ],
   "source": [
    "%%bash\n",
    "# Подсказка\n",
    "man grep | grep -e \"-C\" -C 2"
   ]
  },
  {
   "cell_type": "markdown",
   "metadata": {},
   "source": [
    "## <a name=\"task3\"></a> Задача 3"
   ]
  },
  {
   "cell_type": "code",
   "execution_count": 131,
   "metadata": {},
   "outputs": [
    {
     "name": "stdout",
     "output_type": "stream",
     "text": [
      "line0\n",
      "line1\n",
      "line2\n"
     ]
    }
   ],
   "source": [
    "%%bash\n",
    "\n",
    "# Создадим файл на 100 строк\n",
    "( for i in {0..99} ; do echo line$i ; done ) > a.txt\n",
    "cat a.txt | head -n 3\n",
    "\n",
    "# А теперь напишите последовательность команд, которая заменит вторую строчку с line1 на line100\n",
    "# нельзя использовать replace конструкции, вам достаточно команд, которые были перечислены ранее :)\n",
    "\n",
    "# <your code here>"
   ]
  },
  {
   "cell_type": "markdown",
   "metadata": {},
   "source": [
    "<details> <summary> Способ в лоб (пожалуйста не смотрите, пока не напишете код решения задачки) </summary>\n",
    "  <pre> <code> cat a.txt | python2 -c 'import sys; lines = list(sys.stdin); lines[1] = \"line100\\n\"; print \"\".join(lines)' </code> </pre>\n",
    "</details>"
   ]
  },
  {
   "cell_type": "code",
   "execution_count": null,
   "metadata": {},
   "outputs": [],
   "source": []
  },
  {
   "cell_type": "markdown",
   "metadata": {},
   "source": [
    "### Стандартные потоки ввода (stdin, 0), вывода (stdout, 1), ошибок (stderr, 2)\n",
    "\n",
    "По умолчанию, когда мы запускаем программу, то у нее есть три стандартных потока: \n",
    "* ввода (через него все что мы печатаем в терминале передается программе) \n",
    "* вывода (через него то, что выводит программа (printf, std::cout) попадает в терминал)\n",
    "* ошибок (примерно то же, что и stdout, но по-другому исползуется)"
   ]
  },
  {
   "cell_type": "code",
   "execution_count": 81,
   "metadata": {},
   "outputs": [
    {
     "name": "stdout",
     "output_type": "stream",
     "text": [
      "Hello\n"
     ]
    },
    {
     "name": "stderr",
     "output_type": "stream",
     "text": [
      "rm: cannot remove 'not_existent_file': No such file or directory\n"
     ]
    }
   ],
   "source": [
    "%%bash\n",
    "echo Hello # Успешное завершение в вывод текста в stdout\n",
    "rm not_existent_file # Ошибка, и текст пишется в поток stderr\n",
    "true # Просто успешно завершающаяся команда, чтобы скрипт не завершился ошибкой."
   ]
  },
  {
   "cell_type": "markdown",
   "metadata": {},
   "source": [
    "Потоки ввода можно перенаправлять в файлы:"
   ]
  },
  {
   "cell_type": "code",
   "execution_count": 97,
   "metadata": {},
   "outputs": [
    {
     "name": "stdout",
     "output_type": "stream",
     "text": [
      "stdout: \"Hello\" stderr: \"\"\n",
      "stdout: \"\" stderr: \"rm: cannot remove 'not_existent_file': No such file or directory\"\n",
      "Hello students!\n",
      "\n",
      "Hello stXdents!\n",
      "\n"
     ]
    }
   ],
   "source": [
    "%%bash\n",
    "echo Hello 1> out.txt 2> err.txt \n",
    "echo \"stdout: \\\"`cat out.txt`\\\" stderr: \\\"`cat err.txt`\\\"\" \n",
    "rm not_existent_file 1> out.txt 2> err.txt \n",
    "echo \"stdout: \\\"`cat out.txt`\\\" stderr: \\\"`cat err.txt`\\\"\"\n",
    "\n",
    "echo \"Hello stXdents!\" > file.txt\n",
    "python2 -c \"import sys; print list(sys.stdin)[0].replace('stXdents', 'students')\" 0< file.txt\n",
    "python2 -c \"import os; print os.read(10, 100)\" 10< file.txt # подумайте, что бы это могло быть :)"
   ]
  },
  {
   "cell_type": "markdown",
   "metadata": {},
   "source": [
    "При этом `>` синоним к `>1` (аналогично `>>`). А `0<` то же самое что и `<`."
   ]
  },
  {
   "cell_type": "code",
   "execution_count": null,
   "metadata": {},
   "outputs": [],
   "source": []
  },
  {
   "cell_type": "markdown",
   "metadata": {},
   "source": [
    "### `ps`, `top`, `kill`, `killall`, `pidof` - найти, убить, убить попроще, найти по имени"
   ]
  },
  {
   "cell_type": "code",
   "execution_count": 112,
   "metadata": {
    "scrolled": true
   },
   "outputs": [
    {
     "name": "stdout",
     "output_type": "stream",
     "text": [
      "pechatn+   83544  0.0  2.4 552820 50372 ?        Ssl  06:42   0:06 /usr/bin/python3 -m ipykernel_launcher -f /home/pechatnov/.local/share/jupyter/runtime/kernel-b516c8c2-9d61-4427-b1e7-4093e713084b.json\n",
      "pechatn+   83634  0.0  2.3 550660 47524 ?        Ssl  06:49   0:02 /usr/bin/python3 -m ipykernel_launcher -f /home/pechatnov/.local/share/jupyter/runtime/kernel-ef4f098b-5748-4e02-b2dc-8b169c68baca.json\n",
      "pechatn+   89374  0.1  2.3 551588 48756 ?        Ssl  14:07   0:03 /usr/bin/python3 -m ipykernel_launcher -f /home/pechatnov/.local/share/jupyter/runtime/kernel-b9d9533d-f121-4a84-af61-4a855dd1c410.json\n",
      "pechatn+   89824  0.0  0.0  17668   732 ?        S    14:58   0:00 grep ipyk\n"
     ]
    }
   ],
   "source": [
    "%%bash\n",
    "ps aux | grep ipyk"
   ]
  },
  {
   "cell_type": "code",
   "execution_count": 140,
   "metadata": {},
   "outputs": [
    {
     "data": {
      "text/markdown": [
       "Run: `g++ -O3 -Os bad_program.cpp -o bad_program.exe`"
      ],
      "text/plain": [
       "<IPython.core.display.Markdown object>"
      ]
     },
     "metadata": {},
     "output_type": "display_data"
    }
   ],
   "source": [
    "%%cpp bad_program.cpp\n",
    "%run g++ -O3 -Os bad_program.cpp -o bad_program.exe\n",
    "int main() { while (1) {} }"
   ]
  },
  {
   "cell_type": "markdown",
   "metadata": {},
   "source": [
    "`TInteractiveLauncher` - моя магическая штука для запуска программ в интерактивном режиме из Jupyter notebook"
   ]
  },
  {
   "cell_type": "code",
   "execution_count": 141,
   "metadata": {},
   "outputs": [
    {
     "data": {
      "text/html": [
       "\n",
       "        <!--MD_BEGIN_FILTER-->\n",
       "        <script type=text/javascript>\n",
       "        var entrance___interactive_launcher_tmp_104342371564797143_log_obj = 0;\n",
       "        var errors___interactive_launcher_tmp_104342371564797143_log_obj = 0;\n",
       "        function halt__interactive_launcher_tmp_104342371564797143_log_obj(elem, color)\n",
       "        {\n",
       "            elem.setAttribute(\"style\", \"font-size: 14px; background: \" + color + \"; padding: 10px; border: 3px; border-radius: 5px; color: white; \");                    \n",
       "        }\n",
       "        function refresh__interactive_launcher_tmp_104342371564797143_log_obj()\n",
       "        {\n",
       "            entrance___interactive_launcher_tmp_104342371564797143_log_obj -= 1;\n",
       "            if (entrance___interactive_launcher_tmp_104342371564797143_log_obj < 0) {\n",
       "                entrance___interactive_launcher_tmp_104342371564797143_log_obj = 0;\n",
       "            }\n",
       "            var elem = document.getElementById(\"__interactive_launcher_tmp_104342371564797143_log_obj\");\n",
       "            if (elem) {\n",
       "                var xmlhttp=new XMLHttpRequest();\n",
       "                xmlhttp.onreadystatechange=function()\n",
       "                {\n",
       "                    var elem = document.getElementById(\"__interactive_launcher_tmp_104342371564797143_log_obj\");\n",
       "                    console.log(!!elem, xmlhttp.readyState, xmlhttp.status, entrance___interactive_launcher_tmp_104342371564797143_log_obj);\n",
       "                    if (elem && xmlhttp.readyState==4) {\n",
       "                        if (xmlhttp.status==200)\n",
       "                        {\n",
       "                            errors___interactive_launcher_tmp_104342371564797143_log_obj = 0;\n",
       "                            if (!entrance___interactive_launcher_tmp_104342371564797143_log_obj) {\n",
       "                                if (elem.innerHTML != xmlhttp.responseText) {\n",
       "                                    elem.innerHTML = xmlhttp.responseText;\n",
       "                                }\n",
       "                                if (elem.innerHTML.includes(\"Process finished.\")) {\n",
       "                                    halt__interactive_launcher_tmp_104342371564797143_log_obj(elem, \"#333333\");\n",
       "                                } else {\n",
       "                                    entrance___interactive_launcher_tmp_104342371564797143_log_obj += 1;\n",
       "                                    console.log(\"req\");\n",
       "                                    window.setTimeout(\"refresh__interactive_launcher_tmp_104342371564797143_log_obj()\", 300); \n",
       "                                }\n",
       "                            }\n",
       "                            return xmlhttp.responseText;\n",
       "                        } else {\n",
       "                            errors___interactive_launcher_tmp_104342371564797143_log_obj += 1;\n",
       "                            if (!entrance___interactive_launcher_tmp_104342371564797143_log_obj) {\n",
       "                                if (errors___interactive_launcher_tmp_104342371564797143_log_obj < 6) {\n",
       "                                    entrance___interactive_launcher_tmp_104342371564797143_log_obj += 1;\n",
       "                                    console.log(\"req\");\n",
       "                                    window.setTimeout(\"refresh__interactive_launcher_tmp_104342371564797143_log_obj()\", 300); \n",
       "                                } else {\n",
       "                                    halt__interactive_launcher_tmp_104342371564797143_log_obj(elem, \"#994444\");\n",
       "                                }\n",
       "                            }\n",
       "                        }\n",
       "                    }\n",
       "                }\n",
       "                xmlhttp.open(\"GET\", \"./interactive_launcher_tmp/104342371564797143.log\", true);\n",
       "                xmlhttp.setRequestHeader(\"Cache-Control\", \"no-cache\");\n",
       "                xmlhttp.send();     \n",
       "            }\n",
       "        }\n",
       "        \n",
       "        if (!entrance___interactive_launcher_tmp_104342371564797143_log_obj) {\n",
       "            entrance___interactive_launcher_tmp_104342371564797143_log_obj += 1;\n",
       "            refresh__interactive_launcher_tmp_104342371564797143_log_obj(); \n",
       "        }\n",
       "        </script>\n",
       "\n",
       "        <p id=\"__interactive_launcher_tmp_104342371564797143_log_obj\" style=\"font-size: 14px; background: #000000; padding: 10px; border: 3px; border-radius: 5px; color: white; \">\n",
       "        </p>\n",
       "        \n",
       "        </font>\n",
       "        <!--MD_END_FILTER-->\n",
       "        <!--MD_FROM_FILE ./interactive_launcher_tmp/104342371564797143.log.md -->\n",
       "        "
      ],
      "text/plain": [
       "<IPython.core.display.HTML object>"
      ]
     },
     "metadata": {},
     "output_type": "display_data"
    }
   ],
   "source": [
    "a = TInteractiveLauncher(\"./bad_program.exe\")"
   ]
  },
  {
   "cell_type": "code",
   "execution_count": 126,
   "metadata": {},
   "outputs": [
    {
     "name": "stdout",
     "output_type": "stream",
     "text": [
      "pechatn+   89956  0.3  0.5  28624 11568 ?        S    15:10   0:01 python3 ../tools/launcher.py -l ./interactive_launcher_tmp/38653968711948138.log -i ./interactive_launcher_tmp/38653968711948138.inq -c ./bad_program.exe\r\n",
      "pechatn+   89957 99.8  0.0   2356   516 ?        R    15:10   7:43 ./bad_program.exe\r\n",
      "pechatn+   90003  0.0  0.0   2608   600 pts/2    Ss+  15:17   0:00 /usr/bin/sh -c ps aux | grep bad_prog\r\n",
      "pechatn+   90005  0.0  0.0  17668   664 pts/2    S+   15:17   0:00 grep bad_prog\r\n"
     ]
    }
   ],
   "source": [
    "get_ipython().system(\"ps aux | grep bad_prog\")"
   ]
  },
  {
   "cell_type": "code",
   "execution_count": 139,
   "metadata": {},
   "outputs": [],
   "source": [
    "get_ipython().system(\"kill -9 \" + str(a.get_pid()))\n",
    "a.close()"
   ]
  },
  {
   "cell_type": "code",
   "execution_count": 58,
   "metadata": {},
   "outputs": [
    {
     "data": {
      "text/html": [
       "\n",
       "        <!--MD_BEGIN_FILTER-->\n",
       "        <script type=text/javascript>\n",
       "        var entrance___interactive_launcher_tmp_44638202710957050_log_obj = 0;\n",
       "        var errors___interactive_launcher_tmp_44638202710957050_log_obj = 0;\n",
       "        function halt__interactive_launcher_tmp_44638202710957050_log_obj(elem, color)\n",
       "        {\n",
       "            elem.setAttribute(\"style\", \"font-size: 14px; background: \" + color + \"; padding: 10px; border: 3px; border-radius: 5px; color: white; \");                    \n",
       "        }\n",
       "        function refresh__interactive_launcher_tmp_44638202710957050_log_obj()\n",
       "        {\n",
       "            entrance___interactive_launcher_tmp_44638202710957050_log_obj -= 1;\n",
       "            if (entrance___interactive_launcher_tmp_44638202710957050_log_obj < 0) {\n",
       "                entrance___interactive_launcher_tmp_44638202710957050_log_obj = 0;\n",
       "            }\n",
       "            var elem = document.getElementById(\"__interactive_launcher_tmp_44638202710957050_log_obj\");\n",
       "            if (elem) {\n",
       "                var xmlhttp=new XMLHttpRequest();\n",
       "                xmlhttp.onreadystatechange=function()\n",
       "                {\n",
       "                    var elem = document.getElementById(\"__interactive_launcher_tmp_44638202710957050_log_obj\");\n",
       "                    console.log(!!elem, xmlhttp.readyState, xmlhttp.status, entrance___interactive_launcher_tmp_44638202710957050_log_obj);\n",
       "                    if (elem && xmlhttp.readyState==4) {\n",
       "                        if (xmlhttp.status==200)\n",
       "                        {\n",
       "                            errors___interactive_launcher_tmp_44638202710957050_log_obj = 0;\n",
       "                            if (!entrance___interactive_launcher_tmp_44638202710957050_log_obj) {\n",
       "                                if (elem.innerHTML != xmlhttp.responseText) {\n",
       "                                    elem.innerHTML = xmlhttp.responseText;\n",
       "                                }\n",
       "                                if (elem.innerHTML.includes(\"Process finished.\")) {\n",
       "                                    halt__interactive_launcher_tmp_44638202710957050_log_obj(elem, \"#333333\");\n",
       "                                } else {\n",
       "                                    entrance___interactive_launcher_tmp_44638202710957050_log_obj += 1;\n",
       "                                    console.log(\"req\");\n",
       "                                    window.setTimeout(\"refresh__interactive_launcher_tmp_44638202710957050_log_obj()\", 300); \n",
       "                                }\n",
       "                            }\n",
       "                            return xmlhttp.responseText;\n",
       "                        } else {\n",
       "                            errors___interactive_launcher_tmp_44638202710957050_log_obj += 1;\n",
       "                            if (!entrance___interactive_launcher_tmp_44638202710957050_log_obj) {\n",
       "                                if (errors___interactive_launcher_tmp_44638202710957050_log_obj < 6) {\n",
       "                                    entrance___interactive_launcher_tmp_44638202710957050_log_obj += 1;\n",
       "                                    console.log(\"req\");\n",
       "                                    window.setTimeout(\"refresh__interactive_launcher_tmp_44638202710957050_log_obj()\", 300); \n",
       "                                } else {\n",
       "                                    halt__interactive_launcher_tmp_44638202710957050_log_obj(elem, \"#994444\");\n",
       "                                }\n",
       "                            }\n",
       "                        }\n",
       "                    }\n",
       "                }\n",
       "                xmlhttp.open(\"GET\", \"./interactive_launcher_tmp/44638202710957050.log\", true);\n",
       "                xmlhttp.setRequestHeader(\"Cache-Control\", \"no-cache\");\n",
       "                xmlhttp.send();     \n",
       "            }\n",
       "        }\n",
       "        \n",
       "        if (!entrance___interactive_launcher_tmp_44638202710957050_log_obj) {\n",
       "            entrance___interactive_launcher_tmp_44638202710957050_log_obj += 1;\n",
       "            refresh__interactive_launcher_tmp_44638202710957050_log_obj(); \n",
       "        }\n",
       "        </script>\n",
       "\n",
       "        <p id=\"__interactive_launcher_tmp_44638202710957050_log_obj\" style=\"font-size: 14px; background: #000000; padding: 10px; border: 3px; border-radius: 5px; color: white; \">\n",
       "        </p>\n",
       "        \n",
       "        </font>\n",
       "        <!--MD_END_FILTER-->\n",
       "        <!--MD_FROM_FILE ./interactive_launcher_tmp/44638202710957050.log.md -->\n",
       "        "
      ],
      "text/plain": [
       "<IPython.core.display.HTML object>"
      ]
     },
     "metadata": {},
     "output_type": "display_data"
    },
    {
     "name": "stdout",
     "output_type": "stream",
     "text": [
      "83766\r\n"
     ]
    }
   ],
   "source": [
    "a = TInteractiveLauncher(\"./bad_program.exe\")\n",
    "get_ipython().system(\"pidof bad_program.exe\")\n",
    "get_ipython().system(\"killall -9 bad_program.exe\")\n",
    "a.close()"
   ]
  },
  {
   "cell_type": "code",
   "execution_count": null,
   "metadata": {},
   "outputs": [],
   "source": []
  },
  {
   "cell_type": "code",
   "execution_count": null,
   "metadata": {},
   "outputs": [],
   "source": []
  },
  {
   "cell_type": "code",
   "execution_count": null,
   "metadata": {},
   "outputs": [],
   "source": []
  },
  {
   "cell_type": "code",
   "execution_count": null,
   "metadata": {},
   "outputs": [],
   "source": []
  },
  {
   "cell_type": "markdown",
   "metadata": {},
   "source": [
    "## <a name=\"jupyter\"></a> Особенности Jupyter notebok используемые в курсе"
   ]
  },
  {
   "cell_type": "code",
   "execution_count": 130,
   "metadata": {},
   "outputs": [
    {
     "data": {
      "text/plain": [
       "[119, 1819]"
      ]
     },
     "execution_count": 130,
     "metadata": {},
     "output_type": "execute_result"
    }
   ],
   "source": [
    "# код на питоне\n",
    "[i for i in range(0, 3000, 17) if str(i).endswith(\"19\")] # просто что-то странное"
   ]
  },
  {
   "cell_type": "code",
   "execution_count": 132,
   "metadata": {},
   "outputs": [
    {
     "name": "stdout",
     "output_type": "stream",
     "text": [
      "Bash code\n"
     ]
    }
   ],
   "source": [
    "%%bash\n",
    "echo \"Bash code\""
   ]
  },
  {
   "cell_type": "markdown",
   "metadata": {},
   "source": [
    "Jupyter notebook позволяет определять собственную магию. И в первой ячейке каждого моего ноутбука есть однострочник, который определяет несколько магий:"
   ]
  },
  {
   "cell_type": "code",
   "execution_count": 136,
   "metadata": {},
   "outputs": [
    {
     "data": {
      "text/markdown": [
       "`a + b = 3`  # Sum of a and b"
      ],
      "text/plain": [
       "<IPython.core.display.Markdown object>"
      ]
     },
     "metadata": {},
     "output_type": "display_data"
    },
    {
     "data": {
      "text/markdown": [
       "(a, b) = (1, 2)"
      ],
      "text/plain": [
       "<IPython.core.display.Markdown object>"
      ]
     },
     "metadata": {},
     "output_type": "display_data"
    }
   ],
   "source": [
    "# Просто вывод строки и ее значения как выражения в питоне\n",
    "a = 1; b = 2\n",
    "%p a + b # Sum of a and b\n",
    "%p (a, b)"
   ]
  },
  {
   "cell_type": "code",
   "execution_count": 140,
   "metadata": {},
   "outputs": [
    {
     "data": {
      "text/markdown": [
       "Run: `cat file.txt # Выполняет команды следующие после %run в заголовках ячейки`"
      ],
      "text/plain": [
       "<IPython.core.display.Markdown object>"
      ]
     },
     "metadata": {},
     "output_type": "display_data"
    },
    {
     "name": "stdout",
     "output_type": "stream",
     "text": [
      "# %%cpp file.txt \r\n",
      "# %# Сохраняет ячейку как файл\r\n",
      "# %run cat file.txt # Выполняет команды следующие после %run в заголовках ячейки\r\n",
      "Содержимое файла\r\n",
      "\r\n"
     ]
    }
   ],
   "source": [
    "%%save_file file.txt \n",
    "%# Сохраняет ячейку как файл, комментируя загаловок (А в этой строке просто комментарий)\n",
    "%run cat file.txt # Выполняет команды следующие после %run в заголовках ячейки\n",
    "Содержимое файла"
   ]
  },
  {
   "cell_type": "code",
   "execution_count": 141,
   "metadata": {},
   "outputs": [
    {
     "data": {
      "text/markdown": [
       "Run: `bash a.sh`"
      ],
      "text/plain": [
       "<IPython.core.display.Markdown object>"
      ]
     },
     "metadata": {},
     "output_type": "display_data"
    },
    {
     "name": "stdout",
     "output_type": "stream",
     "text": [
      "123\r\n"
     ]
    }
   ],
   "source": [
    "%%save_file a.sh\n",
    "%run bash a.sh\n",
    "\n",
    "echo 123"
   ]
  },
  {
   "cell_type": "code",
   "execution_count": 152,
   "metadata": {
    "scrolled": true
   },
   "outputs": [
    {
     "data": {
      "text/markdown": [
       "Run: `g++ a.cpp -o a.exe`"
      ],
      "text/plain": [
       "<IPython.core.display.Markdown object>"
      ]
     },
     "metadata": {},
     "output_type": "display_data"
    },
    {
     "data": {
      "text/markdown": [
       "Run: `./a.exe`"
      ],
      "text/plain": [
       "<IPython.core.display.Markdown object>"
      ]
     },
     "metadata": {},
     "output_type": "display_data"
    },
    {
     "name": "stdout",
     "output_type": "stream",
     "text": [
      "Hello world!\r\n"
     ]
    }
   ],
   "source": [
    "%%cpp a.cpp\n",
    "%# По большому счету тот же save_file, но подсвечивает синтаксис C++\n",
    "%run g++ a.cpp -o a.exe\n",
    "%run ./a.exe\n",
    "\n",
    "#include <iostream>\n",
    "\n",
    "int main() {\n",
    "    std::cout << \"Hello world!\" << std::endl;\n",
    "}"
   ]
  },
  {
   "cell_type": "code",
   "execution_count": 144,
   "metadata": {},
   "outputs": [
    {
     "name": "stdout",
     "output_type": "stream",
     "text": [
      "// %%cpp a.cpp\r\n",
      "// %# По большому счету тот же save_file, но подсвечивает синтаксис C++\r\n",
      "// %run g++ a.cpp -o a.exe\r\n",
      "// %run ./a.exe\r\n",
      "\r\n",
      "#include <iostream>\r\n",
      "\r\n",
      "int main() {\r\n",
      "    std::cout << \"Hello world!\" << std::endl;\r\n",
      "}\r\n",
      "\r\n"
     ]
    }
   ],
   "source": [
    "!cat a.cpp"
   ]
  },
  {
   "cell_type": "code",
   "execution_count": null,
   "metadata": {},
   "outputs": [],
   "source": []
  },
  {
   "cell_type": "code",
   "execution_count": 107,
   "metadata": {},
   "outputs": [
    {
     "data": {
      "text/markdown": [
       "Run: `g++ b.cpp -o b.exe`"
      ],
      "text/plain": [
       "<IPython.core.display.Markdown object>"
      ]
     },
     "metadata": {},
     "output_type": "display_data"
    }
   ],
   "source": [
    "%%cpp b.cpp\n",
    "%run g++ b.cpp -o b.exe\n",
    "\n",
    "#include <iostream>\n",
    "\n",
    "int main() {\n",
    "    std::string s;\n",
    "    std::cin >> s;\n",
    "    std::cout << \"STDOUT \" << s << std::endl;\n",
    "    std::cerr << \"STDERR \" << s << std::endl;\n",
    "}"
   ]
  },
  {
   "cell_type": "code",
   "execution_count": 108,
   "metadata": {},
   "outputs": [
    {
     "data": {
      "text/html": [
       "\n",
       "        <!--MD_BEGIN_FILTER-->\n",
       "        <script type=text/javascript>\n",
       "        var entrance___interactive_launcher_tmp_308063480967833729_log_obj = 0;\n",
       "        var errors___interactive_launcher_tmp_308063480967833729_log_obj = 0;\n",
       "        function halt__interactive_launcher_tmp_308063480967833729_log_obj(elem, color)\n",
       "        {\n",
       "            elem.setAttribute(\"style\", \"font-size: 14px; background: \" + color + \"; padding: 10px; border: 3px; border-radius: 5px; color: white; \");                    \n",
       "        }\n",
       "        function refresh__interactive_launcher_tmp_308063480967833729_log_obj()\n",
       "        {\n",
       "            entrance___interactive_launcher_tmp_308063480967833729_log_obj -= 1;\n",
       "            if (entrance___interactive_launcher_tmp_308063480967833729_log_obj < 0) {\n",
       "                entrance___interactive_launcher_tmp_308063480967833729_log_obj = 0;\n",
       "            }\n",
       "            var elem = document.getElementById(\"__interactive_launcher_tmp_308063480967833729_log_obj\");\n",
       "            if (elem) {\n",
       "                var xmlhttp=new XMLHttpRequest();\n",
       "                xmlhttp.onreadystatechange=function()\n",
       "                {\n",
       "                    var elem = document.getElementById(\"__interactive_launcher_tmp_308063480967833729_log_obj\");\n",
       "                    console.log(!!elem, xmlhttp.readyState, xmlhttp.status, entrance___interactive_launcher_tmp_308063480967833729_log_obj);\n",
       "                    if (elem && xmlhttp.readyState==4) {\n",
       "                        if (xmlhttp.status==200)\n",
       "                        {\n",
       "                            errors___interactive_launcher_tmp_308063480967833729_log_obj = 0;\n",
       "                            if (!entrance___interactive_launcher_tmp_308063480967833729_log_obj) {\n",
       "                                if (elem.innerHTML != xmlhttp.responseText) {\n",
       "                                    elem.innerHTML = xmlhttp.responseText;\n",
       "                                }\n",
       "                                if (elem.innerHTML.includes(\"Process finished.\")) {\n",
       "                                    halt__interactive_launcher_tmp_308063480967833729_log_obj(elem, \"#333333\");\n",
       "                                } else {\n",
       "                                    entrance___interactive_launcher_tmp_308063480967833729_log_obj += 1;\n",
       "                                    console.log(\"req\");\n",
       "                                    window.setTimeout(\"refresh__interactive_launcher_tmp_308063480967833729_log_obj()\", 300); \n",
       "                                }\n",
       "                            }\n",
       "                            return xmlhttp.responseText;\n",
       "                        } else {\n",
       "                            errors___interactive_launcher_tmp_308063480967833729_log_obj += 1;\n",
       "                            if (!entrance___interactive_launcher_tmp_308063480967833729_log_obj) {\n",
       "                                if (errors___interactive_launcher_tmp_308063480967833729_log_obj < 6) {\n",
       "                                    entrance___interactive_launcher_tmp_308063480967833729_log_obj += 1;\n",
       "                                    console.log(\"req\");\n",
       "                                    window.setTimeout(\"refresh__interactive_launcher_tmp_308063480967833729_log_obj()\", 300); \n",
       "                                } else {\n",
       "                                    halt__interactive_launcher_tmp_308063480967833729_log_obj(elem, \"#994444\");\n",
       "                                }\n",
       "                            }\n",
       "                        }\n",
       "                    }\n",
       "                }\n",
       "                xmlhttp.open(\"GET\", \"./interactive_launcher_tmp/308063480967833729.log\", true);\n",
       "                xmlhttp.setRequestHeader(\"Cache-Control\", \"no-cache\");\n",
       "                xmlhttp.send();     \n",
       "            }\n",
       "        }\n",
       "        \n",
       "        if (!entrance___interactive_launcher_tmp_308063480967833729_log_obj) {\n",
       "            entrance___interactive_launcher_tmp_308063480967833729_log_obj += 1;\n",
       "            refresh__interactive_launcher_tmp_308063480967833729_log_obj(); \n",
       "        }\n",
       "        </script>\n",
       "\n",
       "        <p id=\"__interactive_launcher_tmp_308063480967833729_log_obj\" style=\"font-size: 14px; background: #000000; padding: 10px; border: 3px; border-radius: 5px; color: white; \">\n",
       "        </p>\n",
       "        \n",
       "        </font>\n",
       "        <!--MD_END_FILTER-->\n",
       "        <!--MD_FROM_FILE ./interactive_launcher_tmp/308063480967833729.log.md -->\n",
       "        "
      ],
      "text/plain": [
       "<IPython.core.display.HTML object>"
      ]
     },
     "metadata": {},
     "output_type": "display_data"
    }
   ],
   "source": [
    "# интерактивная запускалка для программ\n",
    "a = TInteractiveLauncher(\"./b.exe\")"
   ]
  },
  {
   "cell_type": "code",
   "execution_count": 109,
   "metadata": {},
   "outputs": [],
   "source": [
    "a.write(\"Hello\\n\")"
   ]
  },
  {
   "cell_type": "code",
   "execution_count": 110,
   "metadata": {},
   "outputs": [],
   "source": [
    "a.close()"
   ]
  },
  {
   "cell_type": "code",
   "execution_count": null,
   "metadata": {},
   "outputs": [],
   "source": []
  }
 ],
 "metadata": {
  "kernelspec": {
   "display_name": "Python 3",
   "language": "python",
   "name": "python3"
  },
  "language_info": {
   "codemirror_mode": {
    "name": "ipython",
    "version": 3
   },
   "file_extension": ".py",
   "mimetype": "text/x-python",
   "name": "python",
   "nbconvert_exporter": "python",
   "pygments_lexer": "ipython3",
   "version": "3.8.2"
  }
 },
 "nbformat": 4,
 "nbformat_minor": 2
}
