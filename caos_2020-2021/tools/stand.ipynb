{
 "cells": [
  {
   "cell_type": "markdown",
   "metadata": {},
   "source": [
    "```\n",
    "Ubuntu 20.04\n",
    "\n",
    "sudo apt install openssh-server\n",
    "\n",
    "sudo apt update\n",
    "sudo apt upgrade\n",
    "sudo apt install python3-pip python3-dev\n",
    "\n",
    "pip3 install --user jupyter\n",
    "\n",
    "sudo apt install clang\n",
    "\n",
    "\n",
    "jupyter notebook --ip=\"0.0.0.0\" --port 9123 --NotebookApp.token=\"not_so_easy_token\" --no-browser\n",
    "\n",
    "```"
   ]
  },
  {
   "cell_type": "code",
   "execution_count": null,
   "metadata": {},
   "outputs": [],
   "source": []
  }
 ],
 "metadata": {
  "kernelspec": {
   "display_name": "Python 3",
   "language": "python",
   "name": "python3"
  },
  "language_info": {
   "codemirror_mode": {
    "name": "ipython",
    "version": 3
   },
   "file_extension": ".py",
   "mimetype": "text/x-python",
   "name": "python",
   "nbconvert_exporter": "python",
   "pygments_lexer": "ipython3",
   "version": "3.8.2"
  }
 },
 "nbformat": 4,
 "nbformat_minor": 4
}
