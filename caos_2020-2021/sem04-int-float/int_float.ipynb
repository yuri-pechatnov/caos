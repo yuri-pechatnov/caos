{
 "cells": [
  {
   "cell_type": "code",
   "execution_count": 1,
   "metadata": {
    "scrolled": false
   },
   "outputs": [
    {
     "data": {
      "application/javascript": [
       "// setup cpp code highlighting\n",
       "IPython.CodeCell.options_default.highlight_modes[\"text/x-c++src\"] = {'reg':[/^%%cpp/]} ;IPython.CodeCell.options_default.highlight_modes[\"text/x-cmake\"] = {'reg':[/^%%cmake/]} ;"
      ],
      "text/plain": [
       "<IPython.core.display.Javascript object>"
      ]
     },
     "metadata": {},
     "output_type": "display_data"
    },
    {
     "data": {
      "text/html": [
       "<!-- YANDEX_METRICA_BEGIN -->\n",
       "    <script type=\"text/javascript\" >\n",
       "       (function(m,e,t,r,i,k,a){m[i]=m[i]||function(){(m[i].a=m[i].a||[]).push(arguments)};\n",
       "       m[i].l=1*new Date();k=e.createElement(t),a=e.getElementsByTagName(t)[0],k.async=1,k.src=r,a.parentNode.insertBefore(k,a)})\n",
       "       (window, document, \"script\", \"https://mc.yandex.ru/metrika/tag.js\", \"ym\");\n",
       "\n",
       "       ym(59260609, \"init\", {\n",
       "            clickmap:true,\n",
       "            trackLinks:true,\n",
       "            accurateTrackBounce:true\n",
       "       });\n",
       "    </script>\n",
       "    <noscript><div><img src=\"https://mc.yandex.ru/watch/59260609\" style=\"position:absolute; left:-9999px;\" alt=\"\" /></div></noscript>\n",
       "    <!-- YANDEX_METRICA_END -->"
      ],
      "text/plain": [
       "<IPython.core.display.HTML object>"
      ]
     },
     "metadata": {},
     "output_type": "display_data"
    },
    {
     "data": {
      "text/html": [
       "В этот ноутбук встроен код Яндекс Метрики для сбора статистики использований. Если вы не хотите, чтобы по вам собиралась статистика, исправьте: yandex_metrica_allowed = False<!-- MAGICS_SETUP_PRINTING_END -->"
      ],
      "text/plain": [
       "<IPython.core.display.HTML object>"
      ]
     },
     "metadata": {},
     "output_type": "display_data"
    }
   ],
   "source": [
    "# look at tools/set_up_magics.ipynb\n",
    "yandex_metrica_allowed = True ; get_ipython().run_cell('# one_liner_str\\n\\nget_ipython().run_cell_magic(\\'javascript\\', \\'\\', \\n    \\'// setup cpp code highlighting\\\\n\\'\\n    \\'IPython.CodeCell.options_default.highlight_modes[\"text/x-c++src\"] = {\\\\\\'reg\\\\\\':[/^%%cpp/]} ;\\'\\n    \\'IPython.CodeCell.options_default.highlight_modes[\"text/x-cmake\"] = {\\\\\\'reg\\\\\\':[/^%%cmake/]} ;\\'\\n)\\n\\n# creating magics\\nfrom IPython.core.magic import register_cell_magic, register_line_magic\\nfrom IPython.display import display, Markdown, HTML\\nimport argparse\\nfrom subprocess import Popen, PIPE\\nimport random\\nimport sys\\nimport os\\nimport re\\nimport signal\\nimport shutil\\nimport shlex\\nimport glob\\nimport time\\n\\n@register_cell_magic\\ndef save_file(args_str, cell, line_comment_start=\"#\"):\\n    parser = argparse.ArgumentParser()\\n    parser.add_argument(\"fname\")\\n    parser.add_argument(\"--ejudge-style\", action=\"store_true\")\\n    args = parser.parse_args(args_str.split())\\n    \\n    cell = cell if cell[-1] == \\'\\\\n\\' or args.no_eof_newline else cell + \"\\\\n\"\\n    cmds = []\\n    with open(args.fname, \"w\") as f:\\n        f.write(line_comment_start + \" %%cpp \" + args_str + \"\\\\n\")\\n        for line in cell.split(\"\\\\n\"):\\n            line_to_write = (line if not args.ejudge_style else line.rstrip()) + \"\\\\n\"\\n            if line.startswith(\"%\"):\\n                run_prefix = \"%run \"\\n                if line.startswith(run_prefix):\\n                    cmds.append(line[len(run_prefix):].strip())\\n                    f.write(line_comment_start + \" \" + line_to_write)\\n                    continue\\n                comment_prefix = \"%\" + line_comment_start\\n                if line.startswith(comment_prefix):\\n                    cmds.append(\\'#\\' + line[len(comment_prefix):].strip())\\n                    f.write(line_comment_start + \" \" + line_to_write)\\n                    continue\\n                raise Exception(\"Unknown %%save_file subcommand: \\'%s\\'\" % line)\\n            else:\\n                f.write(line_to_write)\\n        f.write(\"\" if not args.ejudge_style else line_comment_start + r\" line without \\\\n\")\\n    for cmd in cmds:\\n        if cmd.startswith(\\'#\\'):\\n            display(Markdown(\"\\\\#\\\\#\\\\#\\\\# `%s`\" % cmd[1:]))\\n        else:\\n            display(Markdown(\"Run: `%s`\" % cmd))\\n            get_ipython().system(cmd)\\n\\n@register_cell_magic\\ndef cpp(fname, cell):\\n    save_file(fname, cell, \"//\")\\n    \\n@register_cell_magic\\ndef cmake(fname, cell):\\n    save_file(fname, cell, \"#\")\\n\\n@register_cell_magic\\ndef asm(fname, cell):\\n    save_file(fname, cell, \"//\")\\n    \\n@register_cell_magic\\ndef makefile(fname, cell):\\n    fname = fname or \"makefile\"\\n    assert fname.endswith(\"makefile\")\\n    save_file(fname, cell.replace(\" \" * 4, \"\\\\t\"))\\n        \\n@register_line_magic\\ndef p(line):\\n    line = line.strip() \\n    if line[0] == \\'#\\':\\n        display(Markdown(line[1:].strip()))\\n    else:\\n        try:\\n            expr, comment = line.split(\" #\")\\n            display(Markdown(\"`{} = {}`  # {}\".format(expr.strip(), eval(expr), comment.strip())))\\n        except:\\n            display(Markdown(\"{} = {}\".format(line, eval(line))))\\n    \\n    \\ndef show_log_file(file, return_html_string=False):\\n    obj = file.replace(\\'.\\', \\'_\\').replace(\\'/\\', \\'_\\') + \"_obj\"\\n    html_string = \\'\\'\\'\\n        <!--MD_BEGIN_FILTER-->\\n        <script type=text/javascript>\\n        var entrance___OBJ__ = 0;\\n        var errors___OBJ__ = 0;\\n        function halt__OBJ__(elem, color)\\n        {\\n            elem.setAttribute(\"style\", \"font-size: 14px; background: \" + color + \"; padding: 10px; border: 3px; border-radius: 5px; color: white; \");                    \\n        }\\n        function refresh__OBJ__()\\n        {\\n            entrance___OBJ__ -= 1;\\n            if (entrance___OBJ__ < 0) {\\n                entrance___OBJ__ = 0;\\n            }\\n            var elem = document.getElementById(\"__OBJ__\");\\n            if (elem) {\\n                var xmlhttp=new XMLHttpRequest();\\n                xmlhttp.onreadystatechange=function()\\n                {\\n                    var elem = document.getElementById(\"__OBJ__\");\\n                    console.log(!!elem, xmlhttp.readyState, xmlhttp.status, entrance___OBJ__);\\n                    if (elem && xmlhttp.readyState==4) {\\n                        if (xmlhttp.status==200)\\n                        {\\n                            errors___OBJ__ = 0;\\n                            if (!entrance___OBJ__) {\\n                                if (elem.innerHTML != xmlhttp.responseText) {\\n                                    elem.innerHTML = xmlhttp.responseText;\\n                                }\\n                                if (elem.innerHTML.includes(\"Process finished.\")) {\\n                                    halt__OBJ__(elem, \"#333333\");\\n                                } else {\\n                                    entrance___OBJ__ += 1;\\n                                    console.log(\"req\");\\n                                    window.setTimeout(\"refresh__OBJ__()\", 300); \\n                                }\\n                            }\\n                            return xmlhttp.responseText;\\n                        } else {\\n                            errors___OBJ__ += 1;\\n                            if (!entrance___OBJ__) {\\n                                if (errors___OBJ__ < 6) {\\n                                    entrance___OBJ__ += 1;\\n                                    console.log(\"req\");\\n                                    window.setTimeout(\"refresh__OBJ__()\", 300); \\n                                } else {\\n                                    halt__OBJ__(elem, \"#994444\");\\n                                }\\n                            }\\n                        }\\n                    }\\n                }\\n                xmlhttp.open(\"GET\", \"__FILE__\", true);\\n                xmlhttp.setRequestHeader(\"Cache-Control\", \"no-cache\");\\n                xmlhttp.send();     \\n            }\\n        }\\n        \\n        if (!entrance___OBJ__) {\\n            entrance___OBJ__ += 1;\\n            refresh__OBJ__(); \\n        }\\n        </script>\\n\\n        <p id=\"__OBJ__\" style=\"font-size: 14px; background: #000000; padding: 10px; border: 3px; border-radius: 5px; color: white; \">\\n        </p>\\n        \\n        </font>\\n        <!--MD_END_FILTER-->\\n        <!--MD_FROM_FILE __FILE__.md -->\\n        \\'\\'\\'.replace(\"__OBJ__\", obj).replace(\"__FILE__\", file)\\n    if return_html_string:\\n        return html_string\\n    display(HTML(html_string))\\n\\n    \\nclass TInteractiveLauncher:\\n    tmp_path = \"./interactive_launcher_tmp\"\\n    def __init__(self, cmd):\\n        try:\\n            os.mkdir(TInteractiveLauncher.tmp_path)\\n        except:\\n            pass\\n        name = str(random.randint(0, 1e18))\\n        self.inq_path = os.path.join(TInteractiveLauncher.tmp_path, name + \".inq\")\\n        self.log_path = os.path.join(TInteractiveLauncher.tmp_path, name + \".log\")\\n        \\n        os.mkfifo(self.inq_path)\\n        open(self.log_path, \\'w\\').close()\\n        open(self.log_path + \".md\", \\'w\\').close()\\n\\n        self.pid = os.fork()\\n        if self.pid == -1:\\n            print(\"Error\")\\n        if self.pid == 0:\\n            exe_cands = glob.glob(\"../tools/launcher.py\") + glob.glob(\"../../tools/launcher.py\")\\n            assert(len(exe_cands) == 1)\\n            assert(os.execvp(\"python3\", [\"python3\", exe_cands[0], \"-l\", self.log_path, \"-i\", self.inq_path, \"-c\", cmd]) == 0)\\n        self.inq_f = open(self.inq_path, \"w\")\\n        interactive_launcher_opened_set.add(self.pid)\\n        show_log_file(self.log_path)\\n\\n    def write(self, s):\\n        s = s.encode()\\n        assert len(s) == os.write(self.inq_f.fileno(), s)\\n        \\n    def get_pid(self):\\n        n = 100\\n        for i in range(n):\\n            try:\\n                return int(re.findall(r\"PID = (\\\\d+)\", open(self.log_path).readline())[0])\\n            except:\\n                if i + 1 == n:\\n                    raise\\n                time.sleep(0.1)\\n        \\n    def input_queue_path(self):\\n        return self.inq_path\\n        \\n    def wait_stop(self, timeout):\\n        for i in range(int(timeout * 10)):\\n            wpid, status = os.waitpid(self.pid, os.WNOHANG)\\n            if wpid != 0:\\n                return True\\n            time.sleep(0.1)\\n        return False\\n        \\n    def close(self, timeout=3):\\n        self.inq_f.close()\\n        if not self.wait_stop(timeout):\\n            os.kill(self.get_pid(), signal.SIGKILL)\\n            os.waitpid(self.pid, 0)\\n        os.remove(self.inq_path)\\n        # os.remove(self.log_path)\\n        self.inq_path = None\\n        self.log_path = None \\n        interactive_launcher_opened_set.remove(self.pid)\\n        self.pid = None\\n        \\n    @staticmethod\\n    def terminate_all():\\n        if \"interactive_launcher_opened_set\" not in globals():\\n            globals()[\"interactive_launcher_opened_set\"] = set()\\n        global interactive_launcher_opened_set\\n        for pid in interactive_launcher_opened_set:\\n            print(\"Terminate pid=\" + str(pid), file=sys.stderr)\\n            os.kill(pid, signal.SIGKILL)\\n            os.waitpid(pid, 0)\\n        interactive_launcher_opened_set = set()\\n        if os.path.exists(TInteractiveLauncher.tmp_path):\\n            shutil.rmtree(TInteractiveLauncher.tmp_path)\\n    \\nTInteractiveLauncher.terminate_all()\\n   \\nyandex_metrica_allowed = bool(globals().get(\"yandex_metrica_allowed\", False))\\nif yandex_metrica_allowed:\\n    display(HTML(\\'\\'\\'<!-- YANDEX_METRICA_BEGIN -->\\n    <script type=\"text/javascript\" >\\n       (function(m,e,t,r,i,k,a){m[i]=m[i]||function(){(m[i].a=m[i].a||[]).push(arguments)};\\n       m[i].l=1*new Date();k=e.createElement(t),a=e.getElementsByTagName(t)[0],k.async=1,k.src=r,a.parentNode.insertBefore(k,a)})\\n       (window, document, \"script\", \"https://mc.yandex.ru/metrika/tag.js\", \"ym\");\\n\\n       ym(59260609, \"init\", {\\n            clickmap:true,\\n            trackLinks:true,\\n            accurateTrackBounce:true\\n       });\\n    </script>\\n    <noscript><div><img src=\"https://mc.yandex.ru/watch/59260609\" style=\"position:absolute; left:-9999px;\" alt=\"\" /></div></noscript>\\n    <!-- YANDEX_METRICA_END -->\\'\\'\\'))\\n\\ndef make_oneliner():\\n    html_text = \\'(\"В этот ноутбук встроен код Яндекс Метрики для сбора статистики использований. Если вы не хотите, чтобы по вам собиралась статистика, исправьте: yandex_metrica_allowed = False\" if yandex_metrica_allowed else \"\")\\'\\n    html_text += \\' + \"<\"\"!-- MAGICS_SETUP_PRINTING_END -->\"\\'\\n    return \\'\\'.join([\\n        \\'# look at tools/set_up_magics.ipynb\\\\n\\',\\n        \\'yandex_metrica_allowed = True ; get_ipython().run_cell(%s);\\' % repr(one_liner_str),\\n        \\'display(HTML(%s))\\' % html_text,\\n        \\' #\\'\\'MAGICS_SETUP_END\\'\\n    ])\\n       \\n\\n');display(HTML((\"В этот ноутбук встроен код Яндекс Метрики для сбора статистики использований. Если вы не хотите, чтобы по вам собиралась статистика, исправьте: yandex_metrica_allowed = False\" if yandex_metrica_allowed else \"\") + \"<\"\"!-- MAGICS_SETUP_PRINTING_END -->\")) #MAGICS_SETUP_END"
   ]
  },
  {
   "cell_type": "markdown",
   "metadata": {},
   "source": [
    "# Ints & Floats\n",
    "\n",
    "<table width=100%> <tr>\n",
    "    <th width=20%> <b>Видеозапись семинара &rarr; </b> </th>\n",
    "    <th>\n",
    "    <a href=\"https://youtu.be/MTDgiATnXlc\">\n",
    "        <img src=\"video.jpg\" width=\"320\"  height=\"160\" align=\"left\" alt=\"Видео с семинара\"> \n",
    "    </a>\n",
    "    </th>\n",
    "    <th> </th>\n",
    "</tr> </table>\n",
    "\n",
    "\n",
    "[Ридинг Яковлева: Целочисленная арифметика](https://github.com/victor-yacovlev/mipt-diht-caos/tree/master/practice/integers) \n",
    "<br>[Ридинг Яковлева: Вещественная арифметика](https://github.com/victor-yacovlev/mipt-diht-caos/tree/master/practice/ieee754) \n",
    "\n",
    "Сегодня в программе:\n",
    "* <a href=\"#int\" style=\"color:#856024\"> Целые числа </a>\n",
    "* <a href=\"#float\" style=\"color:#856024\"> Вещественные числа </a>"
   ]
  },
  {
   "cell_type": "markdown",
   "metadata": {},
   "source": [
    "## <a name=\"int\"></a> Целые числа\n",
    "\n",
    "Производя `+`, `-`, `*` со стандартными целочисленными типами в программе мы работаем $\\mathbb{Z}_{2^k}$, где $k$ - количество бит в числе. Причем это верно как со знаковыми, так и беззнаковыми числами.\n",
    "\n",
    "В процессоре для сложения знаковых и беззнаковых чисел выполняется одна и та же инструкция."
   ]
  },
  {
   "cell_type": "code",
   "execution_count": 2,
   "metadata": {},
   "outputs": [
    {
     "name": "stdout",
     "output_type": "stream",
     "text": [
      "i=0 -> unsigned 0, signed  0, bytes 000\n",
      "i=1 -> unsigned 1, signed  1, bytes 001\n",
      "i=2 -> unsigned 2, signed  2, bytes 010\n",
      "i=3 -> unsigned 3, signed  3, bytes 011\n",
      "i=4 -> unsigned 4, signed -4, bytes 100\n",
      "i=5 -> unsigned 5, signed -3, bytes 101\n",
      "i=6 -> unsigned 6, signed -2, bytes 110\n",
      "i=7 -> unsigned 7, signed -1, bytes 111\n"
     ]
    }
   ],
   "source": [
    "k = 3 # min 0, max 7 = (1 << 3) - 1\n",
    "m = (1 << k)\n",
    "\n",
    "def normalize(x):\n",
    "    return ((x % m) + m) % m\n",
    "\n",
    "def format_n(x):\n",
    "    x = normalize(x)\n",
    "    return \"unsigned %d, signed % 2d, bytes %s\" % (x, x if x < (m >> 1) else x - m, bin(x + m)[3:])\n",
    "    \n",
    "for i in range(0, m):\n",
    "    print(\"i=%d -> %s\" % (i, format_n(i)))"
   ]
  },
  {
   "cell_type": "code",
   "execution_count": 3,
   "metadata": {},
   "outputs": [
    {
     "name": "stdout",
     "output_type": "stream",
     "text": [
      "2 + 1 = 3\n",
      "    (unsigned 2, signed  2, bytes 010) + (unsigned 1, signed  1, bytes 001) = (unsigned 3, signed  3, bytes 011)\n",
      "2 + -1 = 1\n",
      "    (unsigned 2, signed  2, bytes 010) + (unsigned 7, signed -1, bytes 111) = (unsigned 1, signed  1, bytes 001)\n"
     ]
    }
   ],
   "source": [
    "def show_add(a, b):\n",
    "    print(\"%d + %d = %d\" % (a, b, a + b))\n",
    "    print(\"    (%s) + (%s) = (%s)\" % (format_n(a), format_n(b), format_n(a + b)))\n",
    "show_add(2, 1)\n",
    "show_add(2, -1)"
   ]
  },
  {
   "cell_type": "code",
   "execution_count": 4,
   "metadata": {},
   "outputs": [
    {
     "name": "stdout",
     "output_type": "stream",
     "text": [
      "2 * 3 = 6\n",
      "    (unsigned 2, signed  2, bytes 010) * (unsigned 3, signed  3, bytes 011) = (unsigned 6, signed -2, bytes 110)\n",
      "-2 * -3 = 6\n",
      "    (unsigned 6, signed -2, bytes 110) * (unsigned 5, signed -3, bytes 101) = (unsigned 6, signed -2, bytes 110)\n",
      "-1 * -1 = 1\n",
      "    (unsigned 7, signed -1, bytes 111) * (unsigned 7, signed -1, bytes 111) = (unsigned 1, signed  1, bytes 001)\n"
     ]
    }
   ],
   "source": [
    "def show_mul(a, b):\n",
    "    print(\"%d * %d = %d\" % (a, b, a * b))\n",
    "    print(\"    (%s) * (%s) = (%s)\" % (format_n(a), format_n(b), format_n(a * b)))\n",
    "show_mul(2, 3)\n",
    "show_mul(-2, -3)\n",
    "show_mul(-1, -1)"
   ]
  },
  {
   "cell_type": "markdown",
   "metadata": {},
   "source": [
    "Но есть некоторые тонкости. \n",
    "\n",
    "Если вы пишете код на C/C++ то компилятор считает **переполнение знакового типа UB** (undefined behavior).\n",
    "\n",
    "А переполнение беззнакового типа - законной операцией, при которой просто отбрасываются старшие биты (или значение берется по модулю $2^k$, или просто операция производится в $\\mathbb{Z}_{2^k}$ - можете выбирать более удобный для вас способ на это смотреть)."
   ]
  },
  {
   "cell_type": "code",
   "execution_count": 66,
   "metadata": {},
   "outputs": [
    {
     "data": {
      "text/markdown": [
       "Run: `gcc -O3 -shared -fPIC lib.c -o lib.so`"
      ],
      "text/plain": [
       "<IPython.core.display.Markdown object>"
      ]
     },
     "metadata": {},
     "output_type": "display_data"
    }
   ],
   "source": [
    "%%cpp lib.c\n",
    "%run gcc -O3 -shared -fPIC lib.c -o lib.so\n",
    "\n",
    "int check_increment(int x) {\n",
    "    return x + 1 > x;\n",
    "}\n",
    "\n",
    "int unsigned_check_increment(unsigned int x) {\n",
    "    return x + 1 > x;\n",
    "}"
   ]
  },
  {
   "cell_type": "code",
   "execution_count": 29,
   "metadata": {},
   "outputs": [
    {
     "data": {
      "text/markdown": [
       "lib.check_increment(1) = 1"
      ],
      "text/plain": [
       "<IPython.core.display.Markdown object>"
      ]
     },
     "metadata": {},
     "output_type": "display_data"
    },
    {
     "data": {
      "text/markdown": [
       "lib.check_increment(int32_max) = 1"
      ],
      "text/plain": [
       "<IPython.core.display.Markdown object>"
      ]
     },
     "metadata": {},
     "output_type": "display_data"
    },
    {
     "data": {
      "text/markdown": [
       "lib.unsigned_check_increment(1) = 1"
      ],
      "text/plain": [
       "<IPython.core.display.Markdown object>"
      ]
     },
     "metadata": {},
     "output_type": "display_data"
    },
    {
     "data": {
      "text/markdown": [
       "lib.unsigned_check_increment(uint32_max) = 0"
      ],
      "text/plain": [
       "<IPython.core.display.Markdown object>"
      ]
     },
     "metadata": {},
     "output_type": "display_data"
    }
   ],
   "source": [
    "import ctypes\n",
    "\n",
    "int32_max = (1 << 31) - 1\n",
    "uint32_max = (1 << 32) - 1\n",
    "\n",
    "lib = ctypes.CDLL(\"./lib.so\")\n",
    "lib.check_increment.argtypes = [ctypes.c_int]\n",
    "lib.unsigned_check_increment.argtypes = [ctypes.c_uint]\n",
    "\n",
    "%p lib.check_increment(1)\n",
    "%p lib.check_increment(int32_max)\n",
    "\n",
    "%p lib.unsigned_check_increment(1)\n",
    "%p lib.unsigned_check_increment(uint32_max)"
   ]
  },
  {
   "cell_type": "code",
   "execution_count": 7,
   "metadata": {
    "scrolled": true
   },
   "outputs": [
    {
     "name": "stdout",
     "output_type": "stream",
     "text": [
      "Dump of assembler code for function check_increment:\r\n",
      "   0x0000000000001100 <+0>:\tendbr64 \r\n",
      "   0x0000000000001104 <+4>:\tmov    $0x1,%eax\r\n",
      "   0x0000000000001109 <+9>:\tretq   \r\n",
      "End of assembler dump.\r\n",
      "Dump of assembler code for function unsigned_check_increment:\r\n",
      "   0x0000000000001110 <+0>:\tendbr64 \r\n",
      "   0x0000000000001114 <+4>:\txor    %eax,%eax\r\n",
      "   0x0000000000001116 <+6>:\tcmp    $0xffffffff,%edi\r\n",
      "   0x0000000000001119 <+9>:\tsetne  %al\r\n",
      "   0x000000000000111c <+12>:\tretq   \r\n",
      "End of assembler dump.\r\n"
     ]
    }
   ],
   "source": [
    "!gdb lib.so -batch -ex=\"disass check_increment\" -ex=\"disass unsigned_check_increment\""
   ]
  },
  {
   "cell_type": "code",
   "execution_count": 67,
   "metadata": {},
   "outputs": [],
   "source": [
    "# UB санитайзер в gcc этого не ловит :|\n",
    "# А вот clang молодец :)\n",
    "!clang -O0 -shared -fPIC -fsanitize=undefined lib.c -o lib_ubsan.so"
   ]
  },
  {
   "cell_type": "code",
   "execution_count": 68,
   "metadata": {
    "scrolled": true
   },
   "outputs": [
    {
     "data": {
      "text/markdown": [
       "Run: `LD_PRELOAD=$(gcc -print-file-name=libubsan.so) python3 run_ub.py`"
      ],
      "text/plain": [
       "<IPython.core.display.Markdown object>"
      ]
     },
     "metadata": {},
     "output_type": "display_data"
    },
    {
     "name": "stdout",
     "output_type": "stream",
     "text": [
      "\u001b[1mlib.c:5:14:\u001b[1m\u001b[31m runtime error: \u001b[1m\u001b[0m\u001b[1msigned integer overflow: 2147483647 + 1 cannot be represented in type 'int'\u001b[1m\u001b[0m\r\n",
      "0\r\n"
     ]
    }
   ],
   "source": [
    "%%save_file run_ub.py\n",
    "%run LD_PRELOAD=$(gcc -print-file-name=libubsan.so) python3 run_ub.py\n",
    "\n",
    "import ctypes \n",
    "\n",
    "int32_max = (1 << 31) - 1\n",
    "\n",
    "lib = ctypes.CDLL(\"./lib_ubsan.so\")\n",
    "lib.check_increment.argtypes = [ctypes.c_int]\n",
    "\n",
    "print(lib.check_increment(int32_max))"
   ]
  },
  {
   "cell_type": "code",
   "execution_count": 38,
   "metadata": {},
   "outputs": [
    {
     "data": {
      "text/plain": [
       "9"
      ]
     },
     "execution_count": 38,
     "metadata": {},
     "output_type": "execute_result"
    }
   ],
   "source": []
  },
  {
   "cell_type": "code",
   "execution_count": 86,
   "metadata": {},
   "outputs": [],
   "source": [
    "%%cpp code_sample\n",
    "// воображаемая ситуация, когда переполнение нежелательно\n",
    "isize = 100000\n",
    "n, m = 100000\n",
    "for (int i = 0; i < isize && i < saturation_multiplication(n, m); ++i) {\n",
    "    \n",
    "}"
   ]
  },
  {
   "cell_type": "markdown",
   "metadata": {},
   "source": [
    "Иногда хочется обрабатывать переполнения разумным образом, например, насыщением:"
   ]
  },
  {
   "cell_type": "code",
   "execution_count": 39,
   "metadata": {},
   "outputs": [
    {
     "data": {
      "text/markdown": [
       "Run: `gcc -O3 main.c -o a.exe`"
      ],
      "text/plain": [
       "<IPython.core.display.Markdown object>"
      ]
     },
     "metadata": {},
     "output_type": "display_data"
    },
    {
     "data": {
      "text/markdown": [
       "Run: `./a.exe`"
      ],
      "text/plain": [
       "<IPython.core.display.Markdown object>"
      ]
     },
     "metadata": {},
     "output_type": "display_data"
    }
   ],
   "source": [
    "%%cpp main.c\n",
    "%run gcc -O3 main.c -o a.exe \n",
    "%run ./a.exe\n",
    "\n",
    "#include <assert.h>\n",
    "#include <stdint.h>\n",
    "\n",
    "unsigned int satsum(unsigned int x, unsigned int y) {\n",
    "    unsigned int z;\n",
    "    // Функция, которая обрабатывает выставленный процессором флаг и возвращает его явно\n",
    "    if (__builtin_uadd_overflow(x, y, &z)) {\n",
    "        return ~0u;\n",
    "    }\n",
    "    return z;\n",
    "}\n",
    "\n",
    "int main() {\n",
    "    assert(satsum(2000000000L, 2000000000L) == 4000000000L);\n",
    "    assert(satsum(4000000000L, 4000000000L) == (unsigned int)-1);\n",
    "    return 0;\n",
    "}"
   ]
  },
  {
   "cell_type": "code",
   "execution_count": null,
   "metadata": {},
   "outputs": [],
   "source": []
  },
  {
   "cell_type": "markdown",
   "metadata": {},
   "source": [
    "Для операций сравнения и деления целых чисел уже однозначно важно, знаковые они или нет."
   ]
  },
  {
   "cell_type": "code",
   "execution_count": 11,
   "metadata": {},
   "outputs": [
    {
     "data": {
      "text/markdown": [
       "Run: `gcc -O3 -shared -fPIC lib2.c -o lib2.so`"
      ],
      "text/plain": [
       "<IPython.core.display.Markdown object>"
      ]
     },
     "metadata": {},
     "output_type": "display_data"
    }
   ],
   "source": [
    "%%cpp lib2.c\n",
    "%run gcc -O3 -shared -fPIC lib2.c -o lib2.so\n",
    "\n",
    "typedef unsigned int uint;\n",
    "\n",
    "int sum(int x, int y) { return x + y; }\n",
    "uint usum(uint x, uint y) { return x + y; }\n",
    "\n",
    "int mul(int x, int y) { return x * y; }\n",
    "uint umul(uint x, uint y) { return x * y; }\n",
    "\n",
    "int cmp(int x, int y) { return x < y; }\n",
    "int ucmp(uint x, uint y) { return x < y; }\n",
    "\n",
    "int div(int x, int y) { return x / y; }\n",
    "int udiv(uint x, uint y) { return x / y; }"
   ]
  },
  {
   "cell_type": "code",
   "execution_count": 12,
   "metadata": {},
   "outputs": [
    {
     "name": "stdout",
     "output_type": "stream",
     "text": [
      "Dump of assembler code for function sum:\r\n",
      "   0x0000000000001100 <+0>:\tendbr64 \r\n",
      "   0x0000000000001104 <+4>:\tlea    (%rdi,%rsi,1),%eax\r\n",
      "   0x0000000000001107 <+7>:\tretq   \r\n",
      "End of assembler dump.\r\n",
      "Dump of assembler code for function usum:\r\n",
      "   0x0000000000001110 <+0>:\tendbr64 \r\n",
      "   0x0000000000001114 <+4>:\tlea    (%rdi,%rsi,1),%eax\r\n",
      "   0x0000000000001117 <+7>:\tretq   \r\n",
      "End of assembler dump.\r\n"
     ]
    }
   ],
   "source": [
    "# Функции sum и usum идентичны\n",
    "!gdb lib2.so -batch -ex=\"disass sum\" -ex=\"disass usum\""
   ]
  },
  {
   "cell_type": "code",
   "execution_count": 13,
   "metadata": {},
   "outputs": [
    {
     "name": "stdout",
     "output_type": "stream",
     "text": [
      "Dump of assembler code for function mul:\r\n",
      "   0x0000000000001120 <+0>:\tendbr64 \r\n",
      "   0x0000000000001124 <+4>:\tmov    %edi,%eax\r\n",
      "   0x0000000000001126 <+6>:\timul   %esi,%eax\r\n",
      "   0x0000000000001129 <+9>:\tretq   \r\n",
      "End of assembler dump.\r\n",
      "Dump of assembler code for function umul:\r\n",
      "   0x0000000000001130 <+0>:\tendbr64 \r\n",
      "   0x0000000000001134 <+4>:\tmov    %edi,%eax\r\n",
      "   0x0000000000001136 <+6>:\timul   %esi,%eax\r\n",
      "   0x0000000000001139 <+9>:\tretq   \r\n",
      "End of assembler dump.\r\n"
     ]
    }
   ],
   "source": [
    "!gdb lib2.so -batch -ex=\"disass mul\" -ex=\"disass umul\""
   ]
  },
  {
   "cell_type": "code",
   "execution_count": 14,
   "metadata": {},
   "outputs": [
    {
     "name": "stdout",
     "output_type": "stream",
     "text": [
      "Dump of assembler code for function cmp:\r\n",
      "   0x0000000000001140 <+0>:\tendbr64 \r\n",
      "   0x0000000000001144 <+4>:\txor    %eax,%eax\r\n",
      "   0x0000000000001146 <+6>:\tcmp    %esi,%edi\r\n",
      "   0x0000000000001148 <+8>:\tsetl   %al\r\n",
      "   0x000000000000114b <+11>:\tretq   \r\n",
      "End of assembler dump.\r\n",
      "Dump of assembler code for function ucmp:\r\n",
      "   0x0000000000001150 <+0>:\tendbr64 \r\n",
      "   0x0000000000001154 <+4>:\txor    %eax,%eax\r\n",
      "   0x0000000000001156 <+6>:\tcmp    %esi,%edi\r\n",
      "   0x0000000000001158 <+8>:\tsetb   %al\r\n",
      "   0x000000000000115b <+11>:\tretq   \r\n",
      "End of assembler dump.\r\n"
     ]
    }
   ],
   "source": [
    "# Функции cmp и ucmp отличаются!\n",
    "!gdb lib2.so -batch -ex=\"disass cmp\" -ex=\"disass ucmp\""
   ]
  },
  {
   "cell_type": "code",
   "execution_count": 15,
   "metadata": {},
   "outputs": [
    {
     "name": "stdout",
     "output_type": "stream",
     "text": [
      "Dump of assembler code for function div:\r\n",
      "   0x0000000000001160 <+0>:\tendbr64 \r\n",
      "   0x0000000000001164 <+4>:\tmov    %edi,%eax\r\n",
      "   0x0000000000001166 <+6>:\tcltd   \r\n",
      "   0x0000000000001167 <+7>:\tidiv   %esi\r\n",
      "   0x0000000000001169 <+9>:\tretq   \r\n",
      "End of assembler dump.\r\n",
      "Dump of assembler code for function udiv:\r\n",
      "   0x0000000000001170 <+0>:\tendbr64 \r\n",
      "   0x0000000000001174 <+4>:\tmov    %edi,%eax\r\n",
      "   0x0000000000001176 <+6>:\txor    %edx,%edx\r\n",
      "   0x0000000000001178 <+8>:\tdiv    %esi\r\n",
      "   0x000000000000117a <+10>:\tretq   \r\n",
      "End of assembler dump.\r\n"
     ]
    }
   ],
   "source": [
    "!gdb lib2.so -batch -ex=\"disass div\" -ex=\"disass udiv\""
   ]
  },
  {
   "cell_type": "code",
   "execution_count": null,
   "metadata": {},
   "outputs": [],
   "source": []
  },
  {
   "cell_type": "markdown",
   "metadata": {},
   "source": [
    "## <a name=\"size\"></a> Про размеры int'ов и знаковость\n",
    "\n",
    "Установка всякого-разного\n",
    "\n",
    "Для `-m32`\n",
    "\n",
    "`sudo apt-get install g++-multilib libc6-dev-i386`\n",
    "\n",
    "Для `qemu-arm`\n",
    "\n",
    "`sudo apt-get install qemu-system-arm qemu-user`\n",
    "\n",
    "`sudo apt-get install lib32z1`\n",
    "\n",
    "Для сборки и запуска arm:\n",
    "\n",
    "`wget http://releases.linaro.org/components/toolchain/binaries/7.3-2018.05/arm-linux-gnueabi/gcc-linaro-7.3.1-2018.05-i686_arm-linux-gnueabi.tar.xz`\n",
    "\n",
    "`tar xvf gcc-linaro-7.3.1-2018.05-i686_arm-linux-gnueabi.tar.xz`\n",
    "\n"
   ]
  },
  {
   "cell_type": "code",
   "execution_count": 16,
   "metadata": {},
   "outputs": [],
   "source": [
    "# Add path to compilers to PATH\n",
    "import os\n",
    "os.environ[\"PATH\"] = os.environ[\"PATH\"] + \":\" + \\\n",
    "    \"/home/pechatnov/arm/gcc-linaro-7.3.1-2018.05-i686_arm-linux-gnueabi/bin\""
   ]
  },
  {
   "cell_type": "code",
   "execution_count": 17,
   "metadata": {},
   "outputs": [
    {
     "data": {
      "text/markdown": [
       "\\#\\#\\#\\# `Компилируем обычным образом`"
      ],
      "text/plain": [
       "<IPython.core.display.Markdown object>"
      ]
     },
     "metadata": {},
     "output_type": "display_data"
    },
    {
     "data": {
      "text/markdown": [
       "Run: `gcc size.c -o size.exe`"
      ],
      "text/plain": [
       "<IPython.core.display.Markdown object>"
      ]
     },
     "metadata": {},
     "output_type": "display_data"
    },
    {
     "data": {
      "text/markdown": [
       "Run: `./size.exe`"
      ],
      "text/plain": [
       "<IPython.core.display.Markdown object>"
      ]
     },
     "metadata": {},
     "output_type": "display_data"
    },
    {
     "name": "stdout",
     "output_type": "stream",
     "text": [
      "is char signed = 0, sizeof(long int) = 8\r\n"
     ]
    },
    {
     "data": {
      "text/markdown": [
       "\\#\\#\\#\\# `Под 32-битную архитектуру`"
      ],
      "text/plain": [
       "<IPython.core.display.Markdown object>"
      ]
     },
     "metadata": {},
     "output_type": "display_data"
    },
    {
     "data": {
      "text/markdown": [
       "Run: `gcc -m32 size.c -o size.exe`"
      ],
      "text/plain": [
       "<IPython.core.display.Markdown object>"
      ]
     },
     "metadata": {},
     "output_type": "display_data"
    },
    {
     "data": {
      "text/markdown": [
       "Run: `./size.exe`"
      ],
      "text/plain": [
       "<IPython.core.display.Markdown object>"
      ]
     },
     "metadata": {},
     "output_type": "display_data"
    },
    {
     "name": "stdout",
     "output_type": "stream",
     "text": [
      "is char signed = 0, sizeof(long int) = 4\r\n"
     ]
    },
    {
     "data": {
      "text/markdown": [
       "\\#\\#\\#\\# `Под ARM`"
      ],
      "text/plain": [
       "<IPython.core.display.Markdown object>"
      ]
     },
     "metadata": {},
     "output_type": "display_data"
    },
    {
     "data": {
      "text/markdown": [
       "Run: `arm-linux-gnueabi-gcc -marm size.c -o size.exe`"
      ],
      "text/plain": [
       "<IPython.core.display.Markdown object>"
      ]
     },
     "metadata": {},
     "output_type": "display_data"
    },
    {
     "data": {
      "text/markdown": [
       "Run: `qemu-arm -L ~/arm/gcc-linaro-7.3.1-2018.05-i686_arm-linux-gnueabi/arm-linux-gnueabi/libc ./size.exe`"
      ],
      "text/plain": [
       "<IPython.core.display.Markdown object>"
      ]
     },
     "metadata": {},
     "output_type": "display_data"
    },
    {
     "name": "stdout",
     "output_type": "stream",
     "text": [
      "is char signed = 1, sizeof(long int) = 4\r\n"
     ]
    }
   ],
   "source": [
    "%%cpp size.c\n",
    "%// Компилируем обычным образом\n",
    "%run gcc size.c -o size.exe\n",
    "%run ./size.exe\n",
    "%// Под 32-битную архитектуру\n",
    "%run gcc -m32 size.c -o size.exe\n",
    "%run ./size.exe\n",
    "%// Под ARM\n",
    "%run arm-linux-gnueabi-gcc -marm size.c -o size.exe\n",
    "%run qemu-arm -L ~/arm/gcc-linaro-7.3.1-2018.05-i686_arm-linux-gnueabi/arm-linux-gnueabi/libc ./size.exe\n",
    "\n",
    "\n",
    "#include <stdio.h>\n",
    "\n",
    "int main() {\n",
    "    printf(\"is char signed = %d, \", (int)((char)(-1) > 0));\n",
    "    printf(\"sizeof(long int) = %d\\n\", (int)sizeof(long int));\n",
    "}"
   ]
  },
  {
   "cell_type": "markdown",
   "metadata": {},
   "source": [
    "Какой из этого можно сделать вывод? Хотите понятный тип - используйте типы с детерминированым размером и знаковостью - uint64_t и другие подобные "
   ]
  },
  {
   "cell_type": "code",
   "execution_count": null,
   "metadata": {},
   "outputs": [],
   "source": []
  },
  {
   "cell_type": "code",
   "execution_count": null,
   "metadata": {},
   "outputs": [],
   "source": []
  },
  {
   "cell_type": "markdown",
   "metadata": {},
   "source": [
    "## <a name=\"bit\"></a> Битовые операции\n",
    "\n",
    "`^`, `|`, `&`, `~`, `>>`, `<<`"
   ]
  },
  {
   "cell_type": "code",
   "execution_count": 18,
   "metadata": {
    "scrolled": true
   },
   "outputs": [
    {
     "data": {
      "text/markdown": [
       "`my_bin(     a) = 0b0110`  # 4-битное число"
      ],
      "text/plain": [
       "<IPython.core.display.Markdown object>"
      ]
     },
     "metadata": {},
     "output_type": "display_data"
    },
    {
     "data": {
      "text/markdown": [
       "`my_bin(    ~a) = 0b1001`  # Его побитовое отрицание"
      ],
      "text/plain": [
       "<IPython.core.display.Markdown object>"
      ]
     },
     "metadata": {},
     "output_type": "display_data"
    },
    {
     "data": {
      "text/markdown": [
       "`my_bin(a >> 1) = 0b0011`  # Его сдвиг вправо на 1"
      ],
      "text/plain": [
       "<IPython.core.display.Markdown object>"
      ]
     },
     "metadata": {},
     "output_type": "display_data"
    },
    {
     "data": {
      "text/markdown": [
       "`my_bin(a << 1) = 0b1100`  # Его сдвиг влево на 1"
      ],
      "text/plain": [
       "<IPython.core.display.Markdown object>"
      ]
     },
     "metadata": {},
     "output_type": "display_data"
    }
   ],
   "source": [
    "a = 0b0110\n",
    "\n",
    "def my_bin(x, digits=4):\n",
    "    m = (1 << digits)\n",
    "    x = ((x % m) + m) % m\n",
    "    return bin(x + m).replace('0b1', '0b')\n",
    "\n",
    "%p my_bin(     a)  # 4-битное число\n",
    "%p my_bin(    ~a)  # Его побитовое отрицание\n",
    "%p my_bin(a >> 1)  # Его сдвиг вправо на 1\n",
    "%p my_bin(a << 1)  # Его сдвиг влево на 1"
   ]
  },
  {
   "cell_type": "code",
   "execution_count": 19,
   "metadata": {},
   "outputs": [
    {
     "data": {
      "text/markdown": [
       "`my_bin(x    ) = 0b0011`  # X"
      ],
      "text/plain": [
       "<IPython.core.display.Markdown object>"
      ]
     },
     "metadata": {},
     "output_type": "display_data"
    },
    {
     "data": {
      "text/markdown": [
       "`my_bin(y    ) = 0b1001`  # Y"
      ],
      "text/plain": [
       "<IPython.core.display.Markdown object>"
      ]
     },
     "metadata": {},
     "output_type": "display_data"
    },
    {
     "data": {
      "text/markdown": [
       "`my_bin(x | y) = 0b1011`  # Побитовый OR"
      ],
      "text/plain": [
       "<IPython.core.display.Markdown object>"
      ]
     },
     "metadata": {},
     "output_type": "display_data"
    },
    {
     "data": {
      "text/markdown": [
       "`my_bin(x ^ y) = 0b1010`  # Побитовый XOR"
      ],
      "text/plain": [
       "<IPython.core.display.Markdown object>"
      ]
     },
     "metadata": {},
     "output_type": "display_data"
    },
    {
     "data": {
      "text/markdown": [
       "`my_bin(x & y) = 0b0001`  # Побитовый AND"
      ],
      "text/plain": [
       "<IPython.core.display.Markdown object>"
      ]
     },
     "metadata": {},
     "output_type": "display_data"
    }
   ],
   "source": [
    "x = 0b0011\n",
    "y = 0b1001\n",
    "\n",
    "%p my_bin(x    )  # X\n",
    "%p my_bin(y    )  # Y\n",
    "\n",
    "%p my_bin(x | y)  # Побитовый OR\n",
    "%p my_bin(x ^ y)  # Побитовый XOR\n",
    "%p my_bin(x & y)  # Побитовый AND"
   ]
  },
  {
   "cell_type": "markdown",
   "metadata": {},
   "source": [
    "Задачки:\n",
    "1. Получите из числа `a` `i`-ый бит \n",
    "2. Выставьте в целом числе `a` `i`-ый бит \n",
    "3. Занулите в целом числе `a` `i`-ый бит \n",
    "4. Инвертируйте в целом числе `a` `i`-ый бит \n",
    "5. Получите биты числа `a` с `i` по `j` невключительно как беззнаковое число\n",
    "6. Скопируйте в биты числа `a` с `i` по `j` невключительно младшие биты числа `b` \n",
    "\n",
    "<details> <summary> Решения с семинара </summary>\n",
    "<pre> <code> \n",
    "1. (a >> i) & 1u\n",
    "2. a | (1u << i)\n",
    "3. a & ~(1u << i)\n",
    "4. a ^ (1u << i)\n",
    "5. (a >> i) & ((1u << (j - i)) - 1u)\n",
    "6. \n",
    "i = 2, j = 5\n",
    "       xxx\n",
    "a=0b00011000\n",
    "         yyy\n",
    "b=0b01010101\n",
    "    \n",
    "m = (1u << (j - i)) - 1u\n",
    "(a & ~(m << i)) | ((b & m) << i)\n",
    "</code> </pre>\n",
    "</details>"
   ]
  },
  {
   "cell_type": "markdown",
   "metadata": {},
   "source": [
    "## <a name=\"float\"></a> Вещественные числа\n",
    "\n",
    "Давайте просто посмотрим на битовые представления вещественных чисел и найдем закономерности :)"
   ]
  },
  {
   "cell_type": "code",
   "execution_count": 78,
   "metadata": {},
   "outputs": [],
   "source": [
    "%%cpp stand.h\n",
    "// Можно не вникать, просто печаталка битиков\n",
    "\n",
    "#include <stdio.h>\n",
    "#include <stdint.h>\n",
    "#include <inttypes.h>\n",
    "#include <string.h>\n",
    "\n",
    "#define EXTRA_INFO // включение более подробного вывода\n",
    "#if defined(EXTRA_INFO)\n",
    "    #define IS_VLINE_POINT(i) (i == 63 || i == 52)\n",
    "    #define DESCRIBE(d) describe_double(d)\n",
    "typedef union {\n",
    "    double double_val;\n",
    "    struct {\n",
    "        uint64_t mantissa_val : 52;\n",
    "        uint64_t exp_val : 11;\n",
    "        uint64_t sign_val : 1;\n",
    "    };\n",
    "} double_parser_t;\n",
    "\n",
    "void describe_double(double x) {\n",
    "    double_parser_t parser = {.double_val = x};\n",
    "    printf(\"  (-1)^%d * 2^(%d) * 0x1.%013llx\", \n",
    "           (int)parser.sign_val, parser.exp_val - 1023, (long long unsigned int)parser.mantissa_val);\n",
    "}\n",
    "\n",
    "#else\n",
    "    #define IS_VLINE_POINT(i) 0\n",
    "    #define DESCRIBE(d) (void)(d)\n",
    "#endif\n",
    "\n",
    "inline uint64_t bits_of_double(double d) {\n",
    "    uint64_t result;\n",
    "    memcpy(&result, &d, sizeof(result));\n",
    "    return result;\n",
    "}\n",
    "\n",
    "inline void print_doubles(double* dds) {\n",
    "    char line_1[70] = {0}, line_2[70] = {0}, hline[70] = {0};\n",
    "    int j = 0;\n",
    "    for (int i = 63; i >= 0; --i) {\n",
    "        line_1[j] = (i % 10 == 0) ? ('0' + (i / 10)) : ' ';\n",
    "        line_2[j] = '0' + (i % 10);\n",
    "        hline[j] = '-';\n",
    "        ++j;\n",
    "        if (IS_VLINE_POINT(i)) {\n",
    "            line_1[j] = line_2[j] = '|';\n",
    "            hline[j] = '-';\n",
    "            ++j;\n",
    "        }\n",
    "    }\n",
    "    printf(\"Bit numbers: %s\\n\", line_1);\n",
    "    printf(\"             %s  (-1)^S * 2^(E-B) * (1+M/(2^Mbits))\\n\", line_2);\n",
    "    printf(\"             %s\\n\", hline);\n",
    "    for (double* d = dds; *d; ++d) {\n",
    "        printf(\"%10.4lf   \", *d);\n",
    "        uint64_t m = bits_of_double(*d);\n",
    "        for (int i = 63; i >= 0; --i) {\n",
    "            printf(\"%d\", (int)((m >> i) & 1));\n",
    "            if (IS_VLINE_POINT(i)) {\n",
    "                printf(\"|\");\n",
    "            }\n",
    "        }\n",
    "        DESCRIBE(*d);\n",
    "        printf(\"\\n\");\n",
    "    }\n",
    "}"
   ]
  },
  {
   "cell_type": "markdown",
   "metadata": {},
   "source": [
    "##### Посмотрим на пары чисел x и -x"
   ]
  },
  {
   "cell_type": "code",
   "execution_count": 79,
   "metadata": {
    "scrolled": true
   },
   "outputs": [
    {
     "data": {
      "text/markdown": [
       "Run: `gcc stand.cpp -o stand.exe`"
      ],
      "text/plain": [
       "<IPython.core.display.Markdown object>"
      ]
     },
     "metadata": {},
     "output_type": "display_data"
    },
    {
     "data": {
      "text/markdown": [
       "Run: `./stand.exe`"
      ],
      "text/plain": [
       "<IPython.core.display.Markdown object>"
      ]
     },
     "metadata": {},
     "output_type": "display_data"
    },
    {
     "name": "stdout",
     "output_type": "stream",
     "text": [
      "Bit numbers:  |  6        | 5         4         3         2         1         0\r\n",
      "             3|21098765432|1098765432109876543210987654321098765432109876543210  (-1)^S * 2^(E-B) * (1+M/(2^Mbits))\r\n",
      "             ------------------------------------------------------------------\r\n",
      "    1.0000   0|01111111111|0000000000000000000000000000000000000000000000000000  (-1)^0 * 2^(0) * 0x1.0000000000000\r\n",
      "   -1.0000   1|01111111111|0000000000000000000000000000000000000000000000000000  (-1)^1 * 2^(0) * 0x1.0000000000000\r\n",
      "  132.0000   0|10000000110|0000100000000000000000000000000000000000000000000000  (-1)^0 * 2^(7) * 0x1.0800000000000\r\n",
      " -132.0000   1|10000000110|0000100000000000000000000000000000000000000000000000  (-1)^1 * 2^(7) * 0x1.0800000000000\r\n",
      "    3.1415   0|10000000000|1001001000011100101011000000100000110001001001101111  (-1)^0 * 2^(1) * 0x1.921cac083126f\r\n",
      "   -3.1415   1|10000000000|1001001000011100101011000000100000110001001001101111  (-1)^1 * 2^(1) * 0x1.921cac083126f\r\n"
     ]
    }
   ],
   "source": [
    "%%cpp stand.cpp\n",
    "%run gcc stand.cpp -o stand.exe\n",
    "%run ./stand.exe\n",
    "\n",
    "#include \"stand.h\"\n",
    "\n",
    "int main() {\n",
    "    double dd[] = {1, -1, 132, -132, 3.1415, -3.1415,  0};\n",
    "    print_doubles(dd);\n",
    "}"
   ]
  },
  {
   "cell_type": "markdown",
   "metadata": {},
   "source": [
    "##### Посмотрим на степени 2-ки"
   ]
  },
  {
   "cell_type": "code",
   "execution_count": 80,
   "metadata": {
    "scrolled": true
   },
   "outputs": [
    {
     "data": {
      "text/markdown": [
       "Run: `gcc stand.cpp -o stand.exe`"
      ],
      "text/plain": [
       "<IPython.core.display.Markdown object>"
      ]
     },
     "metadata": {},
     "output_type": "display_data"
    },
    {
     "data": {
      "text/markdown": [
       "Run: `./stand.exe`"
      ],
      "text/plain": [
       "<IPython.core.display.Markdown object>"
      ]
     },
     "metadata": {},
     "output_type": "display_data"
    },
    {
     "name": "stdout",
     "output_type": "stream",
     "text": [
      "Bit numbers:  |  6        | 5         4         3         2         1         0\r\n",
      "             3|21098765432|1098765432109876543210987654321098765432109876543210  (-1)^S * 2^(E-B) * (1+M/(2^Mbits))\r\n",
      "             ------------------------------------------------------------------\r\n",
      "    0.1250   0|01111111100|0000000000000000000000000000000000000000000000000000  (-1)^0 * 2^(-3) * 0x1.0000000000000\r\n",
      "    0.2500   0|01111111101|0000000000000000000000000000000000000000000000000000  (-1)^0 * 2^(-2) * 0x1.0000000000000\r\n",
      "    0.5000   0|01111111110|0000000000000000000000000000000000000000000000000000  (-1)^0 * 2^(-1) * 0x1.0000000000000\r\n",
      "    1.0000   0|01111111111|0000000000000000000000000000000000000000000000000000  (-1)^0 * 2^(0) * 0x1.0000000000000\r\n",
      "    2.0000   0|10000000000|0000000000000000000000000000000000000000000000000000  (-1)^0 * 2^(1) * 0x1.0000000000000\r\n",
      "    4.0000   0|10000000001|0000000000000000000000000000000000000000000000000000  (-1)^0 * 2^(2) * 0x1.0000000000000\r\n",
      "    8.0000   0|10000000010|0000000000000000000000000000000000000000000000000000  (-1)^0 * 2^(3) * 0x1.0000000000000\r\n",
      "   16.0000   0|10000000011|0000000000000000000000000000000000000000000000000000  (-1)^0 * 2^(4) * 0x1.0000000000000\r\n"
     ]
    }
   ],
   "source": [
    "%%cpp stand.cpp\n",
    "%run gcc stand.cpp -o stand.exe\n",
    "%run ./stand.exe\n",
    "\n",
    "#include \"stand.h\"\n",
    "\n",
    "int main() {\n",
    "    double dd[] = {0.125, 0.25, 0.5, 1, 2, 4, 8, 16, 0};\n",
    "    print_doubles(dd);\n",
    "}"
   ]
  },
  {
   "cell_type": "markdown",
   "metadata": {},
   "source": [
    "##### Посмотрим на числа вида $ 1 + i \\cdot 2^{(-k)}$"
   ]
  },
  {
   "cell_type": "code",
   "execution_count": 81,
   "metadata": {
    "scrolled": true
   },
   "outputs": [
    {
     "data": {
      "text/markdown": [
       "Run: `gcc stand.cpp -o stand.exe`"
      ],
      "text/plain": [
       "<IPython.core.display.Markdown object>"
      ]
     },
     "metadata": {},
     "output_type": "display_data"
    },
    {
     "data": {
      "text/markdown": [
       "Run: `./stand.exe`"
      ],
      "text/plain": [
       "<IPython.core.display.Markdown object>"
      ]
     },
     "metadata": {},
     "output_type": "display_data"
    },
    {
     "name": "stdout",
     "output_type": "stream",
     "text": [
      "Bit numbers:  |  6        | 5         4         3         2         1         0\r\n",
      "             3|21098765432|1098765432109876543210987654321098765432109876543210  (-1)^S * 2^(E-B) * (1+M/(2^Mbits))\r\n",
      "             ------------------------------------------------------------------\r\n",
      "    1.0000   0|01111111111|0000000000000000000000000000000000000000000000000000  (-1)^0 * 2^(0) * 0x1.0000000000000\r\n",
      "    1.1250   0|01111111111|0010000000000000000000000000000000000000000000000000  (-1)^0 * 2^(0) * 0x1.2000000000000\r\n",
      "    1.2500   0|01111111111|0100000000000000000000000000000000000000000000000000  (-1)^0 * 2^(0) * 0x1.4000000000000\r\n",
      "    1.3750   0|01111111111|0110000000000000000000000000000000000000000000000000  (-1)^0 * 2^(0) * 0x1.6000000000000\r\n",
      "    1.5000   0|01111111111|1000000000000000000000000000000000000000000000000000  (-1)^0 * 2^(0) * 0x1.8000000000000\r\n",
      "    1.6250   0|01111111111|1010000000000000000000000000000000000000000000000000  (-1)^0 * 2^(0) * 0x1.a000000000000\r\n",
      "    1.7500   0|01111111111|1100000000000000000000000000000000000000000000000000  (-1)^0 * 2^(0) * 0x1.c000000000000\r\n",
      "    1.8750   0|01111111111|1110000000000000000000000000000000000000000000000000  (-1)^0 * 2^(0) * 0x1.e000000000000\r\n"
     ]
    }
   ],
   "source": [
    "%%cpp stand.cpp\n",
    "%run gcc stand.cpp -o stand.exe\n",
    "%run ./stand.exe\n",
    "\n",
    "#include \"stand.h\"\n",
    "\n",
    "int main() {\n",
    "    double t8 = 1.0 / 8;\n",
    "    double dd[] = {1 + 0 * t8, 1 + 1 * t8, 1 + 2 * t8, 1 + 3 * t8, 1 + 4 * t8, \n",
    "                   1 + 5 * t8, 1 + 6 * t8, 1 + 7 * t8, 0};\n",
    "    print_doubles(dd);\n",
    "}"
   ]
  },
  {
   "cell_type": "markdown",
   "metadata": {},
   "source": [
    "##### Посмотрим на числа вида $ 1 + i \\cdot 2^{(-k)}$"
   ]
  },
  {
   "cell_type": "code",
   "execution_count": 82,
   "metadata": {},
   "outputs": [
    {
     "data": {
      "text/markdown": [
       "Run: `gcc stand.cpp -o stand.exe`"
      ],
      "text/plain": [
       "<IPython.core.display.Markdown object>"
      ]
     },
     "metadata": {},
     "output_type": "display_data"
    },
    {
     "data": {
      "text/markdown": [
       "Run: `./stand.exe`"
      ],
      "text/plain": [
       "<IPython.core.display.Markdown object>"
      ]
     },
     "metadata": {},
     "output_type": "display_data"
    },
    {
     "name": "stdout",
     "output_type": "stream",
     "text": [
      "Bit numbers:  |  6        | 5         4         3         2         1         0\r\n",
      "             3|21098765432|1098765432109876543210987654321098765432109876543210  (-1)^S * 2^(E-B) * (1+M/(2^Mbits))\r\n",
      "             ------------------------------------------------------------------\r\n",
      "    1.0000   0|01111111111|0000000000000000000000000000000000000000000000000000  (-1)^0 * 2^(0) * 0x1.0000000000000\r\n",
      "    1.0000   0|01111111111|0000000000000000000000000000000000000000000000000001  (-1)^0 * 2^(0) * 0x1.0000000000001\r\n",
      "    1.0000   0|01111111111|0000000000000000000000000000000000000000000000000010  (-1)^0 * 2^(0) * 0x1.0000000000002\r\n",
      "    1.0000   0|01111111111|0000000000000000000000000000000000000000000000000011  (-1)^0 * 2^(0) * 0x1.0000000000003\r\n",
      "    1.0000   0|01111111111|0000000000000000000000000000000000000000000000000100  (-1)^0 * 2^(0) * 0x1.0000000000004\r\n"
     ]
    }
   ],
   "source": [
    "%%cpp stand.cpp\n",
    "%run gcc stand.cpp -o stand.exe\n",
    "%run ./stand.exe\n",
    "\n",
    "#include \"stand.h\"\n",
    "\n",
    "int main() {\n",
    "    double eps = 1.0 / (1LL << 52);\n",
    "    double dd[] = {1 + 0 * eps, 1 + 1 * eps, 1 + 2 * eps, 1 + 3 * eps, 1 + 4 * eps, 0};\n",
    "    print_doubles(dd);\n",
    "}"
   ]
  },
  {
   "cell_type": "markdown",
   "metadata": {},
   "source": [
    "##### Посмотрим на существенно разные значения double"
   ]
  },
  {
   "cell_type": "code",
   "execution_count": 83,
   "metadata": {},
   "outputs": [
    {
     "data": {
      "text/markdown": [
       "Run: `gcc stand.cpp -o stand.exe`"
      ],
      "text/plain": [
       "<IPython.core.display.Markdown object>"
      ]
     },
     "metadata": {},
     "output_type": "display_data"
    },
    {
     "data": {
      "text/markdown": [
       "Run: `./stand.exe`"
      ],
      "text/plain": [
       "<IPython.core.display.Markdown object>"
      ]
     },
     "metadata": {},
     "output_type": "display_data"
    },
    {
     "name": "stdout",
     "output_type": "stream",
     "text": [
      "Bit numbers:  |  6        | 5         4         3         2         1         0\r\n",
      "             3|21098765432|1098765432109876543210987654321098765432109876543210  (-1)^S * 2^(E-B) * (1+M/(2^Mbits))\r\n",
      "             ------------------------------------------------------------------\r\n",
      "    1.5000   0|01111111111|1000000000000000000000000000000000000000000000000000  (-1)^0 * 2^(0) * 0x1.8000000000000\r\n",
      "  100.0000   0|10000000101|1001000000000000000000000000000000000000000000000000  (-1)^0 * 2^(6) * 0x1.9000000000000\r\n",
      "       nan   0|11111111111|1000000000000000000000000000000000000000000000000000  (-1)^0 * 2^(1024) * 0x1.8000000000000\r\n",
      "      -nan   1|11111111111|1000000000000000000000000000000000000000000000000000  (-1)^1 * 2^(1024) * 0x1.8000000000000\r\n",
      "      -nan   1|11111111111|1000000000000000000000000000000000000000000000000000  (-1)^1 * 2^(1024) * 0x1.8000000000000\r\n",
      "       inf   0|11111111111|0000000000000000000000000000000000000000000000000000  (-1)^0 * 2^(1024) * 0x1.0000000000000\r\n",
      "      -inf   1|11111111111|0000000000000000000000000000000000000000000000000000  (-1)^1 * 2^(1024) * 0x1.0000000000000\r\n"
     ]
    }
   ],
   "source": [
    "%%cpp stand.cpp\n",
    "%run gcc stand.cpp -o stand.exe\n",
    "%run ./stand.exe\n",
    "\n",
    "#include <math.h>\n",
    "#include \"stand.h\"\n",
    "\n",
    "int main() {\n",
    "    double dd[] = {1.5, 100, NAN, -NAN, 0.0 / 0.0, INFINITY, -INFINITY, 0};\n",
    "    print_doubles(dd);\n",
    "}"
   ]
  },
  {
   "cell_type": "code",
   "execution_count": null,
   "metadata": {},
   "outputs": [],
   "source": []
  },
  {
   "cell_type": "markdown",
   "metadata": {},
   "source": [
    "Я надеюсь по примерам вы уловили суть. Подробнее за теорией можно в \n",
    "[Ридинг Яковлева: Вещественная арифметика](https://github.com/victor-yacovlev/mipt-diht-caos/tree/master/practice/ieee754) "
   ]
  },
  {
   "cell_type": "code",
   "execution_count": null,
   "metadata": {},
   "outputs": [],
   "source": []
  },
  {
   "cell_type": "code",
   "execution_count": null,
   "metadata": {},
   "outputs": [],
   "source": []
  },
  {
   "cell_type": "markdown",
   "metadata": {},
   "source": [
    "# Дополнение про bitcast"
   ]
  },
  {
   "cell_type": "code",
   "execution_count": 64,
   "metadata": {},
   "outputs": [
    {
     "data": {
      "text/markdown": [
       "Run: `gcc -O2 -Wall bitcast.c -o bitcast.exe`"
      ],
      "text/plain": [
       "<IPython.core.display.Markdown object>"
      ]
     },
     "metadata": {},
     "output_type": "display_data"
    },
    {
     "name": "stdout",
     "output_type": "stream",
     "text": [
      "\u001b[01m\u001b[Kbitcast.c:\u001b[m\u001b[K In function ‘\u001b[01m\u001b[Kbit_cast_ptr\u001b[m\u001b[K’:\r\n",
      "\u001b[01m\u001b[Kbitcast.c:29:13:\u001b[m\u001b[K \u001b[01;35m\u001b[Kwarning: \u001b[m\u001b[Kdereferencing type-punned pointer will break strict-aliasing rules [\u001b[01;35m\u001b[K-Wstrict-aliasing\u001b[m\u001b[K]\r\n",
      "   29 |     return *\u001b[01;35m\u001b[K(uint64_t*)(void*)&d\u001b[m\u001b[K; // Простое, но неоднозначное решение из-за алиасинга\r\n",
      "      |             \u001b[01;35m\u001b[K^~~~~~~~~~~~~~~~~~~~\u001b[m\u001b[K\r\n"
     ]
    },
    {
     "data": {
      "text/markdown": [
       "Run: `./bitcast.exe`"
      ],
      "text/plain": [
       "<IPython.core.display.Markdown object>"
      ]
     },
     "metadata": {},
     "output_type": "display_data"
    },
    {
     "name": "stdout",
     "output_type": "stream",
     "text": [
      "4614275588213125939\r\n",
      "4614275588213125939\r\n",
      "4614275588213125939\r\n"
     ]
    }
   ],
   "source": [
    "%%cpp bitcast.c\n",
    "%run gcc -O2 -Wall bitcast.c -o bitcast.exe\n",
    "%run ./bitcast.exe\n",
    "\n",
    "#include <stdio.h>\n",
    "#include <string.h>\n",
    "#include <stdint.h>\n",
    "#include <inttypes.h>\n",
    "\n",
    "uint64_t bit_cast_memcpy(double d) {\n",
    "    uint64_t result;\n",
    "    memcpy(&result, &d, sizeof(result)); // Железобетонный способ, но чуть сложнее для оптимизатора\n",
    "    return result;\n",
    "}\n",
    "\n",
    "typedef union {\n",
    "    double double_val;\n",
    "    uint64_t ui64_val;\n",
    "} converter_t;\n",
    "\n",
    "uint64_t bit_cast_union(double d) {\n",
    "    converter_t conv;\n",
    "    conv.double_val = d;\n",
    "    return conv.ui64_val;\n",
    "    //return ((converter_t){.double_val = d}).ui64_val; // Вроде (?) хорошее решение\n",
    "}\n",
    "\n",
    "uint64_t bit_cast_ptr(double d) {\n",
    "    return *(uint64_t*)(void*)&d; // Простое, но неоднозначное решение из-за алиасинга\n",
    "}\n",
    "\n",
    "int main() {\n",
    "    double d = 3.15;\n",
    "    printf(\"%\" PRId64 \"\\n\", bit_cast_memcpy(d));\n",
    "    printf(\"%\" PRId64 \"\\n\", bit_cast_union(d));\n",
    "    printf(\"%\" PRId64 \"\\n\", bit_cast_memcpy(d));\n",
    "}"
   ]
  },
  {
   "cell_type": "code",
   "execution_count": 65,
   "metadata": {},
   "outputs": [
    {
     "name": "stdout",
     "output_type": "stream",
     "text": [
      "Dump of assembler code for function bit_cast_memcpy:\r\n",
      "   0x00000000000011c0 <+0>:\tendbr64 \r\n",
      "   0x00000000000011c4 <+4>:\tmovq   %xmm0,%rax\r\n",
      "   0x00000000000011c9 <+9>:\tretq   \r\n",
      "End of assembler dump.\r\n",
      "Dump of assembler code for function bit_cast_union:\r\n",
      "   0x00000000000011d0 <+0>:\tendbr64 \r\n",
      "   0x00000000000011d4 <+4>:\tmovq   %xmm0,%rax\r\n",
      "   0x00000000000011d9 <+9>:\tretq   \r\n",
      "End of assembler dump.\r\n",
      "Dump of assembler code for function bit_cast_ptr:\r\n",
      "   0x00000000000011e0 <+0>:\tendbr64 \r\n",
      "   0x00000000000011e4 <+4>:\tmovq   %xmm0,%rax\r\n",
      "   0x00000000000011e9 <+9>:\tretq   \r\n",
      "End of assembler dump.\r\n"
     ]
    }
   ],
   "source": [
    "!gdb bitcast.exe -batch -ex=\"disass bit_cast_memcpy\" -ex=\"disass bit_cast_union\" -ex=\"disass bit_cast_ptr\""
   ]
  },
  {
   "cell_type": "markdown",
   "metadata": {},
   "source": [
    "Я бы рекомендовал использовать в таких случаях memcpy. [Так сделано в std::bit_cast](https://en.cppreference.com/w/cpp/numeric/bit_cast)\n",
    "\n",
    "[Про C++ алиасинг, ловкие оптимизации и подлые баги / Хабр](https://habr.com/ru/post/114117/)"
   ]
  },
  {
   "cell_type": "code",
   "execution_count": null,
   "metadata": {},
   "outputs": [],
   "source": []
  },
  {
   "cell_type": "code",
   "execution_count": null,
   "metadata": {},
   "outputs": [],
   "source": []
  },
  {
   "cell_type": "code",
   "execution_count": null,
   "metadata": {},
   "outputs": [],
   "source": []
  },
  {
   "cell_type": "code",
   "execution_count": null,
   "metadata": {},
   "outputs": [],
   "source": []
  }
 ],
 "metadata": {
  "kernelspec": {
   "display_name": "Python 3",
   "language": "python",
   "name": "python3"
  },
  "language_info": {
   "codemirror_mode": {
    "name": "ipython",
    "version": 3
   },
   "file_extension": ".py",
   "mimetype": "text/x-python",
   "name": "python",
   "nbconvert_exporter": "python",
   "pygments_lexer": "ipython3",
   "version": "3.8.2"
  }
 },
 "nbformat": 4,
 "nbformat_minor": 2
}
