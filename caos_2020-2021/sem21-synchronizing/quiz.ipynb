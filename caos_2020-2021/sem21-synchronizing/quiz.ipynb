{
 "cells": [
  {
   "cell_type": "code",
   "execution_count": 1,
   "metadata": {},
   "outputs": [
    {
     "data": {
      "application/javascript": [
       "// setup cpp code highlighting\n",
       "IPython.CodeCell.options_default.highlight_modes[\"text/x-c++src\"] = {'reg':[/^%%cpp/]} ;"
      ],
      "text/plain": [
       "<IPython.core.display.Javascript object>"
      ]
     },
     "metadata": {},
     "output_type": "display_data"
    },
    {
     "data": {
      "text/html": [
       "<!-- YANDEX_METRICA_BEGIN -->\n",
       "    <script type=\"text/javascript\" >\n",
       "       (function(m,e,t,r,i,k,a){m[i]=m[i]||function(){(m[i].a=m[i].a||[]).push(arguments)};\n",
       "       m[i].l=1*new Date();k=e.createElement(t),a=e.getElementsByTagName(t)[0],k.async=1,k.src=r,a.parentNode.insertBefore(k,a)})\n",
       "       (window, document, \"script\", \"https://mc.yandex.ru/metrika/tag.js\", \"ym\");\n",
       "\n",
       "       ym(59260609, \"init\", {\n",
       "            clickmap:true,\n",
       "            trackLinks:true,\n",
       "            accurateTrackBounce:true\n",
       "       });\n",
       "    </script>\n",
       "    <noscript><div><img src=\"https://mc.yandex.ru/watch/59260609\" style=\"position:absolute; left:-9999px;\" alt=\"\" /></div></noscript>\n",
       "    <!-- YANDEX_METRICA_END -->"
      ],
      "text/plain": [
       "<IPython.core.display.HTML object>"
      ]
     },
     "metadata": {},
     "output_type": "display_data"
    },
    {
     "data": {
      "text/html": [
       "В этот ноутбук встроен код Яндекс Метрики для сбора статистики использований. Если вы не хотите, чтобы по вам собиралась статистика, исправьте: yandex_metrica_allowed = False<!-- MAGICS_SETUP_PRINTING_END -->"
      ],
      "text/plain": [
       "<IPython.core.display.HTML object>"
      ]
     },
     "metadata": {},
     "output_type": "display_data"
    }
   ],
   "source": [
    "# look at tools/set_up_magics.ipynb\n",
    "yandex_metrica_allowed = True ; get_ipython().run_cell('# one_liner_str\\n\\nget_ipython().run_cell_magic(\\'javascript\\', \\'\\', \\'// setup cpp code highlighting\\\\nIPython.CodeCell.options_default.highlight_modes[\"text/x-c++src\"] = {\\\\\\'reg\\\\\\':[/^%%cpp/]} ;\\')\\n\\n# creating magics\\nfrom IPython.core.magic import register_cell_magic, register_line_magic\\nfrom IPython.display import display, Markdown, HTML\\nimport argparse\\nfrom subprocess import Popen, PIPE\\nimport random\\nimport sys\\nimport os\\nimport re\\nimport signal\\nimport shutil\\nimport shlex\\nimport glob\\n\\n@register_cell_magic\\ndef save_file(args_str, cell, line_comment_start=\"#\"):\\n    parser = argparse.ArgumentParser()\\n    parser.add_argument(\"fname\")\\n    parser.add_argument(\"--ejudge-style\", action=\"store_true\")\\n    args = parser.parse_args(args_str.split())\\n    \\n    cell = cell if cell[-1] == \\'\\\\n\\' or args.no_eof_newline else cell + \"\\\\n\"\\n    cmds = []\\n    with open(args.fname, \"w\") as f:\\n        f.write(line_comment_start + \" %%cpp \" + args_str + \"\\\\n\")\\n        for line in cell.split(\"\\\\n\"):\\n            line_to_write = (line if not args.ejudge_style else line.rstrip()) + \"\\\\n\"\\n            if line.startswith(\"%\"):\\n                run_prefix = \"%run \"\\n                if line.startswith(run_prefix):\\n                    cmds.append(line[len(run_prefix):].strip())\\n                    f.write(line_comment_start + \" \" + line_to_write)\\n                    continue\\n                run_prefix = \"%# \"\\n                if line.startswith(run_prefix):\\n                    f.write(line_comment_start + \" \" + line_to_write)\\n                    continue\\n                raise Exception(\"Unknown %%save_file subcommand: \\'%s\\'\" % line)\\n            else:\\n                f.write(line_to_write)\\n        f.write(\"\" if not args.ejudge_style else line_comment_start + r\" line without \\\\n\")\\n    for cmd in cmds:\\n        display(Markdown(\"Run: `%s`\" % cmd))\\n        get_ipython().system(cmd)\\n\\n@register_cell_magic\\ndef cpp(fname, cell):\\n    save_file(fname, cell, \"//\")\\n\\n@register_cell_magic\\ndef asm(fname, cell):\\n    save_file(fname, cell, \"//\")\\n    \\n@register_cell_magic\\ndef makefile(fname, cell):\\n    assert not fname\\n    save_file(\"makefile\", cell.replace(\" \" * 4, \"\\\\t\"))\\n        \\n@register_line_magic\\ndef p(line):\\n    try:\\n        expr, comment = line.split(\" #\")\\n        display(Markdown(\"`{} = {}`  # {}\".format(expr.strip(), eval(expr), comment.strip())))\\n    except:\\n        display(Markdown(\"{} = {}\".format(line, eval(line))))\\n        \\ndef show_file(file, clear_at_begin=True, return_html_string=False):\\n    if clear_at_begin:\\n        get_ipython().system(\"truncate --size 0 \" + file)\\n    obj = file.replace(\\'.\\', \\'_\\').replace(\\'/\\', \\'_\\') + \"_obj\"\\n    html_string = \\'\\'\\'\\n        <!--MD_BEGIN_FILTER-->\\n        <script type=text/javascript>\\n        var entrance___OBJ__ = 0;\\n        var errors___OBJ__ = 0;\\n        function refresh__OBJ__()\\n        {\\n            entrance___OBJ__ -= 1;\\n            var elem = document.getElementById(\"__OBJ__\");\\n            if (elem) {\\n                var xmlhttp=new XMLHttpRequest();\\n                xmlhttp.onreadystatechange=function()\\n                {\\n                    var elem = document.getElementById(\"__OBJ__\");\\n                    console.log(!!elem, xmlhttp.readyState, xmlhttp.status, entrance___OBJ__);\\n                    if (elem && xmlhttp.readyState==4) {\\n                        if (xmlhttp.status==200)\\n                        {\\n                            errors___OBJ__ = 0;\\n                            if (!entrance___OBJ__) {\\n                                elem.innerText = xmlhttp.responseText;\\n                                entrance___OBJ__ += 1;\\n                                console.log(\"req\");\\n                                window.setTimeout(\"refresh__OBJ__()\", 300); \\n                            }\\n                            return xmlhttp.responseText;\\n                        } else {\\n                            errors___OBJ__ += 1;\\n                            if (errors___OBJ__ < 10 && !entrance___OBJ__) {\\n                                entrance___OBJ__ += 1;\\n                                console.log(\"req\");\\n                                window.setTimeout(\"refresh__OBJ__()\", 300); \\n                            }\\n                        }\\n                    }\\n                }\\n                xmlhttp.open(\"GET\", \"__FILE__\", true);\\n                xmlhttp.setRequestHeader(\"Cache-Control\", \"no-cache\");\\n                xmlhttp.send();     \\n            }\\n        }\\n        \\n        if (!entrance___OBJ__) {\\n            entrance___OBJ__ += 1;\\n            refresh__OBJ__(); \\n        }\\n        </script>\\n        \\n        <font color=\"white\"> <tt>\\n        <p id=\"__OBJ__\" style=\"font-size: 16px; border:3px #333333 solid; background: #333333; border-radius: 10px; padding: 10px;  \"></p>\\n        </tt> </font>\\n        <!--MD_END_FILTER-->\\n        <!--MD_FROM_FILE __FILE__ -->\\n        \\'\\'\\'.replace(\"__OBJ__\", obj).replace(\"__FILE__\", file)\\n    if return_html_string:\\n        return html_string\\n    display(HTML(html_string))\\n    \\nBASH_POPEN_TMP_DIR = \"./bash_popen_tmp\"\\n    \\ndef bash_popen_terminate_all():\\n    for p in globals().get(\"bash_popen_list\", []):\\n        print(\"Terminate pid=\" + str(p.pid), file=sys.stderr)\\n        p.terminate()\\n    globals()[\"bash_popen_list\"] = []\\n    if os.path.exists(BASH_POPEN_TMP_DIR):\\n        shutil.rmtree(BASH_POPEN_TMP_DIR)\\n\\nbash_popen_terminate_all()  \\n\\ndef bash_popen(cmd):\\n    if not os.path.exists(BASH_POPEN_TMP_DIR):\\n        os.mkdir(BASH_POPEN_TMP_DIR)\\n    h = os.path.join(BASH_POPEN_TMP_DIR, str(random.randint(0, 1e18)))\\n    stdout_file = h + \".out.html\"\\n    stderr_file = h + \".err.html\"\\n    run_log_file = h + \".fin.html\"\\n    \\n    stdout = open(stdout_file, \"wb\")\\n    stdout = open(stderr_file, \"wb\")\\n    \\n    html = \"\"\"\\n    <table width=\"100%\">\\n    <colgroup>\\n       <col span=\"1\" style=\"width: 70px;\">\\n       <col span=\"1\">\\n    </colgroup>    \\n    <tbody>\\n      <tr> <td><b>STDOUT</b></td> <td> {stdout} </td> </tr>\\n      <tr> <td><b>STDERR</b></td> <td> {stderr} </td> </tr>\\n      <tr> <td><b>RUN LOG</b></td> <td> {run_log} </td> </tr>\\n    </tbody>\\n    </table>\\n    \"\"\".format(\\n        stdout=show_file(stdout_file, return_html_string=True),\\n        stderr=show_file(stderr_file, return_html_string=True),\\n        run_log=show_file(run_log_file, return_html_string=True),\\n    )\\n    \\n    cmd = \"\"\"\\n        bash -c {cmd} &\\n        pid=$!\\n        echo \"Process started! pid=${{pid}}\" > {run_log_file}\\n        wait ${{pid}}\\n        echo \"Process finished! exit_code=$?\" >> {run_log_file}\\n    \"\"\".format(cmd=shlex.quote(cmd), run_log_file=run_log_file)\\n    # print(cmd)\\n    display(HTML(html))\\n    \\n    p = Popen([\"bash\", \"-c\", cmd], stdin=PIPE, stdout=stdout, stderr=stdout)\\n    \\n    bash_popen_list.append(p)\\n    return p\\n\\n\\n@register_line_magic\\ndef bash_async(line):\\n    bash_popen(line)\\n    \\n    \\ndef show_log_file(file, return_html_string=False):\\n    obj = file.replace(\\'.\\', \\'_\\').replace(\\'/\\', \\'_\\') + \"_obj\"\\n    html_string = \\'\\'\\'\\n        <!--MD_BEGIN_FILTER-->\\n        <script type=text/javascript>\\n        var entrance___OBJ__ = 0;\\n        var errors___OBJ__ = 0;\\n        function halt__OBJ__(elem, color)\\n        {\\n            elem.setAttribute(\"style\", \"font-size: 14px; background: \" + color + \"; padding: 10px; border: 3px; border-radius: 5px; color: white; \");                    \\n        }\\n        function refresh__OBJ__()\\n        {\\n            entrance___OBJ__ -= 1;\\n            if (entrance___OBJ__ < 0) {\\n                entrance___OBJ__ = 0;\\n            }\\n            var elem = document.getElementById(\"__OBJ__\");\\n            if (elem) {\\n                var xmlhttp=new XMLHttpRequest();\\n                xmlhttp.onreadystatechange=function()\\n                {\\n                    var elem = document.getElementById(\"__OBJ__\");\\n                    console.log(!!elem, xmlhttp.readyState, xmlhttp.status, entrance___OBJ__);\\n                    if (elem && xmlhttp.readyState==4) {\\n                        if (xmlhttp.status==200)\\n                        {\\n                            errors___OBJ__ = 0;\\n                            if (!entrance___OBJ__) {\\n                                if (elem.innerHTML != xmlhttp.responseText) {\\n                                    elem.innerHTML = xmlhttp.responseText;\\n                                }\\n                                if (elem.innerHTML.includes(\"Process finished.\")) {\\n                                    halt__OBJ__(elem, \"#333333\");\\n                                } else {\\n                                    entrance___OBJ__ += 1;\\n                                    console.log(\"req\");\\n                                    window.setTimeout(\"refresh__OBJ__()\", 300); \\n                                }\\n                            }\\n                            return xmlhttp.responseText;\\n                        } else {\\n                            errors___OBJ__ += 1;\\n                            if (!entrance___OBJ__) {\\n                                if (errors___OBJ__ < 6) {\\n                                    entrance___OBJ__ += 1;\\n                                    console.log(\"req\");\\n                                    window.setTimeout(\"refresh__OBJ__()\", 300); \\n                                } else {\\n                                    halt__OBJ__(elem, \"#994444\");\\n                                }\\n                            }\\n                        }\\n                    }\\n                }\\n                xmlhttp.open(\"GET\", \"__FILE__\", true);\\n                xmlhttp.setRequestHeader(\"Cache-Control\", \"no-cache\");\\n                xmlhttp.send();     \\n            }\\n        }\\n        \\n        if (!entrance___OBJ__) {\\n            entrance___OBJ__ += 1;\\n            refresh__OBJ__(); \\n        }\\n        </script>\\n\\n        <p id=\"__OBJ__\" style=\"font-size: 14px; background: #000000; padding: 10px; border: 3px; border-radius: 5px; color: white; \">\\n        </p>\\n        \\n        </font>\\n        <!--MD_END_FILTER-->\\n        <!--MD_FROM_FILE __FILE__.md -->\\n        \\'\\'\\'.replace(\"__OBJ__\", obj).replace(\"__FILE__\", file)\\n    if return_html_string:\\n        return html_string\\n    display(HTML(html_string))\\n\\n    \\nclass TInteractiveLauncher:\\n    tmp_path = \"./interactive_launcher_tmp\"\\n    def __init__(self, cmd):\\n        try:\\n            os.mkdir(TInteractiveLauncher.tmp_path)\\n        except:\\n            pass\\n        name = str(random.randint(0, 1e18))\\n        self.inq_path = os.path.join(TInteractiveLauncher.tmp_path, name + \".inq\")\\n        self.log_path = os.path.join(TInteractiveLauncher.tmp_path, name + \".log\")\\n        \\n        os.mkfifo(self.inq_path)\\n        open(self.log_path, \\'w\\').close()\\n        open(self.log_path + \".md\", \\'w\\').close()\\n\\n        self.pid = os.fork()\\n        if self.pid == -1:\\n            print(\"Error\")\\n        if self.pid == 0:\\n            exe_cands = glob.glob(\"../tools/launcher.py\") + glob.glob(\"../../tools/launcher.py\")\\n            assert(len(exe_cands) == 1)\\n            assert(os.execvp(\"python3\", [\"python3\", exe_cands[0], \"-l\", self.log_path, \"-i\", self.inq_path, \"-c\", cmd]) == 0)\\n        self.inq_f = open(self.inq_path, \"w\")\\n        interactive_launcher_opened_set.add(self.pid)\\n        show_log_file(self.log_path)\\n\\n    def write(self, s):\\n        s = s.encode()\\n        assert len(s) == os.write(self.inq_f.fileno(), s)\\n        \\n    def get_pid(self):\\n        n = 100\\n        for i in range(n):\\n            try:\\n                return int(re.findall(r\"PID = (\\\\d+)\", open(self.log_path).readline())[0])\\n            except:\\n                if i + 1 == n:\\n                    raise\\n                time.sleep(0.1)\\n        \\n    def input_queue_path(self):\\n        return self.inq_path\\n        \\n    def close(self):\\n        self.inq_f.close()\\n        os.waitpid(self.pid, 0)\\n        os.remove(self.inq_path)\\n        # os.remove(self.log_path)\\n        self.inq_path = None\\n        self.log_path = None \\n        interactive_launcher_opened_set.remove(self.pid)\\n        self.pid = None\\n        \\n    @staticmethod\\n    def terminate_all():\\n        if \"interactive_launcher_opened_set\" not in globals():\\n            globals()[\"interactive_launcher_opened_set\"] = set()\\n        global interactive_launcher_opened_set\\n        for pid in interactive_launcher_opened_set:\\n            print(\"Terminate pid=\" + str(pid), file=sys.stderr)\\n            os.kill(pid, signal.SIGKILL)\\n            os.waitpid(pid, 0)\\n        interactive_launcher_opened_set = set()\\n        if os.path.exists(TInteractiveLauncher.tmp_path):\\n            shutil.rmtree(TInteractiveLauncher.tmp_path)\\n    \\nTInteractiveLauncher.terminate_all()\\n   \\nyandex_metrica_allowed = bool(globals().get(\"yandex_metrica_allowed\", False))\\nif yandex_metrica_allowed:\\n    display(HTML(\\'\\'\\'<!-- YANDEX_METRICA_BEGIN -->\\n    <script type=\"text/javascript\" >\\n       (function(m,e,t,r,i,k,a){m[i]=m[i]||function(){(m[i].a=m[i].a||[]).push(arguments)};\\n       m[i].l=1*new Date();k=e.createElement(t),a=e.getElementsByTagName(t)[0],k.async=1,k.src=r,a.parentNode.insertBefore(k,a)})\\n       (window, document, \"script\", \"https://mc.yandex.ru/metrika/tag.js\", \"ym\");\\n\\n       ym(59260609, \"init\", {\\n            clickmap:true,\\n            trackLinks:true,\\n            accurateTrackBounce:true\\n       });\\n    </script>\\n    <noscript><div><img src=\"https://mc.yandex.ru/watch/59260609\" style=\"position:absolute; left:-9999px;\" alt=\"\" /></div></noscript>\\n    <!-- YANDEX_METRICA_END -->\\'\\'\\'))\\n\\ndef make_oneliner():\\n    html_text = \\'(\"В этот ноутбук встроен код Яндекс Метрики для сбора статистики использований. Если вы не хотите, чтобы по вам собиралась статистика, исправьте: yandex_metrica_allowed = False\" if yandex_metrica_allowed else \"\")\\'\\n    html_text += \\' + \"<\"\"!-- MAGICS_SETUP_PRINTING_END -->\"\\'\\n    return \\'\\'.join([\\n        \\'# look at tools/set_up_magics.ipynb\\\\n\\',\\n        \\'yandex_metrica_allowed = True ; get_ipython().run_cell(%s);\\' % repr(one_liner_str),\\n        \\'display(HTML(%s))\\' % html_text,\\n        \\' #\\'\\'MAGICS_SETUP_END\\'\\n    ])\\n       \\n\\n');display(HTML((\"В этот ноутбук встроен код Яндекс Метрики для сбора статистики использований. Если вы не хотите, чтобы по вам собиралась статистика, исправьте: yandex_metrica_allowed = False\" if yandex_metrica_allowed else \"\") + \"<\"\"!-- MAGICS_SETUP_PRINTING_END -->\")) #MAGICS_SETUP_END"
   ]
  },
  {
   "cell_type": "markdown",
   "metadata": {},
   "source": [
    "# Как проверять асинхронщину?\n",
    "\n",
    "1. `--sanitize=thread` - это стоит сделать сразу и не задумываясь. Максимально быстро даст результат. К сожалению бывает false nagative и в экзотических случаях false positive.\n",
    "\n",
    "2. Головой. Вот об этом дальше.\n",
    "\n",
    "В общем случае и с потоками и сигналами, у вас есть несколько потоков команд, которые выполняются параллельно.\n",
    "\n",
    "* В случае сигналов и одного потока ситуация такая: выполняется основной поток команд, но в любой момент, когда сигналы не заблокированы, он может быть прерван обработчиком сигнала (и обработчик полностью завершится, прежде чем продолжит выполняться основной поток). **При анализе кода** нужно рассматривать каждый такой момент: \"а не сломается ли, если придет сейчас?\". \n",
    "<br>Так же нужно учитывать, что реальный порядок команд может отличаться от того, что вы пишете в коде из-за работы оптимизатора.\n",
    "\n",
    "Картинка-пример выполнения команд с течением времени:\n",
    "```\n",
    "Signals blocked:         _BBBB___________...\n",
    "Main thread commands:    1[34]6______7__9...\n",
    "Can be interrupted:      Y____YYYYYYYYYYY...\n",
    "Signal handler commands: ______123456____...\n",
    "_______________________________^ consider that signal handler \n",
    "_______________________________  may interrupt after every command\n",
    "B - blocked\n",
    "Y - yes\n",
    "1, 2, 3 -commands\n",
    "```\n",
    "\n",
    "* В случае межпоточного взаимодействия так же нужно понимать, что потоки могут переключаться в любые моменты. И нет никаких гарантий по порядку исполнения команд из разных потоков. Некоторые команды могут исполняться одновременно. В одном потоке может выполниться 100000 команд, пока в другом не выполнится ни одна... Так же нужно учитывать, что реальный порядок команд может отличаться от того, что вы пишете в коде из-за работы оптимизатора.\n",
    "\n",
    "  Картинка-пример выполнения команд с течением времени:\n",
    "```\n",
    "Thread 1:      12_34______5\n",
    "Thread 2:      1_2_3__4__56\n",
    "```\n",
    "\n",
    "  В отличие от сигналов здесь есть: \n",
    "  \n",
    "  * Критические секции\n",
    "    <br>Тут у вас есть гарантия, что оптимизатор не будет делать опасных перемещений команд сквозь границы критической секции.\n",
    "    <br>Так же два потока не могут исполняться одновременно в одной критической секции.\n",
    "    <br>То есть в ней можно безопасно работать с незащищенными данными.\n",
    "  * Condvar\n",
    "    <br>Можно рассматривать эту сущность как lockfree список потоков ожидающих события.\n",
    "    <br>Во время wait на condvar отпускаетя мьютекс. То есть внутри него заканчивается критическая секция и начинается новая. То есть после выполнения wait данные, защищаемые мьютексом, могут измениться.\n",
    "    <br>Функцию signal стоит рассматривать как группу атомарных операций. Ну и в принципе не стоит забывать, что у некоторых функций внутри атомарные операции.\n",
    "  * Честное параллельное выполнение.\n",
    "    <br>Это значит, что вне критических секций всё взаимодействие по данным должно осуществляться только через атомики (не то же самое, что volatile). Иначе один поток может увидеть изменения сделанные другим потоком в любом виде. (То есть полное UB)\n",
    " \n",
    "  Если взаимодействуем через атомики, то:\n",
    "  \n",
    "  * Атомарные операции над одной переменной из двух потоков в любом случае выполнятся последовательно. То есть можно забить на то, что процессоры бывают многоядерные и представлять, что все шедулится на одном ядре.\n",
    "  * **При анализе программы**, рассматриваем возможность переключения потоков в любом порядке: смотрим на команду в потоке 1 и думаем, что за ней может выполниться следующая команда потока 1, а может и следующая команда потока 2. И в обоих случаях ничего сломаться не должно.\n",
    "  * Атомарные операции подразумевают барьеры памяти (абстрактные штуки, которые не дают оптимизатору переставлять операции с обычной памятью через атомарные)\n",
    "    \n",
    "  \n"
   ]
  },
  {
   "cell_type": "markdown",
   "metadata": {},
   "source": [
    "# <a name=\"tasks\"></a> Задачки на разную асинхронщину и не только. \n",
    "\n",
    "Про обработчики сигналов. Эти задачки про то, чтобы научиться видеть ошибки в асинхронном коде. Все примеры компилируются и при **каких-то обстоятельствах** точно работают. Вам нужно проверить, работают ли корректно при любых обстоятельствах. Если работают, то подумать, нет ли в коде других проблем.\n",
    "* <a href=\"#sig_pause\" style=\"color:#856024\"> `while(!stopped) pause();` </a>\n",
    "* <a href=\"#sig_handler_fin\" style=\"color:#856024\"> Финализация в хендлере </a>\n",
    "* <a href=\"#sig_while_true_1\" style=\"color:#856024\"> `while(!stopped); #1` </a>\n",
    "* <a href=\"#sig_while_true_2\" style=\"color:#856024\"> `while(!stopped); #2` </a>\n",
    "* <a href=\"#sig_check\" style=\"color:#856024\"> `sigtimedwait` </a>\n",
    "* <a href=\"#sig_check_regular\" style=\"color:#856024\"> `sigtimedwait` 2 </a>\n",
    "\n",
    "Разное:\n",
    "* <a href=\"#read_piece\" style=\"color:#856024\"> Retryable read </a>\n",
    "\n",
    "\n",
    "Про межпоточную синхронизацию.\n",
    "* <a href=\"#sig_mutex\" style=\"color:#856024\"> Signal handler synchronization </a>\n",
    "* <a href=\"#condvar_1\" style=\"color:#856024\"> Condvar 1 </a>\n",
    "* <a href=\"#condvar_2\" style=\"color:#856024\"> Condvar 2 </a>\n",
    "* <a href=\"#condvar_3\" style=\"color:#856024\"> Condvar 3 </a>\n",
    "* <a href=\"#mutex_char\" style=\"color:#856024\"> Mutex </a>\n",
    "* <a href=\"#atomic\" style=\"color:#856024\"> Atomic </a>\n",
    "* <a href=\"#philosophical_lock\" style=\"color:#856024\"> Philosophical lock </a> от [Андрея Баженова](https://github.com/TheRealBazhen)\n",
    "* <a href=\"#threads\" style=\"color:#856024\"> Ниточки Ариадны </a>\n",
    "\n",
    "Большинство задачек нацелены на то, чтобы показать как делать не надо. Как можно делать - в материалах семинаров.\n",
    "\n",
    "**Постарайтесь решить задачки самостоятельно, не заглядывая в ответы сразу. Удачи!**\n"
   ]
  },
  {
   "cell_type": "markdown",
   "metadata": {},
   "source": [
    "# Полезные ссылки\n",
    "\n",
    "https://deadlockempire.github.io/ - интекрактивная игра, в которой нужно играть роль злого шедулера и заставлять крешиться программы. Мне кажется, очень полезно попроходить."
   ]
  },
  {
   "cell_type": "markdown",
   "metadata": {},
   "source": [
    "# <a name=\"sig_pause\"></a> `while(!stopped) pause();`\n",
    "\n",
    "Корректна ли программа с точки зрения асинхронной безопасности обработчиков сигналов?\n",
    "То есть будет ли она завершаться по приходу сигнала?\n",
    "\n",
    "Хотим завершаться как только придет сигнал."
   ]
  },
  {
   "cell_type": "code",
   "execution_count": 2,
   "metadata": {},
   "outputs": [
    {
     "data": {
      "text/markdown": [
       "Run: `gcc -g -O0 sig_pause.c -lpthread -o sig_pause.exe`"
      ],
      "text/plain": [
       "<IPython.core.display.Markdown object>"
      ]
     },
     "metadata": {},
     "output_type": "display_data"
    },
    {
     "data": {
      "text/markdown": [
       "Run: `# ./sig_pause.exe`"
      ],
      "text/plain": [
       "<IPython.core.display.Markdown object>"
      ]
     },
     "metadata": {},
     "output_type": "display_data"
    }
   ],
   "source": [
    "%%cpp sig_pause.c\n",
    "%run gcc -g -O0 sig_pause.c -lpthread -o sig_pause.exe\n",
    "%run # ./sig_pause.exe\n",
    "\n",
    "#include <unistd.h>\n",
    "#include <signal.h>\n",
    "\n",
    "volatile sig_atomic_t stop = 0;\n",
    "\n",
    "static void handler(int signum) {\n",
    "    stop = 1;\n",
    "}\n",
    "\n",
    "int main(int argc, char* argv[]) {\n",
    "    int signals[] = {SIGINT, SIGTERM, 0};\n",
    "    for (int* signal = signals; *signal; ++signal) {\n",
    "        sigaction(*signal, &(struct sigaction){.sa_handler=handler}, NULL);\n",
    "    }\n",
    "    while (!stop) {\n",
    "        int a = 1;\n",
    "        pause();\n",
    "    }\n",
    "    return 0;\n",
    "}"
   ]
  },
  {
   "cell_type": "markdown",
   "metadata": {},
   "source": [
    "<details>\n",
    "<summary><b>Ответ</b></summary>\n",
    "<p>\n",
    "    \n",
    "Как все из вас с недырявой памятью помнят, так делать нельзя, если сигнал придет между проверкой и `pause`, то мы на него не среагируем.\n",
    "    \n",
    "    \n",
    "Воспроизвести ситуацию можно так:\n",
    "    \n",
    "* Запустим программу под gdb, чтобы заморозить ее в неудачный момент (на строке `int a = 1;`): `gdb -ex=\"b 21\" -ex=\"handle SIGTERM nostop\" -ex=\"handle SIGCHLD nostop\" -ex=r --args ./sig_pause.exe`\n",
    "* Пошлем сигнал, который должен приводить к немедленному завершению: `killall -SIGTERM sig_pause.exe`\n",
    "* Жмем `c` в gdb. \n",
    "* Вот и все, мы не среагировали на сигнал.    \n",
    "    \n",
    "   \n",
    "A еще, если тут не будет volatile, то while(!stop) может соптимизироваться до while(true)\n",
    "    \n",
    "</p>\n",
    "</details>\n",
    "\n",
    "\n",
    "\n",
    "\n"
   ]
  },
  {
   "cell_type": "code",
   "execution_count": null,
   "metadata": {},
   "outputs": [],
   "source": []
  },
  {
   "cell_type": "markdown",
   "metadata": {},
   "source": [
    "# <a name=\"sig_handler_fin\"></a> Финализация в хендлере\n",
    "\n",
    "Корректна ли программа с точки зрения асинхронной безопасности обработчиков сигналов? То есть будет ли она завершаться по приходу сигнала? Будут ли освобождены ресурсы?"
   ]
  },
  {
   "cell_type": "code",
   "execution_count": 3,
   "metadata": {},
   "outputs": [
    {
     "data": {
      "text/markdown": [
       "Run: `gcc -g -O0 sig_handler_fin.c -lpthread -o sig_handler_fin.exe`"
      ],
      "text/plain": [
       "<IPython.core.display.Markdown object>"
      ]
     },
     "metadata": {},
     "output_type": "display_data"
    },
    {
     "data": {
      "text/markdown": [
       "Run: `# ./sig_handler_fin.exe`"
      ],
      "text/plain": [
       "<IPython.core.display.Markdown object>"
      ]
     },
     "metadata": {},
     "output_type": "display_data"
    }
   ],
   "source": [
    "%%cpp sig_handler_fin.c\n",
    "%run gcc -g -O0 sig_handler_fin.c -lpthread -o sig_handler_fin.exe\n",
    "%run # ./sig_handler_fin.exe\n",
    "\n",
    "#include <unistd.h>\n",
    "#include <stdio.h>\n",
    "#include <signal.h>\n",
    "\n",
    "volatile sig_atomic_t resource = -1;\n",
    "\n",
    "int resource_acquire() { // здесь захватывается какой-то ресурс, который обязательно нужно освободить\n",
    "    static int res = 100; ++res;\n",
    "    dprintf(2, \"Resource %d acquired\\n\", res);\n",
    "    return res;\n",
    "}\n",
    "void resource_release(int res) { // здесь освобождается\n",
    "    dprintf(2, \"Resource %d released\\n\", res);\n",
    "}\n",
    "\n",
    "static void handler(int signum) {\n",
    "    if (signum == SIGUSR1) return;\n",
    "    if (resource != -1) resource_release(resource);\n",
    "    _exit(0);\n",
    "}\n",
    "\n",
    "int main(int argc, char* argv[]) {\n",
    "    int signals[] = {SIGINT, SIGTERM, SIGUSR1, 0};\n",
    "    for (int* signal = signals; *signal; ++signal) {\n",
    "        sigaction(*signal, &(struct sigaction){.sa_handler=handler}, NULL);\n",
    "    }\n",
    "    while (1) {\n",
    "        resource = resource_acquire(); // ~ accept\n",
    "        sleep(1);\n",
    "        resource_release(resource); // ~ shutdown & close\n",
    "    }\n",
    "    return 0;\n",
    "}"
   ]
  },
  {
   "cell_type": "markdown",
   "metadata": {},
   "source": [
    "<details>\n",
    "<summary><b>Ответ</b></summary>\n",
    "<p>\n",
    "    \n",
    "Сигнал может прийти и обработаться после acquire и до сохранения в атомик. То есть завершаться будет, но ресурсы могут не быть освобождены.\n",
    "\n",
    "Воспроизвести можно так: \n",
    "* вставляем `pause();` перед `return res;`. Таким образом, можно руками воспроизвести ситуацию, когда обработчик выполнится во время исполнения определенной строчки основного потока.\n",
    "* `killall -SIGUSR1 sig_handler_fin.exe` - так можно пропустить столько первых вхождений в pause, сколько мы хотим.\n",
    "* `killall -SIGTERM sig_handler_fin.exe` - завершаем программу. При этом обработчик вызовется в \"неудачный\" момент. И тогда последний выделенный ресурс не освободится. А освободится второй раз ресурс выделенный в прошлый раз, что тоже может как-то выстрелить.\n",
    "</p>\n",
    "</details>\n",
    "\n",
    "\n",
    "\n",
    "\n"
   ]
  },
  {
   "cell_type": "markdown",
   "metadata": {},
   "source": [
    "# <a name=\"sig_while_true_1\"></a> `while(!stopped); #1`\n",
    "\n",
    "Корректна ли программа с точки зрения асинхронной безопасности обработчиков сигналов? "
   ]
  },
  {
   "cell_type": "code",
   "execution_count": 4,
   "metadata": {},
   "outputs": [
    {
     "data": {
      "text/markdown": [
       "Run: `gcc -g -O3 sig_while_true.c -lpthread -o sig_while_true.exe`"
      ],
      "text/plain": [
       "<IPython.core.display.Markdown object>"
      ]
     },
     "metadata": {},
     "output_type": "display_data"
    },
    {
     "data": {
      "text/markdown": [
       "Run: `# timeout -s SIGTERM 1 ./sig_while_true.exe`"
      ],
      "text/plain": [
       "<IPython.core.display.Markdown object>"
      ]
     },
     "metadata": {},
     "output_type": "display_data"
    }
   ],
   "source": [
    "%%cpp sig_while_true.c\n",
    "%run gcc -g -O3 sig_while_true.c -lpthread -o sig_while_true.exe\n",
    "%run # timeout -s SIGTERM 1 ./sig_while_true.exe\n",
    "\n",
    "#include <stdio.h>\n",
    "#include <unistd.h>\n",
    "#include <signal.h>\n",
    "\n",
    "sig_atomic_t stop = 0;\n",
    "\n",
    "static void handler(int signum) {\n",
    "    stop = 1;\n",
    "}\n",
    "\n",
    "int main(int argc, char* argv[]) {\n",
    "    int signals[] = {SIGINT, SIGTERM, 0};\n",
    "    for (int* signal = signals; *signal; ++signal) {\n",
    "        sigaction(*signal, &(struct sigaction){.sa_handler=handler}, NULL);\n",
    "    }\n",
    "    while (!stop);\n",
    "    printf(\"Stopped\\n\");\n",
    "    return 0;\n",
    "}"
   ]
  },
  {
   "cell_type": "markdown",
   "metadata": {},
   "source": [
    "<details>\n",
    "<summary><b>Ответ</b></summary>\n",
    "<p>\n",
    "\n",
    "Полный треш. Без volatile цикл оптимизируется и программа зависнет навсегда.\n",
    "\n",
    "https://stackoverflow.com/questions/24931456/how-does-sig-atomic-t-actually-work\n",
    "\n",
    "</p>\n",
    "</details>\n",
    "\n",
    "\n",
    "\n",
    "\n"
   ]
  },
  {
   "cell_type": "markdown",
   "metadata": {},
   "source": [
    "# <a name=\"sig_while_true_2\"></a> `while(!stopped); #2`\n",
    "\n",
    "Корректна ли программа с точки зрения асинхронной безопасности обработчиков сигналов? "
   ]
  },
  {
   "cell_type": "code",
   "execution_count": 5,
   "metadata": {},
   "outputs": [
    {
     "data": {
      "text/markdown": [
       "Run: `gcc -g -O2 sig_while_true_2.c -lpthread -o sig_while_true_2.exe`"
      ],
      "text/plain": [
       "<IPython.core.display.Markdown object>"
      ]
     },
     "metadata": {},
     "output_type": "display_data"
    },
    {
     "data": {
      "text/markdown": [
       "Run: `# timeout -s SIGTERM 1 ./sig_while_true_2.exe`"
      ],
      "text/plain": [
       "<IPython.core.display.Markdown object>"
      ]
     },
     "metadata": {},
     "output_type": "display_data"
    }
   ],
   "source": [
    "%%cpp sig_while_true_2.c\n",
    "%run gcc -g -O2 sig_while_true_2.c -lpthread -o sig_while_true_2.exe\n",
    "%run # timeout -s SIGTERM 1 ./sig_while_true_2.exe\n",
    "\n",
    "#include <stdio.h>\n",
    "#include <unistd.h>\n",
    "#include <signal.h>\n",
    "\n",
    "volatile sig_atomic_t stop = 0;\n",
    "\n",
    "static void handler(int signum) {\n",
    "    stop = 1;\n",
    "}\n",
    "\n",
    "int main(int argc, char* argv[]) {\n",
    "    int signals[] = {SIGINT, SIGTERM, 0};\n",
    "    for (int* signal = signals; *signal; ++signal) {\n",
    "        sigaction(*signal, &(struct sigaction){.sa_handler=handler}, NULL);\n",
    "    }\n",
    "    while (!stop);\n",
    "    printf(\"Stopped\\n\");\n",
    "    return 0;\n",
    "}"
   ]
  },
  {
   "cell_type": "markdown",
   "metadata": {},
   "source": [
    "<details>\n",
    "<summary><b>Ответ</b></summary>\n",
    "<p>\n",
    "\n",
    "Программа верна с точки зрения безопасности.\n",
    "\n",
    "Но она отвратительна с точки зрения производительности, такой код выдет выедать одно ядро процессора, что в значительной степени просадит всю производительность машинки.\n",
    "\n",
    "За такой код в продакшне можно отрывать руки.\n",
    "\n",
    "</p>\n",
    "</details>\n",
    "\n",
    "\n",
    "\n",
    "\n"
   ]
  },
  {
   "cell_type": "markdown",
   "metadata": {},
   "source": [
    "# <a name=\"sig_check\"></a> `sigtimedwait`\n",
    "\n",
    "Корректна ли программа с точки зрения асинхронной безопасности обработчиков сигналов?\n",
    "\n",
    "То есть будет ли она завершаться по приходу сигнала? Будут ли освобождены ресурсы?"
   ]
  },
  {
   "cell_type": "code",
   "execution_count": 6,
   "metadata": {
    "scrolled": true
   },
   "outputs": [
    {
     "data": {
      "text/markdown": [
       "Run: `gcc -g sig_check.c -o sig_check.exe`"
      ],
      "text/plain": [
       "<IPython.core.display.Markdown object>"
      ]
     },
     "metadata": {},
     "output_type": "display_data"
    },
    {
     "data": {
      "text/markdown": [
       "Run: `# ./sig_check.exe`"
      ],
      "text/plain": [
       "<IPython.core.display.Markdown object>"
      ]
     },
     "metadata": {},
     "output_type": "display_data"
    }
   ],
   "source": [
    "%%cpp sig_check.c\n",
    "%run gcc -g sig_check.c -o sig_check.exe\n",
    "%run # ./sig_check.exe \n",
    "\n",
    "#include <unistd.h>\n",
    "#include <stdio.h>\n",
    "#include <signal.h>\n",
    "#include <assert.h>\n",
    "#include <sys/types.h>\n",
    "#include <sys/wait.h>\n",
    "\n",
    "int resource_acquire() {\n",
    "    char c;\n",
    "    read(0, &c, 1); // think, that here is accept-like logic (waiting external clients)\n",
    "    dprintf(2, \"Resource %d acquired\\n\", (int)c);\n",
    "    return (int)c;\n",
    "}\n",
    "void resource_release(int res) {\n",
    "    dprintf(2, \"Resource %d released\\n\", res);\n",
    "}\n",
    "\n",
    "int main() {\n",
    "    sigset_t full_mask;\n",
    "    sigfillset(&full_mask);\n",
    "    sigprocmask(SIG_BLOCK, &full_mask, NULL); \n",
    "    siginfo_t info;\n",
    "    struct timespec timeout = {0};\n",
    "    // В данном случае sigtimedwait проверяет, а не пришел ли сигнал. Работает без ожиданий\n",
    "    while (sigtimedwait(&full_mask, &info, &timeout) < 0) {\n",
    "        int resource = resource_acquire(); // ~ accept\n",
    "        sleep(1);\n",
    "        resource_release(resource); // ~ shutdown & close\n",
    "    }   \n",
    "    return 0;\n",
    "}"
   ]
  },
  {
   "cell_type": "markdown",
   "metadata": {},
   "source": [
    "<details>\n",
    "<summary><b>Ответ</b></summary>\n",
    "<p>\n",
    "\n",
    "С точки зрения асинхронной безопасности может и отчасти корректна, но в целом некорректна, так как не решает задачу.\n",
    "Так как если не будет клиентов, мы навсегда зависнем в acquire и не будем реагировать на сигналы.\n",
    "\n",
    "То есть завершаться не будет. Но ресурсы будет освобождать хорошо.\n",
    "\n",
    "</p>\n",
    "</details>\n",
    "\n",
    "\n",
    "\n",
    "\n"
   ]
  },
  {
   "cell_type": "markdown",
   "metadata": {},
   "source": [
    "# <a name=\"sig_check_regular\"></a> `sigtimedwait 2`\n",
    "\n",
    "Корректна ли программа с точки зрения асинхронной безопасности обработчиков сигналов?\n",
    "\n",
    "То есть будет ли она завершаться по приходу сигнала? Будут ли освобождены ресурсы?"
   ]
  },
  {
   "cell_type": "code",
   "execution_count": 7,
   "metadata": {},
   "outputs": [
    {
     "data": {
      "text/markdown": [
       "Run: `gcc -g sig_check_2.c -o sig_check_2.exe`"
      ],
      "text/plain": [
       "<IPython.core.display.Markdown object>"
      ]
     },
     "metadata": {},
     "output_type": "display_data"
    },
    {
     "data": {
      "text/markdown": [
       "Run: `# echo \"0123\" | ./sig_check_2.exe`"
      ],
      "text/plain": [
       "<IPython.core.display.Markdown object>"
      ]
     },
     "metadata": {},
     "output_type": "display_data"
    }
   ],
   "source": [
    "%%cpp sig_check_2.c\n",
    "%run gcc -g sig_check_2.c -o sig_check_2.exe\n",
    "%run # echo \"0123\" | ./sig_check_2.exe \n",
    "\n",
    "#include <unistd.h>\n",
    "#include <stdio.h>\n",
    "#include <signal.h>\n",
    "#include <assert.h>\n",
    "#include <sys/types.h>\n",
    "#include <sys/wait.h>\n",
    "#include <fcntl.h>\n",
    "\n",
    "sigset_t full_mask;\n",
    "const struct timespec timeout = {.tv_sec = 0, .tv_nsec = 10000000}; // 10ms\n",
    "siginfo_t info;\n",
    "\n",
    "int resource_acquire() {\n",
    "    char c; int read_res;\n",
    "    while ((read_res = read(0, &c, 1)) < 0) {\n",
    "        if (sigtimedwait(&full_mask, &info, &timeout) >= 0) {\n",
    "            return -1;\n",
    "        }\n",
    "    }\n",
    "    assert(read_res != 0);\n",
    "    dprintf(2, \"Resource %d acquired\\n\", (int)c);\n",
    "    return (int)c;\n",
    "}\n",
    "void resource_release(int res) {\n",
    "    dprintf(2, \"Resource %d released\\n\", res);\n",
    "}\n",
    "\n",
    "int main() {\n",
    "    fcntl(0, F_SETFL, fcntl(0, F_GETFL) | O_NONBLOCK);\n",
    "    \n",
    "    sigfillset(&full_mask);\n",
    "    sigprocmask(SIG_BLOCK, &full_mask, NULL); \n",
    "\n",
    "    // В данном случае sigtimedwait проверяет, а не пришел ли сигнал. Работает без ожиданий\n",
    "    while (sigtimedwait(&full_mask, &info, &timeout) < 0) {\n",
    "        int resource = resource_acquire(); // ~ accept\n",
    "        if (resource < 0) { break; }\n",
    "        sleep(1); // имитация полезной работы \n",
    "        resource_release(resource); // ~ shutdown & close\n",
    "    }   \n",
    "    return 0;\n",
    "}"
   ]
  },
  {
   "cell_type": "markdown",
   "metadata": {},
   "source": [
    "<details>\n",
    "<summary><b>Ответ</b></summary>\n",
    "<p>\n",
    "\n",
    "С точки зрения асинхронной безопасности корректна. Будет завершаться и освобождать ресурсы.\n",
    "\n",
    "Но! Это скользкая дорожка. Поскольку здесь мы проверяем ситуацию раз в некоторое время. Из-за этого реагируем на события с опозданием. Если будем уменьшать таймаут, то начнем зря тратить все большее количество CPU. Получается порочный tradeoff.\n",
    "\n",
    "Не надо так делать, если есть возможность этого избежать.\n",
    "\n",
    "</p>\n",
    "</details>\n"
   ]
  },
  {
   "cell_type": "markdown",
   "metadata": {},
   "source": [
    "# <a name=\"read_piece\"></a> Retryable read\n",
    "\n",
    "Будет ли корректно читать все, что доступно для чтения в socket_fd?\n",
    "\n",
    "Задача уже не про сигналы, можно о них не думать."
   ]
  },
  {
   "cell_type": "code",
   "execution_count": 8,
   "metadata": {},
   "outputs": [],
   "source": [
    "%%cpp read_piece.c\n",
    "\n",
    "union message {\n",
    "    int i;\n",
    "    char arr[4];\n",
    "};\n",
    "union message value;\n",
    "  \n",
    "//...\n",
    "\n",
    "int readed_count = 0;\n",
    "while(readed_count < 4) {\n",
    "    r = read(socket_fd, &value + readed_count, sizeof(value) - readed_count);\n",
    "    if (r > 0) {\n",
    "        readed_count += r;\n",
    "    } else if (r < 0) {\n",
    "        assert(errno == EAGAIN);\n",
    "    } else if (r == 0) {\n",
    "        assert(0 && \"can't read value\");\n",
    "    }\n",
    "}"
   ]
  },
  {
   "cell_type": "markdown",
   "metadata": {},
   "source": [
    "<details>\n",
    "<summary><b>Ответ</b></summary>\n",
    "<p>\n",
    "\n",
    "Нет, здесь баг в арифметике указателей.\n",
    "\n",
    "`&value + readed_count` при `readed_count == 1` это указатель находящийся уже за пределами value. Исправляется так: `(char*)&value + readed_count` \n",
    "\n",
    "</p>\n",
    "</details>\n"
   ]
  },
  {
   "cell_type": "code",
   "execution_count": null,
   "metadata": {},
   "outputs": [],
   "source": []
  },
  {
   "cell_type": "markdown",
   "metadata": {},
   "source": [
    "# <a name=\"sig_mutex\"></a> Signal handler synchronization\n",
    "\n",
    "Есть ли тут асинхронная безопасность?"
   ]
  },
  {
   "cell_type": "code",
   "execution_count": 9,
   "metadata": {},
   "outputs": [
    {
     "data": {
      "text/markdown": [
       "Run: `gcc -g -O0 sig_mutex.c -lpthread -o sig_mutex.exe`"
      ],
      "text/plain": [
       "<IPython.core.display.Markdown object>"
      ]
     },
     "metadata": {},
     "output_type": "display_data"
    },
    {
     "data": {
      "text/markdown": [
       "Run: `# через 1 секунду пошлется SIGINT, через 2 SIGKILL`"
      ],
      "text/plain": [
       "<IPython.core.display.Markdown object>"
      ]
     },
     "metadata": {},
     "output_type": "display_data"
    },
    {
     "data": {
      "text/markdown": [
       "Run: `# timeout -s SIGKILL 2 timeout -s SIGINT 1 ./sig_mutex.exe`"
      ],
      "text/plain": [
       "<IPython.core.display.Markdown object>"
      ]
     },
     "metadata": {},
     "output_type": "display_data"
    }
   ],
   "source": [
    "%%cpp sig_mutex.c\n",
    "%run gcc -g -O0 sig_mutex.c -lpthread -o sig_mutex.exe\n",
    "%run # через 1 секунду пошлется SIGINT, через 2 SIGKILL\n",
    "%run # timeout -s SIGKILL 2 timeout -s SIGINT 1 ./sig_mutex.exe\n",
    "\n",
    "#include <stdio.h>\n",
    "#include <stdlib.h>\n",
    "#include <unistd.h>\n",
    "#include <signal.h>\n",
    "#include <pthread.h>\n",
    "\n",
    "pthread_mutex_t mutex = PTHREAD_MUTEX_INITIALIZER;\n",
    "long long int value = 0;\n",
    "\n",
    "static void handler(int signum) {\n",
    "    pthread_mutex_lock(&mutex);\n",
    "    printf(\"Value = %lld\\n\", value);\n",
    "    pthread_mutex_unlock(&mutex);\n",
    "    exit(0);\n",
    "}\n",
    "\n",
    "int main(int argc, char* argv[]) {\n",
    "    sigaction(SIGINT, &(struct sigaction){.sa_handler=handler}, NULL);\n",
    "    while (1) {\n",
    "        pthread_mutex_lock(&mutex);\n",
    "        ++value;\n",
    "        pthread_mutex_unlock(&mutex);\n",
    "    }\n",
    "    printf(\"Stopped\\n\");\n",
    "    return 0;\n",
    "}"
   ]
  },
  {
   "cell_type": "markdown",
   "metadata": {},
   "source": [
    "<details>\n",
    "<summary><b>Ответ</b></summary>\n",
    "<p>\n",
    "\n",
    "Нет, тут скрестили ужа с ежом. \n",
    "Обработчики сигнала выполняются в том потоке, куда пришел сигнал. (То есть выполнение в этом потоке прерывается, работает обработчик, потом выполнение возобновляется.)\n",
    "Если в то время когда пришел сигнал, мьютекс захвачен, то хендлер навсегда зависнет на попытке его захватить.\n",
    "\n",
    "Как воспроизвести некорректность? Вставьте `sched_yield();` после `++value;` и запустите.\n",
    "\n",
    "</p>\n",
    "</details>\n"
   ]
  },
  {
   "cell_type": "code",
   "execution_count": null,
   "metadata": {},
   "outputs": [],
   "source": []
  },
  {
   "cell_type": "markdown",
   "metadata": {},
   "source": [
    "# <a name=\"condvar_1\"></a> Condvar 1 \n",
    "\n",
    "Есть ли тут асинхронная безопасность?"
   ]
  },
  {
   "cell_type": "code",
   "execution_count": 10,
   "metadata": {},
   "outputs": [
    {
     "data": {
      "text/markdown": [
       "Run: `gcc -fsanitize=thread condvar.c -lpthread -o condvar.exe`"
      ],
      "text/plain": [
       "<IPython.core.display.Markdown object>"
      ]
     },
     "metadata": {},
     "output_type": "display_data"
    },
    {
     "data": {
      "text/markdown": [
       "Run: `# ./condvar.exe`"
      ],
      "text/plain": [
       "<IPython.core.display.Markdown object>"
      ]
     },
     "metadata": {},
     "output_type": "display_data"
    }
   ],
   "source": [
    "%%cpp condvar.c\n",
    "%run gcc -fsanitize=thread condvar.c -lpthread -o condvar.exe\n",
    "%run # ./condvar.exe\n",
    "\n",
    "#include <stdio.h>\n",
    "#include <stdlib.h>\n",
    "#include <unistd.h>\n",
    "#include <sys/types.h>\n",
    "#include <sys/syscall.h>\n",
    "#include <sys/time.h>\n",
    "#include <pthread.h>\n",
    "#include <stdatomic.h>\n",
    "\n",
    "pthread_mutex_t mutex = PTHREAD_MUTEX_INITIALIZER; \n",
    "pthread_cond_t condvar = PTHREAD_COND_INITIALIZER;\n",
    "_Atomic int value = -1;\n",
    "\n",
    "static void* producer_func(void* arg) \n",
    "{\n",
    "    atomic_store(&value, 42);\n",
    "    pthread_cond_signal(&condvar);\n",
    "}\n",
    "\n",
    "static void* consumer_func(void* arg) \n",
    "{\n",
    "    pthread_mutex_lock(&mutex);\n",
    "    while (atomic_load(&value) == -1) {\n",
    "        pthread_cond_wait(&condvar, &mutex); \n",
    "    }\n",
    "    printf(\"Value = %d\\n\", atomic_load(&value));\n",
    "    pthread_mutex_unlock(&mutex);\n",
    "    return NULL;\n",
    "}\n",
    "\n",
    "int main()\n",
    "{\n",
    "    pthread_t producer_thread;\n",
    "    pthread_create(&producer_thread, NULL, producer_func, NULL);\n",
    "    \n",
    "    pthread_t consumer_thread;\n",
    "    pthread_create(&consumer_thread, NULL, consumer_func, NULL);\n",
    "\n",
    "    pthread_join(producer_thread, NULL); \n",
    "    pthread_join(consumer_thread, NULL); \n",
    "    return 0;\n",
    "}"
   ]
  },
  {
   "cell_type": "markdown",
   "metadata": {},
   "source": [
    "<details>\n",
    "<summary><b>Ответ</b></summary>\n",
    "<p>\n",
    "\n",
    "Нет, так как присвоение в атомик и сигнализация может произойти в одном потоке между `while (atomic_load(&value) == -1)` и `pthread_cond_wait(&condvar, &mutex);` в другом.\n",
    "\n",
    "Воспроизведение: вставьте `sleep(2);` сразу после `while (value == -1) {`. И `sleep(1);` до `atomic_store(&value, 42);`.\n",
    "\n",
    "</p>\n",
    "</details>\n"
   ]
  },
  {
   "cell_type": "markdown",
   "metadata": {},
   "source": [
    "# <a name=\"condvar_2\"></a> Condvar 2\n",
    "\n",
    "Есть ли тут асинхронная безопасность?"
   ]
  },
  {
   "cell_type": "code",
   "execution_count": 11,
   "metadata": {},
   "outputs": [
    {
     "data": {
      "text/markdown": [
       "Run: `gcc -fsanitize=thread condvar_2.c -lpthread -o condvar_2.exe`"
      ],
      "text/plain": [
       "<IPython.core.display.Markdown object>"
      ]
     },
     "metadata": {},
     "output_type": "display_data"
    },
    {
     "data": {
      "text/markdown": [
       "Run: `# ./condvar_2.exe`"
      ],
      "text/plain": [
       "<IPython.core.display.Markdown object>"
      ]
     },
     "metadata": {},
     "output_type": "display_data"
    }
   ],
   "source": [
    "%%cpp condvar_2.c\n",
    "%run gcc -fsanitize=thread condvar_2.c -lpthread -o condvar_2.exe\n",
    "%run # ./condvar_2.exe\n",
    "\n",
    "#include <stdio.h>\n",
    "#include <stdlib.h>\n",
    "#include <unistd.h>\n",
    "#include <sys/types.h>\n",
    "#include <sys/syscall.h>\n",
    "#include <sys/time.h>\n",
    "#include <pthread.h>\n",
    "#include <stdatomic.h>\n",
    "\n",
    "pthread_mutex_t mutex = PTHREAD_MUTEX_INITIALIZER; \n",
    "pthread_cond_t condvar = PTHREAD_COND_INITIALIZER;\n",
    "_Atomic int value = -1;\n",
    "\n",
    "static void* producer_func(void* arg) \n",
    "{\n",
    "    pthread_mutex_lock(&mutex);\n",
    "    atomic_store(&value, 42);\n",
    "    pthread_cond_signal(&condvar);\n",
    "    pthread_mutex_unlock(&mutex);\n",
    "}\n",
    "\n",
    "static void* consumer_func(void* arg) \n",
    "{ \n",
    "    pthread_mutex_lock(&mutex);\n",
    "    while (atomic_load(&value) == -1) {\n",
    "        pthread_cond_wait(&condvar, &mutex); \n",
    "    }\n",
    "    printf(\"Value = %d\\n\", atomic_load(&value));\n",
    "    pthread_mutex_unlock(&mutex);\n",
    "    return NULL;\n",
    "}\n",
    "\n",
    "int main()\n",
    "{\n",
    "    pthread_t producer_thread;\n",
    "    pthread_create(&producer_thread, NULL, producer_func, NULL);\n",
    "    \n",
    "    pthread_t consumer_thread;\n",
    "    pthread_create(&consumer_thread, NULL, consumer_func, NULL);\n",
    "\n",
    "    pthread_join(producer_thread, NULL); \n",
    "    pthread_join(consumer_thread, NULL); \n",
    "    return 0;\n",
    "}"
   ]
  },
  {
   "cell_type": "markdown",
   "metadata": {},
   "source": [
    "<details>\n",
    "<summary><b>Ответ</b></summary>\n",
    "<p>\n",
    "\n",
    "Тут есть.\n",
    "\n",
    "</p>\n",
    "</details>\n"
   ]
  },
  {
   "cell_type": "markdown",
   "metadata": {},
   "source": [
    "# <a name=\"condvar_3\"></a> Condvar 3\n",
    "\n",
    "Есть ли тут асинхронная безопасность?"
   ]
  },
  {
   "cell_type": "code",
   "execution_count": 12,
   "metadata": {},
   "outputs": [
    {
     "data": {
      "text/markdown": [
       "Run: `gcc -fsanitize=thread condvar_3.c -lpthread -o condvar_3.exe`"
      ],
      "text/plain": [
       "<IPython.core.display.Markdown object>"
      ]
     },
     "metadata": {},
     "output_type": "display_data"
    },
    {
     "data": {
      "text/markdown": [
       "Run: `#./condvar_3.exe`"
      ],
      "text/plain": [
       "<IPython.core.display.Markdown object>"
      ]
     },
     "metadata": {},
     "output_type": "display_data"
    }
   ],
   "source": [
    "%%cpp condvar_3.c\n",
    "%run gcc -fsanitize=thread condvar_3.c -lpthread -o condvar_3.exe\n",
    "%run #./condvar_3.exe\n",
    "\n",
    "#include <stdio.h>\n",
    "#include <stdlib.h>\n",
    "#include <unistd.h>\n",
    "#include <sys/types.h>\n",
    "#include <sys/syscall.h>\n",
    "#include <sys/time.h>\n",
    "#include <pthread.h>\n",
    "#include <stdatomic.h>\n",
    "\n",
    "pthread_mutex_t mutex = PTHREAD_MUTEX_INITIALIZER; \n",
    "pthread_cond_t condvar = PTHREAD_COND_INITIALIZER;\n",
    "_Atomic int value = -1;\n",
    "\n",
    "static void* producer_func(void* arg) \n",
    "{\n",
    "    atomic_store(&value, 42);\n",
    "    pthread_mutex_lock(&mutex);\n",
    "    pthread_mutex_unlock(&mutex);\n",
    "    pthread_cond_signal(&condvar);\n",
    "}\n",
    "\n",
    "static void* consumer_func(void* arg) \n",
    "{\n",
    "    pthread_mutex_lock(&mutex);\n",
    "    while (atomic_load(&value) == -1) {\n",
    "        pthread_cond_wait(&condvar, &mutex); \n",
    "    }\n",
    "    printf(\"Value = %d\\n\", atomic_load(&value));\n",
    "    pthread_mutex_unlock(&mutex);\n",
    "    return NULL;\n",
    "}\n",
    "\n",
    "int main()\n",
    "{\n",
    "    pthread_t producer_thread;\n",
    "    pthread_create(&producer_thread, NULL, producer_func, NULL);\n",
    "    \n",
    "    pthread_t consumer_thread;\n",
    "    pthread_create(&consumer_thread, NULL, consumer_func, NULL);\n",
    "\n",
    "    pthread_join(producer_thread, NULL); \n",
    "    pthread_join(consumer_thread, NULL); \n",
    "    return 0;\n",
    "}"
   ]
  },
  {
   "cell_type": "markdown",
   "metadata": {},
   "source": [
    "<details>\n",
    "<summary><b>Ответ</b></summary>\n",
    "<p>\n",
    "\n",
    "Как-ни странно, но добавление пустой критической секции тоже спасает ситуацию. Пустая критическая секция позволяет подождать, пока другой поток войдет в wait.\n",
    "\n",
    "</p>\n",
    "</details>\n"
   ]
  },
  {
   "cell_type": "markdown",
   "metadata": {},
   "source": [
    "# <a name=\"mutex_char\"></a> Mutex\n",
    "\n",
    "Есть ли тут асинхронная безопасность?"
   ]
  },
  {
   "cell_type": "code",
   "execution_count": 13,
   "metadata": {
    "scrolled": true
   },
   "outputs": [
    {
     "data": {
      "text/markdown": [
       "Run: `gcc -O3 -fsanitize=thread mutex.c -lpthread -o mutex.exe`"
      ],
      "text/plain": [
       "<IPython.core.display.Markdown object>"
      ]
     },
     "metadata": {},
     "output_type": "display_data"
    },
    {
     "data": {
      "text/markdown": [
       "Run: `# ./mutex.exe`"
      ],
      "text/plain": [
       "<IPython.core.display.Markdown object>"
      ]
     },
     "metadata": {},
     "output_type": "display_data"
    }
   ],
   "source": [
    "%%cpp mutex.c\n",
    "%run gcc -O3 -fsanitize=thread mutex.c -lpthread -o mutex.exe\n",
    "%run # ./mutex.exe\n",
    "\n",
    "#include <stdio.h>\n",
    "#include <stdlib.h>\n",
    "#include <unistd.h>\n",
    "#include <sys/types.h>\n",
    "#include <sys/syscall.h>\n",
    "#include <sys/time.h>\n",
    "#include <pthread.h>\n",
    "#include <assert.h>\n",
    "\n",
    "pthread_mutex_t mutex[2] = {PTHREAD_MUTEX_INITIALIZER, PTHREAD_MUTEX_INITIALIZER};\n",
    "\n",
    "struct {\n",
    "    char state_0: 8; // protected by mutex[0]\n",
    "    char state_1: 8; // protected by mutex[1]\n",
    "} states = {.state_0 = 0, .state_1 = 0};\n",
    "\n",
    "static void* tread_safe_func_0(void* arg) \n",
    "{\n",
    "    for (int iter = 0; iter < 1000; ++iter) {\n",
    "        pthread_mutex_lock(&mutex[0]);\n",
    "        assert(states.state_0 == (iter & 1));\n",
    "        states.state_0 ^= 1;\n",
    "        pthread_mutex_unlock(&mutex[0]);\n",
    "    }\n",
    "}\n",
    "\n",
    "static void* tread_safe_func_1(void* arg) \n",
    "{\n",
    "    for (int iter = 0; iter < 1000; ++iter) {\n",
    "        pthread_mutex_lock(&mutex[1]);\n",
    "        assert(states.state_1 == (iter & 1));\n",
    "        states.state_1 ^= 1;\n",
    "        pthread_mutex_unlock(&mutex[1]);\n",
    "    }\n",
    "}\n",
    "\n",
    "int main()\n",
    "{\n",
    "    pthread_t threads[2];\n",
    "    pthread_create(&threads[0], NULL, tread_safe_func_0, NULL);\n",
    "    pthread_create(&threads[1], NULL, tread_safe_func_1, NULL);\n",
    "    for (int t = 0; t < 2; ++t) {\n",
    "        pthread_join(threads[t], NULL); \n",
    "    }\n",
    "    return 0;\n",
    "}"
   ]
  },
  {
   "cell_type": "markdown",
   "metadata": {},
   "source": [
    "<details>\n",
    "<summary><b>Ответ</b></summary>\n",
    "<p>\n",
    "\n",
    "Операции с битовыми полями выполняются через битовые операции. Соответственно из памяти загружается как минимум байт и пишется как минимум байт. То есть читаются и пишутся не только те биты, которые мы меняем. Из-за этого происходит гонка данных. То есть асинхронной безопасности тут нет.\n",
    "\n",
    "Казалось бы, битовые поля по 8 бит - так же как и \"по умолчанию\". В char же 8 бит!\n",
    "<br> Но нет, из памяти грузится по два байта, как подсказывает выхлоп тред-санитайзера.\n",
    "\n",
    "Для лучшего понимания, можно думать, что\n",
    "```cpp\n",
    "states.state_0 ^= 1;\n",
    "```\n",
    "\n",
    "Может работать скорее как \n",
    "```cpp\n",
    "auto states_copy = states;\n",
    "states_cop.state_0 ^= 1;\n",
    "states = states_copy;\n",
    "```            \n",
    "То есть непреднамеренно затронет `.state_1`\n",
    "\n",
    "</p>\n",
    "</details>\n"
   ]
  },
  {
   "cell_type": "markdown",
   "metadata": {},
   "source": [
    "# <a name=\"atomic\"></a> Atomic\n",
    "\n",
    "Есть ли тут асинхронная безопасность?"
   ]
  },
  {
   "cell_type": "code",
   "execution_count": 14,
   "metadata": {},
   "outputs": [
    {
     "data": {
      "text/markdown": [
       "Run: `gcc -fsanitize=thread atomic.c -lpthread -o atomic.exe`"
      ],
      "text/plain": [
       "<IPython.core.display.Markdown object>"
      ]
     },
     "metadata": {},
     "output_type": "display_data"
    },
    {
     "data": {
      "text/markdown": [
       "Run: `# ./atomic.exe`"
      ],
      "text/plain": [
       "<IPython.core.display.Markdown object>"
      ]
     },
     "metadata": {},
     "output_type": "display_data"
    }
   ],
   "source": [
    "%%cpp atomic.c\n",
    "%run gcc -fsanitize=thread atomic.c -lpthread -o atomic.exe\n",
    "%run # ./atomic.exe\n",
    "\n",
    "#include <stdio.h>\n",
    "#include <stdlib.h>\n",
    "#include <unistd.h>\n",
    "#include <sys/types.h>\n",
    "#include <sys/syscall.h>\n",
    "#include <sys/time.h>\n",
    "#include <pthread.h>\n",
    "#include <stdatomic.h>\n",
    "\n",
    "#define size 3\n",
    "_Atomic int* data = NULL;\n",
    "\n",
    "static void* consumer_func(void* arg) {\n",
    "    int* local_data;\n",
    "    while ((local_data = (int*)atomic_load(&data)) == NULL) {\n",
    "        sched_yield();\n",
    "    }\n",
    "    for (int i = 0; i < size; ++i) {\n",
    "        printf(\"%d \", local_data[i]);\n",
    "    }\n",
    "    return NULL;\n",
    "}\n",
    "\n",
    "int main()\n",
    "{\n",
    "    pthread_t consumer_thread;\n",
    "    pthread_create(&consumer_thread, NULL, consumer_func, NULL);\n",
    "    sched_yield();\n",
    "    int created_data[size] = {10, 20, 30};\n",
    "    atomic_store(&data, (void*)created_data);\n",
    "    pthread_join(consumer_thread, NULL); \n",
    "    return 0;\n",
    "}"
   ]
  },
  {
   "cell_type": "markdown",
   "metadata": {},
   "source": [
    "<details>\n",
    "<summary><b>Ответ</b></summary>\n",
    "<p>\n",
    "\n",
    "Вероятно именно этот пример будет работать всегда. Но тут есть мощная идейная ошибка, которая может выстрелить в более сложном случае. Ну или просто привести в мусору в коде, который тоже может стрелять, пусть и окольными путями.\n",
    "\n",
    "Ошибка в `_Atomic int* data = NULL;`.\n",
    "\n",
    "Если вы подумали, что тут атомарный указатель на `int`, то вы неправы.\n",
    "\n",
    "Тут неатомарный указатель на атомарный `int`. В общем `_Atomic` работает с тем же приоритетом, что и `const`.\n",
    "\n",
    "Вы же помните, что `const int*` это неконстантный указатель на константный `int`? :)\n",
    "\n",
    "Исправляется код очень просто: `_Atomic (int*) data = NULL;`.\n",
    "\n",
    "Касательно ответа на исходный вопрос: теоретически асинхронной безопасности нет. Но практически - скорее всего безопасность есть.\n",
    "\n",
    "</p>\n",
    "</details>\n"
   ]
  },
  {
   "cell_type": "markdown",
   "metadata": {},
   "source": [
    "# <a name=\"philosophical_lock\"></a> Philosophical lock\n",
    "\n",
    "by [Андрей Баженов](https://github.com/TheRealBazhen)\n",
    "\n",
    "Вдохновлено курсом concurrency. Найдите как можно больше проблем в этом коде (минимум две принципиально разные серьезные проблемы):"
   ]
  },
  {
   "cell_type": "code",
   "execution_count": 15,
   "metadata": {},
   "outputs": [
    {
     "data": {
      "text/markdown": [
       "Run: `gcc -fsanitize=thread philosophical_lock.c -lpthread -o philosophical_lock.exe`"
      ],
      "text/plain": [
       "<IPython.core.display.Markdown object>"
      ]
     },
     "metadata": {},
     "output_type": "display_data"
    },
    {
     "data": {
      "text/markdown": [
       "Run: `# ./philosophical_lock.exe`"
      ],
      "text/plain": [
       "<IPython.core.display.Markdown object>"
      ]
     },
     "metadata": {},
     "output_type": "display_data"
    }
   ],
   "source": [
    "%%cpp philosophical_lock.c\n",
    "%run gcc -fsanitize=thread philosophical_lock.c -lpthread -o philosophical_lock.exe\n",
    "%run # ./philosophical_lock.exe \n",
    "\n",
    "#include <assert.h>\n",
    "#include <pthread.h>\n",
    "#include <stdlib.h>\n",
    "#include <stdio.h>\n",
    "\n",
    "struct philosopher_data {\n",
    "    pthread_mutex_t* left_fork;\n",
    "    pthread_mutex_t* right_fork;\n",
    "    int number; // protected by left_fork mutex\n",
    "};\n",
    "\n",
    "void philosopher_func(struct philosopher_data* data) {\n",
    "    pthread_mutex_lock(data->left_fork);\n",
    "    pthread_mutex_lock(data->right_fork);\n",
    "\n",
    "    printf(\"Philosopher %d has eaten\\n\", data->number); fflush(stdout);\n",
    "\n",
    "    pthread_mutex_unlock(data->left_fork);\n",
    "    pthread_mutex_unlock(data->right_fork);\n",
    "}\n",
    "\n",
    "int main() {\n",
    "    const int num_threads = 2;\n",
    "    pthread_mutex_t mutexes[num_threads];\n",
    "    pthread_t threads[num_threads];\n",
    "    struct philosopher_data data[num_threads];\n",
    "\n",
    "    for (int i = 0; i < num_threads; ++i) {\n",
    "        assert(pthread_mutex_init(&mutexes[i], NULL) == 0);\n",
    "        data[i] = (struct philosopher_data){.number=4, .left_fork=&mutexes[i], \n",
    "            .right_fork=&mutexes[(i + 1) % num_threads]};\n",
    "        assert(pthread_create(&threads[i], NULL, (void* (*)(void*))philosopher_func, (void*)&data[i]) == 0);\n",
    "    }\n",
    "\n",
    "    for (int i = 0; i < num_threads; ++i) {\n",
    "        assert(pthread_join(threads[i], NULL) == 0);\n",
    "    }\n",
    "}"
   ]
  },
  {
   "cell_type": "markdown",
   "metadata": {},
   "source": [
    "<details>\n",
    "<summary><b>Ответ</b></summary>\n",
    "<p>\n",
    "    \n",
    "<details>\n",
    "<summary>Проблема #0</summary>\n",
    "Да, вы получили потенциальный deadlock. Как от него избавиться - вопрос не этого курса:)\n",
    "Однако, именно с эти кодом у меня воспроизвести не получилось. Если же расставить sleep-ов, то успех обеспечен.\n",
    "</details>\n",
    "\n",
    "<details>\n",
    "<summary>Проблема #1</summary>\n",
    "Куда более серьезная проблема - использование неинициализированных ресурсов. Наши потоки смотрят как на свой mutex, так и на следующий, который может быть не инициализирован. Решается просто - выносом запуска потоков в отдельный цикл. Но локализуется ошибка непросто. Проявление бывает довольно интересное - у меня `mutex_lock` не блочил ничего и происходило одновременное обращение.\n",
    "    \n",
    "Хотя тред-санитайзер в одном запуске из 5 находит проблему. Вывод: если тест не очень хороший - запускайте в цикле на много итераций. \n",
    "</details>\n",
    "\n",
    "</p>\n",
    "</details>"
   ]
  },
  {
   "cell_type": "code",
   "execution_count": null,
   "metadata": {},
   "outputs": [],
   "source": []
  },
  {
   "cell_type": "code",
   "execution_count": null,
   "metadata": {},
   "outputs": [],
   "source": []
  },
  {
   "cell_type": "code",
   "execution_count": null,
   "metadata": {},
   "outputs": [],
   "source": []
  },
  {
   "cell_type": "markdown",
   "metadata": {},
   "source": [
    "# <a name=\"threads\"></a> Ниточки Ариадны\n",
    "\n",
    "Есть ли асинхронная безопасность?"
   ]
  },
  {
   "cell_type": "code",
   "execution_count": 16,
   "metadata": {},
   "outputs": [
    {
     "data": {
      "text/markdown": [
       "Run: `gcc -fsanitize=address tmp.c -lpthread -o tmp.exe`"
      ],
      "text/plain": [
       "<IPython.core.display.Markdown object>"
      ]
     },
     "metadata": {},
     "output_type": "display_data"
    },
    {
     "data": {
      "text/markdown": [
       "Run: `# ./tmp.exe`"
      ],
      "text/plain": [
       "<IPython.core.display.Markdown object>"
      ]
     },
     "metadata": {},
     "output_type": "display_data"
    }
   ],
   "source": [
    "%%cpp tmp.c\n",
    "%run gcc -fsanitize=address tmp.c -lpthread -o tmp.exe\n",
    "%run # ./tmp.exe\n",
    "\n",
    "\n",
    "#include <pthread.h>\n",
    "#include <stdio.h>\n",
    "#include <stdlib.h>\n",
    "#include <string.h>\n",
    "#include <limits.h>\n",
    "#include <stdint.h>\n",
    "\n",
    "uint64_t N = 20;\n",
    "\n",
    "pthread_mutex_t mutex = PTHREAD_MUTEX_INITIALIZER;\n",
    "pthread_cond_t func_sleep = PTHREAD_COND_INITIALIZER;\n",
    "pthread_cond_t main_sleep = PTHREAD_COND_INITIALIZER;\n",
    "uint64_t number = -1;\n",
    "\n",
    "void thread_func() {\n",
    "    for (uint64_t i = 0; i < N; ++i) {\n",
    "        pthread_mutex_lock(&mutex);\n",
    "        number = i;       \n",
    "        while (number != -1) {\n",
    "            pthread_cond_wait(&func_sleep, &mutex);\n",
    "        }\n",
    "        pthread_mutex_unlock(&mutex);\n",
    "        pthread_cond_signal(&main_sleep);\n",
    "    }\n",
    "}\n",
    "\n",
    "int main() {\n",
    "    pthread_t thread;\n",
    "    pthread_create(&thread, NULL, (void* (*)(void*))thread_func, NULL);\n",
    "    for (uint32_t i = 0; i < N; ++i) {\n",
    "        pthread_mutex_lock(&mutex);\n",
    "        while (number == -1) {\n",
    "            pthread_cond_wait(&main_sleep, &mutex);\n",
    "        }\n",
    "        uint64_t number_copy = number;\n",
    "        number = -1;\n",
    "        pthread_mutex_unlock(&mutex);\n",
    "        pthread_cond_signal(&func_sleep);\n",
    "        printf(\"%ld\\n\", number_copy);\n",
    "    }\n",
    "    pthread_join(thread, NULL);\n",
    "    return 0;\n",
    "}"
   ]
  },
  {
   "cell_type": "markdown",
   "metadata": {},
   "source": [
    "<details>\n",
    "<summary><b>Ответ</b></summary>\n",
    "<p>\n",
    "\n",
    "Оба потока зависнут на cond_wait. Хотя несколько первых итераций может и выполниьтся.\n",
    "Проблема в том, что `pthread_cond_signal(&main_sleep);` делается не в нужный момент.\n",
    "Мы записали то, что хотим передать в number, и не просигналили, то того, как начать ждать, пока наше число извлечет основной поток. А как он извлечет число, если между передачей и ожиданием получения, мы не просигналили?\n",
    "\n",
    "</p>\n",
    "</details>\n"
   ]
  },
  {
   "cell_type": "code",
   "execution_count": null,
   "metadata": {},
   "outputs": [],
   "source": []
  }
 ],
 "metadata": {
  "kernelspec": {
   "display_name": "Python 3",
   "language": "python",
   "name": "python3"
  },
  "language_info": {
   "codemirror_mode": {
    "name": "ipython",
    "version": 3
   },
   "file_extension": ".py",
   "mimetype": "text/x-python",
   "name": "python",
   "nbconvert_exporter": "python",
   "pygments_lexer": "ipython3",
   "version": "3.8.5"
  }
 },
 "nbformat": 4,
 "nbformat_minor": 2
}
