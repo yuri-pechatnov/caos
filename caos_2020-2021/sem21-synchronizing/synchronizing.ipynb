{
 "cells": [
  {
   "cell_type": "code",
   "execution_count": 2,
   "metadata": {},
   "outputs": [
    {
     "data": {
      "application/javascript": [
       "// setup cpp code highlighting\n",
       "IPython.CodeCell.options_default.highlight_modes[\"text/x-c++src\"] = {'reg':[/^%%cpp/]} ;"
      ],
      "text/plain": [
       "<IPython.core.display.Javascript object>"
      ]
     },
     "metadata": {},
     "output_type": "display_data"
    },
    {
     "data": {
      "text/html": [
       "<!-- YANDEX_METRICA_BEGIN -->\n",
       "    <script type=\"text/javascript\" >\n",
       "       (function(m,e,t,r,i,k,a){m[i]=m[i]||function(){(m[i].a=m[i].a||[]).push(arguments)};\n",
       "       m[i].l=1*new Date();k=e.createElement(t),a=e.getElementsByTagName(t)[0],k.async=1,k.src=r,a.parentNode.insertBefore(k,a)})\n",
       "       (window, document, \"script\", \"https://mc.yandex.ru/metrika/tag.js\", \"ym\");\n",
       "\n",
       "       ym(59260609, \"init\", {\n",
       "            clickmap:true,\n",
       "            trackLinks:true,\n",
       "            accurateTrackBounce:true\n",
       "       });\n",
       "    </script>\n",
       "    <noscript><div><img src=\"https://mc.yandex.ru/watch/59260609\" style=\"position:absolute; left:-9999px;\" alt=\"\" /></div></noscript>\n",
       "    <!-- YANDEX_METRICA_END -->"
      ],
      "text/plain": [
       "<IPython.core.display.HTML object>"
      ]
     },
     "metadata": {},
     "output_type": "display_data"
    },
    {
     "data": {
      "text/html": [
       "В этот ноутбук встроен код Яндекс Метрики для сбора статистики использований. Если вы не хотите, чтобы по вам собиралась статистика, исправьте: yandex_metrica_allowed = False<!-- MAGICS_SETUP_PRINTING_END -->"
      ],
      "text/plain": [
       "<IPython.core.display.HTML object>"
      ]
     },
     "metadata": {},
     "output_type": "display_data"
    }
   ],
   "source": [
    "# look at tools/set_up_magics.ipynb\n",
    "yandex_metrica_allowed = True ; get_ipython().run_cell('# one_liner_str\\n\\nget_ipython().run_cell_magic(\\'javascript\\', \\'\\', \\'// setup cpp code highlighting\\\\nIPython.CodeCell.options_default.highlight_modes[\"text/x-c++src\"] = {\\\\\\'reg\\\\\\':[/^%%cpp/]} ;\\')\\n\\n# creating magics\\nfrom IPython.core.magic import register_cell_magic, register_line_magic\\nfrom IPython.display import display, Markdown, HTML\\nimport argparse\\nfrom subprocess import Popen, PIPE\\nimport random\\nimport sys\\nimport os\\nimport re\\nimport signal\\nimport shutil\\nimport shlex\\nimport glob\\n\\n@register_cell_magic\\ndef save_file(args_str, cell, line_comment_start=\"#\"):\\n    parser = argparse.ArgumentParser()\\n    parser.add_argument(\"fname\")\\n    parser.add_argument(\"--ejudge-style\", action=\"store_true\")\\n    args = parser.parse_args(args_str.split())\\n    \\n    cell = cell if cell[-1] == \\'\\\\n\\' or args.no_eof_newline else cell + \"\\\\n\"\\n    cmds = []\\n    with open(args.fname, \"w\") as f:\\n        f.write(line_comment_start + \" %%cpp \" + args_str + \"\\\\n\")\\n        for line in cell.split(\"\\\\n\"):\\n            line_to_write = (line if not args.ejudge_style else line.rstrip()) + \"\\\\n\"\\n            if line.startswith(\"%\"):\\n                run_prefix = \"%run \"\\n                if line.startswith(run_prefix):\\n                    cmds.append(line[len(run_prefix):].strip())\\n                    f.write(line_comment_start + \" \" + line_to_write)\\n                    continue\\n                run_prefix = \"%# \"\\n                if line.startswith(run_prefix):\\n                    f.write(line_comment_start + \" \" + line_to_write)\\n                    continue\\n                raise Exception(\"Unknown %%save_file subcommand: \\'%s\\'\" % line)\\n            else:\\n                f.write(line_to_write)\\n        f.write(\"\" if not args.ejudge_style else line_comment_start + r\" line without \\\\n\")\\n    for cmd in cmds:\\n        display(Markdown(\"Run: `%s`\" % cmd))\\n        get_ipython().system(cmd)\\n\\n@register_cell_magic\\ndef cpp(fname, cell):\\n    save_file(fname, cell, \"//\")\\n\\n@register_cell_magic\\ndef asm(fname, cell):\\n    save_file(fname, cell, \"//\")\\n    \\n@register_cell_magic\\ndef makefile(fname, cell):\\n    assert not fname\\n    save_file(\"makefile\", cell.replace(\" \" * 4, \"\\\\t\"))\\n        \\n@register_line_magic\\ndef p(line):\\n    try:\\n        expr, comment = line.split(\" #\")\\n        display(Markdown(\"`{} = {}`  # {}\".format(expr.strip(), eval(expr), comment.strip())))\\n    except:\\n        display(Markdown(\"{} = {}\".format(line, eval(line))))\\n        \\ndef show_file(file, clear_at_begin=True, return_html_string=False):\\n    if clear_at_begin:\\n        get_ipython().system(\"truncate --size 0 \" + file)\\n    obj = file.replace(\\'.\\', \\'_\\').replace(\\'/\\', \\'_\\') + \"_obj\"\\n    html_string = \\'\\'\\'\\n        <!--MD_BEGIN_FILTER-->\\n        <script type=text/javascript>\\n        var entrance___OBJ__ = 0;\\n        var errors___OBJ__ = 0;\\n        function refresh__OBJ__()\\n        {\\n            entrance___OBJ__ -= 1;\\n            var elem = document.getElementById(\"__OBJ__\");\\n            if (elem) {\\n                var xmlhttp=new XMLHttpRequest();\\n                xmlhttp.onreadystatechange=function()\\n                {\\n                    var elem = document.getElementById(\"__OBJ__\");\\n                    console.log(!!elem, xmlhttp.readyState, xmlhttp.status, entrance___OBJ__);\\n                    if (elem && xmlhttp.readyState==4) {\\n                        if (xmlhttp.status==200)\\n                        {\\n                            errors___OBJ__ = 0;\\n                            if (!entrance___OBJ__) {\\n                                elem.innerText = xmlhttp.responseText;\\n                                entrance___OBJ__ += 1;\\n                                console.log(\"req\");\\n                                window.setTimeout(\"refresh__OBJ__()\", 300); \\n                            }\\n                            return xmlhttp.responseText;\\n                        } else {\\n                            errors___OBJ__ += 1;\\n                            if (errors___OBJ__ < 10 && !entrance___OBJ__) {\\n                                entrance___OBJ__ += 1;\\n                                console.log(\"req\");\\n                                window.setTimeout(\"refresh__OBJ__()\", 300); \\n                            }\\n                        }\\n                    }\\n                }\\n                xmlhttp.open(\"GET\", \"__FILE__\", true);\\n                xmlhttp.setRequestHeader(\"Cache-Control\", \"no-cache\");\\n                xmlhttp.send();     \\n            }\\n        }\\n        \\n        if (!entrance___OBJ__) {\\n            entrance___OBJ__ += 1;\\n            refresh__OBJ__(); \\n        }\\n        </script>\\n        \\n        <font color=\"white\"> <tt>\\n        <p id=\"__OBJ__\" style=\"font-size: 16px; border:3px #333333 solid; background: #333333; border-radius: 10px; padding: 10px;  \"></p>\\n        </tt> </font>\\n        <!--MD_END_FILTER-->\\n        <!--MD_FROM_FILE __FILE__ -->\\n        \\'\\'\\'.replace(\"__OBJ__\", obj).replace(\"__FILE__\", file)\\n    if return_html_string:\\n        return html_string\\n    display(HTML(html_string))\\n    \\nBASH_POPEN_TMP_DIR = \"./bash_popen_tmp\"\\n    \\ndef bash_popen_terminate_all():\\n    for p in globals().get(\"bash_popen_list\", []):\\n        print(\"Terminate pid=\" + str(p.pid), file=sys.stderr)\\n        p.terminate()\\n    globals()[\"bash_popen_list\"] = []\\n    if os.path.exists(BASH_POPEN_TMP_DIR):\\n        shutil.rmtree(BASH_POPEN_TMP_DIR)\\n\\nbash_popen_terminate_all()  \\n\\ndef bash_popen(cmd):\\n    if not os.path.exists(BASH_POPEN_TMP_DIR):\\n        os.mkdir(BASH_POPEN_TMP_DIR)\\n    h = os.path.join(BASH_POPEN_TMP_DIR, str(random.randint(0, 1e18)))\\n    stdout_file = h + \".out.html\"\\n    stderr_file = h + \".err.html\"\\n    run_log_file = h + \".fin.html\"\\n    \\n    stdout = open(stdout_file, \"wb\")\\n    stdout = open(stderr_file, \"wb\")\\n    \\n    html = \"\"\"\\n    <table width=\"100%\">\\n    <colgroup>\\n       <col span=\"1\" style=\"width: 70px;\">\\n       <col span=\"1\">\\n    </colgroup>    \\n    <tbody>\\n      <tr> <td><b>STDOUT</b></td> <td> {stdout} </td> </tr>\\n      <tr> <td><b>STDERR</b></td> <td> {stderr} </td> </tr>\\n      <tr> <td><b>RUN LOG</b></td> <td> {run_log} </td> </tr>\\n    </tbody>\\n    </table>\\n    \"\"\".format(\\n        stdout=show_file(stdout_file, return_html_string=True),\\n        stderr=show_file(stderr_file, return_html_string=True),\\n        run_log=show_file(run_log_file, return_html_string=True),\\n    )\\n    \\n    cmd = \"\"\"\\n        bash -c {cmd} &\\n        pid=$!\\n        echo \"Process started! pid=${{pid}}\" > {run_log_file}\\n        wait ${{pid}}\\n        echo \"Process finished! exit_code=$?\" >> {run_log_file}\\n    \"\"\".format(cmd=shlex.quote(cmd), run_log_file=run_log_file)\\n    # print(cmd)\\n    display(HTML(html))\\n    \\n    p = Popen([\"bash\", \"-c\", cmd], stdin=PIPE, stdout=stdout, stderr=stdout)\\n    \\n    bash_popen_list.append(p)\\n    return p\\n\\n\\n@register_line_magic\\ndef bash_async(line):\\n    bash_popen(line)\\n    \\n    \\ndef show_log_file(file, return_html_string=False):\\n    obj = file.replace(\\'.\\', \\'_\\').replace(\\'/\\', \\'_\\') + \"_obj\"\\n    html_string = \\'\\'\\'\\n        <!--MD_BEGIN_FILTER-->\\n        <script type=text/javascript>\\n        var entrance___OBJ__ = 0;\\n        var errors___OBJ__ = 0;\\n        function halt__OBJ__(elem, color)\\n        {\\n            elem.setAttribute(\"style\", \"font-size: 14px; background: \" + color + \"; padding: 10px; border: 3px; border-radius: 5px; color: white; \");                    \\n        }\\n        function refresh__OBJ__()\\n        {\\n            entrance___OBJ__ -= 1;\\n            if (entrance___OBJ__ < 0) {\\n                entrance___OBJ__ = 0;\\n            }\\n            var elem = document.getElementById(\"__OBJ__\");\\n            if (elem) {\\n                var xmlhttp=new XMLHttpRequest();\\n                xmlhttp.onreadystatechange=function()\\n                {\\n                    var elem = document.getElementById(\"__OBJ__\");\\n                    console.log(!!elem, xmlhttp.readyState, xmlhttp.status, entrance___OBJ__);\\n                    if (elem && xmlhttp.readyState==4) {\\n                        if (xmlhttp.status==200)\\n                        {\\n                            errors___OBJ__ = 0;\\n                            if (!entrance___OBJ__) {\\n                                if (elem.innerHTML != xmlhttp.responseText) {\\n                                    elem.innerHTML = xmlhttp.responseText;\\n                                }\\n                                if (elem.innerHTML.includes(\"Process finished.\")) {\\n                                    halt__OBJ__(elem, \"#333333\");\\n                                } else {\\n                                    entrance___OBJ__ += 1;\\n                                    console.log(\"req\");\\n                                    window.setTimeout(\"refresh__OBJ__()\", 300); \\n                                }\\n                            }\\n                            return xmlhttp.responseText;\\n                        } else {\\n                            errors___OBJ__ += 1;\\n                            if (!entrance___OBJ__) {\\n                                if (errors___OBJ__ < 6) {\\n                                    entrance___OBJ__ += 1;\\n                                    console.log(\"req\");\\n                                    window.setTimeout(\"refresh__OBJ__()\", 300); \\n                                } else {\\n                                    halt__OBJ__(elem, \"#994444\");\\n                                }\\n                            }\\n                        }\\n                    }\\n                }\\n                xmlhttp.open(\"GET\", \"__FILE__\", true);\\n                xmlhttp.setRequestHeader(\"Cache-Control\", \"no-cache\");\\n                xmlhttp.send();     \\n            }\\n        }\\n        \\n        if (!entrance___OBJ__) {\\n            entrance___OBJ__ += 1;\\n            refresh__OBJ__(); \\n        }\\n        </script>\\n\\n        <p id=\"__OBJ__\" style=\"font-size: 14px; background: #000000; padding: 10px; border: 3px; border-radius: 5px; color: white; \">\\n        </p>\\n        \\n        </font>\\n        <!--MD_END_FILTER-->\\n        <!--MD_FROM_FILE __FILE__.md -->\\n        \\'\\'\\'.replace(\"__OBJ__\", obj).replace(\"__FILE__\", file)\\n    if return_html_string:\\n        return html_string\\n    display(HTML(html_string))\\n\\n    \\nclass TInteractiveLauncher:\\n    tmp_path = \"./interactive_launcher_tmp\"\\n    def __init__(self, cmd):\\n        try:\\n            os.mkdir(TInteractiveLauncher.tmp_path)\\n        except:\\n            pass\\n        name = str(random.randint(0, 1e18))\\n        self.inq_path = os.path.join(TInteractiveLauncher.tmp_path, name + \".inq\")\\n        self.log_path = os.path.join(TInteractiveLauncher.tmp_path, name + \".log\")\\n        \\n        os.mkfifo(self.inq_path)\\n        open(self.log_path, \\'w\\').close()\\n        open(self.log_path + \".md\", \\'w\\').close()\\n\\n        self.pid = os.fork()\\n        if self.pid == -1:\\n            print(\"Error\")\\n        if self.pid == 0:\\n            exe_cands = glob.glob(\"../tools/launcher.py\") + glob.glob(\"../../tools/launcher.py\")\\n            assert(len(exe_cands) == 1)\\n            assert(os.execvp(\"python3\", [\"python3\", exe_cands[0], \"-l\", self.log_path, \"-i\", self.inq_path, \"-c\", cmd]) == 0)\\n        self.inq_f = open(self.inq_path, \"w\")\\n        interactive_launcher_opened_set.add(self.pid)\\n        show_log_file(self.log_path)\\n\\n    def write(self, s):\\n        s = s.encode()\\n        assert len(s) == os.write(self.inq_f.fileno(), s)\\n        \\n    def get_pid(self):\\n        n = 100\\n        for i in range(n):\\n            try:\\n                return int(re.findall(r\"PID = (\\\\d+)\", open(self.log_path).readline())[0])\\n            except:\\n                if i + 1 == n:\\n                    raise\\n                time.sleep(0.1)\\n        \\n    def input_queue_path(self):\\n        return self.inq_path\\n        \\n    def close(self):\\n        self.inq_f.close()\\n        os.waitpid(self.pid, 0)\\n        os.remove(self.inq_path)\\n        # os.remove(self.log_path)\\n        self.inq_path = None\\n        self.log_path = None \\n        interactive_launcher_opened_set.remove(self.pid)\\n        self.pid = None\\n        \\n    @staticmethod\\n    def terminate_all():\\n        if \"interactive_launcher_opened_set\" not in globals():\\n            globals()[\"interactive_launcher_opened_set\"] = set()\\n        global interactive_launcher_opened_set\\n        for pid in interactive_launcher_opened_set:\\n            print(\"Terminate pid=\" + str(pid), file=sys.stderr)\\n            os.kill(pid, signal.SIGKILL)\\n            os.waitpid(pid, 0)\\n        interactive_launcher_opened_set = set()\\n        if os.path.exists(TInteractiveLauncher.tmp_path):\\n            shutil.rmtree(TInteractiveLauncher.tmp_path)\\n    \\nTInteractiveLauncher.terminate_all()\\n   \\nyandex_metrica_allowed = bool(globals().get(\"yandex_metrica_allowed\", False))\\nif yandex_metrica_allowed:\\n    display(HTML(\\'\\'\\'<!-- YANDEX_METRICA_BEGIN -->\\n    <script type=\"text/javascript\" >\\n       (function(m,e,t,r,i,k,a){m[i]=m[i]||function(){(m[i].a=m[i].a||[]).push(arguments)};\\n       m[i].l=1*new Date();k=e.createElement(t),a=e.getElementsByTagName(t)[0],k.async=1,k.src=r,a.parentNode.insertBefore(k,a)})\\n       (window, document, \"script\", \"https://mc.yandex.ru/metrika/tag.js\", \"ym\");\\n\\n       ym(59260609, \"init\", {\\n            clickmap:true,\\n            trackLinks:true,\\n            accurateTrackBounce:true\\n       });\\n    </script>\\n    <noscript><div><img src=\"https://mc.yandex.ru/watch/59260609\" style=\"position:absolute; left:-9999px;\" alt=\"\" /></div></noscript>\\n    <!-- YANDEX_METRICA_END -->\\'\\'\\'))\\n\\ndef make_oneliner():\\n    html_text = \\'(\"В этот ноутбук встроен код Яндекс Метрики для сбора статистики использований. Если вы не хотите, чтобы по вам собиралась статистика, исправьте: yandex_metrica_allowed = False\" if yandex_metrica_allowed else \"\")\\'\\n    html_text += \\' + \"<\"\"!-- MAGICS_SETUP_PRINTING_END -->\"\\'\\n    return \\'\\'.join([\\n        \\'# look at tools/set_up_magics.ipynb\\\\n\\',\\n        \\'yandex_metrica_allowed = True ; get_ipython().run_cell(%s);\\' % repr(one_liner_str),\\n        \\'display(HTML(%s))\\' % html_text,\\n        \\' #\\'\\'MAGICS_SETUP_END\\'\\n    ])\\n       \\n\\n');display(HTML((\"В этот ноутбук встроен код Яндекс Метрики для сбора статистики использований. Если вы не хотите, чтобы по вам собиралась статистика, исправьте: yandex_metrica_allowed = False\" if yandex_metrica_allowed else \"\") + \"<\"\"!-- MAGICS_SETUP_PRINTING_END -->\")) #MAGICS_SETUP_END"
   ]
  },
  {
   "cell_type": "markdown",
   "metadata": {},
   "source": [
    "# Межпоточная и межпроцессная синхронизация\n",
    "\n",
    "<br>\n",
    "<div style=\"text-align: right\"> Спасибо <a href=\"https://github.com/SyrnikRebirth\">Сове Глебу</a> и <a href=\"https://github.com/Disadvantaged\">Голяр Димитрису</a> за участие в написании текста </div>\n",
    "<br>\n",
    "\n",
    "<p><a href=\"https://www.youtube.com/watch?v=nmrKLNmbE8o&list=PLjzMm8llUm4AmU6i_hPU0NobgA4VsBowc&index=22\" target=\"_blank\">\n",
    "    <h3>Видеозапись первого семинара</h3> \n",
    "</a></p>\n",
    "\n",
    "<p><a href=\"https://www.youtube.com/watch?v=aWwzNPZ-L7o&list=PLjzMm8llUm4AmU6i_hPU0NobgA4VsBowc&index=23\" target=\"_blank\">\n",
    "    <h3>Видеозапись второго семинара</h3> \n",
    "</a></p>\n",
    "\n",
    "\n",
    "[Ридинг Яковлева про межпоточную синхронизацию](https://github.com/victor-yacovlev/mipt-diht-caos/tree/master/practice/mutex-condvar-atomic)\n",
    "[Ридинг Яковлева про межпроцессную синхронизацию](https://github.com/victor-yacovlev/mipt-diht-caos/tree/master/practice/posix_ipc)\n",
    "\n",
    "\n",
    "\n",
    "В [соседнем ноутбуке](./quiz.md) лежит quiz с задачками на поиск ошибок в асинхронности с сигналами и примитивами межпоточной синхронизации. Рекомендую порешать, так как значительное количество задачек составлено на основе ошибок студентов. (А еще там есть ответы. Но не подглядывайте в них сразу, сначала хорошо подумайте.)\n",
    "\n",
    "\n",
    "Сегодня в программе:\n",
    "* Межпоточная синхронизация\n",
    "  * <a href=\"#mutex\" style=\"color:#856024\">Мьютексы</a>\n",
    "  <br> MUTEX ~ MUTual EXclusion (если вдруг кто забыл)\n",
    "  * <a href=\"#spinlock\" style=\"color:#856024\">Spinlock'и и атомики</a>\n",
    "  <br> [Атомики в С на cppreference](https://ru.cppreference.com/w/c/atomic)\n",
    "  <br> <a href=\"#c_atomic_life\" style=\"color:#856024\">Atomic в C и как с этим жить </a> (раздел от <a href=\"https://github.com/nikvas2000\">Николая Васильева</a>)\n",
    "  <br> <details> <summary>Про compare_exchange_weak vs compare_exchange_strong</summary> <p>\n",
    "https://stackoverflow.com/questions/4944771/stdatomic-compare-exchange-weak-vs-compare-exchange-strong\n",
    "<br>The weak compare-and-exchange operations may fail spuriously, that is, return false while leaving the contents of memory pointed to by expected before the operation is the same that same as that of the object and the same as that of expected after the operation. [ Note: This spurious failure enables implementation of compare-and-exchange on a broader class of machines, e.g., loadlocked store-conditional machines. A consequence of spurious failure is that nearly all uses of weak compare-and-exchange will be in a loop. \n",
    "</p>\n",
    "</details>\n",
    "  \n",
    "  * <a href=\"#condvar\" style=\"color:#856024\">Condition variable (aka условные переменные)</a>\n",
    "\n",
    "* Межпроцессная синхронизация (Inter Process Communications / IPC)\n",
    "  * Именованные каналы, сокеты, ...\n",
    "  * <a href=\"#mmap\" style=\"color:#856024\">`mmap` для IPC</a>\n",
    "  <br> Используем примитивы межпоточной синхронизации для межпроцессной. Через разделяемую память создаем правильные мьютексы.\n",
    "  <br> [Ссылка про правильные мьютексы](https://linux.die.net/man/3/pthread_mutexattr_init)  \n",
    "  * <a href=\"#shm\" style=\"color:#856024\">Объекты разделяемой памяти POSIX</a>\n",
    "  <br>Это почти то же самое, что и обычные файлы, но у них ортогональное пространство имен и они не сохраняются на диск.\n",
    "  <br>Вызовы `shm_open` (открывает/создает объект разделяемой памяти, аналогично `open`) и `shm_unlink` (удаляет ссылку на объект, аналогично `unlink`)  \n",
    "  <br>[Документашка](https://www.opennet.ru/man.shtml?topic=shm_open&category=3&russian=0). [Отличия от `open`](https://stackoverflow.com/questions/24875257/why-use-shm-open)\n",
    "  <br><br>\n",
    "  * Семафоры\n",
    "  <br><a href=\"#sem_anon\" style=\"color:#856024\">Неименованные</a>\n",
    "  <br><a href=\"#sem_named\" style=\"color:#856024\">Именованные</a>\n",
    "  * <a href=\"#sem_signal\" style=\"color:#856024\">Сочетаемость семафоров и сигналов</a> \n",
    "\n",
    "  \n",
    "  \n",
    "<a href=\"#hw\" style=\"color:#856024\">Комментарии к ДЗ</a>\n"
   ]
  },
  {
   "cell_type": "markdown",
   "metadata": {},
   "source": [
    "# Межпоточная синхронизация\n",
    "\n",
    "Кратко основное"
   ]
  },
  {
   "cell_type": "markdown",
   "metadata": {},
   "source": [
    "## <a name=\"mutex\"></a> Мьютексы"
   ]
  },
  {
   "cell_type": "code",
   "execution_count": 89,
   "metadata": {
    "scrolled": true
   },
   "outputs": [
    {
     "data": {
      "text/markdown": [
       "Run: `gcc -fsanitize=thread mutex.c -lpthread -o mutex.exe`"
      ],
      "text/plain": [
       "<IPython.core.display.Markdown object>"
      ]
     },
     "metadata": {},
     "output_type": "display_data"
    },
    {
     "data": {
      "text/markdown": [
       "Run: `./mutex.exe`"
      ],
      "text/plain": [
       "<IPython.core.display.Markdown object>"
      ]
     },
     "metadata": {},
     "output_type": "display_data"
    },
    {
     "name": "stdout",
     "output_type": "stream",
     "text": [
      "0.001          main():80  [tid=92211]: Main func started\n",
      "0.001          main():84  [tid=92211]: Creating thread 0\n",
      "0.002          main():84  [tid=92211]: Creating thread 1\n",
      "0.002   thread_func():70  [tid=92213]:   Thread 0 started\n",
      "0.009   thread_func():70  [tid=92214]:   Thread 1 started\n",
      "0.055   thread_func():74  [tid=92213]:   Thread 0 finished\n",
      "0.055          main():89  [tid=92211]: Thread 0 joined\n",
      "0.062   thread_func():74  [tid=92214]:   Thread 1 finished\n",
      "0.063          main():89  [tid=92211]: Thread 1 joined\n",
      "0.063          main():91  [tid=92211]: Main func finished\n"
     ]
    }
   ],
   "source": [
    "%%cpp mutex.c\n",
    "%# Санитайзер отслеживает небезопасный доступ \n",
    "%# к одному и тому же участку в памяти из разных потоков\n",
    "%# (а так же другие небезопасные вещи). \n",
    "%# В таких задачах советую всегда использовать\n",
    "%run gcc -fsanitize=thread mutex.c -lpthread -o mutex.exe\n",
    "%run ./mutex.exe\n",
    "\n",
    "#define _GNU_SOURCE \n",
    "#include <stdio.h>\n",
    "#include <stdlib.h>\n",
    "#include <unistd.h>\n",
    "#include <sys/types.h>\n",
    "#include <sys/syscall.h>\n",
    "#include <sys/time.h>\n",
    "#include <string.h>\n",
    "#include <pthread.h>\n",
    "#include <errno.h>\n",
    "#include <stdint.h>\n",
    "#include <stdatomic.h>\n",
    "\n",
    "// log_printf - макрос для отладочного вывода, добавляющий время со старта программы, имя функции и номер строки\n",
    "uint64_t start_time_msec; void  __attribute__ ((constructor)) start_time_setter() { struct timespec spec; clock_gettime(CLOCK_MONOTONIC, &spec); start_time_msec = spec.tv_sec * 1000L + spec.tv_nsec / 1000000; }\n",
    "const char* log_prefix(const char* func, int line) {\n",
    "    struct timespec spec; clock_gettime(CLOCK_MONOTONIC, &spec); int delta_msec = spec.tv_sec * 1000L + spec.tv_nsec / 1000000 - start_time_msec;\n",
    "    const int max_func_len = 13; static __thread char prefix[100]; \n",
    "    sprintf(prefix, \"%d.%03d %*s():%-3d [tid=%ld]\", delta_msec / 1000, delta_msec % 1000, max_func_len, func, line, syscall(__NR_gettid));\n",
    "    return prefix;\n",
    "}\n",
    "#define log_printf_impl(fmt, ...) { time_t t = time(0); dprintf(2, \"%s: \" fmt \"%s\", log_prefix(__FUNCTION__, __LINE__), __VA_ARGS__); }\n",
    "// Format: <time_since_start> <func_name>:<line> : <custom_message>\n",
    "#define log_printf(...) log_printf_impl(__VA_ARGS__, \"\")\n",
    "\n",
    "\n",
    "#define fail_with_strerror(code, msg) do { char err_buf[1024]; strerror_r(code, err_buf, sizeof(err_buf));\\\n",
    "    log_printf(msg \" (From err code: %s)\\n\", err_buf);  exit(EXIT_FAILURE);} while (0)\n",
    "\n",
    "// thread-aware assert\n",
    "#define ta_verify(stmt) do { if (stmt) break; fail_with_strerror(errno, \"'\" #stmt \"' failed.\"); } while (0)\n",
    "\n",
    "// verify pthread call\n",
    "#define pt_verify(pthread_call) do { int code = (pthread_call); if (code == 0) break; \\\n",
    "    fail_with_strerror(code, \"'\" #pthread_call \"' failed.\"); } while (0)\n",
    "\n",
    "//=============== Начало примера ======================\n",
    "\n",
    "typedef enum {\n",
    "    VALID_STATE = 0,\n",
    "    INVALID_STATE = 1\n",
    "} state_t;\n",
    "\n",
    "// Инициализируем мьютекс\n",
    "pthread_mutex_t mutex = PTHREAD_MUTEX_INITIALIZER; // protects: state \n",
    "state_t current_state = VALID_STATE;\n",
    "\n",
    "void thread_safe_func() {\n",
    "    // all function is critical section, protected by mutex\n",
    "    pthread_mutex_lock(&mutex); // try comment lock&unlock out and look at result\n",
    "    ta_verify(current_state == VALID_STATE);\n",
    "    current_state = INVALID_STATE; // do some work with state. \n",
    "    sched_yield();\n",
    "    current_state = VALID_STATE;\n",
    "    pthread_mutex_unlock(&mutex);\n",
    "}\n",
    "\n",
    "// Возвращаемое значение потока (~код возврата процесса) -- любое машинное слово.\n",
    "static void* thread_func(void* arg) \n",
    "{\n",
    "    int i = (char*)arg - (char*)NULL;\n",
    "    log_printf(\"  Thread %d started\\n\", i);\n",
    "    for (int j = 0; j < 10000; ++j) {\n",
    "        thread_safe_func();\n",
    "    }\n",
    "    log_printf(\"  Thread %d finished\\n\", i);\n",
    "    return NULL;\n",
    "}\n",
    "\n",
    "int main()\n",
    "{\n",
    "    log_printf(\"Main func started\\n\");\n",
    "    const int threads_count = 2;\n",
    "    pthread_t threads[threads_count];\n",
    "    for (int i = 0; i < threads_count; ++i) {\n",
    "        log_printf(\"Creating thread %d\\n\", i);\n",
    "        pt_verify(pthread_create(&threads[i], NULL, thread_func, (char*)NULL + i));\n",
    "    }\n",
    "    for (int i = 0; i < threads_count; ++i) {\n",
    "        pt_verify(pthread_join(threads[i], NULL)); \n",
    "        log_printf(\"Thread %d joined\\n\", i);\n",
    "    }\n",
    "    log_printf(\"Main func finished\\n\");\n",
    "    return 0;\n",
    "}"
   ]
  },
  {
   "cell_type": "markdown",
   "metadata": {},
   "source": [
    "# <a name=\"spinlock\"></a> Spinlock\n",
    "\n",
    "В С++ есть `std::atomic<T>`, в Си есть и у нас нет шаблонов, а для атомарных типов есть спецификатор `_Atomic`. Синтаксически работает он так же как и `const`, то есть `_Atomic int* a` - это указатель на атомарный int. (Если хотите атомарный указатель можно писать `_Atomic (int*) a`). \n",
    "\n",
    "[spinlock в стандартной библиотеке](https://linux.die.net/man/3/pthread_spin_init)"
   ]
  },
  {
   "cell_type": "code",
   "execution_count": 90,
   "metadata": {},
   "outputs": [
    {
     "data": {
      "text/markdown": [
       "Run: `gcc -fsanitize=thread -std=c11 spinlock.c -lpthread -o spinlock.exe`"
      ],
      "text/plain": [
       "<IPython.core.display.Markdown object>"
      ]
     },
     "metadata": {},
     "output_type": "display_data"
    },
    {
     "data": {
      "text/markdown": [
       "Run: `./spinlock.exe`"
      ],
      "text/plain": [
       "<IPython.core.display.Markdown object>"
      ]
     },
     "metadata": {},
     "output_type": "display_data"
    },
    {
     "name": "stdout",
     "output_type": "stream",
     "text": [
      "0.000          main():89  [tid=92222]: Main func started\n",
      "0.000          main():93  [tid=92222]: Creating thread 0\n",
      "0.001          main():93  [tid=92222]: Creating thread 1\n",
      "0.001   thread_func():79  [tid=92224]:   Thread 0 started\n",
      "0.002   thread_func():79  [tid=92225]:   Thread 1 started\n",
      "0.100   thread_func():83  [tid=92224]:   Thread 0 finished\n",
      "0.100          main():98  [tid=92222]: Thread 0 joined\n",
      "0.102   thread_func():83  [tid=92225]:   Thread 1 finished\n",
      "0.102          main():98  [tid=92222]: Thread 1 joined\n",
      "0.102          main():100 [tid=92222]: Main func finished\n"
     ]
    }
   ],
   "source": [
    "%%cpp spinlock.c\n",
    "%run gcc -fsanitize=thread -std=c11 spinlock.c -lpthread -o spinlock.exe\n",
    "%run ./spinlock.exe\n",
    "\n",
    "#define _GNU_SOURCE \n",
    "#include <stdio.h>\n",
    "#include <stdlib.h>\n",
    "#include <unistd.h>\n",
    "#include <sys/types.h>\n",
    "#include <sys/syscall.h>\n",
    "#include <sys/time.h>\n",
    "#include <string.h>\n",
    "#include <pthread.h>\n",
    "#include <errno.h>\n",
    "#include <stdint.h>\n",
    "#include <stdatomic.h>\n",
    "\n",
    "// log_printf - макрос для отладочного вывода, добавляющий время со старта программы, имя функции и номер строки\n",
    "uint64_t start_time_msec; void  __attribute__ ((constructor)) start_time_setter() { struct timespec spec; clock_gettime(CLOCK_MONOTONIC, &spec); start_time_msec = spec.tv_sec * 1000L + spec.tv_nsec / 1000000; }\n",
    "const char* log_prefix(const char* func, int line) {\n",
    "    struct timespec spec; clock_gettime(CLOCK_MONOTONIC, &spec); int delta_msec = spec.tv_sec * 1000L + spec.tv_nsec / 1000000 - start_time_msec;\n",
    "    const int max_func_len = 13; static __thread char prefix[100]; \n",
    "    sprintf(prefix, \"%d.%03d %*s():%-3d [tid=%ld]\", delta_msec / 1000, delta_msec % 1000, max_func_len, func, line, syscall(__NR_gettid));\n",
    "    return prefix;\n",
    "}\n",
    "#define log_printf_impl(fmt, ...) { time_t t = time(0); dprintf(2, \"%s: \" fmt \"%s\", log_prefix(__FUNCTION__, __LINE__), __VA_ARGS__); }\n",
    "// Format: <time_since_start> <func_name>:<line> : <custom_message>\n",
    "#define log_printf(...) log_printf_impl(__VA_ARGS__, \"\")\n",
    "\n",
    "\n",
    "#define fail_with_strerror(code, msg) do { char err_buf[1024]; strerror_r(code, err_buf, sizeof(err_buf));\\\n",
    "    log_printf(msg \" (From err code: %s)\\n\", err_buf);  exit(EXIT_FAILURE);} while (0)\n",
    "\n",
    "// thread-aware assert\n",
    "#define ta_verify(stmt) do { if (stmt) break; fail_with_strerror(errno, \"'\" #stmt \"' failed.\"); } while (0)\n",
    "\n",
    "// verify pthread call\n",
    "#define pt_verify(pthread_call) do { int code = (pthread_call); if (code == 0) break; \\\n",
    "    fail_with_strerror(code, \"'\" #pthread_call \"' failed.\"); } while (0)\n",
    "\n",
    "//=============== Начало примера ======================\n",
    "\n",
    "typedef enum {\n",
    "    VALID_STATE = 0,\n",
    "    INVALID_STATE = 1\n",
    "} state_t;\n",
    "\n",
    "_Atomic(int) lock = 0; // protects state\n",
    "state_t current_state = VALID_STATE;\n",
    "\n",
    "void sl_lock(_Atomic int* lock) { \n",
    "    int expected = 0;\n",
    "    // weak отличается от strong тем, что может выдавать иногда ложный false. Но он быстрее работает.\n",
    "    // atomic_compare_exchange_weak can change `expected`!\n",
    "    while (!atomic_compare_exchange_weak(lock, &expected, 1)) {\n",
    "        expected = 0;\n",
    "    }\n",
    "}\n",
    "\n",
    "void sl_unlock(_Atomic int* lock) {\n",
    "    atomic_fetch_sub(lock, 1);\n",
    "}\n",
    "\n",
    "// По сути та же функция, что и в предыдущем примере, но ипользуется spinlock вместо mutex\n",
    "void thread_safe_func() { \n",
    "    // all function is critical section, protected by mutex\n",
    "    sl_lock(&lock); // try comment lock&unlock out and look at result\n",
    "    ta_verify(current_state == VALID_STATE);\n",
    "    current_state = INVALID_STATE; // do some work with state. \n",
    "    sched_yield(); // increase probability of fail of incorrect lock realisation\n",
    "    current_state = VALID_STATE;\n",
    "    sl_unlock(&lock);\n",
    "}\n",
    "\n",
    "// Возвращаемое значение потока (~код возврата процесса) -- любое машинное слово.\n",
    "static void* thread_func(void* arg) \n",
    "{\n",
    "    int i = (char*)arg - (char*)NULL;\n",
    "    log_printf(\"  Thread %d started\\n\", i);\n",
    "    for (int j = 0; j < 10000; ++j) {\n",
    "        thread_safe_func();\n",
    "    }\n",
    "    log_printf(\"  Thread %d finished\\n\", i);\n",
    "    return NULL;\n",
    "}\n",
    "\n",
    "int main()\n",
    "{\n",
    "    log_printf(\"Main func started\\n\");\n",
    "    const int threads_count = 2;\n",
    "    pthread_t threads[threads_count];\n",
    "    for (int i = 0; i < threads_count; ++i) {\n",
    "        log_printf(\"Creating thread %d\\n\", i);\n",
    "        pt_verify(pthread_create(&threads[i], NULL, thread_func, (char*)NULL + i));\n",
    "    }\n",
    "    for (int i = 0; i < threads_count; ++i) {\n",
    "        pt_verify(pthread_join(threads[i], NULL)); \n",
    "        log_printf(\"Thread %d joined\\n\", i);\n",
    "    }\n",
    "    log_printf(\"Main func finished\\n\");\n",
    "    return 0;\n",
    "}"
   ]
  },
  {
   "cell_type": "code",
   "execution_count": 91,
   "metadata": {},
   "outputs": [
    {
     "data": {
      "text/markdown": [
       "Run: `gcc -fsanitize=thread condvar.c -lpthread -o condvar.exe`"
      ],
      "text/plain": [
       "<IPython.core.display.Markdown object>"
      ]
     },
     "metadata": {},
     "output_type": "display_data"
    },
    {
     "data": {
      "text/markdown": [
       "Run: `./condvar.exe`"
      ],
      "text/plain": [
       "<IPython.core.display.Markdown object>"
      ]
     },
     "metadata": {},
     "output_type": "display_data"
    },
    {
     "name": "stdout",
     "output_type": "stream",
     "text": [
      "0.000          main():107 [tid=92233]: Main func started\r\n",
      "0.001          main():110 [tid=92233]: Creating thread A\r\n",
      "0.002          main():114 [tid=92233]: Creating thread B\r\n",
      "0.002 thread_A_func():85  [tid=92235]: Func A started\r\n",
      "0.002 thread_A_func():87  [tid=92235]: Func A set promise_1 with 42\r\n",
      "0.033 thread_B_func():94  [tid=92236]: Func B started\r\n",
      "0.033 thread_B_func():96  [tid=92236]: Func B get promise_1 value = 42\r\n",
      "0.033 thread_B_func():98  [tid=92236]: Func B set promise_2 with 4200\r\n",
      "0.033 thread_A_func():89  [tid=92235]: Func A get promise_2 value = 4200\r\n",
      "0.034          main():118 [tid=92233]: Thread A joined\r\n",
      "0.034          main():121 [tid=92233]: Thread B joined\r\n",
      "0.034          main():123 [tid=92233]: Main func finished\r\n"
     ]
    }
   ],
   "source": [
    "%%cpp condvar.c\n",
    "%run gcc -fsanitize=thread condvar.c -lpthread -o condvar.exe\n",
    "%run ./condvar.exe\n",
    "\n",
    "#define _GNU_SOURCE \n",
    "#include <stdio.h>\n",
    "#include <stdlib.h>\n",
    "#include <unistd.h>\n",
    "#include <sys/types.h>\n",
    "#include <sys/syscall.h>\n",
    "#include <sys/time.h>\n",
    "#include <string.h>\n",
    "#include <pthread.h>\n",
    "#include <errno.h>\n",
    "#include <stdint.h>\n",
    "#include <stdatomic.h>\n",
    "\n",
    "// log_printf - макрос для отладочного вывода, добавляющий время со старта программы, имя функции и номер строки\n",
    "uint64_t start_time_msec; void  __attribute__ ((constructor)) start_time_setter() { struct timespec spec; clock_gettime(CLOCK_MONOTONIC, &spec); start_time_msec = spec.tv_sec * 1000L + spec.tv_nsec / 1000000; }\n",
    "const char* log_prefix(const char* func, int line) {\n",
    "    struct timespec spec; clock_gettime(CLOCK_MONOTONIC, &spec); int delta_msec = spec.tv_sec * 1000L + spec.tv_nsec / 1000000 - start_time_msec;\n",
    "    const int max_func_len = 13; static __thread char prefix[100]; \n",
    "    sprintf(prefix, \"%d.%03d %*s():%-3d [tid=%ld]\", delta_msec / 1000, delta_msec % 1000, max_func_len, func, line, syscall(__NR_gettid));\n",
    "    return prefix;\n",
    "}\n",
    "#define log_printf_impl(fmt, ...) { time_t t = time(0); dprintf(2, \"%s: \" fmt \"%s\", log_prefix(__FUNCTION__, __LINE__), __VA_ARGS__); }\n",
    "// Format: <time_since_start> <func_name>:<line> : <custom_message>\n",
    "#define log_printf(...) log_printf_impl(__VA_ARGS__, \"\")\n",
    "\n",
    "\n",
    "#define fail_with_strerror(code, msg) do { char err_buf[1024]; strerror_r(code, err_buf, sizeof(err_buf));\\\n",
    "    log_printf(msg \" (From err code: %s)\\n\", err_buf);  exit(EXIT_FAILURE);} while (0)\n",
    "\n",
    "// thread-aware assert\n",
    "#define ta_verify(stmt) do { if (stmt) break; fail_with_strerror(errno, \"'\" #stmt \"' failed.\"); } while (0)\n",
    "\n",
    "// verify pthread call\n",
    "#define pt_verify(pthread_call) do { int code = (pthread_call); if (code == 0) break; \\\n",
    "    fail_with_strerror(code, \"'\" #pthread_call \"' failed.\"); } while (0)\n",
    "\n",
    "//=============== Начало примера ======================\n",
    "\n",
    "typedef struct {\n",
    "    // рекомендую порядок записи переменных:\n",
    "    pthread_mutex_t mutex; // мьютекс\n",
    "    pthread_cond_t condvar; // переменная условия (если нужна)\n",
    "    \n",
    "    int value;\n",
    "} promise_t;\n",
    "\n",
    "void promise_init(promise_t* promise) {\n",
    "    pthread_mutex_init(&promise->mutex, NULL);\n",
    "    pthread_cond_init(&promise->condvar, NULL);\n",
    "    promise->value = -1;\n",
    "}\n",
    "\n",
    "void promise_set(promise_t* promise, int value) {\n",
    "    pthread_mutex_lock(&promise->mutex); // try comment lock&unlock out and look at result\n",
    "    promise->value = value; // криитическую секцию стоит делать как можно меньше\n",
    "    pthread_mutex_unlock(&promise->mutex);\n",
    "    // Важно понимать, когда вы уведомляете ожидающий поток о наступившем событии\n",
    "    // скорее всего вам подойдетт вариант сделать это сразу после unlock\n",
    "    // и скорее всего вам не нужно, \n",
    "    // чтобы между сохранением полезного состояния и cond_signal находилось ожидание чего-либо\n",
    "    pthread_cond_signal(&promise->condvar); // notify if there was nothing and now will be elements\n",
    "}\n",
    "\n",
    "int promise_get(promise_t* promise) {\n",
    "    pthread_mutex_lock(&promise->mutex); // try comment lock&unlock out and look at result\n",
    "    while (promise->value == -1) {\n",
    "        // Ждем какие-либо данные, если их нет, то спим.\n",
    "        // идейно convar внутри себя разблокирует mutex, чтобы другой поток мог положить в стейт то, что мы ждем\n",
    "        pthread_cond_wait(&promise->condvar, &promise->mutex);\n",
    "        // после завершения wait мьютекс снова заблокирован\n",
    "    }\n",
    "    int value = promise->value;\n",
    "    pthread_mutex_unlock(&promise->mutex);\n",
    "    return value;\n",
    "}\n",
    "\n",
    "promise_t promise_1, promise_2;\n",
    "\n",
    "\n",
    "static void* thread_A_func(void* arg) {\n",
    "    log_printf(\"Func A started\\n\");\n",
    "    promise_set(&promise_1, 42);\n",
    "    log_printf(\"Func A set promise_1 with 42\\n\");\n",
    "    int value_2 = promise_get(&promise_2);\n",
    "    log_printf(\"Func A get promise_2 value = %d\\n\", value_2);\n",
    "    return NULL;\n",
    "}\n",
    "\n",
    "static void* thread_B_func(void* arg) {\n",
    "    log_printf(\"Func B started\\n\");\n",
    "    int value_1 = promise_get(&promise_1);\n",
    "    log_printf(\"Func B get promise_1 value = %d\\n\", value_1);\n",
    "    promise_set(&promise_2, value_1 * 100);\n",
    "    log_printf(\"Func B set promise_2 with %d\\n\", value_1 * 100)\n",
    "    return NULL;\n",
    "}\n",
    "\n",
    "int main()\n",
    "{\n",
    "    promise_init(&promise_1);\n",
    "    promise_init(&promise_2);\n",
    "    \n",
    "    log_printf(\"Main func started\\n\");\n",
    "    \n",
    "    pthread_t thread_A_id;\n",
    "    log_printf(\"Creating thread A\\n\");\n",
    "    pt_verify(pthread_create(&thread_A_id, NULL, thread_A_func, NULL));\n",
    "    \n",
    "    pthread_t thread_B_id;\n",
    "    log_printf(\"Creating thread B\\n\");\n",
    "    pt_verify(pthread_create(&thread_B_id, NULL, thread_B_func, NULL));\n",
    "    \n",
    "    pt_verify(pthread_join(thread_A_id, NULL)); \n",
    "    log_printf(\"Thread A joined\\n\");\n",
    "    \n",
    "    pt_verify(pthread_join(thread_B_id, NULL)); \n",
    "    log_printf(\"Thread B joined\\n\");\n",
    "    \n",
    "    log_printf(\"Main func finished\\n\");\n",
    "    return 0;\n",
    "}"
   ]
  },
  {
   "cell_type": "code",
   "execution_count": null,
   "metadata": {},
   "outputs": [],
   "source": []
  },
  {
   "cell_type": "code",
   "execution_count": null,
   "metadata": {},
   "outputs": [],
   "source": []
  },
  {
   "cell_type": "code",
   "execution_count": null,
   "metadata": {},
   "outputs": [],
   "source": []
  },
  {
   "cell_type": "markdown",
   "metadata": {},
   "source": [
    "# Межпроцессная синхронизация\n"
   ]
  },
  {
   "cell_type": "markdown",
   "metadata": {},
   "source": [
    "# <a name=\"mmap\"></a> `mmap`\n",
    "\n",
    "\n",
    "Разделяемая память - это когда два региона виртуальной памяти (один в одном процессе, другой в другом) \n",
    "ссылаются на одну и ту же физическую память. То есть могут обмениваться информацией через нее.\n",
    "\n",
    "Межпроцессное взаимодействие через разделяемую память нужно, \n",
    "когда у нас есть две различные программы (могут быть написаны на разных языках программирования)\n",
    "и когда нам не подходит взаимодействие через сокеты (такое взаимодействие не очень эффективно).\n",
    "\n"
   ]
  },
  {
   "cell_type": "code",
   "execution_count": 42,
   "metadata": {
    "scrolled": true
   },
   "outputs": [
    {
     "data": {
      "text/markdown": [
       "Run: `gcc -Wall -fsanitize=thread mmap.c -lpthread -o mmap.exe`"
      ],
      "text/plain": [
       "<IPython.core.display.Markdown object>"
      ]
     },
     "metadata": {},
     "output_type": "display_data"
    },
    {
     "data": {
      "text/markdown": [
       "Run: `./mmap.exe`"
      ],
      "text/plain": [
       "<IPython.core.display.Markdown object>"
      ]
     },
     "metadata": {},
     "output_type": "display_data"
    },
    {
     "name": "stdout",
     "output_type": "stream",
     "text": [
      "0.000          main():112 [tid=78343]: Main process started\r\n",
      "0.000          main():118 [tid=78343]: Creating process 0\r\n",
      "0.001          main():118 [tid=78343]: Creating process 1\r\n",
      "0.001  process_func():71  [tid=78344]:   Process 0 started\r\n",
      "0.002  process_func():71  [tid=78346]:   Process 1 started\r\n",
      "0.030  process_func():75  [tid=78346]:   Process 1 finished\r\n",
      "0.031  process_func():75  [tid=78344]:   Process 0 finished\r\n",
      "0.032          main():130 [tid=78343]: Process 0 'joined'\r\n",
      "0.032          main():130 [tid=78343]: Process 1 'joined'\r\n",
      "0.032          main():133 [tid=78343]: Main process finished\r\n"
     ]
    }
   ],
   "source": [
    "%%cpp mmap.c\n",
    "%run gcc -Wall -fsanitize=thread mmap.c -lpthread -o mmap.exe\n",
    "%run ./mmap.exe\n",
    "\n",
    "#define _GNU_SOURCE \n",
    "#include <stdio.h>\n",
    "#include <stdlib.h>\n",
    "#include <unistd.h>\n",
    "#include <sys/types.h>\n",
    "#include <sys/syscall.h>\n",
    "#include <sys/time.h>\n",
    "#include <sys/wait.h>\n",
    "#include <sys/mman.h>\n",
    "#include <string.h>\n",
    "#include <pthread.h>\n",
    "#include <errno.h>\n",
    "#include <stdint.h>\n",
    "#include <stdatomic.h>\n",
    "\n",
    "// log_printf - макрос для отладочного вывода, добавляющий время со старта программы, имя функции и номер строки\n",
    "uint64_t start_time_msec; void  __attribute__ ((constructor)) start_time_setter() { struct timespec spec; clock_gettime(CLOCK_MONOTONIC, &spec); start_time_msec = spec.tv_sec * 1000L + spec.tv_nsec / 1000000; }\n",
    "const char* log_prefix(const char* func, int line) {\n",
    "    struct timespec spec; clock_gettime(CLOCK_MONOTONIC, &spec); int delta_msec = spec.tv_sec * 1000L + spec.tv_nsec / 1000000 - start_time_msec;\n",
    "    const int max_func_len = 13; static __thread char prefix[100]; \n",
    "    sprintf(prefix, \"%d.%03d %*s():%-3d [tid=%ld]\", delta_msec / 1000, delta_msec % 1000, max_func_len, func, line, syscall(__NR_gettid));\n",
    "    return prefix;\n",
    "}\n",
    "#define log_printf_impl(fmt, ...) { dprintf(2, \"%s: \" fmt \"%s\", log_prefix(__FUNCTION__, __LINE__), __VA_ARGS__); }\n",
    "// Format: <time_since_start> <func_name>:<line> : <custom_message>\n",
    "#define log_printf(...) log_printf_impl(__VA_ARGS__, \"\")\n",
    "\n",
    "\n",
    "#define fail_with_strerror(code, msg) do { char err_buf[1024]; strerror_r(code, err_buf, sizeof(err_buf));\\\n",
    "    log_printf(msg \" (From err code: %s)\\n\", err_buf);  exit(EXIT_FAILURE);} while (0)\n",
    "\n",
    "// thread-aware assert\n",
    "#define ta_verify(stmt) do { if (stmt) break; fail_with_strerror(errno, \"'\" #stmt \"' failed.\"); } while (0)\n",
    "\n",
    "// verify pthread call\n",
    "#define pt_verify(pthread_call) do { int code = (pthread_call); if (code == 0) break; \\\n",
    "    fail_with_strerror(code, \"'\" #pthread_call \"' failed.\"); } while (0)\n",
    "\n",
    "//=============== Начало примера ======================\n",
    "\n",
    "typedef enum {\n",
    "    VALID_STATE = 0,\n",
    "    INVALID_STATE = 1\n",
    "} state_t;\n",
    "\n",
    "\n",
    "typedef struct {\n",
    "    pthread_mutex_t mutex; \n",
    "    state_t current_state; // protected by mutex\n",
    "} shared_state_t;\n",
    "\n",
    "shared_state_t* state; // interprocess state\n",
    "\n",
    "// process_safe_func и process_func - функции-примеры с прошлого семинара (с точностью до замены thread/process)\n",
    "void process_safe_func() {\n",
    "    // all function is critical section, protected by mutex\n",
    "    pthread_mutex_lock(&state->mutex); // try comment lock&unlock out and look at result\n",
    "    ta_verify(state->current_state == VALID_STATE);\n",
    "    state->current_state = INVALID_STATE; // do some work with state. \n",
    "    sched_yield();\n",
    "    state->current_state = VALID_STATE;\n",
    "    pthread_mutex_unlock(&state->mutex);\n",
    "}\n",
    "\n",
    "void process_func(int process_num) \n",
    "{\n",
    "    log_printf(\"  Process %d started\\n\", process_num);\n",
    "    for (int j = 0; j < 10000; ++j) {\n",
    "        process_safe_func();\n",
    "    }\n",
    "    log_printf(\"  Process %d finished\\n\", process_num);\n",
    "}\n",
    "\n",
    " \n",
    "shared_state_t* create_state() {\n",
    "    // Создаем кусок разделяемой памяти. Он будет общим для данного процесса и его дочерних\n",
    "    shared_state_t* state = mmap(\n",
    "        /* desired addr, addr = */ NULL, \n",
    "        /* length = */ sizeof(shared_state_t), // Размер разделяемого фрагмента памяти\n",
    "        /* access attributes, prot = */ PROT_READ | PROT_WRITE, \n",
    "        /* flags = */ MAP_SHARED | MAP_ANONYMOUS,\n",
    "        /* fd = */ -1,\n",
    "        /* offset in file, offset = */ 0\n",
    "    );\n",
    "    ta_verify(state != MAP_FAILED);\n",
    "    \n",
    "    // create and initialize interprocess mutex\n",
    "    pthread_mutexattr_t mutex_attrs; \n",
    "    pt_verify(pthread_mutexattr_init(&mutex_attrs));\n",
    "    // Важно! Без этого атрибута один из процессов навсегда зависнет в lock мьютекса\n",
    "    // Вероятно этот атрибут влияет на отсутствие флага FUTEX_PRIVATE_FLAG в операциях с futex\n",
    "    // Если он стоит, то ядро может делать некоторые оптимизации в предположении, что futex используется одним процессом\n",
    "    pt_verify(pthread_mutexattr_setpshared(&mutex_attrs, PTHREAD_PROCESS_SHARED));\n",
    "    pt_verify(pthread_mutex_init(&state->mutex, &mutex_attrs));\n",
    "    pt_verify(pthread_mutexattr_destroy(&mutex_attrs));\n",
    "    \n",
    "    state->current_state = VALID_STATE; // Инициализирем защищаемое состояние\n",
    "    return state;\n",
    "}\n",
    "\n",
    "void delete_state(shared_state_t* state) {\n",
    "    pt_verify(pthread_mutex_destroy(&state->mutex));\n",
    "    ta_verify(munmap(state, sizeof(shared_state_t)) == 0);\n",
    "}\n",
    "\n",
    "int main()\n",
    "{\n",
    "    log_printf(\"Main process started\\n\");\n",
    "    state = create_state(); // Создаем разделяемое состояние\n",
    "    const int process_count = 2;\n",
    "    pid_t processes[process_count];\n",
    "    // Создаем дочерние процессы\n",
    "    for (int i = 0; i < process_count; ++i) {\n",
    "        log_printf(\"Creating process %d\\n\", i);\n",
    "        // дочерние процессы унаследуют разделяемое состояние (оно не скопируется, а будет общим)\n",
    "        ta_verify((processes[i] = fork()) >= 0); \n",
    "        if (processes[i] == 0) {\n",
    "            process_func(i); // Имитируем работу из разных процессов\n",
    "            exit(0);\n",
    "        }\n",
    "    }\n",
    "    for (int i = 0; i < process_count; ++i) {\n",
    "        int status;\n",
    "        ta_verify(waitpid(processes[i], &status, 0) != -1);\n",
    "        ta_verify(WIFEXITED(status) && WEXITSTATUS(status) == 0);\n",
    "        log_printf(\"Process %d 'joined'\\n\", i);\n",
    "    }\n",
    "    delete_state(state);\n",
    "    log_printf(\"Main process finished\\n\");\n",
    "    return 0;\n",
    "}"
   ]
  },
  {
   "cell_type": "markdown",
   "metadata": {},
   "source": [
    "# Ну и spinlock давайте. А почему бы и нет?\n",
    "\n",
    "Отличие только в замене инициализации и в взятии/снятии локов."
   ]
  },
  {
   "cell_type": "code",
   "execution_count": 46,
   "metadata": {},
   "outputs": [
    {
     "data": {
      "text/markdown": [
       "Run: `gcc -Wall -fsanitize=thread mmap.c -lpthread -o mmap.exe`"
      ],
      "text/plain": [
       "<IPython.core.display.Markdown object>"
      ]
     },
     "metadata": {},
     "output_type": "display_data"
    },
    {
     "data": {
      "text/markdown": [
       "Run: `./mmap.exe`"
      ],
      "text/plain": [
       "<IPython.core.display.Markdown object>"
      ]
     },
     "metadata": {},
     "output_type": "display_data"
    },
    {
     "name": "stdout",
     "output_type": "stream",
     "text": [
      "0.000          main():111 [tid=78384]: Main process started\r\n",
      "0.001          main():116 [tid=78384]: Creating process 0\r\n",
      "0.002          main():116 [tid=78384]: Creating process 1\r\n",
      "0.003  process_func():81  [tid=78385]:   Process 0 started\r\n",
      "0.004  process_func():81  [tid=78387]:   Process 1 started\r\n",
      "0.025  process_func():85  [tid=78385]:   Process 0 finished\r\n",
      "0.026  process_func():85  [tid=78387]:   Process 1 finished\r\n",
      "0.026          main():127 [tid=78384]: Process 0 'joined'\r\n",
      "0.027          main():127 [tid=78384]: Process 1 'joined'\r\n",
      "0.027          main():130 [tid=78384]: Main process finished\r\n"
     ]
    }
   ],
   "source": [
    "%%cpp mmap.c\n",
    "%run gcc -Wall -fsanitize=thread mmap.c -lpthread -o mmap.exe\n",
    "%run ./mmap.exe\n",
    "\n",
    "#define _GNU_SOURCE \n",
    "#include <stdio.h>\n",
    "#include <stdlib.h>\n",
    "#include <unistd.h>\n",
    "#include <sys/types.h>\n",
    "#include <sys/syscall.h>\n",
    "#include <sys/time.h>\n",
    "#include <sys/wait.h>\n",
    "#include <sys/mman.h>\n",
    "#include <string.h>\n",
    "#include <pthread.h>\n",
    "#include <errno.h>\n",
    "#include <stdint.h>\n",
    "#include <stdatomic.h>\n",
    "\n",
    "// log_printf - макрос для отладочного вывода, добавляющий время со старта программы, имя функции и номер строки\n",
    "uint64_t start_time_msec; void  __attribute__ ((constructor)) start_time_setter() { struct timespec spec; clock_gettime(CLOCK_MONOTONIC, &spec); start_time_msec = spec.tv_sec * 1000L + spec.tv_nsec / 1000000; }\n",
    "const char* log_prefix(const char* func, int line) {\n",
    "    struct timespec spec; clock_gettime(CLOCK_MONOTONIC, &spec); int delta_msec = spec.tv_sec * 1000L + spec.tv_nsec / 1000000 - start_time_msec;\n",
    "    const int max_func_len = 13; static __thread char prefix[100]; \n",
    "    sprintf(prefix, \"%d.%03d %*s():%-3d [tid=%ld]\", delta_msec / 1000, delta_msec % 1000, max_func_len, func, line, syscall(__NR_gettid));\n",
    "    return prefix;\n",
    "}\n",
    "#define log_printf_impl(fmt, ...) { dprintf(2, \"%s: \" fmt \"%s\", log_prefix(__FUNCTION__, __LINE__), __VA_ARGS__); }\n",
    "// Format: <time_since_start> <func_name>:<line> : <custom_message>\n",
    "#define log_printf(...) log_printf_impl(__VA_ARGS__, \"\")\n",
    "\n",
    "\n",
    "#define fail_with_strerror(code, msg) do { char err_buf[1024]; strerror_r(code, err_buf, sizeof(err_buf));\\\n",
    "    log_printf(msg \" (From err code: %s)\\n\", err_buf);  exit(EXIT_FAILURE);} while (0)\n",
    "\n",
    "// thread-aware assert\n",
    "#define ta_verify(stmt) do { if (stmt) break; fail_with_strerror(errno, \"'\" #stmt \"' failed.\"); } while (0)\n",
    "\n",
    "// verify pthread call\n",
    "#define pt_verify(pthread_call) do { int code = (pthread_call); if (code == 0) break; \\\n",
    "    fail_with_strerror(code, \"'\" #pthread_call \"' failed.\"); } while (0)\n",
    "\n",
    "//=============== Начало примера ======================\n",
    "\n",
    "typedef enum {\n",
    "    VALID_STATE = 0,\n",
    "    INVALID_STATE = 1\n",
    "} state_t;\n",
    "\n",
    "\n",
    "typedef struct {\n",
    "    _Atomic int lock; \n",
    "    state_t current_state; // protected by mutex\n",
    "} shared_state_t;\n",
    "\n",
    "shared_state_t* state; // interprocess state\n",
    "\n",
    "void sl_lock(_Atomic int* lock) { \n",
    "    int expected = 0;\n",
    "    while (!atomic_compare_exchange_weak(lock, &expected, 1)) {\n",
    "        expected = 0;\n",
    "    }\n",
    "}\n",
    "\n",
    "void sl_unlock(_Atomic int* lock) {\n",
    "    atomic_fetch_sub(lock, 1);\n",
    "}\n",
    "\n",
    "void process_safe_func() {\n",
    "    // all function is critical section, protected by spinlock\n",
    "    sl_lock(&state->lock);\n",
    "    ta_verify(state->current_state == VALID_STATE);\n",
    "    state->current_state = INVALID_STATE; // do some work with state. \n",
    "    sched_yield();\n",
    "    state->current_state = VALID_STATE;\n",
    "    sl_unlock(&state->lock);\n",
    "}\n",
    "\n",
    "void process_func(int process_num) \n",
    "{\n",
    "    log_printf(\"  Process %d started\\n\", process_num);\n",
    "    for (int j = 0; j < 10000; ++j) {\n",
    "        process_safe_func();\n",
    "    }\n",
    "    log_printf(\"  Process %d finished\\n\", process_num);\n",
    "}\n",
    "\n",
    " \n",
    "shared_state_t* create_state() {\n",
    "    shared_state_t* state = mmap(\n",
    "        /* desired addr, addr = */ NULL, \n",
    "        /* length = */ sizeof(shared_state_t), \n",
    "        /* access attributes, prot = */ PROT_READ | PROT_WRITE, \n",
    "        /* flags = */ MAP_SHARED | MAP_ANONYMOUS,\n",
    "        /* fd = */ -1,\n",
    "        /* offset in file, offset = */ 0\n",
    "    );\n",
    "    ta_verify(state != MAP_FAILED);\n",
    "    \n",
    "    state->lock = 0;\n",
    "    state->current_state = VALID_STATE;\n",
    "    return state;\n",
    "}\n",
    "\n",
    "void delete_state(shared_state_t* state) {\n",
    "    ta_verify(munmap(state, sizeof(shared_state_t)) == 0);\n",
    "}\n",
    "\n",
    "int main()\n",
    "{\n",
    "    log_printf(\"Main process started\\n\");\n",
    "    state = create_state();\n",
    "    const int process_count = 2;\n",
    "    pid_t processes[process_count];\n",
    "    for (int i = 0; i < process_count; ++i) {\n",
    "        log_printf(\"Creating process %d\\n\", i);\n",
    "        ta_verify((processes[i] = fork()) >= 0);\n",
    "        if (processes[i] == 0) {\n",
    "            process_func(i);\n",
    "            exit(0);\n",
    "        }\n",
    "    }\n",
    "    for (int i = 0; i < process_count; ++i) {\n",
    "        int status;\n",
    "        ta_verify(waitpid(processes[i], &status, 0) != -1);\n",
    "        ta_verify(WIFEXITED(status) && WEXITSTATUS(status) == 0);\n",
    "        log_printf(\"Process %d 'joined'\\n\", i);\n",
    "    }\n",
    "    delete_state(state);\n",
    "    log_printf(\"Main process finished\\n\");\n",
    "    return 0;\n",
    "}"
   ]
  },
  {
   "cell_type": "markdown",
   "metadata": {},
   "source": [
    "# <a name=\"shm\"></a> `shm_open`\n",
    "\n",
    "Сделаем то же самое, что и в предыдущем примере, но на этот раз не из родственных процессов. Воспользуемся именноваными объектами разделяемой памяти."
   ]
  },
  {
   "cell_type": "code",
   "execution_count": 83,
   "metadata": {
    "scrolled": false
   },
   "outputs": [
    {
     "data": {
      "text/markdown": [
       "Run: `gcc -Wall -fsanitize=thread shm.c -lrt -lpthread -o s.exe`"
      ],
      "text/plain": [
       "<IPython.core.display.Markdown object>"
      ]
     },
     "metadata": {},
     "output_type": "display_data"
    },
    {
     "data": {
      "text/markdown": [
       "Run: `./s.exe remove_shm /my_shm  # на случай, если прошлый запуск закончился плохо и shm не удалилась`"
      ],
      "text/plain": [
       "<IPython.core.display.Markdown object>"
      ]
     },
     "metadata": {},
     "output_type": "display_data"
    },
    {
     "name": "stdout",
     "output_type": "stream",
     "text": [
      "0.000          main():118 [tid=79569]:   Removing state: /my_shm\r\n",
      "0.002          main():123 [tid=79569]:   State was NOT removed\r\n"
     ]
    },
    {
     "data": {
      "text/markdown": [
       "Run: `./s.exe create_shm /my_shm`"
      ],
      "text/plain": [
       "<IPython.core.display.Markdown object>"
      ]
     },
     "metadata": {},
     "output_type": "display_data"
    },
    {
     "name": "stdout",
     "output_type": "stream",
     "text": [
      "0.000          main():114 [tid=79571]:   Creating state: /my_shm\r\n",
      "0.001          main():116 [tid=79571]:   State created\r\n"
     ]
    },
    {
     "data": {
      "text/markdown": [
       "Run: `./s.exe work 1 /my_shm & PID=$! ; ./s.exe work 2 /my_shm ; wait $PID`"
      ],
      "text/plain": [
       "<IPython.core.display.Markdown object>"
      ]
     },
     "metadata": {},
     "output_type": "display_data"
    },
    {
     "name": "stdout",
     "output_type": "stream",
     "text": [
      "0.000          main():128 [tid=79574]:   Worker 2 started\n",
      "0.000          main():128 [tid=79573]:   Worker 1 started\n",
      "0.159          main():136 [tid=79574]:   Worker 2 finished\n",
      "0.247          main():136 [tid=79573]:   Worker 1 finished\n"
     ]
    },
    {
     "data": {
      "text/markdown": [
       "Run: `./s.exe remove_shm /my_shm`"
      ],
      "text/plain": [
       "<IPython.core.display.Markdown object>"
      ]
     },
     "metadata": {},
     "output_type": "display_data"
    },
    {
     "name": "stdout",
     "output_type": "stream",
     "text": [
      "0.000          main():118 [tid=79576]:   Removing state: /my_shm\r\n",
      "0.000          main():121 [tid=79576]:   State was removed\r\n"
     ]
    }
   ],
   "source": [
    "%%cpp shm.c\n",
    "%# Обратите внимание: -lrt. Здесь нужна новая разделяемая библиотека\n",
    "%run gcc -Wall -fsanitize=thread shm.c -lrt -lpthread -o s.exe\n",
    "%run ./s.exe remove_shm /my_shm  # на случай, если прошлый запуск закончился плохо и shm не удалилась\n",
    "%run ./s.exe create_shm /my_shm\n",
    "%run ./s.exe work 1 /my_shm & PID=$! ; ./s.exe work 2 /my_shm ; wait $PID\n",
    "%run ./s.exe remove_shm /my_shm\n",
    "\n",
    "\n",
    "#define _GNU_SOURCE \n",
    "#include <stdio.h>\n",
    "#include <stdlib.h>\n",
    "#include <unistd.h>\n",
    "#include <sys/types.h>\n",
    "#include <sys/syscall.h>\n",
    "#include <sys/stat.h>\n",
    "#include <sys/time.h>\n",
    "#include <sys/wait.h>\n",
    "#include <sys/mman.h>\n",
    "#include <string.h>\n",
    "#include <pthread.h>\n",
    "#include <errno.h>\n",
    "#include <stdint.h>\n",
    "#include <stdbool.h>\n",
    "#include <stdatomic.h>\n",
    "#include <fcntl.h>\n",
    "\n",
    "// log_printf - макрос для отладочного вывода, добавляющий время со старта программы, имя функции и номер строки\n",
    "uint64_t start_time_msec; void  __attribute__ ((constructor)) start_time_setter() { struct timespec spec; clock_gettime(CLOCK_MONOTONIC, &spec); start_time_msec = spec.tv_sec * 1000L + spec.tv_nsec / 1000000; }\n",
    "const char* log_prefix(const char* func, int line) {\n",
    "    struct timespec spec; clock_gettime(CLOCK_MONOTONIC, &spec); int delta_msec = spec.tv_sec * 1000L + spec.tv_nsec / 1000000 - start_time_msec;\n",
    "    const int max_func_len = 13; static __thread char prefix[100]; \n",
    "    sprintf(prefix, \"%d.%03d %*s():%-3d [tid=%ld]\", delta_msec / 1000, delta_msec % 1000, max_func_len, func, line, syscall(__NR_gettid));\n",
    "    return prefix;\n",
    "}\n",
    "#define log_printf_impl(fmt, ...) { dprintf(2, \"%s: \" fmt \"%s\", log_prefix(__FUNCTION__, __LINE__), __VA_ARGS__); }\n",
    "// Format: <time_since_start> <func_name>:<line> : <custom_message>\n",
    "#define log_printf(...) log_printf_impl(__VA_ARGS__, \"\")\n",
    "\n",
    "\n",
    "#define fail_with_strerror(code, msg) do { char err_buf[1024]; strerror_r(code, err_buf, sizeof(err_buf));\\\n",
    "    log_printf(msg \" (From err code: %s)\\n\", err_buf);  exit(EXIT_FAILURE);} while (0)\n",
    "\n",
    "// thread-aware assert\n",
    "#define ta_verify(stmt) do { if (stmt) break; fail_with_strerror(errno, \"'\" #stmt \"' failed.\"); } while (0)\n",
    "\n",
    "// verify pthread call\n",
    "#define pt_verify(pthread_call) do { int code = (pthread_call); if (code == 0) break; \\\n",
    "    fail_with_strerror(code, \"'\" #pthread_call \"' failed.\"); } while (0)\n",
    "\n",
    "//=============== Начало примера ======================\n",
    "\n",
    "typedef enum {\n",
    "    VALID_STATE = 0,\n",
    "    INVALID_STATE = 1\n",
    "} state_t;\n",
    "\n",
    "\n",
    "typedef struct {\n",
    "    pthread_mutex_t mutex; \n",
    "    state_t current_state; // protected by mutex\n",
    "} shared_state_t;\n",
    "\n",
    "void process_safe_func(shared_state_t* state) {\n",
    "    // all function is critical section, protected by mutex\n",
    "    pthread_mutex_lock(&state->mutex); // try comment lock&unlock out and look at result\n",
    "    ta_verify(state->current_state == VALID_STATE);\n",
    "    state->current_state = INVALID_STATE; // do some work with state. \n",
    "    sched_yield();\n",
    "    state->current_state = VALID_STATE;\n",
    "    pthread_mutex_unlock(&state->mutex);\n",
    "}\n",
    " \n",
    "shared_state_t* load_state(const char* shm_name, bool do_create) {\n",
    "    // открываем / создаем объект разделяемой памяти\n",
    "    // по сути это просто open, только для виртуального файла (без сохранения данных на диск + ортогональное пространство имен)\n",
    "    int fd = shm_open(shm_name, O_RDWR | (do_create ? O_CREAT : 0), 0644);\n",
    "    ta_verify(fd >= 0);\n",
    "    ta_verify(ftruncate(fd, sizeof(shared_state_t)) == 0);\n",
    "    shared_state_t* state = mmap(\n",
    "        /* desired addr, addr = */ NULL, \n",
    "        /* length = */ sizeof(shared_state_t), \n",
    "        /* access attributes, prot = */ PROT_READ | PROT_WRITE, \n",
    "        /* flags = */ MAP_SHARED,\n",
    "        /* fd = */ fd,\n",
    "        /* offset in file, offset = */ 0\n",
    "    );\n",
    "    close(fd);\n",
    "    \n",
    "    ta_verify(state != MAP_FAILED);\n",
    "    if (!do_create) {\n",
    "        return state;\n",
    "    }\n",
    "    // create interprocess mutex\n",
    "    pthread_mutexattr_t mutex_attrs;\n",
    "    pt_verify(pthread_mutexattr_init(&mutex_attrs));\n",
    "    // Важно!\n",
    "    pt_verify(pthread_mutexattr_setpshared(&mutex_attrs, PTHREAD_PROCESS_SHARED));\n",
    "    pt_verify(pthread_mutex_init(&state->mutex, &mutex_attrs));\n",
    "    pt_verify(pthread_mutexattr_destroy(&mutex_attrs));\n",
    "    \n",
    "    state->current_state = VALID_STATE;\n",
    "    return state;\n",
    "}\n",
    "\n",
    "void unload_state(shared_state_t* state) {\n",
    "    ta_verify(munmap(state, sizeof(shared_state_t)) == 0);\n",
    "}\n",
    "\n",
    "int main(int argc, char** argv)\n",
    "{\n",
    "    ta_verify(argc >= 2);\n",
    "    if (strcmp(\"create_shm\", argv[1]) == 0) {\n",
    "        log_printf(\"  Creating state: %s\\n\", argv[2]);\n",
    "        unload_state(load_state(argv[2], /*do_create=*/ 1));\n",
    "        log_printf(\"  State created\\n\");\n",
    "    } else if (strcmp(\"remove_shm\", argv[1]) == 0) {\n",
    "        log_printf(\"  Removing state: %s\\n\", argv[2]);\n",
    "        // Файлы shm существуют пока не будет вызвана unlink.\n",
    "        if (shm_unlink(argv[2]) == 0) {\n",
    "            log_printf(\"  State was removed\\n\");   \n",
    "        } else {\n",
    "            log_printf(\"  State was NOT removed\\n\");   \n",
    "        }\n",
    "    } else if (strcmp(\"work\", argv[1]) == 0) {\n",
    "        ta_verify(argc == 4);\n",
    "        int worker = strtol(argv[2], 0, 10);\n",
    "        log_printf(\"  Worker %d started\\n\", worker);\n",
    "        shared_state_t* state = load_state(argv[3], /*do_create=*/ 0);\n",
    "       \n",
    "        for (int j = 0; j < 10000; ++j) {\n",
    "            process_safe_func(state);\n",
    "        }\n",
    "\n",
    "        unload_state(state);\n",
    "        log_printf(\"  Worker %d finished\\n\", worker);\n",
    "    } else {\n",
    "        ta_verify(0 && \"unknown command\");\n",
    "    }\n",
    "    return 0;\n",
    "}"
   ]
  },
  {
   "cell_type": "markdown",
   "metadata": {},
   "source": [
    "Проблема: как решить, кто из независимых процессов будет создавать участок?\n",
    "\n",
    "Способ разрешить конфликт создания участка разделяемой памяти:\n",
    "  * Все процессы создают файлы с флагом O_EXCL | O_CREAT\n",
    "  * Из-за О_EXCL выкинет ошибку для всех процессов кроме одного\n",
    "  * Этот один процесс создаст файл, выделит память, создаст спинлок на инициализацию и начнёт инициализировать\n",
    "  * Другие, которые получили ошибку попытаются открыть файл ещё раз, без этих флагов уже.\n",
    "  * Далее они будут ждать (регулярно проверять) пока не изменится размер файла, потом откроют его, и дальше будут ждать инициализации на спинлоке."
   ]
  },
  {
   "cell_type": "markdown",
   "metadata": {},
   "source": [
    "# <a name=\"sem_anon\"></a> Анонимные семафоры\n",
    "\n",
    "Игровое сравнение: семафор это ящик с шариками.\n",
    "\n",
    "<pre>\n",
    "|   |\n",
    "|   |\n",
    "|   |\n",
    "|_*_|</pre>\n",
    "    ^\n",
    "    |\n",
    "Это семафор со значением 1 (ящик с одним шариком)\n",
    "\n",
    "У семафора такая семантика:\n",
    "* Операция post() кладет шарик в ящик. Работает мгновенно.\n",
    "* Операция wait() извлекает шарик из ящика. Если шариков нет, то блокируется пока не появится шарик и затем его извлекает.\n",
    "* Еще есть try_wait(), timed_wait() - они соответствуют названиям.\n",
    "\n",
    "Шарики можно так же рассматривать как свободные ресурсы.\n",
    "\n",
    "Семафор с одним шариком можно использовать как мьютекс. В данном случае шарик - это ресурс на право входить в критическую секцию. Соответственно lock - это wait. А unlock это post.\n",
    "\n",
    "\n",
    "### Пример использования с многими шариками:    Построение очереди.\n",
    "\n",
    "Создаём 2 семафора, semFree и semElementsInside.\n",
    "\n",
    "При добавлении берём ресурс (~шарик) из semFree, под lock добавляем элемент, кладём ресурс в semElementsInside\n",
    "\n",
    "При удалении берём ресурс из semElementsInside, под локом удаляем элемент, кладём ресурс в semFree<br>\n",
    "\n",
    "### Пример с семафором в общей памяти"
   ]
  },
  {
   "cell_type": "code",
   "execution_count": 63,
   "metadata": {
    "scrolled": true
   },
   "outputs": [
    {
     "data": {
      "text/markdown": [
       "Run: `gcc -Wall -fsanitize=thread -lrt sem_anon.c -o sem_anon.exe`"
      ],
      "text/plain": [
       "<IPython.core.display.Markdown object>"
      ]
     },
     "metadata": {},
     "output_type": "display_data"
    },
    {
     "data": {
      "text/markdown": [
       "Run: `./sem_anon.exe`"
      ],
      "text/plain": [
       "<IPython.core.display.Markdown object>"
      ]
     },
     "metadata": {},
     "output_type": "display_data"
    },
    {
     "name": "stdout",
     "output_type": "stream",
     "text": [
      "0.000          main():110 [tid=78601]: Main process started\r\n",
      "0.000          main():115 [tid=78601]: Creating process 0\r\n",
      "0.001          main():115 [tid=78601]: Creating process 1\r\n",
      "0.001  process_func():73  [tid=78602]:   Process 0 started\r\n",
      "0.002  process_func():73  [tid=78603]:   Process 1 started\r\n",
      "0.031  process_func():77  [tid=78603]:   Process 1 finished\r\n",
      "0.033  process_func():77  [tid=78602]:   Process 0 finished\r\n",
      "0.034          main():126 [tid=78601]: Process 0 'joined'\r\n",
      "0.034          main():126 [tid=78601]: Process 1 'joined'\r\n",
      "0.034          main():129 [tid=78601]: Main process finished\r\n"
     ]
    }
   ],
   "source": [
    "%%cpp sem_anon.c\n",
    "%run gcc -Wall -fsanitize=thread -lrt sem_anon.c -o sem_anon.exe\n",
    "%run ./sem_anon.exe\n",
    "\n",
    "#define _GNU_SOURCE \n",
    "#include <stdio.h>\n",
    "#include <stdlib.h>\n",
    "#include <unistd.h>\n",
    "#include <sys/types.h>\n",
    "#include <sys/syscall.h>\n",
    "#include <sys/stat.h>\n",
    "#include <sys/time.h>\n",
    "#include <sys/wait.h>\n",
    "#include <sys/mman.h>\n",
    "#include <string.h>\n",
    "#include <pthread.h>\n",
    "#include <errno.h>\n",
    "#include <stdint.h>\n",
    "#include <stdbool.h>\n",
    "#include <stdatomic.h>\n",
    "#include <semaphore.h>\n",
    "\n",
    "// log_printf - макрос для отладочного вывода, добавляющий время со старта программы, имя функции и номер строки\n",
    "uint64_t start_time_msec; void  __attribute__ ((constructor)) start_time_setter() { struct timespec spec; clock_gettime(CLOCK_MONOTONIC, &spec); start_time_msec = spec.tv_sec * 1000L + spec.tv_nsec / 1000000; }\n",
    "const char* log_prefix(const char* func, int line) {\n",
    "    struct timespec spec; clock_gettime(CLOCK_MONOTONIC, &spec); int delta_msec = spec.tv_sec * 1000L + spec.tv_nsec / 1000000 - start_time_msec;\n",
    "    const int max_func_len = 13; static __thread char prefix[100]; \n",
    "    sprintf(prefix, \"%d.%03d %*s():%-3d [tid=%ld]\", delta_msec / 1000, delta_msec % 1000, max_func_len, func, line, syscall(__NR_gettid));\n",
    "    return prefix;\n",
    "}\n",
    "#define log_printf_impl(fmt, ...) { dprintf(2, \"%s: \" fmt \"%s\", log_prefix(__FUNCTION__, __LINE__), __VA_ARGS__); }\n",
    "// Format: <time_since_start> <func_name>:<line> : <custom_message>\n",
    "#define log_printf(...) log_printf_impl(__VA_ARGS__, \"\")\n",
    "\n",
    "\n",
    "#define fail_with_strerror(code, msg) do { char err_buf[1024]; strerror_r(code, err_buf, sizeof(err_buf));\\\n",
    "    log_printf(msg \" (From err code: %s)\\n\", err_buf);  exit(EXIT_FAILURE);} while (0)\n",
    "\n",
    "// thread-aware assert\n",
    "#define ta_verify(stmt) do { if (stmt) break; fail_with_strerror(errno, \"'\" #stmt \"' failed.\"); } while (0)\n",
    "\n",
    "// verify pthread call\n",
    "#define pt_verify(pthread_call) do { int code = (pthread_call); if (code == 0) break; \\\n",
    "    fail_with_strerror(code, \"'\" #pthread_call \"' failed.\"); } while (0)\n",
    "\n",
    "//=============== Начало примера ======================\n",
    "\n",
    "typedef enum {\n",
    "    VALID_STATE = 0,\n",
    "    INVALID_STATE = 1\n",
    "} state_t;\n",
    "\n",
    "\n",
    "typedef struct {\n",
    "    sem_t semaphore; \n",
    "    state_t current_state; // protected by semaphore\n",
    "} shared_state_t;\n",
    "\n",
    "shared_state_t* state; // interprocess state\n",
    "\n",
    "void process_safe_func() {\n",
    "    // all function is critical section, protected by mutex\n",
    "    sem_wait(&state->semaphore); // ~ lock\n",
    "    ta_verify(state->current_state == VALID_STATE);\n",
    "    state->current_state = INVALID_STATE; // do some work with state. \n",
    "    sched_yield();\n",
    "    state->current_state = VALID_STATE;\n",
    "    sem_post(&state->semaphore); // ~ unlock\n",
    "}\n",
    "\n",
    "void process_func(int process_num) \n",
    "{\n",
    "    log_printf(\"  Process %d started\\n\", process_num);\n",
    "    for (int j = 0; j < 10000; ++j) {\n",
    "        process_safe_func();\n",
    "    }\n",
    "    log_printf(\"  Process %d finished\\n\", process_num);\n",
    "}\n",
    "\n",
    " \n",
    "shared_state_t* create_state() {\n",
    "    shared_state_t* state = mmap(\n",
    "        /* desired addr, addr = */ NULL, \n",
    "        /* length = */ sizeof(shared_state_t), \n",
    "        /* access attributes, prot = */ PROT_READ | PROT_WRITE, \n",
    "        /* flags = */ MAP_SHARED | MAP_ANONYMOUS,\n",
    "        /* fd = */ -1,\n",
    "        /* offset in file, offset = */ 0\n",
    "    );\n",
    "    ta_verify(state != MAP_FAILED);\n",
    "    \n",
    "    // create interprocess semaphore\n",
    "    ta_verify(sem_init(\n",
    "        &state->semaphore,\n",
    "        1, // interprocess? (0 if will be used in one process)\n",
    "        1  // initial value\n",
    "    ) == 0);\n",
    "    \n",
    "    state->current_state = VALID_STATE;\n",
    "    return state;\n",
    "}\n",
    "\n",
    "void delete_state(shared_state_t* state) {\n",
    "    ta_verify(sem_destroy(&state->semaphore) == 0);\n",
    "    ta_verify(munmap(state, sizeof(shared_state_t)) == 0);\n",
    "}\n",
    "\n",
    "int main()\n",
    "{\n",
    "    log_printf(\"Main process started\\n\");\n",
    "    state = create_state();\n",
    "    const int process_count = 2;\n",
    "    pid_t processes[process_count];\n",
    "    for (int i = 0; i < process_count; ++i) {\n",
    "        log_printf(\"Creating process %d\\n\", i);\n",
    "        ta_verify((processes[i] = fork()) >= 0);\n",
    "        if (processes[i] == 0) {\n",
    "            process_func(i);\n",
    "            exit(0);\n",
    "        }\n",
    "    }\n",
    "    for (int i = 0; i < process_count; ++i) {\n",
    "        int status;\n",
    "        ta_verify(waitpid(processes[i], &status, 0) != -1);\n",
    "        ta_verify(WIFEXITED(status) && WEXITSTATUS(status) == 0);\n",
    "        log_printf(\"Process %d 'joined'\\n\", i);\n",
    "    }\n",
    "    delete_state(state);\n",
    "    log_printf(\"Main process finished\\n\");\n",
    "    return 0;\n",
    "}"
   ]
  },
  {
   "cell_type": "markdown",
   "metadata": {},
   "source": [
    "# <a name=\"sem_named\"></a> Именнованные семафоры\n",
    "\n",
    "Сначала простой пример"
   ]
  },
  {
   "cell_type": "code",
   "execution_count": 75,
   "metadata": {},
   "outputs": [
    {
     "data": {
      "text/markdown": [
       "Run: `gcc -Wall -fsanitize=thread sem_named_simple.c -lrt -lpthread -o s.exe`"
      ],
      "text/plain": [
       "<IPython.core.display.Markdown object>"
      ]
     },
     "metadata": {},
     "output_type": "display_data"
    },
    {
     "data": {
      "text/markdown": [
       "Run: `./s.exe`"
      ],
      "text/plain": [
       "<IPython.core.display.Markdown object>"
      ]
     },
     "metadata": {},
     "output_type": "display_data"
    },
    {
     "name": "stdout",
     "output_type": "stream",
     "text": [
      "Hello from 0\r\n",
      "Hello from 1\r\n",
      "Hello from 2\r\n"
     ]
    }
   ],
   "source": [
    "%%cpp sem_named_simple.c\n",
    "%# Обратите внимание: -lrt. Здесь нужна новая разделяемая библиотека\n",
    "%run gcc -Wall -fsanitize=thread sem_named_simple.c -lrt -lpthread -o s.exe\n",
    "%run ./s.exe \n",
    "\n",
    "#define _GNU_SOURCE \n",
    "#include <stdio.h>\n",
    "#include <stdlib.h>\n",
    "#include <unistd.h>\n",
    "#include <sys/types.h>\n",
    "#include <sys/syscall.h>\n",
    "#include <sys/stat.h>\n",
    "#include <sys/time.h>\n",
    "#include <sys/wait.h>\n",
    "#include <sys/mman.h>\n",
    "#include <string.h>\n",
    "#include <pthread.h>\n",
    "#include <errno.h>\n",
    "#include <stdint.h>\n",
    "#include <stdbool.h>\n",
    "#include <stdatomic.h>\n",
    "#include <semaphore.h>\n",
    "#include <fcntl.h>\n",
    "\n",
    "// log_printf - макрос для отладочного вывода, добавляющий время со старта программы, имя функции и номер строки\n",
    "uint64_t start_time_msec; void  __attribute__ ((constructor)) start_time_setter() { struct timespec spec; clock_gettime(CLOCK_MONOTONIC, &spec); start_time_msec = spec.tv_sec * 1000L + spec.tv_nsec / 1000000; }\n",
    "const char* log_prefix(const char* func, int line) {\n",
    "    struct timespec spec; clock_gettime(CLOCK_MONOTONIC, &spec); int delta_msec = spec.tv_sec * 1000L + spec.tv_nsec / 1000000 - start_time_msec;\n",
    "    const int max_func_len = 13; static __thread char prefix[100]; \n",
    "    sprintf(prefix, \"%d.%03d %*s():%-3d [tid=%ld]\", delta_msec / 1000, delta_msec % 1000, max_func_len, func, line, syscall(__NR_gettid));\n",
    "    return prefix;\n",
    "}\n",
    "#define log_printf_impl(fmt, ...) { dprintf(2, \"%s: \" fmt \"%s\", log_prefix(__FUNCTION__, __LINE__), __VA_ARGS__); }\n",
    "// Format: <time_since_start> <func_name>:<line> : <custom_message>\n",
    "#define log_printf(...) log_printf_impl(__VA_ARGS__, \"\")\n",
    "\n",
    "\n",
    "#define fail_with_strerror(code, msg) do { char err_buf[1024]; strerror_r(code, err_buf, sizeof(err_buf));\\\n",
    "    log_printf(msg \" (From err code: %s)\\n\", err_buf);  exit(EXIT_FAILURE);} while (0)\n",
    "\n",
    "// thread-aware assert\n",
    "#define ta_verify(stmt) do { if (stmt) break; fail_with_strerror(errno, \"'\" #stmt \"' failed.\"); } while (0)\n",
    "#define ta_warn_if_not(stmt) do { if (!(stmt)) { log_printf(\"WARNING: '\" #stmt \"' failed\\n\"); } } while (0)\n",
    "\n",
    "// verify pthread call\n",
    "#define pt_verify(pthread_call) do { int code = (pthread_call); if (code == 0) break; \\\n",
    "    fail_with_strerror(code, \"'\" #pthread_call \"' failed.\"); } while (0)\n",
    "\n",
    "\n",
    "//=============== Начало примера ======================\n",
    "\n",
    "\n",
    "int main(int argc, char** argv)\n",
    "{\n",
    "    // создаем семафор (открываем и сразу закрываем)\n",
    "    {\n",
    "        sem_t* sem = sem_open(\"/s42\", O_CREAT | O_EXCL, 0644, 1); \n",
    "        ta_verify(sem);\n",
    "        ta_verify(sem_close(sem) == 0);\n",
    "    }\n",
    "    \n",
    "    // синхронизация через семафор разных процессов\n",
    "    pid_t pids[3];\n",
    "    for (int i = 0; i < sizeof(pids) / sizeof(pid_t); ++i) {\n",
    "        ta_verify((pids[i] = fork()) >= 0);\n",
    "        if (pids[i] == 0) {\n",
    "            sem_t* sem = sem_open(\"/s42\", 0); \n",
    "            ta_verify(sem);\n",
    "            sem_wait(sem);\n",
    "            printf(\"Hello from %d\\n\", i); // типа межпроцессная критическая секция\n",
    "            fflush(stdout);\n",
    "            sem_post(sem);\n",
    "            ta_verify(sem_close(sem) == 0);\n",
    "            return 0;\n",
    "        }\n",
    "    }\n",
    "    for (int i = 0; i < sizeof(pids) / sizeof(pid_t); ++i) {\n",
    "        int status;\n",
    "        ta_verify(waitpid(pids[i], &status, 0) != -1);\n",
    "    }\n",
    "    \n",
    "    // удаляем семафорр\n",
    "    ta_warn_if_not(sem_unlink(\"/s42\") == 0);\n",
    "    return 0;\n",
    "}"
   ]
  },
  {
   "cell_type": "markdown",
   "metadata": {},
   "source": [
    "В примере про именованные объекты разделяемой памяти мы явно запускали процесс для инициализации состояния до процессов-воркеров, чтобы избежать гонки инициализации состояния.\n",
    "\n",
    "В этом примере предлагается способ избежать гонки используя именованный семафор.\n",
    "\n",
    "В примере используется одно и то же имя для объекта разделяемой памяти и семафора. Это безопасно, так как имя семафора автоматически расширяется префиксом или суффиксом `sem`. То есть в результате имена разные."
   ]
  },
  {
   "cell_type": "code",
   "execution_count": 78,
   "metadata": {
    "scrolled": true
   },
   "outputs": [
    {
     "data": {
      "text/markdown": [
       "Run: `gcc -Wall -fsanitize=thread sem_named.c -lrt -lpthread -o s.exe`"
      ],
      "text/plain": [
       "<IPython.core.display.Markdown object>"
      ]
     },
     "metadata": {},
     "output_type": "display_data"
    },
    {
     "data": {
      "text/markdown": [
       "Run: `./s.exe work 1 /s42 & PID=$! ; ./s.exe work 2 /s42 ; wait $PID`"
      ],
      "text/plain": [
       "<IPython.core.display.Markdown object>"
      ]
     },
     "metadata": {},
     "output_type": "display_data"
    },
    {
     "name": "stdout",
     "output_type": "stream",
     "text": [
      "0.001          main():138 [tid=78833]:   Worker 1 started\r\n",
      "0.000          main():138 [tid=78834]:   Worker 2 started\r\n",
      "0.027          main():147 [tid=78834]:   Worker 2 finished\r\n",
      "0.029          main():147 [tid=78833]:   Worker 1 finished\r\n"
     ]
    },
    {
     "data": {
      "text/markdown": [
       "Run: `./s.exe cleanup /s42 # необязательная команда. Будет работать и без нее`"
      ],
      "text/plain": [
       "<IPython.core.display.Markdown object>"
      ]
     },
     "metadata": {},
     "output_type": "display_data"
    },
    {
     "name": "stdout",
     "output_type": "stream",
     "text": [
      "0.000          main():132 [tid=78836]:   Cleanup sem and shm: /s42\r\n"
     ]
    }
   ],
   "source": [
    "%%cpp sem_named.c\n",
    "%# Обратите внимание: -lrt. Здесь нужна новая разделяемая библиотека\n",
    "%run gcc -Wall -fsanitize=thread sem_named.c -lrt -lpthread -o s.exe\n",
    "%run ./s.exe work 1 /s42 & PID=$! ; ./s.exe work 2 /s42 ; wait $PID\n",
    "%run ./s.exe cleanup /s42 # необязательная команда. Будет работать и без нее\n",
    "\n",
    "#define _GNU_SOURCE \n",
    "#include <stdio.h>\n",
    "#include <stdlib.h>\n",
    "#include <unistd.h>\n",
    "#include <sys/types.h>\n",
    "#include <sys/syscall.h>\n",
    "#include <sys/stat.h>\n",
    "#include <sys/time.h>\n",
    "#include <sys/wait.h>\n",
    "#include <sys/mman.h>\n",
    "#include <string.h>\n",
    "#include <pthread.h>\n",
    "#include <errno.h>\n",
    "#include <stdint.h>\n",
    "#include <stdbool.h>\n",
    "#include <stdatomic.h>\n",
    "#include <semaphore.h>\n",
    "#include <fcntl.h>\n",
    "\n",
    "// log_printf - макрос для отладочного вывода, добавляющий время со старта программы, имя функции и номер строки\n",
    "uint64_t start_time_msec; void  __attribute__ ((constructor)) start_time_setter() { struct timespec spec; clock_gettime(CLOCK_MONOTONIC, &spec); start_time_msec = spec.tv_sec * 1000L + spec.tv_nsec / 1000000; }\n",
    "const char* log_prefix(const char* func, int line) {\n",
    "    struct timespec spec; clock_gettime(CLOCK_MONOTONIC, &spec); int delta_msec = spec.tv_sec * 1000L + spec.tv_nsec / 1000000 - start_time_msec;\n",
    "    const int max_func_len = 13; static __thread char prefix[100]; \n",
    "    sprintf(prefix, \"%d.%03d %*s():%-3d [tid=%ld]\", delta_msec / 1000, delta_msec % 1000, max_func_len, func, line, syscall(__NR_gettid));\n",
    "    return prefix;\n",
    "}\n",
    "#define log_printf_impl(fmt, ...) { dprintf(2, \"%s: \" fmt \"%s\", log_prefix(__FUNCTION__, __LINE__), __VA_ARGS__); }\n",
    "// Format: <time_since_start> <func_name>:<line> : <custom_message>\n",
    "#define log_printf(...) log_printf_impl(__VA_ARGS__, \"\")\n",
    "\n",
    "\n",
    "#define fail_with_strerror(code, msg) do { char err_buf[1024]; strerror_r(code, err_buf, sizeof(err_buf));\\\n",
    "    log_printf(msg \" (From err code: %s)\\n\", err_buf);  exit(EXIT_FAILURE);} while (0)\n",
    "\n",
    "// thread-aware assert\n",
    "#define ta_verify(stmt) do { if (stmt) break; fail_with_strerror(errno, \"'\" #stmt \"' failed.\"); } while (0)\n",
    "#define ta_warn_if_not(stmt) do { if (!(stmt)) { log_printf(\"WARNING: '\" #stmt \"' failed\\n\"); } } while (0)\n",
    "\n",
    "// verify pthread call\n",
    "#define pt_verify(pthread_call) do { int code = (pthread_call); if (code == 0) break; \\\n",
    "    fail_with_strerror(code, \"'\" #pthread_call \"' failed.\"); } while (0)\n",
    "\n",
    "\n",
    "//=============== Начало примера ======================\n",
    "\n",
    "typedef enum {\n",
    "    VALID_STATE = 0,\n",
    "    INVALID_STATE = 1\n",
    "} state_t;\n",
    "\n",
    "\n",
    "typedef struct {\n",
    "    pthread_mutex_t mutex; \n",
    "    state_t current_state; // protected by mutex\n",
    "} shared_state_t;\n",
    "\n",
    "void process_safe_func(shared_state_t* state) {\n",
    "    // all function is critical section, protected by mutex\n",
    "    pthread_mutex_lock(&state->mutex); // try comment lock&unlock out and look at result\n",
    "    ta_verify(state->current_state == VALID_STATE);\n",
    "    state->current_state = INVALID_STATE; // do some work with state. \n",
    "    sched_yield();\n",
    "    state->current_state = VALID_STATE;\n",
    "    pthread_mutex_unlock(&state->mutex);\n",
    "}\n",
    " \n",
    "shared_state_t* load_state(const char* shm_name, bool do_create) {\n",
    "    // открываем / создаем объект разделяемой памяти\n",
    "    int fd = shm_open(shm_name, O_RDWR | (do_create ? O_CREAT : 0), 0644);\n",
    "    if (do_create) {\n",
    "        ta_verify(ftruncate(fd, sizeof(shared_state_t)) == 0);\n",
    "    }\n",
    "    shared_state_t* state = mmap(\n",
    "        /* desired addr, addr = */ NULL, \n",
    "        /* length = */ sizeof(shared_state_t), \n",
    "        /* access attributes, prot = */ PROT_READ | PROT_WRITE, \n",
    "        /* flags = */ MAP_SHARED,\n",
    "        /* fd = */ fd,\n",
    "        /* offset in file, offset = */ 0\n",
    "    );\n",
    "    ta_verify(state != MAP_FAILED);\n",
    "    if (do_create) {\n",
    "        // create interprocess mutex\n",
    "        pthread_mutexattr_t mutex_attrs;\n",
    "        pt_verify(pthread_mutexattr_init(&mutex_attrs));\n",
    "        // Важно!\n",
    "        pt_verify(pthread_mutexattr_setpshared(&mutex_attrs, PTHREAD_PROCESS_SHARED));\n",
    "        pt_verify(pthread_mutex_init(&state->mutex, &mutex_attrs));\n",
    "        pt_verify(pthread_mutexattr_destroy(&mutex_attrs));\n",
    "\n",
    "        state->current_state = VALID_STATE;\n",
    "    }\n",
    "    return state;\n",
    "}\n",
    "\n",
    "void unload_state(shared_state_t* state) {\n",
    "    ta_verify(munmap(state, sizeof(shared_state_t)) == 0);\n",
    "}\n",
    "\n",
    "shared_state_t* process_safe_init_and_load(const char* name) {\n",
    "    // succeeded only for first process. This process will initalize state\n",
    "    sem_t* init_semaphore = sem_open(\n",
    "        name, O_CREAT | O_EXCL, 0644, 0); // Создаем семафор с изначальным значением 0. Если семафор уже есть, то команда пофейлится\n",
    "    if (init_semaphore != SEM_FAILED) { // Если смогли сделать семафор, то мы - главный процесс, ответственный за инициализацию\n",
    "        // initializing branch for initializing process\n",
    "        shared_state_t* state = load_state(name, /*do_create=*/ 1);\n",
    "        sem_post(init_semaphore); // Кладем в \"ящик\" весточку, что стейт проинициализирован\n",
    "        sem_close(init_semaphore);\n",
    "        return state;\n",
    "    } else { // Если мы не главные процесс, то подождем инициализацию\n",
    "        // branch for processes waiting initialisation\n",
    "        init_semaphore = sem_open(name, 0);\n",
    "        ta_verify(init_semaphore != SEM_FAILED);\n",
    "        sem_wait(init_semaphore); // ждем весточку, что стейт готов\n",
    "        sem_post(init_semaphore); // возвращаем весточку на место, чтобы другим процессам тоже досталось\n",
    "        sem_close(init_semaphore);\n",
    "        return load_state(name, /*do_create=*/ 0);\n",
    "    }\n",
    "}\n",
    "\n",
    "int main(int argc, char** argv)\n",
    "{\n",
    "    ta_verify(argc >= 2);\n",
    "    if (strcmp(\"cleanup\", argv[1]) == 0) {\n",
    "        log_printf(\"  Cleanup sem and shm: %s\\n\", argv[2]);\n",
    "        ta_warn_if_not(shm_unlink(argv[2]) == 0);\n",
    "        ta_warn_if_not(sem_unlink(argv[2]) == 0);\n",
    "    } else if (strcmp(\"work\", argv[1]) == 0) {\n",
    "        ta_verify(argc == 4);\n",
    "        int worker = strtol(argv[2], 0, 10);\n",
    "        log_printf(\"  Worker %d started\\n\", worker);\n",
    "        \n",
    "        shared_state_t* state = process_safe_init_and_load(argv[3]);\n",
    "       \n",
    "        for (int j = 0; j < 10000; ++j) {\n",
    "            process_safe_func(state);\n",
    "        }\n",
    "     \n",
    "        unload_state(state);\n",
    "        log_printf(\"  Worker %d finished\\n\", worker);\n",
    "    } else {\n",
    "        ta_verify(0 && \"unknown command\");\n",
    "    }\n",
    "    return 0;\n",
    "}"
   ]
  },
  {
   "cell_type": "markdown",
   "metadata": {},
   "source": [
    "### Важное замечание про именованные и неименованные семафоры\n",
    "\n",
    "Для открытия/закрытия именованных семафоров используются `sem_open` и `sem_close`.\n",
    "\n",
    "А для неименованных `sem_init` и `sem_destroy`. \n",
    "\n",
    "Смешивать эти операции определенно не стоит, если конечно, вы где-нибудь не найдете документацию, подтверждающую обратное. Делать `sem_open`, а затем `sem_destroy`, это как создавать объект конструктором одного класса, а уничтожать деструктором другого (для родственных классов, без виртуального деструктора)."
   ]
  },
  {
   "cell_type": "code",
   "execution_count": null,
   "metadata": {},
   "outputs": [],
   "source": []
  },
  {
   "cell_type": "markdown",
   "metadata": {},
   "source": [
    "# <a name=\"sem_signal\"></a> Сочетаемость семафоров и сигналов\n",
    "\n",
    "Нет этой сочетаемости.\n",
    "\n",
    "```\n",
    "process 1\n",
    "> send signal to process 2\n",
    "> sem_post\n",
    "\n",
    "process 2\n",
    "> sem_wait\n",
    "> check variable that is set in signal handler\n",
    "```\n",
    "\n",
    "Не гарантируется, что сигнал будет доставлен и обработан до того, как отработает sem_wait."
   ]
  },
  {
   "cell_type": "code",
   "execution_count": 20,
   "metadata": {},
   "outputs": [
    {
     "data": {
      "text/markdown": [
       "Run: `gcc -Wall -fsanitize=thread -lrt sem_and_signal.c -o sem_and_signal.exe`"
      ],
      "text/plain": [
       "<IPython.core.display.Markdown object>"
      ]
     },
     "metadata": {},
     "output_type": "display_data"
    },
    {
     "data": {
      "text/markdown": [
       "Run: `./sem_and_signal.exe`"
      ],
      "text/plain": [
       "<IPython.core.display.Markdown object>"
      ]
     },
     "metadata": {},
     "output_type": "display_data"
    },
    {
     "name": "stdout",
     "output_type": "stream",
     "text": [
      "01:54:02.933 sem_and_signal.c: 69 [pid=28908]: Main process started\n",
      "i = 0\n",
      "i = 100000\n",
      "i = 200000\n",
      "i = 300000\n",
      "i = 400000\n",
      "i = 500000\n",
      "i = 600000\n",
      "i = 700000\n",
      "i = 800000\n",
      "i = 900000\n",
      "Signals and semaphors are not ordered... i = 951373, signals_count = 951373\n",
      "01:54:59.070 sem_and_signal.c: 99 [pid=28908]: 'ret != -1' failed\n"
     ]
    }
   ],
   "source": [
    "%%cpp sem_and_signal.c\n",
    "%run gcc -Wall -fsanitize=thread -lrt sem_and_signal.c -o sem_and_signal.exe\n",
    "%run ./sem_and_signal.exe\n",
    "\n",
    "#define _GNU_SOURCE \n",
    "#include <stdio.h>\n",
    "#include <stdlib.h>\n",
    "#include <unistd.h>\n",
    "#include <sys/types.h>\n",
    "#include <sys/time.h>\n",
    "#include <sys/wait.h>\n",
    "#include <sys/mman.h>\n",
    "#include <pthread.h>\n",
    "#include <semaphore.h>\n",
    "\n",
    "const char* log_prefix(const char* file, int line) {\n",
    "    struct timeval tp; gettimeofday(&tp, NULL); struct tm ltime; localtime_r(&tp.tv_sec, &ltime);\n",
    "    static __thread char prefix[100]; \n",
    "    size_t time_len = strftime(prefix, sizeof(prefix), \"%H:%M:%S\", &ltime);\n",
    "    sprintf(prefix + time_len, \".%03ld %s:%3d [pid=%d]\", tp.tv_usec / 1000, file, line, getpid());\n",
    "    return prefix;\n",
    "}\n",
    "\n",
    "#define log_printf_impl(fmt, ...) { dprintf(2, \"%s: \" fmt \"%s\", log_prefix(__FILE__, __LINE__), __VA_ARGS__); }\n",
    "#define log_printf(...) log_printf_impl(__VA_ARGS__, \"\")\n",
    "\n",
    "// process-aware assert\n",
    "#define pa_assert(stmt) if (stmt) {} else { log_printf(\"'\" #stmt \"' failed\\n\"); exit(EXIT_FAILURE); }\n",
    "\n",
    "volatile sig_atomic_t signal_count = 0;\n",
    "\n",
    "static void handler(int signum) {\n",
    "    signal_count += 1;\n",
    "}\n",
    "\n",
    "typedef struct {\n",
    "    sem_t semaphore_1;\n",
    "    sem_t semaphore_2;\n",
    "} shared_state_t;\n",
    "\n",
    "shared_state_t* state;\n",
    "\n",
    " \n",
    "shared_state_t* create_state() {\n",
    "    shared_state_t* state = mmap(\n",
    "        /* desired addr, addr = */ NULL, \n",
    "        /* length = */ sizeof(shared_state_t), \n",
    "        /* access attributes, prot = */ PROT_READ | PROT_WRITE, \n",
    "        /* flags = */ MAP_SHARED | MAP_ANONYMOUS,\n",
    "        /* fd = */ -1,\n",
    "        /* offset in file, offset = */ 0\n",
    "    );\n",
    "    pa_assert(state != MAP_FAILED);\n",
    "    \n",
    "    pa_assert(sem_init(&state->semaphore_1, 1, 0) == 0);\n",
    "    pa_assert(sem_init(&state->semaphore_2, 1, 0) == 0);\n",
    "    \n",
    "    return state;\n",
    "}\n",
    "\n",
    "void delete_state(shared_state_t* state) {\n",
    "    pa_assert(sem_destroy(&state->semaphore_1) == 0);\n",
    "    pa_assert(sem_destroy(&state->semaphore_2) == 0);\n",
    "    pa_assert(munmap(state, sizeof(shared_state_t)) == 0);\n",
    "}\n",
    "\n",
    "int main()\n",
    "{\n",
    "    log_printf(\"Main process started\\n\");\n",
    "    state = create_state();\n",
    "    pid_t process = fork();\n",
    "    if (process == 0) {\n",
    "        sigaction(SIGUSR1, &(struct sigaction){.sa_handler = handler, .sa_flags = SA_RESTART}, NULL);\n",
    "        sleep(1); // imitate synchronous start\n",
    "        for (int i = 0; ; ++i) {\n",
    "            sem_wait(&state->semaphore_1); \n",
    "            int cnt = signal_count;\n",
    "            if (cnt != i + 1) {\n",
    "                fprintf(stderr, \"Signals and semaphors are not ordered... i = %d, signals_count = %d\\n\", i, cnt);\n",
    "                exit(-1);\n",
    "            }\n",
    "            if (i % 100000 == 0) {\n",
    "                fprintf(stderr, \"i = %d\\n\", i);\n",
    "            }\n",
    "            sem_post(&state->semaphore_2); \n",
    "        }\n",
    "    } else {\n",
    "        sleep(1); // imitate synchronous start\n",
    "        int status;\n",
    "        int ret;\n",
    "        while ((ret = waitpid(process, &status, WNOHANG)) == 0) {\n",
    "            kill(process, SIGUSR1);\n",
    "            sem_post(&state->semaphore_1);\n",
    "        \n",
    "            while (sem_timedwait(&state->semaphore_2, &(struct timespec){.tv_nsec = 500000000}) == -1 \n",
    "                   && (ret = waitpid(process, &status, WNOHANG)) == 0) {\n",
    "            }\n",
    "        }\n",
    "        pa_assert(ret != -1)\n",
    "        pa_assert(WIFEXITED(status) && WEXITSTATUS(status) == 0);\n",
    "    }\n",
    "   \n",
    "    delete_state(state);\n",
    "    log_printf(\"Main process finished\\n\");\n",
    "    return 0;\n",
    "}"
   ]
  },
  {
   "cell_type": "markdown",
   "metadata": {},
   "source": [
    "Ломается, долго, но ломается. Так, что нельзя рассчитывать, что сигнал отрпавленный раньше, будет обработан до того, как дойдет событие через sem_post/sem_wait отправленное позже.\n",
    "\n",
    "Что неудивительно, так как семафоры работают напрямую через разделяемую память, а в обработке сигналов принимает участие еще и планировщик задач.\n",
    "\n",
    "Если система многоядерная и два процесса выполняются одновременно, то между отправкой сигнала и получением события через семафор может не случиться переключений процессов планировщиком - тогда сигнал будет доставлен позже.\n",
    "\n",
    "А на одноядерной системе представленная схема скорее всего будет работать. Так как между sem_post в одном процессе и завершением sem_wait в другом должно случиться переключение на второй процесс. В ходе которого вызовутся обработчики."
   ]
  },
  {
   "cell_type": "code",
   "execution_count": null,
   "metadata": {},
   "outputs": [],
   "source": []
  },
  {
   "cell_type": "code",
   "execution_count": null,
   "metadata": {},
   "outputs": [],
   "source": []
  },
  {
   "cell_type": "code",
   "execution_count": null,
   "metadata": {},
   "outputs": [],
   "source": []
  },
  {
   "cell_type": "markdown",
   "metadata": {},
   "source": [
    "# <a name=\"hw\"></a> Комментарии к ДЗ\n",
    "\n",
    "* posix/threads/mutex\n",
    "  <br>Много потоков, много мьютексов, циклический список.\n",
    "  <br>Решения с одним мьютексом не принимаются (в таких решениях потоки не будут выполнять работу (сложение чисел) параллельно). На каждый элемент нужен отдельный мьютекс (на самом деле необязательно, разрешаю применять творческий подход).\n",
    "  <br>При этом изменение трех чисел должно происходить атомарно с точки зрения гипотетического потока, который в любой момент, может взять лок на все мьютексы и прочитать состояние всех чисел.\n",
    "  <br>Почему такие уточнения? Чтобы задача имела больший образовательный смысл. С одним мьютексом у вас не параллелится обработка данных (которая в этой задаче упрощена до примитивного +=). Атомарность изменения требуется, чтобы потренироваться в локальных атомарных изменениях большой системы и вспомнить, как правильно брать несколько мьютексов разом.\n",
    "* posix/threads/condvar\n",
    "  <br>Здесь необязательно реализовывать очередь, а тем более ее копировать, но принципе тот же.\n",
    "  <br>Вспоминаем про аргументы передаваемые потоку.\n",
    "  <br>Нельзя использовать `pipe` и `socketpair`.\n",
    "  <br>В задаче есть две \"тяжелые\" операции: поиск простого числа и его вывод. Они должны параллелиться по типу конвеера.\n",
    "* posix/threads/atomic\n",
    "  <br>Задачка на CAS\n",
    "  <br>Потоки должны добавлять элементы в lock-free список параллельно. (Числа вовсе необязательно должны быть выведены в возрастающем порядке!)\n",
    "  \n",
    "* posix/shm_sem/map-on-processes - в этой задаче не надо использовать именованные сущности, так же в ней достаточно одного mmap"
   ]
  },
  {
   "cell_type": "code",
   "execution_count": null,
   "metadata": {},
   "outputs": [],
   "source": []
  },
  {
   "cell_type": "code",
   "execution_count": null,
   "metadata": {},
   "outputs": [],
   "source": []
  }
 ],
 "metadata": {
  "kernelspec": {
   "display_name": "Python 3",
   "language": "python",
   "name": "python3"
  },
  "language_info": {
   "codemirror_mode": {
    "name": "ipython",
    "version": 3
   },
   "file_extension": ".py",
   "mimetype": "text/x-python",
   "name": "python",
   "nbconvert_exporter": "python",
   "pygments_lexer": "ipython3",
   "version": "3.8.5"
  }
 },
 "nbformat": 4,
 "nbformat_minor": 2
}
