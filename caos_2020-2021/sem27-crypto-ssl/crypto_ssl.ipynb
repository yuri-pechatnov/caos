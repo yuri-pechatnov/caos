{
 "cells": [
  {
   "cell_type": "code",
   "execution_count": 2,
   "metadata": {
    "scrolled": false
   },
   "outputs": [
    {
     "data": {
      "application/javascript": [
       "// setup cpp code highlighting\n",
       "IPython.CodeCell.options_default.highlight_modes[\"text/x-c++src\"] = {'reg':[/^%%cpp/]} ;IPython.CodeCell.options_default.highlight_modes[\"text/x-cmake\"] = {'reg':[/^%%cmake/]} ;IPython.CodeCell.options_default.highlight_modes[\"text/x-sql\"] = {'reg':[/^%%sql/]} ;"
      ],
      "text/plain": [
       "<IPython.core.display.Javascript object>"
      ]
     },
     "metadata": {},
     "output_type": "display_data"
    },
    {
     "data": {
      "text/html": [
       "<!-- YANDEX_METRICA_BEGIN -->\n",
       "    <script type=\"text/javascript\" >\n",
       "       (function(m,e,t,r,i,k,a){m[i]=m[i]||function(){(m[i].a=m[i].a||[]).push(arguments)};\n",
       "       m[i].l=1*new Date();k=e.createElement(t),a=e.getElementsByTagName(t)[0],k.async=1,k.src=r,a.parentNode.insertBefore(k,a)})\n",
       "       (window, document, \"script\", \"https://mc.yandex.ru/metrika/tag.js\", \"ym\");\n",
       "\n",
       "       ym(59260609, \"init\", {\n",
       "            clickmap:true,\n",
       "            trackLinks:true,\n",
       "            accurateTrackBounce:true\n",
       "       });\n",
       "    </script>\n",
       "    <noscript><div><img src=\"https://mc.yandex.ru/watch/59260609\" style=\"position:absolute; left:-9999px;\" alt=\"\" /></div></noscript>\n",
       "    <!-- YANDEX_METRICA_END -->"
      ],
      "text/plain": [
       "<IPython.core.display.HTML object>"
      ]
     },
     "metadata": {},
     "output_type": "display_data"
    },
    {
     "data": {
      "text/html": [
       "В этот ноутбук встроен код Яндекс Метрики для сбора статистики использований. Если вы не хотите, чтобы по вам собиралась статистика, исправьте: yandex_metrica_allowed = False<!-- MAGICS_SETUP_PRINTING_END -->"
      ],
      "text/plain": [
       "<IPython.core.display.HTML object>"
      ]
     },
     "metadata": {},
     "output_type": "display_data"
    }
   ],
   "source": [
    "# look at tools/set_up_magics.ipynb\n",
    "yandex_metrica_allowed = True ; get_ipython().run_cell('# one_liner_str\\n\\nget_ipython().run_cell_magic(\\'javascript\\', \\'\\', \\n    \\'// setup cpp code highlighting\\\\n\\'\\n    \\'IPython.CodeCell.options_default.highlight_modes[\"text/x-c++src\"] = {\\\\\\'reg\\\\\\':[/^%%cpp/]} ;\\'\\n    \\'IPython.CodeCell.options_default.highlight_modes[\"text/x-cmake\"] = {\\\\\\'reg\\\\\\':[/^%%cmake/]} ;\\'\\n    \\'IPython.CodeCell.options_default.highlight_modes[\"text/x-sql\"] = {\\\\\\'reg\\\\\\':[/^%%sql/]} ;\\'\\n)\\n\\n# creating magics\\nfrom IPython.core.magic import register_cell_magic, register_line_magic\\nfrom IPython.display import display, Markdown, HTML\\nimport argparse\\nfrom subprocess import Popen, PIPE, STDOUT, check_output\\nimport html\\nimport random\\nimport sys\\nimport os\\nimport re\\nimport signal\\nimport shutil\\nimport shlex\\nimport glob\\nimport time\\n\\n@register_cell_magic\\ndef save_file(args_str, cell, line_comment_start=\"#\"):\\n    parser = argparse.ArgumentParser()\\n    parser.add_argument(\"fname\")\\n    parser.add_argument(\"--ejudge-style\", action=\"store_true\")\\n    parser.add_argument(\"--under-spoiler-threshold\", type=int, default=None)\\n    args = parser.parse_args(args_str.split())\\n    \\n    cell = cell if cell[-1] == \\'\\\\n\\' or args.no_eof_newline else cell + \"\\\\n\"\\n    cmds = []\\n    with open(args.fname, \"w\") as f:\\n        f.write(line_comment_start + \" %%cpp \" + args_str + \"\\\\n\")\\n        for line in cell.split(\"\\\\n\"):\\n            line_to_write = (line if not args.ejudge_style else line.rstrip()) + \"\\\\n\"\\n            if not line.startswith(\"%\"):\\n                f.write(line_to_write)\\n            else:\\n                f.write(line_comment_start + \" \" + line_to_write)\\n                run_prefix = \"%run \"\\n                md_prefix = \"%MD \"\\n                comment_prefix = \"%\" + line_comment_start\\n                if line.startswith(run_prefix):\\n                    cmds.append(line[len(run_prefix):].strip())\\n                elif line.startswith(md_prefix):\\n                    cmds.append(\\'#<MD>\\' + line[len(md_prefix):].strip())\\n                elif line.startswith(comment_prefix):\\n                    cmds.append(\\'#\\' + line[len(comment_prefix):].strip())\\n                else:\\n                    raise Exception(\"Unknown %%save_file subcommand: \\'%s\\'\" % line)\\n                \\n        f.write(\"\" if not args.ejudge_style else line_comment_start + r\" line without \\\\n\")\\n    for cmd in cmds:\\n        if cmd.startswith(\\'#\\'):\\n            if cmd.startswith(\\'#<MD>\\'):\\n                display(Markdown(cmd[5:]))\\n            else:\\n                display(Markdown(\"\\\\#\\\\#\\\\#\\\\# `%s`\" % cmd[1:]))\\n        else:\\n            display(Markdown(\"Run: `%s`\" % cmd))\\n            if args.under_spoiler_threshold:\\n                out = check_output(cmd, stderr=STDOUT, shell=True, universal_newlines=True)\\n                out = out[:-1] if out.endswith(\\'\\\\n\\') else out\\n                out = html.escape(out)\\n                if len(out.split(\\'\\\\n\\')) > args.under_spoiler_threshold:\\n                    out = \"<details> <summary> output </summary> <pre><code>%s</code></pre></details>\" % out\\n                elif out:\\n                    out = \"<pre><code>%s</code></pre>\" % out\\n                if out:\\n                    display(HTML(out))\\n            else:\\n                get_ipython().system(cmd)\\n\\n@register_cell_magic\\ndef cpp(fname, cell):\\n    save_file(fname, cell, \"//\")\\n    \\n@register_cell_magic\\ndef cmake(fname, cell):\\n    save_file(fname, cell, \"#\")\\n\\n@register_cell_magic\\ndef asm(fname, cell):\\n    save_file(fname, cell, \"//\")\\n    \\n@register_cell_magic\\ndef makefile(fname, cell):\\n    fname = fname or \"makefile\"\\n    assert fname.endswith(\"makefile\")\\n    save_file(fname, cell.replace(\" \" * 4, \"\\\\t\"))\\n        \\n@register_line_magic\\ndef p(line):\\n    line = line.strip() \\n    if line[0] == \\'#\\':\\n        display(Markdown(line[1:].strip()))\\n    else:\\n        try:\\n            expr, comment = line.split(\" #\")\\n            display(Markdown(\"`{} = {}`  # {}\".format(expr.strip(), eval(expr), comment.strip())))\\n        except:\\n            display(Markdown(\"{} = {}\".format(line, eval(line))))\\n    \\n    \\ndef show_log_file(file, return_html_string=False):\\n    obj = file.replace(\\'.\\', \\'_\\').replace(\\'/\\', \\'_\\') + \"_obj\"\\n    html_string = \\'\\'\\'\\n        <!--MD_BEGIN_FILTER-->\\n        <script type=text/javascript>\\n        var entrance___OBJ__ = 0;\\n        var errors___OBJ__ = 0;\\n        function halt__OBJ__(elem, color)\\n        {\\n            elem.setAttribute(\"style\", \"font-size: 14px; background: \" + color + \"; padding: 10px; border: 3px; border-radius: 5px; color: white; \");                    \\n        }\\n        function refresh__OBJ__()\\n        {\\n            entrance___OBJ__ -= 1;\\n            if (entrance___OBJ__ < 0) {\\n                entrance___OBJ__ = 0;\\n            }\\n            var elem = document.getElementById(\"__OBJ__\");\\n            if (elem) {\\n                var xmlhttp=new XMLHttpRequest();\\n                xmlhttp.onreadystatechange=function()\\n                {\\n                    var elem = document.getElementById(\"__OBJ__\");\\n                    console.log(!!elem, xmlhttp.readyState, xmlhttp.status, entrance___OBJ__);\\n                    if (elem && xmlhttp.readyState==4) {\\n                        if (xmlhttp.status==200)\\n                        {\\n                            errors___OBJ__ = 0;\\n                            if (!entrance___OBJ__) {\\n                                if (elem.innerHTML != xmlhttp.responseText) {\\n                                    elem.innerHTML = xmlhttp.responseText;\\n                                }\\n                                if (elem.innerHTML.includes(\"Process finished.\")) {\\n                                    halt__OBJ__(elem, \"#333333\");\\n                                } else {\\n                                    entrance___OBJ__ += 1;\\n                                    console.log(\"req\");\\n                                    window.setTimeout(\"refresh__OBJ__()\", 300); \\n                                }\\n                            }\\n                            return xmlhttp.responseText;\\n                        } else {\\n                            errors___OBJ__ += 1;\\n                            if (!entrance___OBJ__) {\\n                                if (errors___OBJ__ < 6) {\\n                                    entrance___OBJ__ += 1;\\n                                    console.log(\"req\");\\n                                    window.setTimeout(\"refresh__OBJ__()\", 300); \\n                                } else {\\n                                    halt__OBJ__(elem, \"#994444\");\\n                                }\\n                            }\\n                        }\\n                    }\\n                }\\n                xmlhttp.open(\"GET\", \"__FILE__\", true);\\n                xmlhttp.setRequestHeader(\"Cache-Control\", \"no-cache\");\\n                xmlhttp.send();     \\n            }\\n        }\\n        \\n        if (!entrance___OBJ__) {\\n            entrance___OBJ__ += 1;\\n            refresh__OBJ__(); \\n        }\\n        </script>\\n\\n        <p id=\"__OBJ__\" style=\"font-size: 14px; background: #000000; padding: 10px; border: 3px; border-radius: 5px; color: white; \">\\n        </p>\\n        \\n        </font>\\n        <!--MD_END_FILTER-->\\n        <!--MD_FROM_FILE __FILE__.md -->\\n        \\'\\'\\'.replace(\"__OBJ__\", obj).replace(\"__FILE__\", file)\\n    if return_html_string:\\n        return html_string\\n    display(HTML(html_string))\\n\\n    \\nclass TInteractiveLauncher:\\n    tmp_path = \"./interactive_launcher_tmp\"\\n    def __init__(self, cmd):\\n        try:\\n            os.mkdir(TInteractiveLauncher.tmp_path)\\n        except:\\n            pass\\n        name = str(random.randint(0, 1e18))\\n        self.inq_path = os.path.join(TInteractiveLauncher.tmp_path, name + \".inq\")\\n        self.log_path = os.path.join(TInteractiveLauncher.tmp_path, name + \".log\")\\n        \\n        os.mkfifo(self.inq_path)\\n        open(self.log_path, \\'w\\').close()\\n        open(self.log_path + \".md\", \\'w\\').close()\\n\\n        self.pid = os.fork()\\n        if self.pid == -1:\\n            print(\"Error\")\\n        if self.pid == 0:\\n            exe_cands = glob.glob(\"../tools/launcher.py\") + glob.glob(\"../../tools/launcher.py\")\\n            assert(len(exe_cands) == 1)\\n            assert(os.execvp(\"python3\", [\"python3\", exe_cands[0], \"-l\", self.log_path, \"-i\", self.inq_path, \"-c\", cmd]) == 0)\\n        self.inq_f = open(self.inq_path, \"w\")\\n        interactive_launcher_opened_set.add(self.pid)\\n        show_log_file(self.log_path)\\n\\n    def write(self, s):\\n        s = s.encode()\\n        assert len(s) == os.write(self.inq_f.fileno(), s)\\n        \\n    def get_pid(self):\\n        n = 100\\n        for i in range(n):\\n            try:\\n                return int(re.findall(r\"PID = (\\\\d+)\", open(self.log_path).readline())[0])\\n            except:\\n                if i + 1 == n:\\n                    raise\\n                time.sleep(0.1)\\n        \\n    def input_queue_path(self):\\n        return self.inq_path\\n        \\n    def wait_stop(self, timeout):\\n        for i in range(int(timeout * 10)):\\n            wpid, status = os.waitpid(self.pid, os.WNOHANG)\\n            if wpid != 0:\\n                return True\\n            time.sleep(0.1)\\n        return False\\n        \\n    def close(self, timeout=3):\\n        self.inq_f.close()\\n        if not self.wait_stop(timeout):\\n            os.kill(self.get_pid(), signal.SIGKILL)\\n            os.waitpid(self.pid, 0)\\n        os.remove(self.inq_path)\\n        # os.remove(self.log_path)\\n        self.inq_path = None\\n        self.log_path = None \\n        interactive_launcher_opened_set.remove(self.pid)\\n        self.pid = None\\n        \\n    @staticmethod\\n    def terminate_all():\\n        if \"interactive_launcher_opened_set\" not in globals():\\n            globals()[\"interactive_launcher_opened_set\"] = set()\\n        global interactive_launcher_opened_set\\n        for pid in interactive_launcher_opened_set:\\n            print(\"Terminate pid=\" + str(pid), file=sys.stderr)\\n            os.kill(pid, signal.SIGKILL)\\n            os.waitpid(pid, 0)\\n        interactive_launcher_opened_set = set()\\n        if os.path.exists(TInteractiveLauncher.tmp_path):\\n            shutil.rmtree(TInteractiveLauncher.tmp_path)\\n    \\nTInteractiveLauncher.terminate_all()\\n   \\nyandex_metrica_allowed = bool(globals().get(\"yandex_metrica_allowed\", False))\\nif yandex_metrica_allowed:\\n    display(HTML(\\'\\'\\'<!-- YANDEX_METRICA_BEGIN -->\\n    <script type=\"text/javascript\" >\\n       (function(m,e,t,r,i,k,a){m[i]=m[i]||function(){(m[i].a=m[i].a||[]).push(arguments)};\\n       m[i].l=1*new Date();k=e.createElement(t),a=e.getElementsByTagName(t)[0],k.async=1,k.src=r,a.parentNode.insertBefore(k,a)})\\n       (window, document, \"script\", \"https://mc.yandex.ru/metrika/tag.js\", \"ym\");\\n\\n       ym(59260609, \"init\", {\\n            clickmap:true,\\n            trackLinks:true,\\n            accurateTrackBounce:true\\n       });\\n    </script>\\n    <noscript><div><img src=\"https://mc.yandex.ru/watch/59260609\" style=\"position:absolute; left:-9999px;\" alt=\"\" /></div></noscript>\\n    <!-- YANDEX_METRICA_END -->\\'\\'\\'))\\n\\ndef make_oneliner():\\n    html_text = \\'(\"В этот ноутбук встроен код Яндекс Метрики для сбора статистики использований. Если вы не хотите, чтобы по вам собиралась статистика, исправьте: yandex_metrica_allowed = False\" if yandex_metrica_allowed else \"\")\\'\\n    html_text += \\' + \"<\"\"!-- MAGICS_SETUP_PRINTING_END -->\"\\'\\n    return \\'\\'.join([\\n        \\'# look at tools/set_up_magics.ipynb\\\\n\\',\\n        \\'yandex_metrica_allowed = True ; get_ipython().run_cell(%s);\\' % repr(one_liner_str),\\n        \\'display(HTML(%s))\\' % html_text,\\n        \\' #\\'\\'MAGICS_SETUP_END\\'\\n    ])\\n       \\n\\n');display(HTML((\"В этот ноутбук встроен код Яндекс Метрики для сбора статистики использований. Если вы не хотите, чтобы по вам собиралась статистика, исправьте: yandex_metrica_allowed = False\" if yandex_metrica_allowed else \"\") + \"<\"\"!-- MAGICS_SETUP_PRINTING_END -->\")) #MAGICS_SETUP_END"
   ]
  },
  {
   "cell_type": "markdown",
   "metadata": {},
   "source": [
    "# Криптография, openssl\n",
    "\n",
    "<p><a href=\"https://www.youtube.com/watch?v=oM4t2eijHT0&list=PLjzMm8llUm4AmU6i_hPU0NobgA4VsBowc&index=28\" target=\"_blank\">\n",
    "    <h3>Видеозапись семинара</h3> \n",
    "</a></p>\n",
    "\n",
    "[Ридинг Яковлева](https://github.com/victor-yacovlev/mipt-diht-caos/tree/master/practice/openssl)\n",
    "\n",
    "Сегодня в программе:\n",
    "* <a href=\"#hash\" style=\"color:#856024\"> Хеши </a>\n",
    "* <a href=\"#salt\" style=\"color:#856024\"> Соль </a>\n",
    "* <a href=\"#symmetric\" style=\"color:#856024\"> Симметричное шифрование </a>\n",
    "* <a href=\"#asymmetric\" style=\"color:#856024\"> Асимметричное шифрование </a>\n",
    "* <a href=\"#libcrypto\" style=\"color:#856024\"> libcrypto </a>\n",
    "    \n",
    "  \n",
    "<a href=\"#hw\" style=\"color:#856024\">Комментарии к ДЗ</a>\n"
   ]
  },
  {
   "cell_type": "markdown",
   "metadata": {},
   "source": [
    "##  <a name=\"hash\"></a>  Хеши\n",
    "\n",
    "Цель хеш-функции - конвертировать произвольную последовательность бит (строку) в последовательность бит фиксированной длины (хеш-значение). При этом делать это таким образом, чтобы восстановить по хеш-значению исходную строку было крайне сложно.\n",
    "\n",
    "(Это очень упрощенно, более детально можно посмотреть [на википедии](https://ru.wikipedia.org/wiki/Криптографическая_хеш-функция#Требования))\n",
    "\n",
    "Самое очевидное применение хешей - хранение паролей пользователей на диске"
   ]
  },
  {
   "cell_type": "code",
   "execution_count": 223,
   "metadata": {},
   "outputs": [
    {
     "name": "stdout",
     "output_type": "stream",
     "text": [
      "user=Vasya password_hash=5994471abb01112afcc18159f6cc74b4f511b99806da59b3caf5a9c173cacfc5 *stdin\n",
      "user=Petya password_hash=9513963c366d0baccdbcd507bd1d78fa9c1a21aa102c30af3bb20f167fde8f2e *stdin\n",
      "user=admin password_hash=65e84be33532fb784c48129675f9eff3a682b27168c0ea744b2cf58ee02337c5 *stdin\n"
     ]
    }
   ],
   "source": [
    "%%bash\n",
    "\n",
    "echo \"user=Vasya password_hash=$(echo -n 12345 | openssl sha256 -r)\"\n",
    "echo \"user=Petya password_hash=$(echo -n asfjdjdvsdf | openssl sha256 -r)\"\n",
    "echo \"user=admin password_hash=$(echo -n qwerty | openssl sha256 -r)\""
   ]
  },
  {
   "cell_type": "markdown",
   "metadata": {},
   "source": [
    "Тогда потенциальному злоумышленнику, чтобы получить пароль (или эквивалент пароля) нужно по хешу восстановить прообраз хеш-функции, что сложно, если пароль сложный, а хеш-функция хорошая.\n",
    "\n",
    "Однако в приведенной схеме есть дыра. Какая?\n",
    "\n",
    "<details> <summary> (большой блок из пустых строк) </summary>\n",
    "  <p> <br><br><br><br><br><br><br><br><br><br><br><br><br><br> </p>\n",
    "</details>"
   ]
  },
  {
   "cell_type": "markdown",
   "metadata": {},
   "source": [
    "##  <a name=\"salt\"></a>  Соль"
   ]
  },
  {
   "cell_type": "code",
   "execution_count": 224,
   "metadata": {},
   "outputs": [
    {
     "name": "stdout",
     "output_type": "stream",
     "text": [
      "user=Vasya password_hash=a6f62b5131e63fac2e6f1be3e443a12e58e2c5fea002df0924f58eeefb7e81a9 *stdin\n",
      "user=Petya password_hash=eea9d8bec1b74e88807bf93f3a0e095df6543b83d46550456d7f8d2139c0db5c *stdin\n",
      "user=admin password_hash=a6f62b5131e63fac2e6f1be3e443a12e58e2c5fea002df0924f58eeefb7e81a9 *stdin\n"
     ]
    }
   ],
   "source": [
    "%%bash\n",
    "echo \"user=Vasya password_hash=$(echo -n 3.1415-2.718182 | openssl sha256 -r)\"\n",
    "echo \"user=Petya password_hash=$(echo -n sfkjvdjkth | openssl sha256 -r)\"\n",
    "echo \"user=admin password_hash=$(echo -n 3.1415-2.718182 | openssl sha256 -r)\""
   ]
  },
  {
   "cell_type": "markdown",
   "metadata": {},
   "source": [
    "Пусть здесь получить пароли по хешам все еще сложно, \n",
    "но можно получить другую информацию: что у `Vasya` и `admin` совпадают пароли.\n",
    "    \n",
    "А если злоумышленник мыслит широко, он может просто подкараулить Васю в темном подъезде. И получить пароль админа.\n",
    "\n",
    "Чтобы злоумышленник не мог получить информацию о совпадении паролей, можно использовать соль."
   ]
  },
  {
   "cell_type": "code",
   "execution_count": 225,
   "metadata": {},
   "outputs": [
    {
     "name": "stdout",
     "output_type": "stream",
     "text": [
      "user=Vasya salt=saltAHFG password_hash=0c9ce37e04e94dc13f16304a93b21e7f2c44ca32d6c26fbea3375ea85263aaa0 *stdin\n",
      "user=Petya salt=saltMSIG password_hash=df9c27cc066b36be6dc73a39f03e73ec4996b378bfff562421e53bf85f3a99c5 *stdin\n",
      "user=admin salt=saltPQNY password_hash=8af9bf88fbe91b010c37d5065c90935c5bb51f5e2898bd92a7235581bd0ccb36 *stdin\n"
     ]
    }
   ],
   "source": [
    "%%bash\n",
    "echo \"user=Vasya salt=saltAHFG password_hash=$(echo -n saltAHFG%3.1415-2.718182 | openssl sha256 -r)\"\n",
    "echo \"user=Petya salt=saltMSIG password_hash=$(echo -n saltMSIG%sfkjvdjkth | openssl sha256 -r)\"\n",
    "echo \"user=admin salt=saltPQNY password_hash=$(echo -n saltPQNY%3.1415-2.718182 | openssl sha256 -r)\""
   ]
  },
  {
   "cell_type": "markdown",
   "metadata": {},
   "source": [
    "Теперь информации о совпадении паролей у злоумышленника так же нет."
   ]
  },
  {
   "cell_type": "markdown",
   "metadata": {},
   "source": [
    "##  <a name=\"symmetric\"></a>  Симметричное шифрование\n",
    "\n",
    "Позволяет шифровать большие объемы текста. Для шифрования и расшифровки используется общий секрет."
   ]
  },
  {
   "cell_type": "markdown",
   "metadata": {},
   "source": [
    "### Шифроблокноты\n",
    "\n",
    "Это самый надежный из симметричных шифров: генерируется случайная последовательность большой длины и становится ключом.\n",
    "\n",
    "https://ru.wikipedia.org/wiki/Шифр_Вернама\n",
    "\n",
    "https://habr.com/ru/post/347216/"
   ]
  },
  {
   "cell_type": "code",
   "execution_count": 226,
   "metadata": {},
   "outputs": [
    {
     "data": {
      "text/markdown": [
       "both Alice and Bob"
      ],
      "text/plain": [
       "<IPython.core.display.Markdown object>"
      ]
     },
     "metadata": {},
     "output_type": "display_data"
    },
    {
     "data": {
      "text/markdown": [
       "`base64.b64encode(common_secret) = b't3DnjBipwdICZrbWIvgW3q4m7LnfOsLw0zjHji+nuIL7yRg='`  # Содержимое шифроблокнота"
      ],
      "text/plain": [
       "<IPython.core.display.Markdown object>"
      ]
     },
     "metadata": {},
     "output_type": "display_data"
    },
    {
     "data": {
      "text/markdown": [
       "Alice →"
      ],
      "text/plain": [
       "<IPython.core.display.Markdown object>"
      ]
     },
     "metadata": {},
     "output_type": "display_data"
    },
    {
     "data": {
      "text/markdown": [
       "`plain_text = b'there are several spy secrets here'`  # Текст, который хотим зашифровать (Алиса хочет отправить его Бобу)"
      ],
      "text/plain": [
       "<IPython.core.display.Markdown object>"
      ]
     },
     "metadata": {},
     "output_type": "display_data"
    },
    {
     "data": {
      "text/markdown": [
       "`base64.b64encode(cipher_text) = b'wxiC/n2JoKBnRsWzVJ1kv8IGn8mmGrGVsEqi+lyH0OeJrA=='`  # Шифротекст"
      ],
      "text/plain": [
       "<IPython.core.display.Markdown object>"
      ]
     },
     "metadata": {},
     "output_type": "display_data"
    },
    {
     "data": {
      "text/markdown": [
       "→ Bob"
      ],
      "text/plain": [
       "<IPython.core.display.Markdown object>"
      ]
     },
     "metadata": {},
     "output_type": "display_data"
    },
    {
     "data": {
      "text/markdown": [
       "`recovered_plain_text = b'there are several spy secrets here'`  # Текст, который получил Боб"
      ],
      "text/plain": [
       "<IPython.core.display.Markdown object>"
      ]
     },
     "metadata": {},
     "output_type": "display_data"
    }
   ],
   "source": [
    "import random\n",
    "import base64\n",
    "\n",
    "def xor(x, y):\n",
    "    return bytes(a ^ b for a, b in zip(x, y))\n",
    "\n",
    "%p # both Alice and Bob\n",
    "common_secret = bytes(random.randint(0, 255) for i in range(35))  # на самом деле тут стоило бы исплользовать более надежный генератор случайных чисел \n",
    "%p base64.b64encode(common_secret)  # Содержимое шифроблокнота\n",
    "\n",
    "%p # Alice → \n",
    "plain_text = b\"there are several spy secrets here\"\n",
    "%p plain_text  # Текст, который хотим зашифровать (Алиса хочет отправить его Бобу)\n",
    "cipher_text = xor(plain_text, common_secret)\n",
    "%p base64.b64encode(cipher_text)  # Шифротекст\n",
    "\n",
    "%p #  → Bob\n",
    "recovered_plain_text = xor(cipher_text, common_secret)\n",
    "%p recovered_plain_text  # Текст, который получил Боб\n"
   ]
  },
  {
   "cell_type": "markdown",
   "metadata": {},
   "source": [
    "Но есть очевидный минус - общий секрет должет быть размера не меньшего, чем весь объем отправляемых данных."
   ]
  },
  {
   "cell_type": "markdown",
   "metadata": {},
   "source": [
    "## Блочное шифррование\n",
    "\n",
    "По сути пара функций: `output_block = E(input_block, secret)` и обратная к ней. `output_block`, `input_block` и `secret`- строки фиксированной длины. Обычно число фигурирующее в названии блочного шифра (aes-256) - это длина ключа в битах.\n",
    "\n",
    "https://ru.wikipedia.org/wiki/Блочный_шифр\n",
    "\n",
    "https://ru.wikipedia.org/wiki/Блочный_шифр#Определение\n",
    "\n",
    "https://ru.wikipedia.org/wiki/Режим_шифрования#Counter_mode_(CTR)\n",
    "\n",
    "Казалось бы теперь можно просто зашифровать текст, просто применив функцию блочного шифра поблочно к тексту (называется режимом шифрования ECB), но нет! Иначе есть шанс получить что-то такое :)\n",
    "\n",
    "<table> \n",
    "<tr>\n",
    "    <th> Исходное изображение </th> <th> Изображение зашифрованное в режиме ECB </th> \n",
    "</tr>\n",
    "<tr>\n",
    "    <th> \n",
    "        <img src=\"https://upload.wikimedia.org/wikipedia/commons/thumb/3/35/Tux.svg/300px-Tux.svg.png\" width=\"200\" height=\"200\" align=\"left\" alt=\"Видео с семинара\">\n",
    "    </th>\n",
    "    <th>\n",
    "        <img src=\"https://upload.wikimedia.org/wikipedia/commons/f/f0/Tux_ecb.jpg\" width=\"200\" height=\"200\" align=\"left\" alt=\"Видео с семинара\">\n",
    "    </th>\n",
    "</tr> \n",
    "</table>\n",
    "\n",
    "\n",
    "\n",
    "Один из режимов шифрования (способов использования функции блочного шифра) - режим CTR. С ним нет такой проблемы как с ECB. И он очень простой по сути.\n",
    "\n",
    "Идея в том, чтобы как бы генерировать шифроблокнот на ходу, используя функцию блочного шифра.\n",
    "\n",
    "Примерно так: `E(nonce*1e9 + 0, secret), E(nonce*1e9 + 1, secret), E(nonce*1e9 + 2, secret), ...`.\n",
    "\n",
    "`nonce` - Number used ONCE - однократно используемое число. Чтобы функция блочного шифра с одним ключом никогда не применялась для шифрования одного и того же входного блока. `nonce` обычно передается в незашифрованном виде."
   ]
  },
  {
   "cell_type": "code",
   "execution_count": 253,
   "metadata": {},
   "outputs": [
    {
     "name": "stdout",
     "output_type": "stream",
     "text": [
      "Alice → \n",
      "  Plain text: 'Some secret message'\n",
      "  Salt is: 220b054eafaafa61\n",
      "  Ciphertext base64: 'U2FsdGVkX18iCwVOr6r6YU5US9agAA8WWuDCi5HSNuoPSaY='\n",
      "→  Bob\n",
      "  Ciphertext base64: 'U2FsdGVkX18iCwVOr6r6YU5US9agAA8WWuDCi5HSNuoPSaY='\n",
      "  Recovered plaintext: 'Some secret message'\n"
     ]
    }
   ],
   "source": [
    "%%bash\n",
    "export MY_PASSWORD=MY_SECRET_PASSWORD\n",
    "\n",
    "echo \"Alice → \"\n",
    "echo -n \"Some secret message\" > plain_text.txt\n",
    "echo \"  Plain text: '$(cat plain_text.txt)'\"\n",
    "SALT=$(openssl rand -hex 8)\n",
    "echo \"  Salt is: $SALT\"\n",
    "openssl enc -aes-256-ctr -e -S $SALT -in plain_text.txt -out cipher_text.txt -pass env:MY_PASSWORD\n",
    "echo \"  Ciphertext base64: '$(base64 cipher_text.txt)'\"\n",
    "\n",
    "echo \"→  Bob\"\n",
    "echo \"  Ciphertext base64: '$(base64 cipher_text.txt)'\"\n",
    "openssl enc -aes-256-ctr -d -in cipher_text.txt -out recovered_plain_text.txt -pass env:MY_PASSWORD\n",
    "echo \"  Recovered plaintext: '$(cat recovered_plain_text.txt)'\""
   ]
  },
  {
   "cell_type": "markdown",
   "metadata": {},
   "source": [
    "Можно еще глянуть на структуру зашифрованного с помощью утилиты сообщения:"
   ]
  },
  {
   "cell_type": "code",
   "execution_count": 342,
   "metadata": {
    "scrolled": false
   },
   "outputs": [
    {
     "name": "stdout",
     "output_type": "stream",
     "text": [
      "Case 1. Use pass phrase:\n",
      "  Plain text: 'Some secret message!' (20 bytes)\n",
      "  salt=66AA1122060A0102\n",
      "  key=BBC5929AA59B56851391DD723922C2E0F31A2FC873D52D3FBA3FD5391CAD471E\n",
      "  iv =E4DEC57ADC9A771DC72A77775A1CF4FF\n",
      "  Ciphertexthexdump: '''\n",
      "  00000000  53 61 6c 74 65 64 5f 5f  66 aa 11 22 06 0a 01 02  |Salted__f..\"....|\n",
      "  00000010  ca 12 3b 51 34 0e 2d 52  3c 38 36 66 6f 74 4f 57  |..;Q4.-R<86fotOW|\n",
      "  00000020  bc 8b d6 e0                                       |....|\n",
      "  00000024\n",
      "  ''' (36 bytes)\n",
      "  Recovered plaintext: 'Some secret message!'\n",
      "Case 2. Use explicit key and IV:\n",
      "  Plain text: 'Some secret message!' (20 bytes)\n",
      "  salt=0000000000000000\n",
      "  key=BBC5929AA59B56851391DD723922C2E0F31A2FC873D52D3FBA3FD5391CAD471E\n",
      "  iv =E4DEC57ADC9A771DC72A77775A1CF4FF\n",
      "  Ciphertexthexdump: '''\n",
      "  00000000  ca 12 3b 51 34 0e 2d 52  3c 38 36 66 6f 74 4f 57  |..;Q4.-R<86fotOW|\n",
      "  00000010  bc 8b d6 e0                                       |....|\n",
      "  00000014\n",
      "  ''' (20 bytes)\n",
      "  Recovered plaintext: 'Some secret message!'\n",
      "Case 3. Encode with EBC mode and decode with CTR mode (IV=0):\n",
      "  Plain text: '''00 00 00 00 00 00 00 00 00 00 00 00 00 00 00 00 00 00 00 00 ''' (20 bytes)\n",
      "  salt=0000000000000000\n",
      "  key=BBC5929AA59B56851391DD723922C2E0F31A2FC873D52D3FBA3FD5391CAD471E\n",
      "  Ciphertexthexdump: '''\n",
      "  00000000  3b 0f 19 a6 fe c8 60 68  14 6a a6 8f 49 4b 03 bb  |;.....`h.j..IK..|\n",
      "  00000010  76 92 ad 2e d1 02 aa 75  08 0e 27 92 a4 0e 87 30  |v......u..'....0|\n",
      "  00000020\n",
      "  ''' (32 bytes)\n",
      "  Recovered plaintext: '''\n",
      "  0000000 0000 0000 0000 0000 0000 0000 0000 0000\n",
      "  0000010 6fb5 ede7 1427 2c9b b25b c5d6 f4be a0be\n",
      "  0000020\n",
      "  ''' (32 bytes)\n"
     ]
    }
   ],
   "source": [
    "%%bash\n",
    "export MY_PASSWORD=MY_SECRET_PASSWORD\n",
    "echo -n \"Some secret message!\" > plain_text.txt\n",
    "SALT='66AA1122060A0102'\n",
    "\n",
    "echo \"Case 1. Use pass phrase:\"\n",
    "echo \"Plain text: '$(cat plain_text.txt)' ($(cat plain_text.txt | wc -c) bytes)\"                                             | sed -e 's/^/  /'\n",
    "# sed -e 's/^/  /' -- просто добавляет отступ в два пробела к каждой выведенной строке\n",
    "# -p -- опция, чтобы выводить соль, ключ, стартовый вектор\n",
    "openssl enc -aes-256-ctr -S $SALT -in plain_text.txt -out cipher_text.txt -pass env:MY_PASSWORD -p                           | sed -e 's/^/  /'\n",
    "echo -e \"Ciphertexthexdump: '''\\n$(hexdump cipher_text.txt -C)\\n''' ($(cat cipher_text.txt | wc -c) bytes)\"                     | sed -e 's/^/  /'\n",
    "openssl enc -aes-256-ctr -d -in cipher_text.txt -out recovered_plain_text.txt -pass env:MY_PASSWORD \n",
    "echo \"Recovered plaintext: '$(cat recovered_plain_text.txt)'\"                                                                | sed -e 's/^/  /'\n",
    "\n",
    "\n",
    "IV='E4DEC57ADC9A771DC72A77775A1CF4FF'\n",
    "KEY='BBC5929AA59B56851391DD723922C2E0F31A2FC873D52D3FBA3FD5391CAD471E'\n",
    "echo \"Case 2. Use explicit key and IV:\"\n",
    "echo \"Plain text: '$(cat plain_text.txt)' ($(cat plain_text.txt | wc -c) bytes)\"                                             | sed -e 's/^/  /'\n",
    "openssl enc -aes-256-ctr -in plain_text.txt -out cipher_text.txt -iv $IV -K $KEY -p                                          | sed -e 's/^/  /'\n",
    "echo -e \"Ciphertexthexdump: '''\\n$(hexdump cipher_text.txt -C)\\n''' ($(cat cipher_text.txt | wc -c) bytes)\"                     | sed -e 's/^/  /'\n",
    "openssl enc -aes-256-ctr -d -in cipher_text.txt -out recovered_plain_text.txt -iv $IV -K $KEY\n",
    "echo \"Recovered plaintext: '$(cat recovered_plain_text.txt)'\"                                                                | sed -e 's/^/  /'\n",
    "\n",
    "\n",
    "echo \"Case 3. Encode with EBC mode and decode with CTR mode (IV=0):\"\n",
    "IV='00000000000000000000000000000000'\n",
    "KEY='BBC5929AA59B56851391DD723922C2E0F31A2FC873D52D3FBA3FD5391CAD471E'\n",
    "echo -n -e \"\\0\\0\\0\\0\\0\\0\\0\\0\\0\\0\\0\\0\\0\\0\\0\\0\\0\\0\\0\\0\" > plain_text.txt\n",
    "echo -e \"Plain text: '''$(cat plain_text.txt | hexdump -v -e '/1 \"%02X \"')''' ($(cat plain_text.txt | wc -c) bytes)\"                             | sed -e 's/^/  /'\n",
    "openssl enc -aes-256-ecb -in plain_text.txt -out cipher_text.txt -K $KEY -p                                          | sed -e 's/^/  /'\n",
    "echo -e \"Ciphertexthexdump: '''\\n$(hexdump cipher_text.txt -C)\\n''' ($(cat cipher_text.txt | wc -c) bytes)\"                     | sed -e 's/^/  /'\n",
    "openssl enc -aes-256-ctr -d -in cipher_text.txt -out recovered_plain_text.txt -iv $IV -K $KEY\n",
    "echo -e \"Recovered plaintext: '''\\n$(hexdump recovered_plain_text.txt)\\n''' ($(cat recovered_plain_text.txt | wc -c) bytes)\" | sed -e 's/^/  /'\n"
   ]
  },
  {
   "cell_type": "markdown",
   "metadata": {},
   "source": [
    "Несложно догадаться, что в Case 1 добавляется 16 байт метаинформации. И в этих байтах легко узнается наша соль и слово `Salted__`.\n",
    "\n",
    "А в Case 2 ничего не добавляется (длина не увеличивается по сравнению с plaintext). Так что судя по всему там просто xor со сгенерированным шифроблокнотом\n",
    "\n",
    "Case 3 просто извращенный пример: первый блок текста $P_0$ шифруется в режиме ECB, получается $E_k(P_0)$. А потом декодируется в режиме CTR (с IV=0), получается $E_k(P_0)$ ^ $E_k(0)$. А так как $P_0$ в примере сам равен 0, то получается, что $E_k(P_0)$ ^ $E_k(0) = E_k(0)$ ^ $E_k(0) = 0$. То есть удачненько так расшифрованное совпало с исходным текстом :) Это вообще не то, что может пригодиться на практике, просто забавный примерчик."
   ]
  },
  {
   "cell_type": "code",
   "execution_count": null,
   "metadata": {},
   "outputs": [],
   "source": [
    "!openssl rand -base64 30"
   ]
  },
  {
   "cell_type": "markdown",
   "metadata": {},
   "source": [
    "## Имитовставка\n",
    "\n",
    "Шифроблокноты хорошо защищают текст, от того, чтобы злоумышленник смог этот текст узнать. Но что если злоумышленник и так знает текст (документ с размерами зарплат), и его цель подменить там одно число? Тогда ему не нужно расшифровывать документ, он может его перехватить, инвертировать один бит в нужном месте и отправить дальше.\n",
    "\n",
    "Бороться с этим можно хемсуммой. При этом не простой (чтобы злоумышленник не мог ее пересчитать), а параметризованной ключом шифрования. Такая хешсумма называется имитовставкой."
   ]
  },
  {
   "cell_type": "markdown",
   "metadata": {},
   "source": [
    "##  <a name=\"asymmetric\"></a>  Acимметричное шифрование\n",
    "\n",
    "В симметричном шифровании у отправителя и получателя должен быть общий секрет. А что делать если его нет? Использовать асимметричное шифрование!\n",
    "\n",
    "Обычно применяется для обмена некоторой метаинформацией и получения общего секрета.\n"
   ]
  },
  {
   "cell_type": "markdown",
   "metadata": {},
   "source": [
    "### Протокол Диффи-Хеллмана\n",
    "\n",
    "Допустим два агента хотят пообщаться, но у них нет общего ключа и их могу прослушивать. Что делать?\n",
    "\n",
    "Использовать труднорешаемую задачу :)\n",
    "\n",
    "Например, это может быть задача дискретного логарифмирования (взятия логарифма в кольце по модулю).\n",
    "\n",
    "Тогда агенты A и B могут сообща выбрать основание $x$ (через незащищенный канал), потом раздельно выбрать случайные числа $a$, $b$. Возвести $x$ в эти степени и обменяться полученными $x^a$, $x^b$ через незащищенный канал.\n",
    "\n",
    "Фокус в том, что сейчас люди не умеют по $x$ и $x^a$ находить $a$. Так что $x^a$ передавать безопасно.\n",
    "\n",
    "А дальше второй фокус: агент A может сделать $(x^b)^a = x^{(a \\cdot b)}$, а агент B - $(x^a)^b = x^{(a \\cdot b)}$. И получается, что у A и B есть общий секрет. А злоумышленник имея только $x, x^b, x^a$ не может получить $x^{(a \\cdot b)}$.\n",
    "\n",
    "https://ru.wikipedia.org/wiki/Протокол_Диффи_—_Хеллмана"
   ]
  },
  {
   "cell_type": "markdown",
   "metadata": {},
   "source": [
    "### RSA \n",
    "\n",
    "(Rivest, Shamir и Adleman)\n",
    "\n",
    "https://ru.wikipedia.org/wiki/RSA#Алгоритм_создания_открытого_и_секретного_ключей"
   ]
  },
  {
   "cell_type": "code",
   "execution_count": 234,
   "metadata": {},
   "outputs": [
    {
     "name": "stdout",
     "output_type": "stream",
     "text": [
      "+++ Alice generate key\n",
      "Generating RSA private key, 2048 bit long modulus\n",
      ".................................................................................................................................................................................................+++\n",
      "..........................................+++\n",
      "e is 65537 (0x10001)\n",
      "writing RSA key\n",
      "Bob → \n",
      "  Bob ciphers message: 'Bob's secret message'\n",
      "  Encrypted message: ZqHFa3tETajZoyUx+yxmi4utzVQaeRTBywtm7sohctBUtI6OYIRF1h5lmjf3KWuUrEM+rEpHeeHu\n",
      "wXEl1aHf+G2kAsxtHl2zwxBhHxF8Y1PFAjEDLZaOFrS9BmeH4Zlz2MtOIlDUeZjR/ejUM4Jvq0ig\n",
      "9LMwed9QLzsZZz9H1pX4CIY1SDMyW/R4FgkvS9lA1RErybIYLUq9wzU04Z0EBXjDm18dkpiU3I/5\n",
      "JJimI767Yxgh8QxYhjK7Xo06fgj+dZ+pIEOAB+QOgPrEQucr6zGmQopOCT5uwnEKjBjDpZzvTf40\n",
      "sPxjqHJpeOXmTS1P/65MpsSx4tmpXIVbmAS4ig==\n",
      "→ Alice\n",
      "  Decrypted message: 'Bob's secret message'\n"
     ]
    }
   ],
   "source": [
    "%%bash\n",
    "\n",
    "echo \"+++ Alice generate key\"\n",
    "openssl genrsa -out alice_private_key 2048 2>&1\n",
    "openssl rsa -in alice_private_key -out alice_public_key -pubout 2>&1\n",
    "\n",
    "echo \"Bob → \"\n",
    "echo -n \"Bob's secret message\" > bobs_plaintext\n",
    "echo \"  Bob ciphers message: '$(cat bobs_plaintext)'\"\n",
    "openssl rsautl -encrypt -pubin -inkey alice_public_key -in bobs_plaintext -out bobs_ciphertext\n",
    "echo \"  Encrypted message: $(base64 bobs_ciphertext)\"\n",
    "\n",
    "echo \"→ Alice\"\n",
    "openssl rsautl -decrypt -inkey alice_private_key -in bobs_ciphertext -out recovered_bobs_plaintext\n",
    "echo \"  Decrypted message: '$(cat recovered_bobs_plaintext)'\""
   ]
  },
  {
   "cell_type": "markdown",
   "metadata": {},
   "source": [
    "В этом примере RSA использовался не по назначению, так как нельзя зашифровать текст, который длиннее ключа. При передаче большого текста, стоило через RSA договориться об общем секрете, а потом передавать большой текст используя блочное шифрование."
   ]
  },
  {
   "cell_type": "markdown",
   "metadata": {},
   "source": [
    "##  <a name=\"libcrypto\"></a>  libcrypto\n",
    "\n",
    "Ссылочки:\n",
    "\n",
    "https://wiki.openssl.org/index.php/Libcrypto_API\n",
    "\n",
    "https://wiki.openssl.org/index.php/EVP_Symmetric_Encryption_and_Decryption - отсюда взят пример\n",
    "\n",
    "https://github.com/openssl/openssl\n",
    "\n",
    "https://www.openssl.org/docs/man1.1.1/\n",
    "\n",
    "И пример с шифрованием-дешифрованием с блочным шифром AES-256 в режиме CTR."
   ]
  },
  {
   "cell_type": "code",
   "execution_count": null,
   "metadata": {},
   "outputs": [],
   "source": [
    "!mkdir libcrypto_example || true"
   ]
  },
  {
   "cell_type": "code",
   "execution_count": 6,
   "metadata": {},
   "outputs": [],
   "source": [
    "%%cmake libcrypto_example/CMakeLists.txt\n",
    "\n",
    "# Первый вариант CMakeLists, в 2019-2020 году у меня работал, в 2020-2021 перестал :)\n",
    "\n",
    "cmake_minimum_required(VERSION 2.8) \n",
    "\n",
    "project(example)\n",
    "\n",
    "set(CMAKE_CXX_FLAGS \"-std=c++17\")\n",
    "\n",
    "find_package(OpenSSL COMPONENTS crypto REQUIRED)\n",
    "\n",
    "add_executable(main main.cpp)\n",
    "# set_property(TARGET main PROPERTY CXX_STANDARD 17)\n",
    "target_include_directories(main PUBLIC ${OPENSSL_INCLUDE_DIR}) \n",
    "target_link_libraries(main ${OPENSSL_CRYPTO_LIBRARY})            "
   ]
  },
  {
   "cell_type": "code",
   "execution_count": 12,
   "metadata": {},
   "outputs": [],
   "source": [
    "%%cmake libcrypto_example/CMakeLists.txt\n",
    "\n",
    "# Второй вариант\n",
    "\n",
    "cmake_minimum_required(VERSION 2.8) \n",
    "\n",
    "project(example)\n",
    "\n",
    "set(CMAKE_CXX_FLAGS \"-std=c++17\")\n",
    "\n",
    "find_package(PkgConfig REQUIRED)\n",
    "pkg_search_module(OPENSSL REQUIRED openssl)\n",
    "message(STATUS \"Using OpenSSL ${OPENSSL_VERSION}\")\n",
    "\n",
    "add_executable(main main.cpp)\n",
    "target_include_directories(main PUBLIC ${OPENSSL_INCLUDE_DIRS})\n",
    "target_link_libraries(main ${OPENSSL_LIBRARIES})"
   ]
  },
  {
   "cell_type": "code",
   "execution_count": 13,
   "metadata": {
    "scrolled": false
   },
   "outputs": [
    {
     "data": {
      "text/markdown": [
       "Run: `mkdir libcrypto_example/build`"
      ],
      "text/plain": [
       "<IPython.core.display.Markdown object>"
      ]
     },
     "metadata": {},
     "output_type": "display_data"
    },
    {
     "data": {
      "text/markdown": [
       "Run: `cd libcrypto_example/build && cmake .. 2>&1 > /dev/null && make`"
      ],
      "text/plain": [
       "<IPython.core.display.Markdown object>"
      ]
     },
     "metadata": {},
     "output_type": "display_data"
    },
    {
     "name": "stdout",
     "output_type": "stream",
     "text": [
      "\u001b[35m\u001b[1mScanning dependencies of target main\u001b[0m\n",
      "[ 50%] \u001b[32mBuilding CXX object CMakeFiles/main.dir/main.cpp.o\u001b[0m\n",
      "[100%] \u001b[32m\u001b[1mLinking CXX executable main\u001b[0m\n",
      "[100%] Built target main\n"
     ]
    },
    {
     "data": {
      "text/markdown": [
       "Run: `libcrypto_example/build/main`"
      ],
      "text/plain": [
       "<IPython.core.display.Markdown object>"
      ]
     },
     "metadata": {},
     "output_type": "display_data"
    },
    {
     "name": "stdout",
     "output_type": "stream",
     "text": [
      "Alice →\r\n",
      "  Message to be encrypted: 'The quick brown fox jumps over the lazy dog'\r\n",
      "  Ciphertext is:\r\n",
      "0000 - e9 08 8b 57 6d 25 04 33-e6 56 b0 1d 35 aa 1e 19   ...Wm%.3.V..5...\r\n",
      "0010 - f4 ce 66 b4 b3 b8 4f a2-3c 0b 8c 18 ea 72 49 45   ..f...O.<....rIE\r\n",
      "0020 - 95 1d 44 b3 72 9d b9 5a-20 d0 e2                  ..D.r..Z ..\r\n",
      "→ Bob\r\n",
      "  Decrypted text is: 'The quick brown fox jumps over the lazy dog'\r\n"
     ]
    },
    {
     "data": {
      "text/markdown": [
       "Run: `rm -r libcrypto_example/build`"
      ],
      "text/plain": [
       "<IPython.core.display.Markdown object>"
      ]
     },
     "metadata": {},
     "output_type": "display_data"
    }
   ],
   "source": [
    "%%cpp libcrypto_example/main.cpp\n",
    "%run mkdir libcrypto_example/build \n",
    "%run cd libcrypto_example/build && cmake .. 2>&1 > /dev/null && make\n",
    "%run libcrypto_example/build/main \n",
    "%run rm -r libcrypto_example/build\n",
    "\n",
    "#include <openssl/conf.h>\n",
    "#include <openssl/evp.h>\n",
    "#include <openssl/err.h>\n",
    "#include <string.h>\n",
    "#include <assert.h>\n",
    "#include <vector>\n",
    "#include <iostream>\n",
    "#include <array>\n",
    "\n",
    "#define EVP_ASSERT(stmt) do { if (!(stmt)) { \\\n",
    "    fprintf(stderr, \"Statement failed: %s\\n\", #stmt); \\\n",
    "    ERR_print_errors_fp(stderr); \\\n",
    "    abort(); \\\n",
    "} } while (false)\n",
    "\n",
    "struct TByteString: std::vector<unsigned char> {\n",
    "    using std::vector<unsigned char>::vector;\n",
    "    int ssize() { return static_cast<int>(size()); }\n",
    "    char* SignedData() { return reinterpret_cast<char*>(data()); };\n",
    "};\n",
    "\n",
    "TByteString operator \"\" _b(const char* data, std::size_t len) {\n",
    "    auto start = reinterpret_cast<const unsigned char*>(data);\n",
    "    return {start, start + len};\n",
    "}\n",
    "\n",
    "template <char ...chars> TByteString operator \"\" _b() {\n",
    "    char hex[] = {chars...};\n",
    "    assert(strncmp(hex, \"0x\", 2) == 0 && sizeof(hex) % 2 == 0);\n",
    "    TByteString result;\n",
    "    for (const char* ch = hex + 2; ch < hex + sizeof(hex); ch += 2) { \n",
    "        result.push_back(std::strtol(std::array<char, 3>{ch[0], ch[1], 0}.data(), nullptr, 16));\n",
    "    }\n",
    "    return result;\n",
    "}\n",
    "\n",
    "\n",
    "TByteString Encrypt(const TByteString& plaintext, const TByteString& key, const TByteString& iv) {\n",
    "    TByteString ciphertext(plaintext.size(), 0); // Верно для режима CTR, для остальных может быть не так\n",
    "     \n",
    "    auto* ctx = EVP_CIPHER_CTX_new();\n",
    "    EVP_ASSERT(ctx);\n",
    "\n",
    "    assert(key.size() * 8 == 256); // check key size for aes_256\n",
    "    assert(iv.size() * 8 == 128); // check iv size for cipher with block size of 128 bits\n",
    "    EVP_ASSERT(1 == EVP_EncryptInit_ex(ctx, EVP_aes_256_ctr(), NULL, key.data(), iv.data()));\n",
    "\n",
    "    int len;\n",
    "    // В эту функцию можно передавать исходный текст по частям, выход так же пишется по частям\n",
    "    EVP_ASSERT(1 == EVP_EncryptUpdate(ctx, ciphertext.data(), &len, plaintext.data(), plaintext.size()));\n",
    "    // В конце что-то могло остаться в буфере ctx и это нужно дописать\n",
    "    EVP_ASSERT(1 == EVP_EncryptFinal_ex(ctx, ciphertext.data() + len, &len));\n",
    "    \n",
    "    EVP_CIPHER_CTX_free(ctx);\n",
    "    return ciphertext;\n",
    "}\n",
    "\n",
    "TByteString Decrypt(const TByteString& ciphertext, const TByteString& key, const TByteString& iv) {\n",
    "    TByteString plaintext(ciphertext.size(), 0);\n",
    "    \n",
    "    auto* ctx = EVP_CIPHER_CTX_new();\n",
    "    EVP_ASSERT(ctx);\n",
    "    \n",
    "    assert(key.size() * 8 == 256); // check key size for aes_256\n",
    "    assert(iv.size() * 8 == 128); // check iv size for cipher with block size of 128 bits\n",
    "    EVP_ASSERT(1 == EVP_DecryptInit_ex(ctx, EVP_aes_256_ctr(), NULL, key.data(), iv.data()));\n",
    "\n",
    "    int len;\n",
    "    EVP_ASSERT(1 == EVP_DecryptUpdate(ctx, plaintext.data(), &len, ciphertext.data(), ciphertext.size()));\n",
    "    EVP_ASSERT(1 == EVP_DecryptFinal_ex(ctx, plaintext.data() + len, &len));\n",
    "    \n",
    "    EVP_CIPHER_CTX_free(ctx);\n",
    "    return plaintext;\n",
    "}\n",
    "\n",
    "int main () {\n",
    "    TByteString key = 0x0123456789ABCDEF0123456789ABCDEF0123456789ABCDEF0123456789ABCDEF_b; // A 256 bit key (common secret)\n",
    "    TByteString iv = 0xFEDCBA9876543210FEDCBA9876543210_b; // A 128 bit IV (initialization vector, can be public)\n",
    "    \n",
    "    printf(\"Alice →\\n\");\n",
    "    TByteString plaintext = \"The quick brown fox jumps over the lazy dog\"_b; // Message to be encrypted\n",
    "    printf(\"  Message to be encrypted: '%.*s'\\n\", plaintext.ssize(), plaintext.SignedData());\n",
    "    TByteString ciphertext = Encrypt(plaintext, key, iv); // Encrypt the plaintext\n",
    "    printf(\"  Ciphertext is:\\n\");\n",
    "    BIO_dump_fp(stdout, ciphertext.SignedData(), ciphertext.size()); // Just pretty output\n",
    "    \n",
    "    printf(\"→ Bob\\n\");\n",
    "    TByteString decryptedText = Decrypt(ciphertext, key, iv); // Decrypt the ciphertext\n",
    "\n",
    "    printf(\"  Decrypted text is: '%.*s'\\n\", decryptedText.ssize(), decryptedText.SignedData());\n",
    "    return 0;\n",
    "}"
   ]
  },
  {
   "cell_type": "markdown",
   "metadata": {},
   "source": [
    "Воспроизведем тот же шифротекст с помощью консольной тулзы. (hex-представление key и iv скопировано из предыдущего примера)"
   ]
  },
  {
   "cell_type": "code",
   "execution_count": 14,
   "metadata": {},
   "outputs": [
    {
     "name": "stdout",
     "output_type": "stream",
     "text": [
      "00000000  e9 08 8b 57 6d 25 04 33  e6 56 b0 1d 35 aa 1e 19  |...Wm%.3.V..5...|\n",
      "00000010  f4 ce 66 b4 b3 b8 4f a2  3c 0b 8c 18 ea 72 49 45  |..f...O.<....rIE|\n",
      "00000020  95 1d 44 b3 72 9d b9 5a  20 d0 e2                 |..D.r..Z ..|\n",
      "0000002b\n"
     ]
    }
   ],
   "source": [
    "%%bash\n",
    "KEY=0123456789ABCDEF0123456789ABCDEF0123456789ABCDEF0123456789ABCDEF\n",
    "IV=FEDCBA9876543210FEDCBA9876543210\n",
    "\n",
    "echo -n 'The quick brown fox jumps over the lazy dog' | openssl enc -e -aes-256-ctr -K $KEY -iv $IV | hexdump -C"
   ]
  },
  {
   "cell_type": "code",
   "execution_count": null,
   "metadata": {},
   "outputs": [],
   "source": []
  },
  {
   "cell_type": "code",
   "execution_count": null,
   "metadata": {},
   "outputs": [],
   "source": []
  },
  {
   "cell_type": "markdown",
   "metadata": {},
   "source": [
    "# <a name=\"hw\"></a> Комментарии к ДЗ\n",
    "\n",
    "* Не путайте режимы шифрования\n",
    "* Откуда взять соль? Зашифруйте что-нибудь с помощью тулзы, явно указав соль, и откройте зашифрованный файлик hexdump'ом с ascii колонкой. Ответ станет очевидным\n",
    "* Не выводите бинарные данные в терминал (результаты шифрования), а то можете удивиться. Лучше использовать hexdump: `echo 'suppose_it_is_binary_data' | hexdump -C`\n",
    "* Частая ошибка: использование опции `-a` для генерации шифротекста.\n",
    "* \n",
    "```cpp\n",
    "EVP_CIPHER_key_length(...)\n",
    "EVP_CIPHER_iv_length(...)\n",
    "```"
   ]
  },
  {
   "cell_type": "code",
   "execution_count": null,
   "metadata": {},
   "outputs": [],
   "source": []
  },
  {
   "cell_type": "code",
   "execution_count": null,
   "metadata": {},
   "outputs": [],
   "source": []
  }
 ],
 "metadata": {
  "kernelspec": {
   "display_name": "Python 3",
   "language": "python",
   "name": "python3"
  },
  "language_info": {
   "codemirror_mode": {
    "name": "ipython",
    "version": 3
   },
   "file_extension": ".py",
   "mimetype": "text/x-python",
   "name": "python",
   "nbconvert_exporter": "python",
   "pygments_lexer": "ipython3",
   "version": "3.8.5"
  }
 },
 "nbformat": 4,
 "nbformat_minor": 2
}
