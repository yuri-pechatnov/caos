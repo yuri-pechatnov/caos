{
 "cells": [
  {
   "cell_type": "code",
   "execution_count": 1,
   "metadata": {
    "scrolled": false
   },
   "outputs": [
    {
     "data": {
      "application/javascript": [
       "// setup cpp code highlighting\n",
       "IPython.CodeCell.options_default.highlight_modes[\"text/x-c++src\"] = {'reg':[/^%%cpp/]} ;IPython.CodeCell.options_default.highlight_modes[\"text/x-cmake\"] = {'reg':[/^%%cmake/]} ;"
      ],
      "text/plain": [
       "<IPython.core.display.Javascript object>"
      ]
     },
     "metadata": {},
     "output_type": "display_data"
    },
    {
     "data": {
      "text/html": [
       "<!-- YANDEX_METRICA_BEGIN -->\n",
       "    <script type=\"text/javascript\" >\n",
       "       (function(m,e,t,r,i,k,a){m[i]=m[i]||function(){(m[i].a=m[i].a||[]).push(arguments)};\n",
       "       m[i].l=1*new Date();k=e.createElement(t),a=e.getElementsByTagName(t)[0],k.async=1,k.src=r,a.parentNode.insertBefore(k,a)})\n",
       "       (window, document, \"script\", \"https://mc.yandex.ru/metrika/tag.js\", \"ym\");\n",
       "\n",
       "       ym(59260609, \"init\", {\n",
       "            clickmap:true,\n",
       "            trackLinks:true,\n",
       "            accurateTrackBounce:true\n",
       "       });\n",
       "    </script>\n",
       "    <noscript><div><img src=\"https://mc.yandex.ru/watch/59260609\" style=\"position:absolute; left:-9999px;\" alt=\"\" /></div></noscript>\n",
       "    <!-- YANDEX_METRICA_END -->"
      ],
      "text/plain": [
       "<IPython.core.display.HTML object>"
      ]
     },
     "metadata": {},
     "output_type": "display_data"
    },
    {
     "data": {
      "text/html": [
       "В этот ноутбук встроен код Яндекс Метрики для сбора статистики использований. Если вы не хотите, чтобы по вам собиралась статистика, исправьте: yandex_metrica_allowed = False<!-- MAGICS_SETUP_PRINTING_END -->"
      ],
      "text/plain": [
       "<IPython.core.display.HTML object>"
      ]
     },
     "metadata": {},
     "output_type": "display_data"
    }
   ],
   "source": [
    "# look at tools/set_up_magics.ipynb\n",
    "yandex_metrica_allowed = True ; get_ipython().run_cell('# one_liner_str\\n\\nget_ipython().run_cell_magic(\\'javascript\\', \\'\\', \\n    \\'// setup cpp code highlighting\\\\n\\'\\n    \\'IPython.CodeCell.options_default.highlight_modes[\"text/x-c++src\"] = {\\\\\\'reg\\\\\\':[/^%%cpp/]} ;\\'\\n    \\'IPython.CodeCell.options_default.highlight_modes[\"text/x-cmake\"] = {\\\\\\'reg\\\\\\':[/^%%cmake/]} ;\\'\\n)\\n\\n# creating magics\\nfrom IPython.core.magic import register_cell_magic, register_line_magic\\nfrom IPython.display import display, Markdown, HTML\\nimport argparse\\nfrom subprocess import Popen, PIPE\\nimport random\\nimport sys\\nimport os\\nimport re\\nimport signal\\nimport shutil\\nimport shlex\\nimport glob\\nimport time\\n\\n@register_cell_magic\\ndef save_file(args_str, cell, line_comment_start=\"#\"):\\n    parser = argparse.ArgumentParser()\\n    parser.add_argument(\"fname\")\\n    parser.add_argument(\"--ejudge-style\", action=\"store_true\")\\n    args = parser.parse_args(args_str.split())\\n    \\n    cell = cell if cell[-1] == \\'\\\\n\\' or args.no_eof_newline else cell + \"\\\\n\"\\n    cmds = []\\n    with open(args.fname, \"w\") as f:\\n        f.write(line_comment_start + \" %%cpp \" + args_str + \"\\\\n\")\\n        for line in cell.split(\"\\\\n\"):\\n            line_to_write = (line if not args.ejudge_style else line.rstrip()) + \"\\\\n\"\\n            if line.startswith(\"%\"):\\n                run_prefix = \"%run \"\\n                if line.startswith(run_prefix):\\n                    cmds.append(line[len(run_prefix):].strip())\\n                    f.write(line_comment_start + \" \" + line_to_write)\\n                    continue\\n                if line.startswith(\"%\" + line_comment_start + \" \"):\\n                    f.write(line_comment_start + \" \" + line_to_write)\\n                    continue\\n                raise Exception(\"Unknown %%save_file subcommand: \\'%s\\'\" % line)\\n            else:\\n                f.write(line_to_write)\\n        f.write(\"\" if not args.ejudge_style else line_comment_start + r\" line without \\\\n\")\\n    for cmd in cmds:\\n        display(Markdown(\"Run: `%s`\" % cmd))\\n        get_ipython().system(cmd)\\n\\n@register_cell_magic\\ndef cpp(fname, cell):\\n    save_file(fname, cell, \"//\")\\n    \\n@register_cell_magic\\ndef cmake(fname, cell):\\n    save_file(fname, cell, \"#\")\\n\\n@register_cell_magic\\ndef asm(fname, cell):\\n    save_file(fname, cell, \"//\")\\n    \\n@register_cell_magic\\ndef makefile(fname, cell):\\n    fname = fname or \"makefile\"\\n    assert fname.endswith(\"makefile\")\\n    save_file(fname, cell.replace(\" \" * 4, \"\\\\t\"))\\n        \\n@register_line_magic\\ndef p(line):\\n    line = line.strip() \\n    if line[0] == \\'#\\':\\n        display(Markdown(line[1:].strip()))\\n    else:\\n        try:\\n            expr, comment = line.split(\" #\")\\n            display(Markdown(\"`{} = {}`  # {}\".format(expr.strip(), eval(expr), comment.strip())))\\n        except:\\n            display(Markdown(\"{} = {}\".format(line, eval(line))))\\n    \\n    \\ndef show_log_file(file, return_html_string=False):\\n    obj = file.replace(\\'.\\', \\'_\\').replace(\\'/\\', \\'_\\') + \"_obj\"\\n    html_string = \\'\\'\\'\\n        <!--MD_BEGIN_FILTER-->\\n        <script type=text/javascript>\\n        var entrance___OBJ__ = 0;\\n        var errors___OBJ__ = 0;\\n        function halt__OBJ__(elem, color)\\n        {\\n            elem.setAttribute(\"style\", \"font-size: 14px; background: \" + color + \"; padding: 10px; border: 3px; border-radius: 5px; color: white; \");                    \\n        }\\n        function refresh__OBJ__()\\n        {\\n            entrance___OBJ__ -= 1;\\n            if (entrance___OBJ__ < 0) {\\n                entrance___OBJ__ = 0;\\n            }\\n            var elem = document.getElementById(\"__OBJ__\");\\n            if (elem) {\\n                var xmlhttp=new XMLHttpRequest();\\n                xmlhttp.onreadystatechange=function()\\n                {\\n                    var elem = document.getElementById(\"__OBJ__\");\\n                    console.log(!!elem, xmlhttp.readyState, xmlhttp.status, entrance___OBJ__);\\n                    if (elem && xmlhttp.readyState==4) {\\n                        if (xmlhttp.status==200)\\n                        {\\n                            errors___OBJ__ = 0;\\n                            if (!entrance___OBJ__) {\\n                                if (elem.innerHTML != xmlhttp.responseText) {\\n                                    elem.innerHTML = xmlhttp.responseText;\\n                                }\\n                                if (elem.innerHTML.includes(\"Process finished.\")) {\\n                                    halt__OBJ__(elem, \"#333333\");\\n                                } else {\\n                                    entrance___OBJ__ += 1;\\n                                    console.log(\"req\");\\n                                    window.setTimeout(\"refresh__OBJ__()\", 300); \\n                                }\\n                            }\\n                            return xmlhttp.responseText;\\n                        } else {\\n                            errors___OBJ__ += 1;\\n                            if (!entrance___OBJ__) {\\n                                if (errors___OBJ__ < 6) {\\n                                    entrance___OBJ__ += 1;\\n                                    console.log(\"req\");\\n                                    window.setTimeout(\"refresh__OBJ__()\", 300); \\n                                } else {\\n                                    halt__OBJ__(elem, \"#994444\");\\n                                }\\n                            }\\n                        }\\n                    }\\n                }\\n                xmlhttp.open(\"GET\", \"__FILE__\", true);\\n                xmlhttp.setRequestHeader(\"Cache-Control\", \"no-cache\");\\n                xmlhttp.send();     \\n            }\\n        }\\n        \\n        if (!entrance___OBJ__) {\\n            entrance___OBJ__ += 1;\\n            refresh__OBJ__(); \\n        }\\n        </script>\\n\\n        <p id=\"__OBJ__\" style=\"font-size: 14px; background: #000000; padding: 10px; border: 3px; border-radius: 5px; color: white; \">\\n        </p>\\n        \\n        </font>\\n        <!--MD_END_FILTER-->\\n        <!--MD_FROM_FILE __FILE__.md -->\\n        \\'\\'\\'.replace(\"__OBJ__\", obj).replace(\"__FILE__\", file)\\n    if return_html_string:\\n        return html_string\\n    display(HTML(html_string))\\n\\n    \\nclass TInteractiveLauncher:\\n    tmp_path = \"./interactive_launcher_tmp\"\\n    def __init__(self, cmd):\\n        try:\\n            os.mkdir(TInteractiveLauncher.tmp_path)\\n        except:\\n            pass\\n        name = str(random.randint(0, 1e18))\\n        self.inq_path = os.path.join(TInteractiveLauncher.tmp_path, name + \".inq\")\\n        self.log_path = os.path.join(TInteractiveLauncher.tmp_path, name + \".log\")\\n        \\n        os.mkfifo(self.inq_path)\\n        open(self.log_path, \\'w\\').close()\\n        open(self.log_path + \".md\", \\'w\\').close()\\n\\n        self.pid = os.fork()\\n        if self.pid == -1:\\n            print(\"Error\")\\n        if self.pid == 0:\\n            exe_cands = glob.glob(\"../tools/launcher.py\") + glob.glob(\"../../tools/launcher.py\")\\n            assert(len(exe_cands) == 1)\\n            assert(os.execvp(\"python3\", [\"python3\", exe_cands[0], \"-l\", self.log_path, \"-i\", self.inq_path, \"-c\", cmd]) == 0)\\n        self.inq_f = open(self.inq_path, \"w\")\\n        interactive_launcher_opened_set.add(self.pid)\\n        show_log_file(self.log_path)\\n\\n    def write(self, s):\\n        s = s.encode()\\n        assert len(s) == os.write(self.inq_f.fileno(), s)\\n        \\n    def get_pid(self):\\n        n = 100\\n        for i in range(n):\\n            try:\\n                return int(re.findall(r\"PID = (\\\\d+)\", open(self.log_path).readline())[0])\\n            except:\\n                if i + 1 == n:\\n                    raise\\n                time.sleep(0.1)\\n        \\n    def input_queue_path(self):\\n        return self.inq_path\\n        \\n    def wait_stop(self, timeout):\\n        for i in range(int(timeout * 10)):\\n            wpid, status = os.waitpid(self.pid, os.WNOHANG)\\n            if wpid != 0:\\n                return True\\n            time.sleep(0.1)\\n        return False\\n        \\n    def close(self, timeout=3):\\n        self.inq_f.close()\\n        if not self.wait_stop(timeout):\\n            os.kill(self.get_pid(), signal.SIGKILL)\\n            os.waitpid(self.pid, 0)\\n        os.remove(self.inq_path)\\n        # os.remove(self.log_path)\\n        self.inq_path = None\\n        self.log_path = None \\n        interactive_launcher_opened_set.remove(self.pid)\\n        self.pid = None\\n        \\n    @staticmethod\\n    def terminate_all():\\n        if \"interactive_launcher_opened_set\" not in globals():\\n            globals()[\"interactive_launcher_opened_set\"] = set()\\n        global interactive_launcher_opened_set\\n        for pid in interactive_launcher_opened_set:\\n            print(\"Terminate pid=\" + str(pid), file=sys.stderr)\\n            os.kill(pid, signal.SIGKILL)\\n            os.waitpid(pid, 0)\\n        interactive_launcher_opened_set = set()\\n        if os.path.exists(TInteractiveLauncher.tmp_path):\\n            shutil.rmtree(TInteractiveLauncher.tmp_path)\\n    \\nTInteractiveLauncher.terminate_all()\\n   \\nyandex_metrica_allowed = bool(globals().get(\"yandex_metrica_allowed\", False))\\nif yandex_metrica_allowed:\\n    display(HTML(\\'\\'\\'<!-- YANDEX_METRICA_BEGIN -->\\n    <script type=\"text/javascript\" >\\n       (function(m,e,t,r,i,k,a){m[i]=m[i]||function(){(m[i].a=m[i].a||[]).push(arguments)};\\n       m[i].l=1*new Date();k=e.createElement(t),a=e.getElementsByTagName(t)[0],k.async=1,k.src=r,a.parentNode.insertBefore(k,a)})\\n       (window, document, \"script\", \"https://mc.yandex.ru/metrika/tag.js\", \"ym\");\\n\\n       ym(59260609, \"init\", {\\n            clickmap:true,\\n            trackLinks:true,\\n            accurateTrackBounce:true\\n       });\\n    </script>\\n    <noscript><div><img src=\"https://mc.yandex.ru/watch/59260609\" style=\"position:absolute; left:-9999px;\" alt=\"\" /></div></noscript>\\n    <!-- YANDEX_METRICA_END -->\\'\\'\\'))\\n\\ndef make_oneliner():\\n    html_text = \\'(\"В этот ноутбук встроен код Яндекс Метрики для сбора статистики использований. Если вы не хотите, чтобы по вам собиралась статистика, исправьте: yandex_metrica_allowed = False\" if yandex_metrica_allowed else \"\")\\'\\n    html_text += \\' + \"<\"\"!-- MAGICS_SETUP_PRINTING_END -->\"\\'\\n    return \\'\\'.join([\\n        \\'# look at tools/set_up_magics.ipynb\\\\n\\',\\n        \\'yandex_metrica_allowed = True ; get_ipython().run_cell(%s);\\' % repr(one_liner_str),\\n        \\'display(HTML(%s))\\' % html_text,\\n        \\' #\\'\\'MAGICS_SETUP_END\\'\\n    ])\\n       \\n\\n');display(HTML((\"В этот ноутбук встроен код Яндекс Метрики для сбора статистики использований. Если вы не хотите, чтобы по вам собиралась статистика, исправьте: yandex_metrica_allowed = False\" if yandex_metrica_allowed else \"\") + \"<\"\"!-- MAGICS_SETUP_PRINTING_END -->\")) #MAGICS_SETUP_END"
   ]
  },
  {
   "cell_type": "markdown",
   "metadata": {},
   "source": [
    "# CMake & Python bindings\n",
    "\n",
    "<table width=100%  > <tr>\n",
    "    <th width=15%> <b>Видео с семинара &rarr; </b> </th>\n",
    "    <th>\n",
    "    <a href=\"https://www.youtube.com/watch?v=ingtnOf69KI&list=PLjzMm8llUm4AmU6i_hPU0NobgA4VsBowc&index=3\"><img src=\"video.png\" width=\"320\" \n",
    "   height=\"160\" align=\"left\" alt=\"Видео с семинара\"></a>\n",
    "    </th>\n",
    "    <th> </th>\n",
    "</tr> </table>\n",
    "\n",
    "Сегодня в программе:\n",
    "* <a href=\"#cmake\" style=\"color:#856024\"> CMake что зачем и почему </a>\n",
    "* Пишем модули для python (<a href=\"#why\" style=\"color:#856024\">а зачем это нужно?</a>):\n",
    "  * <a href=\"#api\" style=\"color:#856024\"> Используя Python/C API </a>\n",
    "  <br> Документация по api: https://docs.python.org/3/c-api/index.html\n",
    "  * <a href=\"#ctypes\" style=\"color:#856024\"> Используя ctypes </a>\n",
    "  * <a href=\"#cython\" style=\"color:#856024\"> Используя Cython </a>\n",
    "  * <a href=\"#pybind\" style=\"color:#856024\"> Используя Pybind </a>\n",
    "* <a href=\"#use_interpreter\" style=\"color:#856024\"> Исползуем интерпретатор Python из C </a>\n",
    " \n",
    "[CPython на wiki](https://ru.wikipedia.org/wiki/CPython) (Не путать с Cython!)\n",
    "\n",
    "\n",
    "[GIL](https://habr.com/ru/post/84629/) - почему многопоточность в pyhton это не многопоточность.\n",
    "\n",
    "[Ссылки в python и соглашения об инкременте/декременте их счетчиков](https://pythonextensionpatterns.readthedocs.io/en/latest/refcount.html#python-terminology)\n",
    "\n",
    "[Ридинг Яковлева про CMake](https://github.com/victor-yacovlev/mipt-diht-caos/blob/master/practice/linux_basics/cmake.md)\n",
    "<br> [Ридинг Яковлева про Python](https://github.com/victor-yacovlev/mipt-diht-caos/tree/master/practice/python)\n",
    "\n",
    "  \n",
    "<a href=\"#hw\" style=\"color:#856024\">Комментарии к ДЗ</a>\n",
    "\n"
   ]
  },
  {
   "cell_type": "markdown",
   "metadata": {},
   "source": [
    "# <a name=\"cmake\"></a> CMake\n",
    "Установка: `apt-get install cmake cmake-extras`\n",
    "\n",
    "Решает задачу кроссплатформенной сборки\n",
    "\n",
    "* Фронтенд для систем непосредственно занимающихся сборкой\n",
    "* cmake хорошо интегрирован с многими IDE \n",
    "* CMakeLists.txt в корне дерева исходников - главный конфигурационный файл и главный индикатор того, что проект собирается с помощью cmake\n",
    "\n",
    "Примеры:\n",
    "* <a href=\"#cmake_simple\" style=\"color:#856024\"> Простой пример </a>\n",
    "* <a href=\"#cmake_python\" style=\"color:#856024\"> Пример с python </a>\n",
    "\n",
    "[Введение в CMake / Хабр](https://habr.com/ru/post/155467/)"
   ]
  },
  {
   "cell_type": "markdown",
   "metadata": {},
   "source": [
    "### <a name=\"cmake_simple\"></a> Простой пример c CMake\n",
    "\n",
    "Подойдем к нему постепенно:\n",
    "1. g++\n",
    "2. make\n",
    "3. cmake"
   ]
  },
  {
   "cell_type": "markdown",
   "metadata": {},
   "source": [
    "### 1."
   ]
  },
  {
   "cell_type": "code",
   "execution_count": 201,
   "metadata": {},
   "outputs": [],
   "source": [
    "!mkdir simple_cmake_example 2>&1 | grep -v \"File exists\" || true"
   ]
  },
  {
   "cell_type": "code",
   "execution_count": 202,
   "metadata": {},
   "outputs": [],
   "source": [
    "%%cpp simple_cmake_example/main.cpp\n",
    "\n",
    "#include <iostream>\n",
    "int main(int argc, char** argv)\n",
    "{\n",
    "    std::cout << \"Hello, World!\" << std::endl;\n",
    "    return 0;\n",
    "}"
   ]
  },
  {
   "cell_type": "code",
   "execution_count": 203,
   "metadata": {
    "scrolled": true
   },
   "outputs": [
    {
     "name": "stdout",
     "output_type": "stream",
     "text": [
      "Hello, World!\r\n"
     ]
    }
   ],
   "source": [
    "!cd simple_cmake_example && g++ main.cpp -o main.exe && ./main.exe "
   ]
  },
  {
   "cell_type": "markdown",
   "metadata": {},
   "source": [
    "### 2."
   ]
  },
  {
   "cell_type": "code",
   "execution_count": 204,
   "metadata": {},
   "outputs": [],
   "source": [
    "!mkdir make_example 2>&1 | grep -v \"File exists\" || true\n",
    "!cp ./simple_cmake_example/main.cpp ./make_example/main.cpp"
   ]
  },
  {
   "cell_type": "code",
   "execution_count": 205,
   "metadata": {},
   "outputs": [],
   "source": [
    "%%makefile make_example/makefile\n",
    "\n",
    "main.exe: main.cpp\n",
    "    echo \"Run goal main.exe\"\n",
    "    g++ main.cpp -o main.exe\n",
    "    \n",
    "run: main.exe\n",
    "    ./main.exe"
   ]
  },
  {
   "cell_type": "code",
   "execution_count": 206,
   "metadata": {},
   "outputs": [
    {
     "name": "stdout",
     "output_type": "stream",
     "text": [
      "echo \"Run goal main.exe\"\n",
      "Run goal main.exe\n",
      "g++ main.cpp -o main.exe\n",
      "./main.exe\n",
      "Hello, World!\n"
     ]
    }
   ],
   "source": [
    "!cd make_example && make run"
   ]
  },
  {
   "cell_type": "code",
   "execution_count": 207,
   "metadata": {},
   "outputs": [],
   "source": [
    "!rm make_example/main.exe"
   ]
  },
  {
   "cell_type": "markdown",
   "metadata": {},
   "source": [
    "### 3."
   ]
  },
  {
   "cell_type": "code",
   "execution_count": 208,
   "metadata": {},
   "outputs": [
    {
     "data": {
      "text/markdown": [
       "Run: `mkdir simple_cmake_example/build #// cоздаем директорию для файлов сборки`"
      ],
      "text/plain": [
       "<IPython.core.display.Markdown object>"
      ]
     },
     "metadata": {},
     "output_type": "display_data"
    },
    {
     "data": {
      "text/markdown": [
       "Run: `cd simple_cmake_example/build && cmake ..`"
      ],
      "text/plain": [
       "<IPython.core.display.Markdown object>"
      ]
     },
     "metadata": {},
     "output_type": "display_data"
    },
    {
     "name": "stdout",
     "output_type": "stream",
     "text": [
      "-- The C compiler identification is GNU 9.3.0\n",
      "-- The CXX compiler identification is GNU 9.3.0\n",
      "-- Check for working C compiler: /usr/bin/cc\n",
      "-- Check for working C compiler: /usr/bin/cc -- works\n",
      "-- Detecting C compiler ABI info\n",
      "-- Detecting C compiler ABI info - done\n",
      "-- Detecting C compile features\n",
      "-- Detecting C compile features - done\n",
      "-- Check for working CXX compiler: /usr/bin/c++\n",
      "-- Check for working CXX compiler: /usr/bin/c++ -- works\n",
      "-- Detecting CXX compiler ABI info\n",
      "-- Detecting CXX compiler ABI info - done\n",
      "-- Detecting CXX compile features\n",
      "-- Detecting CXX compile features - done\n",
      "-- Configuring done\n",
      "-- Generating done\n",
      "-- Build files have been written to: /home/pechatnov/vbox/caos/sem03-cmake-python-bindings/simple_cmake_example/build\n"
     ]
    },
    {
     "data": {
      "text/markdown": [
       "Run: `ls -la simple_cmake_example/build`"
      ],
      "text/plain": [
       "<IPython.core.display.Markdown object>"
      ]
     },
     "metadata": {},
     "output_type": "display_data"
    },
    {
     "name": "stdout",
     "output_type": "stream",
     "text": [
      "total 40\r\n",
      "drwxrwxr-x 3 pechatnov pechatnov  4096 сен 29 22:54 .\r\n",
      "drwxrwxr-x 3 pechatnov pechatnov  4096 сен 29 22:53 ..\r\n",
      "-rw-rw-r-- 1 pechatnov pechatnov 13988 сен 29 22:54 CMakeCache.txt\r\n",
      "drwxrwxr-x 5 pechatnov pechatnov  4096 сен 29 22:54 CMakeFiles\r\n",
      "-rw-rw-r-- 1 pechatnov pechatnov  1600 сен 29 22:54 cmake_install.cmake\r\n",
      "-rw-rw-r-- 1 pechatnov pechatnov  4952 сен 29 22:54 Makefile\r\n"
     ]
    },
    {
     "data": {
      "text/markdown": [
       "Run: `cd simple_cmake_example/build && make`"
      ],
      "text/plain": [
       "<IPython.core.display.Markdown object>"
      ]
     },
     "metadata": {},
     "output_type": "display_data"
    },
    {
     "name": "stdout",
     "output_type": "stream",
     "text": [
      "\u001b[35m\u001b[1mScanning dependencies of target main\u001b[0m\n",
      "[ 50%] \u001b[32mBuilding CXX object CMakeFiles/main.dir/main.cpp.o\u001b[0m\n",
      "[100%] \u001b[32m\u001b[1mLinking CXX executable main\u001b[0m\n",
      "[100%] Built target main\n"
     ]
    },
    {
     "data": {
      "text/markdown": [
       "Run: `ls -la simple_cmake_example/build`"
      ],
      "text/plain": [
       "<IPython.core.display.Markdown object>"
      ]
     },
     "metadata": {},
     "output_type": "display_data"
    },
    {
     "name": "stdout",
     "output_type": "stream",
     "text": [
      "total 60\r\n",
      "drwxrwxr-x 3 pechatnov pechatnov  4096 сен 29 22:54 .\r\n",
      "drwxrwxr-x 3 pechatnov pechatnov  4096 сен 29 22:53 ..\r\n",
      "-rw-rw-r-- 1 pechatnov pechatnov 13988 сен 29 22:54 CMakeCache.txt\r\n",
      "drwxrwxr-x 5 pechatnov pechatnov  4096 сен 29 22:54 CMakeFiles\r\n",
      "-rw-rw-r-- 1 pechatnov pechatnov  1600 сен 29 22:54 cmake_install.cmake\r\n",
      "-rwxrwxr-x 1 pechatnov pechatnov 17312 сен 29 22:54 main\r\n",
      "-rw-rw-r-- 1 pechatnov pechatnov  4952 сен 29 22:54 Makefile\r\n"
     ]
    },
    {
     "data": {
      "text/markdown": [
       "Run: `simple_cmake_example/build/main #// запускаем собранный бинарь`"
      ],
      "text/plain": [
       "<IPython.core.display.Markdown object>"
      ]
     },
     "metadata": {},
     "output_type": "display_data"
    },
    {
     "name": "stdout",
     "output_type": "stream",
     "text": [
      "Hello, World!\r\n"
     ]
    },
    {
     "data": {
      "text/markdown": [
       "Run: `rm -r simple_cmake_example/build`"
      ],
      "text/plain": [
       "<IPython.core.display.Markdown object>"
      ]
     },
     "metadata": {},
     "output_type": "display_data"
    }
   ],
   "source": [
    "%%cmake simple_cmake_example/CMakeLists.txt\n",
    "%run mkdir simple_cmake_example/build #// cоздаем директорию для файлов сборки\n",
    "%# переходим в нее, вызываем cmake, чтобы он создал правильный Makefile\n",
    "%# а затем make, который по Makefile правильно все соберет\n",
    "%run cd simple_cmake_example/build && cmake ..\n",
    "%run ls -la simple_cmake_example/build \n",
    "%run cd simple_cmake_example/build && make\n",
    "%run ls -la simple_cmake_example/build \n",
    "%run simple_cmake_example/build/main #// запускаем собранный бинарь\n",
    "%run rm -r simple_cmake_example/build\n",
    "\n",
    "cmake_minimum_required(VERSION 2.8) # Проверка версии CMake.\n",
    "                                    # Если версия установленой программы\n",
    "                                    # старее указаной, произайдёт аварийный выход.\n",
    "project(simple_cmake_example)\n",
    "\n",
    "add_executable(main main.cpp)       # Создает исполняемый файл с именем main\n",
    "                                    # из исходника main.cpp"
   ]
  },
  {
   "cell_type": "code",
   "execution_count": null,
   "metadata": {},
   "outputs": [],
   "source": []
  },
  {
   "cell_type": "code",
   "execution_count": null,
   "metadata": {},
   "outputs": [],
   "source": []
  },
  {
   "cell_type": "markdown",
   "metadata": {},
   "source": [
    "# Python bindings\n",
    "## <a name=\"why\"></a>  Мотивашка\n",
    "\n",
    "Python сейчас довольно распространенный язык, широко применяемый в машинном обучении, аналитике, во всех местах, где нужно писать скрипты, которые не пишутся очевидным образом на bash...\n",
    "\n",
    "Зачем вообще может понадобиться писать модули для Python на других языках?\n",
    "1. Желание/необходимость переиспользовать библиотеку написанную на другом языке. Не будете же вы писать алгоритм, например, приведения матрицы к нормальной Жордановой форме, на всех используемых в проекте языках?\n",
    "2. Скорость. Если у вас есть код на питоне, то очевидный способ его ускорить - переписать все или критичную часть на более низкоуровневом языке. Переписать большой проект за один подход крайне сложно, поэтому даже в этом случае удобно сначала переписывать отдельные модули.\n",
    "3. Многопоточность. Если вы хотите эффективно распараллелить некоторый объем CPU работы, то в питоне из-за GIL вы это сделать не сможете. Так что придется писать модуль.\n",
    "4. Необходимость совершить низкоуровневые действия, которые нельзя сделать из Python. Например, как-то хитро поделать системные вызовы."
   ]
  },
  {
   "cell_type": "code",
   "execution_count": 209,
   "metadata": {},
   "outputs": [
    {
     "name": "stdout",
     "output_type": "stream",
     "text": [
      "[[3, 4], 4] [[3, 4], 4] [[3, 4]] [[3]]\n"
     ]
    },
    {
     "data": {
      "text/markdown": [
       "(a is b) = True"
      ],
      "text/plain": [
       "<IPython.core.display.Markdown object>"
      ]
     },
     "metadata": {},
     "output_type": "display_data"
    },
    {
     "data": {
      "text/markdown": [
       "(a is c) = False"
      ],
      "text/plain": [
       "<IPython.core.display.Markdown object>"
      ]
     },
     "metadata": {},
     "output_type": "display_data"
    },
    {
     "data": {
      "text/markdown": [
       "(a is d) = False"
      ],
      "text/plain": [
       "<IPython.core.display.Markdown object>"
      ]
     },
     "metadata": {},
     "output_type": "display_data"
    }
   ],
   "source": [
    "import copy\n",
    "\n",
    "a = [[3]]\n",
    "b = a\n",
    "c = list(a)\n",
    "d = copy.deepcopy(a)\n",
    "a.append(4)\n",
    "b[0].append(4)\n",
    "print(a, b, c, d)\n",
    "%p (a is b)\n",
    "%p (a is c)\n",
    "%p (a is d)"
   ]
  },
  {
   "cell_type": "markdown",
   "metadata": {},
   "source": [
    "## Немного про None и nullptr"
   ]
  },
  {
   "cell_type": "code",
   "execution_count": 210,
   "metadata": {},
   "outputs": [],
   "source": [
    "def f():\n",
    "    pass\n",
    "    # что вернет функция f?"
   ]
  },
  {
   "cell_type": "code",
   "execution_count": 211,
   "metadata": {},
   "outputs": [
    {
     "data": {
      "text/plain": [
       "NoneType"
      ]
     },
     "execution_count": 211,
     "metadata": {},
     "output_type": "execute_result"
    }
   ],
   "source": [
    "type(f()) # она вернет None"
   ]
  },
  {
   "cell_type": "markdown",
   "metadata": {},
   "source": [
    "`None` это специальное значение в python. Оно возвращается функциями, которые `void` в терминах C. Оно используется как отсутствие значения в методе `.get` у `dict`:"
   ]
  },
  {
   "cell_type": "code",
   "execution_count": 212,
   "metadata": {},
   "outputs": [
    {
     "data": {
      "text/plain": [
       "NoneType"
      ]
     },
     "execution_count": 212,
     "metadata": {},
     "output_type": "execute_result"
    }
   ],
   "source": [
    "type({\"a\": 1}.get('b'))"
   ]
  },
  {
   "cell_type": "markdown",
   "metadata": {},
   "source": [
    "В общем используется так же, как часто используется `NULL`/`nullptr` в С/С++.\n",
    "\n",
    "Но при этом в Python API `None` это не `NULL`. `None` это специальный синглтон-объект который используется в качестве особого значения. (В реализации красно-черного дерева иногда выделяют специальную вершину nil, тут примерно так же)."
   ]
  },
  {
   "cell_type": "code",
   "execution_count": null,
   "metadata": {},
   "outputs": [],
   "source": []
  },
  {
   "cell_type": "code",
   "execution_count": 213,
   "metadata": {},
   "outputs": [
    {
     "name": "stdout",
     "output_type": "stream",
     "text": [
      "3 2\n"
     ]
    }
   ],
   "source": [
    "def f(a, b):\n",
    "    print(a, b)\n",
    "    \n",
    "f(b=2, a=3)"
   ]
  },
  {
   "cell_type": "code",
   "execution_count": 214,
   "metadata": {},
   "outputs": [
    {
     "name": "stdout",
     "output_type": "stream",
     "text": [
      "(1, 2, 3) {'b': 2, 'g': 5}\n"
     ]
    }
   ],
   "source": [
    "def f(*args, **kwargs):\n",
    "    print(repr(args), repr(kwargs))\n",
    "    \n",
    "f(1, 2, 3, b=2, g=5)"
   ]
  },
  {
   "cell_type": "markdown",
   "metadata": {},
   "source": [
    "## <a name=\"api\"></a> Python/C API\n",
    "\n",
    "Пожалуй, это способ писать самые эффективные биндинги, так как этот способ самый низкоуровневый. Пишем функции для питона на C используя существующее python/c api.\n",
    "\n",
    "Возможно у меня неправильный питон, но с адрес-санитайзером он у меня не дружит, всегда есть множественные утечки памяти. С clang вообще завести не получилось в ряде случаев. Когда получилось завести, отключаю обнаружение утечек.\n",
    "\n",
    "https://habr.com/ru/post/469043/"
   ]
  },
  {
   "cell_type": "code",
   "execution_count": 215,
   "metadata": {},
   "outputs": [
    {
     "name": "stdout",
     "output_type": "stream",
     "text": [
      "-I/usr/include/python3.8 -I/usr/include/python3.8\r\n",
      "-L/usr/lib/python3.8/config-3.8-x86_64-linux-gnu -L/usr/lib  -lcrypt -lpthread -ldl  -lutil -lm -lm \r\n"
     ]
    }
   ],
   "source": [
    "!python3-config --includes --ldflags"
   ]
  },
  {
   "cell_type": "code",
   "execution_count": 216,
   "metadata": {},
   "outputs": [
    {
     "data": {
      "text/markdown": [
       "Run: `gcc -Wall c_api_module.c $(python3-config --includes --ldflags) -shared -fPIC -fsanitize=address -o c_api_module.so`"
      ],
      "text/plain": [
       "<IPython.core.display.Markdown object>"
      ]
     },
     "metadata": {},
     "output_type": "display_data"
    }
   ],
   "source": [
    "%%cpp c_api_module.c\n",
    "%// Собираем модуль - динамическую библиотеку. Включаем нужные пути для инклюдов и динамические библиотеки\n",
    "%run gcc -Wall c_api_module.c $(python3-config --includes --ldflags) -shared -fPIC -fsanitize=address -o c_api_module.so\n",
    "#define PY_SSIZE_T_CLEAN // чтобы на z# не ругалось\n",
    "#include <Python.h>\n",
    "\n",
    "// Парсинг позиционных аргументов в лоб\n",
    "static PyObject* func_1_(PyObject* self, PyObject* args) {\n",
    "    if (PyTuple_Size(args) != 2) {\n",
    "        PyErr_SetString(PyExc_TypeError, \"func_ret_str args error\"); // выставляем ошибку\n",
    "        return NULL; // возвращаем NULL - признак ошибки\n",
    "    }\n",
    "    long int val_i; char *val_s;\n",
    "    // l - long int, s - char*\n",
    "    if (!PyArg_ParseTuple(args, \"ls\", &val_i, &val_s)) {\n",
    "        return NULL;\n",
    "    }\n",
    "    printf(\"func1: int - %ld, string - %s\\n\", val_i, val_s);\n",
    "    return Py_BuildValue(\"ls\", val_i, val_s);\n",
    "}\n",
    "\n",
    "// Умный парсинг args и kwargs\n",
    "static PyObject* func_2(PyObject* self, PyObject* args, PyObject* kwargs) {\n",
    "    static const char* kwlist[] = {\"val_i\", \"val_s\", NULL};\n",
    "    long int val_i = 0; char* val_s = \"\"; Py_ssize_t val_s_len = 0;\n",
    "    // до | обязательные аргументы, l - long int, z# - char* + size_t\n",
    "    if (!PyArg_ParseTupleAndKeywords(args, kwargs, \"l|z#\", (char**)kwlist, &val_i, &val_s, &val_s_len)) {\n",
    "        return NULL; // ошибка уже выставлена функцией PyArg_ParseTupleAndKeywords\n",
    "    }\n",
    "    printf(\"func2: int - %ld, string - %s, string_len = %d\\n\", val_i, val_s, (int)val_s_len);\n",
    "    return Py_BuildValue(\"ls\", val_i, val_s);\n",
    "}\n",
    "\n",
    "// Список функций модуля\n",
    "static PyMethodDef methods[] = {\n",
    "    {\"func_1\", func_1_, METH_VARARGS, \"help func_1\"},\n",
    "    // METH_KEYWORDS - принимает еще и именованные аргументы\n",
    "    {\"func_2\", (PyCFunction)func_2, METH_VARARGS | METH_KEYWORDS, \"help func_2\"},\n",
    "    {NULL, NULL, 0, NULL} // признак конца массива, как \\0 в zero-terminated string\n",
    "};\n",
    "\n",
    "// Описание модуля\n",
    "static struct PyModuleDef mod = {\n",
    "    PyModuleDef_HEAD_INIT, \"c_api_module\", \"Test module\", -1, methods\n",
    "};\n",
    "\n",
    "// Инициализация модуля\n",
    "PyMODINIT_FUNC PyInit_c_api_module(void) {\n",
    "    return PyModule_Create(&mod);\n",
    "}"
   ]
  },
  {
   "cell_type": "markdown",
   "metadata": {},
   "source": [
    "Теперь заиспользуем библиотеку. Обратите внимание, что я для этого запускаю отдельный интерпретатор питона, а не делаю это просто в ячейке ноутбука.\n",
    "\n",
    "Это из-за того, что если модуль с именем `c_api_module` был импортирован, то пусть он даже изменится - повторно его импортировать не получится. Можно каждый раз загружать его под новым именем, но это не очень удобно.\n",
    "\n",
    "Когда будете делать домашку, учитывайте эту особенность."
   ]
  },
  {
   "cell_type": "code",
   "execution_count": 217,
   "metadata": {},
   "outputs": [
    {
     "data": {
      "text/markdown": [
       "Run: `LD_PRELOAD=$(gcc -print-file-name=libasan.so) ASAN_OPTIONS=detect_leaks=0 python3 api_module_example.py | cat`"
      ],
      "text/plain": [
       "<IPython.core.display.Markdown object>"
      ]
     },
     "metadata": {},
     "output_type": "display_data"
    },
    {
     "name": "stdout",
     "output_type": "stream",
     "text": [
      "Help on built-in function func_1 in module c_api_module:\n",
      "\n",
      "func_1(...)\n",
      "    help func_1\n",
      "\n",
      "None\n",
      "(10, '12343')\n",
      "(10, '')\n",
      "(10, '42')\n",
      "(10, '42')\n",
      "func1: int - 10, string - 12343\n",
      "func2: int - 10, string - , string_len = 0\n",
      "func2: int - 10, string - 42, string_len = 2\n",
      "func2: int - 10, string - 42, string_len = 2\n"
     ]
    }
   ],
   "source": [
    "%%save_file api_module_example.py\n",
    "%# Переменные окружения устанавливаются для корректной работы санитайзера\n",
    "%run LD_PRELOAD=$(gcc -print-file-name=libasan.so) ASAN_OPTIONS=detect_leaks=0 python3 api_module_example.py | cat\n",
    "import c_api_module\n",
    "\n",
    "#print(help(c_api_module))\n",
    "\n",
    "print(help(c_api_module.func_1))\n",
    "\n",
    "print(c_api_module.func_1(10, \"12343\"))\n",
    "print(c_api_module.func_2(10))\n",
    "print(c_api_module.func_2(val_s=\"42\", val_i=10))\n",
    "print(c_api_module.func_2(10, val_s=\"42\"))"
   ]
  },
  {
   "cell_type": "code",
   "execution_count": 218,
   "metadata": {},
   "outputs": [
    {
     "name": "stdout",
     "output_type": "stream",
     "text": [
      "/usr/bin/../lib/gcc/x86_64-linux-gnu/9/libasan.so\r\n"
     ]
    }
   ],
   "source": [
    "!echo $(clang -print-file-name=libasan.so)"
   ]
  },
  {
   "cell_type": "code",
   "execution_count": 219,
   "metadata": {
    "scrolled": true
   },
   "outputs": [
    {
     "name": "stdout",
     "output_type": "stream",
     "text": [
      "ls: cannot access '/usr/bin/../lib/gcc/x86_64-linux-gnu/7.4.0/lib*so': No such file or directory\r\n"
     ]
    }
   ],
   "source": [
    "!ls /usr/bin/../lib/gcc/x86_64-linux-gnu/7.4.0/lib*so"
   ]
  },
  {
   "cell_type": "markdown",
   "metadata": {},
   "source": [
    "Пример работы с более сложным типом - словариком. Без санитайзера на этот раз, чтобы хоть где-то были команды компиляции и запуска не усложненные костылями для запуска саниайзера."
   ]
  },
  {
   "cell_type": "code",
   "execution_count": 231,
   "metadata": {},
   "outputs": [
    {
     "data": {
      "text/markdown": [
       "Run: `clang -Wall c_api_module_2.c $(python3-config --includes --ldflags) -shared -fPIC -o c_api_module_2.so`"
      ],
      "text/plain": [
       "<IPython.core.display.Markdown object>"
      ]
     },
     "metadata": {},
     "output_type": "display_data"
    }
   ],
   "source": [
    "%%cpp c_api_module_2.c\n",
    "%run clang -Wall c_api_module_2.c $(python3-config --includes --ldflags) -shared -fPIC -o c_api_module_2.so\n",
    "#include <Python.h>\n",
    "\n",
    "static PyObject* print_dict(PyObject* self, PyObject* args, PyObject* kwargs) {\n",
    "    static const char* kwlist[] = {\"d\", NULL};\n",
    "    PyObject* d;\n",
    "    // O - any object and pass just &d, O! - object of chosen type and pass &PyDict_Type, &d\n",
    "    // O& is also interesting\n",
    "    if (!PyArg_ParseTupleAndKeywords(args, kwargs, \"O!\", (char**)kwlist, &PyDict_Type, &d)) {\n",
    "        return NULL;\n",
    "    }\n",
    "    Py_ssize_t ppos = 0;\n",
    "    PyObject* pkey; PyObject* pvalue;\n",
    "    while (PyDict_Next(d, &ppos, &pkey, &pvalue)) {\n",
    "        const char* key = PyUnicode_AsUTF8(pkey);\n",
    "        if (!key) return NULL;\n",
    "        char value_storage[20];\n",
    "        const char* value = value_storage; \n",
    "        if (PyLong_Check(pvalue)) {\n",
    "            sprintf(value_storage, \"%lld\", PyLong_AsLongLong(pvalue));\n",
    "        } else {\n",
    "            value = PyUnicode_AsUTF8(pvalue);\n",
    "            if (!value) return NULL;\n",
    "        }\n",
    "        \n",
    "        printf(\"%s -> %s\\n\", key, value);\n",
    "    }\n",
    "    printf(\"\\n\");\n",
    "    fflush(stdout);\n",
    "\n",
    "    Py_RETURN_NONE; // Инкрементит счетчик ссылок None и возвращает его\n",
    "}\n",
    "\n",
    "// Список функций модуля\n",
    "static PyMethodDef methods[] = {\n",
    "    {\"print_dict\", (PyCFunction)print_dict, METH_VARARGS | METH_KEYWORDS, \"print_dict\"},\n",
    "    {NULL, NULL, 0, NULL}\n",
    "};\n",
    "\n",
    "// Описание модуля\n",
    "static struct PyModuleDef module = {\n",
    "    PyModuleDef_HEAD_INIT, \"c_api_module_2\", \"Test module\", -1, methods\n",
    "};\n",
    "\n",
    "// Инициализация модуля\n",
    "PyMODINIT_FUNC PyInit_c_api_module_2(void) {\n",
    "    PyObject* mod = PyModule_Create(&module);\n",
    "    return mod;\n",
    "}"
   ]
  },
  {
   "cell_type": "code",
   "execution_count": 232,
   "metadata": {},
   "outputs": [
    {
     "data": {
      "text/markdown": [
       "Run: `LD_PRELOAD=$(gcc -print-file-name=libasan.so) ASAN_OPTIONS=detect_leaks=0 python3 api_module_example.py | cat`"
      ],
      "text/plain": [
       "<IPython.core.display.Markdown object>"
      ]
     },
     "metadata": {},
     "output_type": "display_data"
    },
    {
     "name": "stdout",
     "output_type": "stream",
     "text": [
      "a -> b\n",
      "\n",
      "a -> b\n",
      "f -> 123\n",
      "\n",
      "Traceback (most recent call last):\n",
      "  File \"api_module_example.py\", line 11, in <module>\n",
      "    c_api_module_2.print_dict([1, 2])\n",
      "TypeError: argument 1 must be dict, not list\n"
     ]
    }
   ],
   "source": [
    "%%save_file api_module_example.py\n",
    "%# Переменные окружения устанавливаются для корректной работы санитайзера\n",
    "%run LD_PRELOAD=$(gcc -print-file-name=libasan.so) ASAN_OPTIONS=detect_leaks=0 python3 api_module_example.py | cat\n",
    "import c_api_module_2\n",
    "\n",
    "#print(help(c_api_module))\n",
    "\n",
    "c_api_module_2.print_dict({\"a\": \"b\"})\n",
    "c_api_module_2.print_dict({\"a\": \"b\", \"f\": 123})\n",
    "\n",
    "c_api_module_2.print_dict([1, 2])"
   ]
  },
  {
   "cell_type": "code",
   "execution_count": null,
   "metadata": {},
   "outputs": [],
   "source": []
  },
  {
   "cell_type": "code",
   "execution_count": 220,
   "metadata": {
    "scrolled": true
   },
   "outputs": [
    {
     "name": "stdout",
     "output_type": "stream",
     "text": [
      "<class 'int'>\n"
     ]
    },
    {
     "data": {
      "text/plain": [
       "int"
      ]
     },
     "execution_count": 220,
     "metadata": {},
     "output_type": "execute_result"
    }
   ],
   "source": [
    "a = 5\n",
    "print(repr(type(a)))\n",
    "type(a)"
   ]
  },
  {
   "cell_type": "markdown",
   "metadata": {},
   "source": [
    "Пример реализации собственного типа:"
   ]
  },
  {
   "cell_type": "code",
   "execution_count": 221,
   "metadata": {},
   "outputs": [
    {
     "data": {
      "text/markdown": [
       "Run: `clang -Wall c_api_own_type_module.c $(python3-config --includes --ldflags) -shared -fPIC -fsanitize=address -o c_api_own_type_module.so`"
      ],
      "text/plain": [
       "<IPython.core.display.Markdown object>"
      ]
     },
     "metadata": {},
     "output_type": "display_data"
    }
   ],
   "source": [
    "%%cpp c_api_own_type_module.c\n",
    "%run clang -Wall c_api_own_type_module.c $(python3-config --includes --ldflags) -shared -fPIC -fsanitize=address -o c_api_own_type_module.so\n",
    "#define PY_SSIZE_T_CLEAN\n",
    "#include <Python.h>\n",
    "\n",
    "typedef struct {\n",
    "    PyObject_HEAD;\n",
    "    double x, y;\n",
    "} PyPoint;\n",
    "\n",
    "PyTypeObject py_point_type = {    \n",
    "    PyVarObject_HEAD_INIT(NULL, 0)\n",
    "};   \n",
    "\n",
    "PyObject* PyPoint_new(PyTypeObject* type, PyObject* args, PyObject* kwargs) {\n",
    "    return (PyObject*)type->tp_alloc(type, 0);\n",
    "}\n",
    "\n",
    "void PyPoint_dealloc(PyPoint* self) {\n",
    "    Py_TYPE(self)->tp_free(self);\n",
    "}\n",
    "\n",
    "int PyPoint_init(PyPoint* self, PyObject* args, PyObject* kwargs) {\n",
    "    static const char* kwlist[] = {\"x\", \"y\", NULL};\n",
    "    self->x = self->y = 0;\n",
    "    return PyArg_ParseTupleAndKeywords(args, kwargs, \"|dd\", (char**)kwlist, &self->x, &self->y) != 0;\n",
    "}\n",
    "\n",
    "\n",
    "PyPoint* PyPoint_setfrom(PyPoint* self, PyObject* args, PyObject* kwargs) {\n",
    "    static const char* kwlist[] = {\"data\", NULL};\n",
    "    char* val_s = \"\"; Py_ssize_t val_s_len = 0;\n",
    "    if (!PyArg_ParseTupleAndKeywords(args, kwargs, \"z#\", (char**)kwlist, &val_s, &val_s_len)) {\n",
    "        return NULL;\n",
    "    }\n",
    "    sscanf(val_s, \"{%lf, %lf}\", &self->x, &self->y);\n",
    "    Py_INCREF(self);\n",
    "    return self;\n",
    "}\n",
    "\n",
    "PyPoint* PyPoint_add(PyPoint* self, PyPoint* arg) {\n",
    "    if (!PyObject_IsInstance((PyObject*)arg, (PyObject*)Py_TYPE(self))) {\n",
    "        PyErr_SetString(PyExc_TypeError, \"not Point type\");\n",
    "        return NULL; \n",
    "    }\n",
    "    PyPoint* result = (PyPoint*)PyPoint_new(&py_point_type, NULL, NULL);\n",
    "    result->x = self->x + arg->x;\n",
    "    result->y = self->y + arg->y;\n",
    "    return result;\n",
    "}\n",
    "\n",
    "PyObject* PyPoint_repr(PyPoint* self)\n",
    "{\n",
    "    char buffer[100];\n",
    "    snprintf(buffer, sizeof(buffer), \"{%.1lf, %.1lf}\", self->x, self->y);\n",
    "    return PyUnicode_FromString(buffer);\n",
    "}\n",
    "\n",
    "\n",
    "void PyPoint_prepare_type() {\n",
    "    PyTypeObject* o = &py_point_type;\n",
    "    o->tp_name = \"Point\";\n",
    "    o->tp_basicsize = sizeof(PyPoint);\n",
    "    o->tp_dealloc = (destructor)PyPoint_dealloc;\n",
    "    o->tp_repr = (reprfunc)PyPoint_repr;\n",
    "    static PyNumberMethods number_methods = {\n",
    "        .nb_add = (binaryfunc)PyPoint_add,\n",
    "    };\n",
    "    o->tp_as_number = &number_methods;\n",
    "    o->tp_str = (reprfunc)PyPoint_repr;\n",
    "    o->tp_flags = Py_TPFLAGS_DEFAULT;\n",
    "    o->tp_doc = \"Just a 2d point\\n\";\n",
    "    static PyMethodDef methods[] = {\n",
    "        {\"setfrom\", (PyCFunction)PyPoint_setfrom, METH_VARARGS|METH_KEYWORDS, NULL},\n",
    "        {NULL, NULL, 0, NULL}\n",
    "    };\n",
    "    o->tp_methods = methods;\n",
    "    o->tp_init = (initproc)PyPoint_init;\n",
    "    o->tp_new = PyPoint_new;\n",
    "    if (PyType_Ready(o) < 0) {\n",
    "        Py_FatalError(\"Can't initialize 'Point'\");\n",
    "    }\n",
    "}\n",
    "\n",
    "// Инициализация модуля\n",
    "PyMODINIT_FUNC PyInit_c_api_own_type_module(void) {\n",
    "    static struct PyModuleDef mod_obj = {\n",
    "        PyModuleDef_HEAD_INIT, \"c_api_own_type_module\", \"Test class module\", -1, NULL\n",
    "    };\n",
    "    PyObject* mod = PyModule_Create(&mod_obj);\n",
    "    PyPoint_prepare_type();\n",
    "    Py_INCREF(&py_point_type);\n",
    "    PyModule_AddObject(mod, \"Point\", (PyObject*)&py_point_type);\n",
    "    return mod;\n",
    "}"
   ]
  },
  {
   "cell_type": "code",
   "execution_count": 233,
   "metadata": {},
   "outputs": [
    {
     "data": {
      "text/markdown": [
       "Run: `LD_PRELOAD=$(gcc -print-file-name=libasan.so) ASAN_OPTIONS=detect_leaks=0  python3 c_api_own_type_module_example.py`"
      ],
      "text/plain": [
       "<IPython.core.display.Markdown object>"
      ]
     },
     "metadata": {},
     "output_type": "display_data"
    },
    {
     "name": "stdout",
     "output_type": "stream",
     "text": [
      "{123.0, 345.0}\r\n",
      "{6.0, 53.0}\r\n",
      "{100.0, 200.0}\r\n",
      "Exception: not Point type\r\n"
     ]
    }
   ],
   "source": [
    "%%save_file c_api_own_type_module_example.py\n",
    "%run LD_PRELOAD=$(gcc -print-file-name=libasan.so) ASAN_OPTIONS=detect_leaks=0  python3 c_api_own_type_module_example.py\n",
    "from c_api_own_type_module import Point\n",
    "\n",
    "print(Point(x=123, y=345))\n",
    "print(Point(3, 4) + Point(3, 49))\n",
    "\n",
    "a = Point(0, 0)\n",
    "a.setfrom(\"{100, 200}\")\n",
    "print(a)\n",
    "\n",
    "try:\n",
    "    Point(3, 4) + 1\n",
    "except Exception as e:\n",
    "    print(\"Exception:\", e)"
   ]
  },
  {
   "cell_type": "code",
   "execution_count": null,
   "metadata": {},
   "outputs": [],
   "source": []
  },
  {
   "cell_type": "code",
   "execution_count": null,
   "metadata": {},
   "outputs": [],
   "source": []
  },
  {
   "cell_type": "code",
   "execution_count": null,
   "metadata": {},
   "outputs": [],
   "source": []
  },
  {
   "cell_type": "code",
   "execution_count": null,
   "metadata": {},
   "outputs": [],
   "source": []
  },
  {
   "cell_type": "code",
   "execution_count": null,
   "metadata": {},
   "outputs": [],
   "source": []
  },
  {
   "cell_type": "markdown",
   "metadata": {},
   "source": [
    "## <a name=\"ctypes\"></a> ctypes\n",
    "\n",
    "Способ взаимодействовать с уже существующей скомпилированной библиотекой.\n",
    "\n",
    "Очень просто в очень простых случаях. И не очень в сложных\n",
    "\n",
    "https://habr.com/ru/post/466499/"
   ]
  },
  {
   "cell_type": "code",
   "execution_count": 25,
   "metadata": {},
   "outputs": [
    {
     "data": {
      "text/markdown": [
       "Run: `gcc -Wall ctypes_lib.c -shared -fPIC -fsanitize=address -o ctypes_lib.so`"
      ],
      "text/plain": [
       "<IPython.core.display.Markdown object>"
      ]
     },
     "metadata": {},
     "output_type": "display_data"
    }
   ],
   "source": [
    "%%cpp ctypes_lib.c\n",
    "%// Делаем самую обычную динамическую библиотеку\n",
    "%run gcc -Wall ctypes_lib.c -shared -fPIC -fsanitize=address -o ctypes_lib.so\n",
    "\n",
    "float sum_ab(int a, float b) {\n",
    "    return a + b;\n",
    "}"
   ]
  },
  {
   "cell_type": "code",
   "execution_count": 28,
   "metadata": {},
   "outputs": [
    {
     "data": {
      "text/markdown": [
       "Run: `LD_PRELOAD=$(gcc -print-file-name=libasan.so) ASAN_OPTIONS=detect_leaks=0 python3 ctypes_example.py`"
      ],
      "text/plain": [
       "<IPython.core.display.Markdown object>"
      ]
     },
     "metadata": {},
     "output_type": "display_data"
    },
    {
     "name": "stdout",
     "output_type": "stream",
     "text": [
      "31.5\r\n"
     ]
    }
   ],
   "source": [
    "%%save_file ctypes_example.py\n",
    "%run LD_PRELOAD=$(gcc -print-file-name=libasan.so) ASAN_OPTIONS=detect_leaks=0 python3 ctypes_example.py\n",
    "\n",
    "import ctypes \n",
    "\n",
    "ctypes_lib = ctypes.CDLL('./ctypes_lib.so')\n",
    "\n",
    "sum_ab = ctypes_lib.sum_ab\n",
    "\n",
    "sum_ab.restype = ctypes.c_float\n",
    "sum_ab.argtypes = [ctypes.c_int, ctypes.c_float, ]\n",
    "\n",
    "print(sum_ab(30, 1.5))"
   ]
  },
  {
   "cell_type": "code",
   "execution_count": null,
   "metadata": {},
   "outputs": [],
   "source": []
  },
  {
   "cell_type": "code",
   "execution_count": null,
   "metadata": {},
   "outputs": [],
   "source": []
  },
  {
   "cell_type": "markdown",
   "metadata": {},
   "source": [
    "## <a name=\"cython\"></a> Cython\n",
    "\n",
    "[Cython на wiki](https://ru.wikipedia.org/wiki/Cython)\n",
    "\n",
    "Высокоуровневый способ связывать код на С/С++ и Python. Связка идет через промежуточный код на промежуточном языке.\n",
    "\n",
    "По задумке (в моем понимании), cython можно использовать для написания обвязки к существующей С++ библиотеке для ее переиспользования в Python.\n",
    "\n",
    "Но если честно, то и чистый С++ код приходится немного адаптировать под Python. Так как там есть тонкости в пробросе исключений и еще какие-то.\n",
    "\n",
    "Получается довольно много избыточного кода и файлов.\n",
    "\n",
    "Но помимо биндингов cython можно использовать просто для ускорения python кода. Переименовываем .py в .pyx и, магия, добавилась статическая типизация, все начало работать быстрее.\n",
    "\n",
    "`pip3 install --user cython`"
   ]
  },
  {
   "cell_type": "markdown",
   "metadata": {},
   "source": [
    "Исходный код на C. Необязательно весь в хедере, просто так проще в этом примере, а то и так файлов много будет :)"
   ]
  },
  {
   "cell_type": "code",
   "execution_count": 29,
   "metadata": {},
   "outputs": [],
   "source": [
    "%%cpp pairs.h\n",
    "#pragma once\n",
    "#include <vector>\n",
    "#include <algorithm>\n",
    "\n",
    "struct TPairs {\n",
    "    std::vector<std::pair<int, float>> Vector;\n",
    "};\n",
    "\n",
    "inline void SortPairs(TPairs& pairs) {\n",
    "    std::sort(pairs.Vector.begin(), pairs.Vector.end());\n",
    "}\n",
    "\n",
    "inline void AppendPairs(TPairs& pairs, const TPairs& other) {\n",
    "    pairs.Vector.insert(pairs.Vector.end(), other.Vector.begin(), other.Vector.end());\n",
    "}"
   ]
  },
  {
   "cell_type": "markdown",
   "metadata": {},
   "source": [
    "cython'овский хедер. В нем описывается вся провязка с C/С++, а так же объявляются классы в которых будут поля - С'шные структуры и функции, в которых можно будет использовать локальные С'шные переменные.\n",
    "\n",
    "Этот файлик автоматически \"инклюдится\" в соответствующий .pyx"
   ]
  },
  {
   "cell_type": "code",
   "execution_count": 30,
   "metadata": {},
   "outputs": [],
   "source": [
    "%%save_file pairs.pxd\n",
    "from libcpp.vector cimport vector\n",
    "from libcpp.pair cimport pair\n",
    "\n",
    "# \"Импорты\" функций из С/С++\n",
    "cdef extern from \"pairs.h\" nogil:\n",
    "    cdef cppclass TPairs:\n",
    "        TPairs()\n",
    "        vector[pair[int, float]] Vector\n",
    "    void SortPairs(TPairs& pairs)\n",
    "    void AppendPairs(TPairs& pairs, const TPairs& other)\n",
    "\n",
    "# Объявляем класс с С++ полем\n",
    "cdef class Pairs:\n",
    "    cdef TPairs pairs"
   ]
  },
  {
   "cell_type": "markdown",
   "metadata": {},
   "source": [
    ".pyx файл, в нём уже практически чистый питон, только слегка расширенный. Есть интересные ключевые слова cimport, cdef, касты объектов к плюсовым типам, но в остальном - обычный питон."
   ]
  },
  {
   "cell_type": "code",
   "execution_count": 31,
   "metadata": {},
   "outputs": [],
   "source": [
    "%%save_file pairs.pyx\n",
    "# distutils: language=c++ \n",
    "# ^^^ - обязательный комментарий\n",
    "from libcpp.vector cimport vector\n",
    "from libcpp.pair cimport pair\n",
    "\n",
    "cdef class Pairs:\n",
    "    def __init__(self, pairs_list=[]):\n",
    "        for val_i, val_f in pairs_list:\n",
    "            self.pairs.Vector.push_back(pair[int, float](val_i, val_f))\n",
    "            \n",
    "    def sorted(self):\n",
    "        sorted_pairs = Pairs()\n",
    "        sorted_pairs.pairs = self.pairs\n",
    "        SortPairs(sorted_pairs.pairs)\n",
    "        return sorted_pairs\n",
    "    \n",
    "    def __add__(self, other):\n",
    "        assert isinstance(other, Pairs)\n",
    "        sum_pairs = Pairs()\n",
    "        sum_pairs.pairs = (<Pairs>self).pairs\n",
    "        AppendPairs(sum_pairs.pairs, (<Pairs>other).pairs)\n",
    "        return sum_pairs\n",
    "    \n",
    "    def __repr__(self):\n",
    "        return repr(self.pairs.Vector)\n",
    "\n",
    "# это к примеру о том, что .pyx быстрее работает, чем .py\n",
    "def count_1e8():\n",
    "    for i in range(int(1e8)):\n",
    "        pass"
   ]
  },
  {
   "cell_type": "markdown",
   "metadata": {},
   "source": [
    "Скомпилируем теперь это в модуль:"
   ]
  },
  {
   "cell_type": "code",
   "execution_count": 32,
   "metadata": {},
   "outputs": [
    {
     "data": {
      "text/markdown": [
       "Run: `python3 ./cython_setup.py build_ext --inplace`"
      ],
      "text/plain": [
       "<IPython.core.display.Markdown object>"
      ]
     },
     "metadata": {},
     "output_type": "display_data"
    },
    {
     "name": "stdout",
     "output_type": "stream",
     "text": [
      "running build_ext\n",
      "cythoning pairs.pyx to pairs.cpp\n",
      "/home/pechatnov/.local/lib/python3.8/site-packages/Cython/Compiler/Main.py:369: FutureWarning: Cython directive 'language_level' not set, using 2 for now (Py2). This will change in a later release! File: /home/pechatnov/vbox/caos/sem03-cmake-python-bindings/pairs.pxd\n",
      "  tree = Parsing.p_module(s, pxd, full_module_name)\n",
      "building 'pairs' extension\n",
      "creating build\n",
      "creating build/temp.linux-x86_64-3.8\n",
      "x86_64-linux-gnu-gcc -pthread -Wno-unused-result -Wsign-compare -DNDEBUG -g -fwrapv -O2 -Wall -g -fstack-protector-strong -Wformat -Werror=format-security -g -fwrapv -O2 -g -fstack-protector-strong -Wformat -Werror=format-security -Wdate-time -D_FORTIFY_SOURCE=2 -fPIC -I/usr/include/python3.8 -c pairs.cpp -o build/temp.linux-x86_64-3.8/pairs.o -std=c++17 -Wall\n",
      "x86_64-linux-gnu-g++ -pthread -shared -Wl,-O1 -Wl,-Bsymbolic-functions -Wl,-Bsymbolic-functions -Wl,-z,relro -g -fwrapv -O2 -Wl,-Bsymbolic-functions -Wl,-z,relro -g -fwrapv -O2 -g -fstack-protector-strong -Wformat -Werror=format-security -Wdate-time -D_FORTIFY_SOURCE=2 build/temp.linux-x86_64-3.8/pairs.o -o /home/pechatnov/vbox/caos/sem03-cmake-python-bindings/pairs.cpython-38-x86_64-linux-gnu.so\n"
     ]
    }
   ],
   "source": [
    "%%save_file cython_setup.py\n",
    "%run python3 ./cython_setup.py build_ext --inplace \n",
    "\n",
    "from distutils.core import setup, Extension\n",
    "from Cython.Distutils import build_ext\n",
    "\n",
    "setup(\n",
    "    ext_modules=[\n",
    "        Extension(\n",
    "            \"pairs\",\n",
    "            sources=[\"pairs.pyx\"],\n",
    "            language=\"c++\",\n",
    "            extra_compile_args=[\"-std=c++17\", \"-Wall\"]\n",
    "        ),\n",
    "    ], \n",
    "    cmdclass={\n",
    "        'build_ext': build_ext\n",
    "    }\n",
    ")"
   ]
  },
  {
   "cell_type": "markdown",
   "metadata": {},
   "source": [
    "И заиспользуем:"
   ]
  },
  {
   "cell_type": "code",
   "execution_count": 33,
   "metadata": {},
   "outputs": [
    {
     "data": {
      "text/markdown": [
       "Run: `python3 ./test_pairs.py`"
      ],
      "text/plain": [
       "<IPython.core.display.Markdown object>"
      ]
     },
     "metadata": {},
     "output_type": "display_data"
    },
    {
     "name": "stdout",
     "output_type": "stream",
     "text": [
      "[(1, 2.0)]\r\n",
      "[(1, 2.0), (2, -1.0), (3, 10.0), (4, -10.0)]\r\n"
     ]
    }
   ],
   "source": [
    "%%save_file test_pairs.py\n",
    "%run python3 ./test_pairs.py\n",
    "\n",
    "from pairs import Pairs\n",
    "\n",
    "print(Pairs([(1, 2)]))\n",
    "print((Pairs([(1, 2), (3, 10)]) + Pairs([(2, -1), (4, -10)])).sorted())"
   ]
  },
  {
   "cell_type": "markdown",
   "metadata": {},
   "source": [
    "**Про то, что .pyx быстрее, чем .py**"
   ]
  },
  {
   "cell_type": "code",
   "execution_count": 34,
   "metadata": {},
   "outputs": [
    {
     "data": {
      "text/markdown": [
       "Run: `time python3 ./count_1e8_native.py`"
      ],
      "text/plain": [
       "<IPython.core.display.Markdown object>"
      ]
     },
     "metadata": {},
     "output_type": "display_data"
    },
    {
     "name": "stdout",
     "output_type": "stream",
     "text": [
      "2.79user 0.01system 0:02.81elapsed 99%CPU (0avgtext+0avgdata 8864maxresident)k\r\n",
      "0inputs+0outputs (0major+828minor)pagefaults 0swaps\r\n"
     ]
    }
   ],
   "source": [
    "%%save_file count_1e8_native.py\n",
    "%run time python3 ./count_1e8_native.py\n",
    "\n",
    "def count_1e8():\n",
    "    for i in range(int(1e8)):\n",
    "        pass\n",
    "    \n",
    "count_1e8()"
   ]
  },
  {
   "cell_type": "code",
   "execution_count": 35,
   "metadata": {},
   "outputs": [
    {
     "data": {
      "text/markdown": [
       "Run: `time python3 ./count_1e8_cython.py`"
      ],
      "text/plain": [
       "<IPython.core.display.Markdown object>"
      ]
     },
     "metadata": {},
     "output_type": "display_data"
    },
    {
     "name": "stdout",
     "output_type": "stream",
     "text": [
      "1.61user 0.00system 0:01.62elapsed 99%CPU (0avgtext+0avgdata 10048maxresident)k\r\n",
      "0inputs+0outputs (0major+884minor)pagefaults 0swaps\r\n"
     ]
    }
   ],
   "source": [
    "%%save_file count_1e8_cython.py\n",
    "%run time python3 ./count_1e8_cython.py\n",
    "\n",
    "from pairs import count_1e8\n",
    "\n",
    "count_1e8()"
   ]
  },
  {
   "cell_type": "code",
   "execution_count": null,
   "metadata": {},
   "outputs": [],
   "source": []
  },
  {
   "cell_type": "markdown",
   "metadata": {},
   "source": [
    "## <a name=\"pybind\"></a> Pybind\n",
    "\n",
    "Только С++\n",
    "\n",
    "Лаконично по сравнению с cython, при этом так же есть неявный кастинг питонячих типов и типов из stl.\n",
    "\n",
    "По ощущениям долго собирается, видимо количество используемого метапрограммирования сказывается\n",
    "\n",
    "https://habr.com/ru/post/468099/\n",
    "\n",
    "`pip3 install --user pybind11`\n"
   ]
  },
  {
   "cell_type": "code",
   "execution_count": 37,
   "metadata": {},
   "outputs": [],
   "source": [
    "%%cpp pairs_pybind.cpp\n",
    "\n",
    "#include <vector>\n",
    "#include <algorithm>\n",
    "#include <sstream>\n",
    "#include <pybind11/pybind11.h>\n",
    "#include <pybind11/stl.h> // неявные преобразования python-объектов и стандартных C++ классов\n",
    "\n",
    "struct TPairs {\n",
    "    std::vector<std::pair<int, float>> Vector;\n",
    "};\n",
    "\n",
    "inline void SortPairs(TPairs& pairs) {\n",
    "    std::sort(pairs.Vector.begin(), pairs.Vector.end());\n",
    "}\n",
    "\n",
    "inline void AppendPairs(TPairs& pairs, const TPairs& other) {\n",
    "    pairs.Vector.insert(pairs.Vector.end(), other.Vector.begin(), other.Vector.end());\n",
    "}\n",
    "\n",
    "// -------------------\n",
    "\n",
    "namespace py = pybind11;\n",
    "\n",
    "PYBIND11_MODULE(pairs_pybind, m) {\n",
    "    py::class_<TPairs>(m, \"Pairs\")\n",
    "        // конструктор\n",
    "        .def(py::init<std::vector<std::pair<int, float>>>(), \n",
    "             \"Class constructor\", py::arg(\"vector\") = std::vector<std::pair<int, float>>{}) \n",
    "        // методы\n",
    "        .def(\"sorted\", [](TPairs pairs) { SortPairs(pairs); return pairs; })\n",
    "        .def(\"__add__\", [](TPairs a, const TPairs& b) { AppendPairs(a, b); return a; })\n",
    "        .def(\"__repr__\", [](const TPairs& p) { \n",
    "            std::stringstream ss;\n",
    "            ss << \"[\";\n",
    "            for (auto pair : p.Vector) { ss << \"(\" << pair.first << \",\" << pair.second << \"),\"; }\n",
    "            ss << \"]\";\n",
    "            return ss.str(); \n",
    "        })\n",
    "        .def_readwrite(\"Vector\", &TPairs::Vector) // Поле структурки как read-write property (с автоматическими конверсиями)\n",
    "    ; \n",
    "};"
   ]
  },
  {
   "cell_type": "markdown",
   "metadata": {},
   "source": [
    "Скомпилируем теперь это в модуль:"
   ]
  },
  {
   "cell_type": "code",
   "execution_count": 181,
   "metadata": {
    "scrolled": true
   },
   "outputs": [
    {
     "data": {
      "text/markdown": [
       "Run: `python3 ./pybind_setup.py build_ext --inplace`"
      ],
      "text/plain": [
       "<IPython.core.display.Markdown object>"
      ]
     },
     "metadata": {},
     "output_type": "display_data"
    },
    {
     "name": "stdout",
     "output_type": "stream",
     "text": [
      "running build_ext\r\n"
     ]
    }
   ],
   "source": [
    "%%save_file pybind_setup.py\n",
    "%run python3 ./pybind_setup.py build_ext --inplace \n",
    "\n",
    "import pybind11\n",
    "from distutils.core import setup, Extension\n",
    "\n",
    "setup(\n",
    "    ext_modules=[\n",
    "        Extension(\n",
    "            'pairs_pybind',                         # Имя библиотеки собранной pybind11\n",
    "            ['pairs_pybind.cpp'],                   # Тестовый файлик который компилируем\n",
    "            include_dirs=[pybind11.get_include()],  # Добавляем инклюды pybind11\n",
    "            language='c++',                         # Указываем язык\n",
    "            extra_compile_args=['-std=c++11'],      # Флаг с++11\n",
    "        ),\n",
    "    ],\n",
    "    requires=['pybind11']\n",
    ")"
   ]
  },
  {
   "cell_type": "markdown",
   "metadata": {},
   "source": [
    "И заиспользуем:"
   ]
  },
  {
   "cell_type": "code",
   "execution_count": 182,
   "metadata": {},
   "outputs": [
    {
     "data": {
      "text/markdown": [
       "Run: `python3 ./test_pybind_pairs.py`"
      ],
      "text/plain": [
       "<IPython.core.display.Markdown object>"
      ]
     },
     "metadata": {},
     "output_type": "display_data"
    },
    {
     "name": "stdout",
     "output_type": "stream",
     "text": [
      "[]\r\n",
      "[]\r\n",
      "[(1, 2.0)]\r\n",
      "[(1,2),]\r\n",
      "[(1,2),(2,1),]\r\n",
      "[(1,2),(2,-1),(3,10),(4,-10),]\r\n"
     ]
    }
   ],
   "source": [
    "%%save_file test_pybind_pairs.py\n",
    "%run python3 ./test_pybind_pairs.py\n",
    "\n",
    "from pairs_pybind import Pairs\n",
    "\n",
    "print(Pairs())\n",
    "print(Pairs().Vector)\n",
    "print(Pairs([(1, 2)]).Vector)\n",
    "print(Pairs(vector=[(1, 2)]))\n",
    "print(Pairs([(1, 2), (2, 1)]).sorted())\n",
    "print((Pairs([(1, 2), (3, 10)]) + Pairs([(2, -1), (4, -10)])).sorted())"
   ]
  },
  {
   "cell_type": "code",
   "execution_count": null,
   "metadata": {},
   "outputs": [],
   "source": []
  },
  {
   "cell_type": "markdown",
   "metadata": {},
   "source": [
    "## <a name=\"use_interpreter\"></a> Используем интерпретатор Python из C\n",
    "\n",
    "https://habr.com/ru/post/466181/\n",
    "\n",
    "\n",
    "Если вам понадобилось встраивать себе интерпретатор питона, то скорее всего в вашей жизни что-то пошло не так.\n",
    "\n",
    "Но если прям пришлось, то всё-таки:"
   ]
  },
  {
   "cell_type": "code",
   "execution_count": 184,
   "metadata": {},
   "outputs": [
    {
     "name": "stdout",
     "output_type": "stream",
     "text": [
      "eval вычисляет выражение в строке и возвращает его значение: 2\n",
      "exec выполняет код, возвращает всегда None: None\n"
     ]
    }
   ],
   "source": [
    "# Сначала немного про exec и eval\n",
    "print(\"eval вычисляет выражение в строке и возвращает его значение:\", eval(\"1 + 1\"))\n",
    "print(\"exec выполняет код, возвращает всегда None:\", exec(\"1 + 1\"))"
   ]
  },
  {
   "cell_type": "code",
   "execution_count": 185,
   "metadata": {},
   "outputs": [
    {
     "name": "stdout",
     "output_type": "stream",
     "text": [
      "PRINT 2\n",
      "Побочные эффекты могут быть как в случае eval: None\n",
      "PRINT 4\n",
      "                          так и в случае exec: None\n"
     ]
    }
   ],
   "source": [
    "print(\"Побочные эффекты могут быть как в случае eval:\", eval(\"print('PRINT', 1 + 1)\"))\n",
    "print(\"                          так и в случае exec:\", exec(\"print('PRINT', 2 + 2)\"))"
   ]
  },
  {
   "cell_type": "code",
   "execution_count": 194,
   "metadata": {
    "scrolled": true
   },
   "outputs": [
    {
     "name": "stdout",
     "output_type": "stream",
     "text": [
      "Это не выражение у которого можно вычислить значение: invalid syntax (<string>, line 1)\n",
      "Но то, что вполне можно выполнить, exec справляется: None\n",
      "Переменные выставленные внутри exec видны снаружи: 100500\n"
     ]
    }
   ],
   "source": [
    "try: \n",
    "    print(eval(\"a = 1\")) # \n",
    "except Exception as e: \n",
    "    print(\"Это не выражение у которого можно вычислить значение:\", e)\n",
    "print(\"Но то, что вполне можно выполнить, exec справляется:\", exec(\"b = 100500\"))\n",
    "print(\"Переменные выставленные внутри exec видны снаружи:\", b)"
   ]
  },
  {
   "cell_type": "code",
   "execution_count": 196,
   "metadata": {},
   "outputs": [
    {
     "data": {
      "text/plain": [
       "100500"
      ]
     },
     "execution_count": 196,
     "metadata": {},
     "output_type": "execute_result"
    }
   ],
   "source": [
    "# А еще можно явно указывать, какие locals и globals будут внутри exec/eval\n",
    "#    expression globals         locals        \n",
    "eval(\"A1 + B2\", {\"A1\": 100000}, {\"B2\": 500})"
   ]
  },
  {
   "cell_type": "code",
   "execution_count": 197,
   "metadata": {},
   "outputs": [
    {
     "data": {
      "text/plain": [
       "{'D': 1000, 'A': 1050}"
      ]
     },
     "execution_count": 197,
     "metadata": {},
     "output_type": "execute_result"
    }
   ],
   "source": [
    "custom_locals = {\"D\": 1000}\n",
    "exec(\"A = D + 50\", {}, custom_locals)\n",
    "custom_locals"
   ]
  },
  {
   "cell_type": "markdown",
   "metadata": {},
   "source": [
    "И, наконец, код про встраивание python:"
   ]
  },
  {
   "cell_type": "code",
   "execution_count": 45,
   "metadata": {},
   "outputs": [
    {
     "name": "stdout",
     "output_type": "stream",
     "text": [
      "Python 3.8.2\r\n"
     ]
    }
   ],
   "source": [
    "!python3 -V"
   ]
  },
  {
   "cell_type": "code",
   "execution_count": 235,
   "metadata": {},
   "outputs": [
    {
     "data": {
      "text/markdown": [
       "Run: `clang -Wall use_interpreter.c $(python3-config --includes --ldflags) -lpython3.8 -fsanitize=address -o use_interpreter.exe`"
      ],
      "text/plain": [
       "<IPython.core.display.Markdown object>"
      ]
     },
     "metadata": {},
     "output_type": "display_data"
    },
    {
     "data": {
      "text/markdown": [
       "Run: `ASAN_OPTIONS=detect_leaks=0 ./use_interpreter.exe`"
      ],
      "text/plain": [
       "<IPython.core.display.Markdown object>"
      ]
     },
     "metadata": {},
     "output_type": "display_data"
    },
    {
     "name": "stdout",
     "output_type": "stream",
     "text": [
      "42\n",
      "1\n",
      "None\n",
      "None\n",
      "None\n",
      "420\n",
      "None\n",
      "None\n",
      "  File \"<string>\", line 1\n",
      "    def f(a):\n",
      "            ^\n",
      "SyntaxError: unexpected EOF while parsing\n",
      "  File \"<string>\", line 1\n",
      "    return a + 1\n",
      "    ^\n",
      "IndentationError: unexpected indent\n",
      "Traceback (most recent call last):\n",
      "  File \"<string>\", line 1, in <module>\n",
      "NameError: name 'f' is not defined\n",
      "i = 0, i = 1, i = 2, \n",
      "None\n",
      "  File \"<string>\", line 1\n",
      "    &\n",
      "    ^\n",
      "SyntaxError: unexpected EOF while parsing\n"
     ]
    }
   ],
   "source": [
    "%%cpp use_interpreter.c\n",
    "%run clang -Wall use_interpreter.c $(python3-config --includes --ldflags) -lpython3.8 -fsanitize=address -o use_interpreter.exe\n",
    "%run ASAN_OPTIONS=detect_leaks=0 ./use_interpreter.exe\n",
    "#include <Python.h>\n",
    "\n",
    "#define EXEC_PREFIX \"$ \"\n",
    "\n",
    "int main() {\n",
    "    Py_Initialize();\n",
    "    PyObject* locals = PyDict_New();\n",
    "    // Для PyEval_GetBuiltins не нужно делать Py_DECREF, так как возвращается borrowed reference: https://docs.python.org/3/c-api/reflection.html\n",
    "    // Подробнее про подсчет ссылок: https://pythonextensionpatterns.readthedocs.io/en/latest/refcount.html#new-references\n",
    "    PyObject* globals = PyDict_Copy(PyEval_GetBuiltins()); // Нам же нужно, чтобы функция print сразу была определена?\n",
    "\n",
    "    typedef struct { int is_exec_cmd; const char* line; } cmd_t;\n",
    "    #define EVAL(cmd) {0, cmd}\n",
    "    #define EXEC(cmd) {1, cmd}\n",
    "\n",
    "    const cmd_t cmds[] = {\n",
    "        EVAL(\"40 + 2\"),\n",
    "        EVAL(\"print(1)\"),\n",
    "        EXEC(\"a = 40 + 2\"),\n",
    "        EXEC(\"b = 5 + 5\"),\n",
    "        EXEC(\"print(a * b)\"),\n",
    "        EXEC(\"a + b\"),\n",
    "        EXEC(\"def f(a):\"),\n",
    "        EXEC(\"    return a + 1\"),\n",
    "        EVAL(\"f(10)\"),\n",
    "        EXEC(\n",
    "            \"for i in range(3):\"                    \"\\n\"\n",
    "            \"    print('i = %d' % i, end=', ')\"     \"\\n\"\n",
    "            \"print()\"                               \"\\n\"\n",
    "        ),\n",
    "        EVAL(\"&\"),\n",
    "    };\n",
    "    \n",
    "    for (const cmd_t* cmd = cmds; cmd != cmds + sizeof(cmds) / sizeof(cmd_t); ++cmd) {\n",
    "        PyObject* result = cmd->is_exec_cmd ? \n",
    "            PyRun_String(cmd->line, Py_file_input, globals, locals) : // exec\n",
    "            PyRun_String(cmd->line, Py_eval_input, globals, locals);  // eval\n",
    "        if (result) {\n",
    "            PyObject_Print(result, stdout, 0); printf(\"\\n\"); // печать python-объекта (print(obj))\n",
    "            Py_DECREF(result);\n",
    "        } else {\n",
    "            // Не забываем, что python-функции возвращают None если нормально завершаются без return и исключений\n",
    "            // При этом None это специальный синглтон. То есть != NULL. \n",
    "            // А вот если функция вернула NULL, то это значит, что кинуто исключение\n",
    "            PyErr_PrintEx(0); // печать исключения\n",
    "            PyErr_Clear();\n",
    "        }\n",
    "        \n",
    "    }\n",
    "    Py_DECREF(locals);\n",
    "    Py_DECREF(globals);\n",
    "    Py_Finalize();\n",
    "}"
   ]
  },
  {
   "cell_type": "code",
   "execution_count": null,
   "metadata": {},
   "outputs": [],
   "source": []
  },
  {
   "cell_type": "markdown",
   "metadata": {},
   "source": [
    "### <a name=\"cmake_python\"></a> Пример c CMake и Python"
   ]
  },
  {
   "cell_type": "code",
   "execution_count": 200,
   "metadata": {},
   "outputs": [],
   "source": [
    "!mkdir python_cmake_example 2>&1 | grep -v \"File exists\" || true\n",
    "!cp ./use_interpreter.c ./python_cmake_example/use_interpreter.c"
   ]
  },
  {
   "cell_type": "code",
   "execution_count": 201,
   "metadata": {},
   "outputs": [
    {
     "data": {
      "text/markdown": [
       "Run: `mkdir python_cmake_example/build`"
      ],
      "text/plain": [
       "<IPython.core.display.Markdown object>"
      ]
     },
     "metadata": {},
     "output_type": "display_data"
    },
    {
     "data": {
      "text/markdown": [
       "Run: `cd python_cmake_example/build && cmake .. && make`"
      ],
      "text/plain": [
       "<IPython.core.display.Markdown object>"
      ]
     },
     "metadata": {},
     "output_type": "display_data"
    },
    {
     "name": "stdout",
     "output_type": "stream",
     "text": [
      "-- The C compiler identification is GNU 9.3.0\n",
      "-- The CXX compiler identification is GNU 9.3.0\n",
      "-- Check for working C compiler: /usr/bin/cc\n",
      "-- Check for working C compiler: /usr/bin/cc -- works\n",
      "-- Detecting C compiler ABI info\n",
      "-- Detecting C compiler ABI info - done\n",
      "-- Detecting C compile features\n",
      "-- Detecting C compile features - done\n",
      "-- Check for working CXX compiler: /usr/bin/c++\n",
      "-- Check for working CXX compiler: /usr/bin/c++ -- works\n",
      "-- Detecting CXX compiler ABI info\n",
      "-- Detecting CXX compiler ABI info - done\n",
      "-- Detecting CXX compile features\n",
      "-- Detecting CXX compile features - done\n",
      "-- Found PythonLibs: /usr/lib/x86_64-linux-gnu/libpython3.8.so (found suitable version \"3.8.2\", minimum required is \"3.6\") \n",
      "-- Configuring done\n",
      "-- Generating done\n",
      "-- Build files have been written to: /home/pechatnov/vbox/caos/sem03-cmake-python-bindings/python_cmake_example/build\n",
      "\u001b[35m\u001b[1mScanning dependencies of target example\u001b[0m\n",
      "[ 50%] \u001b[32mBuilding C object CMakeFiles/example.dir/use_interpreter.c.o\u001b[0m\n",
      "[100%] \u001b[32m\u001b[1mLinking C executable example\u001b[0m\n",
      "[100%] Built target example\n"
     ]
    },
    {
     "data": {
      "text/markdown": [
       "Run: `python_cmake_example/build/example`"
      ],
      "text/plain": [
       "<IPython.core.display.Markdown object>"
      ]
     },
     "metadata": {},
     "output_type": "display_data"
    },
    {
     "name": "stdout",
     "output_type": "stream",
     "text": [
      "42\n",
      "1\n",
      "None\n",
      "None\n",
      "None\n",
      "420\n",
      "None\n",
      "None\n",
      "i = 0, i = 1, i = 2, \n",
      "None\n",
      "  File \"<string>\", line 1\n",
      "    &\n",
      "    ^\n",
      "SyntaxError: unexpected EOF while parsing\n"
     ]
    },
    {
     "data": {
      "text/markdown": [
       "Run: `rm -r python_cmake_example/build`"
      ],
      "text/plain": [
       "<IPython.core.display.Markdown object>"
      ]
     },
     "metadata": {},
     "output_type": "display_data"
    }
   ],
   "source": [
    "%%cmake python_cmake_example/CMakeLists.txt\n",
    "%run mkdir python_cmake_example/build\n",
    "%run cd python_cmake_example/build && cmake .. && make  \n",
    "%run python_cmake_example/build/example\n",
    "%run rm -r python_cmake_example/build \n",
    "\n",
    "cmake_minimum_required(VERSION 2.8) \n",
    "\n",
    "project(python_cmake_example)\n",
    "\n",
    "add_executable(example use_interpreter.c)\n",
    "\n",
    "find_package(PythonLibs 3.6 REQUIRED)\n",
    "include_directories(${PYTHON_INCLUDE_DIRS})\n",
    "target_link_libraries(example ${PYTHON_LIBRARIES})"
   ]
  },
  {
   "cell_type": "code",
   "execution_count": null,
   "metadata": {},
   "outputs": [],
   "source": []
  },
  {
   "cell_type": "code",
   "execution_count": null,
   "metadata": {},
   "outputs": [],
   "source": []
  },
  {
   "cell_type": "markdown",
   "metadata": {},
   "source": [
    "# <a name=\"hw\"></a> Комментарии к ДЗ\n",
    "\n",
    "* Python 3.x, то есть документацию по python/c api стоит смотреть для этой версии\n",
    "* Если вы чувствуете в себе на это силы, то следите за ссылками, делайте Py_DECREF когда необходимо, и не делайте когда не надо :)\n",
    "* В задаче про перемножение матриц считайте все в double. При возвращении в питон отдавайте питонячий float.\n",
    "* В задаче про декодирование можно считать пароль строкой, остальное - байтами."
   ]
  },
  {
   "cell_type": "code",
   "execution_count": null,
   "metadata": {},
   "outputs": [],
   "source": []
  }
 ],
 "metadata": {
  "kernelspec": {
   "display_name": "Python 3",
   "language": "python",
   "name": "python3"
  },
  "language_info": {
   "codemirror_mode": {
    "name": "ipython",
    "version": 3
   },
   "file_extension": ".py",
   "mimetype": "text/x-python",
   "name": "python",
   "nbconvert_exporter": "python",
   "pygments_lexer": "ipython3",
   "version": "3.8.2"
  }
 },
 "nbformat": 4,
 "nbformat_minor": 2
}
