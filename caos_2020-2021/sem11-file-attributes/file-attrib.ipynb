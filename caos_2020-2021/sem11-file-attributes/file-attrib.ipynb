{
 "cells": [
  {
   "cell_type": "code",
   "execution_count": 2,
   "metadata": {},
   "outputs": [
    {
     "data": {
      "application/javascript": [
       "// setup cpp code highlighting\n",
       "IPython.CodeCell.options_default.highlight_modes[\"text/x-c++src\"] = {'reg':[/^%%cpp/]} ;IPython.CodeCell.options_default.highlight_modes[\"text/x-cmake\"] = {'reg':[/^%%cmake/]} ;"
      ],
      "text/plain": [
       "<IPython.core.display.Javascript object>"
      ]
     },
     "metadata": {},
     "output_type": "display_data"
    },
    {
     "data": {
      "text/html": [
       "<!-- YANDEX_METRICA_BEGIN -->\n",
       "    <script type=\"text/javascript\" >\n",
       "       (function(m,e,t,r,i,k,a){m[i]=m[i]||function(){(m[i].a=m[i].a||[]).push(arguments)};\n",
       "       m[i].l=1*new Date();k=e.createElement(t),a=e.getElementsByTagName(t)[0],k.async=1,k.src=r,a.parentNode.insertBefore(k,a)})\n",
       "       (window, document, \"script\", \"https://mc.yandex.ru/metrika/tag.js\", \"ym\");\n",
       "\n",
       "       ym(59260609, \"init\", {\n",
       "            clickmap:true,\n",
       "            trackLinks:true,\n",
       "            accurateTrackBounce:true\n",
       "       });\n",
       "    </script>\n",
       "    <noscript><div><img src=\"https://mc.yandex.ru/watch/59260609\" style=\"position:absolute; left:-9999px;\" alt=\"\" /></div></noscript>\n",
       "    <!-- YANDEX_METRICA_END -->"
      ],
      "text/plain": [
       "<IPython.core.display.HTML object>"
      ]
     },
     "metadata": {},
     "output_type": "display_data"
    },
    {
     "data": {
      "text/html": [
       "В этот ноутбук встроен код Яндекс Метрики для сбора статистики использований. Если вы не хотите, чтобы по вам собиралась статистика, исправьте: yandex_metrica_allowed = False<!-- MAGICS_SETUP_PRINTING_END -->"
      ],
      "text/plain": [
       "<IPython.core.display.HTML object>"
      ]
     },
     "metadata": {},
     "output_type": "display_data"
    }
   ],
   "source": [
    "# look at tools/set_up_magics.ipynb\n",
    "yandex_metrica_allowed = True ; get_ipython().run_cell('# one_liner_str\\n\\nget_ipython().run_cell_magic(\\'javascript\\', \\'\\', \\n    \\'// setup cpp code highlighting\\\\n\\'\\n    \\'IPython.CodeCell.options_default.highlight_modes[\"text/x-c++src\"] = {\\\\\\'reg\\\\\\':[/^%%cpp/]} ;\\'\\n    \\'IPython.CodeCell.options_default.highlight_modes[\"text/x-cmake\"] = {\\\\\\'reg\\\\\\':[/^%%cmake/]} ;\\'\\n)\\n\\n# creating magics\\nfrom IPython.core.magic import register_cell_magic, register_line_magic\\nfrom IPython.display import display, Markdown, HTML\\nimport argparse\\nfrom subprocess import Popen, PIPE, STDOUT, check_output\\nimport html\\nimport random\\nimport sys\\nimport os\\nimport re\\nimport signal\\nimport shutil\\nimport shlex\\nimport glob\\nimport time\\n\\n@register_cell_magic\\ndef save_file(args_str, cell, line_comment_start=\"#\"):\\n    parser = argparse.ArgumentParser()\\n    parser.add_argument(\"fname\")\\n    parser.add_argument(\"--ejudge-style\", action=\"store_true\")\\n    parser.add_argument(\"--under-spoiler-threshold\", type=int, default=None)\\n    args = parser.parse_args(args_str.split())\\n    \\n    cell = cell if cell[-1] == \\'\\\\n\\' or args.no_eof_newline else cell + \"\\\\n\"\\n    cmds = []\\n    with open(args.fname, \"w\") as f:\\n        f.write(line_comment_start + \" %%cpp \" + args_str + \"\\\\n\")\\n        for line in cell.split(\"\\\\n\"):\\n            line_to_write = (line if not args.ejudge_style else line.rstrip()) + \"\\\\n\"\\n            if line.startswith(\"%\"):\\n                run_prefix = \"%run \"\\n                if line.startswith(run_prefix):\\n                    cmds.append(line[len(run_prefix):].strip())\\n                    f.write(line_comment_start + \" \" + line_to_write)\\n                    continue\\n                comment_prefix = \"%\" + line_comment_start\\n                if line.startswith(comment_prefix):\\n                    cmds.append(\\'#\\' + line[len(comment_prefix):].strip())\\n                    f.write(line_comment_start + \" \" + line_to_write)\\n                    continue\\n                raise Exception(\"Unknown %%save_file subcommand: \\'%s\\'\" % line)\\n            else:\\n                f.write(line_to_write)\\n        f.write(\"\" if not args.ejudge_style else line_comment_start + r\" line without \\\\n\")\\n    for cmd in cmds:\\n        if cmd.startswith(\\'#\\'):\\n            display(Markdown(\"\\\\#\\\\#\\\\#\\\\# `%s`\" % cmd[1:]))\\n        else:\\n            display(Markdown(\"Run: `%s`\" % cmd))\\n            if args.under_spoiler_threshold:\\n                out = check_output(cmd, stderr=STDOUT, shell=True, universal_newlines=True)\\n                out = out[:-1] if out.endswith(\\'\\\\n\\') else out\\n                out = html.escape(out)\\n                if len(out.split(\\'\\\\n\\')) > args.under_spoiler_threshold:\\n                    out = \"<details> <summary> output </summary> <pre><code>%s</code></pre></details>\" % out\\n                elif out:\\n                    out = \"<pre><code>%s</code></pre>\" % out\\n                if out:\\n                    display(HTML(out))\\n            else:\\n                get_ipython().system(cmd)\\n\\n@register_cell_magic\\ndef cpp(fname, cell):\\n    save_file(fname, cell, \"//\")\\n    \\n@register_cell_magic\\ndef cmake(fname, cell):\\n    save_file(fname, cell, \"#\")\\n\\n@register_cell_magic\\ndef asm(fname, cell):\\n    save_file(fname, cell, \"//\")\\n    \\n@register_cell_magic\\ndef makefile(fname, cell):\\n    fname = fname or \"makefile\"\\n    assert fname.endswith(\"makefile\")\\n    save_file(fname, cell.replace(\" \" * 4, \"\\\\t\"))\\n        \\n@register_line_magic\\ndef p(line):\\n    line = line.strip() \\n    if line[0] == \\'#\\':\\n        display(Markdown(line[1:].strip()))\\n    else:\\n        try:\\n            expr, comment = line.split(\" #\")\\n            display(Markdown(\"`{} = {}`  # {}\".format(expr.strip(), eval(expr), comment.strip())))\\n        except:\\n            display(Markdown(\"{} = {}\".format(line, eval(line))))\\n    \\n    \\ndef show_log_file(file, return_html_string=False):\\n    obj = file.replace(\\'.\\', \\'_\\').replace(\\'/\\', \\'_\\') + \"_obj\"\\n    html_string = \\'\\'\\'\\n        <!--MD_BEGIN_FILTER-->\\n        <script type=text/javascript>\\n        var entrance___OBJ__ = 0;\\n        var errors___OBJ__ = 0;\\n        function halt__OBJ__(elem, color)\\n        {\\n            elem.setAttribute(\"style\", \"font-size: 14px; background: \" + color + \"; padding: 10px; border: 3px; border-radius: 5px; color: white; \");                    \\n        }\\n        function refresh__OBJ__()\\n        {\\n            entrance___OBJ__ -= 1;\\n            if (entrance___OBJ__ < 0) {\\n                entrance___OBJ__ = 0;\\n            }\\n            var elem = document.getElementById(\"__OBJ__\");\\n            if (elem) {\\n                var xmlhttp=new XMLHttpRequest();\\n                xmlhttp.onreadystatechange=function()\\n                {\\n                    var elem = document.getElementById(\"__OBJ__\");\\n                    console.log(!!elem, xmlhttp.readyState, xmlhttp.status, entrance___OBJ__);\\n                    if (elem && xmlhttp.readyState==4) {\\n                        if (xmlhttp.status==200)\\n                        {\\n                            errors___OBJ__ = 0;\\n                            if (!entrance___OBJ__) {\\n                                if (elem.innerHTML != xmlhttp.responseText) {\\n                                    elem.innerHTML = xmlhttp.responseText;\\n                                }\\n                                if (elem.innerHTML.includes(\"Process finished.\")) {\\n                                    halt__OBJ__(elem, \"#333333\");\\n                                } else {\\n                                    entrance___OBJ__ += 1;\\n                                    console.log(\"req\");\\n                                    window.setTimeout(\"refresh__OBJ__()\", 300); \\n                                }\\n                            }\\n                            return xmlhttp.responseText;\\n                        } else {\\n                            errors___OBJ__ += 1;\\n                            if (!entrance___OBJ__) {\\n                                if (errors___OBJ__ < 6) {\\n                                    entrance___OBJ__ += 1;\\n                                    console.log(\"req\");\\n                                    window.setTimeout(\"refresh__OBJ__()\", 300); \\n                                } else {\\n                                    halt__OBJ__(elem, \"#994444\");\\n                                }\\n                            }\\n                        }\\n                    }\\n                }\\n                xmlhttp.open(\"GET\", \"__FILE__\", true);\\n                xmlhttp.setRequestHeader(\"Cache-Control\", \"no-cache\");\\n                xmlhttp.send();     \\n            }\\n        }\\n        \\n        if (!entrance___OBJ__) {\\n            entrance___OBJ__ += 1;\\n            refresh__OBJ__(); \\n        }\\n        </script>\\n\\n        <p id=\"__OBJ__\" style=\"font-size: 14px; background: #000000; padding: 10px; border: 3px; border-radius: 5px; color: white; \">\\n        </p>\\n        \\n        </font>\\n        <!--MD_END_FILTER-->\\n        <!--MD_FROM_FILE __FILE__.md -->\\n        \\'\\'\\'.replace(\"__OBJ__\", obj).replace(\"__FILE__\", file)\\n    if return_html_string:\\n        return html_string\\n    display(HTML(html_string))\\n\\n    \\nclass TInteractiveLauncher:\\n    tmp_path = \"./interactive_launcher_tmp\"\\n    def __init__(self, cmd):\\n        try:\\n            os.mkdir(TInteractiveLauncher.tmp_path)\\n        except:\\n            pass\\n        name = str(random.randint(0, 1e18))\\n        self.inq_path = os.path.join(TInteractiveLauncher.tmp_path, name + \".inq\")\\n        self.log_path = os.path.join(TInteractiveLauncher.tmp_path, name + \".log\")\\n        \\n        os.mkfifo(self.inq_path)\\n        open(self.log_path, \\'w\\').close()\\n        open(self.log_path + \".md\", \\'w\\').close()\\n\\n        self.pid = os.fork()\\n        if self.pid == -1:\\n            print(\"Error\")\\n        if self.pid == 0:\\n            exe_cands = glob.glob(\"../tools/launcher.py\") + glob.glob(\"../../tools/launcher.py\")\\n            assert(len(exe_cands) == 1)\\n            assert(os.execvp(\"python3\", [\"python3\", exe_cands[0], \"-l\", self.log_path, \"-i\", self.inq_path, \"-c\", cmd]) == 0)\\n        self.inq_f = open(self.inq_path, \"w\")\\n        interactive_launcher_opened_set.add(self.pid)\\n        show_log_file(self.log_path)\\n\\n    def write(self, s):\\n        s = s.encode()\\n        assert len(s) == os.write(self.inq_f.fileno(), s)\\n        \\n    def get_pid(self):\\n        n = 100\\n        for i in range(n):\\n            try:\\n                return int(re.findall(r\"PID = (\\\\d+)\", open(self.log_path).readline())[0])\\n            except:\\n                if i + 1 == n:\\n                    raise\\n                time.sleep(0.1)\\n        \\n    def input_queue_path(self):\\n        return self.inq_path\\n        \\n    def wait_stop(self, timeout):\\n        for i in range(int(timeout * 10)):\\n            wpid, status = os.waitpid(self.pid, os.WNOHANG)\\n            if wpid != 0:\\n                return True\\n            time.sleep(0.1)\\n        return False\\n        \\n    def close(self, timeout=3):\\n        self.inq_f.close()\\n        if not self.wait_stop(timeout):\\n            os.kill(self.get_pid(), signal.SIGKILL)\\n            os.waitpid(self.pid, 0)\\n        os.remove(self.inq_path)\\n        # os.remove(self.log_path)\\n        self.inq_path = None\\n        self.log_path = None \\n        interactive_launcher_opened_set.remove(self.pid)\\n        self.pid = None\\n        \\n    @staticmethod\\n    def terminate_all():\\n        if \"interactive_launcher_opened_set\" not in globals():\\n            globals()[\"interactive_launcher_opened_set\"] = set()\\n        global interactive_launcher_opened_set\\n        for pid in interactive_launcher_opened_set:\\n            print(\"Terminate pid=\" + str(pid), file=sys.stderr)\\n            os.kill(pid, signal.SIGKILL)\\n            os.waitpid(pid, 0)\\n        interactive_launcher_opened_set = set()\\n        if os.path.exists(TInteractiveLauncher.tmp_path):\\n            shutil.rmtree(TInteractiveLauncher.tmp_path)\\n    \\nTInteractiveLauncher.terminate_all()\\n   \\nyandex_metrica_allowed = bool(globals().get(\"yandex_metrica_allowed\", False))\\nif yandex_metrica_allowed:\\n    display(HTML(\\'\\'\\'<!-- YANDEX_METRICA_BEGIN -->\\n    <script type=\"text/javascript\" >\\n       (function(m,e,t,r,i,k,a){m[i]=m[i]||function(){(m[i].a=m[i].a||[]).push(arguments)};\\n       m[i].l=1*new Date();k=e.createElement(t),a=e.getElementsByTagName(t)[0],k.async=1,k.src=r,a.parentNode.insertBefore(k,a)})\\n       (window, document, \"script\", \"https://mc.yandex.ru/metrika/tag.js\", \"ym\");\\n\\n       ym(59260609, \"init\", {\\n            clickmap:true,\\n            trackLinks:true,\\n            accurateTrackBounce:true\\n       });\\n    </script>\\n    <noscript><div><img src=\"https://mc.yandex.ru/watch/59260609\" style=\"position:absolute; left:-9999px;\" alt=\"\" /></div></noscript>\\n    <!-- YANDEX_METRICA_END -->\\'\\'\\'))\\n\\ndef make_oneliner():\\n    html_text = \\'(\"В этот ноутбук встроен код Яндекс Метрики для сбора статистики использований. Если вы не хотите, чтобы по вам собиралась статистика, исправьте: yandex_metrica_allowed = False\" if yandex_metrica_allowed else \"\")\\'\\n    html_text += \\' + \"<\"\"!-- MAGICS_SETUP_PRINTING_END -->\"\\'\\n    return \\'\\'.join([\\n        \\'# look at tools/set_up_magics.ipynb\\\\n\\',\\n        \\'yandex_metrica_allowed = True ; get_ipython().run_cell(%s);\\' % repr(one_liner_str),\\n        \\'display(HTML(%s))\\' % html_text,\\n        \\' #\\'\\'MAGICS_SETUP_END\\'\\n    ])\\n       \\n\\n');display(HTML((\"В этот ноутбук встроен код Яндекс Метрики для сбора статистики использований. Если вы не хотите, чтобы по вам собиралась статистика, исправьте: yandex_metrica_allowed = False\" if yandex_metrica_allowed else \"\") + \"<\"\"!-- MAGICS_SETUP_PRINTING_END -->\")) #MAGICS_SETUP_END"
   ]
  },
  {
   "cell_type": "markdown",
   "metadata": {},
   "source": [
    "# Аттрибуты файлов и файловых дескрипторов\n",
    "\n",
    "<p><a href=\"https://www.youtube.com/watch?v=bMmE7PPA1LQ&list=PLjzMm8llUm4AmU6i_hPU0NobgA4VsBowc&index=12\" target=\"_blank\">\n",
    "    <h3>Видеозапись семинара</h3>\n",
    "</a></p>\n",
    "\n",
    "\n",
    "[Ридинг Яковлева](https://github.com/victor-yacovlev/mipt-diht-caos/tree/master/practice/stat_fcntl) \n",
    "\n",
    "\n",
    "Сегодня в программе:\n",
    "* <a href=\"#stat\" style=\"color:#856024\"> Атрибуты файлов и разные способы их получения </a>  \n",
    "  * <a href=\"#time\" style=\"color:#856024\"> Извлечем время доступа из атрибутов файла </a>  \n",
    "  * <a href=\"#username\" style=\"color:#856024\"> Определим логин пользователя, изменившего файл </a>  \n",
    "  * <a href=\"#access\" style=\"color:#856024\"> Проверим свои права на файл </a>  \n",
    "* <a href=\"#link\" style=\"color:#856024\"> Ссылки жесткие и символические </a>  \n",
    "* <a href=\"#fds\" style=\"color:#856024\"> Атрибуты файловых дескрипторов </a> \n",
    "* <a href=\"#hw\" style=\"color:#856024\"> Комментарии к ДЗ </a> \n"
   ]
  },
  {
   "cell_type": "markdown",
   "metadata": {},
   "source": [
    "## <a name=\"stat\"></a> Атрибуты файлов и разные способы их получения\n",
    "\n",
    "Сигнатуры функций, с помощью которых можно получить аттрибуты\n",
    "\n",
    "```c\n",
    "#include <sys/types.h>\n",
    "#include <sys/stat.h>\n",
    "#include <unistd.h>\n",
    "\n",
    "int stat(const char *pathname, struct stat *buf);\n",
    "int fstat(int fd, struct stat *buf);\n",
    "int lstat(const char *pathname, struct stat *buf);\n",
    "\n",
    "#include <fcntl.h>           /* Definition of AT_* constants */\n",
    "#include <sys/stat.h>\n",
    "\n",
    "int fstatat(int dirfd, const char *pathname, struct stat *buf,\n",
    "\t\t   int flags);\n",
    "```\n",
    "\n",
    "\n",
    "Описание структуры из `man 2 stat`:\n",
    "\n",
    "```c\n",
    "struct stat {\n",
    "   dev_t     st_dev;         /* ID of device containing file */\n",
    "   ino_t     st_ino;         /* inode number */\n",
    "   mode_t    st_mode;        /* protection */\n",
    "   nlink_t   st_nlink;       /* number of hard links */\n",
    "   uid_t     st_uid;         /* user ID of owner */\n",
    "   gid_t     st_gid;         /* group ID of owner */\n",
    "   dev_t     st_rdev;        /* device ID (if special file) */\n",
    "   off_t     st_size;        /* total size, in bytes */\n",
    "   blksize_t st_blksize;     /* blocksize for filesystem I/O */\n",
    "   blkcnt_t  st_blocks;      /* number of 512B blocks allocated */\n",
    "\n",
    "   /* Since Linux 2.6, the kernel supports nanosecond\n",
    "      precision for the following timestamp fields.\n",
    "      For the details before Linux 2.6, see NOTES. */\n",
    "\n",
    "   struct timespec st_atim;  /* time of last access */\n",
    "   struct timespec st_mtim;  /* time of last modification */\n",
    "   struct timespec st_ctim;  /* time of last status change */\n",
    "\n",
    "#define st_atime st_atim.tv_sec      /* Backward compatibility */\n",
    "#define st_mtime st_mtim.tv_sec\n",
    "#define st_ctime st_ctim.tv_sec\n",
    "};\n",
    "```\n",
    "\n",
    "Особый интерес будет представлять поле `.st_mode`\n",
    "\n",
    "Биты соответствующие маскам:\n",
    "* `0170000` - тип файла.\n",
    "\n",
    "  Эти биты стоит рассматривать как одно число, по значению которого можно определить тип файла. Сравнивая это число с:  \n",
    "    * `S_IFSOCK   0140000   socket`\n",
    "    * `S_IFLNK    0120000   symbolic link`\n",
    "    * `S_IFREG    0100000   regular file`\n",
    "    * `S_IFBLK    0060000   block device`\n",
    "    * `S_IFDIR    0040000   directory`\n",
    "    * `S_IFCHR    0020000   character device`\n",
    "    * `S_IFIFO    0010000   FIFO`\n",
    "* `0777` - права на файл.\n",
    "\n",
    "  Эти биты можно рассматривать как независимые биты, каджый из которых отвечает за право (пользователя, его группы, всех остальных) (читать/писать/выполнять) файл."
   ]
  },
  {
   "cell_type": "markdown",
   "metadata": {},
   "source": [
    "**fstat** - смотрит по файловому дескриптору"
   ]
  },
  {
   "cell_type": "code",
   "execution_count": 36,
   "metadata": {
    "scrolled": true
   },
   "outputs": [
    {
     "data": {
      "text/markdown": [
       "Run: `gcc stat.c -o stat.exe`"
      ],
      "text/plain": [
       "<IPython.core.display.Markdown object>"
      ]
     },
     "metadata": {},
     "output_type": "display_data"
    },
    {
     "data": {
      "text/markdown": [
       "Run: `rm -rf tmp && mkdir tmp && touch tmp/a && ln -s ./a tmp/a_link && mkdir tmp/dir`"
      ],
      "text/plain": [
       "<IPython.core.display.Markdown object>"
      ]
     },
     "metadata": {},
     "output_type": "display_data"
    },
    {
     "data": {
      "text/markdown": [
       "Run: `./stat.exe < tmp/a`"
      ],
      "text/plain": [
       "<IPython.core.display.Markdown object>"
      ]
     },
     "metadata": {},
     "output_type": "display_data"
    },
    {
     "name": "stdout",
     "output_type": "stream",
     "text": [
      "is regular: yes    is directory: no     is symbolic link: no \r\n"
     ]
    },
    {
     "data": {
      "text/markdown": [
       "Run: `./stat.exe < tmp/dir`"
      ],
      "text/plain": [
       "<IPython.core.display.Markdown object>"
      ]
     },
     "metadata": {},
     "output_type": "display_data"
    },
    {
     "name": "stdout",
     "output_type": "stream",
     "text": [
      "is regular: no     is directory: yes    is symbolic link: no \r\n"
     ]
    },
    {
     "data": {
      "text/markdown": [
       "Run: `./stat.exe < tmp/a_link`"
      ],
      "text/plain": [
       "<IPython.core.display.Markdown object>"
      ]
     },
     "metadata": {},
     "output_type": "display_data"
    },
    {
     "name": "stdout",
     "output_type": "stream",
     "text": [
      "is regular: yes    is directory: no     is symbolic link: no \r\n"
     ]
    }
   ],
   "source": [
    "%%cpp stat.c\n",
    "%run gcc stat.c -o stat.exe\n",
    "%run rm -rf tmp && mkdir tmp && touch tmp/a && ln -s ./a tmp/a_link && mkdir tmp/dir\n",
    "%run ./stat.exe < tmp/a\n",
    "%run ./stat.exe < tmp/dir\n",
    "%run ./stat.exe < tmp/a_link\n",
    "\n",
    "#include <sys/types.h>\n",
    "#include <sys/stat.h>\n",
    "#include <fcntl.h>\n",
    "#include <unistd.h>\n",
    "#include <stdio.h>\n",
    "#include <assert.h>\n",
    "\n",
    "int main(int argc, char *argv[])\n",
    "{   \n",
    "    struct stat s;\n",
    "    fstat(0, &s); // get stat for stdin\n",
    "    printf(\"is regular: %s    \", ((s.st_mode & S_IFMT) == S_IFREG) ? \"yes\" : \"no \"); // can use predefined mask\n",
    "    printf(\"is directory: %s    \", S_ISDIR(s.st_mode) ? \"yes\" : \"no \"); // or predefined macro\n",
    "    printf(\"is symbolic link: %s\\n\", S_ISLNK(s.st_mode) ? \"yes\" : \"no \"); \n",
    "    return 0;\n",
    "}"
   ]
  },
  {
   "cell_type": "markdown",
   "metadata": {},
   "source": [
    "Обратите внимание, что для симлинки результат показан как для регулярного файла, на который она ссылается.\n",
    "Тут, вероятно, замешан bash, который открывает файл на месте stdin для нашей программы. Видно, что он проходит по симлинкам.\n",
    "\n",
    "**stat** - смотри по имени файла, следует по симлинкам"
   ]
  },
  {
   "cell_type": "code",
   "execution_count": 7,
   "metadata": {},
   "outputs": [
    {
     "data": {
      "text/markdown": [
       "Run: `gcc stat.c -o stat.exe`"
      ],
      "text/plain": [
       "<IPython.core.display.Markdown object>"
      ]
     },
     "metadata": {},
     "output_type": "display_data"
    },
    {
     "data": {
      "text/markdown": [
       "Run: `rm -rf tmp && mkdir tmp && touch tmp/a && ln -s ./a tmp/a_link && mkdir tmp/dir`"
      ],
      "text/plain": [
       "<IPython.core.display.Markdown object>"
      ]
     },
     "metadata": {},
     "output_type": "display_data"
    },
    {
     "data": {
      "text/markdown": [
       "Run: `./stat.exe tmp/a`"
      ],
      "text/plain": [
       "<IPython.core.display.Markdown object>"
      ]
     },
     "metadata": {},
     "output_type": "display_data"
    },
    {
     "name": "stdout",
     "output_type": "stream",
     "text": [
      "is regular: yes    is directory: no     is symbolic link: no \r\n"
     ]
    },
    {
     "data": {
      "text/markdown": [
       "Run: `./stat.exe tmp/dir`"
      ],
      "text/plain": [
       "<IPython.core.display.Markdown object>"
      ]
     },
     "metadata": {},
     "output_type": "display_data"
    },
    {
     "name": "stdout",
     "output_type": "stream",
     "text": [
      "is regular: no     is directory: yes    is symbolic link: no \r\n"
     ]
    },
    {
     "data": {
      "text/markdown": [
       "Run: `./stat.exe tmp/a_link`"
      ],
      "text/plain": [
       "<IPython.core.display.Markdown object>"
      ]
     },
     "metadata": {},
     "output_type": "display_data"
    },
    {
     "name": "stdout",
     "output_type": "stream",
     "text": [
      "is regular: yes    is directory: no     is symbolic link: no \r\n"
     ]
    }
   ],
   "source": [
    "%%cpp stat.c\n",
    "%run gcc stat.c -o stat.exe\n",
    "%run rm -rf tmp && mkdir tmp && touch tmp/a && ln -s ./a tmp/a_link && mkdir tmp/dir\n",
    "%run ./stat.exe tmp/a\n",
    "%run ./stat.exe tmp/dir\n",
    "%run ./stat.exe tmp/a_link\n",
    "\n",
    "#include <sys/types.h>\n",
    "#include <sys/stat.h>\n",
    "#include <fcntl.h>\n",
    "#include <unistd.h>\n",
    "#include <stdio.h>\n",
    "#include <assert.h>\n",
    "\n",
    "int main(int argc, char *argv[])\n",
    "{   \n",
    "    assert(argc == 2);\n",
    "    struct stat s;\n",
    "    stat(argv[1], &s); // Следует по симлинкам\n",
    "    printf(\"is regular: %s    \", ((s.st_mode & S_IFMT) == S_IFREG) ? \"yes\" : \"no \"); // can use predefined mask\n",
    "    printf(\"is directory: %s    \", S_ISDIR(s.st_mode) ? \"yes\" : \"no \"); // or predefined macro\n",
    "    printf(\"is symbolic link: %s\\n\", S_ISLNK(s.st_mode) ? \"yes\" : \"no \");\n",
    "    return 0;\n",
    "}"
   ]
  },
  {
   "cell_type": "markdown",
   "metadata": {},
   "source": [
    "Обратите внимание, что для симлинки результат показан как для регулярного файла, на который она ссылается.\n",
    "\n",
    "**lstat** - смотрит по имени файла, не следует по симлинкам."
   ]
  },
  {
   "cell_type": "code",
   "execution_count": 8,
   "metadata": {},
   "outputs": [
    {
     "data": {
      "text/markdown": [
       "Run: `gcc stat.c -o stat.exe`"
      ],
      "text/plain": [
       "<IPython.core.display.Markdown object>"
      ]
     },
     "metadata": {},
     "output_type": "display_data"
    },
    {
     "data": {
      "text/markdown": [
       "Run: `rm -rf tmp && mkdir tmp && touch tmp/a && ln -s ./a tmp/a_link && mkdir tmp/dir`"
      ],
      "text/plain": [
       "<IPython.core.display.Markdown object>"
      ]
     },
     "metadata": {},
     "output_type": "display_data"
    },
    {
     "data": {
      "text/markdown": [
       "Run: `./stat.exe tmp/a`"
      ],
      "text/plain": [
       "<IPython.core.display.Markdown object>"
      ]
     },
     "metadata": {},
     "output_type": "display_data"
    },
    {
     "name": "stdout",
     "output_type": "stream",
     "text": [
      "is regular: yes    is directory: no     is symbolic link: no \r\n"
     ]
    },
    {
     "data": {
      "text/markdown": [
       "Run: `./stat.exe tmp/dir`"
      ],
      "text/plain": [
       "<IPython.core.display.Markdown object>"
      ]
     },
     "metadata": {},
     "output_type": "display_data"
    },
    {
     "name": "stdout",
     "output_type": "stream",
     "text": [
      "is regular: no     is directory: yes    is symbolic link: no \r\n"
     ]
    },
    {
     "data": {
      "text/markdown": [
       "Run: `./stat.exe tmp/a_link`"
      ],
      "text/plain": [
       "<IPython.core.display.Markdown object>"
      ]
     },
     "metadata": {},
     "output_type": "display_data"
    },
    {
     "name": "stdout",
     "output_type": "stream",
     "text": [
      "is regular: no     is directory: no     is symbolic link: yes\r\n"
     ]
    }
   ],
   "source": [
    "%%cpp stat.c\n",
    "%run gcc stat.c -o stat.exe\n",
    "%run rm -rf tmp && mkdir tmp && touch tmp/a && ln -s ./a tmp/a_link && mkdir tmp/dir\n",
    "%run ./stat.exe tmp/a\n",
    "%run ./stat.exe tmp/dir\n",
    "%run ./stat.exe tmp/a_link\n",
    "\n",
    "#include <sys/types.h>\n",
    "#include <sys/stat.h>\n",
    "#include <fcntl.h>\n",
    "#include <unistd.h>\n",
    "#include <stdio.h>\n",
    "#include <assert.h>\n",
    "\n",
    "int main(int argc, char *argv[])\n",
    "{   \n",
    "    assert(argc == 2);\n",
    "    struct stat s;\n",
    "    lstat(argv[1], &s); // Не следует по симлинкам, то есть можно узнать stat самого файла симлинки\n",
    "    printf(\"is regular: %s    \", ((s.st_mode & S_IFMT) == S_IFREG) ? \"yes\" : \"no \"); // can use predefined mask\n",
    "    printf(\"is directory: %s    \", S_ISDIR(s.st_mode) ? \"yes\" : \"no \"); // or predefined macro\n",
    "    printf(\"is symbolic link: %s\\n\", S_ISLNK(s.st_mode) ? \"yes\" : \"no \");\n",
    "    return 0;\n",
    "}"
   ]
  },
  {
   "cell_type": "markdown",
   "metadata": {},
   "source": [
    "Сейчас результат для симлинки показан как для самой симлинки. Так как используем специальную функцию.\n",
    "\n",
    "**open(...O_NOFOLLOW | O_PATH) + fstat** - открываем файл так, чтобы не следовать по симлинкам и далее смотрим его stat\n",
    "\n",
    "Кстати, открываем не очень честно. С опцией O_PATH нельзя потом применять read, write и еще некоторые операции."
   ]
  },
  {
   "cell_type": "code",
   "execution_count": 9,
   "metadata": {},
   "outputs": [
    {
     "data": {
      "text/markdown": [
       "Run: `gcc stat.c -o stat.exe`"
      ],
      "text/plain": [
       "<IPython.core.display.Markdown object>"
      ]
     },
     "metadata": {},
     "output_type": "display_data"
    },
    {
     "data": {
      "text/markdown": [
       "Run: `rm -rf tmp && mkdir tmp && touch tmp/a && ln -s ./a tmp/a_link && mkdir tmp/dir`"
      ],
      "text/plain": [
       "<IPython.core.display.Markdown object>"
      ]
     },
     "metadata": {},
     "output_type": "display_data"
    },
    {
     "data": {
      "text/markdown": [
       "Run: `./stat.exe tmp/a`"
      ],
      "text/plain": [
       "<IPython.core.display.Markdown object>"
      ]
     },
     "metadata": {},
     "output_type": "display_data"
    },
    {
     "name": "stdout",
     "output_type": "stream",
     "text": [
      "is regular: yes    is directory: no     is symbolic link: no \r\n"
     ]
    },
    {
     "data": {
      "text/markdown": [
       "Run: `./stat.exe tmp/dir`"
      ],
      "text/plain": [
       "<IPython.core.display.Markdown object>"
      ]
     },
     "metadata": {},
     "output_type": "display_data"
    },
    {
     "name": "stdout",
     "output_type": "stream",
     "text": [
      "is regular: no     is directory: yes    is symbolic link: no \r\n"
     ]
    },
    {
     "data": {
      "text/markdown": [
       "Run: `./stat.exe tmp/a_link`"
      ],
      "text/plain": [
       "<IPython.core.display.Markdown object>"
      ]
     },
     "metadata": {},
     "output_type": "display_data"
    },
    {
     "name": "stdout",
     "output_type": "stream",
     "text": [
      "is regular: no     is directory: no     is symbolic link: yes\r\n"
     ]
    }
   ],
   "source": [
    "%%cpp stat.c\n",
    "%run gcc stat.c -o stat.exe\n",
    "%run rm -rf tmp && mkdir tmp && touch tmp/a && ln -s ./a tmp/a_link && mkdir tmp/dir\n",
    "%run ./stat.exe tmp/a\n",
    "%run ./stat.exe tmp/dir\n",
    "%run ./stat.exe tmp/a_link\n",
    "\n",
    "#define _GNU_SOURCE // need for O_PATH\n",
    "\n",
    "#include <sys/types.h>\n",
    "#include <sys/stat.h>\n",
    "#include <fcntl.h>\n",
    "#include <unistd.h>\n",
    "#include <stdio.h>\n",
    "#include <assert.h>\n",
    "\n",
    "int main(int argc, char *argv[])\n",
    "{   \n",
    "    assert(argc == 2);\n",
    "    struct stat s;\n",
    "    int fd = open(argv[1], O_RDONLY | O_NOFOLLOW | O_PATH);\n",
    "    assert(fd >= 0);\n",
    "    fstat(fd, &s); \n",
    "    printf(\"is regular: %s    \", ((s.st_mode & S_IFMT) == S_IFREG) ? \"yes\" : \"no \"); // can use predefined mask\n",
    "    printf(\"is directory: %s    \", S_ISDIR(s.st_mode) ? \"yes\" : \"no \"); // or predefined macro\n",
    "    printf(\"is symbolic link: %s\\n\", S_ISLNK(s.st_mode) ? \"yes\" : \"no \");\n",
    "    close(fd);\n",
    "    return 0;\n",
    "}"
   ]
  },
  {
   "cell_type": "markdown",
   "metadata": {},
   "source": [
    "Здесь тоже результат показан для самой симлинки, поскольку вызываем open со специальными опциями, чтобы не следовать по симлинкам.\n",
    "\n",
    "**Поэтому важно понимать, какое поведение вы хотите и использовать stat, fstat или lstat**"
   ]
  },
  {
   "cell_type": "markdown",
   "metadata": {},
   "source": [
    "## <a name=\"time\"></a> Извлечем время доступа из атрибутов файла"
   ]
  },
  {
   "cell_type": "code",
   "execution_count": 52,
   "metadata": {},
   "outputs": [
    {
     "data": {
      "text/markdown": [
       "Run: `gcc stat.c -o stat.exe`"
      ],
      "text/plain": [
       "<IPython.core.display.Markdown object>"
      ]
     },
     "metadata": {},
     "output_type": "display_data"
    },
    {
     "data": {
      "text/markdown": [
       "Run: `rm -rf tmp && mkdir tmp`"
      ],
      "text/plain": [
       "<IPython.core.display.Markdown object>"
      ]
     },
     "metadata": {},
     "output_type": "display_data"
    },
    {
     "data": {
      "text/markdown": [
       "Run: `touch tmp/a && sleep 2`"
      ],
      "text/plain": [
       "<IPython.core.display.Markdown object>"
      ]
     },
     "metadata": {},
     "output_type": "display_data"
    },
    {
     "data": {
      "text/markdown": [
       "Run: `ln -s ./a tmp/a_link && sleep 2`"
      ],
      "text/plain": [
       "<IPython.core.display.Markdown object>"
      ]
     },
     "metadata": {},
     "output_type": "display_data"
    },
    {
     "data": {
      "text/markdown": [
       "Run: `mkdir tmp/dir`"
      ],
      "text/plain": [
       "<IPython.core.display.Markdown object>"
      ]
     },
     "metadata": {},
     "output_type": "display_data"
    },
    {
     "data": {
      "text/markdown": [
       "Run: `./stat.exe < tmp/a`"
      ],
      "text/plain": [
       "<IPython.core.display.Markdown object>"
      ]
     },
     "metadata": {},
     "output_type": "display_data"
    },
    {
     "name": "stdout",
     "output_type": "stream",
     "text": [
      "update time: Sat Nov 14 07:39:39 2020\r\n",
      "access time: Sat Nov 14 07:39:39 2020\r\n"
     ]
    },
    {
     "data": {
      "text/markdown": [
       "Run: `./stat.exe < tmp/dir`"
      ],
      "text/plain": [
       "<IPython.core.display.Markdown object>"
      ]
     },
     "metadata": {},
     "output_type": "display_data"
    },
    {
     "name": "stdout",
     "output_type": "stream",
     "text": [
      "update time: Sat Nov 14 07:39:44 2020\r\n",
      "access time: Sat Nov 14 07:39:44 2020\r\n"
     ]
    },
    {
     "data": {
      "text/markdown": [
       "Run: `./stat.exe < tmp/a_link`"
      ],
      "text/plain": [
       "<IPython.core.display.Markdown object>"
      ]
     },
     "metadata": {},
     "output_type": "display_data"
    },
    {
     "name": "stdout",
     "output_type": "stream",
     "text": [
      "update time: Sat Nov 14 07:39:39 2020\r\n",
      "access time: Sat Nov 14 07:39:39 2020\r\n"
     ]
    }
   ],
   "source": [
    "%%cpp stat.c\n",
    "%run gcc stat.c -o stat.exe\n",
    "\n",
    "%run rm -rf tmp && mkdir tmp \n",
    "%run touch tmp/a && sleep 2 \n",
    "%run ln -s ./a tmp/a_link && sleep 2 \n",
    "%run mkdir tmp/dir\n",
    "\n",
    "%run ./stat.exe < tmp/a\n",
    "%run ./stat.exe < tmp/dir \n",
    "%run ./stat.exe < tmp/a_link\n",
    "\n",
    "\n",
    "#include <sys/types.h>\n",
    "#include <sys/stat.h>\n",
    "#include <fcntl.h>\n",
    "#include <unistd.h>\n",
    "#include <stdio.h>\n",
    "#include <assert.h>\n",
    "#include <time.h>\n",
    "\n",
    "int main(int argc, char *argv[])\n",
    "{   \n",
    "    struct stat s;\n",
    "    fstat(0, &s); \n",
    "    \n",
    "    printf(\"update time: %s\", asctime(gmtime(&s.st_mtim.tv_sec))); // '\\n' есть в строке генерируемой asctime\n",
    "    printf(\"access time: %s\", asctime(gmtime(&s.st_atim.tv_sec)));\n",
    "\n",
    "    return 0;\n",
    "}"
   ]
  },
  {
   "cell_type": "markdown",
   "metadata": {},
   "source": [
    "## example from man 2 stat"
   ]
  },
  {
   "cell_type": "code",
   "execution_count": 53,
   "metadata": {},
   "outputs": [
    {
     "data": {
      "text/markdown": [
       "Run: `gcc stat.c -o stat.exe`"
      ],
      "text/plain": [
       "<IPython.core.display.Markdown object>"
      ]
     },
     "metadata": {},
     "output_type": "display_data"
    },
    {
     "data": {
      "text/markdown": [
       "Run: `rm -rf tmp && mkdir tmp`"
      ],
      "text/plain": [
       "<IPython.core.display.Markdown object>"
      ]
     },
     "metadata": {},
     "output_type": "display_data"
    },
    {
     "data": {
      "text/markdown": [
       "Run: `touch tmp/a`"
      ],
      "text/plain": [
       "<IPython.core.display.Markdown object>"
      ]
     },
     "metadata": {},
     "output_type": "display_data"
    },
    {
     "data": {
      "text/markdown": [
       "Run: `ln -s ./a tmp/a_link`"
      ],
      "text/plain": [
       "<IPython.core.display.Markdown object>"
      ]
     },
     "metadata": {},
     "output_type": "display_data"
    },
    {
     "data": {
      "text/markdown": [
       "Run: `mkdir tmp/dir`"
      ],
      "text/plain": [
       "<IPython.core.display.Markdown object>"
      ]
     },
     "metadata": {},
     "output_type": "display_data"
    },
    {
     "data": {
      "text/markdown": [
       "Run: `./stat.exe tmp/a`"
      ],
      "text/plain": [
       "<IPython.core.display.Markdown object>"
      ]
     },
     "metadata": {},
     "output_type": "display_data"
    },
    {
     "name": "stdout",
     "output_type": "stream",
     "text": [
      "File type:                regular file\r\n",
      "I-node number:            4723909\r\n",
      "Mode:                     100664 (octal)\r\n",
      "Link count:               1\r\n",
      "Ownership:                UID=1000   GID=1000\r\n",
      "Preferred I/O block size: 4096 bytes\r\n",
      "File size:                0 bytes\r\n",
      "Blocks allocated:         0\r\n",
      "Last status change:       Sat Nov 14 10:40:15 2020\r\n",
      "Last file access:         Sat Nov 14 10:40:15 2020\r\n",
      "Last file modification:   Sat Nov 14 10:40:15 2020\r\n"
     ]
    },
    {
     "data": {
      "text/markdown": [
       "Run: `./stat.exe tmp/dir`"
      ],
      "text/plain": [
       "<IPython.core.display.Markdown object>"
      ]
     },
     "metadata": {},
     "output_type": "display_data"
    },
    {
     "name": "stdout",
     "output_type": "stream",
     "text": [
      "File type:                directory\r\n",
      "I-node number:            4723911\r\n",
      "Mode:                     40775 (octal)\r\n",
      "Link count:               2\r\n",
      "Ownership:                UID=1000   GID=1000\r\n",
      "Preferred I/O block size: 4096 bytes\r\n",
      "File size:                4096 bytes\r\n",
      "Blocks allocated:         8\r\n",
      "Last status change:       Sat Nov 14 10:40:15 2020\r\n",
      "Last file access:         Sat Nov 14 10:40:15 2020\r\n",
      "Last file modification:   Sat Nov 14 10:40:15 2020\r\n"
     ]
    },
    {
     "data": {
      "text/markdown": [
       "Run: `./stat.exe tmp/a_link`"
      ],
      "text/plain": [
       "<IPython.core.display.Markdown object>"
      ]
     },
     "metadata": {},
     "output_type": "display_data"
    },
    {
     "name": "stdout",
     "output_type": "stream",
     "text": [
      "File type:                regular file\r\n",
      "I-node number:            4723909\r\n",
      "Mode:                     100664 (octal)\r\n",
      "Link count:               1\r\n",
      "Ownership:                UID=1000   GID=1000\r\n",
      "Preferred I/O block size: 4096 bytes\r\n",
      "File size:                0 bytes\r\n",
      "Blocks allocated:         0\r\n",
      "Last status change:       Sat Nov 14 10:40:15 2020\r\n",
      "Last file access:         Sat Nov 14 10:40:15 2020\r\n",
      "Last file modification:   Sat Nov 14 10:40:15 2020\r\n"
     ]
    },
    {
     "data": {
      "text/markdown": [
       "Run: `./stat.exe /bin/sh`"
      ],
      "text/plain": [
       "<IPython.core.display.Markdown object>"
      ]
     },
     "metadata": {},
     "output_type": "display_data"
    },
    {
     "name": "stdout",
     "output_type": "stream",
     "text": [
      "File type:                regular file\r\n",
      "I-node number:            1835214\r\n",
      "Mode:                     100755 (octal)\r\n",
      "Link count:               1\r\n",
      "Ownership:                UID=0   GID=0\r\n",
      "Preferred I/O block size: 4096 bytes\r\n",
      "File size:                129816 bytes\r\n",
      "Blocks allocated:         256\r\n",
      "Last status change:       Sat May 16 15:45:50 2020\r\n",
      "Last file access:         Fri Nov 13 15:30:01 2020\r\n",
      "Last file modification:   Thu Jul 18 21:15:27 2019\r\n"
     ]
    }
   ],
   "source": [
    "%%cpp stat.c\n",
    "%run gcc stat.c -o stat.exe\n",
    "\n",
    "%run rm -rf tmp && mkdir tmp \n",
    "%run touch tmp/a\n",
    "%run ln -s ./a tmp/a_link\n",
    "%run mkdir tmp/dir\n",
    "\n",
    "%run ./stat.exe tmp/a\n",
    "%run ./stat.exe tmp/dir \n",
    "%run ./stat.exe tmp/a_link\n",
    "%run ./stat.exe /bin/sh\n",
    "\n",
    "#include <sys/types.h>\n",
    "#include <sys/stat.h>\n",
    "#include <time.h>\n",
    "#include <stdio.h>\n",
    "#include <stdlib.h>\n",
    "\n",
    "int main(int argc, char *argv[])\n",
    "{\n",
    "   struct stat sb;\n",
    "\n",
    "   if (argc != 2) {\n",
    "       fprintf(stderr, \"Usage: %s <pathname>\\n\", argv[0]);\n",
    "       exit(EXIT_FAILURE);\n",
    "   }\n",
    "\n",
    "   if (stat(argv[1], &sb) == -1) {\n",
    "       perror(\"stat\");\n",
    "       exit(EXIT_FAILURE);\n",
    "   }\n",
    "\n",
    "   printf(\"File type:                \");\n",
    "\n",
    "   switch (sb.st_mode & S_IFMT) {\n",
    "       case S_IFBLK:  printf(\"block device\\n\");            break;\n",
    "       case S_IFCHR:  printf(\"character device\\n\");        break;\n",
    "       case S_IFDIR:  printf(\"directory\\n\");               break;\n",
    "       case S_IFIFO:  printf(\"FIFO/pipe\\n\");               break;\n",
    "       case S_IFLNK:  printf(\"symlink\\n\");                 break;\n",
    "       case S_IFREG:  printf(\"regular file\\n\");            break;\n",
    "       case S_IFSOCK: printf(\"socket\\n\");                  break;\n",
    "       default:       printf(\"unknown?\\n\");                break;\n",
    "   }\n",
    "\n",
    "   printf(\"I-node number:            %ld\\n\", (long) sb.st_ino);\n",
    "\n",
    "   printf(\"Mode:                     %lo (octal)\\n\",\n",
    "           (unsigned long) sb.st_mode);\n",
    "\n",
    "   printf(\"Link count:               %ld\\n\", (long) sb.st_nlink);\n",
    "   printf(\"Ownership:                UID=%ld   GID=%ld\\n\",\n",
    "           (long) sb.st_uid, (long) sb.st_gid);\n",
    "\n",
    "   printf(\"Preferred I/O block size: %ld bytes\\n\",\n",
    "           (long) sb.st_blksize);\n",
    "   printf(\"File size:                %lld bytes\\n\",\n",
    "           (long long) sb.st_size);\n",
    "   printf(\"Blocks allocated:         %lld\\n\",\n",
    "           (long long) sb.st_blocks);\n",
    "\n",
    "   printf(\"Last status change:       %s\", ctime(&sb.st_ctime));\n",
    "   printf(\"Last file access:         %s\", ctime(&sb.st_atime));\n",
    "   printf(\"Last file modification:   %s\", ctime(&sb.st_mtime));\n",
    "\n",
    "   exit(EXIT_SUCCESS);\n",
    "}"
   ]
  },
  {
   "cell_type": "markdown",
   "metadata": {},
   "source": [
    "## <a name=\"username\"></a> get user string name"
   ]
  },
  {
   "cell_type": "code",
   "execution_count": 41,
   "metadata": {},
   "outputs": [
    {
     "data": {
      "text/markdown": [
       "Run: `gcc stat.c -o stat.exe`"
      ],
      "text/plain": [
       "<IPython.core.display.Markdown object>"
      ]
     },
     "metadata": {},
     "output_type": "display_data"
    },
    {
     "data": {
      "text/markdown": [
       "Run: `rm -r tmp2 ; mkdir tmp2`"
      ],
      "text/plain": [
       "<IPython.core.display.Markdown object>"
      ]
     },
     "metadata": {},
     "output_type": "display_data"
    },
    {
     "data": {
      "text/markdown": [
       "Run: `touch tmp2/a && echo $PASSWORD | sudo -S touch tmp2/b # create this file with sudo`"
      ],
      "text/plain": [
       "<IPython.core.display.Markdown object>"
      ]
     },
     "metadata": {},
     "output_type": "display_data"
    },
    {
     "name": "stdout",
     "output_type": "stream",
     "text": [
      "[sudo] password for pechatnov: "
     ]
    },
    {
     "data": {
      "text/markdown": [
       "Run: `./stat.exe < tmp2/a  # created by me`"
      ],
      "text/plain": [
       "<IPython.core.display.Markdown object>"
      ]
     },
     "metadata": {},
     "output_type": "display_data"
    },
    {
     "name": "stdout",
     "output_type": "stream",
     "text": [
      "pechatnov\r\n"
     ]
    },
    {
     "data": {
      "text/markdown": [
       "Run: `./stat.exe < tmp2/b  # created by root (with sudo)`"
      ],
      "text/plain": [
       "<IPython.core.display.Markdown object>"
      ]
     },
     "metadata": {},
     "output_type": "display_data"
    },
    {
     "name": "stdout",
     "output_type": "stream",
     "text": [
      "root\r\n"
     ]
    }
   ],
   "source": [
    "%%cpp stat.c\n",
    "%run gcc stat.c -o stat.exe\n",
    "%run rm -r tmp2 ; mkdir tmp2\n",
    "%run touch tmp2/a && echo $PASSWORD | sudo -S touch tmp2/b # create this file with sudo\n",
    "%run ./stat.exe < tmp2/a  # created by me\n",
    "%run ./stat.exe < tmp2/b  # created by root (with sudo)\n",
    "\n",
    "#include <sys/types.h>\n",
    "#include <sys/stat.h>\n",
    "#include <stdlib.h>\n",
    "#include <pwd.h>\n",
    "#include <stdio.h>\n",
    "#include <assert.h>\n",
    "\n",
    "int main(int argc, char *argv[])\n",
    "{\n",
    "    struct stat s;\n",
    "    fstat(0, &s);\n",
    "    struct passwd *pw = getpwuid(s.st_uid);\n",
    "    assert(pw);\n",
    "    printf(\"%s\\n\", pw->pw_name);\n",
    "    return 0;\n",
    "}"
   ]
  },
  {
   "cell_type": "markdown",
   "metadata": {},
   "source": [
    "## <a name=\"access\"></a> Проверка своих прав"
   ]
  },
  {
   "cell_type": "code",
   "execution_count": 56,
   "metadata": {},
   "outputs": [
    {
     "data": {
      "text/markdown": [
       "Run: `gcc stat.c -o stat.exe`"
      ],
      "text/plain": [
       "<IPython.core.display.Markdown object>"
      ]
     },
     "metadata": {},
     "output_type": "display_data"
    },
    {
     "data": {
      "text/markdown": [
       "Run: `rm -rf tmp2 && mkdir tmp2`"
      ],
      "text/plain": [
       "<IPython.core.display.Markdown object>"
      ]
     },
     "metadata": {},
     "output_type": "display_data"
    },
    {
     "data": {
      "text/markdown": [
       "Run: `touch tmp2/a`"
      ],
      "text/plain": [
       "<IPython.core.display.Markdown object>"
      ]
     },
     "metadata": {},
     "output_type": "display_data"
    },
    {
     "data": {
      "text/markdown": [
       "Run: `touch tmp2/b && chmod +x tmp2/b`"
      ],
      "text/plain": [
       "<IPython.core.display.Markdown object>"
      ]
     },
     "metadata": {},
     "output_type": "display_data"
    },
    {
     "data": {
      "text/markdown": [
       "Run: `./stat.exe tmp2/a  # usual`"
      ],
      "text/plain": [
       "<IPython.core.display.Markdown object>"
      ]
     },
     "metadata": {},
     "output_type": "display_data"
    },
    {
     "name": "stdout",
     "output_type": "stream",
     "text": [
      "Can execute: no\r\n",
      "Can not execute because: Permission denied\r\n"
     ]
    },
    {
     "data": {
      "text/markdown": [
       "Run: `./stat.exe tmp2/aa  # usual`"
      ],
      "text/plain": [
       "<IPython.core.display.Markdown object>"
      ]
     },
     "metadata": {},
     "output_type": "display_data"
    },
    {
     "name": "stdout",
     "output_type": "stream",
     "text": [
      "Can execute: no\r\n",
      "Can not execute because: No such file or directory\r\n"
     ]
    },
    {
     "data": {
      "text/markdown": [
       "Run: `./stat.exe tmp2/b  # executable`"
      ],
      "text/plain": [
       "<IPython.core.display.Markdown object>"
      ]
     },
     "metadata": {},
     "output_type": "display_data"
    },
    {
     "name": "stdout",
     "output_type": "stream",
     "text": [
      "Can execute: yes\r\n"
     ]
    }
   ],
   "source": [
    "%%cpp stat.c\n",
    "%run gcc stat.c -o stat.exe\n",
    "%run rm -rf tmp2 && mkdir tmp2\n",
    "%run touch tmp2/a \n",
    "%run touch tmp2/b && chmod +x tmp2/b \n",
    "%run ./stat.exe tmp2/a  # usual \n",
    "%run ./stat.exe tmp2/aa # not existent file\n",
    "%run ./stat.exe tmp2/b  # executable\n",
    "\n",
    "#include <sys/types.h>\n",
    "#include <sys/stat.h>\n",
    "#include <stdlib.h>\n",
    "#include <unistd.h>\n",
    "#include <stdio.h>\n",
    "#include <assert.h>\n",
    "\n",
    "int main(int argc, char *argv[])\n",
    "{\n",
    "    assert(argc >= 1);\n",
    "    struct stat s;\n",
    "    int status = access(argv[1], X_OK);\n",
    "    fprintf(stderr, \"Can execute: %s\\n\", (status == 0) ? \"yes\" : \"no\");\n",
    "    if (status < 0) {\n",
    "        perror(\"Can not execute because\");\n",
    "    }\n",
    "    return 0;\n",
    "}"
   ]
  },
  {
   "cell_type": "markdown",
   "metadata": {},
   "source": [
    "## <a name=\"link\"></a> Ссылки жесткие и символические"
   ]
  },
  {
   "cell_type": "code",
   "execution_count": 57,
   "metadata": {},
   "outputs": [
    {
     "name": "stdout",
     "output_type": "stream",
     "text": [
      "-rw-rw-r-- 2 pechatnov pechatnov 0 ноя 14 10:45 x_hard.txt\r\n",
      "-rw-rw-r-- 1 pechatnov pechatnov 0 ноя 14 10:45 x_ordinary.txt\r\n",
      "lrwxrwxrwx 1 pechatnov pechatnov 5 ноя 14 10:45 x_sym.txt -> x.txt\r\n",
      "-rw-rw-r-- 2 pechatnov pechatnov 0 ноя 14 10:45 x.txt\r\n"
     ]
    }
   ],
   "source": [
    "!(rm x.txt ; rm x_hard.txt ; rm x_sym.txt) 2> /dev/null\n",
    "!touch x_ordinary.txt\n",
    "!touch x.txt\n",
    "!link x.txt x_hard.txt\n",
    "!ln -s x.txt ./x_sym.txt\n",
    "!ls -la x*"
   ]
  },
  {
   "cell_type": "code",
   "execution_count": 60,
   "metadata": {},
   "outputs": [
    {
     "name": "stdout",
     "output_type": "stream",
     "text": [
      "-rw-rw-r-- 2 pechatnov pechatnov 3 ноя 14 10:47 x_hard.txt\r\n",
      "-rw-rw-r-- 1 pechatnov pechatnov 3 ноя 14 10:46 x_ordinary.txt\r\n",
      "lrwxrwxrwx 1 pechatnov pechatnov 5 ноя 14 10:45 x_sym.txt -> x.txt\r\n",
      "-rw-rw-r-- 2 pechatnov pechatnov 3 ноя 14 10:47 x.txt\r\n"
     ]
    }
   ],
   "source": [
    "!echo \"Hello\" > x_ordinary.txt\n",
    "!ls -la x*"
   ]
  },
  {
   "cell_type": "code",
   "execution_count": null,
   "metadata": {},
   "outputs": [],
   "source": []
  },
  {
   "cell_type": "markdown",
   "metadata": {},
   "source": [
    "## <a name=\"fds\"></a> Атрибуты файловых дескрипторов\n",
    "\n",
    "`fcntl(fd, F_GETFD, 0)`, флаг `FD_CLOEXEC`"
   ]
  },
  {
   "cell_type": "code",
   "execution_count": 48,
   "metadata": {},
   "outputs": [
    {
     "data": {
      "text/markdown": [
       "Run: `gcc fcntl_flags.cpp -o fcntl_flags.exe`"
      ],
      "text/plain": [
       "<IPython.core.display.Markdown object>"
      ]
     },
     "metadata": {},
     "output_type": "display_data"
    },
    {
     "data": {
      "text/markdown": [
       "Run: `./fcntl_flags.exe`"
      ],
      "text/plain": [
       "<IPython.core.display.Markdown object>"
      ]
     },
     "metadata": {},
     "output_type": "display_data"
    },
    {
     "name": "stdout",
     "output_type": "stream",
     "text": [
      "pipe: fd 3 doesn't have CLOEXEC flag\r\n",
      "pipe2 + O_CLOEXEC: fd 5 has CLOEXEC flag\r\n",
      "pipe + manually set flag: fd 7 has CLOEXEC flag\r\n"
     ]
    }
   ],
   "source": [
    "%%cpp fcntl_flags.cpp\n",
    "%run gcc fcntl_flags.cpp -o fcntl_flags.exe\n",
    "%run ./fcntl_flags.exe\n",
    "\n",
    "#ifndef _GNU_SOURCE\n",
    "  #define _GNU_SOURCE\n",
    "#endif\n",
    "#include <stdio.h>\n",
    "#include <stdlib.h>\n",
    "#include <unistd.h>\n",
    "#include <assert.h>\n",
    "#include <fcntl.h>\n",
    "#include <sys/resource.h>\n",
    "#include <sys/types.h>\n",
    "#include <sys/wait.h>\n",
    "\n",
    "void describe_fd(const char* prefix, int fd) {\n",
    "    int ret = fcntl(fd, F_GETFD, 0); // Функция принимает 3 аргумента, поэтому обязаны записать все 3 (даже если третий не будет использоваться)\n",
    "    if (ret & FD_CLOEXEC) {\n",
    "        printf(\"%s: fd %d has CLOEXEC flag\\n\", prefix, fd);\n",
    "    } else {\n",
    "        printf(\"%s: fd %d doesn't have CLOEXEC flag\\n\", prefix, fd);\n",
    "    } \n",
    "}\n",
    "\n",
    "int main() {\n",
    "    int fd[2];\n",
    "    \n",
    "    pipe(fd);\n",
    "    describe_fd(\"pipe\", fd[0]);\n",
    "\n",
    "    pipe2(fd, O_CLOEXEC); \n",
    "    describe_fd(\"pipe2 + O_CLOEXEC\", fd[0]);\n",
    "\n",
    "    pipe(fd);\n",
    "    fcntl(fd[0], F_SETFD, fcntl(fd[0], F_GETFD, 0) | FD_CLOEXEC); //руками сделали так что у pipe есть флаг O_CLOEXEC\n",
    "    describe_fd(\"pipe + manually set flag\", fd[0]);\n",
    "    return 0;\n",
    "}"
   ]
  },
  {
   "cell_type": "markdown",
   "metadata": {},
   "source": [
    "`fcntl(fd, F_GETFL, 0)`, флаги `O_RDWR`, `O_RDONLY`, `O_WRONLY`, `O_APPEND`, `O_TMPFILE`, `O_ASYNC`, `O_DIRECT`\n",
    "\n",
    "На самом деле это только ограниченное подмножество флагов из тех, что указываются при открытии файла."
   ]
  },
  {
   "cell_type": "code",
   "execution_count": 62,
   "metadata": {},
   "outputs": [
    {
     "data": {
      "text/markdown": [
       "Run: `gcc fcntl_open_flags.cpp -o fcntl_open_flags.exe`"
      ],
      "text/plain": [
       "<IPython.core.display.Markdown object>"
      ]
     },
     "metadata": {},
     "output_type": "display_data"
    },
    {
     "data": {
      "text/markdown": [
       "Run: `./fcntl_open_flags.exe`"
      ],
      "text/plain": [
       "<IPython.core.display.Markdown object>"
      ]
     },
     "metadata": {},
     "output_type": "display_data"
    },
    {
     "name": "stdout",
     "output_type": "stream",
     "text": [
      "0 (stdin): , , O_RDWR, , , , , , , , \r\n",
      "1 (stdout): , , O_RDWR, , , , , , , , \r\n",
      "2 (stderr): , , O_RDWR, , , , , , , , \r\n",
      "f1 O_CREAT|O_TRUNC|O_WRONLY: , O_WRONLY, , , , , , , , , \r\n",
      "f2 O_CREAT|O_RDWR: , , O_RDWR, , , , , , , , \r\n",
      "f3 O_WRONLY|O_APPEND: , O_WRONLY, , , O_APPEND, , , , , , \r\n",
      "f4 O_RDONLY|O_NONBLOCK|O_ASYNC|O_DIRECT: O_RDONLY, , , , , O_NONBLOCK, , , , O_ASYNC, O_DIRECT\r\n",
      "f5 O_TMPFILE|O_RDWR: , , O_RDWR, , , , , , O_TMPFILE, , \r\n",
      "pipe2(fds, O_CLOEXEC): O_RDONLY, , , , , , , , , , \r\n"
     ]
    }
   ],
   "source": [
    "%%cpp fcntl_open_flags.cpp\n",
    "%run gcc fcntl_open_flags.cpp -o fcntl_open_flags.exe\n",
    "%run ./fcntl_open_flags.exe\n",
    "\n",
    "#ifndef _GNU_SOURCE\n",
    "  #define _GNU_SOURCE\n",
    "#endif\n",
    "#include <stdio.h>\n",
    "#include <stdlib.h>\n",
    "#include <unistd.h>\n",
    "#include <assert.h>\n",
    "#include <fcntl.h>\n",
    "#include <sys/resource.h>\n",
    "#include <sys/types.h>\n",
    "#include <sys/wait.h>\n",
    "\n",
    "void describe_fd(const char* prefix, int fd) {\n",
    "    int ret = fcntl(fd, F_GETFL, 0);\n",
    "    \n",
    "#define flag_cond_str_expanded(flag, mask, name) ((ret & (mask)) == flag ? name : \"\")\n",
    "#define flag_cond_str_mask(flag, mask) flag_cond_str_expanded(flag, mask, #flag)\n",
    "#define flag_cond_str(flag) flag_cond_str_expanded(flag, flag, #flag)\n",
    "    //printf(\"%d\\n\", ret & 3);\n",
    "    printf(\"%s: %s, %s, %s, %s, %s, %s, %s, %s, %s, %s, %s\\n\", prefix\n",
    "        , flag_cond_str_mask(O_RDONLY, O_RDONLY | O_WRONLY | O_RDWR)\n",
    "        , flag_cond_str_mask(O_WRONLY, O_RDONLY | O_WRONLY | O_RDWR)\n",
    "        , flag_cond_str_mask(O_RDWR, O_RDONLY | O_WRONLY | O_RDWR)\n",
    "        , flag_cond_str(O_TRUNC)\n",
    "        , flag_cond_str(O_APPEND)\n",
    "        , flag_cond_str(O_NONBLOCK)\n",
    "        , flag_cond_str(O_CREAT)\n",
    "        , flag_cond_str(O_CLOEXEC)\n",
    "        , flag_cond_str(O_TMPFILE)\n",
    "        , flag_cond_str(O_ASYNC)\n",
    "        , flag_cond_str(O_DIRECT)\n",
    "    );\n",
    "}\n",
    "\n",
    "void check_fd(int fd) {\n",
    "    if (fd < 0) {\n",
    "        perror(\"open\");\n",
    "        assert(fd >= 0);\n",
    "    }\n",
    "} \n",
    "\n",
    "int main() {\n",
    "    describe_fd(\"0 (stdin)\", 0);\n",
    "    describe_fd(\"1 (stdout)\", 1);\n",
    "    describe_fd(\"2 (stderr)\", 2);\n",
    "    \n",
    "    int f1 = open(\"fcntl_open_flags.1\", O_CREAT|O_TRUNC|O_WRONLY, 0664); check_fd(f1);\n",
    "    describe_fd(\"f1 O_CREAT|O_TRUNC|O_WRONLY\", f1);\n",
    "    \n",
    "    int f2 = open(\"fcntl_open_flags.2\", O_CREAT|O_RDWR, 0664); check_fd(f2);\n",
    "    describe_fd(\"f2 O_CREAT|O_RDWR\", f2);\n",
    "    \n",
    "    int f3 = open(\"fcntl_open_flags.2\", O_WRONLY|O_APPEND); check_fd(f3);\n",
    "    describe_fd(\"f3 O_WRONLY|O_APPEND\", f3);\n",
    "\n",
    "    int f4 = open(\"fcntl_open_flags.2\", O_RDONLY|O_NONBLOCK|O_ASYNC|O_DIRECT); check_fd(f4);\n",
    "    describe_fd(\"f4 O_RDONLY|O_NONBLOCK|O_ASYNC|O_DIRECT\", f4);\n",
    "    \n",
    "    int f5 = open(\"./\", O_TMPFILE|O_RDWR, 0664); check_fd(f5);\n",
    "    describe_fd(\"f5 O_TMPFILE|O_RDWR\", f5);\n",
    "    \n",
    "    int fds[2];\n",
    "    pipe2(fds, O_CLOEXEC); \n",
    "    describe_fd(\"pipe2(fds, O_CLOEXEC)\", fds[0]);\n",
    "    return 0;\n",
    "}"
   ]
  },
  {
   "cell_type": "code",
   "execution_count": null,
   "metadata": {},
   "outputs": [],
   "source": []
  },
  {
   "cell_type": "code",
   "execution_count": null,
   "metadata": {},
   "outputs": [],
   "source": []
  },
  {
   "cell_type": "code",
   "execution_count": null,
   "metadata": {},
   "outputs": [],
   "source": []
  },
  {
   "cell_type": "code",
   "execution_count": 63,
   "metadata": {},
   "outputs": [
    {
     "data": {
      "text/markdown": [
       "Run: `gcc istty.c -o istty.exe`"
      ],
      "text/plain": [
       "<IPython.core.display.Markdown object>"
      ]
     },
     "metadata": {},
     "output_type": "display_data"
    },
    {
     "data": {
      "text/markdown": [
       "Run: `./istty.exe > a.txt`"
      ],
      "text/plain": [
       "<IPython.core.display.Markdown object>"
      ]
     },
     "metadata": {},
     "output_type": "display_data"
    },
    {
     "name": "stdout",
     "output_type": "stream",
     "text": [
      "It's NOT terminal\r\n"
     ]
    },
    {
     "data": {
      "text/markdown": [
       "Run: `./istty.exe`"
      ],
      "text/plain": [
       "<IPython.core.display.Markdown object>"
      ]
     },
     "metadata": {},
     "output_type": "display_data"
    },
    {
     "name": "stdout",
     "output_type": "stream",
     "text": [
      "\u001b[0;31mIt's terminal\u001b[0m\r\n"
     ]
    }
   ],
   "source": [
    "%%cpp istty.c\n",
    "%run gcc istty.c -o istty.exe\n",
    "%run ./istty.exe > a.txt\n",
    "%run ./istty.exe \n",
    "\n",
    "#include <unistd.h>\n",
    "#include <stdlib.h>\n",
    "#include <pwd.h>\n",
    "#include <stdio.h>\n",
    "#include <assert.h>\n",
    "\n",
    "int main(int argc, char *argv[])\n",
    "{\n",
    "    if (isatty(STDOUT_FILENO)) {\n",
    "        fprintf(stderr, \"\\033[0;31mIt's terminal\\033[0m\\n\");\n",
    "    } else {\n",
    "        fprintf(stderr, \"It's NOT terminal\\n\");\n",
    "    }\n",
    "    return 0;\n",
    "}"
   ]
  },
  {
   "cell_type": "code",
   "execution_count": null,
   "metadata": {},
   "outputs": [],
   "source": []
  },
  {
   "cell_type": "code",
   "execution_count": 1,
   "metadata": {},
   "outputs": [
    {
     "name": "stdout",
     "output_type": "stream",
     "text": [
      "a.txt\t\t    fcntl_open_flags.cpp  README_no_output.md  x_ordinary.txt\r\n",
      "c.txt\t\t    fcntl_open_flags.exe  stat.c\t       x_sym.txt\r\n",
      "fcntl_flags.cpp     file-attrib.ipynb\t  stat.exe\t       x.txt\r\n",
      "fcntl_flags.exe     istty.c\t\t  tmp\t\t       y.txt\r\n",
      "fcntl_open_flags.1  istty.exe\t\t  tmp2\r\n",
      "fcntl_open_flags.2  README.md\t\t  x_hard.txt\r\n"
     ]
    }
   ],
   "source": []
  },
  {
   "cell_type": "code",
   "execution_count": null,
   "metadata": {},
   "outputs": [],
   "source": []
  },
  {
   "cell_type": "markdown",
   "metadata": {},
   "source": [
    "## <a name=\"hw\"></a> Комментарии к ДЗ\n",
    "\n",
    "* `PATH_MAX` - есть такая замечательная константа, обязательно узнайте почему она существует и зачем она нужна, перед тем как делать дз. (Иначе есть большая вероятность получить реджект).\n",
    "* Есть классные функции `strncmp`, `memcmp`. Прочитайте про них до того, как сравнивать какие-то байтики."
   ]
  },
  {
   "cell_type": "code",
   "execution_count": null,
   "metadata": {},
   "outputs": [],
   "source": []
  },
  {
   "cell_type": "code",
   "execution_count": null,
   "metadata": {},
   "outputs": [],
   "source": []
  }
 ],
 "metadata": {
  "kernelspec": {
   "display_name": "Python 3",
   "language": "python",
   "name": "python3"
  },
  "language_info": {
   "codemirror_mode": {
    "name": "ipython",
    "version": 3
   },
   "file_extension": ".py",
   "mimetype": "text/x-python",
   "name": "python",
   "nbconvert_exporter": "python",
   "pygments_lexer": "ipython3",
   "version": "3.8.5"
  }
 },
 "nbformat": 4,
 "nbformat_minor": 2
}
