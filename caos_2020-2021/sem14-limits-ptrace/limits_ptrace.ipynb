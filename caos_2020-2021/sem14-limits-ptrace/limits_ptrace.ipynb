{
 "cells": [
  {
   "cell_type": "code",
   "execution_count": 1,
   "metadata": {},
   "outputs": [
    {
     "data": {
      "application/javascript": [
       "// setup cpp code highlighting\n",
       "IPython.CodeCell.options_default.highlight_modes[\"text/x-c++src\"] = {'reg':[/^%%cpp/]} ;"
      ],
      "text/plain": [
       "<IPython.core.display.Javascript object>"
      ]
     },
     "metadata": {},
     "output_type": "display_data"
    },
    {
     "data": {
      "text/html": [
       "<!-- YANDEX_METRICA_BEGIN -->\n",
       "    <script type=\"text/javascript\" >\n",
       "       (function(m,e,t,r,i,k,a){m[i]=m[i]||function(){(m[i].a=m[i].a||[]).push(arguments)};\n",
       "       m[i].l=1*new Date();k=e.createElement(t),a=e.getElementsByTagName(t)[0],k.async=1,k.src=r,a.parentNode.insertBefore(k,a)})\n",
       "       (window, document, \"script\", \"https://mc.yandex.ru/metrika/tag.js\", \"ym\");\n",
       "\n",
       "       ym(59260609, \"init\", {\n",
       "            clickmap:true,\n",
       "            trackLinks:true,\n",
       "            accurateTrackBounce:true\n",
       "       });\n",
       "    </script>\n",
       "    <noscript><div><img src=\"https://mc.yandex.ru/watch/59260609\" style=\"position:absolute; left:-9999px;\" alt=\"\" /></div></noscript>\n",
       "    <!-- YANDEX_METRICA_END -->"
      ],
      "text/plain": [
       "<IPython.core.display.HTML object>"
      ]
     },
     "metadata": {},
     "output_type": "display_data"
    },
    {
     "data": {
      "text/html": [
       "В этот ноутбук встроен код Яндекс Метрики для сбора статистики использований. Если вы не хотите, чтобы по вам собиралась статистика, исправьте: yandex_metrica_allowed = False<!-- MAGICS_SETUP_PRINTING_END -->"
      ],
      "text/plain": [
       "<IPython.core.display.HTML object>"
      ]
     },
     "metadata": {},
     "output_type": "display_data"
    }
   ],
   "source": [
    "# look at tools/set_up_magics.ipynb\n",
    "yandex_metrica_allowed = True ; get_ipython().run_cell('# one_liner_str\\n\\nget_ipython().run_cell_magic(\\'javascript\\', \\'\\', \\'// setup cpp code highlighting\\\\nIPython.CodeCell.options_default.highlight_modes[\"text/x-c++src\"] = {\\\\\\'reg\\\\\\':[/^%%cpp/]} ;\\')\\n\\n# creating magics\\nfrom IPython.core.magic import register_cell_magic, register_line_magic\\nfrom IPython.display import display, Markdown, HTML\\nimport argparse\\nfrom subprocess import Popen, PIPE\\nimport random\\nimport sys\\nimport os\\nimport re\\nimport signal\\nimport shutil\\nimport shlex\\nimport glob\\n\\n@register_cell_magic\\ndef save_file(args_str, cell, line_comment_start=\"#\"):\\n    parser = argparse.ArgumentParser()\\n    parser.add_argument(\"fname\")\\n    parser.add_argument(\"--ejudge-style\", action=\"store_true\")\\n    args = parser.parse_args(args_str.split())\\n    \\n    cell = cell if cell[-1] == \\'\\\\n\\' or args.no_eof_newline else cell + \"\\\\n\"\\n    cmds = []\\n    with open(args.fname, \"w\") as f:\\n        f.write(line_comment_start + \" %%cpp \" + args_str + \"\\\\n\")\\n        for line in cell.split(\"\\\\n\"):\\n            line_to_write = (line if not args.ejudge_style else line.rstrip()) + \"\\\\n\"\\n            if line.startswith(\"%\"):\\n                run_prefix = \"%run \"\\n                if line.startswith(run_prefix):\\n                    cmds.append(line[len(run_prefix):].strip())\\n                    f.write(line_comment_start + \" \" + line_to_write)\\n                    continue\\n                run_prefix = \"%# \"\\n                if line.startswith(run_prefix):\\n                    f.write(line_comment_start + \" \" + line_to_write)\\n                    continue\\n                raise Exception(\"Unknown %%save_file subcommand: \\'%s\\'\" % line)\\n            else:\\n                f.write(line_to_write)\\n        f.write(\"\" if not args.ejudge_style else line_comment_start + r\" line without \\\\n\")\\n    for cmd in cmds:\\n        display(Markdown(\"Run: `%s`\" % cmd))\\n        get_ipython().system(cmd)\\n\\n@register_cell_magic\\ndef cpp(fname, cell):\\n    save_file(fname, cell, \"//\")\\n\\n@register_cell_magic\\ndef asm(fname, cell):\\n    save_file(fname, cell, \"//\")\\n    \\n@register_cell_magic\\ndef makefile(fname, cell):\\n    assert not fname\\n    save_file(\"makefile\", cell.replace(\" \" * 4, \"\\\\t\"))\\n        \\n@register_line_magic\\ndef p(line):\\n    try:\\n        expr, comment = line.split(\" #\")\\n        display(Markdown(\"`{} = {}`  # {}\".format(expr.strip(), eval(expr), comment.strip())))\\n    except:\\n        display(Markdown(\"{} = {}\".format(line, eval(line))))\\n        \\ndef show_file(file, clear_at_begin=True, return_html_string=False):\\n    if clear_at_begin:\\n        get_ipython().system(\"truncate --size 0 \" + file)\\n    obj = file.replace(\\'.\\', \\'_\\').replace(\\'/\\', \\'_\\') + \"_obj\"\\n    html_string = \\'\\'\\'\\n        <!--MD_BEGIN_FILTER-->\\n        <script type=text/javascript>\\n        var entrance___OBJ__ = 0;\\n        var errors___OBJ__ = 0;\\n        function refresh__OBJ__()\\n        {\\n            entrance___OBJ__ -= 1;\\n            var elem = document.getElementById(\"__OBJ__\");\\n            if (elem) {\\n                var xmlhttp=new XMLHttpRequest();\\n                xmlhttp.onreadystatechange=function()\\n                {\\n                    var elem = document.getElementById(\"__OBJ__\");\\n                    console.log(!!elem, xmlhttp.readyState, xmlhttp.status, entrance___OBJ__);\\n                    if (elem && xmlhttp.readyState==4) {\\n                        if (xmlhttp.status==200)\\n                        {\\n                            errors___OBJ__ = 0;\\n                            if (!entrance___OBJ__) {\\n                                elem.innerText = xmlhttp.responseText;\\n                                entrance___OBJ__ += 1;\\n                                console.log(\"req\");\\n                                window.setTimeout(\"refresh__OBJ__()\", 300); \\n                            }\\n                            return xmlhttp.responseText;\\n                        } else {\\n                            errors___OBJ__ += 1;\\n                            if (errors___OBJ__ < 10 && !entrance___OBJ__) {\\n                                entrance___OBJ__ += 1;\\n                                console.log(\"req\");\\n                                window.setTimeout(\"refresh__OBJ__()\", 300); \\n                            }\\n                        }\\n                    }\\n                }\\n                xmlhttp.open(\"GET\", \"__FILE__\", true);\\n                xmlhttp.setRequestHeader(\"Cache-Control\", \"no-cache\");\\n                xmlhttp.send();     \\n            }\\n        }\\n        \\n        if (!entrance___OBJ__) {\\n            entrance___OBJ__ += 1;\\n            refresh__OBJ__(); \\n        }\\n        </script>\\n        \\n        <font color=\"white\"> <tt>\\n        <p id=\"__OBJ__\" style=\"font-size: 16px; border:3px #333333 solid; background: #333333; border-radius: 10px; padding: 10px;  \"></p>\\n        </tt> </font>\\n        <!--MD_END_FILTER-->\\n        <!--MD_FROM_FILE __FILE__ -->\\n        \\'\\'\\'.replace(\"__OBJ__\", obj).replace(\"__FILE__\", file)\\n    if return_html_string:\\n        return html_string\\n    display(HTML(html_string))\\n    \\nBASH_POPEN_TMP_DIR = \"./bash_popen_tmp\"\\n    \\ndef bash_popen_terminate_all():\\n    for p in globals().get(\"bash_popen_list\", []):\\n        print(\"Terminate pid=\" + str(p.pid), file=sys.stderr)\\n        p.terminate()\\n    globals()[\"bash_popen_list\"] = []\\n    if os.path.exists(BASH_POPEN_TMP_DIR):\\n        shutil.rmtree(BASH_POPEN_TMP_DIR)\\n\\nbash_popen_terminate_all()  \\n\\ndef bash_popen(cmd):\\n    if not os.path.exists(BASH_POPEN_TMP_DIR):\\n        os.mkdir(BASH_POPEN_TMP_DIR)\\n    h = os.path.join(BASH_POPEN_TMP_DIR, str(random.randint(0, 1e18)))\\n    stdout_file = h + \".out.html\"\\n    stderr_file = h + \".err.html\"\\n    run_log_file = h + \".fin.html\"\\n    \\n    stdout = open(stdout_file, \"wb\")\\n    stdout = open(stderr_file, \"wb\")\\n    \\n    html = \"\"\"\\n    <table width=\"100%\">\\n    <colgroup>\\n       <col span=\"1\" style=\"width: 70px;\">\\n       <col span=\"1\">\\n    </colgroup>    \\n    <tbody>\\n      <tr> <td><b>STDOUT</b></td> <td> {stdout} </td> </tr>\\n      <tr> <td><b>STDERR</b></td> <td> {stderr} </td> </tr>\\n      <tr> <td><b>RUN LOG</b></td> <td> {run_log} </td> </tr>\\n    </tbody>\\n    </table>\\n    \"\"\".format(\\n        stdout=show_file(stdout_file, return_html_string=True),\\n        stderr=show_file(stderr_file, return_html_string=True),\\n        run_log=show_file(run_log_file, return_html_string=True),\\n    )\\n    \\n    cmd = \"\"\"\\n        bash -c {cmd} &\\n        pid=$!\\n        echo \"Process started! pid=${{pid}}\" > {run_log_file}\\n        wait ${{pid}}\\n        echo \"Process finished! exit_code=$?\" >> {run_log_file}\\n    \"\"\".format(cmd=shlex.quote(cmd), run_log_file=run_log_file)\\n    # print(cmd)\\n    display(HTML(html))\\n    \\n    p = Popen([\"bash\", \"-c\", cmd], stdin=PIPE, stdout=stdout, stderr=stdout)\\n    \\n    bash_popen_list.append(p)\\n    return p\\n\\n\\n@register_line_magic\\ndef bash_async(line):\\n    bash_popen(line)\\n    \\n    \\ndef show_log_file(file, return_html_string=False):\\n    obj = file.replace(\\'.\\', \\'_\\').replace(\\'/\\', \\'_\\') + \"_obj\"\\n    html_string = \\'\\'\\'\\n        <!--MD_BEGIN_FILTER-->\\n        <script type=text/javascript>\\n        var entrance___OBJ__ = 0;\\n        var errors___OBJ__ = 0;\\n        function halt__OBJ__(elem, color)\\n        {\\n            elem.setAttribute(\"style\", \"font-size: 14px; background: \" + color + \"; padding: 10px; border: 3px; border-radius: 5px; color: white; \");                    \\n        }\\n        function refresh__OBJ__()\\n        {\\n            entrance___OBJ__ -= 1;\\n            if (entrance___OBJ__ < 0) {\\n                entrance___OBJ__ = 0;\\n            }\\n            var elem = document.getElementById(\"__OBJ__\");\\n            if (elem) {\\n                var xmlhttp=new XMLHttpRequest();\\n                xmlhttp.onreadystatechange=function()\\n                {\\n                    var elem = document.getElementById(\"__OBJ__\");\\n                    console.log(!!elem, xmlhttp.readyState, xmlhttp.status, entrance___OBJ__);\\n                    if (elem && xmlhttp.readyState==4) {\\n                        if (xmlhttp.status==200)\\n                        {\\n                            errors___OBJ__ = 0;\\n                            if (!entrance___OBJ__) {\\n                                if (elem.innerHTML != xmlhttp.responseText) {\\n                                    elem.innerHTML = xmlhttp.responseText;\\n                                }\\n                                if (elem.innerHTML.includes(\"Process finished.\")) {\\n                                    halt__OBJ__(elem, \"#333333\");\\n                                } else {\\n                                    entrance___OBJ__ += 1;\\n                                    console.log(\"req\");\\n                                    window.setTimeout(\"refresh__OBJ__()\", 300); \\n                                }\\n                            }\\n                            return xmlhttp.responseText;\\n                        } else {\\n                            errors___OBJ__ += 1;\\n                            if (!entrance___OBJ__) {\\n                                if (errors___OBJ__ < 6) {\\n                                    entrance___OBJ__ += 1;\\n                                    console.log(\"req\");\\n                                    window.setTimeout(\"refresh__OBJ__()\", 300); \\n                                } else {\\n                                    halt__OBJ__(elem, \"#994444\");\\n                                }\\n                            }\\n                        }\\n                    }\\n                }\\n                xmlhttp.open(\"GET\", \"__FILE__\", true);\\n                xmlhttp.setRequestHeader(\"Cache-Control\", \"no-cache\");\\n                xmlhttp.send();     \\n            }\\n        }\\n        \\n        if (!entrance___OBJ__) {\\n            entrance___OBJ__ += 1;\\n            refresh__OBJ__(); \\n        }\\n        </script>\\n\\n        <p id=\"__OBJ__\" style=\"font-size: 14px; background: #000000; padding: 10px; border: 3px; border-radius: 5px; color: white; \">\\n        </p>\\n        \\n        </font>\\n        <!--MD_END_FILTER-->\\n        <!--MD_FROM_FILE __FILE__.md -->\\n        \\'\\'\\'.replace(\"__OBJ__\", obj).replace(\"__FILE__\", file)\\n    if return_html_string:\\n        return html_string\\n    display(HTML(html_string))\\n\\n    \\nclass TInteractiveLauncher:\\n    tmp_path = \"./interactive_launcher_tmp\"\\n    def __init__(self, cmd):\\n        try:\\n            os.mkdir(TInteractiveLauncher.tmp_path)\\n        except:\\n            pass\\n        name = str(random.randint(0, 1e18))\\n        self.inq_path = os.path.join(TInteractiveLauncher.tmp_path, name + \".inq\")\\n        self.log_path = os.path.join(TInteractiveLauncher.tmp_path, name + \".log\")\\n        \\n        os.mkfifo(self.inq_path)\\n        open(self.log_path, \\'w\\').close()\\n        open(self.log_path + \".md\", \\'w\\').close()\\n\\n        self.pid = os.fork()\\n        if self.pid == -1:\\n            print(\"Error\")\\n        if self.pid == 0:\\n            exe_cands = glob.glob(\"../tools/launcher.py\") + glob.glob(\"../../tools/launcher.py\")\\n            assert(len(exe_cands) == 1)\\n            assert(os.execvp(\"python3\", [\"python3\", exe_cands[0], \"-l\", self.log_path, \"-i\", self.inq_path, \"-c\", cmd]) == 0)\\n        self.inq_f = open(self.inq_path, \"w\")\\n        interactive_launcher_opened_set.add(self.pid)\\n        show_log_file(self.log_path)\\n\\n    def write(self, s):\\n        s = s.encode()\\n        assert len(s) == os.write(self.inq_f.fileno(), s)\\n        \\n    def get_pid(self):\\n        n = 100\\n        for i in range(n):\\n            try:\\n                return int(re.findall(r\"PID = (\\\\d+)\", open(self.log_path).readline())[0])\\n            except:\\n                if i + 1 == n:\\n                    raise\\n                time.sleep(0.1)\\n        \\n    def input_queue_path(self):\\n        return self.inq_path\\n        \\n    def close(self):\\n        self.inq_f.close()\\n        os.waitpid(self.pid, 0)\\n        os.remove(self.inq_path)\\n        # os.remove(self.log_path)\\n        self.inq_path = None\\n        self.log_path = None \\n        interactive_launcher_opened_set.remove(self.pid)\\n        self.pid = None\\n        \\n    @staticmethod\\n    def terminate_all():\\n        if \"interactive_launcher_opened_set\" not in globals():\\n            globals()[\"interactive_launcher_opened_set\"] = set()\\n        global interactive_launcher_opened_set\\n        for pid in interactive_launcher_opened_set:\\n            print(\"Terminate pid=\" + str(pid), file=sys.stderr)\\n            os.kill(pid, signal.SIGKILL)\\n            os.waitpid(pid, 0)\\n        interactive_launcher_opened_set = set()\\n        if os.path.exists(TInteractiveLauncher.tmp_path):\\n            shutil.rmtree(TInteractiveLauncher.tmp_path)\\n    \\nTInteractiveLauncher.terminate_all()\\n   \\nyandex_metrica_allowed = bool(globals().get(\"yandex_metrica_allowed\", False))\\nif yandex_metrica_allowed:\\n    display(HTML(\\'\\'\\'<!-- YANDEX_METRICA_BEGIN -->\\n    <script type=\"text/javascript\" >\\n       (function(m,e,t,r,i,k,a){m[i]=m[i]||function(){(m[i].a=m[i].a||[]).push(arguments)};\\n       m[i].l=1*new Date();k=e.createElement(t),a=e.getElementsByTagName(t)[0],k.async=1,k.src=r,a.parentNode.insertBefore(k,a)})\\n       (window, document, \"script\", \"https://mc.yandex.ru/metrika/tag.js\", \"ym\");\\n\\n       ym(59260609, \"init\", {\\n            clickmap:true,\\n            trackLinks:true,\\n            accurateTrackBounce:true\\n       });\\n    </script>\\n    <noscript><div><img src=\"https://mc.yandex.ru/watch/59260609\" style=\"position:absolute; left:-9999px;\" alt=\"\" /></div></noscript>\\n    <!-- YANDEX_METRICA_END -->\\'\\'\\'))\\n\\ndef make_oneliner():\\n    html_text = \\'(\"В этот ноутбук встроен код Яндекс Метрики для сбора статистики использований. Если вы не хотите, чтобы по вам собиралась статистика, исправьте: yandex_metrica_allowed = False\" if yandex_metrica_allowed else \"\")\\'\\n    html_text += \\' + \"<\"\"!-- MAGICS_SETUP_PRINTING_END -->\"\\'\\n    return \\'\\'.join([\\n        \\'# look at tools/set_up_magics.ipynb\\\\n\\',\\n        \\'yandex_metrica_allowed = True ; get_ipython().run_cell(%s);\\' % repr(one_liner_str),\\n        \\'display(HTML(%s))\\' % html_text,\\n        \\' #\\'\\'MAGICS_SETUP_END\\'\\n    ])\\n       \\n\\n');display(HTML((\"В этот ноутбук встроен код Яндекс Метрики для сбора статистики использований. Если вы не хотите, чтобы по вам собиралась статистика, исправьте: yandex_metrica_allowed = False\" if yandex_metrica_allowed else \"\") + \"<\"\"!-- MAGICS_SETUP_PRINTING_END -->\")) #MAGICS_SETUP_END"
   ]
  },
  {
   "cell_type": "markdown",
   "metadata": {},
   "source": [
    "# Лимиты в linux и отладка программ с помощью PTRACE\n",
    "\n",
    "<p><a href=\"https://www.youtube.com/watch?v=kUcfJ-5-zy4&list=PLjzMm8llUm4AmU6i_hPU0NobgA4VsBowc&index=15\" target=\"_blank\">\n",
    "    <h3>Видеозапись семинара</h3> \n",
    "</a></p>\n",
    "\n",
    "\n",
    "[Ридинг Яковлева](https://github.com/victor-yacovlev/mipt-diht-caos/tree/master/practice/exec-rlimit-ptrace#лимиты) \n",
    "\n",
    "Сегодня в программе:\n",
    "* <a href=\"#limits\" style=\"color:#856024\"> Лимиты в linux </a>  \n",
    "* <a href=\"#ptrace\" style=\"color:#856024\"> Отладка программ с помощью PTRACE </a>  \n",
    "\n"
   ]
  },
  {
   "cell_type": "markdown",
   "metadata": {},
   "source": [
    "## <a name=\"limits\"></a> Лимиты в linux\n",
    "\n",
    "Бывают мягкие (soft), можно посмотреть `ulimit -S -a` и жесткие (hard) `ulimit -H -a`.\n",
    "\n",
    "1. Программа подчиняется ограничениям мягких лимитов\n",
    "2. Пользователь может менять мягкие лимиты от 0 до жестких лимитов\n",
    "3. Жесткие лимиты может менять только root\n",
    "\n",
    "Что можно ограничивать:\n",
    "\n",
    "1. RLIMIT_CPU - лимит на процессорное время, которое доступно процессу\n",
    "  <br> `ulimit -t 1` - запретить процессам тратить больще 1 секунды процессорного времени.\n",
    "1. RLIMIT_FSIZE - лимит на увеличение размера файлов.\n",
    "  <br> `ulimit -f 100000` - ограничить максимальный размер создаваемого файла в 100 MB\n",
    "1. RLIMIT_DATA - лимит на размер сегмента данных (глобальные переменные + куча).\n",
    "  <br> `ulimit -d 48000` - ограничить максимальный размер сегмента данных в 48 MB\n",
    "1. RLIMIT_STACK - лимит на размер стека ~ просто размер стека.\n",
    "  <br> `ulimit -s 16384` - установить размер стека в 8 MB\n",
    "1. RLIMIT_CORE - лимит на размер coredump'ов\n",
    "  <br> `ulimit -c 0` - запрещаем создавать core файлы\n",
    "  <br> `ulimit -c unlimited` - разрешаем неограниченно создавать core файлы (*****)\n",
    "1. RLIMIT_RSS - лимит на потребление оперативной памяти (реально подгруженной в RAM). Работает только в определенных версиях linux. Так что не стоит закладываться на это.\n",
    "1. RLIMIT_NPROC - лимит на количество процессов/потоков запущенных от екущего пользователя.\n",
    "  <br> `ulimit -u 64` - запретить создавать больше 64 потоков/процессов.\n",
    "1. RLIMIT_NOFILE - лимит на количество одновременно открытых файлов\n",
    "  <br> `ulimit -n 5` - запретить открывать больше 5 файлов.\n",
    "1. RLIMIT_AS - лимит на потребление виртуальной памяти.\n",
    "  <br> `ulimit -v 100000` - ограничить размер используемой виртуальной памяти в 100 MB\n",
    "...\n",
    "\n",
    "Стоит заметить, что механизмы ограничений разные и эффект их действия тоже."
   ]
  },
  {
   "cell_type": "code",
   "execution_count": 77,
   "metadata": {},
   "outputs": [
    {
     "name": "stdout",
     "output_type": "stream",
     "text": [
      "time(seconds)        unlimited\r\n",
      "file(blocks)         unlimited\r\n",
      "data(kbytes)         unlimited\r\n",
      "stack(kbytes)        8192\r\n",
      "coredump(blocks)     0\r\n",
      "memory(kbytes)       unlimited\r\n",
      "locked memory(kbytes) 65536\r\n",
      "process              7728\r\n",
      "nofiles              4096\r\n",
      "vmemory(kbytes)      unlimited\r\n",
      "locks                unlimited\r\n",
      "rtprio               0\r\n"
     ]
    }
   ],
   "source": [
    "!ulimit -S -a"
   ]
  },
  {
   "cell_type": "code",
   "execution_count": 78,
   "metadata": {},
   "outputs": [
    {
     "name": "stdout",
     "output_type": "stream",
     "text": [
      "time(seconds)        unlimited\r\n",
      "file(blocks)         unlimited\r\n",
      "data(kbytes)         unlimited\r\n",
      "stack(kbytes)        unlimited\r\n",
      "coredump(blocks)     unlimited\r\n",
      "memory(kbytes)       unlimited\r\n",
      "locked memory(kbytes) 65536\r\n",
      "process              7728\r\n",
      "nofiles              1048576\r\n",
      "vmemory(kbytes)      unlimited\r\n",
      "locks                unlimited\r\n",
      "rtprio               0\r\n"
     ]
    }
   ],
   "source": [
    "!ulimit -H -a"
   ]
  },
  {
   "cell_type": "code",
   "execution_count": 63,
   "metadata": {},
   "outputs": [
    {
     "name": "stdout",
     "output_type": "stream",
     "text": [
      "Killed\r\n"
     ]
    }
   ],
   "source": [
    "!ulimit -t 1 ; bash -c \"for i in {0..100000000} ; do true ; done\""
   ]
  },
  {
   "cell_type": "code",
   "execution_count": 58,
   "metadata": {
    "scrolled": true
   },
   "outputs": [
    {
     "data": {
      "text/markdown": [
       "Run: `gcc custom_stack.c -o custom_stack.exe`"
      ],
      "text/plain": [
       "<IPython.core.display.Markdown object>"
      ]
     },
     "metadata": {},
     "output_type": "display_data"
    },
    {
     "data": {
      "text/markdown": [
       "Run: `./custom_stack.exe 1000000`"
      ],
      "text/plain": [
       "<IPython.core.display.Markdown object>"
      ]
     },
     "metadata": {},
     "output_type": "display_data"
    },
    {
     "name": "stdout",
     "output_type": "stream",
     "text": [
      "factorial(1000000) % 13 == 0\r\n"
     ]
    }
   ],
   "source": [
    "%%cpp custom_stack.c\n",
    "%run gcc custom_stack.c -o custom_stack.exe\n",
    "%run ./custom_stack.exe 1000000\n",
    "\n",
    "\n",
    "#include <sys/types.h>\n",
    "#include <sys/wait.h>\n",
    "#include <sys/time.h>\n",
    "#include <sys/resource.h>\n",
    "#include <stdint.h>\n",
    "#include <stdio.h>\n",
    "#include <stdlib.h>\n",
    "#include <unistd.h>\n",
    "#include <assert.h>\n",
    "#include <inttypes.h>\n",
    "\n",
    "    \n",
    "void change_stack_size(uint64_t size, char** argv) {\n",
    "    struct rlimit rlim;\n",
    "    getrlimit(RLIMIT_STACK, &rlim);\n",
    "    assert(RLIM_INFINITY == rlim.rlim_max || size <= rlim.rlim_max);\n",
    "    \n",
    "    //printf(\"size=%\" PRIu64 \" cur=%\" PRIu64 \"\\n\", size, rlim.rlim_cur);\n",
    "    if (rlim.rlim_cur >= size) {\n",
    "        return;\n",
    "    }\n",
    "    rlim.rlim_cur = size;\n",
    "    setrlimit(RLIMIT_STACK, &rlim);\n",
    "\n",
    "    pid_t pid = fork();\n",
    "    assert(pid != -1);\n",
    "    if (pid == 0) {\n",
    "        execvp(argv[0], argv);\n",
    "        perror(\"execvp: \");\n",
    "        assert(0 && \"exec\");\n",
    "    }\n",
    "    \n",
    "    int status;\n",
    "    pid_t w = waitpid(pid, &status, 0);\n",
    "    if (w == -1) {\n",
    "        perror(\"waitpid\");\n",
    "        exit(-1);\n",
    "    }\n",
    "    if (WIFEXITED(status)) {\n",
    "        //printf(\"exit status %\" PRIu64 \"\\n\", (uint64_t)WEXITSTATUS(status));\n",
    "        exit(WEXITSTATUS(status));\n",
    "    } else if (WIFSIGNALED(status)) {\n",
    "        kill(getpid(), WTERMSIG(status));            \n",
    "    }\n",
    "}\n",
    "    \n",
    "uint64_t factorial(uint64_t n) {\n",
    "    if (n <= 0) {\n",
    "        return 1;\n",
    "    }\n",
    "    return (n % 13) * factorial(n - 1) % 13;\n",
    "} \n",
    "    \n",
    "int main(int argc, char** argv)\n",
    "{\n",
    "    assert(argc == 2);\n",
    "    uint64_t n = strtoull(argv[1], NULL, 10);\n",
    "    change_stack_size(n * 64 + 1000000, argv);\n",
    "    printf(\"factorial(%\" PRIu64 \") %% 13 == %\" PRIu64 \"\\n\", n, factorial(n));\n",
    "}"
   ]
  },
  {
   "cell_type": "code",
   "execution_count": null,
   "metadata": {},
   "outputs": [],
   "source": []
  },
  {
   "cell_type": "code",
   "execution_count": null,
   "metadata": {},
   "outputs": [],
   "source": []
  },
  {
   "cell_type": "markdown",
   "metadata": {},
   "source": [
    "## <a name=\"ptrace\"></a> Отладка программ с помощью PTRACE\n",
    "\n",
    "\n",
    "Документация https://www.opennet.ru/base/dev/ptrace_guide.txt.html\n"
   ]
  },
  {
   "cell_type": "code",
   "execution_count": 74,
   "metadata": {},
   "outputs": [
    {
     "data": {
      "text/markdown": [
       "Run: `gcc -m64 premoderate.c -o premoderate.exe`"
      ],
      "text/plain": [
       "<IPython.core.display.Markdown object>"
      ]
     },
     "metadata": {},
     "output_type": "display_data"
    },
    {
     "data": {
      "text/markdown": [
       "Run: `./premoderate.exe echo \"Vasya got 3 in math and 3 in russian\"`"
      ],
      "text/plain": [
       "<IPython.core.display.Markdown object>"
      ]
     },
     "metadata": {},
     "output_type": "display_data"
    },
    {
     "name": "stdout",
     "output_type": "stream",
     "text": [
      "Vasya got 5 in math and 5 in russian\r\n"
     ]
    }
   ],
   "source": [
    "%%cpp premoderate.c\n",
    "%run gcc -m64 premoderate.c -o premoderate.exe\n",
    "%run ./premoderate.exe echo \"Vasya got 3 in math and 3 in russian\"\n",
    "\n",
    "#include <sys/types.h>\n",
    "#include <sys/stat.h>\n",
    "#include <sys/ptrace.h>\n",
    "#include <sys/wait.h>\n",
    "#include <sys/user.h>\n",
    "#include <unistd.h>\n",
    "#include <stdlib.h>\n",
    "#include <stdio.h>\n",
    "#include <fcntl.h>\n",
    "#include <stdbool.h>\n",
    "#include <asm/unistd.h>\n",
    "#include <signal.h>\n",
    "#include <string.h>\n",
    "#include <errno.h>\n",
    "#include <assert.h>\n",
    "\n",
    "int check_code(int code, const char* file, int line, const char* text) {\n",
    "    if (code == -1) {\n",
    "        char buf[10000]; \n",
    "        sprintf(buf, \"%s failed (%s:%d)\", text, file, line); \n",
    "        perror(buf); \n",
    "        abort();\n",
    "    }\n",
    "    return code;\n",
    "}\n",
    "    \n",
    "#define checked(call) check_code(call, __FILE__, __LINE__, #call)\n",
    "\n",
    "static void premoderate_write_syscall(pid_t pid, struct user_regs_struct state) {\n",
    "    size_t orig_buf = state.rsi;   \n",
    "    size_t size = state.rdx;\n",
    "    char* buffer = calloc(size + sizeof(size_t), sizeof(*buffer));\n",
    "    for (size_t i = 0; i < size; i++) {\n",
    "        *(size_t*)(buffer + i) = checked(ptrace(PTRACE_PEEKDATA, pid, orig_buf + i, NULL));\n",
    "    }\n",
    "    char* bad_char;\n",
    "    while (bad_char = strchr(buffer, '3')) {\n",
    "        *bad_char = '5';\n",
    "        checked(ptrace(PTRACE_POKEDATA, pid, orig_buf + (bad_char - buffer), *(size_t*)bad_char));\n",
    "    }\n",
    "\n",
    "    free(buffer);\n",
    "}\n",
    "\n",
    "int main(int argc, char *argv[])\n",
    "{\n",
    "    pid_t pid = checked(fork());\n",
    "    if (0 == pid) {\n",
    "        checked(ptrace(PTRACE_TRACEME, 0, NULL, NULL));\n",
    "        checked(execvp(argv[1], argv + 1));\n",
    "    }  \n",
    "    int wstatus = 0;\n",
    "    checked(waitpid(pid, &wstatus, 0)); // Ждем пока дочерний процесс остановится на traceme\n",
    "    do {\n",
    "        checked(ptrace(PTRACE_SYSCALL, pid, NULL, NULL)); // Говорим, что будем ждать syscall и ждем\n",
    "        checked(waitpid(pid, &wstatus, 0));\n",
    "        if (WIFSTOPPED(wstatus)) {\n",
    "            struct user_regs_struct state;\n",
    "            checked(ptrace(PTRACE_GETREGS, pid, 0, &state));\n",
    "            if (__NR_write == state.orig_rax) { \n",
    "                premoderate_write_syscall(pid, state);\n",
    "            }              \n",
    "        }\n",
    "    } while (!WIFEXITED(wstatus));\n",
    "}"
   ]
  },
  {
   "cell_type": "code",
   "execution_count": null,
   "metadata": {},
   "outputs": [],
   "source": []
  },
  {
   "cell_type": "markdown",
   "metadata": {},
   "source": [
    "# Пример от меня, который может пригодиться при тестировании программ на надежность IO"
   ]
  },
  {
   "cell_type": "code",
   "execution_count": 99,
   "metadata": {},
   "outputs": [
    {
     "data": {
      "text/markdown": [
       "Run: `gcc run_with_unreliable_io.c -o run_with_unreliable_io.exe`"
      ],
      "text/plain": [
       "<IPython.core.display.Markdown object>"
      ]
     },
     "metadata": {},
     "output_type": "display_data"
    }
   ],
   "source": [
    "%%cpp run_with_unreliable_io.c\n",
    "%run gcc run_with_unreliable_io.c -o run_with_unreliable_io.exe\n",
    "\n",
    "#include <sys/types.h>\n",
    "#include <sys/stat.h>\n",
    "#include <sys/ptrace.h>\n",
    "#include <sys/wait.h>\n",
    "#include <sys/user.h>\n",
    "#include <unistd.h>\n",
    "#include <stdlib.h>\n",
    "#include <stdio.h>\n",
    "#include <fcntl.h>\n",
    "#include <stdbool.h>\n",
    "#include <asm/unistd.h>\n",
    "#include <signal.h>\n",
    "#include <string.h>\n",
    "#include <errno.h>\n",
    "#include <time.h>\n",
    "\n",
    "\n",
    "int check_code(int code, const char* file, int line, const char* text) {\n",
    "    if (code == -1) {\n",
    "        char buf[10000]; \n",
    "        sprintf(buf, \"%s failed (%s:%d)\", text, file, line); \n",
    "        perror(buf); \n",
    "        abort();\n",
    "    }\n",
    "    return code;\n",
    "}\n",
    "    \n",
    "#define checked(call) check_code(call, __FILE__, __LINE__, #call)\n",
    "\n",
    "\n",
    "int main(int argc, char *argv[])\n",
    "{\n",
    "    pid_t pid = checked(fork());\n",
    "    if (0 == pid) {\n",
    "        checked(ptrace(PTRACE_TRACEME, 0, NULL, NULL));\n",
    "        checked(execvp(argv[3], argv + 3));\n",
    "    }  \n",
    "    srand(time(NULL));\n",
    "    int always_partial = strtol(argv[1], NULL, 10);\n",
    "    int enable_retryable_errors = strtol(argv[2], NULL, 10);\n",
    "    \n",
    "    int wstatus = 0;\n",
    "    checked(waitpid(pid, &wstatus, 0));\n",
    "\n",
    "    int reads_count = 0, writes_count = 0;\n",
    "    do {\n",
    "        checked(ptrace(PTRACE_SYSCALL, pid, NULL, NULL));\n",
    "        checked(waitpid(pid, &wstatus, 0));\n",
    "        if (WIFSTOPPED(wstatus)) {\n",
    "            struct user_regs_struct state;\n",
    "            checked(ptrace(PTRACE_GETREGS, pid, 0, &state));\n",
    "            bool is_read = (__NR_read == state.orig_rax), is_write = (__NR_write == state.orig_rax);\n",
    "            reads_count += is_read;\n",
    "            writes_count += is_write;\n",
    "            if (!(is_read || is_write) || (state.rdi == STDERR_FILENO) || (is_read && reads_count <= 2)) \n",
    "                continue;\n",
    "              \n",
    "            if (enable_retryable_errors && ((is_read && (reads_count & 1)) || (is_write && !(writes_count & 1)))) {\n",
    "                unsigned long long old_rdx = state.rdx;\n",
    "                unsigned long long old_rdi = state.rdi;\n",
    "                state.rdx = 0;\n",
    "                state.rdi = 100500; // not existing file descriptor\n",
    "                checked(ptrace(PTRACE_SETREGS, pid, 0, &state));\n",
    "                checked(ptrace(PTRACE_SINGLESTEP, pid, 0, 0));\n",
    "                waitpid(pid, &wstatus, 0); // важно! делать wait\n",
    "                state.rax = -EINTR;\n",
    "                state.rdx = old_rdx;\n",
    "                state.rdi = old_rdi;\n",
    "                checked(ptrace(PTRACE_SETREGS, pid, 0, &state)); \n",
    "            } else if (always_partial || (random() % 3 != 0)) {\n",
    "                unsigned long long old_rdx = state.rdx;\n",
    "                if (state.rdx > 1) {\n",
    "                    state.rdx = 1 + rand() % ((state.rdx + 4) / 5);\n",
    "                    checked(ptrace(PTRACE_SETREGS, pid, 0, &state));\n",
    "                } \n",
    "                checked(ptrace(PTRACE_SINGLESTEP, pid, 0, 0));\n",
    "                waitpid(pid, &wstatus, 0);\n",
    "                checked(ptrace(PTRACE_GETREGS, pid, 0, &state));\n",
    "                // возвращаем как было, чтобы логика самой программы не поменялась\n",
    "                state.rdx = old_rdx;\n",
    "                checked(ptrace(PTRACE_SETREGS, pid, 0, &state)); \n",
    "            }          \n",
    "        }\n",
    "    } while (!WIFEXITED(wstatus));\n",
    "}"
   ]
  },
  {
   "cell_type": "code",
   "execution_count": 75,
   "metadata": {},
   "outputs": [
    {
     "name": "stdout",
     "output_type": "stream",
     "text": [
      "123 456 789 012 345 678 90\n",
      "123 echo: write error\n"
     ]
    }
   ],
   "source": [
    "!./run_with_unreliable_io.exe 1 0 echo \"123 456 789 012 345 678 90\"\n",
    "!./run_with_unreliable_io.exe 1 1 echo \"123 456 789 012 345 678 90\""
   ]
  },
  {
   "cell_type": "code",
   "execution_count": null,
   "metadata": {},
   "outputs": [],
   "source": []
  },
  {
   "cell_type": "code",
   "execution_count": 76,
   "metadata": {},
   "outputs": [
    {
     "data": {
      "text/markdown": [
       "Run: `gcc unreliable_write.cpp -o unreliable_write.exe`"
      ],
      "text/plain": [
       "<IPython.core.display.Markdown object>"
      ]
     },
     "metadata": {},
     "output_type": "display_data"
    },
    {
     "data": {
      "text/markdown": [
       "Run: `./unreliable_write.exe`"
      ],
      "text/plain": [
       "<IPython.core.display.Markdown object>"
      ]
     },
     "metadata": {},
     "output_type": "display_data"
    },
    {
     "name": "stdout",
     "output_type": "stream",
     "text": [
      "Reliable print: Hello from C!\r\n",
      "Written 30 bytes by printf. errno=0, err=Success\r\n",
      "Hello from C!\r\n",
      "\u0000write: Success\r\n",
      "Written 15 bytes by write. errno=0, err=Success\r\n"
     ]
    },
    {
     "data": {
      "text/markdown": [
       "Run: `./run_with_unreliable_io.exe 1 0 ./unreliable_write.exe`"
      ],
      "text/plain": [
       "<IPython.core.display.Markdown object>"
      ]
     },
     "metadata": {},
     "output_type": "display_data"
    },
    {
     "name": "stdout",
     "output_type": "stream",
     "text": [
      "Reliable print: Hello from C!\r\n",
      "Written 30 bytes by printf. errno=0, err=Success\r\n",
      "Hwrite: Success\r\n",
      "Written 1 bytes by write. errno=0, err=Success\r\n"
     ]
    },
    {
     "data": {
      "text/markdown": [
       "Run: `./run_with_unreliable_io.exe 1 1 ./unreliable_write.exe`"
      ],
      "text/plain": [
       "<IPython.core.display.Markdown object>"
      ]
     },
     "metadata": {},
     "output_type": "display_data"
    },
    {
     "name": "stdout",
     "output_type": "stream",
     "text": [
      "RelWritten -1 bytes by printf. errno=4, err=Interrupted system call\r\n",
      "Helwrite: Interrupted system call\r\n",
      "Written 3 bytes by write. errno=4, err=Interrupted system call\r\n"
     ]
    }
   ],
   "source": [
    "%%cpp unreliable_write.cpp\n",
    "%run gcc unreliable_write.cpp -o unreliable_write.exe\n",
    "%run ./unreliable_write.exe\n",
    "%run ./run_with_unreliable_io.exe 1 0 ./unreliable_write.exe\n",
    "%run ./run_with_unreliable_io.exe 1 1 ./unreliable_write.exe\n",
    "\n",
    "#include <unistd.h>\n",
    "#include <stdio.h>\n",
    "#include <errno.h>\n",
    "#include <string.h>\n",
    "\n",
    "int main() {\n",
    "    const char str[] = \"Hello from C!\\n\";\n",
    "    int written_p = printf(\"Reliable print: %s\", str); fflush(stdout);\n",
    "    fprintf(stderr, \"Written %d bytes by printf. errno=%d, err=%s\\n\", written_p, errno, strerror(errno)); fflush(stderr);\n",
    "  \n",
    "    int written_w = write(1, str, sizeof(str));\n",
    "    perror(\"write\");\n",
    "    fprintf(stderr, \"Written %d bytes by write. errno=%d, err=%s\\n\", written_w, errno, strerror(errno)); fflush(stderr);\n",
    "    \n",
    "    return 0;\n",
    "}"
   ]
  },
  {
   "cell_type": "code",
   "execution_count": null,
   "metadata": {},
   "outputs": [],
   "source": []
  },
  {
   "cell_type": "code",
   "execution_count": null,
   "metadata": {},
   "outputs": [],
   "source": []
  },
  {
   "cell_type": "code",
   "execution_count": null,
   "metadata": {},
   "outputs": [],
   "source": []
  },
  {
   "cell_type": "code",
   "execution_count": 59,
   "metadata": {},
   "outputs": [
    {
     "name": "stderr",
     "output_type": "stream",
     "text": [
      "/home/pechatnov/.local/lib/python3.8/site-packages/IPython/core/display.py:717: UserWarning: Consider using IPython.display.IFrame instead\n",
      "  warnings.warn(\"Consider using IPython.display.IFrame instead\")\n"
     ]
    },
    {
     "data": {
      "text/html": [
       "<iframe width=\"560\" height=\"315\" src=\"https://sekundomer.net/onlinetimer/\" frameborder=\"0\" allowfullscreen></iframe>"
      ],
      "text/plain": [
       "<IPython.core.display.HTML object>"
      ]
     },
     "metadata": {},
     "output_type": "display_data"
    }
   ],
   "source": [
    "from IPython.display import HTML, display\n",
    "display(HTML('<iframe width=\"560\" height=\"315\" src=\"https://sekundomer.net/onlinetimer/\" frameborder=\"0\" allowfullscreen></iframe>'))"
   ]
  },
  {
   "cell_type": "code",
   "execution_count": null,
   "metadata": {},
   "outputs": [],
   "source": []
  },
  {
   "cell_type": "markdown",
   "metadata": {},
   "source": [
    "## Микротест:\n",
    "1. вариант\n",
    "  1. Определение файлового дескриптора. Стандартные дескрипторы открытые при старте программы.\n",
    "  1. Каких гарантий не дают функции read и write? Кто виноват и что с этим приходится делать?\n",
    "  1. Аргументы и возвращаемое значение функции lseek\n",
    "  1. С какими правами стоит создавать обычный файл? (3й аргумент open)\n",
    "1. вариант\n",
    "  1. Аргументы и возвращаемое значение функции read. Обработка ошибок функции\n",
    "  1. У вас есть файловый дескриптор открытого файла. Как узнать размер этого файла?\n",
    "  1. Аргументы и возвращаемое значение вызова open. Особенность передачи аргументов в функцию\n",
    "  1. Как вывести форматированную строку printf(\"S=%d, F=%f\", 42, 1.23) в файловый дескриптор?\n"
   ]
  },
  {
   "cell_type": "code",
   "execution_count": null,
   "metadata": {},
   "outputs": [],
   "source": []
  },
  {
   "cell_type": "markdown",
   "metadata": {},
   "source": [
    "Вопросы для подготовки к контрольной:\n",
    "* Что тут не так? Что произойдет? (x86 32-bit)\n",
    "\n",
    "```c\n",
    "int desired_fd = 4;\n",
    "printf(\"We are to open file at %d fd. Yeah really at %d fd\\n\", desired_fd, desired_fd);\n",
    "int fd = open(\"file.txt\", O_WRONLY | O_CREAT | O_TRUNC);\n",
    "dup2(fd, desired_fd);\n",
    "```\n",
    "* Страничная память: все что знаете\n",
    "* Жизненный цикл процесса: все что знаете\n",
    "* TLB-кеш, что это?\n",
    "* Какая память релаьно копируется при вызове fork()?\n",
    "* Файлы в linux, файловые системы и все около того.\n",
    "* Как изменится число?\n",
    "\n",
    "```c\n",
    "union {\n",
    "    double d;\n",
    "    unsigned long long b;\n",
    "} u = {1.0};\n",
    "\n",
    "u.b ^= 1ull << 52;\n",
    "printf(\"u.d = %lf\\n\", u.d);\n",
    "```"
   ]
  },
  {
   "cell_type": "code",
   "execution_count": null,
   "metadata": {},
   "outputs": [],
   "source": []
  },
  {
   "cell_type": "code",
   "execution_count": null,
   "metadata": {},
   "outputs": [],
   "source": []
  },
  {
   "cell_type": "code",
   "execution_count": null,
   "metadata": {},
   "outputs": [],
   "source": []
  }
 ],
 "metadata": {
  "kernelspec": {
   "display_name": "Python 3",
   "language": "python",
   "name": "python3"
  },
  "language_info": {
   "codemirror_mode": {
    "name": "ipython",
    "version": 3
   },
   "file_extension": ".py",
   "mimetype": "text/x-python",
   "name": "python",
   "nbconvert_exporter": "python",
   "pygments_lexer": "ipython3",
   "version": "3.8.5"
  }
 },
 "nbformat": 4,
 "nbformat_minor": 2
}
