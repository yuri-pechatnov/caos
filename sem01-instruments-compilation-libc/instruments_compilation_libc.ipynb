{
 "cells": [
  {
   "cell_type": "code",
   "execution_count": 2,
   "metadata": {
    "scrolled": false
   },
   "outputs": [
    {
     "data": {
      "application/javascript": [
       "// setup cpp code highlighting\n",
       "IPython.CodeCell.options_default.highlight_modes[\"text/x-c++src\"] = {'reg':[/^%%cpp/]} ;"
      ],
      "text/plain": [
       "<IPython.core.display.Javascript object>"
      ]
     },
     "metadata": {},
     "output_type": "display_data"
    },
    {
     "data": {
      "text/html": [
       "<!-- YANDEX_METRICA_BEGIN -->\n",
       "    <script type=\"text/javascript\" >\n",
       "       (function(m,e,t,r,i,k,a){m[i]=m[i]||function(){(m[i].a=m[i].a||[]).push(arguments)};\n",
       "       m[i].l=1*new Date();k=e.createElement(t),a=e.getElementsByTagName(t)[0],k.async=1,k.src=r,a.parentNode.insertBefore(k,a)})\n",
       "       (window, document, \"script\", \"https://mc.yandex.ru/metrika/tag.js\", \"ym\");\n",
       "\n",
       "       ym(59260609, \"init\", {\n",
       "            clickmap:true,\n",
       "            trackLinks:true,\n",
       "            accurateTrackBounce:true\n",
       "       });\n",
       "    </script>\n",
       "    <noscript><div><img src=\"https://mc.yandex.ru/watch/59260609\" style=\"position:absolute; left:-9999px;\" alt=\"\" /></div></noscript>\n",
       "    <!-- YANDEX_METRICA_END -->"
      ],
      "text/plain": [
       "<IPython.core.display.HTML object>"
      ]
     },
     "metadata": {},
     "output_type": "display_data"
    },
    {
     "data": {
      "text/html": [
       "В этот ноутбук встроен код Яндекс Метрики для сбора статистики использований. Если вы не хотите, чтобы по вам собиралась статистика, исправьте: yandex_metrica_allowed = False<!-- MAGICS_SETUP_PRINTING_END -->"
      ],
      "text/plain": [
       "<IPython.core.display.HTML object>"
      ]
     },
     "metadata": {},
     "output_type": "display_data"
    }
   ],
   "source": [
    "# look at tools/set_up_magics.ipynb\n",
    "yandex_metrica_allowed = True ; get_ipython().run_cell('# one_liner_str\\n\\nget_ipython().run_cell_magic(\\'javascript\\', \\'\\', \\'// setup cpp code highlighting\\\\nIPython.CodeCell.options_default.highlight_modes[\"text/x-c++src\"] = {\\\\\\'reg\\\\\\':[/^%%cpp/]} ;\\')\\n\\n# creating magics\\nfrom IPython.core.magic import register_cell_magic, register_line_magic\\nfrom IPython.display import display, Markdown, HTML\\nimport argparse\\nfrom subprocess import Popen, PIPE\\nimport random\\nimport sys\\nimport os\\nimport re\\nimport signal\\nimport shutil\\nimport shlex\\nimport glob\\n\\n@register_cell_magic\\ndef save_file(args_str, cell, line_comment_start=\"#\"):\\n    parser = argparse.ArgumentParser()\\n    parser.add_argument(\"fname\")\\n    parser.add_argument(\"--ejudge-style\", action=\"store_true\")\\n    args = parser.parse_args(args_str.split())\\n    \\n    cell = cell if cell[-1] == \\'\\\\n\\' or args.no_eof_newline else cell + \"\\\\n\"\\n    cmds = []\\n    with open(args.fname, \"w\") as f:\\n        f.write(line_comment_start + \" %%cpp \" + args_str + \"\\\\n\")\\n        for line in cell.split(\"\\\\n\"):\\n            line_to_write = (line if not args.ejudge_style else line.rstrip()) + \"\\\\n\"\\n            if line.startswith(\"%\"):\\n                run_prefix = \"%run \"\\n                if line.startswith(run_prefix):\\n                    cmds.append(line[len(run_prefix):].strip())\\n                    f.write(line_comment_start + \" \" + line_to_write)\\n                    continue\\n                run_prefix = \"%# \"\\n                if line.startswith(run_prefix):\\n                    f.write(line_comment_start + \" \" + line_to_write)\\n                    continue\\n                raise Exception(\"Unknown %%save_file subcommand: \\'%s\\'\" % line)\\n            else:\\n                f.write(line_to_write)\\n        f.write(\"\" if not args.ejudge_style else line_comment_start + r\" line without \\\\n\")\\n    for cmd in cmds:\\n        display(Markdown(\"Run: `%s`\" % cmd))\\n        get_ipython().system(cmd)\\n\\n@register_cell_magic\\ndef cpp(fname, cell):\\n    save_file(fname, cell, \"//\")\\n\\n@register_cell_magic\\ndef asm(fname, cell):\\n    save_file(fname, cell, \"//\")\\n    \\n@register_cell_magic\\ndef makefile(fname, cell):\\n    assert not fname\\n    save_file(\"makefile\", cell.replace(\" \" * 4, \"\\\\t\"))\\n        \\n@register_line_magic\\ndef p(line):\\n    try:\\n        expr, comment = line.split(\" #\")\\n        display(Markdown(\"`{} = {}`  # {}\".format(expr.strip(), eval(expr), comment.strip())))\\n    except:\\n        display(Markdown(\"{} = {}\".format(line, eval(line))))\\n        \\ndef show_file(file, clear_at_begin=True, return_html_string=False):\\n    if clear_at_begin:\\n        get_ipython().system(\"truncate --size 0 \" + file)\\n    obj = file.replace(\\'.\\', \\'_\\').replace(\\'/\\', \\'_\\') + \"_obj\"\\n    html_string = \\'\\'\\'\\n        <!--MD_BEGIN_FILTER-->\\n        <script type=text/javascript>\\n        var entrance___OBJ__ = 0;\\n        var errors___OBJ__ = 0;\\n        function refresh__OBJ__()\\n        {\\n            entrance___OBJ__ -= 1;\\n            var elem = document.getElementById(\"__OBJ__\");\\n            if (elem) {\\n                var xmlhttp=new XMLHttpRequest();\\n                xmlhttp.onreadystatechange=function()\\n                {\\n                    var elem = document.getElementById(\"__OBJ__\");\\n                    console.log(!!elem, xmlhttp.readyState, xmlhttp.status, entrance___OBJ__);\\n                    if (elem && xmlhttp.readyState==4) {\\n                        if (xmlhttp.status==200)\\n                        {\\n                            errors___OBJ__ = 0;\\n                            if (!entrance___OBJ__) {\\n                                elem.innerText = xmlhttp.responseText;\\n                                entrance___OBJ__ += 1;\\n                                console.log(\"req\");\\n                                window.setTimeout(\"refresh__OBJ__()\", 300); \\n                            }\\n                            return xmlhttp.responseText;\\n                        } else {\\n                            errors___OBJ__ += 1;\\n                            if (errors___OBJ__ < 10 && !entrance___OBJ__) {\\n                                entrance___OBJ__ += 1;\\n                                console.log(\"req\");\\n                                window.setTimeout(\"refresh__OBJ__()\", 300); \\n                            }\\n                        }\\n                    }\\n                }\\n                xmlhttp.open(\"GET\", \"__FILE__\", true);\\n                xmlhttp.setRequestHeader(\"Cache-Control\", \"no-cache\");\\n                xmlhttp.send();     \\n            }\\n        }\\n        \\n        if (!entrance___OBJ__) {\\n            entrance___OBJ__ += 1;\\n            refresh__OBJ__(); \\n        }\\n        </script>\\n        \\n        <font color=\"white\"> <tt>\\n        <p id=\"__OBJ__\" style=\"font-size: 16px; border:3px #333333 solid; background: #333333; border-radius: 10px; padding: 10px;  \"></p>\\n        </tt> </font>\\n        <!--MD_END_FILTER-->\\n        <!--MD_FROM_FILE __FILE__ -->\\n        \\'\\'\\'.replace(\"__OBJ__\", obj).replace(\"__FILE__\", file)\\n    if return_html_string:\\n        return html_string\\n    display(HTML(html_string))\\n    \\nBASH_POPEN_TMP_DIR = \"./bash_popen_tmp\"\\n    \\ndef bash_popen_terminate_all():\\n    for p in globals().get(\"bash_popen_list\", []):\\n        print(\"Terminate pid=\" + str(p.pid), file=sys.stderr)\\n        p.terminate()\\n    globals()[\"bash_popen_list\"] = []\\n    if os.path.exists(BASH_POPEN_TMP_DIR):\\n        shutil.rmtree(BASH_POPEN_TMP_DIR)\\n\\nbash_popen_terminate_all()  \\n\\ndef bash_popen(cmd):\\n    if not os.path.exists(BASH_POPEN_TMP_DIR):\\n        os.mkdir(BASH_POPEN_TMP_DIR)\\n    h = os.path.join(BASH_POPEN_TMP_DIR, str(random.randint(0, 1e18)))\\n    stdout_file = h + \".out.html\"\\n    stderr_file = h + \".err.html\"\\n    run_log_file = h + \".fin.html\"\\n    \\n    stdout = open(stdout_file, \"wb\")\\n    stdout = open(stderr_file, \"wb\")\\n    \\n    html = \"\"\"\\n    <table width=\"100%\">\\n    <colgroup>\\n       <col span=\"1\" style=\"width: 70px;\">\\n       <col span=\"1\">\\n    </colgroup>    \\n    <tbody>\\n      <tr> <td><b>STDOUT</b></td> <td> {stdout} </td> </tr>\\n      <tr> <td><b>STDERR</b></td> <td> {stderr} </td> </tr>\\n      <tr> <td><b>RUN LOG</b></td> <td> {run_log} </td> </tr>\\n    </tbody>\\n    </table>\\n    \"\"\".format(\\n        stdout=show_file(stdout_file, return_html_string=True),\\n        stderr=show_file(stderr_file, return_html_string=True),\\n        run_log=show_file(run_log_file, return_html_string=True),\\n    )\\n    \\n    cmd = \"\"\"\\n        bash -c {cmd} &\\n        pid=$!\\n        echo \"Process started! pid=${{pid}}\" > {run_log_file}\\n        wait ${{pid}}\\n        echo \"Process finished! exit_code=$?\" >> {run_log_file}\\n    \"\"\".format(cmd=shlex.quote(cmd), run_log_file=run_log_file)\\n    # print(cmd)\\n    display(HTML(html))\\n    \\n    p = Popen([\"bash\", \"-c\", cmd], stdin=PIPE, stdout=stdout, stderr=stdout)\\n    \\n    bash_popen_list.append(p)\\n    return p\\n\\n\\n@register_line_magic\\ndef bash_async(line):\\n    bash_popen(line)\\n    \\n    \\ndef show_log_file(file, return_html_string=False):\\n    obj = file.replace(\\'.\\', \\'_\\').replace(\\'/\\', \\'_\\') + \"_obj\"\\n    html_string = \\'\\'\\'\\n        <!--MD_BEGIN_FILTER-->\\n        <script type=text/javascript>\\n        var entrance___OBJ__ = 0;\\n        var errors___OBJ__ = 0;\\n        function halt__OBJ__(elem, color)\\n        {\\n            elem.setAttribute(\"style\", \"font-size: 14px; background: \" + color + \"; padding: 10px; border: 3px; border-radius: 5px; color: white; \");                    \\n        }\\n        function refresh__OBJ__()\\n        {\\n            entrance___OBJ__ -= 1;\\n            if (entrance___OBJ__ < 0) {\\n                entrance___OBJ__ = 0;\\n            }\\n            var elem = document.getElementById(\"__OBJ__\");\\n            if (elem) {\\n                var xmlhttp=new XMLHttpRequest();\\n                xmlhttp.onreadystatechange=function()\\n                {\\n                    var elem = document.getElementById(\"__OBJ__\");\\n                    console.log(!!elem, xmlhttp.readyState, xmlhttp.status, entrance___OBJ__);\\n                    if (elem && xmlhttp.readyState==4) {\\n                        if (xmlhttp.status==200)\\n                        {\\n                            errors___OBJ__ = 0;\\n                            if (!entrance___OBJ__) {\\n                                if (elem.innerHTML != xmlhttp.responseText) {\\n                                    elem.innerHTML = xmlhttp.responseText;\\n                                }\\n                                if (elem.innerHTML.includes(\"Process finished.\")) {\\n                                    halt__OBJ__(elem, \"#333333\");\\n                                } else {\\n                                    entrance___OBJ__ += 1;\\n                                    console.log(\"req\");\\n                                    window.setTimeout(\"refresh__OBJ__()\", 300); \\n                                }\\n                            }\\n                            return xmlhttp.responseText;\\n                        } else {\\n                            errors___OBJ__ += 1;\\n                            if (!entrance___OBJ__) {\\n                                if (errors___OBJ__ < 6) {\\n                                    entrance___OBJ__ += 1;\\n                                    console.log(\"req\");\\n                                    window.setTimeout(\"refresh__OBJ__()\", 300); \\n                                } else {\\n                                    halt__OBJ__(elem, \"#994444\");\\n                                }\\n                            }\\n                        }\\n                    }\\n                }\\n                xmlhttp.open(\"GET\", \"__FILE__\", true);\\n                xmlhttp.setRequestHeader(\"Cache-Control\", \"no-cache\");\\n                xmlhttp.send();     \\n            }\\n        }\\n        \\n        if (!entrance___OBJ__) {\\n            entrance___OBJ__ += 1;\\n            refresh__OBJ__(); \\n        }\\n        </script>\\n\\n        <p id=\"__OBJ__\" style=\"font-size: 14px; background: #000000; padding: 10px; border: 3px; border-radius: 5px; color: white; \">\\n        </p>\\n        \\n        </font>\\n        <!--MD_END_FILTER-->\\n        <!--MD_FROM_FILE __FILE__.md -->\\n        \\'\\'\\'.replace(\"__OBJ__\", obj).replace(\"__FILE__\", file)\\n    if return_html_string:\\n        return html_string\\n    display(HTML(html_string))\\n\\n    \\nclass TInteractiveLauncher:\\n    tmp_path = \"./interactive_launcher_tmp\"\\n    def __init__(self, cmd):\\n        try:\\n            os.mkdir(TInteractiveLauncher.tmp_path)\\n        except:\\n            pass\\n        name = str(random.randint(0, 1e18))\\n        self.inq_path = os.path.join(TInteractiveLauncher.tmp_path, name + \".inq\")\\n        self.log_path = os.path.join(TInteractiveLauncher.tmp_path, name + \".log\")\\n        \\n        os.mkfifo(self.inq_path)\\n        open(self.log_path, \\'w\\').close()\\n        open(self.log_path + \".md\", \\'w\\').close()\\n\\n        self.pid = os.fork()\\n        if self.pid == -1:\\n            print(\"Error\")\\n        if self.pid == 0:\\n            exe_cands = glob.glob(\"../tools/launcher.py\") + glob.glob(\"../../tools/launcher.py\")\\n            assert(len(exe_cands) == 1)\\n            assert(os.execvp(\"python3\", [\"python3\", exe_cands[0], \"-l\", self.log_path, \"-i\", self.inq_path, \"-c\", cmd]) == 0)\\n        self.inq_f = open(self.inq_path, \"w\")\\n        interactive_launcher_opened_set.add(self.pid)\\n        show_log_file(self.log_path)\\n\\n    def write(self, s):\\n        s = s.encode()\\n        assert len(s) == os.write(self.inq_f.fileno(), s)\\n        \\n    def get_pid(self):\\n        n = 100\\n        for i in range(n):\\n            try:\\n                return int(re.findall(r\"PID = (\\\\d+)\", open(self.log_path).readline())[0])\\n            except:\\n                if i + 1 == n:\\n                    raise\\n                time.sleep(0.1)\\n        \\n    def input_queue_path(self):\\n        return self.inq_path\\n        \\n    def close(self):\\n        self.inq_f.close()\\n        os.waitpid(self.pid, 0)\\n        os.remove(self.inq_path)\\n        # os.remove(self.log_path)\\n        self.inq_path = None\\n        self.log_path = None \\n        interactive_launcher_opened_set.remove(self.pid)\\n        self.pid = None\\n        \\n    @staticmethod\\n    def terminate_all():\\n        if \"interactive_launcher_opened_set\" not in globals():\\n            globals()[\"interactive_launcher_opened_set\"] = set()\\n        global interactive_launcher_opened_set\\n        for pid in interactive_launcher_opened_set:\\n            print(\"Terminate pid=\" + str(pid), file=sys.stderr)\\n            os.kill(pid, signal.SIGKILL)\\n            os.waitpid(pid, 0)\\n        interactive_launcher_opened_set = set()\\n        if os.path.exists(TInteractiveLauncher.tmp_path):\\n            shutil.rmtree(TInteractiveLauncher.tmp_path)\\n    \\nTInteractiveLauncher.terminate_all()\\n   \\nyandex_metrica_allowed = bool(globals().get(\"yandex_metrica_allowed\", False))\\nif yandex_metrica_allowed:\\n    display(HTML(\\'\\'\\'<!-- YANDEX_METRICA_BEGIN -->\\n    <script type=\"text/javascript\" >\\n       (function(m,e,t,r,i,k,a){m[i]=m[i]||function(){(m[i].a=m[i].a||[]).push(arguments)};\\n       m[i].l=1*new Date();k=e.createElement(t),a=e.getElementsByTagName(t)[0],k.async=1,k.src=r,a.parentNode.insertBefore(k,a)})\\n       (window, document, \"script\", \"https://mc.yandex.ru/metrika/tag.js\", \"ym\");\\n\\n       ym(59260609, \"init\", {\\n            clickmap:true,\\n            trackLinks:true,\\n            accurateTrackBounce:true\\n       });\\n    </script>\\n    <noscript><div><img src=\"https://mc.yandex.ru/watch/59260609\" style=\"position:absolute; left:-9999px;\" alt=\"\" /></div></noscript>\\n    <!-- YANDEX_METRICA_END -->\\'\\'\\'))\\n\\ndef make_oneliner():\\n    html_text = \\'(\"В этот ноутбук встроен код Яндекс Метрики для сбора статистики использований. Если вы не хотите, чтобы по вам собиралась статистика, исправьте: yandex_metrica_allowed = False\" if yandex_metrica_allowed else \"\")\\'\\n    html_text += \\' + \"<\"\"!-- MAGICS_SETUP_PRINTING_END -->\"\\'\\n    return \\'\\'.join([\\n        \\'# look at tools/set_up_magics.ipynb\\\\n\\',\\n        \\'yandex_metrica_allowed = True ; get_ipython().run_cell(%s);\\' % repr(one_liner_str),\\n        \\'display(HTML(%s))\\' % html_text,\\n        \\' #\\'\\'MAGICS_SETUP_END\\'\\n    ])\\n       \\n\\n');display(HTML((\"В этот ноутбук встроен код Яндекс Метрики для сбора статистики использований. Если вы не хотите, чтобы по вам собиралась статистика, исправьте: yandex_metrica_allowed = False\" if yandex_metrica_allowed else \"\") + \"<\"\"!-- MAGICS_SETUP_PRINTING_END -->\")) #MAGICS_SETUP_END"
   ]
  },
  {
   "cell_type": "code",
   "execution_count": 2,
   "metadata": {},
   "outputs": [],
   "source": [
    "!git add video.png"
   ]
  },
  {
   "cell_type": "markdown",
   "metadata": {},
   "source": [
    "# Инструменты разработки\n",
    "\n",
    "<table width=100%> <tr>\n",
    "    <th width=20%> <b>Видеозапись семинара &rarr; </b> </th>\n",
    "    <th>\n",
    "    <a href=\"hhttps://www.youtube.com/watch?v=E8a0m6HG2x8&list=PLjzMm8llUm4AmU6i_hPU0NobgA4VsBowc&index=2\">\n",
    "        <img src=\"video.png\" width=\"320\"  height=\"160\" align=\"left\" alt=\"Видео с семинара\"> \n",
    "    </a>\n",
    "    </th>\n",
    "    <th> </th>\n",
    "</tr> </table>\n",
    "\n",
    "\n",
    "[Ридинг Яковлева](https://github.com/victor-yacovlev/mipt-diht-caos/blob/master/practice/linux_basics/devtools.md)\n",
    "\n",
    "\n",
    "Сегодня в программе:\n",
    "* <a href=\"#compile\" style=\"color:#856024\"> Компиляция и ее этапы </a>\n",
    "  * <a href=\"#simple_compile\" style=\"color:#856024\"> Просто скомпилировать! </a>\n",
    "  * <a href=\"#preprocess\" style=\"color:#856024\"> Прeпроцессинг </a>\n",
    "  * <a href=\"#compilation\" style=\"color:#856024\"> Компиляция </a>\n",
    "  * <a href=\"#assembling\" style=\"color:#856024\"> Acceмблирование </a>\n",
    "  * <a href=\"#linking\" style=\"color:#856024\"> Компоновка </a>\n",
    "\n",
    "\n",
    "* <a href=\"#elf\" style=\"color:#856024\"> Динамические библиотеки, объектные и исполняемые файлы </a>\n",
    "\n",
    "* <a href=\"#run\" style=\"color:#856024\"> Запуск и завершение программы </a>\n",
    "\n",
    "* <a href=\"#macro\" style=\"color:#856024\"> Дополнение: макросы в C/C++ </a>\n"
   ]
  },
  {
   "cell_type": "markdown",
   "metadata": {},
   "source": [
    "## <a name=\"compile\"></a> Компиляция и ее этапы\n",
    "\n",
    "[Процесс компиляции программ на C++ / Хабр](https://habr.com/ru/post/478124/)\n",
    "\n",
    "[Этапы компиляции / cppreference](https://en.cppreference.com/w/c/language/translation_phases) - тут выделены другие этапы, подробнее описано все про препроцессор.\n",
    "\n",
    "Этапы компиляции:\n",
    "1. Препроцессинг: разворачиваем инклюды и макросы\n",
    "2. Компиляция: превращаем код на С/С++ в ассемблерный код\n",
    "3. Ассемблирование: ассемблерный код -> машинный\n",
    "4. Компоновка: сборка исполняемого файла из объектных файлов и статических библиотек"
   ]
  },
  {
   "cell_type": "markdown",
   "metadata": {},
   "source": [
    "### <a name=\"simple_compile\"></a> Просто скомпилировать!\n",
    "\n",
    "Скомпилировать исходный код в исполняемый файл несложно: просто передаем все исходные файлы компилятору (файлы могут быть с разных этапов компиляции: исходные, после препроцессора, ассемблерный код (.S), объектные файлы (.o), ...)"
   ]
  },
  {
   "cell_type": "code",
   "execution_count": 3,
   "metadata": {},
   "outputs": [
    {
     "data": {
      "text/markdown": [
       "Run: `gcc hello_world.c -o hello_world_c.exe`"
      ],
      "text/plain": [
       "<IPython.core.display.Markdown object>"
      ]
     },
     "metadata": {},
     "output_type": "display_data"
    },
    {
     "data": {
      "text/markdown": [
       "Run: `./hello_world_c.exe`"
      ],
      "text/plain": [
       "<IPython.core.display.Markdown object>"
      ]
     },
     "metadata": {},
     "output_type": "display_data"
    },
    {
     "name": "stdout",
     "output_type": "stream",
     "text": [
      "Hello world!\r\n"
     ]
    }
   ],
   "source": [
    "%%cpp hello_world.c\n",
    "%run gcc hello_world.c -o hello_world_c.exe\n",
    "%run ./hello_world_c.exe\n",
    "\n",
    "#include <stdio.h>\n",
    "\n",
    "int main() {\n",
    "    printf(\"Hello world!\\n\");\n",
    "    return 0;\n",
    "}"
   ]
  },
  {
   "cell_type": "code",
   "execution_count": 4,
   "metadata": {},
   "outputs": [
    {
     "data": {
      "text/markdown": [
       "Run: `g++ hello_world.cpp -o hello_world_cpp.exe`"
      ],
      "text/plain": [
       "<IPython.core.display.Markdown object>"
      ]
     },
     "metadata": {},
     "output_type": "display_data"
    },
    {
     "data": {
      "text/markdown": [
       "Run: `./hello_world_cpp.exe`"
      ],
      "text/plain": [
       "<IPython.core.display.Markdown object>"
      ]
     },
     "metadata": {},
     "output_type": "display_data"
    },
    {
     "name": "stdout",
     "output_type": "stream",
     "text": [
      "Hello world!\r\n"
     ]
    }
   ],
   "source": [
    "%%cpp hello_world.cpp\n",
    "%run g++ hello_world.cpp -o hello_world_cpp.exe\n",
    "%run ./hello_world_cpp.exe\n",
    "\n",
    "#include <iostream>\n",
    "\n",
    "int main() {\n",
    "    std::cout << \"Hello world!\\n\";\n",
    "    return 0;\n",
    "}\n"
   ]
  },
  {
   "cell_type": "markdown",
   "metadata": {},
   "source": [
    "### <a name=\"preprocess\"></a> Препроцессинг"
   ]
  },
  {
   "cell_type": "code",
   "execution_count": 5,
   "metadata": {},
   "outputs": [],
   "source": [
    "%%cpp preprocessing_max.h\n",
    "\n",
    "int f(int a, int b);"
   ]
  },
  {
   "cell_type": "code",
   "execution_count": 6,
   "metadata": {
    "scrolled": false
   },
   "outputs": [
    {
     "data": {
      "text/markdown": [
       "Run: `gcc -E preprocessing_max.c -o preprocessing_max_E.c`"
      ],
      "text/plain": [
       "<IPython.core.display.Markdown object>"
      ]
     },
     "metadata": {},
     "output_type": "display_data"
    },
    {
     "data": {
      "text/markdown": [
       "Run: `cat preprocessing_max_E.c`"
      ],
      "text/plain": [
       "<IPython.core.display.Markdown object>"
      ]
     },
     "metadata": {},
     "output_type": "display_data"
    },
    {
     "name": "stdout",
     "output_type": "stream",
     "text": [
      "# 1 \"preprocessing_max.c\"\r\n",
      "# 1 \"<built-in>\"\r\n",
      "# 1 \"<command-line>\"\r\n",
      "# 31 \"<command-line>\"\r\n",
      "# 1 \"/usr/include/stdc-predef.h\" 1 3 4\r\n",
      "# 32 \"<command-line>\" 2\r\n",
      "# 1 \"preprocessing_max.c\"\r\n",
      "\r\n",
      "\r\n",
      "\r\n",
      "\r\n",
      "# 1 \"preprocessing_max.h\" 1\r\n",
      "\r\n",
      "\r\n",
      "int f(int a, int b);\r\n",
      "# 6 \"preprocessing_max.c\" 2\r\n",
      "\r\n",
      "\r\n",
      "\r\n",
      "\r\n",
      "int f(int a, int b) {\r\n",
      "    return ((a) > (b) ? (a) : (b));\r\n",
      "}\r\n"
     ]
    }
   ],
   "source": [
    "%%cpp preprocessing_max.c\n",
    "%run gcc -E preprocessing_max.c -o preprocessing_max_E.c\n",
    "%run cat preprocessing_max_E.c\n",
    "\n",
    "#include \"preprocessing_max.h\"\n",
    "\n",
    "// it's comment\n",
    "#define max(a, b) ((a) > (b) ? (a) : (b))\n",
    "\n",
    "int f(int a, int b) {\n",
    "    return max(a, b);\n",
    "}"
   ]
  },
  {
   "cell_type": "markdown",
   "metadata": {},
   "source": [
    "Результат препроцессинга является корректным кодом, его можно использовать так же, как и обычный код. Просто теперь в нем раскрыты все инструкции препроцессора"
   ]
  },
  {
   "cell_type": "code",
   "execution_count": 10,
   "metadata": {
    "scrolled": true
   },
   "outputs": [
    {
     "data": {
      "text/markdown": [
       "Run: `gcc preprocessing_max_main.c preprocessing_max_E.c -o preprocessing_max.exe`"
      ],
      "text/plain": [
       "<IPython.core.display.Markdown object>"
      ]
     },
     "metadata": {},
     "output_type": "display_data"
    },
    {
     "data": {
      "text/markdown": [
       "Run: `./preprocessing_max.exe`"
      ],
      "text/plain": [
       "<IPython.core.display.Markdown object>"
      ]
     },
     "metadata": {},
     "output_type": "display_data"
    },
    {
     "name": "stdout",
     "output_type": "stream",
     "text": [
      "max(5, 7) = 7\r\n"
     ]
    }
   ],
   "source": [
    "%%cpp preprocessing_max_main.c\n",
    "%run gcc preprocessing_max_main.c preprocessing_max_E.c -o preprocessing_max.exe\n",
    "%run ./preprocessing_max.exe\n",
    "\n",
    "#include \"preprocessing_max.h\"\n",
    "\n",
    "#include <stdio.h>\n",
    "\n",
    "int main() {\n",
    "    printf(\"max(5, 7) = %d\\n\", f(5, 7));\n",
    "    return 0;\n",
    "}"
   ]
  },
  {
   "cell_type": "code",
   "execution_count": null,
   "metadata": {},
   "outputs": [],
   "source": [
    "!gcc -h\n"
   ]
  },
  {
   "cell_type": "markdown",
   "metadata": {},
   "source": [
    "### <a name=\"compilation\"></a> Компиляция\n",
    "\n",
    "Превратим исходный код в ассемблерный."
   ]
  },
  {
   "cell_type": "code",
   "execution_count": 248,
   "metadata": {},
   "outputs": [
    {
     "name": "stdout",
     "output_type": "stream",
     "text": [
      "\t.file\t\"preprocessing_max_E.c\"\r\n",
      "\t.text\r\n",
      "\t.globl\tf\r\n",
      "\t.type\tf, @function\r\n",
      "f:\r\n",
      "\tendbr64\r\n",
      "\tcmpl\t%edi, %esi\r\n",
      "\tmovl\t%edi, %eax\r\n",
      "\tcmovge\t%esi, %eax\r\n",
      "\tret\r\n",
      "\t.size\tf, .-f\r\n",
      "\t.ident\t\"GCC: (Ubuntu 9.3.0-10ubuntu2) 9.3.0\"\r\n",
      "\t.section\t.note.GNU-stack,\"\",@progbits\r\n",
      "\t.section\t.note.gnu.property,\"a\"\r\n",
      "\t.align 8\r\n",
      "\t.long\t 1f - 0f\r\n",
      "\t.long\t 4f - 1f\r\n",
      "\t.long\t 5\r\n",
      "0:\r\n",
      "\t.string\t \"GNU\"\r\n",
      "1:\r\n",
      "\t.align 8\r\n",
      "\t.long\t 0xc0000002\r\n",
      "\t.long\t 3f - 2f\r\n",
      "2:\r\n",
      "\t.long\t 0x3\r\n",
      "3:\r\n",
      "\t.align 8\r\n",
      "4:\r\n"
     ]
    }
   ],
   "source": [
    "# здесь необязательно брать результат работы препроцессора\n",
    "# -Os -fno-asynchronous-unwind-tables помогает получить более короткий выхлоп\n",
    "# -fverbose-asm позволит получить более длинный, но более удобный для чтения\n",
    "!gcc -S preprocessing_max_E.c -Os -fno-asynchronous-unwind-tables -o preprocessing_max_E.S  \n",
    "!cat preprocessing_max_E.S "
   ]
  },
  {
   "cell_type": "markdown",
   "metadata": {},
   "source": [
    "Способ получить ассемблерный код функции. Правда тут не просто проводится компиляция, здесь создается машинный код, а потом gdb его обратно дизассемблирует."
   ]
  },
  {
   "cell_type": "code",
   "execution_count": 149,
   "metadata": {},
   "outputs": [
    {
     "name": "stdout",
     "output_type": "stream",
     "text": [
      "Dump of assembler code for function f:\r\n",
      "   0x0000000000000000 <+0>:\tendbr64 \r\n",
      "   0x0000000000000004 <+4>:\tcmp    %edi,%esi\r\n",
      "   0x0000000000000006 <+6>:\tmov    %edi,%eax\r\n",
      "   0x0000000000000008 <+8>:\tcmovge %esi,%eax\r\n",
      "   0x000000000000000b <+11>:\tretq   \r\n",
      "End of assembler dump.\r\n"
     ]
    }
   ],
   "source": [
    "!gcc -c preprocessing_max_E.c -Os -o preprocessing_max.o\n",
    "!gdb preprocessing_max.o -batch -ex=\"disass f\""
   ]
  },
  {
   "cell_type": "markdown",
   "metadata": {},
   "source": [
    "### <a name=\"assembling\"></a> Ассемблирование\n",
    "\n",
    "Ничего интересного, ассемблер и так слишком приближен к машинному коду. (Возможно этой фазы вообще нет при каких-то условиях компиляции)."
   ]
  },
  {
   "cell_type": "code",
   "execution_count": 48,
   "metadata": {},
   "outputs": [],
   "source": [
    "!gcc -c preprocessing_max_E.S -o preprocessing_max.o"
   ]
  },
  {
   "cell_type": "markdown",
   "metadata": {},
   "source": [
    "### <a name=\"linking\"></a> Компоновка / Линковка\n",
    "\n",
    "Финальная сборка одного исполняемого файла\n",
    "\n",
    "Она производится утилитой `ld`, но проще ее не запоминать и пользоваться gcc, который сам ее вызовет.\n",
    "\n",
    "(А как именно вызовет можно узнать, добавив опции `-v -Wl,-v`)"
   ]
  },
  {
   "cell_type": "code",
   "execution_count": 249,
   "metadata": {},
   "outputs": [
    {
     "name": "stdout",
     "output_type": "stream",
     "text": [
      "max(5, 7) = 7\r\n"
     ]
    }
   ],
   "source": [
    "!gcc preprocessing_max.o preprocessing_max_main.c -o preprocessing_max_main.exe\n",
    "!./preprocessing_max_main.exe"
   ]
  },
  {
   "cell_type": "code",
   "execution_count": null,
   "metadata": {},
   "outputs": [],
   "source": []
  },
  {
   "cell_type": "markdown",
   "metadata": {},
   "source": [
    "ddd"
   ]
  },
  {
   "cell_type": "code",
   "execution_count": 278,
   "metadata": {},
   "outputs": [],
   "source": [
    "%%cpp a.c\n",
    "\n",
    "int g(int x) {\n",
    "    return x * x;\n",
    "}\n"
   ]
  },
  {
   "cell_type": "code",
   "execution_count": 279,
   "metadata": {},
   "outputs": [],
   "source": [
    "%%cpp b.c\n",
    "\n",
    "#include <stdio.h>\n",
    "\n",
    "int g(float);\n",
    "\n",
    "int main() {\n",
    "    printf(\"g(5) = %d\\n\", g(5.0));\n",
    "    return 0;\n",
    "}"
   ]
  },
  {
   "cell_type": "code",
   "execution_count": 280,
   "metadata": {},
   "outputs": [
    {
     "name": "stdout",
     "output_type": "stream",
     "text": [
      "\u001b[01m\u001b[Ka.c:5:5:\u001b[m\u001b[K \u001b[01;31m\u001b[Kerror: \u001b[m\u001b[Kconflicting types for ‘\u001b[01m\u001b[Kg\u001b[m\u001b[K’\r\n",
      "    5 | int \u001b[01;31m\u001b[Kg\u001b[m\u001b[K(int x) {\r\n",
      "      |     \u001b[01;31m\u001b[K^\u001b[m\u001b[K\r\n",
      "\u001b[01m\u001b[Ka.c:3:5:\u001b[m\u001b[K \u001b[01;36m\u001b[Knote: \u001b[m\u001b[Kprevious declaration of ‘\u001b[01m\u001b[Kg\u001b[m\u001b[K’ was here\r\n",
      "    3 | int \u001b[01;36m\u001b[Kg\u001b[m\u001b[K(float);\r\n",
      "      |     \u001b[01;36m\u001b[K^\u001b[m\u001b[K\r\n"
     ]
    }
   ],
   "source": [
    "!gcc a.c b.c -o a.exe && ./a.exe"
   ]
  },
  {
   "cell_type": "markdown",
   "metadata": {},
   "source": [
    "## <a name=\"elf\"></a> Динамические библиотеки, объектные и исполняемые файлы\n",
    "\n",
    "\n",
    "[ELF / Wiki](https://en.wikipedia.org/wiki/Executable_and_Linkable_Format) - Executable and Linkable Format"
   ]
  },
  {
   "cell_type": "code",
   "execution_count": 258,
   "metadata": {},
   "outputs": [
    {
     "data": {
      "text/markdown": [
       "Run: `gcc -c lib.c -o lib.o #// компилируем в объектный файл`"
      ],
      "text/plain": [
       "<IPython.core.display.Markdown object>"
      ]
     },
     "metadata": {},
     "output_type": "display_data"
    },
    {
     "data": {
      "text/markdown": [
       "Run: `ar rcs lib.a lib.o #// делаем из объектного файла статическую библиотеку (что по сути архив объектных файлов)`"
      ],
      "text/plain": [
       "<IPython.core.display.Markdown object>"
      ]
     },
     "metadata": {},
     "output_type": "display_data"
    },
    {
     "data": {
      "text/markdown": [
       "Run: `gcc -shared -fPIC lib.o -o lib.so #// делаем из объектного файла динамическую библиотеку`"
      ],
      "text/plain": [
       "<IPython.core.display.Markdown object>"
      ]
     },
     "metadata": {},
     "output_type": "display_data"
    }
   ],
   "source": [
    "%%cpp lib.c\n",
    "%run gcc -c lib.c -o lib.o #// компилируем в объектный файл\n",
    "%run ar rcs lib.a lib.o #// делаем из объектного файла статическую библиотеку (что по сути архив объектных файлов)\n",
    "%run gcc -shared -fPIC lib.o -o lib.so #// делаем из объектного файла динамическую библиотеку\n",
    "\n",
    "int sum(int a, int b) {\n",
    "    return a + b;\n",
    "}\n",
    "\n",
    "float sum_f(float a, float b) {\n",
    "    return a + b;\n",
    "}"
   ]
  },
  {
   "cell_type": "code",
   "execution_count": 259,
   "metadata": {},
   "outputs": [
    {
     "name": "stdout",
     "output_type": "stream",
     "text": [
      "00000000  7f 45 4c 46 02 01 01 00  00 00 00 00 00 00 00 00  |.ELF............|\r\n",
      "00000010  01 00 3e 00 01 00 00 00  00 00 00 00 00 00 00 00  |..>.............|\r\n"
     ]
    }
   ],
   "source": [
    "!hexdump -C lib.o | head -n 2  # обратите внимание на 0x7f E L F - магическое начало файла"
   ]
  },
  {
   "cell_type": "code",
   "execution_count": 260,
   "metadata": {},
   "outputs": [
    {
     "name": "stdout",
     "output_type": "stream",
     "text": [
      "00000000  21 3c 61 72 63 68 3e 0a  2f 20 20 20 20 20 20 20  |!<arch>./       |\n",
      "00000010  20 20 20 20 20 20 20 20  30 20 20 20 20 20 20 20  |        0       |\n",
      "00000000  7f 45 4c 46 02 01 01 00  00 00 00 00 00 00 00 00  |.ELF............|\n",
      "00000010  03 00 3e 00 01 00 00 00  40 10 00 00 00 00 00 00  |..>.....@.......|\n"
     ]
    }
   ],
   "source": [
    "!hexdump -C lib.a | head -n 2 # заметим, что это не ELF но тоже имеет магическое начало\n",
    "!hexdump -C lib.so | head -n 2 # а это тоже ELF"
   ]
  },
  {
   "cell_type": "code",
   "execution_count": 261,
   "metadata": {},
   "outputs": [
    {
     "name": "stdout",
     "output_type": "stream",
     "text": [
      "00000000  7f 45 4c 46 02 01 01 00  00 00 00 00 00 00 00 00  |.ELF............|\r\n",
      "00000010  03 00 3e 00 01 00 00 00  60 10 00 00 00 00 00 00  |..>.....`.......|\r\n"
     ]
    }
   ],
   "source": [
    "!hexdump -C preprocessing_max.exe | head -n 2 # а это тоже ELF"
   ]
  },
  {
   "cell_type": "code",
   "execution_count": 262,
   "metadata": {},
   "outputs": [
    {
     "name": "stdout",
     "output_type": "stream",
     "text": [
      "0000000000000000 g     F .text\t0000000000000018 sum\r\n",
      "0000000000000018 g     F .text\t000000000000001e sum_f\r\n"
     ]
    }
   ],
   "source": [
    "!objdump -t lib.o | grep sum  # symbols in shared library"
   ]
  },
  {
   "cell_type": "code",
   "execution_count": 263,
   "metadata": {},
   "outputs": [
    {
     "name": "stdout",
     "output_type": "stream",
     "text": [
      "0000000000001111 g     F .text\t000000000000001e sum_f\r\n",
      "00000000000010f9 g     F .text\t0000000000000018 sum\r\n"
     ]
    }
   ],
   "source": [
    "!objdump -t lib.so | grep sum  # symbols in shared library"
   ]
  },
  {
   "cell_type": "code",
   "execution_count": 272,
   "metadata": {},
   "outputs": [
    {
     "data": {
      "text/markdown": [
       "Run: `gcc main.c lib.a -o main.exe`"
      ],
      "text/plain": [
       "<IPython.core.display.Markdown object>"
      ]
     },
     "metadata": {},
     "output_type": "display_data"
    },
    {
     "data": {
      "text/markdown": [
       "Run: `./main.exe`"
      ],
      "text/plain": [
       "<IPython.core.display.Markdown object>"
      ]
     },
     "metadata": {},
     "output_type": "display_data"
    },
    {
     "name": "stdout",
     "output_type": "stream",
     "text": [
      "3"
     ]
    }
   ],
   "source": [
    "%%cpp main.c\n",
    "%run gcc main.c lib.a -o main.exe\n",
    "%run ./main.exe\n",
    "\n",
    "#include <stdio.h>\n",
    "\n",
    "int sum(int a, int b);\n",
    "\n",
    "int main() {\n",
    "    printf(\"%d\", sum(1, 2));\n",
    "    return 0;\n",
    "}"
   ]
  },
  {
   "cell_type": "code",
   "execution_count": null,
   "metadata": {},
   "outputs": [],
   "source": []
  },
  {
   "cell_type": "markdown",
   "metadata": {},
   "source": [
    "Подгрузим динамическую библиотеку из Python"
   ]
  },
  {
   "cell_type": "code",
   "execution_count": 275,
   "metadata": {},
   "outputs": [
    {
     "data": {
      "text/markdown": [
       "lib.sum(3, 4) = 7"
      ],
      "text/plain": [
       "<IPython.core.display.Markdown object>"
      ]
     },
     "metadata": {},
     "output_type": "display_data"
    },
    {
     "data": {
      "text/markdown": [
       "lib.sum_f(3, 4) = 0"
      ],
      "text/plain": [
       "<IPython.core.display.Markdown object>"
      ]
     },
     "metadata": {},
     "output_type": "display_data"
    },
    {
     "data": {
      "text/markdown": [
       "`lib.sum_f(3, 4) = 1.3243189739662118e-38`  # with set return type"
      ],
      "text/plain": [
       "<IPython.core.display.Markdown object>"
      ]
     },
     "metadata": {},
     "output_type": "display_data"
    },
    {
     "data": {
      "text/markdown": [
       "`lib.sum_f(3, 4) = 7.0`  # with set return and arguments types"
      ],
      "text/plain": [
       "<IPython.core.display.Markdown object>"
      ]
     },
     "metadata": {},
     "output_type": "display_data"
    }
   ],
   "source": [
    "import ctypes\n",
    "\n",
    "lib = ctypes.CDLL(\"./lib.so\")\n",
    "%p lib.sum(3, 4)\n",
    "%p lib.sum_f(3, 4)\n",
    "\n",
    "lib.sum_f.restype = ctypes.c_float\n",
    "%p lib.sum_f(3, 4) # with set return type\n",
    "\n",
    "lib.sum_f.argtypes = [ctypes.c_float, ctypes.c_float]\n",
    "%p lib.sum_f(3, 4) # with set return and arguments types"
   ]
  },
  {
   "cell_type": "code",
   "execution_count": null,
   "metadata": {},
   "outputs": [],
   "source": []
  },
  {
   "cell_type": "markdown",
   "metadata": {},
   "source": [
    "## <a name=\"run\"></a> Запуск и завершение программы\n",
    "\n",
    "[Интересная статья про запуск и завершение программы](http://dbp-consulting.com/tutorials/debugging/linuxProgramStartup.html)\n",
    "\n",
    "![](http://dbp-consulting.com/tutorials/debugging/images/callgraph.png)\n",
    "    \n",
    "    \n",
    "Пример из статьи."
   ]
  },
  {
   "cell_type": "code",
   "execution_count": 281,
   "metadata": {},
   "outputs": [
    {
     "data": {
      "text/markdown": [
       "Run: `gcc article_example.c -o article_example.exe`"
      ],
      "text/plain": [
       "<IPython.core.display.Markdown object>"
      ]
     },
     "metadata": {},
     "output_type": "display_data"
    },
    {
     "data": {
      "text/markdown": [
       "Run: `./article_example.exe`"
      ],
      "text/plain": [
       "<IPython.core.display.Markdown object>"
      ]
     },
     "metadata": {},
     "output_type": "display_data"
    },
    {
     "name": "stdout",
     "output_type": "stream",
     "text": [
      "preinit\r\n",
      "init\r\n",
      "constructor\r\n",
      "main 1\r\n",
      "main 2\r\n",
      "my_atexit2\r\n",
      "my_atexit\r\n",
      "destructor\r\n",
      "fini\r\n"
     ]
    }
   ],
   "source": [
    "%%cpp article_example.c\n",
    "%run gcc article_example.c -o article_example.exe\n",
    "%run ./article_example.exe\n",
    "\n",
    "#include <stdio.h>\n",
    "#include <stdlib.h>\n",
    "\n",
    "void preinit(int argc, char **argv, char **envp) {\n",
    "    printf(\"%s\\n\", __FUNCTION__);\n",
    "}\n",
    "\n",
    "void init(int argc, char **argv, char **envp) {\n",
    "    printf(\"%s\\n\", __FUNCTION__);\n",
    "}\n",
    "\n",
    "void fini() {\n",
    "    printf(\"%s\\n\", __FUNCTION__);\n",
    "}\n",
    "\n",
    "__attribute__((section(\".init_array\"))) typeof(init) *__init = init;\n",
    "__attribute__((section(\".preinit_array\"))) typeof(preinit) *__preinit = preinit;\n",
    "__attribute__((section(\".fini_array\"))) typeof(fini) *__fini = fini;\n",
    "\n",
    "void  __attribute__ ((constructor)) constructor() {\n",
    "    printf(\"%s\\n\", __FUNCTION__);\n",
    "}\n",
    "\n",
    "void __attribute__ ((destructor)) destructor() {\n",
    "    printf(\"%s\\n\", __FUNCTION__);\n",
    "}\n",
    "\n",
    "void my_atexit() {\n",
    "    printf(\"%s\\n\", __FUNCTION__);\n",
    "}\n",
    "\n",
    "void my_atexit2() {\n",
    "    printf(\"%s\\n\", __FUNCTION__);\n",
    "}\n",
    "\n",
    "int main() {\n",
    "    printf(\"%s 1\\n\", __FUNCTION__);\n",
    "    atexit(my_atexit);\n",
    "    atexit(my_atexit2);\n",
    "    printf(\"%s 2\\n\", __FUNCTION__);\n",
    "}"
   ]
  },
  {
   "cell_type": "markdown",
   "metadata": {},
   "source": [
    "А вы думали программы без `main` не бывает?\n",
    "\n",
    "`sudo apt-get install libc6-dev-amd64` - надо установить, чтобы `sys/syscall.h` нашелся. "
   ]
  },
  {
   "cell_type": "code",
   "execution_count": 16,
   "metadata": {},
   "outputs": [
    {
     "data": {
      "text/markdown": [
       "Run: `g++ -v -Wl,-v -std=gnu++11 -m32 -masm=intel -nostdlib -O3 no_main_func.cpp -o no_main_func.exe`"
      ],
      "text/plain": [
       "<IPython.core.display.Markdown object>"
      ]
     },
     "metadata": {},
     "output_type": "display_data"
    },
    {
     "name": "stdout",
     "output_type": "stream",
     "text": [
      "Using built-in specs.\r\n",
      "COLLECT_GCC=g++\r\n",
      "COLLECT_LTO_WRAPPER=/usr/lib/gcc/x86_64-linux-gnu/9/lto-wrapper\r\n",
      "OFFLOAD_TARGET_NAMES=nvptx-none:hsa\r\n",
      "OFFLOAD_TARGET_DEFAULT=1\r\n",
      "Target: x86_64-linux-gnu\r\n",
      "Configured with: ../src/configure -v --with-pkgversion='Ubuntu 9.3.0-10ubuntu2' --with-bugurl=file:///usr/share/doc/gcc-9/README.Bugs --enable-languages=c,ada,c++,go,brig,d,fortran,objc,obj-c++,gm2 --prefix=/usr --with-gcc-major-version-only --program-suffix=-9 --program-prefix=x86_64-linux-gnu- --enable-shared --enable-linker-build-id --libexecdir=/usr/lib --without-included-gettext --enable-threads=posix --libdir=/usr/lib --enable-nls --enable-clocale=gnu --enable-libstdcxx-debug --enable-libstdcxx-time=yes --with-default-libstdcxx-abi=new --enable-gnu-unique-object --disable-vtable-verify --enable-plugin --enable-default-pie --with-system-zlib --with-target-system-zlib=auto --enable-objc-gc=auto --enable-multiarch --disable-werror --with-arch-32=i686 --with-abi=m64 --with-multilib-list=m32,m64,mx32 --enable-multilib --with-tune=generic --enable-offload-targets=nvptx-none,hsa --without-cuda-driver --enable-checking=release --build=x86_64-linux-gnu --host=x86_64-linux-gnu --target=x86_64-linux-gnu\r\n",
      "Thread model: posix\r\n",
      "gcc version 9.3.0 (Ubuntu 9.3.0-10ubuntu2) \r\n",
      "COLLECT_GCC_OPTIONS='-v' '-std=gnu++11' '-m32' '-masm=intel' '-nostdlib' '-O3' '-o' 'no_main_func.exe' '-shared-libgcc' '-mtune=generic' '-march=i686'\r\n",
      " /usr/lib/gcc/x86_64-linux-gnu/9/cc1plus -quiet -v -imultilib 32 -imultiarch i386-linux-gnu -D_GNU_SOURCE no_main_func.cpp -quiet -dumpbase no_main_func.cpp -m32 -masm=intel -mtune=generic -march=i686 -auxbase no_main_func -O3 -std=gnu++11 -version -fasynchronous-unwind-tables -Wformat -Wformat-security -fstack-clash-protection -fcf-protection -o /tmp/ccS6NnPH.s\r\n",
      "GNU C++11 (Ubuntu 9.3.0-10ubuntu2) version 9.3.0 (x86_64-linux-gnu)\r\n",
      "\tcompiled by GNU C version 9.3.0, GMP version 6.2.0, MPFR version 4.0.2, MPC version 1.1.0, isl version isl-0.22.1-GMP\r\n",
      "\r\n",
      "GGC heuristics: --param ggc-min-expand=100 --param ggc-min-heapsize=131072\r\n",
      "ignoring nonexistent directory \"/usr/lib/gcc/x86_64-linux-gnu/9/../../../../include/x86_64-linux-gnu/c++/9/32\"\r\n",
      "ignoring nonexistent directory \"/usr/lib/gcc/x86_64-linux-gnu/9/../../../../include/i386-linux-gnu/c++/9\"\r\n",
      "ignoring nonexistent directory \"/usr/local/include/i386-linux-gnu\"\r\n",
      "ignoring nonexistent directory \"/usr/lib/gcc/x86_64-linux-gnu/9/include-fixed\"\r\n",
      "ignoring nonexistent directory \"/usr/lib/gcc/x86_64-linux-gnu/9/../../../../x86_64-linux-gnu/include\"\r\n",
      "#include \"...\" search starts here:\r\n",
      "#include <...> search starts here:\r\n",
      " /usr/include/c++/9\r\n",
      " /usr/include/c++/9/backward\r\n",
      " /usr/lib/gcc/x86_64-linux-gnu/9/include\r\n",
      " /usr/local/include\r\n",
      " /usr/include/i386-linux-gnu\r\n",
      " /usr/include\r\n",
      "End of search list.\r\n",
      "GNU C++11 (Ubuntu 9.3.0-10ubuntu2) version 9.3.0 (x86_64-linux-gnu)\r\n",
      "\tcompiled by GNU C version 9.3.0, GMP version 6.2.0, MPFR version 4.0.2, MPC version 1.1.0, isl version isl-0.22.1-GMP\r\n",
      "\r\n",
      "GGC heuristics: --param ggc-min-expand=100 --param ggc-min-heapsize=131072\r\n",
      "Compiler executable checksum: a3d04a02fbd98a786d710618ca593f02\r\n",
      "COLLECT_GCC_OPTIONS='-v' '-std=gnu++11' '-m32' '-masm=intel' '-nostdlib' '-O3' '-o' 'no_main_func.exe' '-shared-libgcc' '-mtune=generic' '-march=i686'\r\n",
      " as -v --32 -o /tmp/cchfXM0G.o /tmp/ccS6NnPH.s\r\n",
      "GNU assembler version 2.34 (x86_64-linux-gnu) using BFD version (GNU Binutils for Ubuntu) 2.34\r\n",
      "COMPILER_PATH=/usr/lib/gcc/x86_64-linux-gnu/9/:/usr/lib/gcc/x86_64-linux-gnu/9/:/usr/lib/gcc/x86_64-linux-gnu/:/usr/lib/gcc/x86_64-linux-gnu/9/:/usr/lib/gcc/x86_64-linux-gnu/\r\n",
      "LIBRARY_PATH=/usr/lib/gcc/x86_64-linux-gnu/9/../../../i386-linux-gnu/:/usr/lib/gcc/x86_64-linux-gnu/9/../../../../lib32/:/lib/i386-linux-gnu/:/lib/../lib32/:/usr/lib/i386-linux-gnu/:/usr/lib/../lib32/:/usr/lib/gcc/x86_64-linux-gnu/9/:/usr/lib/gcc/x86_64-linux-gnu/9/../../../i386-linux-gnu/:/usr/lib/gcc/x86_64-linux-gnu/9/../../../:/lib/i386-linux-gnu/:/lib/:/usr/lib/i386-linux-gnu/:/usr/lib/\r\n",
      "COLLECT_GCC_OPTIONS='-v' '-std=gnu++11' '-m32' '-masm=intel' '-nostdlib' '-O3' '-o' 'no_main_func.exe' '-shared-libgcc' '-mtune=generic' '-march=i686'\r\n",
      " /usr/lib/gcc/x86_64-linux-gnu/9/collect2 -plugin /usr/lib/gcc/x86_64-linux-gnu/9/liblto_plugin.so -plugin-opt=/usr/lib/gcc/x86_64-linux-gnu/9/lto-wrapper -plugin-opt=-fresolution=/tmp/ccwtxMYI.res --build-id --eh-frame-hdr -m elf_i386 --hash-style=gnu --as-needed -dynamic-linker /lib/ld-linux.so.2 -pie -z now -z relro -o no_main_func.exe -L/usr/lib/gcc/x86_64-linux-gnu/9/../../../i386-linux-gnu -L/usr/lib/gcc/x86_64-linux-gnu/9/../../../../lib32 -L/lib/i386-linux-gnu -L/lib/../lib32 -L/usr/lib/i386-linux-gnu -L/usr/lib/../lib32 -L/usr/lib/gcc/x86_64-linux-gnu/9 -L/usr/lib/gcc/x86_64-linux-gnu/9/../../../i386-linux-gnu -L/usr/lib/gcc/x86_64-linux-gnu/9/../../.. -L/lib/i386-linux-gnu -L/usr/lib/i386-linux-gnu -v /tmp/cchfXM0G.o\r\n",
      "collect2 version 9.3.0\r\n",
      "/usr/bin/ld -plugin /usr/lib/gcc/x86_64-linux-gnu/9/liblto_plugin.so -plugin-opt=/usr/lib/gcc/x86_64-linux-gnu/9/lto-wrapper -plugin-opt=-fresolution=/tmp/ccwtxMYI.res --build-id --eh-frame-hdr -m elf_i386 --hash-style=gnu --as-needed -dynamic-linker /lib/ld-linux.so.2 -pie -z now -z relro -o no_main_func.exe -L/usr/lib/gcc/x86_64-linux-gnu/9/../../../i386-linux-gnu -L/usr/lib/gcc/x86_64-linux-gnu/9/../../../../lib32 -L/lib/i386-linux-gnu -L/lib/../lib32 -L/usr/lib/i386-linux-gnu -L/usr/lib/../lib32 -L/usr/lib/gcc/x86_64-linux-gnu/9 -L/usr/lib/gcc/x86_64-linux-gnu/9/../../../i386-linux-gnu -L/usr/lib/gcc/x86_64-linux-gnu/9/../../.. -L/lib/i386-linux-gnu -L/usr/lib/i386-linux-gnu -v /tmp/cchfXM0G.o\r\n",
      "GNU ld (GNU Binutils for Ubuntu) 2.34\r\n",
      "COLLECT_GCC_OPTIONS='-v' '-std=gnu++11' '-m32' '-masm=intel' '-nostdlib' '-O3' '-o' 'no_main_func.exe' '-shared-libgcc' '-mtune=generic' '-march=i686'\r\n"
     ]
    },
    {
     "data": {
      "text/markdown": [
       "Run: `./no_main_func.exe`"
      ],
      "text/plain": [
       "<IPython.core.display.Markdown object>"
      ]
     },
     "metadata": {},
     "output_type": "display_data"
    },
    {
     "name": "stdout",
     "output_type": "stream",
     "text": [
      "Hello world from 'syscall'!\r\n"
     ]
    }
   ],
   "source": [
    "%%cpp no_main_func.c\n",
    "%run gcc -std=gnu11 -m32 -masm=intel -nostdlib -O3 no_main_func.c -o no_main_func.exe\n",
    "%run ./no_main_func.exe\n",
    "\n",
    "#include <sys/syscall.h>\n",
    "\n",
    "    \n",
    "// Универсальная функция для совершения системных вызовов\n",
    "int syscall(int code, ...);\n",
    "__asm__(R\"(\n",
    "syscall:\n",
    "    push ebx\n",
    "    push ebp\n",
    "    push esi\n",
    "    push edi\n",
    "    mov eax, DWORD PTR [esp + 20] \n",
    "    mov ebx, DWORD PTR [esp + 24] \n",
    "    mov ecx, DWORD PTR [esp + 28] \n",
    "    mov edx, DWORD PTR [esp + 32]\n",
    "    mov esi, DWORD PTR [esp + 36]\n",
    "    mov edi, DWORD PTR [esp + 40]\n",
    "    int 0x80\n",
    "    pop edi\n",
    "    pop esi\n",
    "    pop ebp\n",
    "    pop ebx\n",
    "    ret\n",
    ")\");\n",
    "\n",
    "// запись строки в файловый дескриптор\n",
    "int print_s(int fd, const char* s) {\n",
    "    int len = 0;\n",
    "    while (s[len]) ++len;\n",
    "    return syscall(SYS_write, fd, s, len);\n",
    "}\n",
    "\n",
    "void _start() {\n",
    "    print_s(1, \"Hello world from 'syscall'!\\n\");\n",
    "    syscall(SYS_exit, 0);\n",
    "}"
   ]
  },
  {
   "cell_type": "code",
   "execution_count": 292,
   "metadata": {},
   "outputs": [
    {
     "data": {
      "text/markdown": [
       "Run: `gcc -std=gnu11 -O3 main_func.c -o main_func.exe`"
      ],
      "text/plain": [
       "<IPython.core.display.Markdown object>"
      ]
     },
     "metadata": {},
     "output_type": "display_data"
    },
    {
     "data": {
      "text/markdown": [
       "Run: `./main_func.exe`"
      ],
      "text/plain": [
       "<IPython.core.display.Markdown object>"
      ]
     },
     "metadata": {},
     "output_type": "display_data"
    },
    {
     "name": "stdout",
     "output_type": "stream",
     "text": [
      "Hello world from 'syscall'!\r\n"
     ]
    }
   ],
   "source": [
    "%%cpp main_func.c\n",
    "%run gcc -std=gnu11 -O3 main_func.c -o main_func.exe\n",
    "%run ./main_func.exe\n",
    "\n",
    "#include <stdio.h>\n",
    "\n",
    "int main() {\n",
    "    printf(\"Hello world from 'syscall'!\\n\");\n",
    "    return 0;\n",
    "}"
   ]
  },
  {
   "cell_type": "code",
   "execution_count": 289,
   "metadata": {},
   "outputs": [
    {
     "name": "stdout",
     "output_type": "stream",
     "text": [
      "  File: ./no_main_func.exe\n",
      "  Size: 13708     \tBlocks: 32         IO Block: 4096   regular file\n",
      "Device: 805h/2053d\tInode: 4724956     Links: 1\n",
      "Access: (0775/-rwxrwxr-x)  Uid: ( 1000/pechatnov)   Gid: ( 1000/pechatnov)\n",
      "Access: 2020-09-10 17:58:16.610268179 +0300\n",
      "Modify: 2020-09-10 17:58:16.450266380 +0300\n",
      "Change: 2020-09-10 17:58:16.450266380 +0300\n",
      " Birth: -\n",
      "  File: ./main_func.exe\n",
      "  Size: 16696     \tBlocks: 40         IO Block: 4096   regular file\n",
      "Device: 805h/2053d\tInode: 4724991     Links: 1\n",
      "Access: (0775/-rwxrwxr-x)  Uid: ( 1000/pechatnov)   Gid: ( 1000/pechatnov)\n",
      "Access: 2020-09-10 17:59:12.250893117 +0300\n",
      "Modify: 2020-09-10 17:59:12.062891002 +0300\n",
      "Change: 2020-09-10 17:59:12.062891002 +0300\n",
      " Birth: -\n"
     ]
    }
   ],
   "source": [
    "!stat ./no_main_func.exe\n",
    "!stat ./main_func.exe"
   ]
  },
  {
   "cell_type": "markdown",
   "metadata": {},
   "source": [
    "## <a name=\"macro\"></a> Дополнение: макросы в C/C++ </a>\n",
    "\n",
    "[Статья про макросы / opennet](https://www.opennet.ru/docs/RUS/cpp/cpp-5.html)\n",
    "\n",
    "* \n",
    "\n",
    "<details> <summary> Почему использование макросов стоит минимизировать </summary>\n",
    "  <pre> <code> \n",
    "Тимур Демченко\n",
    "расскажите, пожалуйста, почему объявление констант в c++ через define считается плохим кодстайлом\n",
    "Yuri Pechatnov\n",
    "Макросы в принципе считаются плохим кодстайлом, но они очень полезны бывают\n",
    "Но не в случае #define CONST 5, так как это хорошо заменяется на constexpr int CONST = 5;\n",
    "Mikhail Tsion\n",
    "Because all macros (which are what #defines define) are in a single namespace and they take effect everywhere. Variables, including const-qualified variables, can be encapsulated in classes and namespaces.\n",
    "Macros are used in C because in C, a const-qualified variable is not actually a constant, it is just a variable that cannot be modified. A const-qualified variable cannot appear in a constant expression, so it can't be used as an array size, for example.\n",
    "In C++, a const-qualified object that is initialized with a constant expression (like const int x = 5 * 2;) is a constant and can be used in a constant expression, so you can and should use them.\n",
    "Yuri Pechatnov\n",
    "Ну и они вне неймспейсов, да\n",
    "Если использовать много библиотек, то можно наткнуться на клеш дефайнов, или получить еще что-то удивительное в плохом смысле\n",
    "  </code> </pre>\n",
    "</details>\n",
    "\n",
    "\n",
    "* Макросы это именно макросы, они ничего не знают про синтаксис С/С++"
   ]
  },
  {
   "cell_type": "code",
   "execution_count": 3,
   "metadata": {},
   "outputs": [
    {
     "data": {
      "text/markdown": [
       "Run: `gcc -E macro_example_0.c -o macro_example_0_E.c`"
      ],
      "text/plain": [
       "<IPython.core.display.Markdown object>"
      ]
     },
     "metadata": {},
     "output_type": "display_data"
    },
    {
     "data": {
      "text/markdown": [
       "Run: `cat macro_example_0_E.c`"
      ],
      "text/plain": [
       "<IPython.core.display.Markdown object>"
      ]
     },
     "metadata": {},
     "output_type": "display_data"
    },
    {
     "name": "stdout",
     "output_type": "stream",
     "text": [
      "# 1 \"macro_example_0.c\"\r\n",
      "# 1 \"<built-in>\"\r\n",
      "# 1 \"<command-line>\"\r\n",
      "# 31 \"<command-line>\"\r\n",
      "# 1 \"/usr/include/stdc-predef.h\" 1 3 4\r\n",
      "# 32 \"<command-line>\" 2\r\n",
      "# 1 \"macro_example_0.c\"\r\n",
      "\r\n",
      "\r\n",
      "\r\n",
      "\r\n",
      "\r\n",
      "\r\n",
      "\r\n",
      "Hello students and students!\r\n",
      "\r\n",
      "Hello people!\r\n",
      "Good bye bad grades!\r\n"
     ]
    }
   ],
   "source": [
    "%%cpp macro_example_0.c\n",
    "%run gcc -E macro_example_0.c -o macro_example_0_E.c\n",
    "%run cat macro_example_0_E.c\n",
    "\n",
    "#define people students and students\n",
    "#define goodbye(var) Good bye var! \n",
    "\n",
    "Hello people!\n",
    "#undef people\n",
    "Hello people!\n",
    "goodbye(bad grades)"
   ]
  },
  {
   "cell_type": "markdown",
   "metadata": {},
   "source": [
    "* Переменные в макросах это просто куски исходного текста\n",
    "* При передаче аргументов в макрос стоит помнить, что значение имеют только запятые `,` и скобки `()`"
   ]
  },
  {
   "cell_type": "code",
   "execution_count": 296,
   "metadata": {},
   "outputs": [
    {
     "data": {
      "text/markdown": [
       "Run: `gcc -E macro_example_0_2.c -o macro_example_0_2_E.c`"
      ],
      "text/plain": [
       "<IPython.core.display.Markdown object>"
      ]
     },
     "metadata": {},
     "output_type": "display_data"
    },
    {
     "data": {
      "text/markdown": [
       "Run: `cat macro_example_0_2_E.c`"
      ],
      "text/plain": [
       "<IPython.core.display.Markdown object>"
      ]
     },
     "metadata": {},
     "output_type": "display_data"
    },
    {
     "name": "stdout",
     "output_type": "stream",
     "text": [
      "# 1 \"macro_example_0_2.c\"\r\n",
      "# 1 \"<built-in>\"\r\n",
      "# 1 \"<command-line>\"\r\n",
      "# 31 \"<command-line>\"\r\n",
      "# 1 \"/usr/include/stdc-predef.h\" 1 3 4\r\n",
      "# 32 \"<command-line>\" 2\r\n",
      "# 1 \"macro_example_0_2.c\"\r\n",
      "# 9 \"macro_example_0_2.c\"\r\n",
      "protect(std::pair<int, int>) a = protect({1, 2, 3});\r\n"
     ]
    }
   ],
   "source": [
    "%%cpp macro_example_0_2.c\n",
    "%run gcc -E macro_example_0_2.c -o macro_example_0_2_E.c\n",
    "%run cat macro_example_0_2_E.c\n",
    "\n",
    "#define macro(type, var, value) type var = value;\n",
    "\n",
    "// #define protect(...) __VA_ARGS__\n",
    "\n",
    "macro(protect(std::pair<int, int>), a, protect({1, 2, 3}))"
   ]
  },
  {
   "cell_type": "markdown",
   "metadata": {},
   "source": [
    "Больше примеров"
   ]
  },
  {
   "cell_type": "code",
   "execution_count": 10,
   "metadata": {},
   "outputs": [
    {
     "data": {
      "text/markdown": [
       "Run: `gcc macro_example.c -o macro_example.exe`"
      ],
      "text/plain": [
       "<IPython.core.display.Markdown object>"
      ]
     },
     "metadata": {},
     "output_type": "display_data"
    },
    {
     "data": {
      "text/markdown": [
       "Run: `./macro_example.exe`"
      ],
      "text/plain": [
       "<IPython.core.display.Markdown object>"
      ]
     },
     "metadata": {},
     "output_type": "display_data"
    },
    {
     "name": "stdout",
     "output_type": "stream",
     "text": [
      "START\r\n",
      "CONST_A 123\r\n",
      "mult(4, 6) = 24\r\n",
      "mult_bad(4, 6) = 11\r\n",
      "aba_x ? x = 42\r\n",
      "DEBUG = 0\r\n"
     ]
    },
    {
     "data": {
      "text/markdown": [
       "Run: `gcc -DDEBUG macro_example.c -o macro_example.exe`"
      ],
      "text/plain": [
       "<IPython.core.display.Markdown object>"
      ]
     },
     "metadata": {},
     "output_type": "display_data"
    },
    {
     "data": {
      "text/markdown": [
       "Run: `./macro_example.exe`"
      ],
      "text/plain": [
       "<IPython.core.display.Markdown object>"
      ]
     },
     "metadata": {},
     "output_type": "display_data"
    },
    {
     "name": "stdout",
     "output_type": "stream",
     "text": [
      "START\r\n",
      "Read from '001.txt'. DEBUG define is enabled!\r\n",
      "CONST_A 123\r\n",
      "mult(4, 6) = 24\r\n",
      "mult_bad(4, 6) = 11\r\n",
      "aba_x ? x = 42\r\n",
      "DEBUG = 1\r\n"
     ]
    }
   ],
   "source": [
    "%%cpp macro_example.c\n",
    "%run gcc macro_example.c -o macro_example.exe\n",
    "%run ./macro_example.exe\n",
    "%run gcc -DDEBUG macro_example.c -o macro_example.exe\n",
    "%run ./macro_example.exe\n",
    "\n",
    "#include <stdio.h>\n",
    "\n",
    "#if !defined(DEBUG)\n",
    "//#ifndef DEBUG\n",
    "    #define DEBUG 0\n",
    "#endif\n",
    "\n",
    "\n",
    "#define CONST_A 123\n",
    "\n",
    "#define mult(a, b) ((a) * (b))\n",
    "\n",
    "#define mult_bad(a, b) (a * b)\n",
    "\n",
    "// Склеивание имен\n",
    "#define add_prefix_aba_(w) aba_##w\n",
    "\n",
    "int main() {\n",
    "    printf(\"START\\n\");\n",
    "    #if DEBUG\n",
    "        const char* file_name = \"001.txt\";\n",
    "        printf(\"Read from '%s'. DEBUG define is enabled!\\n\", file_name);\n",
    "        freopen(file_name, \"rt\", stdin);\n",
    "    #endif\n",
    "\n",
    "    printf(\"CONST_A %d\\n\", CONST_A);\n",
    "    printf(\"mult(4, 6) = %d\\n\", mult(2 + 2, 3 + 3));\n",
    "    printf(\"mult_bad(4, 6) = %d\\n\", mult_bad(2 + 2, 3 + 3));\n",
    "\n",
    "    int aba_x = 42;\n",
    "    int x = 420;\n",
    "    printf(\"aba_x ? x = %d\\n\", add_prefix_aba_(x)); // aba_x\n",
    "    \n",
    "    printf(\"DEBUG = %d\\n\", DEBUG);\n",
    "\n",
    "    return 0;\n",
    "}"
   ]
  },
  {
   "cell_type": "markdown",
   "metadata": {},
   "source": [
    "И полезных примеров:"
   ]
  },
  {
   "cell_type": "code",
   "execution_count": 3,
   "metadata": {
    "scrolled": false
   },
   "outputs": [
    {
     "data": {
      "text/markdown": [
       "Run: `cat macro_example_2.c | grep -v \"// %\" > macro_example_2_filtered.c`"
      ],
      "text/plain": [
       "<IPython.core.display.Markdown object>"
      ]
     },
     "metadata": {},
     "output_type": "display_data"
    },
    {
     "data": {
      "text/markdown": [
       "Run: `gcc -std=c99 -ansi macro_example_2_filtered.c -o macro_example_2.exe`"
      ],
      "text/plain": [
       "<IPython.core.display.Markdown object>"
      ]
     },
     "metadata": {},
     "output_type": "display_data"
    },
    {
     "data": {
      "text/markdown": [
       "Run: `./macro_example_2.exe`"
      ],
      "text/plain": [
       "<IPython.core.display.Markdown object>"
      ]
     },
     "metadata": {},
     "output_type": "display_data"
    },
    {
     "name": "stdout",
     "output_type": "stream",
     "text": [
      "9 * 9 + 1 = 82\r\n",
      "It is in stderr: 431\r\n",
      "(x, y) = (1, 2)\r\n",
      "(x, y) = (2, 1)\r\n",
      "(x, y) = (1, 2)\r\n",
      "sum(1, 1) = 2\r\n",
      "sum(1, 1, 1) = 3\r\n",
      "macro_example_2_filtered.c main 46\r\n",
      "macro_example_2_filtered.c:48 Before exit \r\n"
     ]
    },
    {
     "data": {
      "text/markdown": [
       "Run: `gcc -std=gnu99 macro_example_2.c -o macro_example_2.exe`"
      ],
      "text/plain": [
       "<IPython.core.display.Markdown object>"
      ]
     },
     "metadata": {},
     "output_type": "display_data"
    },
    {
     "data": {
      "text/markdown": [
       "Run: `./macro_example_2.exe`"
      ],
      "text/plain": [
       "<IPython.core.display.Markdown object>"
      ]
     },
     "metadata": {},
     "output_type": "display_data"
    },
    {
     "name": "stdout",
     "output_type": "stream",
     "text": [
      "9 * 9 + 1 = 82\r\n",
      "It is in stderr: 431\r\n",
      "(x, y) = (1, 2)\r\n",
      "(x, y) = (2, 1)\r\n",
      "(x, y) = (1, 2)\r\n",
      "sum(1, 1) = 2\r\n",
      "sum(1, 1, 1) = 3\r\n",
      "macro_example_2.c main 52\r\n",
      "macro_example_2.c:54 Before exit \r\n"
     ]
    }
   ],
   "source": [
    "%%cpp macro_example_2.c\n",
    "%run cat macro_example_2.c | grep -v \"// %\" > macro_example_2_filtered.c\n",
    "%run gcc -std=c99 -ansi macro_example_2_filtered.c -o macro_example_2.exe\n",
    "%run ./macro_example_2.exe\n",
    "%run gcc -std=gnu99 macro_example_2.c -o macro_example_2.exe\n",
    "%run ./macro_example_2.exe\n",
    "\n",
    "#include <stdio.h>\n",
    "#include <string.h>\n",
    "#include <assert.h>\n",
    "\n",
    "/* #VAR_NAME разворачивается в строковый литерал \"VAR_NAME\" */\n",
    "#define print_int(i) printf(#i \" = %d\\n\", (i));\n",
    "\n",
    "/* Полезный макрос для вывода в поток ошибок */\n",
    "#define eprintf(...) fprintf(stderr, __VA_ARGS__)\n",
    "\n",
    "#define logprintf_impl(fmt, line, ...) eprintf(__FILE__ \":\" #line \" \" fmt, __VA_ARGS__)\n",
    "#define logprintf_impl_2(line, fmt, ...) logprintf_impl(fmt \"%s\", line, __VA_ARGS__)\n",
    "#define logprintf(...) logprintf_impl_2(__LINE__, __VA_ARGS__, \"\")\n",
    "\n",
    "#define SWAP(a, b) { __typeof__(a) c = (a); (a) = (b); (b) = (c); }\n",
    "#define SWAP2(a, b) { char c[sizeof(a)]; memcpy(c, &a, sizeof(a)); \\\n",
    "                      memcpy(&a, &b, sizeof(a)); memcpy(&b, c, sizeof(a)); if (0) { a = b; b = a; } }\n",
    "\n",
    "/* Способ сделать макрос с переменным числом аргументов\n",
    " * И это единственный способ \"перегрузить функцию в С\" */\n",
    "#define sum_2(a, b, c) ((a) + (b))\n",
    "#define sum_3(a, b, c) ((a) + (b) + (c))\n",
    "\n",
    "#define sum_impl(a, b, c, sum_func, ...) sum_func(a, b, c)\n",
    "\n",
    "#define sum(...) sum_impl(__VA_ARGS__, sum_3, sum_2)\n",
    "\n",
    "\n",
    "int main() {\n",
    "    /* assert(3 > 4); */\n",
    "    print_int(9 * 9 + 1);\n",
    "\n",
    "    eprintf(\"It is in stderr: %d\\n\", 431);\n",
    "\n",
    "    int x = 1, y = 2;\n",
    "    eprintf(\"(x, y) = (%d, %d)\\n\", x, y);\n",
    "    SWAP(x, y);\n",
    "    eprintf(\"(x, y) = (%d, %d)\\n\", x, y);\n",
    "    SWAP2(x, y);\n",
    "    eprintf(\"(x, y) = (%d, %d)\\n\", x, y);\n",
    "\n",
    "    print_int(sum(1, 1));\n",
    "    print_int(sum(1, 1, 1));\n",
    "    \n",
    "    eprintf(\"%s %s %d\\n\", __FILE__, __FUNCTION__, __LINE__);\n",
    "    \n",
    "    logprintf(\"Before exit %s\\n\", \"\");\n",
    "    return 0;\n",
    "}"
   ]
  },
  {
   "cell_type": "code",
   "execution_count": 4,
   "metadata": {},
   "outputs": [
    {
     "name": "stdout",
     "output_type": "stream",
     "text": [
      "# 1 \"macro_example_2.c\"\r\n",
      "# 1 \"<built-in>\"\r\n",
      "# 1 \"<command-line>\"\r\n",
      "# 31 \"<command-line>\"\r\n",
      "# 1 \"/usr/include/stdc-predef.h\" 1 3 4\r\n",
      "# 32 \"<command-line>\" 2\r\n",
      "# 1 \"macro_example_2.c\"\r\n",
      "\r\n",
      "\r\n",
      "\r\n",
      "\r\n",
      "\r\n",
      "\r\n",
      "\r\n",
      "# 1 \"/usr/include/stdio.h\" 1 3 4\r\n",
      "# 27 \"/usr/include/stdio.h\" 3 4\r\n",
      "# 1 \"/usr/include/x86_64-linux-gnu/bits/libc-header-start.h\" 1 3 4\r\n",
      "# 33 \"/usr/include/x86_64-linux-gnu/bits/libc-header-start.h\" 3 4\r\n",
      "# 1 \"/usr/include/features.h\" 1 3 4\r\n",
      "# 461 \"/usr/include/features.h\" 3 4\r\n",
      "# 1 \"/usr/include/x86_64-linux-gnu/sys/cdefs.h\" 1 3 4\r\n",
      "# 452 \"/usr/include/x86_64-linux-gnu/sys/cdefs.h\" 3 4\r\n",
      "# 1 \"/usr/include/x86_64-linux-gnu/bits/wordsize.h\" 1 3 4\r\n",
      "# 453 \"/usr/include/x86_64-linux-gnu/sys/cdefs.h\" 2 3 4\r\n",
      "# 1 \"/usr/include/x86_64-linux-gnu/bits/long-double.h\" 1 3 4\r\n",
      "# 454 \"/usr/include/x86_64-linux-gnu/sys/cdefs.h\" 2 3 4\r\n",
      "# 462 \"/usr/include/features.h\" 2 3 4\r\n",
      "# 485 \"/usr/include/features.h\" 3 4\r\n",
      "# 1 \"/usr/include/x86_64-linux-gnu/gnu/stubs.h\" 1 3 4\r\n",
      "# 10 \"/usr/include/x86_64-linux-gnu/gnu/stubs.h\" 3 4\r\n",
      "# 1 \"/usr/include/x86_64-linux-gnu/gnu/stubs-64.h\" 1 3 4\r\n",
      "# 11 \"/usr/include/x86_64-linux-gnu/gnu/stubs.h\" 2 3 4\r\n",
      "# 486 \"/usr/include/features.h\" 2 3 4\r\n",
      "# 34 \"/usr/include/x86_64-linux-gnu/bits/libc-header-start.h\" 2 3 4\r\n",
      "# 28 \"/usr/include/stdio.h\" 2 3 4\r\n",
      "\r\n",
      "\r\n",
      "\r\n",
      "\r\n",
      "\r\n",
      "# 1 \"/usr/lib/gcc/x86_64-linux-gnu/9/include/stddef.h\" 1 3 4\r\n",
      "# 209 \"/usr/lib/gcc/x86_64-linux-gnu/9/include/stddef.h\" 3 4\r\n",
      "\r\n",
      "# 209 \"/usr/lib/gcc/x86_64-linux-gnu/9/include/stddef.h\" 3 4\r\n",
      "typedef long unsigned int size_t;\r\n",
      "# 34 \"/usr/include/stdio.h\" 2 3 4\r\n",
      "\r\n",
      "\r\n",
      "# 1 \"/usr/lib/gcc/x86_64-linux-gnu/9/include/stdarg.h\" 1 3 4\r\n",
      "# 40 \"/usr/lib/gcc/x86_64-linux-gnu/9/include/stdarg.h\" 3 4\r\n",
      "typedef __builtin_va_list __gnuc_va_list;\r\n",
      "# 37 \"/usr/include/stdio.h\" 2 3 4\r\n",
      "\r\n",
      "# 1 \"/usr/include/x86_64-linux-gnu/bits/types.h\" 1 3 4\r\n",
      "# 27 \"/usr/include/x86_64-linux-gnu/bits/types.h\" 3 4\r\n",
      "# 1 \"/usr/include/x86_64-linux-gnu/bits/wordsize.h\" 1 3 4\r\n",
      "# 28 \"/usr/include/x86_64-linux-gnu/bits/types.h\" 2 3 4\r\n",
      "# 1 \"/usr/include/x86_64-linux-gnu/bits/timesize.h\" 1 3 4\r\n",
      "# 29 \"/usr/include/x86_64-linux-gnu/bits/types.h\" 2 3 4\r\n",
      "\r\n",
      "\r\n",
      "typedef unsigned char __u_char;\r\n",
      "typedef unsigned short int __u_short;\r\n",
      "typedef unsigned int __u_int;\r\n",
      "typedef unsigned long int __u_long;\r\n",
      "\r\n",
      "\r\n",
      "typedef signed char __int8_t;\r\n",
      "typedef unsigned char __uint8_t;\r\n",
      "typedef signed short int __int16_t;\r\n",
      "typedef unsigned short int __uint16_t;\r\n",
      "typedef signed int __int32_t;\r\n",
      "typedef unsigned int __uint32_t;\r\n",
      "\r\n",
      "typedef signed long int __int64_t;\r\n",
      "typedef unsigned long int __uint64_t;\r\n",
      "\r\n",
      "\r\n",
      "\r\n",
      "\r\n",
      "\r\n",
      "\r\n",
      "typedef __int8_t __int_least8_t;\r\n",
      "typedef __uint8_t __uint_least8_t;\r\n",
      "typedef __int16_t __int_least16_t;\r\n",
      "typedef __uint16_t __uint_least16_t;\r\n",
      "typedef __int32_t __int_least32_t;\r\n",
      "typedef __uint32_t __uint_least32_t;\r\n",
      "typedef __int64_t __int_least64_t;\r\n",
      "typedef __uint64_t __uint_least64_t;\r\n",
      "\r\n",
      "\r\n",
      "\r\n",
      "typedef long int __quad_t;\r\n",
      "typedef unsigned long int __u_quad_t;\r\n",
      "\r\n",
      "\r\n",
      "\r\n",
      "\r\n",
      "\r\n",
      "\r\n",
      "\r\n",
      "typedef long int __intmax_t;\r\n",
      "typedef unsigned long int __uintmax_t;\r\n",
      "# 141 \"/usr/include/x86_64-linux-gnu/bits/types.h\" 3 4\r\n",
      "# 1 \"/usr/include/x86_64-linux-gnu/bits/typesizes.h\" 1 3 4\r\n",
      "# 142 \"/usr/include/x86_64-linux-gnu/bits/types.h\" 2 3 4\r\n",
      "# 1 \"/usr/include/x86_64-linux-gnu/bits/time64.h\" 1 3 4\r\n",
      "# 143 \"/usr/include/x86_64-linux-gnu/bits/types.h\" 2 3 4\r\n",
      "\r\n",
      "\r\n",
      "typedef unsigned long int __dev_t;\r\n",
      "typedef unsigned int __uid_t;\r\n",
      "typedef unsigned int __gid_t;\r\n",
      "typedef unsigned long int __ino_t;\r\n",
      "typedef unsigned long int __ino64_t;\r\n",
      "typedef unsigned int __mode_t;\r\n",
      "typedef unsigned long int __nlink_t;\r\n",
      "typedef long int __off_t;\r\n",
      "typedef long int __off64_t;\r\n",
      "typedef int __pid_t;\r\n",
      "typedef struct { int __val[2]; } __fsid_t;\r\n",
      "typedef long int __clock_t;\r\n",
      "typedef unsigned long int __rlim_t;\r\n",
      "typedef unsigned long int __rlim64_t;\r\n",
      "typedef unsigned int __id_t;\r\n",
      "typedef long int __time_t;\r\n",
      "typedef unsigned int __useconds_t;\r\n",
      "typedef long int __suseconds_t;\r\n",
      "\r\n",
      "typedef int __daddr_t;\r\n",
      "typedef int __key_t;\r\n",
      "\r\n",
      "\r\n",
      "typedef int __clockid_t;\r\n",
      "\r\n",
      "\r\n",
      "typedef void * __timer_t;\r\n",
      "\r\n",
      "\r\n",
      "typedef long int __blksize_t;\r\n",
      "\r\n",
      "\r\n",
      "\r\n",
      "\r\n",
      "typedef long int __blkcnt_t;\r\n",
      "typedef long int __blkcnt64_t;\r\n",
      "\r\n",
      "\r\n",
      "typedef unsigned long int __fsblkcnt_t;\r\n",
      "typedef unsigned long int __fsblkcnt64_t;\r\n",
      "\r\n",
      "\r\n",
      "typedef unsigned long int __fsfilcnt_t;\r\n",
      "typedef unsigned long int __fsfilcnt64_t;\r\n",
      "\r\n",
      "\r\n",
      "typedef long int __fsword_t;\r\n",
      "\r\n",
      "typedef long int __ssize_t;\r\n",
      "\r\n",
      "\r\n",
      "typedef long int __syscall_slong_t;\r\n",
      "\r\n",
      "typedef unsigned long int __syscall_ulong_t;\r\n",
      "\r\n",
      "\r\n",
      "\r\n",
      "typedef __off64_t __loff_t;\r\n",
      "typedef char *__caddr_t;\r\n",
      "\r\n",
      "\r\n",
      "typedef long int __intptr_t;\r\n",
      "\r\n",
      "\r\n",
      "typedef unsigned int __socklen_t;\r\n",
      "\r\n",
      "\r\n",
      "\r\n",
      "\r\n",
      "typedef int __sig_atomic_t;\r\n",
      "# 39 \"/usr/include/stdio.h\" 2 3 4\r\n",
      "# 1 \"/usr/include/x86_64-linux-gnu/bits/types/__fpos_t.h\" 1 3 4\r\n",
      "\r\n",
      "\r\n",
      "\r\n",
      "\r\n",
      "# 1 \"/usr/include/x86_64-linux-gnu/bits/types/__mbstate_t.h\" 1 3 4\r\n",
      "# 13 \"/usr/include/x86_64-linux-gnu/bits/types/__mbstate_t.h\" 3 4\r\n",
      "typedef struct\r\n",
      "{\r\n",
      "  int __count;\r\n",
      "  union\r\n",
      "  {\r\n",
      "    unsigned int __wch;\r\n",
      "    char __wchb[4];\r\n",
      "  } __value;\r\n",
      "} __mbstate_t;\r\n",
      "# 6 \"/usr/include/x86_64-linux-gnu/bits/types/__fpos_t.h\" 2 3 4\r\n",
      "\r\n",
      "\r\n",
      "\r\n",
      "\r\n",
      "typedef struct _G_fpos_t\r\n",
      "{\r\n",
      "  __off_t __pos;\r\n",
      "  __mbstate_t __state;\r\n",
      "} __fpos_t;\r\n",
      "# 40 \"/usr/include/stdio.h\" 2 3 4\r\n",
      "# 1 \"/usr/include/x86_64-linux-gnu/bits/types/__fpos64_t.h\" 1 3 4\r\n",
      "# 10 \"/usr/include/x86_64-linux-gnu/bits/types/__fpos64_t.h\" 3 4\r\n",
      "typedef struct _G_fpos64_t\r\n",
      "{\r\n",
      "  __off64_t __pos;\r\n",
      "  __mbstate_t __state;\r\n",
      "} __fpos64_t;\r\n",
      "# 41 \"/usr/include/stdio.h\" 2 3 4\r\n",
      "# 1 \"/usr/include/x86_64-linux-gnu/bits/types/__FILE.h\" 1 3 4\r\n",
      "\r\n",
      "\r\n",
      "\r\n",
      "struct _IO_FILE;\r\n",
      "typedef struct _IO_FILE __FILE;\r\n",
      "# 42 \"/usr/include/stdio.h\" 2 3 4\r\n",
      "# 1 \"/usr/include/x86_64-linux-gnu/bits/types/FILE.h\" 1 3 4\r\n",
      "\r\n",
      "\r\n",
      "\r\n",
      "struct _IO_FILE;\r\n",
      "\r\n",
      "\r\n",
      "typedef struct _IO_FILE FILE;\r\n",
      "# 43 \"/usr/include/stdio.h\" 2 3 4\r\n",
      "# 1 \"/usr/include/x86_64-linux-gnu/bits/types/struct_FILE.h\" 1 3 4\r\n",
      "# 35 \"/usr/include/x86_64-linux-gnu/bits/types/struct_FILE.h\" 3 4\r\n",
      "struct _IO_FILE;\r\n",
      "struct _IO_marker;\r\n",
      "struct _IO_codecvt;\r\n",
      "struct _IO_wide_data;\r\n",
      "\r\n",
      "\r\n",
      "\r\n",
      "\r\n",
      "typedef void _IO_lock_t;\r\n",
      "\r\n",
      "\r\n",
      "\r\n",
      "\r\n",
      "\r\n",
      "struct _IO_FILE\r\n",
      "{\r\n",
      "  int _flags;\r\n",
      "\r\n",
      "\r\n",
      "  char *_IO_read_ptr;\r\n",
      "  char *_IO_read_end;\r\n",
      "  char *_IO_read_base;\r\n",
      "  char *_IO_write_base;\r\n",
      "  char *_IO_write_ptr;\r\n",
      "  char *_IO_write_end;\r\n",
      "  char *_IO_buf_base;\r\n",
      "  char *_IO_buf_end;\r\n",
      "\r\n",
      "\r\n",
      "  char *_IO_save_base;\r\n",
      "  char *_IO_backup_base;\r\n",
      "  char *_IO_save_end;\r\n",
      "\r\n",
      "  struct _IO_marker *_markers;\r\n",
      "\r\n",
      "  struct _IO_FILE *_chain;\r\n",
      "\r\n",
      "  int _fileno;\r\n",
      "  int _flags2;\r\n",
      "  __off_t _old_offset;\r\n",
      "\r\n",
      "\r\n",
      "  unsigned short _cur_column;\r\n",
      "  signed char _vtable_offset;\r\n",
      "  char _shortbuf[1];\r\n",
      "\r\n",
      "  _IO_lock_t *_lock;\r\n",
      "\r\n",
      "\r\n",
      "\r\n",
      "\r\n",
      "\r\n",
      "\r\n",
      "\r\n",
      "  __off64_t _offset;\r\n",
      "\r\n",
      "  struct _IO_codecvt *_codecvt;\r\n",
      "  struct _IO_wide_data *_wide_data;\r\n",
      "  struct _IO_FILE *_freeres_list;\r\n",
      "  void *_freeres_buf;\r\n",
      "  size_t __pad5;\r\n",
      "  int _mode;\r\n",
      "\r\n",
      "  char _unused2[15 * sizeof (int) - 4 * sizeof (void *) - sizeof (size_t)];\r\n",
      "};\r\n",
      "# 44 \"/usr/include/stdio.h\" 2 3 4\r\n",
      "# 52 \"/usr/include/stdio.h\" 3 4\r\n",
      "typedef __gnuc_va_list va_list;\r\n",
      "# 63 \"/usr/include/stdio.h\" 3 4\r\n",
      "typedef __off_t off_t;\r\n",
      "# 77 \"/usr/include/stdio.h\" 3 4\r\n",
      "typedef __ssize_t ssize_t;\r\n",
      "\r\n",
      "\r\n",
      "\r\n",
      "\r\n",
      "\r\n",
      "\r\n",
      "typedef __fpos_t fpos_t;\r\n",
      "# 133 \"/usr/include/stdio.h\" 3 4\r\n",
      "# 1 \"/usr/include/x86_64-linux-gnu/bits/stdio_lim.h\" 1 3 4\r\n",
      "# 134 \"/usr/include/stdio.h\" 2 3 4\r\n",
      "\r\n",
      "\r\n",
      "\r\n",
      "extern FILE *stdin;\r\n",
      "extern FILE *stdout;\r\n",
      "extern FILE *stderr;\r\n",
      "\r\n",
      "\r\n",
      "\r\n",
      "\r\n",
      "\r\n",
      "\r\n",
      "extern int remove (const char *__filename) __attribute__ ((__nothrow__ , __leaf__));\r\n",
      "\r\n",
      "extern int rename (const char *__old, const char *__new) __attribute__ ((__nothrow__ , __leaf__));\r\n",
      "\r\n",
      "\r\n",
      "\r\n",
      "extern int renameat (int __oldfd, const char *__old, int __newfd,\r\n",
      "       const char *__new) __attribute__ ((__nothrow__ , __leaf__));\r\n",
      "# 173 \"/usr/include/stdio.h\" 3 4\r\n",
      "extern FILE *tmpfile (void) ;\r\n",
      "# 187 \"/usr/include/stdio.h\" 3 4\r\n",
      "extern char *tmpnam (char *__s) __attribute__ ((__nothrow__ , __leaf__)) ;\r\n",
      "\r\n",
      "\r\n",
      "\r\n",
      "\r\n",
      "extern char *tmpnam_r (char *__s) __attribute__ ((__nothrow__ , __leaf__)) ;\r\n",
      "# 204 \"/usr/include/stdio.h\" 3 4\r\n",
      "extern char *tempnam (const char *__dir, const char *__pfx)\r\n",
      "     __attribute__ ((__nothrow__ , __leaf__)) __attribute__ ((__malloc__)) ;\r\n",
      "\r\n",
      "\r\n",
      "\r\n",
      "\r\n",
      "\r\n",
      "\r\n",
      "\r\n",
      "extern int fclose (FILE *__stream);\r\n",
      "\r\n",
      "\r\n",
      "\r\n",
      "\r\n",
      "extern int fflush (FILE *__stream);\r\n",
      "# 227 \"/usr/include/stdio.h\" 3 4\r\n",
      "extern int fflush_unlocked (FILE *__stream);\r\n",
      "# 246 \"/usr/include/stdio.h\" 3 4\r\n",
      "extern FILE *fopen (const char *__restrict __filename,\r\n",
      "      const char *__restrict __modes) ;\r\n",
      "\r\n",
      "\r\n",
      "\r\n",
      "\r\n",
      "extern FILE *freopen (const char *__restrict __filename,\r\n",
      "        const char *__restrict __modes,\r\n",
      "        FILE *__restrict __stream) ;\r\n",
      "# 279 \"/usr/include/stdio.h\" 3 4\r\n",
      "extern FILE *fdopen (int __fd, const char *__modes) __attribute__ ((__nothrow__ , __leaf__)) ;\r\n",
      "# 292 \"/usr/include/stdio.h\" 3 4\r\n",
      "extern FILE *fmemopen (void *__s, size_t __len, const char *__modes)\r\n",
      "  __attribute__ ((__nothrow__ , __leaf__)) ;\r\n",
      "\r\n",
      "\r\n",
      "\r\n",
      "\r\n",
      "extern FILE *open_memstream (char **__bufloc, size_t *__sizeloc) __attribute__ ((__nothrow__ , __leaf__)) ;\r\n",
      "\r\n",
      "\r\n",
      "\r\n",
      "\r\n",
      "\r\n",
      "extern void setbuf (FILE *__restrict __stream, char *__restrict __buf) __attribute__ ((__nothrow__ , __leaf__));\r\n",
      "\r\n",
      "\r\n",
      "\r\n",
      "extern int setvbuf (FILE *__restrict __stream, char *__restrict __buf,\r\n",
      "      int __modes, size_t __n) __attribute__ ((__nothrow__ , __leaf__));\r\n",
      "\r\n",
      "\r\n",
      "\r\n",
      "\r\n",
      "extern void setbuffer (FILE *__restrict __stream, char *__restrict __buf,\r\n",
      "         size_t __size) __attribute__ ((__nothrow__ , __leaf__));\r\n",
      "\r\n",
      "\r\n",
      "extern void setlinebuf (FILE *__stream) __attribute__ ((__nothrow__ , __leaf__));\r\n",
      "\r\n",
      "\r\n",
      "\r\n",
      "\r\n",
      "\r\n",
      "\r\n",
      "\r\n",
      "extern int fprintf (FILE *__restrict __stream,\r\n",
      "      const char *__restrict __format, ...);\r\n",
      "\r\n",
      "\r\n",
      "\r\n",
      "\r\n",
      "extern int printf (const char *__restrict __format, ...);\r\n",
      "\r\n",
      "extern int sprintf (char *__restrict __s,\r\n",
      "      const char *__restrict __format, ...) __attribute__ ((__nothrow__));\r\n",
      "\r\n",
      "\r\n",
      "\r\n",
      "\r\n",
      "\r\n",
      "extern int vfprintf (FILE *__restrict __s, const char *__restrict __format,\r\n",
      "       __gnuc_va_list __arg);\r\n",
      "\r\n",
      "\r\n",
      "\r\n",
      "\r\n",
      "extern int vprintf (const char *__restrict __format, __gnuc_va_list __arg);\r\n",
      "\r\n",
      "extern int vsprintf (char *__restrict __s, const char *__restrict __format,\r\n",
      "       __gnuc_va_list __arg) __attribute__ ((__nothrow__));\r\n",
      "\r\n",
      "\r\n",
      "\r\n",
      "extern int snprintf (char *__restrict __s, size_t __maxlen,\r\n",
      "       const char *__restrict __format, ...)\r\n",
      "     __attribute__ ((__nothrow__)) __attribute__ ((__format__ (__printf__, 3, 4)));\r\n",
      "\r\n",
      "extern int vsnprintf (char *__restrict __s, size_t __maxlen,\r\n",
      "        const char *__restrict __format, __gnuc_va_list __arg)\r\n",
      "     __attribute__ ((__nothrow__)) __attribute__ ((__format__ (__printf__, 3, 0)));\r\n",
      "# 379 \"/usr/include/stdio.h\" 3 4\r\n",
      "extern int vdprintf (int __fd, const char *__restrict __fmt,\r\n",
      "       __gnuc_va_list __arg)\r\n",
      "     __attribute__ ((__format__ (__printf__, 2, 0)));\r\n",
      "extern int dprintf (int __fd, const char *__restrict __fmt, ...)\r\n",
      "     __attribute__ ((__format__ (__printf__, 2, 3)));\r\n",
      "\r\n",
      "\r\n",
      "\r\n",
      "\r\n",
      "\r\n",
      "\r\n",
      "\r\n",
      "extern int fscanf (FILE *__restrict __stream,\r\n",
      "     const char *__restrict __format, ...) ;\r\n",
      "\r\n",
      "\r\n",
      "\r\n",
      "\r\n",
      "extern int scanf (const char *__restrict __format, ...) ;\r\n",
      "\r\n",
      "extern int sscanf (const char *__restrict __s,\r\n",
      "     const char *__restrict __format, ...) __attribute__ ((__nothrow__ , __leaf__));\r\n",
      "\r\n",
      "\r\n",
      "\r\n",
      "\r\n",
      "\r\n",
      "\r\n",
      "extern int fscanf (FILE *__restrict __stream, const char *__restrict __format, ...) __asm__ (\"\" \"__isoc99_fscanf\")\r\n",
      "\r\n",
      "                               ;\r\n",
      "extern int scanf (const char *__restrict __format, ...) __asm__ (\"\" \"__isoc99_scanf\")\r\n",
      "                              ;\r\n",
      "extern int sscanf (const char *__restrict __s, const char *__restrict __format, ...) __asm__ (\"\" \"__isoc99_sscanf\") __attribute__ ((__nothrow__ , __leaf__))\r\n",
      "\r\n",
      "                      ;\r\n",
      "# 432 \"/usr/include/stdio.h\" 3 4\r\n",
      "extern int vfscanf (FILE *__restrict __s, const char *__restrict __format,\r\n",
      "      __gnuc_va_list __arg)\r\n",
      "     __attribute__ ((__format__ (__scanf__, 2, 0))) ;\r\n",
      "\r\n",
      "\r\n",
      "\r\n",
      "\r\n",
      "\r\n",
      "extern int vscanf (const char *__restrict __format, __gnuc_va_list __arg)\r\n",
      "     __attribute__ ((__format__ (__scanf__, 1, 0))) ;\r\n",
      "\r\n",
      "\r\n",
      "extern int vsscanf (const char *__restrict __s,\r\n",
      "      const char *__restrict __format, __gnuc_va_list __arg)\r\n",
      "     __attribute__ ((__nothrow__ , __leaf__)) __attribute__ ((__format__ (__scanf__, 2, 0)));\r\n",
      "\r\n",
      "\r\n",
      "\r\n",
      "\r\n",
      "extern int vfscanf (FILE *__restrict __s, const char *__restrict __format, __gnuc_va_list __arg) __asm__ (\"\" \"__isoc99_vfscanf\")\r\n",
      "\r\n",
      "\r\n",
      "\r\n",
      "     __attribute__ ((__format__ (__scanf__, 2, 0))) ;\r\n",
      "extern int vscanf (const char *__restrict __format, __gnuc_va_list __arg) __asm__ (\"\" \"__isoc99_vscanf\")\r\n",
      "\r\n",
      "     __attribute__ ((__format__ (__scanf__, 1, 0))) ;\r\n",
      "extern int vsscanf (const char *__restrict __s, const char *__restrict __format, __gnuc_va_list __arg) __asm__ (\"\" \"__isoc99_vsscanf\") __attribute__ ((__nothrow__ , __leaf__))\r\n",
      "\r\n",
      "\r\n",
      "\r\n",
      "     __attribute__ ((__format__ (__scanf__, 2, 0)));\r\n",
      "# 485 \"/usr/include/stdio.h\" 3 4\r\n",
      "extern int fgetc (FILE *__stream);\r\n",
      "extern int getc (FILE *__stream);\r\n",
      "\r\n",
      "\r\n",
      "\r\n",
      "\r\n",
      "\r\n",
      "extern int getchar (void);\r\n",
      "\r\n",
      "\r\n",
      "\r\n",
      "\r\n",
      "\r\n",
      "\r\n",
      "extern int getc_unlocked (FILE *__stream);\r\n",
      "extern int getchar_unlocked (void);\r\n",
      "# 510 \"/usr/include/stdio.h\" 3 4\r\n",
      "extern int fgetc_unlocked (FILE *__stream);\r\n",
      "# 521 \"/usr/include/stdio.h\" 3 4\r\n",
      "extern int fputc (int __c, FILE *__stream);\r\n",
      "extern int putc (int __c, FILE *__stream);\r\n",
      "\r\n",
      "\r\n",
      "\r\n",
      "\r\n",
      "\r\n",
      "extern int putchar (int __c);\r\n",
      "# 537 \"/usr/include/stdio.h\" 3 4\r\n",
      "extern int fputc_unlocked (int __c, FILE *__stream);\r\n",
      "\r\n",
      "\r\n",
      "\r\n",
      "\r\n",
      "\r\n",
      "\r\n",
      "\r\n",
      "extern int putc_unlocked (int __c, FILE *__stream);\r\n",
      "extern int putchar_unlocked (int __c);\r\n",
      "\r\n",
      "\r\n",
      "\r\n",
      "\r\n",
      "\r\n",
      "\r\n",
      "extern int getw (FILE *__stream);\r\n",
      "\r\n",
      "\r\n",
      "extern int putw (int __w, FILE *__stream);\r\n",
      "\r\n",
      "\r\n",
      "\r\n",
      "\r\n",
      "\r\n",
      "\r\n",
      "\r\n",
      "extern char *fgets (char *__restrict __s, int __n, FILE *__restrict __stream)\r\n",
      "     ;\r\n",
      "# 603 \"/usr/include/stdio.h\" 3 4\r\n",
      "extern __ssize_t __getdelim (char **__restrict __lineptr,\r\n",
      "                             size_t *__restrict __n, int __delimiter,\r\n",
      "                             FILE *__restrict __stream) ;\r\n",
      "extern __ssize_t getdelim (char **__restrict __lineptr,\r\n",
      "                           size_t *__restrict __n, int __delimiter,\r\n",
      "                           FILE *__restrict __stream) ;\r\n",
      "\r\n",
      "\r\n",
      "\r\n",
      "\r\n",
      "\r\n",
      "\r\n",
      "\r\n",
      "extern __ssize_t getline (char **__restrict __lineptr,\r\n",
      "                          size_t *__restrict __n,\r\n",
      "                          FILE *__restrict __stream) ;\r\n",
      "\r\n",
      "\r\n",
      "\r\n",
      "\r\n",
      "\r\n",
      "\r\n",
      "\r\n",
      "extern int fputs (const char *__restrict __s, FILE *__restrict __stream);\r\n",
      "\r\n",
      "\r\n",
      "\r\n",
      "\r\n",
      "\r\n",
      "extern int puts (const char *__s);\r\n",
      "\r\n",
      "\r\n",
      "\r\n",
      "\r\n",
      "\r\n",
      "\r\n",
      "extern int ungetc (int __c, FILE *__stream);\r\n",
      "\r\n",
      "\r\n",
      "\r\n",
      "\r\n",
      "\r\n",
      "\r\n",
      "extern size_t fread (void *__restrict __ptr, size_t __size,\r\n",
      "       size_t __n, FILE *__restrict __stream) ;\r\n",
      "\r\n",
      "\r\n",
      "\r\n",
      "\r\n",
      "extern size_t fwrite (const void *__restrict __ptr, size_t __size,\r\n",
      "        size_t __n, FILE *__restrict __s);\r\n",
      "# 673 \"/usr/include/stdio.h\" 3 4\r\n",
      "extern size_t fread_unlocked (void *__restrict __ptr, size_t __size,\r\n",
      "         size_t __n, FILE *__restrict __stream) ;\r\n",
      "extern size_t fwrite_unlocked (const void *__restrict __ptr, size_t __size,\r\n",
      "          size_t __n, FILE *__restrict __stream);\r\n",
      "\r\n",
      "\r\n",
      "\r\n",
      "\r\n",
      "\r\n",
      "\r\n",
      "\r\n",
      "extern int fseek (FILE *__stream, long int __off, int __whence);\r\n",
      "\r\n",
      "\r\n",
      "\r\n",
      "\r\n",
      "extern long int ftell (FILE *__stream) ;\r\n",
      "\r\n",
      "\r\n",
      "\r\n",
      "\r\n",
      "extern void rewind (FILE *__stream);\r\n",
      "# 707 \"/usr/include/stdio.h\" 3 4\r\n",
      "extern int fseeko (FILE *__stream, __off_t __off, int __whence);\r\n",
      "\r\n",
      "\r\n",
      "\r\n",
      "\r\n",
      "extern __off_t ftello (FILE *__stream) ;\r\n",
      "# 731 \"/usr/include/stdio.h\" 3 4\r\n",
      "extern int fgetpos (FILE *__restrict __stream, fpos_t *__restrict __pos);\r\n",
      "\r\n",
      "\r\n",
      "\r\n",
      "\r\n",
      "extern int fsetpos (FILE *__stream, const fpos_t *__pos);\r\n",
      "# 757 \"/usr/include/stdio.h\" 3 4\r\n",
      "extern void clearerr (FILE *__stream) __attribute__ ((__nothrow__ , __leaf__));\r\n",
      "\r\n",
      "extern int feof (FILE *__stream) __attribute__ ((__nothrow__ , __leaf__)) ;\r\n",
      "\r\n",
      "extern int ferror (FILE *__stream) __attribute__ ((__nothrow__ , __leaf__)) ;\r\n",
      "\r\n",
      "\r\n",
      "\r\n",
      "extern void clearerr_unlocked (FILE *__stream) __attribute__ ((__nothrow__ , __leaf__));\r\n",
      "extern int feof_unlocked (FILE *__stream) __attribute__ ((__nothrow__ , __leaf__)) ;\r\n",
      "extern int ferror_unlocked (FILE *__stream) __attribute__ ((__nothrow__ , __leaf__)) ;\r\n",
      "\r\n",
      "\r\n",
      "\r\n",
      "\r\n",
      "\r\n",
      "\r\n",
      "\r\n",
      "extern void perror (const char *__s);\r\n",
      "\r\n",
      "\r\n",
      "\r\n",
      "\r\n",
      "\r\n",
      "# 1 \"/usr/include/x86_64-linux-gnu/bits/sys_errlist.h\" 1 3 4\r\n",
      "# 26 \"/usr/include/x86_64-linux-gnu/bits/sys_errlist.h\" 3 4\r\n",
      "extern int sys_nerr;\r\n",
      "extern const char *const sys_errlist[];\r\n",
      "# 782 \"/usr/include/stdio.h\" 2 3 4\r\n",
      "\r\n",
      "\r\n",
      "\r\n",
      "\r\n",
      "extern int fileno (FILE *__stream) __attribute__ ((__nothrow__ , __leaf__)) ;\r\n",
      "\r\n",
      "\r\n",
      "\r\n",
      "\r\n",
      "extern int fileno_unlocked (FILE *__stream) __attribute__ ((__nothrow__ , __leaf__)) ;\r\n",
      "# 800 \"/usr/include/stdio.h\" 3 4\r\n",
      "extern FILE *popen (const char *__command, const char *__modes) ;\r\n",
      "\r\n",
      "\r\n",
      "\r\n",
      "\r\n",
      "\r\n",
      "extern int pclose (FILE *__stream);\r\n",
      "\r\n",
      "\r\n",
      "\r\n",
      "\r\n",
      "\r\n",
      "extern char *ctermid (char *__s) __attribute__ ((__nothrow__ , __leaf__));\r\n",
      "# 840 \"/usr/include/stdio.h\" 3 4\r\n",
      "extern void flockfile (FILE *__stream) __attribute__ ((__nothrow__ , __leaf__));\r\n",
      "\r\n",
      "\r\n",
      "\r\n",
      "extern int ftrylockfile (FILE *__stream) __attribute__ ((__nothrow__ , __leaf__)) ;\r\n",
      "\r\n",
      "\r\n",
      "extern void funlockfile (FILE *__stream) __attribute__ ((__nothrow__ , __leaf__));\r\n",
      "# 858 \"/usr/include/stdio.h\" 3 4\r\n",
      "extern int __uflow (FILE *);\r\n",
      "extern int __overflow (FILE *, int);\r\n",
      "# 873 \"/usr/include/stdio.h\" 3 4\r\n",
      "\r\n",
      "# 9 \"macro_example_2.c\" 2\r\n",
      "# 1 \"/usr/include/string.h\" 1 3 4\r\n",
      "# 26 \"/usr/include/string.h\" 3 4\r\n",
      "# 1 \"/usr/include/x86_64-linux-gnu/bits/libc-header-start.h\" 1 3 4\r\n",
      "# 27 \"/usr/include/string.h\" 2 3 4\r\n",
      "\r\n",
      "\r\n",
      "\r\n",
      "\r\n",
      "\r\n",
      "\r\n",
      "# 1 \"/usr/lib/gcc/x86_64-linux-gnu/9/include/stddef.h\" 1 3 4\r\n",
      "# 34 \"/usr/include/string.h\" 2 3 4\r\n",
      "# 43 \"/usr/include/string.h\" 3 4\r\n",
      "extern void *memcpy (void *__restrict __dest, const void *__restrict __src,\r\n",
      "       size_t __n) __attribute__ ((__nothrow__ , __leaf__)) __attribute__ ((__nonnull__ (1, 2)));\r\n",
      "\r\n",
      "\r\n",
      "extern void *memmove (void *__dest, const void *__src, size_t __n)\r\n",
      "     __attribute__ ((__nothrow__ , __leaf__)) __attribute__ ((__nonnull__ (1, 2)));\r\n",
      "\r\n",
      "\r\n",
      "\r\n",
      "\r\n",
      "\r\n",
      "extern void *memccpy (void *__restrict __dest, const void *__restrict __src,\r\n",
      "        int __c, size_t __n)\r\n",
      "     __attribute__ ((__nothrow__ , __leaf__)) __attribute__ ((__nonnull__ (1, 2)));\r\n",
      "\r\n",
      "\r\n",
      "\r\n",
      "\r\n",
      "extern void *memset (void *__s, int __c, size_t __n) __attribute__ ((__nothrow__ , __leaf__)) __attribute__ ((__nonnull__ (1)));\r\n",
      "\r\n",
      "\r\n",
      "extern int memcmp (const void *__s1, const void *__s2, size_t __n)\r\n",
      "     __attribute__ ((__nothrow__ , __leaf__)) __attribute__ ((__pure__)) __attribute__ ((__nonnull__ (1, 2)));\r\n",
      "# 91 \"/usr/include/string.h\" 3 4\r\n",
      "extern void *memchr (const void *__s, int __c, size_t __n)\r\n",
      "      __attribute__ ((__nothrow__ , __leaf__)) __attribute__ ((__pure__)) __attribute__ ((__nonnull__ (1)));\r\n",
      "# 122 \"/usr/include/string.h\" 3 4\r\n",
      "extern char *strcpy (char *__restrict __dest, const char *__restrict __src)\r\n",
      "     __attribute__ ((__nothrow__ , __leaf__)) __attribute__ ((__nonnull__ (1, 2)));\r\n",
      "\r\n",
      "extern char *strncpy (char *__restrict __dest,\r\n",
      "        const char *__restrict __src, size_t __n)\r\n",
      "     __attribute__ ((__nothrow__ , __leaf__)) __attribute__ ((__nonnull__ (1, 2)));\r\n",
      "\r\n",
      "\r\n",
      "extern char *strcat (char *__restrict __dest, const char *__restrict __src)\r\n",
      "     __attribute__ ((__nothrow__ , __leaf__)) __attribute__ ((__nonnull__ (1, 2)));\r\n",
      "\r\n",
      "extern char *strncat (char *__restrict __dest, const char *__restrict __src,\r\n",
      "        size_t __n) __attribute__ ((__nothrow__ , __leaf__)) __attribute__ ((__nonnull__ (1, 2)));\r\n",
      "\r\n",
      "\r\n",
      "extern int strcmp (const char *__s1, const char *__s2)\r\n",
      "     __attribute__ ((__nothrow__ , __leaf__)) __attribute__ ((__pure__)) __attribute__ ((__nonnull__ (1, 2)));\r\n",
      "\r\n",
      "extern int strncmp (const char *__s1, const char *__s2, size_t __n)\r\n",
      "     __attribute__ ((__nothrow__ , __leaf__)) __attribute__ ((__pure__)) __attribute__ ((__nonnull__ (1, 2)));\r\n",
      "\r\n",
      "\r\n",
      "extern int strcoll (const char *__s1, const char *__s2)\r\n",
      "     __attribute__ ((__nothrow__ , __leaf__)) __attribute__ ((__pure__)) __attribute__ ((__nonnull__ (1, 2)));\r\n",
      "\r\n",
      "extern size_t strxfrm (char *__restrict __dest,\r\n",
      "         const char *__restrict __src, size_t __n)\r\n",
      "     __attribute__ ((__nothrow__ , __leaf__)) __attribute__ ((__nonnull__ (2)));\r\n",
      "\r\n",
      "\r\n",
      "\r\n",
      "# 1 \"/usr/include/x86_64-linux-gnu/bits/types/locale_t.h\" 1 3 4\r\n",
      "# 22 \"/usr/include/x86_64-linux-gnu/bits/types/locale_t.h\" 3 4\r\n",
      "# 1 \"/usr/include/x86_64-linux-gnu/bits/types/__locale_t.h\" 1 3 4\r\n",
      "# 28 \"/usr/include/x86_64-linux-gnu/bits/types/__locale_t.h\" 3 4\r\n",
      "struct __locale_struct\r\n",
      "{\r\n",
      "\r\n",
      "  struct __locale_data *__locales[13];\r\n",
      "\r\n",
      "\r\n",
      "  const unsigned short int *__ctype_b;\r\n",
      "  const int *__ctype_tolower;\r\n",
      "  const int *__ctype_toupper;\r\n",
      "\r\n",
      "\r\n",
      "  const char *__names[13];\r\n",
      "};\r\n",
      "\r\n",
      "typedef struct __locale_struct *__locale_t;\r\n",
      "# 23 \"/usr/include/x86_64-linux-gnu/bits/types/locale_t.h\" 2 3 4\r\n",
      "\r\n",
      "typedef __locale_t locale_t;\r\n",
      "# 154 \"/usr/include/string.h\" 2 3 4\r\n",
      "\r\n",
      "\r\n",
      "extern int strcoll_l (const char *__s1, const char *__s2, locale_t __l)\r\n",
      "     __attribute__ ((__nothrow__ , __leaf__)) __attribute__ ((__pure__)) __attribute__ ((__nonnull__ (1, 2, 3)));\r\n",
      "\r\n",
      "\r\n",
      "extern size_t strxfrm_l (char *__dest, const char *__src, size_t __n,\r\n",
      "    locale_t __l) __attribute__ ((__nothrow__ , __leaf__)) __attribute__ ((__nonnull__ (2, 4)));\r\n",
      "\r\n",
      "\r\n",
      "\r\n",
      "\r\n",
      "\r\n",
      "extern char *strdup (const char *__s)\r\n",
      "     __attribute__ ((__nothrow__ , __leaf__)) __attribute__ ((__malloc__)) __attribute__ ((__nonnull__ (1)));\r\n",
      "\r\n",
      "\r\n",
      "\r\n",
      "\r\n",
      "\r\n",
      "\r\n",
      "extern char *strndup (const char *__string, size_t __n)\r\n",
      "     __attribute__ ((__nothrow__ , __leaf__)) __attribute__ ((__malloc__)) __attribute__ ((__nonnull__ (1)));\r\n",
      "# 226 \"/usr/include/string.h\" 3 4\r\n",
      "extern char *strchr (const char *__s, int __c)\r\n",
      "     __attribute__ ((__nothrow__ , __leaf__)) __attribute__ ((__pure__)) __attribute__ ((__nonnull__ (1)));\r\n",
      "# 253 \"/usr/include/string.h\" 3 4\r\n",
      "extern char *strrchr (const char *__s, int __c)\r\n",
      "     __attribute__ ((__nothrow__ , __leaf__)) __attribute__ ((__pure__)) __attribute__ ((__nonnull__ (1)));\r\n",
      "# 273 \"/usr/include/string.h\" 3 4\r\n",
      "extern size_t strcspn (const char *__s, const char *__reject)\r\n",
      "     __attribute__ ((__nothrow__ , __leaf__)) __attribute__ ((__pure__)) __attribute__ ((__nonnull__ (1, 2)));\r\n",
      "\r\n",
      "\r\n",
      "extern size_t strspn (const char *__s, const char *__accept)\r\n",
      "     __attribute__ ((__nothrow__ , __leaf__)) __attribute__ ((__pure__)) __attribute__ ((__nonnull__ (1, 2)));\r\n",
      "# 303 \"/usr/include/string.h\" 3 4\r\n",
      "extern char *strpbrk (const char *__s, const char *__accept)\r\n",
      "     __attribute__ ((__nothrow__ , __leaf__)) __attribute__ ((__pure__)) __attribute__ ((__nonnull__ (1, 2)));\r\n",
      "# 330 \"/usr/include/string.h\" 3 4\r\n",
      "extern char *strstr (const char *__haystack, const char *__needle)\r\n",
      "     __attribute__ ((__nothrow__ , __leaf__)) __attribute__ ((__pure__)) __attribute__ ((__nonnull__ (1, 2)));\r\n",
      "\r\n",
      "\r\n",
      "\r\n",
      "\r\n",
      "extern char *strtok (char *__restrict __s, const char *__restrict __delim)\r\n",
      "     __attribute__ ((__nothrow__ , __leaf__)) __attribute__ ((__nonnull__ (2)));\r\n",
      "\r\n",
      "\r\n",
      "\r\n",
      "extern char *__strtok_r (char *__restrict __s,\r\n",
      "    const char *__restrict __delim,\r\n",
      "    char **__restrict __save_ptr)\r\n",
      "     __attribute__ ((__nothrow__ , __leaf__)) __attribute__ ((__nonnull__ (2, 3)));\r\n",
      "\r\n",
      "extern char *strtok_r (char *__restrict __s, const char *__restrict __delim,\r\n",
      "         char **__restrict __save_ptr)\r\n",
      "     __attribute__ ((__nothrow__ , __leaf__)) __attribute__ ((__nonnull__ (2, 3)));\r\n",
      "# 385 \"/usr/include/string.h\" 3 4\r\n",
      "extern size_t strlen (const char *__s)\r\n",
      "     __attribute__ ((__nothrow__ , __leaf__)) __attribute__ ((__pure__)) __attribute__ ((__nonnull__ (1)));\r\n",
      "\r\n",
      "\r\n",
      "\r\n",
      "\r\n",
      "extern size_t strnlen (const char *__string, size_t __maxlen)\r\n",
      "     __attribute__ ((__nothrow__ , __leaf__)) __attribute__ ((__pure__)) __attribute__ ((__nonnull__ (1)));\r\n",
      "\r\n",
      "\r\n",
      "\r\n",
      "\r\n",
      "extern char *strerror (int __errnum) __attribute__ ((__nothrow__ , __leaf__));\r\n",
      "# 410 \"/usr/include/string.h\" 3 4\r\n",
      "extern int strerror_r (int __errnum, char *__buf, size_t __buflen) __asm__ (\"\" \"__xpg_strerror_r\") __attribute__ ((__nothrow__ , __leaf__))\r\n",
      "\r\n",
      "                        __attribute__ ((__nonnull__ (2)));\r\n",
      "# 428 \"/usr/include/string.h\" 3 4\r\n",
      "extern char *strerror_l (int __errnum, locale_t __l) __attribute__ ((__nothrow__ , __leaf__));\r\n",
      "\r\n",
      "\r\n",
      "\r\n",
      "# 1 \"/usr/include/strings.h\" 1 3 4\r\n",
      "# 23 \"/usr/include/strings.h\" 3 4\r\n",
      "# 1 \"/usr/lib/gcc/x86_64-linux-gnu/9/include/stddef.h\" 1 3 4\r\n",
      "# 24 \"/usr/include/strings.h\" 2 3 4\r\n",
      "\r\n",
      "\r\n",
      "\r\n",
      "\r\n",
      "\r\n",
      "\r\n",
      "\r\n",
      "\r\n",
      "\r\n",
      "\r\n",
      "extern int bcmp (const void *__s1, const void *__s2, size_t __n)\r\n",
      "     __attribute__ ((__nothrow__ , __leaf__)) __attribute__ ((__pure__)) __attribute__ ((__nonnull__ (1, 2)));\r\n",
      "\r\n",
      "\r\n",
      "extern void bcopy (const void *__src, void *__dest, size_t __n)\r\n",
      "  __attribute__ ((__nothrow__ , __leaf__)) __attribute__ ((__nonnull__ (1, 2)));\r\n",
      "\r\n",
      "\r\n",
      "extern void bzero (void *__s, size_t __n) __attribute__ ((__nothrow__ , __leaf__)) __attribute__ ((__nonnull__ (1)));\r\n",
      "# 68 \"/usr/include/strings.h\" 3 4\r\n",
      "extern char *index (const char *__s, int __c)\r\n",
      "     __attribute__ ((__nothrow__ , __leaf__)) __attribute__ ((__pure__)) __attribute__ ((__nonnull__ (1)));\r\n",
      "# 96 \"/usr/include/strings.h\" 3 4\r\n",
      "extern char *rindex (const char *__s, int __c)\r\n",
      "     __attribute__ ((__nothrow__ , __leaf__)) __attribute__ ((__pure__)) __attribute__ ((__nonnull__ (1)));\r\n",
      "\r\n",
      "\r\n",
      "\r\n",
      "\r\n",
      "\r\n",
      "\r\n",
      "extern int ffs (int __i) __attribute__ ((__nothrow__ , __leaf__)) __attribute__ ((__const__));\r\n",
      "\r\n",
      "\r\n",
      "\r\n",
      "\r\n",
      "\r\n",
      "extern int ffsl (long int __l) __attribute__ ((__nothrow__ , __leaf__)) __attribute__ ((__const__));\r\n",
      "__extension__ extern int ffsll (long long int __ll)\r\n",
      "     __attribute__ ((__nothrow__ , __leaf__)) __attribute__ ((__const__));\r\n",
      "\r\n",
      "\r\n",
      "\r\n",
      "extern int strcasecmp (const char *__s1, const char *__s2)\r\n",
      "     __attribute__ ((__nothrow__ , __leaf__)) __attribute__ ((__pure__)) __attribute__ ((__nonnull__ (1, 2)));\r\n",
      "\r\n",
      "\r\n",
      "extern int strncasecmp (const char *__s1, const char *__s2, size_t __n)\r\n",
      "     __attribute__ ((__nothrow__ , __leaf__)) __attribute__ ((__pure__)) __attribute__ ((__nonnull__ (1, 2)));\r\n",
      "\r\n",
      "\r\n",
      "\r\n",
      "\r\n",
      "\r\n",
      "\r\n",
      "extern int strcasecmp_l (const char *__s1, const char *__s2, locale_t __loc)\r\n",
      "     __attribute__ ((__nothrow__ , __leaf__)) __attribute__ ((__pure__)) __attribute__ ((__nonnull__ (1, 2, 3)));\r\n",
      "\r\n",
      "\r\n",
      "\r\n",
      "extern int strncasecmp_l (const char *__s1, const char *__s2,\r\n",
      "     size_t __n, locale_t __loc)\r\n",
      "     __attribute__ ((__nothrow__ , __leaf__)) __attribute__ ((__pure__)) __attribute__ ((__nonnull__ (1, 2, 4)));\r\n",
      "\r\n",
      "\r\n",
      "\r\n",
      "# 433 \"/usr/include/string.h\" 2 3 4\r\n",
      "\r\n",
      "\r\n",
      "\r\n",
      "extern void explicit_bzero (void *__s, size_t __n) __attribute__ ((__nothrow__ , __leaf__)) __attribute__ ((__nonnull__ (1)));\r\n",
      "\r\n",
      "\r\n",
      "\r\n",
      "extern char *strsep (char **__restrict __stringp,\r\n",
      "       const char *__restrict __delim)\r\n",
      "     __attribute__ ((__nothrow__ , __leaf__)) __attribute__ ((__nonnull__ (1, 2)));\r\n",
      "\r\n",
      "\r\n",
      "\r\n",
      "\r\n",
      "extern char *strsignal (int __sig) __attribute__ ((__nothrow__ , __leaf__));\r\n",
      "\r\n",
      "\r\n",
      "extern char *__stpcpy (char *__restrict __dest, const char *__restrict __src)\r\n",
      "     __attribute__ ((__nothrow__ , __leaf__)) __attribute__ ((__nonnull__ (1, 2)));\r\n",
      "extern char *stpcpy (char *__restrict __dest, const char *__restrict __src)\r\n",
      "     __attribute__ ((__nothrow__ , __leaf__)) __attribute__ ((__nonnull__ (1, 2)));\r\n",
      "\r\n",
      "\r\n",
      "\r\n",
      "extern char *__stpncpy (char *__restrict __dest,\r\n",
      "   const char *__restrict __src, size_t __n)\r\n",
      "     __attribute__ ((__nothrow__ , __leaf__)) __attribute__ ((__nonnull__ (1, 2)));\r\n",
      "extern char *stpncpy (char *__restrict __dest,\r\n",
      "        const char *__restrict __src, size_t __n)\r\n",
      "     __attribute__ ((__nothrow__ , __leaf__)) __attribute__ ((__nonnull__ (1, 2)));\r\n",
      "# 499 \"/usr/include/string.h\" 3 4\r\n",
      "\r\n",
      "# 10 \"macro_example_2.c\" 2\r\n",
      "# 1 \"/usr/include/assert.h\" 1 3 4\r\n",
      "# 66 \"/usr/include/assert.h\" 3 4\r\n",
      "\r\n",
      "\r\n",
      "\r\n",
      "extern void __assert_fail (const char *__assertion, const char *__file,\r\n",
      "      unsigned int __line, const char *__function)\r\n",
      "     __attribute__ ((__nothrow__ , __leaf__)) __attribute__ ((__noreturn__));\r\n",
      "\r\n",
      "\r\n",
      "extern void __assert_perror_fail (int __errnum, const char *__file,\r\n",
      "      unsigned int __line, const char *__function)\r\n",
      "     __attribute__ ((__nothrow__ , __leaf__)) __attribute__ ((__noreturn__));\r\n",
      "\r\n",
      "\r\n",
      "\r\n",
      "\r\n",
      "extern void __assert (const char *__assertion, const char *__file, int __line)\r\n",
      "     __attribute__ ((__nothrow__ , __leaf__)) __attribute__ ((__noreturn__));\r\n",
      "\r\n",
      "\r\n",
      "\r\n",
      "# 11 \"macro_example_2.c\" 2\r\n",
      "# 36 \"macro_example_2.c\"\r\n",
      "\r\n",
      "# 36 \"macro_example_2.c\"\r\n",
      "int main() {\r\n",
      "\r\n",
      "    printf(\"9 * 9 + 1\" \" = %d\\n\", (9 * 9 + 1));;\r\n",
      "\r\n",
      "    fprintf(\r\n",
      "# 40 \"macro_example_2.c\" 3 4\r\n",
      "   stderr\r\n",
      "# 40 \"macro_example_2.c\"\r\n",
      "   , \"It is in stderr: %d\\n\", 431);\r\n",
      "\r\n",
      "    int x = 1, y = 2;\r\n",
      "    fprintf(\r\n",
      "# 43 \"macro_example_2.c\" 3 4\r\n",
      "   stderr\r\n",
      "# 43 \"macro_example_2.c\"\r\n",
      "   , \"(x, y) = (%d, %d)\\n\", x, y);\r\n",
      "    { __typeof__(x) c = (x); (x) = (y); (y) = (c); };\r\n",
      "    fprintf(\r\n",
      "# 45 \"macro_example_2.c\" 3 4\r\n",
      "   stderr\r\n",
      "# 45 \"macro_example_2.c\"\r\n",
      "   , \"(x, y) = (%d, %d)\\n\", x, y);\r\n",
      "    { char c[sizeof(x)]; memcpy(c, &x, sizeof(x)); memcpy(&x, &y, sizeof(x)); memcpy(&y, c, sizeof(x)); if (0) { x = y; y = x; } };\r\n",
      "    fprintf(\r\n",
      "# 47 \"macro_example_2.c\" 3 4\r\n",
      "   stderr\r\n",
      "# 47 \"macro_example_2.c\"\r\n",
      "   , \"(x, y) = (%d, %d)\\n\", x, y);\r\n",
      "\r\n",
      "    printf(\"sum(1, 1)\" \" = %d\\n\", (((1) + (1))));;\r\n",
      "    printf(\"sum(1, 1, 1)\" \" = %d\\n\", (((1) + (1) + (1))));;\r\n",
      "\r\n",
      "    fprintf(\r\n",
      "# 52 \"macro_example_2.c\" 3 4\r\n",
      "   stderr\r\n",
      "# 52 \"macro_example_2.c\"\r\n",
      "   , \"%s %s %d\\n\", \"macro_example_2.c\", __FUNCTION__, 52);\r\n",
      "\r\n",
      "    fprintf(\r\n",
      "# 54 \"macro_example_2.c\" 3 4\r\n",
      "   stderr\r\n",
      "# 54 \"macro_example_2.c\"\r\n",
      "   , \"macro_example_2.c\" \":\" \"54\" \" \" \"Before exit %s\\n\" \"%s\", \"\", \"\");\r\n",
      "    return 0;\r\n",
      "}\r\n"
     ]
    }
   ],
   "source": [
    "!gcc -E macro_example_2.c -o out &&  cat out"
   ]
  },
  {
   "cell_type": "markdown",
   "metadata": {},
   "source": [
    "Можно упороться и сделать себе подобие деструкторов локальных переменных в Си:"
   ]
  },
  {
   "cell_type": "code",
   "execution_count": 132,
   "metadata": {},
   "outputs": [
    {
     "data": {
      "text/markdown": [
       "Run: `gcc -fsanitize=address macro_local_vars.c -o macro_local_vars.exe`"
      ],
      "text/plain": [
       "<IPython.core.display.Markdown object>"
      ]
     },
     "metadata": {},
     "output_type": "display_data"
    },
    {
     "data": {
      "text/markdown": [
       "Run: `echo -n \"Hello123\" > a.txt`"
      ],
      "text/plain": [
       "<IPython.core.display.Markdown object>"
      ]
     },
     "metadata": {},
     "output_type": "display_data"
    },
    {
     "data": {
      "text/markdown": [
       "Run: `./macro_local_vars.exe`"
      ],
      "text/plain": [
       "<IPython.core.display.Markdown object>"
      ]
     },
     "metadata": {},
     "output_type": "display_data"
    },
    {
     "name": "stdout",
     "output_type": "stream",
     "text": [
      "Read string 'Hello123'\r\n"
     ]
    }
   ],
   "source": [
    "%%cpp macro_local_vars.c\n",
    "%run gcc -fsanitize=address macro_local_vars.c -o macro_local_vars.exe\n",
    "%run echo -n \"Hello123\" > a.txt\n",
    "%run ./macro_local_vars.exe\n",
    "\n",
    "#include <stdio.h>\n",
    "#include <stdlib.h>\n",
    "#include <unistd.h>\n",
    "#include <sys/types.h>\n",
    "#include <sys/stat.h>\n",
    "#include <fcntl.h>\n",
    "\n",
    "struct defer_record {\n",
    "    struct defer_record* previous;\n",
    "    void (*func) (void*);\n",
    "    void* arg;\n",
    "};\n",
    "\n",
    "#define _EXECUTE_DEFERRED(to) do { \\\n",
    "    while (last_defer_record != to) { \\\n",
    "        last_defer_record->func(last_defer_record->arg); \\\n",
    "        last_defer_record = last_defer_record->previous; \\\n",
    "    } \\\n",
    "} while (0)\n",
    "\n",
    "// Интересная особенность, но здесь нужна глубина раскрытия 2, чтобы __LINE__ правильно подставился\n",
    "#define _DEFER_NAME_2(line) defer_record_ ## line\n",
    "#define _DEFER_NAME(line) _DEFER_NAME_2(line)\n",
    "\n",
    "// Добавляем элемент в односвязанный список отложенных функций\n",
    "#define DEFER(func, arg) \\\n",
    "    struct defer_record _DEFER_NAME(__LINE__) = {last_defer_record, (void (*)(void*))func, (void*)arg}; \\\n",
    "    last_defer_record = &_DEFER_NAME(__LINE__);\n",
    "\n",
    "// DFB = Defer Friendly Block\n",
    "// Запоминаем начала блока, в котором может использоватсья DEFER (но не во вложенных блоках!)\n",
    "#define DFB_BEGIN \\\n",
    "    struct defer_record* first_defer_record = last_defer_record; \\\n",
    "    { \\\n",
    "        struct defer_record* last_defer_record = first_defer_record; \n",
    "\n",
    "// Конец блока (выполнение отложенных функций)\n",
    "#define DFB_END \\\n",
    "        _EXECUTE_DEFERRED(first_defer_record); \\\n",
    "    } \n",
    "\n",
    "// Запоминаем начала блока функции\n",
    "#define DFB_FUNCTION_BEGIN \\\n",
    "    struct defer_record* last_defer_record = NULL; \\\n",
    "    DFB_BEGIN \n",
    "\n",
    "// Запоминаем начала блока следующего после for, while, do\n",
    "#define DFB_BREAKABLE_BEGIN \\\n",
    "    struct defer_record* first_breakable_defer_record = last_defer_record; \\\n",
    "    DFB_BEGIN\n",
    "\n",
    "// DF = Defer Friendly\n",
    "#define DF_RETURN(value) { \\\n",
    "    _EXECUTE_DEFERRED(NULL); \\\n",
    "    return value; \\\n",
    "}\n",
    "\n",
    "#define DF_BREAK { \\\n",
    "    _EXECUTE_DEFERRED(first_breakable_defer_record); \\\n",
    "    break; \\\n",
    "} \n",
    "\n",
    "\n",
    "void func(int i) { DFB_FUNCTION_BEGIN\n",
    "    void* data = malloc(145); DEFER(free, data);\n",
    "    void* data2 = malloc(14); DEFER(free, data2);\n",
    "    if (i % 10 == 0) {\n",
    "        DF_RETURN();\n",
    "    }\n",
    "    if (i % 4 == 0) {\n",
    "        while (1) { DFB_BREAKABLE_BEGIN\n",
    "            void* data = malloc(145); DEFER(free, data);\n",
    "            if (++i > 99) {\n",
    "                DF_BREAK;\n",
    "            }\n",
    "        DFB_END }\n",
    "        \n",
    "        DF_RETURN();\n",
    "    }\n",
    "    \n",
    "DFB_END } \n",
    "\n",
    "int main() { DFB_FUNCTION_BEGIN \n",
    "    void* data = malloc(145); DEFER(free, data);\n",
    "    \n",
    "    { DFB_BEGIN   \n",
    "        void* data = malloc(145); DEFER(free, data);\n",
    "    DFB_END }\n",
    "            \n",
    "    { DFB_BEGIN   \n",
    "        int fd = open(\"a.txt\", O_RDONLY);\n",
    "        if (fd < 1) {\n",
    "            fprintf(stderr, \"Can't open file\\n\");\n",
    "            DF_RETURN(-1);\n",
    "        }\n",
    "        DEFER(close, (size_t)fd);\n",
    "        char buff[10];\n",
    "        int len = read(fd, buff, sizeof(buff) - 1);\n",
    "        buff[len] = '\\0';\n",
    "        printf(\"Read string '%s'\\n\", buff);\n",
    "    DFB_END }\n",
    "        \n",
    "    \n",
    "    for (int i = 0; i < 100; ++i) { DFB_BREAKABLE_BEGIN    \n",
    "        void* data = malloc(145); DEFER(free, data);\n",
    "        if (i % 10 == 0) { DFB_BEGIN\n",
    "            DF_BREAK;\n",
    "        DFB_END }\n",
    "    DFB_END }\n",
    "            \n",
    "    DF_RETURN(0);\n",
    "DFB_END }"
   ]
  },
  {
   "cell_type": "code",
   "execution_count": 99,
   "metadata": {},
   "outputs": [],
   "source": [
    "#!gcc -E macro_local_vars.c -o macro_local_vars_E.c && cat  macro_local_vars_E.c | tail -n 30"
   ]
  },
  {
   "cell_type": "code",
   "execution_count": null,
   "metadata": {},
   "outputs": [],
   "source": []
  },
  {
   "cell_type": "code",
   "execution_count": null,
   "metadata": {},
   "outputs": [],
   "source": []
  },
  {
   "cell_type": "code",
   "execution_count": null,
   "metadata": {},
   "outputs": [],
   "source": []
  },
  {
   "cell_type": "code",
   "execution_count": null,
   "metadata": {},
   "outputs": [],
   "source": []
  }
 ],
 "metadata": {
  "kernelspec": {
   "display_name": "Python 3",
   "language": "python",
   "name": "python3"
  },
  "language_info": {
   "codemirror_mode": {
    "name": "ipython",
    "version": 3
   },
   "file_extension": ".py",
   "mimetype": "text/x-python",
   "name": "python",
   "nbconvert_exporter": "python",
   "pygments_lexer": "ipython3",
   "version": "3.8.5"
  }
 },
 "nbformat": 4,
 "nbformat_minor": 2
}
