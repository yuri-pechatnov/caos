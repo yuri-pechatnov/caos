{
 "cells": [
  {
   "cell_type": "code",
   "execution_count": 8,
   "metadata": {},
   "outputs": [],
   "source": [
    "from IPython.core.magic import register_cell_magic\n",
    "\n",
    "@register_cell_magic\n",
    "def save_cell_as_string(string_name, cell):\n",
    "    cell = \"# \" + string_name + \"\\n\" + cell + \"\\n\"\n",
    "    globals()[string_name] = cell\n",
    "    get_ipython().run_cell(cell)"
   ]
  },
  {
   "cell_type": "code",
   "execution_count": 9,
   "metadata": {},
   "outputs": [
    {
     "data": {
      "application/javascript": [
       "// setup cpp code highlighting\n",
       "IPython.CodeCell.options_default.highlight_modes[\"text/x-c++src\"] = {'reg':[/^%%cpp/]} ;IPython.CodeCell.options_default.highlight_modes[\"text/x-cmake\"] = {'reg':[/^%%cmake/]} ;IPython.CodeCell.options_default.highlight_modes[\"text/x-sql\"] = {'reg':[/^%%sql/]} ;"
      ],
      "text/plain": [
       "<IPython.core.display.Javascript object>"
      ]
     },
     "metadata": {},
     "output_type": "display_data"
    }
   ],
   "source": [
    "%%save_cell_as_string one_liner_str\n",
    "\n",
    "get_ipython().run_cell_magic('javascript', '', \n",
    "    '// setup cpp code highlighting\\n'\n",
    "    'IPython.CodeCell.options_default.highlight_modes[\"text/x-c++src\"] = {\\'reg\\':[/^%%cpp/]} ;'\n",
    "    'IPython.CodeCell.options_default.highlight_modes[\"text/x-cmake\"] = {\\'reg\\':[/^%%cmake/]} ;'\n",
    "    'IPython.CodeCell.options_default.highlight_modes[\"text/x-sql\"] = {\\'reg\\':[/^%%sql/]} ;'\n",
    ")\n",
    "\n",
    "# creating magics\n",
    "from IPython.core.magic import register_cell_magic, register_line_magic\n",
    "from IPython.display import display, Markdown, HTML\n",
    "import argparse\n",
    "from subprocess import Popen, PIPE, STDOUT, check_output\n",
    "import html\n",
    "import random\n",
    "import sys\n",
    "import os\n",
    "import re\n",
    "import signal\n",
    "import shutil\n",
    "import shlex\n",
    "import glob\n",
    "import time\n",
    "\n",
    "@register_cell_magic\n",
    "def save_file(args_str, cell, line_comment_start=\"#\"):\n",
    "    parser = argparse.ArgumentParser()\n",
    "    parser.add_argument(\"fname\")\n",
    "    parser.add_argument(\"--ejudge-style\", action=\"store_true\")\n",
    "    parser.add_argument(\"--under-spoiler-threshold\", type=int, default=None)\n",
    "    args = parser.parse_args(args_str.split())\n",
    "    \n",
    "    cell = cell if cell[-1] == '\\n' or args.no_eof_newline else cell + \"\\n\"\n",
    "    cmds = []\n",
    "    with open(args.fname, \"w\") as f:\n",
    "        f.write(line_comment_start + \" %%cpp \" + args_str + \"\\n\")\n",
    "        for line in cell.split(\"\\n\"):\n",
    "            line_to_write = (line if not args.ejudge_style else line.rstrip()) + \"\\n\"\n",
    "            if not line.startswith(\"%\"):\n",
    "                f.write(line_to_write)\n",
    "            else:\n",
    "                f.write(line_comment_start + \" \" + line_to_write)\n",
    "                run_prefix = \"%run \"\n",
    "                md_prefix = \"%MD \"\n",
    "                comment_prefix = \"%\" + line_comment_start\n",
    "                if line.startswith(run_prefix):\n",
    "                    cmds.append(line[len(run_prefix):].strip())\n",
    "                elif line.startswith(md_prefix):\n",
    "                    cmds.append('#<MD>' + line[len(md_prefix):].strip())\n",
    "                elif line.startswith(comment_prefix):\n",
    "                    cmds.append('#' + line[len(comment_prefix):].strip())\n",
    "                else:\n",
    "                    raise Exception(\"Unknown %%save_file subcommand: '%s'\" % line)\n",
    "                \n",
    "        f.write(\"\" if not args.ejudge_style else line_comment_start + r\" line without \\n\")\n",
    "    for cmd in cmds:\n",
    "        if cmd.startswith('#'):\n",
    "            if cmd.startswith('#<MD>'):\n",
    "                display(Markdown(cmd[5:]))\n",
    "            else:\n",
    "                display(Markdown(\"\\#\\#\\#\\# `%s`\" % cmd[1:]))\n",
    "        else:\n",
    "            display(Markdown(\"Run: `%s`\" % cmd))\n",
    "            if args.under_spoiler_threshold:\n",
    "                out = check_output(cmd, stderr=STDOUT, shell=True, universal_newlines=True)\n",
    "                out = out[:-1] if out.endswith('\\n') else out\n",
    "                out = html.escape(out)\n",
    "                if len(out.split('\\n')) > args.under_spoiler_threshold:\n",
    "                    out = \"<details> <summary> output </summary> <pre><code>%s</code></pre></details>\" % out\n",
    "                elif out:\n",
    "                    out = \"<pre><code>%s</code></pre>\" % out\n",
    "                if out:\n",
    "                    display(HTML(out))\n",
    "            else:\n",
    "                get_ipython().system(cmd)\n",
    "\n",
    "@register_cell_magic\n",
    "def cpp(fname, cell):\n",
    "    save_file(fname, cell, \"//\")\n",
    "    \n",
    "@register_cell_magic\n",
    "def cmake(fname, cell):\n",
    "    save_file(fname, cell, \"#\")\n",
    "\n",
    "@register_cell_magic\n",
    "def asm(fname, cell):\n",
    "    save_file(fname, cell, \"//\")\n",
    "    \n",
    "@register_cell_magic\n",
    "def makefile(fname, cell):\n",
    "    fname = fname or \"makefile\"\n",
    "    assert fname.endswith(\"makefile\")\n",
    "    save_file(fname, cell.replace(\" \" * 4, \"\\t\"))\n",
    "        \n",
    "@register_line_magic\n",
    "def p(line):\n",
    "    line = line.strip() \n",
    "    if line[0] == '#':\n",
    "        display(Markdown(line[1:].strip()))\n",
    "    else:\n",
    "        try:\n",
    "            expr, comment = line.split(\" #\")\n",
    "            display(Markdown(\"`{} = {}`  # {}\".format(expr.strip(), eval(expr), comment.strip())))\n",
    "        except:\n",
    "            display(Markdown(\"{} = {}\".format(line, eval(line))))\n",
    "    \n",
    "    \n",
    "def show_log_file(file, return_html_string=False):\n",
    "    obj = file.replace('.', '_').replace('/', '_') + \"_obj\"\n",
    "    html_string = '''\n",
    "        <!--MD_BEGIN_FILTER-->\n",
    "        <script type=text/javascript>\n",
    "        var entrance___OBJ__ = 0;\n",
    "        var errors___OBJ__ = 0;\n",
    "        function halt__OBJ__(elem, color)\n",
    "        {\n",
    "            elem.setAttribute(\"style\", \"font-size: 14px; background: \" + color + \"; padding: 10px; border: 3px; border-radius: 5px; color: white; \");                    \n",
    "        }\n",
    "        function refresh__OBJ__()\n",
    "        {\n",
    "            entrance___OBJ__ -= 1;\n",
    "            if (entrance___OBJ__ < 0) {\n",
    "                entrance___OBJ__ = 0;\n",
    "            }\n",
    "            var elem = document.getElementById(\"__OBJ__\");\n",
    "            if (elem) {\n",
    "                var xmlhttp=new XMLHttpRequest();\n",
    "                xmlhttp.onreadystatechange=function()\n",
    "                {\n",
    "                    var elem = document.getElementById(\"__OBJ__\");\n",
    "                    console.log(!!elem, xmlhttp.readyState, xmlhttp.status, entrance___OBJ__);\n",
    "                    if (elem && xmlhttp.readyState==4) {\n",
    "                        if (xmlhttp.status==200)\n",
    "                        {\n",
    "                            errors___OBJ__ = 0;\n",
    "                            if (!entrance___OBJ__) {\n",
    "                                if (elem.innerHTML != xmlhttp.responseText) {\n",
    "                                    elem.innerHTML = xmlhttp.responseText;\n",
    "                                }\n",
    "                                if (elem.innerHTML.includes(\"Process finished.\")) {\n",
    "                                    halt__OBJ__(elem, \"#333333\");\n",
    "                                } else {\n",
    "                                    entrance___OBJ__ += 1;\n",
    "                                    console.log(\"req\");\n",
    "                                    window.setTimeout(\"refresh__OBJ__()\", 300); \n",
    "                                }\n",
    "                            }\n",
    "                            return xmlhttp.responseText;\n",
    "                        } else {\n",
    "                            errors___OBJ__ += 1;\n",
    "                            if (!entrance___OBJ__) {\n",
    "                                if (errors___OBJ__ < 6) {\n",
    "                                    entrance___OBJ__ += 1;\n",
    "                                    console.log(\"req\");\n",
    "                                    window.setTimeout(\"refresh__OBJ__()\", 300); \n",
    "                                } else {\n",
    "                                    halt__OBJ__(elem, \"#994444\");\n",
    "                                }\n",
    "                            }\n",
    "                        }\n",
    "                    }\n",
    "                }\n",
    "                xmlhttp.open(\"GET\", \"__FILE__\", true);\n",
    "                xmlhttp.setRequestHeader(\"Cache-Control\", \"no-cache\");\n",
    "                xmlhttp.send();     \n",
    "            }\n",
    "        }\n",
    "        \n",
    "        if (!entrance___OBJ__) {\n",
    "            entrance___OBJ__ += 1;\n",
    "            refresh__OBJ__(); \n",
    "        }\n",
    "        </script>\n",
    "\n",
    "        <p id=\"__OBJ__\" style=\"font-size: 14px; background: #000000; padding: 10px; border: 3px; border-radius: 5px; color: white; \">\n",
    "        </p>\n",
    "        \n",
    "        </font>\n",
    "        <!--MD_END_FILTER-->\n",
    "        <!--MD_FROM_FILE __FILE__.md -->\n",
    "        '''.replace(\"__OBJ__\", obj).replace(\"__FILE__\", file)\n",
    "    if return_html_string:\n",
    "        return html_string\n",
    "    display(HTML(html_string))\n",
    "\n",
    "    \n",
    "class TInteractiveLauncher:\n",
    "    tmp_path = \"./interactive_launcher_tmp\"\n",
    "    def __init__(self, cmd):\n",
    "        try:\n",
    "            os.mkdir(TInteractiveLauncher.tmp_path)\n",
    "        except:\n",
    "            pass\n",
    "        name = str(random.randint(0, 1e18))\n",
    "        self.inq_path = os.path.join(TInteractiveLauncher.tmp_path, name + \".inq\")\n",
    "        self.log_path = os.path.join(TInteractiveLauncher.tmp_path, name + \".log\")\n",
    "        \n",
    "        os.mkfifo(self.inq_path)\n",
    "        open(self.log_path, 'w').close()\n",
    "        open(self.log_path + \".md\", 'w').close()\n",
    "\n",
    "        self.pid = os.fork()\n",
    "        if self.pid == -1:\n",
    "            print(\"Error\")\n",
    "        if self.pid == 0:\n",
    "            exe_cands = glob.glob(\"../tools/launcher.py\") + glob.glob(\"../../tools/launcher.py\")\n",
    "            assert(len(exe_cands) == 1)\n",
    "            assert(os.execvp(\"python3\", [\"python3\", exe_cands[0], \"-l\", self.log_path, \"-i\", self.inq_path, \"-c\", cmd]) == 0)\n",
    "        self.inq_f = open(self.inq_path, \"w\")\n",
    "        interactive_launcher_opened_set.add(self.pid)\n",
    "        show_log_file(self.log_path)\n",
    "\n",
    "    def write(self, s):\n",
    "        s = s.encode()\n",
    "        assert len(s) == os.write(self.inq_f.fileno(), s)\n",
    "        \n",
    "    def get_pid(self):\n",
    "        n = 100\n",
    "        for i in range(n):\n",
    "            try:\n",
    "                return int(re.findall(r\"PID = (\\d+)\", open(self.log_path).readline())[0])\n",
    "            except:\n",
    "                if i + 1 == n:\n",
    "                    raise\n",
    "                time.sleep(0.1)\n",
    "        \n",
    "    def input_queue_path(self):\n",
    "        return self.inq_path\n",
    "        \n",
    "    def wait_stop(self, timeout):\n",
    "        for i in range(int(timeout * 10)):\n",
    "            wpid, status = os.waitpid(self.pid, os.WNOHANG)\n",
    "            if wpid != 0:\n",
    "                return True\n",
    "            time.sleep(0.1)\n",
    "        return False\n",
    "        \n",
    "    def close(self, timeout=3):\n",
    "        self.inq_f.close()\n",
    "        if not self.wait_stop(timeout):\n",
    "            os.kill(self.get_pid(), signal.SIGKILL)\n",
    "            os.waitpid(self.pid, 0)\n",
    "        os.remove(self.inq_path)\n",
    "        # os.remove(self.log_path)\n",
    "        self.inq_path = None\n",
    "        self.log_path = None \n",
    "        interactive_launcher_opened_set.remove(self.pid)\n",
    "        self.pid = None\n",
    "        \n",
    "    @staticmethod\n",
    "    def terminate_all():\n",
    "        if \"interactive_launcher_opened_set\" not in globals():\n",
    "            globals()[\"interactive_launcher_opened_set\"] = set()\n",
    "        global interactive_launcher_opened_set\n",
    "        for pid in interactive_launcher_opened_set:\n",
    "            print(\"Terminate pid=\" + str(pid), file=sys.stderr)\n",
    "            os.kill(pid, signal.SIGKILL)\n",
    "            os.waitpid(pid, 0)\n",
    "        interactive_launcher_opened_set = set()\n",
    "        if os.path.exists(TInteractiveLauncher.tmp_path):\n",
    "            shutil.rmtree(TInteractiveLauncher.tmp_path)\n",
    "    \n",
    "TInteractiveLauncher.terminate_all()\n",
    "   \n",
    "yandex_metrica_allowed = bool(globals().get(\"yandex_metrica_allowed\", False))\n",
    "if yandex_metrica_allowed:\n",
    "    display(HTML('''<!-- YANDEX_METRICA_BEGIN -->\n",
    "    <script type=\"text/javascript\" >\n",
    "       (function(m,e,t,r,i,k,a){m[i]=m[i]||function(){(m[i].a=m[i].a||[]).push(arguments)};\n",
    "       m[i].l=1*new Date();k=e.createElement(t),a=e.getElementsByTagName(t)[0],k.async=1,k.src=r,a.parentNode.insertBefore(k,a)})\n",
    "       (window, document, \"script\", \"https://mc.yandex.ru/metrika/tag.js\", \"ym\");\n",
    "\n",
    "       ym(59260609, \"init\", {\n",
    "            clickmap:true,\n",
    "            trackLinks:true,\n",
    "            accurateTrackBounce:true\n",
    "       });\n",
    "    </script>\n",
    "    <noscript><div><img src=\"https://mc.yandex.ru/watch/59260609\" style=\"position:absolute; left:-9999px;\" alt=\"\" /></div></noscript>\n",
    "    <!-- YANDEX_METRICA_END -->'''))\n",
    "\n",
    "def make_oneliner():\n",
    "    html_text = '(\"В этот ноутбук встроен код Яндекс Метрики для сбора статистики использований. Если вы не хотите, чтобы по вам собиралась статистика, исправьте: yandex_metrica_allowed = False\" if yandex_metrica_allowed else \"\")'\n",
    "    html_text += ' + \"<\"\"!-- MAGICS_SETUP_PRINTING_END -->\"'\n",
    "    return ''.join([\n",
    "        '# look at tools/set_up_magics.ipynb\\n',\n",
    "        'yandex_metrica_allowed = True ; get_ipython().run_cell(%s);' % repr(one_liner_str),\n",
    "        'display(HTML(%s))' % html_text,\n",
    "        ' #''MAGICS_SETUP_END'\n",
    "    ])\n",
    "       "
   ]
  },
  {
   "cell_type": "code",
   "execution_count": 10,
   "metadata": {
    "scrolled": false
   },
   "outputs": [
    {
     "name": "stdout",
     "output_type": "stream",
     "text": [
      "# look at tools/set_up_magics.ipynb\n",
      "yandex_metrica_allowed = True ; get_ipython().run_cell('# one_liner_str\\n\\nget_ipython().run_cell_magic(\\'javascript\\', \\'\\', \\n    \\'// setup cpp code highlighting\\\\n\\'\\n    \\'IPython.CodeCell.options_default.highlight_modes[\"text/x-c++src\"] = {\\\\\\'reg\\\\\\':[/^%%cpp/]} ;\\'\\n    \\'IPython.CodeCell.options_default.highlight_modes[\"text/x-cmake\"] = {\\\\\\'reg\\\\\\':[/^%%cmake/]} ;\\'\\n    \\'IPython.CodeCell.options_default.highlight_modes[\"text/x-sql\"] = {\\\\\\'reg\\\\\\':[/^%%sql/]} ;\\'\\n)\\n\\n# creating magics\\nfrom IPython.core.magic import register_cell_magic, register_line_magic\\nfrom IPython.display import display, Markdown, HTML\\nimport argparse\\nfrom subprocess import Popen, PIPE, STDOUT, check_output\\nimport html\\nimport random\\nimport sys\\nimport os\\nimport re\\nimport signal\\nimport shutil\\nimport shlex\\nimport glob\\nimport time\\n\\n@register_cell_magic\\ndef save_file(args_str, cell, line_comment_start=\"#\"):\\n    parser = argparse.ArgumentParser()\\n    parser.add_argument(\"fname\")\\n    parser.add_argument(\"--ejudge-style\", action=\"store_true\")\\n    parser.add_argument(\"--under-spoiler-threshold\", type=int, default=None)\\n    args = parser.parse_args(args_str.split())\\n    \\n    cell = cell if cell[-1] == \\'\\\\n\\' or args.no_eof_newline else cell + \"\\\\n\"\\n    cmds = []\\n    with open(args.fname, \"w\") as f:\\n        f.write(line_comment_start + \" %%cpp \" + args_str + \"\\\\n\")\\n        for line in cell.split(\"\\\\n\"):\\n            line_to_write = (line if not args.ejudge_style else line.rstrip()) + \"\\\\n\"\\n            if not line.startswith(\"%\"):\\n                f.write(line_to_write)\\n            else:\\n                f.write(line_comment_start + \" \" + line_to_write)\\n                run_prefix = \"%run \"\\n                md_prefix = \"%MD \"\\n                comment_prefix = \"%\" + line_comment_start\\n                if line.startswith(run_prefix):\\n                    cmds.append(line[len(run_prefix):].strip())\\n                elif line.startswith(md_prefix):\\n                    cmds.append(\\'#<MD>\\' + line[len(md_prefix):].strip())\\n                elif line.startswith(comment_prefix):\\n                    cmds.append(\\'#\\' + line[len(comment_prefix):].strip())\\n                else:\\n                    raise Exception(\"Unknown %%save_file subcommand: \\'%s\\'\" % line)\\n                \\n        f.write(\"\" if not args.ejudge_style else line_comment_start + r\" line without \\\\n\")\\n    for cmd in cmds:\\n        if cmd.startswith(\\'#\\'):\\n            if cmd.startswith(\\'#<MD>\\'):\\n                display(Markdown(cmd[5:]))\\n            else:\\n                display(Markdown(\"\\\\#\\\\#\\\\#\\\\# `%s`\" % cmd[1:]))\\n        else:\\n            display(Markdown(\"Run: `%s`\" % cmd))\\n            if args.under_spoiler_threshold:\\n                out = check_output(cmd, stderr=STDOUT, shell=True, universal_newlines=True)\\n                out = out[:-1] if out.endswith(\\'\\\\n\\') else out\\n                out = html.escape(out)\\n                if len(out.split(\\'\\\\n\\')) > args.under_spoiler_threshold:\\n                    out = \"<details> <summary> output </summary> <pre><code>%s</code></pre></details>\" % out\\n                elif out:\\n                    out = \"<pre><code>%s</code></pre>\" % out\\n                if out:\\n                    display(HTML(out))\\n            else:\\n                get_ipython().system(cmd)\\n\\n@register_cell_magic\\ndef cpp(fname, cell):\\n    save_file(fname, cell, \"//\")\\n    \\n@register_cell_magic\\ndef cmake(fname, cell):\\n    save_file(fname, cell, \"#\")\\n\\n@register_cell_magic\\ndef asm(fname, cell):\\n    save_file(fname, cell, \"//\")\\n    \\n@register_cell_magic\\ndef makefile(fname, cell):\\n    fname = fname or \"makefile\"\\n    assert fname.endswith(\"makefile\")\\n    save_file(fname, cell.replace(\" \" * 4, \"\\\\t\"))\\n        \\n@register_line_magic\\ndef p(line):\\n    line = line.strip() \\n    if line[0] == \\'#\\':\\n        display(Markdown(line[1:].strip()))\\n    else:\\n        try:\\n            expr, comment = line.split(\" #\")\\n            display(Markdown(\"`{} = {}`  # {}\".format(expr.strip(), eval(expr), comment.strip())))\\n        except:\\n            display(Markdown(\"{} = {}\".format(line, eval(line))))\\n    \\n    \\ndef show_log_file(file, return_html_string=False):\\n    obj = file.replace(\\'.\\', \\'_\\').replace(\\'/\\', \\'_\\') + \"_obj\"\\n    html_string = \\'\\'\\'\\n        <!--MD_BEGIN_FILTER-->\\n        <script type=text/javascript>\\n        var entrance___OBJ__ = 0;\\n        var errors___OBJ__ = 0;\\n        function halt__OBJ__(elem, color)\\n        {\\n            elem.setAttribute(\"style\", \"font-size: 14px; background: \" + color + \"; padding: 10px; border: 3px; border-radius: 5px; color: white; \");                    \\n        }\\n        function refresh__OBJ__()\\n        {\\n            entrance___OBJ__ -= 1;\\n            if (entrance___OBJ__ < 0) {\\n                entrance___OBJ__ = 0;\\n            }\\n            var elem = document.getElementById(\"__OBJ__\");\\n            if (elem) {\\n                var xmlhttp=new XMLHttpRequest();\\n                xmlhttp.onreadystatechange=function()\\n                {\\n                    var elem = document.getElementById(\"__OBJ__\");\\n                    console.log(!!elem, xmlhttp.readyState, xmlhttp.status, entrance___OBJ__);\\n                    if (elem && xmlhttp.readyState==4) {\\n                        if (xmlhttp.status==200)\\n                        {\\n                            errors___OBJ__ = 0;\\n                            if (!entrance___OBJ__) {\\n                                if (elem.innerHTML != xmlhttp.responseText) {\\n                                    elem.innerHTML = xmlhttp.responseText;\\n                                }\\n                                if (elem.innerHTML.includes(\"Process finished.\")) {\\n                                    halt__OBJ__(elem, \"#333333\");\\n                                } else {\\n                                    entrance___OBJ__ += 1;\\n                                    console.log(\"req\");\\n                                    window.setTimeout(\"refresh__OBJ__()\", 300); \\n                                }\\n                            }\\n                            return xmlhttp.responseText;\\n                        } else {\\n                            errors___OBJ__ += 1;\\n                            if (!entrance___OBJ__) {\\n                                if (errors___OBJ__ < 6) {\\n                                    entrance___OBJ__ += 1;\\n                                    console.log(\"req\");\\n                                    window.setTimeout(\"refresh__OBJ__()\", 300); \\n                                } else {\\n                                    halt__OBJ__(elem, \"#994444\");\\n                                }\\n                            }\\n                        }\\n                    }\\n                }\\n                xmlhttp.open(\"GET\", \"__FILE__\", true);\\n                xmlhttp.setRequestHeader(\"Cache-Control\", \"no-cache\");\\n                xmlhttp.send();     \\n            }\\n        }\\n        \\n        if (!entrance___OBJ__) {\\n            entrance___OBJ__ += 1;\\n            refresh__OBJ__(); \\n        }\\n        </script>\\n\\n        <p id=\"__OBJ__\" style=\"font-size: 14px; background: #000000; padding: 10px; border: 3px; border-radius: 5px; color: white; \">\\n        </p>\\n        \\n        </font>\\n        <!--MD_END_FILTER-->\\n        <!--MD_FROM_FILE __FILE__.md -->\\n        \\'\\'\\'.replace(\"__OBJ__\", obj).replace(\"__FILE__\", file)\\n    if return_html_string:\\n        return html_string\\n    display(HTML(html_string))\\n\\n    \\nclass TInteractiveLauncher:\\n    tmp_path = \"./interactive_launcher_tmp\"\\n    def __init__(self, cmd):\\n        try:\\n            os.mkdir(TInteractiveLauncher.tmp_path)\\n        except:\\n            pass\\n        name = str(random.randint(0, 1e18))\\n        self.inq_path = os.path.join(TInteractiveLauncher.tmp_path, name + \".inq\")\\n        self.log_path = os.path.join(TInteractiveLauncher.tmp_path, name + \".log\")\\n        \\n        os.mkfifo(self.inq_path)\\n        open(self.log_path, \\'w\\').close()\\n        open(self.log_path + \".md\", \\'w\\').close()\\n\\n        self.pid = os.fork()\\n        if self.pid == -1:\\n            print(\"Error\")\\n        if self.pid == 0:\\n            exe_cands = glob.glob(\"../tools/launcher.py\") + glob.glob(\"../../tools/launcher.py\")\\n            assert(len(exe_cands) == 1)\\n            assert(os.execvp(\"python3\", [\"python3\", exe_cands[0], \"-l\", self.log_path, \"-i\", self.inq_path, \"-c\", cmd]) == 0)\\n        self.inq_f = open(self.inq_path, \"w\")\\n        interactive_launcher_opened_set.add(self.pid)\\n        show_log_file(self.log_path)\\n\\n    def write(self, s):\\n        s = s.encode()\\n        assert len(s) == os.write(self.inq_f.fileno(), s)\\n        \\n    def get_pid(self):\\n        n = 100\\n        for i in range(n):\\n            try:\\n                return int(re.findall(r\"PID = (\\\\d+)\", open(self.log_path).readline())[0])\\n            except:\\n                if i + 1 == n:\\n                    raise\\n                time.sleep(0.1)\\n        \\n    def input_queue_path(self):\\n        return self.inq_path\\n        \\n    def wait_stop(self, timeout):\\n        for i in range(int(timeout * 10)):\\n            wpid, status = os.waitpid(self.pid, os.WNOHANG)\\n            if wpid != 0:\\n                return True\\n            time.sleep(0.1)\\n        return False\\n        \\n    def close(self, timeout=3):\\n        self.inq_f.close()\\n        if not self.wait_stop(timeout):\\n            os.kill(self.get_pid(), signal.SIGKILL)\\n            os.waitpid(self.pid, 0)\\n        os.remove(self.inq_path)\\n        # os.remove(self.log_path)\\n        self.inq_path = None\\n        self.log_path = None \\n        interactive_launcher_opened_set.remove(self.pid)\\n        self.pid = None\\n        \\n    @staticmethod\\n    def terminate_all():\\n        if \"interactive_launcher_opened_set\" not in globals():\\n            globals()[\"interactive_launcher_opened_set\"] = set()\\n        global interactive_launcher_opened_set\\n        for pid in interactive_launcher_opened_set:\\n            print(\"Terminate pid=\" + str(pid), file=sys.stderr)\\n            os.kill(pid, signal.SIGKILL)\\n            os.waitpid(pid, 0)\\n        interactive_launcher_opened_set = set()\\n        if os.path.exists(TInteractiveLauncher.tmp_path):\\n            shutil.rmtree(TInteractiveLauncher.tmp_path)\\n    \\nTInteractiveLauncher.terminate_all()\\n   \\nyandex_metrica_allowed = bool(globals().get(\"yandex_metrica_allowed\", False))\\nif yandex_metrica_allowed:\\n    display(HTML(\\'\\'\\'<!-- YANDEX_METRICA_BEGIN -->\\n    <script type=\"text/javascript\" >\\n       (function(m,e,t,r,i,k,a){m[i]=m[i]||function(){(m[i].a=m[i].a||[]).push(arguments)};\\n       m[i].l=1*new Date();k=e.createElement(t),a=e.getElementsByTagName(t)[0],k.async=1,k.src=r,a.parentNode.insertBefore(k,a)})\\n       (window, document, \"script\", \"https://mc.yandex.ru/metrika/tag.js\", \"ym\");\\n\\n       ym(59260609, \"init\", {\\n            clickmap:true,\\n            trackLinks:true,\\n            accurateTrackBounce:true\\n       });\\n    </script>\\n    <noscript><div><img src=\"https://mc.yandex.ru/watch/59260609\" style=\"position:absolute; left:-9999px;\" alt=\"\" /></div></noscript>\\n    <!-- YANDEX_METRICA_END -->\\'\\'\\'))\\n\\ndef make_oneliner():\\n    html_text = \\'(\"В этот ноутбук встроен код Яндекс Метрики для сбора статистики использований. Если вы не хотите, чтобы по вам собиралась статистика, исправьте: yandex_metrica_allowed = False\" if yandex_metrica_allowed else \"\")\\'\\n    html_text += \\' + \"<\"\"!-- MAGICS_SETUP_PRINTING_END -->\"\\'\\n    return \\'\\'.join([\\n        \\'# look at tools/set_up_magics.ipynb\\\\n\\',\\n        \\'yandex_metrica_allowed = True ; get_ipython().run_cell(%s);\\' % repr(one_liner_str),\\n        \\'display(HTML(%s))\\' % html_text,\\n        \\' #\\'\\'MAGICS_SETUP_END\\'\\n    ])\\n       \\n\\n');display(HTML((\"В этот ноутбук встроен код Яндекс Метрики для сбора статистики использований. Если вы не хотите, чтобы по вам собиралась статистика, исправьте: yandex_metrica_allowed = False\" if yandex_metrica_allowed else \"\") + \"<\"\"!-- MAGICS_SETUP_PRINTING_END -->\")) #MAGICS_SETUP_END\n"
     ]
    }
   ],
   "source": [
    "print(make_oneliner())\n"
   ]
  },
  {
   "cell_type": "code",
   "execution_count": 11,
   "metadata": {},
   "outputs": [
    {
     "data": {
      "text/markdown": [
       "# Hello"
      ],
      "text/plain": [
       "<IPython.core.display.Markdown object>"
      ]
     },
     "metadata": {},
     "output_type": "display_data"
    }
   ],
   "source": [
    "%%save_file test.a\n",
    "%MD # Hello"
   ]
  },
  {
   "cell_type": "code",
   "execution_count": 12,
   "metadata": {},
   "outputs": [],
   "source": [
    "%%save_file launcher.py\n",
    "\n",
    "import argparse\n",
    "parser = argparse.ArgumentParser()\n",
    "parser.add_argument(\"-i\", dest=\"queue_in\")\n",
    "parser.add_argument(\"-c\", dest=\"command\")\n",
    "parser.add_argument(\"-l\", dest=\"log_file\")\n",
    "args = parser.parse_args()\n",
    "\n",
    "def put_line(file, t, line):\n",
    "    color = {\"O\": \"white\", \"E\": \"red\", \"I\": \"yellow\", \"L\": \"orange\"}[t]\n",
    "    fmt_md = '{t} | {line}'\n",
    "    if t == 'L':\n",
    "        fmt_s = '<font style=\"color: {color};\"> {line} </font> </br>\\n'\n",
    "    else:\n",
    "        fmt_s = '<tt style=\"color: {color};\"><b>{t}</b></tt>&nbsp;<font style=\"font-size: 1.6em; line-height: 0.0em; \">|</font> {line} </br>\\n'\n",
    "    with open(file, \"a\") as f:\n",
    "        f.write(fmt_s.format(color=color, t=t, line=line))\n",
    "    with open(file + \".md\", \"a\") as f:\n",
    "        f.write(fmt_md.format(t=t, line=line.rstrip() + \"\\n\"))\n",
    "\n",
    "try:\n",
    "    import os\n",
    "    import sys\n",
    "    from subprocess import Popen, PIPE\n",
    "    import time\n",
    "    import fcntl\n",
    "    import errno\n",
    "\n",
    "    def make_nonblock(fd):\n",
    "        fl = fcntl.fcntl(fd, fcntl.F_GETFL)\n",
    "        fcntl.fcntl(fd, fcntl.F_SETFL, fl | os.O_NONBLOCK)\n",
    "        return fd\n",
    "    \n",
    "    os.truncate(args.log_file, 0)\n",
    "\n",
    "    p = Popen([\"bash\", \"-c\", args.command], stdin=PIPE, stdout=PIPE, stderr=PIPE)\n",
    "    stdin_fd = make_nonblock(p.stdin.fileno())\n",
    "    stdout_fd = make_nonblock(p.stdout.fileno())\n",
    "    stderr_fd = make_nonblock(p.stderr.fileno())\n",
    "    \n",
    "    put_line(args.log_file, \"L\", \"Process started. PID = {}\".format(p.pid))\n",
    "    \n",
    "    queue_in = open(args.queue_in, \"r\")\n",
    "    queue_in_fd = make_nonblock(queue_in.fileno())\n",
    "    queue_in_line = \"\"\n",
    "    \n",
    "    while True:\n",
    "#         put_line(args.log_file, \"L\", \"iteration\")\n",
    "        wpid, status = os.waitpid(p.pid, os.WNOHANG)\n",
    "        \n",
    "        active_output = True\n",
    "        while active_output:\n",
    "            active_output = False\n",
    "            try:\n",
    "                line = p.stdout.readline()\n",
    "                if len(line) > 0:\n",
    "                    put_line(args.log_file, \"O\", line[:-1].decode(\"utf-8\"))\n",
    "                    active_output = True\n",
    "            except:\n",
    "                pass\n",
    "            try:\n",
    "                line = p.stderr.readline()\n",
    "                if len(line) > 0:\n",
    "                    put_line(args.log_file, \"E\", line[:-1].decode(\"utf-8\"))\n",
    "                    active_output = True\n",
    "            except:\n",
    "                pass\n",
    "        if queue_in_fd >= 0:\n",
    "            try:\n",
    "                s = os.read(queue_in_fd, 10000).decode(\"utf-8\")\n",
    "                if len(s) == 0:\n",
    "                    queue_in_fd = -1\n",
    "                else:\n",
    "                    queue_in_line += s\n",
    "            except IOError as e:\n",
    "                if e.errno != errno.EAGAIN:\n",
    "                    put_line(args.log_file, \"L\", \"FError in reading: \" + str(e))\n",
    "                pass\n",
    "        if queue_in_line.find('\\n') != -1 or (len(queue_in_line) > 0 and queue_in_fd < 0):\n",
    "            try:\n",
    "                if queue_in_line.find('\\n') != -1:\n",
    "                    line, queue_in_line = queue_in_line.split('\\n', 1)\n",
    "                    line += '\\n'\n",
    "                else:\n",
    "                    line, queue_in_line = queue_in_line, \"\"\n",
    "                put_line(args.log_file, \"I\", line)\n",
    "                l = os.write(stdin_fd, line.encode())\n",
    "                assert(l == len(line))\n",
    "            except Exception as e:\n",
    "                put_line(args.log_file, \"L\", str(e))\n",
    "                pass\n",
    "        \n",
    "        if queue_in_fd < 0 and len(queue_in_line) == 0 and stdin_fd >= 0:\n",
    "            os.close(stdin_fd)\n",
    "            stdin_fd = -1\n",
    "        \n",
    "        if wpid != 0:\n",
    "            report = \"???\"\n",
    "            if os.WIFEXITED(status):\n",
    "                report = \"Process finished. Exit code {}\".format(os.WEXITSTATUS(status)) \n",
    "            if os.WIFSIGNALED(status):\n",
    "                report = \"Process finished. Got signal {}\".format(os.WTERMSIG(status)) \n",
    "            break\n",
    "        time.sleep(0.1)\n",
    "    put_line(args.log_file, \"L\", report)\n",
    "except Exception as e:\n",
    "    put_line(args.log_file, \"L\", str(e))"
   ]
  },
  {
   "cell_type": "code",
   "execution_count": 13,
   "metadata": {},
   "outputs": [
    {
     "name": "stdout",
     "output_type": "stream",
     "text": [
      "11\n"
     ]
    }
   ],
   "source": [
    "import errno\n",
    "print(errno.EAGAIN)"
   ]
  },
  {
   "cell_type": "code",
   "execution_count": 14,
   "metadata": {},
   "outputs": [
    {
     "data": {
      "text/html": [
       "\n",
       "        <!--MD_BEGIN_FILTER-->\n",
       "        <script type=text/javascript>\n",
       "        var entrance___interactive_launcher_tmp_501681133346897704_log_obj = 0;\n",
       "        var errors___interactive_launcher_tmp_501681133346897704_log_obj = 0;\n",
       "        function halt__interactive_launcher_tmp_501681133346897704_log_obj(elem, color)\n",
       "        {\n",
       "            elem.setAttribute(\"style\", \"font-size: 14px; background: \" + color + \"; padding: 10px; border: 3px; border-radius: 5px; color: white; \");                    \n",
       "        }\n",
       "        function refresh__interactive_launcher_tmp_501681133346897704_log_obj()\n",
       "        {\n",
       "            entrance___interactive_launcher_tmp_501681133346897704_log_obj -= 1;\n",
       "            if (entrance___interactive_launcher_tmp_501681133346897704_log_obj < 0) {\n",
       "                entrance___interactive_launcher_tmp_501681133346897704_log_obj = 0;\n",
       "            }\n",
       "            var elem = document.getElementById(\"__interactive_launcher_tmp_501681133346897704_log_obj\");\n",
       "            if (elem) {\n",
       "                var xmlhttp=new XMLHttpRequest();\n",
       "                xmlhttp.onreadystatechange=function()\n",
       "                {\n",
       "                    var elem = document.getElementById(\"__interactive_launcher_tmp_501681133346897704_log_obj\");\n",
       "                    console.log(!!elem, xmlhttp.readyState, xmlhttp.status, entrance___interactive_launcher_tmp_501681133346897704_log_obj);\n",
       "                    if (elem && xmlhttp.readyState==4) {\n",
       "                        if (xmlhttp.status==200)\n",
       "                        {\n",
       "                            errors___interactive_launcher_tmp_501681133346897704_log_obj = 0;\n",
       "                            if (!entrance___interactive_launcher_tmp_501681133346897704_log_obj) {\n",
       "                                if (elem.innerHTML != xmlhttp.responseText) {\n",
       "                                    elem.innerHTML = xmlhttp.responseText;\n",
       "                                }\n",
       "                                if (elem.innerHTML.includes(\"Process finished.\")) {\n",
       "                                    halt__interactive_launcher_tmp_501681133346897704_log_obj(elem, \"#333333\");\n",
       "                                } else {\n",
       "                                    entrance___interactive_launcher_tmp_501681133346897704_log_obj += 1;\n",
       "                                    console.log(\"req\");\n",
       "                                    window.setTimeout(\"refresh__interactive_launcher_tmp_501681133346897704_log_obj()\", 300); \n",
       "                                }\n",
       "                            }\n",
       "                            return xmlhttp.responseText;\n",
       "                        } else {\n",
       "                            errors___interactive_launcher_tmp_501681133346897704_log_obj += 1;\n",
       "                            if (!entrance___interactive_launcher_tmp_501681133346897704_log_obj) {\n",
       "                                if (errors___interactive_launcher_tmp_501681133346897704_log_obj < 6) {\n",
       "                                    entrance___interactive_launcher_tmp_501681133346897704_log_obj += 1;\n",
       "                                    console.log(\"req\");\n",
       "                                    window.setTimeout(\"refresh__interactive_launcher_tmp_501681133346897704_log_obj()\", 300); \n",
       "                                } else {\n",
       "                                    halt__interactive_launcher_tmp_501681133346897704_log_obj(elem, \"#994444\");\n",
       "                                }\n",
       "                            }\n",
       "                        }\n",
       "                    }\n",
       "                }\n",
       "                xmlhttp.open(\"GET\", \"./interactive_launcher_tmp/501681133346897704.log\", true);\n",
       "                xmlhttp.setRequestHeader(\"Cache-Control\", \"no-cache\");\n",
       "                xmlhttp.send();     \n",
       "            }\n",
       "        }\n",
       "        \n",
       "        if (!entrance___interactive_launcher_tmp_501681133346897704_log_obj) {\n",
       "            entrance___interactive_launcher_tmp_501681133346897704_log_obj += 1;\n",
       "            refresh__interactive_launcher_tmp_501681133346897704_log_obj(); \n",
       "        }\n",
       "        </script>\n",
       "\n",
       "        <p id=\"__interactive_launcher_tmp_501681133346897704_log_obj\" style=\"font-size: 14px; background: #000000; padding: 10px; border: 3px; border-radius: 5px; color: white; \">\n",
       "        </p>\n",
       "        \n",
       "        </font>\n",
       "        <!--MD_END_FILTER-->\n",
       "        <!--MD_FROM_FILE ./interactive_launcher_tmp/501681133346897704.log.md -->\n",
       "        "
      ],
      "text/plain": [
       "<IPython.core.display.HTML object>"
      ]
     },
     "metadata": {},
     "output_type": "display_data"
    }
   ],
   "source": [
    "a = TInteractiveLauncher(\"echo 1 ; echo 2 1>&2 ; read XX ; echo \\\"A${XX}B\\\" \")"
   ]
  },
  {
   "cell_type": "code",
   "execution_count": 15,
   "metadata": {},
   "outputs": [],
   "source": [
    "a.write(\"hoho!\\n\")\n",
    "a.close()"
   ]
  },
  {
   "cell_type": "code",
   "execution_count": 16,
   "metadata": {},
   "outputs": [],
   "source": [
    "#display(Markdown(open(\"./interactive_launcher_tmp/159341120905617190.log.md\").read()))"
   ]
  },
  {
   "cell_type": "code",
   "execution_count": 17,
   "metadata": {},
   "outputs": [
    {
     "name": "stdout",
     "output_type": "stream",
     "text": [
      "Help on method system_piped in module ipykernel.zmqshell:\n",
      "\n",
      "system_piped(cmd) method of ipykernel.zmqshell.ZMQInteractiveShell instance\n",
      "    Call the given cmd in a subprocess, piping stdout/err\n",
      "    \n",
      "    Parameters\n",
      "    ----------\n",
      "    cmd : str\n",
      "      Command to execute (can not end in '&', as background processes are\n",
      "      not supported.  Should not be a command that expects input\n",
      "      other than simple text.\n",
      "\n"
     ]
    }
   ],
   "source": [
    "help(get_ipython().system)"
   ]
  },
  {
   "cell_type": "code",
   "execution_count": 18,
   "metadata": {},
   "outputs": [
    {
     "data": {
      "text/html": [
       "\n",
       "        <!--MD_BEGIN_FILTER-->\n",
       "        <script type=text/javascript>\n",
       "        var entrance___interactive_launcher_tmp_596086496539636965_log_obj = 0;\n",
       "        var errors___interactive_launcher_tmp_596086496539636965_log_obj = 0;\n",
       "        function halt__interactive_launcher_tmp_596086496539636965_log_obj(elem, color)\n",
       "        {\n",
       "            elem.setAttribute(\"style\", \"font-size: 14px; background: \" + color + \"; padding: 10px; border: 3px; border-radius: 5px; color: white; \");                    \n",
       "        }\n",
       "        function refresh__interactive_launcher_tmp_596086496539636965_log_obj()\n",
       "        {\n",
       "            entrance___interactive_launcher_tmp_596086496539636965_log_obj -= 1;\n",
       "            if (entrance___interactive_launcher_tmp_596086496539636965_log_obj < 0) {\n",
       "                entrance___interactive_launcher_tmp_596086496539636965_log_obj = 0;\n",
       "            }\n",
       "            var elem = document.getElementById(\"__interactive_launcher_tmp_596086496539636965_log_obj\");\n",
       "            if (elem) {\n",
       "                var xmlhttp=new XMLHttpRequest();\n",
       "                xmlhttp.onreadystatechange=function()\n",
       "                {\n",
       "                    var elem = document.getElementById(\"__interactive_launcher_tmp_596086496539636965_log_obj\");\n",
       "                    console.log(!!elem, xmlhttp.readyState, xmlhttp.status, entrance___interactive_launcher_tmp_596086496539636965_log_obj);\n",
       "                    if (elem && xmlhttp.readyState==4) {\n",
       "                        if (xmlhttp.status==200)\n",
       "                        {\n",
       "                            errors___interactive_launcher_tmp_596086496539636965_log_obj = 0;\n",
       "                            if (!entrance___interactive_launcher_tmp_596086496539636965_log_obj) {\n",
       "                                if (elem.innerHTML != xmlhttp.responseText) {\n",
       "                                    elem.innerHTML = xmlhttp.responseText;\n",
       "                                }\n",
       "                                if (elem.innerHTML.includes(\"Process finished.\")) {\n",
       "                                    halt__interactive_launcher_tmp_596086496539636965_log_obj(elem, \"#333333\");\n",
       "                                } else {\n",
       "                                    entrance___interactive_launcher_tmp_596086496539636965_log_obj += 1;\n",
       "                                    console.log(\"req\");\n",
       "                                    window.setTimeout(\"refresh__interactive_launcher_tmp_596086496539636965_log_obj()\", 300); \n",
       "                                }\n",
       "                            }\n",
       "                            return xmlhttp.responseText;\n",
       "                        } else {\n",
       "                            errors___interactive_launcher_tmp_596086496539636965_log_obj += 1;\n",
       "                            if (!entrance___interactive_launcher_tmp_596086496539636965_log_obj) {\n",
       "                                if (errors___interactive_launcher_tmp_596086496539636965_log_obj < 6) {\n",
       "                                    entrance___interactive_launcher_tmp_596086496539636965_log_obj += 1;\n",
       "                                    console.log(\"req\");\n",
       "                                    window.setTimeout(\"refresh__interactive_launcher_tmp_596086496539636965_log_obj()\", 300); \n",
       "                                } else {\n",
       "                                    halt__interactive_launcher_tmp_596086496539636965_log_obj(elem, \"#994444\");\n",
       "                                }\n",
       "                            }\n",
       "                        }\n",
       "                    }\n",
       "                }\n",
       "                xmlhttp.open(\"GET\", \"./interactive_launcher_tmp/596086496539636965.log\", true);\n",
       "                xmlhttp.setRequestHeader(\"Cache-Control\", \"no-cache\");\n",
       "                xmlhttp.send();     \n",
       "            }\n",
       "        }\n",
       "        \n",
       "        if (!entrance___interactive_launcher_tmp_596086496539636965_log_obj) {\n",
       "            entrance___interactive_launcher_tmp_596086496539636965_log_obj += 1;\n",
       "            refresh__interactive_launcher_tmp_596086496539636965_log_obj(); \n",
       "        }\n",
       "        </script>\n",
       "\n",
       "        <p id=\"__interactive_launcher_tmp_596086496539636965_log_obj\" style=\"font-size: 14px; background: #000000; padding: 10px; border: 3px; border-radius: 5px; color: white; \">\n",
       "        </p>\n",
       "        \n",
       "        </font>\n",
       "        <!--MD_END_FILTER-->\n",
       "        <!--MD_FROM_FILE ./interactive_launcher_tmp/596086496539636965.log.md -->\n",
       "        "
      ],
      "text/plain": [
       "<IPython.core.display.HTML object>"
      ]
     },
     "metadata": {},
     "output_type": "display_data"
    }
   ],
   "source": [
    "a = TInteractiveLauncher(\"echo 1 ; echo 2 1>&2 ; read XX ; echo \\\"A${XX}B\\\" \")\n",
    "os.kill(a.get_pid(), 9)\n",
    "a.close()"
   ]
  },
  {
   "cell_type": "code",
   "execution_count": 19,
   "metadata": {},
   "outputs": [
    {
     "data": {
      "text/html": [
       "\n",
       "        <!--MD_BEGIN_FILTER-->\n",
       "        <script type=text/javascript>\n",
       "        var entrance___interactive_launcher_tmp_432378598555416026_log_obj = 0;\n",
       "        var errors___interactive_launcher_tmp_432378598555416026_log_obj = 0;\n",
       "        function halt__interactive_launcher_tmp_432378598555416026_log_obj(elem, color)\n",
       "        {\n",
       "            elem.setAttribute(\"style\", \"font-size: 14px; background: \" + color + \"; padding: 10px; border: 3px; border-radius: 5px; color: white; \");                    \n",
       "        }\n",
       "        function refresh__interactive_launcher_tmp_432378598555416026_log_obj()\n",
       "        {\n",
       "            entrance___interactive_launcher_tmp_432378598555416026_log_obj -= 1;\n",
       "            if (entrance___interactive_launcher_tmp_432378598555416026_log_obj < 0) {\n",
       "                entrance___interactive_launcher_tmp_432378598555416026_log_obj = 0;\n",
       "            }\n",
       "            var elem = document.getElementById(\"__interactive_launcher_tmp_432378598555416026_log_obj\");\n",
       "            if (elem) {\n",
       "                var xmlhttp=new XMLHttpRequest();\n",
       "                xmlhttp.onreadystatechange=function()\n",
       "                {\n",
       "                    var elem = document.getElementById(\"__interactive_launcher_tmp_432378598555416026_log_obj\");\n",
       "                    console.log(!!elem, xmlhttp.readyState, xmlhttp.status, entrance___interactive_launcher_tmp_432378598555416026_log_obj);\n",
       "                    if (elem && xmlhttp.readyState==4) {\n",
       "                        if (xmlhttp.status==200)\n",
       "                        {\n",
       "                            errors___interactive_launcher_tmp_432378598555416026_log_obj = 0;\n",
       "                            if (!entrance___interactive_launcher_tmp_432378598555416026_log_obj) {\n",
       "                                if (elem.innerHTML != xmlhttp.responseText) {\n",
       "                                    elem.innerHTML = xmlhttp.responseText;\n",
       "                                }\n",
       "                                if (elem.innerHTML.includes(\"Process finished.\")) {\n",
       "                                    halt__interactive_launcher_tmp_432378598555416026_log_obj(elem, \"#333333\");\n",
       "                                } else {\n",
       "                                    entrance___interactive_launcher_tmp_432378598555416026_log_obj += 1;\n",
       "                                    console.log(\"req\");\n",
       "                                    window.setTimeout(\"refresh__interactive_launcher_tmp_432378598555416026_log_obj()\", 300); \n",
       "                                }\n",
       "                            }\n",
       "                            return xmlhttp.responseText;\n",
       "                        } else {\n",
       "                            errors___interactive_launcher_tmp_432378598555416026_log_obj += 1;\n",
       "                            if (!entrance___interactive_launcher_tmp_432378598555416026_log_obj) {\n",
       "                                if (errors___interactive_launcher_tmp_432378598555416026_log_obj < 6) {\n",
       "                                    entrance___interactive_launcher_tmp_432378598555416026_log_obj += 1;\n",
       "                                    console.log(\"req\");\n",
       "                                    window.setTimeout(\"refresh__interactive_launcher_tmp_432378598555416026_log_obj()\", 300); \n",
       "                                } else {\n",
       "                                    halt__interactive_launcher_tmp_432378598555416026_log_obj(elem, \"#994444\");\n",
       "                                }\n",
       "                            }\n",
       "                        }\n",
       "                    }\n",
       "                }\n",
       "                xmlhttp.open(\"GET\", \"./interactive_launcher_tmp/432378598555416026.log\", true);\n",
       "                xmlhttp.setRequestHeader(\"Cache-Control\", \"no-cache\");\n",
       "                xmlhttp.send();     \n",
       "            }\n",
       "        }\n",
       "        \n",
       "        if (!entrance___interactive_launcher_tmp_432378598555416026_log_obj) {\n",
       "            entrance___interactive_launcher_tmp_432378598555416026_log_obj += 1;\n",
       "            refresh__interactive_launcher_tmp_432378598555416026_log_obj(); \n",
       "        }\n",
       "        </script>\n",
       "\n",
       "        <p id=\"__interactive_launcher_tmp_432378598555416026_log_obj\" style=\"font-size: 14px; background: #000000; padding: 10px; border: 3px; border-radius: 5px; color: white; \">\n",
       "        </p>\n",
       "        \n",
       "        </font>\n",
       "        <!--MD_END_FILTER-->\n",
       "        <!--MD_FROM_FILE ./interactive_launcher_tmp/432378598555416026.log.md -->\n",
       "        "
      ],
      "text/plain": [
       "<IPython.core.display.HTML object>"
      ]
     },
     "metadata": {},
     "output_type": "display_data"
    }
   ],
   "source": [
    "a = TInteractiveLauncher(\"cat\")\n",
    "a.write(\"hoho!\\n\")\n"
   ]
  },
  {
   "cell_type": "code",
   "execution_count": 20,
   "metadata": {},
   "outputs": [],
   "source": [
    "a.write(\"aoha!\\n\")"
   ]
  },
  {
   "cell_type": "code",
   "execution_count": 21,
   "metadata": {},
   "outputs": [],
   "source": [
    "a.close()"
   ]
  },
  {
   "cell_type": "code",
   "execution_count": 22,
   "metadata": {},
   "outputs": [
    {
     "data": {
      "text/plain": [
       "'../tools/launcher.py'"
      ]
     },
     "execution_count": 22,
     "metadata": {},
     "output_type": "execute_result"
    }
   ],
   "source": [
    "\n",
    "(glob.glob(\"../tools/launcher.py\") + glob.glob(\"../../tools/launcher.py\"))[0]"
   ]
  },
  {
   "cell_type": "code",
   "execution_count": null,
   "metadata": {},
   "outputs": [],
   "source": []
  },
  {
   "cell_type": "code",
   "execution_count": 23,
   "metadata": {},
   "outputs": [
    {
     "data": {
      "text/html": [
       "\n",
       "        <!--MD_BEGIN_FILTER-->\n",
       "        <script type=text/javascript>\n",
       "        var entrance___interactive_launcher_tmp_218406132594721800_log_obj = 0;\n",
       "        var errors___interactive_launcher_tmp_218406132594721800_log_obj = 0;\n",
       "        function halt__interactive_launcher_tmp_218406132594721800_log_obj(elem, color)\n",
       "        {\n",
       "            elem.setAttribute(\"style\", \"font-size: 14px; background: \" + color + \"; padding: 10px; border: 3px; border-radius: 5px; color: white; \");                    \n",
       "        }\n",
       "        function refresh__interactive_launcher_tmp_218406132594721800_log_obj()\n",
       "        {\n",
       "            entrance___interactive_launcher_tmp_218406132594721800_log_obj -= 1;\n",
       "            if (entrance___interactive_launcher_tmp_218406132594721800_log_obj < 0) {\n",
       "                entrance___interactive_launcher_tmp_218406132594721800_log_obj = 0;\n",
       "            }\n",
       "            var elem = document.getElementById(\"__interactive_launcher_tmp_218406132594721800_log_obj\");\n",
       "            if (elem) {\n",
       "                var xmlhttp=new XMLHttpRequest();\n",
       "                xmlhttp.onreadystatechange=function()\n",
       "                {\n",
       "                    var elem = document.getElementById(\"__interactive_launcher_tmp_218406132594721800_log_obj\");\n",
       "                    console.log(!!elem, xmlhttp.readyState, xmlhttp.status, entrance___interactive_launcher_tmp_218406132594721800_log_obj);\n",
       "                    if (elem && xmlhttp.readyState==4) {\n",
       "                        if (xmlhttp.status==200)\n",
       "                        {\n",
       "                            errors___interactive_launcher_tmp_218406132594721800_log_obj = 0;\n",
       "                            if (!entrance___interactive_launcher_tmp_218406132594721800_log_obj) {\n",
       "                                if (elem.innerHTML != xmlhttp.responseText) {\n",
       "                                    elem.innerHTML = xmlhttp.responseText;\n",
       "                                }\n",
       "                                if (elem.innerHTML.includes(\"Process finished.\")) {\n",
       "                                    halt__interactive_launcher_tmp_218406132594721800_log_obj(elem, \"#333333\");\n",
       "                                } else {\n",
       "                                    entrance___interactive_launcher_tmp_218406132594721800_log_obj += 1;\n",
       "                                    console.log(\"req\");\n",
       "                                    window.setTimeout(\"refresh__interactive_launcher_tmp_218406132594721800_log_obj()\", 300); \n",
       "                                }\n",
       "                            }\n",
       "                            return xmlhttp.responseText;\n",
       "                        } else {\n",
       "                            errors___interactive_launcher_tmp_218406132594721800_log_obj += 1;\n",
       "                            if (!entrance___interactive_launcher_tmp_218406132594721800_log_obj) {\n",
       "                                if (errors___interactive_launcher_tmp_218406132594721800_log_obj < 6) {\n",
       "                                    entrance___interactive_launcher_tmp_218406132594721800_log_obj += 1;\n",
       "                                    console.log(\"req\");\n",
       "                                    window.setTimeout(\"refresh__interactive_launcher_tmp_218406132594721800_log_obj()\", 300); \n",
       "                                } else {\n",
       "                                    halt__interactive_launcher_tmp_218406132594721800_log_obj(elem, \"#994444\");\n",
       "                                }\n",
       "                            }\n",
       "                        }\n",
       "                    }\n",
       "                }\n",
       "                xmlhttp.open(\"GET\", \"./interactive_launcher_tmp/218406132594721800.log\", true);\n",
       "                xmlhttp.setRequestHeader(\"Cache-Control\", \"no-cache\");\n",
       "                xmlhttp.send();     \n",
       "            }\n",
       "        }\n",
       "        \n",
       "        if (!entrance___interactive_launcher_tmp_218406132594721800_log_obj) {\n",
       "            entrance___interactive_launcher_tmp_218406132594721800_log_obj += 1;\n",
       "            refresh__interactive_launcher_tmp_218406132594721800_log_obj(); \n",
       "        }\n",
       "        </script>\n",
       "\n",
       "        <p id=\"__interactive_launcher_tmp_218406132594721800_log_obj\" style=\"font-size: 14px; background: #000000; padding: 10px; border: 3px; border-radius: 5px; color: white; \">\n",
       "        </p>\n",
       "        \n",
       "        </font>\n",
       "        <!--MD_END_FILTER-->\n",
       "        <!--MD_FROM_FILE ./interactive_launcher_tmp/218406132594721800.log.md -->\n",
       "        "
      ],
      "text/plain": [
       "<IPython.core.display.HTML object>"
      ]
     },
     "metadata": {},
     "output_type": "display_data"
    }
   ],
   "source": [
    "a = TInteractiveLauncher(\"sleep 100\")\n",
    "a.close()"
   ]
  },
  {
   "cell_type": "code",
   "execution_count": null,
   "metadata": {},
   "outputs": [],
   "source": []
  },
  {
   "cell_type": "code",
   "execution_count": 24,
   "metadata": {},
   "outputs": [
    {
     "data": {
      "text/markdown": [
       "\\#\\#\\#\\# `comment`"
      ],
      "text/plain": [
       "<IPython.core.display.Markdown object>"
      ]
     },
     "metadata": {},
     "output_type": "display_data"
    },
    {
     "data": {
      "text/markdown": [
       "Run: `echo 11`"
      ],
      "text/plain": [
       "<IPython.core.display.Markdown object>"
      ]
     },
     "metadata": {},
     "output_type": "display_data"
    },
    {
     "name": "stdout",
     "output_type": "stream",
     "text": [
      "11\r\n"
     ]
    }
   ],
   "source": [
    "%%cpp a.cpp\n",
    "%// comment\n",
    "%run echo 11"
   ]
  },
  {
   "cell_type": "code",
   "execution_count": 25,
   "metadata": {},
   "outputs": [
    {
     "data": {
      "text/markdown": [
       "\\#\\#\\#\\# `comment`"
      ],
      "text/plain": [
       "<IPython.core.display.Markdown object>"
      ]
     },
     "metadata": {},
     "output_type": "display_data"
    },
    {
     "data": {
      "text/markdown": [
       "Run: `cat a.py`"
      ],
      "text/plain": [
       "<IPython.core.display.Markdown object>"
      ]
     },
     "metadata": {},
     "output_type": "display_data"
    },
    {
     "name": "stdout",
     "output_type": "stream",
     "text": [
      "# %%cpp a.py\r\n",
      "# %# comment\r\n",
      "# %run cat a.py\r\n",
      "\r\n"
     ]
    }
   ],
   "source": [
    "%%save_file a.py\n",
    "%# comment\n",
    "%run cat a.py"
   ]
  },
  {
   "cell_type": "code",
   "execution_count": null,
   "metadata": {},
   "outputs": [],
   "source": []
  },
  {
   "cell_type": "code",
   "execution_count": null,
   "metadata": {},
   "outputs": [],
   "source": []
  },
  {
   "cell_type": "code",
   "execution_count": null,
   "metadata": {},
   "outputs": [],
   "source": []
  },
  {
   "cell_type": "code",
   "execution_count": null,
   "metadata": {},
   "outputs": [],
   "source": []
  },
  {
   "cell_type": "code",
   "execution_count": null,
   "metadata": {},
   "outputs": [],
   "source": []
  }
 ],
 "metadata": {
  "kernelspec": {
   "display_name": "Python 3",
   "language": "python",
   "name": "python3"
  },
  "language_info": {
   "codemirror_mode": {
    "name": "ipython",
    "version": 3
   },
   "file_extension": ".py",
   "mimetype": "text/x-python",
   "name": "python",
   "nbconvert_exporter": "python",
   "pygments_lexer": "ipython3",
   "version": "3.8.5"
  }
 },
 "nbformat": 4,
 "nbformat_minor": 2
}
