{
 "cells": [
  {
   "cell_type": "code",
   "execution_count": 1,
   "metadata": {
    "scrolled": false
   },
   "outputs": [
    {
     "data": {
      "application/javascript": [
       "// setup cpp code highlighting\n",
       "IPython.CodeCell.options_default.highlight_modes[\"text/x-c++src\"] = {'reg':[/^%%cpp/]} ;IPython.CodeCell.options_default.highlight_modes[\"text/x-cmake\"] = {'reg':[/^%%cmake/]} ;IPython.CodeCell.options_default.highlight_modes[\"text/x-sql\"] = {'reg':[/^%%sql/]} ;"
      ],
      "text/plain": [
       "<IPython.core.display.Javascript object>"
      ]
     },
     "metadata": {},
     "output_type": "display_data"
    },
    {
     "data": {
      "text/html": [
       "<!-- YANDEX_METRICA_BEGIN -->\n",
       "    <script type=\"text/javascript\" >\n",
       "       (function(m,e,t,r,i,k,a){m[i]=m[i]||function(){(m[i].a=m[i].a||[]).push(arguments)};\n",
       "       m[i].l=1*new Date();k=e.createElement(t),a=e.getElementsByTagName(t)[0],k.async=1,k.src=r,a.parentNode.insertBefore(k,a)})\n",
       "       (window, document, \"script\", \"https://mc.yandex.ru/metrika/tag.js\", \"ym\");\n",
       "\n",
       "       ym(59260609, \"init\", {\n",
       "            clickmap:true,\n",
       "            trackLinks:true,\n",
       "            accurateTrackBounce:true\n",
       "       });\n",
       "    </script>\n",
       "    <noscript><div><img src=\"https://mc.yandex.ru/watch/59260609\" style=\"position:absolute; left:-9999px;\" alt=\"\" /></div></noscript>\n",
       "    <!-- YANDEX_METRICA_END -->"
      ],
      "text/plain": [
       "<IPython.core.display.HTML object>"
      ]
     },
     "metadata": {},
     "output_type": "display_data"
    },
    {
     "data": {
      "text/html": [
       "В этот ноутбук встроен код Яндекс Метрики для сбора статистики использований. Если вы не хотите, чтобы по вам собиралась статистика, исправьте: yandex_metrica_allowed = False<!-- MAGICS_SETUP_PRINTING_END -->"
      ],
      "text/plain": [
       "<IPython.core.display.HTML object>"
      ]
     },
     "metadata": {},
     "output_type": "display_data"
    }
   ],
   "source": [
    "# look at tools/set_up_magics.ipynb\n",
    "yandex_metrica_allowed = True ; get_ipython().run_cell('# one_liner_str\\n\\nget_ipython().run_cell_magic(\\'javascript\\', \\'\\', \\n    \\'// setup cpp code highlighting\\\\n\\'\\n    \\'IPython.CodeCell.options_default.highlight_modes[\"text/x-c++src\"] = {\\\\\\'reg\\\\\\':[/^%%cpp/]} ;\\'\\n    \\'IPython.CodeCell.options_default.highlight_modes[\"text/x-cmake\"] = {\\\\\\'reg\\\\\\':[/^%%cmake/]} ;\\'\\n    \\'IPython.CodeCell.options_default.highlight_modes[\"text/x-sql\"] = {\\\\\\'reg\\\\\\':[/^%%sql/]} ;\\'\\n)\\n\\n# creating magics\\nfrom IPython.core.magic import register_cell_magic, register_line_magic\\nfrom IPython.display import display, Markdown, HTML\\nimport argparse\\nfrom subprocess import Popen, PIPE, STDOUT, check_output\\nimport html\\nimport random\\nimport sys\\nimport os\\nimport re\\nimport signal\\nimport shutil\\nimport shlex\\nimport glob\\nimport time\\n\\n@register_cell_magic\\ndef save_file(args_str, cell, line_comment_start=\"#\"):\\n    parser = argparse.ArgumentParser()\\n    parser.add_argument(\"fname\")\\n    parser.add_argument(\"--ejudge-style\", action=\"store_true\")\\n    parser.add_argument(\"--under-spoiler-threshold\", type=int, default=None)\\n    args = parser.parse_args(args_str.split())\\n    \\n    cell = cell if cell[-1] == \\'\\\\n\\' or args.no_eof_newline else cell + \"\\\\n\"\\n    cmds = []\\n    with open(args.fname, \"w\") as f:\\n        f.write(line_comment_start + \" %%cpp \" + args_str + \"\\\\n\")\\n        for line in cell.split(\"\\\\n\"):\\n            line_to_write = (line if not args.ejudge_style else line.rstrip()) + \"\\\\n\"\\n            if not line.startswith(\"%\"):\\n                f.write(line_to_write)\\n            else:\\n                f.write(line_comment_start + \" \" + line_to_write)\\n                run_prefix = \"%run \"\\n                md_prefix = \"%MD \"\\n                comment_prefix = \"%\" + line_comment_start\\n                if line.startswith(run_prefix):\\n                    cmds.append(line[len(run_prefix):].strip())\\n                elif line.startswith(md_prefix):\\n                    cmds.append(\\'#<MD>\\' + line[len(md_prefix):].strip())\\n                elif line.startswith(comment_prefix):\\n                    cmds.append(\\'#\\' + line[len(comment_prefix):].strip())\\n                else:\\n                    raise Exception(\"Unknown %%save_file subcommand: \\'%s\\'\" % line)\\n                \\n        f.write(\"\" if not args.ejudge_style else line_comment_start + r\" line without \\\\n\")\\n    for cmd in cmds:\\n        if cmd.startswith(\\'#\\'):\\n            if cmd.startswith(\\'#<MD>\\'):\\n                display(Markdown(cmd[5:]))\\n            else:\\n                display(Markdown(\"\\\\#\\\\#\\\\#\\\\# `%s`\" % cmd[1:]))\\n        else:\\n            display(Markdown(\"Run: `%s`\" % cmd))\\n            if args.under_spoiler_threshold:\\n                out = check_output(cmd, stderr=STDOUT, shell=True, universal_newlines=True)\\n                out = out[:-1] if out.endswith(\\'\\\\n\\') else out\\n                out = html.escape(out)\\n                if len(out.split(\\'\\\\n\\')) > args.under_spoiler_threshold:\\n                    out = \"<details> <summary> output </summary> <pre><code>%s</code></pre></details>\" % out\\n                elif out:\\n                    out = \"<pre><code>%s</code></pre>\" % out\\n                if out:\\n                    display(HTML(out))\\n            else:\\n                get_ipython().system(cmd)\\n\\n@register_cell_magic\\ndef cpp(fname, cell):\\n    save_file(fname, cell, \"//\")\\n    \\n@register_cell_magic\\ndef cmake(fname, cell):\\n    save_file(fname, cell, \"#\")\\n\\n@register_cell_magic\\ndef asm(fname, cell):\\n    save_file(fname, cell, \"//\")\\n    \\n@register_cell_magic\\ndef makefile(fname, cell):\\n    fname = fname or \"makefile\"\\n    assert fname.endswith(\"makefile\")\\n    save_file(fname, cell.replace(\" \" * 4, \"\\\\t\"))\\n        \\n@register_line_magic\\ndef p(line):\\n    line = line.strip() \\n    if line[0] == \\'#\\':\\n        display(Markdown(line[1:].strip()))\\n    else:\\n        try:\\n            expr, comment = line.split(\" #\")\\n            display(Markdown(\"`{} = {}`  # {}\".format(expr.strip(), eval(expr), comment.strip())))\\n        except:\\n            display(Markdown(\"{} = {}\".format(line, eval(line))))\\n    \\n    \\ndef show_log_file(file, return_html_string=False):\\n    obj = file.replace(\\'.\\', \\'_\\').replace(\\'/\\', \\'_\\') + \"_obj\"\\n    html_string = \\'\\'\\'\\n        <!--MD_BEGIN_FILTER-->\\n        <script type=text/javascript>\\n        var entrance___OBJ__ = 0;\\n        var errors___OBJ__ = 0;\\n        function halt__OBJ__(elem, color)\\n        {\\n            elem.setAttribute(\"style\", \"font-size: 14px; background: \" + color + \"; padding: 10px; border: 3px; border-radius: 5px; color: white; \");                    \\n        }\\n        function refresh__OBJ__()\\n        {\\n            entrance___OBJ__ -= 1;\\n            if (entrance___OBJ__ < 0) {\\n                entrance___OBJ__ = 0;\\n            }\\n            var elem = document.getElementById(\"__OBJ__\");\\n            if (elem) {\\n                var xmlhttp=new XMLHttpRequest();\\n                xmlhttp.onreadystatechange=function()\\n                {\\n                    var elem = document.getElementById(\"__OBJ__\");\\n                    console.log(!!elem, xmlhttp.readyState, xmlhttp.status, entrance___OBJ__);\\n                    if (elem && xmlhttp.readyState==4) {\\n                        if (xmlhttp.status==200)\\n                        {\\n                            errors___OBJ__ = 0;\\n                            if (!entrance___OBJ__) {\\n                                if (elem.innerHTML != xmlhttp.responseText) {\\n                                    elem.innerHTML = xmlhttp.responseText;\\n                                }\\n                                if (elem.innerHTML.includes(\"Process finished.\")) {\\n                                    halt__OBJ__(elem, \"#333333\");\\n                                } else {\\n                                    entrance___OBJ__ += 1;\\n                                    console.log(\"req\");\\n                                    window.setTimeout(\"refresh__OBJ__()\", 300); \\n                                }\\n                            }\\n                            return xmlhttp.responseText;\\n                        } else {\\n                            errors___OBJ__ += 1;\\n                            if (!entrance___OBJ__) {\\n                                if (errors___OBJ__ < 6) {\\n                                    entrance___OBJ__ += 1;\\n                                    console.log(\"req\");\\n                                    window.setTimeout(\"refresh__OBJ__()\", 300); \\n                                } else {\\n                                    halt__OBJ__(elem, \"#994444\");\\n                                }\\n                            }\\n                        }\\n                    }\\n                }\\n                xmlhttp.open(\"GET\", \"__FILE__\", true);\\n                xmlhttp.setRequestHeader(\"Cache-Control\", \"no-cache\");\\n                xmlhttp.send();     \\n            }\\n        }\\n        \\n        if (!entrance___OBJ__) {\\n            entrance___OBJ__ += 1;\\n            refresh__OBJ__(); \\n        }\\n        </script>\\n\\n        <p id=\"__OBJ__\" style=\"font-size: 14px; background: #000000; padding: 10px; border: 3px; border-radius: 5px; color: white; \">\\n        </p>\\n        \\n        </font>\\n        <!--MD_END_FILTER-->\\n        <!--MD_FROM_FILE __FILE__.md -->\\n        \\'\\'\\'.replace(\"__OBJ__\", obj).replace(\"__FILE__\", file)\\n    if return_html_string:\\n        return html_string\\n    display(HTML(html_string))\\n\\n    \\nclass TInteractiveLauncher:\\n    tmp_path = \"./interactive_launcher_tmp\"\\n    def __init__(self, cmd):\\n        try:\\n            os.mkdir(TInteractiveLauncher.tmp_path)\\n        except:\\n            pass\\n        name = str(random.randint(0, 1e18))\\n        self.inq_path = os.path.join(TInteractiveLauncher.tmp_path, name + \".inq\")\\n        self.log_path = os.path.join(TInteractiveLauncher.tmp_path, name + \".log\")\\n        \\n        os.mkfifo(self.inq_path)\\n        open(self.log_path, \\'w\\').close()\\n        open(self.log_path + \".md\", \\'w\\').close()\\n\\n        self.pid = os.fork()\\n        if self.pid == -1:\\n            print(\"Error\")\\n        if self.pid == 0:\\n            exe_cands = glob.glob(\"../tools/launcher.py\") + glob.glob(\"../../tools/launcher.py\")\\n            assert(len(exe_cands) == 1)\\n            assert(os.execvp(\"python3\", [\"python3\", exe_cands[0], \"-l\", self.log_path, \"-i\", self.inq_path, \"-c\", cmd]) == 0)\\n        self.inq_f = open(self.inq_path, \"w\")\\n        interactive_launcher_opened_set.add(self.pid)\\n        show_log_file(self.log_path)\\n\\n    def write(self, s):\\n        s = s.encode()\\n        assert len(s) == os.write(self.inq_f.fileno(), s)\\n        \\n    def get_pid(self):\\n        n = 100\\n        for i in range(n):\\n            try:\\n                return int(re.findall(r\"PID = (\\\\d+)\", open(self.log_path).readline())[0])\\n            except:\\n                if i + 1 == n:\\n                    raise\\n                time.sleep(0.1)\\n        \\n    def input_queue_path(self):\\n        return self.inq_path\\n        \\n    def wait_stop(self, timeout):\\n        for i in range(int(timeout * 10)):\\n            wpid, status = os.waitpid(self.pid, os.WNOHANG)\\n            if wpid != 0:\\n                return True\\n            time.sleep(0.1)\\n        return False\\n        \\n    def close(self, timeout=3):\\n        self.inq_f.close()\\n        if not self.wait_stop(timeout):\\n            os.kill(self.get_pid(), signal.SIGKILL)\\n            os.waitpid(self.pid, 0)\\n        os.remove(self.inq_path)\\n        # os.remove(self.log_path)\\n        self.inq_path = None\\n        self.log_path = None \\n        interactive_launcher_opened_set.remove(self.pid)\\n        self.pid = None\\n        \\n    @staticmethod\\n    def terminate_all():\\n        if \"interactive_launcher_opened_set\" not in globals():\\n            globals()[\"interactive_launcher_opened_set\"] = set()\\n        global interactive_launcher_opened_set\\n        for pid in interactive_launcher_opened_set:\\n            print(\"Terminate pid=\" + str(pid), file=sys.stderr)\\n            os.kill(pid, signal.SIGKILL)\\n            os.waitpid(pid, 0)\\n        interactive_launcher_opened_set = set()\\n        if os.path.exists(TInteractiveLauncher.tmp_path):\\n            shutil.rmtree(TInteractiveLauncher.tmp_path)\\n    \\nTInteractiveLauncher.terminate_all()\\n   \\nyandex_metrica_allowed = bool(globals().get(\"yandex_metrica_allowed\", False))\\nif yandex_metrica_allowed:\\n    display(HTML(\\'\\'\\'<!-- YANDEX_METRICA_BEGIN -->\\n    <script type=\"text/javascript\" >\\n       (function(m,e,t,r,i,k,a){m[i]=m[i]||function(){(m[i].a=m[i].a||[]).push(arguments)};\\n       m[i].l=1*new Date();k=e.createElement(t),a=e.getElementsByTagName(t)[0],k.async=1,k.src=r,a.parentNode.insertBefore(k,a)})\\n       (window, document, \"script\", \"https://mc.yandex.ru/metrika/tag.js\", \"ym\");\\n\\n       ym(59260609, \"init\", {\\n            clickmap:true,\\n            trackLinks:true,\\n            accurateTrackBounce:true\\n       });\\n    </script>\\n    <noscript><div><img src=\"https://mc.yandex.ru/watch/59260609\" style=\"position:absolute; left:-9999px;\" alt=\"\" /></div></noscript>\\n    <!-- YANDEX_METRICA_END -->\\'\\'\\'))\\n\\ndef make_oneliner():\\n    html_text = \\'(\"В этот ноутбук встроен код Яндекс Метрики для сбора статистики использований. Если вы не хотите, чтобы по вам собиралась статистика, исправьте: yandex_metrica_allowed = False\" if yandex_metrica_allowed else \"\")\\'\\n    html_text += \\' + \"<\"\"!-- MAGICS_SETUP_PRINTING_END -->\"\\'\\n    return \\'\\'.join([\\n        \\'# look at tools/set_up_magics.ipynb\\\\n\\',\\n        \\'yandex_metrica_allowed = True ; get_ipython().run_cell(%s);\\' % repr(one_liner_str),\\n        \\'display(HTML(%s))\\' % html_text,\\n        \\' #\\'\\'MAGICS_SETUP_END\\'\\n    ])\\n       \\n\\n');display(HTML((\"В этот ноутбук встроен код Яндекс Метрики для сбора статистики использований. Если вы не хотите, чтобы по вам собиралась статистика, исправьте: yandex_metrica_allowed = False\" if yandex_metrica_allowed else \"\") + \"<\"\"!-- MAGICS_SETUP_PRINTING_END -->\")) #MAGICS_SETUP_END"
   ]
  },
  {
   "cell_type": "markdown",
   "metadata": {},
   "source": [
    "# Ints & Floats & Strings encoding\n",
    "\n",
    "[Запись семинара](https://www.youtube.com/watch?TODO)\n",
    "\n",
    "\n",
    "[Ридинг Яковлева: Целочисленная арифметика](https://github.com/victor-yacovlev/mipt-diht-caos/tree/master/practice/integers) \n",
    "<br>[Ридинг Яковлева: Вещественная арифметика](https://github.com/victor-yacovlev/mipt-diht-caos/tree/master/practice/ieee754) \n",
    "\n",
    "\n",
    "\n",
    "Сегодня в программе:\n",
    "* <a href=\"#int\" style=\"color:#856024\"> Целые числа </a>\n",
    "  * <a href=\"#ubsan\" style=\"color:#856024\"> UBSAN </a>\n",
    "  * <a href=\"#saturation\" style=\"color:#856024\"> Насыщение </a>\n",
    "* <a href=\"#float\" style=\"color:#856024\"> Вещественные числа </a>\n",
    "* <a href=\"#str\" style=\"color:#856024\"> Строки </a>\n",
    "  * <a href=\"#ascii\" style=\"color:#856024\"> ASCII </a>\n",
    "  * <a href=\"#utf-8\" style=\"color:#856024\"> UTF-8 </a>"
   ]
  },
  {
   "cell_type": "markdown",
   "metadata": {},
   "source": [
    "## <a name=\"int\"></a> Целые числа\n",
    "\n",
    "Производя `+`, `-`, `*` со стандартными целочисленными типами в программе мы работаем $\\mathbb{Z}_{2^k}$, где $k$ - количество бит в числе. Причем это верно как со знаковыми, так и беззнаковыми числами.\n",
    "\n",
    "В процессоре для сложения знаковых и беззнаковых чисел выполняется одна и та же инструкция."
   ]
  },
  {
   "cell_type": "code",
   "execution_count": 15,
   "metadata": {},
   "outputs": [
    {
     "name": "stdout",
     "output_type": "stream",
     "text": [
      "i=0 -> 0u, +0, 0b000\n",
      "i=1 -> 1u, +1, 0b001\n",
      "i=2 -> 2u, +2, 0b010\n",
      "i=3 -> 3u, +3, 0b011\n",
      "i=4 -> 4u, -4, 0b100\n",
      "i=5 -> 5u, -3, 0b101\n",
      "i=6 -> 6u, -2, 0b110\n",
      "i=7 -> 7u, -1, 0b111\n"
     ]
    }
   ],
   "source": [
    "k = 3 # min 0, max 7 = (1 << 3) - 1\n",
    "m = (1 << k)\n",
    "\n",
    "def normalize(x):\n",
    "    return ((x % m) + m) % m\n",
    "\n",
    "def format_n(x):\n",
    "    x = normalize(x)\n",
    "    return \"%du, %+d, 0b%s\" % (x, x if x < (m >> 1) else x - m, bin(x + m)[3:])\n",
    "    \n",
    "for i in range(0, m):\n",
    "    print(\"i=%d -> %s\" % (i, format_n(i)))"
   ]
  },
  {
   "cell_type": "code",
   "execution_count": 16,
   "metadata": {},
   "outputs": [
    {
     "name": "stdout",
     "output_type": "stream",
     "text": [
      "2 + 1 = 3\n",
      "    (2u, +2, 0b010) + (1u, +1, 0b001) = (3u, +3, 0b011)\n",
      "2 + -1 = 1\n",
      "    (2u, +2, 0b010) + (7u, -1, 0b111) = (1u, +1, 0b001)\n"
     ]
    }
   ],
   "source": [
    "def show_add(a, b):\n",
    "    print(\"%d + %d = %d\" % (a, b, a + b))\n",
    "    print(\"    (%s) + (%s) = (%s)\" % (format_n(a), format_n(b), format_n(a + b)))\n",
    "show_add(2, 1)\n",
    "show_add(2, -1)"
   ]
  },
  {
   "cell_type": "code",
   "execution_count": 17,
   "metadata": {},
   "outputs": [
    {
     "name": "stdout",
     "output_type": "stream",
     "text": [
      "2 * 3 = 6\n",
      "    (2u, +2, 0b010) * (3u, +3, 0b011) = (6u, -2, 0b110)\n",
      "-2 * -3 = 6\n",
      "    (6u, -2, 0b110) * (5u, -3, 0b101) = (6u, -2, 0b110)\n",
      "-1 * -1 = 1\n",
      "    (7u, -1, 0b111) * (7u, -1, 0b111) = (1u, +1, 0b001)\n"
     ]
    }
   ],
   "source": [
    "def show_mul(a, b):\n",
    "    print(\"%d * %d = %d\" % (a, b, a * b))\n",
    "    print(\"    (%s) * (%s) = (%s)\" % (format_n(a), format_n(b), format_n(a * b)))\n",
    "show_mul(2, 3)\n",
    "show_mul(-2, -3)\n",
    "show_mul(-1, -1)"
   ]
  },
  {
   "cell_type": "markdown",
   "metadata": {},
   "source": [
    "Но есть некоторые тонкости. \n",
    "\n",
    "Если вы пишете код на C/C++ то компилятор считает **переполнение знакового типа UB** (undefined behavior). Это позволяет ему проводить оптимизации.\n",
    "\n",
    "А переполнение беззнакового типа - законной операцией, при которой просто отбрасываются старшие биты (или значение берется по модулю $2^k$, или просто операция производится в $\\mathbb{Z}_{2^k}$ - можете выбирать более удобный для вас способ на это смотреть)."
   ]
  },
  {
   "cell_type": "code",
   "execution_count": 26,
   "metadata": {},
   "outputs": [
    {
     "data": {
      "text/markdown": [
       "Run: `gcc -O3 -shared -fPIC lib.c -o lib.so  -Os -Wl,--gc-sections -fno-asynchronous-unwind-tables -fcf-protection=branch -mmanual-endbr`"
      ],
      "text/plain": [
       "<IPython.core.display.Markdown object>"
      ]
     },
     "metadata": {},
     "output_type": "display_data"
    }
   ],
   "source": [
    "%%cpp lib.c\n",
    "%run gcc -O3 -shared -fPIC lib.c -o lib.so  -Os -Wl,--gc-sections -fno-asynchronous-unwind-tables -fcf-protection=branch -mmanual-endbr \n",
    "\n",
    "int check_increment(int x) {\n",
    "    return x + 1 > x; // Всегда ли true?\n",
    "}\n",
    "\n",
    "int unsigned_check_increment(unsigned int x) {\n",
    "    return x + 1 > x; // Всегда ли true?\n",
    "}"
   ]
  },
  {
   "cell_type": "code",
   "execution_count": 27,
   "metadata": {},
   "outputs": [
    {
     "data": {
      "text/markdown": [
       "lib.check_increment(1) = 1"
      ],
      "text/plain": [
       "<IPython.core.display.Markdown object>"
      ]
     },
     "metadata": {},
     "output_type": "display_data"
    },
    {
     "data": {
      "text/markdown": [
       "lib.check_increment(int32_max) = 1"
      ],
      "text/plain": [
       "<IPython.core.display.Markdown object>"
      ]
     },
     "metadata": {},
     "output_type": "display_data"
    },
    {
     "data": {
      "text/markdown": [
       "lib.unsigned_check_increment(1) = 1"
      ],
      "text/plain": [
       "<IPython.core.display.Markdown object>"
      ]
     },
     "metadata": {},
     "output_type": "display_data"
    },
    {
     "data": {
      "text/markdown": [
       "lib.unsigned_check_increment(uint32_max) = 0"
      ],
      "text/plain": [
       "<IPython.core.display.Markdown object>"
      ]
     },
     "metadata": {},
     "output_type": "display_data"
    }
   ],
   "source": [
    "import ctypes\n",
    "\n",
    "int32_max = (1 << 31) - 1\n",
    "uint32_max = (1 << 32) - 1\n",
    "\n",
    "lib = ctypes.CDLL(\"./lib.so\")\n",
    "lib.check_increment.argtypes = [ctypes.c_int]\n",
    "lib.unsigned_check_increment.argtypes = [ctypes.c_uint]\n",
    "\n",
    "%p lib.check_increment(1)\n",
    "%p lib.check_increment(int32_max)\n",
    "\n",
    "%p lib.unsigned_check_increment(1)\n",
    "%p lib.unsigned_check_increment(uint32_max)"
   ]
  },
  {
   "cell_type": "code",
   "execution_count": 28,
   "metadata": {
    "scrolled": true
   },
   "outputs": [
    {
     "name": "stdout",
     "output_type": "stream",
     "text": [
      "Dump of assembler code for function check_increment:\r\n",
      "   0x00000000000010f9 <+0>:\tmov    $0x1,%eax\r\n",
      "   0x00000000000010fe <+5>:\tretq   \r\n",
      "End of assembler dump.\r\n",
      "Dump of assembler code for function unsigned_check_increment:\r\n",
      "   0x00000000000010ff <+0>:\txor    %eax,%eax\r\n",
      "   0x0000000000001101 <+2>:\tinc    %edi\r\n",
      "   0x0000000000001103 <+4>:\tsetne  %al\r\n",
      "   0x0000000000001106 <+7>:\tretq   \r\n",
      "End of assembler dump.\r\n"
     ]
    }
   ],
   "source": [
    "!gdb lib.so -batch -ex=\"disass check_increment\" -ex=\"disass unsigned_check_increment\""
   ]
  },
  {
   "cell_type": "markdown",
   "metadata": {},
   "source": [
    "### <a name=\"ubsan\"></a> UBSAN"
   ]
  },
  {
   "cell_type": "code",
   "execution_count": 137,
   "metadata": {},
   "outputs": [],
   "source": [
    "# UB санитайзер в gcc этого не ловит :|\n",
    "# А вот clang молодец :)\n",
    "!clang -O0 -shared -fPIC -fsanitize=undefined lib.c -o lib_ubsan.so"
   ]
  },
  {
   "cell_type": "code",
   "execution_count": 138,
   "metadata": {
    "scrolled": true
   },
   "outputs": [
    {
     "data": {
      "text/markdown": [
       "Run: `LD_PRELOAD=$(gcc -print-file-name=libubsan.so) python3 run_ub.py`"
      ],
      "text/plain": [
       "<IPython.core.display.Markdown object>"
      ]
     },
     "metadata": {},
     "output_type": "display_data"
    },
    {
     "name": "stdout",
     "output_type": "stream",
     "text": [
      "\u001b[1mlib.c:5:14:\u001b[1m\u001b[31m runtime error: \u001b[1m\u001b[0m\u001b[1msigned integer overflow: 2147483647 + 1 cannot be represented in type 'int'\u001b[1m\u001b[0m\r\n",
      "0\r\n"
     ]
    }
   ],
   "source": [
    "%%save_file run_ub.py\n",
    "%run LD_PRELOAD=$(gcc -print-file-name=libubsan.so) python3 run_ub.py\n",
    "\n",
    "import ctypes \n",
    "\n",
    "int32_max = (1 << 31) - 1\n",
    "\n",
    "lib = ctypes.CDLL(\"./lib_ubsan.so\")\n",
    "lib.check_increment.argtypes = [ctypes.c_int]\n",
    "\n",
    "print(lib.check_increment(int32_max))"
   ]
  },
  {
   "cell_type": "markdown",
   "metadata": {},
   "source": [
    "### <a name=\"saturation\"></a> Насыщение"
   ]
  },
  {
   "cell_type": "code",
   "execution_count": 31,
   "metadata": {},
   "outputs": [],
   "source": [
    "%%cpp code_sample\n",
    "// воображаемая ситуация, когда переполнение нежелательно\n",
    "isize = 100000\n",
    "n, m = 100000\n",
    "for (int i = 0; i < isize && i < saturation_multiplication(n, m); ++i) {\n",
    "    \n",
    "}"
   ]
  },
  {
   "cell_type": "markdown",
   "metadata": {},
   "source": [
    "Иногда хочется обрабатывать переполнения разумным образом, например, насыщением:"
   ]
  },
  {
   "cell_type": "code",
   "execution_count": 32,
   "metadata": {},
   "outputs": [
    {
     "data": {
      "text/markdown": [
       "Run: `gcc -O3 main.c -o a.exe`"
      ],
      "text/plain": [
       "<IPython.core.display.Markdown object>"
      ]
     },
     "metadata": {},
     "output_type": "display_data"
    },
    {
     "data": {
      "text/markdown": [
       "Run: `./a.exe`"
      ],
      "text/plain": [
       "<IPython.core.display.Markdown object>"
      ]
     },
     "metadata": {},
     "output_type": "display_data"
    }
   ],
   "source": [
    "%%cpp main.c\n",
    "%run gcc -O3 main.c -o a.exe \n",
    "%run ./a.exe\n",
    "\n",
    "#include <assert.h>\n",
    "#include <stdint.h>\n",
    "\n",
    "unsigned int satsum(unsigned int x, unsigned int y) {\n",
    "    unsigned int z;\n",
    "    // Функция, которая обрабатывает выставленный процессором флаг и возвращает его явно\n",
    "    if (__builtin_uadd_overflow(x, y, &z)) {\n",
    "        return ~0u;\n",
    "    }\n",
    "    return z;\n",
    "}\n",
    "\n",
    "int main() {\n",
    "    assert(satsum(2000000000L, 2000000000L) == 4000000000L);\n",
    "    assert(satsum(4000000000L, 4000000000L) == (unsigned int)-1);\n",
    "    return 0;\n",
    "}"
   ]
  },
  {
   "cell_type": "code",
   "execution_count": null,
   "metadata": {},
   "outputs": [],
   "source": []
  },
  {
   "cell_type": "markdown",
   "metadata": {},
   "source": [
    "Для операций сравнения и деления целых чисел уже однозначно важно, знаковые они или нет."
   ]
  },
  {
   "cell_type": "code",
   "execution_count": 33,
   "metadata": {},
   "outputs": [
    {
     "data": {
      "text/markdown": [
       "Run: `gcc -O3 -shared -fPIC lib2.c -o lib2.so   -Os -Wl,--gc-sections -fno-asynchronous-unwind-tables -fcf-protection=branch -mmanual-endbr`"
      ],
      "text/plain": [
       "<IPython.core.display.Markdown object>"
      ]
     },
     "metadata": {},
     "output_type": "display_data"
    }
   ],
   "source": [
    "%%cpp lib2.c\n",
    "%run gcc -O3 -shared -fPIC lib2.c -o lib2.so   -Os -Wl,--gc-sections -fno-asynchronous-unwind-tables -fcf-protection=branch -mmanual-endbr \n",
    "\n",
    "typedef unsigned int uint;\n",
    "\n",
    "int sum(int x, int y) { return x + y; }\n",
    "uint usum(uint x, uint y) { return x + y; }\n",
    "\n",
    "int mul(int x, int y) { return x * y; }\n",
    "uint umul(uint x, uint y) { return x * y; }\n",
    "\n",
    "int cmp(int x, int y) { return x < y; }\n",
    "int ucmp(uint x, uint y) { return x < y; }\n",
    "\n",
    "int div(int x, int y) { return x / y; }\n",
    "int udiv(uint x, uint y) { return x / y; }"
   ]
  },
  {
   "cell_type": "code",
   "execution_count": 35,
   "metadata": {},
   "outputs": [
    {
     "name": "stdout",
     "output_type": "stream",
     "text": [
      "Dump of assembler code for function sum:\r\n",
      "   0x00000000000010f9 <+0>:\tlea    (%rdi,%rsi,1),%eax\r\n",
      "   0x00000000000010fc <+3>:\tretq   \r\n",
      "Dump of assembler code for function usum:\r\n",
      "   0x00000000000010fd <+0>:\tlea    (%rdi,%rsi,1),%eax\r\n",
      "   0x0000000000001100 <+3>:\tretq   \r\n"
     ]
    }
   ],
   "source": [
    "# Функции sum и usum идентичны\n",
    "!gdb lib2.so -batch -ex=\"disass sum\" -ex=\"disass usum\" | grep -v \"End of assembler\""
   ]
  },
  {
   "cell_type": "code",
   "execution_count": 36,
   "metadata": {},
   "outputs": [
    {
     "name": "stdout",
     "output_type": "stream",
     "text": [
      "Dump of assembler code for function mul:\r\n",
      "   0x0000000000001101 <+0>:\tmov    %edi,%eax\r\n",
      "   0x0000000000001103 <+2>:\timul   %esi,%eax\r\n",
      "   0x0000000000001106 <+5>:\tretq   \r\n",
      "Dump of assembler code for function umul:\r\n",
      "   0x0000000000001107 <+0>:\tmov    %edi,%eax\r\n",
      "   0x0000000000001109 <+2>:\timul   %esi,%eax\r\n",
      "   0x000000000000110c <+5>:\tretq   \r\n"
     ]
    }
   ],
   "source": [
    "!gdb lib2.so -batch -ex=\"disass mul\" -ex=\"disass umul\" | grep -v \"End of assembler\""
   ]
  },
  {
   "cell_type": "code",
   "execution_count": 38,
   "metadata": {},
   "outputs": [
    {
     "name": "stdout",
     "output_type": "stream",
     "text": [
      "Dump of assembler code for function cmp:\r\n",
      "   0x000000000000110d <+0>:\txor    %eax,%eax\r\n",
      "   0x000000000000110f <+2>:\tcmp    %esi,%edi\r\n",
      "   0x0000000000001111 <+4>:\tsetl   %al\r\n",
      "   0x0000000000001114 <+7>:\tretq   \r\n",
      "Dump of assembler code for function ucmp:\r\n",
      "   0x0000000000001115 <+0>:\txor    %eax,%eax\r\n",
      "   0x0000000000001117 <+2>:\tcmp    %esi,%edi\r\n",
      "   0x0000000000001119 <+4>:\tsetb   %al\r\n",
      "   0x000000000000111c <+7>:\tretq   \r\n"
     ]
    }
   ],
   "source": [
    "# Функции cmp и ucmp отличаются!\n",
    "!gdb lib2.so -batch -ex=\"disass cmp\" -ex=\"disass ucmp\" | grep -v \"End of assembler\""
   ]
  },
  {
   "cell_type": "code",
   "execution_count": 39,
   "metadata": {},
   "outputs": [
    {
     "name": "stdout",
     "output_type": "stream",
     "text": [
      "Dump of assembler code for function div:\r\n",
      "   0x000000000000111d <+0>:\tmov    %edi,%eax\r\n",
      "   0x000000000000111f <+2>:\tcltd   \r\n",
      "   0x0000000000001120 <+3>:\tidiv   %esi\r\n",
      "   0x0000000000001122 <+5>:\tretq   \r\n",
      "Dump of assembler code for function udiv:\r\n",
      "   0x0000000000001123 <+0>:\tmov    %edi,%eax\r\n",
      "   0x0000000000001125 <+2>:\txor    %edx,%edx\r\n",
      "   0x0000000000001127 <+4>:\tdiv    %esi\r\n",
      "   0x0000000000001129 <+6>:\tretq   \r\n"
     ]
    }
   ],
   "source": [
    "!gdb lib2.so -batch -ex=\"disass div\" -ex=\"disass udiv\" | grep -v \"End of assembler\""
   ]
  },
  {
   "cell_type": "code",
   "execution_count": null,
   "metadata": {},
   "outputs": [],
   "source": []
  },
  {
   "cell_type": "markdown",
   "metadata": {},
   "source": [
    "## <a name=\"size\"></a> Про размеры int'ов и знаковость\n",
    "\n",
    "<p> <details> <summary> ► Установка всякого-разного</summary>\n",
    " \n",
    "Для `-m32`\n",
    "\n",
    "`sudo apt-get install g++-multilib libc6-dev-i386`\n",
    "\n",
    "Для `qemu-arm`\n",
    "\n",
    "`sudo apt-get install qemu-system-arm qemu-user`\n",
    "\n",
    "`sudo apt-get install lib32z1`\n",
    "\n",
    "Для сборки и запуска arm:\n",
    "\n",
    "`wget http://releases.linaro.org/components/toolchain/binaries/7.3-2018.05/arm-linux-gnueabi/gcc-linaro-7.3.1-2018.05-i686_arm-linux-gnueabi.tar.xz`\n",
    "\n",
    "`tar xvf gcc-linaro-7.3.1-2018.05-i686_arm-linux-gnueabi.tar.xz`\n",
    "\n",
    "\n",
    "</details> </p>\n"
   ]
  },
  {
   "cell_type": "code",
   "execution_count": 41,
   "metadata": {},
   "outputs": [],
   "source": [
    "# Add path to compilers to PATH\n",
    "import os\n",
    "os.environ[\"PATH\"] = os.environ[\"PATH\"] + \":\" + \\\n",
    "    \"/home/pechatnov/arm/gcc-linaro-7.3.1-2018.05-i686_arm-linux-gnueabi/bin\""
   ]
  },
  {
   "cell_type": "code",
   "execution_count": 48,
   "metadata": {},
   "outputs": [
    {
     "data": {
      "text/markdown": [
       "Run: `gcc size.c -o size.exe && ./size.exe # Компилируем обычным образом`"
      ],
      "text/plain": [
       "<IPython.core.display.Markdown object>"
      ]
     },
     "metadata": {},
     "output_type": "display_data"
    },
    {
     "name": "stdout",
     "output_type": "stream",
     "text": [
      "is char signed = 0, sizeof(long int) = 8\r\n"
     ]
    },
    {
     "data": {
      "text/markdown": [
       "Run: `gcc -m32 size.c -o size.exe && ./size.exe # Под 32-битную архитектуру`"
      ],
      "text/plain": [
       "<IPython.core.display.Markdown object>"
      ]
     },
     "metadata": {},
     "output_type": "display_data"
    },
    {
     "name": "stdout",
     "output_type": "stream",
     "text": [
      "is char signed = 0, sizeof(long int) = 4\r\n"
     ]
    },
    {
     "data": {
      "text/markdown": [
       "Run: `arm-linux-gnueabi-gcc -marm size.c -o size.exe && qemu-arm -L ~/arm/gcc-linaro-7.3.1-2018.05-i686_arm-linux-gnueabi/arm-linux-gnueabi/libc ./size.exe # Под ARM`"
      ],
      "text/plain": [
       "<IPython.core.display.Markdown object>"
      ]
     },
     "metadata": {},
     "output_type": "display_data"
    },
    {
     "name": "stdout",
     "output_type": "stream",
     "text": [
      "is char signed = 1, sizeof(long int) = 4\r\n"
     ]
    }
   ],
   "source": [
    "%%cpp size.c\n",
    "%run gcc size.c -o size.exe && ./size.exe # Компилируем обычным образом\n",
    "%run gcc -m32 size.c -o size.exe && ./size.exe # Под 32-битную архитектуру\n",
    "%run arm-linux-gnueabi-gcc -marm size.c -o size.exe && qemu-arm -L ~/arm/gcc-linaro-7.3.1-2018.05-i686_arm-linux-gnueabi/arm-linux-gnueabi/libc ./size.exe # Под ARM\n",
    "\n",
    "#include <stdio.h>\n",
    "\n",
    "int main() {\n",
    "    printf(\"is char signed = %d, \", (int)((char)(-1) > 0));\n",
    "    printf(\"sizeof(long int) = %d\\n\", (int)sizeof(long int));\n",
    "}"
   ]
  },
  {
   "cell_type": "markdown",
   "metadata": {},
   "source": [
    "Какой из этого можно сделать вывод? Хотите понятный тип - используйте типы с детерминированым размером и знаковостью - uint64_t и другие подобные "
   ]
  },
  {
   "cell_type": "code",
   "execution_count": null,
   "metadata": {},
   "outputs": [],
   "source": []
  },
  {
   "cell_type": "code",
   "execution_count": null,
   "metadata": {},
   "outputs": [],
   "source": []
  },
  {
   "cell_type": "markdown",
   "metadata": {},
   "source": [
    "## <a name=\"bit\"></a> Битовые операции\n",
    "\n",
    "`^`, `|`, `&`, `~`, `>>`, `<<`"
   ]
  },
  {
   "cell_type": "code",
   "execution_count": 56,
   "metadata": {
    "scrolled": true
   },
   "outputs": [
    {
     "data": {
      "text/markdown": [
       "`my_bin(     a) = 0b0110`  # 4-битное число"
      ],
      "text/plain": [
       "<IPython.core.display.Markdown object>"
      ]
     },
     "metadata": {},
     "output_type": "display_data"
    },
    {
     "data": {
      "text/markdown": [
       "`my_bin(    ~a) = 0b1001`  # Его побитовое отрицание"
      ],
      "text/plain": [
       "<IPython.core.display.Markdown object>"
      ]
     },
     "metadata": {},
     "output_type": "display_data"
    },
    {
     "data": {
      "text/markdown": [
       "`my_bin(a >> 1) = 0b0011`  # Его сдвиг вправо на 1"
      ],
      "text/plain": [
       "<IPython.core.display.Markdown object>"
      ]
     },
     "metadata": {},
     "output_type": "display_data"
    },
    {
     "data": {
      "text/markdown": [
       "`my_bin(a << 1) = 0b1100`  # Его сдвиг влево на 1"
      ],
      "text/plain": [
       "<IPython.core.display.Markdown object>"
      ]
     },
     "metadata": {},
     "output_type": "display_data"
    }
   ],
   "source": [
    "a = 0b0110\n",
    "\n",
    "def my_bin(x, digits=4):\n",
    "    m = (1 << digits)\n",
    "    x = ((x % m) + m) % m # Эмулируем конечное число бит в int-е в python \n",
    "    return \"0b{:0{digits}b}\".format(x, digits=digits)\n",
    "\n",
    "%p my_bin(     a)  # 4-битное число\n",
    "%p my_bin(    ~a)  # Его побитовое отрицание\n",
    "%p my_bin(a >> 1)  # Его сдвиг вправо на 1\n",
    "%p my_bin(a << 1)  # Его сдвиг влево на 1"
   ]
  },
  {
   "cell_type": "code",
   "execution_count": 57,
   "metadata": {},
   "outputs": [
    {
     "data": {
      "text/markdown": [
       "`my_bin(x    ) = 0b0011`  # X"
      ],
      "text/plain": [
       "<IPython.core.display.Markdown object>"
      ]
     },
     "metadata": {},
     "output_type": "display_data"
    },
    {
     "data": {
      "text/markdown": [
       "`my_bin(y    ) = 0b1001`  # Y"
      ],
      "text/plain": [
       "<IPython.core.display.Markdown object>"
      ]
     },
     "metadata": {},
     "output_type": "display_data"
    },
    {
     "data": {
      "text/markdown": [
       "`my_bin(x | y) = 0b1011`  # Побитовый OR"
      ],
      "text/plain": [
       "<IPython.core.display.Markdown object>"
      ]
     },
     "metadata": {},
     "output_type": "display_data"
    },
    {
     "data": {
      "text/markdown": [
       "`my_bin(x ^ y) = 0b1010`  # Побитовый XOR"
      ],
      "text/plain": [
       "<IPython.core.display.Markdown object>"
      ]
     },
     "metadata": {},
     "output_type": "display_data"
    },
    {
     "data": {
      "text/markdown": [
       "`my_bin(x & y) = 0b0001`  # Побитовый AND"
      ],
      "text/plain": [
       "<IPython.core.display.Markdown object>"
      ]
     },
     "metadata": {},
     "output_type": "display_data"
    }
   ],
   "source": [
    "x = 0b0011\n",
    "y = 0b1001\n",
    "\n",
    "%p my_bin(x    )  # X\n",
    "%p my_bin(y    )  # Y\n",
    "\n",
    "%p my_bin(x | y)  # Побитовый OR\n",
    "%p my_bin(x ^ y)  # Побитовый XOR\n",
    "%p my_bin(x & y)  # Побитовый AND"
   ]
  },
  {
   "cell_type": "markdown",
   "metadata": {},
   "source": [
    "Задачки:\n",
    "1. Получите из числа `a` `i`-ый бит \n",
    "2. Выставьте в целом числе `a` `i`-ый бит \n",
    "3. Занулите в целом числе `a` `i`-ый бит \n",
    "4. Инвертируйте в целом числе `a` `i`-ый бит \n",
    "5. Получите биты числа `a` с `i` по `j` невключительно как беззнаковое число\n",
    "6. Скопируйте в биты числа `a` с `i` по `j` невключительно младшие биты числа `b` \n",
    "\n",
    "<details> <summary>  ► Решения с семинара </summary>\n",
    "<pre> <code> \n",
    "\n",
    "</code> </pre>\n",
    "</details>"
   ]
  },
  {
   "cell_type": "markdown",
   "metadata": {},
   "source": [
    "## <a name=\"float\"></a> Вещественные числа\n",
    "\n",
    "Давайте просто посмотрим на битовые представления вещественных чисел и найдем закономерности :)"
   ]
  },
  {
   "cell_type": "code",
   "execution_count": 63,
   "metadata": {},
   "outputs": [],
   "source": [
    "%%cpp stand.h\n",
    "// Можно не вникать, просто печаталка битиков\n",
    "\n",
    "#include <stdio.h>\n",
    "#include <stdint.h>\n",
    "#include <inttypes.h>\n",
    "#include <string.h>\n",
    "\n",
    "// #define EXTRA_INFO // включение более подробного вывода\n",
    "#if defined(EXTRA_INFO)\n",
    "    #define FORMULA_TEXT \"(-1)^S * 2^(E-B) * (1+M/(2^Mbits))\"\n",
    "    #define IS_VLINE_POINT(i) (i == 63 || i == 52)\n",
    "    #define DESCRIBE(d) describe_double(d)\n",
    "typedef union {\n",
    "    double double_val;\n",
    "    struct {\n",
    "        uint64_t mantissa_val : 52;\n",
    "        uint64_t exp_val : 11;\n",
    "        uint64_t sign_val : 1;\n",
    "    };\n",
    "} double_parser_t;\n",
    "\n",
    "void describe_double(double x) {\n",
    "    double_parser_t parser = {.double_val = x};\n",
    "    printf(\"  (-1)^%d * 2^(%d) * 0x1.%013llx\", \n",
    "           (int)parser.sign_val, parser.exp_val - 1023, (long long unsigned int)parser.mantissa_val);\n",
    "}\n",
    "\n",
    "#else\n",
    "    #define FORMULA_TEXT \"\"\n",
    "    #define IS_VLINE_POINT(i) 0\n",
    "    #define DESCRIBE(d) (void)(d)\n",
    "#endif\n",
    "\n",
    "inline uint64_t bits_of_double(double d) {\n",
    "    uint64_t result;\n",
    "    memcpy(&result, &d, sizeof(result));\n",
    "    return result;\n",
    "}\n",
    "\n",
    "inline void print_doubles(double* dds) {\n",
    "    char line_1[70] = {0}, line_2[70] = {0}, hline[70] = {0};\n",
    "    int j = 0;\n",
    "    for (int i = 63; i >= 0; --i) {\n",
    "        line_1[j] = (i % 10 == 0) ? ('0' + (i / 10)) : ' ';\n",
    "        line_2[j] = '0' + (i % 10);\n",
    "        hline[j] = '-';\n",
    "        ++j;\n",
    "        if (IS_VLINE_POINT(i)) {\n",
    "            line_1[j] = line_2[j] = '|';\n",
    "            hline[j] = '-';\n",
    "            ++j;\n",
    "        }\n",
    "    }\n",
    "    printf(\"Bit numbers: %s\\n\", line_1);\n",
    "    printf(\"             %s  \" FORMULA_TEXT \"\\n\", line_2);\n",
    "    printf(\"             %s\\n\", hline);\n",
    "    for (double* d = dds; *d; ++d) {\n",
    "        printf(\"%10.4lf   \", *d);\n",
    "        uint64_t m = bits_of_double(*d);\n",
    "        for (int i = 63; i >= 0; --i) {\n",
    "            printf(\"%d\", (int)((m >> i) & 1));\n",
    "            if (IS_VLINE_POINT(i)) {\n",
    "                printf(\"|\");\n",
    "            }\n",
    "        }\n",
    "        DESCRIBE(*d);\n",
    "        printf(\"\\n\");\n",
    "    }\n",
    "}"
   ]
  },
  {
   "cell_type": "markdown",
   "metadata": {},
   "source": [
    "##### Посмотрим на пары чисел x и -x"
   ]
  },
  {
   "cell_type": "code",
   "execution_count": 64,
   "metadata": {
    "scrolled": true
   },
   "outputs": [
    {
     "data": {
      "text/markdown": [
       "Run: `gcc stand.cpp -o stand.exe`"
      ],
      "text/plain": [
       "<IPython.core.display.Markdown object>"
      ]
     },
     "metadata": {},
     "output_type": "display_data"
    },
    {
     "data": {
      "text/markdown": [
       "Run: `./stand.exe`"
      ],
      "text/plain": [
       "<IPython.core.display.Markdown object>"
      ]
     },
     "metadata": {},
     "output_type": "display_data"
    },
    {
     "name": "stdout",
     "output_type": "stream",
     "text": [
      "Bit numbers:    6         5         4         3         2         1         0\r\n",
      "             3210987654321098765432109876543210987654321098765432109876543210  \r\n",
      "             ----------------------------------------------------------------\r\n",
      "    1.0000   0011111111110000000000000000000000000000000000000000000000000000\r\n",
      "   -1.0000   1011111111110000000000000000000000000000000000000000000000000000\r\n",
      "  132.0000   0100000001100000100000000000000000000000000000000000000000000000\r\n",
      " -132.0000   1100000001100000100000000000000000000000000000000000000000000000\r\n",
      "    3.1415   0100000000001001001000011100101011000000100000110001001001101111\r\n",
      "   -3.1415   1100000000001001001000011100101011000000100000110001001001101111\r\n"
     ]
    }
   ],
   "source": [
    "%%cpp stand.cpp\n",
    "%run gcc stand.cpp -o stand.exe\n",
    "%run ./stand.exe\n",
    "\n",
    "#include \"stand.h\"\n",
    "\n",
    "int main() {\n",
    "    double dd[] = {1, -1, 132, -132, 3.1415, -3.1415,  0};\n",
    "    print_doubles(dd);\n",
    "}"
   ]
  },
  {
   "cell_type": "markdown",
   "metadata": {},
   "source": [
    "##### Посмотрим на степени 2-ки"
   ]
  },
  {
   "cell_type": "code",
   "execution_count": 65,
   "metadata": {
    "scrolled": true
   },
   "outputs": [
    {
     "data": {
      "text/markdown": [
       "Run: `gcc stand.cpp -o stand.exe`"
      ],
      "text/plain": [
       "<IPython.core.display.Markdown object>"
      ]
     },
     "metadata": {},
     "output_type": "display_data"
    },
    {
     "data": {
      "text/markdown": [
       "Run: `./stand.exe`"
      ],
      "text/plain": [
       "<IPython.core.display.Markdown object>"
      ]
     },
     "metadata": {},
     "output_type": "display_data"
    },
    {
     "name": "stdout",
     "output_type": "stream",
     "text": [
      "Bit numbers:    6         5         4         3         2         1         0\r\n",
      "             3210987654321098765432109876543210987654321098765432109876543210  \r\n",
      "             ----------------------------------------------------------------\r\n",
      "    0.1250   0011111111000000000000000000000000000000000000000000000000000000\r\n",
      "    0.2500   0011111111010000000000000000000000000000000000000000000000000000\r\n",
      "    0.5000   0011111111100000000000000000000000000000000000000000000000000000\r\n",
      "    1.0000   0011111111110000000000000000000000000000000000000000000000000000\r\n",
      "    2.0000   0100000000000000000000000000000000000000000000000000000000000000\r\n",
      "    4.0000   0100000000010000000000000000000000000000000000000000000000000000\r\n",
      "    8.0000   0100000000100000000000000000000000000000000000000000000000000000\r\n",
      "   16.0000   0100000000110000000000000000000000000000000000000000000000000000\r\n"
     ]
    }
   ],
   "source": [
    "%%cpp stand.cpp\n",
    "%run gcc stand.cpp -o stand.exe\n",
    "%run ./stand.exe\n",
    "\n",
    "#include \"stand.h\"\n",
    "\n",
    "int main() {\n",
    "    double dd[] = {0.125, 0.25, 0.5, 1, 2, 4, 8, 16, 0};\n",
    "    print_doubles(dd);\n",
    "}"
   ]
  },
  {
   "cell_type": "markdown",
   "metadata": {},
   "source": [
    "##### Посмотрим на числа вида $ 1 + i \\cdot 2^{(-k)}$"
   ]
  },
  {
   "cell_type": "code",
   "execution_count": 67,
   "metadata": {
    "scrolled": true
   },
   "outputs": [
    {
     "data": {
      "text/markdown": [
       "Run: `gcc stand.cpp -o stand.exe`"
      ],
      "text/plain": [
       "<IPython.core.display.Markdown object>"
      ]
     },
     "metadata": {},
     "output_type": "display_data"
    },
    {
     "data": {
      "text/markdown": [
       "Run: `./stand.exe`"
      ],
      "text/plain": [
       "<IPython.core.display.Markdown object>"
      ]
     },
     "metadata": {},
     "output_type": "display_data"
    },
    {
     "name": "stdout",
     "output_type": "stream",
     "text": [
      "Bit numbers:    6         5         4         3         2         1         0\r\n",
      "             3210987654321098765432109876543210987654321098765432109876543210  \r\n",
      "             ----------------------------------------------------------------\r\n",
      "    1.0000   0011111111110000000000000000000000000000000000000000000000000000\r\n",
      "    1.1250   0011111111110010000000000000000000000000000000000000000000000000\r\n",
      "    1.2500   0011111111110100000000000000000000000000000000000000000000000000\r\n",
      "    1.3750   0011111111110110000000000000000000000000000000000000000000000000\r\n",
      "    1.5000   0011111111111000000000000000000000000000000000000000000000000000\r\n",
      "    1.6250   0011111111111010000000000000000000000000000000000000000000000000\r\n",
      "    1.7500   0011111111111100000000000000000000000000000000000000000000000000\r\n",
      "    1.8750   0011111111111110000000000000000000000000000000000000000000000000\r\n"
     ]
    }
   ],
   "source": [
    "%%cpp stand.cpp\n",
    "%run gcc stand.cpp -o stand.exe\n",
    "%run ./stand.exe\n",
    "\n",
    "#include \"stand.h\"\n",
    "\n",
    "int main() {\n",
    "    double t8 = 1.0 / 8;\n",
    "    double dd[] = {1 + 0 * t8, 1 + 1 * t8, 1 + 2 * t8, 1 + 3 * t8, 1 + 4 * t8, \n",
    "                   1 + 5 * t8, 1 + 6 * t8, 1 + 7 * t8, 0};\n",
    "    print_doubles(dd);\n",
    "}"
   ]
  },
  {
   "cell_type": "markdown",
   "metadata": {},
   "source": [
    "##### Посмотрим на числа вида $ 1 + i \\cdot 2^{(-k)}$"
   ]
  },
  {
   "cell_type": "code",
   "execution_count": 68,
   "metadata": {},
   "outputs": [
    {
     "data": {
      "text/markdown": [
       "Run: `gcc stand.cpp -o stand.exe`"
      ],
      "text/plain": [
       "<IPython.core.display.Markdown object>"
      ]
     },
     "metadata": {},
     "output_type": "display_data"
    },
    {
     "data": {
      "text/markdown": [
       "Run: `./stand.exe`"
      ],
      "text/plain": [
       "<IPython.core.display.Markdown object>"
      ]
     },
     "metadata": {},
     "output_type": "display_data"
    },
    {
     "name": "stdout",
     "output_type": "stream",
     "text": [
      "Bit numbers:    6         5         4         3         2         1         0\r\n",
      "             3210987654321098765432109876543210987654321098765432109876543210  \r\n",
      "             ----------------------------------------------------------------\r\n",
      "    1.0000   0011111111110000000000000000000000000000000000000000000000000000\r\n",
      "    1.0000   0011111111110000000000000000000000000000000000000000000000000001\r\n",
      "    1.0000   0011111111110000000000000000000000000000000000000000000000000010\r\n",
      "    1.0000   0011111111110000000000000000000000000000000000000000000000000011\r\n",
      "    1.0000   0011111111110000000000000000000000000000000000000000000000000100\r\n"
     ]
    }
   ],
   "source": [
    "%%cpp stand.cpp\n",
    "%run gcc stand.cpp -o stand.exe\n",
    "%run ./stand.exe\n",
    "\n",
    "#include \"stand.h\"\n",
    "\n",
    "int main() {\n",
    "    double eps = 1.0 / (1LL << 52);\n",
    "    double dd[] = {1 + 0 * eps, 1 + 1 * eps, 1 + 2 * eps, 1 + 3 * eps, 1 + 4 * eps, 0};\n",
    "    print_doubles(dd);\n",
    "}"
   ]
  },
  {
   "cell_type": "markdown",
   "metadata": {},
   "source": [
    "##### Посмотрим на существенно разные значения double"
   ]
  },
  {
   "cell_type": "code",
   "execution_count": 69,
   "metadata": {},
   "outputs": [
    {
     "data": {
      "text/markdown": [
       "Run: `gcc stand.cpp -o stand.exe`"
      ],
      "text/plain": [
       "<IPython.core.display.Markdown object>"
      ]
     },
     "metadata": {},
     "output_type": "display_data"
    },
    {
     "data": {
      "text/markdown": [
       "Run: `./stand.exe`"
      ],
      "text/plain": [
       "<IPython.core.display.Markdown object>"
      ]
     },
     "metadata": {},
     "output_type": "display_data"
    },
    {
     "name": "stdout",
     "output_type": "stream",
     "text": [
      "Bit numbers:    6         5         4         3         2         1         0\r\n",
      "             3210987654321098765432109876543210987654321098765432109876543210  \r\n",
      "             ----------------------------------------------------------------\r\n",
      "    1.5000   0011111111111000000000000000000000000000000000000000000000000000\r\n",
      "  100.0000   0100000001011001000000000000000000000000000000000000000000000000\r\n",
      "       nan   0111111111111000000000000000000000000000000000000000000000000000\r\n",
      "      -nan   1111111111111000000000000000000000000000000000000000000000000000\r\n",
      "      -nan   1111111111111000000000000000000000000000000000000000000000000000\r\n",
      "       inf   0111111111110000000000000000000000000000000000000000000000000000\r\n",
      "      -inf   1111111111110000000000000000000000000000000000000000000000000000\r\n"
     ]
    }
   ],
   "source": [
    "%%cpp stand.cpp\n",
    "%run gcc stand.cpp -o stand.exe\n",
    "%run ./stand.exe\n",
    "\n",
    "#include <math.h>\n",
    "#include \"stand.h\"\n",
    "\n",
    "int main() {\n",
    "    double dd[] = {1.5, 100, NAN, -NAN, 0.0 / 0.0, INFINITY, -INFINITY, 0};\n",
    "    print_doubles(dd);\n",
    "}"
   ]
  },
  {
   "cell_type": "code",
   "execution_count": null,
   "metadata": {},
   "outputs": [],
   "source": []
  },
  {
   "cell_type": "markdown",
   "metadata": {},
   "source": [
    "Я надеюсь по примерам вы уловили суть. Подробнее за теорией можно в \n",
    "[Ридинг Яковлева: Вещественная арифметика](https://github.com/victor-yacovlev/mipt-diht-caos/tree/master/practice/ieee754) "
   ]
  },
  {
   "cell_type": "code",
   "execution_count": null,
   "metadata": {},
   "outputs": [],
   "source": []
  },
  {
   "cell_type": "code",
   "execution_count": null,
   "metadata": {},
   "outputs": [],
   "source": []
  },
  {
   "cell_type": "markdown",
   "metadata": {},
   "source": [
    "# Дополнение про bitcast"
   ]
  },
  {
   "cell_type": "code",
   "execution_count": 74,
   "metadata": {},
   "outputs": [
    {
     "data": {
      "text/markdown": [
       "Run: `gcc -O2 -Wall bitcast.c -o bitcast.exe  -Os -fno-asynchronous-unwind-tables -fcf-protection=branch -mmanual-endbr`"
      ],
      "text/plain": [
       "<IPython.core.display.Markdown object>"
      ]
     },
     "metadata": {},
     "output_type": "display_data"
    },
    {
     "name": "stdout",
     "output_type": "stream",
     "text": [
      "\u001b[01m\u001b[Kbitcast.c:\u001b[m\u001b[K In function ‘\u001b[01m\u001b[Kbit_cast_ptr\u001b[m\u001b[K’:\r\n",
      "\u001b[01m\u001b[Kbitcast.c:29:13:\u001b[m\u001b[K \u001b[01;35m\u001b[Kwarning: \u001b[m\u001b[Kdereferencing type-punned pointer will break strict-aliasing rules [\u001b[01;35m\u001b[K-Wstrict-aliasing\u001b[m\u001b[K]\r\n",
      "   29 |     return *\u001b[01;35m\u001b[K(uint64_t*)(void*)&d\u001b[m\u001b[K; // Простое, но неоднозначное решение из-за алиасинга\r\n",
      "      |             \u001b[01;35m\u001b[K^~~~~~~~~~~~~~~~~~~~\u001b[m\u001b[K\r\n"
     ]
    },
    {
     "data": {
      "text/markdown": [
       "Run: `./bitcast.exe`"
      ],
      "text/plain": [
       "<IPython.core.display.Markdown object>"
      ]
     },
     "metadata": {},
     "output_type": "display_data"
    },
    {
     "name": "stdout",
     "output_type": "stream",
     "text": [
      "4614275588213125939\r\n",
      "4614275588213125939\r\n",
      "4614275588213125939\r\n"
     ]
    }
   ],
   "source": [
    "%%cpp bitcast.c\n",
    "%run gcc -O2 -Wall bitcast.c -o bitcast.exe  -Os -fno-asynchronous-unwind-tables -fcf-protection=branch -mmanual-endbr \n",
    "%run ./bitcast.exe\n",
    "\n",
    "#include <stdio.h>\n",
    "#include <string.h>\n",
    "#include <stdint.h>\n",
    "#include <inttypes.h>\n",
    "\n",
    "uint64_t bit_cast_memcpy(double d) {\n",
    "    uint64_t result;\n",
    "    memcpy(&result, &d, sizeof(result)); // Железобетонный способ, но чуть сложнее для оптимизатора\n",
    "    return result;\n",
    "}\n",
    "\n",
    "typedef union {\n",
    "    double double_val;\n",
    "    uint64_t ui64_val;\n",
    "} converter_t;\n",
    "\n",
    "uint64_t bit_cast_union(double d) {\n",
    "    converter_t conv;\n",
    "    conv.double_val = d;\n",
    "    return conv.ui64_val;\n",
    "    //return ((converter_t){.double_val = d}).ui64_val; // Вроде (?) хорошее решение\n",
    "}\n",
    "\n",
    "uint64_t bit_cast_ptr(double d) {\n",
    "    return *(uint64_t*)(void*)&d; // Простое, но неоднозначное решение из-за алиасинга\n",
    "}\n",
    "\n",
    "int main() {\n",
    "    double d = 3.15;\n",
    "    printf(\"%\" PRId64 \"\\n\", bit_cast_memcpy(d));\n",
    "    printf(\"%\" PRId64 \"\\n\", bit_cast_union(d));\n",
    "    printf(\"%\" PRId64 \"\\n\", bit_cast_memcpy(d));\n",
    "}"
   ]
  },
  {
   "cell_type": "code",
   "execution_count": 76,
   "metadata": {},
   "outputs": [
    {
     "name": "stdout",
     "output_type": "stream",
     "text": [
      "Dump of assembler code for function bit_cast_memcpy:\r\n",
      "   0x00000000000011a9 <+0>:\tmovq   %xmm0,%rax\r\n",
      "   0x00000000000011ae <+5>:\tretq   \r\n",
      "End of assembler dump.\r\n",
      "Dump of assembler code for function bit_cast_union:\r\n",
      "   0x00000000000011af <+0>:\tmovq   %xmm0,%rax\r\n",
      "   0x00000000000011b4 <+5>:\tretq   \r\n",
      "End of assembler dump.\r\n",
      "Dump of assembler code for function bit_cast_ptr:\r\n",
      "   0x00000000000011b5 <+0>:\tmovq   %xmm0,%rax\r\n",
      "   0x00000000000011ba <+5>:\tretq   \r\n",
      "End of assembler dump.\r\n"
     ]
    }
   ],
   "source": [
    "# Все способы одинаково эффективны при компиляции с -O2\n",
    "!gdb bitcast.exe -batch -ex=\"disass bit_cast_memcpy\" -ex=\"disass bit_cast_union\" -ex=\"disass bit_cast_ptr\""
   ]
  },
  {
   "cell_type": "markdown",
   "metadata": {},
   "source": [
    "Я бы рекомендовал использовать в таких случаях memcpy. [Так сделано в std::bit_cast](https://en.cppreference.com/w/cpp/numeric/bit_cast)\n",
    "\n",
    "[Про C++ алиасинг, ловкие оптимизации и подлые баги / Хабр](https://habr.com/ru/post/114117/)"
   ]
  },
  {
   "cell_type": "code",
   "execution_count": null,
   "metadata": {},
   "outputs": [],
   "source": []
  },
  {
   "cell_type": "markdown",
   "metadata": {},
   "source": [
    "\n",
    "## <a name=\"str\"></a> Строки\n",
    "\n",
    "\n",
    "`pip3 install --user hexdump` - установить."
   ]
  },
  {
   "cell_type": "code",
   "execution_count": 155,
   "metadata": {},
   "outputs": [
    {
     "name": "stdout",
     "output_type": "stream",
     "text": [
      "Ïðèâåò, ìèð! - Ïåðåâîä íà ýëüôèéñêèé.\n"
     ]
    }
   ],
   "source": [
    "print(\"Привет, мир! - Перевод на эльфийский.\".encode(\"cp1251\").decode(\"cp1252\"))"
   ]
  },
  {
   "cell_type": "code",
   "execution_count": null,
   "metadata": {},
   "outputs": [],
   "source": []
  },
  {
   "cell_type": "code",
   "execution_count": 81,
   "metadata": {},
   "outputs": [],
   "source": [
    "from hexdump import hexdump"
   ]
  },
  {
   "cell_type": "markdown",
   "metadata": {},
   "source": [
    "### <a name=\"ascii\"></a> ASCII\n",
    "\n",
    "TLDR: ASCII - половина 8-битной кодировки. \n",
    "\n",
    "То есть на самом деле есть целое семейство 8-битных кодировок (например, KOI-8), у которых первые 128 символов - ASCII. \n",
    "\n",
    "В ASCII входят десятичные цифры, латинцский алфавит, знаки препинания, ... смотрите картинку\n",
    "\n",
    "![ascii](./ascii.png)"
   ]
  },
  {
   "cell_type": "code",
   "execution_count": 156,
   "metadata": {},
   "outputs": [
    {
     "name": "stdout",
     "output_type": "stream",
     "text": [
      "00000000: 41 41 42 42 43 43 5F 5F  31 31 32 32 33 33        AABBCC__112233\n",
      "00000000: 48 65 6C 6C 6F 21                                 Hello!\n"
     ]
    }
   ],
   "source": [
    "hexdump(\"AABBCC__112233\".encode(\"ascii\"))\n",
    "hexdump(\"Hello!\".encode(\"ascii\"))"
   ]
  },
  {
   "cell_type": "code",
   "execution_count": 90,
   "metadata": {
    "scrolled": true
   },
   "outputs": [
    {
     "ename": "UnicodeEncodeError",
     "evalue": "'ascii' codec can't encode character '\\u042f' in position 0: ordinal not in range(128)",
     "output_type": "error",
     "traceback": [
      "\u001b[0;31m---------------------------------------------------------------------------\u001b[0m",
      "\u001b[0;31mUnicodeEncodeError\u001b[0m                        Traceback (most recent call last)",
      "\u001b[0;32m<ipython-input-90-3e206cffb737>\u001b[0m in \u001b[0;36m<module>\u001b[0;34m\u001b[0m\n\u001b[0;32m----> 1\u001b[0;31m \u001b[0mhexdump\u001b[0m\u001b[0;34m(\u001b[0m\u001b[0;34m\"Я вижу вас\"\u001b[0m\u001b[0;34m.\u001b[0m\u001b[0mencode\u001b[0m\u001b[0;34m(\u001b[0m\u001b[0;34m\"ascii\"\u001b[0m\u001b[0;34m)\u001b[0m\u001b[0;34m)\u001b[0m\u001b[0;34m\u001b[0m\u001b[0;34m\u001b[0m\u001b[0m\n\u001b[0m",
      "\u001b[0;31mUnicodeEncodeError\u001b[0m: 'ascii' codec can't encode character '\\u042f' in position 0: ordinal not in range(128)"
     ]
    }
   ],
   "source": [
    "hexdump(\"Я вижу вас\".encode(\"ascii\"))"
   ]
  },
  {
   "cell_type": "markdown",
   "metadata": {},
   "source": [
    "Про KOI-8"
   ]
  },
  {
   "cell_type": "code",
   "execution_count": 136,
   "metadata": {},
   "outputs": [
    {
     "name": "stdout",
     "output_type": "stream",
     "text": [
      "00000000: 41 41 42 42 43 43 5F 5F  31 31 32 32 33 33        AABBCC__112233\n",
      "00000000: F1 F1 EF EF B3 B3 5F 5F  F8 F8 F5 F5 FA FA        ......__......\n",
      "00000000: F1 20 D7 C9 D6 D5 20 D7  C1 D3                    . .... ...\n"
     ]
    }
   ],
   "source": [
    "hexdump(\"AABBCC__112233\".encode(\"koi8-r\"))\n",
    "hexdump(\"ЯЯООЁЁ__ЬЬУУЗЗ\".encode(\"koi8-r\"))\n",
    "hexdump(\"Я вижу вас\".encode(\"koi8-r\"))\n"
   ]
  },
  {
   "cell_type": "markdown",
   "metadata": {},
   "source": [
    "### <a name=\"utf-8\"></a> UTF-8\n",
    "\n",
    "UTF-8 - кодировка для Unicode.\n",
    "\n",
    "TLDR: Unicode - пронумерованное множество символов (как единиц смысла, а не глифов) + семейство кодировок UTF"
   ]
  },
  {
   "cell_type": "code",
   "execution_count": 87,
   "metadata": {},
   "outputs": [
    {
     "name": "stdout",
     "output_type": "stream",
     "text": [
      "00000000: 41 41 42 42 43 43 5F 5F  31 31 32 32 33 33        AABBCC__112233\n",
      "00000000: 41 41 42 42 43 43 5F 5F  31 31 32 32 33 33        AABBCC__112233\n"
     ]
    }
   ],
   "source": [
    "hexdump(\"AABBCC__112233\".encode(\"ascii\"))\n",
    "hexdump(\"AABBCC__112233\".encode(\"utf-8\"))"
   ]
  },
  {
   "cell_type": "code",
   "execution_count": 98,
   "metadata": {},
   "outputs": [
    {
     "name": "stdout",
     "output_type": "stream",
     "text": [
      "00000000: F1 F1 EF EF B3 B3 5F 5F  F8 F8 F5 F5 FA FA        ......__......\n",
      "00000000: D0 AF D0 AF D0 9E D0 9E  D0 81 D0 81 5F 5F D0 AC  ............__..\n",
      "00000010: D0 AC D0 A3 D0 A3 D0 97  D0 97                    ..........\n"
     ]
    }
   ],
   "source": [
    "hexdump(\"ЯЯООЁЁ__ЬЬУУЗЗ\".encode(\"koi8-r\"))\n",
    "hexdump(\"ЯЯООЁЁ__ЬЬУУЗЗ\".encode(\"utf-8\"))"
   ]
  },
  {
   "cell_type": "code",
   "execution_count": null,
   "metadata": {},
   "outputs": [],
   "source": [
    "\n"
   ]
  },
  {
   "cell_type": "code",
   "execution_count": 159,
   "metadata": {},
   "outputs": [
    {
     "name": "stdout",
     "output_type": "stream",
     "text": [
      "       CHR: 😊\n",
      "   BIN NUM: 11111011000001010\n",
      "  BIN NUM2: 11111 011000 001010\n",
      " UTF-8 BIN: 11110000 10011111 10011000 10001010\n",
      "       CHR: Ш\n",
      "   BIN NUM: 10000101000\n",
      "  BIN NUM2: 10000 101000\n",
      " UTF-8 BIN: 11010000 10101000\n"
     ]
    }
   ],
   "source": [
    "def add_spaces(s):\n",
    "    return \"\".join(c + (\"\" if (i + 1) % 6 else \" \") for i, c in enumerate(s[::-1]))[::-1]\n",
    "\n",
    "def show_utf_8(c):\n",
    "    num = c if isinstance(c, int) else ord(c) \n",
    "    print(\"       CHR:\", chr(num))\n",
    "    encoded = chr(num).encode(\"utf-8\")\n",
    "    print(\"   BIN NUM: {:b}\".format(num))\n",
    "    print(\"  BIN NUM2:\", add_spaces(\"{:b}\".format(num)))\n",
    "    print(\" UTF-8 BIN:\", \" \".join(\"{:b}\".format(b) for b in encoded))\n",
    "\n",
    "show_utf_8(\"😊\")\n",
    "show_utf_8(\"Ш\")"
   ]
  },
  {
   "cell_type": "code",
   "execution_count": 160,
   "metadata": {},
   "outputs": [
    {
     "name": "stdout",
     "output_type": "stream",
     "text": [
      "Й\n",
      "И ̆\n"
     ]
    }
   ],
   "source": [
    "print(chr(0x0418) + chr(0x0306))\n",
    "print(chr(0x0418) + \" \" + chr(0x0306))"
   ]
  },
  {
   "cell_type": "markdown",
   "metadata": {},
   "source": [
    "&#x0418;&#x0306;"
   ]
  },
  {
   "cell_type": "code",
   "execution_count": null,
   "metadata": {},
   "outputs": [],
   "source": []
  }
 ],
 "metadata": {
  "kernelspec": {
   "display_name": "Python 3",
   "language": "python",
   "name": "python3"
  },
  "language_info": {
   "codemirror_mode": {
    "name": "ipython",
    "version": 3
   },
   "file_extension": ".py",
   "mimetype": "text/x-python",
   "name": "python",
   "nbconvert_exporter": "python",
   "pygments_lexer": "ipython3",
   "version": "3.8.5"
  }
 },
 "nbformat": 4,
 "nbformat_minor": 2
}
