{
 "cells": [
  {
   "cell_type": "code",
   "execution_count": 158,
   "metadata": {},
   "outputs": [
    {
     "data": {
      "application/javascript": [
       "// setup cpp code highlighting\n",
       "IPython.CodeCell.options_default.highlight_modes[\"text/x-c++src\"] = {'reg':[/^%%cpp/]} ;IPython.CodeCell.options_default.highlight_modes[\"text/x-cmake\"] = {'reg':[/^%%cmake/]} ;"
      ],
      "text/plain": [
       "<IPython.core.display.Javascript object>"
      ]
     },
     "metadata": {},
     "output_type": "display_data"
    },
    {
     "data": {
      "text/html": [
       "<!-- YANDEX_METRICA_BEGIN -->\n",
       "    <script type=\"text/javascript\" >\n",
       "       (function(m,e,t,r,i,k,a){m[i]=m[i]||function(){(m[i].a=m[i].a||[]).push(arguments)};\n",
       "       m[i].l=1*new Date();k=e.createElement(t),a=e.getElementsByTagName(t)[0],k.async=1,k.src=r,a.parentNode.insertBefore(k,a)})\n",
       "       (window, document, \"script\", \"https://mc.yandex.ru/metrika/tag.js\", \"ym\");\n",
       "\n",
       "       ym(59260609, \"init\", {\n",
       "            clickmap:true,\n",
       "            trackLinks:true,\n",
       "            accurateTrackBounce:true\n",
       "       });\n",
       "    </script>\n",
       "    <noscript><div><img src=\"https://mc.yandex.ru/watch/59260609\" style=\"position:absolute; left:-9999px;\" alt=\"\" /></div></noscript>\n",
       "    <!-- YANDEX_METRICA_END -->"
      ],
      "text/plain": [
       "<IPython.core.display.HTML object>"
      ]
     },
     "metadata": {},
     "output_type": "display_data"
    },
    {
     "data": {
      "text/html": [
       "В этот ноутбук встроен код Яндекс Метрики для сбора статистики использований. Если вы не хотите, чтобы по вам собиралась статистика, исправьте: yandex_metrica_allowed = False<!-- MAGICS_SETUP_PRINTING_END -->"
      ],
      "text/plain": [
       "<IPython.core.display.HTML object>"
      ]
     },
     "metadata": {},
     "output_type": "display_data"
    }
   ],
   "source": [
    "# look at tools/set_up_magics.ipynb\n",
    "yandex_metrica_allowed = True ; get_ipython().run_cell('# one_liner_str\\n\\nget_ipython().run_cell_magic(\\'javascript\\', \\'\\', \\n    \\'// setup cpp code highlighting\\\\n\\'\\n    \\'IPython.CodeCell.options_default.highlight_modes[\"text/x-c++src\"] = {\\\\\\'reg\\\\\\':[/^%%cpp/]} ;\\'\\n    \\'IPython.CodeCell.options_default.highlight_modes[\"text/x-cmake\"] = {\\\\\\'reg\\\\\\':[/^%%cmake/]} ;\\'\\n)\\n\\n# creating magics\\nfrom IPython.core.magic import register_cell_magic, register_line_magic\\nfrom IPython.display import display, Markdown, HTML\\nimport argparse\\nfrom subprocess import Popen, PIPE, STDOUT, check_output\\nimport html\\nimport random\\nimport sys\\nimport os\\nimport re\\nimport signal\\nimport shutil\\nimport shlex\\nimport glob\\nimport time\\n\\n@register_cell_magic\\ndef save_file(args_str, cell, line_comment_start=\"#\"):\\n    parser = argparse.ArgumentParser()\\n    parser.add_argument(\"fname\")\\n    parser.add_argument(\"--ejudge-style\", action=\"store_true\")\\n    parser.add_argument(\"--under-spoiler-threshold\", type=int, default=None)\\n    args = parser.parse_args(args_str.split())\\n    \\n    cell = cell if cell[-1] == \\'\\\\n\\' or args.no_eof_newline else cell + \"\\\\n\"\\n    cmds = []\\n    with open(args.fname, \"w\") as f:\\n        f.write(line_comment_start + \" %%cpp \" + args_str + \"\\\\n\")\\n        for line in cell.split(\"\\\\n\"):\\n            line_to_write = (line if not args.ejudge_style else line.rstrip()) + \"\\\\n\"\\n            if line.startswith(\"%\"):\\n                run_prefix = \"%run \"\\n                if line.startswith(run_prefix):\\n                    cmds.append(line[len(run_prefix):].strip())\\n                    f.write(line_comment_start + \" \" + line_to_write)\\n                    continue\\n                comment_prefix = \"%\" + line_comment_start\\n                if line.startswith(comment_prefix):\\n                    cmds.append(\\'#\\' + line[len(comment_prefix):].strip())\\n                    f.write(line_comment_start + \" \" + line_to_write)\\n                    continue\\n                raise Exception(\"Unknown %%save_file subcommand: \\'%s\\'\" % line)\\n            else:\\n                f.write(line_to_write)\\n        f.write(\"\" if not args.ejudge_style else line_comment_start + r\" line without \\\\n\")\\n    for cmd in cmds:\\n        if cmd.startswith(\\'#\\'):\\n            display(Markdown(\"\\\\#\\\\#\\\\#\\\\# `%s`\" % cmd[1:]))\\n        else:\\n            display(Markdown(\"Run: `%s`\" % cmd))\\n            if args.under_spoiler_threshold:\\n                out = check_output(cmd, stderr=STDOUT, shell=True, universal_newlines=True)\\n                out = out[:-1] if out.endswith(\\'\\\\n\\') else out\\n                out = html.escape(out)\\n                if len(out.split(\\'\\\\n\\')) > args.under_spoiler_threshold:\\n                    out = \"<details> <summary> output </summary> <pre><code>%s</code></pre></details>\" % out\\n                elif out:\\n                    out = \"<pre><code>%s</code></pre>\" % out\\n                if out:\\n                    display(HTML(out))\\n            else:\\n                get_ipython().system(cmd)\\n\\n@register_cell_magic\\ndef cpp(fname, cell):\\n    save_file(fname, cell, \"//\")\\n    \\n@register_cell_magic\\ndef cmake(fname, cell):\\n    save_file(fname, cell, \"#\")\\n\\n@register_cell_magic\\ndef asm(fname, cell):\\n    save_file(fname, cell, \"//\")\\n    \\n@register_cell_magic\\ndef makefile(fname, cell):\\n    fname = fname or \"makefile\"\\n    assert fname.endswith(\"makefile\")\\n    save_file(fname, cell.replace(\" \" * 4, \"\\\\t\"))\\n        \\n@register_line_magic\\ndef p(line):\\n    line = line.strip() \\n    if line[0] == \\'#\\':\\n        display(Markdown(line[1:].strip()))\\n    else:\\n        try:\\n            expr, comment = line.split(\" #\")\\n            display(Markdown(\"`{} = {}`  # {}\".format(expr.strip(), eval(expr), comment.strip())))\\n        except:\\n            display(Markdown(\"{} = {}\".format(line, eval(line))))\\n    \\n    \\ndef show_log_file(file, return_html_string=False):\\n    obj = file.replace(\\'.\\', \\'_\\').replace(\\'/\\', \\'_\\') + \"_obj\"\\n    html_string = \\'\\'\\'\\n        <!--MD_BEGIN_FILTER-->\\n        <script type=text/javascript>\\n        var entrance___OBJ__ = 0;\\n        var errors___OBJ__ = 0;\\n        function halt__OBJ__(elem, color)\\n        {\\n            elem.setAttribute(\"style\", \"font-size: 14px; background: \" + color + \"; padding: 10px; border: 3px; border-radius: 5px; color: white; \");                    \\n        }\\n        function refresh__OBJ__()\\n        {\\n            entrance___OBJ__ -= 1;\\n            if (entrance___OBJ__ < 0) {\\n                entrance___OBJ__ = 0;\\n            }\\n            var elem = document.getElementById(\"__OBJ__\");\\n            if (elem) {\\n                var xmlhttp=new XMLHttpRequest();\\n                xmlhttp.onreadystatechange=function()\\n                {\\n                    var elem = document.getElementById(\"__OBJ__\");\\n                    console.log(!!elem, xmlhttp.readyState, xmlhttp.status, entrance___OBJ__);\\n                    if (elem && xmlhttp.readyState==4) {\\n                        if (xmlhttp.status==200)\\n                        {\\n                            errors___OBJ__ = 0;\\n                            if (!entrance___OBJ__) {\\n                                if (elem.innerHTML != xmlhttp.responseText) {\\n                                    elem.innerHTML = xmlhttp.responseText;\\n                                }\\n                                if (elem.innerHTML.includes(\"Process finished.\")) {\\n                                    halt__OBJ__(elem, \"#333333\");\\n                                } else {\\n                                    entrance___OBJ__ += 1;\\n                                    console.log(\"req\");\\n                                    window.setTimeout(\"refresh__OBJ__()\", 300); \\n                                }\\n                            }\\n                            return xmlhttp.responseText;\\n                        } else {\\n                            errors___OBJ__ += 1;\\n                            if (!entrance___OBJ__) {\\n                                if (errors___OBJ__ < 6) {\\n                                    entrance___OBJ__ += 1;\\n                                    console.log(\"req\");\\n                                    window.setTimeout(\"refresh__OBJ__()\", 300); \\n                                } else {\\n                                    halt__OBJ__(elem, \"#994444\");\\n                                }\\n                            }\\n                        }\\n                    }\\n                }\\n                xmlhttp.open(\"GET\", \"__FILE__\", true);\\n                xmlhttp.setRequestHeader(\"Cache-Control\", \"no-cache\");\\n                xmlhttp.send();     \\n            }\\n        }\\n        \\n        if (!entrance___OBJ__) {\\n            entrance___OBJ__ += 1;\\n            refresh__OBJ__(); \\n        }\\n        </script>\\n\\n        <p id=\"__OBJ__\" style=\"font-size: 14px; background: #000000; padding: 10px; border: 3px; border-radius: 5px; color: white; \">\\n        </p>\\n        \\n        </font>\\n        <!--MD_END_FILTER-->\\n        <!--MD_FROM_FILE __FILE__.md -->\\n        \\'\\'\\'.replace(\"__OBJ__\", obj).replace(\"__FILE__\", file)\\n    if return_html_string:\\n        return html_string\\n    display(HTML(html_string))\\n\\n    \\nclass TInteractiveLauncher:\\n    tmp_path = \"./interactive_launcher_tmp\"\\n    def __init__(self, cmd):\\n        try:\\n            os.mkdir(TInteractiveLauncher.tmp_path)\\n        except:\\n            pass\\n        name = str(random.randint(0, 1e18))\\n        self.inq_path = os.path.join(TInteractiveLauncher.tmp_path, name + \".inq\")\\n        self.log_path = os.path.join(TInteractiveLauncher.tmp_path, name + \".log\")\\n        \\n        os.mkfifo(self.inq_path)\\n        open(self.log_path, \\'w\\').close()\\n        open(self.log_path + \".md\", \\'w\\').close()\\n\\n        self.pid = os.fork()\\n        if self.pid == -1:\\n            print(\"Error\")\\n        if self.pid == 0:\\n            exe_cands = glob.glob(\"../tools/launcher.py\") + glob.glob(\"../../tools/launcher.py\")\\n            assert(len(exe_cands) == 1)\\n            assert(os.execvp(\"python3\", [\"python3\", exe_cands[0], \"-l\", self.log_path, \"-i\", self.inq_path, \"-c\", cmd]) == 0)\\n        self.inq_f = open(self.inq_path, \"w\")\\n        interactive_launcher_opened_set.add(self.pid)\\n        show_log_file(self.log_path)\\n\\n    def write(self, s):\\n        s = s.encode()\\n        assert len(s) == os.write(self.inq_f.fileno(), s)\\n        \\n    def get_pid(self):\\n        n = 100\\n        for i in range(n):\\n            try:\\n                return int(re.findall(r\"PID = (\\\\d+)\", open(self.log_path).readline())[0])\\n            except:\\n                if i + 1 == n:\\n                    raise\\n                time.sleep(0.1)\\n        \\n    def input_queue_path(self):\\n        return self.inq_path\\n        \\n    def wait_stop(self, timeout):\\n        for i in range(int(timeout * 10)):\\n            wpid, status = os.waitpid(self.pid, os.WNOHANG)\\n            if wpid != 0:\\n                return True\\n            time.sleep(0.1)\\n        return False\\n        \\n    def close(self, timeout=3):\\n        self.inq_f.close()\\n        if not self.wait_stop(timeout):\\n            os.kill(self.get_pid(), signal.SIGKILL)\\n            os.waitpid(self.pid, 0)\\n        os.remove(self.inq_path)\\n        # os.remove(self.log_path)\\n        self.inq_path = None\\n        self.log_path = None \\n        interactive_launcher_opened_set.remove(self.pid)\\n        self.pid = None\\n        \\n    @staticmethod\\n    def terminate_all():\\n        if \"interactive_launcher_opened_set\" not in globals():\\n            globals()[\"interactive_launcher_opened_set\"] = set()\\n        global interactive_launcher_opened_set\\n        for pid in interactive_launcher_opened_set:\\n            print(\"Terminate pid=\" + str(pid), file=sys.stderr)\\n            os.kill(pid, signal.SIGKILL)\\n            os.waitpid(pid, 0)\\n        interactive_launcher_opened_set = set()\\n        if os.path.exists(TInteractiveLauncher.tmp_path):\\n            shutil.rmtree(TInteractiveLauncher.tmp_path)\\n    \\nTInteractiveLauncher.terminate_all()\\n   \\nyandex_metrica_allowed = bool(globals().get(\"yandex_metrica_allowed\", False))\\nif yandex_metrica_allowed:\\n    display(HTML(\\'\\'\\'<!-- YANDEX_METRICA_BEGIN -->\\n    <script type=\"text/javascript\" >\\n       (function(m,e,t,r,i,k,a){m[i]=m[i]||function(){(m[i].a=m[i].a||[]).push(arguments)};\\n       m[i].l=1*new Date();k=e.createElement(t),a=e.getElementsByTagName(t)[0],k.async=1,k.src=r,a.parentNode.insertBefore(k,a)})\\n       (window, document, \"script\", \"https://mc.yandex.ru/metrika/tag.js\", \"ym\");\\n\\n       ym(59260609, \"init\", {\\n            clickmap:true,\\n            trackLinks:true,\\n            accurateTrackBounce:true\\n       });\\n    </script>\\n    <noscript><div><img src=\"https://mc.yandex.ru/watch/59260609\" style=\"position:absolute; left:-9999px;\" alt=\"\" /></div></noscript>\\n    <!-- YANDEX_METRICA_END -->\\'\\'\\'))\\n\\ndef make_oneliner():\\n    html_text = \\'(\"В этот ноутбук встроен код Яндекс Метрики для сбора статистики использований. Если вы не хотите, чтобы по вам собиралась статистика, исправьте: yandex_metrica_allowed = False\" if yandex_metrica_allowed else \"\")\\'\\n    html_text += \\' + \"<\"\"!-- MAGICS_SETUP_PRINTING_END -->\"\\'\\n    return \\'\\'.join([\\n        \\'# look at tools/set_up_magics.ipynb\\\\n\\',\\n        \\'yandex_metrica_allowed = True ; get_ipython().run_cell(%s);\\' % repr(one_liner_str),\\n        \\'display(HTML(%s))\\' % html_text,\\n        \\' #\\'\\'MAGICS_SETUP_END\\'\\n    ])\\n       \\n\\n');display(HTML((\"В этот ноутбук встроен код Яндекс Метрики для сбора статистики использований. Если вы не хотите, чтобы по вам собиралась статистика, исправьте: yandex_metrica_allowed = False\" if yandex_metrica_allowed else \"\") + \"<\"\"!-- MAGICS_SETUP_PRINTING_END -->\")) #MAGICS_SETUP_END"
   ]
  },
  {
   "cell_type": "markdown",
   "metadata": {},
   "source": [
    "# Низкоуровневый ввод-вывод\n",
    "\n",
    "<p><a href=\"https://www.youtube.com/watch?v=DK-IzHeJFPA&list=PLjzMm8llUm4DuIDzX8pmWKYbBy6Enly4i&index=1\" target=\"_blank\">\n",
    "    <h3>Видеозапись семинара</h3>\n",
    "</a></p>\n",
    "\n",
    "\n",
    "[Ридинг Яковлева про низкоуровневый ввод-вывод](https://github.com/victor-yacovlev/mipt-diht-caos/tree/master/practice/file_io) \n",
    "\n",
    "\n",
    "Сегодня в программе:\n",
    "* <a href=\"#linux\" style=\"color:#856024\"> Linux </a>  \n",
    "  * <a href=\"#read\" style=\"color:#856024\"> Чтение из stdin и файлов </a>  \n",
    "  * <a href=\"#write\" style=\"color:#856024\"> Запись в stdout/stderr и файл </a>\n",
    "  * <a href=\"#lseek\" style=\"color:#856024\"> Произвольный доступ к файлам (lseek) </a>\n",
    "  * <a href=\"#pread_pwrite\" style=\"color:#856024\"> pread/pwrite - чтение/запись с произвольной позиции в файле </a>\n",
    "  * <a href=\"#offset64\" style=\"color:#856024\"> Большие оффсеты </a>\n",
    "  * <a href=\"#readv_writev\" style=\"color:#856024\"> readv/writev - чтение/запись сразу в несолько буфферов </a>\n",
    "  * <a href=\"#lsof\" style=\"color:#856024\"> Список открытых файлов (lsof) </a>\n",
    "  * <a href=\"#access\" style=\"color:#856024\"> access - проверка доступа </a>\n",
    "\n",
    "\n",
    "Интересные вопросы: fread - исходники (FILE - ?), модел доступов в linux\n"
   ]
  },
  {
   "cell_type": "markdown",
   "metadata": {},
   "source": [
    "## <a name=\"linux\"></a> Linux"
   ]
  },
  {
   "cell_type": "markdown",
   "metadata": {},
   "source": [
    "Здесь полезно рассматривать процесс как объект в операционной системе. Помимо основного пользовательского потока выполнения у процесса-объекта есть множество атрибутов.\n",
    "\n",
    "Советую прочитать [статью на хабре](https://habr.com/ru/post/423049/#definition), вроде там все очень неплохо написано.\n",
    "\n",
    "Сегодня нас будут интересовать файловые дескрипторы. Каждому открытому файлу и соединению соответствует число (int). Это число используется как идентификатор в функциях, работающих с файлами/соединениями.\n",
    "\n",
    "\n",
    "* 0 - stdin - стандартный поток ввода (STDIN_FILENO - стандартный макрос в C)\n",
    "* 1 - stdout - стандартный поток вывода (STDOUT_FILENO)\n",
    "* 2 - stderr - стандартный поток ошибок (STDERR_FILENO)\n",
    "\n",
    "Примеры использования в bash:\n",
    "\n",
    "* `grep String < file.txt` <-> `grep String 0< file.txt`\n",
    "* `mkdir a_dir 2> /dev/null`\n",
    "* `./some_program < in.txt 1> out.txt` <-> `./some_program < in.txt > out.txt` \n",
    "\n"
   ]
  },
  {
   "cell_type": "markdown",
   "metadata": {},
   "source": [
    "## <a name=\"read\"></a> Read "
   ]
  },
  {
   "cell_type": "code",
   "execution_count": 151,
   "metadata": {
    "scrolled": false
   },
   "outputs": [
    {
     "data": {
      "text/markdown": [
       "Run: `gcc linux_example_read.c -o linux_example_read.exe`"
      ],
      "text/plain": [
       "<IPython.core.display.Markdown object>"
      ]
     },
     "metadata": {},
     "output_type": "display_data"
    },
    {
     "data": {
      "text/markdown": [
       "Run: `echo -n \"Hello from file!\" > linux_example_read.txt`"
      ],
      "text/plain": [
       "<IPython.core.display.Markdown object>"
      ]
     },
     "metadata": {},
     "output_type": "display_data"
    },
    {
     "data": {
      "text/markdown": [
       "Run: `echo -n \"Hello from stdin!\" | ./linux_example_read.exe linux_example_read.txt`"
      ],
      "text/plain": [
       "<IPython.core.display.Markdown object>"
      ]
     },
     "metadata": {},
     "output_type": "display_data"
    },
    {
     "name": "stdout",
     "output_type": "stream",
     "text": [
      "From stdin: 'Hello from stdin!'\r\n",
      "From file 'linux_example_read.txt': 'Hello from file!'\r\n"
     ]
    }
   ],
   "source": [
    "%%cpp linux_example_read.c\n",
    "%run gcc linux_example_read.c -o linux_example_read.exe\n",
    "%run echo -n \"Hello from file!\" > linux_example_read.txt\n",
    "%run echo -n \"Hello from stdin!\" | ./linux_example_read.exe linux_example_read.txt\n",
    "\n",
    "#include <sys/types.h>\n",
    "#include <sys/stat.h>\n",
    "#include <fcntl.h>\n",
    "#include <unistd.h>\n",
    "#include <stdio.h>\n",
    "#include <assert.h>\n",
    "\n",
    "int main(int argc, char *argv[])\n",
    "{\n",
    "    assert(argc >= 2);\n",
    "    const char* file_name = argv[1];\n",
    "    \n",
    "    char buffer[4096];\n",
    "    int bytes_read = read(STDIN_FILENO, buffer, sizeof(buffer));\n",
    "    printf(\"From stdin: '%.*s'\\n\", bytes_read, buffer); // buffer not zero-terminated string after `read`!\n",
    "    \n",
    "    int fd = open(file_name, O_RDONLY); // O_RDWR also works \n",
    "    bytes_read = read(fd, buffer, sizeof(buffer));\n",
    "    printf(\"From file '%s': '%.*s'\\n\", file_name, bytes_read, buffer); \n",
    "    close(fd);\n",
    "    \n",
    "    return 0;\n",
    "}"
   ]
  },
  {
   "cell_type": "markdown",
   "metadata": {},
   "source": [
    "**Но в данном процессе чтения есть проблема, не все данные могут быть доступны для чтения сразу.**"
   ]
  },
  {
   "cell_type": "code",
   "execution_count": 155,
   "metadata": {
    "scrolled": true
   },
   "outputs": [
    {
     "name": "stdout",
     "output_type": "stream",
     "text": [
      "From stdin: 'A'\r\n",
      "From file 'linux_example_read.txt': 'Hello from file!'\r\n"
     ]
    }
   ],
   "source": [
    "!(echo -n \"A\" ; sleep 1 ; echo -n \"B\" 2>/dev/null) | ./linux_example_read.exe linux_example_read.txt"
   ]
  },
  {
   "cell_type": "markdown",
   "metadata": {},
   "source": [
    "Поэтому надо делать ретраи."
   ]
  },
  {
   "cell_type": "code",
   "execution_count": 157,
   "metadata": {},
   "outputs": [
    {
     "data": {
      "text/markdown": [
       "Run: `gcc -D_USE_READ retry_example.c -o retry_example.exe`"
      ],
      "text/plain": [
       "<IPython.core.display.Markdown object>"
      ]
     },
     "metadata": {},
     "output_type": "display_data"
    },
    {
     "data": {
      "text/markdown": [
       "Run: `echo -n \"Hello_world_1!\" | ./retry_example.exe`"
      ],
      "text/plain": [
       "<IPython.core.display.Markdown object>"
      ]
     },
     "metadata": {},
     "output_type": "display_data"
    },
    {
     "name": "stdout",
     "output_type": "stream",
     "text": [
      "Read 'Hello_world_1!'"
     ]
    },
    {
     "data": {
      "text/markdown": [
       "Run: `gcc -D_USE_READ retry_example.c -o retry_example.exe`"
      ],
      "text/plain": [
       "<IPython.core.display.Markdown object>"
      ]
     },
     "metadata": {},
     "output_type": "display_data"
    },
    {
     "data": {
      "text/markdown": [
       "Run: `(echo -n \"Hello_\" ; sleep 0.2 ; echo -n \"world_2!\") | ./retry_example.exe`"
      ],
      "text/plain": [
       "<IPython.core.display.Markdown object>"
      ]
     },
     "metadata": {},
     "output_type": "display_data"
    },
    {
     "name": "stdout",
     "output_type": "stream",
     "text": [
      "Read 'Hello_'/usr/bin/sh: 1: echo: echo: I/O error\n"
     ]
    },
    {
     "data": {
      "text/markdown": [
       "Run: `gcc -D_USE_READ_RETRY retry_example.c -o retry_example.exe`"
      ],
      "text/plain": [
       "<IPython.core.display.Markdown object>"
      ]
     },
     "metadata": {},
     "output_type": "display_data"
    },
    {
     "data": {
      "text/markdown": [
       "Run: `(echo -n \"Hello_\" ; sleep 0.2 ; echo -n \"world_3!\") | ./retry_example.exe`"
      ],
      "text/plain": [
       "<IPython.core.display.Markdown object>"
      ]
     },
     "metadata": {},
     "output_type": "display_data"
    },
    {
     "name": "stdout",
     "output_type": "stream",
     "text": [
      "Read 'Hello_world_3!'"
     ]
    },
    {
     "data": {
      "text/markdown": [
       "Run: `gcc -D_USE_SCANF retry_example.c -o retry_example.exe`"
      ],
      "text/plain": [
       "<IPython.core.display.Markdown object>"
      ]
     },
     "metadata": {},
     "output_type": "display_data"
    },
    {
     "data": {
      "text/markdown": [
       "Run: `(echo -n \"Hello_\" ; sleep 0.2 ; echo -n \"world_4!\") | ./retry_example.exe`"
      ],
      "text/plain": [
       "<IPython.core.display.Markdown object>"
      ]
     },
     "metadata": {},
     "output_type": "display_data"
    },
    {
     "name": "stdout",
     "output_type": "stream",
     "text": [
      "Read 'Hello_world_4!'"
     ]
    }
   ],
   "source": [
    "%%cpp retry_example.c\n",
    "%run gcc -D_USE_READ retry_example.c -o retry_example.exe\n",
    "%run echo -n \"Hello_world_1!\" | ./retry_example.exe \n",
    "%run gcc -D_USE_READ retry_example.c -o retry_example.exe\n",
    "%run (echo -n \"Hello_\" ; sleep 0.2 ; echo -n \"world_2!\") | ./retry_example.exe  \n",
    "%run gcc -D_USE_READ_RETRY retry_example.c -o retry_example.exe\n",
    "%run (echo -n \"Hello_\" ; sleep 0.2 ; echo -n \"world_3!\") | ./retry_example.exe  \n",
    "%run gcc -D_USE_SCANF retry_example.c -o retry_example.exe\n",
    "%run (echo -n \"Hello_\" ; sleep 0.2 ; echo -n \"world_4!\") | ./retry_example.exe  \n",
    "\n",
    "#include <unistd.h>\n",
    "#include <stdio.h>\n",
    "#include <errno.h>\n",
    "#include <string.h>\n",
    "\n",
    "\n",
    "int read_retry(int fd, char* data, int size) {\n",
    "    char* cdata = data;\n",
    "    while (1) {\n",
    "        int read_bytes = read(fd, cdata, size);\n",
    "        if (read_bytes == 0) { // если read вернул 0, значит файловый дескриптор закрыт с другого конца \n",
    "                               // или конец файла\n",
    "            return cdata - data;\n",
    "        }\n",
    "        if (read_bytes < 0) { // если возвращено значение < 0, то это ошибка\n",
    "            if (errno == EAGAIN || errno == EINTR) { // она может быть retryable\n",
    "                continue;\n",
    "            } else { // а может быть критичной, и нет смысла пытаться повторить попытку чтения\n",
    "                return -1;\n",
    "            }\n",
    "        }\n",
    "        // если возвращенное значение > 0, значит успешно прочитано столько байт\n",
    "        cdata += read_bytes;\n",
    "        size -= read_bytes;\n",
    "        if (size == 0) {\n",
    "            return cdata - data;\n",
    "        }\n",
    "    }\n",
    "}\n",
    "\n",
    "\n",
    "int main(int argc, char *argv[])\n",
    "{ \n",
    "    char buffer[4096];\n",
    "#if defined(_USE_READ) || defined(_USE_READ_RETRY)\n",
    "  #if defined(_USE_READ)\n",
    "    int bytes_read = read(0, buffer, sizeof(buffer)); \n",
    "  #endif\n",
    "  #if defined(_USE_READ_RETRY)\n",
    "    int bytes_read = read_retry(0, buffer, sizeof(buffer)); \n",
    "  #endif    \n",
    "    if (bytes_read < 0) {\n",
    "        perror(\"Error reading file\");\n",
    "        return -1;\n",
    "    }\n",
    "#endif\n",
    "#if defined(_USE_SCANF)\n",
    "    scanf(\"%s\", buffer);\n",
    "    int bytes_read = strlen(buffer);\n",
    "#endif  \n",
    "    printf(\"Read '%.*s'\", bytes_read, buffer);\n",
    "    \n",
    "    return 0;\n",
    "}"
   ]
  },
  {
   "cell_type": "markdown",
   "metadata": {},
   "source": [
    "Как можно заметить, scanf молодец. А read надо ретраить."
   ]
  },
  {
   "cell_type": "code",
   "execution_count": null,
   "metadata": {},
   "outputs": [],
   "source": []
  },
  {
   "cell_type": "markdown",
   "metadata": {},
   "source": [
    "## <a name=\"write\"></a> Write\n",
    "\n",
    "С write есть та же проблема, что и с read. Ретраится примерно точно так же."
   ]
  },
  {
   "cell_type": "code",
   "execution_count": 162,
   "metadata": {},
   "outputs": [
    {
     "data": {
      "text/markdown": [
       "Run: `gcc linux_example.c -o linux_example.exe`"
      ],
      "text/plain": [
       "<IPython.core.display.Markdown object>"
      ]
     },
     "metadata": {},
     "output_type": "display_data"
    },
    {
     "data": {
      "text/markdown": [
       "Run: `./linux_example.exe linux_example_input_002.txt`"
      ],
      "text/plain": [
       "<IPython.core.display.Markdown object>"
      ]
     },
     "metadata": {},
     "output_type": "display_data"
    },
    {
     "name": "stdout",
     "output_type": "stream",
     "text": [
      "Hello to stdout!\r\n",
      "Hello to stderr!\r\n"
     ]
    },
    {
     "data": {
      "text/markdown": [
       "Run: `cat linux_example_input_002.txt`"
      ],
      "text/plain": [
       "<IPython.core.display.Markdown object>"
      ]
     },
     "metadata": {},
     "output_type": "display_data"
    },
    {
     "name": "stdout",
     "output_type": "stream",
     "text": [
      "Hello to file!\r\n"
     ]
    }
   ],
   "source": [
    "%%cpp linux_example.c\n",
    "%run gcc linux_example.c -o linux_example.exe\n",
    "%run ./linux_example.exe linux_example_input_002.txt \n",
    "%run cat linux_example_input_002.txt \n",
    "\n",
    "#include <sys/types.h>\n",
    "#include <sys/stat.h>\n",
    "#include <fcntl.h>\n",
    "#include <unistd.h>\n",
    "#include <stdio.h>\n",
    "#include <assert.h>\n",
    "#include <string.h>\n",
    "\n",
    "int main(int argc, char *argv[])\n",
    "{\n",
    "    const char to_stdout[] = \"Hello to stdout!\\n\";\n",
    "    const char to_stderr[] = \"Hello to stderr!\\n\";\n",
    "    const char to_file[] = \"Hello to file!\\n\";\n",
    "    \n",
    "    assert(argc >= 2);\n",
    "    const char* file_name = argv[1];\n",
    "    \n",
    "    int bytes_written = write(STDOUT_FILENO, to_stdout, strlen(to_stdout));\n",
    "    assert(bytes_written == strlen(to_stdout));\n",
    "    \n",
    "    bytes_written = write(STDERR_FILENO, to_stderr, strlen(to_stderr));\n",
    "    assert(bytes_written == strlen(to_stderr));\n",
    "    \n",
    "    int fd = open(file_name, O_WRONLY | O_CREAT, 0644); // 0644 это важно! Но об этом позже \n",
    "    // open(file_name, O_WRONLY | O_CREAT) ~ printf(\"%s\")\n",
    "    bytes_written = write(fd, to_file, strlen(to_file));\n",
    "    close(fd);\n",
    "    \n",
    "    return 0;\n",
    "}"
   ]
  },
  {
   "cell_type": "code",
   "execution_count": null,
   "metadata": {},
   "outputs": [],
   "source": []
  },
  {
   "cell_type": "markdown",
   "metadata": {},
   "source": [
    "### Общий пример"
   ]
  },
  {
   "cell_type": "code",
   "execution_count": 165,
   "metadata": {},
   "outputs": [
    {
     "data": {
      "text/markdown": [
       "Run: `gcc linux_example.c -o linux_example.exe`"
      ],
      "text/plain": [
       "<IPython.core.display.Markdown object>"
      ]
     },
     "metadata": {},
     "output_type": "display_data"
    },
    {
     "data": {
      "text/markdown": [
       "Run: `echo -n \"Hello students!\" > linux_example_input_001.txt`"
      ],
      "text/plain": [
       "<IPython.core.display.Markdown object>"
      ]
     },
     "metadata": {},
     "output_type": "display_data"
    },
    {
     "data": {
      "text/markdown": [
       "Run: `./linux_example.exe linux_example_input_001.txt`"
      ],
      "text/plain": [
       "<IPython.core.display.Markdown object>"
      ]
     },
     "metadata": {},
     "output_type": "display_data"
    },
    {
     "name": "stdout",
     "output_type": "stream",
     "text": [
      "Linux by write\r\n"
     ]
    }
   ],
   "source": [
    "%%cpp linux_example.c\n",
    "%run gcc linux_example.c -o linux_example.exe\n",
    "%run echo -n \"Hello students!\" > linux_example_input_001.txt\n",
    "%run ./linux_example.exe linux_example_input_001.txt\n",
    "\n",
    "#include <sys/types.h>\n",
    "#include <sys/stat.h>\n",
    "#include <fcntl.h>\n",
    "#include <unistd.h>\n",
    "#include <stdio.h>\n",
    "#include <stdlib.h>\n",
    "\n",
    "int main(int argc, char *argv[])\n",
    "{\n",
    "    printf(\"Linux by printf\"); // where it will be printed?\n",
    "    \n",
    "    char linux_str[] = \"Linux by write\\n\";\n",
    "    \n",
    "    // write\n",
    "    // 1 = STDOUT_FILENO - изначально открытый файловый дескриптор соответствующий stdout\n",
    "    // linux_str - указатель на начало данных, \n",
    "    // sizeof(linux_str) - размер данных, которые хотим записать\n",
    "    // ВАЖНО, что write может записать не все данные \n",
    "    //        и тогда его надо перезапустить\n",
    "    //        но в данном примере этого нет\n",
    "    // Подробнее в `man 2 write`\n",
    "    write(1, linux_str, sizeof(linux_str) - 1); \n",
    "    // exit(0); // 1. Что выведется если раскомментировать?\n",
    "    // _exit(0); // 2. Что выведется если раскомментировать это?\n",
    "        \n",
    "    if (argc < 2) {\n",
    "        fprintf(stderr, \"Need at least 2 arguments\\n\");\n",
    "        return 1;\n",
    "    }\n",
    "    int fd = open(argv[1], O_RDONLY); // открываем файл и получаем связанный файловый дескриптор\n",
    "                                      // O_RDONLY - флаг о том, что открываем в read-only режиме\n",
    "                                      // подробнее в `man 2 open`\n",
    "    if (fd < 0) {\n",
    "        perror(\"Can't open file\"); // Выводит указанную строку в stderr \n",
    "                                   // + добавляет сообщение и последней произошедшей ошибке \n",
    "                                   // ошибка хранится в errno\n",
    "        return -1;\n",
    "    }\n",
    "    \n",
    "    char buffer[4096];\n",
    "    int bytes_read = read(fd, buffer, sizeof(buffer)); // fd - файловый дескриптор выше открытого файла\n",
    "                                                       // 2 и 3 аргументы как во write\n",
    "                                                       // Так же как и write может прочитать МЕНЬШЕ\n",
    "                                                       //   чем запрошено в 3м аргументе\n",
    "                                                       //   это может быть связано как с концом файла\n",
    "                                                       //   так и с каким-то более приоритетным событием\n",
    "    if (bytes_read < 0) {\n",
    "        perror(\"Error reading file\");\n",
    "        close(fd); // закрываем файл связанный с файловым дескриптором. Ну или не файл. \n",
    "                   // Стандартные дескрипторы 0, 1, 2 тоже можно так закрывать\n",
    "        return -1;\n",
    "    }\n",
    "    char buffer2[4096];\n",
    "    // формирование строки с текстом\n",
    "    int written_bytes = snprintf(buffer2, sizeof(buffer2), \n",
    "        \"%d bytes read: '''%.*s'''\\n\", bytes_read, bytes_read, buffer);\n",
    "    write(1, buffer2, written_bytes);\n",
    "    close(fd);\n",
    "    return 0;\n",
    "}"
   ]
  },
  {
   "cell_type": "code",
   "execution_count": null,
   "metadata": {},
   "outputs": [],
   "source": []
  },
  {
   "cell_type": "markdown",
   "metadata": {},
   "source": [
    "### Экзотический пример-игрушка"
   ]
  },
  {
   "cell_type": "code",
   "execution_count": 169,
   "metadata": {},
   "outputs": [
    {
     "data": {
      "text/markdown": [
       "Run: `gcc strange_example.c -o strange_example.exe`"
      ],
      "text/plain": [
       "<IPython.core.display.Markdown object>"
      ]
     },
     "metadata": {},
     "output_type": "display_data"
    },
    {
     "data": {
      "text/markdown": [
       "Run: `echo \"Hello world!\" > a.txt`"
      ],
      "text/plain": [
       "<IPython.core.display.Markdown object>"
      ]
     },
     "metadata": {},
     "output_type": "display_data"
    },
    {
     "data": {
      "text/markdown": [
       "Run: `./strange_example.exe 5< a.txt > strange_example.out`"
      ],
      "text/plain": [
       "<IPython.core.display.Markdown object>"
      ]
     },
     "metadata": {},
     "output_type": "display_data"
    },
    {
     "data": {
      "text/markdown": [
       "Run: `cat strange_example.out`"
      ],
      "text/plain": [
       "<IPython.core.display.Markdown object>"
      ]
     },
     "metadata": {},
     "output_type": "display_data"
    },
    {
     "name": "stdout",
     "output_type": "stream",
     "text": [
      "Hello world!\r\n"
     ]
    }
   ],
   "source": [
    "%%cpp strange_example.c\n",
    "%run gcc strange_example.c -o strange_example.exe\n",
    "%run echo \"Hello world!\" > a.txt\n",
    "%run ./strange_example.exe 5< a.txt > strange_example.out\n",
    "%run cat strange_example.out\n",
    "\n",
    "#include <unistd.h>\n",
    "#include <stdio.h>\n",
    "\n",
    "int main(int argc, char *argv[])\n",
    "{ \n",
    "    char buffer[4096];\n",
    "    int bytes_read = read(5, buffer, sizeof(buffer)); // not standart opened fd\n",
    "    if (bytes_read < 0) {\n",
    "        perror(\"Error reading file\");\n",
    "        return -1;\n",
    "    }\n",
    "    int written_bytes = write(1, buffer, bytes_read);\n",
    "    if (written_bytes < 0) {\n",
    "        perror(\"Error writing file\");\n",
    "        return -1;\n",
    "    }\n",
    "    return 0;\n",
    "}"
   ]
  },
  {
   "cell_type": "markdown",
   "metadata": {},
   "source": [
    "# Самостоятельная работа 5 минут\n",
    "\n",
    "Найти в man-е по read/write особенности про многопоточность."
   ]
  },
  {
   "cell_type": "code",
   "execution_count": null,
   "metadata": {},
   "outputs": [],
   "source": []
  },
  {
   "cell_type": "markdown",
   "metadata": {},
   "source": [
    "## <a name=\"lseek\"></a> lseek - чтение с произвольной позиции в файле\n",
    "\n",
    "Смотрит на второй символ в файле, читает его, интерпретирует как цифру и увеличивает эту цифру на 1."
   ]
  },
  {
   "cell_type": "code",
   "execution_count": 188,
   "metadata": {},
   "outputs": [],
   "source": [
    "!echo _4___ > lseek_example.txt"
   ]
  },
  {
   "cell_type": "code",
   "execution_count": 277,
   "metadata": {
    "scrolled": true
   },
   "outputs": [
    {
     "data": {
      "text/markdown": [
       "Run: `gcc lseek_example.c -o lseek_example.exe`"
      ],
      "text/plain": [
       "<IPython.core.display.Markdown object>"
      ]
     },
     "metadata": {},
     "output_type": "display_data"
    },
    {
     "data": {
      "text/markdown": [
       "Run: `./lseek_example.exe lseek_example.txt`"
      ],
      "text/plain": [
       "<IPython.core.display.Markdown object>"
      ]
     },
     "metadata": {},
     "output_type": "display_data"
    },
    {
     "name": "stdout",
     "output_type": "stream",
     "text": [
      "File size: 6\r\n"
     ]
    },
    {
     "data": {
      "text/markdown": [
       "Run: `cat lseek_example.txt`"
      ],
      "text/plain": [
       "<IPython.core.display.Markdown object>"
      ]
     },
     "metadata": {},
     "output_type": "display_data"
    },
    {
     "name": "stdout",
     "output_type": "stream",
     "text": [
      "_75__\r\n"
     ]
    }
   ],
   "source": [
    "%%cpp lseek_example.c\n",
    "%run gcc lseek_example.c -o lseek_example.exe\n",
    "%run ./lseek_example.exe lseek_example.txt\n",
    "%run cat lseek_example.txt\n",
    "\n",
    "#define _LARGEFILE64_SOURCE // Enable xxx64 functions.\n",
    "\n",
    "#include <assert.h>\n",
    "#include <fcntl.h>\n",
    "#include <inttypes.h>\n",
    "#include <stdio.h>\n",
    "#include <sys/types.h>\n",
    "#include <sys/stat.h>\n",
    "#include <unistd.h>\n",
    "\n",
    "int main(int argc, char *argv[])\n",
    "{   \n",
    "    assert(argc >= 2);\n",
    "    // O_RDWR - открытие файла на чтение и запись одновременно\n",
    "    int fd = open(argv[1], O_RDWR | O_CREAT, S_IRUSR | S_IWUSR | S_IRGRP | S_IWGRP | S_IROTH); \n",
    "    \n",
    "    // Перемещаемся на конец файла, получаем позицию конца файла - это размер файла\n",
    "    uint64_t size = lseek64(fd, 0, SEEK_END);\n",
    "    \n",
    "    printf(\"File size: %\" PRIu64 \"\\n\", size);\n",
    "    \n",
    "    // если размер меньше 2, то дописываем цифры\n",
    "    if (size < 2) {\n",
    "        const char s[] = \"10\";\n",
    "        lseek64(fd, 0, SEEK_SET);\n",
    "        write(fd, s, sizeof(s) - 1);\n",
    "        printf(\"Written bytes: %d\\n\", (int)sizeof(s) - 1);    \n",
    "        size = lseek64(fd, 0, SEEK_END);\n",
    "        printf(\"File size: %\" PRIu64 \"\\n\", size);\n",
    "    }\n",
    "    \n",
    "    // читаем символ со 2й позиции\n",
    "    lseek64(fd, 1, SEEK_SET);\n",
    "    char c;\n",
    "    read(fd, &c, 1);\n",
    "    c = (c < '0' || c > '9') ? '0' : ((c - '0') + 1) % 10 + '0';\n",
    "    \n",
    "    // записываем символ в 2ю позицию\n",
    "    lseek64(fd, 1, SEEK_SET);\n",
    "    write(fd, &c, 1);\n",
    "    \n",
    "    close(fd);\n",
    "    return 0;\n",
    "}"
   ]
  },
  {
   "cell_type": "markdown",
   "metadata": {},
   "source": [
    "## <a name=\"pread_pwrite\"></a> pread/pwrite - чтение/запись с произвольной позиции в файле\n",
    "\n",
    "Как и предыдущий пример, но без части вызовов lseek."
   ]
  },
  {
   "cell_type": "code",
   "execution_count": 69,
   "metadata": {},
   "outputs": [],
   "source": [
    "!echo hello > pread_example.txt"
   ]
  },
  {
   "cell_type": "code",
   "execution_count": 275,
   "metadata": {
    "scrolled": true
   },
   "outputs": [
    {
     "data": {
      "text/markdown": [
       "Run: `gcc pread_example.c -o pread_example.exe`"
      ],
      "text/plain": [
       "<IPython.core.display.Markdown object>"
      ]
     },
     "metadata": {},
     "output_type": "display_data"
    },
    {
     "data": {
      "text/markdown": [
       "Run: `./pread_example.exe pread_example.txt`"
      ],
      "text/plain": [
       "<IPython.core.display.Markdown object>"
      ]
     },
     "metadata": {},
     "output_type": "display_data"
    },
    {
     "name": "stdout",
     "output_type": "stream",
     "text": [
      "File size: 6\r\n"
     ]
    },
    {
     "data": {
      "text/markdown": [
       "Run: `cat pread_example.txt`"
      ],
      "text/plain": [
       "<IPython.core.display.Markdown object>"
      ]
     },
     "metadata": {},
     "output_type": "display_data"
    },
    {
     "name": "stdout",
     "output_type": "stream",
     "text": [
      "h2llo\r\n"
     ]
    }
   ],
   "source": [
    "%%cpp pread_example.c\n",
    "%run gcc pread_example.c -o pread_example.exe\n",
    "%run ./pread_example.exe pread_example.txt\n",
    "%run cat pread_example.txt\n",
    "\n",
    "#define _LARGEFILE64_SOURCE // Enable xxx64 functions.\n",
    "\n",
    "#include <assert.h>\n",
    "#include <fcntl.h>\n",
    "#include <inttypes.h>\n",
    "#include <stdio.h>\n",
    "#include <sys/types.h>\n",
    "#include <sys/stat.h>\n",
    "#include <unistd.h>\n",
    "\n",
    "int main(int argc, char *argv[])\n",
    "{   \n",
    "    assert(argc >= 2);\n",
    "    // O_RDWR - открытие файла на чтение и запись одновременно\n",
    "    int fd = open(argv[1], O_RDWR | O_CREAT, S_IRUSR | S_IWUSR | S_IRGRP | S_IWGRP | S_IROTH); \n",
    "    \n",
    "    // Перемещаемся на конец файла, получаем позицию конца файла - это размер файла\n",
    "    uint64_t size = lseek64(fd, 0, SEEK_END);\n",
    "    \n",
    "    printf(\"File size: %\" PRIu64 \"\\n\", size);\n",
    "    \n",
    "    // если размер меньше 2, то дописываем цифры\n",
    "    if (size < 2) {\n",
    "        const char s[] = \"10\";\n",
    "        pwrite64(fd, s, sizeof(s) - 1, 0); // DIFF\n",
    "        printf(\"Written bytes: %d\\n\", (int)sizeof(s) - 1);    \n",
    "        size = lseek64(fd, 0, SEEK_END);\n",
    "        printf(\"File size: %\" PRIu64 \"\\n\", size);\n",
    "    }\n",
    "    \n",
    "    // читаем символ со 2й позиции\n",
    "    char c;\n",
    "    pread64(fd, &c, 1, /* offset = */ 1); // DIFF\n",
    "    c = (c < '0' || c > '9') ? '0' : ((c - '0') + 1) % 10 + '0';\n",
    "    \n",
    "    // записываем символ в 2ю позицию\n",
    "    pwrite64(fd, &c, 1, /* offset = */ 1); // DIFF\n",
    "    \n",
    "    close(fd);\n",
    "    return 0;\n",
    "}"
   ]
  },
  {
   "cell_type": "markdown",
   "metadata": {},
   "source": [
    "## <a name=\"offset64\"></a> Большие оффсеты\n",
    "\n",
    "Для файлов больше 2GB обычные фунции могут не подходить, так как в них оффсет передается как int. Вместо них можно использовать lseek64/pread64/etc. Собственно такие и использованы в примерах выше."
   ]
  },
  {
   "cell_type": "code",
   "execution_count": null,
   "metadata": {},
   "outputs": [],
   "source": []
  },
  {
   "cell_type": "markdown",
   "metadata": {},
   "source": [
    "## <a name=\"readv_writev\"></a> readv/writev - чтение/запись сразу в несолько буфферов.\n",
    "\n",
    "Если у вас не один большой буффер, а много маленьких (например что-то вроде дека), то вы можете использовать readv/writev."
   ]
  },
  {
   "cell_type": "code",
   "execution_count": 193,
   "metadata": {},
   "outputs": [
    {
     "data": {
      "text/markdown": [
       "Run: `gcc writev_example.c -o writev_example.exe`"
      ],
      "text/plain": [
       "<IPython.core.display.Markdown object>"
      ]
     },
     "metadata": {},
     "output_type": "display_data"
    },
    {
     "data": {
      "text/markdown": [
       "Run: `./writev_example.exe writev_example.txt`"
      ],
      "text/plain": [
       "<IPython.core.display.Markdown object>"
      ]
     },
     "metadata": {},
     "output_type": "display_data"
    },
    {
     "name": "stdout",
     "output_type": "stream",
     "text": [
      "Hello world!\r\n"
     ]
    }
   ],
   "source": [
    "%%cpp writev_example.c\n",
    "%run gcc writev_example.c -o writev_example.exe\n",
    "%run ./writev_example.exe writev_example.txt\n",
    "\n",
    "#include <sys/uio.h>\n",
    "#include <unistd.h>\n",
    "\n",
    "int main(int argc, char *argv[])\n",
    "{   \n",
    "    char str1[] = \"Hello \", str2[] = \"world!\\n\";\n",
    "    struct iovec writings[] = {\n",
    "        {str1, sizeof(str1) - 1},\n",
    "        {str2, sizeof(str2) - 1},\n",
    "    };\n",
    "    writev(STDOUT_FILENO, writings, sizeof(writings) / sizeof(struct iovec));\n",
    "    return 0;\n",
    "}"
   ]
  },
  {
   "cell_type": "code",
   "execution_count": null,
   "metadata": {},
   "outputs": [],
   "source": []
  },
  {
   "cell_type": "code",
   "execution_count": null,
   "metadata": {},
   "outputs": [],
   "source": []
  },
  {
   "cell_type": "markdown",
   "metadata": {},
   "source": [
    "## <a name=\"lsof\"></a> Список открытых файлов"
   ]
  },
  {
   "cell_type": "code",
   "execution_count": 201,
   "metadata": {},
   "outputs": [
    {
     "data": {
      "text/markdown": [
       "Run: `gcc simple_open.c -o simple_open.exe`"
      ],
      "text/plain": [
       "<IPython.core.display.Markdown object>"
      ]
     },
     "metadata": {},
     "output_type": "display_data"
    },
    {
     "data": {
      "text/markdown": [
       "Run: `./simple_open.exe`"
      ],
      "text/plain": [
       "<IPython.core.display.Markdown object>"
      ]
     },
     "metadata": {},
     "output_type": "display_data"
    },
    {
     "name": "stdout",
     "output_type": "stream",
     "text": [
      "lsof: WARNING: can't stat() tmpfs file system /run/snapd/ns\n",
      "      Output information may be incomplete.\n",
      "lsof: WARNING: can't stat() nsfs file system /run/snapd/ns/snap-store.mnt\n",
      "      Output information may be incomplete.\n",
      "COMMAND      PID      USER   FD   TYPE DEVICE SIZE/OFF    NODE NAME\n",
      "simple_op 231244 pechatnov  cwd    DIR    8,5     4096 4724417 /home/pechatnov/vbox/caos/sem03-low-level-io\n",
      "simple_op 231244 pechatnov  rtd    DIR    8,5     4096       2 /\n",
      "simple_op 231244 pechatnov  txt    REG    8,5    16880 4724365 /home/pechatnov/vbox/caos/sem03-low-level-io/simple_open.exe\n",
      "simple_op 231244 pechatnov  mem    REG    8,5  2029592 1837182 /usr/lib/x86_64-linux-gnu/libc-2.31.so\n",
      "simple_op 231244 pechatnov  mem    REG    8,5   191504 1836157 /usr/lib/x86_64-linux-gnu/ld-2.31.so\n",
      "simple_op 231244 pechatnov    0u   CHR 136,13      0t0      16 /dev/pts/13\n",
      "simple_op 231244 pechatnov    1u   CHR 136,13      0t0      16 /dev/pts/13\n",
      "simple_op 231244 pechatnov    2u   CHR 136,13      0t0      16 /dev/pts/13\n"
     ]
    },
    {
     "data": {
      "text/markdown": [
       "Run: `./simple_open.exe < a.txt`"
      ],
      "text/plain": [
       "<IPython.core.display.Markdown object>"
      ]
     },
     "metadata": {},
     "output_type": "display_data"
    },
    {
     "name": "stdout",
     "output_type": "stream",
     "text": [
      "lsof: WARNING: can't stat() tmpfs file system /run/snapd/ns\n",
      "      Output information may be incomplete.\n",
      "lsof: WARNING: can't stat() nsfs file system /run/snapd/ns/snap-store.mnt\n",
      "      Output information may be incomplete.\n",
      "COMMAND      PID      USER   FD   TYPE DEVICE SIZE/OFF    NODE NAME\n",
      "simple_op 231249 pechatnov  cwd    DIR    8,5     4096 4724417 /home/pechatnov/vbox/caos/sem03-low-level-io\n",
      "simple_op 231249 pechatnov  rtd    DIR    8,5     4096       2 /\n",
      "simple_op 231249 pechatnov  txt    REG    8,5    16880 4724365 /home/pechatnov/vbox/caos/sem03-low-level-io/simple_open.exe\n",
      "simple_op 231249 pechatnov  mem    REG    8,5  2029592 1837182 /usr/lib/x86_64-linux-gnu/libc-2.31.so\n",
      "simple_op 231249 pechatnov  mem    REG    8,5   191504 1836157 /usr/lib/x86_64-linux-gnu/ld-2.31.so\n",
      "simple_op 231249 pechatnov    0r   REG    8,5       13 4724472 /home/pechatnov/vbox/caos/sem03-low-level-io/a.txt\n",
      "simple_op 231249 pechatnov    1u   CHR 136,13      0t0      16 /dev/pts/13\n",
      "simple_op 231249 pechatnov    2u   CHR 136,13      0t0      16 /dev/pts/13\n"
     ]
    },
    {
     "data": {
      "text/markdown": [
       "Run: `./simple_open.exe < a.txt 2> b.txt`"
      ],
      "text/plain": [
       "<IPython.core.display.Markdown object>"
      ]
     },
     "metadata": {},
     "output_type": "display_data"
    },
    {
     "name": "stdout",
     "output_type": "stream",
     "text": [
      "COMMAND      PID      USER   FD   TYPE DEVICE SIZE/OFF    NODE NAME\r\n",
      "simple_op 231254 pechatnov  cwd    DIR    8,5     4096 4724417 /home/pechatnov/vbox/caos/sem03-low-level-io\r\n",
      "simple_op 231254 pechatnov  rtd    DIR    8,5     4096       2 /\r\n",
      "simple_op 231254 pechatnov  txt    REG    8,5    16880 4724365 /home/pechatnov/vbox/caos/sem03-low-level-io/simple_open.exe\r\n",
      "simple_op 231254 pechatnov  mem    REG    8,5  2029592 1837182 /usr/lib/x86_64-linux-gnu/libc-2.31.so\r\n",
      "simple_op 231254 pechatnov  mem    REG    8,5   191504 1836157 /usr/lib/x86_64-linux-gnu/ld-2.31.so\r\n",
      "simple_op 231254 pechatnov    0r   REG    8,5       13 4724472 /home/pechatnov/vbox/caos/sem03-low-level-io/a.txt\r\n",
      "simple_op 231254 pechatnov    1u   CHR 136,13      0t0      16 /dev/pts/13\r\n",
      "simple_op 231254 pechatnov    2w   REG    8,5      222 4724464 /home/pechatnov/vbox/caos/sem03-low-level-io/b.txt\r\n"
     ]
    }
   ],
   "source": [
    "%%cpp simple_open.c\n",
    "%run gcc simple_open.c -o simple_open.exe\n",
    "%run ./simple_open.exe\n",
    "%run ./simple_open.exe < a.txt\n",
    "%run ./simple_open.exe < a.txt 2> b.txt\n",
    "\n",
    "#include <sys/types.h>\n",
    "#include <fcntl.h>\n",
    "#include <unistd.h>\n",
    "#include <stdio.h>\n",
    "#include <stdlib.h>\n",
    "#include <assert.h>\n",
    "\n",
    "\n",
    "void apply_lsof() {\n",
    "    char cmd[100];\n",
    "    snprintf(cmd, sizeof(cmd), \"lsof -p %d\", getpid());\n",
    "    system(cmd);\n",
    "}\n",
    "\n",
    "\n",
    "int main()\n",
    "{  \n",
    "    apply_lsof();\n",
    "    return 0;\n",
    "}"
   ]
  },
  {
   "cell_type": "code",
   "execution_count": null,
   "metadata": {},
   "outputs": [],
   "source": []
  },
  {
   "cell_type": "markdown",
   "metadata": {},
   "source": [
    "## <a name=\"access\"></a> access - проверка доступа"
   ]
  },
  {
   "cell_type": "code",
   "execution_count": 202,
   "metadata": {},
   "outputs": [
    {
     "name": "stdout",
     "output_type": "stream",
     "text": [
      "total 732\r\n",
      "drwxrwxr-x  4 pechatnov pechatnov   4096 сен 24 20:04 .\r\n",
      "drwxrwxr-x 10 pechatnov pechatnov   4096 сен 20 23:39 ..\r\n",
      "-rw-rw-r--  1 pechatnov pechatnov    807 сен 21 23:51 access.c\r\n",
      "-rwxrwxr-x  1 pechatnov pechatnov  16840 сен 21 23:51 access.exe\r\n",
      "-rw-rw-r--  1 pechatnov pechatnov     13 сен 24 19:39 a.txt\r\n",
      "drwxrwxr-x  2 pechatnov pechatnov   4096 сен 20 23:37 b_dir\r\n",
      "-rw-rw-r--  1 pechatnov pechatnov    222 сен 24 20:05 b.txt\r\n",
      "drwxrwxr-x  2 pechatnov pechatnov   4096 сен 20 23:06 .ipynb_checkpoints\r\n",
      "-rw-rw-r--  1 pechatnov pechatnov   3539 сен 24 19:36 linux_example.c\r\n",
      "-rwxrwxr-x  1 pechatnov pechatnov  16792 сен 24 19:36 linux_example.exe\r\n",
      "-rw-rw-r--  1 pechatnov pechatnov     15 сен 24 19:36 linux_example_input_001.txt\r\n",
      "-rw-r--r--  1 pechatnov pechatnov     15 сен 24 19:28 linux_example_input_002.txt\r\n",
      "-rw-rw-r--  1 pechatnov pechatnov    882 сен 24 19:02 linux_example_read.c\r\n",
      "-rwxrwxr-x  1 pechatnov pechatnov  16992 сен 24 19:02 linux_example_read.exe\r\n",
      "-rw-rw-r--  1 pechatnov pechatnov     16 сен 24 19:02 linux_example_read.txt\r\n",
      "-rw-rw-r--  1 pechatnov pechatnov   1073 сен 20 23:38 linux_file_hello_world.c\r\n",
      "-rwxrwxr-x  1 pechatnov pechatnov  16936 сен 20 23:38 linux_file_hello_world.exe\r\n",
      "-rw-rw-r--  1 pechatnov pechatnov     13 сен 20 23:38 linux_file_hello_world.out\r\n",
      "-rw-rw-r--  1 pechatnov pechatnov  57395 сен 24 20:01 low-level-io.ipynb\r\n",
      "-rw-rw-r--  1 pechatnov pechatnov   1467 сен 24 19:51 lseek_example.c\r\n",
      "-rwxrwxr-x  1 pechatnov pechatnov  17072 сен 24 19:51 lseek_example.exe\r\n",
      "-rw-rw-r--  1 pechatnov pechatnov      6 сен 24 19:51 lseek_example.txt\r\n",
      "-rw-rw-r--  1 pechatnov pechatnov   1445 сен 24 19:54 pread_example.c\r\n",
      "-rwxrwxr-x  1 pechatnov pechatnov  17072 сен 24 19:54 pread_example.exe\r\n",
      "-rw-rw-r--  1 pechatnov pechatnov      6 сен 24 19:54 pread_example.txt\r\n",
      "-rw-rw-r--  1 pechatnov pechatnov  27843 сен 22 12:15 README.md\r\n",
      "-rw-rw-r--  1 pechatnov pechatnov  20499 сен 22 12:15 README_no_output.md\r\n",
      "-rw-rw-r--  1 pechatnov pechatnov   2335 сен 24 19:12 retry_example.c\r\n",
      "-rwxrwxr-x  1 pechatnov pechatnov  16984 сен 24 19:12 retry_example.exe\r\n",
      "-rw-rw-r--  1 pechatnov pechatnov    461 сен 24 20:04 simple_open.c\r\n",
      "-rwxrwxr-x  1 pechatnov pechatnov  16880 сен 24 20:04 simple_open.exe\r\n",
      "-rw-rw-r--  1 pechatnov pechatnov    641 сен 24 19:39 strange_example.c\r\n",
      "-rwxrwxr-x  1 pechatnov pechatnov  16848 сен 24 19:39 strange_example.exe\r\n",
      "-rw-rw-r--  1 pechatnov pechatnov     13 сен 24 19:39 strange_example.out\r\n",
      "-rw-rw-r--  1 pechatnov pechatnov   1665 сен 20 23:06 winapi_example.c\r\n",
      "-rwxrwxr-x  1 pechatnov pechatnov 289581 сен 20 23:06 winapi_example.exe\r\n",
      "-rw-rw-r--  1 pechatnov pechatnov    188 сен 24 18:43 write_for_gdb_2.c\r\n",
      "-rw-rw-r--  1 pechatnov pechatnov   6144 сен 24 18:43 write_for_gdb_2.o\r\n",
      "-rw-rw-r--  1 pechatnov pechatnov    335 сен 24 18:44 write_for_gdb.c\r\n",
      "-rwxrwxr-x  1 pechatnov pechatnov  19616 сен 24 18:44 write_for_gdb.exe\r\n",
      "-rw-rw-r--  1 pechatnov pechatnov     57 сен 24 18:39 write_for_gdb_helper.gdb\r\n",
      "-rw-rw-r--  1 pechatnov pechatnov    457 сен 24 19:58 writev_example.c\r\n",
      "-rwxrwxr-x  1 pechatnov pechatnov  16760 сен 24 19:58 writev_example.exe\r\n"
     ]
    }
   ],
   "source": [
    "!ls -la"
   ]
  },
  {
   "cell_type": "markdown",
   "metadata": {},
   "source": [
    "`chmod +x somefile`\n",
    "\n",
    "`chmod g+w,o-r somefile`"
   ]
  },
  {
   "cell_type": "code",
   "execution_count": null,
   "metadata": {},
   "outputs": [],
   "source": []
  },
  {
   "cell_type": "code",
   "execution_count": 212,
   "metadata": {},
   "outputs": [
    {
     "data": {
      "text/markdown": [
       "Run: `gcc access.c -o access.exe`"
      ],
      "text/plain": [
       "<IPython.core.display.Markdown object>"
      ]
     },
     "metadata": {},
     "output_type": "display_data"
    },
    {
     "data": {
      "text/markdown": [
       "Run: `./access.exe`"
      ],
      "text/plain": [
       "<IPython.core.display.Markdown object>"
      ]
     },
     "metadata": {},
     "output_type": "display_data"
    },
    {
     "name": "stdout",
     "output_type": "stream",
     "text": [
      "access(\"./access.exe\", X_OK) = 0, err: Success\r\n",
      "access(\"./access.c\", X_OK) = -1, err: Permission denied\r\n",
      "access(\"./access.exe\", F_OK) = 0, err: Success\r\n",
      "access(\"./access788.exe\", F_OK) = -1, err: No such file or directory\r\n",
      "access(\"./access.exe\", W_OK) = 0, err: Success\r\n",
      "access(\"/bin/bash\", W_OK) = -1, err: Permission denied\r\n"
     ]
    }
   ],
   "source": [
    "%%cpp access.c\n",
    "%run gcc access.c -o access.exe\n",
    "%run ./access.exe\n",
    "\n",
    "#include <errno.h>\n",
    "#include <stdio.h>\n",
    "#include <string.h>\n",
    "#include <unistd.h>\n",
    "\n",
    "#define PRINT_WITH_ERRNO(call) do {                                 \\\n",
    "    int __a_res = (call);                                           \\\n",
    "    char* err = ((__a_res == 0) ? \"Success\" : strerror(errno));     \\\n",
    "    printf(\"%s = %d, err: %s\\n\", #call, __a_res, err);              \\\n",
    "} while (0)\n",
    "\n",
    "int main() {\n",
    "    PRINT_WITH_ERRNO(access(\"./access.exe\",    X_OK));\n",
    "    PRINT_WITH_ERRNO(access(\"./access.c\",      X_OK));\n",
    "    PRINT_WITH_ERRNO(access(\"./access.exe\",    F_OK));\n",
    "    PRINT_WITH_ERRNO(access(\"./access788.exe\", F_OK));\n",
    "    PRINT_WITH_ERRNO(access(\"./access.exe\",    W_OK));\n",
    "    PRINT_WITH_ERRNO(access(\"/bin/bash\",       W_OK));\n",
    "    return 0;\n",
    "}"
   ]
  },
  {
   "cell_type": "code",
   "execution_count": null,
   "metadata": {},
   "outputs": [],
   "source": []
  },
  {
   "cell_type": "code",
   "execution_count": 264,
   "metadata": {},
   "outputs": [
    {
     "name": "stdout",
     "output_type": "stream",
     "text": [
      "Overwriting executable_file\n"
     ]
    }
   ],
   "source": [
    "%%file executable_file\n",
    "#!/bin/bash\n",
    "echo hello"
   ]
  },
  {
   "cell_type": "code",
   "execution_count": 265,
   "metadata": {},
   "outputs": [
    {
     "name": "stdout",
     "output_type": "stream",
     "text": [
      "execve(\"./executable_file\", [\"./executable_file\"], 0x7ffda1ec3d40 /* 68 vars */) = 0\r\n",
      "brk(NULL)                               = 0x55719fc3c000\r\n",
      "arch_prctl(0x3001 /* ARCH_??? */, 0x7fffb702edc0) = -1 EINVAL (Invalid argument)\r\n",
      "access(\"/etc/ld.so.preload\", R_OK)      = -1 ENOENT (No such file or directory)\r\n",
      "openat(AT_FDCWD, \"/etc/ld.so.cache\", O_RDONLY|O_CLOEXEC) = 3\r\n",
      "fstat(3, {st_mode=S_IFREG|0644, st_size=106091, ...}) = 0\r\n",
      "mmap(NULL, 106091, PROT_READ, MAP_PRIVATE, 3, 0) = 0x7f7d9f7f5000\r\n",
      "close(3)                                = 0\r\n",
      "openat(AT_FDCWD, \"/lib/x86_64-linux-gnu/libtinfo.so.6\", O_RDONLY|O_CLOEXEC) = 3\r\n",
      "read(3, \"\\177ELF\\2\\1\\1\\0\\0\\0\\0\\0\\0\\0\\0\\0\\3\\0>\\0\\1\\0\\0\\0\\240\\346\\0\\0\\0\\0\\0\\0\"..., 832) = 832\r\n",
      "fstat(3, {st_mode=S_IFREG|0644, st_size=192032, ...}) = 0\r\n",
      "mmap(NULL, 8192, PROT_READ|PROT_WRITE, MAP_PRIVATE|MAP_ANONYMOUS, -1, 0) = 0x7f7d9f7f3000\r\n",
      "mmap(NULL, 194944, PROT_READ, MAP_PRIVATE|MAP_DENYWRITE, 3, 0) = 0x7f7d9f7c3000\r\n",
      "mmap(0x7f7d9f7d1000, 61440, PROT_READ|PROT_EXEC, MAP_PRIVATE|MAP_FIXED|MAP_DENYWRITE, 3, 0xe000) = 0x7f7d9f7d1000\r\n",
      "mmap(0x7f7d9f7e0000, 57344, PROT_READ, MAP_PRIVATE|MAP_FIXED|MAP_DENYWRITE, 3, 0x1d000) = 0x7f7d9f7e0000\r\n",
      "mmap(0x7f7d9f7ee000, 20480, PROT_READ|PROT_WRITE, MAP_PRIVATE|MAP_FIXED|MAP_DENYWRITE, 3, 0x2a000) = 0x7f7d9f7ee000\r\n",
      "close(3)                                = 0\r\n",
      "openat(AT_FDCWD, \"/lib/x86_64-linux-gnu/libdl.so.2\", O_RDONLY|O_CLOEXEC) = 3\r\n",
      "read(3, \"\\177ELF\\2\\1\\1\\0\\0\\0\\0\\0\\0\\0\\0\\0\\3\\0>\\0\\1\\0\\0\\0 \\22\\0\\0\\0\\0\\0\\0\"..., 832) = 832\r\n",
      "fstat(3, {st_mode=S_IFREG|0644, st_size=18848, ...}) = 0\r\n",
      "mmap(NULL, 20752, PROT_READ, MAP_PRIVATE|MAP_DENYWRITE, 3, 0) = 0x7f7d9f7bd000\r\n",
      "mmap(0x7f7d9f7be000, 8192, PROT_READ|PROT_EXEC, MAP_PRIVATE|MAP_FIXED|MAP_DENYWRITE, 3, 0x1000) = 0x7f7d9f7be000\r\n",
      "mmap(0x7f7d9f7c0000, 4096, PROT_READ, MAP_PRIVATE|MAP_FIXED|MAP_DENYWRITE, 3, 0x3000) = 0x7f7d9f7c0000\r\n",
      "mmap(0x7f7d9f7c1000, 8192, PROT_READ|PROT_WRITE, MAP_PRIVATE|MAP_FIXED|MAP_DENYWRITE, 3, 0x3000) = 0x7f7d9f7c1000\r\n",
      "close(3)                                = 0\r\n",
      "openat(AT_FDCWD, \"/lib/x86_64-linux-gnu/libc.so.6\", O_RDONLY|O_CLOEXEC) = 3\r\n",
      "read(3, \"\\177ELF\\2\\1\\1\\3\\0\\0\\0\\0\\0\\0\\0\\0\\3\\0>\\0\\1\\0\\0\\0\\300A\\2\\0\\0\\0\\0\\0\"..., 832) = 832\r\n",
      "pread64(3, \"\\6\\0\\0\\0\\4\\0\\0\\0@\\0\\0\\0\\0\\0\\0\\0@\\0\\0\\0\\0\\0\\0\\0@\\0\\0\\0\\0\\0\\0\\0\"..., 784, 64) = 784\r\n",
      "pread64(3, \"\\4\\0\\0\\0\\20\\0\\0\\0\\5\\0\\0\\0GNU\\0\\2\\0\\0\\300\\4\\0\\0\\0\\3\\0\\0\\0\\0\\0\\0\\0\", 32, 848) = 32\r\n",
      "pread64(3, \"\\4\\0\\0\\0\\24\\0\\0\\0\\3\\0\\0\\0GNU\\0\\30x\\346\\264ur\\f|Q\\226\\236i\\253-'o\"..., 68, 880) = 68\r\n",
      "fstat(3, {st_mode=S_IFREG|0755, st_size=2029592, ...}) = 0\r\n",
      "pread64(3, \"\\6\\0\\0\\0\\4\\0\\0\\0@\\0\\0\\0\\0\\0\\0\\0@\\0\\0\\0\\0\\0\\0\\0@\\0\\0\\0\\0\\0\\0\\0\"..., 784, 64) = 784\r\n",
      "pread64(3, \"\\4\\0\\0\\0\\20\\0\\0\\0\\5\\0\\0\\0GNU\\0\\2\\0\\0\\300\\4\\0\\0\\0\\3\\0\\0\\0\\0\\0\\0\\0\", 32, 848) = 32\r\n",
      "pread64(3, \"\\4\\0\\0\\0\\24\\0\\0\\0\\3\\0\\0\\0GNU\\0\\30x\\346\\264ur\\f|Q\\226\\236i\\253-'o\"..., 68, 880) = 68\r\n",
      "mmap(NULL, 2037344, PROT_READ, MAP_PRIVATE|MAP_DENYWRITE, 3, 0) = 0x7f7d9f5cb000\r\n",
      "mmap(0x7f7d9f5ed000, 1540096, PROT_READ|PROT_EXEC, MAP_PRIVATE|MAP_FIXED|MAP_DENYWRITE, 3, 0x22000) = 0x7f7d9f5ed000\r\n",
      "mmap(0x7f7d9f765000, 319488, PROT_READ, MAP_PRIVATE|MAP_FIXED|MAP_DENYWRITE, 3, 0x19a000) = 0x7f7d9f765000\r\n",
      "mmap(0x7f7d9f7b3000, 24576, PROT_READ|PROT_WRITE, MAP_PRIVATE|MAP_FIXED|MAP_DENYWRITE, 3, 0x1e7000) = 0x7f7d9f7b3000\r\n",
      "mmap(0x7f7d9f7b9000, 13920, PROT_READ|PROT_WRITE, MAP_PRIVATE|MAP_FIXED|MAP_ANONYMOUS, -1, 0) = 0x7f7d9f7b9000\r\n",
      "close(3)                                = 0\r\n",
      "mmap(NULL, 12288, PROT_READ|PROT_WRITE, MAP_PRIVATE|MAP_ANONYMOUS, -1, 0) = 0x7f7d9f5c8000\r\n",
      "arch_prctl(ARCH_SET_FS, 0x7f7d9f5c8740) = 0\r\n",
      "mprotect(0x7f7d9f7b3000, 16384, PROT_READ) = 0\r\n",
      "mprotect(0x7f7d9f7c1000, 4096, PROT_READ) = 0\r\n",
      "mprotect(0x7f7d9f7ee000, 16384, PROT_READ) = 0\r\n",
      "mprotect(0x55719efac000, 16384, PROT_READ) = 0\r\n",
      "mprotect(0x7f7d9f83c000, 4096, PROT_READ) = 0\r\n",
      "munmap(0x7f7d9f7f5000, 106091)          = 0\r\n",
      "openat(AT_FDCWD, \"/dev/tty\", O_RDWR|O_NONBLOCK) = 3\r\n",
      "close(3)                                = 0\r\n",
      "brk(NULL)                               = 0x55719fc3c000\r\n",
      "brk(0x55719fc5d000)                     = 0x55719fc5d000\r\n",
      "openat(AT_FDCWD, \"/usr/lib/locale/locale-archive\", O_RDONLY|O_CLOEXEC) = 3\r\n",
      "fstat(3, {st_mode=S_IFREG|0644, st_size=14537584, ...}) = 0\r\n",
      "mmap(NULL, 14537584, PROT_READ, MAP_PRIVATE, 3, 0) = 0x7f7d9e7ea000\r\n",
      "close(3)                                = 0\r\n",
      "openat(AT_FDCWD, \"/usr/lib/x86_64-linux-gnu/gconv/gconv-modules.cache\", O_RDONLY) = 3\r\n",
      "fstat(3, {st_mode=S_IFREG|0644, st_size=27002, ...}) = 0\r\n",
      "mmap(NULL, 27002, PROT_READ, MAP_SHARED, 3, 0) = 0x7f7d9f808000\r\n",
      "close(3)                                = 0\r\n",
      "getuid()                                = 1000\r\n",
      "getgid()                                = 1000\r\n",
      "geteuid()                               = 1000\r\n",
      "getegid()                               = 1000\r\n",
      "rt_sigprocmask(SIG_BLOCK, NULL, [], 8)  = 0\r\n",
      "ioctl(-1, TIOCGPGRP, 0x7fffb702ec14)    = -1 EBADF (Bad file descriptor)\r\n",
      "sysinfo({uptime=3880984, loads=[1440, 3200, 448], totalram=2083688448, freeram=95158272, sharedram=2068480, bufferram=123326464, totalswap=2147479552, freeswap=1796993024, procs=569, totalhigh=0, freehigh=0, mem_unit=1}) = 0\r\n",
      "rt_sigaction(SIGCHLD, {sa_handler=SIG_DFL, sa_mask=[], sa_flags=SA_RESTORER|SA_RESTART, sa_restorer=0x7f7d9f60e090}, {sa_handler=SIG_DFL, sa_mask=[], sa_flags=0}, 8) = 0\r\n",
      "rt_sigaction(SIGCHLD, {sa_handler=SIG_DFL, sa_mask=[], sa_flags=SA_RESTORER|SA_RESTART, sa_restorer=0x7f7d9f60e090}, {sa_handler=SIG_DFL, sa_mask=[], sa_flags=SA_RESTORER|SA_RESTART, sa_restorer=0x7f7d9f60e090}, 8) = 0\r\n",
      "rt_sigaction(SIGINT, {sa_handler=SIG_DFL, sa_mask=[], sa_flags=SA_RESTORER, sa_restorer=0x7f7d9f60e090}, {sa_handler=SIG_DFL, sa_mask=[], sa_flags=0}, 8) = 0\r\n",
      "rt_sigaction(SIGINT, {sa_handler=SIG_DFL, sa_mask=[], sa_flags=SA_RESTORER, sa_restorer=0x7f7d9f60e090}, {sa_handler=SIG_DFL, sa_mask=[], sa_flags=SA_RESTORER, sa_restorer=0x7f7d9f60e090}, 8) = 0\r\n",
      "rt_sigaction(SIGQUIT, {sa_handler=SIG_DFL, sa_mask=[], sa_flags=SA_RESTORER, sa_restorer=0x7f7d9f60e090}, {sa_handler=SIG_DFL, sa_mask=[], sa_flags=0}, 8) = 0\r\n",
      "rt_sigaction(SIGQUIT, {sa_handler=SIG_DFL, sa_mask=[], sa_flags=SA_RESTORER, sa_restorer=0x7f7d9f60e090}, {sa_handler=SIG_DFL, sa_mask=[], sa_flags=SA_RESTORER, sa_restorer=0x7f7d9f60e090}, 8) = 0\r\n",
      "rt_sigaction(SIGTSTP, {sa_handler=SIG_DFL, sa_mask=[], sa_flags=SA_RESTORER, sa_restorer=0x7f7d9f60e090}, {sa_handler=SIG_DFL, sa_mask=[], sa_flags=0}, 8) = 0\r\n",
      "rt_sigaction(SIGTSTP, {sa_handler=SIG_DFL, sa_mask=[], sa_flags=SA_RESTORER, sa_restorer=0x7f7d9f60e090}, {sa_handler=SIG_DFL, sa_mask=[], sa_flags=SA_RESTORER, sa_restorer=0x7f7d9f60e090}, 8) = 0\r\n",
      "rt_sigaction(SIGTTIN, {sa_handler=SIG_DFL, sa_mask=[], sa_flags=SA_RESTORER, sa_restorer=0x7f7d9f60e090}, {sa_handler=SIG_DFL, sa_mask=[], sa_flags=0}, 8) = 0\r\n",
      "rt_sigaction(SIGTTIN, {sa_handler=SIG_DFL, sa_mask=[], sa_flags=SA_RESTORER, sa_restorer=0x7f7d9f60e090}, {sa_handler=SIG_DFL, sa_mask=[], sa_flags=SA_RESTORER, sa_restorer=0x7f7d9f60e090}, 8) = 0\r\n",
      "rt_sigaction(SIGTTOU, {sa_handler=SIG_DFL, sa_mask=[], sa_flags=SA_RESTORER, sa_restorer=0x7f7d9f60e090}, {sa_handler=SIG_DFL, sa_mask=[], sa_flags=0}, 8) = 0\r\n",
      "rt_sigaction(SIGTTOU, {sa_handler=SIG_DFL, sa_mask=[], sa_flags=SA_RESTORER, sa_restorer=0x7f7d9f60e090}, {sa_handler=SIG_DFL, sa_mask=[], sa_flags=SA_RESTORER, sa_restorer=0x7f7d9f60e090}, 8) = 0\r\n",
      "rt_sigprocmask(SIG_BLOCK, NULL, [], 8)  = 0\r\n",
      "rt_sigaction(SIGQUIT, {sa_handler=SIG_IGN, sa_mask=[], sa_flags=SA_RESTORER, sa_restorer=0x7f7d9f60e090}, {sa_handler=SIG_DFL, sa_mask=[], sa_flags=SA_RESTORER, sa_restorer=0x7f7d9f60e090}, 8) = 0\r\n",
      "uname({sysname=\"Linux\", nodename=\"pechatnov-vbox\", ...}) = 0\r\n",
      "stat(\"/home/pechatnov/vbox/caos/sem03-low-level-io\", {st_mode=S_IFDIR|0775, st_size=4096, ...}) = 0\r\n",
      "stat(\".\", {st_mode=S_IFDIR|0775, st_size=4096, ...}) = 0\r\n",
      "stat(\"/home\", {st_mode=S_IFDIR|0755, st_size=4096, ...}) = 0\r\n",
      "stat(\"/home/pechatnov\", {st_mode=S_IFDIR|0755, st_size=4096, ...}) = 0\r\n",
      "stat(\"/home/pechatnov/vbox\", {st_mode=S_IFDIR|0775, st_size=4096, ...}) = 0\r\n",
      "stat(\"/home/pechatnov/vbox/caos\", {st_mode=S_IFDIR|0775, st_size=4096, ...}) = 0\r\n",
      "stat(\"/home/pechatnov/vbox/caos/sem03-low-level-io\", {st_mode=S_IFDIR|0775, st_size=4096, ...}) = 0\r\n",
      "stat(\"/home/pechatnov\", {st_mode=S_IFDIR|0755, st_size=4096, ...}) = 0\r\n",
      "getpid()                                = 231437\r\n",
      "getppid()                               = 231434\r\n",
      "getpid()                                = 231437\r\n",
      "getpgrp()                               = 231433\r\n",
      "ioctl(2, TIOCGPGRP, [231433])           = 0\r\n",
      "rt_sigaction(SIGCHLD, {sa_handler=0x55719eef2ac0, sa_mask=[], sa_flags=SA_RESTORER|SA_RESTART, sa_restorer=0x7f7d9f60e090}, {sa_handler=SIG_DFL, sa_mask=[], sa_flags=SA_RESTORER|SA_RESTART, sa_restorer=0x7f7d9f60e090}, 8) = 0\r\n",
      "prlimit64(0, RLIMIT_NPROC, NULL, {rlim_cur=7728, rlim_max=7728}) = 0\r\n",
      "rt_sigprocmask(SIG_BLOCK, NULL, [], 8)  = 0\r\n",
      "openat(AT_FDCWD, \"./executable_file\", O_RDONLY) = 3\r\n",
      "stat(\"./executable_file\", {st_mode=S_IFREG|0764, st_size=23, ...}) = 0\r\n",
      "ioctl(3, TCGETS, 0x7fffb702eba0)        = -1 ENOTTY (Inappropriate ioctl for device)\r\n",
      "lseek(3, 0, SEEK_CUR)                   = 0\r\n",
      "read(3, \"#!/bin/bash\\necho hello\\n\", 80) = 23\r\n",
      "lseek(3, 0, SEEK_SET)                   = 0\r\n",
      "prlimit64(0, RLIMIT_NOFILE, NULL, {rlim_cur=4*1024, rlim_max=1024*1024}) = 0\r\n",
      "fcntl(255, F_GETFD)                     = -1 EBADF (Bad file descriptor)\r\n",
      "dup2(3, 255)                            = 255\r\n",
      "close(3)                                = 0\r\n",
      "fcntl(255, F_SETFD, FD_CLOEXEC)         = 0\r\n",
      "fcntl(255, F_GETFL)                     = 0x8000 (flags O_RDONLY|O_LARGEFILE)\r\n",
      "fstat(255, {st_mode=S_IFREG|0764, st_size=23, ...}) = 0\r\n",
      "lseek(255, 0, SEEK_CUR)                 = 0\r\n",
      "read(255, \"#!/bin/bash\\necho hello\\n\", 23) = 23\r\n",
      "fstat(1, {st_mode=S_IFCHR|0620, st_rdev=makedev(0x88, 0xd), ...}) = 0\r\n",
      "write(1, \"hello\\n\", 6hello\r\n",
      ")                  = 6\r\n",
      "read(255, \"\", 23)                       = 0\r\n",
      "rt_sigprocmask(SIG_BLOCK, [CHLD], [], 8) = 0\r\n",
      "rt_sigprocmask(SIG_SETMASK, [], NULL, 8) = 0\r\n",
      "exit_group(0)                           = ?\r\n",
      "+++ exited with 0 +++\r\n"
     ]
    }
   ],
   "source": [
    "!chmod u+x executable_file\n",
    "!strace ./executable_file"
   ]
  },
  {
   "cell_type": "code",
   "execution_count": null,
   "metadata": {},
   "outputs": [],
   "source": []
  },
  {
   "cell_type": "code",
   "execution_count": null,
   "metadata": {},
   "outputs": [],
   "source": []
  }
 ],
 "metadata": {
  "kernelspec": {
   "display_name": "Python 3",
   "language": "python",
   "name": "python3"
  },
  "language_info": {
   "codemirror_mode": {
    "name": "ipython",
    "version": 3
   },
   "file_extension": ".py",
   "mimetype": "text/x-python",
   "name": "python",
   "nbconvert_exporter": "python",
   "pygments_lexer": "ipython3",
   "version": "3.8.5"
  }
 },
 "nbformat": 4,
 "nbformat_minor": 2
}
